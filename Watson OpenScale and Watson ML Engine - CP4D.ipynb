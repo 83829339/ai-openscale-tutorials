{
    "cells": [
        {
            "cell_type": "markdown",
            "metadata": {},
            "source": "<img src=\"https://github.com/pmservice/ai-openscale-tutorials/raw/master/notebooks/images/banner.png\" align=\"left\" alt=\"banner\">"
        },
        {
            "cell_type": "markdown",
            "metadata": {},
            "source": "# Working with Watson Machine Learning"
        },
        {
            "cell_type": "markdown",
            "metadata": {},
            "source": "This notebook should be run using with **Python 3.x with Spark** runtime environment. **If you are viewing this in Watson Studio and do not see Python 3.x with Spark in the upper right corner of your screen, please update the runtime now.** It requires service credentials for the following services:\n  * Watson OpenScale\n  * Watson Machine Learning\n  * DB2\n  \nThe notebook will train, create and deploy a German Credit Risk model, configure OpenScale to monitor that deployment, and inject seven days' worth of historical records and measurements for viewing in the OpenScale Insights dashboard."
        },
        {
            "cell_type": "markdown",
            "metadata": {},
            "source": "### Contents\n\n- [Setup](#setup)\n- [Model building and deployment](#model)\n- [OpenScale configuration](#openscale)\n- [Quality monitor and feedback logging](#quality)\n- [Fairness, drift monitoring and explanations](#fairness)\n- [Custom monitors and metrics](#custom)\n- [Payload analytics](#analytics)\n- [Historical data](#historical)"
        },
        {
            "cell_type": "markdown",
            "metadata": {},
            "source": "# Setup <a name=\"setup\"></a>"
        },
        {
            "cell_type": "markdown",
            "metadata": {
                "collapsed": true
            },
            "source": "## Package installation"
        },
        {
            "cell_type": "code",
            "execution_count": 1,
            "metadata": {},
            "outputs": [],
            "source": "import warnings\nwarnings.filterwarnings('ignore')"
        },
        {
            "cell_type": "code",
            "execution_count": 2,
            "metadata": {
                "scrolled": true
            },
            "outputs": [
                {
                    "name": "stdout",
                    "output_type": "stream",
                    "text": "Requirement already satisfied, skipping upgrade: python-dateutil>=2.5.0 in /Users/dorotadydo-rozniecka/anaconda3/lib/python3.7/site-packages (from pandas->ibm-ai-openscale) (2.8.0)\nRequirement already satisfied, skipping upgrade: docutils>=0.10 in /Users/dorotadydo-rozniecka/anaconda3/lib/python3.7/site-packages (from ibm-cos-sdk-core>=2.0.0->ibm-cos-sdk->watson-machine-learning-client-V4) (0.14)\nRequirement already up-to-date: numpy in /Users/dorotadydo-rozniecka/anaconda3/lib/python3.7/site-packages (1.17.3)\nRequirement already satisfied, skipping upgrade: numpy>=1.13.3 in /Users/dorotadydo-rozniecka/anaconda3/lib/python3.7/site-packages (from SciPy) (1.17.3)\nRequirement already satisfied: decorator>=4.3.0 in /Users/dorotadydo-rozniecka/anaconda3/lib/python3.7/site-packages (from networkx>=2.0->scikit-image>=0.12; python_version >= \"3.0\"->lime) (4.4.0)\nRequirement already satisfied: wheel<1.0,>=0.23.0 in /Users/dorotadydo-rozniecka/anaconda3/lib/python3.7/site-packages (from astunparse->pixiedust) (0.33.4)\n"
                }
            ],
            "source": "!rm -rf /home/spark/shared/user-libs/python3.6*\n\n!pip install --upgrade ibm-ai-openscale --no-cache | tail -n 1\n!pip install --upgrade watson-machine-learning-client-V4 | tail -n 1\n!pip install --upgrade numpy --no-cache | tail -n 1\n!pip install --upgrade SciPy --no-cache | tail -n 1\n!pip install lime --no-cache | tail -n 1\n!pip install pixiedust | tail -n 1"
        },
        {
            "cell_type": "markdown",
            "metadata": {},
            "source": "### Action: restart the kernel!"
        },
        {
            "cell_type": "markdown",
            "metadata": {},
            "source": "Check the Version of PySpark. PySpark 2.3 is required.  "
        },
        {
            "cell_type": "code",
            "execution_count": 3,
            "metadata": {},
            "outputs": [
                {
                    "name": "stdout",
                    "output_type": "stream",
                    "text": "Name: pyspark\r\nVersion: 2.3.0\r\nSummary: Apache Spark Python API\r\nHome-page: https://github.com/apache/spark/tree/master/python\r\nAuthor: Spark Developers\r\nAuthor-email: dev@spark.apache.org\r\nLicense: http://www.apache.org/licenses/LICENSE-2.0\r\nLocation: /Users/dorotadydo-rozniecka/anaconda3/lib/python3.7/site-packages\r\nRequires: py4j\r\nRequired-by: \r\n"
                }
            ],
            "source": "!pip show pyspark "
        },
        {
            "cell_type": "markdown",
            "metadata": {},
            "source": "## Configure credentials"
        },
        {
            "cell_type": "markdown",
            "metadata": {
                "scrolled": true
            },
            "source": "- WOS_CREDENTIALS (ICP)\n- WML_CREDENTIALS (ICP)\n- DATABASE_CREDENTIALS (DB2 on ICP)\n- SCHEMA_NAME"
        },
        {
            "cell_type": "code",
            "execution_count": 4,
            "metadata": {},
            "outputs": [],
            "source": "WOS_CREDENTIALS = {\n    \"url\": \"***\",\n    \"username\": \"***\",\n    \"password\": \"***\"\n}"
        },
        {
            "cell_type": "code",
            "execution_count": 5,
            "metadata": {},
            "outputs": [],
            "source": "# The code was removed by Watson Studio for sharing."
        },
        {
            "cell_type": "code",
            "execution_count": 6,
            "metadata": {},
            "outputs": [],
            "source": "WML_CREDENTIALS = WOS_CREDENTIALS.copy()\nWML_CREDENTIALS['instance_id']='openshift'\nWML_CREDENTIALS['version']='2.5.0'"
        },
        {
            "cell_type": "code",
            "execution_count": 7,
            "metadata": {},
            "outputs": [],
            "source": "DATABASE_CREDENTIALS = {\n    \"jdbcurl\": \"***\",\n    \"hostname\": \"***\",\n    \"username\": \"***\",\n    \"password\": \"***\",\n    \"port\": 50000,\n    \"db\": \"***\",\n    \"dsn\": \"***\",\n    \"uri\": \"***\"\n}"
        },
        {
            "cell_type": "code",
            "execution_count": 8,
            "metadata": {},
            "outputs": [],
            "source": "# The code was removed by Watson Studio for sharing."
        },
        {
            "cell_type": "markdown",
            "metadata": {},
            "source": "### Action: put created schema name below."
        },
        {
            "cell_type": "code",
            "execution_count": 9,
            "metadata": {},
            "outputs": [],
            "source": "SCHEMA_NAME = 'AIOSFASTPATHICP'"
        },
        {
            "cell_type": "markdown",
            "metadata": {},
            "source": "## Run the notebook\n\nAt this point, the notebook is ready to run. You can either run the cells one at a time, or click the **Kernel** option above and select **Restart and Run All** to run all the cells."
        },
        {
            "cell_type": "markdown",
            "metadata": {},
            "source": "# Model building and deployment <a name=\"model\"></a>"
        },
        {
            "cell_type": "markdown",
            "metadata": {},
            "source": "In this section you will learn how to train Spark MLLib model and next deploy it as web-service using Watson Machine Learning service."
        },
        {
            "cell_type": "markdown",
            "metadata": {},
            "source": "## Load the training data from github"
        },
        {
            "cell_type": "code",
            "execution_count": 11,
            "metadata": {
                "scrolled": true
            },
            "outputs": [
                {
                    "name": "stdout",
                    "output_type": "stream",
                    "text": "Warning: Failed to set locale category LC_NUMERIC to en_PL.\nWarning: Failed to set locale category LC_TIME to en_PL.\nWarning: Failed to set locale category LC_COLLATE to en_PL.\nWarning: Failed to set locale category LC_MONETARY to en_PL.\nWarning: Failed to set locale category LC_MESSAGES to en_PL.\n--2019-11-08 13:05:28--  https://raw.githubusercontent.com/pmservice/ai-openscale-tutorials/master/assets/historical_data/german_credit_risk/wml/german_credit_data_biased_training.csv\nResolving raw.githubusercontent.com (raw.githubusercontent.com)... 199.232.36.133\nConnecting to raw.githubusercontent.com (raw.githubusercontent.com)|199.232.36.133|:443... connected.\nHTTP request sent, awaiting response... 200 OK\nLength: 689622 (673K) [text/plain]\nSaving to: \u2018german_credit_data_biased_training.csv\u2019\n\ngerman_credit_data_ 100%[===================>] 673.46K   630KB/s    in 1.1s    \n\n2019-11-08 13:05:29 (630 KB/s) - \u2018german_credit_data_biased_training.csv\u2019 saved [689622/689622]\n\n"
                }
            ],
            "source": "!rm german_credit_data_biased_training.csv\n!wget https://raw.githubusercontent.com/pmservice/ai-openscale-tutorials/master/assets/historical_data/german_credit_risk/wml/german_credit_data_biased_training.csv"
        },
        {
            "cell_type": "code",
            "execution_count": 12,
            "metadata": {},
            "outputs": [
                {
                    "data": {
                        "text/plain": "'german_credit_data_biased_training.csv'"
                    },
                    "execution_count": 12,
                    "metadata": {},
                    "output_type": "execute_result"
                }
            ],
            "source": "import wget\n!rm german_credit_data_biased_training.csv\nwget.download('https://raw.githubusercontent.com/pmservice/ai-openscale-tutorials/master/assets/historical_data/german_credit_risk/wml/german_credit_data_biased_training.csv')"
        },
        {
            "cell_type": "code",
            "execution_count": 13,
            "metadata": {
                "scrolled": true
            },
            "outputs": [
                {
                    "data": {
                        "text/plain": "Row(CheckingStatus='0_to_200', LoanDuration=31, CreditHistory='credits_paid_to_date', LoanPurpose='other', LoanAmount=1889, ExistingSavings='100_to_500', EmploymentDuration='less_1', InstallmentPercent=3, Sex='female', OthersOnLoan='none', CurrentResidenceDuration=3, OwnsProperty='savings_insurance', Age=32, InstallmentPlans='none', Housing='own', ExistingCreditsCount=1, Job='skilled', Dependents=1, Telephone='none', ForeignWorker='yes', Risk='No Risk')"
                    },
                    "execution_count": 13,
                    "metadata": {},
                    "output_type": "execute_result"
                }
            ],
            "source": "from pyspark.sql import SparkSession\nimport pandas as pd\nimport json\n\nspark = SparkSession.builder.getOrCreate()\npd_data = pd.read_csv(\"german_credit_data_biased_training.csv\", sep=\",\", header=0)\ndf_data = spark.read.csv(path=\"german_credit_data_biased_training.csv\", sep=\",\", header=True, inferSchema=True)\ndf_data.head()"
        },
        {
            "cell_type": "markdown",
            "metadata": {},
            "source": "## Explore data"
        },
        {
            "cell_type": "code",
            "execution_count": 14,
            "metadata": {
                "scrolled": true
            },
            "outputs": [
                {
                    "name": "stdout",
                    "output_type": "stream",
                    "text": "root\n |-- CheckingStatus: string (nullable = true)\n |-- LoanDuration: integer (nullable = true)\n |-- CreditHistory: string (nullable = true)\n |-- LoanPurpose: string (nullable = true)\n |-- LoanAmount: integer (nullable = true)\n |-- ExistingSavings: string (nullable = true)\n |-- EmploymentDuration: string (nullable = true)\n |-- InstallmentPercent: integer (nullable = true)\n |-- Sex: string (nullable = true)\n |-- OthersOnLoan: string (nullable = true)\n |-- CurrentResidenceDuration: integer (nullable = true)\n |-- OwnsProperty: string (nullable = true)\n |-- Age: integer (nullable = true)\n |-- InstallmentPlans: string (nullable = true)\n |-- Housing: string (nullable = true)\n |-- ExistingCreditsCount: integer (nullable = true)\n |-- Job: string (nullable = true)\n |-- Dependents: integer (nullable = true)\n |-- Telephone: string (nullable = true)\n |-- ForeignWorker: string (nullable = true)\n |-- Risk: string (nullable = true)\n\n"
                }
            ],
            "source": "df_data.printSchema()"
        },
        {
            "cell_type": "code",
            "execution_count": 15,
            "metadata": {
                "scrolled": true
            },
            "outputs": [
                {
                    "name": "stdout",
                    "output_type": "stream",
                    "text": "Number of records: 5000\n"
                }
            ],
            "source": "print(\"Number of records: \" + str(df_data.count()))"
        },
        {
            "cell_type": "markdown",
            "metadata": {},
            "source": "## Visualize data with pixiedust"
        },
        {
            "cell_type": "code",
            "execution_count": 16,
            "metadata": {},
            "outputs": [
                {
                    "name": "stdout",
                    "output_type": "stream",
                    "text": "Pixiedust database opened successfully\n"
                },
                {
                    "data": {
                        "text/html": "\n        <div style=\"margin:10px\">\n            <a href=\"https://github.com/ibm-watson-data-lab/pixiedust\" target=\"_new\">\n                <img src=\"https://github.com/ibm-watson-data-lab/pixiedust/raw/master/docs/_static/pd_icon32.png\" style=\"float:left;margin-right:10px\"/>\n            </a>\n            <span>Pixiedust version 1.1.17</span>\n        </div>\n        ",
                        "text/plain": "<IPython.core.display.HTML object>"
                    },
                    "metadata": {},
                    "output_type": "display_data"
                }
            ],
            "source": "import pixiedust"
        },
        {
            "cell_type": "code",
            "execution_count": null,
            "metadata": {
                "pixiedust": {
                    "displayParams": {
                        "aggregation": "COUNT",
                        "chartsize": "50",
                        "handlerId": "pieChart",
                        "keyFields": "Risk",
                        "mpld3": "false",
                        "rendererId": "bokeh"
                    },
                    "pixieapp": {
                        "name": "Spark German Risk Model - Final",
                        "runtime": "spark-mllib_2.3",
                        "type": "mllib_2.3"
                    }
                }
            },
            "outputs": [
                {
                    "data": {
                        "text/html": "<style type=\"text/css\">.pd_warning{display:none;}</style><div class=\"pd_warning\"><em>Hey, there's something awesome here! To see it, open this notebook outside GitHub, in a viewer like Jupyter</em></div>\n        <div class=\"pd_save is-viewer-good\" style=\"padding-right:10px;text-align: center;line-height:initial !important;font-size: xx-large;font-weight: 500;color: coral;\">\n            \n        </div>\n    <div id=\"chartFigureb3d52bfb\" class=\"pd_save is-viewer-good\" style=\"overflow-x:auto\">\n            \n                    \n                            <center><img style=\"max-width:initial !important\" src=\"data:image/png;base64,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\" class=\"pd_save\"></center>\n                        \n                    \n                \n        </div>",
                        "text/plain": "<IPython.core.display.HTML object>"
                    },
                    "metadata": {},
                    "output_type": "display_data"
                }
            ],
            "source": "display(df_data)"
        },
        {
            "cell_type": "markdown",
            "metadata": {},
            "source": "## Create a model"
        },
        {
            "cell_type": "code",
            "execution_count": 18,
            "metadata": {
                "scrolled": true
            },
            "outputs": [
                {
                    "name": "stdout",
                    "output_type": "stream",
                    "text": "Number of records for training: 4016\nNumber of records for evaluation: 984\nroot\n |-- CheckingStatus: string (nullable = true)\n |-- LoanDuration: integer (nullable = true)\n |-- CreditHistory: string (nullable = true)\n |-- LoanPurpose: string (nullable = true)\n |-- LoanAmount: integer (nullable = true)\n |-- ExistingSavings: string (nullable = true)\n |-- EmploymentDuration: string (nullable = true)\n |-- InstallmentPercent: integer (nullable = true)\n |-- Sex: string (nullable = true)\n |-- OthersOnLoan: string (nullable = true)\n |-- CurrentResidenceDuration: integer (nullable = true)\n |-- OwnsProperty: string (nullable = true)\n |-- Age: integer (nullable = true)\n |-- InstallmentPlans: string (nullable = true)\n |-- Housing: string (nullable = true)\n |-- ExistingCreditsCount: integer (nullable = true)\n |-- Job: string (nullable = true)\n |-- Dependents: integer (nullable = true)\n |-- Telephone: string (nullable = true)\n |-- ForeignWorker: string (nullable = true)\n |-- Risk: string (nullable = true)\n\n"
                }
            ],
            "source": "spark_df = df_data\n(train_data, test_data) = spark_df.randomSplit([0.8, 0.2], 24)\n\nMODEL_NAME = \"Spark German Risk Model - Final\"\nDEPLOYMENT_NAME = \"Spark German Risk Deployment - Final\"\n\nprint(\"Number of records for training: \" + str(train_data.count()))\nprint(\"Number of records for evaluation: \" + str(test_data.count()))\n\nspark_df.printSchema()"
        },
        {
            "cell_type": "markdown",
            "metadata": {},
            "source": "The code below creates a Random Forest Classifier with Spark, setting up string indexers for the categorical features and the label column. Finally, this notebook creates a pipeline including the indexers and the model, and does an initial Area Under ROC evaluation of the model."
        },
        {
            "cell_type": "code",
            "execution_count": 19,
            "metadata": {
                "scrolled": true
            },
            "outputs": [],
            "source": "from pyspark.ml.feature import OneHotEncoder, StringIndexer, IndexToString, VectorAssembler\nfrom pyspark.ml.evaluation import BinaryClassificationEvaluator\nfrom pyspark.ml import Pipeline, Model\n\nsi_CheckingStatus = StringIndexer(inputCol = 'CheckingStatus', outputCol = 'CheckingStatus_IX')\nsi_CreditHistory = StringIndexer(inputCol = 'CreditHistory', outputCol = 'CreditHistory_IX')\nsi_LoanPurpose = StringIndexer(inputCol = 'LoanPurpose', outputCol = 'LoanPurpose_IX')\nsi_ExistingSavings = StringIndexer(inputCol = 'ExistingSavings', outputCol = 'ExistingSavings_IX')\nsi_EmploymentDuration = StringIndexer(inputCol = 'EmploymentDuration', outputCol = 'EmploymentDuration_IX')\nsi_Sex = StringIndexer(inputCol = 'Sex', outputCol = 'Sex_IX')\nsi_OthersOnLoan = StringIndexer(inputCol = 'OthersOnLoan', outputCol = 'OthersOnLoan_IX')\nsi_OwnsProperty = StringIndexer(inputCol = 'OwnsProperty', outputCol = 'OwnsProperty_IX')\nsi_InstallmentPlans = StringIndexer(inputCol = 'InstallmentPlans', outputCol = 'InstallmentPlans_IX')\nsi_Housing = StringIndexer(inputCol = 'Housing', outputCol = 'Housing_IX')\nsi_Job = StringIndexer(inputCol = 'Job', outputCol = 'Job_IX')\nsi_Telephone = StringIndexer(inputCol = 'Telephone', outputCol = 'Telephone_IX')\nsi_ForeignWorker = StringIndexer(inputCol = 'ForeignWorker', outputCol = 'ForeignWorker_IX')"
        },
        {
            "cell_type": "code",
            "execution_count": 20,
            "metadata": {
                "scrolled": true
            },
            "outputs": [],
            "source": "si_Label = StringIndexer(inputCol=\"Risk\", outputCol=\"label\").fit(spark_df)\nlabel_converter = IndexToString(inputCol=\"prediction\", outputCol=\"predictedLabel\", labels=si_Label.labels)"
        },
        {
            "cell_type": "code",
            "execution_count": 21,
            "metadata": {
                "scrolled": true
            },
            "outputs": [],
            "source": "va_features = VectorAssembler(inputCols=[\"CheckingStatus_IX\", \"CreditHistory_IX\", \"LoanPurpose_IX\", \"ExistingSavings_IX\", \"EmploymentDuration_IX\", \"Sex_IX\", \\\n                                         \"OthersOnLoan_IX\", \"OwnsProperty_IX\", \"InstallmentPlans_IX\", \"Housing_IX\", \"Job_IX\", \"Telephone_IX\", \"ForeignWorker_IX\", \\\n                                         \"LoanDuration\", \"LoanAmount\", \"InstallmentPercent\", \"CurrentResidenceDuration\", \"LoanDuration\", \"Age\", \"ExistingCreditsCount\", \\\n                                         \"Dependents\"], outputCol=\"features\")"
        },
        {
            "cell_type": "code",
            "execution_count": 22,
            "metadata": {
                "scrolled": true
            },
            "outputs": [],
            "source": "from pyspark.ml.classification import RandomForestClassifier\nclassifier = RandomForestClassifier(featuresCol=\"features\")\n\npipeline = Pipeline(stages=[si_CheckingStatus, si_CreditHistory, si_EmploymentDuration, si_ExistingSavings, si_ForeignWorker, si_Housing, si_InstallmentPlans, si_Job, si_LoanPurpose, si_OthersOnLoan,\\\n                               si_OwnsProperty, si_Sex, si_Telephone, si_Label, va_features, classifier, label_converter])\nmodel = pipeline.fit(train_data)"
        },
        {
            "cell_type": "code",
            "execution_count": 23,
            "metadata": {
                "scrolled": true
            },
            "outputs": [
                {
                    "name": "stdout",
                    "output_type": "stream",
                    "text": "areaUnderROC = 0.704362 areaUnderPR = 0.620377\n"
                }
            ],
            "source": "predictions = model.transform(test_data)\nevaluatorDT = BinaryClassificationEvaluator(rawPredictionCol=\"prediction\",  metricName='areaUnderROC')\narea_under_curve = evaluatorDT.evaluate(predictions)\n\nevaluatorDT = BinaryClassificationEvaluator(rawPredictionCol=\"prediction\",  metricName='areaUnderPR')\narea_under_PR = evaluatorDT.evaluate(predictions)\n#default evaluation is areaUnderROC\nprint(\"areaUnderROC = %g\" % area_under_curve, \"areaUnderPR = %g\" % area_under_PR)"
        },
        {
            "cell_type": "code",
            "execution_count": 24,
            "metadata": {},
            "outputs": [
                {
                    "name": "stdout",
                    "output_type": "stream",
                    "text": "              precision    recall  f1-score   support\n\n        Risk       0.79      0.90      0.84       657\n     No Risk       0.71      0.51      0.60       327\n\n    accuracy                           0.77       984\n   macro avg       0.75      0.70      0.72       984\nweighted avg       0.76      0.77      0.76       984\n\n"
                }
            ],
            "source": "# extra code: evaluate more metrics by exporting them into pandas and numpy\nfrom sklearn.metrics import classification_report\ny_pred = predictions.toPandas()['prediction']\ny_pred = ['Risk' if pred == 1.0 else 'No Risk' for pred in y_pred]\ny_test = test_data.toPandas()['Risk']\nprint(classification_report(y_test, y_pred, target_names=['Risk', 'No Risk']))"
        },
        {
            "cell_type": "markdown",
            "metadata": {},
            "source": "## Publish the model"
        },
        {
            "cell_type": "markdown",
            "metadata": {},
            "source": "In this section, the notebook uses Watson Machine Learning to save the model (including the pipeline) to the WML instance. Previous versions of the model are removed so that the notebook can be run again, resetting all data for another demo."
        },
        {
            "cell_type": "code",
            "execution_count": 25,
            "metadata": {},
            "outputs": [
                {
                    "name": "stderr",
                    "output_type": "stream",
                    "text": "/Users/dorotadydo-rozniecka/anaconda3/lib/python3.7/site-packages/sklearn/externals/joblib/__init__.py:15: DeprecationWarning: sklearn.externals.joblib is deprecated in 0.21 and will be removed in 0.23. Please import this functionality directly from joblib, which can be installed with: pip install joblib. If this warning is raised when loading pickled models, you may need to re-serialize those models with scikit-learn 0.21+.\n  warnings.warn(msg, category=DeprecationWarning)\n"
                },
                {
                    "name": "stdout",
                    "output_type": "stream",
                    "text": "------------------------------------  -------------------  ------------------------\nGUID                                  NAME                 CREATED\naac7c473-90a5-40af-b7a6-7d5c2c776754  tutorial-space       2019-11-08T11:24:40.165Z\nd42294f6-f114-4b10-a67b-e4c6ec04c21c  auto-test-space      2019-11-08T04:08:35.475Z\n7bcb28ac-1b12-4c71-b011-e17703b376eb  openscale-fast-path  2019-11-08T00:35:58.384Z\n------------------------------------  -------------------  ------------------------\n"
                },
                {
                    "name": "stderr",
                    "output_type": "stream",
                    "text": "2019-11-08 13:06:22,901 - matplotlib.font_manager - WARNING - findfont: Font family ['serif'] not found. Falling back to DejaVu Sans.\n"
                }
            ],
            "source": "from watson_machine_learning_client import WatsonMachineLearningAPIClient\nimport json\n\nwml_client = WatsonMachineLearningAPIClient(WML_CREDENTIALS)\n\n# this is a new feature in CP4D, in order to deploy a model, you would have to create different\n# deployment spaces and deploy your models there. You can list all the spaces using the .list()\n# function, or you can create new spaces by going to CP4D menu on top left corner --> analyze -->\n# analytics deployments --> New Deployment Space. Once you know which space you want to deploy\n# in, simply use the GUID of the space as argument for .set.default_space() function below\nwml_client.spaces.list()\n# wml_client.set.default_space('323608a7-21d3-48c8-8c62-dcf4bfe06e17')"
        },
        {
            "cell_type": "code",
            "execution_count": 26,
            "metadata": {},
            "outputs": [
                {
                    "data": {
                        "text/plain": "'SUCCESS'"
                    },
                    "execution_count": 26,
                    "metadata": {},
                    "output_type": "execute_result"
                }
            ],
            "source": "space_name = \"tutorial-space\"\nspaces = wml_client.spaces.get_details()['resources']\nspace_id = None\nfor space in spaces:\n    if space['entity']['name'] == space_name:\n        space_id = space[\"metadata\"][\"guid\"]\nif space_id is None:\n    space_id = wml_client.spaces.store(\n        meta_props={wml_client.spaces.ConfigurationMetaNames.NAME: space_name})[\"metadata\"][\"guid\"]\nwml_client.set.default_space(space_id)"
        },
        {
            "cell_type": "markdown",
            "metadata": {},
            "source": "### Remove existing model and deployment"
        },
        {
            "cell_type": "code",
            "execution_count": 27,
            "metadata": {
                "scrolled": true
            },
            "outputs": [
                {
                    "name": "stdout",
                    "output_type": "stream",
                    "text": "Deleting deployment id 08de0f25-cddd-4a89-8ce0-99333fbb7110\nDeleting model id 0b919b8b-d1e4-4267-a511-06db3675bde8\n----  ----  -------  ----\nGUID  NAME  CREATED  TYPE\n----  ----  -------  ----\n"
                }
            ],
            "source": "deployment_details = wml_client.deployments.get_details()\nfor deployment in deployment_details['resources']:\n    deployment_id = deployment['metadata']['guid']\n    model_id = deployment['entity']['asset']['href'].split('/')[3].split('?')[0]\n    if deployment['entity']['name'] == DEPLOYMENT_NAME:\n        print('Deleting deployment id', deployment_id)\n        wml_client.deployments.delete(deployment_id)\n        print('Deleting model id', model_id)\n        wml_client.repository.delete(model_id)\nwml_client.repository.list_models()"
        },
        {
            "cell_type": "code",
            "execution_count": null,
            "metadata": {},
            "outputs": [],
            "source": "db2_credentials = {\n            \"hostname\": \"***\",\n            \"password\": \"***\",\n            \"https_url\": \"***\",\n            \"port\": 50000,\n            \"ssldsn\": \"***\",\n            \"host\": \"***\",\n            \"jdbcurl\": \"***\",\n            \"uri\": \"***\",\n            \"db\": \"***\",\n            \"dsn\": \"***\",\n            \"username\": \"***\",\n            \"ssljdbcurl\": \"***\"\n        }"
        },
        {
            "cell_type": "code",
            "execution_count": null,
            "metadata": {},
            "outputs": [],
            "source": "training_data_reference = training_data_reference = {\n    \"type\":\"***\",\n            \"name\": \"***\",\n            \"connection\": db2_credentials,\n            \"location\": {\n                \"tablename\": \"***\",\n                \"type\": \"***\"\n            }\n        }"
        },
        {
            "cell_type": "code",
            "execution_count": 28,
            "metadata": {},
            "outputs": [],
            "source": "# The code was removed by Watson Studio for sharing."
        },
        {
            "cell_type": "code",
            "execution_count": 29,
            "metadata": {},
            "outputs": [],
            "source": "# The code was removed by Watson Studio for sharing."
        },
        {
            "cell_type": "code",
            "execution_count": 30,
            "metadata": {
                "scrolled": true
            },
            "outputs": [
                {
                    "name": "stdout",
                    "output_type": "stream",
                    "text": "Storing model ...\nDone\n"
                }
            ],
            "source": "wml_models = wml_client.repository.get_model_details()\nmodel_uid = None\n\nfor model_in in wml_models['resources']:\n    if MODEL_NAME == model_in['entity']['name']:\n        model_uid = model_in['metadata']['guid']\n        break\n\nif model_uid is None:\n    print(\"Storing model ...\")\n    metadata = {\n        wml_client.repository.ModelMetaNames.NAME: MODEL_NAME,\n        wml_client.repository.ModelMetaNames.TYPE: 'mllib_2.3',\n        wml_client.repository.ModelMetaNames.RUNTIME_UID: 'spark-mllib_2.3',\n    }\n\n    published_model_details = wml_client.repository.store_model(model, metadata, training_data=df_data,  pipeline=pipeline)\n    model_uid = wml_client.repository.get_model_uid(published_model_details)\n    print(\"Done\")"
        },
        {
            "cell_type": "code",
            "execution_count": 31,
            "metadata": {
                "scrolled": true
            },
            "outputs": [
                {
                    "data": {
                        "text/plain": "'2ab5138e-d8ba-4b41-bf99-c995d0ad0295'"
                    },
                    "execution_count": 31,
                    "metadata": {},
                    "output_type": "execute_result"
                }
            ],
            "source": "model_uid"
        },
        {
            "cell_type": "markdown",
            "metadata": {},
            "source": "## Deploy the model"
        },
        {
            "cell_type": "markdown",
            "metadata": {},
            "source": "The next section of the notebook deploys the model as a RESTful web service in Watson Machine Learning. The deployed model will have a scoring URL you can use to send data to the model for predictions."
        },
        {
            "cell_type": "code",
            "execution_count": 32,
            "metadata": {
                "scrolled": true
            },
            "outputs": [
                {
                    "name": "stdout",
                    "output_type": "stream",
                    "text": "Deploying model...\n\n\n#######################################################################################\n\nSynchronous deployment creation for uid: '2ab5138e-d8ba-4b41-bf99-c995d0ad0295' started\n\n#######################################################################################\n\n\ninitializing.\nready\n\n\n------------------------------------------------------------------------------------------------\nSuccessfully finished deployment creation, deployment_uid='0d078a3f-ba3a-4029-a309-632c43654bba'\n------------------------------------------------------------------------------------------------\n\n\nModel id: 2ab5138e-d8ba-4b41-bf99-c995d0ad0295\nDeployment id: 0d078a3f-ba3a-4029-a309-632c43654bba\n"
                }
            ],
            "source": "wml_deployments = wml_client.deployments.get_details()\ndeployment_uid = None\nfor deployment in wml_deployments['resources']:\n    if DEPLOYMENT_NAME == deployment['entity']['name']:\n        deployment_uid = deployment['metadata']['guid']\n        break\n\nif deployment_uid is None:\n    print(\"Deploying model...\")\n    meta_props = {\n        wml_client.deployments.ConfigurationMetaNames.NAME: DEPLOYMENT_NAME,\n        wml_client.deployments.ConfigurationMetaNames.ONLINE: {}\n    }\n    deployment = wml_client.deployments.create(artifact_uid=model_uid, meta_props=meta_props)\n    deployment_uid = wml_client.deployments.get_uid(deployment)\n    \nprint(\"Model id: {}\".format(model_uid))\nprint(\"Deployment id: {}\".format(deployment_uid))"
        },
        {
            "cell_type": "markdown",
            "metadata": {},
            "source": "# Configure OpenScale <a name=\"openscale\"></a>"
        },
        {
            "cell_type": "markdown",
            "metadata": {},
            "source": "The notebook will now import the necessary libraries and set up a Python OpenScale client."
        },
        {
            "cell_type": "code",
            "execution_count": 33,
            "metadata": {
                "scrolled": true
            },
            "outputs": [],
            "source": "from ibm_ai_openscale import APIClient4ICP\nfrom ibm_ai_openscale.engines import *\nfrom ibm_ai_openscale.utils import *\nfrom ibm_ai_openscale.supporting_classes import PayloadRecord, Feature\nfrom ibm_ai_openscale.supporting_classes.enums import *"
        },
        {
            "cell_type": "code",
            "execution_count": 34,
            "metadata": {},
            "outputs": [
                {
                    "data": {
                        "text/plain": "'2.1.17.38'"
                    },
                    "execution_count": 34,
                    "metadata": {},
                    "output_type": "execute_result"
                }
            ],
            "source": "ai_client = APIClient4ICP(WOS_CREDENTIALS)\nai_client.version"
        },
        {
            "cell_type": "markdown",
            "metadata": {},
            "source": "## Create datamart"
        },
        {
            "cell_type": "markdown",
            "metadata": {},
            "source": "### Set up datamart"
        },
        {
            "cell_type": "markdown",
            "metadata": {},
            "source": "Watson OpenScale uses a database to store payload logs and calculated metrics. If an OpenScale datamart exists in Db2, the existing datamart will be used and no data will be overwritten.\n\nPrior instances of the German Credit model will be removed from OpenScale monitoring."
        },
        {
            "cell_type": "code",
            "execution_count": 35,
            "metadata": {},
            "outputs": [
                {
                    "name": "stdout",
                    "output_type": "stream",
                    "text": "Using existing external datamart\n"
                }
            ],
            "source": "try:\n    data_mart_details = ai_client.data_mart.get_details()\n    print('Using existing external datamart')\nexcept:\n    print('Setting up external datamart')\n    ai_client.data_mart.setup(db_credentials=DATABASE_CREDENTIALS, schema=SCHEMA_NAME)"
        },
        {
            "cell_type": "code",
            "execution_count": 36,
            "metadata": {
                "scrolled": true
            },
            "outputs": [],
            "source": "data_mart_details = ai_client.data_mart.get_details()"
        },
        {
            "cell_type": "markdown",
            "metadata": {},
            "source": "## Bind machine learning engines"
        },
        {
            "cell_type": "markdown",
            "metadata": {},
            "source": "Watson OpenScale needs to be bound to the Watson Machine Learning instance to capture payload data into and out of the model. If this binding already exists, this code will output a warning message and use the existing binding."
        },
        {
            "cell_type": "code",
            "execution_count": 37,
            "metadata": {},
            "outputs": [
                {
                    "name": "stdout",
                    "output_type": "stream",
                    "text": "Warning during bind instance.\nStatus code: 409, body: {\"errors\":[{\"code\":\"AIQCS0010W\",\"message\":\"Service Binding with this id is already defined\"}],\"trace\":\"N2RkYjUxMzItYmY0MC00YjEzLTk2MTEtMDVlNzM1ZGU2NzMw\"}\n"
                },
                {
                    "data": {
                        "text/html": "<HTML>\n        <body>\n            <h3>Service bindings</h3>\n            <table style='border: 1px solid #dddddd; font-family: Courier'>\n                <th style='border: 1px solid #dddddd'>uid</th><th style='border: 1px solid #dddddd'>name</th><th style='border: 1px solid #dddddd'>service_type</th><th style='border: 1px solid #dddddd'>created</th>\n                <tr><td style='border: 1px solid #dddddd'>999</td><td style='border: 1px solid #dddddd'>ICP WML Instance</td><td style='border: 1px solid #dddddd'>watson_machine_learning</td><td style='border: 1px solid #dddddd'>2019-11-08T12:08:20.153Z</td></tr>\n            </table>\n        </body>\n        </HTML>",
                        "text/plain": "<IPython.core.display.HTML object>"
                    },
                    "metadata": {},
                    "output_type": "display_data"
                }
            ],
            "source": "binding_uid = ai_client.data_mart.bindings.add('WML instance', WatsonMachineLearningInstance4ICP())\nif binding_uid is None:\n    binding_uid = ai_client.data_mart.bindings.get_details()['service_bindings'][0]['metadata']['guid']\nbindings_details = ai_client.data_mart.bindings.get_details()\nai_client.data_mart.bindings.list()"
        },
        {
            "cell_type": "code",
            "execution_count": 38,
            "metadata": {
                "scrolled": true
            },
            "outputs": [
                {
                    "name": "stdout",
                    "output_type": "stream",
                    "text": "999\n"
                }
            ],
            "source": "print(binding_uid)"
        },
        {
            "cell_type": "code",
            "execution_count": 39,
            "metadata": {},
            "outputs": [
                {
                    "data": {
                        "text/html": "<HTML>\n        <body>\n            <h3>Service bindings</h3>\n            <table style='border: 1px solid #dddddd; font-family: Courier'>\n                <th style='border: 1px solid #dddddd'>uid</th><th style='border: 1px solid #dddddd'>name</th><th style='border: 1px solid #dddddd'>service_type</th><th style='border: 1px solid #dddddd'>created</th>\n                <tr><td style='border: 1px solid #dddddd'>999</td><td style='border: 1px solid #dddddd'>ICP WML Instance</td><td style='border: 1px solid #dddddd'>watson_machine_learning</td><td style='border: 1px solid #dddddd'>2019-11-08T12:08:20.153Z</td></tr>\n            </table>\n        </body>\n        </HTML>",
                        "text/plain": "<IPython.core.display.HTML object>"
                    },
                    "metadata": {},
                    "output_type": "display_data"
                },
                {
                    "name": "stdout",
                    "output_type": "stream",
                    "text": "None\n"
                }
            ],
            "source": "print(ai_client.data_mart.bindings.list())"
        },
        {
            "cell_type": "code",
            "execution_count": 40,
            "metadata": {
                "scrolled": true
            },
            "outputs": [
                {
                    "data": {
                        "text/html": "<HTML>\n        <body>\n            <h3>Available assets</h3>\n            <table style='border: 1px solid #dddddd; font-family: Courier'>\n                <th style='border: 1px solid #dddddd'>source_uid</th><th style='border: 1px solid #dddddd'>name</th><th style='border: 1px solid #dddddd'>created</th><th style='border: 1px solid #dddddd'>type</th><th style='border: 1px solid #dddddd'>frameworks</th><th style='border: 1px solid #dddddd'>binding_uid</th><th style='border: 1px solid #dddddd'>is_subscribed</th>\n                <tr><td style='border: 1px solid #dddddd'>2ab5138e-d8ba-4b41-bf99-c995d0ad0295</td><td style='border: 1px solid #dddddd'>Spark German Risk Model - Final</td><td style='border: 1px solid #dddddd'>2019-11-08T12:06:15.002Z</td><td style='border: 1px solid #dddddd'>model</td><td style='border: 1px solid #dddddd'>mllib_2.3</td><td style='border: 1px solid #dddddd'>999</td><td style='border: 1px solid #dddddd'>False</td></tr><tr><td style='border: 1px solid #dddddd'>ed1ba001-5049-4b58-ad91-4d50710666a3</td><td style='border: 1px solid #dddddd'>AutoAI wine prediction model WMLv4fff</td><td style='border: 1px solid #dddddd'>2019-11-08T11:55:53.002Z</td><td style='border: 1px solid #dddddd'>model</td><td style='border: 1px solid #dddddd'>wml-hybrid_0.1</td><td style='border: 1px solid #dddddd'>999</td><td style='border: 1px solid #dddddd'>False</td></tr><tr><td style='border: 1px solid #dddddd'>d8de97e2-5253-4915-a34a-b74102e984c1</td><td style='border: 1px solid #dddddd'>GermanCreditRiskModelICP</td><td style='border: 1px solid #dddddd'>2019-11-08T11:31:14.002Z</td><td style='border: 1px solid #dddddd'>model</td><td style='border: 1px solid #dddddd'>mllib_2.3</td><td style='border: 1px solid #dddddd'>999</td><td style='border: 1px solid #dddddd'>False</td></tr><tr><td style='border: 1px solid #dddddd'>4787fb60-2b76-4a64-b3e7-c913b46ca529</td><td style='border: 1px solid #dddddd'>AIOS SPSS Customer Model</td><td style='border: 1px solid #dddddd'>2019-11-08T11:03:12.002Z</td><td style='border: 1px solid #dddddd'>model</td><td style='border: 1px solid #dddddd'>spss-modeler_18.1</td><td style='border: 1px solid #dddddd'>999</td><td style='border: 1px solid #dddddd'>False</td></tr><tr><td style='border: 1px solid #dddddd'>a81d9baa-8fa1-4096-a802-369f8a1f91f7</td><td style='border: 1px solid #dddddd'>AutoAI video game model WMLv4</td><td style='border: 1px solid #dddddd'>2019-11-08T08:19:58.002Z</td><td style='border: 1px solid #dddddd'>model</td><td style='border: 1px solid #dddddd'>wml-hybrid_0.1</td><td style='border: 1px solid #dddddd'>999</td><td style='border: 1px solid #dddddd'>False</td></tr><tr><td style='border: 1px solid #dddddd'>687c770a-1e4f-4434-8a5a-74c67deba958</td><td style='border: 1px solid #dddddd'>AutoAI Car Price model WMLv4</td><td style='border: 1px solid #dddddd'>2019-11-08T08:11:28.002Z</td><td style='border: 1px solid #dddddd'>model</td><td style='border: 1px solid #dddddd'>wml-hybrid_0.1</td><td style='border: 1px solid #dddddd'>999</td><td style='border: 1px solid #dddddd'>False</td></tr><tr><td style='border: 1px solid #dddddd'>746c9eed-3fb7-4ba3-b4f4-067ecfbc8529</td><td style='border: 1px solid #dddddd'>AutoAI Customer Churn model WMLv4</td><td style='border: 1px solid #dddddd'>2019-11-08T08:11:26.002Z</td><td style='border: 1px solid #dddddd'>model</td><td style='border: 1px solid #dddddd'>wml-hybrid_0.1</td><td style='border: 1px solid #dddddd'>999</td><td style='border: 1px solid #dddddd'>False</td></tr><tr><td style='border: 1px solid #dddddd'>acc4b3e7-68a7-4188-8176-3cebf95977a2</td><td style='border: 1px solid #dddddd'>AutoAI bank marketing model WMLv4</td><td style='border: 1px solid #dddddd'>2019-11-08T08:11:25.002Z</td><td style='border: 1px solid #dddddd'>model</td><td style='border: 1px solid #dddddd'>wml-hybrid_0.1</td><td style='border: 1px solid #dddddd'>999</td><td style='border: 1px solid #dddddd'>False</td></tr><tr><td style='border: 1px solid #dddddd'>406471d2-ae70-4435-8d99-fc84154fa46e</td><td style='border: 1px solid #dddddd'>AutoAI Iris model WMLv4</td><td style='border: 1px solid #dddddd'>2019-11-08T08:11:23.002Z</td><td style='border: 1px solid #dddddd'>model</td><td style='border: 1px solid #dddddd'>wml-hybrid_0.1</td><td style='border: 1px solid #dddddd'>999</td><td style='border: 1px solid #dddddd'>False</td></tr><tr><td style='border: 1px solid #dddddd'>ca58e4f3-0569-4116-9a50-ea6fc2bc205e</td><td style='border: 1px solid #dddddd'>AutoAI wine prediction model WMLv4</td><td style='border: 1px solid #dddddd'>2019-11-08T08:11:21.002Z</td><td style='border: 1px solid #dddddd'>model</td><td style='border: 1px solid #dddddd'>wml-hybrid_0.1</td><td style='border: 1px solid #dddddd'>999</td><td style='border: 1px solid #dddddd'>False</td></tr><tr><td style='border: 1px solid #dddddd'>7bb27b85-1ad5-456c-a272-b2323c4d7bcf</td><td style='border: 1px solid #dddddd'>AutoAI credit risk model WMLv4</td><td style='border: 1px solid #dddddd'>2019-11-08T08:11:19.002Z</td><td style='border: 1px solid #dddddd'>model</td><td style='border: 1px solid #dddddd'>wml-hybrid_0.1</td><td style='border: 1px solid #dddddd'>999</td><td style='border: 1px solid #dddddd'>False</td></tr><tr><td style='border: 1px solid #dddddd'>491f7585-3b48-440d-af6d-0c78d98d9ead</td><td style='border: 1px solid #dddddd'>AIOS Xgboost Solar Model</td><td style='border: 1px solid #dddddd'>2019-11-08T06:05:52.002Z</td><td style='border: 1px solid #dddddd'>model</td><td style='border: 1px solid #dddddd'>xgboost_0.82</td><td style='border: 1px solid #dddddd'>999</td><td style='border: 1px solid #dddddd'>False</td></tr><tr><td style='border: 1px solid #dddddd'>85bba593-edd1-4dbe-8946-486fc2399943</td><td style='border: 1px solid #dddddd'>AIOS Xgboost Boston House Model</td><td style='border: 1px solid #dddddd'>2019-11-08T06:03:38.002Z</td><td style='border: 1px solid #dddddd'>model</td><td style='border: 1px solid #dddddd'>xgboost_0.82</td><td style='border: 1px solid #dddddd'>999</td><td style='border: 1px solid #dddddd'>False</td></tr><tr><td style='border: 1px solid #dddddd'>44d70f02-d640-45c9-861f-3432589a5bdc</td><td style='border: 1px solid #dddddd'>AIOS Xgboost Iris Model v4</td><td style='border: 1px solid #dddddd'>2019-11-08T06:01:37.002Z</td><td style='border: 1px solid #dddddd'>model</td><td style='border: 1px solid #dddddd'>xgboost_0.82</td><td style='border: 1px solid #dddddd'>999</td><td style='border: 1px solid #dddddd'>False</td></tr><tr><td style='border: 1px solid #dddddd'>7b5c0338-abe2-47b9-ad50-5d6608223992</td><td style='border: 1px solid #dddddd'>AIOS Xgboost Agaricus xv2 Model</td><td style='border: 1px solid #dddddd'>2019-11-08T05:59:36.002Z</td><td style='border: 1px solid #dddddd'>model</td><td style='border: 1px solid #dddddd'>xgboost_0.82</td><td style='border: 1px solid #dddddd'>999</td><td style='border: 1px solid #dddddd'>False</td></tr><tr><td style='border: 1px solid #dddddd'>f628dea7-f0ee-4bfc-8d5d-5d8218974e81</td><td style='border: 1px solid #dddddd'>AIOS TF Structured Deployment</td><td style='border: 1px solid #dddddd'>2019-11-08T05:54:46.002Z</td><td style='border: 1px solid #dddddd'>model</td><td style='border: 1px solid #dddddd'>tensorflow_1.13</td><td style='border: 1px solid #dddddd'>999</td><td style='border: 1px solid #dddddd'>False</td></tr><tr><td style='border: 1px solid #dddddd'>b924c2f9-665f-4435-bbad-a6cabe7aa18b</td><td style='border: 1px solid #dddddd'>AIOS Scikit Regression Diabetes</td><td style='border: 1px solid #dddddd'>2019-11-08T05:47:54.002Z</td><td style='border: 1px solid #dddddd'>model</td><td style='border: 1px solid #dddddd'>scikit-learn_0.20</td><td style='border: 1px solid #dddddd'>999</td><td style='border: 1px solid #dddddd'>False</td></tr><tr><td style='border: 1px solid #dddddd'>b7d74f0f-a7ad-4cb0-ad55-76d291b047c8</td><td style='border: 1px solid #dddddd'>AIOS Scikit Golf</td><td style='border: 1px solid #dddddd'>2019-11-08T05:45:29.002Z</td><td style='border: 1px solid #dddddd'>model</td><td style='border: 1px solid #dddddd'>scikit-learn_0.20</td><td style='border: 1px solid #dddddd'>999</td><td style='border: 1px solid #dddddd'>False</td></tr><tr><td style='border: 1px solid #dddddd'>8e4b213a-35c4-4376-9f8d-b966a1635f64</td><td style='border: 1px solid #dddddd'>AIOS Scikit Digits</td><td style='border: 1px solid #dddddd'>2019-11-08T05:42:53.002Z</td><td style='border: 1px solid #dddddd'>model</td><td style='border: 1px solid #dddddd'>scikit-learn_0.20</td><td style='border: 1px solid #dddddd'>999</td><td style='border: 1px solid #dddddd'>False</td></tr><tr><td style='border: 1px solid #dddddd'>96bf6768-9203-4f0e-ab78-e680820f3d41</td><td style='border: 1px solid #dddddd'>AIOS Multiply Function Deployment V4</td><td style='border: 1px solid #dddddd'>2019-11-08T05:38:36.002Z</td><td style='border: 1px solid #dddddd'>function</td><td style='border: 1px solid #dddddd'>python</td><td style='border: 1px solid #dddddd'>999</td><td style='border: 1px solid #dddddd'>False</td></tr><tr><td style='border: 1px solid #dddddd'>f478e2b7-6a9e-494a-80f8-ae516df33294</td><td style='border: 1px solid #dddddd'>AIOS Spark Regression Customer Satisfaction model</td><td style='border: 1px solid #dddddd'>2019-11-08T05:33:47.002Z</td><td style='border: 1px solid #dddddd'>model</td><td style='border: 1px solid #dddddd'>mllib_2.3</td><td style='border: 1px solid #dddddd'>999</td><td style='border: 1px solid #dddddd'>False</td></tr><tr><td style='border: 1px solid #dddddd'>90d97252-bfa1-4ed9-87bd-bb588cfb768f</td><td style='border: 1px solid #dddddd'>AIOS Spark Drugs feedback model</td><td style='border: 1px solid #dddddd'>2019-11-08T05:31:06.002Z</td><td style='border: 1px solid #dddddd'>model</td><td style='border: 1px solid #dddddd'>mllib_2.3</td><td style='border: 1px solid #dddddd'>999</td><td style='border: 1px solid #dddddd'>False</td></tr><tr><td style='border: 1px solid #dddddd'>eb384b53-3476-44dc-82b8-97178e1ad951</td><td style='border: 1px solid #dddddd'>AIOS Keras Regression Poland House Prices V4</td><td style='border: 1px solid #dddddd'>2019-11-08T05:05:39.002Z</td><td style='border: 1px solid #dddddd'>model</td><td style='border: 1px solid #dddddd'>keras_2.2.4-tf</td><td style='border: 1px solid #dddddd'>999</td><td style='border: 1px solid #dddddd'>False</td></tr><tr><td style='border: 1px solid #dddddd'>748025c6-75c6-4150-8ece-738ee247292b</td><td style='border: 1px solid #dddddd'>AIOS Keras Multiclass StackOverflow V4</td><td style='border: 1px solid #dddddd'>2019-11-08T05:03:46.002Z</td><td style='border: 1px solid #dddddd'>model</td><td style='border: 1px solid #dddddd'>keras_2.2.4-tf</td><td style='border: 1px solid #dddddd'>999</td><td style='border: 1px solid #dddddd'>False</td></tr><tr><td style='border: 1px solid #dddddd'>feb8f611-f41d-440d-bbd5-caee5237cceb</td><td style='border: 1px solid #dddddd'>AIOS Keras Multiclass Mnist V4</td><td style='border: 1px solid #dddddd'>2019-11-08T05:02:06.002Z</td><td style='border: 1px solid #dddddd'>model</td><td style='border: 1px solid #dddddd'>keras_2.2.4-tf</td><td style='border: 1px solid #dddddd'>999</td><td style='border: 1px solid #dddddd'>False</td></tr><tr><td style='border: 1px solid #dddddd'>07c7e099-77f3-413b-9dbf-99a662e227d9</td><td style='border: 1px solid #dddddd'>AIOS Keras Iris model V4xxx</td><td style='border: 1px solid #dddddd'>2019-11-08T05:00:21.002Z</td><td style='border: 1px solid #dddddd'>model</td><td style='border: 1px solid #dddddd'>keras_2.2.4-tf</td><td style='border: 1px solid #dddddd'>999</td><td style='border: 1px solid #dddddd'>False</td></tr><tr><td style='border: 1px solid #dddddd'>3deb6097-ae35-4275-b676-3e75a2b84adb</td><td style='border: 1px solid #dddddd'>AIOS Keras LSTM V4</td><td style='border: 1px solid #dddddd'>2019-11-08T04:58:11.002Z</td><td style='border: 1px solid #dddddd'>model</td><td style='border: 1px solid #dddddd'>keras_2.2.4-tf</td><td style='border: 1px solid #dddddd'>999</td><td style='border: 1px solid #dddddd'>False</td></tr><tr><td style='border: 1px solid #dddddd'>bb1c4499-fb82-4c60-858c-04e55a6f9835</td><td style='border: 1px solid #dddddd'>AIOS Keras Binary Spam model V4</td><td style='border: 1px solid #dddddd'>2019-11-08T04:56:31.002Z</td><td style='border: 1px solid #dddddd'>model</td><td style='border: 1px solid #dddddd'>keras_2.2.4-tf</td><td style='border: 1px solid #dddddd'>999</td><td style='border: 1px solid #dddddd'>False</td></tr><tr><td style='border: 1px solid #dddddd'>3ef725be-d578-42dc-9c0b-c38cc1f19d06</td><td style='border: 1px solid #dddddd'>AIOS Keras Binary Dogs vs Cats model V4</td><td style='border: 1px solid #dddddd'>2019-11-08T04:49:58.002Z</td><td style='border: 1px solid #dddddd'>model</td><td style='border: 1px solid #dddddd'>keras_2.2.4-tf</td><td style='border: 1px solid #dddddd'>999</td><td style='border: 1px solid #dddddd'>False</td></tr><tr><td style='border: 1px solid #dddddd'>8f6f9361-7629-45e8-9eba-506b29268f64</td><td style='border: 1px solid #dddddd'>AIOS Spark Credit Risk model xFg</td><td style='border: 1px solid #dddddd'>2019-11-08T04:08:56.002Z</td><td style='border: 1px solid #dddddd'>model</td><td style='border: 1px solid #dddddd'>mllib_2.3</td><td style='border: 1px solid #dddddd'>999</td><td style='border: 1px solid #dddddd'>False</td></tr>\n            </table>\n        </body>\n        </HTML>",
                        "text/plain": "<IPython.core.display.HTML object>"
                    },
                    "metadata": {},
                    "output_type": "display_data"
                }
            ],
            "source": "ai_client.data_mart.bindings.list_assets()"
        },
        {
            "cell_type": "markdown",
            "metadata": {},
            "source": "## Subscriptions"
        },
        {
            "cell_type": "markdown",
            "metadata": {},
            "source": "### Remove existing credit risk subscriptions"
        },
        {
            "cell_type": "markdown",
            "metadata": {},
            "source": "This code removes previous subscriptions to the German Credit model to refresh the monitors with the new model and new data."
        },
        {
            "cell_type": "code",
            "execution_count": 111,
            "metadata": {
                "scrolled": true
            },
            "outputs": [],
            "source": "subscriptions_uids = ai_client.data_mart.subscriptions.get_uids()\nfor subscription in subscriptions_uids:\n    sub_name = ai_client.data_mart.subscriptions.get_details(subscription)['entity']['asset']['name']\n    if sub_name == MODEL_NAME:\n        ai_client.data_mart.subscriptions.delete(subscription)\n        print('Deleted existing subscription for', MODEL_NAME)"
        },
        {
            "cell_type": "markdown",
            "metadata": {},
            "source": "This code creates the model subscription in OpenScale using the Python client API. Note that we need to provide the model unique identifier, and some information about the model itself."
        },
        {
            "cell_type": "code",
            "execution_count": 112,
            "metadata": {
                "scrolled": true
            },
            "outputs": [],
            "source": "subscription = ai_client.data_mart.subscriptions.add(WatsonMachineLearningAsset(\n    model_uid,\n    problem_type=ProblemType.BINARY_CLASSIFICATION,\n    input_data_type=InputDataType.STRUCTURED,\n    label_column='Risk',\n    prediction_column='predictedLabel',\n    probability_column='probability',\n    feature_columns = [\"CheckingStatus\",\"LoanDuration\",\"CreditHistory\",\"LoanPurpose\",\"LoanAmount\",\"ExistingSavings\",\"EmploymentDuration\",\"InstallmentPercent\",\"Sex\",\"OthersOnLoan\",\"CurrentResidenceDuration\",\"OwnsProperty\",\"Age\",\"InstallmentPlans\",\"Housing\",\"ExistingCreditsCount\",\"Job\",\"Dependents\",\"Telephone\",\"ForeignWorker\"],\n    categorical_columns = [\"CheckingStatus\",\"CreditHistory\",\"LoanPurpose\",\"ExistingSavings\",\"EmploymentDuration\",\"Sex\",\"OthersOnLoan\",\"OwnsProperty\",\"InstallmentPlans\",\"Housing\",\"Job\",\"Telephone\",\"ForeignWorker\"],\n    training_data_reference=training_data_reference\n))\n\nif subscription is None:\n    print('Subscription already exists; get the existing one')\n    subscriptions_uids = ai_client.data_mart.subscriptions.get_uids()\n    for sub in subscriptions_uids:\n        if ai_client.data_mart.subscriptions.get_details(sub)['entity']['asset']['name'] == MODEL_NAME:\n            subscription = ai_client.data_mart.subscriptions.get(sub)"
        },
        {
            "cell_type": "markdown",
            "metadata": {},
            "source": "Get subscription list"
        },
        {
            "cell_type": "code",
            "execution_count": 113,
            "metadata": {
                "scrolled": true
            },
            "outputs": [
                {
                    "data": {
                        "text/html": "<HTML>\n        <body>\n            <h3>Subscriptions</h3>\n            <table style='border: 1px solid #dddddd; font-family: Courier'>\n                <th style='border: 1px solid #dddddd'>uid</th><th style='border: 1px solid #dddddd'>name</th><th style='border: 1px solid #dddddd'>type</th><th style='border: 1px solid #dddddd'>binding_uid</th><th style='border: 1px solid #dddddd'>created</th>\n                <tr><td style='border: 1px solid #dddddd'>fbce8514-a702-41da-a1cc-6aa151e2e480</td><td style='border: 1px solid #dddddd'>Spark German Risk Model - Final</td><td style='border: 1px solid #dddddd'>model</td><td style='border: 1px solid #dddddd'>999</td><td style='border: 1px solid #dddddd'>2019-11-08T14:24:30.871Z</td></tr><tr><td style='border: 1px solid #dddddd'>1a9d5c88-858b-4f6d-8677-a218f3bf921d</td><td style='border: 1px solid #dddddd'>GermanCreditRiskModelICP</td><td style='border: 1px solid #dddddd'>model</td><td style='border: 1px solid #dddddd'>999</td><td style='border: 1px solid #dddddd'>2019-11-08T13:28:56.629Z</td></tr>\n            </table>\n        </body>\n        </HTML>",
                        "text/plain": "<IPython.core.display.HTML object>"
                    },
                    "metadata": {},
                    "output_type": "display_data"
                }
            ],
            "source": "subscriptions_uids = ai_client.data_mart.subscriptions.get_uids()\nai_client.data_mart.subscriptions.list()"
        },
        {
            "cell_type": "code",
            "execution_count": 114,
            "metadata": {
                "scrolled": false
            },
            "outputs": [],
            "source": "subscription_details = subscription.get_details()"
        },
        {
            "cell_type": "markdown",
            "metadata": {},
            "source": "### Score the model so we can configure monitors"
        },
        {
            "cell_type": "markdown",
            "metadata": {},
            "source": "Now that the WML service has been bound and the subscription has been created, we need to send a request to the model before we configure OpenScale. This allows OpenScale to create a payload log in the datamart with the correct schema, so it can capture data coming into and out of the model. First, the code gets the model deployment's endpoint URL, and then sends a few records for predictions."
        },
        {
            "cell_type": "code",
            "execution_count": 115,
            "metadata": {
                "scrolled": true
            },
            "outputs": [
                {
                    "name": "stdout",
                    "output_type": "stream",
                    "text": "0d078a3f-ba3a-4029-a309-632c43654bba\nhttps://namespace1-cpd-namespace1.apps.zloct36-lb-1.fyre.ibm.com/v4/deployments/0d078a3f-ba3a-4029-a309-632c43654bba/predictions\n"
                }
            ],
            "source": "credit_risk_scoring_endpoint = None\nprint(deployment_uid)\n\nfor deployment in wml_client.deployments.get_details()['resources']:\n    if deployment_uid in deployment['metadata']['guid']:\n        credit_risk_scoring_endpoint = deployment['entity']['status']['online_url']['url']\n        \nprint(credit_risk_scoring_endpoint)"
        },
        {
            "cell_type": "code",
            "execution_count": 116,
            "metadata": {
                "scrolled": true
            },
            "outputs": [
                {
                    "name": "stdout",
                    "output_type": "stream",
                    "text": "Single record scoring result: \n fields: ['CheckingStatus', 'LoanDuration', 'CreditHistory', 'LoanPurpose', 'LoanAmount', 'ExistingSavings', 'EmploymentDuration', 'InstallmentPercent', 'Sex', 'OthersOnLoan', 'CurrentResidenceDuration', 'OwnsProperty', 'Age', 'InstallmentPlans', 'Housing', 'ExistingCreditsCount', 'Job', 'Dependents', 'Telephone', 'ForeignWorker', 'CheckingStatus_IX', 'CreditHistory_IX', 'EmploymentDuration_IX', 'ExistingSavings_IX', 'ForeignWorker_IX', 'Housing_IX', 'InstallmentPlans_IX', 'Job_IX', 'LoanPurpose_IX', 'OthersOnLoan_IX', 'OwnsProperty_IX', 'Sex_IX', 'Telephone_IX', 'features', 'rawPrediction', 'probability', 'prediction', 'predictedLabel'] \n values:  ['no_checking', 13, 'credits_paid_to_date', 'car_new', 1343, '100_to_500', '1_to_4', 2, 'female', 'none', 3, 'savings_insurance', 46, 'none', 'own', 2, 'skilled', 1, 'none', 'yes', 0.0, 1.0, 0.0, 1.0, 0.0, 0.0, 0.0, 0.0, 0.0, 0.0, 0.0, 1.0, 0.0, [21, [1, 3, 5, 13, 14, 15, 16, 17, 18, 19, 20], [1.0, 1.0, 1.0, 13.0, 1343.0, 2.0, 3.0, 13.0, 46.0, 2.0, 1.0]], [13.18631098947019, 6.813689010529808], [0.6593155494735095, 0.34068445052649043], 0.0, 'No Risk']\n"
                }
            ],
            "source": "fields = [\"CheckingStatus\",\"LoanDuration\",\"CreditHistory\",\"LoanPurpose\",\"LoanAmount\",\"ExistingSavings\",\"EmploymentDuration\",\"InstallmentPercent\",\"Sex\",\"OthersOnLoan\",\"CurrentResidenceDuration\",\"OwnsProperty\",\"Age\",\"InstallmentPlans\",\"Housing\",\"ExistingCreditsCount\",\"Job\",\"Dependents\",\"Telephone\",\"ForeignWorker\"]\nvalues = [\n  [\"no_checking\",13,\"credits_paid_to_date\",\"car_new\",1343,\"100_to_500\",\"1_to_4\",2,\"female\",\"none\",3,\"savings_insurance\",46,\"none\",\"own\",2,\"skilled\",1,\"none\",\"yes\"],\n  [\"no_checking\",24,\"prior_payments_delayed\",\"furniture\",4567,\"500_to_1000\",\"1_to_4\",4,\"male\",\"none\",4,\"savings_insurance\",36,\"none\",\"free\",2,\"management_self-employed\",1,\"none\",\"yes\"],\n  [\"0_to_200\",26,\"all_credits_paid_back\",\"car_new\",863,\"less_100\",\"less_1\",2,\"female\",\"co-applicant\",2,\"real_estate\",38,\"none\",\"own\",1,\"skilled\",1,\"none\",\"yes\"],\n  [\"0_to_200\",14,\"no_credits\",\"car_new\",2368,\"less_100\",\"1_to_4\",3,\"female\",\"none\",3,\"real_estate\",29,\"none\",\"own\",1,\"skilled\",1,\"none\",\"yes\"],\n  [\"0_to_200\",4,\"no_credits\",\"car_new\",250,\"less_100\",\"unemployed\",2,\"female\",\"none\",3,\"real_estate\",23,\"none\",\"rent\",1,\"management_self-employed\",1,\"none\",\"yes\"],\n  [\"no_checking\",17,\"credits_paid_to_date\",\"car_new\",832,\"100_to_500\",\"1_to_4\",2,\"male\",\"none\",2,\"real_estate\",42,\"none\",\"own\",1,\"skilled\",1,\"none\",\"yes\"],\n  [\"no_checking\",33,\"outstanding_credit\",\"appliances\",5696,\"unknown\",\"greater_7\",4,\"male\",\"co-applicant\",4,\"unknown\",54,\"none\",\"free\",2,\"skilled\",1,\"yes\",\"yes\"],\n  [\"0_to_200\",13,\"prior_payments_delayed\",\"retraining\",1375,\"100_to_500\",\"4_to_7\",3,\"male\",\"none\",3,\"real_estate\",37,\"none\",\"own\",2,\"management_self-employed\",1,\"none\",\"yes\"]\n]\n\npayload_scoring = {\"fields\": fields,\"values\": values}\npayload = {\n    wml_client.deployments.ScoringMetaNames.INPUT_DATA: [payload_scoring]\n}\nscoring_response = wml_client.deployments.score(deployment_uid, payload)\n\nprint('Single record scoring result:', '\\n fields:', scoring_response['predictions'][0]['fields'], '\\n values: ', scoring_response['predictions'][0]['values'][0])"
        },
        {
            "cell_type": "markdown",
            "metadata": {},
            "source": "# Quality monitoring and feedback logging <a name=\"quality\"></a>"
        },
        {
            "cell_type": "markdown",
            "metadata": {},
            "source": "## Enable quality monitoring"
        },
        {
            "cell_type": "markdown",
            "metadata": {},
            "source": "The code below waits ten seconds to allow the payload logging table to be set up before it begins enabling monitors. First, it turns on the quality (accuracy) monitor and sets an alert threshold of 70%. OpenScale will show an alert on the dashboard if the model accuracy measurement (area under the curve, in the case of a binary classifier) falls below this threshold.\n\nThe second paramater supplied, min_records, specifies the minimum number of feedback records OpenScale needs before it calculates a new measurement. The quality monitor runs hourly, but the accuracy reading in the dashboard will not change until an additional 50 feedback records have been added, via the user interface, the Python client, or the supplied feedback endpoint."
        },
        {
            "cell_type": "code",
            "execution_count": 117,
            "metadata": {
                "scrolled": true
            },
            "outputs": [],
            "source": "time.sleep(10)\nsubscription.quality_monitoring.enable(threshold=0.7, min_records=50)"
        },
        {
            "cell_type": "markdown",
            "metadata": {},
            "source": "## Feedback logging"
        },
        {
            "cell_type": "markdown",
            "metadata": {},
            "source": "The code below downloads and stores enough feedback data to meet the minimum threshold so that OpenScale can calculate a new accuracy measurement. It then kicks off the accuracy monitor. The monitors run hourly, or can be initiated via the Python API, the REST API, or the graphical user interface."
        },
        {
            "cell_type": "code",
            "execution_count": 118,
            "metadata": {},
            "outputs": [
                {
                    "name": "stdout",
                    "output_type": "stream",
                    "text": "Warning: Failed to set locale category LC_NUMERIC to en_PL.\nWarning: Failed to set locale category LC_TIME to en_PL.\nWarning: Failed to set locale category LC_COLLATE to en_PL.\nWarning: Failed to set locale category LC_MONETARY to en_PL.\nWarning: Failed to set locale category LC_MESSAGES to en_PL.\n--2019-11-08 15:24:55--  https://raw.githubusercontent.com/pmservice/ai-openscale-tutorials/master/assets/historical_data/german_credit_risk/wml/additional_feedback_data.json\nResolving raw.githubusercontent.com (raw.githubusercontent.com)... 199.232.36.133\nConnecting to raw.githubusercontent.com (raw.githubusercontent.com)|199.232.36.133|:443... connected.\nHTTP request sent, awaiting response... 200 OK\nLength: 16506 (16K) [text/plain]\nSaving to: \u2018additional_feedback_data.json\u2019\n\nadditional_feedback 100%[===================>]  16.12K  --.-KB/s    in 0.09s   \n\n2019-11-08 15:24:56 (188 KB/s) - \u2018additional_feedback_data.json\u2019 saved [16506/16506]\n\n"
                }
            ],
            "source": "!rm additional_feedback_data.json\n!wget https://raw.githubusercontent.com/pmservice/ai-openscale-tutorials/master/assets/historical_data/german_credit_risk/wml/additional_feedback_data.json"
        },
        {
            "cell_type": "code",
            "execution_count": 119,
            "metadata": {},
            "outputs": [],
            "source": "with open('additional_feedback_data.json') as feedback_file:\n    additional_feedback_data = json.load(feedback_file)\nsubscription.feedback_logging.store(additional_feedback_data['data'])"
        },
        {
            "cell_type": "code",
            "execution_count": 120,
            "metadata": {
                "scrolled": true
            },
            "outputs": [
                {
                    "data": {
                        "text/html": "<HTML>\n        <body>\n            <h3>Feedback_fbce8514-a702-41da-a1cc-6aa151e2e480 (binding_id=999, subscription_id=fbce8514-a702-41da-a1cc-6aa151e2e480)</h3>\n            <table style='border: 1px solid #dddddd; font-family: Courier'>\n                <th style='border: 1px solid #dddddd'>CheckingStatus</th><th style='border: 1px solid #dddddd'>LoanDuration</th><th style='border: 1px solid #dddddd'>CreditHistory</th><th style='border: 1px solid #dddddd'>LoanPurpose</th><th style='border: 1px solid #dddddd'>LoanAmount</th><th style='border: 1px solid #dddddd'>ExistingSavings</th><th style='border: 1px solid #dddddd'>EmploymentDuration</th><th style='border: 1px solid #dddddd'>InstallmentPercent</th><th style='border: 1px solid #dddddd'>Sex</th><th style='border: 1px solid #dddddd'>OthersOnLoan</th><th style='border: 1px solid #dddddd'>CurrentResidenceDuration</th><th style='border: 1px solid #dddddd'>OwnsProperty</th><th style='border: 1px solid #dddddd'>Age</th><th style='border: 1px solid #dddddd'>InstallmentPlans</th><th style='border: 1px solid #dddddd'>Housing</th><th style='border: 1px solid #dddddd'>ExistingCreditsCount</th><th style='border: 1px solid #dddddd'>Job</th><th style='border: 1px solid #dddddd'>Dependents</th><th style='border: 1px solid #dddddd'>Telephone</th><th style='border: 1px solid #dddddd'>ForeignWorker</th><th style='border: 1px solid #dddddd'>Risk</th><th style='border: 1px solid #dddddd'>_training</th>\n                <tr><td style='border: 1px solid #dddddd'>less_0</td><td style='border: 1px solid #dddddd'>10</td><td style='border: 1px solid #dddddd'>all_credits_paid_back</td><td style='border: 1px solid #dddddd'>car_new</td><td style='border: 1px solid #dddddd'>250</td><td style='border: 1px solid #dddddd'>500_to_1000</td><td style='border: 1px solid #dddddd'>4_to_7</td><td style='border: 1px solid #dddddd'>3</td><td style='border: 1px solid #dddddd'>male</td><td style='border: 1px solid #dddddd'>none</td><td style='border: 1px solid #dddddd'>2</td><td style='border: 1px solid #dddddd'>real_estate</td><td style='border: 1px solid #dddddd'>23</td><td style='border: 1px solid #dddddd'>none</td><td style='border: 1px solid #dddddd'>rent</td><td style='border: 1px solid #dddddd'>1</td><td style='border: 1px solid #dddddd'>skilled</td><td style='border: 1px solid #dddddd'>1</td><td style='border: 1px solid #dddddd'>none</td><td style='border: 1px solid #dddddd'>yes</td><td style='border: 1px solid #dddddd'>No Risk</td><td style='border: 1px solid #dddddd'>2019-11-08 14:24:58.703661+00:00</td></tr><tr><td style='border: 1px solid #dddddd'>no_checking</td><td style='border: 1px solid #dddddd'>23</td><td style='border: 1px solid #dddddd'>prior_payments_delayed</td><td style='border: 1px solid #dddddd'>appliances</td><td style='border: 1px solid #dddddd'>6964</td><td style='border: 1px solid #dddddd'>100_to_500</td><td style='border: 1px solid #dddddd'>4_to_7</td><td style='border: 1px solid #dddddd'>4</td><td style='border: 1px solid #dddddd'>female</td><td style='border: 1px solid #dddddd'>none</td><td style='border: 1px solid #dddddd'>3</td><td style='border: 1px solid #dddddd'>car_other</td><td style='border: 1px solid #dddddd'>39</td><td style='border: 1px solid #dddddd'>none</td><td style='border: 1px solid #dddddd'>own</td><td style='border: 1px solid #dddddd'>1</td><td style='border: 1px solid #dddddd'>skilled</td><td style='border: 1px solid #dddddd'>1</td><td style='border: 1px solid #dddddd'>none</td><td style='border: 1px solid #dddddd'>yes</td><td style='border: 1px solid #dddddd'>Risk</td><td style='border: 1px solid #dddddd'>2019-11-08 14:24:58.703930+00:00</td></tr><tr><td style='border: 1px solid #dddddd'>0_to_200</td><td style='border: 1px solid #dddddd'>30</td><td style='border: 1px solid #dddddd'>outstanding_credit</td><td style='border: 1px solid #dddddd'>appliances</td><td style='border: 1px solid #dddddd'>3464</td><td style='border: 1px solid #dddddd'>100_to_500</td><td style='border: 1px solid #dddddd'>greater_7</td><td style='border: 1px solid #dddddd'>3</td><td style='border: 1px solid #dddddd'>male</td><td style='border: 1px solid #dddddd'>guarantor</td><td style='border: 1px solid #dddddd'>4</td><td style='border: 1px solid #dddddd'>savings_insurance</td><td style='border: 1px solid #dddddd'>51</td><td style='border: 1px solid #dddddd'>stores</td><td style='border: 1px solid #dddddd'>free</td><td style='border: 1px solid #dddddd'>1</td><td style='border: 1px solid #dddddd'>skilled</td><td style='border: 1px solid #dddddd'>1</td><td style='border: 1px solid #dddddd'>yes</td><td style='border: 1px solid #dddddd'>yes</td><td style='border: 1px solid #dddddd'>Risk</td><td style='border: 1px solid #dddddd'>2019-11-08 14:24:58.703964+00:00</td></tr><tr><td style='border: 1px solid #dddddd'>no_checking</td><td style='border: 1px solid #dddddd'>23</td><td style='border: 1px solid #dddddd'>outstanding_credit</td><td style='border: 1px solid #dddddd'>car_used</td><td style='border: 1px solid #dddddd'>2681</td><td style='border: 1px solid #dddddd'>500_to_1000</td><td style='border: 1px solid #dddddd'>greater_7</td><td style='border: 1px solid #dddddd'>4</td><td style='border: 1px solid #dddddd'>male</td><td style='border: 1px solid #dddddd'>none</td><td style='border: 1px solid #dddddd'>3</td><td style='border: 1px solid #dddddd'>car_other</td><td style='border: 1px solid #dddddd'>33</td><td style='border: 1px solid #dddddd'>stores</td><td style='border: 1px solid #dddddd'>free</td><td style='border: 1px solid #dddddd'>1</td><td style='border: 1px solid #dddddd'>unskilled</td><td style='border: 1px solid #dddddd'>1</td><td style='border: 1px solid #dddddd'>yes</td><td style='border: 1px solid #dddddd'>yes</td><td style='border: 1px solid #dddddd'>No Risk</td><td style='border: 1px solid #dddddd'>2019-11-08 14:24:58.703981+00:00</td></tr><tr><td style='border: 1px solid #dddddd'>0_to_200</td><td style='border: 1px solid #dddddd'>18</td><td style='border: 1px solid #dddddd'>prior_payments_delayed</td><td style='border: 1px solid #dddddd'>furniture</td><td style='border: 1px solid #dddddd'>1673</td><td style='border: 1px solid #dddddd'>less_100</td><td style='border: 1px solid #dddddd'>1_to_4</td><td style='border: 1px solid #dddddd'>2</td><td style='border: 1px solid #dddddd'>male</td><td style='border: 1px solid #dddddd'>none</td><td style='border: 1px solid #dddddd'>3</td><td style='border: 1px solid #dddddd'>car_other</td><td style='border: 1px solid #dddddd'>30</td><td style='border: 1px solid #dddddd'>none</td><td style='border: 1px solid #dddddd'>own</td><td style='border: 1px solid #dddddd'>2</td><td style='border: 1px solid #dddddd'>skilled</td><td style='border: 1px solid #dddddd'>1</td><td style='border: 1px solid #dddddd'>none</td><td style='border: 1px solid #dddddd'>yes</td><td style='border: 1px solid #dddddd'>Risk</td><td style='border: 1px solid #dddddd'>2019-11-08 14:24:58.703990+00:00</td></tr><tr><td style='border: 1px solid #dddddd'>no_checking</td><td style='border: 1px solid #dddddd'>44</td><td style='border: 1px solid #dddddd'>outstanding_credit</td><td style='border: 1px solid #dddddd'>radio_tv</td><td style='border: 1px solid #dddddd'>3476</td><td style='border: 1px solid #dddddd'>unknown</td><td style='border: 1px solid #dddddd'>greater_7</td><td style='border: 1px solid #dddddd'>4</td><td style='border: 1px solid #dddddd'>male</td><td style='border: 1px solid #dddddd'>co-applicant</td><td style='border: 1px solid #dddddd'>4</td><td style='border: 1px solid #dddddd'>unknown</td><td style='border: 1px solid #dddddd'>60</td><td style='border: 1px solid #dddddd'>none</td><td style='border: 1px solid #dddddd'>free</td><td style='border: 1px solid #dddddd'>2</td><td style='border: 1px solid #dddddd'>skilled</td><td style='border: 1px solid #dddddd'>2</td><td style='border: 1px solid #dddddd'>yes</td><td style='border: 1px solid #dddddd'>yes</td><td style='border: 1px solid #dddddd'>Risk</td><td style='border: 1px solid #dddddd'>2019-11-08 14:24:58.703999+00:00</td></tr><tr><td style='border: 1px solid #dddddd'>less_0</td><td style='border: 1px solid #dddddd'>8</td><td style='border: 1px solid #dddddd'>no_credits</td><td style='border: 1px solid #dddddd'>education</td><td style='border: 1px solid #dddddd'>803</td><td style='border: 1px solid #dddddd'>less_100</td><td style='border: 1px solid #dddddd'>unemployed</td><td style='border: 1px solid #dddddd'>1</td><td style='border: 1px solid #dddddd'>male</td><td style='border: 1px solid #dddddd'>none</td><td style='border: 1px solid #dddddd'>1</td><td style='border: 1px solid #dddddd'>savings_insurance</td><td style='border: 1px solid #dddddd'>19</td><td style='border: 1px solid #dddddd'>stores</td><td style='border: 1px solid #dddddd'>rent</td><td style='border: 1px solid #dddddd'>1</td><td style='border: 1px solid #dddddd'>skilled</td><td style='border: 1px solid #dddddd'>1</td><td style='border: 1px solid #dddddd'>none</td><td style='border: 1px solid #dddddd'>yes</td><td style='border: 1px solid #dddddd'>No Risk</td><td style='border: 1px solid #dddddd'>2019-11-08 14:24:58.704010+00:00</td></tr><tr><td style='border: 1px solid #dddddd'>0_to_200</td><td style='border: 1px solid #dddddd'>7</td><td style='border: 1px solid #dddddd'>all_credits_paid_back</td><td style='border: 1px solid #dddddd'>car_new</td><td style='border: 1px solid #dddddd'>250</td><td style='border: 1px solid #dddddd'>less_100</td><td style='border: 1px solid #dddddd'>unemployed</td><td style='border: 1px solid #dddddd'>1</td><td style='border: 1px solid #dddddd'>male</td><td style='border: 1px solid #dddddd'>none</td><td style='border: 1px solid #dddddd'>1</td><td style='border: 1px solid #dddddd'>real_estate</td><td style='border: 1px solid #dddddd'>19</td><td style='border: 1px solid #dddddd'>stores</td><td style='border: 1px solid #dddddd'>rent</td><td style='border: 1px solid #dddddd'>1</td><td style='border: 1px solid #dddddd'>skilled</td><td style='border: 1px solid #dddddd'>1</td><td style='border: 1px solid #dddddd'>none</td><td style='border: 1px solid #dddddd'>yes</td><td style='border: 1px solid #dddddd'>No Risk</td><td style='border: 1px solid #dddddd'>2019-11-08 14:24:58.704026+00:00</td></tr><tr><td style='border: 1px solid #dddddd'>0_to_200</td><td style='border: 1px solid #dddddd'>33</td><td style='border: 1px solid #dddddd'>credits_paid_to_date</td><td style='border: 1px solid #dddddd'>radio_tv</td><td style='border: 1px solid #dddddd'>3548</td><td style='border: 1px solid #dddddd'>100_to_500</td><td style='border: 1px solid #dddddd'>1_to_4</td><td style='border: 1px solid #dddddd'>3</td><td style='border: 1px solid #dddddd'>male</td><td style='border: 1px solid #dddddd'>none</td><td style='border: 1px solid #dddddd'>4</td><td style='border: 1px solid #dddddd'>car_other</td><td style='border: 1px solid #dddddd'>28</td><td style='border: 1px solid #dddddd'>none</td><td style='border: 1px solid #dddddd'>own</td><td style='border: 1px solid #dddddd'>2</td><td style='border: 1px solid #dddddd'>skilled</td><td style='border: 1px solid #dddddd'>1</td><td style='border: 1px solid #dddddd'>yes</td><td style='border: 1px solid #dddddd'>yes</td><td style='border: 1px solid #dddddd'>Risk</td><td style='border: 1px solid #dddddd'>2019-11-08 14:24:58.704041+00:00</td></tr><tr><td style='border: 1px solid #dddddd'>no_checking</td><td style='border: 1px solid #dddddd'>24</td><td style='border: 1px solid #dddddd'>prior_payments_delayed</td><td style='border: 1px solid #dddddd'>retraining</td><td style='border: 1px solid #dddddd'>4158</td><td style='border: 1px solid #dddddd'>100_to_500</td><td style='border: 1px solid #dddddd'>greater_7</td><td style='border: 1px solid #dddddd'>3</td><td style='border: 1px solid #dddddd'>female</td><td style='border: 1px solid #dddddd'>none</td><td style='border: 1px solid #dddddd'>2</td><td style='border: 1px solid #dddddd'>savings_insurance</td><td style='border: 1px solid #dddddd'>35</td><td style='border: 1px solid #dddddd'>stores</td><td style='border: 1px solid #dddddd'>own</td><td style='border: 1px solid #dddddd'>1</td><td style='border: 1px solid #dddddd'>unskilled</td><td style='border: 1px solid #dddddd'>2</td><td style='border: 1px solid #dddddd'>none</td><td style='border: 1px solid #dddddd'>yes</td><td style='border: 1px solid #dddddd'>Risk</td><td style='border: 1px solid #dddddd'>2019-11-08 14:24:58.704066+00:00</td></tr>\n            </table>\n        </body>\n        </HTML>",
                        "text/plain": "<IPython.core.display.HTML object>"
                    },
                    "metadata": {},
                    "output_type": "display_data"
                }
            ],
            "source": "subscription.feedback_logging.show_table()"
        },
        {
            "cell_type": "code",
            "execution_count": 121,
            "metadata": {
                "scrolled": true
            },
            "outputs": [
                {
                    "name": "stdout",
                    "output_type": "stream",
                    "text": "\n\n================================================================================\n\n Waiting for end of quality monitoring run 15f9103a-a128-4a13-8e7d-c931be115347 \n\n================================================================================\n\n\n\ncompleted\n\n---------------------------\n Successfully finished run \n---------------------------\n\n\n"
                }
            ],
            "source": "run_details = subscription.quality_monitoring.run(background_mode=False)"
        },
        {
            "cell_type": "code",
            "execution_count": 122,
            "metadata": {
                "scrolled": true
            },
            "outputs": [
                {
                    "data": {
                        "text/html": "<HTML>\n        <body>\n            <h3>QualityMetrics (binding_id=999, subscription_id=fbce8514-a702-41da-a1cc-6aa151e2e480)</h3>\n            <table style='border: 1px solid #dddddd; font-family: Courier'>\n                <th style='border: 1px solid #dddddd'>ts</th><th style='border: 1px solid #dddddd'>id</th><th style='border: 1px solid #dddddd'>measurement_id</th><th style='border: 1px solid #dddddd'>value</th><th style='border: 1px solid #dddddd'>lower limit</th><th style='border: 1px solid #dddddd'>upper limit</th><th style='border: 1px solid #dddddd'>tags</th><th style='border: 1px solid #dddddd'>binding_id</th><th style='border: 1px solid #dddddd'>subscription_id</th><th style='border: 1px solid #dddddd'>deployment_id</th>\n                <tr><td style='border: 1px solid #dddddd'>2019-11-08 14:25:07.840000+00:00</td><td style='border: 1px solid #dddddd'>true_positive_rate</td><td style='border: 1px solid #dddddd'>562275f2-7b58-4166-80f0-c5e3d214c6a0</td><td style='border: 1px solid #dddddd'>0.3333333333333333</td><td style='border: 1px solid #dddddd'></td><td style='border: 1px solid #dddddd'></td><td style='border: 1px solid #dddddd'>model_type: original</td><td style='border: 1px solid #dddddd'>999</td><td style='border: 1px solid #dddddd'>fbce8514-a702-41da-a1cc-6aa151e2e480</td><td style='border: 1px solid #dddddd'>0d078a3f-ba3a-4029-a309-632c43654bba</td></tr><tr><td style='border: 1px solid #dddddd'>2019-11-08 14:25:07.840000+00:00</td><td style='border: 1px solid #dddddd'>area_under_roc</td><td style='border: 1px solid #dddddd'>562275f2-7b58-4166-80f0-c5e3d214c6a0</td><td style='border: 1px solid #dddddd'>0.6282051282051282</td><td style='border: 1px solid #dddddd'>0.7</td><td style='border: 1px solid #dddddd'></td><td style='border: 1px solid #dddddd'>model_type: original</td><td style='border: 1px solid #dddddd'>999</td><td style='border: 1px solid #dddddd'>fbce8514-a702-41da-a1cc-6aa151e2e480</td><td style='border: 1px solid #dddddd'>0d078a3f-ba3a-4029-a309-632c43654bba</td></tr><tr><td style='border: 1px solid #dddddd'>2019-11-08 14:25:07.840000+00:00</td><td style='border: 1px solid #dddddd'>precision</td><td style='border: 1px solid #dddddd'>562275f2-7b58-4166-80f0-c5e3d214c6a0</td><td style='border: 1px solid #dddddd'>0.6875</td><td style='border: 1px solid #dddddd'></td><td style='border: 1px solid #dddddd'></td><td style='border: 1px solid #dddddd'>model_type: original</td><td style='border: 1px solid #dddddd'>999</td><td style='border: 1px solid #dddddd'>fbce8514-a702-41da-a1cc-6aa151e2e480</td><td style='border: 1px solid #dddddd'>0d078a3f-ba3a-4029-a309-632c43654bba</td></tr><tr><td style='border: 1px solid #dddddd'>2019-11-08 14:25:07.840000+00:00</td><td style='border: 1px solid #dddddd'>f1_measure</td><td style='border: 1px solid #dddddd'>562275f2-7b58-4166-80f0-c5e3d214c6a0</td><td style='border: 1px solid #dddddd'>0.4489795918367347</td><td style='border: 1px solid #dddddd'></td><td style='border: 1px solid #dddddd'></td><td style='border: 1px solid #dddddd'>model_type: original</td><td style='border: 1px solid #dddddd'>999</td><td style='border: 1px solid #dddddd'>fbce8514-a702-41da-a1cc-6aa151e2e480</td><td style='border: 1px solid #dddddd'>0d078a3f-ba3a-4029-a309-632c43654bba</td></tr><tr><td style='border: 1px solid #dddddd'>2019-11-08 14:25:07.840000+00:00</td><td style='border: 1px solid #dddddd'>accuracy</td><td style='border: 1px solid #dddddd'>562275f2-7b58-4166-80f0-c5e3d214c6a0</td><td style='border: 1px solid #dddddd'>0.7244897959183674</td><td style='border: 1px solid #dddddd'></td><td style='border: 1px solid #dddddd'></td><td style='border: 1px solid #dddddd'>model_type: original</td><td style='border: 1px solid #dddddd'>999</td><td style='border: 1px solid #dddddd'>fbce8514-a702-41da-a1cc-6aa151e2e480</td><td style='border: 1px solid #dddddd'>0d078a3f-ba3a-4029-a309-632c43654bba</td></tr><tr><td style='border: 1px solid #dddddd'>2019-11-08 14:25:07.840000+00:00</td><td style='border: 1px solid #dddddd'>log_loss</td><td style='border: 1px solid #dddddd'>562275f2-7b58-4166-80f0-c5e3d214c6a0</td><td style='border: 1px solid #dddddd'>0.43998295331905485</td><td style='border: 1px solid #dddddd'></td><td style='border: 1px solid #dddddd'></td><td style='border: 1px solid #dddddd'>model_type: original</td><td style='border: 1px solid #dddddd'>999</td><td style='border: 1px solid #dddddd'>fbce8514-a702-41da-a1cc-6aa151e2e480</td><td style='border: 1px solid #dddddd'>0d078a3f-ba3a-4029-a309-632c43654bba</td></tr><tr><td style='border: 1px solid #dddddd'>2019-11-08 14:25:07.840000+00:00</td><td style='border: 1px solid #dddddd'>false_positive_rate</td><td style='border: 1px solid #dddddd'>562275f2-7b58-4166-80f0-c5e3d214c6a0</td><td style='border: 1px solid #dddddd'>0.07692307692307693</td><td style='border: 1px solid #dddddd'></td><td style='border: 1px solid #dddddd'></td><td style='border: 1px solid #dddddd'>model_type: original</td><td style='border: 1px solid #dddddd'>999</td><td style='border: 1px solid #dddddd'>fbce8514-a702-41da-a1cc-6aa151e2e480</td><td style='border: 1px solid #dddddd'>0d078a3f-ba3a-4029-a309-632c43654bba</td></tr><tr><td style='border: 1px solid #dddddd'>2019-11-08 14:25:07.840000+00:00</td><td style='border: 1px solid #dddddd'>area_under_pr</td><td style='border: 1px solid #dddddd'>562275f2-7b58-4166-80f0-c5e3d214c6a0</td><td style='border: 1px solid #dddddd'>0.5705782312925171</td><td style='border: 1px solid #dddddd'></td><td style='border: 1px solid #dddddd'></td><td style='border: 1px solid #dddddd'>model_type: original</td><td style='border: 1px solid #dddddd'>999</td><td style='border: 1px solid #dddddd'>fbce8514-a702-41da-a1cc-6aa151e2e480</td><td style='border: 1px solid #dddddd'>0d078a3f-ba3a-4029-a309-632c43654bba</td></tr><tr><td style='border: 1px solid #dddddd'>2019-11-08 14:25:07.840000+00:00</td><td style='border: 1px solid #dddddd'>recall</td><td style='border: 1px solid #dddddd'>562275f2-7b58-4166-80f0-c5e3d214c6a0</td><td style='border: 1px solid #dddddd'>0.3333333333333333</td><td style='border: 1px solid #dddddd'></td><td style='border: 1px solid #dddddd'></td><td style='border: 1px solid #dddddd'>model_type: original</td><td style='border: 1px solid #dddddd'>999</td><td style='border: 1px solid #dddddd'>fbce8514-a702-41da-a1cc-6aa151e2e480</td><td style='border: 1px solid #dddddd'>0d078a3f-ba3a-4029-a309-632c43654bba</td></tr>\n            </table>\n        </body>\n        </HTML>",
                        "text/plain": "<IPython.core.display.HTML object>"
                    },
                    "metadata": {},
                    "output_type": "display_data"
                }
            ],
            "source": "subscription.quality_monitoring.show_table()"
        },
        {
            "cell_type": "code",
            "execution_count": 123,
            "metadata": {},
            "outputs": [
                {
                    "data": {
                        "image/png": "[encoded data removed]",
                        "text/plain": "<Figure size 432x288 with 1 Axes>"
                    },
                    "metadata": {
                        "needs_background": "light"
                    },
                    "output_type": "display_data"
                }
            ],
            "source": "%matplotlib inline\n\nquality_pd = subscription.quality_monitoring.get_table_content(format='pandas')\nquality_pd.plot.barh(x='id', y='value');"
        },
        {
            "cell_type": "code",
            "execution_count": 124,
            "metadata": {
                "scrolled": true
            },
            "outputs": [
                {
                    "data": {
                        "text/plain": "{'deployment_metrics': [{'asset': {'asset_id': '6b53826d-99ce-4347-b3a2-d67d5775aa09',\n    'asset_type': 'model',\n    'created_at': '2019-11-08T13:28:32.002Z',\n    'name': 'GermanCreditRiskModelICP',\n    'url': 'https://ibm-nginx-svc.namespace1.svc.cluster.local/v4/models/6b53826d-99ce-4347-b3a2-d67d5775aa09?space_id=7bcb28ac-1b12-4c71-b011-e17703b376eb'},\n   'deployment': {'created_at': '2019-11-08T13:28:37.730Z',\n    'deployment_id': 'cfc14eb8-9a25-4533-8320-77a4525764b0',\n    'deployment_rn': '',\n    'deployment_type': 'online',\n    'name': 'GermanCreditRiskModelICP',\n    'scoring_endpoint': {'request_headers': {'Content-Type': 'application/json'},\n     'url': 'https://ibm-nginx-svc.namespace1.svc.cluster.local/v4/deployments/cfc14eb8-9a25-4533-8320-77a4525764b0/predictions'},\n    'url': 'https://ibm-nginx-svc.namespace1.svc.cluster.local/v4/deployments/cfc14eb8-9a25-4533-8320-77a4525764b0'},\n   'metrics': [{'issues': 0,\n     'metric_type': 'performance',\n     'timestamp': '2019-11-08T12:30:45Z',\n     'value': {'records': 701.0, 'response_time': 103.37313906908854}},\n    {'issues': 1,\n     'metric_type': 'quality',\n     'timestamp': '2019-11-08T12:31:30Z',\n     'value': {'metrics': [{'name': 'auroc', 'threshold': 0.8, 'value': 0.77}],\n      'quality': 0.77,\n      'threshold': 0.8}},\n    {'issues': 0,\n     'metric_type': 'debiased_fairness',\n     'timestamp': '2019-11-08T13:42:27.761776Z',\n     'value': {'corrected_records': 3,\n      'debiased': True,\n      'evaluated_at': '2019-11-08T13:45:36.531376Z',\n      'manual_labelling_store': 'Manual_Labeling_1a9d5c88-858b-4f6d-8677-a218f3bf921d',\n      'metrics': [{'bias_source': {'values': []},\n        'fairness_threshold': 0.98,\n        'feature': 'Age',\n        'majority': {'total_fav_percent': 82.0,\n         'total_rows_percent': 50.0,\n         'values': [{'distribution': {'[26, 27]': [{'count': 4,\n              'is_favourable': True,\n              'label': 'No Risk'}],\n            '[27, 28]': [{'count': 1,\n              'is_favourable': True,\n              'label': 'No Risk'}],\n            '[28, 29]': [{'count': 1,\n              'is_favourable': True,\n              'label': 'No Risk'}],\n            '[29, 30]': [{'count': 6,\n              'is_favourable': True,\n              'label': 'No Risk'}],\n            '[30, 31]': [{'count': 6,\n              'is_favourable': True,\n              'label': 'No Risk'}],\n            '[31, 32]': [{'count': 3,\n              'is_favourable': True,\n              'label': 'No Risk'}],\n            '[32, 33]': [{'count': 2,\n              'is_favourable': True,\n              'label': 'No Risk'}],\n            '[33, 34]': [{'count': 1,\n              'is_favourable': True,\n              'label': 'No Risk'}],\n            '[34, 35]': [{'count': 5,\n              'is_favourable': True,\n              'label': 'No Risk'}],\n            '[35, 36]': [{'count': 5,\n              'is_favourable': True,\n              'label': 'No Risk'}],\n            '[36, 37]': [{'count': 3,\n              'is_favourable': True,\n              'label': 'No Risk'}],\n            '[37, 38]': [{'count': 6,\n              'is_favourable': True,\n              'label': 'No Risk'},\n             {'count': 1, 'is_favourable': False, 'label': 'Risk'}],\n            '[38, 39]': [{'count': 4,\n              'is_favourable': True,\n              'label': 'No Risk'},\n             {'count': 1, 'is_favourable': False, 'label': 'Risk'}],\n            '[39, 40]': [{'count': 3,\n              'is_favourable': True,\n              'label': 'No Risk'},\n             {'count': 2, 'is_favourable': False, 'label': 'Risk'}],\n            '[40, 41]': [{'count': 5,\n              'is_favourable': True,\n              'label': 'No Risk'}],\n            '[41, 42]': [{'count': 1,\n              'is_favourable': True,\n              'label': 'No Risk'},\n             {'count': 2, 'is_favourable': False, 'label': 'Risk'}],\n            '[42, 43]': [{'count': 5,\n              'is_favourable': True,\n              'label': 'No Risk'}],\n            '[43, 44]': [{'count': 2,\n              'is_favourable': True,\n              'label': 'No Risk'},\n             {'count': 2, 'is_favourable': False, 'label': 'Risk'}],\n            '[44, 45]': [{'count': 1,\n              'is_favourable': True,\n              'label': 'No Risk'},\n             {'count': 1, 'is_favourable': False, 'label': 'Risk'}],\n            '[46, 47]': [{'count': 1,\n              'is_favourable': True,\n              'label': 'No Risk'},\n             {'count': 2, 'is_favourable': False, 'label': 'Risk'}],\n            '[47, 48]': [{'count': 1,\n              'is_favourable': True,\n              'label': 'No Risk'}],\n            '[48, 49]': [{'count': 2,\n              'is_favourable': True,\n              'label': 'No Risk'},\n             {'count': 1, 'is_favourable': False, 'label': 'Risk'}],\n            '[49, 50]': [{'count': 2,\n              'is_favourable': True,\n              'label': 'No Risk'},\n             {'count': 1, 'is_favourable': False, 'label': 'Risk'}],\n            '[50, 51]': [{'count': 1,\n              'is_favourable': True,\n              'label': 'No Risk'}],\n            '[51, 52]': [{'count': 1,\n              'is_favourable': False,\n              'label': 'Risk'}],\n            '[52, 53]': [{'count': 2,\n              'is_favourable': False,\n              'label': 'Risk'}],\n            '[54, 55]': [{'count': 1,\n              'is_favourable': True,\n              'label': 'No Risk'}],\n            '[59, 60]': [{'count': 1,\n              'is_favourable': False,\n              'label': 'Risk'}],\n            '[62, 63]': [{'count': 1,\n              'is_favourable': False,\n              'label': 'Risk'}],\n            '[70, 71]': [{'count': 2,\n              'is_favourable': True,\n              'label': 'No Risk'}],\n            '[72, 73]': [{'count': 8,\n              'is_favourable': True,\n              'label': 'No Risk'}]},\n           'distribution_ranges': {'[26, 27]': [26, 27],\n            '[27, 28]': [27, 28],\n            '[28, 29]': [28, 29],\n            '[29, 30]': [29, 30],\n            '[30, 31]': [30, 31],\n            '[31, 32]': [31, 32],\n            '[32, 33]': [32, 33],\n            '[33, 34]': [33, 34],\n            '[34, 35]': [34, 35],\n            '[35, 36]': [35, 36],\n            '[36, 37]': [36, 37],\n            '[37, 38]': [37, 38],\n            '[38, 39]': [38, 39],\n            '[39, 40]': [39, 40],\n            '[40, 41]': [40, 41],\n            '[41, 42]': [41, 42],\n            '[42, 43]': [42, 43],\n            '[43, 44]': [43, 44],\n            '[44, 45]': [44, 45],\n            '[46, 47]': [46, 47],\n            '[47, 48]': [47, 48],\n            '[48, 49]': [48, 49],\n            '[49, 50]': [49, 50],\n            '[50, 51]': [50, 51],\n            '[51, 52]': [51, 52],\n            '[52, 53]': [52, 53],\n            '[54, 55]': [54, 55],\n            '[59, 60]': [59, 60],\n            '[62, 63]': [62, 63],\n            '[70, 71]': [70, 71],\n            '[72, 73]': [72, 73]},\n           'fav_class_percent': 82.0,\n           'value': [26, 75]}]},\n        'minority': {'total_fav_percent': 85.0,\n         'total_rows_percent': 50.0,\n         'values': [{'distribution': {'[18, 19]': [{'count': 36,\n              'is_favourable': True,\n              'label': 'No Risk'},\n             {'count': 3, 'is_favourable': False, 'label': 'Risk'}],\n            '[19, 20]': [{'count': 7,\n              'is_favourable': True,\n              'label': 'No Risk'},\n             {'count': 2, 'is_favourable': False, 'label': 'Risk'}],\n            '[20, 21]': [{'count': 7,\n              'is_favourable': True,\n              'label': 'No Risk'},\n             {'count': 3, 'is_favourable': False, 'label': 'Risk'}],\n            '[21, 22]': [{'count': 4,\n              'is_favourable': True,\n              'label': 'No Risk'},\n             {'count': 2, 'is_favourable': False, 'label': 'Risk'}],\n            '[22, 23]': [{'count': 11,\n              'is_favourable': True,\n              'label': 'No Risk'},\n             {'count': 2, 'is_favourable': False, 'label': 'Risk'}],\n            '[23, 24]': [{'count': 13,\n              'is_favourable': True,\n              'label': 'No Risk'},\n             {'count': 1, 'is_favourable': False, 'label': 'Risk'}],\n            '[24, 25]': [{'count': 7,\n              'is_favourable': True,\n              'label': 'No Risk'},\n             {'count': 2, 'is_favourable': False, 'label': 'Risk'}]},\n           'distribution_ranges': {'[18, 19]': [18, 19],\n            '[19, 20]': [19, 20],\n            '[20, 21]': [20, 21],\n            '[21, 22]': [21, 22],\n            '[22, 23]': [22, 23],\n            '[23, 24]': [23, 24],\n            '[24, 25]': [24, 25]},\n           'fairness_value': 1.037,\n           'fav_class_percent': 85.0,\n           'is_biased': False,\n           'value': [18, 25]}]},\n        'records_evaluated': {'additional_records': 0,\n         'newest_timestamp': '2019-11-08T13:39:13.004Z',\n         'number_of_records': 100,\n         'oldest_timestamp': '2019-11-08T13:38:36.873Z',\n         'perturbed_records': 100}},\n       {'fairness_threshold': 0.98,\n        'feature': 'Sex',\n        'majority': {'total_fav_percent': 82.0,\n         'total_rows_percent': 50.0,\n         'values': [{'distribution': {'male': [{'count': 82,\n              'is_favourable': True,\n              'label': 'No Risk'},\n             {'count': 18, 'is_favourable': False, 'label': 'Risk'}]},\n           'fav_class_percent': 82.0,\n           'value': 'male'}]},\n        'minority': {'total_fav_percent': 83.0,\n         'total_rows_percent': 50.0,\n         'values': [{'distribution': {'female': [{'count': 83,\n              'is_favourable': True,\n              'label': 'No Risk'},\n             {'count': 17, 'is_favourable': False, 'label': 'Risk'}]},\n           'fairness_value': 1.012,\n           'fav_class_percent': 83.0,\n           'is_biased': False,\n           'value': 'female'}]},\n        'records_evaluated': {'additional_records': 0,\n         'newest_timestamp': '2019-11-08T13:39:13.004Z',\n         'number_of_records': 100,\n         'oldest_timestamp': '2019-11-08T13:38:36.873Z',\n         'perturbed_records': 100}}],\n      'perturbed_data_size': 200,\n      'response_time': '194.806215',\n      'rows_analyzed': 100,\n      'score_type': 'disparate impact'}},\n    {'issues': 1,\n     'metric_type': 'fairness',\n     'timestamp': '2019-11-08T13:42:27.761776Z',\n     'value': {'evaluated_at': '2019-11-08T13:42:43.009702Z',\n      'manual_labelling_store': 'Manual_Labeling_1a9d5c88-858b-4f6d-8677-a218f3bf921d',\n      'metrics': [{'bias_source': {'values': []},\n        'fairness_threshold': 0.98,\n        'feature': 'Age',\n        'majority': {'total_fav_percent': 79.0,\n         'total_rows_percent': 50.0,\n         'values': [{'distribution': {'[26, 27]': [{'count': 4,\n              'is_favourable': True,\n              'label': 'No Risk'}],\n            '[27, 28]': [{'count': 1,\n              'is_favourable': True,\n              'label': 'No Risk'}],\n            '[28, 29]': [{'count': 1,\n              'is_favourable': True,\n              'label': 'No Risk'}],\n            '[29, 30]': [{'count': 6,\n              'is_favourable': True,\n              'label': 'No Risk'}],\n            '[30, 31]': [{'count': 6,\n              'is_favourable': True,\n              'label': 'No Risk'}],\n            '[31, 32]': [{'count': 3,\n              'is_favourable': True,\n              'label': 'No Risk'}],\n            '[32, 33]': [{'count': 2,\n              'is_favourable': True,\n              'label': 'No Risk'}],\n            '[34, 35]': [{'count': 5,\n              'is_favourable': True,\n              'label': 'No Risk'}],\n            '[35, 36]': [{'count': 2,\n              'is_favourable': True,\n              'label': 'No Risk'}],\n            '[36, 37]': [{'count': 3,\n              'is_favourable': True,\n              'label': 'No Risk'}],\n            '[37, 38]': [{'count': 6,\n              'is_favourable': True,\n              'label': 'No Risk'},\n             {'count': 1, 'is_favourable': False, 'label': 'Risk'}],\n            '[38, 39]': [{'count': 4,\n              'is_favourable': True,\n              'label': 'No Risk'},\n             {'count': 1, 'is_favourable': False, 'label': 'Risk'}],\n            '[39, 40]': [{'count': 3,\n              'is_favourable': True,\n              'label': 'No Risk'},\n             {'count': 2, 'is_favourable': False, 'label': 'Risk'}],\n            '[40, 41]': [{'count': 5,\n              'is_favourable': True,\n              'label': 'No Risk'}],\n            '[41, 42]': [{'count': 1,\n              'is_favourable': True,\n              'label': 'No Risk'},\n             {'count': 2, 'is_favourable': False, 'label': 'Risk'}],\n            '[42, 43]': [{'count': 5,\n              'is_favourable': True,\n              'label': 'No Risk'}],\n            '[43, 44]': [{'count': 1,\n              'is_favourable': True,\n              'label': 'No Risk'},\n             {'count': 3, 'is_favourable': False, 'label': 'Risk'}],\n            '[44, 45]': [{'count': 1,\n              'is_favourable': True,\n              'label': 'No Risk'},\n             {'count': 1, 'is_favourable': False, 'label': 'Risk'}],\n            '[46, 47]': [{'count': 1,\n              'is_favourable': True,\n              'label': 'No Risk'},\n             {'count': 2, 'is_favourable': False, 'label': 'Risk'}],\n            '[47, 48]': [{'count': 1,\n              'is_favourable': True,\n              'label': 'No Risk'}],\n            '[48, 49]': [{'count': 1,\n              'is_favourable': True,\n              'label': 'No Risk'},\n             {'count': 2, 'is_favourable': False, 'label': 'Risk'}],\n            '[49, 50]': [{'count': 1,\n              'is_favourable': False,\n              'label': 'Risk'}],\n            '[50, 51]': [{'count': 1,\n              'is_favourable': True,\n              'label': 'No Risk'}],\n            '[51, 52]': [{'count': 1,\n              'is_favourable': False,\n              'label': 'Risk'}],\n            '[52, 53]': [{'count': 2,\n              'is_favourable': False,\n              'label': 'Risk'}],\n            '[54, 55]': [{'count': 1,\n              'is_favourable': False,\n              'label': 'Risk'}],\n            '[59, 60]': [{'count': 1,\n              'is_favourable': False,\n              'label': 'Risk'}],\n            '[62, 63]': [{'count': 1,\n              'is_favourable': False,\n              'label': 'Risk'}]},\n           'distribution_ranges': {'[26, 27]': [26, 27],\n            '[27, 28]': [27, 28],\n            '[28, 29]': [28, 29],\n            '[29, 30]': [29, 30],\n            '[30, 31]': [30, 31],\n            '[31, 32]': [31, 32],\n            '[32, 33]': [32, 33],\n            '[33, 34]': [33, 34],\n            '[34, 35]': [34, 35],\n            '[35, 36]': [35, 36],\n            '[36, 37]': [36, 37],\n            '[37, 38]': [37, 38],\n            '[38, 39]': [38, 39],\n            '[39, 40]': [39, 40],\n            '[40, 41]': [40, 41],\n            '[41, 42]': [41, 42],\n            '[42, 43]': [42, 43],\n            '[43, 44]': [43, 44],\n            '[44, 45]': [44, 45],\n            '[46, 47]': [46, 47],\n            '[47, 48]': [47, 48],\n            '[48, 49]': [48, 49],\n            '[49, 50]': [49, 50],\n            '[50, 51]': [50, 51],\n            '[51, 52]': [51, 52],\n            '[52, 53]': [52, 53],\n            '[54, 55]': [54, 55],\n            '[59, 60]': [59, 60],\n            '[62, 63]': [62, 63],\n            '[70, 71]': [70, 71],\n            '[72, 73]': [72, 73]},\n           'fav_class_percent': 79.0,\n           'payload_perturb_distribution': {'[26, 27]': [{'count': 4,\n              'is_favourable': True,\n              'label': 'No Risk'}],\n            '[27, 28]': [{'count': 1,\n              'is_favourable': True,\n              'label': 'No Risk'}],\n            '[28, 29]': [{'count': 1,\n              'is_favourable': True,\n              'label': 'No Risk'}],\n            '[29, 30]': [{'count': 6,\n              'is_favourable': True,\n              'label': 'No Risk'}],\n            '[30, 31]': [{'count': 6,\n              'is_favourable': True,\n              'label': 'No Risk'}],\n            '[31, 32]': [{'count': 3,\n              'is_favourable': True,\n              'label': 'No Risk'}],\n            '[32, 33]': [{'count': 2,\n              'is_favourable': True,\n              'label': 'No Risk'}],\n            '[33, 34]': [{'count': 1,\n              'is_favourable': True,\n              'label': 'No Risk'}],\n            '[34, 35]': [{'count': 5,\n              'is_favourable': True,\n              'label': 'No Risk'}],\n            '[35, 36]': [{'count': 5,\n              'is_favourable': True,\n              'label': 'No Risk'}],\n            '[36, 37]': [{'count': 3,\n              'is_favourable': True,\n              'label': 'No Risk'}],\n            '[37, 38]': [{'count': 6,\n              'is_favourable': True,\n              'label': 'No Risk'},\n             {'count': 1, 'is_favourable': False, 'label': 'Risk'}],\n            '[38, 39]': [{'count': 4,\n              'is_favourable': True,\n              'label': 'No Risk'},\n             {'count': 1, 'is_favourable': False, 'label': 'Risk'}],\n            '[39, 40]': [{'count': 3,\n              'is_favourable': True,\n              'label': 'No Risk'},\n             {'count': 2, 'is_favourable': False, 'label': 'Risk'}],\n            '[40, 41]': [{'count': 5,\n              'is_favourable': True,\n              'label': 'No Risk'}],\n            '[41, 42]': [{'count': 1,\n              'is_favourable': True,\n              'label': 'No Risk'},\n             {'count': 2, 'is_favourable': False, 'label': 'Risk'}],\n            '[42, 43]': [{'count': 5,\n              'is_favourable': True,\n              'label': 'No Risk'}],\n            '[43, 44]': [{'count': 1,\n              'is_favourable': True,\n              'label': 'No Risk'},\n             {'count': 3, 'is_favourable': False, 'label': 'Risk'}],\n            '[44, 45]': [{'count': 1,\n              'is_favourable': True,\n              'label': 'No Risk'},\n             {'count': 1, 'is_favourable': False, 'label': 'Risk'}],\n            '[46, 47]': [{'count': 1,\n              'is_favourable': True,\n              'label': 'No Risk'},\n             {'count': 2, 'is_favourable': False, 'label': 'Risk'}],\n            '[47, 48]': [{'count': 1,\n              'is_favourable': True,\n              'label': 'No Risk'}],\n            '[48, 49]': [{'count': 1,\n              'is_favourable': True,\n              'label': 'No Risk'},\n             {'count': 2, 'is_favourable': False, 'label': 'Risk'}],\n            '[49, 50]': [{'count': 2,\n              'is_favourable': True,\n              'label': 'No Risk'},\n             {'count': 1, 'is_favourable': False, 'label': 'Risk'}],\n            '[50, 51]': [{'count': 1,\n              'is_favourable': True,\n              'label': 'No Risk'}],\n            '[51, 52]': [{'count': 1,\n              'is_favourable': False,\n              'label': 'Risk'}],\n            '[52, 53]': [{'count': 2,\n              'is_favourable': False,\n              'label': 'Risk'}],\n            '[54, 55]': [{'count': 1,\n              'is_favourable': False,\n              'label': 'Risk'}],\n            '[59, 60]': [{'count': 1,\n              'is_favourable': False,\n              'label': 'Risk'}],\n            '[62, 63]': [{'count': 1,\n              'is_favourable': False,\n              'label': 'Risk'}],\n            '[70, 71]': [{'count': 2,\n              'is_favourable': True,\n              'label': 'No Risk'}],\n            '[72, 73]': [{'count': 8,\n              'is_favourable': True,\n              'label': 'No Risk'}]},\n           'value': [26, 75]}]},\n        'minority': {'total_fav_percent': 85.0,\n         'total_rows_percent': 50.0,\n         'values': [{'distribution': {'[18, 19]': [{'count': 7,\n              'is_favourable': True,\n              'label': 'No Risk'}],\n            '[19, 20]': [{'count': 3,\n              'is_favourable': True,\n              'label': 'No Risk'}],\n            '[20, 21]': [{'count': 1,\n              'is_favourable': True,\n              'label': 'No Risk'}],\n            '[22, 23]': [{'count': 2,\n              'is_favourable': True,\n              'label': 'No Risk'}],\n            '[23, 24]': [{'count': 2,\n              'is_favourable': True,\n              'label': 'No Risk'}],\n            '[24, 25]': [{'count': 1,\n              'is_favourable': True,\n              'label': 'No Risk'}]},\n           'distribution_ranges': {'[18, 19]': [18, 19],\n            '[19, 20]': [19, 20],\n            '[20, 21]': [20, 21],\n            '[21, 22]': [21, 22],\n            '[22, 23]': [22, 23],\n            '[23, 24]': [23, 24],\n            '[24, 25]': [24, 25]},\n           'fairness_value': 1.076,\n           'fav_class_percent': 85.0,\n           'is_biased': False,\n           'payload_perturb_distribution': {'[18, 19]': [{'count': 33,\n              'is_favourable': True,\n              'label': 'No Risk'},\n             {'count': 2, 'is_favourable': False, 'label': 'Risk'}],\n            '[19, 20]': [{'count': 7,\n              'is_favourable': True,\n              'label': 'No Risk'},\n             {'count': 1, 'is_favourable': False, 'label': 'Risk'}],\n            '[20, 21]': [{'count': 7,\n              'is_favourable': True,\n              'label': 'No Risk'},\n             {'count': 2, 'is_favourable': False, 'label': 'Risk'}],\n            '[21, 22]': [{'count': 4,\n              'is_favourable': True,\n              'label': 'No Risk'},\n             {'count': 2, 'is_favourable': False, 'label': 'Risk'}],\n            '[22, 23]': [{'count': 11,\n              'is_favourable': True,\n              'label': 'No Risk'},\n             {'count': 2, 'is_favourable': False, 'label': 'Risk'}],\n            '[23, 24]': [{'count': 15,\n              'is_favourable': True,\n              'label': 'No Risk'},\n             {'count': 2, 'is_favourable': False, 'label': 'Risk'}],\n            '[24, 25]': [{'count': 8,\n              'is_favourable': True,\n              'label': 'No Risk'},\n             {'count': 4, 'is_favourable': False, 'label': 'Risk'}]},\n           'value': [18, 25]}]},\n        'records_evaluated': {'additional_records': 0,\n         'newest_timestamp': '2019-11-08T13:39:13.004Z',\n         'number_of_records': 100,\n         'oldest_timestamp': '2019-11-08T13:38:36.873Z',\n         'perturbed_records': 100}},\n       {'fairness_threshold': 0.98,\n        'feature': 'Sex',\n        'majority': {'total_fav_percent': 80.0,\n         'total_rows_percent': 50.0,\n         'values': [{'distribution': {'male': [{'count': 51,\n              'is_favourable': True,\n              'label': 'No Risk'},\n             {'count': 15, 'is_favourable': False, 'label': 'Risk'}]},\n           'fav_class_percent': 80.0,\n           'payload_perturb_distribution': {'male': [{'count': 80,\n              'is_favourable': True,\n              'label': 'No Risk'},\n             {'count': 20, 'is_favourable': False, 'label': 'Risk'}]},\n           'value': 'male'}]},\n        'minority': {'total_fav_percent': 72.0,\n         'total_rows_percent': 50.0,\n         'values': [{'distribution': {'female': [{'count': 28,\n              'is_favourable': True,\n              'label': 'No Risk'},\n             {'count': 6, 'is_favourable': False, 'label': 'Risk'}]},\n           'fairness_value': 0.9,\n           'fav_class_percent': 72.0,\n           'is_biased': True,\n           'payload_perturb_distribution': {'female': [{'count': 72,\n              'is_favourable': True,\n              'label': 'No Risk'},\n             {'count': 28, 'is_favourable': False, 'label': 'Risk'}]},\n           'value': 'female'}]},\n        'records_evaluated': {'additional_records': 0,\n         'newest_timestamp': '2019-11-08T13:39:13.004Z',\n         'number_of_records': 100,\n         'oldest_timestamp': '2019-11-08T13:38:36.873Z',\n         'perturbed_records': 100}}],\n      'perturbed_data_size': 200,\n      'response_time': '21.284545',\n      'rows_analyzed': 100,\n      'score_type': 'disparate impact'}},\n    {'issues': 1,\n     'metric_type': 'quality',\n     'timestamp': '2019-11-08T13:42:25.030Z',\n     'value': {'metrics': [{'name': 'true_positive_rate',\n        'value': 0.5555555555555556},\n       {'name': 'area_under_roc', 'value': 0.7455197132616488},\n       {'name': 'precision', 'value': 0.8333333333333334},\n       {'name': 'f1_measure', 'value': 0.6666666666666667},\n       {'name': 'accuracy', 'value': 0.7959183673469388},\n       {'name': 'log_loss', 'value': 0.5465036375037408},\n       {'name': 'false_positive_rate', 'value': 0.06451612903225806},\n       {'name': 'area_under_pr', 'value': 0.7297808012093727},\n       {'name': 'recall', 'value': 0.5555555555555556}],\n      'quality': 0.7455197132616488,\n      'threshold': 0.95}},\n    {'issues': 1,\n     'metric_type': 'drift',\n     'timestamp': '2019-11-08T13:42:43.965428Z',\n     'value': {'metrics': [{'name': 'data_drift_magnitude', 'value': 0.05},\n       {'threshold': 0.05,\n        'name': 'drift_magnitude',\n        'value': 0.062000000000000055},\n       {'name': 'predicted_accuracy', 'value': 0.738}]}}],\n   'subscription': {'subscription_id': '1a9d5c88-858b-4f6d-8677-a218f3bf921d',\n    'url': '/v1/data_marts/00000000-0000-0000-0000-000000000000/service_bindings/999/subscriptions/1a9d5c88-858b-4f6d-8677-a218f3bf921d'}},\n  {'asset': {'asset_id': '2ab5138e-d8ba-4b41-bf99-c995d0ad0295',\n    'asset_type': 'model',\n    'created_at': '2019-11-08T12:06:15.002Z',\n    'name': 'Spark German Risk Model - Final',\n    'url': 'https://ibm-nginx-svc.namespace1.svc.cluster.local/v4/models/2ab5138e-d8ba-4b41-bf99-c995d0ad0295?space_id=aac7c473-90a5-40af-b7a6-7d5c2c776754'},\n   'deployment': {'created_at': '2019-11-08T12:08:29.809Z',\n    'deployment_id': '0d078a3f-ba3a-4029-a309-632c43654bba',\n    'deployment_rn': '',\n    'deployment_type': 'online',\n    'name': 'Spark German Risk Deployment - Final',\n    'scoring_endpoint': {'request_headers': {'Content-Type': 'application/json'},\n     'url': 'https://ibm-nginx-svc.namespace1.svc.cluster.local/v4/deployments/0d078a3f-ba3a-4029-a309-632c43654bba/predictions'},\n    'url': 'https://ibm-nginx-svc.namespace1.svc.cluster.local/v4/deployments/0d078a3f-ba3a-4029-a309-632c43654bba'},\n   'metrics': [{'issues': 1,\n     'metric_type': 'quality',\n     'timestamp': '2019-11-08T14:25:07.840Z',\n     'value': {'metrics': [{'name': 'true_positive_rate',\n        'value': 0.3333333333333333},\n       {'name': 'area_under_roc', 'value': 0.6282051282051282},\n       {'name': 'precision', 'value': 0.6875},\n       {'name': 'f1_measure', 'value': 0.4489795918367347},\n       {'name': 'accuracy', 'value': 0.7244897959183674},\n       {'name': 'log_loss', 'value': 0.43998295331905485},\n       {'name': 'false_positive_rate', 'value': 0.07692307692307693},\n       {'name': 'area_under_pr', 'value': 0.5705782312925171},\n       {'name': 'recall', 'value': 0.3333333333333333}],\n      'quality': 0.6282051282051282,\n      'threshold': 0.7}}],\n   'subscription': {'subscription_id': 'fbce8514-a702-41da-a1cc-6aa151e2e480',\n    'url': '/v1/data_marts/00000000-0000-0000-0000-000000000000/service_bindings/999/subscriptions/fbce8514-a702-41da-a1cc-6aa151e2e480'}}]}"
                    },
                    "execution_count": 124,
                    "metadata": {},
                    "output_type": "execute_result"
                }
            ],
            "source": "ai_client.data_mart.get_deployment_metrics()"
        },
        {
            "cell_type": "markdown",
            "metadata": {},
            "source": "# Fairness, drift monitoring and explanations \n <a name=\"fairness\"></a>"
        },
        {
            "cell_type": "markdown",
            "metadata": {},
            "source": "The code below configures fairness monitoring for our model. It turns on monitoring for two features, Sex and Age. In each case, we must specify:\n  * Which model feature to monitor\n  * One or more **majority** groups, which are values of that feature that we expect to receive a higher percentage of favorable outcomes\n  * One or more **minority** groups, which are values of that feature that we expect to receive a higher percentage of unfavorable outcomes\n  * The threshold at which we would like OpenScale to display an alert if the fairness measurement falls below (in this case, 95%)\n\nAdditionally, we must specify which outcomes from the model are favourable outcomes, and which are unfavourable. We must also provide the number of records OpenScale will use to calculate the fairness score. In this case, OpenScale's fairness monitor will run hourly, but will not calculate a new fairness rating until at least 200 records have been added. Finally, to calculate fairness, OpenScale must perform some calculations on the training data, so we provide the dataframe containing the data."
        },
        {
            "cell_type": "code",
            "execution_count": 125,
            "metadata": {
                "scrolled": true
            },
            "outputs": [],
            "source": "subscription.fairness_monitoring.enable(\n            features=[\n                Feature(\"Sex\", majority=['male'], minority=['female'], threshold=0.95),\n                Feature(\"Age\", majority=[[26,75]], minority=[[18,25]], threshold=0.95)\n            ],\n            favourable_classes=['No Risk'],\n            unfavourable_classes=['Risk'],\n            min_records=200,\n            training_data=pd_data\n        )"
        },
        {
            "cell_type": "markdown",
            "metadata": {},
            "source": "## Drift configuration"
        },
        {
            "cell_type": "code",
            "execution_count": 127,
            "metadata": {},
            "outputs": [
                {
                    "name": "stdout",
                    "output_type": "stream",
                    "text": "finished\n"
                }
            ],
            "source": "subscription.drift_monitoring.enable(min_records=100, threshold=0.1)\n\ndrift_status = None\nwhile drift_status != 'finished':\n    drift_details = subscription.drift_monitoring.get_details()\n    drift_status = drift_details['parameters']['config_status']['state']\n    if drift_status != 'finished':\n        print(datetime.datetime.utcnow().strftime('%H:%M:%S'), drift_status)\n        time.sleep(30)\nprint(drift_status)\n\n"
        },
        {
            "cell_type": "code",
            "execution_count": 128,
            "metadata": {},
            "outputs": [
                {
                    "data": {
                        "text/plain": "{'entity': {'asset': {'asset_id': '2ab5138e-d8ba-4b41-bf99-c995d0ad0295',\n   'asset_type': 'model',\n   'created_at': '2019-11-08T12:06:15.002Z',\n   'name': 'Spark German Risk Model - Final',\n   'url': 'https://ibm-nginx-svc.namespace1.svc.cluster.local/v4/models/2ab5138e-d8ba-4b41-bf99-c995d0ad0295?space_id=aac7c473-90a5-40af-b7a6-7d5c2c776754'},\n  'asset_properties': {'categorical_fields': ['CheckingStatus',\n    'CreditHistory',\n    'LoanPurpose',\n    'ExistingSavings',\n    'EmploymentDuration',\n    'Sex',\n    'OthersOnLoan',\n    'OwnsProperty',\n    'InstallmentPlans',\n    'Housing',\n    'Job',\n    'Telephone',\n    'ForeignWorker'],\n   'feature_fields': ['CheckingStatus',\n    'LoanDuration',\n    'CreditHistory',\n    'LoanPurpose',\n    'LoanAmount',\n    'ExistingSavings',\n    'EmploymentDuration',\n    'InstallmentPercent',\n    'Sex',\n    'OthersOnLoan',\n    'CurrentResidenceDuration',\n    'OwnsProperty',\n    'Age',\n    'InstallmentPlans',\n    'Housing',\n    'ExistingCreditsCount',\n    'Job',\n    'Dependents',\n    'Telephone',\n    'ForeignWorker'],\n   'input_data_schema': {'fields': [{'metadata': {'measure': 'discrete',\n       'modeling_role': 'feature'},\n      'name': 'CheckingStatus',\n      'nullable': True,\n      'type': 'string'},\n     {'metadata': {'modeling_role': 'feature'},\n      'name': 'LoanDuration',\n      'nullable': True,\n      'type': 'integer'},\n     {'metadata': {'measure': 'discrete', 'modeling_role': 'feature'},\n      'name': 'CreditHistory',\n      'nullable': True,\n      'type': 'string'},\n     {'metadata': {'measure': 'discrete', 'modeling_role': 'feature'},\n      'name': 'LoanPurpose',\n      'nullable': True,\n      'type': 'string'},\n     {'metadata': {'modeling_role': 'feature'},\n      'name': 'LoanAmount',\n      'nullable': True,\n      'type': 'integer'},\n     {'metadata': {'measure': 'discrete', 'modeling_role': 'feature'},\n      'name': 'ExistingSavings',\n      'nullable': True,\n      'type': 'string'},\n     {'metadata': {'measure': 'discrete', 'modeling_role': 'feature'},\n      'name': 'EmploymentDuration',\n      'nullable': True,\n      'type': 'string'},\n     {'metadata': {'modeling_role': 'feature'},\n      'name': 'InstallmentPercent',\n      'nullable': True,\n      'type': 'integer'},\n     {'metadata': {'measure': 'discrete', 'modeling_role': 'feature'},\n      'name': 'Sex',\n      'nullable': True,\n      'type': 'string'},\n     {'metadata': {'measure': 'discrete', 'modeling_role': 'feature'},\n      'name': 'OthersOnLoan',\n      'nullable': True,\n      'type': 'string'},\n     {'metadata': {'modeling_role': 'feature'},\n      'name': 'CurrentResidenceDuration',\n      'nullable': True,\n      'type': 'integer'},\n     {'metadata': {'measure': 'discrete', 'modeling_role': 'feature'},\n      'name': 'OwnsProperty',\n      'nullable': True,\n      'type': 'string'},\n     {'metadata': {'modeling_role': 'feature'},\n      'name': 'Age',\n      'nullable': True,\n      'type': 'integer'},\n     {'metadata': {'measure': 'discrete', 'modeling_role': 'feature'},\n      'name': 'InstallmentPlans',\n      'nullable': True,\n      'type': 'string'},\n     {'metadata': {'measure': 'discrete', 'modeling_role': 'feature'},\n      'name': 'Housing',\n      'nullable': True,\n      'type': 'string'},\n     {'metadata': {'modeling_role': 'feature'},\n      'name': 'ExistingCreditsCount',\n      'nullable': True,\n      'type': 'integer'},\n     {'metadata': {'measure': 'discrete', 'modeling_role': 'feature'},\n      'name': 'Job',\n      'nullable': True,\n      'type': 'string'},\n     {'metadata': {'modeling_role': 'feature'},\n      'name': 'Dependents',\n      'nullable': True,\n      'type': 'integer'},\n     {'metadata': {'measure': 'discrete', 'modeling_role': 'feature'},\n      'name': 'Telephone',\n      'nullable': True,\n      'type': 'string'},\n     {'metadata': {'measure': 'discrete', 'modeling_role': 'feature'},\n      'name': 'ForeignWorker',\n      'nullable': True,\n      'type': 'string'}],\n    'id': '1',\n    'type': 'struct'},\n   'input_data_type': 'structured',\n   'label_column': 'Risk',\n   'model_type': 'mllib_2.3',\n   'output_data_schema': {'fields': [{'metadata': {'columnInfo': {'columnLength': 64},\n       'measure': 'discrete',\n       'modeling_role': 'feature'},\n      'name': 'CheckingStatus',\n      'nullable': True,\n      'type': 'string'},\n     {'metadata': {'modeling_role': 'feature'},\n      'name': 'LoanDuration',\n      'nullable': True,\n      'type': 'integer'},\n     {'metadata': {'columnInfo': {'columnLength': 64},\n       'measure': 'discrete',\n       'modeling_role': 'feature'},\n      'name': 'CreditHistory',\n      'nullable': True,\n      'type': 'string'},\n     {'metadata': {'columnInfo': {'columnLength': 64},\n       'measure': 'discrete',\n       'modeling_role': 'feature'},\n      'name': 'LoanPurpose',\n      'nullable': True,\n      'type': 'string'},\n     {'metadata': {'modeling_role': 'feature'},\n      'name': 'LoanAmount',\n      'nullable': True,\n      'type': 'integer'},\n     {'metadata': {'columnInfo': {'columnLength': 64},\n       'measure': 'discrete',\n       'modeling_role': 'feature'},\n      'name': 'ExistingSavings',\n      'nullable': True,\n      'type': 'string'},\n     {'metadata': {'columnInfo': {'columnLength': 64},\n       'measure': 'discrete',\n       'modeling_role': 'feature'},\n      'name': 'EmploymentDuration',\n      'nullable': True,\n      'type': 'string'},\n     {'metadata': {'modeling_role': 'feature'},\n      'name': 'InstallmentPercent',\n      'nullable': True,\n      'type': 'integer'},\n     {'metadata': {'columnInfo': {'columnLength': 64},\n       'measure': 'discrete',\n       'modeling_role': 'feature'},\n      'name': 'Sex',\n      'nullable': True,\n      'type': 'string'},\n     {'metadata': {'columnInfo': {'columnLength': 64},\n       'measure': 'discrete',\n       'modeling_role': 'feature'},\n      'name': 'OthersOnLoan',\n      'nullable': True,\n      'type': 'string'},\n     {'metadata': {'modeling_role': 'feature'},\n      'name': 'CurrentResidenceDuration',\n      'nullable': True,\n      'type': 'integer'},\n     {'metadata': {'columnInfo': {'columnLength': 64},\n       'measure': 'discrete',\n       'modeling_role': 'feature'},\n      'name': 'OwnsProperty',\n      'nullable': True,\n      'type': 'string'},\n     {'metadata': {'modeling_role': 'feature'},\n      'name': 'Age',\n      'nullable': True,\n      'type': 'integer'},\n     {'metadata': {'columnInfo': {'columnLength': 64},\n       'measure': 'discrete',\n       'modeling_role': 'feature'},\n      'name': 'InstallmentPlans',\n      'nullable': True,\n      'type': 'string'},\n     {'metadata': {'columnInfo': {'columnLength': 64},\n       'measure': 'discrete',\n       'modeling_role': 'feature'},\n      'name': 'Housing',\n      'nullable': True,\n      'type': 'string'},\n     {'metadata': {'modeling_role': 'feature'},\n      'name': 'ExistingCreditsCount',\n      'nullable': True,\n      'type': 'integer'},\n     {'metadata': {'columnInfo': {'columnLength': 64},\n       'measure': 'discrete',\n       'modeling_role': 'feature'},\n      'name': 'Job',\n      'nullable': True,\n      'type': 'string'},\n     {'metadata': {'modeling_role': 'feature'},\n      'name': 'Dependents',\n      'nullable': True,\n      'type': 'integer'},\n     {'metadata': {'columnInfo': {'columnLength': 64},\n       'measure': 'discrete',\n       'modeling_role': 'feature'},\n      'name': 'Telephone',\n      'nullable': True,\n      'type': 'string'},\n     {'metadata': {'columnInfo': {'columnLength': 64},\n       'measure': 'discrete',\n       'modeling_role': 'feature'},\n      'name': 'ForeignWorker',\n      'nullable': True,\n      'type': 'string'},\n     {'metadata': {},\n      'name': 'CheckingStatus_IX',\n      'nullable': True,\n      'type': 'double'},\n     {'metadata': {},\n      'name': 'CreditHistory_IX',\n      'nullable': True,\n      'type': 'double'},\n     {'metadata': {},\n      'name': 'EmploymentDuration_IX',\n      'nullable': True,\n      'type': 'double'},\n     {'metadata': {},\n      'name': 'ExistingSavings_IX',\n      'nullable': True,\n      'type': 'double'},\n     {'metadata': {},\n      'name': 'ForeignWorker_IX',\n      'nullable': True,\n      'type': 'double'},\n     {'metadata': {},\n      'name': 'Housing_IX',\n      'nullable': True,\n      'type': 'double'},\n     {'metadata': {},\n      'name': 'InstallmentPlans_IX',\n      'nullable': True,\n      'type': 'double'},\n     {'metadata': {}, 'name': 'Job_IX', 'nullable': True, 'type': 'double'},\n     {'metadata': {},\n      'name': 'LoanPurpose_IX',\n      'nullable': True,\n      'type': 'double'},\n     {'metadata': {},\n      'name': 'OthersOnLoan_IX',\n      'nullable': True,\n      'type': 'double'},\n     {'metadata': {},\n      'name': 'OwnsProperty_IX',\n      'nullable': True,\n      'type': 'double'},\n     {'metadata': {}, 'name': 'Sex_IX', 'nullable': True, 'type': 'double'},\n     {'metadata': {},\n      'name': 'Telephone_IX',\n      'nullable': True,\n      'type': 'double'},\n     {'metadata': {},\n      'name': 'features',\n      'nullable': True,\n      'type': {'containsNull': True,\n       'elementType': 'double',\n       'type': 'array'}},\n     {'metadata': {},\n      'name': 'rawPrediction',\n      'nullable': True,\n      'type': {'containsNull': True,\n       'elementType': 'double',\n       'type': 'array'}},\n     {'metadata': {'modeling_role': 'probability'},\n      'name': 'probability',\n      'nullable': True,\n      'type': {'containsNull': True,\n       'elementType': 'double',\n       'type': 'array'}},\n     {'metadata': {},\n      'name': 'prediction',\n      'nullable': True,\n      'type': 'double'},\n     {'metadata': {'columnInfo': {'columnLength': 64},\n       'modeling_role': 'prediction'},\n      'name': 'predictedLabel',\n      'nullable': True,\n      'type': 'string'},\n     {'metadata': {'modeling_role': 'prediction-probability'},\n      'name': 'prediction_probability',\n      'nullable': True,\n      'type': 'double'}],\n    'type': 'struct'},\n   'prediction_field': 'predictedLabel',\n   'probability_fields': ['probability'],\n   'problem_type': 'binary',\n   'runtime_environment': '/v4/runtimes/spark-mllib_2.3',\n   'training_data_reference': {'connection': {'connection_string': 'jdbc:db2://dashdb-entry-yp-dal09-10.services.dal.bluemix.net:50001/BLUDB:sslConnection=true;retrieveMessagesFromServerOnGetMessage=true;',\n     'database_name': 'BLUDB',\n     'hostname': 'dashdb-entry-yp-dal09-10.services.dal.bluemix.net',\n     'password': '89TsmoAN_Sb_',\n     'port': 50001,\n     'ssl': True,\n     'username': 'dash14647'},\n    'location': {'schema_name': 'DASH14647',\n     'table_name': 'CREDIT_RISK_TRAINING'},\n    'name': 'Credit Risk feedback',\n    'type': 'db2'},\n   'training_data_schema': {'fields': [{'metadata': {'measure': 'discrete',\n       'modeling_role': 'feature'},\n      'name': 'CheckingStatus',\n      'nullable': True,\n      'type': 'string'},\n     {'metadata': {'modeling_role': 'feature'},\n      'name': 'LoanDuration',\n      'nullable': True,\n      'type': 'integer'},\n     {'metadata': {'measure': 'discrete', 'modeling_role': 'feature'},\n      'name': 'CreditHistory',\n      'nullable': True,\n      'type': 'string'},\n     {'metadata': {'measure': 'discrete', 'modeling_role': 'feature'},\n      'name': 'LoanPurpose',\n      'nullable': True,\n      'type': 'string'},\n     {'metadata': {'modeling_role': 'feature'},\n      'name': 'LoanAmount',\n      'nullable': True,\n      'type': 'integer'},\n     {'metadata': {'measure': 'discrete', 'modeling_role': 'feature'},\n      'name': 'ExistingSavings',\n      'nullable': True,\n      'type': 'string'},\n     {'metadata': {'measure': 'discrete', 'modeling_role': 'feature'},\n      'name': 'EmploymentDuration',\n      'nullable': True,\n      'type': 'string'},\n     {'metadata': {'modeling_role': 'feature'},\n      'name': 'InstallmentPercent',\n      'nullable': True,\n      'type': 'integer'},\n     {'metadata': {'measure': 'discrete', 'modeling_role': 'feature'},\n      'name': 'Sex',\n      'nullable': True,\n      'type': 'string'},\n     {'metadata': {'measure': 'discrete', 'modeling_role': 'feature'},\n      'name': 'OthersOnLoan',\n      'nullable': True,\n      'type': 'string'},\n     {'metadata': {'modeling_role': 'feature'},\n      'name': 'CurrentResidenceDuration',\n      'nullable': True,\n      'type': 'integer'},\n     {'metadata': {'measure': 'discrete', 'modeling_role': 'feature'},\n      'name': 'OwnsProperty',\n      'nullable': True,\n      'type': 'string'},\n     {'metadata': {'modeling_role': 'feature'},\n      'name': 'Age',\n      'nullable': True,\n      'type': 'integer'},\n     {'metadata': {'measure': 'discrete', 'modeling_role': 'feature'},\n      'name': 'InstallmentPlans',\n      'nullable': True,\n      'type': 'string'},\n     {'metadata': {'measure': 'discrete', 'modeling_role': 'feature'},\n      'name': 'Housing',\n      'nullable': True,\n      'type': 'string'},\n     {'metadata': {'modeling_role': 'feature'},\n      'name': 'ExistingCreditsCount',\n      'nullable': True,\n      'type': 'integer'},\n     {'metadata': {'measure': 'discrete', 'modeling_role': 'feature'},\n      'name': 'Job',\n      'nullable': True,\n      'type': 'string'},\n     {'metadata': {'modeling_role': 'feature'},\n      'name': 'Dependents',\n      'nullable': True,\n      'type': 'integer'},\n     {'metadata': {'measure': 'discrete', 'modeling_role': 'feature'},\n      'name': 'Telephone',\n      'nullable': True,\n      'type': 'string'},\n     {'metadata': {'measure': 'discrete', 'modeling_role': 'feature'},\n      'name': 'ForeignWorker',\n      'nullable': True,\n      'type': 'string'},\n     {'metadata': {'modeling_role': 'target'},\n      'name': 'Risk',\n      'nullable': True,\n      'type': 'string'}],\n    'id': '1',\n    'type': 'struct'}},\n  'configurations': [{'enabled': True,\n    'monitor_definition_id': 'payload_logging',\n    'type': 'payload_logging',\n    'url': '/v1/data_marts/00000000-0000-0000-0000-000000000000/service_bindings/999/subscriptions/fbce8514-a702-41da-a1cc-6aa151e2e480/configurations/payload_logging'},\n   {'enabled': False,\n    'monitor_definition_id': 'explainability',\n    'type': 'explainability',\n    'url': '/v1/data_marts/00000000-0000-0000-0000-000000000000/service_bindings/999/subscriptions/fbce8514-a702-41da-a1cc-6aa151e2e480/configurations/explainability'},\n   {'enabled': True,\n    'monitor_definition_id': 'performance_monitoring',\n    'type': 'performance_monitoring',\n    'url': '/v1/data_marts/00000000-0000-0000-0000-000000000000/service_bindings/999/subscriptions/fbce8514-a702-41da-a1cc-6aa151e2e480/configurations/performance_monitoring'},\n   {'enabled': True,\n    'monitor_definition_id': 'fairness_monitoring',\n    'type': 'fairness_monitoring',\n    'url': '/v1/data_marts/00000000-0000-0000-0000-000000000000/service_bindings/999/subscriptions/fbce8514-a702-41da-a1cc-6aa151e2e480/configurations/fairness_monitoring'},\n   {'enabled': False,\n    'monitor_definition_id': 'fairness',\n    'type': 'fairness',\n    'url': '/v1/data_marts/00000000-0000-0000-0000-000000000000/service_bindings/999/subscriptions/fbce8514-a702-41da-a1cc-6aa151e2e480/configurations/fairness'},\n   {'enabled': False,\n    'monitor_definition_id': 'mrm',\n    'type': 'mrm',\n    'url': '/v1/data_marts/00000000-0000-0000-0000-000000000000/service_bindings/999/subscriptions/fbce8514-a702-41da-a1cc-6aa151e2e480/configurations/mrm'},\n   {'enabled': False,\n    'monitor_definition_id': 'model_output',\n    'type': 'model_output',\n    'url': '/v1/data_marts/00000000-0000-0000-0000-000000000000/service_bindings/999/subscriptions/fbce8514-a702-41da-a1cc-6aa151e2e480/configurations/model_output'},\n   {'enabled': False,\n    'monitor_definition_id': 'correlations',\n    'type': 'correlations',\n    'url': '/v1/data_marts/00000000-0000-0000-0000-000000000000/service_bindings/999/subscriptions/fbce8514-a702-41da-a1cc-6aa151e2e480/configurations/correlations'},\n   {'enabled': True,\n    'monitor_definition_id': 'quality',\n    'type': 'quality_monitoring',\n    'url': '/v1/data_marts/00000000-0000-0000-0000-000000000000/service_bindings/999/subscriptions/fbce8514-a702-41da-a1cc-6aa151e2e480/configurations/quality'},\n   {'enabled': True,\n    'monitor_definition_id': 'drift',\n    'type': 'drift',\n    'url': '/v1/data_marts/00000000-0000-0000-0000-000000000000/service_bindings/999/subscriptions/fbce8514-a702-41da-a1cc-6aa151e2e480/configurations/drift'},\n   {'enabled': False,\n    'monitor_definition_id': 'a3543c83-4fa2-4a7d-8780-17532b5e7da5',\n    'type': 'a3543c83-4fa2-4a7d-8780-17532b5e7da5',\n    'url': '/v1/data_marts/00000000-0000-0000-0000-000000000000/service_bindings/999/subscriptions/fbce8514-a702-41da-a1cc-6aa151e2e480/configurations/a3543c83-4fa2-4a7d-8780-17532b5e7da5'}],\n  'deployments': [{'created_at': '2019-11-08T12:08:29.809Z',\n    'deployment_id': '0d078a3f-ba3a-4029-a309-632c43654bba',\n    'deployment_rn': '',\n    'deployment_type': 'online',\n    'name': 'Spark German Risk Deployment - Final',\n    'scoring_endpoint': {'request_headers': {'Content-Type': 'application/json'},\n     'url': 'https://ibm-nginx-svc.namespace1.svc.cluster.local/v4/deployments/0d078a3f-ba3a-4029-a309-632c43654bba/predictions'},\n    'url': 'https://ibm-nginx-svc.namespace1.svc.cluster.local/v4/deployments/0d078a3f-ba3a-4029-a309-632c43654bba'}],\n  'service_binding_id': '999',\n  'status': {'state': 'active'}},\n 'metadata': {'guid': 'fbce8514-a702-41da-a1cc-6aa151e2e480',\n  'url': '/v1/data_marts/00000000-0000-0000-0000-000000000000/service_bindings/999/subscriptions/fbce8514-a702-41da-a1cc-6aa151e2e480',\n  'created_at': '2019-11-08T14:24:30.871Z',\n  'modified_at': '2019-11-08T14:24:45.576Z'}}"
                    },
                    "execution_count": 128,
                    "metadata": {},
                    "output_type": "execute_result"
                }
            ],
            "source": "subscription.get_details()"
        },
        {
            "cell_type": "markdown",
            "metadata": {},
            "source": "## Score the model again now that monitoring is configured"
        },
        {
            "cell_type": "markdown",
            "metadata": {},
            "source": "This next section randomly selects 200 records from the data feed and sends those records to the model for predictions. This is enough to exceed the minimum threshold for records set in the previous section, which allows OpenScale to begin calculating fairness."
        },
        {
            "cell_type": "code",
            "execution_count": 129,
            "metadata": {},
            "outputs": [
                {
                    "name": "stdout",
                    "output_type": "stream",
                    "text": "Warning: Failed to set locale category LC_NUMERIC to en_PL.\nWarning: Failed to set locale category LC_TIME to en_PL.\nWarning: Failed to set locale category LC_COLLATE to en_PL.\nWarning: Failed to set locale category LC_MONETARY to en_PL.\nWarning: Failed to set locale category LC_MESSAGES to en_PL.\n--2019-11-08 15:34:53--  https://raw.githubusercontent.com/pmservice/ai-openscale-tutorials/master/assets/historical_data/german_credit_risk/wml/german_credit_feed.json\nResolving raw.githubusercontent.com (raw.githubusercontent.com)... 199.232.36.133\nConnecting to raw.githubusercontent.com (raw.githubusercontent.com)|199.232.36.133|:443... connected.\nHTTP request sent, awaiting response... 200 OK\nLength: 3076279 (2.9M) [text/plain]\nSaving to: \u2018german_credit_feed.json\u2019\n\ngerman_credit_feed. 100%[===================>]   2.93M  1.04MB/s    in 2.8s    \n\n2019-11-08 15:34:57 (1.04 MB/s) - \u2018german_credit_feed.json\u2019 saved [3076279/3076279]\n\n"
                }
            ],
            "source": "!rm german_credit_feed.json\n!wget https://raw.githubusercontent.com/pmservice/ai-openscale-tutorials/master/assets/historical_data/german_credit_risk/wml/german_credit_feed.json"
        },
        {
            "cell_type": "markdown",
            "metadata": {},
            "source": "Score 200 randomly chosen records"
        },
        {
            "cell_type": "code",
            "execution_count": 130,
            "metadata": {},
            "outputs": [],
            "source": "import random\n\nwith open('german_credit_feed.json', 'r') as scoring_file:\n    scoring_data = json.load(scoring_file)\n\nfields = scoring_data['fields']\nvalues = []\nfor _ in range(200):\n    values.append(random.choice(scoring_data['values']))\npayload_scoring = {\"fields\": fields, \"values\": values}\npayload = {\n    wml_client.deployments.ScoringMetaNames.INPUT_DATA: [payload_scoring]\n}\nscoring_response = wml_client.deployments.score(deployment_uid, payload)"
        },
        {
            "cell_type": "markdown",
            "metadata": {},
            "source": "## Run fairness monitor"
        },
        {
            "cell_type": "markdown",
            "metadata": {},
            "source": "Kick off a fairness monitor run on current data. The monitor runs hourly, but can be manually initiated using the Python client, the REST API, or the graphical user interface."
        },
        {
            "cell_type": "code",
            "execution_count": 131,
            "metadata": {
                "scrolled": true
            },
            "outputs": [
                {
                    "name": "stdout",
                    "output_type": "stream",
                    "text": "\n\n=======================================================================\n\n Counting bias for deployment_uid=0d078a3f-ba3a-4029-a309-632c43654bba \n\n=======================================================================\n\n\n\nRUNNING.......\nFINISHED\n\n---------------------------\n Successfully finished run \n---------------------------\n\n\n"
                }
            ],
            "source": "time.sleep(5)\n\nrun_details = subscription.fairness_monitoring.run(background_mode=False)"
        },
        {
            "cell_type": "code",
            "execution_count": 132,
            "metadata": {},
            "outputs": [
                {
                    "data": {
                        "text/html": "<HTML>\n        <body>\n            <h3>FairnessMetrics (binding_id=999, subscription_id=fbce8514-a702-41da-a1cc-6aa151e2e480)</h3>\n            <table style='border: 1px solid #dddddd; font-family: Courier'>\n                <th style='border: 1px solid #dddddd'>ts</th><th style='border: 1px solid #dddddd'>feature</th><th style='border: 1px solid #dddddd'>feature_value</th><th style='border: 1px solid #dddddd'>fairness_biased</th><th style='border: 1px solid #dddddd'>fairness_value</th><th style='border: 1px solid #dddddd'>fairness_fav_class</th><th style='border: 1px solid #dddddd'>binding_id</th><th style='border: 1px solid #dddddd'>subscription_id</th><th style='border: 1px solid #dddddd'>asset_revision</th><th style='border: 1px solid #dddddd'>deployment_id</th><th style='border: 1px solid #dddddd'>process</th>\n                <tr><td style='border: 1px solid #dddddd'>2019-11-08 14:35:08.602869+00:00</td><td style='border: 1px solid #dddddd'>Sex</td><td style='border: 1px solid #dddddd'>female</td><td style='border: 1px solid #dddddd'>True</td><td style='border: 1px solid #dddddd'>0.944</td><td style='border: 1px solid #dddddd'>75.5</td><td style='border: 1px solid #dddddd'>999</td><td style='border: 1px solid #dddddd'>fbce8514-a702-41da-a1cc-6aa151e2e480</td><td style='border: 1px solid #dddddd'>fbce8514-a702-41da-a1cc-6aa151e2e480</td><td style='border: 1px solid #dddddd'>0d078a3f-ba3a-4029-a309-632c43654bba</td><td style='border: 1px solid #dddddd'></td></tr><tr><td style='border: 1px solid #dddddd'>2019-11-08 14:35:08.602869+00:00</td><td style='border: 1px solid #dddddd'>Age</td><td style='border: 1px solid #dddddd'>[18, 25]</td><td style='border: 1px solid #dddddd'>False</td><td style='border: 1px solid #dddddd'>1.077</td><td style='border: 1px solid #dddddd'>84.0</td><td style='border: 1px solid #dddddd'>999</td><td style='border: 1px solid #dddddd'>fbce8514-a702-41da-a1cc-6aa151e2e480</td><td style='border: 1px solid #dddddd'>fbce8514-a702-41da-a1cc-6aa151e2e480</td><td style='border: 1px solid #dddddd'>0d078a3f-ba3a-4029-a309-632c43654bba</td><td style='border: 1px solid #dddddd'></td></tr>\n            </table>\n        </body>\n        </HTML>",
                        "text/plain": "<IPython.core.display.HTML object>"
                    },
                    "metadata": {},
                    "output_type": "display_data"
                }
            ],
            "source": "time.sleep(5)\n\nsubscription.fairness_monitoring.show_table()"
        },
        {
            "cell_type": "markdown",
            "metadata": {},
            "source": "## Run drift monitor"
        },
        {
            "cell_type": "markdown",
            "metadata": {},
            "source": "Kick off a drift monitor run on current data. The monitor runs every hour, but can be manually initiated using the Python client, the REST API."
        },
        {
            "cell_type": "code",
            "execution_count": 133,
            "metadata": {},
            "outputs": [
                {
                    "name": "stdout",
                    "output_type": "stream",
                    "text": "\n\n==========================================\n\n Waiting for end of drift monitoring run  \n\n==========================================\n\n\n\nRUNNING.\nCOMPLETED\n\n---------------------------\n Successfully finished run \n---------------------------\n\n\n"
                }
            ],
            "source": "drift_run_details = subscription.drift_monitoring.run(background_mode=False)"
        },
        {
            "cell_type": "code",
            "execution_count": 134,
            "metadata": {},
            "outputs": [
                {
                    "data": {
                        "text/html": "<div>\n<style scoped>\n    .dataframe tbody tr th:only-of-type {\n        vertical-align: middle;\n    }\n\n    .dataframe tbody tr th {\n        vertical-align: top;\n    }\n\n    .dataframe thead th {\n        text-align: right;\n    }\n</style>\n<table border=\"1\" class=\"dataframe\">\n  <thead>\n    <tr style=\"text-align: right;\">\n      <th></th>\n      <th>ts</th>\n      <th>id</th>\n      <th>measurement_id</th>\n      <th>value</th>\n      <th>lower limit</th>\n      <th>upper limit</th>\n      <th>tags</th>\n      <th>binding_id</th>\n      <th>subscription_id</th>\n      <th>deployment_id</th>\n    </tr>\n  </thead>\n  <tbody>\n    <tr>\n      <th>0</th>\n      <td>2019-11-08 14:37:39.980854+00:00</td>\n      <td>data_drift_magnitude</td>\n      <td>aa3faed1-8a50-45b2-88f1-fd8914c0a26c</td>\n      <td>0.075</td>\n      <td></td>\n      <td></td>\n      <td></td>\n      <td>999</td>\n      <td>fbce8514-a702-41da-a1cc-6aa151e2e480</td>\n      <td>0d078a3f-ba3a-4029-a309-632c43654bba</td>\n    </tr>\n    <tr>\n      <th>1</th>\n      <td>2019-11-08 14:37:39.980854+00:00</td>\n      <td>drift_magnitude</td>\n      <td>aa3faed1-8a50-45b2-88f1-fd8914c0a26c</td>\n      <td>0.006</td>\n      <td></td>\n      <td>0.1</td>\n      <td></td>\n      <td>999</td>\n      <td>fbce8514-a702-41da-a1cc-6aa151e2e480</td>\n      <td>0d078a3f-ba3a-4029-a309-632c43654bba</td>\n    </tr>\n    <tr>\n      <th>2</th>\n      <td>2019-11-08 14:37:39.980854+00:00</td>\n      <td>predicted_accuracy</td>\n      <td>aa3faed1-8a50-45b2-88f1-fd8914c0a26c</td>\n      <td>0.766</td>\n      <td></td>\n      <td></td>\n      <td></td>\n      <td>999</td>\n      <td>fbce8514-a702-41da-a1cc-6aa151e2e480</td>\n      <td>0d078a3f-ba3a-4029-a309-632c43654bba</td>\n    </tr>\n  </tbody>\n</table>\n</div>",
                        "text/plain": "                                ts                    id  \\\n0 2019-11-08 14:37:39.980854+00:00  data_drift_magnitude   \n1 2019-11-08 14:37:39.980854+00:00       drift_magnitude   \n2 2019-11-08 14:37:39.980854+00:00    predicted_accuracy   \n\n                         measurement_id  value lower limit upper limit tags  \\\n0  aa3faed1-8a50-45b2-88f1-fd8914c0a26c  0.075                                \n1  aa3faed1-8a50-45b2-88f1-fd8914c0a26c  0.006                     0.1        \n2  aa3faed1-8a50-45b2-88f1-fd8914c0a26c  0.766                                \n\n  binding_id                       subscription_id  \\\n0        999  fbce8514-a702-41da-a1cc-6aa151e2e480   \n1        999  fbce8514-a702-41da-a1cc-6aa151e2e480   \n2        999  fbce8514-a702-41da-a1cc-6aa151e2e480   \n\n                          deployment_id  \n0  0d078a3f-ba3a-4029-a309-632c43654bba  \n1  0d078a3f-ba3a-4029-a309-632c43654bba  \n2  0d078a3f-ba3a-4029-a309-632c43654bba  "
                    },
                    "execution_count": 134,
                    "metadata": {},
                    "output_type": "execute_result"
                }
            ],
            "source": "subscription.drift_monitoring.get_table_content()"
        },
        {
            "cell_type": "markdown",
            "metadata": {},
            "source": "## Configure Explainability"
        },
        {
            "cell_type": "markdown",
            "metadata": {},
            "source": "Finally, we provide OpenScale with the training data to enable and configure the explainability features."
        },
        {
            "cell_type": "code",
            "execution_count": 135,
            "metadata": {
                "scrolled": true
            },
            "outputs": [],
            "source": "from ibm_ai_openscale.supporting_classes import *\nsubscription.explainability.enable(training_data=pd_data)"
        },
        {
            "cell_type": "code",
            "execution_count": 136,
            "metadata": {
                "scrolled": true
            },
            "outputs": [],
            "source": "explainability_details = subscription.explainability.get_details()"
        },
        {
            "cell_type": "markdown",
            "metadata": {},
            "source": "## Run explanation for sample record"
        },
        {
            "cell_type": "code",
            "execution_count": 137,
            "metadata": {},
            "outputs": [
                {
                    "name": "stdout",
                    "output_type": "stream",
                    "text": "c2b9aa96-764d-40c0-b824-361c9014d29a-1\n"
                }
            ],
            "source": "transaction_id = subscription.payload_logging.get_table_content(limit=1)['scoring_id'].values[0]\n\nprint(transaction_id)"
        },
        {
            "cell_type": "code",
            "execution_count": 138,
            "metadata": {},
            "outputs": [
                {
                    "name": "stdout",
                    "output_type": "stream",
                    "text": "\n\n====================================================================\n\n Looking for explanation for c2b9aa96-764d-40c0-b824-361c9014d29a-1 \n\n====================================================================\n\n\n\nin_progress..................\nfinished\n\n---------------------------\n Successfully finished run \n---------------------------\n\n\n"
                }
            ],
            "source": "explain_run = subscription.explainability.run(transaction_id=transaction_id, background_mode=False)"
        },
        {
            "cell_type": "code",
            "execution_count": 139,
            "metadata": {},
            "outputs": [
                {
                    "data": {
                        "image/png": "[encoded data removed]",
                        "text/plain": "<Figure size 432x288 with 1 Axes>"
                    },
                    "metadata": {
                        "needs_background": "light"
                    },
                    "output_type": "display_data"
                }
            ],
            "source": "if explain_run == None:\n    # explanation didn't finish within 180 seconds, if explaination is still not finished give it a minute or so then re-run this cell\n    time.sleep(10)\n    explain_table = subscription.explainability.get_table_content(format='pandas')\n    explain_result = pd.DataFrame.from_dict(explain_table[explain_table['transaction_id']==transaction_id]['explanation'][0]['entity']['predictions'][0]['explanation_features'])\nelse:\n    explain_result = pd.DataFrame.from_dict(explain_run['entity']['predictions'][0]['explanation_features'])\n\nexplain_result.plot.barh(x='feature_name', y='weight', color='g', alpha=0.8);"
        },
        {
            "cell_type": "markdown",
            "metadata": {},
            "source": "# Custom monitors and metrics <a name=\"custom\"></a>"
        },
        {
            "cell_type": "markdown",
            "metadata": {},
            "source": "## Register custom monitor"
        },
        {
            "cell_type": "code",
            "execution_count": 140,
            "metadata": {},
            "outputs": [],
            "source": "def get_definition(monitor_name):\n    monitors_definitions = ai_client.data_mart.monitors.get_details()['monitor_definitions']\n    \n    for definition in monitors_definitions:\n        if monitor_name == definition['entity']['name']:\n            return definition\n    \n    return None"
        },
        {
            "cell_type": "code",
            "execution_count": 141,
            "metadata": {},
            "outputs": [],
            "source": "from ibm_ai_openscale.supporting_classes import Metric, Tag\n\nmonitor_name = 'my model performance'\nmetrics = [Metric(name='sensitivity', lower_limit_default=0.8), Metric(name='specificity', lower_limit_default=0.75)]\ntags = [Tag(name='region', description='customer geographical region')]\n\nexisting_definition = get_definition(monitor_name)\n\nif existing_definition is None:\n    my_monitor = ai_client.data_mart.monitors.add(name=monitor_name, metrics=metrics, tags=tags)\nelse:\n    my_monitor = existing_definition"
        },
        {
            "cell_type": "markdown",
            "metadata": {},
            "source": "### List monitors"
        },
        {
            "cell_type": "markdown",
            "metadata": {},
            "source": "### Get monitors uids and details"
        },
        {
            "cell_type": "code",
            "execution_count": 142,
            "metadata": {},
            "outputs": [
                {
                    "name": "stdout",
                    "output_type": "stream",
                    "text": "my_model_performance\n"
                }
            ],
            "source": "monitor_uid = my_monitor['metadata']['guid']\n\nprint(monitor_uid)"
        },
        {
            "cell_type": "code",
            "execution_count": 143,
            "metadata": {},
            "outputs": [
                {
                    "name": "stdout",
                    "output_type": "stream",
                    "text": "monitor definition details {'entity': {'metrics': [{'expected_direction': 'increasing', 'id': 'sensitivity', 'name': 'sensitivity', 'required': True, 'thresholds': [{'default': 0.8, 'type': 'lower_limit'}]}, {'expected_direction': 'increasing', 'id': 'specificity', 'name': 'specificity', 'required': True, 'thresholds': [{'default': 0.75, 'type': 'lower_limit'}]}], 'name': 'my model performance', 'tags': [{'description': 'customer geographical region', 'id': 'region', 'name': 'region', 'required': True}]}, 'metadata': {'guid': 'my_model_performance', 'url': '/v1/data_marts/00000000-0000-0000-0000-000000000000/monitor_definitions/my_model_performance', 'created_at': '2019-11-08T14:40:15.314Z'}}\n"
                }
            ],
            "source": "my_monitor = ai_client.data_mart.monitors.get_details(monitor_uid=monitor_uid)\nprint('monitor definition details', my_monitor)"
        },
        {
            "cell_type": "markdown",
            "metadata": {},
            "source": "## Enable custom monitor for subscription"
        },
        {
            "cell_type": "code",
            "execution_count": 144,
            "metadata": {},
            "outputs": [],
            "source": "from ibm_ai_openscale.supporting_classes import Threshold\n\nthresholds = [Threshold(metric_uid='sensitivity', lower_limit=0.9)]\nsubscription.monitoring.enable(monitor_uid=monitor_uid, thresholds=thresholds)"
        },
        {
            "cell_type": "markdown",
            "metadata": {},
            "source": "### Get monitor configuration details"
        },
        {
            "cell_type": "code",
            "execution_count": 145,
            "metadata": {},
            "outputs": [
                {
                    "data": {
                        "text/plain": "{'enabled': True,\n 'monitor_definition': {'entity': {'metrics': [{'expected_direction': 'increasing',\n     'id': 'sensitivity',\n     'name': 'sensitivity',\n     'required': True,\n     'thresholds': [{'default': 0.9, 'type': 'lower_limit'}]},\n    {'expected_direction': 'increasing',\n     'id': 'specificity',\n     'name': 'specificity',\n     'required': True}],\n   'name': 'my model performance',\n   'tags': [{'description': 'customer geographical region',\n     'id': 'region',\n     'name': 'region',\n     'required': True}]},\n  'metadata': {'guid': 'my_model_performance',\n   'url': '/v1/data_marts/00000000-0000-0000-0000-000000000000/monitor_definitions/my_model_performance',\n   'created_at': '2019-11-08T14:40:15.314Z'}},\n 'thresholds': [{'metric_id': 'sensitivity',\n   'type': 'lower_limit',\n   'value': 0.9}]}"
                    },
                    "execution_count": 145,
                    "metadata": {},
                    "output_type": "execute_result"
                }
            ],
            "source": "subscription.monitoring.get_details(monitor_uid=monitor_uid)"
        },
        {
            "cell_type": "markdown",
            "metadata": {},
            "source": "## Storing custom metrics"
        },
        {
            "cell_type": "code",
            "execution_count": 146,
            "metadata": {},
            "outputs": [
                {
                    "data": {
                        "text/plain": "[{'asset_id': '2ab5138e-d8ba-4b41-bf99-c995d0ad0295',\n  'binding_id': '999',\n  'measurement_id': '272b7f93-b547-4c45-aa57-aefab4e4f04e',\n  'metrics': [{'region': 'us-south',\n    'sensitivity': 0.67,\n    'specificity': 0.78}],\n  'monitor_definition_id': 'my_model_performance',\n  'subscription_id': 'fbce8514-a702-41da-a1cc-6aa151e2e480',\n  'timestamp': '2019-11-08T14:40:17.062890Z'}]"
                    },
                    "execution_count": 146,
                    "metadata": {},
                    "output_type": "execute_result"
                }
            ],
            "source": "metrics = {\"specificity\": 0.78, \"sensitivity\": 0.67, \"region\": \"us-south\"}\n\nsubscription.monitoring.store_metrics(monitor_uid=monitor_uid, metrics=metrics)"
        },
        {
            "cell_type": "markdown",
            "metadata": {},
            "source": "### List and get custom metrics"
        },
        {
            "cell_type": "code",
            "execution_count": 147,
            "metadata": {},
            "outputs": [
                {
                    "data": {
                        "text/html": "<HTML>\n        <body>\n            <h3>CustomMetrics (binding_id=999, subscription_id=fbce8514-a702-41da-a1cc-6aa151e2e480)</h3>\n            <table style='border: 1px solid #dddddd; font-family: Courier'>\n                <th style='border: 1px solid #dddddd'>ts</th><th style='border: 1px solid #dddddd'>id</th><th style='border: 1px solid #dddddd'>measurement_id</th><th style='border: 1px solid #dddddd'>value</th><th style='border: 1px solid #dddddd'>lower limit</th><th style='border: 1px solid #dddddd'>upper limit</th><th style='border: 1px solid #dddddd'>tags</th><th style='border: 1px solid #dddddd'>binding_id</th><th style='border: 1px solid #dddddd'>subscription_id</th><th style='border: 1px solid #dddddd'>deployment_id</th>\n                <tr><td style='border: 1px solid #dddddd'>2019-11-08 14:40:17.062890+00:00</td><td style='border: 1px solid #dddddd'>sensitivity</td><td style='border: 1px solid #dddddd'>272b7f93-b547-4c45-aa57-aefab4e4f04e</td><td style='border: 1px solid #dddddd'>0.67</td><td style='border: 1px solid #dddddd'>0.9</td><td style='border: 1px solid #dddddd'></td><td style='border: 1px solid #dddddd'>region: us-south</td><td style='border: 1px solid #dddddd'>999</td><td style='border: 1px solid #dddddd'>fbce8514-a702-41da-a1cc-6aa151e2e480</td><td style='border: 1px solid #dddddd'>0d078a3f-ba3a-4029-a309-632c43654bba</td></tr><tr><td style='border: 1px solid #dddddd'>2019-11-08 14:40:17.062890+00:00</td><td style='border: 1px solid #dddddd'>specificity</td><td style='border: 1px solid #dddddd'>272b7f93-b547-4c45-aa57-aefab4e4f04e</td><td style='border: 1px solid #dddddd'>0.78</td><td style='border: 1px solid #dddddd'></td><td style='border: 1px solid #dddddd'></td><td style='border: 1px solid #dddddd'>region: us-south</td><td style='border: 1px solid #dddddd'>999</td><td style='border: 1px solid #dddddd'>fbce8514-a702-41da-a1cc-6aa151e2e480</td><td style='border: 1px solid #dddddd'>0d078a3f-ba3a-4029-a309-632c43654bba</td></tr>\n            </table>\n        </body>\n        </HTML>",
                        "text/plain": "<IPython.core.display.HTML object>"
                    },
                    "metadata": {},
                    "output_type": "display_data"
                }
            ],
            "source": "subscription.monitoring.show_table(monitor_uid=monitor_uid)"
        },
        {
            "cell_type": "code",
            "execution_count": 148,
            "metadata": {},
            "outputs": [
                {
                    "data": {
                        "text/plain": "[{'asset_id': '2ab5138e-d8ba-4b41-bf99-c995d0ad0295',\n  'binding_id': '999',\n  'tags': [{'id': 'region', 'value': 'us-south'}],\n  'ts': '2019-11-08T14:40:17.062890Z',\n  'measurement_id': '272b7f93-b547-4c45-aa57-aefab4e4f04e',\n  'monitor_definition_id': 'my_model_performance',\n  'subscription_id': 'fbce8514-a702-41da-a1cc-6aa151e2e480',\n  'metrics': [{'lower_limit': 0.9, 'id': 'sensitivity', 'value': 0.67},\n   {'id': 'specificity', 'value': 0.78}]}]"
                    },
                    "execution_count": 148,
                    "metadata": {},
                    "output_type": "execute_result"
                }
            ],
            "source": "custom_metrics = subscription.monitoring.get_metrics(monitor_uid=monitor_uid, deployment_uid='credit')\ncustom_metrics"
        },
        {
            "cell_type": "code",
            "execution_count": 149,
            "metadata": {},
            "outputs": [
                {
                    "data": {
                        "image/png": "[encoded data removed]",
                        "text/plain": "<Figure size 432x288 with 1 Axes>"
                    },
                    "metadata": {
                        "needs_background": "light"
                    },
                    "output_type": "display_data"
                }
            ],
            "source": "custom_metrics_pandas = subscription.monitoring.get_table_content(monitor_uid=monitor_uid)\n\n%matplotlib inline\ncustom_metrics_pandas.plot.barh(x='id', y='value');"
        },
        {
            "cell_type": "markdown",
            "metadata": {},
            "source": "# Payload analytics <a name=\"analytics\"></a>"
        },
        {
            "cell_type": "markdown",
            "metadata": {},
            "source": "## Run data distributions calculation"
        },
        {
            "cell_type": "code",
            "execution_count": 150,
            "metadata": {},
            "outputs": [
                {
                    "name": "stdout",
                    "output_type": "stream",
                    "text": "\n\n===============================================================================\n\n Waiting for end of data distribution run 0c0c10c9-a215-4b08-bed6-abdba0986eeb \n\n===============================================================================\n\n\n\nrunning............\ncompleted\n\n---------------------------\n Successfully finished run \n---------------------------\n\n\n"
                }
            ],
            "source": "from datetime import datetime\n\nstart_date = \"2018-01-01T00:00:00.00Z\"\nend_date = datetime.utcnow().isoformat() + \"Z\"\n\nsex_distribution = subscription.payload_logging.data_distribution.run(\n            start_date=start_date,\n            end_date=end_date,\n            group=['predictedLabel', 'Sex'],\n            agg=['count'])"
        },
        {
            "cell_type": "markdown",
            "metadata": {},
            "source": "## Get data distributions as pandas dataframe"
        },
        {
            "cell_type": "code",
            "execution_count": 151,
            "metadata": {},
            "outputs": [
                {
                    "data": {
                        "text/html": "<div>\n<style scoped>\n    .dataframe tbody tr th:only-of-type {\n        vertical-align: middle;\n    }\n\n    .dataframe tbody tr th {\n        vertical-align: top;\n    }\n\n    .dataframe thead th {\n        text-align: right;\n    }\n</style>\n<table border=\"1\" class=\"dataframe\">\n  <thead>\n    <tr style=\"text-align: right;\">\n      <th></th>\n      <th>predictedLabel</th>\n      <th>Sex</th>\n      <th>count</th>\n    </tr>\n  </thead>\n  <tbody>\n    <tr>\n      <th>0</th>\n      <td>No Risk</td>\n      <td>female</td>\n      <td>81</td>\n    </tr>\n    <tr>\n      <th>1</th>\n      <td>No Risk</td>\n      <td>male</td>\n      <td>83</td>\n    </tr>\n    <tr>\n      <th>2</th>\n      <td>Risk</td>\n      <td>female</td>\n      <td>4</td>\n    </tr>\n    <tr>\n      <th>3</th>\n      <td>Risk</td>\n      <td>male</td>\n      <td>40</td>\n    </tr>\n  </tbody>\n</table>\n</div>",
                        "text/plain": "  predictedLabel     Sex  count\n0        No Risk  female     81\n1        No Risk    male     83\n2           Risk  female      4\n3           Risk    male     40"
                    },
                    "execution_count": 151,
                    "metadata": {},
                    "output_type": "execute_result"
                }
            ],
            "source": "sex_distribution_run_uid = sex_distribution['id']\ndistributions_pd = subscription.payload_logging.data_distribution.get_run_result(run_id=sex_distribution_run_uid, format='pandas')\ndistributions_pd"
        },
        {
            "cell_type": "code",
            "execution_count": 152,
            "metadata": {},
            "outputs": [
                {
                    "data": {
                        "image/png": "[encoded data removed]",
                        "text/plain": "<Figure size 432x288 with 1 Axes>"
                    },
                    "metadata": {
                        "needs_background": "light"
                    },
                    "output_type": "display_data"
                }
            ],
            "source": "subscription.payload_logging.data_distribution.show_chart(sex_distribution_run_uid);"
        },
        {
            "cell_type": "code",
            "execution_count": 153,
            "metadata": {},
            "outputs": [
                {
                    "name": "stdout",
                    "output_type": "stream",
                    "text": "\n\n===============================================================================\n\n Waiting for end of data distribution run 607c2785-d850-4b62-a236-13889a65bdae \n\n===============================================================================\n\n\n\nrunning...\ncompleted\n\n---------------------------\n Successfully finished run \n---------------------------\n\n\n"
                }
            ],
            "source": "credit_history_distribution = subscription.payload_logging.data_distribution.run(\n            start_date=start_date,\n            end_date=end_date,\n            group=['predictedLabel', 'CreditHistory'],\n            agg=['count'])"
        },
        {
            "cell_type": "code",
            "execution_count": 154,
            "metadata": {},
            "outputs": [
                {
                    "data": {
                        "image/png": "[encoded data removed]",
                        "text/plain": "<Figure size 432x288 with 1 Axes>"
                    },
                    "metadata": {
                        "needs_background": "light"
                    },
                    "output_type": "display_data"
                }
            ],
            "source": "credit_history_distribution_run_uid = credit_history_distribution['id']\n\nsubscription.payload_logging.data_distribution.show_chart(credit_history_distribution_run_uid);"
        },
        {
            "cell_type": "markdown",
            "metadata": {},
            "source": "# Historical data <a name=\"historical\"></a>"
        },
        {
            "cell_type": "markdown",
            "metadata": {},
            "source": " ## Insert historical payloads"
        },
        {
            "cell_type": "markdown",
            "metadata": {},
            "source": "The next section of the notebook downloads and writes historical data to the payload and measurement tables to simulate a production model that has been monitored and receiving regular traffic for the last seven days. This historical data can be viewed in the Watson OpenScale user interface. The code uses the Python and REST APIs to write this data."
        },
        {
            "cell_type": "code",
            "execution_count": 155,
            "metadata": {
                "scrolled": true
            },
            "outputs": [
                {
                    "name": "stdout",
                    "output_type": "stream",
                    "text": "Warning: Failed to set locale category LC_NUMERIC to en_PL.\nWarning: Failed to set locale category LC_TIME to en_PL.\nWarning: Failed to set locale category LC_COLLATE to en_PL.\nWarning: Failed to set locale category LC_MONETARY to en_PL.\nWarning: Failed to set locale category LC_MESSAGES to en_PL.\n--2019-11-08 15:42:11--  https://raw.githubusercontent.com/pmservice/ai-openscale-tutorials/master/assets/historical_data/german_credit_risk/wml/history_payloads_0.json\nResolving raw.githubusercontent.com (raw.githubusercontent.com)... 199.232.36.133\nConnecting to raw.githubusercontent.com (raw.githubusercontent.com)|199.232.36.133|:443... connected.\nHTTP request sent, awaiting response... 200 OK\nLength: 5018899 (4.8M) [text/plain]\nSaving to: \u2018history_payloads_0.json\u2019\n\nhistory_payloads_0. 100%[===================>]   4.79M  1.48MB/s    in 3.2s    \n\n2019-11-08 15:42:15 (1.48 MB/s) - \u2018history_payloads_0.json\u2019 saved [5018899/5018899]\n\nWarning: Failed to set locale category LC_NUMERIC to en_PL.\nWarning: Failed to set locale category LC_TIME to en_PL.\nWarning: Failed to set locale category LC_COLLATE to en_PL.\nWarning: Failed to set locale category LC_MONETARY to en_PL.\nWarning: Failed to set locale category LC_MESSAGES to en_PL.\n--2019-11-08 15:42:15--  https://raw.githubusercontent.com/pmservice/ai-openscale-tutorials/master/assets/historical_data/german_credit_risk/wml/history_payloads_1.json\nResolving raw.githubusercontent.com (raw.githubusercontent.com)... 199.232.36.133\nConnecting to raw.githubusercontent.com (raw.githubusercontent.com)|199.232.36.133|:443... connected.\nHTTP request sent, awaiting response... 200 OK\nLength: 5016854 (4.8M) [text/plain]\nSaving to: \u2018history_payloads_1.json\u2019\n\nhistory_payloads_1. 100%[===================>]   4.78M  3.57MB/s    in 1.3s    \n\n2019-11-08 15:42:18 (3.57 MB/s) - \u2018history_payloads_1.json\u2019 saved [5016854/5016854]\n\nWarning: Failed to set locale category LC_NUMERIC to en_PL.\nWarning: Failed to set locale category LC_TIME to en_PL.\nWarning: Failed to set locale category LC_COLLATE to en_PL.\nWarning: Failed to set locale category LC_MONETARY to en_PL.\nWarning: Failed to set locale category LC_MESSAGES to en_PL.\n--2019-11-08 15:42:18--  https://raw.githubusercontent.com/pmservice/ai-openscale-tutorials/master/assets/historical_data/german_credit_risk/wml/history_payloads_2.json\nResolving raw.githubusercontent.com (raw.githubusercontent.com)... 199.232.36.133\nConnecting to raw.githubusercontent.com (raw.githubusercontent.com)|199.232.36.133|:443... connected.\nHTTP request sent, awaiting response... 200 OK\nLength: 5019688 (4.8M) [text/plain]\nSaving to: \u2018history_payloads_2.json\u2019\n\nhistory_payloads_2. 100%[===================>]   4.79M  1.45MB/s    in 3.8s    \n\n2019-11-08 15:42:22 (1.27 MB/s) - \u2018history_payloads_2.json\u2019 saved [5019688/5019688]\n\nWarning: Failed to set locale category LC_NUMERIC to en_PL.\nWarning: Failed to set locale category LC_TIME to en_PL.\nWarning: Failed to set locale category LC_COLLATE to en_PL.\nWarning: Failed to set locale category LC_MONETARY to en_PL.\nWarning: Failed to set locale category LC_MESSAGES to en_PL.\n--2019-11-08 15:42:22--  https://raw.githubusercontent.com/pmservice/ai-openscale-tutorials/master/assets/historical_data/german_credit_risk/wml/history_payloads_3.json\nResolving raw.githubusercontent.com (raw.githubusercontent.com)... 199.232.36.133\nConnecting to raw.githubusercontent.com (raw.githubusercontent.com)|199.232.36.133|:443... connected.\nHTTP request sent, awaiting response... 200 OK\nLength: 5019821 (4.8M) [text/plain]\nSaving to: \u2018history_payloads_3.json\u2019\n\nhistory_payloads_3. 100%[===================>]   4.79M  5.70MB/s    in 0.8s    \n\n2019-11-08 15:42:24 (5.70 MB/s) - \u2018history_payloads_3.json\u2019 saved [5019821/5019821]\n\nWarning: Failed to set locale category LC_NUMERIC to en_PL.\nWarning: Failed to set locale category LC_TIME to en_PL.\nWarning: Failed to set locale category LC_COLLATE to en_PL.\nWarning: Failed to set locale category LC_MONETARY to en_PL.\nWarning: Failed to set locale category LC_MESSAGES to en_PL.\n--2019-11-08 15:42:24--  https://raw.githubusercontent.com/pmservice/ai-openscale-tutorials/master/assets/historical_data/german_credit_risk/wml/history_payloads_4.json\nResolving raw.githubusercontent.com (raw.githubusercontent.com)... 199.232.36.133\nConnecting to raw.githubusercontent.com (raw.githubusercontent.com)|199.232.36.133|:443... connected.\nHTTP request sent, awaiting response... 200 OK\nLength: 5018809 (4.8M) [text/plain]\nSaving to: \u2018history_payloads_4.json\u2019\n\nhistory_payloads_4. 100%[===================>]   4.79M  1.41MB/s    in 3.9s    \n\n2019-11-08 15:42:29 (1.22 MB/s) - \u2018history_payloads_4.json\u2019 saved [5018809/5018809]\n\nWarning: Failed to set locale category LC_NUMERIC to en_PL.\nWarning: Failed to set locale category LC_TIME to en_PL.\nWarning: Failed to set locale category LC_COLLATE to en_PL.\nWarning: Failed to set locale category LC_MONETARY to en_PL.\nWarning: Failed to set locale category LC_MESSAGES to en_PL.\n--2019-11-08 15:42:29--  https://raw.githubusercontent.com/pmservice/ai-openscale-tutorials/master/assets/historical_data/german_credit_risk/wml/history_payloads_5.json\nResolving raw.githubusercontent.com (raw.githubusercontent.com)... 199.232.36.133\nConnecting to raw.githubusercontent.com (raw.githubusercontent.com)|199.232.36.133|:443... connected.\nHTTP request sent, awaiting response... 200 OK\nLength: 5020223 (4.8M) [text/plain]\nSaving to: \u2018history_payloads_5.json\u2019\n\nhistory_payloads_5. 100%[===================>]   4.79M  1.53MB/s    in 3.1s    \n\n2019-11-08 15:42:33 (1.53 MB/s) - \u2018history_payloads_5.json\u2019 saved [5020223/5020223]\n\nWarning: Failed to set locale category LC_NUMERIC to en_PL.\nWarning: Failed to set locale category LC_TIME to en_PL.\nWarning: Failed to set locale category LC_COLLATE to en_PL.\nWarning: Failed to set locale category LC_MONETARY to en_PL.\nWarning: Failed to set locale category LC_MESSAGES to en_PL.\n--2019-11-08 15:42:33--  https://raw.githubusercontent.com/pmservice/ai-openscale-tutorials/master/assets/historical_data/german_credit_risk/wml/history_payloads_6.json\nResolving raw.githubusercontent.com (raw.githubusercontent.com)... 199.232.36.133\nConnecting to raw.githubusercontent.com (raw.githubusercontent.com)|199.232.36.133|:443... connected.\nHTTP request sent, awaiting response... 200 OK\nLength: 5019217 (4.8M) [text/plain]\nSaving to: \u2018history_payloads_6.json\u2019\n\nhistory_payloads_6. 100%[===================>]   4.79M  1.54MB/s    in 3.1s    \n\n2019-11-08 15:42:37 (1.54 MB/s) - \u2018history_payloads_6.json\u2019 saved [5019217/5019217]\n\n"
                }
            ],
            "source": "!rm history_payloads*.json\n!wget https://raw.githubusercontent.com/pmservice/ai-openscale-tutorials/master/assets/historical_data/german_credit_risk/wml/history_payloads_0.json\n!wget https://raw.githubusercontent.com/pmservice/ai-openscale-tutorials/master/assets/historical_data/german_credit_risk/wml/history_payloads_1.json\n!wget https://raw.githubusercontent.com/pmservice/ai-openscale-tutorials/master/assets/historical_data/german_credit_risk/wml/history_payloads_2.json\n!wget https://raw.githubusercontent.com/pmservice/ai-openscale-tutorials/master/assets/historical_data/german_credit_risk/wml/history_payloads_3.json\n!wget https://raw.githubusercontent.com/pmservice/ai-openscale-tutorials/master/assets/historical_data/german_credit_risk/wml/history_payloads_4.json\n!wget https://raw.githubusercontent.com/pmservice/ai-openscale-tutorials/master/assets/historical_data/german_credit_risk/wml/history_payloads_5.json\n!wget https://raw.githubusercontent.com/pmservice/ai-openscale-tutorials/master/assets/historical_data/german_credit_risk/wml/history_payloads_6.json"
        },
        {
            "cell_type": "code",
            "execution_count": 156,
            "metadata": {
                "scrolled": true
            },
            "outputs": [],
            "source": "historyDays = 7"
        },
        {
            "cell_type": "code",
            "execution_count": 157,
            "metadata": {
                "scrolled": false
            },
            "outputs": [
                {
                    "name": "stdout",
                    "output_type": "stream",
                    "text": "Loading day 1\nLoading day 2\nLoading day 3\nLoading day 4\nLoading day 5\nLoading day 6\nLoading day 7\nFinished\n"
                }
            ],
            "source": "from ibm_ai_openscale.supporting_classes import PayloadRecord, Feature\nimport datetime\nimport time\n\nfor day in range(historyDays):\n    print('Loading day {}'.format(day + 1))\n    history_file = 'history_payloads_' + str(day) + '.json'\n    with open(history_file) as f:\n        payloads = json.load(f)\n        hourly_records = int(len(payloads) / 24)\n        index = 0\n        for hour in range(24):\n            recordsList = []\n            for i in range(hourly_records):\n                score_time = str(datetime.datetime.utcnow() + datetime.timedelta(hours=(-(24*day + hour + 1))))\n                recordsList.append(PayloadRecord(request=payloads[index]['request'], response=payloads[index]['response'], scoring_timestamp=score_time))\n                index += 1\n            subscription.payload_logging.store(records=recordsList)\nprint('Finished')"
        },
        {
            "cell_type": "code",
            "execution_count": 158,
            "metadata": {
                "scrolled": true
            },
            "outputs": [
                {
                    "name": "stdout",
                    "output_type": "stream",
                    "text": "00000000-0000-0000-0000-000000000000\n"
                }
            ],
            "source": "data_mart_id = subscription.get_details()['metadata']['url'].split('/service_bindings')[0].split('marts/')[1]\nprint(data_mart_id)"
        },
        {
            "cell_type": "code",
            "execution_count": 159,
            "metadata": {
                "scrolled": true
            },
            "outputs": [
                {
                    "name": "stdout",
                    "output_type": "stream",
                    "text": "https://namespace1-cpd-namespace1.apps.zloct36-lb-1.fyre.ibm.com/v1/data_marts/00000000-0000-0000-0000-000000000000/metrics\n"
                }
            ],
            "source": "performance_metrics_url = WOS_CREDENTIALS['url'] + subscription.get_details()['metadata']['url'].split('/service_bindings')[0] + '/metrics'\nprint(performance_metrics_url)"
        },
        {
            "cell_type": "markdown",
            "metadata": {},
            "source": "## Insert historical fairness metrics"
        },
        {
            "cell_type": "code",
            "execution_count": 160,
            "metadata": {},
            "outputs": [
                {
                    "name": "stdout",
                    "output_type": "stream",
                    "text": "Warning: Failed to set locale category LC_NUMERIC to en_PL.\nWarning: Failed to set locale category LC_TIME to en_PL.\nWarning: Failed to set locale category LC_COLLATE to en_PL.\nWarning: Failed to set locale category LC_MONETARY to en_PL.\nWarning: Failed to set locale category LC_MESSAGES to en_PL.\n--2019-11-08 15:45:54--  https://raw.githubusercontent.com/pmservice/ai-openscale-tutorials/master/assets/historical_data/german_credit_risk/wml/history_fairness.json\nResolving raw.githubusercontent.com (raw.githubusercontent.com)... 199.232.36.133\nConnecting to raw.githubusercontent.com (raw.githubusercontent.com)|199.232.36.133|:443... connected.\nHTTP request sent, awaiting response... 200 OK\nLength: 1424078 (1.4M) [text/plain]\nSaving to: \u2018history_fairness.json\u2019\n\nhistory_fairness.js 100%[===================>]   1.36M   655KB/s    in 2.1s    \n\n2019-11-08 15:45:57 (655 KB/s) - \u2018history_fairness.json\u2019 saved [1424078/1424078]\n\n"
                }
            ],
            "source": "!rm history_fairness.json\n!wget https://raw.githubusercontent.com/pmservice/ai-openscale-tutorials/master/assets/historical_data/german_credit_risk/wml/history_fairness.json"
        },
        {
            "cell_type": "code",
            "execution_count": 161,
            "metadata": {},
            "outputs": [],
            "source": "from requests.auth import HTTPBasicAuth\n\ndef create_token():\n    header = {\n                    \"Content-Type\": \"application/x-www-form-urlencoded\",\n                    \"Accept\": \"application/json\"\n    }\n\n    response = requests_session.get(\n            WOS_CREDENTIALS['url'] + '/v1/preauth/validateAuth',\n            headers=header,\n            auth=HTTPBasicAuth(\n                WOS_CREDENTIALS['username'],\n                WOS_CREDENTIALS['password']\n            ),\n            verify=False)\n\n    response = handle_response(200, 'access token', response, True)\n    token = response['accessToken']\n\n    return token"
        },
        {
            "cell_type": "code",
            "execution_count": 162,
            "metadata": {
                "scrolled": true
            },
            "outputs": [
                {
                    "name": "stdout",
                    "output_type": "stream",
                    "text": "Loading day 1\nLoading day 2\nLoading day 3\nLoading day 4\nLoading day 5\nLoading day 6\nLoading day 7\nFinished\n"
                }
            ],
            "source": "iam_token = create_token()\niam_headers = {\n    'Content-Type': 'application/json',\n    'Authorization': 'Bearer %s' % iam_token\n}\n\nwith open('history_fairness.json', 'r') as history_file:\n    payloads = json.load(history_file)\n\nfor day in range(historyDays):\n    print('Loading day', day + 1)\n    for hour in range(24):\n        score_time = (datetime.datetime.utcnow() + datetime.timedelta(hours=(-(24*day + hour + 1)))).strftime('%Y-%m-%dT%H:%M:%SZ')\n        index = (day * 24 + hour) % len(payloads) # wrap around and reuse values if needed\n        \n        qualityMetric = {\n            'metric_type': 'fairness',\n            'binding_id': binding_uid,\n            'timestamp': score_time,\n            'subscription_id': model_uid,\n            'asset_revision': model_uid,\n            'deployment_id': deployment_uid,\n            'value': payloads[index]\n        }\n\n        response = requests.post(performance_metrics_url, json=[qualityMetric], headers=iam_headers, verify=False)\n\nprint('Finished')"
        },
        {
            "cell_type": "markdown",
            "metadata": {},
            "source": "## Insert historical debias metrics"
        },
        {
            "cell_type": "code",
            "execution_count": 163,
            "metadata": {},
            "outputs": [
                {
                    "name": "stdout",
                    "output_type": "stream",
                    "text": "Warning: Failed to set locale category LC_NUMERIC to en_PL.\nWarning: Failed to set locale category LC_TIME to en_PL.\nWarning: Failed to set locale category LC_COLLATE to en_PL.\nWarning: Failed to set locale category LC_MONETARY to en_PL.\nWarning: Failed to set locale category LC_MESSAGES to en_PL.\n--2019-11-08 15:49:53--  https://raw.githubusercontent.com/pmservice/ai-openscale-tutorials/master/assets/historical_data/german_credit_risk/wml/history_debias.json\nResolving raw.githubusercontent.com (raw.githubusercontent.com)... 199.232.36.133\nConnecting to raw.githubusercontent.com (raw.githubusercontent.com)|199.232.36.133|:443... connected.\nHTTP request sent, awaiting response... 200 OK\nLength: 565971 (553K) [text/plain]\nSaving to: \u2018history_debias.json\u2019\n\nhistory_debias.json 100%[===================>] 552.71K   460KB/s    in 1.2s    \n\n2019-11-08 15:49:55 (460 KB/s) - \u2018history_debias.json\u2019 saved [565971/565971]\n\n"
                }
            ],
            "source": "!rm history_debias.json\n!wget https://raw.githubusercontent.com/pmservice/ai-openscale-tutorials/master/assets/historical_data/german_credit_risk/wml/history_debias.json"
        },
        {
            "cell_type": "code",
            "execution_count": 164,
            "metadata": {},
            "outputs": [
                {
                    "name": "stdout",
                    "output_type": "stream",
                    "text": "Loading day 1\nLoading day 2\nLoading day 3\nLoading day 4\nLoading day 5\nLoading day 6\nLoading day 7\nFinished\n"
                }
            ],
            "source": "iam_token = create_token()\niam_headers = {\n    'Content-Type': 'application/json',\n    'Authorization': 'Bearer %s' % iam_token\n}\n\nwith open('history_debias.json', 'r') as history_file:\n    payloads = json.load(history_file)\n\nfor day in range(historyDays):\n    print('Loading day', day + 1)\n    for hour in range(24):\n        score_time = (datetime.datetime.utcnow() + datetime.timedelta(hours=(-(24*day + hour + 1)))).strftime('%Y-%m-%dT%H:%M:%SZ')\n        index = (day * 24 + hour) % len(payloads) # wrap around and reuse values if needed\n\n        qualityMetric = {\n            'metric_type': 'debiased_fairness',\n            'binding_id': binding_uid,\n            'timestamp': score_time,\n            'subscription_id': model_uid,\n            'asset_revision': model_uid,\n            'deployment_id': deployment_uid,\n            'value': payloads[index]\n        }\n\n        response = requests.post(performance_metrics_url, json=[qualityMetric], headers=iam_headers, verify=False)\nprint('Finished')"
        },
        {
            "cell_type": "markdown",
            "metadata": {},
            "source": "## Insert historical quality metrics"
        },
        {
            "cell_type": "code",
            "execution_count": 165,
            "metadata": {
                "scrolled": true
            },
            "outputs": [
                {
                    "name": "stdout",
                    "output_type": "stream",
                    "text": "Day 1\nDay 2\nDay 3\nDay 4\nDay 5\nDay 6\nDay 7\nFinished\n"
                }
            ],
            "source": "iam_token = create_token()\niam_headers = {\n    'Content-Type': 'application/json',\n    'Authorization': 'Bearer %s' % iam_token\n}\n\nmeasurements = [0.76, 0.78, 0.68, 0.72, 0.73, 0.77, 0.80]\nfor day in range(historyDays):\n    print('Day', day + 1)\n    for hour in range(24):\n        score_time = (datetime.datetime.utcnow() + datetime.timedelta(hours=(-(24*day + hour + 1)))).strftime('%Y-%m-%dT%H:%M:%SZ')\n        qualityMetric = {\n            'metric_type': 'quality',\n            'binding_id': binding_uid,\n            'timestamp': score_time,\n            'subscription_id': model_uid,\n            'asset_revision': model_uid,\n            'deployment_id': deployment_uid,\n            'value': {\n                'quality': measurements[day],\n                'threshold': 0.7,\n                'metrics': [\n                    {\n                        'name': 'auroc',\n                        'value': measurements[day],\n                        'threshold': 0.7\n                    }\n                ]\n            }\n        }\n\n        response = requests.post(performance_metrics_url, json=[qualityMetric], headers=iam_headers, verify=False)\nprint('Finished')"
        },
        {
            "cell_type": "markdown",
            "metadata": {},
            "source": "## Insert historical confusion matrixes"
        },
        {
            "cell_type": "code",
            "execution_count": 166,
            "metadata": {},
            "outputs": [
                {
                    "name": "stdout",
                    "output_type": "stream",
                    "text": "Warning: Failed to set locale category LC_NUMERIC to en_PL.\nWarning: Failed to set locale category LC_TIME to en_PL.\nWarning: Failed to set locale category LC_COLLATE to en_PL.\nWarning: Failed to set locale category LC_MONETARY to en_PL.\nWarning: Failed to set locale category LC_MESSAGES to en_PL.\n--2019-11-08 15:55:50--  https://raw.githubusercontent.com/pmservice/ai-openscale-tutorials/master/assets/historical_data/german_credit_risk/wos/history_quality_metrics.json\nResolving raw.githubusercontent.com (raw.githubusercontent.com)... 199.232.36.133\nConnecting to raw.githubusercontent.com (raw.githubusercontent.com)|199.232.36.133|:443... connected.\nHTTP request sent, awaiting response... 200 OK\nLength: 80099 (78K) [text/plain]\nSaving to: \u2018history_quality_metrics.json\u2019\n\nhistory_quality_met 100%[===================>]  78.22K   170KB/s    in 0.5s    \n\n2019-11-08 15:55:51 (170 KB/s) - \u2018history_quality_metrics.json\u2019 saved [80099/80099]\n\n"
                }
            ],
            "source": "!rm history_quality_metrics.json\n!wget https://raw.githubusercontent.com/pmservice/ai-openscale-tutorials/master/assets/historical_data/german_credit_risk/wos/history_quality_metrics.json"
        },
        {
            "cell_type": "code",
            "execution_count": 167,
            "metadata": {},
            "outputs": [
                {
                    "name": "stdout",
                    "output_type": "stream",
                    "text": "https://namespace1-cpd-namespace1.apps.zloct36-lb-1.fyre.ibm.com/v1/data_marts/00000000-0000-0000-0000-000000000000/measurements\n"
                }
            ],
            "source": "measurements_url = WOS_CREDENTIALS['url'] + subscription.get_details()['metadata']['url'].split('/service_bindings')[0] + '/measurements'\nprint(measurements_url)"
        },
        {
            "cell_type": "code",
            "execution_count": 168,
            "metadata": {},
            "outputs": [
                {
                    "name": "stdout",
                    "output_type": "stream",
                    "text": "Day 1\nDay 2\nDay 3\nDay 4\nDay 5\nDay 6\nDay 7\nFinished\n"
                }
            ],
            "source": "with open('history_quality_metrics.json') as json_file:\n    records = json.load(json_file)\n\nfor day in range(historyDays):\n    index = 0\n    measurments = []\n    print('Day', day + 1)\n    \n    for hour in range(24):\n        score_time = (datetime.datetime.utcnow() + datetime.timedelta(hours=(-(24*day + hour + 1)))).strftime('%Y-%m-%dT%H:%M:%SZ')\n\n        measurement = {\n            \"monitor_definition_id\": 'quality',\n            \"binding_id\": subscription.binding_uid,\n            \"subscription_id\": subscription.uid,\n            \"asset_id\": subscription.source_uid,\n            'metrics': [records[index]['metrics']],\n            'sources': [records[index]['sources']],\n            'timestamp': score_time\n        }\n\n        measurments.append(measurement)\n        index+=1\n\n    response = requests.post(measurements_url, json=measurments, headers=ai_client._get_headers(), verify=False)\n\nprint('Finished')"
        },
        {
            "cell_type": "markdown",
            "metadata": {},
            "source": "## Insert historical performance metrics"
        },
        {
            "cell_type": "code",
            "execution_count": 169,
            "metadata": {
                "scrolled": true
            },
            "outputs": [
                {
                    "name": "stdout",
                    "output_type": "stream",
                    "text": "Day 1\nDay 2\nDay 3\nDay 4\nDay 5\nDay 6\nDay 7\nFinished\n"
                }
            ],
            "source": "iam_token = create_token()\niam_headers = {\n    'Content-Type': 'application/json',\n    'Authorization': 'Bearer %s' % iam_token\n}\n\nfor day in range(historyDays):\n    print('Day', day + 1)\n    for hour in range(24):\n        score_time = (datetime.datetime.utcnow() + datetime.timedelta(hours=(-(24*day + hour + 1)))).strftime('%Y-%m-%dT%H:%M:%SZ')\n        score_count = random.randint(60, 600)\n        score_resp = random.uniform(60, 300)\n\n        performanceMetric = {\n            'metric_type': 'performance',\n            'binding_id': binding_uid,\n            'timestamp': score_time,\n            'subscription_id': model_uid,\n            'asset_revision': model_uid,\n            'deployment_id': deployment_uid,\n            'value': {\n                'response_time': score_resp,\n                'records': score_count\n            }\n        }\n\n        response = requests.post(performance_metrics_url, json=[performanceMetric], headers=iam_headers, verify=False)\nprint('Finished')"
        },
        {
            "cell_type": "markdown",
            "metadata": {},
            "source": "## Insert historical manual labeling"
        },
        {
            "cell_type": "code",
            "execution_count": 170,
            "metadata": {},
            "outputs": [
                {
                    "name": "stdout",
                    "output_type": "stream",
                    "text": "https://namespace1-cpd-namespace1.apps.zloct36-lb-1.fyre.ibm.com/v1/data_marts/00000000-0000-0000-0000-000000000000/manual_labelings\n"
                }
            ],
            "source": "manual_labeling_url = WOS_CREDENTIALS['url'] + subscription.get_details()['metadata']['url'].split('/service_bindings')[0] + '/manual_labelings'\nprint(manual_labeling_url)"
        },
        {
            "cell_type": "code",
            "execution_count": 171,
            "metadata": {},
            "outputs": [
                {
                    "name": "stdout",
                    "output_type": "stream",
                    "text": "rm: history_manual_labeling.json: No such file or directory\nWarning: Failed to set locale category LC_NUMERIC to en_PL.\nWarning: Failed to set locale category LC_TIME to en_PL.\nWarning: Failed to set locale category LC_COLLATE to en_PL.\nWarning: Failed to set locale category LC_MONETARY to en_PL.\nWarning: Failed to set locale category LC_MESSAGES to en_PL.\n--2019-11-08 15:59:05--  https://raw.githubusercontent.com/pmservice/ai-openscale-tutorials/master/assets/historical_data/german_credit_risk/wml/history_manual_labeling.json\nResolving raw.githubusercontent.com (raw.githubusercontent.com)... 199.232.36.133\nConnecting to raw.githubusercontent.com (raw.githubusercontent.com)|199.232.36.133|:443... connected.\nHTTP request sent, awaiting response... 200 OK\nLength: 947956 (926K) [text/plain]\nSaving to: \u2018history_manual_labeling.json\u2019\n\nhistory_manual_labe 100%[===================>] 925.74K   620KB/s    in 1.5s    \n\n2019-11-08 15:59:07 (620 KB/s) - \u2018history_manual_labeling.json\u2019 saved [947956/947956]\n\n"
                }
            ],
            "source": "!rm history_manual_labeling.json\n!wget https://raw.githubusercontent.com/pmservice/ai-openscale-tutorials/master/assets/historical_data/german_credit_risk/wml/history_manual_labeling.json"
        },
        {
            "cell_type": "code",
            "execution_count": 172,
            "metadata": {
                "scrolled": true
            },
            "outputs": [
                {
                    "name": "stdout",
                    "output_type": "stream",
                    "text": "Loading day 1\nLoading day 2\nLoading day 3\nLoading day 4\nLoading day 5\nLoading day 6\nLoading day 7\nFinished\n"
                }
            ],
            "source": "iam_token = create_token()\niam_headers = {\n    'Content-Type': 'application/json',\n    'Authorization': 'Bearer %s' % iam_token\n}\n\nwith open('history_manual_labeling.json', 'r') as history_file:\n    records = json.load(history_file)\n\nfor day in range(historyDays):\n    print('Loading day', day + 1)\n    record_json = []\n    for hour in range(24):\n        for record in records:\n            if record['fastpath_history_day'] == day and record['fastpath_history_hour'] == hour:\n                record['binding_id'] = binding_uid\n                record['subscription_id'] = model_uid\n                record['asset_revision'] = model_uid\n                record['deployment_id'] = deployment_uid\n                record['scoring_timestamp'] = (datetime.datetime.utcnow() + datetime.timedelta(hours=(-(24*day + hour + 1)))).strftime('%Y-%m-%dT%H:%M:%SZ')\n                record_json.append(record)\n    response = requests.post(manual_labeling_url, json=record_json, headers=iam_headers, verify=False)\n\nprint('Finished')"
        },
        {
            "cell_type": "markdown",
            "metadata": {},
            "source": "## Additional data to help debugging"
        },
        {
            "cell_type": "code",
            "execution_count": 175,
            "metadata": {
                "scrolled": true
            },
            "outputs": [
                {
                    "name": "stdout",
                    "output_type": "stream",
                    "text": "Datamart: 00000000-0000-0000-0000-000000000000\nModel: 2ab5138e-d8ba-4b41-bf99-c995d0ad0295\nDeployment: 0d078a3f-ba3a-4029-a309-632c43654bba\nBinding: 999\n"
                }
            ],
            "source": "print('Datamart:', data_mart_id)\nprint('Model:', model_uid)\nprint('Deployment:', deployment_uid)\nprint('Binding:', binding_uid)\n# print('Scoring URL:', credit_risk_scoring_endpoint)"
        },
        {
            "cell_type": "markdown",
            "metadata": {},
            "source": "## Identify transactions for Explainability"
        },
        {
            "cell_type": "markdown",
            "metadata": {},
            "source": "Transaction IDs identified by the cells below can be copied and pasted into the Explainability tab of the OpenScale dashboard."
        },
        {
            "cell_type": "code",
            "execution_count": 174,
            "metadata": {
                "scrolled": true
            },
            "outputs": [
                {
                    "data": {
                        "text/html": "<div>\n<style scoped>\n    .dataframe tbody tr th:only-of-type {\n        vertical-align: middle;\n    }\n\n    .dataframe tbody tr th {\n        vertical-align: top;\n    }\n\n    .dataframe thead th {\n        text-align: right;\n    }\n</style>\n<table border=\"1\" class=\"dataframe\">\n  <thead>\n    <tr style=\"text-align: right;\">\n      <th></th>\n      <th>scoring_id</th>\n      <th>predictedLabel</th>\n      <th>probability</th>\n    </tr>\n  </thead>\n  <tbody>\n    <tr>\n      <th>0</th>\n      <td>c2b9aa96-764d-40c0-b824-361c9014d29a-1</td>\n      <td>No Risk</td>\n      <td>[0.8000401470855272, 0.1999598529144728]</td>\n    </tr>\n    <tr>\n      <th>1</th>\n      <td>c2b9aa96-764d-40c0-b824-361c9014d29a-2</td>\n      <td>No Risk</td>\n      <td>[0.6959323712566339, 0.304067628743366]</td>\n    </tr>\n    <tr>\n      <th>2</th>\n      <td>c2b9aa96-764d-40c0-b824-361c9014d29a-3</td>\n      <td>Risk</td>\n      <td>[0.47798261426398553, 0.5220173857360144]</td>\n    </tr>\n    <tr>\n      <th>3</th>\n      <td>c2b9aa96-764d-40c0-b824-361c9014d29a-4</td>\n      <td>No Risk</td>\n      <td>[0.8694529553919186, 0.13054704460808136]</td>\n    </tr>\n    <tr>\n      <th>4</th>\n      <td>c2b9aa96-764d-40c0-b824-361c9014d29a-5</td>\n      <td>No Risk</td>\n      <td>[0.7001034077150486, 0.2998965922849513]</td>\n    </tr>\n    <tr>\n      <th>5</th>\n      <td>c2b9aa96-764d-40c0-b824-361c9014d29a-6</td>\n      <td>No Risk</td>\n      <td>[0.7870501076815899, 0.21294989231841002]</td>\n    </tr>\n    <tr>\n      <th>6</th>\n      <td>c2b9aa96-764d-40c0-b824-361c9014d29a-7</td>\n      <td>No Risk</td>\n      <td>[0.9610702249396212, 0.03892977506037873]</td>\n    </tr>\n    <tr>\n      <th>7</th>\n      <td>c2b9aa96-764d-40c0-b824-361c9014d29a-8</td>\n      <td>No Risk</td>\n      <td>[0.7876706014833662, 0.21232939851663374]</td>\n    </tr>\n    <tr>\n      <th>8</th>\n      <td>c2b9aa96-764d-40c0-b824-361c9014d29a-9</td>\n      <td>No Risk</td>\n      <td>[0.5357589128686531, 0.46424108713134693]</td>\n    </tr>\n    <tr>\n      <th>9</th>\n      <td>c2b9aa96-764d-40c0-b824-361c9014d29a-10</td>\n      <td>No Risk</td>\n      <td>[0.7017626331953175, 0.2982373668046825]</td>\n    </tr>\n    <tr>\n      <th>10</th>\n      <td>c2b9aa96-764d-40c0-b824-361c9014d29a-11</td>\n      <td>No Risk</td>\n      <td>[0.8877946931714179, 0.11220530682858203]</td>\n    </tr>\n    <tr>\n      <th>11</th>\n      <td>c2b9aa96-764d-40c0-b824-361c9014d29a-12</td>\n      <td>No Risk</td>\n      <td>[0.9032765870359698, 0.09672341296403024]</td>\n    </tr>\n    <tr>\n      <th>12</th>\n      <td>c2b9aa96-764d-40c0-b824-361c9014d29a-13</td>\n      <td>No Risk</td>\n      <td>[0.9622319557169883, 0.037768044283011816]</td>\n    </tr>\n    <tr>\n      <th>13</th>\n      <td>c2b9aa96-764d-40c0-b824-361c9014d29a-14</td>\n      <td>No Risk</td>\n      <td>[0.761316404329846, 0.2386835956701539]</td>\n    </tr>\n    <tr>\n      <th>14</th>\n      <td>c2b9aa96-764d-40c0-b824-361c9014d29a-15</td>\n      <td>Risk</td>\n      <td>[0.2985744867099033, 0.7014255132900966]</td>\n    </tr>\n    <tr>\n      <th>15</th>\n      <td>c2b9aa96-764d-40c0-b824-361c9014d29a-16</td>\n      <td>No Risk</td>\n      <td>[0.845885493496249, 0.15411450650375097]</td>\n    </tr>\n    <tr>\n      <th>16</th>\n      <td>c2b9aa96-764d-40c0-b824-361c9014d29a-17</td>\n      <td>No Risk</td>\n      <td>[0.7998968783373603, 0.2001031216626398]</td>\n    </tr>\n    <tr>\n      <th>17</th>\n      <td>c2b9aa96-764d-40c0-b824-361c9014d29a-18</td>\n      <td>No Risk</td>\n      <td>[0.8795202895659893, 0.12047971043401082]</td>\n    </tr>\n    <tr>\n      <th>18</th>\n      <td>c2b9aa96-764d-40c0-b824-361c9014d29a-19</td>\n      <td>No Risk</td>\n      <td>[0.9432208213019223, 0.056779178698077734]</td>\n    </tr>\n    <tr>\n      <th>19</th>\n      <td>c2b9aa96-764d-40c0-b824-361c9014d29a-20</td>\n      <td>Risk</td>\n      <td>[0.4700062739624989, 0.5299937260375012]</td>\n    </tr>\n    <tr>\n      <th>20</th>\n      <td>c2b9aa96-764d-40c0-b824-361c9014d29a-21</td>\n      <td>No Risk</td>\n      <td>[0.9535758658827579, 0.04642413411724219]</td>\n    </tr>\n    <tr>\n      <th>21</th>\n      <td>c2b9aa96-764d-40c0-b824-361c9014d29a-22</td>\n      <td>No Risk</td>\n      <td>[0.7001601490560363, 0.2998398509439637]</td>\n    </tr>\n    <tr>\n      <th>22</th>\n      <td>c2b9aa96-764d-40c0-b824-361c9014d29a-23</td>\n      <td>No Risk</td>\n      <td>[0.8166638200352867, 0.18333617996471321]</td>\n    </tr>\n    <tr>\n      <th>23</th>\n      <td>c2b9aa96-764d-40c0-b824-361c9014d29a-24</td>\n      <td>Risk</td>\n      <td>[0.4767657380110405, 0.5232342619889595]</td>\n    </tr>\n    <tr>\n      <th>24</th>\n      <td>c2b9aa96-764d-40c0-b824-361c9014d29a-25</td>\n      <td>No Risk</td>\n      <td>[0.947456957910237, 0.05254304208976294]</td>\n    </tr>\n    <tr>\n      <th>25</th>\n      <td>c2b9aa96-764d-40c0-b824-361c9014d29a-26</td>\n      <td>No Risk</td>\n      <td>[0.5197755646308603, 0.4802244353691397]</td>\n    </tr>\n    <tr>\n      <th>26</th>\n      <td>c2b9aa96-764d-40c0-b824-361c9014d29a-27</td>\n      <td>No Risk</td>\n      <td>[0.9641743761183783, 0.035825623881621776]</td>\n    </tr>\n    <tr>\n      <th>27</th>\n      <td>c2b9aa96-764d-40c0-b824-361c9014d29a-28</td>\n      <td>No Risk</td>\n      <td>[0.5005566704462505, 0.4994433295537495]</td>\n    </tr>\n    <tr>\n      <th>28</th>\n      <td>c2b9aa96-764d-40c0-b824-361c9014d29a-29</td>\n      <td>No Risk</td>\n      <td>[0.9712038360739097, 0.02879616392609033]</td>\n    </tr>\n    <tr>\n      <th>29</th>\n      <td>c2b9aa96-764d-40c0-b824-361c9014d29a-30</td>\n      <td>No Risk</td>\n      <td>[0.8118771800972722, 0.1881228199027278]</td>\n    </tr>\n    <tr>\n      <th>30</th>\n      <td>c2b9aa96-764d-40c0-b824-361c9014d29a-31</td>\n      <td>No Risk</td>\n      <td>[0.8429652616524391, 0.15703473834756088]</td>\n    </tr>\n    <tr>\n      <th>31</th>\n      <td>c2b9aa96-764d-40c0-b824-361c9014d29a-32</td>\n      <td>No Risk</td>\n      <td>[0.5072956880220679, 0.4927043119779321]</td>\n    </tr>\n    <tr>\n      <th>32</th>\n      <td>c2b9aa96-764d-40c0-b824-361c9014d29a-33</td>\n      <td>No Risk</td>\n      <td>[0.7476446186471459, 0.2523553813528541]</td>\n    </tr>\n    <tr>\n      <th>33</th>\n      <td>c2b9aa96-764d-40c0-b824-361c9014d29a-34</td>\n      <td>Risk</td>\n      <td>[0.44214423231438404, 0.557855767685616]</td>\n    </tr>\n    <tr>\n      <th>34</th>\n      <td>c2b9aa96-764d-40c0-b824-361c9014d29a-35</td>\n      <td>No Risk</td>\n      <td>[0.6075765734381824, 0.3924234265618176]</td>\n    </tr>\n    <tr>\n      <th>35</th>\n      <td>c2b9aa96-764d-40c0-b824-361c9014d29a-36</td>\n      <td>No Risk</td>\n      <td>[0.914956018592048, 0.08504398140795198]</td>\n    </tr>\n    <tr>\n      <th>36</th>\n      <td>c2b9aa96-764d-40c0-b824-361c9014d29a-37</td>\n      <td>No Risk</td>\n      <td>[0.5329116116815815, 0.46708838831841853]</td>\n    </tr>\n    <tr>\n      <th>37</th>\n      <td>c2b9aa96-764d-40c0-b824-361c9014d29a-38</td>\n      <td>Risk</td>\n      <td>[0.4467549782253239, 0.553245021774676]</td>\n    </tr>\n    <tr>\n      <th>38</th>\n      <td>c2b9aa96-764d-40c0-b824-361c9014d29a-39</td>\n      <td>No Risk</td>\n      <td>[0.981908803126224, 0.01809119687377598]</td>\n    </tr>\n    <tr>\n      <th>39</th>\n      <td>c2b9aa96-764d-40c0-b824-361c9014d29a-40</td>\n      <td>No Risk</td>\n      <td>[0.9440541665939902, 0.05594583340600978]</td>\n    </tr>\n    <tr>\n      <th>40</th>\n      <td>c2b9aa96-764d-40c0-b824-361c9014d29a-41</td>\n      <td>No Risk</td>\n      <td>[0.8334686109835329, 0.1665313890164671]</td>\n    </tr>\n    <tr>\n      <th>41</th>\n      <td>c2b9aa96-764d-40c0-b824-361c9014d29a-42</td>\n      <td>No Risk</td>\n      <td>[0.8303356292858373, 0.16966437071416268]</td>\n    </tr>\n    <tr>\n      <th>42</th>\n      <td>c2b9aa96-764d-40c0-b824-361c9014d29a-43</td>\n      <td>No Risk</td>\n      <td>[0.5859441386063825, 0.4140558613936175]</td>\n    </tr>\n    <tr>\n      <th>43</th>\n      <td>c2b9aa96-764d-40c0-b824-361c9014d29a-44</td>\n      <td>No Risk</td>\n      <td>[0.7813126998029626, 0.21868730019703747]</td>\n    </tr>\n    <tr>\n      <th>44</th>\n      <td>c2b9aa96-764d-40c0-b824-361c9014d29a-45</td>\n      <td>No Risk</td>\n      <td>[0.798328780019949, 0.201671219980051]</td>\n    </tr>\n    <tr>\n      <th>45</th>\n      <td>c2b9aa96-764d-40c0-b824-361c9014d29a-46</td>\n      <td>No Risk</td>\n      <td>[0.8061011806359055, 0.19389881936409448]</td>\n    </tr>\n    <tr>\n      <th>46</th>\n      <td>c2b9aa96-764d-40c0-b824-361c9014d29a-47</td>\n      <td>No Risk</td>\n      <td>[0.8560381990189292, 0.14396180098107073]</td>\n    </tr>\n    <tr>\n      <th>47</th>\n      <td>c2b9aa96-764d-40c0-b824-361c9014d29a-48</td>\n      <td>No Risk</td>\n      <td>[0.5058677391522003, 0.4941322608477997]</td>\n    </tr>\n    <tr>\n      <th>48</th>\n      <td>c2b9aa96-764d-40c0-b824-361c9014d29a-49</td>\n      <td>No Risk</td>\n      <td>[0.9835861860005879, 0.01641381399941212]</td>\n    </tr>\n    <tr>\n      <th>49</th>\n      <td>c2b9aa96-764d-40c0-b824-361c9014d29a-50</td>\n      <td>Risk</td>\n      <td>[0.08464085274355009, 0.91535914725645]</td>\n    </tr>\n    <tr>\n      <th>50</th>\n      <td>c2b9aa96-764d-40c0-b824-361c9014d29a-51</td>\n      <td>No Risk</td>\n      <td>[0.8306632793880209, 0.1693367206119792]</td>\n    </tr>\n    <tr>\n      <th>51</th>\n      <td>c2b9aa96-764d-40c0-b824-361c9014d29a-52</td>\n      <td>Risk</td>\n      <td>[0.4880591165236751, 0.5119408834763248]</td>\n    </tr>\n    <tr>\n      <th>52</th>\n      <td>c2b9aa96-764d-40c0-b824-361c9014d29a-53</td>\n      <td>No Risk</td>\n      <td>[0.97905865348623, 0.02094134651377003]</td>\n    </tr>\n    <tr>\n      <th>53</th>\n      <td>c2b9aa96-764d-40c0-b824-361c9014d29a-54</td>\n      <td>Risk</td>\n      <td>[0.4428743390207769, 0.5571256609792231]</td>\n    </tr>\n    <tr>\n      <th>54</th>\n      <td>c2b9aa96-764d-40c0-b824-361c9014d29a-55</td>\n      <td>No Risk</td>\n      <td>[0.5283264209348142, 0.47167357906518587]</td>\n    </tr>\n    <tr>\n      <th>55</th>\n      <td>c2b9aa96-764d-40c0-b824-361c9014d29a-56</td>\n      <td>No Risk</td>\n      <td>[0.985754892309058, 0.014245107690942138]</td>\n    </tr>\n    <tr>\n      <th>56</th>\n      <td>c2b9aa96-764d-40c0-b824-361c9014d29a-57</td>\n      <td>No Risk</td>\n      <td>[0.6758684241069367, 0.3241315758930634]</td>\n    </tr>\n    <tr>\n      <th>57</th>\n      <td>c2b9aa96-764d-40c0-b824-361c9014d29a-58</td>\n      <td>No Risk</td>\n      <td>[0.6503757438299526, 0.3496242561700474]</td>\n    </tr>\n    <tr>\n      <th>58</th>\n      <td>c2b9aa96-764d-40c0-b824-361c9014d29a-59</td>\n      <td>No Risk</td>\n      <td>[0.58612017198852, 0.41387982801148004]</td>\n    </tr>\n    <tr>\n      <th>59</th>\n      <td>c2b9aa96-764d-40c0-b824-361c9014d29a-60</td>\n      <td>No Risk</td>\n      <td>[0.5718100367583453, 0.4281899632416547]</td>\n    </tr>\n  </tbody>\n</table>\n</div>",
                        "text/plain": "                                 scoring_id predictedLabel  \\\n0    c2b9aa96-764d-40c0-b824-361c9014d29a-1        No Risk   \n1    c2b9aa96-764d-40c0-b824-361c9014d29a-2        No Risk   \n2    c2b9aa96-764d-40c0-b824-361c9014d29a-3           Risk   \n3    c2b9aa96-764d-40c0-b824-361c9014d29a-4        No Risk   \n4    c2b9aa96-764d-40c0-b824-361c9014d29a-5        No Risk   \n5    c2b9aa96-764d-40c0-b824-361c9014d29a-6        No Risk   \n6    c2b9aa96-764d-40c0-b824-361c9014d29a-7        No Risk   \n7    c2b9aa96-764d-40c0-b824-361c9014d29a-8        No Risk   \n8    c2b9aa96-764d-40c0-b824-361c9014d29a-9        No Risk   \n9   c2b9aa96-764d-40c0-b824-361c9014d29a-10        No Risk   \n10  c2b9aa96-764d-40c0-b824-361c9014d29a-11        No Risk   \n11  c2b9aa96-764d-40c0-b824-361c9014d29a-12        No Risk   \n12  c2b9aa96-764d-40c0-b824-361c9014d29a-13        No Risk   \n13  c2b9aa96-764d-40c0-b824-361c9014d29a-14        No Risk   \n14  c2b9aa96-764d-40c0-b824-361c9014d29a-15           Risk   \n15  c2b9aa96-764d-40c0-b824-361c9014d29a-16        No Risk   \n16  c2b9aa96-764d-40c0-b824-361c9014d29a-17        No Risk   \n17  c2b9aa96-764d-40c0-b824-361c9014d29a-18        No Risk   \n18  c2b9aa96-764d-40c0-b824-361c9014d29a-19        No Risk   \n19  c2b9aa96-764d-40c0-b824-361c9014d29a-20           Risk   \n20  c2b9aa96-764d-40c0-b824-361c9014d29a-21        No Risk   \n21  c2b9aa96-764d-40c0-b824-361c9014d29a-22        No Risk   \n22  c2b9aa96-764d-40c0-b824-361c9014d29a-23        No Risk   \n23  c2b9aa96-764d-40c0-b824-361c9014d29a-24           Risk   \n24  c2b9aa96-764d-40c0-b824-361c9014d29a-25        No Risk   \n25  c2b9aa96-764d-40c0-b824-361c9014d29a-26        No Risk   \n26  c2b9aa96-764d-40c0-b824-361c9014d29a-27        No Risk   \n27  c2b9aa96-764d-40c0-b824-361c9014d29a-28        No Risk   \n28  c2b9aa96-764d-40c0-b824-361c9014d29a-29        No Risk   \n29  c2b9aa96-764d-40c0-b824-361c9014d29a-30        No Risk   \n30  c2b9aa96-764d-40c0-b824-361c9014d29a-31        No Risk   \n31  c2b9aa96-764d-40c0-b824-361c9014d29a-32        No Risk   \n32  c2b9aa96-764d-40c0-b824-361c9014d29a-33        No Risk   \n33  c2b9aa96-764d-40c0-b824-361c9014d29a-34           Risk   \n34  c2b9aa96-764d-40c0-b824-361c9014d29a-35        No Risk   \n35  c2b9aa96-764d-40c0-b824-361c9014d29a-36        No Risk   \n36  c2b9aa96-764d-40c0-b824-361c9014d29a-37        No Risk   \n37  c2b9aa96-764d-40c0-b824-361c9014d29a-38           Risk   \n38  c2b9aa96-764d-40c0-b824-361c9014d29a-39        No Risk   \n39  c2b9aa96-764d-40c0-b824-361c9014d29a-40        No Risk   \n40  c2b9aa96-764d-40c0-b824-361c9014d29a-41        No Risk   \n41  c2b9aa96-764d-40c0-b824-361c9014d29a-42        No Risk   \n42  c2b9aa96-764d-40c0-b824-361c9014d29a-43        No Risk   \n43  c2b9aa96-764d-40c0-b824-361c9014d29a-44        No Risk   \n44  c2b9aa96-764d-40c0-b824-361c9014d29a-45        No Risk   \n45  c2b9aa96-764d-40c0-b824-361c9014d29a-46        No Risk   \n46  c2b9aa96-764d-40c0-b824-361c9014d29a-47        No Risk   \n47  c2b9aa96-764d-40c0-b824-361c9014d29a-48        No Risk   \n48  c2b9aa96-764d-40c0-b824-361c9014d29a-49        No Risk   \n49  c2b9aa96-764d-40c0-b824-361c9014d29a-50           Risk   \n50  c2b9aa96-764d-40c0-b824-361c9014d29a-51        No Risk   \n51  c2b9aa96-764d-40c0-b824-361c9014d29a-52           Risk   \n52  c2b9aa96-764d-40c0-b824-361c9014d29a-53        No Risk   \n53  c2b9aa96-764d-40c0-b824-361c9014d29a-54           Risk   \n54  c2b9aa96-764d-40c0-b824-361c9014d29a-55        No Risk   \n55  c2b9aa96-764d-40c0-b824-361c9014d29a-56        No Risk   \n56  c2b9aa96-764d-40c0-b824-361c9014d29a-57        No Risk   \n57  c2b9aa96-764d-40c0-b824-361c9014d29a-58        No Risk   \n58  c2b9aa96-764d-40c0-b824-361c9014d29a-59        No Risk   \n59  c2b9aa96-764d-40c0-b824-361c9014d29a-60        No Risk   \n\n                                   probability  \n0     [0.8000401470855272, 0.1999598529144728]  \n1      [0.6959323712566339, 0.304067628743366]  \n2    [0.47798261426398553, 0.5220173857360144]  \n3    [0.8694529553919186, 0.13054704460808136]  \n4     [0.7001034077150486, 0.2998965922849513]  \n5    [0.7870501076815899, 0.21294989231841002]  \n6    [0.9610702249396212, 0.03892977506037873]  \n7    [0.7876706014833662, 0.21232939851663374]  \n8    [0.5357589128686531, 0.46424108713134693]  \n9     [0.7017626331953175, 0.2982373668046825]  \n10   [0.8877946931714179, 0.11220530682858203]  \n11   [0.9032765870359698, 0.09672341296403024]  \n12  [0.9622319557169883, 0.037768044283011816]  \n13     [0.761316404329846, 0.2386835956701539]  \n14    [0.2985744867099033, 0.7014255132900966]  \n15    [0.845885493496249, 0.15411450650375097]  \n16    [0.7998968783373603, 0.2001031216626398]  \n17   [0.8795202895659893, 0.12047971043401082]  \n18  [0.9432208213019223, 0.056779178698077734]  \n19    [0.4700062739624989, 0.5299937260375012]  \n20   [0.9535758658827579, 0.04642413411724219]  \n21    [0.7001601490560363, 0.2998398509439637]  \n22   [0.8166638200352867, 0.18333617996471321]  \n23    [0.4767657380110405, 0.5232342619889595]  \n24    [0.947456957910237, 0.05254304208976294]  \n25    [0.5197755646308603, 0.4802244353691397]  \n26  [0.9641743761183783, 0.035825623881621776]  \n27    [0.5005566704462505, 0.4994433295537495]  \n28   [0.9712038360739097, 0.02879616392609033]  \n29    [0.8118771800972722, 0.1881228199027278]  \n30   [0.8429652616524391, 0.15703473834756088]  \n31    [0.5072956880220679, 0.4927043119779321]  \n32    [0.7476446186471459, 0.2523553813528541]  \n33    [0.44214423231438404, 0.557855767685616]  \n34    [0.6075765734381824, 0.3924234265618176]  \n35    [0.914956018592048, 0.08504398140795198]  \n36   [0.5329116116815815, 0.46708838831841853]  \n37     [0.4467549782253239, 0.553245021774676]  \n38    [0.981908803126224, 0.01809119687377598]  \n39   [0.9440541665939902, 0.05594583340600978]  \n40    [0.8334686109835329, 0.1665313890164671]  \n41   [0.8303356292858373, 0.16966437071416268]  \n42    [0.5859441386063825, 0.4140558613936175]  \n43   [0.7813126998029626, 0.21868730019703747]  \n44      [0.798328780019949, 0.201671219980051]  \n45   [0.8061011806359055, 0.19389881936409448]  \n46   [0.8560381990189292, 0.14396180098107073]  \n47    [0.5058677391522003, 0.4941322608477997]  \n48   [0.9835861860005879, 0.01641381399941212]  \n49     [0.08464085274355009, 0.91535914725645]  \n50    [0.8306632793880209, 0.1693367206119792]  \n51    [0.4880591165236751, 0.5119408834763248]  \n52     [0.97905865348623, 0.02094134651377003]  \n53    [0.4428743390207769, 0.5571256609792231]  \n54   [0.5283264209348142, 0.47167357906518587]  \n55   [0.985754892309058, 0.014245107690942138]  \n56    [0.6758684241069367, 0.3241315758930634]  \n57    [0.6503757438299526, 0.3496242561700474]  \n58     [0.58612017198852, 0.41387982801148004]  \n59    [0.5718100367583453, 0.4281899632416547]  "
                    },
                    "execution_count": 174,
                    "metadata": {},
                    "output_type": "execute_result"
                }
            ],
            "source": "payload_data = subscription.payload_logging.get_table_content(limit=60)\npayload_data.filter(items=['scoring_id', 'predictedLabel', 'probability'])"
        },
        {
            "cell_type": "markdown",
            "metadata": {},
            "source": "## Congratulations!\n\nYou have finished the hands-on lab for IBM Watson OpenScale. You can now view the [OpenScale Dashboard](https://aiopenscale.cloud.ibm.com/). Click on the tile for the German Credit model to see fairness, accuracy, and performance monitors. Click on the timeseries graph to get detailed information on transactions during a specific time window.\n"
        },
        {
            "cell_type": "markdown",
            "metadata": {},
            "source": "## Authors\n\nEric Martens, is a technical specialist having expertise in analysis and description of business processes, and their translation into functional and non-functional IT requirements. He acts as the interpreter between the worlds of IT and business.\n\nLukasz Cmielowski, PhD, is an Automation Architect and Data Scientist at IBM with a track record of developing enterprise-level applications that substantially increases clients' ability to turn data into actionable knowledge.\n\nZilu (Peter) Tang, is a cognitive developer with experties in deep learning and enterprise AI solutions from Watson Openscale to many other cutting-edge IBM research projects."
        }
    ],
    "metadata": {
        "kernelspec": {
            "display_name": "Python 3.6 with Spark",
            "language": "python3",
            "name": "python36"
        },
        "language_info": {
            "codemirror_mode": {
                "name": "ipython",
                "version": 3
            },
            "file_extension": ".py",
            "mimetype": "text/x-python",
            "name": "python",
            "nbconvert_exporter": "python",
            "pygments_lexer": "ipython3",
            "version": "3.6.8"
        }
    },
    "nbformat": 4,
    "nbformat_minor": 1
}