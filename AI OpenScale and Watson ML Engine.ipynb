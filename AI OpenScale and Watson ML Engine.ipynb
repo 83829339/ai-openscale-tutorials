{
    "nbformat_minor": 1, 
    "cells": [
        {
            "source": "<img src=\"https://github.com/pmservice/ai-openscale-tutorials/raw/master/notebooks/images/banner.png\" align=\"left\" alt=\"banner\">", 
            "cell_type": "markdown", 
            "metadata": {}
        }, 
        {
            "source": "# Working with Watson Machine Learning engine", 
            "cell_type": "markdown", 
            "metadata": {}
        }, 
        {
            "source": "This notebook shows hot to create a data mart for Watson Machine Learning deployments. It includes steps for performance, bias and quality monitor configurations.", 
            "cell_type": "markdown", 
            "metadata": {}
        }, 
        {
            "source": "Contents\n- [1. Setup](#setup)\n- [2. Binding machine learning engine](#binding)\n- [3. Subscriptions](#subscription)\n- [4. Quality monitoring](#quality)\n- [5. Performance monitoring](#performance)\n- [6. Fairness monitoring](#fairness)\n- [7. Data Mart](#datamart)", 
            "cell_type": "markdown", 
            "metadata": {}
        }, 
        {
            "source": "<a id=\"setup\"></a>\n## 1. Setup", 
            "cell_type": "markdown", 
            "metadata": {}
        }, 
        {
            "source": "### 1.1 Installation and authentication", 
            "cell_type": "markdown", 
            "metadata": {}
        }, 
        {
            "execution_count": 1, 
            "cell_type": "code", 
            "metadata": {
                "scrolled": true
            }, 
            "outputs": [
                {
                    "output_type": "stream", 
                    "name": "stdout", 
                    "text": "Requirement not upgraded as not directly required: docutils>=0.10 in /opt/conda/envs/DSX-Python35/lib/python3.5/site-packages (from ibm-cos-sdk-core==2.*,>=2.0.0->ibm-cos-sdk->watson-machine-learning-client->ibm-ai-openscale)\r\n"
                }
            ], 
            "source": "!pip install --upgrade ibm-ai-openscale --no-cache | tail -n 1"
        }, 
        {
            "execution_count": 2, 
            "cell_type": "code", 
            "metadata": {}, 
            "outputs": [
                {
                    "output_type": "stream", 
                    "name": "stdout", 
                    "text": "Requirement not upgraded as not directly required: docutils>=0.10 in /opt/conda/envs/DSX-Python35/lib/python3.5/site-packages (from ibm-cos-sdk-core==2.*,>=2.0.0->ibm-cos-sdk->watson-machine-learning-client)\r\n"
                }
            ], 
            "source": "!pip install --upgrade watson-machine-learning-client --no-cache | tail -n 1"
        }, 
        {
            "source": "#### ACTION: Restart kernel to make sure installed versions are used.", 
            "cell_type": "markdown", 
            "metadata": {}
        }, 
        {
            "source": "Import and initiate.", 
            "cell_type": "markdown", 
            "metadata": {}
        }, 
        {
            "execution_count": 51, 
            "cell_type": "code", 
            "metadata": {}, 
            "outputs": [], 
            "source": "from ibm_ai_openscale import APIClient\nfrom ibm_ai_openscale.engines import *\nfrom ibm_ai_openscale.utils import *\nfrom ibm_ai_openscale.supporting_classes import PayloadRecord, Feature\nfrom ibm_ai_openscale.supporting_classes.enums import *"
        }, 
        {
            "source": "#### ACTION: Get AI OpenScale `instance_guid` and `apikey`\n\nHow to install IBM Cloud (bluemix) console: [instruction](https://console.bluemix.net/docs/cli/reference/ibmcloud/download_cli.html#install_use)\n\nHow to get api key using bluemix console:\n```\nbx login --sso\nbx iam api-key-create 'my_key'\n```\n\nHow to get your AI OpenScale instance GUID\n\n- if your resource group is different than `default` switch to resource group containing AI OpenScale instance\n```\nbx target -g <myResourceGroup>\n```\n- get details of the instance\n```\nbx resource service-instance 'AI-OpenScale-instance_name'\n```", 
            "cell_type": "markdown", 
            "metadata": {}
        }, 
        {
            "source": "#### Let's define some constants required to set up data mart:\n\n- AIOS_CREDENTIALS (AI OpenScale credentials)\n- POSTGRES_CREDENTIALS\n- SCHEMA_NAME\n- WML_CREDENTIALS (Watson Machine Learning credentials)", 
            "cell_type": "markdown", 
            "metadata": {}
        }, 
        {
            "execution_count": 4, 
            "cell_type": "code", 
            "metadata": {}, 
            "outputs": [], 
            "source": "AIOS_CREDENTIALS = {\n  \"instance_guid\": \"*****\",\n  \"apikey\": \"*****\", \n  \"url\": \"https://api.aiopenscale.cloud.ibm.com\"\n}"
        }, 
        {
            "execution_count": 5, 
            "cell_type": "code", 
            "metadata": {}, 
            "outputs": [], 
            "source": "# The code was removed by Watson Studio for sharing."
        }, 
        {
            "execution_count": 6, 
            "cell_type": "code", 
            "metadata": {}, 
            "outputs": [], 
            "source": "WML_CREDENTIALS =  {\n  \"apikey\": \"***\",\n  \"iam_apikey_description\": \"Auto generated apikey during resource-key operation for Instance - crn:v1:bluemix:public:pm-20:us-south:a/181ed6cc388f47bd9d862fe066f9cfce:c419e24a-c4eb-41b4-a2e1-ce4f0d298428::\",\n  \"iam_apikey_name\": \"auto-generated-apikey-33f864a1-9958-4a32-b9ab-6fd962f98522\",\n  \"iam_role_crn\": \"crn:v1:bluemix:public:iam::::serviceRole:Writer\",\n  \"iam_serviceid_crn\": \"crn:v1:bluemix:public:iam-identity::a/181ed6cc388f47bd9d862fe066f9cfce::serviceid:ServiceId-e847629a-195e-455d-a949-957263b867ab\",\n  \"instance_id\": \"***\",\n  \"password\": \"***\",\n  \"url\": \"https://us-south.ml.cloud.ibm.com\",\n  \"username\": \"*****\"\n}"
        }, 
        {
            "execution_count": 62, 
            "cell_type": "code", 
            "metadata": {}, 
            "outputs": [], 
            "source": "# The code was removed by Watson Studio for sharing."
        }, 
        {
            "execution_count": 8, 
            "cell_type": "code", 
            "metadata": {}, 
            "outputs": [], 
            "source": "POSTGRES_CREDENTIALS = {\n    \"db_type\": \"postgresql\",\n    \"uri_cli_1\": \"xxx\",\n    \"maps\": [],\n    \"instance_administration_api\": {\n        \"instance_id\": \"xxx\",\n        \"root\": \"xxx\",\n        \"deployment_id\": \"xxx\"\n    },\n    \"name\": \"xxx\",\n    \"uri_cli\": \"xxx\",\n    \"uri_direct_1\": \"xxx\",\n    \"ca_certificate_base64\": \"xxx\",\n    \"deployment_id\": \"xxx\",\n    \"uri\": \"xxx\"\n}"
        }, 
        {
            "execution_count": 9, 
            "cell_type": "code", 
            "metadata": {}, 
            "outputs": [], 
            "source": "# The code was removed by Watson Studio for sharing."
        }, 
        {
            "execution_count": 64, 
            "cell_type": "code", 
            "metadata": {}, 
            "outputs": [], 
            "source": "SCHEMA_NAME = 'data_mart_cars4u_tutorial'"
        }, 
        {
            "source": "You can use the code below to create the schema. If the schema already exists skipp this cell.", 
            "cell_type": "markdown", 
            "metadata": {}
        }, 
        {
            "execution_count": 65, 
            "cell_type": "code", 
            "metadata": {}, 
            "outputs": [], 
            "source": "create_postgres_schema(postgres_credentials=POSTGRES_CREDENTIALS, schema_name=SCHEMA_NAME)"
        }, 
        {
            "execution_count": 66, 
            "cell_type": "code", 
            "metadata": {
                "scrolled": true
            }, 
            "outputs": [], 
            "source": "client = APIClient(aios_credentials=AIOS_CREDENTIALS)"
        }, 
        {
            "execution_count": 67, 
            "cell_type": "code", 
            "metadata": {}, 
            "outputs": [
                {
                    "execution_count": 67, 
                    "metadata": {}, 
                    "data": {
                        "text/plain": "'1.0.287'"
                    }, 
                    "output_type": "execute_result"
                }
            ], 
            "source": "client.version"
        }, 
        {
            "source": "### 1.2 DataMart setup", 
            "cell_type": "markdown", 
            "metadata": {}
        }, 
        {
            "execution_count": 69, 
            "cell_type": "code", 
            "metadata": {}, 
            "outputs": [], 
            "source": "client.data_mart.setup(db_credentials=POSTGRES_CREDENTIALS, schema=SCHEMA_NAME)"
        }, 
        {
            "execution_count": 70, 
            "cell_type": "code", 
            "metadata": {}, 
            "outputs": [], 
            "source": "data_mart_details = client.data_mart.get_details()"
        }, 
        {
            "source": "Data Mart with instance guid name has been created.", 
            "cell_type": "markdown", 
            "metadata": {}
        }, 
        {
            "source": "<a id=\"binding\"></a>\n\n## 2. Bind machine learning engines", 
            "cell_type": "markdown", 
            "metadata": {}
        }, 
        {
            "source": "### 2.1 Bind Watson Machine Learning ", 
            "cell_type": "markdown", 
            "metadata": {}
        }, 
        {
            "source": "You can bind you Watson Machine Learning instance to previously created data mart.", 
            "cell_type": "markdown", 
            "metadata": {}
        }, 
        {
            "execution_count": 71, 
            "cell_type": "code", 
            "metadata": {}, 
            "outputs": [], 
            "source": "binding_uid = client.data_mart.bindings.add('WML instance', WatsonMachineLearningInstance(WML_CREDENTIALS))"
        }, 
        {
            "execution_count": 72, 
            "cell_type": "code", 
            "metadata": {}, 
            "outputs": [], 
            "source": "bindings_details = client.data_mart.bindings.get_details()"
        }, 
        {
            "execution_count": 73, 
            "cell_type": "code", 
            "metadata": {}, 
            "outputs": [
                {
                    "output_type": "display_data", 
                    "data": {
                        "text/html": "<HTML>\n        <body>\n            <h3>Service bindings</h3>\n            <table style='border: 1px solid #dddddd; font-family: Courier'>\n                <th style='border: 1px solid #dddddd'>uid</th><th style='border: 1px solid #dddddd'>name</th><th style='border: 1px solid #dddddd'>service_type</th><th style='border: 1px solid #dddddd'>created</th>\n                <tr><td style='border: 1px solid #dddddd'>4d7a90a8-9df1-45be-be13-cb54930512cf</td><td style='border: 1px solid #dddddd'>WML instance</td><td style='border: 1px solid #dddddd'>watson_machine_learning</td><td style='border: 1px solid #dddddd'>2018-12-13T15:29:01.328Z</td></tr>\n            </table>\n        </body>\n        </HTML>", 
                        "text/plain": "<IPython.core.display.HTML object>"
                    }, 
                    "metadata": {}
                }
            ], 
            "source": "client.data_mart.bindings.list()"
        }, 
        {
            "source": "### 2.2 Check available assets from binded services", 
            "cell_type": "markdown", 
            "metadata": {}
        }, 
        {
            "source": "#### List available assets", 
            "cell_type": "markdown", 
            "metadata": {}
        }, 
        {
            "execution_count": 74, 
            "cell_type": "code", 
            "metadata": {}, 
            "outputs": [
                {
                    "output_type": "display_data", 
                    "data": {
                        "text/html": "<HTML>\n        <body>\n            <h3>Available assets</h3>\n            <table style='border: 1px solid #dddddd; font-family: Courier'>\n                <th style='border: 1px solid #dddddd'>source_uid</th><th style='border: 1px solid #dddddd'>name</th><th style='border: 1px solid #dddddd'>created</th><th style='border: 1px solid #dddddd'>type</th><th style='border: 1px solid #dddddd'>frameworks</th><th style='border: 1px solid #dddddd'>binding_uid</th><th style='border: 1px solid #dddddd'>is_subscribed</th>\n                <tr><td style='border: 1px solid #dddddd'>67d1d82d-eeb0-488a-b403-1a8dc00db72f</td><td style='border: 1px solid #dddddd'>CARS4U - Action Recommendation Model</td><td style='border: 1px solid #dddddd'>2018-12-13T15:27:03.277Z</td><td style='border: 1px solid #dddddd'>model</td><td style='border: 1px solid #dddddd'>mllib-2.1</td><td style='border: 1px solid #dddddd'>4d7a90a8-9df1-45be-be13-cb54930512cf</td><td style='border: 1px solid #dddddd'>False</td></tr>\n            </table>\n        </body>\n        </HTML>", 
                        "text/plain": "<IPython.core.display.HTML object>"
                    }, 
                    "metadata": {}
                }
            ], 
            "source": "client.data_mart.bindings.list_assets()"
        }, 
        {
            "source": "#### Get metadata of available assets", 
            "cell_type": "markdown", 
            "metadata": {}
        }, 
        {
            "execution_count": 75, 
            "cell_type": "code", 
            "metadata": {}, 
            "outputs": [], 
            "source": "assets_details = client.data_mart.bindings.get_asset_details()"
        }, 
        {
            "execution_count": 76, 
            "cell_type": "code", 
            "metadata": {}, 
            "outputs": [], 
            "source": "cars4u_asset_uid = None\n\nfor x in client.data_mart.bindings.get_asset_details():\n    if 'cars4u' in x['name'].lower():\n        cars4u_asset_uid = x['source_uid']"
        }, 
        {
            "execution_count": 77, 
            "cell_type": "code", 
            "metadata": {}, 
            "outputs": [
                {
                    "output_type": "stream", 
                    "name": "stdout", 
                    "text": "67d1d82d-eeb0-488a-b403-1a8dc00db72f\n"
                }
            ], 
            "source": "print(str(cars4u_asset_uid))"
        }, 
        {
            "source": "<a id=\"subscriptions\"></a>\n## 3. Subscriptions", 
            "cell_type": "markdown", 
            "metadata": {}
        }, 
        {
            "source": "### 3.1 Subscribe the asset", 
            "cell_type": "markdown", 
            "metadata": {}
        }, 
        {
            "execution_count": 78, 
            "cell_type": "code", 
            "metadata": {}, 
            "outputs": [], 
            "source": "subscription = client.data_mart.subscriptions.add(WatsonMachineLearningAsset(cars4u_asset_uid))"
        }, 
        {
            "source": "**Note:** By default, payload logging and performance monitoring are enabled.", 
            "cell_type": "markdown", 
            "metadata": {}
        }, 
        {
            "source": "#### Get subscriptions list", 
            "cell_type": "markdown", 
            "metadata": {}
        }, 
        {
            "execution_count": 79, 
            "cell_type": "code", 
            "metadata": {}, 
            "outputs": [
                {
                    "output_type": "stream", 
                    "name": "stdout", 
                    "text": "['67d1d82d-eeb0-488a-b403-1a8dc00db72f']\n"
                }
            ], 
            "source": "subscriptions_uids = client.data_mart.subscriptions.get_uids()\nprint(subscriptions_uids)"
        }, 
        {
            "source": "#### List subscriptions", 
            "cell_type": "markdown", 
            "metadata": {}
        }, 
        {
            "execution_count": 80, 
            "cell_type": "code", 
            "metadata": {
                "scrolled": true
            }, 
            "outputs": [
                {
                    "output_type": "display_data", 
                    "data": {
                        "text/html": "<HTML>\n        <body>\n            <h3>Subscriptions</h3>\n            <table style='border: 1px solid #dddddd; font-family: Courier'>\n                <th style='border: 1px solid #dddddd'>uid</th><th style='border: 1px solid #dddddd'>name</th><th style='border: 1px solid #dddddd'>type</th><th style='border: 1px solid #dddddd'>binding_uid</th><th style='border: 1px solid #dddddd'>created</th>\n                <tr><td style='border: 1px solid #dddddd'>67d1d82d-eeb0-488a-b403-1a8dc00db72f</td><td style='border: 1px solid #dddddd'>CARS4U - Action Recommendation Model</td><td style='border: 1px solid #dddddd'>model</td><td style='border: 1px solid #dddddd'>4d7a90a8-9df1-45be-be13-cb54930512cf</td><td style='border: 1px solid #dddddd'>2018-12-13T15:29:10.858Z</td></tr>\n            </table>\n        </body>\n        </HTML>", 
                        "text/plain": "<IPython.core.display.HTML object>"
                    }, 
                    "metadata": {}
                }
            ], 
            "source": "client.data_mart.subscriptions.list()"
        }, 
        {
            "source": "#### Get subscription", 
            "cell_type": "markdown", 
            "metadata": {}
        }, 
        {
            "source": "**Hint:** You can get subscription by passing subscription_uid to below method.", 
            "cell_type": "markdown", 
            "metadata": {}
        }, 
        {
            "source": "subscription = client.data_mart.subscriptions.get('f17b991c-3098-4cdd-86d9-d56174ca4b00')", 
            "cell_type": "raw", 
            "metadata": {}
        }, 
        {
            "source": "<a id=\"quality\"></a>\n## 4. Quality monitoring and feedback logging", 
            "cell_type": "markdown", 
            "metadata": {}
        }, 
        {
            "source": "### 4.1 Quality monitoring setup", 
            "cell_type": "markdown", 
            "metadata": {}
        }, 
        {
            "source": "#### Enable quality monitor for selected subscription", 
            "cell_type": "markdown", 
            "metadata": {}
        }, 
        {
            "source": "You need to provide the monitoring `threshold` and `min_records` (minimal number of feedback records).", 
            "cell_type": "markdown", 
            "metadata": {}
        }, 
        {
            "execution_count": 81, 
            "cell_type": "code", 
            "metadata": {}, 
            "outputs": [], 
            "source": "subscription.quality_monitoring.enable(problem_type=ProblemType.MULTICLASS_CLASSIFICATION, threshold=0.7, min_records=5)"
        }, 
        {
            "source": "### 4.2 Feedback logging", 
            "cell_type": "markdown", 
            "metadata": {}
        }, 
        {
            "source": "#### Send some feedback records to feedback store. ", 
            "cell_type": "markdown", 
            "metadata": {}
        }, 
        {
            "source": "Feedback records are used to evaluate our model.", 
            "cell_type": "markdown", 
            "metadata": {}
        }, 
        {
            "execution_count": 82, 
            "cell_type": "code", 
            "metadata": {}, 
            "outputs": [], 
            "source": "subscription.feedback_logging.store(\n            [\n                [122, 'Male', 'S', 2, 45, 'Inactive', 'Yes', 'no wait for pick up and drop off was great', 0, 'Product: Functioning', 'Voucher'],\n                [178, 'Female', 'M', 2, 55, 'Active', 'No', 'what customer service? It was a nightmare', 0, 'Product: Information', 'Free Upgrade'],\n                [122, 'Male', 'S', 2, 45, 'Inactive', 'Yes', 'no wait for pick up and drop off was great', 0, 'Product: Functioning', 'NA'],\n                [123, 'Male', 'S', 2, 45, 'Inactive', 'Yes', 'no wait for pick up and drop off was great', 0, 'Product: Functioning', 'Voucher'],\n                [178, 'Female', 'M', 2, 55, 'Active', 'No', 'what customer service? It was a nightmare', 0, 'Product: Information', 'Free Upgrade'],\n                [124, 'Male', 'S', 2, 45, 'Inactive', 'Yes', 'no wait for pick up and drop off was great', 0, 'Product: Functioning', 'NA'],\n                [3785, 'Male', 'S', 1, 17, 'Inactive', 'Yes', 'The car should have been brought to us instead of us trying to find it in the lot.', 0, 'Product: Information', 'On-demand pickup location'],\n                [3786, 'Male', 'S', 1, 17, 'Inactive', 'Yes', 'The car should have been brought to us instead of us trying to find it in the lot.', 0, 'Product: Information', 'On-demand pickup location'],\n                [3787, 'Male', 'S', 1, 17, 'Active', 'Yes', 'The car should have been brought to us instead of us trying to find it in the lot.', 0, 'Product: Information', 'On-demand pickup location'],\n                [122, 'Male', 'S', 2, 45, 'Inactive', 'Yes', 'no wait for pick up and drop off was great', 0, 'Product: Functioning', 'Voucher'],\n                [178, 'Female', 'M', 2, 55, 'Active', 'No', 'what customer service? It was a nightmare', 0, 'Product: Information', 'Free Upgrade'],\n                [122, 'Male', 'S', 2, 45, 'Inactive', 'Yes', 'no wait for pick up and drop off was great', 0, 'Product: Functioning', 'NA']\n            ],\n            fields=['ID', 'Gender', 'Status', 'Children', 'Age', 'Customer_Status', 'Car_Owner', 'Customer_Service', 'Satisfaction', 'Business_Area', 'Action']\n        )"
        }, 
        {
            "source": "#### Preview table schema and content", 
            "cell_type": "markdown", 
            "metadata": {}
        }, 
        {
            "execution_count": 83, 
            "cell_type": "code", 
            "metadata": {}, 
            "outputs": [
                {
                    "output_type": "display_data", 
                    "data": {
                        "text/html": "<HTML>\n        <body>\n            <h3>Schema of Feedback_67d1d82d-eeb0-488a-b403-1a8dc00db72f</h3>\n            <table style='border: 1px solid #dddddd; font-family: Courier'>\n                <th style='border: 1px solid #dddddd'>name</th><th style='border: 1px solid #dddddd'>type</th><th style='border: 1px solid #dddddd'>nullable</th>\n                <tr><td style='border: 1px solid #dddddd'>ID</td><td style='border: 1px solid #dddddd'>integer</td><td style='border: 1px solid #dddddd'>True</td></tr><tr><td style='border: 1px solid #dddddd'>Gender</td><td style='border: 1px solid #dddddd'>string</td><td style='border: 1px solid #dddddd'>True</td></tr><tr><td style='border: 1px solid #dddddd'>Status</td><td style='border: 1px solid #dddddd'>string</td><td style='border: 1px solid #dddddd'>True</td></tr><tr><td style='border: 1px solid #dddddd'>Children</td><td style='border: 1px solid #dddddd'>integer</td><td style='border: 1px solid #dddddd'>True</td></tr><tr><td style='border: 1px solid #dddddd'>Age</td><td style='border: 1px solid #dddddd'>double</td><td style='border: 1px solid #dddddd'>True</td></tr><tr><td style='border: 1px solid #dddddd'>Customer_Status</td><td style='border: 1px solid #dddddd'>string</td><td style='border: 1px solid #dddddd'>True</td></tr><tr><td style='border: 1px solid #dddddd'>Car_Owner</td><td style='border: 1px solid #dddddd'>string</td><td style='border: 1px solid #dddddd'>True</td></tr><tr><td style='border: 1px solid #dddddd'>Customer_Service</td><td style='border: 1px solid #dddddd'>string</td><td style='border: 1px solid #dddddd'>True</td></tr><tr><td style='border: 1px solid #dddddd'>Satisfaction</td><td style='border: 1px solid #dddddd'>integer</td><td style='border: 1px solid #dddddd'>True</td></tr><tr><td style='border: 1px solid #dddddd'>Business_Area</td><td style='border: 1px solid #dddddd'>string</td><td style='border: 1px solid #dddddd'>True</td></tr><tr><td style='border: 1px solid #dddddd'>Action</td><td style='border: 1px solid #dddddd'>string</td><td style='border: 1px solid #dddddd'>True</td></tr><tr><td style='border: 1px solid #dddddd'>_training</td><td style='border: 1px solid #dddddd'>timestamp</td><td style='border: 1px solid #dddddd'>False</td></tr>\n            </table>\n        </body>\n        </HTML>", 
                        "text/plain": "<IPython.core.display.HTML object>"
                    }, 
                    "metadata": {}
                }
            ], 
            "source": "subscription.feedback_logging.print_table_schema()"
        }, 
        {
            "execution_count": 84, 
            "cell_type": "code", 
            "metadata": {}, 
            "outputs": [
                {
                    "output_type": "display_data", 
                    "data": {
                        "text/html": "<HTML>\n        <body>\n            <h3>Feedback_67d1d82d-eeb0-488a-b403-1a8dc00db72f (binding_id=4d7a90a8-9df1-45be-be13-cb54930512cf, subscription_id=67d1d82d-eeb0-488a-b403-1a8dc00db72f)</h3>\n            <table style='border: 1px solid #dddddd; font-family: Courier'>\n                <th style='border: 1px solid #dddddd'>ID</th><th style='border: 1px solid #dddddd'>Gender</th><th style='border: 1px solid #dddddd'>Status</th><th style='border: 1px solid #dddddd'>Children</th><th style='border: 1px solid #dddddd'>Age</th><th style='border: 1px solid #dddddd'>Customer_Status</th><th style='border: 1px solid #dddddd'>Car_Owner</th><th style='border: 1px solid #dddddd'>Customer_Service</th><th style='border: 1px solid #dddddd'>Satisfaction</th><th style='border: 1px solid #dddddd'>Business_Area</th><th style='border: 1px solid #dddddd'>Action</th><th style='border: 1px solid #dddddd'>_training</th>\n                <tr><td style='border: 1px solid #dddddd'>122</td><td style='border: 1px solid #dddddd'>Male</td><td style='border: 1px solid #dddddd'>S</td><td style='border: 1px solid #dddddd'>2</td><td style='border: 1px solid #dddddd'>45.0</td><td style='border: 1px solid #dddddd'>Inactive</td><td style='border: 1px solid #dddddd'>Yes</td><td style='border: 1px solid #dddddd'>no wait for pick up and drop off was great</td><td style='border: 1px solid #dddddd'>0</td><td style='border: 1px solid #dddddd'>Product: Functioning</td><td style='border: 1px solid #dddddd'>Voucher</td><td style='border: 1px solid #dddddd'>2018-12-13 15:29:12.321000+00:00</td></tr><tr><td style='border: 1px solid #dddddd'>178</td><td style='border: 1px solid #dddddd'>Female</td><td style='border: 1px solid #dddddd'>M</td><td style='border: 1px solid #dddddd'>2</td><td style='border: 1px solid #dddddd'>55.0</td><td style='border: 1px solid #dddddd'>Active</td><td style='border: 1px solid #dddddd'>No</td><td style='border: 1px solid #dddddd'>what customer service? It was a nightmare</td><td style='border: 1px solid #dddddd'>0</td><td style='border: 1px solid #dddddd'>Product: Information</td><td style='border: 1px solid #dddddd'>Free Upgrade</td><td style='border: 1px solid #dddddd'>2018-12-13 15:29:12.321000+00:00</td></tr><tr><td style='border: 1px solid #dddddd'>122</td><td style='border: 1px solid #dddddd'>Male</td><td style='border: 1px solid #dddddd'>S</td><td style='border: 1px solid #dddddd'>2</td><td style='border: 1px solid #dddddd'>45.0</td><td style='border: 1px solid #dddddd'>Inactive</td><td style='border: 1px solid #dddddd'>Yes</td><td style='border: 1px solid #dddddd'>no wait for pick up and drop off was great</td><td style='border: 1px solid #dddddd'>0</td><td style='border: 1px solid #dddddd'>Product: Functioning</td><td style='border: 1px solid #dddddd'>NA</td><td style='border: 1px solid #dddddd'>2018-12-13 15:29:12.321000+00:00</td></tr><tr><td style='border: 1px solid #dddddd'>123</td><td style='border: 1px solid #dddddd'>Male</td><td style='border: 1px solid #dddddd'>S</td><td style='border: 1px solid #dddddd'>2</td><td style='border: 1px solid #dddddd'>45.0</td><td style='border: 1px solid #dddddd'>Inactive</td><td style='border: 1px solid #dddddd'>Yes</td><td style='border: 1px solid #dddddd'>no wait for pick up and drop off was great</td><td style='border: 1px solid #dddddd'>0</td><td style='border: 1px solid #dddddd'>Product: Functioning</td><td style='border: 1px solid #dddddd'>Voucher</td><td style='border: 1px solid #dddddd'>2018-12-13 15:29:12.321000+00:00</td></tr><tr><td style='border: 1px solid #dddddd'>178</td><td style='border: 1px solid #dddddd'>Female</td><td style='border: 1px solid #dddddd'>M</td><td style='border: 1px solid #dddddd'>2</td><td style='border: 1px solid #dddddd'>55.0</td><td style='border: 1px solid #dddddd'>Active</td><td style='border: 1px solid #dddddd'>No</td><td style='border: 1px solid #dddddd'>what customer service? It was a nightmare</td><td style='border: 1px solid #dddddd'>0</td><td style='border: 1px solid #dddddd'>Product: Information</td><td style='border: 1px solid #dddddd'>Free Upgrade</td><td style='border: 1px solid #dddddd'>2018-12-13 15:29:12.321000+00:00</td></tr><tr><td style='border: 1px solid #dddddd'>124</td><td style='border: 1px solid #dddddd'>Male</td><td style='border: 1px solid #dddddd'>S</td><td style='border: 1px solid #dddddd'>2</td><td style='border: 1px solid #dddddd'>45.0</td><td style='border: 1px solid #dddddd'>Inactive</td><td style='border: 1px solid #dddddd'>Yes</td><td style='border: 1px solid #dddddd'>no wait for pick up and drop off was great</td><td style='border: 1px solid #dddddd'>0</td><td style='border: 1px solid #dddddd'>Product: Functioning</td><td style='border: 1px solid #dddddd'>NA</td><td style='border: 1px solid #dddddd'>2018-12-13 15:29:12.321000+00:00</td></tr><tr><td style='border: 1px solid #dddddd'>3785</td><td style='border: 1px solid #dddddd'>Male</td><td style='border: 1px solid #dddddd'>S</td><td style='border: 1px solid #dddddd'>1</td><td style='border: 1px solid #dddddd'>17.0</td><td style='border: 1px solid #dddddd'>Inactive</td><td style='border: 1px solid #dddddd'>Yes</td><td style='border: 1px solid #dddddd'>The car should have been brought to us instead of us trying to find it in the lot.</td><td style='border: 1px solid #dddddd'>0</td><td style='border: 1px solid #dddddd'>Product: Information</td><td style='border: 1px solid #dddddd'>On-demand pickup location</td><td style='border: 1px solid #dddddd'>2018-12-13 15:29:12.321000+00:00</td></tr><tr><td style='border: 1px solid #dddddd'>3786</td><td style='border: 1px solid #dddddd'>Male</td><td style='border: 1px solid #dddddd'>S</td><td style='border: 1px solid #dddddd'>1</td><td style='border: 1px solid #dddddd'>17.0</td><td style='border: 1px solid #dddddd'>Inactive</td><td style='border: 1px solid #dddddd'>Yes</td><td style='border: 1px solid #dddddd'>The car should have been brought to us instead of us trying to find it in the lot.</td><td style='border: 1px solid #dddddd'>0</td><td style='border: 1px solid #dddddd'>Product: Information</td><td style='border: 1px solid #dddddd'>On-demand pickup location</td><td style='border: 1px solid #dddddd'>2018-12-13 15:29:12.321000+00:00</td></tr><tr><td style='border: 1px solid #dddddd'>3787</td><td style='border: 1px solid #dddddd'>Male</td><td style='border: 1px solid #dddddd'>S</td><td style='border: 1px solid #dddddd'>1</td><td style='border: 1px solid #dddddd'>17.0</td><td style='border: 1px solid #dddddd'>Active</td><td style='border: 1px solid #dddddd'>Yes</td><td style='border: 1px solid #dddddd'>The car should have been brought to us instead of us trying to find it in the lot.</td><td style='border: 1px solid #dddddd'>0</td><td style='border: 1px solid #dddddd'>Product: Information</td><td style='border: 1px solid #dddddd'>On-demand pickup location</td><td style='border: 1px solid #dddddd'>2018-12-13 15:29:12.321000+00:00</td></tr><tr><td style='border: 1px solid #dddddd'>122</td><td style='border: 1px solid #dddddd'>Male</td><td style='border: 1px solid #dddddd'>S</td><td style='border: 1px solid #dddddd'>2</td><td style='border: 1px solid #dddddd'>45.0</td><td style='border: 1px solid #dddddd'>Inactive</td><td style='border: 1px solid #dddddd'>Yes</td><td style='border: 1px solid #dddddd'>no wait for pick up and drop off was great</td><td style='border: 1px solid #dddddd'>0</td><td style='border: 1px solid #dddddd'>Product: Functioning</td><td style='border: 1px solid #dddddd'>Voucher</td><td style='border: 1px solid #dddddd'>2018-12-13 15:29:12.321000+00:00</td></tr>\n            </table>\n        </body>\n        </HTML>", 
                        "text/plain": "<IPython.core.display.HTML object>"
                    }, 
                    "metadata": {}
                }, 
                {
                    "output_type": "stream", 
                    "name": "stdout", 
                    "text": "Note: First 10 records were displayed.\n"
                }
            ], 
            "source": "subscription.feedback_logging.show_table()"
        }, 
        {
            "source": "### 4.3 Run quality monitor on demand", 
            "cell_type": "markdown", 
            "metadata": {}
        }, 
        {
            "source": "**Hint:** Accuracy (Quality) monitor is executed every hour. You can also run it on demand using below command.", 
            "cell_type": "markdown", 
            "metadata": {}
        }, 
        {
            "execution_count": 85, 
            "cell_type": "code", 
            "metadata": {}, 
            "outputs": [], 
            "source": "run_details = subscription.quality_monitoring.run()"
        }, 
        {
            "source": "You can also check evaluation run details using below command. The code below has a timeout set to 60 seconds.", 
            "cell_type": "markdown", 
            "metadata": {}
        }, 
        {
            "execution_count": 86, 
            "cell_type": "code", 
            "metadata": {}, 
            "outputs": [
                {
                    "output_type": "stream", 
                    "name": "stdout", 
                    "text": "Run status: running\nRun status: running\nRun status: completed\n"
                }
            ], 
            "source": "status = run_details['status']\nid = run_details['id']\n\nprint(\"Run status: {}\".format(status))\n\nstart_time = time.time()\nelapsed_time = 0\n\nwhile status != 'completed' and elapsed_time < 60:\n    time.sleep(10)\n    run_details = subscription.quality_monitoring.get_run_details(run_uid=id)\n    status = run_details['status']\n    elapsed_time = time.time() - start_time\n    print(\"Run status: {}\".format(status))"
        }, 
        {
            "source": "### 4.4 Show the quality metrics", 
            "cell_type": "markdown", 
            "metadata": {}
        }, 
        {
            "execution_count": 87, 
            "cell_type": "code", 
            "metadata": {}, 
            "outputs": [
                {
                    "output_type": "display_data", 
                    "data": {
                        "text/html": "<HTML>\n        <body>\n            <h3>QualityMetrics (binding_id=4d7a90a8-9df1-45be-be13-cb54930512cf, subscription_id=67d1d82d-eeb0-488a-b403-1a8dc00db72f)</h3>\n            <table style='border: 1px solid #dddddd; font-family: Courier'>\n                <th style='border: 1px solid #dddddd'>ts</th><th style='border: 1px solid #dddddd'>quality</th><th style='border: 1px solid #dddddd'>quality_threshold</th><th style='border: 1px solid #dddddd'>binding_id</th><th style='border: 1px solid #dddddd'>subscription_id</th><th style='border: 1px solid #dddddd'>deployment_id</th><th style='border: 1px solid #dddddd'>process</th><th style='border: 1px solid #dddddd'>asset_revision</th>\n                <tr><td style='border: 1px solid #dddddd'>2018-12-13 15:29:13.498000+00:00</td><td style='border: 1px solid #dddddd'>0.5</td><td style='border: 1px solid #dddddd'>0.7</td><td style='border: 1px solid #dddddd'>4d7a90a8-9df1-45be-be13-cb54930512cf</td><td style='border: 1px solid #dddddd'>67d1d82d-eeb0-488a-b403-1a8dc00db72f</td><td style='border: 1px solid #dddddd'>60e6fc28-bd6a-43b7-8b45-5eaedb2a7a79</td><td style='border: 1px solid #dddddd'>Accuracy_evaluation_42b3353a-96dd-4819-b10d-f2968aae8589</td><td style='border: 1px solid #dddddd'></td></tr>\n            </table>\n        </body>\n        </HTML>", 
                        "text/plain": "<IPython.core.display.HTML object>"
                    }, 
                    "metadata": {}
                }
            ], 
            "source": "subscription.quality_monitoring.show_table()"
        }, 
        {
            "execution_count": 88, 
            "cell_type": "code", 
            "metadata": {}, 
            "outputs": [
                {
                    "execution_count": 88, 
                    "metadata": {}, 
                    "data": {
                        "text/plain": "{'end': '2018-12-13T15:29:38.458571Z',\n 'metrics': [{'process': 'Accuracy_evaluation_42b3353a-96dd-4819-b10d-f2968aae8589',\n   'timestamp': '2018-12-13T15:29:13.498Z',\n   'value': {'metrics': [{'name': 'weightedTruePositiveRate', 'value': 0.5},\n     {'name': 'accuracy', 'value': 0.5},\n     {'name': 'weightedFMeasure', 'value': 0.625},\n     {'name': 'weightedRecall', 'value': 0.5},\n     {'name': 'weightedFalsePositiveRate', 'value': 0.0},\n     {'name': 'weightedPrecision', 'value': 1.0}],\n    'quality': 0.5,\n    'threshold': 0.7}}],\n 'start': '2018-12-13T14:29:10.858Z'}"
                    }, 
                    "output_type": "execute_result"
                }
            ], 
            "source": "deployment_uid = deployment_uid = subscription.get_deployment_uids()[0]\n\nsubscription.quality_monitoring.get_metrics(deployment_uid=deployment_uid)"
        }, 
        {
            "source": "<a id=\"performance\"></a>\n## 5. Performance monitoring", 
            "cell_type": "markdown", 
            "metadata": {}
        }, 
        {
            "source": "Payload logging and performance monitoring are enabled by default during subscription creation. Both run on top of payload logging table.", 
            "cell_type": "markdown", 
            "metadata": {}
        }, 
        {
            "source": "### 5.1 Payload logging", 
            "cell_type": "markdown", 
            "metadata": {}
        }, 
        {
            "source": "For Watson Machine Learning engine each scoring request is automatically logged in payload logging table.", 
            "cell_type": "markdown", 
            "metadata": {}
        }, 
        {
            "source": "#### Score deployed model using `watson-machine-learning-client`", 
            "cell_type": "markdown", 
            "metadata": {}
        }, 
        {
            "source": " Documentation for the `watson-machine-learning-client` can be found [here](wml-api-pyclient.mybluemix.net)", 
            "cell_type": "markdown", 
            "metadata": {}
        }, 
        {
            "execution_count": 89, 
            "cell_type": "code", 
            "metadata": {}, 
            "outputs": [], 
            "source": "wml_client = client.data_mart.bindings.get_native_engine_client(binding_uid=binding_uid)"
        }, 
        {
            "source": "Let's extract scoring_ednpoints for both deployments.", 
            "cell_type": "markdown", 
            "metadata": {}
        }, 
        {
            "execution_count": 90, 
            "cell_type": "code", 
            "metadata": {}, 
            "outputs": [
                {
                    "output_type": "stream", 
                    "name": "stdout", 
                    "text": "https://us-south.ml.cloud.ibm.com/v3/wml_instances/4d7a90a8-9df1-45be-be13-cb54930512cf/deployments/60e6fc28-bd6a-43b7-8b45-5eaedb2a7a79/online\n"
                }
            ], 
            "source": "cars4u_scoring_endpoint = None\n\nfor deployment in wml_client.deployments.get_details()['resources']:\n    if 'cars4u' in deployment['entity']['deployable_asset']['name'].lower():\n        cars4u_scoring_endpoint = deployment['entity']['scoring_url']\n        \nprint(cars4u_scoring_endpoint)"
        }, 
        {
            "source": "Score the model.", 
            "cell_type": "markdown", 
            "metadata": {}
        }, 
        {
            "execution_count": 94, 
            "cell_type": "code", 
            "metadata": {}, 
            "outputs": [
                {
                    "output_type": "stream", 
                    "name": "stdout", 
                    "text": "Recommended action: \"On-demand pickup location\"\n"
                }
            ], 
            "source": "fields = ['ID', 'Gender', 'Status', 'Children', 'Age', 'Customer_Status','Car_Owner', 'Customer_Service', 'Satisfaction', 'Business_Area']\nvalues = [  [3785, 'Male', 'S', 1, 17, 'Inactive', 'Yes', 'The car should have been brought to us instead of us trying to find it in the lot.', 0, 'Product: Information'],\n            [122, 'Male', 'S', 2, 45, 'Inactive', 'Yes', 'no wait for pick up and drop off was great', 0, 'Product: Functioning'],\n            [178, 'Male', 'M', 4, 55, 'Active', 'No', 'what customer service? It was a nightmare', 0, 'Product: Information'],\n            [201, 'Female', 'S', 0, 37, 'Inactive', 'No', 'delayed shuttle, almost missed flight', 0, 'Service: Knowledge']]\n\npayload_scoring = {\"fields\": fields,\"values\": values}\n\nfor i in range(1, 30):\n    scoring_response = wml_client.deployments.score(cars4u_scoring_endpoint, payload_scoring)\n    \naction_index = scoring_response['fields'].index('predictedActionLabel')\n\nprint(\"Recommended action: \" + json.dumps(scoring_response['values'][0][action_index]))"
        }, 
        {
            "source": "### 5.2 Performance metrics", 
            "cell_type": "markdown", 
            "metadata": {}
        }, 
        {
            "source": "#### Performance metrics table", 
            "cell_type": "markdown", 
            "metadata": {}
        }, 
        {
            "source": "**Hint:** It may take up to 60 second to populate performance metrics. Let's wait 30 seconds.", 
            "cell_type": "markdown", 
            "metadata": {}
        }, 
        {
            "execution_count": 99, 
            "cell_type": "code", 
            "metadata": {}, 
            "outputs": [], 
            "source": "import time\n\ntime.sleep(30)"
        }, 
        {
            "execution_count": 97, 
            "cell_type": "code", 
            "metadata": {}, 
            "outputs": [
                {
                    "output_type": "display_data", 
                    "data": {
                        "text/html": "<HTML>\n        <body>\n            <h3>PerformanceMetrics (binding_id=4d7a90a8-9df1-45be-be13-cb54930512cf, subscription_id=67d1d82d-eeb0-488a-b403-1a8dc00db72f)</h3>\n            <table style='border: 1px solid #dddddd; font-family: Courier'>\n                <th style='border: 1px solid #dddddd'>ts</th><th style='border: 1px solid #dddddd'>scoring_time</th><th style='border: 1px solid #dddddd'>scoring_records</th><th style='border: 1px solid #dddddd'>binding_id</th><th style='border: 1px solid #dddddd'>subscription_id</th><th style='border: 1px solid #dddddd'>deployment_id</th><th style='border: 1px solid #dddddd'>process</th><th style='border: 1px solid #dddddd'>asset_revision</th>\n                <tr><td style='border: 1px solid #dddddd'>2018-12-13 15:29:40.838000+00:00</td><td style='border: 1px solid #dddddd'>1446.0</td><td style='border: 1px solid #dddddd'>24</td><td style='border: 1px solid #dddddd'>4d7a90a8-9df1-45be-be13-cb54930512cf</td><td style='border: 1px solid #dddddd'>67d1d82d-eeb0-488a-b403-1a8dc00db72f</td><td style='border: 1px solid #dddddd'>60e6fc28-bd6a-43b7-8b45-5eaedb2a7a79</td><td style='border: 1px solid #dddddd'></td><td style='border: 1px solid #dddddd'></td></tr><tr><td style='border: 1px solid #dddddd'>2018-12-13 15:29:39.525000+00:00</td><td style='border: 1px solid #dddddd'>3708.0</td><td style='border: 1px solid #dddddd'>60</td><td style='border: 1px solid #dddddd'>4d7a90a8-9df1-45be-be13-cb54930512cf</td><td style='border: 1px solid #dddddd'>67d1d82d-eeb0-488a-b403-1a8dc00db72f</td><td style='border: 1px solid #dddddd'>60e6fc28-bd6a-43b7-8b45-5eaedb2a7a79</td><td style='border: 1px solid #dddddd'></td><td style='border: 1px solid #dddddd'></td></tr><tr><td style='border: 1px solid #dddddd'>2018-12-13 15:29:39.819000+00:00</td><td style='border: 1px solid #dddddd'>4053.0</td><td style='border: 1px solid #dddddd'>64</td><td style='border: 1px solid #dddddd'>4d7a90a8-9df1-45be-be13-cb54930512cf</td><td style='border: 1px solid #dddddd'>67d1d82d-eeb0-488a-b403-1a8dc00db72f</td><td style='border: 1px solid #dddddd'>60e6fc28-bd6a-43b7-8b45-5eaedb2a7a79</td><td style='border: 1px solid #dddddd'></td><td style='border: 1px solid #dddddd'></td></tr><tr><td style='border: 1px solid #dddddd'>2018-12-13 15:29:40.321000+00:00</td><td style='border: 1px solid #dddddd'>3573.0</td><td style='border: 1px solid #dddddd'>60</td><td style='border: 1px solid #dddddd'>4d7a90a8-9df1-45be-be13-cb54930512cf</td><td style='border: 1px solid #dddddd'>67d1d82d-eeb0-488a-b403-1a8dc00db72f</td><td style='border: 1px solid #dddddd'>60e6fc28-bd6a-43b7-8b45-5eaedb2a7a79</td><td style='border: 1px solid #dddddd'></td><td style='border: 1px solid #dddddd'></td></tr><tr><td style='border: 1px solid #dddddd'>2018-12-13 15:30:22.983000+00:00</td><td style='border: 1px solid #dddddd'>1454.0</td><td style='border: 1px solid #dddddd'>24</td><td style='border: 1px solid #dddddd'>4d7a90a8-9df1-45be-be13-cb54930512cf</td><td style='border: 1px solid #dddddd'>67d1d82d-eeb0-488a-b403-1a8dc00db72f</td><td style='border: 1px solid #dddddd'>60e6fc28-bd6a-43b7-8b45-5eaedb2a7a79</td><td style='border: 1px solid #dddddd'></td><td style='border: 1px solid #dddddd'></td></tr>\n            </table>\n        </body>\n        </HTML>", 
                        "text/plain": "<IPython.core.display.HTML object>"
                    }, 
                    "metadata": {}
                }
            ], 
            "source": "subscription.performance_monitoring.show_table()"
        }, 
        {
            "source": "<a id=\"fairness\"></a>\n## 6. Fairness monitoring", 
            "cell_type": "markdown", 
            "metadata": {}
        }, 
        {
            "source": "### 6.1 Configure monitor", 
            "cell_type": "markdown", 
            "metadata": {}
        }, 
        {
            "execution_count": 98, 
            "cell_type": "code", 
            "metadata": {}, 
            "outputs": [], 
            "source": "subscription.fairness_monitoring.enable(\n            features=[\n                Feature(\"Gender\", majority=['Male'], minority=['Female'], threshold=0.6),\n                Feature(\"Children\", majority=[[0,1]], minority=[[2,6]], threshold=0.6)\n            ],\n            prediction_column='predictedActionLabel',\n            favourable_classes=['Voucher'],\n            unfavourable_classes=['Free Upgrade', 'Premium features'],\n            min_records=12\n        )"
        }, 
        {
            "source": "**Hint:** Fairness monitor is executed every hour. You can also call it on demand by executing this commmand: `subscription.fairness_monitoring.run()`.", 
            "cell_type": "markdown", 
            "metadata": {}
        }, 
        {
            "source": "### 6.2 Run fairness check on demand", 
            "cell_type": "markdown", 
            "metadata": {}
        }, 
        {
            "execution_count": 101, 
            "cell_type": "code", 
            "metadata": {}, 
            "outputs": [], 
            "source": "subscription.fairness_monitoring.run()"
        }, 
        {
            "source": "**Hint**: It may take up to minute before fariness results are availbale in the table. Let's wait 30 seconds.", 
            "cell_type": "markdown", 
            "metadata": {}
        }, 
        {
            "execution_count": 102, 
            "cell_type": "code", 
            "metadata": {}, 
            "outputs": [], 
            "source": "import time\n\ntime.sleep(30)"
        }, 
        {
            "source": "### 6.3 Fairness metrics", 
            "cell_type": "markdown", 
            "metadata": {}
        }, 
        {
            "execution_count": 104, 
            "cell_type": "code", 
            "metadata": {}, 
            "outputs": [
                {
                    "output_type": "display_data", 
                    "data": {
                        "text/html": "<HTML>\n        <body>\n            <h3>FairnessMetrics (binding_id=4d7a90a8-9df1-45be-be13-cb54930512cf, subscription_id=67d1d82d-eeb0-488a-b403-1a8dc00db72f)</h3>\n            <table style='border: 1px solid #dddddd; font-family: Courier'>\n                <th style='border: 1px solid #dddddd'>ts</th><th style='border: 1px solid #dddddd'>feature</th><th style='border: 1px solid #dddddd'>feature_value</th><th style='border: 1px solid #dddddd'>fairness_biased</th><th style='border: 1px solid #dddddd'>fairness_value</th><th style='border: 1px solid #dddddd'>fairness_fav_class</th><th style='border: 1px solid #dddddd'>binding_id</th><th style='border: 1px solid #dddddd'>subscription_id</th><th style='border: 1px solid #dddddd'>asset_revision</th><th style='border: 1px solid #dddddd'>deployment_id</th><th style='border: 1px solid #dddddd'>process</th>\n                <tr><td style='border: 1px solid #dddddd'>2018-12-13 15:33:33.651659+00:00</td><td style='border: 1px solid #dddddd'>Gender</td><td style='border: 1px solid #dddddd'>Female</td><td style='border: 1px solid #dddddd'>False</td><td style='border: 1px solid #dddddd'>1</td><td style='border: 1px solid #dddddd'>0.0</td><td style='border: 1px solid #dddddd'>4d7a90a8-9df1-45be-be13-cb54930512cf</td><td style='border: 1px solid #dddddd'>67d1d82d-eeb0-488a-b403-1a8dc00db72f</td><td style='border: 1px solid #dddddd'>67d1d82d-eeb0-488a-b403-1a8dc00db72f</td><td style='border: 1px solid #dddddd'>60e6fc28-bd6a-43b7-8b45-5eaedb2a7a79</td><td style='border: 1px solid #dddddd'></td></tr><tr><td style='border: 1px solid #dddddd'>2018-12-13 15:33:33.651659+00:00</td><td style='border: 1px solid #dddddd'>Children</td><td style='border: 1px solid #dddddd'>[2, 6]</td><td style='border: 1px solid #dddddd'>False</td><td style='border: 1px solid #dddddd'>1</td><td style='border: 1px solid #dddddd'>0.0</td><td style='border: 1px solid #dddddd'>4d7a90a8-9df1-45be-be13-cb54930512cf</td><td style='border: 1px solid #dddddd'>67d1d82d-eeb0-488a-b403-1a8dc00db72f</td><td style='border: 1px solid #dddddd'>67d1d82d-eeb0-488a-b403-1a8dc00db72f</td><td style='border: 1px solid #dddddd'>60e6fc28-bd6a-43b7-8b45-5eaedb2a7a79</td><td style='border: 1px solid #dddddd'></td></tr><tr><td style='border: 1px solid #dddddd'>2018-12-13 15:34:44.853782+00:00</td><td style='border: 1px solid #dddddd'>Gender</td><td style='border: 1px solid #dddddd'>Female</td><td style='border: 1px solid #dddddd'>False</td><td style='border: 1px solid #dddddd'>1</td><td style='border: 1px solid #dddddd'>0.0</td><td style='border: 1px solid #dddddd'>4d7a90a8-9df1-45be-be13-cb54930512cf</td><td style='border: 1px solid #dddddd'>67d1d82d-eeb0-488a-b403-1a8dc00db72f</td><td style='border: 1px solid #dddddd'>67d1d82d-eeb0-488a-b403-1a8dc00db72f</td><td style='border: 1px solid #dddddd'>60e6fc28-bd6a-43b7-8b45-5eaedb2a7a79</td><td style='border: 1px solid #dddddd'></td></tr><tr><td style='border: 1px solid #dddddd'>2018-12-13 15:34:44.853782+00:00</td><td style='border: 1px solid #dddddd'>Children</td><td style='border: 1px solid #dddddd'>[2, 6]</td><td style='border: 1px solid #dddddd'>False</td><td style='border: 1px solid #dddddd'>1</td><td style='border: 1px solid #dddddd'>0.0</td><td style='border: 1px solid #dddddd'>4d7a90a8-9df1-45be-be13-cb54930512cf</td><td style='border: 1px solid #dddddd'>67d1d82d-eeb0-488a-b403-1a8dc00db72f</td><td style='border: 1px solid #dddddd'>67d1d82d-eeb0-488a-b403-1a8dc00db72f</td><td style='border: 1px solid #dddddd'>60e6fc28-bd6a-43b7-8b45-5eaedb2a7a79</td><td style='border: 1px solid #dddddd'></td></tr>\n            </table>\n        </body>\n        </HTML>", 
                        "text/plain": "<IPython.core.display.HTML object>"
                    }, 
                    "metadata": {}
                }
            ], 
            "source": "subscription.fairness_monitoring.show_table()"
        }, 
        {
            "source": "<a id=\"datamart\"></a>\n## 7. Data mart", 
            "cell_type": "markdown", 
            "metadata": {}
        }, 
        {
            "source": "### 7.1 Accessing tables data via subscription\n- `show_table`\n- `describe_table`\n- `get_table_content(format='pandas')`\n\nYou can run those methods for all features:\n- `subscription.feedback_logging`\n- `subscription.payload_logging`\n- `subscription.fairness_monitoring`\n- `subscription.qaulity_monitoring`\n- `subscription.performance_monitoring`", 
            "cell_type": "markdown", 
            "metadata": {}
        }, 
        {
            "source": "#### Preview table content", 
            "cell_type": "markdown", 
            "metadata": {}
        }, 
        {
            "execution_count": 106, 
            "cell_type": "code", 
            "metadata": {}, 
            "outputs": [
                {
                    "output_type": "display_data", 
                    "data": {
                        "text/html": "<HTML>\n        <body>\n            <h3>Feedback_67d1d82d-eeb0-488a-b403-1a8dc00db72f (binding_id=4d7a90a8-9df1-45be-be13-cb54930512cf, subscription_id=67d1d82d-eeb0-488a-b403-1a8dc00db72f)</h3>\n            <table style='border: 1px solid #dddddd; font-family: Courier'>\n                <th style='border: 1px solid #dddddd'>ID</th><th style='border: 1px solid #dddddd'>Gender</th><th style='border: 1px solid #dddddd'>Status</th><th style='border: 1px solid #dddddd'>Children</th><th style='border: 1px solid #dddddd'>Age</th><th style='border: 1px solid #dddddd'>Customer_Status</th><th style='border: 1px solid #dddddd'>Car_Owner</th><th style='border: 1px solid #dddddd'>Customer_Service</th><th style='border: 1px solid #dddddd'>Satisfaction</th><th style='border: 1px solid #dddddd'>Business_Area</th><th style='border: 1px solid #dddddd'>Action</th><th style='border: 1px solid #dddddd'>_training</th>\n                <tr><td style='border: 1px solid #dddddd'>122</td><td style='border: 1px solid #dddddd'>Male</td><td style='border: 1px solid #dddddd'>S</td><td style='border: 1px solid #dddddd'>2</td><td style='border: 1px solid #dddddd'>45.0</td><td style='border: 1px solid #dddddd'>Inactive</td><td style='border: 1px solid #dddddd'>Yes</td><td style='border: 1px solid #dddddd'>no wait for pick up and drop off was great</td><td style='border: 1px solid #dddddd'>0</td><td style='border: 1px solid #dddddd'>Product: Functioning</td><td style='border: 1px solid #dddddd'>Voucher</td><td style='border: 1px solid #dddddd'>2018-12-13 15:29:12.321000+00:00</td></tr><tr><td style='border: 1px solid #dddddd'>178</td><td style='border: 1px solid #dddddd'>Female</td><td style='border: 1px solid #dddddd'>M</td><td style='border: 1px solid #dddddd'>2</td><td style='border: 1px solid #dddddd'>55.0</td><td style='border: 1px solid #dddddd'>Active</td><td style='border: 1px solid #dddddd'>No</td><td style='border: 1px solid #dddddd'>what customer service? It was a nightmare</td><td style='border: 1px solid #dddddd'>0</td><td style='border: 1px solid #dddddd'>Product: Information</td><td style='border: 1px solid #dddddd'>Free Upgrade</td><td style='border: 1px solid #dddddd'>2018-12-13 15:29:12.321000+00:00</td></tr><tr><td style='border: 1px solid #dddddd'>122</td><td style='border: 1px solid #dddddd'>Male</td><td style='border: 1px solid #dddddd'>S</td><td style='border: 1px solid #dddddd'>2</td><td style='border: 1px solid #dddddd'>45.0</td><td style='border: 1px solid #dddddd'>Inactive</td><td style='border: 1px solid #dddddd'>Yes</td><td style='border: 1px solid #dddddd'>no wait for pick up and drop off was great</td><td style='border: 1px solid #dddddd'>0</td><td style='border: 1px solid #dddddd'>Product: Functioning</td><td style='border: 1px solid #dddddd'>NA</td><td style='border: 1px solid #dddddd'>2018-12-13 15:29:12.321000+00:00</td></tr><tr><td style='border: 1px solid #dddddd'>123</td><td style='border: 1px solid #dddddd'>Male</td><td style='border: 1px solid #dddddd'>S</td><td style='border: 1px solid #dddddd'>2</td><td style='border: 1px solid #dddddd'>45.0</td><td style='border: 1px solid #dddddd'>Inactive</td><td style='border: 1px solid #dddddd'>Yes</td><td style='border: 1px solid #dddddd'>no wait for pick up and drop off was great</td><td style='border: 1px solid #dddddd'>0</td><td style='border: 1px solid #dddddd'>Product: Functioning</td><td style='border: 1px solid #dddddd'>Voucher</td><td style='border: 1px solid #dddddd'>2018-12-13 15:29:12.321000+00:00</td></tr><tr><td style='border: 1px solid #dddddd'>178</td><td style='border: 1px solid #dddddd'>Female</td><td style='border: 1px solid #dddddd'>M</td><td style='border: 1px solid #dddddd'>2</td><td style='border: 1px solid #dddddd'>55.0</td><td style='border: 1px solid #dddddd'>Active</td><td style='border: 1px solid #dddddd'>No</td><td style='border: 1px solid #dddddd'>what customer service? It was a nightmare</td><td style='border: 1px solid #dddddd'>0</td><td style='border: 1px solid #dddddd'>Product: Information</td><td style='border: 1px solid #dddddd'>Free Upgrade</td><td style='border: 1px solid #dddddd'>2018-12-13 15:29:12.321000+00:00</td></tr><tr><td style='border: 1px solid #dddddd'>124</td><td style='border: 1px solid #dddddd'>Male</td><td style='border: 1px solid #dddddd'>S</td><td style='border: 1px solid #dddddd'>2</td><td style='border: 1px solid #dddddd'>45.0</td><td style='border: 1px solid #dddddd'>Inactive</td><td style='border: 1px solid #dddddd'>Yes</td><td style='border: 1px solid #dddddd'>no wait for pick up and drop off was great</td><td style='border: 1px solid #dddddd'>0</td><td style='border: 1px solid #dddddd'>Product: Functioning</td><td style='border: 1px solid #dddddd'>NA</td><td style='border: 1px solid #dddddd'>2018-12-13 15:29:12.321000+00:00</td></tr><tr><td style='border: 1px solid #dddddd'>3785</td><td style='border: 1px solid #dddddd'>Male</td><td style='border: 1px solid #dddddd'>S</td><td style='border: 1px solid #dddddd'>1</td><td style='border: 1px solid #dddddd'>17.0</td><td style='border: 1px solid #dddddd'>Inactive</td><td style='border: 1px solid #dddddd'>Yes</td><td style='border: 1px solid #dddddd'>The car should have been brought to us instead of us trying to find it in the lot.</td><td style='border: 1px solid #dddddd'>0</td><td style='border: 1px solid #dddddd'>Product: Information</td><td style='border: 1px solid #dddddd'>On-demand pickup location</td><td style='border: 1px solid #dddddd'>2018-12-13 15:29:12.321000+00:00</td></tr><tr><td style='border: 1px solid #dddddd'>3786</td><td style='border: 1px solid #dddddd'>Male</td><td style='border: 1px solid #dddddd'>S</td><td style='border: 1px solid #dddddd'>1</td><td style='border: 1px solid #dddddd'>17.0</td><td style='border: 1px solid #dddddd'>Inactive</td><td style='border: 1px solid #dddddd'>Yes</td><td style='border: 1px solid #dddddd'>The car should have been brought to us instead of us trying to find it in the lot.</td><td style='border: 1px solid #dddddd'>0</td><td style='border: 1px solid #dddddd'>Product: Information</td><td style='border: 1px solid #dddddd'>On-demand pickup location</td><td style='border: 1px solid #dddddd'>2018-12-13 15:29:12.321000+00:00</td></tr><tr><td style='border: 1px solid #dddddd'>3787</td><td style='border: 1px solid #dddddd'>Male</td><td style='border: 1px solid #dddddd'>S</td><td style='border: 1px solid #dddddd'>1</td><td style='border: 1px solid #dddddd'>17.0</td><td style='border: 1px solid #dddddd'>Active</td><td style='border: 1px solid #dddddd'>Yes</td><td style='border: 1px solid #dddddd'>The car should have been brought to us instead of us trying to find it in the lot.</td><td style='border: 1px solid #dddddd'>0</td><td style='border: 1px solid #dddddd'>Product: Information</td><td style='border: 1px solid #dddddd'>On-demand pickup location</td><td style='border: 1px solid #dddddd'>2018-12-13 15:29:12.321000+00:00</td></tr><tr><td style='border: 1px solid #dddddd'>122</td><td style='border: 1px solid #dddddd'>Male</td><td style='border: 1px solid #dddddd'>S</td><td style='border: 1px solid #dddddd'>2</td><td style='border: 1px solid #dddddd'>45.0</td><td style='border: 1px solid #dddddd'>Inactive</td><td style='border: 1px solid #dddddd'>Yes</td><td style='border: 1px solid #dddddd'>no wait for pick up and drop off was great</td><td style='border: 1px solid #dddddd'>0</td><td style='border: 1px solid #dddddd'>Product: Functioning</td><td style='border: 1px solid #dddddd'>Voucher</td><td style='border: 1px solid #dddddd'>2018-12-13 15:29:12.321000+00:00</td></tr>\n            </table>\n        </body>\n        </HTML>", 
                        "text/plain": "<IPython.core.display.HTML object>"
                    }, 
                    "metadata": {}
                }, 
                {
                    "output_type": "stream", 
                    "name": "stdout", 
                    "text": "Note: First 10 records were displayed.\n"
                }
            ], 
            "source": "subscription.feedback_logging.show_table()"
        }, 
        {
            "execution_count": 111, 
            "cell_type": "code", 
            "metadata": {}, 
            "outputs": [
                {
                    "output_type": "display_data", 
                    "data": {
                        "text/html": "<HTML>\n        <body>\n            <h3>PerformanceMetrics (binding_id=4d7a90a8-9df1-45be-be13-cb54930512cf, subscription_id=67d1d82d-eeb0-488a-b403-1a8dc00db72f)</h3>\n            <table style='border: 1px solid #dddddd; font-family: Courier'>\n                <th style='border: 1px solid #dddddd'>ts</th><th style='border: 1px solid #dddddd'>scoring_time</th><th style='border: 1px solid #dddddd'>scoring_records</th><th style='border: 1px solid #dddddd'>binding_id</th><th style='border: 1px solid #dddddd'>subscription_id</th><th style='border: 1px solid #dddddd'>deployment_id</th><th style='border: 1px solid #dddddd'>process</th><th style='border: 1px solid #dddddd'>asset_revision</th>\n                <tr><td style='border: 1px solid #dddddd'>2018-12-13 15:29:40.838000+00:00</td><td style='border: 1px solid #dddddd'>1446.0</td><td style='border: 1px solid #dddddd'>24</td><td style='border: 1px solid #dddddd'>4d7a90a8-9df1-45be-be13-cb54930512cf</td><td style='border: 1px solid #dddddd'>67d1d82d-eeb0-488a-b403-1a8dc00db72f</td><td style='border: 1px solid #dddddd'>60e6fc28-bd6a-43b7-8b45-5eaedb2a7a79</td><td style='border: 1px solid #dddddd'></td><td style='border: 1px solid #dddddd'></td></tr><tr><td style='border: 1px solid #dddddd'>2018-12-13 15:29:39.525000+00:00</td><td style='border: 1px solid #dddddd'>3708.0</td><td style='border: 1px solid #dddddd'>60</td><td style='border: 1px solid #dddddd'>4d7a90a8-9df1-45be-be13-cb54930512cf</td><td style='border: 1px solid #dddddd'>67d1d82d-eeb0-488a-b403-1a8dc00db72f</td><td style='border: 1px solid #dddddd'>60e6fc28-bd6a-43b7-8b45-5eaedb2a7a79</td><td style='border: 1px solid #dddddd'></td><td style='border: 1px solid #dddddd'></td></tr><tr><td style='border: 1px solid #dddddd'>2018-12-13 15:29:39.819000+00:00</td><td style='border: 1px solid #dddddd'>4053.0</td><td style='border: 1px solid #dddddd'>64</td><td style='border: 1px solid #dddddd'>4d7a90a8-9df1-45be-be13-cb54930512cf</td><td style='border: 1px solid #dddddd'>67d1d82d-eeb0-488a-b403-1a8dc00db72f</td><td style='border: 1px solid #dddddd'>60e6fc28-bd6a-43b7-8b45-5eaedb2a7a79</td><td style='border: 1px solid #dddddd'></td><td style='border: 1px solid #dddddd'></td></tr><tr><td style='border: 1px solid #dddddd'>2018-12-13 15:29:40.321000+00:00</td><td style='border: 1px solid #dddddd'>3573.0</td><td style='border: 1px solid #dddddd'>60</td><td style='border: 1px solid #dddddd'>4d7a90a8-9df1-45be-be13-cb54930512cf</td><td style='border: 1px solid #dddddd'>67d1d82d-eeb0-488a-b403-1a8dc00db72f</td><td style='border: 1px solid #dddddd'>60e6fc28-bd6a-43b7-8b45-5eaedb2a7a79</td><td style='border: 1px solid #dddddd'></td><td style='border: 1px solid #dddddd'></td></tr><tr><td style='border: 1px solid #dddddd'>2018-12-13 15:30:22.983000+00:00</td><td style='border: 1px solid #dddddd'>1454.0</td><td style='border: 1px solid #dddddd'>24</td><td style='border: 1px solid #dddddd'>4d7a90a8-9df1-45be-be13-cb54930512cf</td><td style='border: 1px solid #dddddd'>67d1d82d-eeb0-488a-b403-1a8dc00db72f</td><td style='border: 1px solid #dddddd'>60e6fc28-bd6a-43b7-8b45-5eaedb2a7a79</td><td style='border: 1px solid #dddddd'></td><td style='border: 1px solid #dddddd'></td></tr>\n            </table>\n        </body>\n        </HTML>", 
                        "text/plain": "<IPython.core.display.HTML object>"
                    }, 
                    "metadata": {}
                }
            ], 
            "source": "subscription.performance_monitoring.show_table()"
        }, 
        {
            "source": "#### Describe table (calculate basic statistics)", 
            "cell_type": "markdown", 
            "metadata": {}
        }, 
        {
            "execution_count": 110, 
            "cell_type": "code", 
            "metadata": {}, 
            "outputs": [
                {
                    "output_type": "stream", 
                    "name": "stdout", 
                    "text": "                ID    Children        Age  Satisfaction  prediction  \\\ncount   100.000000  100.000000  100.00000         100.0  100.000000   \nmean   1071.500000    1.750000   38.50000           0.0    1.250000   \nstd    1574.797165    1.486471   14.02559           0.0    0.435194   \nmin     122.000000    0.000000   17.00000           0.0    1.000000   \n25%     164.000000    0.750000   32.00000           0.0    1.000000   \n50%     189.500000    1.500000   41.00000           0.0    1.000000   \n75%    1097.000000    2.500000   47.50000           0.0    1.250000   \nmax    3785.000000    4.000000   55.00000           0.0    2.000000   \n\n       debiased_prediction  \ncount            12.000000  \nmean              1.250000  \nstd               0.452267  \nmin               1.000000  \n25%               1.000000  \n50%               1.000000  \n75%               1.250000  \nmax               2.000000  \n"
                }, 
                {
                    "execution_count": 110, 
                    "metadata": {}, 
                    "data": {
                        "text/html": "<div>\n<style scoped>\n    .dataframe tbody tr th:only-of-type {\n        vertical-align: middle;\n    }\n\n    .dataframe tbody tr th {\n        vertical-align: top;\n    }\n\n    .dataframe thead th {\n        text-align: right;\n    }\n</style>\n<table border=\"1\" class=\"dataframe\">\n  <thead>\n    <tr style=\"text-align: right;\">\n      <th></th>\n      <th>ID</th>\n      <th>Children</th>\n      <th>Age</th>\n      <th>Satisfaction</th>\n      <th>prediction</th>\n      <th>debiased_prediction</th>\n    </tr>\n  </thead>\n  <tbody>\n    <tr>\n      <th>count</th>\n      <td>100.000000</td>\n      <td>100.000000</td>\n      <td>100.00000</td>\n      <td>100.0</td>\n      <td>100.000000</td>\n      <td>12.000000</td>\n    </tr>\n    <tr>\n      <th>mean</th>\n      <td>1071.500000</td>\n      <td>1.750000</td>\n      <td>38.50000</td>\n      <td>0.0</td>\n      <td>1.250000</td>\n      <td>1.250000</td>\n    </tr>\n    <tr>\n      <th>std</th>\n      <td>1574.797165</td>\n      <td>1.486471</td>\n      <td>14.02559</td>\n      <td>0.0</td>\n      <td>0.435194</td>\n      <td>0.452267</td>\n    </tr>\n    <tr>\n      <th>min</th>\n      <td>122.000000</td>\n      <td>0.000000</td>\n      <td>17.00000</td>\n      <td>0.0</td>\n      <td>1.000000</td>\n      <td>1.000000</td>\n    </tr>\n    <tr>\n      <th>25%</th>\n      <td>164.000000</td>\n      <td>0.750000</td>\n      <td>32.00000</td>\n      <td>0.0</td>\n      <td>1.000000</td>\n      <td>1.000000</td>\n    </tr>\n    <tr>\n      <th>50%</th>\n      <td>189.500000</td>\n      <td>1.500000</td>\n      <td>41.00000</td>\n      <td>0.0</td>\n      <td>1.000000</td>\n      <td>1.000000</td>\n    </tr>\n    <tr>\n      <th>75%</th>\n      <td>1097.000000</td>\n      <td>2.500000</td>\n      <td>47.50000</td>\n      <td>0.0</td>\n      <td>1.250000</td>\n      <td>1.250000</td>\n    </tr>\n    <tr>\n      <th>max</th>\n      <td>3785.000000</td>\n      <td>4.000000</td>\n      <td>55.00000</td>\n      <td>0.0</td>\n      <td>2.000000</td>\n      <td>2.000000</td>\n    </tr>\n  </tbody>\n</table>\n</div>", 
                        "text/plain": "                ID    Children        Age  Satisfaction  prediction  \\\ncount   100.000000  100.000000  100.00000         100.0  100.000000   \nmean   1071.500000    1.750000   38.50000           0.0    1.250000   \nstd    1574.797165    1.486471   14.02559           0.0    0.435194   \nmin     122.000000    0.000000   17.00000           0.0    1.000000   \n25%     164.000000    0.750000   32.00000           0.0    1.000000   \n50%     189.500000    1.500000   41.00000           0.0    1.000000   \n75%    1097.000000    2.500000   47.50000           0.0    1.250000   \nmax    3785.000000    4.000000   55.00000           0.0    2.000000   \n\n       debiased_prediction  \ncount            12.000000  \nmean              1.250000  \nstd               0.452267  \nmin               1.000000  \n25%               1.000000  \n50%               1.000000  \n75%               1.250000  \nmax               2.000000  "
                    }, 
                    "output_type": "execute_result"
                }
            ], 
            "source": "subscription.payload_logging.describe_table()"
        }, 
        {
            "source": "#### Get table content as pandas dataframe", 
            "cell_type": "markdown", 
            "metadata": {}
        }, 
        {
            "execution_count": 115, 
            "cell_type": "code", 
            "metadata": {}, 
            "outputs": [], 
            "source": "pandas_df = subscription.payload_logging.get_table_content(format='pandas')"
        }, 
        {
            "execution_count": 116, 
            "cell_type": "code", 
            "metadata": {}, 
            "outputs": [
                {
                    "execution_count": 116, 
                    "metadata": {}, 
                    "data": {
                        "text/plain": "<matplotlib.axes._subplots.AxesSubplot at 0x7f5292f49a90>"
                    }, 
                    "output_type": "execute_result"
                }, 
                {
                    "output_type": "display_data", 
                    "data": {
                        "image/png": "[encoded data removed]", 
                        "text/plain": "<matplotlib.figure.Figure at 0x7f5292ee9278>"
                    }, 
                    "metadata": {}
                }
            ], 
            "source": "%matplotlib inline\n\npandas_df.boxplot()"
        }, 
        {
            "source": "### 7.2 Accessing data mart metrics\n- performance\n- quality\n- fairness", 
            "cell_type": "markdown", 
            "metadata": {}
        }, 
        {
            "source": "#### Get all metrics", 
            "cell_type": "markdown", 
            "metadata": {}
        }, 
        {
            "execution_count": 117, 
            "cell_type": "code", 
            "metadata": {}, 
            "outputs": [], 
            "source": "deployments_metrics = client.data_mart.get_deployment_metrics()"
        }, 
        {
            "source": "#### Get metric for particular deployment", 
            "cell_type": "markdown", 
            "metadata": {}
        }, 
        {
            "execution_count": 118, 
            "cell_type": "code", 
            "metadata": {}, 
            "outputs": [
                {
                    "execution_count": 118, 
                    "metadata": {}, 
                    "data": {
                        "text/plain": "{'end': '2018-12-13T15:43:33.410822Z',\n 'metrics': [{'process': 'Accuracy_evaluation_42b3353a-96dd-4819-b10d-f2968aae8589',\n   'timestamp': '2018-12-13T15:29:13.498Z',\n   'value': {'metrics': [{'name': 'weightedTruePositiveRate', 'value': 0.5},\n     {'name': 'accuracy', 'value': 0.5},\n     {'name': 'weightedFMeasure', 'value': 0.625},\n     {'name': 'weightedRecall', 'value': 0.5},\n     {'name': 'weightedFalsePositiveRate', 'value': 0.0},\n     {'name': 'weightedPrecision', 'value': 1.0}],\n    'quality': 0.5,\n    'threshold': 0.7}}],\n 'start': '2018-12-13T14:29:10.858Z'}"
                    }, 
                    "output_type": "execute_result"
                }
            ], 
            "source": "subscription.quality_monitoring.get_metrics(deployment_uid=subscription.get_deployment_uids()[0])"
        }, 
        {
            "execution_count": 119, 
            "cell_type": "code", 
            "metadata": {}, 
            "outputs": [
                {
                    "execution_count": 119, 
                    "metadata": {}, 
                    "data": {
                        "text/plain": "{'end': '2018-12-13T15:44:19.828844Z',\n 'metrics': [{'asset_revision': '994d1093-4f0c-48a1-8ed1-fa301f9fde5c',\n   'timestamp': '2018-12-13T15:29:40.838Z',\n   'value': {'records': 24, 'response_time': 1446.0}},\n  {'asset_revision': '994d1093-4f0c-48a1-8ed1-fa301f9fde5c',\n   'timestamp': '2018-12-13T15:29:39.525Z',\n   'value': {'records': 60, 'response_time': 3708.0}},\n  {'asset_revision': '994d1093-4f0c-48a1-8ed1-fa301f9fde5c',\n   'timestamp': '2018-12-13T15:29:39.819Z',\n   'value': {'records': 64, 'response_time': 4053.0}},\n  {'asset_revision': '994d1093-4f0c-48a1-8ed1-fa301f9fde5c',\n   'timestamp': '2018-12-13T15:29:40.321Z',\n   'value': {'records': 60, 'response_time': 3573.0}},\n  {'asset_revision': '994d1093-4f0c-48a1-8ed1-fa301f9fde5c',\n   'timestamp': '2018-12-13T15:30:22.983Z',\n   'value': {'records': 24, 'response_time': 1454.0}}],\n 'start': '2018-12-13T14:29:10.858Z'}"
                    }, 
                    "output_type": "execute_result"
                }
            ], 
            "source": "subscription.performance_monitoring.get_metrics(deployment_uid=subscription.get_deployment_uids()[0])"
        }, 
        {
            "source": "---", 
            "cell_type": "markdown", 
            "metadata": {}
        }, 
        {
            "source": "### Authors\nLukasz Cmielowski, PhD, is an Automation Architect and Data Scientist at IBM with a track record of developing enterprise-level applications that substantially increases clients' ability to turn data into actionable knowledge.", 
            "cell_type": "markdown", 
            "metadata": {}
        }
    ], 
    "metadata": {
        "kernelspec": {
            "display_name": "Python 3.5", 
            "name": "python3", 
            "language": "python"
        }, 
        "language_info": {
            "mimetype": "text/x-python", 
            "nbconvert_exporter": "python", 
            "version": "3.5.5", 
            "name": "python", 
            "file_extension": ".py", 
            "pygments_lexer": "ipython3", 
            "codemirror_mode": {
                "version": 3, 
                "name": "ipython"
            }
        }
    }, 
    "nbformat": 4
}