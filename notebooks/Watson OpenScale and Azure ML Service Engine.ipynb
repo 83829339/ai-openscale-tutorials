{
    "nbformat_minor": 1, 
    "cells": [
        {
            "source": "<img src=\"https://github.com/pmservice/ai-openscale-tutorials/raw/master/notebooks/images/banner.png\" align=\"left\" alt=\"banner\">", 
            "cell_type": "markdown", 
            "metadata": {}
        }, 
        {
            "source": "# Working with Azure Machine Learning Service", 
            "cell_type": "markdown", 
            "metadata": {}
        }, 
        {
            "source": "This notebook shows how to monitor the model deployed on Azure Machine Learning Service using Watson OpenScale python sdk.", 
            "cell_type": "markdown", 
            "metadata": {}
        }, 
        {
            "source": "Contents\n\n1. Setup\n2. Binding machine learning engine\n3. Subscriptions\n4. Performance monitor, scoring and payload logging\n5. Quality monitor and feedback logging\n6. Fairness monitor and explainability\n7. Payload analytics", 
            "cell_type": "markdown", 
            "metadata": {}
        }, 
        {
            "source": "<a id=\"setup\"></a>\n## 1. Setup", 
            "cell_type": "markdown", 
            "metadata": {}
        }, 
        {
            "source": "### Sample model creation using [Azure Machine Learning Service](https://azure.microsoft.com/en-gb/services/machine-learning-service/)", 
            "cell_type": "markdown", 
            "metadata": {}
        }, 
        {
            "source": "- #### Run the sample [notebook to create web service (ACI)](https://github.com/pmservice/ai-openscale-tutorials/blob/master/notebooks/Credit%20model%20with%20Azure%20Service%20and%20scikit-learn.ipynb)", 
            "cell_type": "markdown", 
            "metadata": {}
        }, 
        {
            "source": "### Installation and authentication", 
            "cell_type": "markdown", 
            "metadata": {}
        }, 
        {
            "execution_count": 1, 
            "cell_type": "code", 
            "metadata": {
                "scrolled": true
            }, 
            "outputs": [
                {
                    "output_type": "stream", 
                    "name": "stdout", 
                    "text": "Requirement already satisfied, skipping upgrade: six in /opt/conda/envs/Python36/lib/python3.6/site-packages (from h5py->ibm-ai-openscale) (1.12.0)\nRequirement already satisfied, skipping upgrade: py4j==0.10.7 in /opt/conda/envs/Python36/lib/python3.6/site-packages (from pyspark) (0.10.7)\nRequirement already satisfied, skipping upgrade: setuptools in /opt/conda/envs/Python36/lib/python3.6/site-packages (from kiwisolver>=1.0.1->matplotlib; python_version >= \"3.0\"->lime==0.1.1.34) (40.8.0)\n"
                }
            ], 
            "source": "!pip install --upgrade ibm-ai-openscale --no-cache | tail -n 1\n!pip install --upgrade pyspark --no-cache | tail -n 1\n!pip install --upgrade lime==0.1.1.34 --no-cache | tail -n 1"
        }, 
        {
            "source": "**Action:** Restart the kernel (Kernel->Restart)", 
            "cell_type": "markdown", 
            "metadata": {}
        }, 
        {
            "source": "Import and initiate.", 
            "cell_type": "markdown", 
            "metadata": {}
        }, 
        {
            "execution_count": 2, 
            "cell_type": "code", 
            "metadata": {
                "scrolled": true
            }, 
            "outputs": [], 
            "source": "from ibm_ai_openscale import APIClient\nfrom ibm_ai_openscale.supporting_classes import PayloadRecord\nfrom ibm_ai_openscale.supporting_classes.enums import InputDataType, ProblemType\nfrom ibm_ai_openscale.engines import *\nfrom ibm_ai_openscale.utils import *"
        }, 
        {
            "source": "#### ACTION: Get Watson OpenScale `apikey`\n\nHow to install IBM Cloud (bluemix) console: [instruction](https://console.bluemix.net/docs/cli/reference/ibmcloud/download_cli.html#install_use)\n\nHow to get api key using bluemix console:\n```\nbx login --sso\nbx iam api-key-create 'my_key'\n```", 
            "cell_type": "markdown", 
            "metadata": {}
        }, 
        {
            "execution_count": 3, 
            "cell_type": "code", 
            "metadata": {
                "scrolled": true
            }, 
            "outputs": [], 
            "source": "API_KEY = 'put your API key here'"
        }, 
        {
            "execution_count": 4, 
            "cell_type": "code", 
            "metadata": {
                "scrolled": true
            }, 
            "outputs": [], 
            "source": "# The code was removed by Watson Studio for sharing."
        }, 
        {
            "source": "#### Let's define some constants required to set up data mart:\n\n- AIOS_CREDENTIALS\n- POSTGRES_CREDENTIALS\n- SCHEMA_NAME", 
            "cell_type": "markdown", 
            "metadata": {}
        }, 
        {
            "execution_count": 5, 
            "cell_type": "code", 
            "metadata": {
                "scrolled": true
            }, 
            "outputs": [], 
            "source": "from ibm_ai_openscale.utils import get_instance_guid\n\nAIOS_CREDENTIALS = {\n  \"url\": \"https://api.aiopenscale.cloud.ibm.com\",\n  \"instance_guid\": get_instance_guid(api_key=API_KEY),\n  \"apikey\": API_KEY\n}"
        }, 
        {
            "execution_count": 6, 
            "cell_type": "code", 
            "metadata": {
                "scrolled": true
            }, 
            "outputs": [], 
            "source": "POSTGRES_CREDENTIALS = {\n    \"db_type\": \"postgresql\",\n    \"uri_cli_1\": \"xxx\",\n    \"maps\": [],\n    \"instance_administration_api\": {\n        \"instance_id\": \"xxx\",\n        \"root\": \"xxx\",\n        \"deployment_id\": \"xxx\"\n    },\n    \"name\": \"xxx\",\n    \"uri_cli\": \"xxx\",\n    \"uri_direct_1\": \"xxx\",\n    \"ca_certificate_base64\": \"xxx\",\n    \"deployment_id\": \"xxx\",\n    \"uri\": \"xxx\"\n}"
        }, 
        {
            "execution_count": 7, 
            "cell_type": "code", 
            "metadata": {
                "scrolled": true
            }, 
            "outputs": [], 
            "source": "# The code was removed by Watson Studio for sharing."
        }, 
        {
            "execution_count": 12, 
            "cell_type": "code", 
            "metadata": {
                "scrolled": true
            }, 
            "outputs": [], 
            "source": "SCHEMA_NAME = 'azure_service_db'"
        }, 
        {
            "source": "Create schema for data mart.", 
            "cell_type": "markdown", 
            "metadata": {}
        }, 
        {
            "execution_count": 13, 
            "cell_type": "code", 
            "metadata": {
                "scrolled": true
            }, 
            "outputs": [], 
            "source": "create_postgres_schema(postgres_credentials=POSTGRES_CREDENTIALS, schema_name=SCHEMA_NAME)"
        }, 
        {
            "execution_count": 14, 
            "cell_type": "code", 
            "metadata": {
                "scrolled": true
            }, 
            "outputs": [], 
            "source": "client = APIClient(AIOS_CREDENTIALS)"
        }, 
        {
            "execution_count": 15, 
            "cell_type": "code", 
            "metadata": {
                "scrolled": true
            }, 
            "outputs": [
                {
                    "execution_count": 15, 
                    "metadata": {}, 
                    "data": {
                        "text/plain": "'2.1.11'"
                    }, 
                    "output_type": "execute_result"
                }
            ], 
            "source": "client.version"
        }, 
        {
            "source": "#### Download and preview training data set", 
            "cell_type": "markdown", 
            "metadata": {}
        }, 
        {
            "execution_count": 16, 
            "cell_type": "code", 
            "metadata": {
                "scrolled": true
            }, 
            "outputs": [
                {
                    "output_type": "stream", 
                    "name": "stdout", 
                    "text": "--2019-07-03 13:21:02--  https://raw.githubusercontent.com/pmservice/wml-sample-models/master/spark/credit-risk/data/credit_risk_training.csv\nResolving raw.githubusercontent.com (raw.githubusercontent.com)... 151.101.48.133\nConnecting to raw.githubusercontent.com (raw.githubusercontent.com)|151.101.48.133|:443... connected.\nHTTP request sent, awaiting response... 200 OK\nLength: 694222 (678K) [text/plain]\nSaving to: \u2018credit_risk_training.csv\u2019\n\n100%[======================================>] 694,222     --.-K/s   in 0.02s   \n\n2019-07-03 13:21:02 (27.7 MB/s) - \u2018credit_risk_training.csv\u2019 saved [694222/694222]\n\n"
                }
            ], 
            "source": "!rm -rf credit_risk_training.csv\n!wget \"https://raw.githubusercontent.com/pmservice/wml-sample-models/master/spark/credit-risk/data/credit_risk_training.csv\""
        }, 
        {
            "execution_count": 17, 
            "cell_type": "code", 
            "metadata": {
                "scrolled": true
            }, 
            "outputs": [], 
            "source": "import pandas as pd\n\ntraining_data_pd = pd.read_csv(\n        \"credit_risk_training.csv\",\n        dtype={'LoanDuration': int, 'LoanAmount': int, 'InstallmentPercent': int, 'CurrentResidenceDuration': int, 'Age': int, 'ExistingCreditsCount': int, 'Dependents': int})"
        }, 
        {
            "execution_count": 18, 
            "cell_type": "code", 
            "metadata": {
                "scrolled": true
            }, 
            "outputs": [
                {
                    "execution_count": 18, 
                    "metadata": {}, 
                    "data": {
                        "text/html": "<div>\n<style scoped>\n    .dataframe tbody tr th:only-of-type {\n        vertical-align: middle;\n    }\n\n    .dataframe tbody tr th {\n        vertical-align: top;\n    }\n\n    .dataframe thead th {\n        text-align: right;\n    }\n</style>\n<table border=\"1\" class=\"dataframe\">\n  <thead>\n    <tr style=\"text-align: right;\">\n      <th></th>\n      <th>CheckingStatus</th>\n      <th>LoanDuration</th>\n      <th>CreditHistory</th>\n      <th>LoanPurpose</th>\n      <th>LoanAmount</th>\n      <th>ExistingSavings</th>\n      <th>EmploymentDuration</th>\n      <th>InstallmentPercent</th>\n      <th>Sex</th>\n      <th>OthersOnLoan</th>\n      <th>...</th>\n      <th>OwnsProperty</th>\n      <th>Age</th>\n      <th>InstallmentPlans</th>\n      <th>Housing</th>\n      <th>ExistingCreditsCount</th>\n      <th>Job</th>\n      <th>Dependents</th>\n      <th>Telephone</th>\n      <th>ForeignWorker</th>\n      <th>Risk</th>\n    </tr>\n  </thead>\n  <tbody>\n    <tr>\n      <th>0</th>\n      <td>0_to_200</td>\n      <td>31</td>\n      <td>credits_paid_to_date</td>\n      <td>other</td>\n      <td>1889</td>\n      <td>100_to_500</td>\n      <td>less_1</td>\n      <td>3</td>\n      <td>female</td>\n      <td>none</td>\n      <td>...</td>\n      <td>savings_insurance</td>\n      <td>32</td>\n      <td>none</td>\n      <td>own</td>\n      <td>1</td>\n      <td>skilled</td>\n      <td>1</td>\n      <td>none</td>\n      <td>yes</td>\n      <td>No Risk</td>\n    </tr>\n    <tr>\n      <th>1</th>\n      <td>less_0</td>\n      <td>18</td>\n      <td>credits_paid_to_date</td>\n      <td>car_new</td>\n      <td>462</td>\n      <td>less_100</td>\n      <td>1_to_4</td>\n      <td>2</td>\n      <td>female</td>\n      <td>none</td>\n      <td>...</td>\n      <td>savings_insurance</td>\n      <td>37</td>\n      <td>stores</td>\n      <td>own</td>\n      <td>2</td>\n      <td>skilled</td>\n      <td>1</td>\n      <td>none</td>\n      <td>yes</td>\n      <td>No Risk</td>\n    </tr>\n    <tr>\n      <th>2</th>\n      <td>less_0</td>\n      <td>15</td>\n      <td>prior_payments_delayed</td>\n      <td>furniture</td>\n      <td>250</td>\n      <td>less_100</td>\n      <td>1_to_4</td>\n      <td>2</td>\n      <td>male</td>\n      <td>none</td>\n      <td>...</td>\n      <td>real_estate</td>\n      <td>28</td>\n      <td>none</td>\n      <td>own</td>\n      <td>2</td>\n      <td>skilled</td>\n      <td>1</td>\n      <td>yes</td>\n      <td>no</td>\n      <td>No Risk</td>\n    </tr>\n    <tr>\n      <th>3</th>\n      <td>0_to_200</td>\n      <td>28</td>\n      <td>credits_paid_to_date</td>\n      <td>retraining</td>\n      <td>3693</td>\n      <td>less_100</td>\n      <td>greater_7</td>\n      <td>3</td>\n      <td>male</td>\n      <td>none</td>\n      <td>...</td>\n      <td>savings_insurance</td>\n      <td>32</td>\n      <td>none</td>\n      <td>own</td>\n      <td>1</td>\n      <td>skilled</td>\n      <td>1</td>\n      <td>none</td>\n      <td>yes</td>\n      <td>No Risk</td>\n    </tr>\n    <tr>\n      <th>4</th>\n      <td>no_checking</td>\n      <td>28</td>\n      <td>prior_payments_delayed</td>\n      <td>education</td>\n      <td>6235</td>\n      <td>500_to_1000</td>\n      <td>greater_7</td>\n      <td>3</td>\n      <td>male</td>\n      <td>none</td>\n      <td>...</td>\n      <td>unknown</td>\n      <td>57</td>\n      <td>none</td>\n      <td>own</td>\n      <td>2</td>\n      <td>skilled</td>\n      <td>1</td>\n      <td>none</td>\n      <td>yes</td>\n      <td>Risk</td>\n    </tr>\n  </tbody>\n</table>\n<p>5 rows \u00d7 21 columns</p>\n</div>", 
                        "text/plain": "  CheckingStatus  LoanDuration           CreditHistory LoanPurpose  \\\n0       0_to_200            31    credits_paid_to_date       other   \n1         less_0            18    credits_paid_to_date     car_new   \n2         less_0            15  prior_payments_delayed   furniture   \n3       0_to_200            28    credits_paid_to_date  retraining   \n4    no_checking            28  prior_payments_delayed   education   \n\n   LoanAmount ExistingSavings EmploymentDuration  InstallmentPercent     Sex  \\\n0        1889      100_to_500             less_1                   3  female   \n1         462        less_100             1_to_4                   2  female   \n2         250        less_100             1_to_4                   2    male   \n3        3693        less_100          greater_7                   3    male   \n4        6235     500_to_1000          greater_7                   3    male   \n\n  OthersOnLoan  ...       OwnsProperty Age  InstallmentPlans Housing  \\\n0         none  ...  savings_insurance  32              none     own   \n1         none  ...  savings_insurance  37            stores     own   \n2         none  ...        real_estate  28              none     own   \n3         none  ...  savings_insurance  32              none     own   \n4         none  ...            unknown  57              none     own   \n\n  ExistingCreditsCount      Job Dependents  Telephone ForeignWorker     Risk  \n0                    1  skilled          1       none           yes  No Risk  \n1                    2  skilled          1       none           yes  No Risk  \n2                    2  skilled          1        yes            no  No Risk  \n3                    1  skilled          1       none           yes  No Risk  \n4                    2  skilled          1       none           yes     Risk  \n\n[5 rows x 21 columns]"
                    }, 
                    "output_type": "execute_result"
                }
            ], 
            "source": "training_data_pd.head()"
        }, 
        {
            "source": "### DataMart setup", 
            "cell_type": "markdown", 
            "metadata": {}
        }, 
        {
            "execution_count": 21, 
            "cell_type": "code", 
            "metadata": {
                "scrolled": true
            }, 
            "outputs": [], 
            "source": "client.data_mart.setup(db_credentials=POSTGRES_CREDENTIALS, schema=SCHEMA_NAME)"
        }, 
        {
            "execution_count": 22, 
            "cell_type": "code", 
            "metadata": {
                "scrolled": true
            }, 
            "outputs": [], 
            "source": "data_mart_details = client.data_mart.get_details()"
        }, 
        {
            "source": "<a id=\"binding\"></a>\n## 2. Bind machine learning engines", 
            "cell_type": "markdown", 
            "metadata": {}
        }, 
        {
            "source": "### Bind  `Azure` machine learning studio\n\nProvide credentials using following fields:\n- `client_id`\n- `client_secret`\n- `subscription_id`\n- `tenant`", 
            "cell_type": "markdown", 
            "metadata": {}
        }, 
        {
            "execution_count": 23, 
            "cell_type": "code", 
            "metadata": {
                "scrolled": true
            }, 
            "outputs": [], 
            "source": "AZURE_ENGINE_CREDENTIALS = {\n    \"client_id\": \"***\",\n    \"client_secret\": \"***\",\n    \"subscription_id\": \"***\",\n    \"tenant\": \"***\"\n}"
        }, 
        {
            "execution_count": 24, 
            "cell_type": "code", 
            "metadata": {
                "scrolled": true
            }, 
            "outputs": [], 
            "source": "# The code was removed by Watson Studio for sharing."
        }, 
        {
            "execution_count": 25, 
            "cell_type": "code", 
            "metadata": {
                "scrolled": true
            }, 
            "outputs": [], 
            "source": "binding_uid = client.data_mart.bindings.add('My Azure ML Service', AzureMachineLearningServiceInstance(AZURE_ENGINE_CREDENTIALS))"
        }, 
        {
            "execution_count": 26, 
            "cell_type": "code", 
            "metadata": {
                "scrolled": true
            }, 
            "outputs": [], 
            "source": "bindings_details = client.data_mart.bindings.get_details()"
        }, 
        {
            "execution_count": 27, 
            "cell_type": "code", 
            "metadata": {
                "scrolled": true
            }, 
            "outputs": [
                {
                    "output_type": "display_data", 
                    "data": {
                        "text/html": "<HTML>\n        <body>\n            <h3>Service bindings</h3>\n            <table style='border: 1px solid #dddddd; font-family: Courier'>\n                <th style='border: 1px solid #dddddd'>uid</th><th style='border: 1px solid #dddddd'>name</th><th style='border: 1px solid #dddddd'>service_type</th><th style='border: 1px solid #dddddd'>created</th>\n                <tr><td style='border: 1px solid #dddddd'>5aa02882-db8b-486e-9fed-bf201de7ca1a</td><td style='border: 1px solid #dddddd'>My Azure ML Service</td><td style='border: 1px solid #dddddd'>azure_machine_learning_service</td><td style='border: 1px solid #dddddd'>2019-07-03T13:21:30.337Z</td></tr>\n            </table>\n        </body>\n        </HTML>", 
                        "text/plain": "<IPython.core.display.HTML object>"
                    }, 
                    "metadata": {}
                }
            ], 
            "source": "client.data_mart.bindings.list()"
        }, 
        {
            "source": "<a id=\"subsciption\"></a>\n## 3. Subscriptions", 
            "cell_type": "markdown", 
            "metadata": {}
        }, 
        {
            "source": "### Add subscriptions", 
            "cell_type": "markdown", 
            "metadata": {}
        }, 
        {
            "source": "List available deployments.\n\n**Note:** Depending on number of assets it may take some time.", 
            "cell_type": "markdown", 
            "metadata": {}
        }, 
        {
            "execution_count": 28, 
            "cell_type": "code", 
            "metadata": {
                "scrolled": true
            }, 
            "outputs": [
                {
                    "output_type": "display_data", 
                    "data": {
                        "text/html": "<HTML>\n        <body>\n            <h3>Available assets (binding_uid='5aa02882-db8b-486e-9fed-bf201de7ca1a')</h3>\n            <table style='border: 1px solid #dddddd; font-family: Courier'>\n                <th style='border: 1px solid #dddddd'>source_uid</th><th style='border: 1px solid #dddddd'>name</th><th style='border: 1px solid #dddddd'>created</th><th style='border: 1px solid #dddddd'>type</th><th style='border: 1px solid #dddddd'>frameworks</th><th style='border: 1px solid #dddddd'>binding_uid</th><th style='border: 1px solid #dddddd'>is_subscribed</th>\n                <tr><td style='border: 1px solid #dddddd'>b17220026885e46280b4c8293f3ce616</td><td style='border: 1px solid #dddddd'>ai-ops-aks-mlg-qa</td><td style='border: 1px solid #dddddd'>2019-07-02T18:25:58.5088977Z</td><td style='border: 1px solid #dddddd'>model</td><td style='border: 1px solid #dddddd'></td><td style='border: 1px solid #dddddd'>5aa02882-db8b-486e-9fed-bf201de7ca1a</td><td style='border: 1px solid #dddddd'>False</td></tr><tr><td style='border: 1px solid #dddddd'>1d0aeabb537f172913cc71a89d701b93</td><td style='border: 1px solid #dddddd'>campaign-effectiveness-mlg-qa</td><td style='border: 1px solid #dddddd'>2019-07-02T18:08:16.1707412Z</td><td style='border: 1px solid #dddddd'>model</td><td style='border: 1px solid #dddddd'></td><td style='border: 1px solid #dddddd'>5aa02882-db8b-486e-9fed-bf201de7ca1a</td><td style='border: 1px solid #dddddd'>False</td></tr><tr><td style='border: 1px solid #dddddd'>a01991859bc568e7f2e0630113c3d281</td><td style='border: 1px solid #dddddd'>german-credit-risk-azure-mlg-qa</td><td style='border: 1px solid #dddddd'>2019-07-02T18:02:45.8521824Z</td><td style='border: 1px solid #dddddd'>model</td><td style='border: 1px solid #dddddd'></td><td style='border: 1px solid #dddddd'>5aa02882-db8b-486e-9fed-bf201de7ca1a</td><td style='border: 1px solid #dddddd'>False</td></tr><tr><td style='border: 1px solid #dddddd'>6087c15ec6885e33807012940e8d427b</td><td style='border: 1px solid #dddddd'>german-credit-risk-rohit</td><td style='border: 1px solid #dddddd'>2019-06-28T08:37:36.4883007Z</td><td style='border: 1px solid #dddddd'>model</td><td style='border: 1px solid #dddddd'></td><td style='border: 1px solid #dddddd'>5aa02882-db8b-486e-9fed-bf201de7ca1a</td><td style='border: 1px solid #dddddd'>False</td></tr><tr><td style='border: 1px solid #dddddd'>d2131068b59b6e4ae946bd970d4896f2</td><td style='border: 1px solid #dddddd'>german-credit-risk-azure-hc</td><td style='border: 1px solid #dddddd'>2019-06-24T23:24:14.7188195Z</td><td style='border: 1px solid #dddddd'>model</td><td style='border: 1px solid #dddddd'></td><td style='border: 1px solid #dddddd'>5aa02882-db8b-486e-9fed-bf201de7ca1a</td><td style='border: 1px solid #dddddd'>False</td></tr><tr><td style='border: 1px solid #dddddd'>fd1c405450a4b466b146991b9253bee9</td><td style='border: 1px solid #dddddd'>nyc-taxi-binary-tokyoqa-hc</td><td style='border: 1px solid #dddddd'>2019-06-24T23:03:53.3270862Z</td><td style='border: 1px solid #dddddd'>model</td><td style='border: 1px solid #dddddd'></td><td style='border: 1px solid #dddddd'>5aa02882-db8b-486e-9fed-bf201de7ca1a</td><td style='border: 1px solid #dddddd'>False</td></tr><tr><td style='border: 1px solid #dddddd'>1fb7638e14a4b6544ea4454475f13d23</td><td style='border: 1px solid #dddddd'>fp-german-credit-risk-azs-azure</td><td style='border: 1px solid #dddddd'>2019-06-19T02:13:46.2710827Z</td><td style='border: 1px solid #dddddd'>model</td><td style='border: 1px solid #dddddd'></td><td style='border: 1px solid #dddddd'>5aa02882-db8b-486e-9fed-bf201de7ca1a</td><td style='border: 1px solid #dddddd'>False</td></tr><tr><td style='border: 1px solid #dddddd'>022d3813f27185621d12dad9fa7355a2</td><td style='border: 1px solid #dddddd'>campaign-effectiveness</td><td style='border: 1px solid #dddddd'>2019-06-13T08:30:42.2725336Z</td><td style='border: 1px solid #dddddd'>model</td><td style='border: 1px solid #dddddd'></td><td style='border: 1px solid #dddddd'>5aa02882-db8b-486e-9fed-bf201de7ca1a</td><td style='border: 1px solid #dddddd'>False</td></tr><tr><td style='border: 1px solid #dddddd'>a561cea5c7642c9df1d14418fd270690</td><td style='border: 1px solid #dddddd'>nyc-taxi-multiclass-tokyoqa</td><td style='border: 1px solid #dddddd'>2019-06-13T04:53:50.0748277Z</td><td style='border: 1px solid #dddddd'>model</td><td style='border: 1px solid #dddddd'></td><td style='border: 1px solid #dddddd'>5aa02882-db8b-486e-9fed-bf201de7ca1a</td><td style='border: 1px solid #dddddd'>False</td></tr><tr><td style='border: 1px solid #dddddd'>317bad17a803c2253c9ecdc0b32183a7</td><td style='border: 1px solid #dddddd'>nyc-taxi-regression-tokyoqa</td><td style='border: 1px solid #dddddd'>2019-06-13T04:24:04.2145521Z</td><td style='border: 1px solid #dddddd'>model</td><td style='border: 1px solid #dddddd'></td><td style='border: 1px solid #dddddd'>5aa02882-db8b-486e-9fed-bf201de7ca1a</td><td style='border: 1px solid #dddddd'>False</td></tr><tr><td style='border: 1px solid #dddddd'>5a73d15cee9f3577d4010c1a3a7a1fd8</td><td style='border: 1px solid #dddddd'>nyc-taxi-binary-tokyoqa</td><td style='border: 1px solid #dddddd'>2019-06-13T03:46:32.495248Z</td><td style='border: 1px solid #dddddd'>model</td><td style='border: 1px solid #dddddd'></td><td style='border: 1px solid #dddddd'>5aa02882-db8b-486e-9fed-bf201de7ca1a</td><td style='border: 1px solid #dddddd'>False</td></tr><tr><td style='border: 1px solid #dddddd'>3bbe4572551e5ce819be41c94615be50</td><td style='border: 1px solid #dddddd'>ai-ops-aks</td><td style='border: 1px solid #dddddd'>2019-06-11T11:28:36.9594525Z</td><td style='border: 1px solid #dddddd'>model</td><td style='border: 1px solid #dddddd'></td><td style='border: 1px solid #dddddd'>5aa02882-db8b-486e-9fed-bf201de7ca1a</td><td style='border: 1px solid #dddddd'>False</td></tr><tr><td style='border: 1px solid #dddddd'>a6b146363c4f52eeec6db3dac4a860db</td><td style='border: 1px solid #dddddd'>nyc-taxi-binary</td><td style='border: 1px solid #dddddd'>2019-05-27T09:46:52.1695792Z</td><td style='border: 1px solid #dddddd'>model</td><td style='border: 1px solid #dddddd'></td><td style='border: 1px solid #dddddd'>5aa02882-db8b-486e-9fed-bf201de7ca1a</td><td style='border: 1px solid #dddddd'>False</td></tr><tr><td style='border: 1px solid #dddddd'>8abb67a6e88f9b5ca2815e272240ec1f</td><td style='border: 1px solid #dddddd'>nyc-taxi-regression</td><td style='border: 1px solid #dddddd'>2019-05-27T09:26:38.9139093Z</td><td style='border: 1px solid #dddddd'>model</td><td style='border: 1px solid #dddddd'></td><td style='border: 1px solid #dddddd'>5aa02882-db8b-486e-9fed-bf201de7ca1a</td><td style='border: 1px solid #dddddd'>False</td></tr><tr><td style='border: 1px solid #dddddd'>bffa76165faf8f6041d1b36ad7d64cf9</td><td style='border: 1px solid #dddddd'>nyc-taxi-multiclass</td><td style='border: 1px solid #dddddd'>2019-05-27T04:40:32.3826997Z</td><td style='border: 1px solid #dddddd'>model</td><td style='border: 1px solid #dddddd'></td><td style='border: 1px solid #dddddd'>5aa02882-db8b-486e-9fed-bf201de7ca1a</td><td style='border: 1px solid #dddddd'>False</td></tr><tr><td style='border: 1px solid #dddddd'>7902428228e2f18cc8a206b01e169c55</td><td style='border: 1px solid #dddddd'>credit-risk-endpoint-wrapper</td><td style='border: 1px solid #dddddd'>2019-05-20T11:44:41.4037899Z</td><td style='border: 1px solid #dddddd'>model</td><td style='border: 1px solid #dddddd'></td><td style='border: 1px solid #dddddd'>5aa02882-db8b-486e-9fed-bf201de7ca1a</td><td style='border: 1px solid #dddddd'>False</td></tr><tr><td style='border: 1px solid #dddddd'>696c412096566cb964ccab30604330f5</td><td style='border: 1px solid #dddddd'>credit-risk-prediction-wrapper</td><td style='border: 1px solid #dddddd'>2019-05-17T09:59:23.2409737Z</td><td style='border: 1px solid #dddddd'>model</td><td style='border: 1px solid #dddddd'></td><td style='border: 1px solid #dddddd'>5aa02882-db8b-486e-9fed-bf201de7ca1a</td><td style='border: 1px solid #dddddd'>False</td></tr><tr><td style='border: 1px solid #dddddd'>27fbe9111d24fb44fa9c64aa42fdd1f6</td><td style='border: 1px solid #dddddd'>credit-risk-prediction</td><td style='border: 1px solid #dddddd'>2019-05-16T08:36:40.1143742Z</td><td style='border: 1px solid #dddddd'>model</td><td style='border: 1px solid #dddddd'></td><td style='border: 1px solid #dddddd'>5aa02882-db8b-486e-9fed-bf201de7ca1a</td><td style='border: 1px solid #dddddd'>False</td></tr><tr><td style='border: 1px solid #dddddd'>658cb6fd3c1a08464747bcb0163e1bda</td><td style='border: 1px solid #dddddd'>circle-area-calculator</td><td style='border: 1px solid #dddddd'>2019-05-06T08:49:18.7488461Z</td><td style='border: 1px solid #dddddd'>model</td><td style='border: 1px solid #dddddd'></td><td style='border: 1px solid #dddddd'>5aa02882-db8b-486e-9fed-bf201de7ca1a</td><td style='border: 1px solid #dddddd'>False</td></tr><tr><td style='border: 1px solid #dddddd'>e2e9b93ab09c48426c2a57b24d5059a4</td><td style='border: 1px solid #dddddd'>german-credit-risk-wml</td><td style='border: 1px solid #dddddd'>2019-05-06T04:10:44.5366001Z</td><td style='border: 1px solid #dddddd'>model</td><td style='border: 1px solid #dddddd'></td><td style='border: 1px solid #dddddd'>5aa02882-db8b-486e-9fed-bf201de7ca1a</td><td style='border: 1px solid #dddddd'>False</td></tr><tr><td style='border: 1px solid #dddddd'>ba51c6d7ea49a8b9ad80f4ec080b6fba</td><td style='border: 1px solid #dddddd'>amlstudio-bfc4f79fab3248128f0391</td><td style='border: 1px solid #dddddd'>2019-05-05T20:32:47.3469923Z</td><td style='border: 1px solid #dddddd'>model</td><td style='border: 1px solid #dddddd'></td><td style='border: 1px solid #dddddd'>5aa02882-db8b-486e-9fed-bf201de7ca1a</td><td style='border: 1px solid #dddddd'>False</td></tr><tr><td style='border: 1px solid #dddddd'>a6198376f1553243a27b9c7e663693b3</td><td style='border: 1px solid #dddddd'>my-aci-service-2</td><td style='border: 1px solid #dddddd'>2019-02-08T17:22:53.5745336Z</td><td style='border: 1px solid #dddddd'>model</td><td style='border: 1px solid #dddddd'></td><td style='border: 1px solid #dddddd'>5aa02882-db8b-486e-9fed-bf201de7ca1a</td><td style='border: 1px solid #dddddd'>False</td></tr><tr><td style='border: 1px solid #dddddd'>55959fa838ea0b7afcc9d733ad6adeb4</td><td style='border: 1px solid #dddddd'>sklearn-mnist-svc</td><td style='border: 1px solid #dddddd'>2019-02-08T08:04:20.0627687Z</td><td style='border: 1px solid #dddddd'>model</td><td style='border: 1px solid #dddddd'></td><td style='border: 1px solid #dddddd'>5aa02882-db8b-486e-9fed-bf201de7ca1a</td><td style='border: 1px solid #dddddd'>False</td></tr>\n            </table>\n        </body>\n        </HTML>", 
                        "text/plain": "<IPython.core.display.HTML object>"
                    }, 
                    "metadata": {}
                }
            ], 
            "source": "client.data_mart.bindings.list_assets(binding_uid=binding_uid)"
        }, 
        {
            "source": "**Action:** Assign your credit risk source_uid to `source_uid` variable below.", 
            "cell_type": "markdown", 
            "metadata": {}
        }, 
        {
            "execution_count": 29, 
            "cell_type": "code", 
            "metadata": {
                "scrolled": true
            }, 
            "outputs": [], 
            "source": "source_uid = '6087c15ec6885e33807012940e8d427b'"
        }, 
        {
            "execution_count": 30, 
            "cell_type": "code", 
            "metadata": {
                "scrolled": true
            }, 
            "outputs": [], 
            "source": "feature_columns = ['CheckingStatus', 'LoanDuration', 'CreditHistory', 'LoanPurpose', 'LoanAmount', 'ExistingSavings', 'EmploymentDuration', 'InstallmentPercent', 'Sex', 'OthersOnLoan', 'CurrentResidenceDuration', 'OwnsProperty', 'Age', 'InstallmentPlans', 'Housing', 'ExistingCreditsCount', 'Job', 'Dependents', 'Telephone', 'ForeignWorker']\ncategorical_columns = ['CheckingStatus', 'CreditHistory', 'LoanPurpose', 'ExistingSavings', 'EmploymentDuration', 'Sex', 'OthersOnLoan', 'OwnsProperty', 'InstallmentPlans', 'Housing', 'Job', 'Telephone', 'ForeignWorker']"
        }, 
        {
            "execution_count": 31, 
            "cell_type": "code", 
            "metadata": {
                "scrolled": true
            }, 
            "outputs": [], 
            "source": "subscription = client.data_mart.subscriptions.add(\n    AzureMachineLearningServiceAsset(source_uid=source_uid,\n                                      binding_uid=binding_uid,\n                                      input_data_type=InputDataType.STRUCTURED,\n                                      problem_type=ProblemType.BINARY_CLASSIFICATION,\n                                      label_column='Risk',\n                                      prediction_column='Scored Labels',\n                                      probability_column='Scored Probabilities',\n                                      feature_columns=feature_columns,\n                                      categorical_columns=categorical_columns))"
        }, 
        {
            "source": "### Get subscriptions list", 
            "cell_type": "markdown", 
            "metadata": {}
        }, 
        {
            "execution_count": 32, 
            "cell_type": "code", 
            "metadata": {
                "scrolled": true
            }, 
            "outputs": [], 
            "source": "subscriptions = client.data_mart.subscriptions.get_details()"
        }, 
        {
            "execution_count": 33, 
            "cell_type": "code", 
            "metadata": {
                "scrolled": true
            }, 
            "outputs": [
                {
                    "output_type": "stream", 
                    "name": "stdout", 
                    "text": "['c34b745b-8d71-4c8d-8bb7-5cae01cab19b']\n"
                }
            ], 
            "source": "subscriptions_uids = client.data_mart.subscriptions.get_uids()\nprint(subscriptions_uids)"
        }, 
        {
            "source": "### List subscriptions", 
            "cell_type": "markdown", 
            "metadata": {}
        }, 
        {
            "execution_count": 34, 
            "cell_type": "code", 
            "metadata": {
                "scrolled": true
            }, 
            "outputs": [
                {
                    "output_type": "display_data", 
                    "data": {
                        "text/html": "<HTML>\n        <body>\n            <h3>Subscriptions</h3>\n            <table style='border: 1px solid #dddddd; font-family: Courier'>\n                <th style='border: 1px solid #dddddd'>uid</th><th style='border: 1px solid #dddddd'>name</th><th style='border: 1px solid #dddddd'>type</th><th style='border: 1px solid #dddddd'>binding_uid</th><th style='border: 1px solid #dddddd'>created</th>\n                <tr><td style='border: 1px solid #dddddd'>c34b745b-8d71-4c8d-8bb7-5cae01cab19b</td><td style='border: 1px solid #dddddd'>german-credit-risk-rohit</td><td style='border: 1px solid #dddddd'>model</td><td style='border: 1px solid #dddddd'>5aa02882-db8b-486e-9fed-bf201de7ca1a</td><td style='border: 1px solid #dddddd'>2019-07-03T13:21:52.945Z</td></tr>\n            </table>\n        </body>\n        </HTML>", 
                        "text/plain": "<IPython.core.display.HTML object>"
                    }, 
                    "metadata": {}
                }
            ], 
            "source": "client.data_mart.subscriptions.list()"
        }, 
        {
            "source": "<a id=\"scoring\"></a>\n## 4. Scoring and payload logging", 
            "cell_type": "markdown", 
            "metadata": {}
        }, 
        {
            "source": "### Score the credit risk model and measure response time", 
            "cell_type": "markdown", 
            "metadata": {}
        }, 
        {
            "execution_count": 35, 
            "cell_type": "code", 
            "metadata": {
                "scrolled": true
            }, 
            "outputs": [
                {
                    "output_type": "stream", 
                    "name": "stdout", 
                    "text": "\"{\\\"output\\\": [{\\\"Scored Labels\\\": \\\"No Risk\\\", \\\"Scored Probabilities\\\": [0.8922524675865824, 0.10774753241341757]}, {\\\"Scored Labels\\\": \\\"No Risk\\\", \\\"Scored Probabilities\\\": [0.8335192848546905, 0.1664807151453095]}]}\"\n"
                }
            ], 
            "source": "import requests\nimport time\nimport json\n\nsubscription_details = subscription.get_details()\nscoring_url = subscription_details['entity']['deployments'][0]['scoring_endpoint']['url']\n\ndata = {\"input\": [{'CheckingStatus': \"0_to_200\", 'LoanDuration': 31, 'CreditHistory': \"credits_paid_to_date\",\n                           'LoanPurpose': \"other\",\n                           'LoanAmount': 1889, 'ExistingSavings': \"100_to_500\", 'EmploymentDuration': \"less_1\",\n                           'InstallmentPercent': 3, 'Sex': \"female\",\n                           'OthersOnLoan': \"none\", 'CurrentResidenceDuration': 3, 'OwnsProperty': \"savings_insurance\",\n                           'Age': 32, 'InstallmentPlans': \"none\",\n                           'Housing': \"own\", 'ExistingCreditsCount': 1, 'Job': \"skilled\", 'Dependents': 1,\n                           'Telephone': \"none\", 'ForeignWorker': \"yes\"},\n                          {'CheckingStatus': \"no_checking\", 'LoanDuration': 13, 'CreditHistory': \"credits_paid_to_date\",\n                           'LoanPurpose': \"car_new\",\n                           'LoanAmount': 1389, 'ExistingSavings': \"100_to_500\", 'EmploymentDuration': \"1_to_4\",\n                           'InstallmentPercent': 2, 'Sex': \"male\",\n                           'OthersOnLoan': \"none\", 'CurrentResidenceDuration': 3, 'OwnsProperty': \"savings_insurance\",\n                           'Age': 25, 'InstallmentPlans': \"none\",\n                           'Housing': \"own\", 'ExistingCreditsCount': 2, 'Job': \"skilled\", 'Dependents': 2,\n                           'Telephone': \"none\", 'ForeignWorker': \"yes\"}]}\n\nbody = str.encode(json.dumps(data))\nheaders = subscription_details['entity']['deployments'][0]['scoring_endpoint']['request_headers']\n\nstart_time = time.time()\nresponse = requests.post(url=scoring_url, data=body, headers=headers)\nresponse_time = int((time.time() - start_time) *1000)\nresult = response.json()\n\nprint(json.dumps(result, indent=2))"
        }, 
        {
            "source": "### Store the request and response in payload logging table", 
            "cell_type": "markdown", 
            "metadata": {}
        }, 
        {
            "execution_count": 36, 
            "cell_type": "code", 
            "metadata": {
                "scrolled": true
            }, 
            "outputs": [], 
            "source": "records_list = []\n\nfor i in range(1, 10):\n    records_list.append(PayloadRecord(request=data, response=result, response_time=response_time))\n\nsubscription.payload_logging.store(records=records_list)"
        }, 
        {
            "execution_count": 37, 
            "cell_type": "code", 
            "metadata": {
                "scrolled": true
            }, 
            "outputs": [
                {
                    "output_type": "stream", 
                    "name": "stdout", 
                    "text": "        LoanAmount  InstallmentPercent  LoanDuration        Age  \\\ncount    14.000000           14.000000     14.000000  14.000000   \nmean   1639.000000            2.500000     22.000000  28.500000   \nstd     259.437261            0.518875      9.339741   3.632122   \nmin    1389.000000            2.000000     13.000000  25.000000   \n25%    1389.000000            2.000000     13.000000  25.000000   \n50%    1639.000000            2.500000     22.000000  28.500000   \n75%    1889.000000            3.000000     31.000000  32.000000   \nmax    1889.000000            3.000000     31.000000  32.000000   \n\n       CurrentResidenceDuration  ExistingCreditsCount  Dependents  \\\ncount                      14.0             14.000000   14.000000   \nmean                        3.0              1.500000    1.500000   \nstd                         0.0              0.518875    0.518875   \nmin                         3.0              1.000000    1.000000   \n25%                         3.0              1.000000    1.000000   \n50%                         3.0              1.500000    1.500000   \n75%                         3.0              2.000000    2.000000   \nmax                         3.0              2.000000    2.000000   \n\n       prediction_probability  \ncount               14.000000  \nmean                 0.862886  \nstd                  0.030475  \nmin                  0.833519  \n25%                  0.833519  \n50%                  0.862886  \n75%                  0.892252  \nmax                  0.892252  \n"
                }
            ], 
            "source": "import time\n\ntime.sleep(5)\nsubscription.payload_logging.describe_table()"
        }, 
        {
            "source": "### Check transactions performance data", 
            "cell_type": "markdown", 
            "metadata": {}
        }, 
        {
            "execution_count": 38, 
            "cell_type": "code", 
            "metadata": {
                "scrolled": true
            }, 
            "outputs": [
                {
                    "output_type": "display_data", 
                    "data": {
                        "text/html": "<HTML>\n        <body>\n            <h3>PerformanceMetrics (binding_id=5aa02882-db8b-486e-9fed-bf201de7ca1a, subscription_id=c34b745b-8d71-4c8d-8bb7-5cae01cab19b)</h3>\n            <table style='border: 1px solid #dddddd; font-family: Courier'>\n                <th style='border: 1px solid #dddddd'>ts</th><th style='border: 1px solid #dddddd'>scoring_time</th><th style='border: 1px solid #dddddd'>scoring_records</th><th style='border: 1px solid #dddddd'>binding_id</th><th style='border: 1px solid #dddddd'>subscription_id</th><th style='border: 1px solid #dddddd'>deployment_id</th><th style='border: 1px solid #dddddd'>process</th><th style='border: 1px solid #dddddd'>asset_revision</th>\n                <tr><td style='border: 1px solid #dddddd'>2019-07-03 13:21:54.127000+00:00</td><td style='border: 1px solid #dddddd'>362.0</td><td style='border: 1px solid #dddddd'>2</td><td style='border: 1px solid #dddddd'>5aa02882-db8b-486e-9fed-bf201de7ca1a</td><td style='border: 1px solid #dddddd'>c34b745b-8d71-4c8d-8bb7-5cae01cab19b</td><td style='border: 1px solid #dddddd'>4295edeaf78d9e41fe728b09ae3ca7a9</td><td style='border: 1px solid #dddddd'></td><td style='border: 1px solid #dddddd'></td></tr><tr><td style='border: 1px solid #dddddd'>2019-07-03 13:21:54.127000+00:00</td><td style='border: 1px solid #dddddd'>362.0</td><td style='border: 1px solid #dddddd'>2</td><td style='border: 1px solid #dddddd'>5aa02882-db8b-486e-9fed-bf201de7ca1a</td><td style='border: 1px solid #dddddd'>c34b745b-8d71-4c8d-8bb7-5cae01cab19b</td><td style='border: 1px solid #dddddd'>4295edeaf78d9e41fe728b09ae3ca7a9</td><td style='border: 1px solid #dddddd'></td><td style='border: 1px solid #dddddd'></td></tr><tr><td style='border: 1px solid #dddddd'>2019-07-03 13:21:54.127000+00:00</td><td style='border: 1px solid #dddddd'>362.0</td><td style='border: 1px solid #dddddd'>2</td><td style='border: 1px solid #dddddd'>5aa02882-db8b-486e-9fed-bf201de7ca1a</td><td style='border: 1px solid #dddddd'>c34b745b-8d71-4c8d-8bb7-5cae01cab19b</td><td style='border: 1px solid #dddddd'>4295edeaf78d9e41fe728b09ae3ca7a9</td><td style='border: 1px solid #dddddd'></td><td style='border: 1px solid #dddddd'></td></tr><tr><td style='border: 1px solid #dddddd'>2019-07-03 13:21:54.127000+00:00</td><td style='border: 1px solid #dddddd'>362.0</td><td style='border: 1px solid #dddddd'>2</td><td style='border: 1px solid #dddddd'>5aa02882-db8b-486e-9fed-bf201de7ca1a</td><td style='border: 1px solid #dddddd'>c34b745b-8d71-4c8d-8bb7-5cae01cab19b</td><td style='border: 1px solid #dddddd'>4295edeaf78d9e41fe728b09ae3ca7a9</td><td style='border: 1px solid #dddddd'></td><td style='border: 1px solid #dddddd'></td></tr><tr><td style='border: 1px solid #dddddd'>2019-07-03 13:21:54.127000+00:00</td><td style='border: 1px solid #dddddd'>362.0</td><td style='border: 1px solid #dddddd'>2</td><td style='border: 1px solid #dddddd'>5aa02882-db8b-486e-9fed-bf201de7ca1a</td><td style='border: 1px solid #dddddd'>c34b745b-8d71-4c8d-8bb7-5cae01cab19b</td><td style='border: 1px solid #dddddd'>4295edeaf78d9e41fe728b09ae3ca7a9</td><td style='border: 1px solid #dddddd'></td><td style='border: 1px solid #dddddd'></td></tr><tr><td style='border: 1px solid #dddddd'>2019-07-03 13:21:54.127000+00:00</td><td style='border: 1px solid #dddddd'>362.0</td><td style='border: 1px solid #dddddd'>2</td><td style='border: 1px solid #dddddd'>5aa02882-db8b-486e-9fed-bf201de7ca1a</td><td style='border: 1px solid #dddddd'>c34b745b-8d71-4c8d-8bb7-5cae01cab19b</td><td style='border: 1px solid #dddddd'>4295edeaf78d9e41fe728b09ae3ca7a9</td><td style='border: 1px solid #dddddd'></td><td style='border: 1px solid #dddddd'></td></tr><tr><td style='border: 1px solid #dddddd'>2019-07-03 13:21:54.127000+00:00</td><td style='border: 1px solid #dddddd'>362.0</td><td style='border: 1px solid #dddddd'>2</td><td style='border: 1px solid #dddddd'>5aa02882-db8b-486e-9fed-bf201de7ca1a</td><td style='border: 1px solid #dddddd'>c34b745b-8d71-4c8d-8bb7-5cae01cab19b</td><td style='border: 1px solid #dddddd'>4295edeaf78d9e41fe728b09ae3ca7a9</td><td style='border: 1px solid #dddddd'></td><td style='border: 1px solid #dddddd'></td></tr><tr><td style='border: 1px solid #dddddd'>2019-07-03 13:21:54.127000+00:00</td><td style='border: 1px solid #dddddd'>362.0</td><td style='border: 1px solid #dddddd'>2</td><td style='border: 1px solid #dddddd'>5aa02882-db8b-486e-9fed-bf201de7ca1a</td><td style='border: 1px solid #dddddd'>c34b745b-8d71-4c8d-8bb7-5cae01cab19b</td><td style='border: 1px solid #dddddd'>4295edeaf78d9e41fe728b09ae3ca7a9</td><td style='border: 1px solid #dddddd'></td><td style='border: 1px solid #dddddd'></td></tr><tr><td style='border: 1px solid #dddddd'>2019-07-03 13:21:54.127000+00:00</td><td style='border: 1px solid #dddddd'>362.0</td><td style='border: 1px solid #dddddd'>2</td><td style='border: 1px solid #dddddd'>5aa02882-db8b-486e-9fed-bf201de7ca1a</td><td style='border: 1px solid #dddddd'>c34b745b-8d71-4c8d-8bb7-5cae01cab19b</td><td style='border: 1px solid #dddddd'>4295edeaf78d9e41fe728b09ae3ca7a9</td><td style='border: 1px solid #dddddd'></td><td style='border: 1px solid #dddddd'></td></tr>\n            </table>\n        </body>\n        </HTML>", 
                        "text/plain": "<IPython.core.display.HTML object>"
                    }, 
                    "metadata": {}
                }
            ], 
            "source": "subscription.performance_monitoring.show_table()"
        }, 
        {
            "source": "**Note:** It may take few seconds before performance data is populated.", 
            "cell_type": "markdown", 
            "metadata": {}
        }, 
        {
            "source": "<a id=\"feedback\"></a>\n## 5. Feedback logging & quality (accuracy) monitoring", 
            "cell_type": "markdown", 
            "metadata": {}
        }, 
        {
            "source": "### Enable quality monitoring", 
            "cell_type": "markdown", 
            "metadata": {}
        }, 
        {
            "source": "You need to provide the monitoring `threshold` and `min_records` (minimal number of feedback records).", 
            "cell_type": "markdown", 
            "metadata": {}
        }, 
        {
            "execution_count": 39, 
            "cell_type": "code", 
            "metadata": {
                "scrolled": true
            }, 
            "outputs": [], 
            "source": "subscription.quality_monitoring.enable(threshold=0.7, min_records=10)"
        }, 
        {
            "source": "### Feedback records logging", 
            "cell_type": "markdown", 
            "metadata": {}
        }, 
        {
            "source": "Feedback records are used to evaluate your model. The predicted values are compared to real values (feedback records).", 
            "cell_type": "markdown", 
            "metadata": {}
        }, 
        {
            "source": "You can check the schema of feedback table using below method.", 
            "cell_type": "markdown", 
            "metadata": {}
        }, 
        {
            "execution_count": 40, 
            "cell_type": "code", 
            "metadata": {
                "scrolled": true
            }, 
            "outputs": [
                {
                    "output_type": "display_data", 
                    "data": {
                        "text/html": "<HTML>\n        <body>\n            <h3>Schema of Feedback_c34b745b-8d71-4c8d-8bb7-5cae01cab19b</h3>\n            <table style='border: 1px solid #dddddd; font-family: Courier'>\n                <th style='border: 1px solid #dddddd'>name</th><th style='border: 1px solid #dddddd'>type</th><th style='border: 1px solid #dddddd'>nullable</th>\n                <tr><td style='border: 1px solid #dddddd'>LoanAmount</td><td style='border: 1px solid #dddddd'>integer</td><td style='border: 1px solid #dddddd'>True</td></tr><tr><td style='border: 1px solid #dddddd'>InstallmentPercent</td><td style='border: 1px solid #dddddd'>integer</td><td style='border: 1px solid #dddddd'>True</td></tr><tr><td style='border: 1px solid #dddddd'>ExistingSavings</td><td style='border: 1px solid #dddddd'>string</td><td style='border: 1px solid #dddddd'>True</td></tr><tr><td style='border: 1px solid #dddddd'>CheckingStatus</td><td style='border: 1px solid #dddddd'>string</td><td style='border: 1px solid #dddddd'>True</td></tr><tr><td style='border: 1px solid #dddddd'>LoanPurpose</td><td style='border: 1px solid #dddddd'>string</td><td style='border: 1px solid #dddddd'>True</td></tr><tr><td style='border: 1px solid #dddddd'>Job</td><td style='border: 1px solid #dddddd'>string</td><td style='border: 1px solid #dddddd'>True</td></tr><tr><td style='border: 1px solid #dddddd'>InstallmentPlans</td><td style='border: 1px solid #dddddd'>string</td><td style='border: 1px solid #dddddd'>True</td></tr><tr><td style='border: 1px solid #dddddd'>OthersOnLoan</td><td style='border: 1px solid #dddddd'>string</td><td style='border: 1px solid #dddddd'>True</td></tr><tr><td style='border: 1px solid #dddddd'>LoanDuration</td><td style='border: 1px solid #dddddd'>integer</td><td style='border: 1px solid #dddddd'>True</td></tr><tr><td style='border: 1px solid #dddddd'>Age</td><td style='border: 1px solid #dddddd'>integer</td><td style='border: 1px solid #dddddd'>True</td></tr><tr><td style='border: 1px solid #dddddd'>CreditHistory</td><td style='border: 1px solid #dddddd'>string</td><td style='border: 1px solid #dddddd'>True</td></tr><tr><td style='border: 1px solid #dddddd'>CurrentResidenceDuration</td><td style='border: 1px solid #dddddd'>integer</td><td style='border: 1px solid #dddddd'>True</td></tr><tr><td style='border: 1px solid #dddddd'>ForeignWorker</td><td style='border: 1px solid #dddddd'>string</td><td style='border: 1px solid #dddddd'>True</td></tr><tr><td style='border: 1px solid #dddddd'>Housing</td><td style='border: 1px solid #dddddd'>string</td><td style='border: 1px solid #dddddd'>True</td></tr><tr><td style='border: 1px solid #dddddd'>ExistingCreditsCount</td><td style='border: 1px solid #dddddd'>integer</td><td style='border: 1px solid #dddddd'>True</td></tr><tr><td style='border: 1px solid #dddddd'>Telephone</td><td style='border: 1px solid #dddddd'>string</td><td style='border: 1px solid #dddddd'>True</td></tr><tr><td style='border: 1px solid #dddddd'>Sex</td><td style='border: 1px solid #dddddd'>string</td><td style='border: 1px solid #dddddd'>True</td></tr><tr><td style='border: 1px solid #dddddd'>Dependents</td><td style='border: 1px solid #dddddd'>integer</td><td style='border: 1px solid #dddddd'>True</td></tr><tr><td style='border: 1px solid #dddddd'>OwnsProperty</td><td style='border: 1px solid #dddddd'>string</td><td style='border: 1px solid #dddddd'>True</td></tr><tr><td style='border: 1px solid #dddddd'>EmploymentDuration</td><td style='border: 1px solid #dddddd'>string</td><td style='border: 1px solid #dddddd'>True</td></tr><tr><td style='border: 1px solid #dddddd'>Risk</td><td style='border: 1px solid #dddddd'>string</td><td style='border: 1px solid #dddddd'>True</td></tr><tr><td style='border: 1px solid #dddddd'>_training</td><td style='border: 1px solid #dddddd'>timestamp</td><td style='border: 1px solid #dddddd'>False</td></tr>\n            </table>\n        </body>\n        </HTML>", 
                        "text/plain": "<IPython.core.display.HTML object>"
                    }, 
                    "metadata": {}
                }
            ], 
            "source": "subscription.feedback_logging.print_table_schema()"
        }, 
        {
            "source": "The feedback records can be send to feedback table using below code.", 
            "cell_type": "markdown", 
            "metadata": {}
        }, 
        {
            "execution_count": 41, 
            "cell_type": "code", 
            "metadata": {
                "scrolled": true
            }, 
            "outputs": [], 
            "source": "records = [\n    [\"no_checking\",\"28\",\"outstanding_credit\",\"appliances\",\"5990\",\"500_to_1000\",\"greater_7\",\"5\",\"male\",\"co-applicant\",\"3\",\"car_other\",\"55\",\"none\",\"free\",\"2\",\"skilled\",\"2\",\"yes\",\"yes\",\"Risk\"],\n    [\"greater_200\",\"22\",\"all_credits_paid_back\",\"car_used\",\"3376\",\"less_100\",\"less_1\",\"3\",\"female\",\"none\",\"2\",\"car_other\",\"32\",\"none\",\"own\",\"1\",\"skilled\",\"1\",\"none\",\"yes\",\"No Risk\"],\n    [\"no_checking\",\"39\",\"credits_paid_to_date\",\"vacation\",\"6434\",\"unknown\",\"greater_7\",\"5\",\"male\",\"none\",\"4\",\"car_other\",\"39\",\"none\",\"own\",\"2\",\"skilled\",\"2\",\"yes\",\"yes\",\"Risk\"],\n    [\"0_to_200\",\"20\",\"credits_paid_to_date\",\"furniture\",\"2442\",\"less_100\",\"unemployed\",\"3\",\"female\",\"none\",\"1\",\"real_estate\",\"42\",\"none\",\"own\",\"1\",\"skilled\",\"1\",\"none\",\"yes\",\"No Risk\"],\n    [\"greater_200\",\"4\",\"all_credits_paid_back\",\"education\",\"4206\",\"less_100\",\"unemployed\",\"1\",\"female\",\"none\",\"3\",\"savings_insurance\",\"27\",\"none\",\"own\",\"1\",\"management_self-employed\",\"1\",\"none\",\"yes\",\"No Risk\"],\n    [\"greater_200\",\"23\",\"credits_paid_to_date\",\"car_used\",\"2963\",\"greater_1000\",\"greater_7\",\"4\",\"male\",\"none\",\"4\",\"car_other\",\"46\",\"none\",\"own\",\"2\",\"skilled\",\"1\",\"none\",\"yes\",\"Risk\"],\n    [\"no_checking\",\"31\",\"prior_payments_delayed\",\"vacation\",\"2673\",\"500_to_1000\",\"1_to_4\",\"3\",\"male\",\"none\",\"2\",\"real_estate\",\"35\",\"stores\",\"rent\",\"1\",\"skilled\",\"2\",\"none\",\"yes\",\"Risk\"],\n    [\"no_checking\",\"37\",\"prior_payments_delayed\",\"other\",\"6971\",\"500_to_1000\",\"1_to_4\",\"3\",\"male\",\"none\",\"3\",\"savings_insurance\",\"54\",\"none\",\"own\",\"2\",\"skilled\",\"1\",\"yes\",\"yes\",\"Risk\"],\n    [\"0_to_200\",\"39\",\"prior_payments_delayed\",\"appliances\",\"5685\",\"100_to_500\",\"1_to_4\",\"4\",\"female\",\"none\",\"2\",\"unknown\",\"37\",\"none\",\"own\",\"2\",\"skilled\",\"1\",\"yes\",\"yes\",\"Risk\"],\n    [\"no_checking\",\"38\",\"prior_payments_delayed\",\"appliances\",\"4990\",\"500_to_1000\",\"greater_7\",\"4\",\"male\",\"none\",\"4\",\"car_other\",\"50\",\"bank\",\"own\",\"2\",\"unemployed\",\"2\",\"yes\",\"yes\",\"Risk\"]]\n\nfields = feature_columns.copy()\nfields.append('Risk')\n\nsubscription.feedback_logging.store(feedback_data=records, fields=fields)"
        }, 
        {
            "execution_count": 42, 
            "cell_type": "code", 
            "metadata": {}, 
            "outputs": [
                {
                    "output_type": "display_data", 
                    "data": {
                        "text/html": "<HTML>\n        <body>\n            <h3>Feedback_c34b745b-8d71-4c8d-8bb7-5cae01cab19b (binding_id=5aa02882-db8b-486e-9fed-bf201de7ca1a, subscription_id=c34b745b-8d71-4c8d-8bb7-5cae01cab19b)</h3>\n            <table style='border: 1px solid #dddddd; font-family: Courier'>\n                <th style='border: 1px solid #dddddd'>LoanAmount</th><th style='border: 1px solid #dddddd'>InstallmentPercent</th><th style='border: 1px solid #dddddd'>ExistingSavings</th><th style='border: 1px solid #dddddd'>CheckingStatus</th><th style='border: 1px solid #dddddd'>LoanPurpose</th><th style='border: 1px solid #dddddd'>Job</th><th style='border: 1px solid #dddddd'>InstallmentPlans</th><th style='border: 1px solid #dddddd'>OthersOnLoan</th><th style='border: 1px solid #dddddd'>LoanDuration</th><th style='border: 1px solid #dddddd'>Age</th><th style='border: 1px solid #dddddd'>CreditHistory</th><th style='border: 1px solid #dddddd'>CurrentResidenceDuration</th><th style='border: 1px solid #dddddd'>ForeignWorker</th><th style='border: 1px solid #dddddd'>Housing</th><th style='border: 1px solid #dddddd'>ExistingCreditsCount</th><th style='border: 1px solid #dddddd'>Telephone</th><th style='border: 1px solid #dddddd'>Sex</th><th style='border: 1px solid #dddddd'>Dependents</th><th style='border: 1px solid #dddddd'>OwnsProperty</th><th style='border: 1px solid #dddddd'>EmploymentDuration</th><th style='border: 1px solid #dddddd'>Risk</th><th style='border: 1px solid #dddddd'>_training</th>\n                <tr><td style='border: 1px solid #dddddd'>5990</td><td style='border: 1px solid #dddddd'>5</td><td style='border: 1px solid #dddddd'>500_to_1000</td><td style='border: 1px solid #dddddd'>no_checking</td><td style='border: 1px solid #dddddd'>appliances</td><td style='border: 1px solid #dddddd'>skilled</td><td style='border: 1px solid #dddddd'>none</td><td style='border: 1px solid #dddddd'>co-applicant</td><td style='border: 1px solid #dddddd'>28</td><td style='border: 1px solid #dddddd'>55</td><td style='border: 1px solid #dddddd'>outstanding_credit</td><td style='border: 1px solid #dddddd'>3</td><td style='border: 1px solid #dddddd'>yes</td><td style='border: 1px solid #dddddd'>free</td><td style='border: 1px solid #dddddd'>2</td><td style='border: 1px solid #dddddd'>yes</td><td style='border: 1px solid #dddddd'>male</td><td style='border: 1px solid #dddddd'>2</td><td style='border: 1px solid #dddddd'>car_other</td><td style='border: 1px solid #dddddd'>greater_7</td><td style='border: 1px solid #dddddd'>Risk</td><td style='border: 1px solid #dddddd'>2019-07-03 13:22:05.145298+00:00</td></tr><tr><td style='border: 1px solid #dddddd'>3376</td><td style='border: 1px solid #dddddd'>3</td><td style='border: 1px solid #dddddd'>less_100</td><td style='border: 1px solid #dddddd'>greater_200</td><td style='border: 1px solid #dddddd'>car_used</td><td style='border: 1px solid #dddddd'>skilled</td><td style='border: 1px solid #dddddd'>none</td><td style='border: 1px solid #dddddd'>none</td><td style='border: 1px solid #dddddd'>22</td><td style='border: 1px solid #dddddd'>32</td><td style='border: 1px solid #dddddd'>all_credits_paid_back</td><td style='border: 1px solid #dddddd'>2</td><td style='border: 1px solid #dddddd'>yes</td><td style='border: 1px solid #dddddd'>own</td><td style='border: 1px solid #dddddd'>1</td><td style='border: 1px solid #dddddd'>none</td><td style='border: 1px solid #dddddd'>female</td><td style='border: 1px solid #dddddd'>1</td><td style='border: 1px solid #dddddd'>car_other</td><td style='border: 1px solid #dddddd'>less_1</td><td style='border: 1px solid #dddddd'>No Risk</td><td style='border: 1px solid #dddddd'>2019-07-03 13:22:05.145298+00:00</td></tr><tr><td style='border: 1px solid #dddddd'>6434</td><td style='border: 1px solid #dddddd'>5</td><td style='border: 1px solid #dddddd'>unknown</td><td style='border: 1px solid #dddddd'>no_checking</td><td style='border: 1px solid #dddddd'>vacation</td><td style='border: 1px solid #dddddd'>skilled</td><td style='border: 1px solid #dddddd'>none</td><td style='border: 1px solid #dddddd'>none</td><td style='border: 1px solid #dddddd'>39</td><td style='border: 1px solid #dddddd'>39</td><td style='border: 1px solid #dddddd'>credits_paid_to_date</td><td style='border: 1px solid #dddddd'>4</td><td style='border: 1px solid #dddddd'>yes</td><td style='border: 1px solid #dddddd'>own</td><td style='border: 1px solid #dddddd'>2</td><td style='border: 1px solid #dddddd'>yes</td><td style='border: 1px solid #dddddd'>male</td><td style='border: 1px solid #dddddd'>2</td><td style='border: 1px solid #dddddd'>car_other</td><td style='border: 1px solid #dddddd'>greater_7</td><td style='border: 1px solid #dddddd'>Risk</td><td style='border: 1px solid #dddddd'>2019-07-03 13:22:05.145298+00:00</td></tr><tr><td style='border: 1px solid #dddddd'>2442</td><td style='border: 1px solid #dddddd'>3</td><td style='border: 1px solid #dddddd'>less_100</td><td style='border: 1px solid #dddddd'>0_to_200</td><td style='border: 1px solid #dddddd'>furniture</td><td style='border: 1px solid #dddddd'>skilled</td><td style='border: 1px solid #dddddd'>none</td><td style='border: 1px solid #dddddd'>none</td><td style='border: 1px solid #dddddd'>20</td><td style='border: 1px solid #dddddd'>42</td><td style='border: 1px solid #dddddd'>credits_paid_to_date</td><td style='border: 1px solid #dddddd'>1</td><td style='border: 1px solid #dddddd'>yes</td><td style='border: 1px solid #dddddd'>own</td><td style='border: 1px solid #dddddd'>1</td><td style='border: 1px solid #dddddd'>none</td><td style='border: 1px solid #dddddd'>female</td><td style='border: 1px solid #dddddd'>1</td><td style='border: 1px solid #dddddd'>real_estate</td><td style='border: 1px solid #dddddd'>unemployed</td><td style='border: 1px solid #dddddd'>No Risk</td><td style='border: 1px solid #dddddd'>2019-07-03 13:22:05.145298+00:00</td></tr><tr><td style='border: 1px solid #dddddd'>4206</td><td style='border: 1px solid #dddddd'>1</td><td style='border: 1px solid #dddddd'>less_100</td><td style='border: 1px solid #dddddd'>greater_200</td><td style='border: 1px solid #dddddd'>education</td><td style='border: 1px solid #dddddd'>management_self-employed</td><td style='border: 1px solid #dddddd'>none</td><td style='border: 1px solid #dddddd'>none</td><td style='border: 1px solid #dddddd'>4</td><td style='border: 1px solid #dddddd'>27</td><td style='border: 1px solid #dddddd'>all_credits_paid_back</td><td style='border: 1px solid #dddddd'>3</td><td style='border: 1px solid #dddddd'>yes</td><td style='border: 1px solid #dddddd'>own</td><td style='border: 1px solid #dddddd'>1</td><td style='border: 1px solid #dddddd'>none</td><td style='border: 1px solid #dddddd'>female</td><td style='border: 1px solid #dddddd'>1</td><td style='border: 1px solid #dddddd'>savings_insurance</td><td style='border: 1px solid #dddddd'>unemployed</td><td style='border: 1px solid #dddddd'>No Risk</td><td style='border: 1px solid #dddddd'>2019-07-03 13:22:05.145298+00:00</td></tr><tr><td style='border: 1px solid #dddddd'>2963</td><td style='border: 1px solid #dddddd'>4</td><td style='border: 1px solid #dddddd'>greater_1000</td><td style='border: 1px solid #dddddd'>greater_200</td><td style='border: 1px solid #dddddd'>car_used</td><td style='border: 1px solid #dddddd'>skilled</td><td style='border: 1px solid #dddddd'>none</td><td style='border: 1px solid #dddddd'>none</td><td style='border: 1px solid #dddddd'>23</td><td style='border: 1px solid #dddddd'>46</td><td style='border: 1px solid #dddddd'>credits_paid_to_date</td><td style='border: 1px solid #dddddd'>4</td><td style='border: 1px solid #dddddd'>yes</td><td style='border: 1px solid #dddddd'>own</td><td style='border: 1px solid #dddddd'>2</td><td style='border: 1px solid #dddddd'>none</td><td style='border: 1px solid #dddddd'>male</td><td style='border: 1px solid #dddddd'>1</td><td style='border: 1px solid #dddddd'>car_other</td><td style='border: 1px solid #dddddd'>greater_7</td><td style='border: 1px solid #dddddd'>Risk</td><td style='border: 1px solid #dddddd'>2019-07-03 13:22:05.145298+00:00</td></tr><tr><td style='border: 1px solid #dddddd'>2673</td><td style='border: 1px solid #dddddd'>3</td><td style='border: 1px solid #dddddd'>500_to_1000</td><td style='border: 1px solid #dddddd'>no_checking</td><td style='border: 1px solid #dddddd'>vacation</td><td style='border: 1px solid #dddddd'>skilled</td><td style='border: 1px solid #dddddd'>stores</td><td style='border: 1px solid #dddddd'>none</td><td style='border: 1px solid #dddddd'>31</td><td style='border: 1px solid #dddddd'>35</td><td style='border: 1px solid #dddddd'>prior_payments_delayed</td><td style='border: 1px solid #dddddd'>2</td><td style='border: 1px solid #dddddd'>yes</td><td style='border: 1px solid #dddddd'>rent</td><td style='border: 1px solid #dddddd'>1</td><td style='border: 1px solid #dddddd'>none</td><td style='border: 1px solid #dddddd'>male</td><td style='border: 1px solid #dddddd'>2</td><td style='border: 1px solid #dddddd'>real_estate</td><td style='border: 1px solid #dddddd'>1_to_4</td><td style='border: 1px solid #dddddd'>Risk</td><td style='border: 1px solid #dddddd'>2019-07-03 13:22:05.145298+00:00</td></tr><tr><td style='border: 1px solid #dddddd'>6971</td><td style='border: 1px solid #dddddd'>3</td><td style='border: 1px solid #dddddd'>500_to_1000</td><td style='border: 1px solid #dddddd'>no_checking</td><td style='border: 1px solid #dddddd'>other</td><td style='border: 1px solid #dddddd'>skilled</td><td style='border: 1px solid #dddddd'>none</td><td style='border: 1px solid #dddddd'>none</td><td style='border: 1px solid #dddddd'>37</td><td style='border: 1px solid #dddddd'>54</td><td style='border: 1px solid #dddddd'>prior_payments_delayed</td><td style='border: 1px solid #dddddd'>3</td><td style='border: 1px solid #dddddd'>yes</td><td style='border: 1px solid #dddddd'>own</td><td style='border: 1px solid #dddddd'>2</td><td style='border: 1px solid #dddddd'>yes</td><td style='border: 1px solid #dddddd'>male</td><td style='border: 1px solid #dddddd'>1</td><td style='border: 1px solid #dddddd'>savings_insurance</td><td style='border: 1px solid #dddddd'>1_to_4</td><td style='border: 1px solid #dddddd'>Risk</td><td style='border: 1px solid #dddddd'>2019-07-03 13:22:05.145298+00:00</td></tr><tr><td style='border: 1px solid #dddddd'>5685</td><td style='border: 1px solid #dddddd'>4</td><td style='border: 1px solid #dddddd'>100_to_500</td><td style='border: 1px solid #dddddd'>0_to_200</td><td style='border: 1px solid #dddddd'>appliances</td><td style='border: 1px solid #dddddd'>skilled</td><td style='border: 1px solid #dddddd'>none</td><td style='border: 1px solid #dddddd'>none</td><td style='border: 1px solid #dddddd'>39</td><td style='border: 1px solid #dddddd'>37</td><td style='border: 1px solid #dddddd'>prior_payments_delayed</td><td style='border: 1px solid #dddddd'>2</td><td style='border: 1px solid #dddddd'>yes</td><td style='border: 1px solid #dddddd'>own</td><td style='border: 1px solid #dddddd'>2</td><td style='border: 1px solid #dddddd'>yes</td><td style='border: 1px solid #dddddd'>female</td><td style='border: 1px solid #dddddd'>1</td><td style='border: 1px solid #dddddd'>unknown</td><td style='border: 1px solid #dddddd'>1_to_4</td><td style='border: 1px solid #dddddd'>Risk</td><td style='border: 1px solid #dddddd'>2019-07-03 13:22:05.145298+00:00</td></tr><tr><td style='border: 1px solid #dddddd'>4990</td><td style='border: 1px solid #dddddd'>4</td><td style='border: 1px solid #dddddd'>500_to_1000</td><td style='border: 1px solid #dddddd'>no_checking</td><td style='border: 1px solid #dddddd'>appliances</td><td style='border: 1px solid #dddddd'>unemployed</td><td style='border: 1px solid #dddddd'>bank</td><td style='border: 1px solid #dddddd'>none</td><td style='border: 1px solid #dddddd'>38</td><td style='border: 1px solid #dddddd'>50</td><td style='border: 1px solid #dddddd'>prior_payments_delayed</td><td style='border: 1px solid #dddddd'>4</td><td style='border: 1px solid #dddddd'>yes</td><td style='border: 1px solid #dddddd'>own</td><td style='border: 1px solid #dddddd'>2</td><td style='border: 1px solid #dddddd'>yes</td><td style='border: 1px solid #dddddd'>male</td><td style='border: 1px solid #dddddd'>2</td><td style='border: 1px solid #dddddd'>car_other</td><td style='border: 1px solid #dddddd'>greater_7</td><td style='border: 1px solid #dddddd'>Risk</td><td style='border: 1px solid #dddddd'>2019-07-03 13:22:05.145298+00:00</td></tr>\n            </table>\n        </body>\n        </HTML>", 
                        "text/plain": "<IPython.core.display.HTML object>"
                    }, 
                    "metadata": {}
                }
            ], 
            "source": "subscription.feedback_logging.show_table()"
        }, 
        {
            "source": "### Run quality monitoring on demand", 
            "cell_type": "markdown", 
            "metadata": {}
        }, 
        {
            "source": "By default, quality monitoring is run on hourly schedule. You can also trigger it on demand using below code.", 
            "cell_type": "markdown", 
            "metadata": {}
        }, 
        {
            "execution_count": 43, 
            "cell_type": "code", 
            "metadata": {
                "scrolled": true
            }, 
            "outputs": [
                {
                    "output_type": "stream", 
                    "name": "stdout", 
                    "text": "\n\n================================================================================\n\n Waiting for end of quality monitoring run 99fba111-c00b-43ea-848a-3789d80907cd \n\n================================================================================\n\n\n\ninitializing\ncompleted\n\n---------------------------\n Successfully finished run \n---------------------------\n\n\n"
                }
            ], 
            "source": "run_details = subscription.quality_monitoring.run(background_mode=False)"
        }, 
        {
            "source": "### Show the quality metrics", 
            "cell_type": "markdown", 
            "metadata": {}
        }, 
        {
            "execution_count": 44, 
            "cell_type": "code", 
            "metadata": {
                "scrolled": true
            }, 
            "outputs": [
                {
                    "output_type": "display_data", 
                    "data": {
                        "text/html": "<HTML>\n        <body>\n            <h3>QualityMetrics (binding_id=5aa02882-db8b-486e-9fed-bf201de7ca1a, subscription_id=c34b745b-8d71-4c8d-8bb7-5cae01cab19b)</h3>\n            <table style='border: 1px solid #dddddd; font-family: Courier'>\n                <th style='border: 1px solid #dddddd'>ts</th><th style='border: 1px solid #dddddd'>id</th><th style='border: 1px solid #dddddd'>measurement_id</th><th style='border: 1px solid #dddddd'>value</th><th style='border: 1px solid #dddddd'>lower limit</th><th style='border: 1px solid #dddddd'>upper limit</th><th style='border: 1px solid #dddddd'>tags</th><th style='border: 1px solid #dddddd'>binding_id</th><th style='border: 1px solid #dddddd'>subscription_id</th><th style='border: 1px solid #dddddd'>deployment_id</th>\n                <tr><td style='border: 1px solid #dddddd'>2019-07-03 13:22:08.566000+00:00</td><td style='border: 1px solid #dddddd'>true_positive_rate</td><td style='border: 1px solid #dddddd'>bb2cf4d4-fc5e-4d14-bff3-151278da4ae2</td><td style='border: 1px solid #dddddd'>0.42857142857142855</td><td style='border: 1px solid #dddddd'></td><td style='border: 1px solid #dddddd'></td><td style='border: 1px solid #dddddd'>model_type: original</td><td style='border: 1px solid #dddddd'>5aa02882-db8b-486e-9fed-bf201de7ca1a</td><td style='border: 1px solid #dddddd'>c34b745b-8d71-4c8d-8bb7-5cae01cab19b</td><td style='border: 1px solid #dddddd'>4295edeaf78d9e41fe728b09ae3ca7a9</td></tr><tr><td style='border: 1px solid #dddddd'>2019-07-03 13:22:08.566000+00:00</td><td style='border: 1px solid #dddddd'>area_under_roc</td><td style='border: 1px solid #dddddd'>bb2cf4d4-fc5e-4d14-bff3-151278da4ae2</td><td style='border: 1px solid #dddddd'>0.7142857142857143</td><td style='border: 1px solid #dddddd'>0.7</td><td style='border: 1px solid #dddddd'></td><td style='border: 1px solid #dddddd'>model_type: original</td><td style='border: 1px solid #dddddd'>5aa02882-db8b-486e-9fed-bf201de7ca1a</td><td style='border: 1px solid #dddddd'>c34b745b-8d71-4c8d-8bb7-5cae01cab19b</td><td style='border: 1px solid #dddddd'>4295edeaf78d9e41fe728b09ae3ca7a9</td></tr><tr><td style='border: 1px solid #dddddd'>2019-07-03 13:22:08.566000+00:00</td><td style='border: 1px solid #dddddd'>precision</td><td style='border: 1px solid #dddddd'>bb2cf4d4-fc5e-4d14-bff3-151278da4ae2</td><td style='border: 1px solid #dddddd'>1.0</td><td style='border: 1px solid #dddddd'></td><td style='border: 1px solid #dddddd'></td><td style='border: 1px solid #dddddd'>model_type: original</td><td style='border: 1px solid #dddddd'>5aa02882-db8b-486e-9fed-bf201de7ca1a</td><td style='border: 1px solid #dddddd'>c34b745b-8d71-4c8d-8bb7-5cae01cab19b</td><td style='border: 1px solid #dddddd'>4295edeaf78d9e41fe728b09ae3ca7a9</td></tr><tr><td style='border: 1px solid #dddddd'>2019-07-03 13:22:08.566000+00:00</td><td style='border: 1px solid #dddddd'>f1_measure</td><td style='border: 1px solid #dddddd'>bb2cf4d4-fc5e-4d14-bff3-151278da4ae2</td><td style='border: 1px solid #dddddd'>0.6</td><td style='border: 1px solid #dddddd'></td><td style='border: 1px solid #dddddd'></td><td style='border: 1px solid #dddddd'>model_type: original</td><td style='border: 1px solid #dddddd'>5aa02882-db8b-486e-9fed-bf201de7ca1a</td><td style='border: 1px solid #dddddd'>c34b745b-8d71-4c8d-8bb7-5cae01cab19b</td><td style='border: 1px solid #dddddd'>4295edeaf78d9e41fe728b09ae3ca7a9</td></tr><tr><td style='border: 1px solid #dddddd'>2019-07-03 13:22:08.566000+00:00</td><td style='border: 1px solid #dddddd'>accuracy</td><td style='border: 1px solid #dddddd'>bb2cf4d4-fc5e-4d14-bff3-151278da4ae2</td><td style='border: 1px solid #dddddd'>0.6</td><td style='border: 1px solid #dddddd'></td><td style='border: 1px solid #dddddd'></td><td style='border: 1px solid #dddddd'>model_type: original</td><td style='border: 1px solid #dddddd'>5aa02882-db8b-486e-9fed-bf201de7ca1a</td><td style='border: 1px solid #dddddd'>c34b745b-8d71-4c8d-8bb7-5cae01cab19b</td><td style='border: 1px solid #dddddd'>4295edeaf78d9e41fe728b09ae3ca7a9</td></tr><tr><td style='border: 1px solid #dddddd'>2019-07-03 13:22:08.566000+00:00</td><td style='border: 1px solid #dddddd'>log_loss</td><td style='border: 1px solid #dddddd'>bb2cf4d4-fc5e-4d14-bff3-151278da4ae2</td><td style='border: 1px solid #dddddd'>0.6451208770769135</td><td style='border: 1px solid #dddddd'></td><td style='border: 1px solid #dddddd'></td><td style='border: 1px solid #dddddd'>model_type: original</td><td style='border: 1px solid #dddddd'>5aa02882-db8b-486e-9fed-bf201de7ca1a</td><td style='border: 1px solid #dddddd'>c34b745b-8d71-4c8d-8bb7-5cae01cab19b</td><td style='border: 1px solid #dddddd'>4295edeaf78d9e41fe728b09ae3ca7a9</td></tr><tr><td style='border: 1px solid #dddddd'>2019-07-03 13:22:08.566000+00:00</td><td style='border: 1px solid #dddddd'>false_positive_rate</td><td style='border: 1px solid #dddddd'>bb2cf4d4-fc5e-4d14-bff3-151278da4ae2</td><td style='border: 1px solid #dddddd'>0.0</td><td style='border: 1px solid #dddddd'></td><td style='border: 1px solid #dddddd'></td><td style='border: 1px solid #dddddd'>model_type: original</td><td style='border: 1px solid #dddddd'>5aa02882-db8b-486e-9fed-bf201de7ca1a</td><td style='border: 1px solid #dddddd'>c34b745b-8d71-4c8d-8bb7-5cae01cab19b</td><td style='border: 1px solid #dddddd'>4295edeaf78d9e41fe728b09ae3ca7a9</td></tr><tr><td style='border: 1px solid #dddddd'>2019-07-03 13:22:08.566000+00:00</td><td style='border: 1px solid #dddddd'>area_under_pr</td><td style='border: 1px solid #dddddd'>bb2cf4d4-fc5e-4d14-bff3-151278da4ae2</td><td style='border: 1px solid #dddddd'>0.9142857142857141</td><td style='border: 1px solid #dddddd'></td><td style='border: 1px solid #dddddd'></td><td style='border: 1px solid #dddddd'>model_type: original</td><td style='border: 1px solid #dddddd'>5aa02882-db8b-486e-9fed-bf201de7ca1a</td><td style='border: 1px solid #dddddd'>c34b745b-8d71-4c8d-8bb7-5cae01cab19b</td><td style='border: 1px solid #dddddd'>4295edeaf78d9e41fe728b09ae3ca7a9</td></tr><tr><td style='border: 1px solid #dddddd'>2019-07-03 13:22:08.566000+00:00</td><td style='border: 1px solid #dddddd'>recall</td><td style='border: 1px solid #dddddd'>bb2cf4d4-fc5e-4d14-bff3-151278da4ae2</td><td style='border: 1px solid #dddddd'>0.42857142857142855</td><td style='border: 1px solid #dddddd'></td><td style='border: 1px solid #dddddd'></td><td style='border: 1px solid #dddddd'>model_type: original</td><td style='border: 1px solid #dddddd'>5aa02882-db8b-486e-9fed-bf201de7ca1a</td><td style='border: 1px solid #dddddd'>c34b745b-8d71-4c8d-8bb7-5cae01cab19b</td><td style='border: 1px solid #dddddd'>4295edeaf78d9e41fe728b09ae3ca7a9</td></tr>\n            </table>\n        </body>\n        </HTML>", 
                        "text/plain": "<IPython.core.display.HTML object>"
                    }, 
                    "metadata": {}
                }
            ], 
            "source": "subscription.quality_monitoring.show_table()"
        }, 
        {
            "source": "Get all calculated metrics.", 
            "cell_type": "markdown", 
            "metadata": {}
        }, 
        {
            "execution_count": 45, 
            "cell_type": "code", 
            "metadata": {
                "scrolled": true
            }, 
            "outputs": [], 
            "source": "deployment_uids = subscription.get_deployment_uids()"
        }, 
        {
            "execution_count": 46, 
            "cell_type": "code", 
            "metadata": {
                "scrolled": true
            }, 
            "outputs": [], 
            "source": "metrics = subscription.quality_monitoring.get_metrics(deployment_uid=deployment_uids[0])"
        }, 
        {
            "source": "### Get metrics as pandas dataframe", 
            "cell_type": "markdown", 
            "metadata": {}
        }, 
        {
            "execution_count": 47, 
            "cell_type": "code", 
            "metadata": {
                "scrolled": true
            }, 
            "outputs": [
                {
                    "output_type": "display_data", 
                    "data": {
                        "image/png": "[encoded data removed]", 
                        "text/plain": "<Figure size 432x288 with 1 Axes>"
                    }, 
                    "metadata": {
                        "needs_background": "light"
                    }
                }
            ], 
            "source": "quality_metrics_pandas = subscription.quality_monitoring.get_table_content()\n\n%matplotlib inline\nquality_metrics_pandas.plot.barh(x='id', y='value');"
        }, 
        {
            "source": "## 6. Fairness monitoring and explanations", 
            "cell_type": "markdown", 
            "metadata": {}
        }, 
        {
            "source": "### Fairness monitor configuration", 
            "cell_type": "markdown", 
            "metadata": {}
        }, 
        {
            "execution_count": 48, 
            "cell_type": "code", 
            "metadata": {
                "scrolled": true
            }, 
            "outputs": [], 
            "source": "from ibm_ai_openscale.supporting_classes.feature import Feature\n\nsubscription.fairness_monitoring.enable(\n            training_data=training_data_pd,\n            features=[\n                Feature(\"Sex\", majority=['male'], minority=['female'], threshold=0.95),\n                Feature(\"Age\", majority=[[26, 75]], minority=[[18, 25]], threshold=0.95)\n            ],\n            favourable_classes=['No Risk'],\n            unfavourable_classes=['Risk'],\n            min_records=5\n        )"
        }, 
        {
            "source": "### Run fairness monitor on demand", 
            "cell_type": "markdown", 
            "metadata": {}
        }, 
        {
            "execution_count": 49, 
            "cell_type": "code", 
            "metadata": {
                "scrolled": true
            }, 
            "outputs": [
                {
                    "output_type": "stream", 
                    "name": "stdout", 
                    "text": "\n\n===================================================================\n\n Counting bias for deployment_uid=4295edeaf78d9e41fe728b09ae3ca7a9 \n\n===================================================================\n\n\n\nRUNNING\nFINISHED\n\n---------------------------\n Successfully finished run \n---------------------------\n\n\n"
                }
            ], 
            "source": "fairness_run = subscription.fairness_monitoring.run(background_mode=False)"
        }, 
        {
            "source": "### Show run results", 
            "cell_type": "markdown", 
            "metadata": {}
        }, 
        {
            "execution_count": 50, 
            "cell_type": "code", 
            "metadata": {
                "scrolled": true
            }, 
            "outputs": [
                {
                    "output_type": "display_data", 
                    "data": {
                        "text/html": "<HTML>\n        <body>\n            <h3>FairnessMetrics (binding_id=5aa02882-db8b-486e-9fed-bf201de7ca1a, subscription_id=c34b745b-8d71-4c8d-8bb7-5cae01cab19b)</h3>\n            <table style='border: 1px solid #dddddd; font-family: Courier'>\n                <th style='border: 1px solid #dddddd'>ts</th><th style='border: 1px solid #dddddd'>feature</th><th style='border: 1px solid #dddddd'>feature_value</th><th style='border: 1px solid #dddddd'>fairness_biased</th><th style='border: 1px solid #dddddd'>fairness_value</th><th style='border: 1px solid #dddddd'>fairness_fav_class</th><th style='border: 1px solid #dddddd'>binding_id</th><th style='border: 1px solid #dddddd'>subscription_id</th><th style='border: 1px solid #dddddd'>asset_revision</th><th style='border: 1px solid #dddddd'>deployment_id</th><th style='border: 1px solid #dddddd'>process</th>\n                <tr><td style='border: 1px solid #dddddd'>2019-07-03 13:22:22.273936+00:00</td><td style='border: 1px solid #dddddd'>Sex</td><td style='border: 1px solid #dddddd'>female</td><td style='border: 1px solid #dddddd'>False</td><td style='border: 1px solid #dddddd'>1.0</td><td style='border: 1px solid #dddddd'>100.0</td><td style='border: 1px solid #dddddd'>5aa02882-db8b-486e-9fed-bf201de7ca1a</td><td style='border: 1px solid #dddddd'>c34b745b-8d71-4c8d-8bb7-5cae01cab19b</td><td style='border: 1px solid #dddddd'>c34b745b-8d71-4c8d-8bb7-5cae01cab19b</td><td style='border: 1px solid #dddddd'>4295edeaf78d9e41fe728b09ae3ca7a9</td><td style='border: 1px solid #dddddd'></td></tr><tr><td style='border: 1px solid #dddddd'>2019-07-03 13:22:22.273936+00:00</td><td style='border: 1px solid #dddddd'>Age</td><td style='border: 1px solid #dddddd'>[18, 25]</td><td style='border: 1px solid #dddddd'>False</td><td style='border: 1px solid #dddddd'>1.0</td><td style='border: 1px solid #dddddd'>100.0</td><td style='border: 1px solid #dddddd'>5aa02882-db8b-486e-9fed-bf201de7ca1a</td><td style='border: 1px solid #dddddd'>c34b745b-8d71-4c8d-8bb7-5cae01cab19b</td><td style='border: 1px solid #dddddd'>c34b745b-8d71-4c8d-8bb7-5cae01cab19b</td><td style='border: 1px solid #dddddd'>4295edeaf78d9e41fe728b09ae3ca7a9</td><td style='border: 1px solid #dddddd'></td></tr>\n            </table>\n        </body>\n        </HTML>", 
                        "text/plain": "<IPython.core.display.HTML object>"
                    }, 
                    "metadata": {}
                }
            ], 
            "source": "subscription.fairness_monitoring.show_table()"
        }, 
        {
            "source": "### Explainability configuration", 
            "cell_type": "markdown", 
            "metadata": {}
        }, 
        {
            "execution_count": 51, 
            "cell_type": "code", 
            "metadata": {
                "scrolled": true
            }, 
            "outputs": [], 
            "source": "subscription.explainability.enable(training_data=training_data_pd)"
        }, 
        {
            "source": "### Run explanation", 
            "cell_type": "markdown", 
            "metadata": {}
        }, 
        {
            "source": "Get sample transaction/scoring id. You can also use `subscription.payload_logging.show_table()` to see list of your transactions (`scoring_id` column).", 
            "cell_type": "markdown", 
            "metadata": {}
        }, 
        {
            "execution_count": 52, 
            "cell_type": "code", 
            "metadata": {
                "scrolled": true
            }, 
            "outputs": [
                {
                    "output_type": "stream", 
                    "name": "stdout", 
                    "text": "Sample transaction/scoring id:  23d7db78-a236-4a98-8528-8d4dc801eb0a-1\n"
                }
            ], 
            "source": "transaction_id = subscription.payload_logging.get_table_content(limit=1)['scoring_id'][0]\nprint('Sample transaction/scoring id: ', transaction_id)"
        }, 
        {
            "execution_count": 53, 
            "cell_type": "code", 
            "metadata": {
                "scrolled": true
            }, 
            "outputs": [
                {
                    "output_type": "stream", 
                    "name": "stdout", 
                    "text": "\n\n====================================================================\n\n Looking for explanation for 23d7db78-a236-4a98-8528-8d4dc801eb0a-1 \n\n====================================================================\n\n\n\nin_progress...\nfinished\n\n---------------------------\n Successfully finished run \n---------------------------\n\n\n"
                }
            ], 
            "source": "explain_run = subscription.explainability.run(transaction_id=transaction_id, background_mode=False)"
        }, 
        {
            "execution_count": 54, 
            "cell_type": "code", 
            "metadata": {
                "scrolled": true
            }, 
            "outputs": [
                {
                    "output_type": "display_data", 
                    "data": {
                        "image/png": "[encoded data removed]", 
                        "text/plain": "<Figure size 432x288 with 1 Axes>"
                    }, 
                    "metadata": {
                        "needs_background": "light"
                    }
                }
            ], 
            "source": "explanation_result = pd.DataFrame.from_dict(explain_run['entity']['predictions'][0]['explanation_features'])\nexplanation_result.plot.barh(x='feature_name', y='weight', color='g', alpha=0.8);"
        }, 
        {
            "source": "## 7. Payload analytics", 
            "cell_type": "markdown", 
            "metadata": {}
        }, 
        {
            "source": "### Run data distributions calculation", 
            "cell_type": "markdown", 
            "metadata": {}
        }, 
        {
            "execution_count": 55, 
            "cell_type": "code", 
            "metadata": {
                "scrolled": true
            }, 
            "outputs": [
                {
                    "output_type": "stream", 
                    "name": "stdout", 
                    "text": "\n\n===============================================================================\n\n Waiting for end of data distribution run 327f0161-d5c9-474d-b094-bc13e8bc7b50 \n\n===============================================================================\n\n\n\nrunning\ncompleted\n\n---------------------------\n Successfully finished run \n---------------------------\n\n\n"
                }
            ], 
            "source": "from datetime import datetime\n\nstart_date = \"2018-01-01T00:00:00.00Z\"\nend_date = datetime.utcnow().isoformat() + \"Z\"\n\nsex_distribution = subscription.payload_logging.data_distribution.run(\n            start_date=start_date,\n            end_date=end_date,\n            group=['Scored Labels', 'Sex'],\n            agg=['count'])"
        }, 
        {
            "source": "### Get data distributions as pandas dataframe", 
            "cell_type": "markdown", 
            "metadata": {}
        }, 
        {
            "execution_count": 56, 
            "cell_type": "code", 
            "metadata": {
                "scrolled": true
            }, 
            "outputs": [], 
            "source": "sex_distribution_run_uid = sex_distribution['id']"
        }, 
        {
            "execution_count": 57, 
            "cell_type": "code", 
            "metadata": {
                "scrolled": true
            }, 
            "outputs": [
                {
                    "execution_count": 57, 
                    "metadata": {}, 
                    "data": {
                        "text/html": "<div>\n<style scoped>\n    .dataframe tbody tr th:only-of-type {\n        vertical-align: middle;\n    }\n\n    .dataframe tbody tr th {\n        vertical-align: top;\n    }\n\n    .dataframe thead th {\n        text-align: right;\n    }\n</style>\n<table border=\"1\" class=\"dataframe\">\n  <thead>\n    <tr style=\"text-align: right;\">\n      <th></th>\n      <th>Scored Labels</th>\n      <th>Sex</th>\n      <th>count</th>\n    </tr>\n  </thead>\n  <tbody>\n    <tr>\n      <th>0</th>\n      <td>No Risk</td>\n      <td>female</td>\n      <td>9</td>\n    </tr>\n    <tr>\n      <th>1</th>\n      <td>No Risk</td>\n      <td>male</td>\n      <td>9</td>\n    </tr>\n  </tbody>\n</table>\n</div>", 
                        "text/plain": "  Scored Labels     Sex  count\n0       No Risk  female      9\n1       No Risk    male      9"
                    }, 
                    "output_type": "execute_result"
                }
            ], 
            "source": "distributions_pd = subscription.payload_logging.data_distribution.get_run_result(run_id=sex_distribution_run_uid, format='pandas')\ndistributions_pd"
        }, 
        {
            "source": "### Visualize", 
            "cell_type": "markdown", 
            "metadata": {}
        }, 
        {
            "execution_count": 58, 
            "cell_type": "code", 
            "metadata": {
                "scrolled": true
            }, 
            "outputs": [
                {
                    "output_type": "display_data", 
                    "data": {
                        "image/png": "[encoded data removed]", 
                        "text/plain": "<Figure size 432x288 with 1 Axes>"
                    }, 
                    "metadata": {
                        "needs_background": "light"
                    }
                }
            ], 
            "source": "subscription.payload_logging.data_distribution.show_chart(sex_distribution_run_uid);"
        }, 
        {
            "source": "---", 
            "cell_type": "markdown", 
            "metadata": {}
        }, 
        {
            "source": "## Congratulations!", 
            "cell_type": "markdown", 
            "metadata": {}
        }, 
        {
            "source": "You have finished the tutorial for IBM Watson OpenScale and Azure Machine Learning Studio. You can now view the [OpenScale Dashboard](https://aiopenscale.cloud.ibm.com/). Click on the tile for the German Credit model to see fairness, accuracy, and performance monitors. Click on the timeseries graph to get detailed information on transactions during a specific time window.\n\n", 
            "cell_type": "markdown", 
            "metadata": {}
        }, 
        {
            "source": "---", 
            "cell_type": "markdown", 
            "metadata": {}
        }, 
        {
            "source": "### Authors\nLukasz Cmielowski, PhD, is an Automation Architect and Data Scientist at IBM with a track record of developing enterprise-level applications that substantially increases clients' ability to turn data into actionable knowledge.", 
            "cell_type": "markdown", 
            "metadata": {}
        }
    ], 
    "metadata": {
        "kernelspec": {
            "display_name": "Python 3.6", 
            "name": "python3", 
            "language": "python"
        }, 
        "language_info": {
            "mimetype": "text/x-python", 
            "nbconvert_exporter": "python", 
            "version": "3.6.8", 
            "name": "python", 
            "file_extension": ".py", 
            "pygments_lexer": "ipython3", 
            "codemirror_mode": {
                "version": 3, 
                "name": "ipython"
            }
        }
    }, 
    "nbformat": 4
}