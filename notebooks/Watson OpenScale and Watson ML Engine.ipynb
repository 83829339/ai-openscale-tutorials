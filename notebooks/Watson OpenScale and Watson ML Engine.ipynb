{
    "cells": [
        {
            "cell_type": "markdown",
            "metadata": {},
            "source": "<img src=\"https://github.com/pmservice/ai-openscale-tutorials/raw/master/notebooks/images/banner.png\" align=\"left\" alt=\"banner\">"
        },
        {
            "cell_type": "markdown",
            "metadata": {},
            "source": "# Working with Watson Machine Learning"
        },
        {
            "cell_type": "markdown",
            "metadata": {},
            "source": "This notebook should be run in a Watson Studio project, using **Default Spark Python** runtime environment. **If you are viewing this in Watson Studio and do not see Python 3.6 with Spark in the upper right corner of your screen, please update the runtime now.** It requires service credentials for the following Cloud services:\n  * Watson OpenScale\n  * Watson Machine Learning\n  \nIf you have a paid Cloud account, you may also provision a **Databases for PostgreSQL** or **Db2 Warehouse** service to take full advantage of integration with Watson Studio and continuous learning services. If you choose not to provision this paid service, you can use the free internal PostgreSQL storage with OpenScale, but will not be able to configure continuous learning for your model.\n\nThe notebook will train, create and deploy a German Credit Risk model, configure OpenScale to monitor that deployment, and inject seven days' worth of historical records and measurements for viewing in the OpenScale Insights dashboard."
        },
        {
            "cell_type": "markdown",
            "metadata": {},
            "source": "### Contents\n\n- [Setup](#setup)\n- [Model building and deployment](#model)\n- [OpenScale configuration](#openscale)\n- [Quality monitor and feedback logging](#quality)\n- [Fairness, drift monitoring and explanations](#fairness)\n- [Custom monitors and metrics](#custom)\n- [Payload analytics](#analytics)\n- [Business application](#application)\n- [Historical data](#historical)\n- [Run Business Application and Correlation monitor](#correlation)"
        },
        {
            "cell_type": "markdown",
            "metadata": {},
            "source": "# Setup <a name=\"setup\"></a>"
        },
        {
            "cell_type": "markdown",
            "metadata": {},
            "source": "## Spark check"
        },
        {
            "cell_type": "code",
            "execution_count": 1,
            "metadata": {},
            "outputs": [
                {
                    "name": "stdout",
                    "output_type": "stream",
                    "text": "Waiting for a Spark session to start...\nSpark Initialization Done! ApplicationId = app-20200107113737-0000\nKERNEL_ID = 9158121f-a8f2-4ddb-b554-6c03b5169710\n"
                }
            ],
            "source": "try:\n    from pyspark.sql import SparkSession\nexcept:\n    print('Error: Spark runtime is missing. If you are using Watson Studio change the notebook runtime to Spark.')\n    raise "
        },
        {
            "cell_type": "markdown",
            "metadata": {
                "collapsed": true
            },
            "source": "## Package installation"
        },
        {
            "cell_type": "code",
            "execution_count": 2,
            "metadata": {},
            "outputs": [],
            "source": "import warnings\nwarnings.filterwarnings('ignore')"
        },
        {
            "cell_type": "code",
            "execution_count": 3,
            "metadata": {
                "scrolled": false
            },
            "outputs": [
                {
                    "name": "stdout",
                    "output_type": "stream",
                    "text": "\u001b[31mtensorflow 1.13.1 requires tensorboard<1.14.0,>=1.13.0, which is not installed.\u001b[0m\n\u001b[31mibm-cos-sdk-core 2.4.3 has requirement urllib3<1.25,>=1.20, but you'll have urllib3 1.25.7 which is incompatible.\u001b[0m\n\u001b[31mbotocore 1.12.82 has requirement urllib3<1.25,>=1.20, but you'll have urllib3 1.25.7 which is incompatible.\u001b[0m\nSuccessfully installed certifi-2019.11.28 chardet-3.0.4 h5py-2.10.0 ibm-ai-openscale-2.1.19 idna-2.8 numpy-1.18.1 pandas-0.25.3 python-dateutil-2.8.1 pytz-2019.3 requests-2.22.0 six-1.13.0 tabulate-0.8.6 urllib3-1.25.7\n\u001b[31mtensorflow 1.13.1 requires tensorboard<1.14.0,>=1.13.0, which is not installed.\u001b[0m\n\u001b[31mbotocore 1.12.82 has requirement urllib3<1.25,>=1.20, but you'll have urllib3 1.25.7 which is incompatible.\u001b[0m\nSuccessfully installed certifi-2019.11.28 chardet-3.0.4 docutils-0.15.2 ibm-cos-sdk-2.6.0 ibm-cos-sdk-core-2.6.0 ibm-cos-sdk-s3transfer-2.6.0 idna-2.8 jmespath-0.9.4 lomond-0.3.3 numpy-1.18.1 pandas-0.25.3 python-dateutil-2.8.1 pytz-2019.3 requests-2.22.0 six-1.13.0 tabulate-0.8.6 tqdm-4.41.1 urllib3-1.25.7 watson-machine-learning-client-1.0.378\n\u001b[31mtensorflow 1.13.1 requires tensorboard<1.14.0,>=1.13.0, which is not installed.\u001b[0m\nSuccessfully installed numpy-1.18.1\n\u001b[31mtensorflow 1.13.1 requires tensorboard<1.14.0,>=1.13.0, which is not installed.\u001b[0m\nSuccessfully installed SciPy-1.4.1 numpy-1.18.1\n\u001b[31mtensorflow 1.13.1 requires tensorboard<1.14.0,>=1.13.0, which is not installed.\u001b[0m\n\u001b[31mbotocore 1.12.82 has requirement urllib3<1.25,>=1.20, but you'll have urllib3 1.25.7 which is incompatible.\u001b[0m\n\u001b[33mTarget directory /home/spark/shared/user-libs/python3.6/python_dateutil-2.8.1.dist-info already exists. Specify --upgrade to force replacement.\u001b[0m\n\u001b[33mTarget directory /home/spark/shared/user-libs/python3.6/six-1.13.0.dist-info already exists. Specify --upgrade to force replacement.\u001b[0m\n\u001b[33mTarget directory /home/spark/shared/user-libs/python3.6/scipy-1.4.1.dist-info already exists. Specify --upgrade to force replacement.\u001b[0m\n\u001b[33mTarget directory /home/spark/shared/user-libs/python3.6/__pycache__ already exists. Specify --upgrade to force replacement.\u001b[0m\n\u001b[33mTarget directory /home/spark/shared/user-libs/python3.6/six.py already exists. Specify --upgrade to force replacement.\u001b[0m\n\u001b[33mTarget directory /home/spark/shared/user-libs/python3.6/scipy already exists. Specify --upgrade to force replacement.\u001b[0m\n\u001b[33mTarget directory /home/spark/shared/user-libs/python3.6/numpy-1.18.1.dist-info already exists. Specify --upgrade to force replacement.\u001b[0m\n\u001b[33mTarget directory /home/spark/shared/user-libs/python3.6/numpy already exists. Specify --upgrade to force replacement.\u001b[0m\n\u001b[33mTarget directory /home/spark/shared/user-libs/python3.6/dateutil already exists. Specify --upgrade to force replacement.\u001b[0m\n\u001b[33mTarget directory /home/spark/shared/user-libs/python3.6/bin already exists. Specify --upgrade to force replacement.\u001b[0m\nSuccessfully installed PyWavelets-1.1.1 cycler-0.10.0 decorator-4.4.1 imageio-2.6.1 joblib-0.14.1 kiwisolver-1.1.0 lime-0.1.1.37 matplotlib-3.1.2 networkx-2.4 numpy-1.18.1 pillow-7.0.0 progressbar-2.5 pyparsing-2.4.6 python-dateutil-2.8.1 scikit-image-0.16.2 scikit-learn-0.22.1 scipy-1.4.1 setuptools-44.0.0 six-1.13.0\n\u001b[31mtensorflow 1.13.1 requires tensorboard<1.14.0,>=1.13.0, which is not installed.\u001b[0m\n\u001b[31mbotocore 1.12.82 has requirement urllib3<1.25,>=1.20, but you'll have urllib3 1.25.7 which is incompatible.\u001b[0m\n\u001b[33mTarget directory /home/spark/shared/user-libs/python3.6/requests already exists. Specify --upgrade to force replacement.\u001b[0m\n\u001b[33mTarget directory /home/spark/shared/user-libs/python3.6/pkg_resources already exists. Specify --upgrade to force replacement.\u001b[0m\n\u001b[33mTarget directory /home/spark/shared/user-libs/python3.6/idna-2.8.dist-info already exists. Specify --upgrade to force replacement.\u001b[0m\n\u001b[33mTarget directory /home/spark/shared/user-libs/python3.6/urllib3 already exists. Specify --upgrade to force replacement.\u001b[0m\n\u001b[33mTarget directory /home/spark/shared/user-libs/python3.6/six-1.13.0.dist-info already exists. Specify --upgrade to force replacement.\u001b[0m\n\u001b[33mTarget directory /home/spark/shared/user-libs/python3.6/__pycache__ already exists. Specify --upgrade to force replacement.\u001b[0m\n\u001b[33mTarget directory /home/spark/shared/user-libs/python3.6/chardet-3.0.4.dist-info already exists. Specify --upgrade to force replacement.\u001b[0m\n\u001b[33mTarget directory /home/spark/shared/user-libs/python3.6/six.py already exists. Specify --upgrade to force replacement.\u001b[0m\n\u001b[33mTarget directory /home/spark/shared/user-libs/python3.6/setuptools-44.0.0.dist-info already exists. Specify --upgrade to force replacement.\u001b[0m\n\u001b[33mTarget directory /home/spark/shared/user-libs/python3.6/certifi-2019.11.28.dist-info already exists. Specify --upgrade to force replacement.\u001b[0m\n\u001b[33mTarget directory /home/spark/shared/user-libs/python3.6/setuptools already exists. Specify --upgrade to force replacement.\u001b[0m\n\u001b[33mTarget directory /home/spark/shared/user-libs/python3.6/idna already exists. Specify --upgrade to force replacement.\u001b[0m\n\u001b[33mTarget directory /home/spark/shared/user-libs/python3.6/certifi already exists. Specify --upgrade to force replacement.\u001b[0m\n\u001b[33mTarget directory /home/spark/shared/user-libs/python3.6/requests-2.22.0.dist-info already exists. Specify --upgrade to force replacement.\u001b[0m\n\u001b[33mTarget directory /home/spark/shared/user-libs/python3.6/chardet already exists. Specify --upgrade to force replacement.\u001b[0m\n\u001b[33mTarget directory /home/spark/shared/user-libs/python3.6/easy_install.py already exists. Specify --upgrade to force replacement.\u001b[0m\n\u001b[33mTarget directory /home/spark/shared/user-libs/python3.6/urllib3-1.25.7.dist-info already exists. Specify --upgrade to force replacement.\u001b[0m\n\u001b[33mTarget directory /home/spark/shared/user-libs/python3.6/bin already exists. Specify --upgrade to force replacement.\u001b[0m\nSuccessfully installed astunparse-1.6.3 certifi-2019.11.28 chardet-3.0.4 colour-0.1.5 geojson-2.5.0 idna-2.8 lxml-4.4.2 markdown-3.1.1 mpld3-0.3 pixiedust-1.1.18 requests-2.22.0 setuptools-44.0.0 six-1.13.0 urllib3-1.25.7 wheel-0.33.6\n"
                }
            ],
            "source": "!rm -rf /home/spark/shared/user-libs/python3.6*\n\n!pip install --upgrade ibm-ai-openscale --no-cache | tail -n 1\n!pip install --upgrade watson-machine-learning-client | tail -n 1\n!pip install --upgrade numpy --no-cache | tail -n 1\n!pip install --upgrade SciPy --no-cache | tail -n 1\n!pip install lime --no-cache | tail -n 1\n!pip install pixiedust | tail -n 1"
        },
        {
            "cell_type": "code",
            "execution_count": 4,
            "metadata": {},
            "outputs": [
                {
                    "name": "stdout",
                    "output_type": "stream",
                    "text": "Name: ibm-ai-openscale\r\nVersion: 2.1.19\r\nSummary: Python SDK for IBM Watson OpenScale\r\nHome-page: http://ai-openscale-python-client.mybluemix.net\r\nAuthor: IBM\r\nAuthor-email: lukasz.cmielowski@pl.ibm.com, maria.oleszkiewicz@pl.ibm.com, wojciech.sobala@pl.ibm.com\r\nLicense: BSD\r\nLocation: /home/spark/shared/user-libs/python3.6\r\nRequires: pandas, tabulate, requests, h5py\r\nRequired-by: \r\n"
                }
            ],
            "source": "!pip show ibm-ai-openscale"
        },
        {
            "cell_type": "markdown",
            "metadata": {},
            "source": "## Provision services and configure credentials"
        },
        {
            "cell_type": "markdown",
            "metadata": {},
            "source": "If you have not already, provision an instance of IBM Watson OpenScale using the [OpenScale link in the Cloud catalog](https://cloud.ibm.com/catalog/services/watson-openscale)."
        },
        {
            "cell_type": "markdown",
            "metadata": {},
            "source": "Your Cloud API key can be generated by going to the [**Users** section of the Cloud console](https://cloud.ibm.com/iam#/users). From that page, click your name, scroll down to the **API Keys** section, and click **Create an IBM Cloud API key**. Give your key a name and click **Create**, then copy the created key and paste it below."
        },
        {
            "cell_type": "markdown",
            "metadata": {},
            "source": "**NOTE:** You can also get OpenScale `API_KEY` using IBM CLOUD CLI.\n\nHow to install IBM Cloud (bluemix) console: [instruction](https://console.bluemix.net/docs/cli/reference/ibmcloud/download_cli.html#install_use)\n\nHow to get api key using console:\n```\nbx login --sso\nbx iam api-key-create 'my_key'\n```"
        },
        {
            "cell_type": "code",
            "execution_count": 5,
            "metadata": {
                "scrolled": true
            },
            "outputs": [],
            "source": "CLOUD_API_KEY = \"PASTE HERE\""
        },
        {
            "cell_type": "code",
            "execution_count": 8,
            "metadata": {},
            "outputs": [],
            "source": "# The code was removed by Watson Studio for sharing."
        },
        {
            "cell_type": "markdown",
            "metadata": {},
            "source": "Next you will need credentials for Watson Machine Learning. If you already have a WML instance, you may use credentials for it. To provision a new Lite instance of WML, use the [Cloud catalog](https://cloud.ibm.com/catalog/services/machine-learning), give your service a name, and click **Create**. Once your instance is created, click the **Service Credentials** link on the left side of the screen. Click the **New credential** button, give your credentials a name, and click **Add**. Your new credentials can be accessed by clicking the **View credentials** button. Copy and paste your WML credentials into the cell below."
        },
        {
            "cell_type": "code",
            "execution_count": 9,
            "metadata": {
                "scrolled": true
            },
            "outputs": [],
            "source": "WML_CREDENTIALS = {\n    \"apikey\": \"key\",\n    \"iam_apikey_description\": \"description\",\n    \"iam_apikey_name\": \"auto-generated-apikey\",\n    \"iam_role_crn\": \"crn:v1:bluemix:public:iam::::serviceRole:Writer\",\n    \"iam_serviceid_crn\": \"crn:v1:bluemix:public:iam-identity::\",\n    \"instance_id\": \"instance_id\",\n    \"url\": \"https://us-south.ml.cloud.ibm.com\",\n}"
        },
        {
            "cell_type": "code",
            "execution_count": 10,
            "metadata": {},
            "outputs": [],
            "source": "# The code was removed by Watson Studio for sharing."
        },
        {
            "cell_type": "markdown",
            "metadata": {},
            "source": "This tutorial can use Databases for PostgreSQL, Db2 Warehouse, or a free internal verison of PostgreSQL to create a datamart for OpenScale.\n\nIf you have previously configured OpenScale, it will use your existing datamart, and not interfere with any models you are currently monitoring. Do not update the cell below.\n\nIf you do not have a paid Cloud account or would prefer not to provision this paid service, you may use the free internal PostgreSQL service with OpenScale. Do not update the cell below.\n\nTo provision a new instance of Db2 Warehouse, locate [Db2 Warehouse in the Cloud catalog](https://cloud.ibm.com/catalog/services/db2-warehouse), give your service a name, and click **Create**. Once your instance is created, click the **Service Credentials** link on the left side of the screen. Click the **New credential** button, give your credentials a name, and click **Add**. Your new credentials can be accessed by clicking the **View credentials** button. Copy and paste your Db2 Warehouse credentials into the cell below.\n\nTo provision a new instance of Databases for PostgreSQL, locate [Databases for PostgreSQL in the Cloud catalog](https://cloud.ibm.com/catalog/services/databases-for-postgresql), give your service a name, and click **Create**. Once your instance is created, click the **Service Credentials** link on the left side of the screen. Click the **New credential** button, give your credentials a name, and click **Add**. Your new credentials can be accessed by clicking the **View credentials** button. Copy and paste your Databases for PostgreSQL credentials into the cell below."
        },
        {
            "cell_type": "code",
            "execution_count": 11,
            "metadata": {
                "scrolled": true
            },
            "outputs": [],
            "source": "DB_CREDENTIALS = None"
        },
        {
            "cell_type": "markdown",
            "metadata": {},
            "source": "__If you previously configured OpenScale to use the free internal version of PostgreSQL, you can switch to a new datamart using a paid database service.__ If you would like to delete the internal PostgreSQL configuration and create a new one using service credentials supplied in the cell above, set the __KEEP_MY_INTERNAL_POSTGRES__ variable below to __False__ below. In this case, the notebook will remove your existing internal PostgreSQL datamart and create a new one with the supplied credentials. __*NO DATA MIGRATION WILL OCCUR.*__"
        },
        {
            "cell_type": "code",
            "execution_count": 12,
            "metadata": {},
            "outputs": [],
            "source": "KEEP_MY_INTERNAL_POSTGRES = True"
        },
        {
            "cell_type": "markdown",
            "metadata": {},
            "source": "## Run the notebook\n\nAt this point, the notebook is ready to run. You can either run the cells one at a time, or click the **Kernel** option above and select **Restart and Run All** to run all the cells."
        },
        {
            "cell_type": "markdown",
            "metadata": {},
            "source": "# Model building and deployment <a name=\"model\"></a>"
        },
        {
            "cell_type": "markdown",
            "metadata": {},
            "source": "In this section you will learn how to train Spark MLLib model and next deploy it as web-service using Watson Machine Learning service."
        },
        {
            "cell_type": "markdown",
            "metadata": {},
            "source": "## Load the training data from github"
        },
        {
            "cell_type": "code",
            "execution_count": 13,
            "metadata": {
                "scrolled": true
            },
            "outputs": [
                {
                    "name": "stdout",
                    "output_type": "stream",
                    "text": "-rw-r--r-- 1 spark 4294967294 674K Jan  7 11:40 german_credit_data_biased_training.csv\r\n"
                }
            ],
            "source": "from IPython.utils import io\n\nwith io.capture_output() as captured:\n    !wget https://raw.githubusercontent.com/pmservice/ai-openscale-tutorials/master/assets/historical_data/german_credit_risk/wml/german_credit_data_biased_training.csv -O german_credit_data_biased_training.csv\n!ls -lh german_credit_data_biased_training.csv"
        },
        {
            "cell_type": "code",
            "execution_count": 14,
            "metadata": {
                "scrolled": true
            },
            "outputs": [
                {
                    "data": {
                        "text/plain": "Row(CheckingStatus='0_to_200', LoanDuration=31, CreditHistory='credits_paid_to_date', LoanPurpose='other', LoanAmount=1889, ExistingSavings='100_to_500', EmploymentDuration='less_1', InstallmentPercent=3, Sex='female', OthersOnLoan='none', CurrentResidenceDuration=3, OwnsProperty='savings_insurance', Age=32, InstallmentPlans='none', Housing='own', ExistingCreditsCount=1, Job='skilled', Dependents=1, Telephone='none', ForeignWorker='yes', Risk='No Risk')"
                    },
                    "execution_count": 14,
                    "metadata": {},
                    "output_type": "execute_result"
                }
            ],
            "source": "from pyspark.sql import SparkSession\nimport pandas as pd\nimport json\nimport datetime\n\nspark = SparkSession.builder.getOrCreate()\npd_data = pd.read_csv(\"german_credit_data_biased_training.csv\", sep=\",\", header=0)\ndf_data = spark.read.csv(path=\"german_credit_data_biased_training.csv\", sep=\",\", header=True, inferSchema=True)\ndf_data.head()"
        },
        {
            "cell_type": "markdown",
            "metadata": {},
            "source": "## Explore data"
        },
        {
            "cell_type": "code",
            "execution_count": 15,
            "metadata": {
                "scrolled": true
            },
            "outputs": [
                {
                    "name": "stdout",
                    "output_type": "stream",
                    "text": "root\n |-- CheckingStatus: string (nullable = true)\n |-- LoanDuration: integer (nullable = true)\n |-- CreditHistory: string (nullable = true)\n |-- LoanPurpose: string (nullable = true)\n |-- LoanAmount: integer (nullable = true)\n |-- ExistingSavings: string (nullable = true)\n |-- EmploymentDuration: string (nullable = true)\n |-- InstallmentPercent: integer (nullable = true)\n |-- Sex: string (nullable = true)\n |-- OthersOnLoan: string (nullable = true)\n |-- CurrentResidenceDuration: integer (nullable = true)\n |-- OwnsProperty: string (nullable = true)\n |-- Age: integer (nullable = true)\n |-- InstallmentPlans: string (nullable = true)\n |-- Housing: string (nullable = true)\n |-- ExistingCreditsCount: integer (nullable = true)\n |-- Job: string (nullable = true)\n |-- Dependents: integer (nullable = true)\n |-- Telephone: string (nullable = true)\n |-- ForeignWorker: string (nullable = true)\n |-- Risk: string (nullable = true)\n\n"
                }
            ],
            "source": "df_data.printSchema()"
        },
        {
            "cell_type": "code",
            "execution_count": 16,
            "metadata": {
                "scrolled": true
            },
            "outputs": [
                {
                    "name": "stdout",
                    "output_type": "stream",
                    "text": "Number of records: 5000\n"
                }
            ],
            "source": "print(\"Number of records: \" + str(df_data.count()))"
        },
        {
            "cell_type": "markdown",
            "metadata": {},
            "source": "## Visualize data with pixiedust"
        },
        {
            "cell_type": "code",
            "execution_count": 17,
            "metadata": {},
            "outputs": [
                {
                    "name": "stdout",
                    "output_type": "stream",
                    "text": "Pixiedust database opened successfully\nTable VERSION_TRACKER created successfully\nTable METRICS_TRACKER created successfully\n\nShare anonymous install statistics? (opt-out instructions)\n\nPixieDust will record metadata on its environment the next time the package is installed or updated. The data is anonymized and aggregated to help plan for future releases, and records only the following values:\n\n{\n   \"data_sent\": currentDate,\n   \"runtime\": \"python\",\n   \"application_version\": currentPixiedustVersion,\n   \"space_id\": nonIdentifyingUniqueId,\n   \"config\": {\n       \"repository_id\": \"https://github.com/ibm-watson-data-lab/pixiedust\",\n       \"target_runtimes\": [\"Data Science Experience\"],\n       \"event_id\": \"web\",\n       \"event_organizer\": \"dev-journeys\"\n   }\n}\nYou can opt out by calling pixiedust.optOut() in a new cell.\n"
                },
                {
                    "data": {
                        "text/html": "\n        <div style=\"margin:10px\">\n            <a href=\"https://github.com/ibm-watson-data-lab/pixiedust\" target=\"_new\">\n                <img src=\"https://github.com/ibm-watson-data-lab/pixiedust/raw/master/docs/_static/pd_icon32.png\" style=\"float:left;margin-right:10px\"/>\n            </a>\n            <span>Pixiedust version 1.1.18</span>\n        </div>\n        ",
                        "text/plain": "<IPython.core.display.HTML object>"
                    },
                    "metadata": {},
                    "output_type": "display_data"
                },
                {
                    "name": "stdout",
                    "output_type": "stream",
                    "text": "\u001b[31mPixiedust runtime updated. Please restart kernel\u001b[0m\nTable SPARK_PACKAGES created successfully\nTable USER_PREFERENCES created successfully\nTable service_connections created successfully\n"
                }
            ],
            "source": "import pixiedust"
        },
        {
            "cell_type": "code",
            "execution_count": null,
            "metadata": {
                "pixiedust": {
                    "displayParams": {
                        "aggregation": "COUNT",
                        "chartsize": "50",
                        "handlerId": "pieChart",
                        "keyFields": "Risk",
                        "mpld3": "false",
                        "rendererId": "bokeh"
                    }
                }
            },
            "outputs": [
                {
                    "data": {
                        "text/html": "<style type=\"text/css\">.pd_warning{display:none;}</style><div class=\"pd_warning\"><em>Hey, there's something awesome here! To see it, open this notebook outside GitHub, in a viewer like Jupyter</em></div>\n        <div class=\"pd_save is-viewer-good\" style=\"padding-right:10px;text-align: center;line-height:initial !important;font-size: xx-large;font-weight: 500;color: coral;\">\n            \n        </div>\n    <div id=\"chartFigure2fe31597\" class=\"pd_save is-viewer-good\" style=\"overflow-x:auto\">\n            \n                    \n                            <center><img style=\"max-width:initial !important\" src=\"data:image/png;base64,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\" class=\"pd_save\"></center>\n                        \n                    \n                \n        </div>",
                        "text/plain": "<IPython.core.display.HTML object>"
                    },
                    "metadata": {},
                    "output_type": "display_data"
                }
            ],
            "source": "display(df_data)"
        },
        {
            "cell_type": "markdown",
            "metadata": {},
            "source": "## Create a model"
        },
        {
            "cell_type": "code",
            "execution_count": 19,
            "metadata": {
                "scrolled": true
            },
            "outputs": [
                {
                    "name": "stdout",
                    "output_type": "stream",
                    "text": "Number of records for training: 4016\nNumber of records for evaluation: 984\nroot\n |-- CheckingStatus: string (nullable = true)\n |-- LoanDuration: integer (nullable = true)\n |-- CreditHistory: string (nullable = true)\n |-- LoanPurpose: string (nullable = true)\n |-- LoanAmount: integer (nullable = true)\n |-- ExistingSavings: string (nullable = true)\n |-- EmploymentDuration: string (nullable = true)\n |-- InstallmentPercent: integer (nullable = true)\n |-- Sex: string (nullable = true)\n |-- OthersOnLoan: string (nullable = true)\n |-- CurrentResidenceDuration: integer (nullable = true)\n |-- OwnsProperty: string (nullable = true)\n |-- Age: integer (nullable = true)\n |-- InstallmentPlans: string (nullable = true)\n |-- Housing: string (nullable = true)\n |-- ExistingCreditsCount: integer (nullable = true)\n |-- Job: string (nullable = true)\n |-- Dependents: integer (nullable = true)\n |-- Telephone: string (nullable = true)\n |-- ForeignWorker: string (nullable = true)\n |-- Risk: string (nullable = true)\n\n"
                }
            ],
            "source": "spark_df = df_data\n(train_data, test_data) = spark_df.randomSplit([0.8, 0.2], 24)\n\nMODEL_NAME = \"Spark German Risk Model - Final\"\nDEPLOYMENT_NAME = \"Spark German Risk Deployment - Final\"\n\nprint(\"Number of records for training: \" + str(train_data.count()))\nprint(\"Number of records for evaluation: \" + str(test_data.count()))\n\nspark_df.printSchema()"
        },
        {
            "cell_type": "markdown",
            "metadata": {},
            "source": "The code below creates a Random Forest Classifier with Spark, setting up string indexers for the categorical features and the label column. Finally, this notebook creates a pipeline including the indexers and the model, and does an initial Area Under ROC evaluation of the model."
        },
        {
            "cell_type": "code",
            "execution_count": 34,
            "metadata": {
                "scrolled": true
            },
            "outputs": [],
            "source": "from pyspark.ml.feature import OneHotEncoder, StringIndexer, IndexToString, VectorAssembler\nfrom pyspark.ml.evaluation import BinaryClassificationEvaluator\nfrom pyspark.ml import Pipeline, Model\nfrom pyspark.ml.feature import SQLTransformer\n\nfeatures = [x for x in spark_df.columns if x != 'Risk']\ncategorical_features = ['CheckingStatus', 'CreditHistory', 'LoanPurpose', 'ExistingSavings', 'EmploymentDuration', 'Sex', 'OthersOnLoan', 'OwnsProperty', 'InstallmentPlans', 'Housing', 'Job', 'Telephone', 'ForeignWorker']\ncategorical_num_features = [x + '_IX' for x in categorical_features]\nsi_list = [StringIndexer(inputCol=x, outputCol=y) for x, y in zip(categorical_features, categorical_num_features)]\nva_features = VectorAssembler(inputCols=categorical_num_features + [x for x in features if x not in categorical_features], outputCol=\"features\")"
        },
        {
            "cell_type": "code",
            "execution_count": 37,
            "metadata": {
                "scrolled": true
            },
            "outputs": [],
            "source": "si_label = StringIndexer(inputCol=\"Risk\", outputCol=\"label\").fit(spark_df)\nlabel_converter = IndexToString(inputCol=\"prediction\", outputCol=\"predictedLabel\", labels=si_label.labels)"
        },
        {
            "cell_type": "code",
            "execution_count": 38,
            "metadata": {
                "scrolled": true
            },
            "outputs": [],
            "source": "from pyspark.ml.classification import RandomForestClassifier\n\nclassifier = RandomForestClassifier(featuresCol=\"features\")\nfeature_filter = SQLTransformer(statement=\"SELECT * FROM __THIS__\")\npipeline = Pipeline(stages= si_list + [si_label, va_features, classifier, label_converter, feature_filter])\nmodel = pipeline.fit(train_data)"
        },
        {
            "cell_type": "markdown",
            "metadata": {},
            "source": "**Note:** If you want filter features from model output please replace **`*`** with feature names to be retained in **`SQLTransformer`** statement."
        },
        {
            "cell_type": "code",
            "execution_count": 46,
            "metadata": {
                "scrolled": true
            },
            "outputs": [
                {
                    "name": "stdout",
                    "output_type": "stream",
                    "text": "areaUnderROC = 0.700536\n"
                }
            ],
            "source": "predictions = model.transform(test_data)\nevaluatorDT = BinaryClassificationEvaluator(rawPredictionCol=\"prediction\")\narea_under_curve = evaluatorDT.evaluate(predictions)\n\nprint(\"areaUnderROC = %g\" % area_under_curve)"
        },
        {
            "cell_type": "markdown",
            "metadata": {},
            "source": "## Publish the model"
        },
        {
            "cell_type": "markdown",
            "metadata": {},
            "source": "In this section, the notebook uses the supplied Watson Machine Learning credentials to save the model (including the pipeline) to the WML instance. Previous versions of the model are removed so that the notebook can be run again, resetting all data for another demo."
        },
        {
            "cell_type": "code",
            "execution_count": 47,
            "metadata": {
                "scrolled": true
            },
            "outputs": [],
            "source": "from watson_machine_learning_client import WatsonMachineLearningAPIClient\nimport json\n\nwml_client = WatsonMachineLearningAPIClient(WML_CREDENTIALS)"
        },
        {
            "cell_type": "markdown",
            "metadata": {},
            "source": "### Remove existing model and deployment"
        },
        {
            "cell_type": "code",
            "execution_count": null,
            "metadata": {
                "scrolled": true
            },
            "outputs": [],
            "source": "model_deployment_ids = wml_client.deployments.get_uids()\nfor deployment_id in model_deployment_ids:\n    deployment = wml_client.deployments.get_details(deployment_id)\n    model_id = deployment['entity']['deployable_asset']['guid']\n    if deployment['entity']['name'] == DEPLOYMENT_NAME:\n        print('Deleting deployment id', deployment_id)\n        wml_client.deployments.delete(deployment_id)\n        print('Deleting model id', model_id)\n        wml_client.repository.delete(model_id)\nwml_client.repository.list_models()"
        },
        {
            "cell_type": "code",
            "execution_count": null,
            "metadata": {},
            "outputs": [],
            "source": "with io.capture_output() as captured:\n    !wget https://raw.githubusercontent.com/pmservice/wml-sample-models/master/spark/credit-risk/meta/credit-risk-meta.json -O credit-risk-meta.json\n!ls -lh credit-risk-meta.json"
        },
        {
            "cell_type": "code",
            "execution_count": null,
            "metadata": {},
            "outputs": [],
            "source": "with open('credit-risk-meta.json') as f:\n    [training_data_reference, *_] = json.load(f)['model_meta']['training_data_reference']"
        },
        {
            "cell_type": "code",
            "execution_count": null,
            "metadata": {
                "scrolled": true
            },
            "outputs": [],
            "source": "model_props = {\n    wml_client.repository.ModelMetaNames.NAME: \"{}\".format(MODEL_NAME),\n    wml_client.repository.ModelMetaNames.EVALUATION_METHOD: \"binary\",\n    wml_client.repository.ModelMetaNames.TRAINING_DATA_REFERENCE: training_data_reference,\n    wml_client.repository.ModelMetaNames.EVALUATION_METRICS: [\n        {\n           \"name\": \"areaUnderROC\",\n           \"value\": area_under_curve,\n           \"threshold\": 0.7\n        }\n    ]\n}"
        },
        {
            "cell_type": "code",
            "execution_count": null,
            "metadata": {
                "scrolled": true
            },
            "outputs": [],
            "source": "wml_models = wml_client.repository.get_details()\nmodel_uid = None\nfor model_in in wml_models['models']['resources']:\n    if MODEL_NAME == model_in['entity']['name']:\n        model_uid = model_in['metadata']['guid']\n        break\n\nif model_uid is None:\n    print(\"Storing model ...\")\n\n    published_model_details = wml_client.repository.store_model(model=model, meta_props=model_props, training_data=train_data, pipeline=pipeline)\n    model_uid = wml_client.repository.get_model_uid(published_model_details)\n    print(\"Done\")"
        },
        {
            "cell_type": "code",
            "execution_count": null,
            "metadata": {
                "scrolled": true
            },
            "outputs": [],
            "source": "model_uid"
        },
        {
            "cell_type": "markdown",
            "metadata": {},
            "source": "## Deploy the model"
        },
        {
            "cell_type": "markdown",
            "metadata": {},
            "source": "The next section of the notebook deploys the model as a RESTful web service in Watson Machine Learning. The deployed model will have a scoring URL you can use to send data to the model for predictions."
        },
        {
            "cell_type": "code",
            "execution_count": null,
            "metadata": {
                "scrolled": true
            },
            "outputs": [],
            "source": "wml_deployments = wml_client.deployments.get_details()\ndeployment_uid = None\nfor deployment in wml_deployments['resources']:\n    if DEPLOYMENT_NAME == deployment['entity']['name']:\n        deployment_uid = deployment['metadata']['guid']\n        break\n\nif deployment_uid is None:\n    print(\"Deploying model...\")\n\n    deployment = wml_client.deployments.create(artifact_uid=model_uid, name=DEPLOYMENT_NAME, asynchronous=False)\n    deployment_uid = wml_client.deployments.get_uid(deployment)\n    \nprint(\"Model id: {}\".format(model_uid))\nprint(\"Deployment id: {}\".format(deployment_uid))"
        },
        {
            "cell_type": "markdown",
            "metadata": {},
            "source": "# Configure OpenScale <a name=\"openscale\"></a>"
        },
        {
            "cell_type": "markdown",
            "metadata": {},
            "source": "The notebook will now import the necessary libraries and set up a Python OpenScale client."
        },
        {
            "cell_type": "code",
            "execution_count": 59,
            "metadata": {
                "scrolled": true
            },
            "outputs": [],
            "source": "from ibm_ai_openscale import APIClient\nfrom ibm_ai_openscale.engines import *\nfrom ibm_ai_openscale.utils import *\nfrom ibm_ai_openscale.supporting_classes import PayloadRecord, Feature\nfrom ibm_ai_openscale.supporting_classes.enums import *"
        },
        {
            "cell_type": "markdown",
            "metadata": {},
            "source": "### Get Watson OpenScale GUID"
        },
        {
            "cell_type": "markdown",
            "metadata": {},
            "source": "Each instance of OpenScale has a unique ID. We can get this value using the Cloud API key specified at the beginning of the notebook."
        },
        {
            "cell_type": "code",
            "execution_count": 60,
            "metadata": {},
            "outputs": [
                {
                    "name": "stdout",
                    "output_type": "stream",
                    "text": "cacaf1bc-1285-46da-ba9a-49464bc683a3\n"
                }
            ],
            "source": "import requests\nfrom ibm_ai_openscale.utils import get_instance_guid\n\n\nWOS_GUID = get_instance_guid(api_key=CLOUD_API_KEY)\nWOS_CREDENTIALS = {\n    \"instance_guid\": WOS_GUID,\n    \"apikey\": CLOUD_API_KEY,\n    \"url\": \"https://api.aiopenscale.cloud.ibm.com\"\n}\n\nif WOS_GUID is None:\n    print('Watson OpenScale GUID NOT FOUND')\nelse:\n    print(WOS_GUID)"
        },
        {
            "cell_type": "markdown",
            "metadata": {},
            "source": "If Watson OpenScale GUID has not been found you need provide the GUID to variabe `WOS_GUID`.\n\n#### Get OpenScale `instance_guid` \n\nHow to install IBM Cloud (bluemix) console: [instruction](https://console.bluemix.net/docs/cli/reference/ibmcloud/download_cli.html#install_use)\n\n\n\nHow to get your OpenScale instance GUID\n- log in to IBM Cloud:\n```\nbx login --sso\n```\n- if your resource group is different than `default` switch to resource group containing OpenScale instance\n```\nbx target -g <myResourceGroup>\n```\n- get details of the instance\n```\nbx resource service-instance 'AI-OpenScale-instance_name'\n```"
        },
        {
            "cell_type": "code",
            "execution_count": 61,
            "metadata": {
                "scrolled": true
            },
            "outputs": [
                {
                    "data": {
                        "text/plain": "'2.1.19'"
                    },
                    "execution_count": 61,
                    "metadata": {},
                    "output_type": "execute_result"
                }
            ],
            "source": "ai_client = APIClient(aios_credentials=WOS_CREDENTIALS)\nai_client.version"
        },
        {
            "cell_type": "markdown",
            "metadata": {},
            "source": "## Create schema and datamart"
        },
        {
            "cell_type": "markdown",
            "metadata": {},
            "source": "### Set up datamart"
        },
        {
            "cell_type": "markdown",
            "metadata": {},
            "source": "Watson OpenScale uses a database to store payload logs and calculated metrics. If database credentials were **not** supplied above, the notebook will use the free, internal lite database. If database credentials were supplied, the datamart will be created there **unless** there is an existing datamart **and** the **KEEP_MY_INTERNAL_POSTGRES** variable is set to **True**. If an OpenScale datamart exists in Db2 or PostgreSQL, the existing datamart will be used and no data will be overwritten.\n\nPrior instances of the German Credit model will be removed from OpenScale monitoring."
        },
        {
            "cell_type": "code",
            "execution_count": 62,
            "metadata": {},
            "outputs": [
                {
                    "name": "stdout",
                    "output_type": "stream",
                    "text": "Using existing internal datamart.\n"
                }
            ],
            "source": "try:\n    data_mart_details = ai_client.data_mart.get_details()\n    if 'internal_database' in data_mart_details and data_mart_details['internal_database']:\n        if KEEP_MY_INTERNAL_POSTGRES:\n            print('Using existing internal datamart.')\n        else:\n            if DB_CREDENTIALS is None:\n                print('No postgres credentials supplied. Using existing internal datamart')\n            else:\n                print('Switching to external datamart')\n                ai_client.data_mart.delete(force=True)\n                ai_client.data_mart.setup(db_credentials=DB_CREDENTIALS)\n    else:\n        print('Using existing external datamart')\nexcept:\n    if DB_CREDENTIALS is None:\n        print('Setting up internal datamart')\n        ai_client.data_mart.setup(internal_db=True)\n    else:\n        print('Setting up external datamart')\n        try:\n            ai_client.data_mart.setup(db_credentials=DB_CREDENTIALS)\n        except:\n            print('Setup failed, trying Db2 setup')\n            ai_client.data_mart.setup(db_credentials=DB_CREDENTIALS, schema=DB_CREDENTIALS['username'])\n    "
        },
        {
            "cell_type": "code",
            "execution_count": 63,
            "metadata": {
                "scrolled": true
            },
            "outputs": [],
            "source": "data_mart_details = ai_client.data_mart.get_details()"
        },
        {
            "cell_type": "markdown",
            "metadata": {},
            "source": "## Bind machine learning engines"
        },
        {
            "cell_type": "markdown",
            "metadata": {},
            "source": "Watson OpenScale needs to be bound to the Watson Machine Learning instance to capture payload data into and out of the model. If this binding already exists, this code will output a warning message and use the existing binding."
        },
        {
            "cell_type": "markdown",
            "metadata": {},
            "source": "**Note:** You can bind more than one engine instance if needed by calling `ai_client.data_mart.bindings.add` method. Next, you can refer to particular binding using `binding_uid`."
        },
        {
            "cell_type": "code",
            "execution_count": 64,
            "metadata": {
                "scrolled": false
            },
            "outputs": [
                {
                    "name": "stdout",
                    "output_type": "stream",
                    "text": "Warning during bind instance.\nStatus code: 409, body: {\"errors\":[{\"code\":\"AIQCS0010W\",\"message\":\"Service Binding with this id is already defined\"}],\"trace\":\"YTllYjY3ZTctZjg2NC00ODdjLWJjZTEtOTJkYmRiY2VkNzQw\"}\n"
                },
                {
                    "data": {
                        "text/html": "<HTML>\n        <body>\n            <h3>Service bindings</h3>\n            <table style='border: 1px solid #dddddd; font-family: Courier'>\n                <th style='border: 1px solid #dddddd'>uid</th><th style='border: 1px solid #dddddd'>name</th><th style='border: 1px solid #dddddd'>service_type</th><th style='border: 1px solid #dddddd'>created</th>\n                <tr><td style='border: 1px solid #dddddd'>2fa0701a-b6af-49b1-a46b-e5dea58897a9</td><td style='border: 1px solid #dddddd'>My custom engine</td><td style='border: 1px solid #dddddd'>custom_machine_learning</td><td style='border: 1px solid #dddddd'>2019-12-06T11:22:59.439Z</td></tr><tr><td style='border: 1px solid #dddddd'>a73bf76d-a663-448a-b771-4f651f73d54e</td><td style='border: 1px solid #dddddd'>WML instance</td><td style='border: 1px solid #dddddd'>watson_machine_learning</td><td style='border: 1px solid #dddddd'>2019-11-14T12:25:38.719Z</td></tr><tr><td style='border: 1px solid #dddddd'>909f6985-4c29-4aa8-a889-d9f8017e1f58</td><td style='border: 1px solid #dddddd'>My Custom deployment</td><td style='border: 1px solid #dddddd'>custom_machine_learning</td><td style='border: 1px solid #dddddd'>2019-10-21T09:29:13.972Z</td></tr><tr><td style='border: 1px solid #dddddd'>4d7a90a8-9df1-45be-be13-cb54930512cf</td><td style='border: 1px solid #dddddd'>WML Instance</td><td style='border: 1px solid #dddddd'>watson_machine_learning</td><td style='border: 1px solid #dddddd'>2019-10-17T10:16:32.049Z</td></tr>\n            </table>\n        </body>\n        </HTML>",
                        "text/plain": "<IPython.core.display.HTML object>"
                    },
                    "metadata": {},
                    "output_type": "display_data"
                }
            ],
            "source": "binding_uid = ai_client.data_mart.bindings.add('WML instance', WatsonMachineLearningInstance(WML_CREDENTIALS))\nif binding_uid is None:\n    binding_uid = ai_client.data_mart.bindings.get_details()['service_bindings'][0]['metadata']['guid']\nbindings_details = ai_client.data_mart.bindings.get_details()\nai_client.data_mart.bindings.list()"
        },
        {
            "cell_type": "code",
            "execution_count": 65,
            "metadata": {
                "scrolled": true
            },
            "outputs": [
                {
                    "name": "stdout",
                    "output_type": "stream",
                    "text": "a73bf76d-a663-448a-b771-4f651f73d54e\n"
                }
            ],
            "source": "print(binding_uid)"
        },
        {
            "cell_type": "code",
            "execution_count": 66,
            "metadata": {
                "scrolled": false
            },
            "outputs": [
                {
                    "data": {
                        "text/html": "<HTML>\n        <body>\n            <h3>Available assets</h3>\n            <table style='border: 1px solid #dddddd; font-family: Courier'>\n                <th style='border: 1px solid #dddddd'>source_uid</th><th style='border: 1px solid #dddddd'>name</th><th style='border: 1px solid #dddddd'>created</th><th style='border: 1px solid #dddddd'>type</th><th style='border: 1px solid #dddddd'>frameworks</th><th style='border: 1px solid #dddddd'>binding_uid</th><th style='border: 1px solid #dddddd'>is_subscribed</th>\n                <tr><td style='border: 1px solid #dddddd'>b17f9058-ced2-4dc6-8bd5-c8f3bb3616b5</td><td style='border: 1px solid #dddddd'>Spark German Risk Model - Final</td><td style='border: 1px solid #dddddd'>2019-12-06T12:30:51.720Z</td><td style='border: 1px solid #dddddd'>model</td><td style='border: 1px solid #dddddd'>mllib-2.3</td><td style='border: 1px solid #dddddd'>a73bf76d-a663-448a-b771-4f651f73d54e</td><td style='border: 1px solid #dddddd'>True</td></tr><tr><td style='border: 1px solid #dddddd'>30a56c7d-f8b6-4d0a-9928-ead7b52160c5</td><td style='border: 1px solid #dddddd'>SVCHighlights</td><td style='border: 1px solid #dddddd'>2019-11-05T12:57:39.392Z</td><td style='border: 1px solid #dddddd'>model</td><td style='border: 1px solid #dddddd'>scikit-learn-0.20</td><td style='border: 1px solid #dddddd'>a73bf76d-a663-448a-b771-4f651f73d54e</td><td style='border: 1px solid #dddddd'>False</td></tr><tr><td style='border: 1px solid #dddddd'>b92d12ec-670e-4571-b4b8-b4390243705b</td><td style='border: 1px solid #dddddd'>AIOS Scikit Digits V4</td><td style='border: 1px solid #dddddd'>2019-10-18T09:03:09.193Z</td><td style='border: 1px solid #dddddd'>model</td><td style='border: 1px solid #dddddd'>scikit-learn-0.19</td><td style='border: 1px solid #dddddd'>a73bf76d-a663-448a-b771-4f651f73d54e</td><td style='border: 1px solid #dddddd'>False</td></tr><tr><td style='border: 1px solid #dddddd'>95a5a12d-05a2-42ee-bf5f-c0673131b77c</td><td style='border: 1px solid #dddddd'>SVCHighlights</td><td style='border: 1px solid #dddddd'>2019-10-18T08:35:17.822Z</td><td style='border: 1px solid #dddddd'>model</td><td style='border: 1px solid #dddddd'>scikit-learn-0.19</td><td style='border: 1px solid #dddddd'>a73bf76d-a663-448a-b771-4f651f73d54e</td><td style='border: 1px solid #dddddd'>False</td></tr><tr><td style='border: 1px solid #dddddd'>b8025058-6c3c-43f3-85d8-1506af324ce1</td><td style='border: 1px solid #dddddd'>GermanCreditRiskModel</td><td style='border: 1px solid #dddddd'>2019-10-17T10:16:37.050Z</td><td style='border: 1px solid #dddddd'>model</td><td style='border: 1px solid #dddddd'>mllib-2.3</td><td style='border: 1px solid #dddddd'>4d7a90a8-9df1-45be-be13-cb54930512cf</td><td style='border: 1px solid #dddddd'>True</td></tr><tr><td style='border: 1px solid #dddddd'>2cb55722-64e5-4aea-a2a9-fde47565887b</td><td style='border: 1px solid #dddddd'>CIFAR10 neunets</td><td style='border: 1px solid #dddddd'>2019-10-11T10:33:34.002Z</td><td style='border: 1px solid #dddddd'>model</td><td style='border: 1px solid #dddddd'>tensorflow-1.5</td><td style='border: 1px solid #dddddd'>a73bf76d-a663-448a-b771-4f651f73d54e</td><td style='border: 1px solid #dddddd'>False</td></tr><tr><td style='border: 1px solid #dddddd'>08f25c71-3dc6-4be9-98df-54a423199a07</td><td style='border: 1px solid #dddddd'>AIOS Spark Credit Risk model xFg</td><td style='border: 1px solid #dddddd'>2019-10-10T13:56:12.216Z</td><td style='border: 1px solid #dddddd'>model</td><td style='border: 1px solid #dddddd'>mllib-2.3</td><td style='border: 1px solid #dddddd'>a73bf76d-a663-448a-b771-4f651f73d54e</td><td style='border: 1px solid #dddddd'>False</td></tr><tr><td style='border: 1px solid #dddddd'>3dce915d-f8cc-4d35-8d82-65139f66d06f</td><td style='border: 1px solid #dddddd'>GermanCreditRiskModelYPQA</td><td style='border: 1px solid #dddddd'>2019-10-03T07:30:42.664Z</td><td style='border: 1px solid #dddddd'>model</td><td style='border: 1px solid #dddddd'>mllib-2.3</td><td style='border: 1px solid #dddddd'>4d7a90a8-9df1-45be-be13-cb54930512cf</td><td style='border: 1px solid #dddddd'>False</td></tr><tr><td style='border: 1px solid #dddddd'>69724866-bd8e-4f84-855f-49aeb2cce62b</td><td style='border: 1px solid #dddddd'>Spark German Risk Model - Scikit</td><td style='border: 1px solid #dddddd'>2019-09-27T07:54:59.048Z</td><td style='border: 1px solid #dddddd'>model</td><td style='border: 1px solid #dddddd'>scikit-learn-0.20</td><td style='border: 1px solid #dddddd'>a73bf76d-a663-448a-b771-4f651f73d54e</td><td style='border: 1px solid #dddddd'>False</td></tr><tr><td style='border: 1px solid #dddddd'>ee1a3b56-756b-4262-8452-a5eefaaf1a6c</td><td style='border: 1px solid #dddddd'>AIOS Spark German Risk model drift</td><td style='border: 1px solid #dddddd'>2019-09-16T08:50:26.056Z</td><td style='border: 1px solid #dddddd'>model</td><td style='border: 1px solid #dddddd'>mllib-2.3</td><td style='border: 1px solid #dddddd'>a73bf76d-a663-448a-b771-4f651f73d54e</td><td style='border: 1px solid #dddddd'>False</td></tr><tr><td style='border: 1px solid #dddddd'>bb25c3e1-09e0-4c15-ae9b-caec0106529d</td><td style='border: 1px solid #dddddd'>AIOS Spark German Risk model drift</td><td style='border: 1px solid #dddddd'>2019-09-16T08:46:16.095Z</td><td style='border: 1px solid #dddddd'>model</td><td style='border: 1px solid #dddddd'>mllib-2.3</td><td style='border: 1px solid #dddddd'>4d7a90a8-9df1-45be-be13-cb54930512cf</td><td style='border: 1px solid #dddddd'>False</td></tr><tr><td style='border: 1px solid #dddddd'>4793be55-b820-48cd-a353-86fd69d880e7</td><td style='border: 1px solid #dddddd'>AIOS Spark German Risk model drift</td><td style='border: 1px solid #dddddd'>2019-09-16T08:35:53.172Z</td><td style='border: 1px solid #dddddd'>model</td><td style='border: 1px solid #dddddd'>mllib-2.3</td><td style='border: 1px solid #dddddd'>4d7a90a8-9df1-45be-be13-cb54930512cf</td><td style='border: 1px solid #dddddd'>False</td></tr><tr><td style='border: 1px solid #dddddd'>a14f4098-202e-449d-b4af-975104883e2d</td><td style='border: 1px solid #dddddd'>AIOS Spark German Risk model drift</td><td style='border: 1px solid #dddddd'>2019-09-16T08:29:29.486Z</td><td style='border: 1px solid #dddddd'>model</td><td style='border: 1px solid #dddddd'>mllib-2.3</td><td style='border: 1px solid #dddddd'>4d7a90a8-9df1-45be-be13-cb54930512cf</td><td style='border: 1px solid #dddddd'>False</td></tr><tr><td style='border: 1px solid #dddddd'>f77f3dcb-4aa8-4cd7-8471-93f103eb2c89</td><td style='border: 1px solid #dddddd'>AIOS Spark German Risk model drift</td><td style='border: 1px solid #dddddd'>2019-09-16T08:18:56.893Z</td><td style='border: 1px solid #dddddd'>model</td><td style='border: 1px solid #dddddd'>mllib-2.3</td><td style='border: 1px solid #dddddd'>4d7a90a8-9df1-45be-be13-cb54930512cf</td><td style='border: 1px solid #dddddd'>False</td></tr><tr><td style='border: 1px solid #dddddd'>175c7388-df34-488f-9dd8-63357818f9ef</td><td style='border: 1px solid #dddddd'>AIOS Spark German Risk model</td><td style='border: 1px solid #dddddd'>2019-09-13T12:48:30.603Z</td><td style='border: 1px solid #dddddd'>model</td><td style='border: 1px solid #dddddd'>mllib-2.3</td><td style='border: 1px solid #dddddd'>a73bf76d-a663-448a-b771-4f651f73d54e</td><td style='border: 1px solid #dddddd'>False</td></tr><tr><td style='border: 1px solid #dddddd'>credit</td><td style='border: 1px solid #dddddd'>credit</td><td style='border: 1px solid #dddddd'>2019-01-01T10:11:12Z</td><td style='border: 1px solid #dddddd'>model</td><td style='border: 1px solid #dddddd'></td><td style='border: 1px solid #dddddd'>909f6985-4c29-4aa8-a889-d9f8017e1f58</td><td style='border: 1px solid #dddddd'>True</td></tr><tr><td style='border: 1px solid #dddddd'>credit</td><td style='border: 1px solid #dddddd'>credit</td><td style='border: 1px solid #dddddd'>2019-01-01T10:11:12Z</td><td style='border: 1px solid #dddddd'>model</td><td style='border: 1px solid #dddddd'></td><td style='border: 1px solid #dddddd'>2fa0701a-b6af-49b1-a46b-e5dea58897a9</td><td style='border: 1px solid #dddddd'>True</td></tr><tr><td style='border: 1px solid #dddddd'>circle</td><td style='border: 1px solid #dddddd'>circle</td><td style='border: 1px solid #dddddd'>2019-01-01T10:11:12Z</td><td style='border: 1px solid #dddddd'>model</td><td style='border: 1px solid #dddddd'></td><td style='border: 1px solid #dddddd'>2fa0701a-b6af-49b1-a46b-e5dea58897a9</td><td style='border: 1px solid #dddddd'>False</td></tr><tr><td style='border: 1px solid #dddddd'>67d1d82d-eeb0-488a-b403-1a8dc00db72f</td><td style='border: 1px solid #dddddd'>CARS4U - Action Recommendation Model</td><td style='border: 1px solid #dddddd'>2018-12-13T15:27:10.744Z</td><td style='border: 1px solid #dddddd'>model</td><td style='border: 1px solid #dddddd'>mllib-2.1</td><td style='border: 1px solid #dddddd'>4d7a90a8-9df1-45be-be13-cb54930512cf</td><td style='border: 1px solid #dddddd'>False</td></tr><tr><td style='border: 1px solid #dddddd'>resnet50</td><td style='border: 1px solid #dddddd'>resnet50</td><td style='border: 1px solid #dddddd'>2016-12-01T10:11:12Z</td><td style='border: 1px solid #dddddd'>model</td><td style='border: 1px solid #dddddd'></td><td style='border: 1px solid #dddddd'>909f6985-4c29-4aa8-a889-d9f8017e1f58</td><td style='border: 1px solid #dddddd'>False</td></tr><tr><td style='border: 1px solid #dddddd'>action</td><td style='border: 1px solid #dddddd'>area and action prediction</td><td style='border: 1px solid #dddddd'>2016-12-01T10:11:12Z</td><td style='border: 1px solid #dddddd'>model</td><td style='border: 1px solid #dddddd'></td><td style='border: 1px solid #dddddd'>909f6985-4c29-4aa8-a889-d9f8017e1f58</td><td style='border: 1px solid #dddddd'>False</td></tr>\n            </table>\n        </body>\n        </HTML>",
                        "text/plain": "<IPython.core.display.HTML object>"
                    },
                    "metadata": {},
                    "output_type": "display_data"
                }
            ],
            "source": "ai_client.data_mart.bindings.list_assets()"
        },
        {
            "cell_type": "markdown",
            "metadata": {},
            "source": "## Subscriptions"
        },
        {
            "cell_type": "markdown",
            "metadata": {},
            "source": "### Remove existing credit risk subscriptions"
        },
        {
            "cell_type": "markdown",
            "metadata": {},
            "source": "This code removes previous subscriptions to the German Credit model to refresh the monitors with the new model and new data."
        },
        {
            "cell_type": "code",
            "execution_count": 67,
            "metadata": {
                "scrolled": true
            },
            "outputs": [
                {
                    "name": "stdout",
                    "output_type": "stream",
                    "text": "Deleted existing subscription for Spark German Risk Model - Final\n"
                }
            ],
            "source": "subscriptions_uids = ai_client.data_mart.subscriptions.get_uids()\nfor subscription in subscriptions_uids:\n    sub_name = ai_client.data_mart.subscriptions.get_details(subscription)['entity']['asset']['name']\n    if sub_name == MODEL_NAME:\n        ai_client.data_mart.subscriptions.delete(subscription)\n        print('Deleted existing subscription for', MODEL_NAME)"
        },
        {
            "cell_type": "markdown",
            "metadata": {},
            "source": "This code creates the model subscription in OpenScale using the Python client API. Note that we need to provide the model unique identifier, and some information about the model itself."
        },
        {
            "cell_type": "code",
            "execution_count": 68,
            "metadata": {
                "scrolled": false
            },
            "outputs": [],
            "source": "subscription = ai_client.data_mart.subscriptions.add(WatsonMachineLearningAsset(\n    model_uid,\n    problem_type=ProblemType.BINARY_CLASSIFICATION,\n    input_data_type=InputDataType.STRUCTURED,\n    label_column='Risk',\n    prediction_column='predictedLabel',\n    probability_column='probability',\n    transaction_id_column='transaction_id',\n    feature_columns = [\"CheckingStatus\",\"LoanDuration\",\"CreditHistory\",\"LoanPurpose\",\"LoanAmount\",\"ExistingSavings\",\"EmploymentDuration\",\"InstallmentPercent\",\"Sex\",\"OthersOnLoan\",\"CurrentResidenceDuration\",\"OwnsProperty\",\"Age\",\"InstallmentPlans\",\"Housing\",\"ExistingCreditsCount\",\"Job\",\"Dependents\",\"Telephone\",\"ForeignWorker\"],\n    categorical_columns = [\"CheckingStatus\",\"CreditHistory\",\"LoanPurpose\",\"ExistingSavings\",\"EmploymentDuration\",\"Sex\",\"OthersOnLoan\",\"OwnsProperty\",\"InstallmentPlans\",\"Housing\",\"Job\",\"Telephone\",\"ForeignWorker\"]\n))\n\nif subscription is None:\n    print('Subscription already exists; get the existing one')\n    subscriptions_uids = ai_client.data_mart.subscriptions.get_uids()\n    for sub in subscriptions_uids:\n        if ai_client.data_mart.subscriptions.get_details(sub)['entity']['asset']['name'] == MODEL_NAME:\n            subscription = ai_client.data_mart.subscriptions.get(sub)"
        },
        {
            "cell_type": "markdown",
            "metadata": {},
            "source": "Get subscription list"
        },
        {
            "cell_type": "code",
            "execution_count": 69,
            "metadata": {
                "scrolled": true
            },
            "outputs": [
                {
                    "data": {
                        "text/html": "<HTML>\n        <body>\n            <h3>Subscriptions</h3>\n            <table style='border: 1px solid #dddddd; font-family: Courier'>\n                <th style='border: 1px solid #dddddd'>uid</th><th style='border: 1px solid #dddddd'>name</th><th style='border: 1px solid #dddddd'>type</th><th style='border: 1px solid #dddddd'>binding_uid</th><th style='border: 1px solid #dddddd'>created</th>\n                <tr><td style='border: 1px solid #dddddd'>3259ea9f-f9aa-4eed-add6-ab80f77ef6c5</td><td style='border: 1px solid #dddddd'>Spark German Risk Model - Final</td><td style='border: 1px solid #dddddd'>model</td><td style='border: 1px solid #dddddd'>a73bf76d-a663-448a-b771-4f651f73d54e</td><td style='border: 1px solid #dddddd'>2019-12-06T12:35:25.239Z</td></tr><tr><td style='border: 1px solid #dddddd'>930c9cdf-a594-4b2b-be1b-b5a8834dfb5d</td><td style='border: 1px solid #dddddd'>credit</td><td style='border: 1px solid #dddddd'>model</td><td style='border: 1px solid #dddddd'>2fa0701a-b6af-49b1-a46b-e5dea58897a9</td><td style='border: 1px solid #dddddd'>2019-12-06T11:23:05.659Z</td></tr><tr><td style='border: 1px solid #dddddd'>e7e77e3f-d32b-4c00-bc00-6c5b2740869c</td><td style='border: 1px solid #dddddd'>GermanCreditRiskModel</td><td style='border: 1px solid #dddddd'>model</td><td style='border: 1px solid #dddddd'>4d7a90a8-9df1-45be-be13-cb54930512cf</td><td style='border: 1px solid #dddddd'>2019-10-17T10:16:45.420Z</td></tr>\n            </table>\n        </body>\n        </HTML>",
                        "text/plain": "<IPython.core.display.HTML object>"
                    },
                    "metadata": {},
                    "output_type": "display_data"
                }
            ],
            "source": "subscriptions_uids = ai_client.data_mart.subscriptions.get_uids()\nai_client.data_mart.subscriptions.list()"
        },
        {
            "cell_type": "code",
            "execution_count": 70,
            "metadata": {
                "scrolled": false
            },
            "outputs": [],
            "source": "subscription_details = subscription.get_details()"
        },
        {
            "cell_type": "code",
            "execution_count": 71,
            "metadata": {},
            "outputs": [
                {
                    "data": {
                        "text/plain": "'3259ea9f-f9aa-4eed-add6-ab80f77ef6c5'"
                    },
                    "execution_count": 71,
                    "metadata": {},
                    "output_type": "execute_result"
                }
            ],
            "source": "subscription.uid"
        },
        {
            "cell_type": "markdown",
            "metadata": {},
            "source": "### Score the model so we can configure monitors"
        },
        {
            "cell_type": "markdown",
            "metadata": {},
            "source": "Now that the WML service has been bound and the subscription has been created, we need to send a request to the model before we configure OpenScale. This allows OpenScale to create a payload log in the datamart with the correct schema, so it can capture data coming into and out of the model. First, the code gets the model deployment's endpoint URL, and then sends a few records for predictions."
        },
        {
            "cell_type": "code",
            "execution_count": 72,
            "metadata": {
                "scrolled": true
            },
            "outputs": [
                {
                    "name": "stdout",
                    "output_type": "stream",
                    "text": "96288431-73b0-4d30-8358-13712354afdf\nhttps://us-south.ml.cloud.ibm.com/v3/wml_instances/a73bf76d-a663-448a-b771-4f651f73d54e/deployments/96288431-73b0-4d30-8358-13712354afdf/online\n"
                }
            ],
            "source": "credit_risk_scoring_endpoint = None\nprint(deployment_uid)\n\nfor deployment in wml_client.deployments.get_details()['resources']:\n    if deployment_uid in deployment['metadata']['guid']:\n        credit_risk_scoring_endpoint = deployment['entity']['scoring_url']\n        \nprint(credit_risk_scoring_endpoint)"
        },
        {
            "cell_type": "code",
            "execution_count": 73,
            "metadata": {
                "scrolled": true
            },
            "outputs": [
                {
                    "name": "stdout",
                    "output_type": "stream",
                    "text": "Single record scoring result: \n fields: ['CheckingStatus', 'LoanDuration', 'CreditHistory', 'LoanPurpose', 'LoanAmount', 'ExistingSavings', 'EmploymentDuration', 'InstallmentPercent', 'Sex', 'OthersOnLoan', 'CurrentResidenceDuration', 'OwnsProperty', 'Age', 'InstallmentPlans', 'Housing', 'ExistingCreditsCount', 'Job', 'Dependents', 'Telephone', 'ForeignWorker', 'CheckingStatus_IX', 'CreditHistory_IX', 'EmploymentDuration_IX', 'ExistingSavings_IX', 'ForeignWorker_IX', 'Housing_IX', 'InstallmentPlans_IX', 'Job_IX', 'LoanPurpose_IX', 'OthersOnLoan_IX', 'OwnsProperty_IX', 'Sex_IX', 'Telephone_IX', 'features', 'rawPrediction', 'probability', 'prediction', 'predictedLabel'] \n values:  ['no_checking', 13, 'credits_paid_to_date', 'car_new', 1343, '100_to_500', '1_to_4', 2, 'female', 'none', 3, 'savings_insurance', 46, 'none', 'own', 2, 'skilled', 1, 'none', 'yes', 0.0, 1.0, 0.0, 1.0, 0.0, 0.0, 0.0, 0.0, 0.0, 0.0, 0.0, 1.0, 0.0, [21, [1, 3, 5, 13, 14, 15, 16, 17, 18, 19, 20], [1.0, 1.0, 1.0, 13.0, 1343.0, 2.0, 3.0, 13.0, 46.0, 2.0, 1.0]], [13.66863229474153, 6.331367705258472], [0.6834316147370765, 0.31656838526292364], 0.0, 'No Risk']\n"
                }
            ],
            "source": "fields = [\"CheckingStatus\",\"LoanDuration\",\"CreditHistory\",\"LoanPurpose\",\"LoanAmount\",\"ExistingSavings\",\"EmploymentDuration\",\"InstallmentPercent\",\"Sex\",\"OthersOnLoan\",\"CurrentResidenceDuration\",\"OwnsProperty\",\"Age\",\"InstallmentPlans\",\"Housing\",\"ExistingCreditsCount\",\"Job\",\"Dependents\",\"Telephone\",\"ForeignWorker\"]\nvalues = [\n  [\"no_checking\",13,\"credits_paid_to_date\",\"car_new\",1343,\"100_to_500\",\"1_to_4\",2,\"female\",\"none\",3,\"savings_insurance\",46,\"none\",\"own\",2,\"skilled\",1,\"none\",\"yes\"],\n  [\"no_checking\",24,\"prior_payments_delayed\",\"furniture\",4567,\"500_to_1000\",\"1_to_4\",4,\"male\",\"none\",4,\"savings_insurance\",36,\"none\",\"free\",2,\"management_self-employed\",1,\"none\",\"yes\"],\n  [\"0_to_200\",26,\"all_credits_paid_back\",\"car_new\",863,\"less_100\",\"less_1\",2,\"female\",\"co-applicant\",2,\"real_estate\",38,\"none\",\"own\",1,\"skilled\",1,\"none\",\"yes\"],\n  [\"0_to_200\",14,\"no_credits\",\"car_new\",2368,\"less_100\",\"1_to_4\",3,\"female\",\"none\",3,\"real_estate\",29,\"none\",\"own\",1,\"skilled\",1,\"none\",\"yes\"],\n  [\"0_to_200\",4,\"no_credits\",\"car_new\",250,\"less_100\",\"unemployed\",2,\"female\",\"none\",3,\"real_estate\",23,\"none\",\"rent\",1,\"management_self-employed\",1,\"none\",\"yes\"],\n  [\"no_checking\",17,\"credits_paid_to_date\",\"car_new\",832,\"100_to_500\",\"1_to_4\",2,\"male\",\"none\",2,\"real_estate\",42,\"none\",\"own\",1,\"skilled\",1,\"none\",\"yes\"],\n  [\"no_checking\",33,\"outstanding_credit\",\"appliances\",5696,\"unknown\",\"greater_7\",4,\"male\",\"co-applicant\",4,\"unknown\",54,\"none\",\"free\",2,\"skilled\",1,\"yes\",\"yes\"],\n  [\"0_to_200\",13,\"prior_payments_delayed\",\"retraining\",1375,\"100_to_500\",\"4_to_7\",3,\"male\",\"none\",3,\"real_estate\",37,\"none\",\"own\",2,\"management_self-employed\",1,\"none\",\"yes\"]\n]\n\npayload_scoring = {\"fields\": fields,\"values\": values}\nscoring_response = wml_client.deployments.score(credit_risk_scoring_endpoint, payload_scoring)\n\nprint('Single record scoring result:', '\\n fields:', scoring_response['fields'], '\\n values: ', scoring_response['values'][0])"
        },
        {
            "cell_type": "code",
            "execution_count": 74,
            "metadata": {},
            "outputs": [
                {
                    "data": {
                        "text/plain": "8"
                    },
                    "execution_count": 74,
                    "metadata": {},
                    "output_type": "execute_result"
                }
            ],
            "source": "time.sleep(10)\nsubscription.payload_logging.get_records_count()"
        },
        {
            "cell_type": "markdown",
            "metadata": {},
            "source": "# Quality monitoring and feedback logging <a name=\"quality\"></a>"
        },
        {
            "cell_type": "markdown",
            "metadata": {},
            "source": "## Enable quality monitoring"
        },
        {
            "cell_type": "markdown",
            "metadata": {},
            "source": "The code below waits ten seconds to allow the payload logging table to be set up before it begins enabling monitors. First, it turns on the quality (accuracy) monitor and sets an alert threshold of 70%. OpenScale will show an alert on the dashboard if the model accuracy measurement (area under the curve, in the case of a binary classifier) falls below this threshold.\n\nThe second paramater supplied, min_records, specifies the minimum number of feedback records OpenScale needs before it calculates a new measurement. The quality monitor runs hourly, but the accuracy reading in the dashboard will not change until an additional 50 feedback records have been added, via the user interface, the Python client, or the supplied feedback endpoint."
        },
        {
            "cell_type": "code",
            "execution_count": 75,
            "metadata": {
                "scrolled": true
            },
            "outputs": [],
            "source": "time.sleep(10)\nsubscription.quality_monitoring.enable(threshold=0.7, min_records=50)"
        },
        {
            "cell_type": "markdown",
            "metadata": {},
            "source": "## Feedback logging"
        },
        {
            "cell_type": "markdown",
            "metadata": {},
            "source": "The code below downloads and stores enough feedback data to meet the minimum threshold so that OpenScale can calculate a new accuracy measurement. It then kicks off the accuracy monitor. The monitors run hourly, or can be initiated via the Python API, the REST API, or the graphical user interface."
        },
        {
            "cell_type": "code",
            "execution_count": 76,
            "metadata": {},
            "outputs": [
                {
                    "name": "stdout",
                    "output_type": "stream",
                    "text": "-rw-r--r-- 1 spark 4294967294 17K Dec  6 12:35 additional_feedback_data.json\r\n"
                }
            ],
            "source": "with io.capture_output() as captured:\n    !wget https://raw.githubusercontent.com/pmservice/ai-openscale-tutorials/master/assets/historical_data/german_credit_risk/wml/additional_feedback_data.json -O additional_feedback_data.json\n!ls -lh additional_feedback_data.json"
        },
        {
            "cell_type": "code",
            "execution_count": 77,
            "metadata": {},
            "outputs": [],
            "source": "with open('additional_feedback_data.json') as feedback_file:\n    additional_feedback_data = json.load(feedback_file)\n    \nsubscription.feedback_logging.store(additional_feedback_data['data'])"
        },
        {
            "cell_type": "code",
            "execution_count": 78,
            "metadata": {
                "scrolled": true
            },
            "outputs": [
                {
                    "data": {
                        "text/html": "<HTML>\n        <body>\n            <h3>Feedback_3259ea9f-f9aa-4eed-add6-ab80f77ef6c5 (binding_id=a73bf76d-a663-448a-b771-4f651f73d54e, subscription_id=3259ea9f-f9aa-4eed-add6-ab80f77ef6c5)</h3>\n            <table style='border: 1px solid #dddddd; font-family: Courier'>\n                <th style='border: 1px solid #dddddd'>CheckingStatus</th><th style='border: 1px solid #dddddd'>LoanDuration</th><th style='border: 1px solid #dddddd'>CreditHistory</th><th style='border: 1px solid #dddddd'>LoanPurpose</th><th style='border: 1px solid #dddddd'>LoanAmount</th><th style='border: 1px solid #dddddd'>ExistingSavings</th><th style='border: 1px solid #dddddd'>EmploymentDuration</th><th style='border: 1px solid #dddddd'>InstallmentPercent</th><th style='border: 1px solid #dddddd'>Sex</th><th style='border: 1px solid #dddddd'>OthersOnLoan</th><th style='border: 1px solid #dddddd'>CurrentResidenceDuration</th><th style='border: 1px solid #dddddd'>OwnsProperty</th><th style='border: 1px solid #dddddd'>Age</th><th style='border: 1px solid #dddddd'>InstallmentPlans</th><th style='border: 1px solid #dddddd'>Housing</th><th style='border: 1px solid #dddddd'>ExistingCreditsCount</th><th style='border: 1px solid #dddddd'>Job</th><th style='border: 1px solid #dddddd'>Dependents</th><th style='border: 1px solid #dddddd'>Telephone</th><th style='border: 1px solid #dddddd'>ForeignWorker</th><th style='border: 1px solid #dddddd'>Risk</th><th style='border: 1px solid #dddddd'>_training</th>\n                <tr><td style='border: 1px solid #dddddd'>less_0</td><td style='border: 1px solid #dddddd'>10</td><td style='border: 1px solid #dddddd'>all_credits_paid_back</td><td style='border: 1px solid #dddddd'>car_new</td><td style='border: 1px solid #dddddd'>250</td><td style='border: 1px solid #dddddd'>500_to_1000</td><td style='border: 1px solid #dddddd'>4_to_7</td><td style='border: 1px solid #dddddd'>3</td><td style='border: 1px solid #dddddd'>male</td><td style='border: 1px solid #dddddd'>none</td><td style='border: 1px solid #dddddd'>2</td><td style='border: 1px solid #dddddd'>real_estate</td><td style='border: 1px solid #dddddd'>23</td><td style='border: 1px solid #dddddd'>none</td><td style='border: 1px solid #dddddd'>rent</td><td style='border: 1px solid #dddddd'>1</td><td style='border: 1px solid #dddddd'>skilled</td><td style='border: 1px solid #dddddd'>1</td><td style='border: 1px solid #dddddd'>none</td><td style='border: 1px solid #dddddd'>yes</td><td style='border: 1px solid #dddddd'>No Risk</td><td style='border: 1px solid #dddddd'>2019-12-06 12:35:53.315615+00:00</td></tr><tr><td style='border: 1px solid #dddddd'>no_checking</td><td style='border: 1px solid #dddddd'>23</td><td style='border: 1px solid #dddddd'>prior_payments_delayed</td><td style='border: 1px solid #dddddd'>appliances</td><td style='border: 1px solid #dddddd'>6964</td><td style='border: 1px solid #dddddd'>100_to_500</td><td style='border: 1px solid #dddddd'>4_to_7</td><td style='border: 1px solid #dddddd'>4</td><td style='border: 1px solid #dddddd'>female</td><td style='border: 1px solid #dddddd'>none</td><td style='border: 1px solid #dddddd'>3</td><td style='border: 1px solid #dddddd'>car_other</td><td style='border: 1px solid #dddddd'>39</td><td style='border: 1px solid #dddddd'>none</td><td style='border: 1px solid #dddddd'>own</td><td style='border: 1px solid #dddddd'>1</td><td style='border: 1px solid #dddddd'>skilled</td><td style='border: 1px solid #dddddd'>1</td><td style='border: 1px solid #dddddd'>none</td><td style='border: 1px solid #dddddd'>yes</td><td style='border: 1px solid #dddddd'>Risk</td><td style='border: 1px solid #dddddd'>2019-12-06 12:35:53.315615+00:00</td></tr><tr><td style='border: 1px solid #dddddd'>0_to_200</td><td style='border: 1px solid #dddddd'>30</td><td style='border: 1px solid #dddddd'>outstanding_credit</td><td style='border: 1px solid #dddddd'>appliances</td><td style='border: 1px solid #dddddd'>3464</td><td style='border: 1px solid #dddddd'>100_to_500</td><td style='border: 1px solid #dddddd'>greater_7</td><td style='border: 1px solid #dddddd'>3</td><td style='border: 1px solid #dddddd'>male</td><td style='border: 1px solid #dddddd'>guarantor</td><td style='border: 1px solid #dddddd'>4</td><td style='border: 1px solid #dddddd'>savings_insurance</td><td style='border: 1px solid #dddddd'>51</td><td style='border: 1px solid #dddddd'>stores</td><td style='border: 1px solid #dddddd'>free</td><td style='border: 1px solid #dddddd'>1</td><td style='border: 1px solid #dddddd'>skilled</td><td style='border: 1px solid #dddddd'>1</td><td style='border: 1px solid #dddddd'>yes</td><td style='border: 1px solid #dddddd'>yes</td><td style='border: 1px solid #dddddd'>Risk</td><td style='border: 1px solid #dddddd'>2019-12-06 12:35:53.315615+00:00</td></tr><tr><td style='border: 1px solid #dddddd'>no_checking</td><td style='border: 1px solid #dddddd'>23</td><td style='border: 1px solid #dddddd'>outstanding_credit</td><td style='border: 1px solid #dddddd'>car_used</td><td style='border: 1px solid #dddddd'>2681</td><td style='border: 1px solid #dddddd'>500_to_1000</td><td style='border: 1px solid #dddddd'>greater_7</td><td style='border: 1px solid #dddddd'>4</td><td style='border: 1px solid #dddddd'>male</td><td style='border: 1px solid #dddddd'>none</td><td style='border: 1px solid #dddddd'>3</td><td style='border: 1px solid #dddddd'>car_other</td><td style='border: 1px solid #dddddd'>33</td><td style='border: 1px solid #dddddd'>stores</td><td style='border: 1px solid #dddddd'>free</td><td style='border: 1px solid #dddddd'>1</td><td style='border: 1px solid #dddddd'>unskilled</td><td style='border: 1px solid #dddddd'>1</td><td style='border: 1px solid #dddddd'>yes</td><td style='border: 1px solid #dddddd'>yes</td><td style='border: 1px solid #dddddd'>No Risk</td><td style='border: 1px solid #dddddd'>2019-12-06 12:35:53.315615+00:00</td></tr><tr><td style='border: 1px solid #dddddd'>0_to_200</td><td style='border: 1px solid #dddddd'>18</td><td style='border: 1px solid #dddddd'>prior_payments_delayed</td><td style='border: 1px solid #dddddd'>furniture</td><td style='border: 1px solid #dddddd'>1673</td><td style='border: 1px solid #dddddd'>less_100</td><td style='border: 1px solid #dddddd'>1_to_4</td><td style='border: 1px solid #dddddd'>2</td><td style='border: 1px solid #dddddd'>male</td><td style='border: 1px solid #dddddd'>none</td><td style='border: 1px solid #dddddd'>3</td><td style='border: 1px solid #dddddd'>car_other</td><td style='border: 1px solid #dddddd'>30</td><td style='border: 1px solid #dddddd'>none</td><td style='border: 1px solid #dddddd'>own</td><td style='border: 1px solid #dddddd'>2</td><td style='border: 1px solid #dddddd'>skilled</td><td style='border: 1px solid #dddddd'>1</td><td style='border: 1px solid #dddddd'>none</td><td style='border: 1px solid #dddddd'>yes</td><td style='border: 1px solid #dddddd'>Risk</td><td style='border: 1px solid #dddddd'>2019-12-06 12:35:53.315615+00:00</td></tr><tr><td style='border: 1px solid #dddddd'>no_checking</td><td style='border: 1px solid #dddddd'>44</td><td style='border: 1px solid #dddddd'>outstanding_credit</td><td style='border: 1px solid #dddddd'>radio_tv</td><td style='border: 1px solid #dddddd'>3476</td><td style='border: 1px solid #dddddd'>unknown</td><td style='border: 1px solid #dddddd'>greater_7</td><td style='border: 1px solid #dddddd'>4</td><td style='border: 1px solid #dddddd'>male</td><td style='border: 1px solid #dddddd'>co-applicant</td><td style='border: 1px solid #dddddd'>4</td><td style='border: 1px solid #dddddd'>unknown</td><td style='border: 1px solid #dddddd'>60</td><td style='border: 1px solid #dddddd'>none</td><td style='border: 1px solid #dddddd'>free</td><td style='border: 1px solid #dddddd'>2</td><td style='border: 1px solid #dddddd'>skilled</td><td style='border: 1px solid #dddddd'>2</td><td style='border: 1px solid #dddddd'>yes</td><td style='border: 1px solid #dddddd'>yes</td><td style='border: 1px solid #dddddd'>Risk</td><td style='border: 1px solid #dddddd'>2019-12-06 12:35:53.315615+00:00</td></tr><tr><td style='border: 1px solid #dddddd'>less_0</td><td style='border: 1px solid #dddddd'>8</td><td style='border: 1px solid #dddddd'>no_credits</td><td style='border: 1px solid #dddddd'>education</td><td style='border: 1px solid #dddddd'>803</td><td style='border: 1px solid #dddddd'>less_100</td><td style='border: 1px solid #dddddd'>unemployed</td><td style='border: 1px solid #dddddd'>1</td><td style='border: 1px solid #dddddd'>male</td><td style='border: 1px solid #dddddd'>none</td><td style='border: 1px solid #dddddd'>1</td><td style='border: 1px solid #dddddd'>savings_insurance</td><td style='border: 1px solid #dddddd'>19</td><td style='border: 1px solid #dddddd'>stores</td><td style='border: 1px solid #dddddd'>rent</td><td style='border: 1px solid #dddddd'>1</td><td style='border: 1px solid #dddddd'>skilled</td><td style='border: 1px solid #dddddd'>1</td><td style='border: 1px solid #dddddd'>none</td><td style='border: 1px solid #dddddd'>yes</td><td style='border: 1px solid #dddddd'>No Risk</td><td style='border: 1px solid #dddddd'>2019-12-06 12:35:53.315615+00:00</td></tr><tr><td style='border: 1px solid #dddddd'>0_to_200</td><td style='border: 1px solid #dddddd'>7</td><td style='border: 1px solid #dddddd'>all_credits_paid_back</td><td style='border: 1px solid #dddddd'>car_new</td><td style='border: 1px solid #dddddd'>250</td><td style='border: 1px solid #dddddd'>less_100</td><td style='border: 1px solid #dddddd'>unemployed</td><td style='border: 1px solid #dddddd'>1</td><td style='border: 1px solid #dddddd'>male</td><td style='border: 1px solid #dddddd'>none</td><td style='border: 1px solid #dddddd'>1</td><td style='border: 1px solid #dddddd'>real_estate</td><td style='border: 1px solid #dddddd'>19</td><td style='border: 1px solid #dddddd'>stores</td><td style='border: 1px solid #dddddd'>rent</td><td style='border: 1px solid #dddddd'>1</td><td style='border: 1px solid #dddddd'>skilled</td><td style='border: 1px solid #dddddd'>1</td><td style='border: 1px solid #dddddd'>none</td><td style='border: 1px solid #dddddd'>yes</td><td style='border: 1px solid #dddddd'>No Risk</td><td style='border: 1px solid #dddddd'>2019-12-06 12:35:53.315615+00:00</td></tr><tr><td style='border: 1px solid #dddddd'>0_to_200</td><td style='border: 1px solid #dddddd'>33</td><td style='border: 1px solid #dddddd'>credits_paid_to_date</td><td style='border: 1px solid #dddddd'>radio_tv</td><td style='border: 1px solid #dddddd'>3548</td><td style='border: 1px solid #dddddd'>100_to_500</td><td style='border: 1px solid #dddddd'>1_to_4</td><td style='border: 1px solid #dddddd'>3</td><td style='border: 1px solid #dddddd'>male</td><td style='border: 1px solid #dddddd'>none</td><td style='border: 1px solid #dddddd'>4</td><td style='border: 1px solid #dddddd'>car_other</td><td style='border: 1px solid #dddddd'>28</td><td style='border: 1px solid #dddddd'>none</td><td style='border: 1px solid #dddddd'>own</td><td style='border: 1px solid #dddddd'>2</td><td style='border: 1px solid #dddddd'>skilled</td><td style='border: 1px solid #dddddd'>1</td><td style='border: 1px solid #dddddd'>yes</td><td style='border: 1px solid #dddddd'>yes</td><td style='border: 1px solid #dddddd'>Risk</td><td style='border: 1px solid #dddddd'>2019-12-06 12:35:53.315615+00:00</td></tr><tr><td style='border: 1px solid #dddddd'>no_checking</td><td style='border: 1px solid #dddddd'>24</td><td style='border: 1px solid #dddddd'>prior_payments_delayed</td><td style='border: 1px solid #dddddd'>retraining</td><td style='border: 1px solid #dddddd'>4158</td><td style='border: 1px solid #dddddd'>100_to_500</td><td style='border: 1px solid #dddddd'>greater_7</td><td style='border: 1px solid #dddddd'>3</td><td style='border: 1px solid #dddddd'>female</td><td style='border: 1px solid #dddddd'>none</td><td style='border: 1px solid #dddddd'>2</td><td style='border: 1px solid #dddddd'>savings_insurance</td><td style='border: 1px solid #dddddd'>35</td><td style='border: 1px solid #dddddd'>stores</td><td style='border: 1px solid #dddddd'>own</td><td style='border: 1px solid #dddddd'>1</td><td style='border: 1px solid #dddddd'>unskilled</td><td style='border: 1px solid #dddddd'>2</td><td style='border: 1px solid #dddddd'>none</td><td style='border: 1px solid #dddddd'>yes</td><td style='border: 1px solid #dddddd'>Risk</td><td style='border: 1px solid #dddddd'>2019-12-06 12:35:53.315615+00:00</td></tr>\n            </table>\n        </body>\n        </HTML>",
                        "text/plain": "<IPython.core.display.HTML object>"
                    },
                    "metadata": {},
                    "output_type": "display_data"
                }
            ],
            "source": "subscription.feedback_logging.show_table()"
        },
        {
            "cell_type": "code",
            "execution_count": 79,
            "metadata": {
                "scrolled": true
            },
            "outputs": [
                {
                    "name": "stdout",
                    "output_type": "stream",
                    "text": "\n\n================================================================================\n\n Waiting for end of quality monitoring run 5ceff88d-d110-4d7f-b1c4-ed9e90f43aae \n\n================================================================================\n\n\n\ninitializing\nrunning\ncompleted\n\n---------------------------\n Successfully finished run \n---------------------------\n\n\n"
                }
            ],
            "source": "run_details = subscription.quality_monitoring.run(background_mode=False)"
        },
        {
            "cell_type": "code",
            "execution_count": 80,
            "metadata": {
                "scrolled": true
            },
            "outputs": [
                {
                    "data": {
                        "text/html": "<HTML>\n        <body>\n            <h3>QualityMetrics (binding_id=a73bf76d-a663-448a-b771-4f651f73d54e, subscription_id=3259ea9f-f9aa-4eed-add6-ab80f77ef6c5)</h3>\n            <table style='border: 1px solid #dddddd; font-family: Courier'>\n                <th style='border: 1px solid #dddddd'>ts</th><th style='border: 1px solid #dddddd'>id</th><th style='border: 1px solid #dddddd'>measurement_id</th><th style='border: 1px solid #dddddd'>value</th><th style='border: 1px solid #dddddd'>lower limit</th><th style='border: 1px solid #dddddd'>upper limit</th><th style='border: 1px solid #dddddd'>tags</th><th style='border: 1px solid #dddddd'>binding_id</th><th style='border: 1px solid #dddddd'>subscription_id</th><th style='border: 1px solid #dddddd'>deployment_id</th>\n                <tr><td style='border: 1px solid #dddddd'>2019-12-06 12:35:58.072000+00:00</td><td style='border: 1px solid #dddddd'>true_positive_rate</td><td style='border: 1px solid #dddddd'>761094d3-7f97-47bb-bde6-dc29fe4f49e0</td><td style='border: 1px solid #dddddd'>0.3333333333333333</td><td style='border: 1px solid #dddddd'></td><td style='border: 1px solid #dddddd'></td><td style='border: 1px solid #dddddd'>model_type: original</td><td style='border: 1px solid #dddddd'>a73bf76d-a663-448a-b771-4f651f73d54e</td><td style='border: 1px solid #dddddd'>3259ea9f-f9aa-4eed-add6-ab80f77ef6c5</td><td style='border: 1px solid #dddddd'>96288431-73b0-4d30-8358-13712354afdf</td></tr><tr><td style='border: 1px solid #dddddd'>2019-12-06 12:35:58.072000+00:00</td><td style='border: 1px solid #dddddd'>area_under_roc</td><td style='border: 1px solid #dddddd'>761094d3-7f97-47bb-bde6-dc29fe4f49e0</td><td style='border: 1px solid #dddddd'>0.6358974358974359</td><td style='border: 1px solid #dddddd'>0.7</td><td style='border: 1px solid #dddddd'></td><td style='border: 1px solid #dddddd'>model_type: original</td><td style='border: 1px solid #dddddd'>a73bf76d-a663-448a-b771-4f651f73d54e</td><td style='border: 1px solid #dddddd'>3259ea9f-f9aa-4eed-add6-ab80f77ef6c5</td><td style='border: 1px solid #dddddd'>96288431-73b0-4d30-8358-13712354afdf</td></tr><tr><td style='border: 1px solid #dddddd'>2019-12-06 12:35:58.072000+00:00</td><td style='border: 1px solid #dddddd'>precision</td><td style='border: 1px solid #dddddd'>761094d3-7f97-47bb-bde6-dc29fe4f49e0</td><td style='border: 1px solid #dddddd'>0.7333333333333333</td><td style='border: 1px solid #dddddd'></td><td style='border: 1px solid #dddddd'></td><td style='border: 1px solid #dddddd'>model_type: original</td><td style='border: 1px solid #dddddd'>a73bf76d-a663-448a-b771-4f651f73d54e</td><td style='border: 1px solid #dddddd'>3259ea9f-f9aa-4eed-add6-ab80f77ef6c5</td><td style='border: 1px solid #dddddd'>96288431-73b0-4d30-8358-13712354afdf</td></tr><tr><td style='border: 1px solid #dddddd'>2019-12-06 12:35:58.072000+00:00</td><td style='border: 1px solid #dddddd'>f1_measure</td><td style='border: 1px solid #dddddd'>761094d3-7f97-47bb-bde6-dc29fe4f49e0</td><td style='border: 1px solid #dddddd'>0.45833333333333326</td><td style='border: 1px solid #dddddd'></td><td style='border: 1px solid #dddddd'></td><td style='border: 1px solid #dddddd'>model_type: original</td><td style='border: 1px solid #dddddd'>a73bf76d-a663-448a-b771-4f651f73d54e</td><td style='border: 1px solid #dddddd'>3259ea9f-f9aa-4eed-add6-ab80f77ef6c5</td><td style='border: 1px solid #dddddd'>96288431-73b0-4d30-8358-13712354afdf</td></tr><tr><td style='border: 1px solid #dddddd'>2019-12-06 12:35:58.072000+00:00</td><td style='border: 1px solid #dddddd'>accuracy</td><td style='border: 1px solid #dddddd'>761094d3-7f97-47bb-bde6-dc29fe4f49e0</td><td style='border: 1px solid #dddddd'>0.7346938775510204</td><td style='border: 1px solid #dddddd'></td><td style='border: 1px solid #dddddd'></td><td style='border: 1px solid #dddddd'>model_type: original</td><td style='border: 1px solid #dddddd'>a73bf76d-a663-448a-b771-4f651f73d54e</td><td style='border: 1px solid #dddddd'>3259ea9f-f9aa-4eed-add6-ab80f77ef6c5</td><td style='border: 1px solid #dddddd'>96288431-73b0-4d30-8358-13712354afdf</td></tr><tr><td style='border: 1px solid #dddddd'>2019-12-06 12:35:58.072000+00:00</td><td style='border: 1px solid #dddddd'>log_loss</td><td style='border: 1px solid #dddddd'>761094d3-7f97-47bb-bde6-dc29fe4f49e0</td><td style='border: 1px solid #dddddd'>0.433790561375518</td><td style='border: 1px solid #dddddd'></td><td style='border: 1px solid #dddddd'></td><td style='border: 1px solid #dddddd'>model_type: original</td><td style='border: 1px solid #dddddd'>a73bf76d-a663-448a-b771-4f651f73d54e</td><td style='border: 1px solid #dddddd'>3259ea9f-f9aa-4eed-add6-ab80f77ef6c5</td><td style='border: 1px solid #dddddd'>96288431-73b0-4d30-8358-13712354afdf</td></tr><tr><td style='border: 1px solid #dddddd'>2019-12-06 12:35:58.072000+00:00</td><td style='border: 1px solid #dddddd'>false_positive_rate</td><td style='border: 1px solid #dddddd'>761094d3-7f97-47bb-bde6-dc29fe4f49e0</td><td style='border: 1px solid #dddddd'>0.06153846153846154</td><td style='border: 1px solid #dddddd'></td><td style='border: 1px solid #dddddd'></td><td style='border: 1px solid #dddddd'>model_type: original</td><td style='border: 1px solid #dddddd'>a73bf76d-a663-448a-b771-4f651f73d54e</td><td style='border: 1px solid #dddddd'>3259ea9f-f9aa-4eed-add6-ab80f77ef6c5</td><td style='border: 1px solid #dddddd'>96288431-73b0-4d30-8358-13712354afdf</td></tr><tr><td style='border: 1px solid #dddddd'>2019-12-06 12:35:58.072000+00:00</td><td style='border: 1px solid #dddddd'>area_under_pr</td><td style='border: 1px solid #dddddd'>761094d3-7f97-47bb-bde6-dc29fe4f49e0</td><td style='border: 1px solid #dddddd'>0.6011337868480725</td><td style='border: 1px solid #dddddd'></td><td style='border: 1px solid #dddddd'></td><td style='border: 1px solid #dddddd'>model_type: original</td><td style='border: 1px solid #dddddd'>a73bf76d-a663-448a-b771-4f651f73d54e</td><td style='border: 1px solid #dddddd'>3259ea9f-f9aa-4eed-add6-ab80f77ef6c5</td><td style='border: 1px solid #dddddd'>96288431-73b0-4d30-8358-13712354afdf</td></tr><tr><td style='border: 1px solid #dddddd'>2019-12-06 12:35:58.072000+00:00</td><td style='border: 1px solid #dddddd'>recall</td><td style='border: 1px solid #dddddd'>761094d3-7f97-47bb-bde6-dc29fe4f49e0</td><td style='border: 1px solid #dddddd'>0.3333333333333333</td><td style='border: 1px solid #dddddd'></td><td style='border: 1px solid #dddddd'></td><td style='border: 1px solid #dddddd'>model_type: original</td><td style='border: 1px solid #dddddd'>a73bf76d-a663-448a-b771-4f651f73d54e</td><td style='border: 1px solid #dddddd'>3259ea9f-f9aa-4eed-add6-ab80f77ef6c5</td><td style='border: 1px solid #dddddd'>96288431-73b0-4d30-8358-13712354afdf</td></tr>\n            </table>\n        </body>\n        </HTML>",
                        "text/plain": "<IPython.core.display.HTML object>"
                    },
                    "metadata": {},
                    "output_type": "display_data"
                }
            ],
            "source": "time.sleep(10)\nsubscription.quality_monitoring.show_table()"
        },
        {
            "cell_type": "code",
            "execution_count": 81,
            "metadata": {},
            "outputs": [
                {
                    "data": {
                        "image/png": "[encoded data removed]",
                        "text/plain": "<Figure size 432x288 with 1 Axes>"
                    },
                    "metadata": {
                        "needs_background": "light"
                    },
                    "output_type": "display_data"
                }
            ],
            "source": "%matplotlib inline\n\nquality_pd = subscription.quality_monitoring.get_table_content(format='pandas')\nquality_pd.plot.barh(x='id', y='value');"
        },
        {
            "cell_type": "markdown",
            "metadata": {},
            "source": "# Fairness, drift monitoring and explanations <a name=\"fairness\"></a>"
        },
        {
            "cell_type": "markdown",
            "metadata": {},
            "source": "### Fairness configuration\n\nThe code below configures fairness monitoring for our model. It turns on monitoring for two features, Sex and Age. In each case, we must specify:\n\n  * Which model feature to monitor\n  * One or more **majority** groups, which are values of that feature that we expect to receive a higher percentage of favorable outcomes\n  * One or more **minority** groups, which are values of that feature that we expect to receive a higher percentage of unfavorable outcomes\n  * The threshold at which we would like OpenScale to display an alert if the fairness measurement falls below (in this case, 95%)\n\nAdditionally, we must specify which outcomes from the model are favourable outcomes, and which are unfavourable. We must also provide the number of records OpenScale will use to calculate the fairness score. In this case, OpenScale's fairness monitor will run hourly, but will not calculate a new fairness rating until at least 200 records have been added. Finally, to calculate fairness, OpenScale must perform some calculations on the training data, so we provide the dataframe containing the data."
        },
        {
            "cell_type": "code",
            "execution_count": 82,
            "metadata": {
                "scrolled": true
            },
            "outputs": [],
            "source": "subscription.fairness_monitoring.enable(\n            features=[\n                Feature(\"Sex\", majority=['male'], minority=['female'], threshold=0.95),\n                Feature(\"Age\", majority=[[26,75]], minority=[[18,25]], threshold=0.95)\n            ],\n            favourable_classes=['No Risk'],\n            unfavourable_classes=['Risk'],\n            min_records=200,\n            training_data=pd_data\n        )"
        },
        {
            "cell_type": "markdown",
            "metadata": {},
            "source": "### Drift configuration"
        },
        {
            "cell_type": "code",
            "execution_count": 83,
            "metadata": {},
            "outputs": [
                {
                    "data": {
                        "text/plain": "{'config_status': {'model_name': None, 'state': 'new'},\n 'data_drift_enabled': True,\n 'drift_threshold': 0.05,\n 'is_schedule_enabled': True,\n 'min_samples': 200,\n 'model_drift_enabled': True,\n 'schedule_repeat_interval': 3,\n 'schedule_repeat_type': 'hour'}"
                    },
                    "execution_count": 83,
                    "metadata": {},
                    "output_type": "execute_result"
                }
            ],
            "source": "subscription.drift_monitoring.enable(threshold=0.05, min_records=200)"
        },
        {
            "cell_type": "code",
            "execution_count": 84,
            "metadata": {
                "scrolled": true
            },
            "outputs": [
                {
                    "name": "stdout",
                    "output_type": "stream",
                    "text": "12:36:50 new\n12:37:20 in_progress\n12:37:50 in_progress\n12:38:21 in_progress\n12:38:51 in_progress\nfinished\n"
                }
            ],
            "source": "drift_status = None\nwhile drift_status != 'finished':\n    drift_details = subscription.drift_monitoring.get_details()\n    drift_status = drift_details['parameters']['config_status']['state']\n    if drift_status != 'finished':\n        print(datetime.utcnow().strftime('%H:%M:%S'), drift_status)\n        time.sleep(30)\nprint(drift_status)"
        },
        {
            "cell_type": "markdown",
            "metadata": {},
            "source": "## Score the model again now that monitoring is configured"
        },
        {
            "cell_type": "markdown",
            "metadata": {},
            "source": "This next section randomly selects 200 records from the data feed and sends those records to the model for predictions. This is enough to exceed the minimum threshold for records set in the previous section, which allows OpenScale to begin calculating fairness."
        },
        {
            "cell_type": "code",
            "execution_count": 85,
            "metadata": {},
            "outputs": [
                {
                    "name": "stdout",
                    "output_type": "stream",
                    "text": "-rw-r--r-- 1 spark 4294967294 3.0M Dec  6 12:39 german_credit_feed.json\r\n"
                }
            ],
            "source": "with io.capture_output() as captured:\n    !wget https://raw.githubusercontent.com/pmservice/ai-openscale-tutorials/master/assets/historical_data/german_credit_risk/wml/german_credit_feed.json -O german_credit_feed.json\n!ls -lh german_credit_feed.json"
        },
        {
            "cell_type": "markdown",
            "metadata": {},
            "source": "Score 200 randomly chosen records"
        },
        {
            "cell_type": "code",
            "execution_count": 86,
            "metadata": {},
            "outputs": [],
            "source": "import random\n\nwith open('german_credit_feed.json', 'r') as scoring_file:\n    scoring_data = json.load(scoring_file)\n\nfields = scoring_data['fields']\nvalues = []\nfor _ in range(200):\n    values.append(random.choice(scoring_data['values']))\npayload_scoring = {\"fields\": fields, \"values\": values}\n\n\nscoring_response = wml_client.deployments.score(credit_risk_scoring_endpoint, payload_scoring)\ntime.sleep(5)"
        },
        {
            "cell_type": "markdown",
            "metadata": {},
            "source": "**Note:** Now in payload table should be total 208 records."
        },
        {
            "cell_type": "code",
            "execution_count": 87,
            "metadata": {},
            "outputs": [
                {
                    "name": "stdout",
                    "output_type": "stream",
                    "text": "Number of records in payload table:  208\n"
                }
            ],
            "source": "print('Number of records in payload table: ', subscription.payload_logging.get_records_count())"
        },
        {
            "cell_type": "markdown",
            "metadata": {},
            "source": "## Run fairness monitor"
        },
        {
            "cell_type": "markdown",
            "metadata": {},
            "source": "Kick off a fairness monitor run on current data. The monitor runs hourly, but can be manually initiated using the Python client, the REST API, or the graphical user interface."
        },
        {
            "cell_type": "code",
            "execution_count": 88,
            "metadata": {
                "scrolled": true
            },
            "outputs": [
                {
                    "name": "stdout",
                    "output_type": "stream",
                    "text": "\n\n=======================================================================\n\n Counting bias for deployment_uid=96288431-73b0-4d30-8358-13712354afdf \n\n=======================================================================\n\n\n\nRUNNING....\nFINISHED\n\n---------------------------\n Successfully finished run \n---------------------------\n\n\n"
                }
            ],
            "source": "fairness_run_details = subscription.fairness_monitoring.run(background_mode=False)"
        },
        {
            "cell_type": "code",
            "execution_count": 89,
            "metadata": {},
            "outputs": [
                {
                    "data": {
                        "text/html": "<HTML>\n        <body>\n            <h3>FairnessMetrics (binding_id=a73bf76d-a663-448a-b771-4f651f73d54e, subscription_id=3259ea9f-f9aa-4eed-add6-ab80f77ef6c5)</h3>\n            <table style='border: 1px solid #dddddd; font-family: Courier'>\n                <th style='border: 1px solid #dddddd'>ts</th><th style='border: 1px solid #dddddd'>feature</th><th style='border: 1px solid #dddddd'>feature_value</th><th style='border: 1px solid #dddddd'>fairness_biased</th><th style='border: 1px solid #dddddd'>fairness_value</th><th style='border: 1px solid #dddddd'>fairness_fav_class</th><th style='border: 1px solid #dddddd'>binding_id</th><th style='border: 1px solid #dddddd'>subscription_id</th><th style='border: 1px solid #dddddd'>asset_revision</th><th style='border: 1px solid #dddddd'>deployment_id</th><th style='border: 1px solid #dddddd'>process</th>\n                \n            </table>\n        </body>\n        </HTML>",
                        "text/plain": "<IPython.core.display.HTML object>"
                    },
                    "metadata": {},
                    "output_type": "display_data"
                }
            ],
            "source": "time.sleep(10)\n\nsubscription.fairness_monitoring.show_table()"
        },
        {
            "cell_type": "markdown",
            "metadata": {},
            "source": "## Run drift monitor\n\n\nKick off a drift monitor run on current data. The monitor runs every hour, but can be manually initiated using the Python client, the REST API."
        },
        {
            "cell_type": "code",
            "execution_count": 90,
            "metadata": {},
            "outputs": [
                {
                    "name": "stdout",
                    "output_type": "stream",
                    "text": "\n\n==========================================\n\n Waiting for end of drift monitoring run  \n\n==========================================\n\n\n\nRUNNING\nCOMPLETED\n\n---------------------------\n Successfully finished run \n---------------------------\n\n\n"
                }
            ],
            "source": "drift_run_details = subscription.drift_monitoring.run(background_mode=False)"
        },
        {
            "cell_type": "code",
            "execution_count": 91,
            "metadata": {},
            "outputs": [
                {
                    "data": {
                        "text/html": "<div>\n<style scoped>\n    .dataframe tbody tr th:only-of-type {\n        vertical-align: middle;\n    }\n\n    .dataframe tbody tr th {\n        vertical-align: top;\n    }\n\n    .dataframe thead th {\n        text-align: right;\n    }\n</style>\n<table border=\"1\" class=\"dataframe\">\n  <thead>\n    <tr style=\"text-align: right;\">\n      <th></th>\n      <th>ts</th>\n      <th>id</th>\n      <th>measurement_id</th>\n      <th>value</th>\n      <th>lower limit</th>\n      <th>upper limit</th>\n      <th>tags</th>\n      <th>binding_id</th>\n      <th>subscription_id</th>\n      <th>deployment_id</th>\n    </tr>\n  </thead>\n  <tbody>\n    <tr>\n      <th>0</th>\n      <td>2019-12-06 12:40:20.620067+00:00</td>\n      <td>data_drift_magnitude</td>\n      <td>3006782c-95b0-4217-a1cc-abfc81c0c154</td>\n      <td>0.086538</td>\n      <td></td>\n      <td></td>\n      <td></td>\n      <td>a73bf76d-a663-448a-b771-4f651f73d54e</td>\n      <td>3259ea9f-f9aa-4eed-add6-ab80f77ef6c5</td>\n      <td>96288431-73b0-4d30-8358-13712354afdf</td>\n    </tr>\n    <tr>\n      <th>1</th>\n      <td>2019-12-06 12:40:20.620067+00:00</td>\n      <td>drift_magnitude</td>\n      <td>3006782c-95b0-4217-a1cc-abfc81c0c154</td>\n      <td>0.049654</td>\n      <td></td>\n      <td>0.05</td>\n      <td></td>\n      <td>a73bf76d-a663-448a-b771-4f651f73d54e</td>\n      <td>3259ea9f-f9aa-4eed-add6-ab80f77ef6c5</td>\n      <td>96288431-73b0-4d30-8358-13712354afdf</td>\n    </tr>\n    <tr>\n      <th>2</th>\n      <td>2019-12-06 12:40:20.620067+00:00</td>\n      <td>predicted_accuracy</td>\n      <td>3006782c-95b0-4217-a1cc-abfc81c0c154</td>\n      <td>0.740346</td>\n      <td></td>\n      <td></td>\n      <td></td>\n      <td>a73bf76d-a663-448a-b771-4f651f73d54e</td>\n      <td>3259ea9f-f9aa-4eed-add6-ab80f77ef6c5</td>\n      <td>96288431-73b0-4d30-8358-13712354afdf</td>\n    </tr>\n  </tbody>\n</table>\n</div>",
                        "text/plain": "                                ts                    id  \\\n0 2019-12-06 12:40:20.620067+00:00  data_drift_magnitude   \n1 2019-12-06 12:40:20.620067+00:00       drift_magnitude   \n2 2019-12-06 12:40:20.620067+00:00    predicted_accuracy   \n\n                         measurement_id     value lower limit upper limit  \\\n0  3006782c-95b0-4217-a1cc-abfc81c0c154  0.086538                           \n1  3006782c-95b0-4217-a1cc-abfc81c0c154  0.049654                    0.05   \n2  3006782c-95b0-4217-a1cc-abfc81c0c154  0.740346                           \n\n  tags                            binding_id  \\\n0       a73bf76d-a663-448a-b771-4f651f73d54e   \n1       a73bf76d-a663-448a-b771-4f651f73d54e   \n2       a73bf76d-a663-448a-b771-4f651f73d54e   \n\n                        subscription_id                         deployment_id  \n0  3259ea9f-f9aa-4eed-add6-ab80f77ef6c5  96288431-73b0-4d30-8358-13712354afdf  \n1  3259ea9f-f9aa-4eed-add6-ab80f77ef6c5  96288431-73b0-4d30-8358-13712354afdf  \n2  3259ea9f-f9aa-4eed-add6-ab80f77ef6c5  96288431-73b0-4d30-8358-13712354afdf  "
                    },
                    "execution_count": 91,
                    "metadata": {},
                    "output_type": "execute_result"
                }
            ],
            "source": "subscription.drift_monitoring.get_table_content()"
        },
        {
            "cell_type": "markdown",
            "metadata": {},
            "source": "**Note:** You can disable drift monitor running code in cell below."
        },
        {
            "cell_type": "code",
            "execution_count": 92,
            "metadata": {},
            "outputs": [],
            "source": "# subscription.drift_monitoring.disable()"
        },
        {
            "cell_type": "markdown",
            "metadata": {},
            "source": "## Configure Explainability"
        },
        {
            "cell_type": "markdown",
            "metadata": {},
            "source": "Finally, we provide OpenScale with the training data to enable and configure the explainability features."
        },
        {
            "cell_type": "code",
            "execution_count": 93,
            "metadata": {
                "scrolled": true
            },
            "outputs": [],
            "source": "from ibm_ai_openscale.supporting_classes import *\n\nsubscription.explainability.enable(training_data=pd_data)"
        },
        {
            "cell_type": "code",
            "execution_count": 94,
            "metadata": {
                "scrolled": true
            },
            "outputs": [],
            "source": "explainability_details = subscription.explainability.get_details()"
        },
        {
            "cell_type": "markdown",
            "metadata": {},
            "source": "## Run explanation for sample record"
        },
        {
            "cell_type": "code",
            "execution_count": 95,
            "metadata": {},
            "outputs": [
                {
                    "name": "stdout",
                    "output_type": "stream",
                    "text": "b0e964ba166c8840305cb4644e7c7e9c-200\n"
                }
            ],
            "source": "transaction_id = subscription.payload_logging.get_table_content(limit=1)['scoring_id'].values[0]\n\nprint(transaction_id)"
        },
        {
            "cell_type": "code",
            "execution_count": 108,
            "metadata": {},
            "outputs": [],
            "source": "transaction_id = 'b0e964ba166c8840305cb4644e7c7e9c-197'\n\n# scoring_id\tpredictedLabel\tprobability\n#b0e964ba166c8840305cb4644e7c7e9c-197\tNo Risk\t[0.5852928320163733, 0.41470716798362667]\n#4\tb0e964ba166c8840305cb4644e7c7e9c-196\tNo Risk\t[0.8846672905246515, 0.11533270947534846]"
        },
        {
            "cell_type": "code",
            "execution_count": null,
            "metadata": {},
            "outputs": [],
            "source": "explain_run = subscription.explainability.run(transaction_id=transaction_id, background_mode=False, cem=False)"
        },
        {
            "cell_type": "code",
            "execution_count": 69,
            "metadata": {},
            "outputs": [
                {
                    "data": {
                        "image/png": "[encoded data removed]",
                        "text/plain": "<Figure size 432x288 with 1 Axes>"
                    },
                    "metadata": {
                        "needs_background": "light"
                    },
                    "output_type": "display_data"
                }
            ],
            "source": "explain_result = pd.DataFrame.from_dict(explain_run['entity']['predictions'][0]['explanation_features'])\nexplain_result.plot.barh(x='feature_name', y='weight', color='g', alpha=0.8);"
        },
        {
            "cell_type": "markdown",
            "metadata": {},
            "source": "# Custom monitors and metrics <a name=\"custom\"></a>"
        },
        {
            "cell_type": "markdown",
            "metadata": {},
            "source": "## Register custom monitor"
        },
        {
            "cell_type": "code",
            "execution_count": 80,
            "metadata": {},
            "outputs": [],
            "source": "def get_definition(monitor_name):\n    monitors_definitions = ai_client.data_mart.monitors.get_details()['monitor_definitions']\n    \n    for definition in monitors_definitions:\n        if monitor_name == definition['entity']['name']:\n            return definition\n    \n    return None"
        },
        {
            "cell_type": "code",
            "execution_count": 81,
            "metadata": {},
            "outputs": [],
            "source": "from ibm_ai_openscale.supporting_classes import Metric, Tag\n\nmonitor_name = 'my model performance'\nmetrics = [Metric(name='sensitivity', lower_limit_default=0.8), Metric(name='specificity', lower_limit_default=0.75)]\ntags = [Tag(name='region', description='customer geographical region')]\n\nexisting_definition = get_definition(monitor_name)\n\nif existing_definition is None:\n    my_monitor = ai_client.data_mart.monitors.add(name=monitor_name, metrics=metrics, tags=tags)\nelse:\n    my_monitor = existing_definition"
        },
        {
            "cell_type": "markdown",
            "metadata": {},
            "source": "### List monitors"
        },
        {
            "cell_type": "markdown",
            "metadata": {},
            "source": "### Get monitors uids and details"
        },
        {
            "cell_type": "code",
            "execution_count": 82,
            "metadata": {},
            "outputs": [
                {
                    "name": "stdout",
                    "output_type": "stream",
                    "text": "my_model_performance\n"
                }
            ],
            "source": "monitor_uid = my_monitor['metadata']['guid']\n\nprint(monitor_uid)"
        },
        {
            "cell_type": "code",
            "execution_count": 83,
            "metadata": {},
            "outputs": [
                {
                    "name": "stdout",
                    "output_type": "stream",
                    "text": "monitor definition details {'entity': {'metrics': [{'expected_direction': 'increasing', 'id': 'sensitivity', 'name': 'sensitivity', 'required': True, 'thresholds': [{'default': 0.8, 'type': 'lower_limit'}]}, {'expected_direction': 'increasing', 'id': 'specificity', 'name': 'specificity', 'required': True, 'thresholds': [{'default': 0.75, 'type': 'lower_limit'}]}], 'name': 'my model performance', 'tags': [{'description': 'customer geographical region', 'id': 'region', 'name': 'region', 'required': True}]}, 'metadata': {'guid': 'my_model_performance', 'url': '/v1/data_marts/27d2155a-b202-44ac-955e-ee20b64f6c89/monitor_definitions/my_model_performance', 'created_at': '2019-11-20T08:37:31.972Z'}}\n"
                }
            ],
            "source": "my_monitor = ai_client.data_mart.monitors.get_details(monitor_uid=monitor_uid)\nprint('monitor definition details', my_monitor)"
        },
        {
            "cell_type": "markdown",
            "metadata": {},
            "source": "## Enable custom monitor for subscription"
        },
        {
            "cell_type": "code",
            "execution_count": 84,
            "metadata": {},
            "outputs": [],
            "source": "from ibm_ai_openscale.supporting_classes import Threshold\n\nthresholds = [Threshold(metric_uid='sensitivity', lower_limit=0.9)]\nsubscription.monitoring.enable(monitor_uid=monitor_uid, thresholds=thresholds)"
        },
        {
            "cell_type": "markdown",
            "metadata": {},
            "source": "### Get monitor configuration details"
        },
        {
            "cell_type": "code",
            "execution_count": 85,
            "metadata": {},
            "outputs": [
                {
                    "data": {
                        "text/plain": "{'enabled': True,\n 'monitor_definition': {'entity': {'metrics': [{'expected_direction': 'increasing',\n     'id': 'sensitivity',\n     'name': 'sensitivity',\n     'required': True,\n     'thresholds': [{'default': 0.9, 'type': 'lower_limit'}]},\n    {'expected_direction': 'increasing',\n     'id': 'specificity',\n     'name': 'specificity',\n     'required': True}],\n   'name': 'my model performance',\n   'tags': [{'description': 'customer geographical region',\n     'id': 'region',\n     'name': 'region',\n     'required': True}]},\n  'metadata': {'guid': 'my_model_performance',\n   'url': '/v1/data_marts/27d2155a-b202-44ac-955e-ee20b64f6c89/monitor_definitions/my_model_performance',\n   'created_at': '2019-11-20T08:37:31.972Z'}},\n 'thresholds': [{'metric_id': 'sensitivity',\n   'type': 'lower_limit',\n   'value': 0.9}]}"
                    },
                    "execution_count": 85,
                    "metadata": {},
                    "output_type": "execute_result"
                }
            ],
            "source": "subscription.monitoring.get_details(monitor_uid=monitor_uid)"
        },
        {
            "cell_type": "markdown",
            "metadata": {},
            "source": "## Storing custom metrics"
        },
        {
            "cell_type": "code",
            "execution_count": 86,
            "metadata": {},
            "outputs": [
                {
                    "data": {
                        "text/plain": "[{'asset_id': '3ff7858b-e3b0-4fe3-a8f9-a06eb17f708c',\n  'binding_id': 'a73bf76d-a663-448a-b771-4f651f73d54e',\n  'measurement_id': '04978837-fb6b-49a7-b70b-8d30ff710e32',\n  'metrics': [{'region': 'us-south',\n    'sensitivity': 0.67,\n    'specificity': 0.78}],\n  'monitor_definition_id': 'my_model_performance',\n  'subscription_id': 'bc1c9816-c845-4f08-8e6f-2e778eeb5943',\n  'timestamp': '2019-12-02T11:21:44.097473Z'}]"
                    },
                    "execution_count": 86,
                    "metadata": {},
                    "output_type": "execute_result"
                }
            ],
            "source": "metrics = {\"specificity\": 0.78, \"sensitivity\": 0.67, \"region\": \"us-south\"}\n\nsubscription.monitoring.store_metrics(monitor_uid=monitor_uid, metrics=metrics)"
        },
        {
            "cell_type": "markdown",
            "metadata": {},
            "source": "### List and get custom metrics"
        },
        {
            "cell_type": "code",
            "execution_count": 87,
            "metadata": {},
            "outputs": [
                {
                    "data": {
                        "text/html": "<HTML>\n        <body>\n            <h3>CustomMetrics (binding_id=a73bf76d-a663-448a-b771-4f651f73d54e, subscription_id=bc1c9816-c845-4f08-8e6f-2e778eeb5943)</h3>\n            <table style='border: 1px solid #dddddd; font-family: Courier'>\n                <th style='border: 1px solid #dddddd'>ts</th><th style='border: 1px solid #dddddd'>id</th><th style='border: 1px solid #dddddd'>measurement_id</th><th style='border: 1px solid #dddddd'>value</th><th style='border: 1px solid #dddddd'>lower limit</th><th style='border: 1px solid #dddddd'>upper limit</th><th style='border: 1px solid #dddddd'>tags</th><th style='border: 1px solid #dddddd'>binding_id</th><th style='border: 1px solid #dddddd'>subscription_id</th><th style='border: 1px solid #dddddd'>deployment_id</th>\n                <tr><td style='border: 1px solid #dddddd'>2019-12-02 11:21:44.097473+00:00</td><td style='border: 1px solid #dddddd'>sensitivity</td><td style='border: 1px solid #dddddd'>04978837-fb6b-49a7-b70b-8d30ff710e32</td><td style='border: 1px solid #dddddd'>0.67</td><td style='border: 1px solid #dddddd'>0.9</td><td style='border: 1px solid #dddddd'></td><td style='border: 1px solid #dddddd'>region: us-south</td><td style='border: 1px solid #dddddd'>a73bf76d-a663-448a-b771-4f651f73d54e</td><td style='border: 1px solid #dddddd'>bc1c9816-c845-4f08-8e6f-2e778eeb5943</td><td style='border: 1px solid #dddddd'>58235d63-f4f4-49fb-ae30-5d90cfb67c93</td></tr><tr><td style='border: 1px solid #dddddd'>2019-12-02 11:21:44.097473+00:00</td><td style='border: 1px solid #dddddd'>specificity</td><td style='border: 1px solid #dddddd'>04978837-fb6b-49a7-b70b-8d30ff710e32</td><td style='border: 1px solid #dddddd'>0.78</td><td style='border: 1px solid #dddddd'></td><td style='border: 1px solid #dddddd'></td><td style='border: 1px solid #dddddd'>region: us-south</td><td style='border: 1px solid #dddddd'>a73bf76d-a663-448a-b771-4f651f73d54e</td><td style='border: 1px solid #dddddd'>bc1c9816-c845-4f08-8e6f-2e778eeb5943</td><td style='border: 1px solid #dddddd'>58235d63-f4f4-49fb-ae30-5d90cfb67c93</td></tr>\n            </table>\n        </body>\n        </HTML>",
                        "text/plain": "<IPython.core.display.HTML object>"
                    },
                    "metadata": {},
                    "output_type": "display_data"
                }
            ],
            "source": "time.sleep(5)\n\nsubscription.monitoring.show_table(monitor_uid=monitor_uid)"
        },
        {
            "cell_type": "code",
            "execution_count": 88,
            "metadata": {},
            "outputs": [
                {
                    "data": {
                        "text/plain": "[{'asset_id': '3ff7858b-e3b0-4fe3-a8f9-a06eb17f708c',\n  'binding_id': 'a73bf76d-a663-448a-b771-4f651f73d54e',\n  'tags': [{'id': 'region', 'value': 'us-south'}],\n  'ts': '2019-12-02T11:21:44.097473Z',\n  'measurement_id': '04978837-fb6b-49a7-b70b-8d30ff710e32',\n  'monitor_definition_id': 'my_model_performance',\n  'subscription_id': 'bc1c9816-c845-4f08-8e6f-2e778eeb5943',\n  'metrics': [{'lower_limit': 0.9, 'id': 'sensitivity', 'value': 0.67},\n   {'id': 'specificity', 'value': 0.78}]}]"
                    },
                    "execution_count": 88,
                    "metadata": {},
                    "output_type": "execute_result"
                }
            ],
            "source": "custom_metrics = subscription.monitoring.get_metrics(monitor_uid=monitor_uid, deployment_uid='credit')\ncustom_metrics"
        },
        {
            "cell_type": "code",
            "execution_count": 89,
            "metadata": {},
            "outputs": [
                {
                    "data": {
                        "image/png": "[encoded data removed]",
                        "text/plain": "<Figure size 432x288 with 1 Axes>"
                    },
                    "metadata": {
                        "needs_background": "light"
                    },
                    "output_type": "display_data"
                }
            ],
            "source": "custom_metrics_pandas = subscription.monitoring.get_table_content(monitor_uid=monitor_uid)\n\n%matplotlib inline\ncustom_metrics_pandas.plot.barh(x='id', y='value');"
        },
        {
            "cell_type": "markdown",
            "metadata": {},
            "source": "# Payload analytics <a name=\"analytics\"></a>"
        },
        {
            "cell_type": "markdown",
            "metadata": {},
            "source": "## Run data distributions calculation"
        },
        {
            "cell_type": "code",
            "execution_count": 90,
            "metadata": {},
            "outputs": [
                {
                    "name": "stdout",
                    "output_type": "stream",
                    "text": "\n\n===============================================================================\n\n Waiting for end of data distribution run 5a76d2e1-eb07-4fe5-aaec-0adb9c70d8ef \n\n===============================================================================\n\n\n\ncompleted\n\n---------------------------\n Successfully finished run \n---------------------------\n\n\n"
                }
            ],
            "source": "from datetime import datetime\n\nstart_date = \"2018-01-01T00:00:00.00Z\"\nend_date = datetime.utcnow().isoformat() + \"Z\"\n\nsex_distribution = subscription.payload_logging.data_distribution.run(\n            start_date=start_date,\n            end_date=end_date,\n            group=['predictedLabel', 'Sex'],\n            agg=['count'])"
        },
        {
            "cell_type": "markdown",
            "metadata": {},
            "source": "## Get data distributions as pandas dataframe"
        },
        {
            "cell_type": "code",
            "execution_count": 91,
            "metadata": {},
            "outputs": [
                {
                    "data": {
                        "text/html": "<div>\n<style scoped>\n    .dataframe tbody tr th:only-of-type {\n        vertical-align: middle;\n    }\n\n    .dataframe tbody tr th {\n        vertical-align: top;\n    }\n\n    .dataframe thead th {\n        text-align: right;\n    }\n</style>\n<table border=\"1\" class=\"dataframe\">\n  <thead>\n    <tr style=\"text-align: right;\">\n      <th></th>\n      <th>predictedLabel</th>\n      <th>Sex</th>\n      <th>count</th>\n    </tr>\n  </thead>\n  <tbody>\n    <tr>\n      <th>0</th>\n      <td>No Risk</td>\n      <td>female</td>\n      <td>89</td>\n    </tr>\n    <tr>\n      <th>1</th>\n      <td>No Risk</td>\n      <td>male</td>\n      <td>81</td>\n    </tr>\n    <tr>\n      <th>2</th>\n      <td>Risk</td>\n      <td>female</td>\n      <td>9</td>\n    </tr>\n    <tr>\n      <th>3</th>\n      <td>Risk</td>\n      <td>male</td>\n      <td>29</td>\n    </tr>\n  </tbody>\n</table>\n</div>",
                        "text/plain": "  predictedLabel     Sex  count\n0        No Risk  female     89\n1        No Risk    male     81\n2           Risk  female      9\n3           Risk    male     29"
                    },
                    "execution_count": 91,
                    "metadata": {},
                    "output_type": "execute_result"
                }
            ],
            "source": "sex_distribution_run_uid = sex_distribution['id']\ndistributions_pd = subscription.payload_logging.data_distribution.get_run_result(run_id=sex_distribution_run_uid, format='pandas')\ndistributions_pd"
        },
        {
            "cell_type": "code",
            "execution_count": 92,
            "metadata": {},
            "outputs": [
                {
                    "data": {
                        "image/png": "[encoded data removed]",
                        "text/plain": "<Figure size 432x288 with 1 Axes>"
                    },
                    "metadata": {
                        "needs_background": "light"
                    },
                    "output_type": "display_data"
                }
            ],
            "source": "subscription.payload_logging.data_distribution.show_chart(sex_distribution_run_uid);"
        },
        {
            "cell_type": "code",
            "execution_count": 93,
            "metadata": {},
            "outputs": [
                {
                    "name": "stdout",
                    "output_type": "stream",
                    "text": "\n\n===============================================================================\n\n Waiting for end of data distribution run bd0ec297-5388-47fc-9d25-24cd2265e149 \n\n===============================================================================\n\n\n\ncompleted\n\n---------------------------\n Successfully finished run \n---------------------------\n\n\n"
                }
            ],
            "source": "credit_history_distribution = subscription.payload_logging.data_distribution.run(\n            start_date=start_date,\n            end_date=end_date,\n            group=['predictedLabel', 'CreditHistory'],\n            agg=['count'])"
        },
        {
            "cell_type": "code",
            "execution_count": 94,
            "metadata": {},
            "outputs": [
                {
                    "data": {
                        "image/png": "[encoded data removed]",
                        "text/plain": "<Figure size 432x288 with 1 Axes>"
                    },
                    "metadata": {
                        "needs_background": "light"
                    },
                    "output_type": "display_data"
                }
            ],
            "source": "credit_history_distribution_run_uid = credit_history_distribution['id']\n\nsubscription.payload_logging.data_distribution.show_chart(credit_history_distribution_run_uid);"
        },
        {
            "cell_type": "markdown",
            "metadata": {},
            "source": "# Business Application <a name=\"application\"></a>"
        },
        {
            "cell_type": "code",
            "execution_count": 95,
            "metadata": {},
            "outputs": [],
            "source": "data_mart_id = subscription.get_details()['metadata']['url'].split('/service_bindings')[0].split('marts/')[1]\n"
        },
        {
            "cell_type": "code",
            "execution_count": 96,
            "metadata": {},
            "outputs": [],
            "source": "business_application_url = \"/\".join((WOS_CREDENTIALS['url'], data_mart_id,\"v2\", \"business_applications\" ))\n"
        },
        {
            "cell_type": "code",
            "execution_count": 97,
            "metadata": {},
            "outputs": [],
            "source": "payload_business_app = {\n    \"name\": \"Credit Risk Application - Tutorial Notebook\",\n    \"description\": \"Sample Business Application\",\n    \"payload_fields\": [\n        {\n            \"name\": \"LoanDuration\",\n            \"type\": \"number\",\n        },\n        {\n            \"name\": \"LoanPurpose\",\n            \"type\": \"string\",\n        },\n        {\n            \"name\": \"LoanAmount\",\n            \"type\": \"number\",\n        },\n        {\n            \"name\": \"InstallmentPercent\",\n            \"type\": \"number\",\n        },\n        {\n            \"name\": \"AcceptedPercent\",\n            \"type\": \"number\",\n        },\n         {\n            \"name\": \"Accepted\",\n            \"type\": \"number\",\n        },\n        {\n            \"name\": \"AmountGranted\",\n            \"type\": \"number\",\n        },\n        {\n            \"name\": \"transaction_id\",\n            \"type\": \"string\",\n        }     \n    ],\n    \"business_metrics\": [\n        {\n            \"name\": \"Accepted Credits\",\n            \"expected_direction\": \"increasing\",\n            \"thresholds\": [\n                {\n                    \"type\": \"lower_limit\",\n                    \"default\": 2150,\n                }\n            ],\n            \"required\": False,\n            \"calculation_metadata\": {\n                \"field_name\": \"Accepted\",\n                \"aggregation\": \"sum\",\n                \"time_frame\": {\n                    \"count\": 1,\n                    \"unit\": \"day\"\n                }\n            }\n        },\n        {\n            \"name\": \"Credit Amount Granted\",\n            \"expected_direction\": \"increasing\",\n            \"thresholds\": [\n                {\n                    \"type\": \"lower_limit\",\n                    \"default\": 5500000,\n                }\n            ],\n            \"required\": False,\n            \"calculation_metadata\": {\n                \"field_name\": \"AmountGranted\",\n                \"aggregation\": \"sum\",\n                \"time_frame\": {\n                    \"count\": 1,\n                    \"unit\": \"day\"\n                }\n            }\n        }\n    ],\n    \"subscription_ids\": subscriptions_uids\n}\n\nresponse = requests.post(url=business_application_url, headers=ai_client._get_headers(), json=payload_business_app)\nbusiness_application_id = response.json()['metadata']['id']\ntime.sleep(10)"
        },
        {
            "cell_type": "markdown",
            "metadata": {},
            "source": "## Get business application details:"
        },
        {
            "cell_type": "code",
            "execution_count": 98,
            "metadata": {},
            "outputs": [],
            "source": "business_application_details_url = \"/\".join((business_application_url, business_application_id))"
        },
        {
            "cell_type": "code",
            "execution_count": 99,
            "metadata": {},
            "outputs": [
                {
                    "name": "stdout",
                    "output_type": "stream",
                    "text": "active\n"
                }
            ],
            "source": "business_app_status = None\nwhile business_app_status != 'active':\n    business_application_details = requests.get(url = business_application_details_url, headers=ai_client._get_headers()).json()\n    business_app_status = business_application_details['entity']['status']['state']\n    if business_app_status != 'active':\n        print(datetime.utcnow().strftime('%H:%M:%S'), business_app_status)\n        time.sleep(10)\nprint(business_app_status)"
        },
        {
            "cell_type": "code",
            "execution_count": 100,
            "metadata": {},
            "outputs": [],
            "source": "business_payload_data_set_id = business_application_details['entity']['business_payload_data_set_id']\nbusiness_metrics_monitor_instance_id =  business_application_details['entity']['business_metrics_monitor_instance_id']"
        },
        {
            "cell_type": "code",
            "execution_count": 101,
            "metadata": {},
            "outputs": [],
            "source": "monitor_instances_url = \"/\".join((WOS_CREDENTIALS['url'], data_mart_id,\"v2\", \"monitor_instances\" ))\n"
        },
        {
            "cell_type": "code",
            "execution_count": 102,
            "metadata": {},
            "outputs": [
                {
                    "name": "stdout",
                    "output_type": "stream",
                    "text": "7bfa076a-261e-44a4-bf70-60cc87661de7 2019-12-02T11:13:05.400Z\n1af64fa0-fe24-4723-9247-8a14035390b7 2019-12-02T11:12:17.055Z\nff3cfe8f-9136-4786-9b64-241f7098ccb1 2019-12-02T11:00:21.375Z\n"
                }
            ],
            "source": "response = requests.get(url=monitor_instances_url, headers=ai_client._get_headers())\ninstances = response.json()['monitor_instances']\n\nfor instance in instances:\n    if 'managed_by' in instance['entity'] and instance['entity']['managed_by'] == business_application_id:\n        if instance['entity']['monitor_definition_id'] == 'correlations':\n            corr_monitor_instance_id = instance['metadata']['id']\n\n    if instance['entity']['monitor_definition_id'] == 'drift':\n        print(instance['metadata']['id'], instance['metadata']['modified_at'] )\n        drift_instance_id = instance['metadata']['id']"
        },
        {
            "cell_type": "markdown",
            "metadata": {},
            "source": "# Historical data <a name=\"historical\"></a>"
        },
        {
            "cell_type": "code",
            "execution_count": 103,
            "metadata": {},
            "outputs": [],
            "source": "historyDays = 7"
        },
        {
            "cell_type": "markdown",
            "metadata": {},
            "source": " ## Insert historical payloads"
        },
        {
            "cell_type": "markdown",
            "metadata": {},
            "source": "The next section of the notebook downloads and writes historical data to the payload and measurement tables to simulate a production model that has been monitored and receiving regular traffic for the last seven days. This historical data can be viewed in the Watson OpenScale user interface. The code uses the Python and REST APIs to write this data."
        },
        {
            "cell_type": "code",
            "execution_count": 104,
            "metadata": {
                "scrolled": false
            },
            "outputs": [
                {
                    "name": "stdout",
                    "output_type": "stream",
                    "text": "-rw-r--r-- 1 spark 4294967294 5.0M Dec  6 12:45 history_payloads_with_transaction_id_0.json\r\n-rw-r--r-- 1 spark 4294967294 5.0M Dec  6 12:45 history_payloads_with_transaction_id_1.json\r\n-rw-r--r-- 1 spark 4294967294 5.0M Dec  6 12:45 history_payloads_with_transaction_id_2.json\r\n-rw-r--r-- 1 spark 4294967294 5.0M Dec  6 12:45 history_payloads_with_transaction_id_3.json\r\n-rw-r--r-- 1 spark 4294967294 5.0M Dec  6 12:45 history_payloads_with_transaction_id_4.json\r\n-rw-r--r-- 1 spark 4294967294 5.0M Dec  6 12:45 history_payloads_with_transaction_id_5.json\r\n-rw-r--r-- 1 spark 4294967294 5.0M Dec  6 12:45 history_payloads_with_transaction_id_6.json\r\n"
                }
            ],
            "source": "with io.capture_output() as captured:\n    !wget https://raw.githubusercontent.com/pmservice/ai-openscale-tutorials/master/assets/historical_data/german_credit_risk/wml/fastpath/history_payloads_with_transaction_id_0.json\n    !wget https://raw.githubusercontent.com/pmservice/ai-openscale-tutorials/master/assets/historical_data/german_credit_risk/wml/fastpath/history_payloads_with_transaction_id_1.json\n    !wget https://raw.githubusercontent.com/pmservice/ai-openscale-tutorials/master/assets/historical_data/german_credit_risk/wml/fastpath/history_payloads_with_transaction_id_2.json\n    !wget https://raw.githubusercontent.com/pmservice/ai-openscale-tutorials/master/assets/historical_data/german_credit_risk/wml/fastpath/history_payloads_with_transaction_id_3.json\n    !wget https://raw.githubusercontent.com/pmservice/ai-openscale-tutorials/master/assets/historical_data/german_credit_risk/wml/fastpath/history_payloads_with_transaction_id_4.json\n    !wget https://raw.githubusercontent.com/pmservice/ai-openscale-tutorials/master/assets/historical_data/german_credit_risk/wml/fastpath/history_payloads_with_transaction_id_5.json\n    !wget https://raw.githubusercontent.com/pmservice/ai-openscale-tutorials/master/assets/historical_data/german_credit_risk/wml/fastpath/history_payloads_with_transaction_id_6.json\n!ls -lh history_payloads_with_transaction_id_*.json"
        },
        {
            "cell_type": "code",
            "execution_count": 105,
            "metadata": {
                "scrolled": false
            },
            "outputs": [
                {
                    "name": "stdout",
                    "output_type": "stream",
                    "text": "Loading historical scoring payload...\nDay 0 injection.\nDaily loading finished.\nDay 1 injection.\nDaily loading finished.\nDay 2 injection.\nDaily loading finished.\nDay 3 injection.\nDaily loading finished.\nDay 4 injection.\nDaily loading finished.\nDay 5 injection.\nDaily loading finished.\nDay 6 injection.\nDaily loading finished.\n"
                }
            ],
            "source": "from ibm_ai_openscale.utils.inject_demo_data import DemoData\nimport os\n\nhistoricalData = DemoData(aios_credentials=WOS_CREDENTIALS)\nhistorical_data_path=os.getcwd()\n\nhistoricalData.load_historical_scoring_payload(subscription, deployment_uid,file_path=historical_data_path, day_template=\"history_payloads_with_transaction_id_{}.json\" )"
        },
        {
            "cell_type": "code",
            "execution_count": 106,
            "metadata": {
                "scrolled": true
            },
            "outputs": [
                {
                    "name": "stdout",
                    "output_type": "stream",
                    "text": "https://api.aiopenscale.cloud.ibm.com/v1/data_marts/cacaf1bc-1285-46da-ba9a-49464bc683a3/metrics\n"
                }
            ],
            "source": "performance_metrics_url = WOS_CREDENTIALS['url'] + subscription.get_details()['metadata']['url'].split('/service_bindings')[0] + '/metrics'\nprint(performance_metrics_url)"
        },
        {
            "cell_type": "markdown",
            "metadata": {},
            "source": "## Insert historical fairness metrics"
        },
        {
            "cell_type": "code",
            "execution_count": 107,
            "metadata": {},
            "outputs": [
                {
                    "name": "stdout",
                    "output_type": "stream",
                    "text": "-rw-r--r-- 1 spark 4294967294 1.4M Dec  2 11:22 history_fairness.json\r\n"
                }
            ],
            "source": "with io.capture_output() as captured:\n    !wget https://raw.githubusercontent.com/pmservice/ai-openscale-tutorials/master/assets/historical_data/german_credit_risk/wml/history_fairness.json -O history_fairness.json\n!ls -lh history_fairness.json"
        },
        {
            "cell_type": "code",
            "execution_count": 108,
            "metadata": {},
            "outputs": [
                {
                    "name": "stdout",
                    "output_type": "stream",
                    "text": "Loading day 1\nLoading day 2\nLoading day 3\nLoading day 4\nLoading day 5\nLoading day 6\nLoading day 7\nFinished\n"
                }
            ],
            "source": "with open('history_fairness.json', 'r') as history_file:\n    payloads = json.load(history_file)\n\nfor day in range(historyDays):\n    print('Loading day', day + 1)\n    metrics = []\n    \n    for hour in range(24):\n        score_time = (datetime.utcnow() + timedelta(hours=(-(24*day + hour + 1)))).strftime('%Y-%m-%dT%H:%M:%SZ')\n        index = (day * 24 + hour) % len(payloads) # wrap around and reuse values if needed\n        \n        metric = {\n            'metric_type': 'fairness',\n            'binding_id': binding_uid,\n            'timestamp': score_time,\n            'subscription_id': model_uid,\n            'asset_revision': model_uid,\n            'deployment_id': deployment_uid,\n            'value': payloads[index]\n        }\n        metrics.append(metric)\n    response = requests.post(performance_metrics_url, json=metrics, headers=ai_client._get_headers())\nprint('Finished')"
        },
        {
            "cell_type": "markdown",
            "metadata": {},
            "source": "## Insert historical debias metrics"
        },
        {
            "cell_type": "code",
            "execution_count": 109,
            "metadata": {},
            "outputs": [
                {
                    "name": "stdout",
                    "output_type": "stream",
                    "text": "-rw-r--r-- 1 spark 4294967294 553K Dec  2 11:23 history_debias.json\r\n"
                }
            ],
            "source": "with io.capture_output() as captured:\n    !wget https://raw.githubusercontent.com/pmservice/ai-openscale-tutorials/master/assets/historical_data/german_credit_risk/wml/history_debias.json -O history_debias.json\n!ls -lh history_debias.json"
        },
        {
            "cell_type": "code",
            "execution_count": 110,
            "metadata": {},
            "outputs": [
                {
                    "name": "stdout",
                    "output_type": "stream",
                    "text": "Loading day 1\nLoading day 2\nLoading day 3\nLoading day 4\nLoading day 5\nLoading day 6\nLoading day 7\nFinished\n"
                }
            ],
            "source": "with open('history_debias.json', 'r') as history_file:\n    payloads = json.load(history_file)\n\nfor day in range(historyDays):\n    print('Loading day', day + 1)\n    debias_metrics = []\n    for hour in range(24):\n        score_time = (datetime.utcnow() + timedelta(hours=(-(24*day + hour + 1)))).strftime('%Y-%m-%dT%H:%M:%SZ')\n        index = (day * 24 + hour) % len(payloads) # wrap around and reuse values if needed\n\n        debiasMetric = {\n            'metric_type': 'debiased_fairness',\n            'binding_id': binding_uid,\n            'timestamp': score_time,\n            'subscription_id': subscription.uid,\n            'asset_revision': model_uid,\n            'deployment_id': deployment_uid,\n            'value': payloads[index]\n        }\n\n        debias_metrics.append(debiasMetric)\n    response = requests.post(performance_metrics_url, json=debias_metrics, headers=ai_client._get_headers())\nprint('Finished')"
        },
        {
            "cell_type": "markdown",
            "metadata": {},
            "source": "## Insert historical quality metrics"
        },
        {
            "cell_type": "code",
            "execution_count": 111,
            "metadata": {
                "scrolled": true
            },
            "outputs": [
                {
                    "name": "stdout",
                    "output_type": "stream",
                    "text": "Day 1\nDay 2\nDay 3\nDay 4\nDay 5\nDay 6\nDay 7\nFinished\n"
                }
            ],
            "source": "measurements = [0.76, 0.78, 0.68, 0.72, 0.73, 0.77, 0.80]\nfor day in range(historyDays):\n    quality_metrics = []\n    print('Day', day + 1)\n    for hour in range(24):\n        score_time = (datetime.utcnow() + timedelta(hours=(-(24*day + hour + 1)))).strftime('%Y-%m-%dT%H:%M:%SZ')\n        qualityMetric = {\n            'metric_type': 'quality',\n            'binding_id': binding_uid,\n            'timestamp': score_time,\n            'subscription_id': subscription.uid,\n            'asset_revision': model_uid,\n            'deployment_id': deployment_uid,\n            'value': {\n                'quality': measurements[day],\n                'threshold': 0.7,\n                'metrics': [\n                    {\n                        'name': 'auroc',\n                        'value': measurements[day],\n                        'threshold': 0.7\n                    }\n                ]\n            }\n        }\n        \n        quality_metrics.append(qualityMetric)\n    \n    response = requests.post(performance_metrics_url, json=quality_metrics, headers=ai_client._get_headers())\n\nprint('Finished')"
        },
        {
            "cell_type": "markdown",
            "metadata": {},
            "source": "## Insert historical confusion matrixes"
        },
        {
            "cell_type": "code",
            "execution_count": 112,
            "metadata": {},
            "outputs": [
                {
                    "name": "stdout",
                    "output_type": "stream",
                    "text": "-rw-r--r-- 1 spark 4294967294 79K Dec  2 11:26 history_quality_metrics.json\r\n"
                }
            ],
            "source": "with io.capture_output() as captured:\n    !wget https://raw.githubusercontent.com/pmservice/ai-openscale-tutorials/master/assets/historical_data/german_credit_risk/wml/history_quality_metrics.json -O history_quality_metrics.json\n!ls -lh history_quality_metrics.json"
        },
        {
            "cell_type": "code",
            "execution_count": 113,
            "metadata": {},
            "outputs": [
                {
                    "name": "stdout",
                    "output_type": "stream",
                    "text": "https://api.aiopenscale.cloud.ibm.com/v1/data_marts/27d2155a-b202-44ac-955e-ee20b64f6c89/measurements\n"
                }
            ],
            "source": "measurements_url = WOS_CREDENTIALS['url'] + subscription.get_details()['metadata']['url'].split('/service_bindings')[0] + '/measurements'\nprint(measurements_url)"
        },
        {
            "cell_type": "code",
            "execution_count": 114,
            "metadata": {},
            "outputs": [
                {
                    "name": "stdout",
                    "output_type": "stream",
                    "text": "Day 1\nDay 2\nDay 3\nDay 4\nDay 5\nDay 6\nDay 7\nFinished\n"
                }
            ],
            "source": "with open('history_quality_metrics.json') as json_file:\n    records = json.load(json_file)\n    \nfor day in range(historyDays):\n    index = 0\n    measurments = []\n    print('Day', day + 1)\n    \n    for hour in range(24):\n        score_time = (datetime.utcnow() + timedelta(hours=(-(24*day + hour + 1)))).strftime('%Y-%m-%dT%H:%M:%SZ')\n\n        measurement = {\n            \"monitor_definition_id\": 'quality',\n            \"binding_id\": subscription.binding_uid,\n            \"subscription_id\": subscription.uid,\n            \"asset_id\": subscription.source_uid,\n            'metrics': [records[index]['metrics']],\n            'sources': [records[index]['sources']],\n            'timestamp': score_time\n        }\n\n        measurments.append(measurement)\n        index+=1\n\n    response = requests.post(measurements_url, json=measurments, headers=ai_client._get_headers())\n\nprint('Finished')"
        },
        {
            "cell_type": "markdown",
            "metadata": {},
            "source": "## Insert historical performance metrics"
        },
        {
            "cell_type": "code",
            "execution_count": 115,
            "metadata": {},
            "outputs": [
                {
                    "name": "stdout",
                    "output_type": "stream",
                    "text": "Day 1\nDay 2\nDay 3\nDay 4\nDay 5\nDay 6\nDay 7\nFinished\n"
                }
            ],
            "source": "for day in range(historyDays):\n    performance_metrics = []\n    print('Day', day + 1)\n    for hour in range(24):\n        score_time = (datetime.utcnow() + timedelta(hours=(-(24*day + hour + 1)))).strftime('%Y-%m-%dT%H:%M:%SZ')\n        score_count = random.randint(60, 600)\n        score_resp = random.uniform(60, 300)\n\n        performanceMetric = {\n            'metric_type': 'performance',\n            'binding_id': binding_uid,\n            'timestamp': score_time,\n            'subscription_id': subscription.uid,\n            'asset_revision': model_uid,\n            'deployment_id': deployment_uid,\n            'value': {\n                'response_time': score_resp,\n                'records': score_count\n            }\n        }\n        performance_metrics.append(performanceMetric)\n\n    response = requests.post(performance_metrics_url, json=performance_metrics, headers=ai_client._get_headers())\n\nprint('Finished')"
        },
        {
            "cell_type": "markdown",
            "metadata": {},
            "source": "## Insert historical manual labeling"
        },
        {
            "cell_type": "code",
            "execution_count": 116,
            "metadata": {},
            "outputs": [
                {
                    "name": "stdout",
                    "output_type": "stream",
                    "text": "https://api.aiopenscale.cloud.ibm.com/v1/data_marts/27d2155a-b202-44ac-955e-ee20b64f6c89/manual_labelings\n"
                }
            ],
            "source": "manual_labeling_url = WOS_CREDENTIALS['url'] + subscription.get_details()['metadata']['url'].split('/service_bindings')[0] + '/manual_labelings'\nprint(manual_labeling_url)"
        },
        {
            "cell_type": "code",
            "execution_count": 117,
            "metadata": {},
            "outputs": [
                {
                    "name": "stdout",
                    "output_type": "stream",
                    "text": "-rw-r--r-- 1 spark 4294967294 926K Dec  2 11:26 history_manual_labeling.json\r\n"
                }
            ],
            "source": "with io.capture_output() as captured:\n    !wget https://raw.githubusercontent.com/pmservice/ai-openscale-tutorials/master/assets/historical_data/german_credit_risk/wml/history_manual_labeling.json -O history_manual_labeling.json\n!ls -lh history_manual_labeling.json"
        },
        {
            "cell_type": "code",
            "execution_count": 118,
            "metadata": {},
            "outputs": [
                {
                    "name": "stdout",
                    "output_type": "stream",
                    "text": "Loading day 1\nLoading day 2\nLoading day 3\nLoading day 4\nLoading day 5\nLoading day 6\nLoading day 7\nFinished\n"
                }
            ],
            "source": "with open('history_manual_labeling.json', 'r') as history_file:\n    records = json.load(history_file)\n\nfor day in range(historyDays):\n    print('Loading day', day + 1)\n    record_json = []\n    for hour in range(24):\n        for record in records:\n            if record['fastpath_history_day'] == day and record['fastpath_history_hour'] == hour:\n                record['binding_id'] = binding_uid\n                record['subscription_id'] = subscription.uid\n                record['asset_revision'] = model_uid\n                record['deployment_id'] = deployment_uid\n                record['scoring_timestamp'] = (datetime.utcnow() + timedelta(hours=(-(24*day + hour + 1)))).strftime('%Y-%m-%dT%H:%M:%SZ')\n                record_json.append(record)\n    response = requests.post(manual_labeling_url, json=record_json, headers=ai_client._get_headers())\n\nprint('Finished')"
        },
        {
            "cell_type": "markdown",
            "metadata": {},
            "source": "## Insert historical drift measurements"
        },
        {
            "cell_type": "code",
            "execution_count": 119,
            "metadata": {},
            "outputs": [
                {
                    "name": "stdout",
                    "output_type": "stream",
                    "text": "-rw-r--r-- 1 spark 4294967294 832K Dec  2 11:26 history_drift_measurement_0.json\r\n-rw-r--r-- 1 spark 4294967294 868K Dec  2 11:26 history_drift_measurement_1.json\r\n-rw-r--r-- 1 spark 4294967294 870K Dec  2 11:26 history_drift_measurement_2.json\r\n-rw-r--r-- 1 spark 4294967294 910K Dec  2 11:26 history_drift_measurement_3.json\r\n-rw-r--r-- 1 spark 4294967294 841K Dec  2 11:26 history_drift_measurement_4.json\r\n-rw-r--r-- 1 spark 4294967294 836K Dec  2 11:26 history_drift_measurement_5.json\r\n-rw-r--r-- 1 spark 4294967294 840K Dec  2 11:26 history_drift_measurement_6.json\r\n"
                }
            ],
            "source": "with io.capture_output() as captured:\n    !wget https://raw.githubusercontent.com/pmservice/ai-openscale-tutorials/master/assets/historical_data/german_credit_risk/wos/history_drift_measurement_0.json\n    !wget https://raw.githubusercontent.com/pmservice/ai-openscale-tutorials/master/assets/historical_data/german_credit_risk/wos/history_drift_measurement_1.json\n    !wget https://raw.githubusercontent.com/pmservice/ai-openscale-tutorials/master/assets/historical_data/german_credit_risk/wos/history_drift_measurement_2.json\n    !wget https://raw.githubusercontent.com/pmservice/ai-openscale-tutorials/master/assets/historical_data/german_credit_risk/wos/history_drift_measurement_3.json\n    !wget https://raw.githubusercontent.com/pmservice/ai-openscale-tutorials/master/assets/historical_data/german_credit_risk/wos/history_drift_measurement_4.json\n    !wget https://raw.githubusercontent.com/pmservice/ai-openscale-tutorials/master/assets/historical_data/german_credit_risk/wos/history_drift_measurement_5.json\n    !wget https://raw.githubusercontent.com/pmservice/ai-openscale-tutorials/master/assets/historical_data/german_credit_risk/wos/history_drift_measurement_6.json\n!ls -lh history_drift_measurement_*.json"
        },
        {
            "cell_type": "code",
            "execution_count": 120,
            "metadata": {},
            "outputs": [
                {
                    "name": "stdout",
                    "output_type": "stream",
                    "text": "https://api.aiopenscale.cloud.ibm.com/v1/data_marts/27d2155a-b202-44ac-955e-ee20b64f6c89/measurements\n"
                }
            ],
            "source": "print(measurements_url)"
        },
        {
            "cell_type": "code",
            "execution_count": 121,
            "metadata": {},
            "outputs": [
                {
                    "name": "stdout",
                    "output_type": "stream",
                    "text": "Loading day 1\nDaily loading finished.\nLoading day 2\nDaily loading finished.\nLoading day 3\nDaily loading finished.\nLoading day 4\nDaily loading finished.\nLoading day 5\nDaily loading finished.\nLoading day 6\nDaily loading finished.\nLoading day 7\nDaily loading finished.\n"
                }
            ],
            "source": "for day in range(historyDays):\n    measurements = []\n\n    with open(\"history_drift_measurement_{}.json\".format(day), 'r') as history_file:\n        drift_daily_measurements = json.load(history_file)\n    print('Loading day', day + 1)\n\n    #Historical data contains 8 records per day - each represents 3 hour drift window.\n    \n    for nb_window, records in enumerate(drift_daily_measurements):\n        for record in records:\n            window_start =  (datetime.utcnow() + timedelta(hours=(-(24 * day + (nb_window+1)*3 + 1)))).strftime('%Y-%m-%dT%H:%M:%SZ') # first_payload_record_timestamp_in_window (oldest)\n            window_end = (datetime.utcnow() + timedelta(hours=(-(24 * day + nb_window*3 + 1)))).strftime('%Y-%m-%dT%H:%M:%SZ')# last_payload_record_timestamp_in_window (most recent)\n            #modify start and end time for each record\n            record['sources'][0]['data']['start'] = window_start\n            record['sources'][0]['data']['end'] = window_end\n            \n            measurement = {\n                \"monitor_definition_id\": \"drift\",\n                \"binding_id\": subscription.binding_uid,\n                \"subscription_id\": subscription.uid,\n                \"asset_id\": subscription.source_uid,\n                'metrics': record['metrics'],\n                'sources': record['sources'],\n                'timestamp': window_start,\n                'process': 'Drift run for subscription_{}'.format(subscription.uid)\n            }\n\n            measurements.append(measurement)\n    response = requests.post(measurements_url, json=measurements, headers=ai_client._get_headers())\n    print(\"Daily loading finished.\")"
        },
        {
            "cell_type": "markdown",
            "metadata": {},
            "source": "## Insert Business payload "
        },
        {
            "cell_type": "code",
            "execution_count": 122,
            "metadata": {},
            "outputs": [
                {
                    "name": "stdout",
                    "output_type": "stream",
                    "text": "-rw-r--r-- 1 spark 4294967294 1.6M Dec  2 11:26 history_business_payloads_week.csv\r\n"
                }
            ],
            "source": "with io.capture_output() as captured:\n    !wget https://raw.githubusercontent.com/pmservice/ai-openscale-tutorials/master/assets/historical_data/german_credit_risk/wml/history_business_payloads_week.csv -O history_business_payloads_week.csv\n!ls -lh history_business_payloads_week.csv"
        },
        {
            "cell_type": "code",
            "execution_count": 123,
            "metadata": {},
            "outputs": [],
            "source": "historicalData.load_historical_business_payload(business_payload_data_set_id, file_path=historical_data_path, file_name=\"history_business_payloads_week.csv\")\ntime.sleep(60)"
        },
        {
            "cell_type": "markdown",
            "metadata": {},
            "source": "# Run Business Application and Correlation monitor  <a name=\"correlation\"></a>"
        },
        {
            "cell_type": "code",
            "execution_count": 124,
            "metadata": {},
            "outputs": [
                {
                    "name": "stdout",
                    "output_type": "stream",
                    "text": "https://api.aiopenscale.cloud.ibm.com/27d2155a-b202-44ac-955e-ee20b64f6c89/v2/monitor_instances/80707a75-5a64-48eb-a1f6-f40ff826c1ab/runs\n"
                }
            ],
            "source": "business_app_run_url = \"/\".join((monitor_instances_url, business_metrics_monitor_instance_id,\"runs\"))\nprint(business_app_run_url)"
        },
        {
            "cell_type": "code",
            "execution_count": 130,
            "metadata": {},
            "outputs": [],
            "source": "response = requests.post(\n    url=business_app_run_url,\n    headers=ai_client._get_headers(),\n    json={}, verify=False\n)\nif response.status_code == 201:\n    business_app_run_details = response.json()\nelse:\n    business_app_run_details = None\n    print(\"Run business application failed. Details: {}\".format(response.text))"
        },
        {
            "cell_type": "code",
            "execution_count": 131,
            "metadata": {},
            "outputs": [
                {
                    "name": "stdout",
                    "output_type": "stream",
                    "text": "11:32:55 running\n11:33:25 running\n11:33:55 running\n11:34:25 running\n11:34:55 running\n11:35:25 running\n11:35:55 running\n11:36:26 running\nfinished\n"
                }
            ],
            "source": "if business_app_run_details is not None:\n    business_metrics_monitor_run_id =business_app_run_details['metadata']['id']\n    monitor_status = business_app_run_details['entity']['status']['state']\n\nwhile monitor_status != 'finished' and monitor_status != 'error':\n    business_app_run_details = (requests.get(url=business_app_run_url+ \"/\" + business_metrics_monitor_run_id, headers=ai_client._get_headers(), verify=False)).json()   \n    monitor_status = business_app_run_details['entity']['status']['state']\n    if monitor_status != 'finished':\n        print(datetime.utcnow().strftime('%H:%M:%S'), monitor_status)\n        time.sleep(30)\nprint(monitor_status)"
        },
        {
            "cell_type": "code",
            "execution_count": 140,
            "metadata": {},
            "outputs": [
                {
                    "name": "stdout",
                    "output_type": "stream",
                    "text": "finished\n"
                }
            ],
            "source": "drift_runs = requests.get('{}/{}/v2/monitor_instances/{}/runs'.format(WOS_CREDENTIALS['url'],\n                                    data_mart_id, drift_instance_id), headers=ai_client._get_headers(),json={}, verify=False).json()\n\n\nfor run in drift_runs['runs']:\n    if 'business_metric_context' in run['entity']:\n        if run['entity']['business_metric_context']['business_application_id'] == business_application_id:\n            last_drift_run_id = run['metadata']['id']\n\ndrift_monitor_status = None\nwhile drift_monitor_status != 'finished':\n    drift_run_details = (requests.get('{}/{}/v2/monitor_instances/{}/runs/{}'.format(WOS_CREDENTIALS['url'],\n            data_mart_id,drift_instance_id, last_drift_run_id), headers=ai_client._get_headers(),json={}, verify=False)).json()\n    drift_monitor_status = drift_run_details['entity']['status']['state']\n    if drift_monitor_status != 'finished':\n    \n        time.sleep(30)\nprint(drift_monitor_status)"
        },
        {
            "cell_type": "markdown",
            "metadata": {},
            "source": "## Run correlation monitor"
        },
        {
            "cell_type": "code",
            "execution_count": 144,
            "metadata": {},
            "outputs": [],
            "source": "time.sleep(15)\npayload = {\n            \"triggered_by\": \"user\",\n            \"parameters\": {\n                \"max_number_of_days\": \"1000\"\n            },\n            \"business_metric_context\": {\n                \"business_application_id\": business_application_id,\n                \"metric_id\": \"\",\n                \"transaction_data_set_id\": \"\",\n                \"transaction_batch_id\": \"\"\n            }\n        }\n\nresponse = requests.post(url = \"/\".join((monitor_instances_url, corr_monitor_instance_id,\"runs\")), json=payload, headers=ai_client._get_headers())"
        },
        {
            "cell_type": "code",
            "execution_count": 143,
            "metadata": {},
            "outputs": [
                {
                    "name": "stdout",
                    "output_type": "stream",
                    "text": "Correlation status:  active\n"
                }
            ],
            "source": "corr_status = None\nwhile corr_status != 'active':\n    corr_details = requests.get(url = \"/\".join((monitor_instances_url, corr_monitor_instance_id)), headers=ai_client._get_headers()).json()\n    corr_status = corr_details['entity']['status']['state']\n    if corr_status != 'active':\n        print(datetime.utcnow().strftime('%H:%M:%S'), corr_status)\n        time.sleep(10)\nprint(\"Correlation status: \", corr_status)"
        },
        {
            "cell_type": "markdown",
            "metadata": {},
            "source": "## Additional data to help debugging"
        },
        {
            "cell_type": "code",
            "execution_count": 145,
            "metadata": {
                "scrolled": true
            },
            "outputs": [
                {
                    "name": "stdout",
                    "output_type": "stream",
                    "text": "Datamart: 27d2155a-b202-44ac-955e-ee20b64f6c89\nModel: 3ff7858b-e3b0-4fe3-a8f9-a06eb17f708c\nDeployment: 58235d63-f4f4-49fb-ae30-5d90cfb67c93\nBinding: a73bf76d-a663-448a-b771-4f651f73d54e\nScoring URL: https://us-south.ml.cloud.ibm.com/v3/wml_instances/a73bf76d-a663-448a-b771-4f651f73d54e/deployments/58235d63-f4f4-49fb-ae30-5d90cfb67c93/online\n"
                }
            ],
            "source": "print('Datamart:', data_mart_id)\nprint('Model:', model_uid)\nprint('Deployment:', deployment_uid)\nprint('Binding:', binding_uid)\nprint('Scoring URL:', credit_risk_scoring_endpoint)"
        },
        {
            "cell_type": "markdown",
            "metadata": {},
            "source": "## Identify transactions for Explainability"
        },
        {
            "cell_type": "markdown",
            "metadata": {},
            "source": "Transaction IDs identified by the cells below can be copied and pasted into the Explainability tab of the OpenScale dashboard."
        },
        {
            "cell_type": "code",
            "execution_count": 107,
            "metadata": {
                "scrolled": false
            },
            "outputs": [
                {
                    "data": {
                        "text/html": "<div>\n<style scoped>\n    .dataframe tbody tr th:only-of-type {\n        vertical-align: middle;\n    }\n\n    .dataframe tbody tr th {\n        vertical-align: top;\n    }\n\n    .dataframe thead th {\n        text-align: right;\n    }\n</style>\n<table border=\"1\" class=\"dataframe\">\n  <thead>\n    <tr style=\"text-align: right;\">\n      <th></th>\n      <th>scoring_id</th>\n      <th>predictedLabel</th>\n      <th>probability</th>\n    </tr>\n  </thead>\n  <tbody>\n    <tr>\n      <th>0</th>\n      <td>b0e964ba166c8840305cb4644e7c7e9c-200</td>\n      <td>No Risk</td>\n      <td>[0.6150394021126526, 0.3849605978873475]</td>\n    </tr>\n    <tr>\n      <th>1</th>\n      <td>b0e964ba166c8840305cb4644e7c7e9c-199</td>\n      <td>No Risk</td>\n      <td>[0.7340038869257928, 0.2659961130742072]</td>\n    </tr>\n    <tr>\n      <th>2</th>\n      <td>b0e964ba166c8840305cb4644e7c7e9c-198</td>\n      <td>No Risk</td>\n      <td>[0.8901672402107167, 0.10983275978928342]</td>\n    </tr>\n    <tr>\n      <th>3</th>\n      <td>b0e964ba166c8840305cb4644e7c7e9c-197</td>\n      <td>No Risk</td>\n      <td>[0.5852928320163733, 0.41470716798362667]</td>\n    </tr>\n    <tr>\n      <th>4</th>\n      <td>b0e964ba166c8840305cb4644e7c7e9c-196</td>\n      <td>No Risk</td>\n      <td>[0.8846672905246515, 0.11533270947534846]</td>\n    </tr>\n    <tr>\n      <th>5</th>\n      <td>b0e964ba166c8840305cb4644e7c7e9c-195</td>\n      <td>No Risk</td>\n      <td>[0.8304954184026256, 0.16950458159737447]</td>\n    </tr>\n    <tr>\n      <th>6</th>\n      <td>b0e964ba166c8840305cb4644e7c7e9c-194</td>\n      <td>Risk</td>\n      <td>[0.3144733424159704, 0.6855266575840296]</td>\n    </tr>\n    <tr>\n      <th>7</th>\n      <td>b0e964ba166c8840305cb4644e7c7e9c-193</td>\n      <td>Risk</td>\n      <td>[0.07547392124003106, 0.9245260787599688]</td>\n    </tr>\n    <tr>\n      <th>8</th>\n      <td>b0e964ba166c8840305cb4644e7c7e9c-192</td>\n      <td>No Risk</td>\n      <td>[0.8243577529217869, 0.17564224707821302]</td>\n    </tr>\n    <tr>\n      <th>9</th>\n      <td>b0e964ba166c8840305cb4644e7c7e9c-191</td>\n      <td>No Risk</td>\n      <td>[0.8586311446671855, 0.14136885533281446]</td>\n    </tr>\n    <tr>\n      <th>10</th>\n      <td>b0e964ba166c8840305cb4644e7c7e9c-190</td>\n      <td>Risk</td>\n      <td>[0.09960292321857174, 0.9003970767814282]</td>\n    </tr>\n    <tr>\n      <th>11</th>\n      <td>b0e964ba166c8840305cb4644e7c7e9c-189</td>\n      <td>No Risk</td>\n      <td>[0.9759250964732583, 0.02407490352674165]</td>\n    </tr>\n    <tr>\n      <th>12</th>\n      <td>b0e964ba166c8840305cb4644e7c7e9c-188</td>\n      <td>Risk</td>\n      <td>[0.21192293406921586, 0.7880770659307842]</td>\n    </tr>\n    <tr>\n      <th>13</th>\n      <td>b0e964ba166c8840305cb4644e7c7e9c-187</td>\n      <td>No Risk</td>\n      <td>[0.9747533428374192, 0.02524665716258074]</td>\n    </tr>\n    <tr>\n      <th>14</th>\n      <td>b0e964ba166c8840305cb4644e7c7e9c-186</td>\n      <td>No Risk</td>\n      <td>[0.6108036520057836, 0.38919634799421643]</td>\n    </tr>\n    <tr>\n      <th>15</th>\n      <td>b0e964ba166c8840305cb4644e7c7e9c-185</td>\n      <td>No Risk</td>\n      <td>[0.9308611952440955, 0.06913880475590455]</td>\n    </tr>\n    <tr>\n      <th>16</th>\n      <td>b0e964ba166c8840305cb4644e7c7e9c-184</td>\n      <td>No Risk</td>\n      <td>[0.9454029597680467, 0.05459704023195332]</td>\n    </tr>\n    <tr>\n      <th>17</th>\n      <td>b0e964ba166c8840305cb4644e7c7e9c-183</td>\n      <td>Risk</td>\n      <td>[0.2582121321898197, 0.7417878678101804]</td>\n    </tr>\n    <tr>\n      <th>18</th>\n      <td>b0e964ba166c8840305cb4644e7c7e9c-182</td>\n      <td>No Risk</td>\n      <td>[0.972770756104471, 0.02722924389552897]</td>\n    </tr>\n    <tr>\n      <th>19</th>\n      <td>b0e964ba166c8840305cb4644e7c7e9c-181</td>\n      <td>No Risk</td>\n      <td>[0.7122408559241826, 0.2877591440758174]</td>\n    </tr>\n  </tbody>\n</table>\n</div>",
                        "text/plain": "                              scoring_id predictedLabel  \\\n0   b0e964ba166c8840305cb4644e7c7e9c-200        No Risk   \n1   b0e964ba166c8840305cb4644e7c7e9c-199        No Risk   \n2   b0e964ba166c8840305cb4644e7c7e9c-198        No Risk   \n3   b0e964ba166c8840305cb4644e7c7e9c-197        No Risk   \n4   b0e964ba166c8840305cb4644e7c7e9c-196        No Risk   \n5   b0e964ba166c8840305cb4644e7c7e9c-195        No Risk   \n6   b0e964ba166c8840305cb4644e7c7e9c-194           Risk   \n7   b0e964ba166c8840305cb4644e7c7e9c-193           Risk   \n8   b0e964ba166c8840305cb4644e7c7e9c-192        No Risk   \n9   b0e964ba166c8840305cb4644e7c7e9c-191        No Risk   \n10  b0e964ba166c8840305cb4644e7c7e9c-190           Risk   \n11  b0e964ba166c8840305cb4644e7c7e9c-189        No Risk   \n12  b0e964ba166c8840305cb4644e7c7e9c-188           Risk   \n13  b0e964ba166c8840305cb4644e7c7e9c-187        No Risk   \n14  b0e964ba166c8840305cb4644e7c7e9c-186        No Risk   \n15  b0e964ba166c8840305cb4644e7c7e9c-185        No Risk   \n16  b0e964ba166c8840305cb4644e7c7e9c-184        No Risk   \n17  b0e964ba166c8840305cb4644e7c7e9c-183           Risk   \n18  b0e964ba166c8840305cb4644e7c7e9c-182        No Risk   \n19  b0e964ba166c8840305cb4644e7c7e9c-181        No Risk   \n\n                                  probability  \n0    [0.6150394021126526, 0.3849605978873475]  \n1    [0.7340038869257928, 0.2659961130742072]  \n2   [0.8901672402107167, 0.10983275978928342]  \n3   [0.5852928320163733, 0.41470716798362667]  \n4   [0.8846672905246515, 0.11533270947534846]  \n5   [0.8304954184026256, 0.16950458159737447]  \n6    [0.3144733424159704, 0.6855266575840296]  \n7   [0.07547392124003106, 0.9245260787599688]  \n8   [0.8243577529217869, 0.17564224707821302]  \n9   [0.8586311446671855, 0.14136885533281446]  \n10  [0.09960292321857174, 0.9003970767814282]  \n11  [0.9759250964732583, 0.02407490352674165]  \n12  [0.21192293406921586, 0.7880770659307842]  \n13  [0.9747533428374192, 0.02524665716258074]  \n14  [0.6108036520057836, 0.38919634799421643]  \n15  [0.9308611952440955, 0.06913880475590455]  \n16  [0.9454029597680467, 0.05459704023195332]  \n17   [0.2582121321898197, 0.7417878678101804]  \n18   [0.972770756104471, 0.02722924389552897]  \n19   [0.7122408559241826, 0.2877591440758174]  "
                    },
                    "execution_count": 107,
                    "metadata": {},
                    "output_type": "execute_result"
                }
            ],
            "source": "payload_data = subscription.payload_logging.get_table_content(limit=20)\npayload_data.filter(items=['scoring_id', 'predictedLabel', 'probability'])"
        },
        {
            "cell_type": "markdown",
            "metadata": {},
            "source": "## Congratulations!\n\nYou have finished the hands-on lab for IBM Watson OpenScale. You can now view the [OpenScale Dashboard](https://aiopenscale.cloud.ibm.com/). Click on the tile for the German Credit model to see fairness, accuracy, and performance monitors. Click on the timeseries graph to get detailed information on transactions during a specific time window.\n\n## Next steps\n\nOpenScale shows model performance over time. You have two options to keep data flowing to your OpenScale graphs:\n  * Download, configure and schedule the [model feed notebook](https://raw.githubusercontent.com/emartensibm/german-credit/master/german_credit_scoring_feed.ipynb). This notebook can be set up with your WML credentials, and scheduled to provide a consistent flow of scoring requests to your model, which will appear in your OpenScale monitors.\n  * Re-run this notebook. Running this notebook from the beginning will delete and re-create the model and deployment, and re-create the historical data. Please note that the payload and measurement logs for the previous deployment will continue to be stored in your datamart, and can be deleted if necessary."
        },
        {
            "cell_type": "markdown",
            "metadata": {},
            "source": "## Authors\n\nEric Martens, is a technical specialist having expertise in analysis and description of business processes, and their translation into functional and non-functional IT requirements. He acts as the interpreter between the worlds of IT and business.\n\nLukasz Cmielowski, PhD, is an Automation Architect and Data Scientist at IBM with a track record of developing enterprise-level applications that substantially increases clients' ability to turn data into actionable knowledge."
        }
    ],
    "metadata": {
        "kernelspec": {
            "display_name": "Python 3.6 with Spark",
            "language": "python3",
            "name": "python36"
        },
        "language_info": {
            "codemirror_mode": {
                "name": "ipython",
                "version": 3
            },
            "file_extension": ".py",
            "mimetype": "text/x-python",
            "name": "python",
            "nbconvert_exporter": "python",
            "pygments_lexer": "ipython3",
            "version": "3.6.8"
        }
    },
    "nbformat": 4,
    "nbformat_minor": 1
}