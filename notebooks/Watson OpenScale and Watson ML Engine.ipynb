{
    "nbformat_minor": 1, 
    "cells": [
        {
            "source": "<img src=\"https://github.com/pmservice/ai-openscale-tutorials/raw/master/notebooks/images/banner.png\" align=\"left\" alt=\"banner\">", 
            "cell_type": "markdown", 
            "metadata": {}
        }, 
        {
            "source": "# Working with Watson Machine Learning", 
            "cell_type": "markdown", 
            "metadata": {}
        }, 
        {
            "source": "This notebook should be run in a Watson Studio project, using **Default Spark Python** runtime environment. **If you are viewing this in Watson Studio and do not see Python 3.5 with Spark in the upper right corner of your screen, please update the runtime now.** It requires service credentials for the following Cloud services:\n  * Watson OpenScale\n  * Watson Machine Learning\n  \nIf you have a paid Cloud account, you may also provision a **Databases for PostgreSQL** or **Db2 Warehouse** service to take full advantage of integration with Watson Studio and continuous learning services. If you choose not to provision this paid service, you can use the free internal PostgreSQL storage with OpenScale, but will not be able to configure continuous learning for your model.\n\nThe notebook will train, create and deploy a German Credit Risk model, configure OpenScale to monitor that deployment, and inject seven days' worth of historical records and measurements for viewing in the OpenScale Insights dashboard.", 
            "cell_type": "markdown", 
            "metadata": {}
        }, 
        {
            "source": "### Contents\n\n- [Setup](#setup)\n- [Model building and deployment](#model)\n- [OpenScale configuration](#openscale)\n- [Quality monitor and feedback logging](#quality)\n- [Fairness monitoring and explanations](#fairness)\n- [Custom monitors and metrics](#custom)\n- [Payload analytics](#analytics)\n- [Historical data](#historical)", 
            "cell_type": "markdown", 
            "metadata": {}
        }, 
        {
            "source": "# Setup <a name=\"setup\"></a>", 
            "cell_type": "markdown", 
            "metadata": {}
        }, 
        {
            "source": "## Spark check", 
            "cell_type": "markdown", 
            "metadata": {}
        }, 
        {
            "execution_count": 1, 
            "cell_type": "code", 
            "metadata": {}, 
            "outputs": [
                {
                    "output_type": "stream", 
                    "name": "stdout", 
                    "text": "Waiting for a Spark session to start...\nSpark Initialization Done! ApplicationId = app-20190605094250-0001\nKERNEL_ID = dace49ae-0b73-4ada-94e3-9c57eef7231c\n"
                }
            ], 
            "source": "try:\n    from pyspark.sql import SparkSession\nexcept:\n    print('Error: Spark runtime is missing. If you are using Watson Studio change the notebook runtime to Spark.')\n    raise "
        }, 
        {
            "source": "## Package installation", 
            "cell_type": "markdown", 
            "metadata": {
                "collapsed": true
            }
        }, 
        {
            "execution_count": 2, 
            "cell_type": "code", 
            "metadata": {}, 
            "outputs": [
                {
                    "output_type": "stream", 
                    "name": "stdout", 
                    "text": "\u001b[31mtensorflow 1.13.1 requires tensorboard<1.14.0,>=1.13.0, which is not installed.\u001b[0m\n\u001b[31mspyder 3.3.3 requires pyqt5<=5.12; python_version >= \"3\", which is not installed.\u001b[0m\n\u001b[31mibm-cos-sdk-core 2.4.4 has requirement urllib3<1.25,>=1.20, but you'll have urllib3 1.25.3 which is incompatible.\u001b[0m\n\u001b[31mbotocore 1.12.82 has requirement urllib3<1.25,>=1.20, but you'll have urllib3 1.25.3 which is incompatible.\u001b[0m\nSuccessfully installed certifi-2019.3.9 chardet-3.0.4 docutils-0.14 h5py-2.9.0 ibm-ai-openscale-2.1.7 ibm-cos-sdk-2.4.4 ibm-cos-sdk-core-2.4.4 ibm-cos-sdk-s3transfer-2.4.4 idna-2.8 jmespath-0.9.4 lomond-0.3.3 numpy-1.16.4 pandas-0.24.2 python-dateutil-2.8.0 pytz-2019.1 requests-2.22.0 six-1.12.0 tabulate-0.8.3 tqdm-4.32.1 urllib3-1.25.3 watson-machine-learning-client-1.0.365\n\u001b[31mtensorflow 1.13.1 requires tensorboard<1.14.0,>=1.13.0, which is not installed.\u001b[0m\n\u001b[31mspyder 3.3.3 requires pyqt5<=5.12; python_version >= \"3\", which is not installed.\u001b[0m\n\u001b[31mibm-cos-sdk-core 2.4.4 has requirement urllib3<1.25,>=1.20, but you'll have urllib3 1.25.3 which is incompatible.\u001b[0m\n\u001b[31mbotocore 1.12.82 has requirement urllib3<1.25,>=1.20, but you'll have urllib3 1.25.3 which is incompatible.\u001b[0m\nSuccessfully installed certifi-2019.3.9 chardet-3.0.4 docutils-0.14 ibm-cos-sdk-2.4.4 ibm-cos-sdk-core-2.4.4 ibm-cos-sdk-s3transfer-2.4.4 idna-2.8 jmespath-0.9.4 lomond-0.3.3 numpy-1.16.4 pandas-0.24.2 python-dateutil-2.8.0 pytz-2019.1 requests-2.22.0 six-1.12.0 tabulate-0.8.3 tqdm-4.32.1 urllib3-1.25.3 watson-machine-learning-client-1.0.365\n\u001b[31mtensorflow 1.13.1 requires tensorboard<1.14.0,>=1.13.0, which is not installed.\u001b[0m\nSuccessfully installed numpy-1.16.4\n\u001b[31mtensorflow 1.13.1 requires tensorboard<1.14.0,>=1.13.0, which is not installed.\u001b[0m\nSuccessfully installed SciPy-1.3.0 numpy-1.16.4\n\u001b[31mtensorflow 1.13.1 requires tensorboard<1.14.0,>=1.13.0, which is not installed.\u001b[0m\n\u001b[31mibm-cos-sdk-core 2.4.4 has requirement urllib3<1.25,>=1.20, but you'll have urllib3 1.25.3 which is incompatible.\u001b[0m\n\u001b[31mbotocore 1.12.82 has requirement urllib3<1.25,>=1.20, but you'll have urllib3 1.25.3 which is incompatible.\u001b[0m\n\u001b[33mTarget directory /home/spark/shared/user-libs/python3/dateutil already exists. Specify --upgrade to force replacement.\u001b[0m\n\u001b[33mTarget directory /home/spark/shared/user-libs/python3/__pycache__ already exists. Specify --upgrade to force replacement.\u001b[0m\n\u001b[33mTarget directory /home/spark/shared/user-libs/python3/numpy already exists. Specify --upgrade to force replacement.\u001b[0m\n\u001b[33mTarget directory /home/spark/shared/user-libs/python3/six.py already exists. Specify --upgrade to force replacement.\u001b[0m\n\u001b[33mTarget directory /home/spark/shared/user-libs/python3/scipy-1.3.0.dist-info already exists. Specify --upgrade to force replacement.\u001b[0m\n\u001b[33mTarget directory /home/spark/shared/user-libs/python3/python_dateutil-2.8.0.dist-info already exists. Specify --upgrade to force replacement.\u001b[0m\n\u001b[33mTarget directory /home/spark/shared/user-libs/python3/numpy-1.16.4.dist-info already exists. Specify --upgrade to force replacement.\u001b[0m\n\u001b[33mTarget directory /home/spark/shared/user-libs/python3/scipy already exists. Specify --upgrade to force replacement.\u001b[0m\n\u001b[33mTarget directory /home/spark/shared/user-libs/python3/six-1.12.0.dist-info already exists. Specify --upgrade to force replacement.\u001b[0m\n\u001b[33mTarget directory /home/spark/shared/user-libs/python3/bin already exists. Specify --upgrade to force replacement.\u001b[0m\nSuccessfully installed PyWavelets-1.0.3 cycler-0.10.0 decorator-4.4.0 imageio-2.5.0 joblib-0.13.2 kiwisolver-1.1.0 lime-0.1.1.34 matplotlib-3.1.0 networkx-2.3 numpy-1.16.4 pillow-6.0.0 pyparsing-2.4.0 python-dateutil-2.8.0 scikit-image-0.15.0 scikit-learn-0.21.2 scipy-1.3.0 setuptools-41.0.1 six-1.12.0\n\u001b[31mtensorflow 1.13.1 requires tensorboard<1.14.0,>=1.13.0, which is not installed.\u001b[0m\n\u001b[31mspyder 3.3.3 requires pyqt5<=5.12; python_version >= \"3\", which is not installed.\u001b[0m\n\u001b[31mibm-cos-sdk-core 2.4.4 has requirement urllib3<1.25,>=1.20, but you'll have urllib3 1.25.3 which is incompatible.\u001b[0m\n\u001b[31mbotocore 1.12.82 has requirement urllib3<1.25,>=1.20, but you'll have urllib3 1.25.3 which is incompatible.\u001b[0m\n\u001b[33mTarget directory /home/spark/shared/user-libs/python3/easy_install.py already exists. Specify --upgrade to force replacement.\u001b[0m\n\u001b[33mTarget directory /home/spark/shared/user-libs/python3/certifi-2019.3.9.dist-info already exists. Specify --upgrade to force replacement.\u001b[0m\n\u001b[33mTarget directory /home/spark/shared/user-libs/python3/__pycache__ already exists. Specify --upgrade to force replacement.\u001b[0m\n\u001b[33mTarget directory /home/spark/shared/user-libs/python3/urllib3-1.25.3.dist-info already exists. Specify --upgrade to force replacement.\u001b[0m\n\u001b[33mTarget directory /home/spark/shared/user-libs/python3/requests-2.22.0.dist-info already exists. Specify --upgrade to force replacement.\u001b[0m\n\u001b[33mTarget directory /home/spark/shared/user-libs/python3/six.py already exists. Specify --upgrade to force replacement.\u001b[0m\n\u001b[33mTarget directory /home/spark/shared/user-libs/python3/chardet already exists. Specify --upgrade to force replacement.\u001b[0m\n\u001b[33mTarget directory /home/spark/shared/user-libs/python3/pkg_resources already exists. Specify --upgrade to force replacement.\u001b[0m\n\u001b[33mTarget directory /home/spark/shared/user-libs/python3/setuptools already exists. Specify --upgrade to force replacement.\u001b[0m\n\u001b[33mTarget directory /home/spark/shared/user-libs/python3/idna already exists. Specify --upgrade to force replacement.\u001b[0m\n\u001b[33mTarget directory /home/spark/shared/user-libs/python3/chardet-3.0.4.dist-info already exists. Specify --upgrade to force replacement.\u001b[0m\n\u001b[33mTarget directory /home/spark/shared/user-libs/python3/urllib3 already exists. Specify --upgrade to force replacement.\u001b[0m\n\u001b[33mTarget directory /home/spark/shared/user-libs/python3/setuptools-41.0.1.dist-info already exists. Specify --upgrade to force replacement.\u001b[0m\n\u001b[33mTarget directory /home/spark/shared/user-libs/python3/certifi already exists. Specify --upgrade to force replacement.\u001b[0m\n\u001b[33mTarget directory /home/spark/shared/user-libs/python3/idna-2.8.dist-info already exists. Specify --upgrade to force replacement.\u001b[0m\n\u001b[33mTarget directory /home/spark/shared/user-libs/python3/requests already exists. Specify --upgrade to force replacement.\u001b[0m\n\u001b[33mTarget directory /home/spark/shared/user-libs/python3/six-1.12.0.dist-info already exists. Specify --upgrade to force replacement.\u001b[0m\n\u001b[33mTarget directory /home/spark/shared/user-libs/python3/bin already exists. Specify --upgrade to force replacement.\u001b[0m\nSuccessfully installed astunparse-1.6.2 certifi-2019.3.9 chardet-3.0.4 colour-0.1.5 geojson-2.4.1 idna-2.8 lxml-4.3.3 markdown-3.1.1 mpld3-0.3 pixiedust-1.1.17 requests-2.22.0 setuptools-41.0.1 six-1.12.0 urllib3-1.25.3 wheel-0.33.4\n"
                }
            ], 
            "source": "!rm -rf /home/spark/shared/user-libs/python3/*\n\n!pip install --upgrade ibm-ai-openscale --no-cache | tail -n 1\n!pip install --upgrade watson-machine-learning-client | tail -n 1\n!pip install --upgrade numpy --no-cache | tail -n 1\n!pip install --upgrade SciPy --no-cache | tail -n 1\n!pip install lime --no-cache | tail -n 1\n!pip install pixiedust | tail -n 1"
        }, 
        {
            "source": "## Provision services and configure credentials", 
            "cell_type": "markdown", 
            "metadata": {}
        }, 
        {
            "source": "If you have not already, provision an instance of IBM Watson OpenScale using the [OpenScale link in the Cloud catalog](https://cloud.ibm.com/catalog/services/watson-openscale).", 
            "cell_type": "markdown", 
            "metadata": {}
        }, 
        {
            "source": "Your Cloud API key can be generated by going to the [**Users** section of the Cloud console](https://cloud.ibm.com/iam#/users). From that page, click your name, scroll down to the **API Keys** section, and click **Create an IBM Cloud API key**. Give your key a name and click **Create**, then copy the created key and paste it below.", 
            "cell_type": "markdown", 
            "metadata": {}
        }, 
        {
            "source": "**NOTE:** You can also get OpenScale `API_KEY` using IBM CLOUD CLI.\n\nHow to install IBM Cloud (bluemix) console: [instruction](https://console.bluemix.net/docs/cli/reference/ibmcloud/download_cli.html#install_use)\n\nHow to get api key using console:\n```\nbx login --sso\nbx iam api-key-create 'my_key'\n```", 
            "cell_type": "markdown", 
            "metadata": {}
        }, 
        {
            "execution_count": 3, 
            "cell_type": "code", 
            "metadata": {
                "scrolled": true
            }, 
            "outputs": [], 
            "source": "CLOUD_API_KEY = \"PASTE HERE\""
        }, 
        {
            "execution_count": 4, 
            "cell_type": "code", 
            "metadata": {}, 
            "outputs": [], 
            "source": "# The code was removed by Watson Studio for sharing."
        }, 
        {
            "source": "Next you will need credentials for Watson Machine Learning. If you already have a WML instance, you may use credentials for it. To provision a new Lite instance of WML, use the [Cloud catalog](https://cloud.ibm.com/catalog/services/machine-learning), give your service a name, and click **Create**. Once your instance is created, click the **Service Credentials** link on the left side of the screen. Click the **New credential** button, give your credentials a name, and click **Add**. Your new credentials can be accessed by clicking the **View credentials** button. Copy and paste your WML credentials into the cell below.", 
            "cell_type": "markdown", 
            "metadata": {}
        }, 
        {
            "execution_count": 5, 
            "cell_type": "code", 
            "metadata": {
                "scrolled": true
            }, 
            "outputs": [], 
            "source": "WML_CREDENTIALS = {\n    \"apikey\": \"key\",\n    \"iam_apikey_description\": \"description\",\n    \"iam_apikey_name\": \"auto-generated-apikey\",\n    \"iam_role_crn\": \"crn:v1:bluemix:public:iam::::serviceRole:Writer\",\n    \"iam_serviceid_crn\": \"crn:v1:bluemix:public:iam-identity::\",\n    \"instance_id\": \"instance_id\",\n    \"password\": \"password\",\n    \"url\": \"https://us-south.ml.cloud.ibm.com\",\n    \"username\": \"username\"\n}"
        }, 
        {
            "execution_count": 6, 
            "cell_type": "code", 
            "metadata": {}, 
            "outputs": [], 
            "source": "# The code was removed by Watson Studio for sharing."
        }, 
        {
            "source": "This tutorial can use Databases for PostgreSQL, Db2 Warehouse, or a free internal verison of PostgreSQL to create a datamart for OpenScale.\n\nIf you have previously configured OpenScale, it will use your existing datamart, and not interfere with any models you are currently monitoring. Do not update the cell below.\n\nIf you do not have a paid Cloud account or would prefer not to provision this paid service, you may use the free internal PostgreSQL service with OpenScale. Do not update the cell below.\n\nTo provision a new instance of Db2 Warehouse, locate [Db2 Warehouse in the Cloud catalog](https://cloud.ibm.com/catalog/services/db2-warehouse), give your service a name, and click **Create**. Once your instance is created, click the **Service Credentials** link on the left side of the screen. Click the **New credential** button, give your credentials a name, and click **Add**. Your new credentials can be accessed by clicking the **View credentials** button. Copy and paste your Db2 Warehouse credentials into the cell below.\n\nTo provision a new instance of Databases for PostgreSQL, locate [Databases for PostgreSQL in the Cloud catalog](https://cloud.ibm.com/catalog/services/databases-for-postgresql), give your service a name, and click **Create**. Once your instance is created, click the **Service Credentials** link on the left side of the screen. Click the **New credential** button, give your credentials a name, and click **Add**. Your new credentials can be accessed by clicking the **View credentials** button. Copy and paste your Databases for PostgreSQL credentials into the cell below.", 
            "cell_type": "markdown", 
            "metadata": {}
        }, 
        {
            "execution_count": 7, 
            "cell_type": "code", 
            "metadata": {
                "scrolled": true
            }, 
            "outputs": [], 
            "source": "DB_CREDENTIALS = None"
        }, 
        {
            "source": "__If you previously configured OpenScale to use the free internal version of PostgreSQL, you can switch to a new datamart using a paid database service.__ If you would like to delete the internal PostgreSQL configuration and create a new one using service credentials supplied in the cell above, set the __KEEP_MY_INTERNAL_POSTGRES__ variable below to __False__ below. In this case, the notebook will remove your existing internal PostgreSQL datamart and create a new one with the supplied credentials. __*NO DATA MIGRATION WILL OCCUR.*__", 
            "cell_type": "markdown", 
            "metadata": {}
        }, 
        {
            "execution_count": 8, 
            "cell_type": "code", 
            "metadata": {}, 
            "outputs": [], 
            "source": "KEEP_MY_INTERNAL_POSTGRES = True"
        }, 
        {
            "source": "## Run the notebook\n\nAt this point, the notebook is ready to run. You can either run the cells one at a time, or click the **Kernel** option above and select **Restart and Run All** to run all the cells.", 
            "cell_type": "markdown", 
            "metadata": {}
        }, 
        {
            "source": "# Model building and deployment <a name=\"model\"></a>", 
            "cell_type": "markdown", 
            "metadata": {}
        }, 
        {
            "source": "In this section you will learn how to train Spark MLLib model and next deploy it as web-service using Watson Machine Learning service.", 
            "cell_type": "markdown", 
            "metadata": {}
        }, 
        {
            "source": "## Load the training data from github", 
            "cell_type": "markdown", 
            "metadata": {}
        }, 
        {
            "execution_count": 9, 
            "cell_type": "code", 
            "metadata": {
                "scrolled": true
            }, 
            "outputs": [
                {
                    "output_type": "stream", 
                    "name": "stdout", 
                    "text": "--2019-06-05 09:45:47--  https://raw.githubusercontent.com/pmservice/ai-openscale-tutorials/master/assets/historical_data/german_credit_risk/wml/german_credit_data_biased_training.csv\nResolving raw.githubusercontent.com (raw.githubusercontent.com)... 151.101.48.133\nConnecting to raw.githubusercontent.com (raw.githubusercontent.com)|151.101.48.133|:443... connected.\nHTTP request sent, awaiting response... 200 OK\nLength: 689622 (673K) [text/plain]\nSaving to: 'german_credit_data_biased_training.csv'\n\ngerman_credit_data_ 100%[===================>] 673.46K  --.-KB/s    in 0.02s   \n\n2019-06-05 09:45:47 (26.6 MB/s) - 'german_credit_data_biased_training.csv' saved [689622/689622]\n\n"
                }
            ], 
            "source": "!rm german_credit_data_biased_training.csv\n!wget https://raw.githubusercontent.com/pmservice/ai-openscale-tutorials/master/assets/historical_data/german_credit_risk/wml/german_credit_data_biased_training.csv"
        }, 
        {
            "execution_count": 10, 
            "cell_type": "code", 
            "metadata": {
                "scrolled": true
            }, 
            "outputs": [
                {
                    "execution_count": 10, 
                    "metadata": {}, 
                    "data": {
                        "text/plain": "Row(CheckingStatus='0_to_200', LoanDuration=31, CreditHistory='credits_paid_to_date', LoanPurpose='other', LoanAmount=1889, ExistingSavings='100_to_500', EmploymentDuration='less_1', InstallmentPercent=3, Sex='female', OthersOnLoan='none', CurrentResidenceDuration=3, OwnsProperty='savings_insurance', Age=32, InstallmentPlans='none', Housing='own', ExistingCreditsCount=1, Job='skilled', Dependents=1, Telephone='none', ForeignWorker='yes', Risk='No Risk')"
                    }, 
                    "output_type": "execute_result"
                }
            ], 
            "source": "from pyspark.sql import SparkSession\nimport pandas as pd\nimport json\n\nspark = SparkSession.builder.getOrCreate()\npd_data = pd.read_csv(\"german_credit_data_biased_training.csv\", sep=\",\", header=0)\ndf_data = spark.read.csv(path=\"german_credit_data_biased_training.csv\", sep=\",\", header=True, inferSchema=True)\ndf_data.head()"
        }, 
        {
            "source": "## Explore data", 
            "cell_type": "markdown", 
            "metadata": {}
        }, 
        {
            "execution_count": 11, 
            "cell_type": "code", 
            "metadata": {
                "scrolled": true
            }, 
            "outputs": [
                {
                    "output_type": "stream", 
                    "name": "stdout", 
                    "text": "root\n |-- CheckingStatus: string (nullable = true)\n |-- LoanDuration: integer (nullable = true)\n |-- CreditHistory: string (nullable = true)\n |-- LoanPurpose: string (nullable = true)\n |-- LoanAmount: integer (nullable = true)\n |-- ExistingSavings: string (nullable = true)\n |-- EmploymentDuration: string (nullable = true)\n |-- InstallmentPercent: integer (nullable = true)\n |-- Sex: string (nullable = true)\n |-- OthersOnLoan: string (nullable = true)\n |-- CurrentResidenceDuration: integer (nullable = true)\n |-- OwnsProperty: string (nullable = true)\n |-- Age: integer (nullable = true)\n |-- InstallmentPlans: string (nullable = true)\n |-- Housing: string (nullable = true)\n |-- ExistingCreditsCount: integer (nullable = true)\n |-- Job: string (nullable = true)\n |-- Dependents: integer (nullable = true)\n |-- Telephone: string (nullable = true)\n |-- ForeignWorker: string (nullable = true)\n |-- Risk: string (nullable = true)\n\n"
                }
            ], 
            "source": "df_data.printSchema()"
        }, 
        {
            "execution_count": 12, 
            "cell_type": "code", 
            "metadata": {
                "scrolled": true
            }, 
            "outputs": [
                {
                    "output_type": "stream", 
                    "name": "stdout", 
                    "text": "Number of records: 5000\n"
                }
            ], 
            "source": "print(\"Number of records: \" + str(df_data.count()))"
        }, 
        {
            "source": "## Visualize data with pixiedust", 
            "cell_type": "markdown", 
            "metadata": {}
        }, 
        {
            "execution_count": 13, 
            "cell_type": "code", 
            "metadata": {}, 
            "outputs": [
                {
                    "output_type": "stream", 
                    "name": "stdout", 
                    "text": "Pixiedust database opened successfully\n"
                }, 
                {
                    "output_type": "display_data", 
                    "data": {
                        "text/html": "\n        <div style=\"margin:10px\">\n            <a href=\"https://github.com/ibm-watson-data-lab/pixiedust\" target=\"_new\">\n                <img src=\"https://github.com/ibm-watson-data-lab/pixiedust/raw/master/docs/_static/pd_icon32.png\" style=\"float:left;margin-right:10px\"/>\n            </a>\n            <span>Pixiedust version upgraded from 1.1.16 to 1.1.17</span>\n        </div>\n        ", 
                        "text/plain": "<IPython.core.display.HTML object>"
                    }, 
                    "metadata": {}
                }
            ], 
            "source": "import pixiedust"
        }, 
        {
            "execution_count": null, 
            "cell_type": "code", 
            "metadata": {
                "pixiedust": {
                    "displayParams": {
                        "handlerId": "pieChart", 
                        "keyFields": "Risk", 
                        "rendererId": "bokeh", 
                        "chartsize": "50", 
                        "mpld3": "false", 
                        "aggregation": "COUNT"
                    }
                }
            }, 
            "outputs": [
                {
                    "output_type": "display_data", 
                    "data": {
                        "text/html": "<style type=\"text/css\">.pd_warning{display:none;}</style><div class=\"pd_warning\"><em>Hey, there's something awesome here! To see it, open this notebook outside GitHub, in a viewer like Jupyter</em></div>\n        <div class=\"pd_save is-viewer-good\" style=\"padding-right:10px;text-align: center;line-height:initial !important;font-size: xx-large;font-weight: 500;color: coral;\">\n            \n        </div>\n    <div id=\"chartFigure31f3d0a1\" class=\"pd_save is-viewer-good\" style=\"overflow-x:auto\">\n            \n                    \n                            <center><img style=\"max-width:initial !important\" src=\"data:image/png;base64,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\" class=\"pd_save\"></center>\n                        \n                    \n                \n        </div>", 
                        "text/plain": "<IPython.core.display.HTML object>"
                    }, 
                    "metadata": {}
                }
            ], 
            "source": "display(df_data)"
        }, 
        {
            "source": "## Create a model", 
            "cell_type": "markdown", 
            "metadata": {}
        }, 
        {
            "execution_count": 15, 
            "cell_type": "code", 
            "metadata": {
                "scrolled": true
            }, 
            "outputs": [
                {
                    "output_type": "stream", 
                    "name": "stdout", 
                    "text": "Number of records for training: 4016\nNumber of records for evaluation: 984\nroot\n |-- CheckingStatus: string (nullable = true)\n |-- LoanDuration: integer (nullable = true)\n |-- CreditHistory: string (nullable = true)\n |-- LoanPurpose: string (nullable = true)\n |-- LoanAmount: integer (nullable = true)\n |-- ExistingSavings: string (nullable = true)\n |-- EmploymentDuration: string (nullable = true)\n |-- InstallmentPercent: integer (nullable = true)\n |-- Sex: string (nullable = true)\n |-- OthersOnLoan: string (nullable = true)\n |-- CurrentResidenceDuration: integer (nullable = true)\n |-- OwnsProperty: string (nullable = true)\n |-- Age: integer (nullable = true)\n |-- InstallmentPlans: string (nullable = true)\n |-- Housing: string (nullable = true)\n |-- ExistingCreditsCount: integer (nullable = true)\n |-- Job: string (nullable = true)\n |-- Dependents: integer (nullable = true)\n |-- Telephone: string (nullable = true)\n |-- ForeignWorker: string (nullable = true)\n |-- Risk: string (nullable = true)\n\n"
                }
            ], 
            "source": "spark_df = df_data\n(train_data, test_data) = spark_df.randomSplit([0.8, 0.2], 24)\n\nMODEL_NAME = \"Spark German Risk Model - Final\"\nDEPLOYMENT_NAME = \"Spark German Risk Deployment - Final\"\n\nprint(\"Number of records for training: \" + str(train_data.count()))\nprint(\"Number of records for evaluation: \" + str(test_data.count()))\n\nspark_df.printSchema()"
        }, 
        {
            "source": "The code below creates a Random Forest Classifier with Spark, setting up string indexers for the categorical features and the label column. Finally, this notebook creates a pipeline including the indexers and the model, and does an initial Area Under ROC evaluation of the model.", 
            "cell_type": "markdown", 
            "metadata": {}
        }, 
        {
            "execution_count": 16, 
            "cell_type": "code", 
            "metadata": {
                "scrolled": true
            }, 
            "outputs": [], 
            "source": "from pyspark.ml.feature import OneHotEncoder, StringIndexer, IndexToString, VectorAssembler\nfrom pyspark.ml.evaluation import BinaryClassificationEvaluator\nfrom pyspark.ml import Pipeline, Model\n\nsi_CheckingStatus = StringIndexer(inputCol = 'CheckingStatus', outputCol = 'CheckingStatus_IX')\nsi_CreditHistory = StringIndexer(inputCol = 'CreditHistory', outputCol = 'CreditHistory_IX')\nsi_LoanPurpose = StringIndexer(inputCol = 'LoanPurpose', outputCol = 'LoanPurpose_IX')\nsi_ExistingSavings = StringIndexer(inputCol = 'ExistingSavings', outputCol = 'ExistingSavings_IX')\nsi_EmploymentDuration = StringIndexer(inputCol = 'EmploymentDuration', outputCol = 'EmploymentDuration_IX')\nsi_Sex = StringIndexer(inputCol = 'Sex', outputCol = 'Sex_IX')\nsi_OthersOnLoan = StringIndexer(inputCol = 'OthersOnLoan', outputCol = 'OthersOnLoan_IX')\nsi_OwnsProperty = StringIndexer(inputCol = 'OwnsProperty', outputCol = 'OwnsProperty_IX')\nsi_InstallmentPlans = StringIndexer(inputCol = 'InstallmentPlans', outputCol = 'InstallmentPlans_IX')\nsi_Housing = StringIndexer(inputCol = 'Housing', outputCol = 'Housing_IX')\nsi_Job = StringIndexer(inputCol = 'Job', outputCol = 'Job_IX')\nsi_Telephone = StringIndexer(inputCol = 'Telephone', outputCol = 'Telephone_IX')\nsi_ForeignWorker = StringIndexer(inputCol = 'ForeignWorker', outputCol = 'ForeignWorker_IX')"
        }, 
        {
            "execution_count": 17, 
            "cell_type": "code", 
            "metadata": {
                "scrolled": true
            }, 
            "outputs": [], 
            "source": "si_Label = StringIndexer(inputCol=\"Risk\", outputCol=\"label\").fit(spark_df)\nlabel_converter = IndexToString(inputCol=\"prediction\", outputCol=\"predictedLabel\", labels=si_Label.labels)"
        }, 
        {
            "execution_count": 18, 
            "cell_type": "code", 
            "metadata": {
                "scrolled": true
            }, 
            "outputs": [], 
            "source": "va_features = VectorAssembler(inputCols=[\"CheckingStatus_IX\", \"CreditHistory_IX\", \"LoanPurpose_IX\", \"ExistingSavings_IX\", \"EmploymentDuration_IX\", \"Sex_IX\", \\\n                                         \"OthersOnLoan_IX\", \"OwnsProperty_IX\", \"InstallmentPlans_IX\", \"Housing_IX\", \"Job_IX\", \"Telephone_IX\", \"ForeignWorker_IX\", \\\n                                         \"LoanDuration\", \"LoanAmount\", \"InstallmentPercent\", \"CurrentResidenceDuration\", \"LoanDuration\", \"Age\", \"ExistingCreditsCount\", \\\n                                         \"Dependents\"], outputCol=\"features\")"
        }, 
        {
            "execution_count": 19, 
            "cell_type": "code", 
            "metadata": {
                "scrolled": true
            }, 
            "outputs": [], 
            "source": "from pyspark.ml.classification import RandomForestClassifier\nclassifier = RandomForestClassifier(featuresCol=\"features\")\n\npipeline = Pipeline(stages=[si_CheckingStatus, si_CreditHistory, si_EmploymentDuration, si_ExistingSavings, si_ForeignWorker, si_Housing, si_InstallmentPlans, si_Job, si_LoanPurpose, si_OthersOnLoan,\\\n                               si_OwnsProperty, si_Sex, si_Telephone, si_Label, va_features, classifier, label_converter])\nmodel = pipeline.fit(train_data)"
        }, 
        {
            "execution_count": 20, 
            "cell_type": "code", 
            "metadata": {
                "scrolled": true
            }, 
            "outputs": [
                {
                    "output_type": "stream", 
                    "name": "stdout", 
                    "text": "areaUnderROC = 0.714326\n"
                }
            ], 
            "source": "predictions = model.transform(test_data)\nevaluatorDT = BinaryClassificationEvaluator(rawPredictionCol=\"prediction\")\narea_under_curve = evaluatorDT.evaluate(predictions)\n\nprint(\"areaUnderROC = %g\" % area_under_curve)"
        }, 
        {
            "source": "## Publish the model", 
            "cell_type": "markdown", 
            "metadata": {}
        }, 
        {
            "source": "In this section, the notebook uses the supplied Watson Machine Learning credentials to save the model (including the pipeline) to the WML instance. Previous versions of the model are removed so that the notebook can be run again, resetting all data for another demo.", 
            "cell_type": "markdown", 
            "metadata": {}
        }, 
        {
            "execution_count": 21, 
            "cell_type": "code", 
            "metadata": {
                "scrolled": true
            }, 
            "outputs": [
                {
                    "output_type": "stream", 
                    "name": "stderr", 
                    "text": "/home/spark/shared/user-libs/python3/sklearn/externals/joblib/__init__.py:15: DeprecationWarning: sklearn.externals.joblib is deprecated in 0.21 and will be removed in 0.23. Please import this functionality directly from joblib, which can be installed with: pip install joblib. If this warning is raised when loading pickled models, you may need to re-serialize those models with scikit-learn 0.21+.\n  warnings.warn(msg, category=DeprecationWarning)\n"
                }
            ], 
            "source": "from watson_machine_learning_client import WatsonMachineLearningAPIClient\nimport json\n\nwml_client = WatsonMachineLearningAPIClient(WML_CREDENTIALS)"
        }, 
        {
            "source": "### Remove existing model and deployment", 
            "cell_type": "markdown", 
            "metadata": {}
        }, 
        {
            "execution_count": 22, 
            "cell_type": "code", 
            "metadata": {
                "scrolled": true
            }, 
            "outputs": [
                {
                    "output_type": "stream", 
                    "name": "stdout", 
                    "text": "Deleting deployment id d628aff8-b8aa-42ec-803e-c0d185a99e49\nDeleting model id 145a1365-cb75-465e-8210-1858adbae7f6\n------------------------------------  ------------------------------------  ------------------------  -----------------\nGUID                                  NAME                                  CREATED                   FRAMEWORK\na3583b91-2a7c-4817-bb95-293831c7f183  AIOS Spark German Risk model          2019-05-29T14:20:59.828Z  mllib-2.1\n965e5b42-9cca-4141-8881-a17b5f75a91b  AIOS Spark German Risk model          2019-05-29T13:18:27.395Z  mllib-2.1\ne6ffbb1e-53a6-40f3-b190-2d11fdbe458a  AIOS Spark German Risk model          2019-05-29T11:49:07.583Z  mllib-2.1\nd6293dce-3e73-4e3d-b96d-a4c532c78596  AIOS Spark German Risk model          2019-05-29T11:39:48.770Z  mllib-2.1\n10ff3963-f81d-46d6-9e52-64d6530f27a9  AIOS Spark German Risk model          2019-05-29T11:36:26.465Z  mllib-2.1\n32eec06f-de31-4a08-b329-c659a05826f7  AIOS Spark German Risk model          2019-05-29T10:59:55.608Z  mllib-2.1\n011cfea9-4e65-4e9a-97be-011dd5a68c72  AIOS Spark German Risk model          2019-05-27T13:29:06.990Z  mllib-2.1\n29d1c6e1-60b1-438a-9754-2788e3aa9bf6  AIOS Spark German Risk model          2019-05-27T09:57:33.064Z  mllib-2.1\n15eca736-b889-494c-9aa7-374cd3997aff  AIOS Spark German Risk model          2019-05-24T10:39:50.202Z  mllib-2.1\ncf689555-3b4f-4613-a8d0-4e9706bc8fe7  diabetes regression                   2019-05-23T07:19:12.676Z  scikit-learn-0.19\n06dd7f79-81ba-4cfd-8f97-0debaa7b7eb1  diabetes regression                   2019-05-23T07:02:20.779Z  scikit-learn-0.19\nb4bb376b-dddd-480b-947a-a6edc283b600  diabetes regression                   2019-05-21T12:28:37.386Z  scikit-learn-0.19\n87382ca4-b920-475b-927b-834f0e7a8774  AIOS Scikit Digits Model              2019-05-09T07:55:33.198Z  scikit-learn-0.19\ned9cf153-64f7-4609-854e-6dc052c93b6b  AIOS Keras DogsAndCats model          2019-05-08T17:19:06.759Z  tensorflow-1.5\nc00339d7-6fd1-4d4a-a21f-ae593c0cc72b  AIOS Keras DogsAndCats model          2019-05-06T08:20:56.881Z  tensorflow-1.5\n96c68770-61ee-4f4c-9a44-6ab3ee111842  AIOS Keras DogsAndCats model          2019-05-06T08:12:22.467Z  tensorflow-1.5\n0db79032-15a0-4425-8a54-12da316e7313  AIOS Keras iris model                 2019-04-12T13:08:50.026Z  tensorflow-1.5\n85c70143-86ce-4248-b7ae-ebba03e77aae  AIOS Scikit Digits Model              2019-04-12T12:46:52.760Z  scikit-learn-0.19\n44f0bf75-effb-4016-9158-7b585af4b5c0  AIOS Scikit Digits Model              2019-04-12T12:45:29.156Z  scikit-learn-0.19\nc69669fd-319c-48d5-adbe-8f1871df5c84  Propensity Model                      2019-04-05T14:15:09.772Z  mllib-2.3\nadd7e5f3-4ec4-49a7-ad22-d360bce6c443  sentiment-prediction                  2019-03-15T12:17:29.654Z  mllib-2.1\n09662d80-3722-48b8-b577-d2e1d62773c3  AIOS Spark Drugs feedback model       2019-03-15T10:59:33.285Z  mllib-2.1\n5b7dab22-37f8-478d-9524-d7a6005ab71d  AIOS TF Structured Model              2019-03-13T14:12:29.679Z  tensorflow-1.5\nc06aafcd-88d4-4547-bff8-ff17cb1b48c4  AIOS Spark Drugs feedback model       2019-03-13T14:02:41.167Z  mllib-2.1\nf271faa1-cb6d-4cd1-8020-c33b427cba4c  credit-risk                           2019-03-13T11:52:46.559Z  mllib-2.3\nac269afe-3b76-4264-8757-ef046790056e  AIOS Keras Stack Overflow model       2019-03-05T15:58:11.523Z  tensorflow-1.5\nc291e166-45c2-4411-bbe7-88a436f083c1  AIOS Keras spam model                 2019-03-05T13:00:37.170Z  tensorflow-1.5\na3c10d8c-fe54-4592-857b-0852c2807789  AIOS Keras Stack Overflow model       2019-03-04T11:27:59.318Z  tensorflow-1.5\na14b6c3a-5f8f-425a-b884-2d67a4d6c4b2  AIOS Keras Stack Overflow model       2019-03-04T11:19:05.553Z  tensorflow-1.5\n418445ec-c565-43ba-86e8-56a3a5aae165  AIOS Keras Stack Overflow model       2019-03-04T11:17:35.645Z  tensorflow-1.5\na128731e-8a03-4d91-b020-95d23aa4de98  AIOS Keras Stack Overflow model       2019-03-04T11:13:24.740Z  tensorflow-1.5\n490de02c-7190-4756-8e3b-7f1d6ba7134a  SVCHighlights                         2019-02-26T12:22:32.340Z  scikit-learn-0.19\n8d4649e7-ff64-4cea-800d-f1ac88e54c57  SVCHighlights                         2019-02-25T09:34:56.877Z  scikit-learn-0.19\n0d2ad5af-40b9-4dd0-ba11-8badcf9cb1c4  SVCHighlights                         2019-02-25T09:24:23.692Z  scikit-learn-0.19\nb83399e3-882c-4459-bc45-127a7c16d6f9  Dummy model for issue with pandas     2019-02-22T10:56:50.856Z  scikit-learn-0.19\n7ad9804c-6c21-4e62-8a10-3c4a7ebd3f13  Dummy model for issue                 2019-02-22T10:43:29.413Z  scikit-learn-0.19\nd5aee97c-5347-42ae-865c-794c431d750c  AIOS SPSS Customer Model              2019-02-21T09:43:08.816Z  spss-modeler-18.0\n9a7e44e9-5464-4ef8-a136-dd3ed3d41df2  AIOS SPSS Customer Model              2019-02-21T09:41:33.480Z  spss-modeler-18.0\n986a13c7-d0a3-4f18-83dd-37467d82ae8b  AIOS SPSS Customer Model              2019-02-21T09:16:04.246Z  spss-modeler-18.0\n199ee3ae-0b4a-4e5d-9434-1ffc7131c3d5  AIOS SPSS Customer Model              2019-02-21T09:10:23.729Z  spss-modeler-18.0\nd5a21cb5-7500-4e2c-aaae-006f6e243481  AIOS Spark German Risk model          2019-02-19T19:11:07.660Z  mllib-2.1\n29a29430-4538-4a66-96ce-e2e3502e9844  AIOS Spark German Risk model          2019-02-19T19:07:36.191Z  mllib-2.1\ncfa65667-2b40-4c7e-beb8-0ce986273e27  AIOS Spark German Risk model          2019-02-19T19:04:16.682Z  mllib-2.1\n9dc24903-f6b7-4ddb-8239-3d30249e3ea7  AIOS Xgboost Agaricus Model           2019-02-13T12:17:41.412Z  xgboost-0.80\n2ac283ef-5138-47d6-9743-d4b230e3f056  AIOS Xgboost Agaricus Model           2019-02-13T12:14:41.486Z  xgboost-0.80\nc02dbfe4-ad80-45ec-81b8-ea5fb7b33699  AIOS Xgboost Agaricus Model           2019-02-13T10:59:51.344Z  xgboost-0.80\n0f1d511c-b121-44d1-b3f7-c3ad258211f5  AIOS Spark German Risk Model - Final  2019-02-13T10:34:05.152Z  mllib-2.1\n8d77d6b2-9458-4105-9977-1390c65cb475  credit-risk                           2019-02-08T08:31:18.222Z  mllib-2.3\n263dedd0-254d-4eed-9c4f-16300e0db5b3  AIOS Spark Drugs feedback model       2019-02-07T15:06:55.275Z  mllib-2.1\nde5c9e61-f806-40f1-8137-e034303a8dad  AIOS Xgboost Agaricus Model           2019-01-25T11:06:58.070Z  xgboost-0.6\n------------------------------------  ------------------------------------  ------------------------  -----------------\nNote: Only first 50 records were displayed. To display more use 'limit' parameter.\n"
                }
            ], 
            "source": "model_deployment_ids = wml_client.deployments.get_uids()\nfor deployment_id in model_deployment_ids:\n    deployment = wml_client.deployments.get_details(deployment_id)\n    model_id = deployment['entity']['deployable_asset']['guid']\n    if deployment['entity']['name'] == DEPLOYMENT_NAME:\n        print('Deleting deployment id', deployment_id)\n        wml_client.deployments.delete(deployment_id)\n        print('Deleting model id', model_id)\n        wml_client.repository.delete(model_id)\nwml_client.repository.list_models()"
        }, 
        {
            "execution_count": 23, 
            "cell_type": "code", 
            "metadata": {
                "scrolled": true
            }, 
            "outputs": [], 
            "source": "model_props = {\n    wml_client.repository.ModelMetaNames.NAME: \"{}\".format(MODEL_NAME),\n    wml_client.repository.ModelMetaNames.EVALUATION_METHOD: \"binary\",\n    wml_client.repository.ModelMetaNames.EVALUATION_METRICS: [\n        {\n           \"name\": \"areaUnderROC\",\n           \"value\": area_under_curve,\n           \"threshold\": 0.7\n        }\n    ]\n}"
        }, 
        {
            "execution_count": 24, 
            "cell_type": "code", 
            "metadata": {
                "scrolled": true
            }, 
            "outputs": [
                {
                    "output_type": "stream", 
                    "name": "stdout", 
                    "text": "Storing model ...\n"
                }, 
                {
                    "output_type": "stream", 
                    "name": "stderr", 
                    "text": "/home/spark/shared/user-libs/python3/urllib3/connectionpool.py:851: InsecureRequestWarning: Unverified HTTPS request is being made. Adding certificate verification is strongly advised. See: https://urllib3.readthedocs.io/en/latest/advanced-usage.html#ssl-warnings\n  InsecureRequestWarning)\n"
                }, 
                {
                    "output_type": "stream", 
                    "name": "stdout", 
                    "text": "Done\n"
                }
            ], 
            "source": "wml_models = wml_client.repository.get_details()\nmodel_uid = None\nfor model_in in wml_models['models']['resources']:\n    if MODEL_NAME == model_in['entity']['name']:\n        model_uid = model_in['metadata']['guid']\n        break\n\nif model_uid is None:\n    print(\"Storing model ...\")\n\n    published_model_details = wml_client.repository.store_model(model=model, meta_props=model_props, training_data=train_data, pipeline=pipeline)\n    model_uid = wml_client.repository.get_model_uid(published_model_details)\n    print(\"Done\")"
        }, 
        {
            "execution_count": 25, 
            "cell_type": "code", 
            "metadata": {
                "scrolled": true
            }, 
            "outputs": [
                {
                    "execution_count": 25, 
                    "metadata": {}, 
                    "data": {
                        "text/plain": "'1516b304-44cb-4950-bc67-827ad7f219f3'"
                    }, 
                    "output_type": "execute_result"
                }
            ], 
            "source": "model_uid"
        }, 
        {
            "source": "## Deploy the model", 
            "cell_type": "markdown", 
            "metadata": {}
        }, 
        {
            "source": "The next section of the notebook deploys the model as a RESTful web service in Watson Machine Learning. The deployed model will have a scoring URL you can use to send data to the model for predictions.", 
            "cell_type": "markdown", 
            "metadata": {}
        }, 
        {
            "execution_count": 26, 
            "cell_type": "code", 
            "metadata": {
                "scrolled": true
            }, 
            "outputs": [
                {
                    "output_type": "stream", 
                    "name": "stdout", 
                    "text": "Deploying model...\n\n\n#######################################################################################\n\nSynchronous deployment creation for uid: '1516b304-44cb-4950-bc67-827ad7f219f3' started\n\n#######################################################################################\n\n\nINITIALIZING\nDEPLOY_SUCCESS\n\n\n------------------------------------------------------------------------------------------------\nSuccessfully finished deployment creation, deployment_uid='280ac486-14a8-4d4a-95ca-0950498b0523'\n------------------------------------------------------------------------------------------------\n\n\nModel id: 1516b304-44cb-4950-bc67-827ad7f219f3\nDeployment id: 280ac486-14a8-4d4a-95ca-0950498b0523\n"
                }
            ], 
            "source": "wml_deployments = wml_client.deployments.get_details()\ndeployment_uid = None\nfor deployment in wml_deployments['resources']:\n    if DEPLOYMENT_NAME == deployment['entity']['name']:\n        deployment_uid = deployment['metadata']['guid']\n        break\n\nif deployment_uid is None:\n    print(\"Deploying model...\")\n\n    deployment = wml_client.deployments.create(artifact_uid=model_uid, name=DEPLOYMENT_NAME, asynchronous=False)\n    deployment_uid = wml_client.deployments.get_uid(deployment)\n    \nprint(\"Model id: {}\".format(model_uid))\nprint(\"Deployment id: {}\".format(deployment_uid))"
        }, 
        {
            "source": "# Configure OpenScale <a name=\"openscale\"></a>", 
            "cell_type": "markdown", 
            "metadata": {}
        }, 
        {
            "source": "The notebook will now import the necessary libraries and set up a Python OpenScale client.", 
            "cell_type": "markdown", 
            "metadata": {}
        }, 
        {
            "execution_count": 27, 
            "cell_type": "code", 
            "metadata": {
                "scrolled": true
            }, 
            "outputs": [], 
            "source": "from ibm_ai_openscale import APIClient\nfrom ibm_ai_openscale.engines import *\nfrom ibm_ai_openscale.utils import *\nfrom ibm_ai_openscale.supporting_classes import PayloadRecord, Feature\nfrom ibm_ai_openscale.supporting_classes.enums import *"
        }, 
        {
            "source": "### Get Watson OpenScale GUID", 
            "cell_type": "markdown", 
            "metadata": {}
        }, 
        {
            "source": "Each instance of OpenScale has a unique ID. We can get this value using the Cloud API key specified at the beginning of the notebook.", 
            "cell_type": "markdown", 
            "metadata": {}
        }, 
        {
            "execution_count": 28, 
            "cell_type": "code", 
            "metadata": {}, 
            "outputs": [
                {
                    "output_type": "stream", 
                    "name": "stdout", 
                    "text": "cacaf1bc-1285-46da-ba9a-49464bc683a3\n"
                }
            ], 
            "source": "import requests\nfrom ibm_ai_openscale.utils import get_instance_guid\n\n\nWOS_GUID = get_instance_guid(api_key=CLOUD_API_KEY)\nWOS_CREDENTIALS = {\n    \"instance_guid\": WOS_GUID,\n    \"apikey\": CLOUD_API_KEY,\n    \"url\": \"https://api.aiopenscale.cloud.ibm.com\"\n}\n\nif WOS_GUID is None:\n    print('Watson OpenScale GUID NOT FOUND')\nelse:\n    print(WOS_GUID)"
        }, 
        {
            "execution_count": 29, 
            "cell_type": "code", 
            "metadata": {
                "scrolled": true
            }, 
            "outputs": [
                {
                    "execution_count": 29, 
                    "metadata": {}, 
                    "data": {
                        "text/plain": "'2.1.7'"
                    }, 
                    "output_type": "execute_result"
                }
            ], 
            "source": "ai_client = APIClient(aios_credentials=WOS_CREDENTIALS)\nai_client.version"
        }, 
        {
            "source": "## Create schema and datamart", 
            "cell_type": "markdown", 
            "metadata": {}
        }, 
        {
            "source": "### Set up datamart", 
            "cell_type": "markdown", 
            "metadata": {}
        }, 
        {
            "source": "Watson OpenScale uses a database to store payload logs and calculated metrics. If database credentials were **not** supplied above, the notebook will use the free, internal lite database. If database credentials were supplied, the datamart will be created there **unless** there is an existing datamart **and** the **KEEP_MY_INTERNAL_POSTGRES** variable is set to **True**. If an OpenScale datamart exists in Db2 or PostgreSQL, the existing datamart will be used and no data will be overwritten.\n\nPrior instances of the German Credit model will be removed from OpenScale monitoring.", 
            "cell_type": "markdown", 
            "metadata": {}
        }, 
        {
            "execution_count": 31, 
            "cell_type": "code", 
            "metadata": {}, 
            "outputs": [
                {
                    "output_type": "stream", 
                    "name": "stdout", 
                    "text": "Setting up internal datamart\n"
                }
            ], 
            "source": "try:\n    data_mart_details = ai_client.data_mart.get_details()\n    if 'internal_database' in data_mart_details and data_mart_details['internal_database']:\n        if KEEP_MY_INTERNAL_POSTGRES:\n            print('Using existing internal datamart.')\n        else:\n            if DB_CREDENTIALS is None:\n                print('No postgres credentials supplied. Using existing internal datamart')\n            else:\n                print('Switching to external datamart')\n                ai_client.data_mart.delete(force=True)\n                ai_client.data_mart.setup(db_credentials=DB_CREDENTIALS)\n    else:\n        print('Using existing external datamart')\nexcept:\n    if DB_CREDENTIALS is None:\n        print('Setting up internal datamart')\n        ai_client.data_mart.setup(internal_db=True)\n    else:\n        print('Setting up external datamart')\n        try:\n            ai_client.data_mart.setup(db_credentials=DB_CREDENTIALS)\n        except:\n            print('Setup failed, trying Db2 setup')\n            ai_client.data_mart.setup(db_credentials=DB_CREDENTIALS, schema=DB_CREDENTIALS['username'])\n    "
        }, 
        {
            "execution_count": 32, 
            "cell_type": "code", 
            "metadata": {
                "scrolled": true
            }, 
            "outputs": [
                {
                    "execution_count": 32, 
                    "metadata": {}, 
                    "data": {
                        "text/plain": "{'internal_database': True,\n 'service_instance_crn': 'crn:v1:bluemix:public:aiopenscale:us-south:a/bc6f89c9dbf0a21338f4ee6fa02cf6cf:cacaf1bc-1285-46da-ba9a-49464bc683a3::',\n 'status': {'state': 'active'},\n 'database_configuration': {},\n 'internal_database_pool': 'compose-psql'}"
                    }, 
                    "output_type": "execute_result"
                }
            ], 
            "source": "data_mart_details = ai_client.data_mart.get_details()\ndata_mart_details"
        }, 
        {
            "source": "## Bind machine learning engines", 
            "cell_type": "markdown", 
            "metadata": {}
        }, 
        {
            "source": "Watson OpenScale needs to be bound to the Watson Machine Learning instance to capture payload data into and out of the model. If this binding already exists, this code will output a warning message and use the existing binding.", 
            "cell_type": "markdown", 
            "metadata": {}
        }, 
        {
            "source": "**Note:** You can bind more than one engine instance if needed by calling `ai_client.data_mart.bindings.add` method. Next, you can refer to particular binding using `binding_uid`.", 
            "cell_type": "markdown", 
            "metadata": {}
        }, 
        {
            "execution_count": 33, 
            "cell_type": "code", 
            "metadata": {
                "scrolled": false
            }, 
            "outputs": [
                {
                    "output_type": "display_data", 
                    "data": {
                        "text/html": "<HTML>\n        <body>\n            <h3>Service bindings</h3>\n            <table style='border: 1px solid #dddddd; font-family: Courier'>\n                <th style='border: 1px solid #dddddd'>uid</th><th style='border: 1px solid #dddddd'>name</th><th style='border: 1px solid #dddddd'>service_type</th><th style='border: 1px solid #dddddd'>created</th>\n                <tr><td style='border: 1px solid #dddddd'>a73bf76d-a663-448a-b771-4f651f73d54e</td><td style='border: 1px solid #dddddd'>WML instance</td><td style='border: 1px solid #dddddd'>watson_machine_learning</td><td style='border: 1px solid #dddddd'>2019-06-05T09:49:19.056Z</td></tr>\n            </table>\n        </body>\n        </HTML>", 
                        "text/plain": "<IPython.core.display.HTML object>"
                    }, 
                    "metadata": {}
                }
            ], 
            "source": "binding_uid = ai_client.data_mart.bindings.add('WML instance', WatsonMachineLearningInstance(WML_CREDENTIALS))\nif binding_uid is None:\n    binding_uid = ai_client.data_mart.bindings.get_details()['service_bindings'][0]['metadata']['guid']\nbindings_details = ai_client.data_mart.bindings.get_details()\nai_client.data_mart.bindings.list()"
        }, 
        {
            "execution_count": 34, 
            "cell_type": "code", 
            "metadata": {
                "scrolled": true
            }, 
            "outputs": [
                {
                    "output_type": "stream", 
                    "name": "stdout", 
                    "text": "a73bf76d-a663-448a-b771-4f651f73d54e\n"
                }
            ], 
            "source": "print(binding_uid)"
        }, 
        {
            "execution_count": 35, 
            "cell_type": "code", 
            "metadata": {
                "scrolled": false
            }, 
            "outputs": [
                {
                    "output_type": "display_data", 
                    "data": {
                        "text/html": "<HTML>\n        <body>\n            <h3>Available assets</h3>\n            <table style='border: 1px solid #dddddd; font-family: Courier'>\n                <th style='border: 1px solid #dddddd'>source_uid</th><th style='border: 1px solid #dddddd'>name</th><th style='border: 1px solid #dddddd'>created</th><th style='border: 1px solid #dddddd'>type</th><th style='border: 1px solid #dddddd'>frameworks</th><th style='border: 1px solid #dddddd'>binding_uid</th><th style='border: 1px solid #dddddd'>is_subscribed</th>\n                <tr><td style='border: 1px solid #dddddd'>1516b304-44cb-4950-bc67-827ad7f219f3</td><td style='border: 1px solid #dddddd'>Spark German Risk Model - Final</td><td style='border: 1px solid #dddddd'>2019-06-05T09:47:46.690Z</td><td style='border: 1px solid #dddddd'>model</td><td style='border: 1px solid #dddddd'>mllib-2.3</td><td style='border: 1px solid #dddddd'>a73bf76d-a663-448a-b771-4f651f73d54e</td><td style='border: 1px solid #dddddd'>False</td></tr><tr><td style='border: 1px solid #dddddd'>a3583b91-2a7c-4817-bb95-293831c7f183</td><td style='border: 1px solid #dddddd'>AIOS Spark German Risk model</td><td style='border: 1px solid #dddddd'>2019-05-29T14:21:08.875Z</td><td style='border: 1px solid #dddddd'>model</td><td style='border: 1px solid #dddddd'>mllib-2.1</td><td style='border: 1px solid #dddddd'>a73bf76d-a663-448a-b771-4f651f73d54e</td><td style='border: 1px solid #dddddd'>False</td></tr><tr><td style='border: 1px solid #dddddd'>965e5b42-9cca-4141-8881-a17b5f75a91b</td><td style='border: 1px solid #dddddd'>AIOS Spark German Risk model</td><td style='border: 1px solid #dddddd'>2019-05-29T13:18:36.510Z</td><td style='border: 1px solid #dddddd'>model</td><td style='border: 1px solid #dddddd'>mllib-2.1</td><td style='border: 1px solid #dddddd'>a73bf76d-a663-448a-b771-4f651f73d54e</td><td style='border: 1px solid #dddddd'>False</td></tr><tr><td style='border: 1px solid #dddddd'>e6ffbb1e-53a6-40f3-b190-2d11fdbe458a</td><td style='border: 1px solid #dddddd'>AIOS Spark German Risk model</td><td style='border: 1px solid #dddddd'>2019-05-29T11:49:16.526Z</td><td style='border: 1px solid #dddddd'>model</td><td style='border: 1px solid #dddddd'>mllib-2.1</td><td style='border: 1px solid #dddddd'>a73bf76d-a663-448a-b771-4f651f73d54e</td><td style='border: 1px solid #dddddd'>False</td></tr><tr><td style='border: 1px solid #dddddd'>d6293dce-3e73-4e3d-b96d-a4c532c78596</td><td style='border: 1px solid #dddddd'>AIOS Spark German Risk model</td><td style='border: 1px solid #dddddd'>2019-05-29T11:39:57.816Z</td><td style='border: 1px solid #dddddd'>model</td><td style='border: 1px solid #dddddd'>mllib-2.1</td><td style='border: 1px solid #dddddd'>a73bf76d-a663-448a-b771-4f651f73d54e</td><td style='border: 1px solid #dddddd'>False</td></tr><tr><td style='border: 1px solid #dddddd'>10ff3963-f81d-46d6-9e52-64d6530f27a9</td><td style='border: 1px solid #dddddd'>AIOS Spark German Risk model</td><td style='border: 1px solid #dddddd'>2019-05-29T11:36:35.458Z</td><td style='border: 1px solid #dddddd'>model</td><td style='border: 1px solid #dddddd'>mllib-2.1</td><td style='border: 1px solid #dddddd'>a73bf76d-a663-448a-b771-4f651f73d54e</td><td style='border: 1px solid #dddddd'>False</td></tr><tr><td style='border: 1px solid #dddddd'>32eec06f-de31-4a08-b329-c659a05826f7</td><td style='border: 1px solid #dddddd'>AIOS Spark German Risk model</td><td style='border: 1px solid #dddddd'>2019-05-29T11:00:04.443Z</td><td style='border: 1px solid #dddddd'>model</td><td style='border: 1px solid #dddddd'>mllib-2.1</td><td style='border: 1px solid #dddddd'>a73bf76d-a663-448a-b771-4f651f73d54e</td><td style='border: 1px solid #dddddd'>False</td></tr><tr><td style='border: 1px solid #dddddd'>011cfea9-4e65-4e9a-97be-011dd5a68c72</td><td style='border: 1px solid #dddddd'>AIOS Spark German Risk model</td><td style='border: 1px solid #dddddd'>2019-05-27T13:29:15.866Z</td><td style='border: 1px solid #dddddd'>model</td><td style='border: 1px solid #dddddd'>mllib-2.1</td><td style='border: 1px solid #dddddd'>a73bf76d-a663-448a-b771-4f651f73d54e</td><td style='border: 1px solid #dddddd'>False</td></tr><tr><td style='border: 1px solid #dddddd'>29d1c6e1-60b1-438a-9754-2788e3aa9bf6</td><td style='border: 1px solid #dddddd'>AIOS Spark German Risk model</td><td style='border: 1px solid #dddddd'>2019-05-27T09:57:41.912Z</td><td style='border: 1px solid #dddddd'>model</td><td style='border: 1px solid #dddddd'>mllib-2.1</td><td style='border: 1px solid #dddddd'>a73bf76d-a663-448a-b771-4f651f73d54e</td><td style='border: 1px solid #dddddd'>False</td></tr><tr><td style='border: 1px solid #dddddd'>15eca736-b889-494c-9aa7-374cd3997aff</td><td style='border: 1px solid #dddddd'>AIOS Spark German Risk model</td><td style='border: 1px solid #dddddd'>2019-05-24T10:39:58.847Z</td><td style='border: 1px solid #dddddd'>model</td><td style='border: 1px solid #dddddd'>mllib-2.1</td><td style='border: 1px solid #dddddd'>a73bf76d-a663-448a-b771-4f651f73d54e</td><td style='border: 1px solid #dddddd'>False</td></tr><tr><td style='border: 1px solid #dddddd'>cf689555-3b4f-4613-a8d0-4e9706bc8fe7</td><td style='border: 1px solid #dddddd'>diabetes regression</td><td style='border: 1px solid #dddddd'>2019-05-23T07:19:18.801Z</td><td style='border: 1px solid #dddddd'>model</td><td style='border: 1px solid #dddddd'>scikit-learn-0.19</td><td style='border: 1px solid #dddddd'>a73bf76d-a663-448a-b771-4f651f73d54e</td><td style='border: 1px solid #dddddd'>False</td></tr><tr><td style='border: 1px solid #dddddd'>b4bb376b-dddd-480b-947a-a6edc283b600</td><td style='border: 1px solid #dddddd'>diabetes regression</td><td style='border: 1px solid #dddddd'>2019-05-21T12:28:42.696Z</td><td style='border: 1px solid #dddddd'>model</td><td style='border: 1px solid #dddddd'>scikit-learn-0.19</td><td style='border: 1px solid #dddddd'>a73bf76d-a663-448a-b771-4f651f73d54e</td><td style='border: 1px solid #dddddd'>False</td></tr><tr><td style='border: 1px solid #dddddd'>87382ca4-b920-475b-927b-834f0e7a8774</td><td style='border: 1px solid #dddddd'>AIOS Scikit Digits Model</td><td style='border: 1px solid #dddddd'>2019-05-09T07:55:35.097Z</td><td style='border: 1px solid #dddddd'>model</td><td style='border: 1px solid #dddddd'>scikit-learn-0.19</td><td style='border: 1px solid #dddddd'>a73bf76d-a663-448a-b771-4f651f73d54e</td><td style='border: 1px solid #dddddd'>False</td></tr><tr><td style='border: 1px solid #dddddd'>ed9cf153-64f7-4609-854e-6dc052c93b6b</td><td style='border: 1px solid #dddddd'>AIOS Keras DogsAndCats model</td><td style='border: 1px solid #dddddd'>2019-05-08T17:19:15.040Z</td><td style='border: 1px solid #dddddd'>model</td><td style='border: 1px solid #dddddd'>tensorflow-1.5</td><td style='border: 1px solid #dddddd'>a73bf76d-a663-448a-b771-4f651f73d54e</td><td style='border: 1px solid #dddddd'>False</td></tr><tr><td style='border: 1px solid #dddddd'>c00339d7-6fd1-4d4a-a21f-ae593c0cc72b</td><td style='border: 1px solid #dddddd'>AIOS Keras DogsAndCats model</td><td style='border: 1px solid #dddddd'>2019-05-06T08:21:41.025Z</td><td style='border: 1px solid #dddddd'>model</td><td style='border: 1px solid #dddddd'>tensorflow-1.5</td><td style='border: 1px solid #dddddd'>a73bf76d-a663-448a-b771-4f651f73d54e</td><td style='border: 1px solid #dddddd'>False</td></tr><tr><td style='border: 1px solid #dddddd'>96c68770-61ee-4f4c-9a44-6ab3ee111842</td><td style='border: 1px solid #dddddd'>AIOS Keras DogsAndCats model</td><td style='border: 1px solid #dddddd'>2019-05-06T08:12:46.254Z</td><td style='border: 1px solid #dddddd'>model</td><td style='border: 1px solid #dddddd'>tensorflow-1.5</td><td style='border: 1px solid #dddddd'>a73bf76d-a663-448a-b771-4f651f73d54e</td><td style='border: 1px solid #dddddd'>False</td></tr><tr><td style='border: 1px solid #dddddd'>0db79032-15a0-4425-8a54-12da316e7313</td><td style='border: 1px solid #dddddd'>AIOS Keras iris model</td><td style='border: 1px solid #dddddd'>2019-04-12T13:08:55.982Z</td><td style='border: 1px solid #dddddd'>model</td><td style='border: 1px solid #dddddd'>tensorflow-1.5</td><td style='border: 1px solid #dddddd'>a73bf76d-a663-448a-b771-4f651f73d54e</td><td style='border: 1px solid #dddddd'>False</td></tr><tr><td style='border: 1px solid #dddddd'>85c70143-86ce-4248-b7ae-ebba03e77aae</td><td style='border: 1px solid #dddddd'>AIOS Scikit Digits Model</td><td style='border: 1px solid #dddddd'>2019-04-12T12:46:59.621Z</td><td style='border: 1px solid #dddddd'>model</td><td style='border: 1px solid #dddddd'>scikit-learn-0.19</td><td style='border: 1px solid #dddddd'>a73bf76d-a663-448a-b771-4f651f73d54e</td><td style='border: 1px solid #dddddd'>False</td></tr><tr><td style='border: 1px solid #dddddd'>44f0bf75-effb-4016-9158-7b585af4b5c0</td><td style='border: 1px solid #dddddd'>AIOS Scikit Digits Model</td><td style='border: 1px solid #dddddd'>2019-04-12T12:45:35.491Z</td><td style='border: 1px solid #dddddd'>model</td><td style='border: 1px solid #dddddd'>scikit-learn-0.19</td><td style='border: 1px solid #dddddd'>a73bf76d-a663-448a-b771-4f651f73d54e</td><td style='border: 1px solid #dddddd'>False</td></tr><tr><td style='border: 1px solid #dddddd'>c69669fd-319c-48d5-adbe-8f1871df5c84</td><td style='border: 1px solid #dddddd'>Propensity Model</td><td style='border: 1px solid #dddddd'>2019-04-05T14:15:22.818Z</td><td style='border: 1px solid #dddddd'>model</td><td style='border: 1px solid #dddddd'>mllib-2.3</td><td style='border: 1px solid #dddddd'>a73bf76d-a663-448a-b771-4f651f73d54e</td><td style='border: 1px solid #dddddd'>False</td></tr><tr><td style='border: 1px solid #dddddd'>add7e5f3-4ec4-49a7-ad22-d360bce6c443</td><td style='border: 1px solid #dddddd'>sentiment-prediction</td><td style='border: 1px solid #dddddd'>2019-03-15T12:17:58.644Z</td><td style='border: 1px solid #dddddd'>model</td><td style='border: 1px solid #dddddd'>mllib-2.1</td><td style='border: 1px solid #dddddd'>a73bf76d-a663-448a-b771-4f651f73d54e</td><td style='border: 1px solid #dddddd'>False</td></tr><tr><td style='border: 1px solid #dddddd'>09662d80-3722-48b8-b577-d2e1d62773c3</td><td style='border: 1px solid #dddddd'>AIOS Spark Drugs feedback model</td><td style='border: 1px solid #dddddd'>2019-03-15T10:59:39.908Z</td><td style='border: 1px solid #dddddd'>model</td><td style='border: 1px solid #dddddd'>mllib-2.1</td><td style='border: 1px solid #dddddd'>a73bf76d-a663-448a-b771-4f651f73d54e</td><td style='border: 1px solid #dddddd'>False</td></tr><tr><td style='border: 1px solid #dddddd'>5b7dab22-37f8-478d-9524-d7a6005ab71d</td><td style='border: 1px solid #dddddd'>AIOS TF Structured Model</td><td style='border: 1px solid #dddddd'>2019-03-13T14:12:35.270Z</td><td style='border: 1px solid #dddddd'>model</td><td style='border: 1px solid #dddddd'>tensorflow-1.5</td><td style='border: 1px solid #dddddd'>a73bf76d-a663-448a-b771-4f651f73d54e</td><td style='border: 1px solid #dddddd'>False</td></tr><tr><td style='border: 1px solid #dddddd'>c06aafcd-88d4-4547-bff8-ff17cb1b48c4</td><td style='border: 1px solid #dddddd'>AIOS Spark Drugs feedback model</td><td style='border: 1px solid #dddddd'>2019-03-13T14:02:47.914Z</td><td style='border: 1px solid #dddddd'>model</td><td style='border: 1px solid #dddddd'>mllib-2.1</td><td style='border: 1px solid #dddddd'>a73bf76d-a663-448a-b771-4f651f73d54e</td><td style='border: 1px solid #dddddd'>False</td></tr><tr><td style='border: 1px solid #dddddd'>f271faa1-cb6d-4cd1-8020-c33b427cba4c</td><td style='border: 1px solid #dddddd'>credit-risk</td><td style='border: 1px solid #dddddd'>2019-03-13T11:53:09.533Z</td><td style='border: 1px solid #dddddd'>model</td><td style='border: 1px solid #dddddd'>mllib-2.3</td><td style='border: 1px solid #dddddd'>a73bf76d-a663-448a-b771-4f651f73d54e</td><td style='border: 1px solid #dddddd'>False</td></tr><tr><td style='border: 1px solid #dddddd'>ac269afe-3b76-4264-8757-ef046790056e</td><td style='border: 1px solid #dddddd'>AIOS Keras Stack Overflow model</td><td style='border: 1px solid #dddddd'>2019-03-05T15:58:18.973Z</td><td style='border: 1px solid #dddddd'>model</td><td style='border: 1px solid #dddddd'>tensorflow-1.5</td><td style='border: 1px solid #dddddd'>a73bf76d-a663-448a-b771-4f651f73d54e</td><td style='border: 1px solid #dddddd'>False</td></tr><tr><td style='border: 1px solid #dddddd'>c291e166-45c2-4411-bbe7-88a436f083c1</td><td style='border: 1px solid #dddddd'>AIOS Keras spam model</td><td style='border: 1px solid #dddddd'>2019-03-05T13:01:00.993Z</td><td style='border: 1px solid #dddddd'>model</td><td style='border: 1px solid #dddddd'>tensorflow-1.5</td><td style='border: 1px solid #dddddd'>a73bf76d-a663-448a-b771-4f651f73d54e</td><td style='border: 1px solid #dddddd'>False</td></tr><tr><td style='border: 1px solid #dddddd'>a3c10d8c-fe54-4592-857b-0852c2807789</td><td style='border: 1px solid #dddddd'>AIOS Keras Stack Overflow model</td><td style='border: 1px solid #dddddd'>2019-03-04T11:28:06.598Z</td><td style='border: 1px solid #dddddd'>model</td><td style='border: 1px solid #dddddd'>tensorflow-1.5</td><td style='border: 1px solid #dddddd'>a73bf76d-a663-448a-b771-4f651f73d54e</td><td style='border: 1px solid #dddddd'>False</td></tr><tr><td style='border: 1px solid #dddddd'>a14b6c3a-5f8f-425a-b884-2d67a4d6c4b2</td><td style='border: 1px solid #dddddd'>AIOS Keras Stack Overflow model</td><td style='border: 1px solid #dddddd'>2019-03-04T11:19:12.746Z</td><td style='border: 1px solid #dddddd'>model</td><td style='border: 1px solid #dddddd'>tensorflow-1.5</td><td style='border: 1px solid #dddddd'>a73bf76d-a663-448a-b771-4f651f73d54e</td><td style='border: 1px solid #dddddd'>False</td></tr><tr><td style='border: 1px solid #dddddd'>418445ec-c565-43ba-86e8-56a3a5aae165</td><td style='border: 1px solid #dddddd'>AIOS Keras Stack Overflow model</td><td style='border: 1px solid #dddddd'>2019-03-04T11:17:44.315Z</td><td style='border: 1px solid #dddddd'>model</td><td style='border: 1px solid #dddddd'>tensorflow-1.5</td><td style='border: 1px solid #dddddd'>a73bf76d-a663-448a-b771-4f651f73d54e</td><td style='border: 1px solid #dddddd'>False</td></tr><tr><td style='border: 1px solid #dddddd'>a128731e-8a03-4d91-b020-95d23aa4de98</td><td style='border: 1px solid #dddddd'>AIOS Keras Stack Overflow model</td><td style='border: 1px solid #dddddd'>2019-03-04T11:13:34.246Z</td><td style='border: 1px solid #dddddd'>model</td><td style='border: 1px solid #dddddd'>tensorflow-1.5</td><td style='border: 1px solid #dddddd'>a73bf76d-a663-448a-b771-4f651f73d54e</td><td style='border: 1px solid #dddddd'>False</td></tr><tr><td style='border: 1px solid #dddddd'>8d4649e7-ff64-4cea-800d-f1ac88e54c57</td><td style='border: 1px solid #dddddd'>SVCHighlights</td><td style='border: 1px solid #dddddd'>2019-02-25T09:37:59.520Z</td><td style='border: 1px solid #dddddd'>model</td><td style='border: 1px solid #dddddd'>scikit-learn-0.19</td><td style='border: 1px solid #dddddd'>a73bf76d-a663-448a-b771-4f651f73d54e</td><td style='border: 1px solid #dddddd'>False</td></tr><tr><td style='border: 1px solid #dddddd'>d5aee97c-5347-42ae-865c-794c431d750c</td><td style='border: 1px solid #dddddd'>AIOS SPSS Customer Model</td><td style='border: 1px solid #dddddd'>2019-02-21T09:43:15.257Z</td><td style='border: 1px solid #dddddd'>model</td><td style='border: 1px solid #dddddd'>spss-modeler-18.0</td><td style='border: 1px solid #dddddd'>a73bf76d-a663-448a-b771-4f651f73d54e</td><td style='border: 1px solid #dddddd'>False</td></tr><tr><td style='border: 1px solid #dddddd'>9a7e44e9-5464-4ef8-a136-dd3ed3d41df2</td><td style='border: 1px solid #dddddd'>AIOS SPSS Customer Model</td><td style='border: 1px solid #dddddd'>2019-02-21T09:41:40.332Z</td><td style='border: 1px solid #dddddd'>model</td><td style='border: 1px solid #dddddd'>spss-modeler-18.0</td><td style='border: 1px solid #dddddd'>a73bf76d-a663-448a-b771-4f651f73d54e</td><td style='border: 1px solid #dddddd'>False</td></tr><tr><td style='border: 1px solid #dddddd'>986a13c7-d0a3-4f18-83dd-37467d82ae8b</td><td style='border: 1px solid #dddddd'>AIOS SPSS Customer Model</td><td style='border: 1px solid #dddddd'>2019-02-21T09:16:14.492Z</td><td style='border: 1px solid #dddddd'>model</td><td style='border: 1px solid #dddddd'>spss-modeler-18.0</td><td style='border: 1px solid #dddddd'>a73bf76d-a663-448a-b771-4f651f73d54e</td><td style='border: 1px solid #dddddd'>False</td></tr><tr><td style='border: 1px solid #dddddd'>199ee3ae-0b4a-4e5d-9434-1ffc7131c3d5</td><td style='border: 1px solid #dddddd'>AIOS SPSS Customer Model</td><td style='border: 1px solid #dddddd'>2019-02-21T09:10:32.067Z</td><td style='border: 1px solid #dddddd'>model</td><td style='border: 1px solid #dddddd'>spss-modeler-18.0</td><td style='border: 1px solid #dddddd'>a73bf76d-a663-448a-b771-4f651f73d54e</td><td style='border: 1px solid #dddddd'>False</td></tr><tr><td style='border: 1px solid #dddddd'>9dc24903-f6b7-4ddb-8239-3d30249e3ea7</td><td style='border: 1px solid #dddddd'>AIOS Xgboost Agaricus Model</td><td style='border: 1px solid #dddddd'>2019-02-13T12:17:46.317Z</td><td style='border: 1px solid #dddddd'>model</td><td style='border: 1px solid #dddddd'>xgboost-0.80</td><td style='border: 1px solid #dddddd'>a73bf76d-a663-448a-b771-4f651f73d54e</td><td style='border: 1px solid #dddddd'>False</td></tr><tr><td style='border: 1px solid #dddddd'>2ac283ef-5138-47d6-9743-d4b230e3f056</td><td style='border: 1px solid #dddddd'>AIOS Xgboost Agaricus Model</td><td style='border: 1px solid #dddddd'>2019-02-13T12:14:46.726Z</td><td style='border: 1px solid #dddddd'>model</td><td style='border: 1px solid #dddddd'>xgboost-0.80</td><td style='border: 1px solid #dddddd'>a73bf76d-a663-448a-b771-4f651f73d54e</td><td style='border: 1px solid #dddddd'>False</td></tr><tr><td style='border: 1px solid #dddddd'>c02dbfe4-ad80-45ec-81b8-ea5fb7b33699</td><td style='border: 1px solid #dddddd'>AIOS Xgboost Agaricus Model</td><td style='border: 1px solid #dddddd'>2019-02-13T10:59:56.746Z</td><td style='border: 1px solid #dddddd'>model</td><td style='border: 1px solid #dddddd'>xgboost-0.80</td><td style='border: 1px solid #dddddd'>a73bf76d-a663-448a-b771-4f651f73d54e</td><td style='border: 1px solid #dddddd'>False</td></tr><tr><td style='border: 1px solid #dddddd'>0f1d511c-b121-44d1-b3f7-c3ad258211f5</td><td style='border: 1px solid #dddddd'>AIOS Spark German Risk Model - Final</td><td style='border: 1px solid #dddddd'>2019-02-13T10:34:15.419Z</td><td style='border: 1px solid #dddddd'>model</td><td style='border: 1px solid #dddddd'>mllib-2.1</td><td style='border: 1px solid #dddddd'>a73bf76d-a663-448a-b771-4f651f73d54e</td><td style='border: 1px solid #dddddd'>False</td></tr><tr><td style='border: 1px solid #dddddd'>8d77d6b2-9458-4105-9977-1390c65cb475</td><td style='border: 1px solid #dddddd'>credit-risk</td><td style='border: 1px solid #dddddd'>2019-02-08T08:32:29.094Z</td><td style='border: 1px solid #dddddd'>model</td><td style='border: 1px solid #dddddd'>mllib-2.3</td><td style='border: 1px solid #dddddd'>a73bf76d-a663-448a-b771-4f651f73d54e</td><td style='border: 1px solid #dddddd'>False</td></tr><tr><td style='border: 1px solid #dddddd'>263dedd0-254d-4eed-9c4f-16300e0db5b3</td><td style='border: 1px solid #dddddd'>AIOS Spark Drugs feedback model</td><td style='border: 1px solid #dddddd'>2019-02-07T15:07:01.800Z</td><td style='border: 1px solid #dddddd'>model</td><td style='border: 1px solid #dddddd'>mllib-2.1</td><td style='border: 1px solid #dddddd'>a73bf76d-a663-448a-b771-4f651f73d54e</td><td style='border: 1px solid #dddddd'>False</td></tr><tr><td style='border: 1px solid #dddddd'>de5c9e61-f806-40f1-8137-e034303a8dad</td><td style='border: 1px solid #dddddd'>AIOS Xgboost Agaricus Model</td><td style='border: 1px solid #dddddd'>2019-01-25T11:07:04.731Z</td><td style='border: 1px solid #dddddd'>model</td><td style='border: 1px solid #dddddd'>xgboost-0.6</td><td style='border: 1px solid #dddddd'>a73bf76d-a663-448a-b771-4f651f73d54e</td><td style='border: 1px solid #dddddd'>False</td></tr><tr><td style='border: 1px solid #dddddd'>404aae40-ad00-43c5-b4cf-70a85030d043</td><td style='border: 1px solid #dddddd'>AIOS Spark Digits Model</td><td style='border: 1px solid #dddddd'>2019-01-22T08:34:40.657Z</td><td style='border: 1px solid #dddddd'>model</td><td style='border: 1px solid #dddddd'>scikit-learn-0.19</td><td style='border: 1px solid #dddddd'>a73bf76d-a663-448a-b771-4f651f73d54e</td><td style='border: 1px solid #dddddd'>False</td></tr><tr><td style='border: 1px solid #dddddd'>aa2ef63a-23c9-436b-997d-3820d0989dcd</td><td style='border: 1px solid #dddddd'>AIOS Spark German Risk model 4</td><td style='border: 1px solid #dddddd'>2019-01-15T09:34:58.474Z</td><td style='border: 1px solid #dddddd'>model</td><td style='border: 1px solid #dddddd'>mllib-2.1</td><td style='border: 1px solid #dddddd'>a73bf76d-a663-448a-b771-4f651f73d54e</td><td style='border: 1px solid #dddddd'>False</td></tr><tr><td style='border: 1px solid #dddddd'>f1f257e1-8acf-4d2d-a7d7-a3166bffb9dd</td><td style='border: 1px solid #dddddd'>AIOS Spark Drug learning model</td><td style='border: 1px solid #dddddd'>2019-01-08T14:58:06.985Z</td><td style='border: 1px solid #dddddd'>model</td><td style='border: 1px solid #dddddd'>mllib-2.1</td><td style='border: 1px solid #dddddd'>a73bf76d-a663-448a-b771-4f651f73d54e</td><td style='border: 1px solid #dddddd'>False</td></tr><tr><td style='border: 1px solid #dddddd'>5c23b6e2-4fb3-4b3b-9946-e9611f8c3b01</td><td style='border: 1px solid #dddddd'>AIOS Spark Drugs feedback model</td><td style='border: 1px solid #dddddd'>2019-01-08T13:58:01.780Z</td><td style='border: 1px solid #dddddd'>model</td><td style='border: 1px solid #dddddd'>mllib-2.1</td><td style='border: 1px solid #dddddd'>a73bf76d-a663-448a-b771-4f651f73d54e</td><td style='border: 1px solid #dddddd'>False</td></tr><tr><td style='border: 1px solid #dddddd'>3618c3af-277e-4d4c-831c-893086322c48</td><td style='border: 1px solid #dddddd'>AIOS Spark Best Drug model</td><td style='border: 1px solid #dddddd'>2018-12-20T09:53:13.285Z</td><td style='border: 1px solid #dddddd'>model</td><td style='border: 1px solid #dddddd'>mllib-2.1</td><td style='border: 1px solid #dddddd'>a73bf76d-a663-448a-b771-4f651f73d54e</td><td style='border: 1px solid #dddddd'>False</td></tr><tr><td style='border: 1px solid #dddddd'>4935d03c-52b7-4f2a-bc8c-e0ba7e81b1ea</td><td style='border: 1px solid #dddddd'>AIOS Spark GoSales Model</td><td style='border: 1px solid #dddddd'>2018-12-18T13:06:50.820Z</td><td style='border: 1px solid #dddddd'>model</td><td style='border: 1px solid #dddddd'>mllib-2.1</td><td style='border: 1px solid #dddddd'>a73bf76d-a663-448a-b771-4f651f73d54e</td><td style='border: 1px solid #dddddd'>False</td></tr><tr><td style='border: 1px solid #dddddd'>3118440a-8c3d-47f3-bf4f-563239cebae7</td><td style='border: 1px solid #dddddd'>AIOS Spark Telco Model</td><td style='border: 1px solid #dddddd'>2018-12-14T11:42:51.466Z</td><td style='border: 1px solid #dddddd'>model</td><td style='border: 1px solid #dddddd'>mllib-2.1</td><td style='border: 1px solid #dddddd'>a73bf76d-a663-448a-b771-4f651f73d54e</td><td style='border: 1px solid #dddddd'>False</td></tr><tr><td style='border: 1px solid #dddddd'>dcd69f0e-5b8c-43e8-adc9-25db2199dfcf</td><td style='border: 1px solid #dddddd'>AIOS Spark Telco model</td><td style='border: 1px solid #dddddd'>2018-12-14T11:39:04.231Z</td><td style='border: 1px solid #dddddd'>model</td><td style='border: 1px solid #dddddd'>mllib-2.1</td><td style='border: 1px solid #dddddd'>a73bf76d-a663-448a-b771-4f651f73d54e</td><td style='border: 1px solid #dddddd'>False</td></tr><tr><td style='border: 1px solid #dddddd'>c8f469e9-34df-4c13-9883-ddf5bbb1498d</td><td style='border: 1px solid #dddddd'>AIOS Xgboost agaricus model</td><td style='border: 1px solid #dddddd'>2018-12-12T14:17:09.129Z</td><td style='border: 1px solid #dddddd'>model</td><td style='border: 1px solid #dddddd'>xgboost-0.6</td><td style='border: 1px solid #dddddd'>a73bf76d-a663-448a-b771-4f651f73d54e</td><td style='border: 1px solid #dddddd'>False</td></tr><tr><td style='border: 1px solid #dddddd'>d6349f3f-ffd1-43b2-8afc-b4e74b520463</td><td style='border: 1px solid #dddddd'>AIOS Spark GoSales model</td><td style='border: 1px solid #dddddd'>2018-12-12T14:07:52.356Z</td><td style='border: 1px solid #dddddd'>model</td><td style='border: 1px solid #dddddd'>mllib-2.1</td><td style='border: 1px solid #dddddd'>a73bf76d-a663-448a-b771-4f651f73d54e</td><td style='border: 1px solid #dddddd'>False</td></tr><tr><td style='border: 1px solid #dddddd'>7bee77b1-3936-4797-b579-2175dd81c2d5</td><td style='border: 1px solid #dddddd'>AIOS Spark Digits model</td><td style='border: 1px solid #dddddd'>2018-12-12T12:49:14.358Z</td><td style='border: 1px solid #dddddd'>model</td><td style='border: 1px solid #dddddd'>scikit-learn-0.19</td><td style='border: 1px solid #dddddd'>a73bf76d-a663-448a-b771-4f651f73d54e</td><td style='border: 1px solid #dddddd'>False</td></tr>\n            </table>\n        </body>\n        </HTML>", 
                        "text/plain": "<IPython.core.display.HTML object>"
                    }, 
                    "metadata": {}
                }
            ], 
            "source": "ai_client.data_mart.bindings.list_assets()"
        }, 
        {
            "source": "## Subscriptions", 
            "cell_type": "markdown", 
            "metadata": {}
        }, 
        {
            "source": "### Remove existing credit risk subscriptions", 
            "cell_type": "markdown", 
            "metadata": {}
        }, 
        {
            "source": "This code removes previous subscriptions to the German Credit model to refresh the monitors with the new model and new data.", 
            "cell_type": "markdown", 
            "metadata": {}
        }, 
        {
            "execution_count": 36, 
            "cell_type": "code", 
            "metadata": {
                "scrolled": true
            }, 
            "outputs": [], 
            "source": "subscriptions_uids = ai_client.data_mart.subscriptions.get_uids()\nfor subscription in subscriptions_uids:\n    sub_name = ai_client.data_mart.subscriptions.get_details(subscription)['entity']['asset']['name']\n    if sub_name == MODEL_NAME:\n        ai_client.data_mart.subscriptions.delete(subscription)\n        print('Deleted existing subscription for', MODEL_NAME)"
        }, 
        {
            "source": "This code creates the model subscription in OpenScale using the Python client API. Note that we need to provide the model unique identifier, and some information about the model itself.", 
            "cell_type": "markdown", 
            "metadata": {}
        }, 
        {
            "execution_count": 37, 
            "cell_type": "code", 
            "metadata": {
                "scrolled": false
            }, 
            "outputs": [], 
            "source": "subscription = ai_client.data_mart.subscriptions.add(WatsonMachineLearningAsset(\n    model_uid,\n    problem_type=ProblemType.BINARY_CLASSIFICATION,\n    input_data_type=InputDataType.STRUCTURED,\n    label_column='Risk',\n    prediction_column='predictedLabel',\n    probability_column='probability',\n    feature_columns = [\"CheckingStatus\",\"LoanDuration\",\"CreditHistory\",\"LoanPurpose\",\"LoanAmount\",\"ExistingSavings\",\"EmploymentDuration\",\"InstallmentPercent\",\"Sex\",\"OthersOnLoan\",\"CurrentResidenceDuration\",\"OwnsProperty\",\"Age\",\"InstallmentPlans\",\"Housing\",\"ExistingCreditsCount\",\"Job\",\"Dependents\",\"Telephone\",\"ForeignWorker\"],\n    categorical_columns = [\"CheckingStatus\",\"CreditHistory\",\"LoanPurpose\",\"ExistingSavings\",\"EmploymentDuration\",\"Sex\",\"OthersOnLoan\",\"OwnsProperty\",\"InstallmentPlans\",\"Housing\",\"Job\",\"Telephone\",\"ForeignWorker\"]\n))\n\nif subscription is None:\n    print('Subscription already exists; get the existing one')\n    subscriptions_uids = ai_client.data_mart.subscriptions.get_uids()\n    for sub in subscriptions_uids:\n        if ai_client.data_mart.subscriptions.get_details(sub)['entity']['asset']['name'] == MODEL_NAME:\n            subscription = ai_client.data_mart.subscriptions.get(sub)"
        }, 
        {
            "source": "Get subscription list", 
            "cell_type": "markdown", 
            "metadata": {}
        }, 
        {
            "execution_count": 38, 
            "cell_type": "code", 
            "metadata": {
                "scrolled": true
            }, 
            "outputs": [
                {
                    "output_type": "display_data", 
                    "data": {
                        "text/html": "<HTML>\n        <body>\n            <h3>Subscriptions</h3>\n            <table style='border: 1px solid #dddddd; font-family: Courier'>\n                <th style='border: 1px solid #dddddd'>uid</th><th style='border: 1px solid #dddddd'>name</th><th style='border: 1px solid #dddddd'>type</th><th style='border: 1px solid #dddddd'>binding_uid</th><th style='border: 1px solid #dddddd'>created</th>\n                <tr><td style='border: 1px solid #dddddd'>1516b304-44cb-4950-bc67-827ad7f219f3</td><td style='border: 1px solid #dddddd'>Spark German Risk Model - Final</td><td style='border: 1px solid #dddddd'>model</td><td style='border: 1px solid #dddddd'>a73bf76d-a663-448a-b771-4f651f73d54e</td><td style='border: 1px solid #dddddd'>2019-06-05T09:49:36.668Z</td></tr>\n            </table>\n        </body>\n        </HTML>", 
                        "text/plain": "<IPython.core.display.HTML object>"
                    }, 
                    "metadata": {}
                }
            ], 
            "source": "subscriptions_uids = ai_client.data_mart.subscriptions.get_uids()\nai_client.data_mart.subscriptions.list()"
        }, 
        {
            "execution_count": 39, 
            "cell_type": "code", 
            "metadata": {
                "scrolled": false
            }, 
            "outputs": [], 
            "source": "subscription_details = subscription.get_details()"
        }, 
        {
            "source": "### Score the model so we can configure monitors", 
            "cell_type": "markdown", 
            "metadata": {}
        }, 
        {
            "source": "Now that the WML service has been bound and the subscription has been created, we need to send a request to the model before we configure OpenScale. This allows OpenScale to create a payload log in the datamart with the correct schema, so it can capture data coming into and out of the model. First, the code gets the model deployment's endpoint URL, and then sends a few records for predictions.", 
            "cell_type": "markdown", 
            "metadata": {}
        }, 
        {
            "execution_count": 40, 
            "cell_type": "code", 
            "metadata": {
                "scrolled": true
            }, 
            "outputs": [
                {
                    "output_type": "stream", 
                    "name": "stdout", 
                    "text": "280ac486-14a8-4d4a-95ca-0950498b0523\nhttps://us-south.ml.cloud.ibm.com/v3/wml_instances/a73bf76d-a663-448a-b771-4f651f73d54e/deployments/280ac486-14a8-4d4a-95ca-0950498b0523/online\n"
                }
            ], 
            "source": "credit_risk_scoring_endpoint = None\nprint(deployment_uid)\n\nfor deployment in wml_client.deployments.get_details()['resources']:\n    if deployment_uid in deployment['metadata']['guid']:\n        credit_risk_scoring_endpoint = deployment['entity']['scoring_url']\n        \nprint(credit_risk_scoring_endpoint)"
        }, 
        {
            "execution_count": 41, 
            "cell_type": "code", 
            "metadata": {
                "scrolled": true
            }, 
            "outputs": [
                {
                    "output_type": "stream", 
                    "name": "stdout", 
                    "text": "Single record scoring result: \n fields: ['CheckingStatus', 'LoanDuration', 'CreditHistory', 'LoanPurpose', 'LoanAmount', 'ExistingSavings', 'EmploymentDuration', 'InstallmentPercent', 'Sex', 'OthersOnLoan', 'CurrentResidenceDuration', 'OwnsProperty', 'Age', 'InstallmentPlans', 'Housing', 'ExistingCreditsCount', 'Job', 'Dependents', 'Telephone', 'ForeignWorker', 'CheckingStatus_IX', 'CreditHistory_IX', 'EmploymentDuration_IX', 'ExistingSavings_IX', 'ForeignWorker_IX', 'Housing_IX', 'InstallmentPlans_IX', 'Job_IX', 'LoanPurpose_IX', 'OthersOnLoan_IX', 'OwnsProperty_IX', 'Sex_IX', 'Telephone_IX', 'features', 'rawPrediction', 'probability', 'prediction', 'predictedLabel'] \n values:  ['no_checking', 13, 'credits_paid_to_date', 'car_new', 1343, '100_to_500', '1_to_4', 2, 'female', 'none', 3, 'savings_insurance', 46, 'none', 'own', 2, 'skilled', 1, 'none', 'yes', 0.0, 1.0, 0.0, 1.0, 0.0, 0.0, 0.0, 0.0, 0.0, 0.0, 0.0, 1.0, 0.0, [21, [1, 3, 5, 13, 14, 15, 16, 17, 18, 19, 20], [1.0, 1.0, 1.0, 13.0, 1343.0, 2.0, 3.0, 13.0, 46.0, 2.0, 1.0]], [15.330364321547826, 4.669635678452173], [0.7665182160773913, 0.23348178392260865], 0.0, 'No Risk']\n"
                }
            ], 
            "source": "fields = [\"CheckingStatus\",\"LoanDuration\",\"CreditHistory\",\"LoanPurpose\",\"LoanAmount\",\"ExistingSavings\",\"EmploymentDuration\",\"InstallmentPercent\",\"Sex\",\"OthersOnLoan\",\"CurrentResidenceDuration\",\"OwnsProperty\",\"Age\",\"InstallmentPlans\",\"Housing\",\"ExistingCreditsCount\",\"Job\",\"Dependents\",\"Telephone\",\"ForeignWorker\"]\nvalues = [\n  [\"no_checking\",13,\"credits_paid_to_date\",\"car_new\",1343,\"100_to_500\",\"1_to_4\",2,\"female\",\"none\",3,\"savings_insurance\",46,\"none\",\"own\",2,\"skilled\",1,\"none\",\"yes\"],\n  [\"no_checking\",24,\"prior_payments_delayed\",\"furniture\",4567,\"500_to_1000\",\"1_to_4\",4,\"male\",\"none\",4,\"savings_insurance\",36,\"none\",\"free\",2,\"management_self-employed\",1,\"none\",\"yes\"],\n  [\"0_to_200\",26,\"all_credits_paid_back\",\"car_new\",863,\"less_100\",\"less_1\",2,\"female\",\"co-applicant\",2,\"real_estate\",38,\"none\",\"own\",1,\"skilled\",1,\"none\",\"yes\"],\n  [\"0_to_200\",14,\"no_credits\",\"car_new\",2368,\"less_100\",\"1_to_4\",3,\"female\",\"none\",3,\"real_estate\",29,\"none\",\"own\",1,\"skilled\",1,\"none\",\"yes\"],\n  [\"0_to_200\",4,\"no_credits\",\"car_new\",250,\"less_100\",\"unemployed\",2,\"female\",\"none\",3,\"real_estate\",23,\"none\",\"rent\",1,\"management_self-employed\",1,\"none\",\"yes\"],\n  [\"no_checking\",17,\"credits_paid_to_date\",\"car_new\",832,\"100_to_500\",\"1_to_4\",2,\"male\",\"none\",2,\"real_estate\",42,\"none\",\"own\",1,\"skilled\",1,\"none\",\"yes\"],\n  [\"no_checking\",33,\"outstanding_credit\",\"appliances\",5696,\"unknown\",\"greater_7\",4,\"male\",\"co-applicant\",4,\"unknown\",54,\"none\",\"free\",2,\"skilled\",1,\"yes\",\"yes\"],\n  [\"0_to_200\",13,\"prior_payments_delayed\",\"retraining\",1375,\"100_to_500\",\"4_to_7\",3,\"male\",\"none\",3,\"real_estate\",37,\"none\",\"own\",2,\"management_self-employed\",1,\"none\",\"yes\"]\n]\n\npayload_scoring = {\"fields\": fields,\"values\": values}\nscoring_response = wml_client.deployments.score(credit_risk_scoring_endpoint, payload_scoring)\n\nprint('Single record scoring result:', '\\n fields:', scoring_response['fields'], '\\n values: ', scoring_response['values'][0])"
        }, 
        {
            "source": "# Quality monitoring and feedback logging <a name=\"quality\"></a>", 
            "cell_type": "markdown", 
            "metadata": {}
        }, 
        {
            "source": "## Enable quality monitoring", 
            "cell_type": "markdown", 
            "metadata": {}
        }, 
        {
            "source": "The code below waits ten seconds to allow the payload logging table to be set up before it begins enabling monitors. First, it turns on the quality (accuracy) monitor and sets an alert threshold of 70%. OpenScale will show an alert on the dashboard if the model accuracy measurement (area under the curve, in the case of a binary classifier) falls below this threshold.\n\nThe second paramater supplied, min_records, specifies the minimum number of feedback records OpenScale needs before it calculates a new measurement. The quality monitor runs hourly, but the accuracy reading in the dashboard will not change until an additional 50 feedback records have been added, via the user interface, the Python client, or the supplied feedback endpoint.", 
            "cell_type": "markdown", 
            "metadata": {}
        }, 
        {
            "execution_count": 42, 
            "cell_type": "code", 
            "metadata": {
                "scrolled": true
            }, 
            "outputs": [], 
            "source": "time.sleep(10)\nsubscription.quality_monitoring.enable(threshold=0.7, min_records=50)"
        }, 
        {
            "source": "## Feedback logging", 
            "cell_type": "markdown", 
            "metadata": {}
        }, 
        {
            "source": "The code below downloads and stores enough feedback data to meet the minimum threshold so that OpenScale can calculate a new accuracy measurement. It then kicks off the accuracy monitor. The monitors run hourly, or can be initiated via the Python API, the REST API, or the graphical user interface.", 
            "cell_type": "markdown", 
            "metadata": {}
        }, 
        {
            "execution_count": 43, 
            "cell_type": "code", 
            "metadata": {}, 
            "outputs": [
                {
                    "output_type": "stream", 
                    "name": "stdout", 
                    "text": "rm: cannot remove 'additional_feedback_data.json': No such file or directory\n--2019-06-05 09:49:53--  https://raw.githubusercontent.com/pmservice/ai-openscale-tutorials/master/assets/historical_data/german_credit_risk/wml/additional_feedback_data.json\nResolving raw.githubusercontent.com (raw.githubusercontent.com)... 199.232.8.133\nConnecting to raw.githubusercontent.com (raw.githubusercontent.com)|199.232.8.133|:443... connected.\nHTTP request sent, awaiting response... 200 OK\nLength: 16506 (16K) [text/plain]\nSaving to: 'additional_feedback_data.json'\n\nadditional_feedback 100%[===================>]  16.12K  --.-KB/s    in 0s      \n\n2019-06-05 09:49:54 (139 MB/s) - 'additional_feedback_data.json' saved [16506/16506]\n\n"
                }
            ], 
            "source": "!rm additional_feedback_data.json\n!wget https://raw.githubusercontent.com/pmservice/ai-openscale-tutorials/master/assets/historical_data/german_credit_risk/wml/additional_feedback_data.json"
        }, 
        {
            "execution_count": 44, 
            "cell_type": "code", 
            "metadata": {}, 
            "outputs": [], 
            "source": "with open('additional_feedback_data.json') as feedback_file:\n    additional_feedback_data = json.load(feedback_file)\n    \nsubscription.feedback_logging.store(additional_feedback_data['data'])"
        }, 
        {
            "execution_count": 45, 
            "cell_type": "code", 
            "metadata": {
                "scrolled": true
            }, 
            "outputs": [
                {
                    "output_type": "display_data", 
                    "data": {
                        "text/html": "<HTML>\n        <body>\n            <h3>Feedback_1516b304-44cb-4950-bc67-827ad7f219f3 (binding_id=a73bf76d-a663-448a-b771-4f651f73d54e, subscription_id=1516b304-44cb-4950-bc67-827ad7f219f3)</h3>\n            <table style='border: 1px solid #dddddd; font-family: Courier'>\n                <th style='border: 1px solid #dddddd'>CheckingStatus</th><th style='border: 1px solid #dddddd'>LoanDuration</th><th style='border: 1px solid #dddddd'>CreditHistory</th><th style='border: 1px solid #dddddd'>LoanPurpose</th><th style='border: 1px solid #dddddd'>LoanAmount</th><th style='border: 1px solid #dddddd'>ExistingSavings</th><th style='border: 1px solid #dddddd'>EmploymentDuration</th><th style='border: 1px solid #dddddd'>InstallmentPercent</th><th style='border: 1px solid #dddddd'>Sex</th><th style='border: 1px solid #dddddd'>OthersOnLoan</th><th style='border: 1px solid #dddddd'>CurrentResidenceDuration</th><th style='border: 1px solid #dddddd'>OwnsProperty</th><th style='border: 1px solid #dddddd'>Age</th><th style='border: 1px solid #dddddd'>InstallmentPlans</th><th style='border: 1px solid #dddddd'>Housing</th><th style='border: 1px solid #dddddd'>ExistingCreditsCount</th><th style='border: 1px solid #dddddd'>Job</th><th style='border: 1px solid #dddddd'>Dependents</th><th style='border: 1px solid #dddddd'>Telephone</th><th style='border: 1px solid #dddddd'>ForeignWorker</th><th style='border: 1px solid #dddddd'>Risk</th><th style='border: 1px solid #dddddd'>_training</th>\n                <tr><td style='border: 1px solid #dddddd'>less_0</td><td style='border: 1px solid #dddddd'>10</td><td style='border: 1px solid #dddddd'>all_credits_paid_back</td><td style='border: 1px solid #dddddd'>car_new</td><td style='border: 1px solid #dddddd'>250</td><td style='border: 1px solid #dddddd'>500_to_1000</td><td style='border: 1px solid #dddddd'>4_to_7</td><td style='border: 1px solid #dddddd'>3</td><td style='border: 1px solid #dddddd'>male</td><td style='border: 1px solid #dddddd'>none</td><td style='border: 1px solid #dddddd'>2</td><td style='border: 1px solid #dddddd'>real_estate</td><td style='border: 1px solid #dddddd'>23</td><td style='border: 1px solid #dddddd'>none</td><td style='border: 1px solid #dddddd'>rent</td><td style='border: 1px solid #dddddd'>1</td><td style='border: 1px solid #dddddd'>skilled</td><td style='border: 1px solid #dddddd'>1</td><td style='border: 1px solid #dddddd'>none</td><td style='border: 1px solid #dddddd'>yes</td><td style='border: 1px solid #dddddd'>No Risk</td><td style='border: 1px solid #dddddd'>2019-06-05 09:49:54.784491+00:00</td></tr><tr><td style='border: 1px solid #dddddd'>no_checking</td><td style='border: 1px solid #dddddd'>23</td><td style='border: 1px solid #dddddd'>prior_payments_delayed</td><td style='border: 1px solid #dddddd'>appliances</td><td style='border: 1px solid #dddddd'>6964</td><td style='border: 1px solid #dddddd'>100_to_500</td><td style='border: 1px solid #dddddd'>4_to_7</td><td style='border: 1px solid #dddddd'>4</td><td style='border: 1px solid #dddddd'>female</td><td style='border: 1px solid #dddddd'>none</td><td style='border: 1px solid #dddddd'>3</td><td style='border: 1px solid #dddddd'>car_other</td><td style='border: 1px solid #dddddd'>39</td><td style='border: 1px solid #dddddd'>none</td><td style='border: 1px solid #dddddd'>own</td><td style='border: 1px solid #dddddd'>1</td><td style='border: 1px solid #dddddd'>skilled</td><td style='border: 1px solid #dddddd'>1</td><td style='border: 1px solid #dddddd'>none</td><td style='border: 1px solid #dddddd'>yes</td><td style='border: 1px solid #dddddd'>Risk</td><td style='border: 1px solid #dddddd'>2019-06-05 09:49:54.784491+00:00</td></tr><tr><td style='border: 1px solid #dddddd'>0_to_200</td><td style='border: 1px solid #dddddd'>30</td><td style='border: 1px solid #dddddd'>outstanding_credit</td><td style='border: 1px solid #dddddd'>appliances</td><td style='border: 1px solid #dddddd'>3464</td><td style='border: 1px solid #dddddd'>100_to_500</td><td style='border: 1px solid #dddddd'>greater_7</td><td style='border: 1px solid #dddddd'>3</td><td style='border: 1px solid #dddddd'>male</td><td style='border: 1px solid #dddddd'>guarantor</td><td style='border: 1px solid #dddddd'>4</td><td style='border: 1px solid #dddddd'>savings_insurance</td><td style='border: 1px solid #dddddd'>51</td><td style='border: 1px solid #dddddd'>stores</td><td style='border: 1px solid #dddddd'>free</td><td style='border: 1px solid #dddddd'>1</td><td style='border: 1px solid #dddddd'>skilled</td><td style='border: 1px solid #dddddd'>1</td><td style='border: 1px solid #dddddd'>yes</td><td style='border: 1px solid #dddddd'>yes</td><td style='border: 1px solid #dddddd'>Risk</td><td style='border: 1px solid #dddddd'>2019-06-05 09:49:54.784491+00:00</td></tr><tr><td style='border: 1px solid #dddddd'>no_checking</td><td style='border: 1px solid #dddddd'>23</td><td style='border: 1px solid #dddddd'>outstanding_credit</td><td style='border: 1px solid #dddddd'>car_used</td><td style='border: 1px solid #dddddd'>2681</td><td style='border: 1px solid #dddddd'>500_to_1000</td><td style='border: 1px solid #dddddd'>greater_7</td><td style='border: 1px solid #dddddd'>4</td><td style='border: 1px solid #dddddd'>male</td><td style='border: 1px solid #dddddd'>none</td><td style='border: 1px solid #dddddd'>3</td><td style='border: 1px solid #dddddd'>car_other</td><td style='border: 1px solid #dddddd'>33</td><td style='border: 1px solid #dddddd'>stores</td><td style='border: 1px solid #dddddd'>free</td><td style='border: 1px solid #dddddd'>1</td><td style='border: 1px solid #dddddd'>unskilled</td><td style='border: 1px solid #dddddd'>1</td><td style='border: 1px solid #dddddd'>yes</td><td style='border: 1px solid #dddddd'>yes</td><td style='border: 1px solid #dddddd'>No Risk</td><td style='border: 1px solid #dddddd'>2019-06-05 09:49:54.784491+00:00</td></tr><tr><td style='border: 1px solid #dddddd'>0_to_200</td><td style='border: 1px solid #dddddd'>18</td><td style='border: 1px solid #dddddd'>prior_payments_delayed</td><td style='border: 1px solid #dddddd'>furniture</td><td style='border: 1px solid #dddddd'>1673</td><td style='border: 1px solid #dddddd'>less_100</td><td style='border: 1px solid #dddddd'>1_to_4</td><td style='border: 1px solid #dddddd'>2</td><td style='border: 1px solid #dddddd'>male</td><td style='border: 1px solid #dddddd'>none</td><td style='border: 1px solid #dddddd'>3</td><td style='border: 1px solid #dddddd'>car_other</td><td style='border: 1px solid #dddddd'>30</td><td style='border: 1px solid #dddddd'>none</td><td style='border: 1px solid #dddddd'>own</td><td style='border: 1px solid #dddddd'>2</td><td style='border: 1px solid #dddddd'>skilled</td><td style='border: 1px solid #dddddd'>1</td><td style='border: 1px solid #dddddd'>none</td><td style='border: 1px solid #dddddd'>yes</td><td style='border: 1px solid #dddddd'>Risk</td><td style='border: 1px solid #dddddd'>2019-06-05 09:49:54.784491+00:00</td></tr><tr><td style='border: 1px solid #dddddd'>no_checking</td><td style='border: 1px solid #dddddd'>44</td><td style='border: 1px solid #dddddd'>outstanding_credit</td><td style='border: 1px solid #dddddd'>radio_tv</td><td style='border: 1px solid #dddddd'>3476</td><td style='border: 1px solid #dddddd'>unknown</td><td style='border: 1px solid #dddddd'>greater_7</td><td style='border: 1px solid #dddddd'>4</td><td style='border: 1px solid #dddddd'>male</td><td style='border: 1px solid #dddddd'>co-applicant</td><td style='border: 1px solid #dddddd'>4</td><td style='border: 1px solid #dddddd'>unknown</td><td style='border: 1px solid #dddddd'>60</td><td style='border: 1px solid #dddddd'>none</td><td style='border: 1px solid #dddddd'>free</td><td style='border: 1px solid #dddddd'>2</td><td style='border: 1px solid #dddddd'>skilled</td><td style='border: 1px solid #dddddd'>2</td><td style='border: 1px solid #dddddd'>yes</td><td style='border: 1px solid #dddddd'>yes</td><td style='border: 1px solid #dddddd'>Risk</td><td style='border: 1px solid #dddddd'>2019-06-05 09:49:54.784491+00:00</td></tr><tr><td style='border: 1px solid #dddddd'>less_0</td><td style='border: 1px solid #dddddd'>8</td><td style='border: 1px solid #dddddd'>no_credits</td><td style='border: 1px solid #dddddd'>education</td><td style='border: 1px solid #dddddd'>803</td><td style='border: 1px solid #dddddd'>less_100</td><td style='border: 1px solid #dddddd'>unemployed</td><td style='border: 1px solid #dddddd'>1</td><td style='border: 1px solid #dddddd'>male</td><td style='border: 1px solid #dddddd'>none</td><td style='border: 1px solid #dddddd'>1</td><td style='border: 1px solid #dddddd'>savings_insurance</td><td style='border: 1px solid #dddddd'>19</td><td style='border: 1px solid #dddddd'>stores</td><td style='border: 1px solid #dddddd'>rent</td><td style='border: 1px solid #dddddd'>1</td><td style='border: 1px solid #dddddd'>skilled</td><td style='border: 1px solid #dddddd'>1</td><td style='border: 1px solid #dddddd'>none</td><td style='border: 1px solid #dddddd'>yes</td><td style='border: 1px solid #dddddd'>No Risk</td><td style='border: 1px solid #dddddd'>2019-06-05 09:49:54.784491+00:00</td></tr><tr><td style='border: 1px solid #dddddd'>0_to_200</td><td style='border: 1px solid #dddddd'>7</td><td style='border: 1px solid #dddddd'>all_credits_paid_back</td><td style='border: 1px solid #dddddd'>car_new</td><td style='border: 1px solid #dddddd'>250</td><td style='border: 1px solid #dddddd'>less_100</td><td style='border: 1px solid #dddddd'>unemployed</td><td style='border: 1px solid #dddddd'>1</td><td style='border: 1px solid #dddddd'>male</td><td style='border: 1px solid #dddddd'>none</td><td style='border: 1px solid #dddddd'>1</td><td style='border: 1px solid #dddddd'>real_estate</td><td style='border: 1px solid #dddddd'>19</td><td style='border: 1px solid #dddddd'>stores</td><td style='border: 1px solid #dddddd'>rent</td><td style='border: 1px solid #dddddd'>1</td><td style='border: 1px solid #dddddd'>skilled</td><td style='border: 1px solid #dddddd'>1</td><td style='border: 1px solid #dddddd'>none</td><td style='border: 1px solid #dddddd'>yes</td><td style='border: 1px solid #dddddd'>No Risk</td><td style='border: 1px solid #dddddd'>2019-06-05 09:49:54.784491+00:00</td></tr><tr><td style='border: 1px solid #dddddd'>0_to_200</td><td style='border: 1px solid #dddddd'>33</td><td style='border: 1px solid #dddddd'>credits_paid_to_date</td><td style='border: 1px solid #dddddd'>radio_tv</td><td style='border: 1px solid #dddddd'>3548</td><td style='border: 1px solid #dddddd'>100_to_500</td><td style='border: 1px solid #dddddd'>1_to_4</td><td style='border: 1px solid #dddddd'>3</td><td style='border: 1px solid #dddddd'>male</td><td style='border: 1px solid #dddddd'>none</td><td style='border: 1px solid #dddddd'>4</td><td style='border: 1px solid #dddddd'>car_other</td><td style='border: 1px solid #dddddd'>28</td><td style='border: 1px solid #dddddd'>none</td><td style='border: 1px solid #dddddd'>own</td><td style='border: 1px solid #dddddd'>2</td><td style='border: 1px solid #dddddd'>skilled</td><td style='border: 1px solid #dddddd'>1</td><td style='border: 1px solid #dddddd'>yes</td><td style='border: 1px solid #dddddd'>yes</td><td style='border: 1px solid #dddddd'>Risk</td><td style='border: 1px solid #dddddd'>2019-06-05 09:49:54.784491+00:00</td></tr><tr><td style='border: 1px solid #dddddd'>no_checking</td><td style='border: 1px solid #dddddd'>24</td><td style='border: 1px solid #dddddd'>prior_payments_delayed</td><td style='border: 1px solid #dddddd'>retraining</td><td style='border: 1px solid #dddddd'>4158</td><td style='border: 1px solid #dddddd'>100_to_500</td><td style='border: 1px solid #dddddd'>greater_7</td><td style='border: 1px solid #dddddd'>3</td><td style='border: 1px solid #dddddd'>female</td><td style='border: 1px solid #dddddd'>none</td><td style='border: 1px solid #dddddd'>2</td><td style='border: 1px solid #dddddd'>savings_insurance</td><td style='border: 1px solid #dddddd'>35</td><td style='border: 1px solid #dddddd'>stores</td><td style='border: 1px solid #dddddd'>own</td><td style='border: 1px solid #dddddd'>1</td><td style='border: 1px solid #dddddd'>unskilled</td><td style='border: 1px solid #dddddd'>2</td><td style='border: 1px solid #dddddd'>none</td><td style='border: 1px solid #dddddd'>yes</td><td style='border: 1px solid #dddddd'>Risk</td><td style='border: 1px solid #dddddd'>2019-06-05 09:49:54.784491+00:00</td></tr>\n            </table>\n        </body>\n        </HTML>", 
                        "text/plain": "<IPython.core.display.HTML object>"
                    }, 
                    "metadata": {}
                }
            ], 
            "source": "subscription.feedback_logging.show_table()"
        }, 
        {
            "execution_count": 46, 
            "cell_type": "code", 
            "metadata": {
                "scrolled": true
            }, 
            "outputs": [
                {
                    "output_type": "stream", 
                    "name": "stdout", 
                    "text": "\n\n================================================================================\n\n Waiting for end of quality monitoring run 97bf5074-779b-413c-a005-c33e9cf53767 \n\n================================================================================\n\n\n\ninitializing.\nrunning\ncompleted\n\n---------------------------\n Successfully finished run \n---------------------------\n\n\n"
                }
            ], 
            "source": "run_details = subscription.quality_monitoring.run(background_mode=False)"
        }, 
        {
            "execution_count": 47, 
            "cell_type": "code", 
            "metadata": {
                "scrolled": true
            }, 
            "outputs": [
                {
                    "output_type": "display_data", 
                    "data": {
                        "text/html": "<HTML>\n        <body>\n            <h3>QualityMetrics (binding_id=a73bf76d-a663-448a-b771-4f651f73d54e, subscription_id=1516b304-44cb-4950-bc67-827ad7f219f3)</h3>\n            <table style='border: 1px solid #dddddd; font-family: Courier'>\n                <th style='border: 1px solid #dddddd'>ts</th><th style='border: 1px solid #dddddd'>id</th><th style='border: 1px solid #dddddd'>measurement_id</th><th style='border: 1px solid #dddddd'>value</th><th style='border: 1px solid #dddddd'>lower limit</th><th style='border: 1px solid #dddddd'>upper limit</th><th style='border: 1px solid #dddddd'>tags</th><th style='border: 1px solid #dddddd'>binding_id</th><th style='border: 1px solid #dddddd'>subscription_id</th><th style='border: 1px solid #dddddd'>deployment_id</th>\n                <tr><td style='border: 1px solid #dddddd'>2019-06-05 09:49:58.089000+00:00</td><td style='border: 1px solid #dddddd'>true_positive_rate</td><td style='border: 1px solid #dddddd'>b911aefe-2e16-48d3-80e2-4d7c1574c074</td><td style='border: 1px solid #dddddd'>0.42424242424242425</td><td style='border: 1px solid #dddddd'></td><td style='border: 1px solid #dddddd'></td><td style='border: 1px solid #dddddd'>model_type: original</td><td style='border: 1px solid #dddddd'>a73bf76d-a663-448a-b771-4f651f73d54e</td><td style='border: 1px solid #dddddd'>1516b304-44cb-4950-bc67-827ad7f219f3</td><td style='border: 1px solid #dddddd'>280ac486-14a8-4d4a-95ca-0950498b0523</td></tr><tr><td style='border: 1px solid #dddddd'>2019-06-05 09:49:58.089000+00:00</td><td style='border: 1px solid #dddddd'>area_under_roc</td><td style='border: 1px solid #dddddd'>b911aefe-2e16-48d3-80e2-4d7c1574c074</td><td style='border: 1px solid #dddddd'>0.6813519813519814</td><td style='border: 1px solid #dddddd'>0.7</td><td style='border: 1px solid #dddddd'></td><td style='border: 1px solid #dddddd'>model_type: original</td><td style='border: 1px solid #dddddd'>a73bf76d-a663-448a-b771-4f651f73d54e</td><td style='border: 1px solid #dddddd'>1516b304-44cb-4950-bc67-827ad7f219f3</td><td style='border: 1px solid #dddddd'>280ac486-14a8-4d4a-95ca-0950498b0523</td></tr><tr><td style='border: 1px solid #dddddd'>2019-06-05 09:49:58.089000+00:00</td><td style='border: 1px solid #dddddd'>precision</td><td style='border: 1px solid #dddddd'>b911aefe-2e16-48d3-80e2-4d7c1574c074</td><td style='border: 1px solid #dddddd'>0.7777777777777778</td><td style='border: 1px solid #dddddd'></td><td style='border: 1px solid #dddddd'></td><td style='border: 1px solid #dddddd'>model_type: original</td><td style='border: 1px solid #dddddd'>a73bf76d-a663-448a-b771-4f651f73d54e</td><td style='border: 1px solid #dddddd'>1516b304-44cb-4950-bc67-827ad7f219f3</td><td style='border: 1px solid #dddddd'>280ac486-14a8-4d4a-95ca-0950498b0523</td></tr><tr><td style='border: 1px solid #dddddd'>2019-06-05 09:49:58.089000+00:00</td><td style='border: 1px solid #dddddd'>f1_measure</td><td style='border: 1px solid #dddddd'>b911aefe-2e16-48d3-80e2-4d7c1574c074</td><td style='border: 1px solid #dddddd'>0.5490196078431373</td><td style='border: 1px solid #dddddd'></td><td style='border: 1px solid #dddddd'></td><td style='border: 1px solid #dddddd'>model_type: original</td><td style='border: 1px solid #dddddd'>a73bf76d-a663-448a-b771-4f651f73d54e</td><td style='border: 1px solid #dddddd'>1516b304-44cb-4950-bc67-827ad7f219f3</td><td style='border: 1px solid #dddddd'>280ac486-14a8-4d4a-95ca-0950498b0523</td></tr><tr><td style='border: 1px solid #dddddd'>2019-06-05 09:49:58.089000+00:00</td><td style='border: 1px solid #dddddd'>accuracy</td><td style='border: 1px solid #dddddd'>b911aefe-2e16-48d3-80e2-4d7c1574c074</td><td style='border: 1px solid #dddddd'>0.7653061224489796</td><td style='border: 1px solid #dddddd'></td><td style='border: 1px solid #dddddd'></td><td style='border: 1px solid #dddddd'>model_type: original</td><td style='border: 1px solid #dddddd'>a73bf76d-a663-448a-b771-4f651f73d54e</td><td style='border: 1px solid #dddddd'>1516b304-44cb-4950-bc67-827ad7f219f3</td><td style='border: 1px solid #dddddd'>280ac486-14a8-4d4a-95ca-0950498b0523</td></tr><tr><td style='border: 1px solid #dddddd'>2019-06-05 09:49:58.089000+00:00</td><td style='border: 1px solid #dddddd'>log_loss</td><td style='border: 1px solid #dddddd'>b911aefe-2e16-48d3-80e2-4d7c1574c074</td><td style='border: 1px solid #dddddd'>0.4374274768104465</td><td style='border: 1px solid #dddddd'></td><td style='border: 1px solid #dddddd'></td><td style='border: 1px solid #dddddd'>model_type: original</td><td style='border: 1px solid #dddddd'>a73bf76d-a663-448a-b771-4f651f73d54e</td><td style='border: 1px solid #dddddd'>1516b304-44cb-4950-bc67-827ad7f219f3</td><td style='border: 1px solid #dddddd'>280ac486-14a8-4d4a-95ca-0950498b0523</td></tr><tr><td style='border: 1px solid #dddddd'>2019-06-05 09:49:58.089000+00:00</td><td style='border: 1px solid #dddddd'>false_positive_rate</td><td style='border: 1px solid #dddddd'>b911aefe-2e16-48d3-80e2-4d7c1574c074</td><td style='border: 1px solid #dddddd'>0.06153846153846154</td><td style='border: 1px solid #dddddd'></td><td style='border: 1px solid #dddddd'></td><td style='border: 1px solid #dddddd'>model_type: original</td><td style='border: 1px solid #dddddd'>a73bf76d-a663-448a-b771-4f651f73d54e</td><td style='border: 1px solid #dddddd'>1516b304-44cb-4950-bc67-827ad7f219f3</td><td style='border: 1px solid #dddddd'>280ac486-14a8-4d4a-95ca-0950498b0523</td></tr><tr><td style='border: 1px solid #dddddd'>2019-06-05 09:49:58.089000+00:00</td><td style='border: 1px solid #dddddd'>area_under_pr</td><td style='border: 1px solid #dddddd'>b911aefe-2e16-48d3-80e2-4d7c1574c074</td><td style='border: 1px solid #dddddd'>0.6508108293822579</td><td style='border: 1px solid #dddddd'></td><td style='border: 1px solid #dddddd'></td><td style='border: 1px solid #dddddd'>model_type: original</td><td style='border: 1px solid #dddddd'>a73bf76d-a663-448a-b771-4f651f73d54e</td><td style='border: 1px solid #dddddd'>1516b304-44cb-4950-bc67-827ad7f219f3</td><td style='border: 1px solid #dddddd'>280ac486-14a8-4d4a-95ca-0950498b0523</td></tr><tr><td style='border: 1px solid #dddddd'>2019-06-05 09:49:58.089000+00:00</td><td style='border: 1px solid #dddddd'>recall</td><td style='border: 1px solid #dddddd'>b911aefe-2e16-48d3-80e2-4d7c1574c074</td><td style='border: 1px solid #dddddd'>0.42424242424242425</td><td style='border: 1px solid #dddddd'></td><td style='border: 1px solid #dddddd'></td><td style='border: 1px solid #dddddd'>model_type: original</td><td style='border: 1px solid #dddddd'>a73bf76d-a663-448a-b771-4f651f73d54e</td><td style='border: 1px solid #dddddd'>1516b304-44cb-4950-bc67-827ad7f219f3</td><td style='border: 1px solid #dddddd'>280ac486-14a8-4d4a-95ca-0950498b0523</td></tr>\n            </table>\n        </body>\n        </HTML>", 
                        "text/plain": "<IPython.core.display.HTML object>"
                    }, 
                    "metadata": {}
                }
            ], 
            "source": "subscription.quality_monitoring.show_table()"
        }, 
        {
            "execution_count": 48, 
            "cell_type": "code", 
            "metadata": {}, 
            "outputs": [
                {
                    "output_type": "display_data", 
                    "data": {
                        "image/png": "[encoded data removed]", 
                        "text/plain": "<Figure size 432x288 with 1 Axes>"
                    }, 
                    "metadata": {
                        "needs_background": "light"
                    }
                }
            ], 
            "source": "%matplotlib inline\n\nquality_pd = subscription.quality_monitoring.get_table_content(format='pandas')\nquality_pd.plot.barh(x='id', y='value');"
        }, 
        {
            "execution_count": 49, 
            "cell_type": "code", 
            "metadata": {
                "scrolled": true
            }, 
            "outputs": [
                {
                    "execution_count": 49, 
                    "metadata": {}, 
                    "data": {
                        "text/plain": "{'deployment_metrics': [{'subscription': {'subscription_id': '1516b304-44cb-4950-bc67-827ad7f219f3',\n    'url': '/v1/data_marts/cacaf1bc-1285-46da-ba9a-49464bc683a3/service_bindings/a73bf76d-a663-448a-b771-4f651f73d54e/subscriptions/1516b304-44cb-4950-bc67-827ad7f219f3'},\n   'asset': {'name': 'Spark German Risk Model - Final',\n    'asset_id': '1516b304-44cb-4950-bc67-827ad7f219f3',\n    'url': 'https://us-south.ml.cloud.ibm.com/v3/wml_instances/a73bf76d-a663-448a-b771-4f651f73d54e/published_models/1516b304-44cb-4950-bc67-827ad7f219f3',\n    'asset_type': 'model',\n    'created_at': '2019-06-05T09:47:46.690Z'},\n   'deployment': {'name': 'Spark German Risk Deployment - Final',\n    'url': 'https://us-south.ml.cloud.ibm.com/v3/wml_instances/a73bf76d-a663-448a-b771-4f651f73d54e/deployments/280ac486-14a8-4d4a-95ca-0950498b0523',\n    'deployment_type': 'online',\n    'scoring_endpoint': {'url': 'https://us-south.ml.cloud.ibm.com/v3/wml_instances/a73bf76d-a663-448a-b771-4f651f73d54e/deployments/280ac486-14a8-4d4a-95ca-0950498b0523/online',\n     'request_headers': {'Content-Type': 'application/json'}},\n    'deployment_rn': '',\n    'created_at': '2019-06-05T09:47:46.716Z',\n    'deployment_id': '280ac486-14a8-4d4a-95ca-0950498b0523'},\n   'metrics': [{'metric_type': 'performance',\n     'value': {'records': 8, 'response_time': 292.0},\n     'issues': 0,\n     'timestamp': '2019-06-05T09:49:38.213Z'},\n    {'metric_type': 'quality',\n     'value': {'metrics': [{'name': 'true_positive_rate',\n        'value': 0.42424242424242425},\n       {'name': 'area_under_roc', 'value': 0.6813519813519814},\n       {'name': 'precision', 'value': 0.7777777777777778},\n       {'name': 'f1_measure', 'value': 0.5490196078431373},\n       {'name': 'accuracy', 'value': 0.7653061224489796},\n       {'name': 'log_loss', 'value': 0.4374274768104465},\n       {'name': 'false_positive_rate', 'value': 0.06153846153846154},\n       {'name': 'area_under_pr', 'value': 0.6508108293822579},\n       {'name': 'recall', 'value': 0.42424242424242425}],\n      'quality': 0.6813519813519814,\n      'threshold': 0.7},\n     'issues': 1,\n     'timestamp': '2019-06-05T09:49:58.089Z'}]}]}"
                    }, 
                    "output_type": "execute_result"
                }
            ], 
            "source": "ai_client.data_mart.get_deployment_metrics()"
        }, 
        {
            "source": "# Fairness monitoring and explanations <a name=\"fairness\"></a>", 
            "cell_type": "markdown", 
            "metadata": {}
        }, 
        {
            "source": "The code below configures fairness monitoring for our model. It turns on monitoring for two features, Sex and Age. In each case, we must specify:\n  * Which model feature to monitor\n  * One or more **majority** groups, which are values of that feature that we expect to receive a higher percentage of favorable outcomes\n  * One or more **minority** groups, which are values of that feature that we expect to receive a higher percentage of unfavorable outcomes\n  * The threshold at which we would like OpenScale to display an alert if the fairness measurement falls below (in this case, 95%)\n\nAdditionally, we must specify which outcomes from the model are favourable outcomes, and which are unfavourable. We must also provide the number of records OpenScale will use to calculate the fairness score. In this case, OpenScale's fairness monitor will run hourly, but will not calculate a new fairness rating until at least 200 records have been added. Finally, to calculate fairness, OpenScale must perform some calculations on the training data, so we provide the dataframe containing the data.", 
            "cell_type": "markdown", 
            "metadata": {}
        }, 
        {
            "execution_count": 50, 
            "cell_type": "code", 
            "metadata": {
                "scrolled": true
            }, 
            "outputs": [], 
            "source": "subscription.fairness_monitoring.enable(\n            features=[\n                Feature(\"Sex\", majority=['male'], minority=['female'], threshold=0.95),\n                Feature(\"Age\", majority=[[26,75]], minority=[[18,25]], threshold=0.95)\n            ],\n            favourable_classes=['No Risk'],\n            unfavourable_classes=['Risk'],\n            min_records=200,\n            training_data=pd_data\n        )"
        }, 
        {
            "source": "## Score the model again now that monitoring is configured", 
            "cell_type": "markdown", 
            "metadata": {}
        }, 
        {
            "source": "This next section randomly selects 200 records from the data feed and sends those records to the model for predictions. This is enough to exceed the minimum threshold for records set in the previous section, which allows OpenScale to begin calculating fairness.", 
            "cell_type": "markdown", 
            "metadata": {}
        }, 
        {
            "execution_count": 51, 
            "cell_type": "code", 
            "metadata": {}, 
            "outputs": [
                {
                    "output_type": "stream", 
                    "name": "stdout", 
                    "text": "rm: cannot remove 'german_credit_feed.json': No such file or directory\n--2019-06-05 09:50:20--  https://raw.githubusercontent.com/pmservice/ai-openscale-tutorials/master/assets/historical_data/german_credit_risk/wml/german_credit_feed.json\nResolving raw.githubusercontent.com (raw.githubusercontent.com)... 151.101.48.133\nConnecting to raw.githubusercontent.com (raw.githubusercontent.com)|151.101.48.133|:443... connected.\nHTTP request sent, awaiting response... 200 OK\nLength: 3076547 (2.9M) [text/plain]\nSaving to: 'german_credit_feed.json'\n\ngerman_credit_feed. 100%[===================>]   2.93M  --.-KB/s    in 0.06s   \n\n2019-06-05 09:50:21 (50.9 MB/s) - 'german_credit_feed.json' saved [3076547/3076547]\n\n"
                }
            ], 
            "source": "!rm german_credit_feed.json\n!wget https://raw.githubusercontent.com/pmservice/ai-openscale-tutorials/master/assets/historical_data/german_credit_risk/wml/german_credit_feed.json"
        }, 
        {
            "source": "Score 200 randomly chosen records", 
            "cell_type": "markdown", 
            "metadata": {}
        }, 
        {
            "execution_count": 52, 
            "cell_type": "code", 
            "metadata": {}, 
            "outputs": [], 
            "source": "import random\n\nwith open('german_credit_feed.json', 'r') as scoring_file:\n    scoring_data = json.load(scoring_file)\n\nfields = scoring_data['fields']\nvalues = []\nfor _ in range(200):\n    values.append(random.choice(scoring_data['values']))\npayload_scoring = {\"fields\": fields, \"values\": values}\n\nscoring_response = wml_client.deployments.score(credit_risk_scoring_endpoint, payload_scoring)\ntime.sleep(5)"
        }, 
        {
            "source": "## Run fairness monitor", 
            "cell_type": "markdown", 
            "metadata": {}
        }, 
        {
            "source": "Kick off a fairness monitor run on current data. The monitor runs hourly, but can be manually initiated using the Python client, the REST API, or the graphical user interface.", 
            "cell_type": "markdown", 
            "metadata": {}
        }, 
        {
            "execution_count": 53, 
            "cell_type": "code", 
            "metadata": {
                "scrolled": true
            }, 
            "outputs": [
                {
                    "output_type": "stream", 
                    "name": "stdout", 
                    "text": "\n\n=======================================================================\n\n Counting bias for deployment_uid=280ac486-14a8-4d4a-95ca-0950498b0523 \n\n=======================================================================\n\n\n\nRUNNING....\nFINISHED\n\n---------------------------\n Successfully finished run \n---------------------------\n\n\n"
                }
            ], 
            "source": "run_details = subscription.fairness_monitoring.run(background_mode=False)"
        }, 
        {
            "execution_count": 54, 
            "cell_type": "code", 
            "metadata": {}, 
            "outputs": [
                {
                    "output_type": "display_data", 
                    "data": {
                        "text/html": "<HTML>\n        <body>\n            <h3>FairnessMetrics (binding_id=a73bf76d-a663-448a-b771-4f651f73d54e, subscription_id=1516b304-44cb-4950-bc67-827ad7f219f3)</h3>\n            <table style='border: 1px solid #dddddd; font-family: Courier'>\n                <th style='border: 1px solid #dddddd'>ts</th><th style='border: 1px solid #dddddd'>feature</th><th style='border: 1px solid #dddddd'>feature_value</th><th style='border: 1px solid #dddddd'>fairness_biased</th><th style='border: 1px solid #dddddd'>fairness_value</th><th style='border: 1px solid #dddddd'>fairness_fav_class</th><th style='border: 1px solid #dddddd'>binding_id</th><th style='border: 1px solid #dddddd'>subscription_id</th><th style='border: 1px solid #dddddd'>asset_revision</th><th style='border: 1px solid #dddddd'>deployment_id</th><th style='border: 1px solid #dddddd'>process</th>\n                <tr><td style='border: 1px solid #dddddd'>2019-06-05 09:50:28.885715+00:00</td><td style='border: 1px solid #dddddd'>Sex</td><td style='border: 1px solid #dddddd'>female</td><td style='border: 1px solid #dddddd'>True</td><td style='border: 1px solid #dddddd'>0.933</td><td style='border: 1px solid #dddddd'>69.5</td><td style='border: 1px solid #dddddd'>a73bf76d-a663-448a-b771-4f651f73d54e</td><td style='border: 1px solid #dddddd'>1516b304-44cb-4950-bc67-827ad7f219f3</td><td style='border: 1px solid #dddddd'>1516b304-44cb-4950-bc67-827ad7f219f3</td><td style='border: 1px solid #dddddd'>280ac486-14a8-4d4a-95ca-0950498b0523</td><td style='border: 1px solid #dddddd'></td></tr><tr><td style='border: 1px solid #dddddd'>2019-06-05 09:50:28.885715+00:00</td><td style='border: 1px solid #dddddd'>Age</td><td style='border: 1px solid #dddddd'>[18, 25]</td><td style='border: 1px solid #dddddd'>False</td><td style='border: 1px solid #dddddd'>0.995</td><td style='border: 1px solid #dddddd'>76.85950413223141</td><td style='border: 1px solid #dddddd'>a73bf76d-a663-448a-b771-4f651f73d54e</td><td style='border: 1px solid #dddddd'>1516b304-44cb-4950-bc67-827ad7f219f3</td><td style='border: 1px solid #dddddd'>1516b304-44cb-4950-bc67-827ad7f219f3</td><td style='border: 1px solid #dddddd'>280ac486-14a8-4d4a-95ca-0950498b0523</td><td style='border: 1px solid #dddddd'></td></tr>\n            </table>\n        </body>\n        </HTML>", 
                        "text/plain": "<IPython.core.display.HTML object>"
                    }, 
                    "metadata": {}
                }
            ], 
            "source": "time.sleep(10)\n\nsubscription.fairness_monitoring.show_table()"
        }, 
        {
            "source": "## Configure Explainability", 
            "cell_type": "markdown", 
            "metadata": {}
        }, 
        {
            "source": "Finally, we provide OpenScale with the training data to enable and configure the explainability features.", 
            "cell_type": "markdown", 
            "metadata": {}
        }, 
        {
            "execution_count": 55, 
            "cell_type": "code", 
            "metadata": {
                "scrolled": true
            }, 
            "outputs": [], 
            "source": "from ibm_ai_openscale.supporting_classes import *\n\nsubscription.explainability.enable(training_data=pd_data)"
        }, 
        {
            "execution_count": 56, 
            "cell_type": "code", 
            "metadata": {
                "scrolled": true
            }, 
            "outputs": [], 
            "source": "explainability_details = subscription.explainability.get_details()"
        }, 
        {
            "source": "## Run explanation for sample record", 
            "cell_type": "markdown", 
            "metadata": {}
        }, 
        {
            "execution_count": 57, 
            "cell_type": "code", 
            "metadata": {}, 
            "outputs": [
                {
                    "output_type": "stream", 
                    "name": "stdout", 
                    "text": "4fb651304c127cd0a8075037c41519ab-1\n"
                }
            ], 
            "source": "transaction_id = subscription.payload_logging.get_table_content(limit=1)['scoring_id'].values[0]\n\nprint(transaction_id)"
        }, 
        {
            "execution_count": 58, 
            "cell_type": "code", 
            "metadata": {}, 
            "outputs": [
                {
                    "output_type": "stream", 
                    "name": "stdout", 
                    "text": "\n\n================================================================\n\n Looking for explanation for 4fb651304c127cd0a8075037c41519ab-1 \n\n================================================================\n\n\n\nin_progress..............\nfinished\n\n---------------------------\n Successfully finished run \n---------------------------\n\n\n"
                }
            ], 
            "source": "explain_run = subscription.explainability.run(transaction_id=transaction_id, background_mode=False)"
        }, 
        {
            "execution_count": 59, 
            "cell_type": "code", 
            "metadata": {}, 
            "outputs": [
                {
                    "output_type": "display_data", 
                    "data": {
                        "image/png": "[encoded data removed]", 
                        "text/plain": "<Figure size 432x288 with 1 Axes>"
                    }, 
                    "metadata": {
                        "needs_background": "light"
                    }
                }
            ], 
            "source": "explain_result = pd.DataFrame.from_dict(explain_run['entity']['predictions'][0]['explanation_features'])\nexplain_result.plot.barh(x='feature_name', y='weight', color='g', alpha=0.8);"
        }, 
        {
            "source": "# Custom monitors and metrics <a name=\"custom\"></a>", 
            "cell_type": "markdown", 
            "metadata": {}
        }, 
        {
            "source": "## Register custom monitor", 
            "cell_type": "markdown", 
            "metadata": {}
        }, 
        {
            "execution_count": 60, 
            "cell_type": "code", 
            "metadata": {}, 
            "outputs": [], 
            "source": "def get_definition(monitor_name):\n    monitors_definitions = ai_client.data_mart.monitors.get_details()['monitor_definitions']\n    \n    for definition in monitors_definitions:\n        if monitor_name == definition['entity']['name']:\n            return definition\n    \n    return None"
        }, 
        {
            "execution_count": 61, 
            "cell_type": "code", 
            "metadata": {}, 
            "outputs": [], 
            "source": "from ibm_ai_openscale.supporting_classes import Metric, Tag\n\nmonitor_name = 'my model performance'\nmetrics = [Metric(name='sensitivity', lower_limit_default=0.8), Metric(name='specificity', lower_limit_default=0.75)]\ntags = [Tag(name='region', description='customer geographical region')]\n\nexisting_definition = get_definition(monitor_name)\n\nif existing_definition is None:\n    my_monitor = ai_client.data_mart.monitors.add(name=monitor_name, metrics=metrics, tags=tags)\nelse:\n    my_monitor = existing_definition"
        }, 
        {
            "source": "### List monitors", 
            "cell_type": "markdown", 
            "metadata": {}
        }, 
        {
            "source": "### Get monitors uids and details", 
            "cell_type": "markdown", 
            "metadata": {}
        }, 
        {
            "execution_count": 62, 
            "cell_type": "code", 
            "metadata": {}, 
            "outputs": [
                {
                    "output_type": "stream", 
                    "name": "stdout", 
                    "text": "my_model_performance\n"
                }
            ], 
            "source": "monitor_uid = my_monitor['metadata']['guid']\n\nprint(monitor_uid)"
        }, 
        {
            "execution_count": 63, 
            "cell_type": "code", 
            "metadata": {}, 
            "outputs": [
                {
                    "output_type": "stream", 
                    "name": "stdout", 
                    "text": "monitor definition details {'metadata': {'guid': 'my_model_performance', 'url': '/v1/data_marts/cacaf1bc-1285-46da-ba9a-49464bc683a3/monitor_definitions/my_model_performance', 'created_at': '2019-06-05T09:52:43.384Z'}, 'entity': {'name': 'my model performance', 'metrics': [{'id': 'sensitivity', 'name': 'sensitivity', 'thresholds': [{'type': 'lower_limit', 'default': 0.8}], 'required': True}, {'id': 'specificity', 'name': 'specificity', 'thresholds': [{'type': 'lower_limit', 'default': 0.75}], 'required': True}], 'tags': [{'id': 'region', 'name': 'region', 'description': 'customer geographical region', 'required': True}]}}\n"
                }
            ], 
            "source": "my_monitor = ai_client.data_mart.monitors.get_details(monitor_uid=monitor_uid)\nprint('monitor definition details', my_monitor)"
        }, 
        {
            "source": "## Enable custom monitor for subscription", 
            "cell_type": "markdown", 
            "metadata": {}
        }, 
        {
            "execution_count": 64, 
            "cell_type": "code", 
            "metadata": {}, 
            "outputs": [], 
            "source": "from ibm_ai_openscale.supporting_classes import Threshold\n\nthresholds = [Threshold(metric_uid='sensitivity', lower_limit=0.9)]\nsubscription.monitoring.enable(monitor_uid=monitor_uid, thresholds=thresholds)"
        }, 
        {
            "source": "### Get monitor configuration details", 
            "cell_type": "markdown", 
            "metadata": {}
        }, 
        {
            "execution_count": 65, 
            "cell_type": "code", 
            "metadata": {}, 
            "outputs": [
                {
                    "execution_count": 65, 
                    "metadata": {}, 
                    "data": {
                        "text/plain": "{'enabled': True,\n 'thresholds': [{'metric_id': 'sensitivity',\n   'type': 'lower_limit',\n   'value': 0.9}],\n 'monitor_definition': {'metadata': {'guid': 'my_model_performance',\n   'url': '/v1/data_marts/cacaf1bc-1285-46da-ba9a-49464bc683a3/monitor_definitions/my_model_performance',\n   'created_at': '2019-06-05T09:52:43.384Z'},\n  'entity': {'name': 'my model performance',\n   'metrics': [{'id': 'sensitivity',\n     'name': 'sensitivity',\n     'thresholds': [{'type': 'lower_limit', 'default': 0.9}],\n     'required': True},\n    {'id': 'specificity', 'name': 'specificity', 'required': True}],\n   'tags': [{'id': 'region',\n     'name': 'region',\n     'description': 'customer geographical region',\n     'required': True}]}}}"
                    }, 
                    "output_type": "execute_result"
                }
            ], 
            "source": "subscription.monitoring.get_details(monitor_uid=monitor_uid)"
        }, 
        {
            "source": "## Storing custom metrics", 
            "cell_type": "markdown", 
            "metadata": {}
        }, 
        {
            "execution_count": 66, 
            "cell_type": "code", 
            "metadata": {}, 
            "outputs": [], 
            "source": "metrics = {\"specificity\": 0.78, \"sensitivity\": 0.67, \"region\": \"us-south\"}\n\nsubscription.monitoring.store_metrics(monitor_uid=monitor_uid, metrics=metrics)"
        }, 
        {
            "source": "### List and get custom metrics", 
            "cell_type": "markdown", 
            "metadata": {}
        }, 
        {
            "execution_count": 67, 
            "cell_type": "code", 
            "metadata": {}, 
            "outputs": [
                {
                    "output_type": "display_data", 
                    "data": {
                        "text/html": "<HTML>\n        <body>\n            <h3>CustomMetrics (binding_id=a73bf76d-a663-448a-b771-4f651f73d54e, subscription_id=1516b304-44cb-4950-bc67-827ad7f219f3)</h3>\n            <table style='border: 1px solid #dddddd; font-family: Courier'>\n                <th style='border: 1px solid #dddddd'>ts</th><th style='border: 1px solid #dddddd'>id</th><th style='border: 1px solid #dddddd'>measurement_id</th><th style='border: 1px solid #dddddd'>value</th><th style='border: 1px solid #dddddd'>lower limit</th><th style='border: 1px solid #dddddd'>upper limit</th><th style='border: 1px solid #dddddd'>tags</th><th style='border: 1px solid #dddddd'>binding_id</th><th style='border: 1px solid #dddddd'>subscription_id</th><th style='border: 1px solid #dddddd'>deployment_id</th>\n                <tr><td style='border: 1px solid #dddddd'>2019-06-05 09:52:43.707389+00:00</td><td style='border: 1px solid #dddddd'>sensitivity</td><td style='border: 1px solid #dddddd'>2a373154-b6b3-420d-a881-38ff7be26ccc</td><td style='border: 1px solid #dddddd'>0.67</td><td style='border: 1px solid #dddddd'>0.9</td><td style='border: 1px solid #dddddd'></td><td style='border: 1px solid #dddddd'>region: us-south</td><td style='border: 1px solid #dddddd'>a73bf76d-a663-448a-b771-4f651f73d54e</td><td style='border: 1px solid #dddddd'>1516b304-44cb-4950-bc67-827ad7f219f3</td><td style='border: 1px solid #dddddd'>280ac486-14a8-4d4a-95ca-0950498b0523</td></tr><tr><td style='border: 1px solid #dddddd'>2019-06-05 09:52:43.707389+00:00</td><td style='border: 1px solid #dddddd'>specificity</td><td style='border: 1px solid #dddddd'>2a373154-b6b3-420d-a881-38ff7be26ccc</td><td style='border: 1px solid #dddddd'>0.78</td><td style='border: 1px solid #dddddd'></td><td style='border: 1px solid #dddddd'></td><td style='border: 1px solid #dddddd'>region: us-south</td><td style='border: 1px solid #dddddd'>a73bf76d-a663-448a-b771-4f651f73d54e</td><td style='border: 1px solid #dddddd'>1516b304-44cb-4950-bc67-827ad7f219f3</td><td style='border: 1px solid #dddddd'>280ac486-14a8-4d4a-95ca-0950498b0523</td></tr>\n            </table>\n        </body>\n        </HTML>", 
                        "text/plain": "<IPython.core.display.HTML object>"
                    }, 
                    "metadata": {}
                }
            ], 
            "source": "time.sleep(5)\n\nsubscription.monitoring.show_table(monitor_uid=monitor_uid)"
        }, 
        {
            "execution_count": 68, 
            "cell_type": "code", 
            "metadata": {}, 
            "outputs": [
                {
                    "execution_count": 68, 
                    "metadata": {}, 
                    "data": {
                        "text/plain": "[{'asset_id': '1516b304-44cb-4950-bc67-827ad7f219f3',\n  'binding_id': 'a73bf76d-a663-448a-b771-4f651f73d54e',\n  'tags': [{'id': 'region', 'value': 'us-south'}],\n  'ts': '2019-06-05T09:52:43.707389Z',\n  'measurement_id': '2a373154-b6b3-420d-a881-38ff7be26ccc',\n  'monitor_definition_id': 'my_model_performance',\n  'subscription_id': '1516b304-44cb-4950-bc67-827ad7f219f3',\n  'metrics': [{'lower_limit': 0.9, 'id': 'sensitivity', 'value': 0.67},\n   {'id': 'specificity', 'value': 0.78}]}]"
                    }, 
                    "output_type": "execute_result"
                }
            ], 
            "source": "custom_metrics = subscription.monitoring.get_metrics(monitor_uid=monitor_uid, deployment_uid='credit')\ncustom_metrics"
        }, 
        {
            "execution_count": 69, 
            "cell_type": "code", 
            "metadata": {}, 
            "outputs": [
                {
                    "output_type": "display_data", 
                    "data": {
                        "image/png": "[encoded data removed]", 
                        "text/plain": "<Figure size 432x288 with 1 Axes>"
                    }, 
                    "metadata": {
                        "needs_background": "light"
                    }
                }
            ], 
            "source": "custom_metrics_pandas = subscription.monitoring.get_table_content(monitor_uid=monitor_uid)\n\n%matplotlib inline\ncustom_metrics_pandas.plot.barh(x='id', y='value');"
        }, 
        {
            "source": "# Payload analytics <a name=\"analytics\"></a>", 
            "cell_type": "markdown", 
            "metadata": {}
        }, 
        {
            "source": "## Run data distributions calculation", 
            "cell_type": "markdown", 
            "metadata": {}
        }, 
        {
            "execution_count": 70, 
            "cell_type": "code", 
            "metadata": {}, 
            "outputs": [
                {
                    "output_type": "stream", 
                    "name": "stdout", 
                    "text": "\n\n===============================================================================\n\n Waiting for end of data distribution run 686103fc-e9f0-4cd8-8380-99d7bb133bf0 \n\n===============================================================================\n\n\n\nrunning\ncompleted\n\n---------------------------\n Successfully finished run \n---------------------------\n\n\n"
                }
            ], 
            "source": "from datetime import datetime\n\nstart_date = \"2018-01-01T00:00:00.00Z\"\nend_date = datetime.utcnow().isoformat() + \"Z\"\n\nsex_distribution = subscription.payload_logging.data_distribution.run(\n            start_date=start_date,\n            end_date=end_date,\n            group=['predictedLabel', 'Sex'],\n            agg=['count'])"
        }, 
        {
            "source": "## Get data distributions as pandas dataframe", 
            "cell_type": "markdown", 
            "metadata": {}
        }, 
        {
            "execution_count": 71, 
            "cell_type": "code", 
            "metadata": {}, 
            "outputs": [
                {
                    "execution_count": 71, 
                    "metadata": {}, 
                    "data": {
                        "text/html": "<div>\n<style scoped>\n    .dataframe tbody tr th:only-of-type {\n        vertical-align: middle;\n    }\n\n    .dataframe tbody tr th {\n        vertical-align: top;\n    }\n\n    .dataframe thead th {\n        text-align: right;\n    }\n</style>\n<table border=\"1\" class=\"dataframe\">\n  <thead>\n    <tr style=\"text-align: right;\">\n      <th></th>\n      <th>predictedLabel</th>\n      <th>Sex</th>\n      <th>count</th>\n    </tr>\n  </thead>\n  <tbody>\n    <tr>\n      <th>0</th>\n      <td>No Risk</td>\n      <td>female</td>\n      <td>68</td>\n    </tr>\n    <tr>\n      <th>1</th>\n      <td>No Risk</td>\n      <td>male</td>\n      <td>85</td>\n    </tr>\n    <tr>\n      <th>2</th>\n      <td>Risk</td>\n      <td>female</td>\n      <td>7</td>\n    </tr>\n    <tr>\n      <th>3</th>\n      <td>Risk</td>\n      <td>male</td>\n      <td>48</td>\n    </tr>\n  </tbody>\n</table>\n</div>", 
                        "text/plain": "  predictedLabel     Sex  count\n0        No Risk  female     68\n1        No Risk    male     85\n2           Risk  female      7\n3           Risk    male     48"
                    }, 
                    "output_type": "execute_result"
                }
            ], 
            "source": "sex_distribution_run_uid = sex_distribution['id']\ndistributions_pd = subscription.payload_logging.data_distribution.get_run_result(run_id=sex_distribution_run_uid, format='pandas')\ndistributions_pd"
        }, 
        {
            "execution_count": 72, 
            "cell_type": "code", 
            "metadata": {}, 
            "outputs": [
                {
                    "output_type": "display_data", 
                    "data": {
                        "image/png": "[encoded data removed]", 
                        "text/plain": "<Figure size 432x288 with 1 Axes>"
                    }, 
                    "metadata": {
                        "needs_background": "light"
                    }
                }
            ], 
            "source": "subscription.payload_logging.data_distribution.show_chart(sex_distribution_run_uid);"
        }, 
        {
            "execution_count": 73, 
            "cell_type": "code", 
            "metadata": {}, 
            "outputs": [
                {
                    "output_type": "stream", 
                    "name": "stdout", 
                    "text": "\n\n===============================================================================\n\n Waiting for end of data distribution run fed37df9-513f-4987-85c3-54c76af96bac \n\n===============================================================================\n\n\n\nrunning\ncompleted\n\n---------------------------\n Successfully finished run \n---------------------------\n\n\n"
                }
            ], 
            "source": "credit_history_distribution = subscription.payload_logging.data_distribution.run(\n            start_date=start_date,\n            end_date=end_date,\n            group=['predictedLabel', 'CreditHistory'],\n            agg=['count'])"
        }, 
        {
            "execution_count": 74, 
            "cell_type": "code", 
            "metadata": {}, 
            "outputs": [
                {
                    "output_type": "display_data", 
                    "data": {
                        "image/png": "[encoded data removed]", 
                        "text/plain": "<Figure size 432x288 with 1 Axes>"
                    }, 
                    "metadata": {
                        "needs_background": "light"
                    }
                }
            ], 
            "source": "credit_history_distribution_run_uid = credit_history_distribution['id']\n\nsubscription.payload_logging.data_distribution.show_chart(credit_history_distribution_run_uid);"
        }, 
        {
            "source": "# Historical data <a name=\"historical\"></a>", 
            "cell_type": "markdown", 
            "metadata": {}
        }, 
        {
            "source": " ## Insert historical payloads", 
            "cell_type": "markdown", 
            "metadata": {}
        }, 
        {
            "source": "The next section of the notebook downloads and writes historical data to the payload and measurement tables to simulate a production model that has been monitored and receiving regular traffic for the last seven days. This historical data can be viewed in the Watson OpenScale user interface. The code uses the Python and REST APIs to write this data.", 
            "cell_type": "markdown", 
            "metadata": {}
        }, 
        {
            "execution_count": 75, 
            "cell_type": "code", 
            "metadata": {
                "scrolled": false
            }, 
            "outputs": [
                {
                    "output_type": "stream", 
                    "name": "stdout", 
                    "text": "rm: cannot remove 'history_payloads*.json': No such file or directory\n--2019-06-05 09:53:11--  https://raw.githubusercontent.com/pmservice/ai-openscale-tutorials/master/assets/historical_data/german_credit_risk/wml/history_payloads_0.json\nResolving raw.githubusercontent.com (raw.githubusercontent.com)... 199.232.8.133\nConnecting to raw.githubusercontent.com (raw.githubusercontent.com)|199.232.8.133|:443... connected.\nHTTP request sent, awaiting response... 200 OK\nLength: 9569926 (9.1M) [text/plain]\nSaving to: 'history_payloads_0.json'\n\nhistory_payloads_0. 100%[===================>]   9.13M  --.-KB/s    in 0.1s    \n\n2019-06-05 09:53:12 (65.6 MB/s) - 'history_payloads_0.json' saved [9569926/9569926]\n\n--2019-06-05 09:53:12--  https://raw.githubusercontent.com/pmservice/ai-openscale-tutorials/master/assets/historical_data/german_credit_risk/wml/history_payloads_1.json\nResolving raw.githubusercontent.com (raw.githubusercontent.com)... 199.232.8.133\nConnecting to raw.githubusercontent.com (raw.githubusercontent.com)|199.232.8.133|:443... connected.\nHTTP request sent, awaiting response... 200 OK\nLength: 9567447 (9.1M) [text/plain]\nSaving to: 'history_payloads_1.json'\n\nhistory_payloads_1. 100%[===================>]   9.12M  45.1MB/s    in 0.2s    \n\n2019-06-05 09:53:13 (45.1 MB/s) - 'history_payloads_1.json' saved [9567447/9567447]\n\n--2019-06-05 09:53:13--  https://raw.githubusercontent.com/pmservice/ai-openscale-tutorials/master/assets/historical_data/german_credit_risk/wml/history_payloads_2.json\nResolving raw.githubusercontent.com (raw.githubusercontent.com)... 151.101.48.133\nConnecting to raw.githubusercontent.com (raw.githubusercontent.com)|151.101.48.133|:443... connected.\nHTTP request sent, awaiting response... 200 OK\nLength: 9571799 (9.1M) [text/plain]\nSaving to: 'history_payloads_2.json'\n\nhistory_payloads_2. 100%[===================>]   9.13M  49.7MB/s    in 0.2s    \n\n2019-06-05 09:53:14 (49.7 MB/s) - 'history_payloads_2.json' saved [9571799/9571799]\n\n--2019-06-05 09:53:14--  https://raw.githubusercontent.com/pmservice/ai-openscale-tutorials/master/assets/historical_data/german_credit_risk/wml/history_payloads_3.json\nResolving raw.githubusercontent.com (raw.githubusercontent.com)... 151.101.48.133\nConnecting to raw.githubusercontent.com (raw.githubusercontent.com)|151.101.48.133|:443... connected.\nHTTP request sent, awaiting response... 200 OK\nLength: 9573282 (9.1M) [text/plain]\nSaving to: 'history_payloads_3.json'\n\nhistory_payloads_3. 100%[===================>]   9.13M  --.-KB/s    in 0.08s   \n\n2019-06-05 09:53:15 (120 MB/s) - 'history_payloads_3.json' saved [9573282/9573282]\n\n--2019-06-05 09:53:16--  https://raw.githubusercontent.com/pmservice/ai-openscale-tutorials/master/assets/historical_data/german_credit_risk/wml/history_payloads_4.json\nResolving raw.githubusercontent.com (raw.githubusercontent.com)... 151.101.48.133\nConnecting to raw.githubusercontent.com (raw.githubusercontent.com)|151.101.48.133|:443... connected.\nHTTP request sent, awaiting response... 200 OK\nLength: 9568788 (9.1M) [text/plain]\nSaving to: 'history_payloads_4.json'\n\nhistory_payloads_4. 100%[===================>]   9.12M  --.-KB/s    in 0.1s    \n\n2019-06-05 09:53:16 (69.1 MB/s) - 'history_payloads_4.json' saved [9568788/9568788]\n\n--2019-06-05 09:53:17--  https://raw.githubusercontent.com/pmservice/ai-openscale-tutorials/master/assets/historical_data/german_credit_risk/wml/history_payloads_5.json\nResolving raw.githubusercontent.com (raw.githubusercontent.com)... 199.232.8.133\nConnecting to raw.githubusercontent.com (raw.githubusercontent.com)|199.232.8.133|:443... connected.\nHTTP request sent, awaiting response... 200 OK\nLength: 9569249 (9.1M) [text/plain]\nSaving to: 'history_payloads_5.json'\n\nhistory_payloads_5. 100%[===================>]   9.12M  --.-KB/s    in 0.1s    \n\n2019-06-05 09:53:17 (83.1 MB/s) - 'history_payloads_5.json' saved [9569249/9569249]\n\n--2019-06-05 09:53:18--  https://raw.githubusercontent.com/pmservice/ai-openscale-tutorials/master/assets/historical_data/german_credit_risk/wml/history_payloads_6.json\nResolving raw.githubusercontent.com (raw.githubusercontent.com)... 199.232.8.133\nConnecting to raw.githubusercontent.com (raw.githubusercontent.com)|199.232.8.133|:443... connected.\nHTTP request sent, awaiting response... 200 OK\nLength: 9568623 (9.1M) [text/plain]\nSaving to: 'history_payloads_6.json'\n\nhistory_payloads_6. 100%[===================>]   9.12M  58.4MB/s    in 0.2s    \n\n2019-06-05 09:53:18 (58.4 MB/s) - 'history_payloads_6.json' saved [9568623/9568623]\n\n"
                }
            ], 
            "source": "!rm history_payloads*.json\n!wget https://raw.githubusercontent.com/pmservice/ai-openscale-tutorials/master/assets/historical_data/german_credit_risk/wml/history_payloads_0.json\n!wget https://raw.githubusercontent.com/pmservice/ai-openscale-tutorials/master/assets/historical_data/german_credit_risk/wml/history_payloads_1.json\n!wget https://raw.githubusercontent.com/pmservice/ai-openscale-tutorials/master/assets/historical_data/german_credit_risk/wml/history_payloads_2.json\n!wget https://raw.githubusercontent.com/pmservice/ai-openscale-tutorials/master/assets/historical_data/german_credit_risk/wml/history_payloads_3.json\n!wget https://raw.githubusercontent.com/pmservice/ai-openscale-tutorials/master/assets/historical_data/german_credit_risk/wml/history_payloads_4.json\n!wget https://raw.githubusercontent.com/pmservice/ai-openscale-tutorials/master/assets/historical_data/german_credit_risk/wml/history_payloads_5.json\n!wget https://raw.githubusercontent.com/pmservice/ai-openscale-tutorials/master/assets/historical_data/german_credit_risk/wml/history_payloads_6.json"
        }, 
        {
            "execution_count": 76, 
            "cell_type": "code", 
            "metadata": {
                "scrolled": true
            }, 
            "outputs": [], 
            "source": "historyDays = 7"
        }, 
        {
            "execution_count": 77, 
            "cell_type": "code", 
            "metadata": {
                "scrolled": false
            }, 
            "outputs": [
                {
                    "output_type": "stream", 
                    "name": "stdout", 
                    "text": "Loading day 1\nLoading day 2\nLoading day 3\nLoading day 4\nLoading day 5\nLoading day 6\nLoading day 7\nFinished\n"
                }
            ], 
            "source": "from ibm_ai_openscale.supporting_classes import PayloadRecord, Feature\nimport datetime\nimport time\n\nfor day in range(historyDays):\n    print('Loading day {}'.format(day + 1))\n    history_file = 'history_payloads_' + str(day) + '.json'\n    with open(history_file) as f:\n        payloads = json.load(f)\n        hourly_records = int(len(payloads) / 24)\n        index = 0\n        for hour in range(24):\n            recordsList = []\n            for i in range(hourly_records):\n                score_time = str(datetime.datetime.utcnow() + datetime.timedelta(hours=(-(24*day + hour + 1))))\n                recordsList.append(PayloadRecord(request=payloads[index]['request'], response=payloads[index]['response'], scoring_timestamp=score_time))\n                index += 1\n            subscription.payload_logging.store(records=recordsList)\nprint('Finished')"
        }, 
        {
            "execution_count": 78, 
            "cell_type": "code", 
            "metadata": {
                "scrolled": true
            }, 
            "outputs": [
                {
                    "output_type": "stream", 
                    "name": "stdout", 
                    "text": "cacaf1bc-1285-46da-ba9a-49464bc683a3\n"
                }
            ], 
            "source": "data_mart_id = subscription.get_details()['metadata']['url'].split('/service_bindings')[0].split('marts/')[1]\nprint(data_mart_id)"
        }, 
        {
            "execution_count": 79, 
            "cell_type": "code", 
            "metadata": {
                "scrolled": true
            }, 
            "outputs": [
                {
                    "output_type": "stream", 
                    "name": "stdout", 
                    "text": "https://api.aiopenscale.cloud.ibm.com/v1/data_marts/cacaf1bc-1285-46da-ba9a-49464bc683a3/metrics\n"
                }
            ], 
            "source": "performance_metrics_url = WOS_CREDENTIALS['url'] + subscription.get_details()['metadata']['url'].split('/service_bindings')[0] + '/metrics'\nprint(performance_metrics_url)"
        }, 
        {
            "source": "## Insert historical fairness metrics", 
            "cell_type": "markdown", 
            "metadata": {}
        }, 
        {
            "execution_count": 80, 
            "cell_type": "code", 
            "metadata": {}, 
            "outputs": [
                {
                    "output_type": "stream", 
                    "name": "stdout", 
                    "text": "rm: cannot remove 'history_fairness.json': No such file or directory\n--2019-06-05 09:54:10--  https://raw.githubusercontent.com/pmservice/ai-openscale-tutorials/master/assets/historical_data/german_credit_risk/wml/history_fairness.json\nResolving raw.githubusercontent.com (raw.githubusercontent.com)... 199.232.8.133\nConnecting to raw.githubusercontent.com (raw.githubusercontent.com)|199.232.8.133|:443... connected.\nHTTP request sent, awaiting response... 200 OK\nLength: 562458 (549K) [text/plain]\nSaving to: 'history_fairness.json'\n\nhistory_fairness.js 100%[===================>] 549.28K  --.-KB/s    in 0.02s   \n\n2019-06-05 09:54:10 (30.7 MB/s) - 'history_fairness.json' saved [562458/562458]\n\n"
                }
            ], 
            "source": "!rm history_fairness.json\n!wget https://raw.githubusercontent.com/pmservice/ai-openscale-tutorials/master/assets/historical_data/german_credit_risk/wml/history_fairness.json"
        }, 
        {
            "execution_count": 81, 
            "cell_type": "code", 
            "metadata": {}, 
            "outputs": [
                {
                    "output_type": "stream", 
                    "name": "stdout", 
                    "text": "Loading day 1\nLoading day 2\nLoading day 3\nLoading day 4\nLoading day 5\nLoading day 6\nLoading day 7\nFinished\n"
                }
            ], 
            "source": "with open('history_fairness.json', 'r') as history_file:\n    payloads = json.load(history_file)\n\nfor day in range(historyDays):\n    print('Loading day', day + 1)\n    metrics = []\n    \n    for hour in range(24):\n        score_time = (datetime.datetime.utcnow() + datetime.timedelta(hours=(-(24*day + hour + 1)))).strftime('%Y-%m-%dT%H:%M:%SZ')\n        index = (day * 24 + hour) % len(payloads) # wrap around and reuse values if needed\n        \n        metric = {\n            'metric_type': 'fairness',\n            'binding_id': binding_uid,\n            'timestamp': score_time,\n            'subscription_id': model_uid,\n            'asset_revision': model_uid,\n            'deployment_id': deployment_uid,\n            'value': payloads[index]\n        }\n        metrics.append(metric)\n    response = requests.post(performance_metrics_url, json=metrics, headers=ai_client._get_headers())\nprint('Finished')"
        }, 
        {
            "source": "## Insert historical debias metrics", 
            "cell_type": "markdown", 
            "metadata": {}
        }, 
        {
            "execution_count": 82, 
            "cell_type": "code", 
            "metadata": {}, 
            "outputs": [
                {
                    "output_type": "stream", 
                    "name": "stdout", 
                    "text": "rm: cannot remove 'history_debias.json': No such file or directory\n--2019-06-05 09:54:12--  https://raw.githubusercontent.com/pmservice/ai-openscale-tutorials/master/assets/historical_data/german_credit_risk/wml/history_debias.json\nResolving raw.githubusercontent.com (raw.githubusercontent.com)... 151.101.48.133\nConnecting to raw.githubusercontent.com (raw.githubusercontent.com)|151.101.48.133|:443... connected.\nHTTP request sent, awaiting response... 200 OK\nLength: 565971 (553K) [text/plain]\nSaving to: 'history_debias.json'\n\nhistory_debias.json 100%[===================>] 552.71K  --.-KB/s    in 0.04s   \n\n2019-06-05 09:54:13 (14.7 MB/s) - 'history_debias.json' saved [565971/565971]\n\n"
                }
            ], 
            "source": "!rm history_debias.json\n!wget https://raw.githubusercontent.com/pmservice/ai-openscale-tutorials/master/assets/historical_data/german_credit_risk/wml/history_debias.json"
        }, 
        {
            "execution_count": 83, 
            "cell_type": "code", 
            "metadata": {}, 
            "outputs": [
                {
                    "output_type": "stream", 
                    "name": "stdout", 
                    "text": "Loading day 1\nLoading day 2\nLoading day 3\nLoading day 4\nLoading day 5\nLoading day 6\nLoading day 7\nFinished\n"
                }
            ], 
            "source": "with open('history_debias.json', 'r') as history_file:\n    payloads = json.load(history_file)\n\nfor day in range(historyDays):\n    print('Loading day', day + 1)\n    debias_metrics = []\n    for hour in range(24):\n        score_time = (datetime.datetime.utcnow() + datetime.timedelta(hours=(-(24*day + hour + 1)))).strftime('%Y-%m-%dT%H:%M:%SZ')\n        index = (day * 24 + hour) % len(payloads) # wrap around and reuse values if needed\n\n        debiasMetric = {\n            'metric_type': 'debiased_fairness',\n            'binding_id': binding_uid,\n            'timestamp': score_time,\n            'subscription_id': model_uid,\n            'asset_revision': model_uid,\n            'deployment_id': deployment_uid,\n            'value': payloads[index]\n        }\n\n        debias_metrics.append(debiasMetric)\n    response = requests.post(performance_metrics_url, json=debias_metrics, headers=ai_client._get_headers())\nprint('Finished')"
        }, 
        {
            "source": "## Insert historical quality metrics", 
            "cell_type": "markdown", 
            "metadata": {}
        }, 
        {
            "execution_count": 84, 
            "cell_type": "code", 
            "metadata": {
                "scrolled": true
            }, 
            "outputs": [
                {
                    "output_type": "stream", 
                    "name": "stdout", 
                    "text": "Day 1\nDay 2\nDay 3\nDay 4\nDay 5\nDay 6\nDay 7\nFinished\n"
                }
            ], 
            "source": "measurements = [0.76, 0.78, 0.68, 0.72, 0.73, 0.77, 0.80]\nfor day in range(historyDays):\n    quality_metrics = []\n    print('Day', day + 1)\n    for hour in range(24):\n        score_time = (datetime.datetime.utcnow() + datetime.timedelta(hours=(-(24*day + hour + 1)))).strftime('%Y-%m-%dT%H:%M:%SZ')\n        qualityMetric = {\n            'metric_type': 'quality',\n            'binding_id': binding_uid,\n            'timestamp': score_time,\n            'subscription_id': model_uid,\n            'asset_revision': model_uid,\n            'deployment_id': deployment_uid,\n            'value': {\n                'quality': measurements[day],\n                'threshold': 0.7,\n                'metrics': [\n                    {\n                        'name': 'auroc',\n                        'value': measurements[day],\n                        'threshold': 0.7\n                    }\n                ]\n            }\n        }\n        \n        quality_metrics.append(qualityMetric)\n    \n    response = requests.post(performance_metrics_url, json=quality_metrics, headers=ai_client._get_headers())\n\nprint('Finished')"
        }, 
        {
            "source": "## Insert historical confusion matrixes", 
            "cell_type": "markdown", 
            "metadata": {}
        }, 
        {
            "execution_count": 85, 
            "cell_type": "code", 
            "metadata": {}, 
            "outputs": [
                {
                    "output_type": "stream", 
                    "name": "stdout", 
                    "text": "rm: cannot remove 'history_quality_metrics.json': No such file or directory\n--2019-06-05 09:54:15--  https://raw.githubusercontent.com/pmservice/ai-openscale-tutorials/master/assets/historical_data/german_credit_risk/wml/history_quality_metrics.json\nResolving raw.githubusercontent.com (raw.githubusercontent.com)... 199.232.8.133\nConnecting to raw.githubusercontent.com (raw.githubusercontent.com)|199.232.8.133|:443... connected.\nHTTP request sent, awaiting response... 200 OK\nLength: 80244 (78K) [text/plain]\nSaving to: 'history_quality_metrics.json'\n\nhistory_quality_met 100%[===================>]  78.36K  --.-KB/s    in 0.005s  \n\n2019-06-05 09:54:16 (15.5 MB/s) - 'history_quality_metrics.json' saved [80244/80244]\n\n"
                }
            ], 
            "source": "!rm history_quality_metrics.json\n!wget https://raw.githubusercontent.com/pmservice/ai-openscale-tutorials/master/assets/historical_data/german_credit_risk/wml/history_quality_metrics.json"
        }, 
        {
            "execution_count": 86, 
            "cell_type": "code", 
            "metadata": {}, 
            "outputs": [
                {
                    "output_type": "stream", 
                    "name": "stdout", 
                    "text": "https://api.aiopenscale.cloud.ibm.com/v1/data_marts/cacaf1bc-1285-46da-ba9a-49464bc683a3/measurements\n"
                }
            ], 
            "source": "measurements_url = WOS_CREDENTIALS['url'] + subscription.get_details()['metadata']['url'].split('/service_bindings')[0] + '/measurements'\nprint(measurements_url)"
        }, 
        {
            "execution_count": 87, 
            "cell_type": "code", 
            "metadata": {}, 
            "outputs": [
                {
                    "output_type": "stream", 
                    "name": "stdout", 
                    "text": "Day 1\nDay 2\nDay 3\nDay 4\nDay 5\nDay 6\nDay 7\nFinished\n"
                }
            ], 
            "source": "with open('history_quality_metrics.json') as json_file:\n    records = json.load(json_file)\n    \nfor day in range(historyDays):\n    index = 0\n    measurments = []\n    print('Day', day + 1)\n    \n    for hour in range(24):\n        score_time = (datetime.datetime.utcnow() + datetime.timedelta(hours=(-(24*day + hour + 1)))).strftime('%Y-%m-%dT%H:%M:%SZ')\n\n        measurement = {\n            \"monitor_definition_id\": 'quality',\n            \"binding_id\": subscription.binding_uid,\n            \"subscription_id\": subscription.uid,\n            \"asset_id\": subscription.source_uid,\n            'metrics': [records[index]['metrics']],\n            'sources': [records[index]['sources']],\n            'timestamp': score_time\n        }\n\n        measurments.append(measurement)\n        index+=1\n\n    response = requests.post(measurements_url, json=measurments, headers=ai_client._get_headers())\n\nprint('Finished')"
        }, 
        {
            "source": "## Insert historical performance metrics", 
            "cell_type": "markdown", 
            "metadata": {}
        }, 
        {
            "execution_count": 88, 
            "cell_type": "code", 
            "metadata": {}, 
            "outputs": [
                {
                    "output_type": "stream", 
                    "name": "stdout", 
                    "text": "Day 1\nDay 2\nDay 3\nDay 4\nDay 5\nDay 6\nDay 7\nFinished\n"
                }
            ], 
            "source": "for day in range(historyDays):\n    performance_metrics = []\n    print('Day', day + 1)\n    for hour in range(24):\n        score_time = (datetime.datetime.utcnow() + datetime.timedelta(hours=(-(24*day + hour + 1)))).strftime('%Y-%m-%dT%H:%M:%SZ')\n        score_count = random.randint(60, 600)\n        score_resp = random.uniform(60, 300)\n\n        performanceMetric = {\n            'metric_type': 'performance',\n            'binding_id': binding_uid,\n            'timestamp': score_time,\n            'subscription_id': model_uid,\n            'asset_revision': model_uid,\n            'deployment_id': deployment_uid,\n            'value': {\n                'response_time': score_resp,\n                'records': score_count\n            }\n        }\n        performance_metrics.append(performanceMetric)\n\n    response = requests.post(performance_metrics_url, json=performance_metrics, headers=ai_client._get_headers())\n\nprint('Finished')"
        }, 
        {
            "source": "## Insert historical manual labeling", 
            "cell_type": "markdown", 
            "metadata": {}
        }, 
        {
            "execution_count": 89, 
            "cell_type": "code", 
            "metadata": {}, 
            "outputs": [
                {
                    "output_type": "stream", 
                    "name": "stdout", 
                    "text": "https://api.aiopenscale.cloud.ibm.com/v1/data_marts/cacaf1bc-1285-46da-ba9a-49464bc683a3/manual_labelings\n"
                }
            ], 
            "source": "manual_labeling_url = WOS_CREDENTIALS['url'] + subscription.get_details()['metadata']['url'].split('/service_bindings')[0] + '/manual_labelings'\nprint(manual_labeling_url)"
        }, 
        {
            "execution_count": 90, 
            "cell_type": "code", 
            "metadata": {}, 
            "outputs": [
                {
                    "output_type": "stream", 
                    "name": "stdout", 
                    "text": "rm: cannot remove 'history_manual_labeling.json': No such file or directory\n--2019-06-05 09:54:18--  https://raw.githubusercontent.com/pmservice/ai-openscale-tutorials/master/assets/historical_data/german_credit_risk/wml/history_manual_labeling.json\nResolving raw.githubusercontent.com (raw.githubusercontent.com)... 199.232.8.133\nConnecting to raw.githubusercontent.com (raw.githubusercontent.com)|199.232.8.133|:443... connected.\nHTTP request sent, awaiting response... 200 OK\nLength: 947956 (926K) [text/plain]\nSaving to: 'history_manual_labeling.json'\n\nhistory_manual_labe 100%[===================>] 925.74K  --.-KB/s    in 0.04s   \n\n2019-06-05 09:54:18 (24.4 MB/s) - 'history_manual_labeling.json' saved [947956/947956]\n\n"
                }
            ], 
            "source": "!rm history_manual_labeling.json\n!wget https://raw.githubusercontent.com/pmservice/ai-openscale-tutorials/master/assets/historical_data/german_credit_risk/wml/history_manual_labeling.json"
        }, 
        {
            "execution_count": 91, 
            "cell_type": "code", 
            "metadata": {}, 
            "outputs": [
                {
                    "output_type": "stream", 
                    "name": "stdout", 
                    "text": "Loading day 1\nLoading day 2\nLoading day 3\nLoading day 4\nLoading day 5\nLoading day 6\nLoading day 7\nFinished\n"
                }
            ], 
            "source": "with open('history_manual_labeling.json', 'r') as history_file:\n    records = json.load(history_file)\n\nfor day in range(historyDays):\n    print('Loading day', day + 1)\n    record_json = []\n    for hour in range(24):\n        for record in records:\n            if record['fastpath_history_day'] == day and record['fastpath_history_hour'] == hour:\n                record['binding_id'] = binding_uid\n                record['subscription_id'] = model_uid\n                record['asset_revision'] = model_uid\n                record['deployment_id'] = deployment_uid\n                record['scoring_timestamp'] = (datetime.datetime.utcnow() + datetime.timedelta(hours=(-(24*day + hour + 1)))).strftime('%Y-%m-%dT%H:%M:%SZ')\n                record_json.append(record)\n    response = requests.post(manual_labeling_url, json=record_json, headers=ai_client._get_headers())\n\nprint('Finished')"
        }, 
        {
            "source": "## Additional data to help debugging", 
            "cell_type": "markdown", 
            "metadata": {}
        }, 
        {
            "execution_count": 92, 
            "cell_type": "code", 
            "metadata": {
                "scrolled": true
            }, 
            "outputs": [
                {
                    "output_type": "stream", 
                    "name": "stdout", 
                    "text": "Datamart: cacaf1bc-1285-46da-ba9a-49464bc683a3\nModel: 1516b304-44cb-4950-bc67-827ad7f219f3\nDeployment: 280ac486-14a8-4d4a-95ca-0950498b0523\nBinding: a73bf76d-a663-448a-b771-4f651f73d54e\nScoring URL: https://us-south.ml.cloud.ibm.com/v3/wml_instances/a73bf76d-a663-448a-b771-4f651f73d54e/deployments/280ac486-14a8-4d4a-95ca-0950498b0523/online\n"
                }
            ], 
            "source": "print('Datamart:', data_mart_id)\nprint('Model:', model_uid)\nprint('Deployment:', deployment_uid)\nprint('Binding:', binding_uid)\nprint('Scoring URL:', credit_risk_scoring_endpoint)"
        }, 
        {
            "source": "## Identify transactions for Explainability", 
            "cell_type": "markdown", 
            "metadata": {}
        }, 
        {
            "source": "Transaction IDs identified by the cells below can be copied and pasted into the Explainability tab of the OpenScale dashboard.", 
            "cell_type": "markdown", 
            "metadata": {}
        }, 
        {
            "execution_count": 93, 
            "cell_type": "code", 
            "metadata": {}, 
            "outputs": [
                {
                    "execution_count": 93, 
                    "metadata": {}, 
                    "data": {
                        "text/html": "<div>\n<style scoped>\n    .dataframe tbody tr th:only-of-type {\n        vertical-align: middle;\n    }\n\n    .dataframe tbody tr th {\n        vertical-align: top;\n    }\n\n    .dataframe thead th {\n        text-align: right;\n    }\n</style>\n<table border=\"1\" class=\"dataframe\">\n  <thead>\n    <tr style=\"text-align: right;\">\n      <th></th>\n      <th>scoring_id</th>\n      <th>predictedLabel</th>\n      <th>probability</th>\n    </tr>\n  </thead>\n  <tbody>\n    <tr>\n      <th>0</th>\n      <td>4fb651304c127cd0a8075037c41519ab-150</td>\n      <td>No Risk</td>\n      <td>[0.6806805993857474, 0.3193194006142525]</td>\n    </tr>\n    <tr>\n      <th>1</th>\n      <td>4fb651304c127cd0a8075037c41519ab-143</td>\n      <td>No Risk</td>\n      <td>[0.8458456307519402, 0.15415436924805986]</td>\n    </tr>\n    <tr>\n      <th>2</th>\n      <td>4fb651304c127cd0a8075037c41519ab-15</td>\n      <td>Risk</td>\n      <td>[0.43822167065479595, 0.5617783293452041]</td>\n    </tr>\n    <tr>\n      <th>3</th>\n      <td>4fb651304c127cd0a8075037c41519ab-118</td>\n      <td>No Risk</td>\n      <td>[0.600914711336521, 0.3990852886634791]</td>\n    </tr>\n    <tr>\n      <th>4</th>\n      <td>4fb651304c127cd0a8075037c41519ab-132</td>\n      <td>No Risk</td>\n      <td>[0.8619275956502822, 0.13807240434971774]</td>\n    </tr>\n    <tr>\n      <th>5</th>\n      <td>4fb651304c127cd0a8075037c41519ab-142</td>\n      <td>No Risk</td>\n      <td>[0.9309663448209984, 0.06903365517900159]</td>\n    </tr>\n    <tr>\n      <th>6</th>\n      <td>4fb651304c127cd0a8075037c41519ab-148</td>\n      <td>No Risk</td>\n      <td>[0.8478288864035715, 0.1521711135964286]</td>\n    </tr>\n    <tr>\n      <th>7</th>\n      <td>4fb651304c127cd0a8075037c41519ab-149</td>\n      <td>No Risk</td>\n      <td>[0.8404390594997795, 0.1595609405002205]</td>\n    </tr>\n    <tr>\n      <th>8</th>\n      <td>4fb651304c127cd0a8075037c41519ab-110</td>\n      <td>Risk</td>\n      <td>[0.48550738214490624, 0.5144926178550937]</td>\n    </tr>\n    <tr>\n      <th>9</th>\n      <td>4fb651304c127cd0a8075037c41519ab-117</td>\n      <td>Risk</td>\n      <td>[0.05754235960075609, 0.942457640399244]</td>\n    </tr>\n    <tr>\n      <th>10</th>\n      <td>4fb651304c127cd0a8075037c41519ab-125</td>\n      <td>No Risk</td>\n      <td>[0.9105701883683487, 0.08942981163165138]</td>\n    </tr>\n    <tr>\n      <th>11</th>\n      <td>4fb651304c127cd0a8075037c41519ab-131</td>\n      <td>Risk</td>\n      <td>[0.40470402866581956, 0.5952959713341803]</td>\n    </tr>\n    <tr>\n      <th>12</th>\n      <td>4fb651304c127cd0a8075037c41519ab-139</td>\n      <td>Risk</td>\n      <td>[0.11036947161461982, 0.8896305283853803]</td>\n    </tr>\n    <tr>\n      <th>13</th>\n      <td>4fb651304c127cd0a8075037c41519ab-141</td>\n      <td>Risk</td>\n      <td>[0.3341307745449786, 0.6658692254550214]</td>\n    </tr>\n    <tr>\n      <th>14</th>\n      <td>4fb651304c127cd0a8075037c41519ab-144</td>\n      <td>Risk</td>\n      <td>[0.20911456182404864, 0.7908854381759514]</td>\n    </tr>\n    <tr>\n      <th>15</th>\n      <td>4fb651304c127cd0a8075037c41519ab-147</td>\n      <td>No Risk</td>\n      <td>[0.9661159811600278, 0.03388401883997224]</td>\n    </tr>\n    <tr>\n      <th>16</th>\n      <td>4fb651304c127cd0a8075037c41519ab-103</td>\n      <td>No Risk</td>\n      <td>[0.7278429886638642, 0.27215701133613573]</td>\n    </tr>\n    <tr>\n      <th>17</th>\n      <td>4fb651304c127cd0a8075037c41519ab-102</td>\n      <td>Risk</td>\n      <td>[0.37066132449025674, 0.6293386755097432]</td>\n    </tr>\n    <tr>\n      <th>18</th>\n      <td>4fb651304c127cd0a8075037c41519ab-107</td>\n      <td>Risk</td>\n      <td>[0.4707715524634636, 0.5292284475365364]</td>\n    </tr>\n    <tr>\n      <th>19</th>\n      <td>4fb651304c127cd0a8075037c41519ab-11</td>\n      <td>Risk</td>\n      <td>[0.22730798039598848, 0.7726920196040115]</td>\n    </tr>\n    <tr>\n      <th>20</th>\n      <td>4fb651304c127cd0a8075037c41519ab-113</td>\n      <td>No Risk</td>\n      <td>[0.9232529665207336, 0.07674703347926635]</td>\n    </tr>\n    <tr>\n      <th>21</th>\n      <td>4fb651304c127cd0a8075037c41519ab-116</td>\n      <td>No Risk</td>\n      <td>[0.8752570953956319, 0.12474290460436814]</td>\n    </tr>\n    <tr>\n      <th>22</th>\n      <td>4fb651304c127cd0a8075037c41519ab-121</td>\n      <td>No Risk</td>\n      <td>[0.7839147113979286, 0.21608528860207135]</td>\n    </tr>\n    <tr>\n      <th>23</th>\n      <td>4fb651304c127cd0a8075037c41519ab-124</td>\n      <td>No Risk</td>\n      <td>[0.8942380126938847, 0.10576198730611523]</td>\n    </tr>\n    <tr>\n      <th>24</th>\n      <td>4fb651304c127cd0a8075037c41519ab-128</td>\n      <td>No Risk</td>\n      <td>[0.606711198491551, 0.3932888015084489]</td>\n    </tr>\n    <tr>\n      <th>25</th>\n      <td>4fb651304c127cd0a8075037c41519ab-130</td>\n      <td>Risk</td>\n      <td>[0.44506134537843545, 0.5549386546215647]</td>\n    </tr>\n    <tr>\n      <th>26</th>\n      <td>4fb651304c127cd0a8075037c41519ab-135</td>\n      <td>No Risk</td>\n      <td>[0.8531396882654242, 0.14686031173457573]</td>\n    </tr>\n    <tr>\n      <th>27</th>\n      <td>4fb651304c127cd0a8075037c41519ab-138</td>\n      <td>No Risk</td>\n      <td>[0.7922416341143915, 0.20775836588560842]</td>\n    </tr>\n    <tr>\n      <th>28</th>\n      <td>4fb651304c127cd0a8075037c41519ab-14</td>\n      <td>No Risk</td>\n      <td>[0.6278626082487684, 0.37213739175123167]</td>\n    </tr>\n    <tr>\n      <th>29</th>\n      <td>4fb651304c127cd0a8075037c41519ab-140</td>\n      <td>Risk</td>\n      <td>[0.4575620159563341, 0.5424379840436659]</td>\n    </tr>\n    <tr>\n      <th>30</th>\n      <td>4fb651304c127cd0a8075037c41519ab-104</td>\n      <td>No Risk</td>\n      <td>[0.7917477892942097, 0.20825221070579025]</td>\n    </tr>\n    <tr>\n      <th>31</th>\n      <td>4fb651304c127cd0a8075037c41519ab-119</td>\n      <td>No Risk</td>\n      <td>[0.9547785357322219, 0.04522146426777808]</td>\n    </tr>\n    <tr>\n      <th>32</th>\n      <td>4fb651304c127cd0a8075037c41519ab-145</td>\n      <td>No Risk</td>\n      <td>[0.7924332068669586, 0.2075667931330413]</td>\n    </tr>\n    <tr>\n      <th>33</th>\n      <td>4fb651304c127cd0a8075037c41519ab-146</td>\n      <td>No Risk</td>\n      <td>[0.9436890697274232, 0.05631093027257685]</td>\n    </tr>\n    <tr>\n      <th>34</th>\n      <td>4fb651304c127cd0a8075037c41519ab-10</td>\n      <td>No Risk</td>\n      <td>[0.900843298431502, 0.09915670156849804]</td>\n    </tr>\n    <tr>\n      <th>35</th>\n      <td>4fb651304c127cd0a8075037c41519ab-1</td>\n      <td>No Risk</td>\n      <td>[0.8009587943578731, 0.19904120564212685]</td>\n    </tr>\n    <tr>\n      <th>36</th>\n      <td>4fb651304c127cd0a8075037c41519ab-100</td>\n      <td>No Risk</td>\n      <td>[0.9789064426780236, 0.021093557321976337]</td>\n    </tr>\n    <tr>\n      <th>37</th>\n      <td>4fb651304c127cd0a8075037c41519ab-101</td>\n      <td>No Risk</td>\n      <td>[0.7503886382389775, 0.24961136176102244]</td>\n    </tr>\n    <tr>\n      <th>38</th>\n      <td>4fb651304c127cd0a8075037c41519ab-105</td>\n      <td>Risk</td>\n      <td>[0.4617544195554567, 0.5382455804445434]</td>\n    </tr>\n    <tr>\n      <th>39</th>\n      <td>4fb651304c127cd0a8075037c41519ab-106</td>\n      <td>No Risk</td>\n      <td>[0.7751904296376566, 0.22480957036234334]</td>\n    </tr>\n    <tr>\n      <th>40</th>\n      <td>4fb651304c127cd0a8075037c41519ab-108</td>\n      <td>No Risk</td>\n      <td>[0.8861146838992966, 0.11388531610070349]</td>\n    </tr>\n    <tr>\n      <th>41</th>\n      <td>4fb651304c127cd0a8075037c41519ab-109</td>\n      <td>No Risk</td>\n      <td>[0.9623298814119181, 0.0376701185880818]</td>\n    </tr>\n    <tr>\n      <th>42</th>\n      <td>4fb651304c127cd0a8075037c41519ab-111</td>\n      <td>No Risk</td>\n      <td>[0.6238808679510786, 0.3761191320489215]</td>\n    </tr>\n    <tr>\n      <th>43</th>\n      <td>4fb651304c127cd0a8075037c41519ab-112</td>\n      <td>No Risk</td>\n      <td>[0.7789389655569601, 0.22106103444303987]</td>\n    </tr>\n    <tr>\n      <th>44</th>\n      <td>4fb651304c127cd0a8075037c41519ab-114</td>\n      <td>No Risk</td>\n      <td>[0.5024078835064347, 0.49759211649356533]</td>\n    </tr>\n    <tr>\n      <th>45</th>\n      <td>4fb651304c127cd0a8075037c41519ab-115</td>\n      <td>Risk</td>\n      <td>[0.42468650702081634, 0.5753134929791837]</td>\n    </tr>\n    <tr>\n      <th>46</th>\n      <td>4fb651304c127cd0a8075037c41519ab-12</td>\n      <td>No Risk</td>\n      <td>[0.8423525232683227, 0.15764747673167737]</td>\n    </tr>\n    <tr>\n      <th>47</th>\n      <td>4fb651304c127cd0a8075037c41519ab-120</td>\n      <td>Risk</td>\n      <td>[0.3477131656529872, 0.6522868343470128]</td>\n    </tr>\n    <tr>\n      <th>48</th>\n      <td>4fb651304c127cd0a8075037c41519ab-122</td>\n      <td>Risk</td>\n      <td>[0.2642549362718275, 0.7357450637281725]</td>\n    </tr>\n    <tr>\n      <th>49</th>\n      <td>4fb651304c127cd0a8075037c41519ab-123</td>\n      <td>Risk</td>\n      <td>[0.0975733128678331, 0.902426687132167]</td>\n    </tr>\n    <tr>\n      <th>50</th>\n      <td>4fb651304c127cd0a8075037c41519ab-126</td>\n      <td>Risk</td>\n      <td>[0.41605771371276834, 0.5839422862872315]</td>\n    </tr>\n    <tr>\n      <th>51</th>\n      <td>4fb651304c127cd0a8075037c41519ab-127</td>\n      <td>No Risk</td>\n      <td>[0.7468312620165081, 0.2531687379834918]</td>\n    </tr>\n    <tr>\n      <th>52</th>\n      <td>4fb651304c127cd0a8075037c41519ab-129</td>\n      <td>No Risk</td>\n      <td>[0.7445283130849963, 0.25547168691500366]</td>\n    </tr>\n    <tr>\n      <th>53</th>\n      <td>4fb651304c127cd0a8075037c41519ab-13</td>\n      <td>No Risk</td>\n      <td>[0.7989712881670238, 0.2010287118329762]</td>\n    </tr>\n    <tr>\n      <th>54</th>\n      <td>4fb651304c127cd0a8075037c41519ab-133</td>\n      <td>No Risk</td>\n      <td>[0.9360774478068719, 0.06392255219312815]</td>\n    </tr>\n    <tr>\n      <th>55</th>\n      <td>4fb651304c127cd0a8075037c41519ab-134</td>\n      <td>No Risk</td>\n      <td>[0.7980876246183979, 0.20191237538160212]</td>\n    </tr>\n    <tr>\n      <th>56</th>\n      <td>4fb651304c127cd0a8075037c41519ab-136</td>\n      <td>Risk</td>\n      <td>[0.12372385536444949, 0.8762761446355505]</td>\n    </tr>\n    <tr>\n      <th>57</th>\n      <td>4fb651304c127cd0a8075037c41519ab-137</td>\n      <td>No Risk</td>\n      <td>[0.9768604915087256, 0.023139508491274524]</td>\n    </tr>\n    <tr>\n      <th>58</th>\n      <td>4fb651304c127cd0a8075037c41519ab-152</td>\n      <td>Risk</td>\n      <td>[0.28095936877184685, 0.7190406312281532]</td>\n    </tr>\n    <tr>\n      <th>59</th>\n      <td>4fb651304c127cd0a8075037c41519ab-151</td>\n      <td>No Risk</td>\n      <td>[0.6161043558981251, 0.38389564410187493]</td>\n    </tr>\n  </tbody>\n</table>\n</div>", 
                        "text/plain": "                              scoring_id predictedLabel  \\\n0   4fb651304c127cd0a8075037c41519ab-150        No Risk   \n1   4fb651304c127cd0a8075037c41519ab-143        No Risk   \n2    4fb651304c127cd0a8075037c41519ab-15           Risk   \n3   4fb651304c127cd0a8075037c41519ab-118        No Risk   \n4   4fb651304c127cd0a8075037c41519ab-132        No Risk   \n5   4fb651304c127cd0a8075037c41519ab-142        No Risk   \n6   4fb651304c127cd0a8075037c41519ab-148        No Risk   \n7   4fb651304c127cd0a8075037c41519ab-149        No Risk   \n8   4fb651304c127cd0a8075037c41519ab-110           Risk   \n9   4fb651304c127cd0a8075037c41519ab-117           Risk   \n10  4fb651304c127cd0a8075037c41519ab-125        No Risk   \n11  4fb651304c127cd0a8075037c41519ab-131           Risk   \n12  4fb651304c127cd0a8075037c41519ab-139           Risk   \n13  4fb651304c127cd0a8075037c41519ab-141           Risk   \n14  4fb651304c127cd0a8075037c41519ab-144           Risk   \n15  4fb651304c127cd0a8075037c41519ab-147        No Risk   \n16  4fb651304c127cd0a8075037c41519ab-103        No Risk   \n17  4fb651304c127cd0a8075037c41519ab-102           Risk   \n18  4fb651304c127cd0a8075037c41519ab-107           Risk   \n19   4fb651304c127cd0a8075037c41519ab-11           Risk   \n20  4fb651304c127cd0a8075037c41519ab-113        No Risk   \n21  4fb651304c127cd0a8075037c41519ab-116        No Risk   \n22  4fb651304c127cd0a8075037c41519ab-121        No Risk   \n23  4fb651304c127cd0a8075037c41519ab-124        No Risk   \n24  4fb651304c127cd0a8075037c41519ab-128        No Risk   \n25  4fb651304c127cd0a8075037c41519ab-130           Risk   \n26  4fb651304c127cd0a8075037c41519ab-135        No Risk   \n27  4fb651304c127cd0a8075037c41519ab-138        No Risk   \n28   4fb651304c127cd0a8075037c41519ab-14        No Risk   \n29  4fb651304c127cd0a8075037c41519ab-140           Risk   \n30  4fb651304c127cd0a8075037c41519ab-104        No Risk   \n31  4fb651304c127cd0a8075037c41519ab-119        No Risk   \n32  4fb651304c127cd0a8075037c41519ab-145        No Risk   \n33  4fb651304c127cd0a8075037c41519ab-146        No Risk   \n34   4fb651304c127cd0a8075037c41519ab-10        No Risk   \n35    4fb651304c127cd0a8075037c41519ab-1        No Risk   \n36  4fb651304c127cd0a8075037c41519ab-100        No Risk   \n37  4fb651304c127cd0a8075037c41519ab-101        No Risk   \n38  4fb651304c127cd0a8075037c41519ab-105           Risk   \n39  4fb651304c127cd0a8075037c41519ab-106        No Risk   \n40  4fb651304c127cd0a8075037c41519ab-108        No Risk   \n41  4fb651304c127cd0a8075037c41519ab-109        No Risk   \n42  4fb651304c127cd0a8075037c41519ab-111        No Risk   \n43  4fb651304c127cd0a8075037c41519ab-112        No Risk   \n44  4fb651304c127cd0a8075037c41519ab-114        No Risk   \n45  4fb651304c127cd0a8075037c41519ab-115           Risk   \n46   4fb651304c127cd0a8075037c41519ab-12        No Risk   \n47  4fb651304c127cd0a8075037c41519ab-120           Risk   \n48  4fb651304c127cd0a8075037c41519ab-122           Risk   \n49  4fb651304c127cd0a8075037c41519ab-123           Risk   \n50  4fb651304c127cd0a8075037c41519ab-126           Risk   \n51  4fb651304c127cd0a8075037c41519ab-127        No Risk   \n52  4fb651304c127cd0a8075037c41519ab-129        No Risk   \n53   4fb651304c127cd0a8075037c41519ab-13        No Risk   \n54  4fb651304c127cd0a8075037c41519ab-133        No Risk   \n55  4fb651304c127cd0a8075037c41519ab-134        No Risk   \n56  4fb651304c127cd0a8075037c41519ab-136           Risk   \n57  4fb651304c127cd0a8075037c41519ab-137        No Risk   \n58  4fb651304c127cd0a8075037c41519ab-152           Risk   \n59  4fb651304c127cd0a8075037c41519ab-151        No Risk   \n\n                                   probability  \n0     [0.6806805993857474, 0.3193194006142525]  \n1    [0.8458456307519402, 0.15415436924805986]  \n2    [0.43822167065479595, 0.5617783293452041]  \n3      [0.600914711336521, 0.3990852886634791]  \n4    [0.8619275956502822, 0.13807240434971774]  \n5    [0.9309663448209984, 0.06903365517900159]  \n6     [0.8478288864035715, 0.1521711135964286]  \n7     [0.8404390594997795, 0.1595609405002205]  \n8    [0.48550738214490624, 0.5144926178550937]  \n9     [0.05754235960075609, 0.942457640399244]  \n10   [0.9105701883683487, 0.08942981163165138]  \n11   [0.40470402866581956, 0.5952959713341803]  \n12   [0.11036947161461982, 0.8896305283853803]  \n13    [0.3341307745449786, 0.6658692254550214]  \n14   [0.20911456182404864, 0.7908854381759514]  \n15   [0.9661159811600278, 0.03388401883997224]  \n16   [0.7278429886638642, 0.27215701133613573]  \n17   [0.37066132449025674, 0.6293386755097432]  \n18    [0.4707715524634636, 0.5292284475365364]  \n19   [0.22730798039598848, 0.7726920196040115]  \n20   [0.9232529665207336, 0.07674703347926635]  \n21   [0.8752570953956319, 0.12474290460436814]  \n22   [0.7839147113979286, 0.21608528860207135]  \n23   [0.8942380126938847, 0.10576198730611523]  \n24     [0.606711198491551, 0.3932888015084489]  \n25   [0.44506134537843545, 0.5549386546215647]  \n26   [0.8531396882654242, 0.14686031173457573]  \n27   [0.7922416341143915, 0.20775836588560842]  \n28   [0.6278626082487684, 0.37213739175123167]  \n29    [0.4575620159563341, 0.5424379840436659]  \n30   [0.7917477892942097, 0.20825221070579025]  \n31   [0.9547785357322219, 0.04522146426777808]  \n32    [0.7924332068669586, 0.2075667931330413]  \n33   [0.9436890697274232, 0.05631093027257685]  \n34    [0.900843298431502, 0.09915670156849804]  \n35   [0.8009587943578731, 0.19904120564212685]  \n36  [0.9789064426780236, 0.021093557321976337]  \n37   [0.7503886382389775, 0.24961136176102244]  \n38    [0.4617544195554567, 0.5382455804445434]  \n39   [0.7751904296376566, 0.22480957036234334]  \n40   [0.8861146838992966, 0.11388531610070349]  \n41    [0.9623298814119181, 0.0376701185880818]  \n42    [0.6238808679510786, 0.3761191320489215]  \n43   [0.7789389655569601, 0.22106103444303987]  \n44   [0.5024078835064347, 0.49759211649356533]  \n45   [0.42468650702081634, 0.5753134929791837]  \n46   [0.8423525232683227, 0.15764747673167737]  \n47    [0.3477131656529872, 0.6522868343470128]  \n48    [0.2642549362718275, 0.7357450637281725]  \n49     [0.0975733128678331, 0.902426687132167]  \n50   [0.41605771371276834, 0.5839422862872315]  \n51    [0.7468312620165081, 0.2531687379834918]  \n52   [0.7445283130849963, 0.25547168691500366]  \n53    [0.7989712881670238, 0.2010287118329762]  \n54   [0.9360774478068719, 0.06392255219312815]  \n55   [0.7980876246183979, 0.20191237538160212]  \n56   [0.12372385536444949, 0.8762761446355505]  \n57  [0.9768604915087256, 0.023139508491274524]  \n58   [0.28095936877184685, 0.7190406312281532]  \n59   [0.6161043558981251, 0.38389564410187493]  "
                    }, 
                    "output_type": "execute_result"
                }
            ], 
            "source": "payload_data = subscription.payload_logging.get_table_content(limit=60)\npayload_data.filter(items=['scoring_id', 'predictedLabel', 'probability'])"
        }, 
        {
            "source": "## Congratulations!\n\nYou have finished the hands-on lab for IBM Watson OpenScale. You can now view the [OpenScale Dashboard](https://aiopenscale.cloud.ibm.com/). Click on the tile for the German Credit model to see fairness, accuracy, and performance monitors. Click on the timeseries graph to get detailed information on transactions during a specific time window.\n\n## Next steps\n\nOpenScale shows model performance over time. You have two options to keep data flowing to your OpenScale graphs:\n  * Download, configure and schedule the [model feed notebook](https://raw.githubusercontent.com/emartensibm/german-credit/master/german_credit_scoring_feed.ipynb). This notebook can be set up with your WML credentials, and scheduled to provide a consistent flow of scoring requests to your model, which will appear in your OpenScale monitors.\n  * Re-run this notebook. Running this notebook from the beginning will delete and re-create the model and deployment, and re-create the historical data. Please note that the payload and measurement logs for the previous deployment will continue to be stored in your datamart, and can be deleted if necessary.", 
            "cell_type": "markdown", 
            "metadata": {}
        }, 
        {
            "source": "## Authors\n\nEric Martens, is a technical specialist having expertise in analysis and description of business processes, and their translation into functional and non-functional IT requirements. He acts as the interpreter between the worlds of IT and business.\n\nLukasz Cmielowski, PhD, is an Automation Architect and Data Scientist at IBM with a track record of developing enterprise-level applications that substantially increases clients' ability to turn data into actionable knowledge.", 
            "cell_type": "markdown", 
            "metadata": {}
        }
    ], 
    "metadata": {
        "kernelspec": {
            "display_name": "Python 3.6 with Spark", 
            "name": "python36", 
            "language": "python3"
        }, 
        "language_info": {
            "mimetype": "text/x-python", 
            "nbconvert_exporter": "python", 
            "version": "3.6.8", 
            "name": "python", 
            "file_extension": ".py", 
            "pygments_lexer": "ipython3", 
            "codemirror_mode": {
                "version": 3, 
                "name": "ipython"
            }
        }
    }, 
    "nbformat": 4
}