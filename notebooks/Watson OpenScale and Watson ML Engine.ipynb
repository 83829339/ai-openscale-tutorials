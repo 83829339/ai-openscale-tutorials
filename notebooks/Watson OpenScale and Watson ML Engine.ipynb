{
    "cells": [
        {
            "cell_type": "markdown",
            "metadata": {},
            "source": "<img src=\"https://github.com/pmservice/ai-openscale-tutorials/raw/master/notebooks/images/banner.png\" align=\"left\" alt=\"banner\">"
        },
        {
            "cell_type": "markdown",
            "metadata": {},
            "source": "# Working with Watson Machine Learning"
        },
        {
            "cell_type": "markdown",
            "metadata": {},
            "source": "This notebook should be run in a Watson Studio project, using **Default Spark Python** runtime environment. **If you are viewing this in Watson Studio and do not see Python 3.6 with Spark in the upper right corner of your screen, please update the runtime now.** It requires service credentials for the following Cloud services:\n  * Watson OpenScale\n  * Watson Machine Learning\n  \nIf you have a paid Cloud account, you may also provision a **Databases for PostgreSQL** or **Db2 Warehouse** service to take full advantage of integration with Watson Studio and continuous learning services. If you choose not to provision this paid service, you can use the free internal PostgreSQL storage with OpenScale, but will not be able to configure continuous learning for your model.\n\nThe notebook will train, create and deploy a German Credit Risk model, configure OpenScale to monitor that deployment, and inject seven days' worth of historical records and measurements for viewing in the OpenScale Insights dashboard."
        },
        {
            "cell_type": "markdown",
            "metadata": {},
            "source": "### Contents\n\n- [Setup](#setup)\n- [Model building and deployment](#model)\n- [OpenScale configuration](#openscale)\n- [Quality monitor and feedback logging](#quality)\n- [Fairness, drift monitoring and explanations](#fairness)\n- [Custom monitors and metrics](#custom)\n- [Payload analytics](#analytics)\n- [Business application](#application)\n- [Historical data](#historical)\n- [Run Business Application and Correlation monitor](#correlation)"
        },
        {
            "cell_type": "markdown",
            "metadata": {},
            "source": "# Setup <a name=\"setup\"></a>"
        },
        {
            "cell_type": "markdown",
            "metadata": {},
            "source": "## Spark check"
        },
        {
            "cell_type": "code",
            "execution_count": 1,
            "metadata": {},
            "outputs": [
                {
                    "name": "stdout",
                    "output_type": "stream",
                    "text": "Waiting for a Spark session to start...\nSpark Initialization Done! ApplicationId = app-20191202093915-0000\nKERNEL_ID = b0780292-7d39-4962-afe2-fda4cb6e3768\n"
                }
            ],
            "source": "try:\n    from pyspark.sql import SparkSession\nexcept:\n    print('Error: Spark runtime is missing. If you are using Watson Studio change the notebook runtime to Spark.')\n    raise "
        },
        {
            "cell_type": "markdown",
            "metadata": {
                "collapsed": true
            },
            "source": "## Package installation"
        },
        {
            "cell_type": "code",
            "execution_count": 2,
            "metadata": {},
            "outputs": [],
            "source": "import warnings\nwarnings.filterwarnings('ignore')"
        },
        {
            "cell_type": "code",
            "execution_count": null,
            "metadata": {
                "scrolled": false
            },
            "outputs": [],
            "source": "!rm -rf /home/spark/shared/user-libs/python3.6*\n\n!pip install --upgrade ibm-ai-openscale --no-cache | tail -n 1\n!pip install --upgrade watson-machine-learning-client | tail -n 1\n!pip install --upgrade numpy --no-cache | tail -n 1\n!pip install --upgrade SciPy --no-cache | tail -n 1\n!pip install lime --no-cache | tail -n 1\n!pip install pixiedust | tail -n 1"
        },
        {
            "cell_type": "code",
            "execution_count": 4,
            "metadata": {},
            "outputs": [
                {
                    "name": "stdout",
                    "output_type": "stream",
                    "text": "Name: ibm-ai-openscale\r\nVersion: 2.1.19\r\nSummary: Python SDK for IBM Watson OpenScale\r\nHome-page: http://ai-openscale-python-client.mybluemix.net\r\nAuthor: IBM\r\nAuthor-email: lukasz.cmielowski@pl.ibm.com, maria.oleszkiewicz@pl.ibm.com, wojciech.sobala@pl.ibm.com\r\nLicense: BSD\r\nLocation: /home/spark/shared/user-libs/python3.6\r\nRequires: requests, h5py, pandas, tabulate\r\nRequired-by: \r\n"
                }
            ],
            "source": "! pip show ibm-ai-openscale"
        },
        {
            "cell_type": "markdown",
            "metadata": {},
            "source": "## Provision services and configure credentials"
        },
        {
            "cell_type": "markdown",
            "metadata": {},
            "source": "If you have not already, provision an instance of IBM Watson OpenScale using the [OpenScale link in the Cloud catalog](https://cloud.ibm.com/catalog/services/watson-openscale)."
        },
        {
            "cell_type": "markdown",
            "metadata": {},
            "source": "Your Cloud API key can be generated by going to the [**Users** section of the Cloud console](https://cloud.ibm.com/iam#/users). From that page, click your name, scroll down to the **API Keys** section, and click **Create an IBM Cloud API key**. Give your key a name and click **Create**, then copy the created key and paste it below."
        },
        {
            "cell_type": "markdown",
            "metadata": {},
            "source": "**NOTE:** You can also get OpenScale `API_KEY` using IBM CLOUD CLI.\n\nHow to install IBM Cloud (bluemix) console: [instruction](https://console.bluemix.net/docs/cli/reference/ibmcloud/download_cli.html#install_use)\n\nHow to get api key using console:\n```\nbx login --sso\nbx iam api-key-create 'my_key'\n```"
        },
        {
            "cell_type": "code",
            "execution_count": 5,
            "metadata": {
                "scrolled": true
            },
            "outputs": [],
            "source": "CLOUD_API_KEY = \"PASTE HERE\""
        },
        {
            "cell_type": "code",
            "execution_count": 6,
            "metadata": {},
            "outputs": [],
            "source": "# The code was removed by Watson Studio for sharing."
        },
        {
            "cell_type": "markdown",
            "metadata": {},
            "source": "Next you will need credentials for Watson Machine Learning. If you already have a WML instance, you may use credentials for it. To provision a new Lite instance of WML, use the [Cloud catalog](https://cloud.ibm.com/catalog/services/machine-learning), give your service a name, and click **Create**. Once your instance is created, click the **Service Credentials** link on the left side of the screen. Click the **New credential** button, give your credentials a name, and click **Add**. Your new credentials can be accessed by clicking the **View credentials** button. Copy and paste your WML credentials into the cell below."
        },
        {
            "cell_type": "code",
            "execution_count": 8,
            "metadata": {
                "scrolled": true
            },
            "outputs": [],
            "source": "WML_CREDENTIALS = {\n    \"apikey\": \"key\",\n    \"iam_apikey_description\": \"description\",\n    \"iam_apikey_name\": \"auto-generated-apikey\",\n    \"iam_role_crn\": \"crn:v1:bluemix:public:iam::::serviceRole:Writer\",\n    \"iam_serviceid_crn\": \"crn:v1:bluemix:public:iam-identity::\",\n    \"instance_id\": \"instance_id\",\n    \"url\": \"https://us-south.ml.cloud.ibm.com\",\n}"
        },
        {
            "cell_type": "code",
            "execution_count": 9,
            "metadata": {},
            "outputs": [],
            "source": "# The code was removed by Watson Studio for sharing."
        },
        {
            "cell_type": "markdown",
            "metadata": {},
            "source": "This tutorial can use Databases for PostgreSQL, Db2 Warehouse, or a free internal verison of PostgreSQL to create a datamart for OpenScale.\n\nIf you have previously configured OpenScale, it will use your existing datamart, and not interfere with any models you are currently monitoring. Do not update the cell below.\n\nIf you do not have a paid Cloud account or would prefer not to provision this paid service, you may use the free internal PostgreSQL service with OpenScale. Do not update the cell below.\n\nTo provision a new instance of Db2 Warehouse, locate [Db2 Warehouse in the Cloud catalog](https://cloud.ibm.com/catalog/services/db2-warehouse), give your service a name, and click **Create**. Once your instance is created, click the **Service Credentials** link on the left side of the screen. Click the **New credential** button, give your credentials a name, and click **Add**. Your new credentials can be accessed by clicking the **View credentials** button. Copy and paste your Db2 Warehouse credentials into the cell below.\n\nTo provision a new instance of Databases for PostgreSQL, locate [Databases for PostgreSQL in the Cloud catalog](https://cloud.ibm.com/catalog/services/databases-for-postgresql), give your service a name, and click **Create**. Once your instance is created, click the **Service Credentials** link on the left side of the screen. Click the **New credential** button, give your credentials a name, and click **Add**. Your new credentials can be accessed by clicking the **View credentials** button. Copy and paste your Databases for PostgreSQL credentials into the cell below."
        },
        {
            "cell_type": "code",
            "execution_count": 10,
            "metadata": {
                "scrolled": true
            },
            "outputs": [],
            "source": "DB_CREDENTIALS = None"
        },
        {
            "cell_type": "markdown",
            "metadata": {},
            "source": "__If you previously configured OpenScale to use the free internal version of PostgreSQL, you can switch to a new datamart using a paid database service.__ If you would like to delete the internal PostgreSQL configuration and create a new one using service credentials supplied in the cell above, set the __KEEP_MY_INTERNAL_POSTGRES__ variable below to __False__ below. In this case, the notebook will remove your existing internal PostgreSQL datamart and create a new one with the supplied credentials. __*NO DATA MIGRATION WILL OCCUR.*__"
        },
        {
            "cell_type": "code",
            "execution_count": 11,
            "metadata": {},
            "outputs": [],
            "source": "KEEP_MY_INTERNAL_POSTGRES = True"
        },
        {
            "cell_type": "markdown",
            "metadata": {},
            "source": "## Run the notebook\n\nAt this point, the notebook is ready to run. You can either run the cells one at a time, or click the **Kernel** option above and select **Restart and Run All** to run all the cells."
        },
        {
            "cell_type": "markdown",
            "metadata": {},
            "source": "# Model building and deployment <a name=\"model\"></a>"
        },
        {
            "cell_type": "markdown",
            "metadata": {},
            "source": "In this section you will learn how to train Spark MLLib model and next deploy it as web-service using Watson Machine Learning service."
        },
        {
            "cell_type": "markdown",
            "metadata": {},
            "source": "## Load the training data from github"
        },
        {
            "cell_type": "code",
            "execution_count": 12,
            "metadata": {
                "scrolled": true
            },
            "outputs": [
                {
                    "name": "stdout",
                    "output_type": "stream",
                    "text": "-rw-r--r-- 1 spark 4294967294 674K Dec  2 09:42 german_credit_data_biased_training.csv\r\n"
                }
            ],
            "source": "from IPython.utils import io\n\nwith io.capture_output() as captured:\n    !wget https://raw.githubusercontent.com/pmservice/ai-openscale-tutorials/master/assets/historical_data/german_credit_risk/wml/german_credit_data_biased_training.csv -O german_credit_data_biased_training.csv\n!ls -lh german_credit_data_biased_training.csv"
        },
        {
            "cell_type": "code",
            "execution_count": 13,
            "metadata": {
                "scrolled": true
            },
            "outputs": [
                {
                    "data": {
                        "text/plain": "Row(CheckingStatus='0_to_200', LoanDuration=31, CreditHistory='credits_paid_to_date', LoanPurpose='other', LoanAmount=1889, ExistingSavings='100_to_500', EmploymentDuration='less_1', InstallmentPercent=3, Sex='female', OthersOnLoan='none', CurrentResidenceDuration=3, OwnsProperty='savings_insurance', Age=32, InstallmentPlans='none', Housing='own', ExistingCreditsCount=1, Job='skilled', Dependents=1, Telephone='none', ForeignWorker='yes', Risk='No Risk')"
                    },
                    "execution_count": 13,
                    "metadata": {},
                    "output_type": "execute_result"
                }
            ],
            "source": "from pyspark.sql import SparkSession\nimport pandas as pd\nimport json\nimport datetime\n\nspark = SparkSession.builder.getOrCreate()\npd_data = pd.read_csv(\"german_credit_data_biased_training.csv\", sep=\",\", header=0)\ndf_data = spark.read.csv(path=\"german_credit_data_biased_training.csv\", sep=\",\", header=True, inferSchema=True)\ndf_data.head()"
        },
        {
            "cell_type": "markdown",
            "metadata": {},
            "source": "## Explore data"
        },
        {
            "cell_type": "code",
            "execution_count": 14,
            "metadata": {
                "scrolled": true
            },
            "outputs": [
                {
                    "name": "stdout",
                    "output_type": "stream",
                    "text": "root\n |-- CheckingStatus: string (nullable = true)\n |-- LoanDuration: integer (nullable = true)\n |-- CreditHistory: string (nullable = true)\n |-- LoanPurpose: string (nullable = true)\n |-- LoanAmount: integer (nullable = true)\n |-- ExistingSavings: string (nullable = true)\n |-- EmploymentDuration: string (nullable = true)\n |-- InstallmentPercent: integer (nullable = true)\n |-- Sex: string (nullable = true)\n |-- OthersOnLoan: string (nullable = true)\n |-- CurrentResidenceDuration: integer (nullable = true)\n |-- OwnsProperty: string (nullable = true)\n |-- Age: integer (nullable = true)\n |-- InstallmentPlans: string (nullable = true)\n |-- Housing: string (nullable = true)\n |-- ExistingCreditsCount: integer (nullable = true)\n |-- Job: string (nullable = true)\n |-- Dependents: integer (nullable = true)\n |-- Telephone: string (nullable = true)\n |-- ForeignWorker: string (nullable = true)\n |-- Risk: string (nullable = true)\n\n"
                }
            ],
            "source": "df_data.printSchema()"
        },
        {
            "cell_type": "code",
            "execution_count": 15,
            "metadata": {
                "scrolled": true
            },
            "outputs": [
                {
                    "name": "stdout",
                    "output_type": "stream",
                    "text": "Number of records: 5000\n"
                }
            ],
            "source": "print(\"Number of records: \" + str(df_data.count()))"
        },
        {
            "cell_type": "markdown",
            "metadata": {},
            "source": "## Visualize data with pixiedust"
        },
        {
            "cell_type": "code",
            "execution_count": 16,
            "metadata": {},
            "outputs": [
                {
                    "name": "stdout",
                    "output_type": "stream",
                    "text": "Pixiedust database opened successfully\nTable VERSION_TRACKER created successfully\nTable METRICS_TRACKER created successfully\n\nShare anonymous install statistics? (opt-out instructions)\n\nPixieDust will record metadata on its environment the next time the package is installed or updated. The data is anonymized and aggregated to help plan for future releases, and records only the following values:\n\n{\n   \"data_sent\": currentDate,\n   \"runtime\": \"python\",\n   \"application_version\": currentPixiedustVersion,\n   \"space_id\": nonIdentifyingUniqueId,\n   \"config\": {\n       \"repository_id\": \"https://github.com/ibm-watson-data-lab/pixiedust\",\n       \"target_runtimes\": [\"Data Science Experience\"],\n       \"event_id\": \"web\",\n       \"event_organizer\": \"dev-journeys\"\n   }\n}\nYou can opt out by calling pixiedust.optOut() in a new cell.\n"
                },
                {
                    "data": {
                        "text/html": "\n        <div style=\"margin:10px\">\n            <a href=\"https://github.com/ibm-watson-data-lab/pixiedust\" target=\"_new\">\n                <img src=\"https://github.com/ibm-watson-data-lab/pixiedust/raw/master/docs/_static/pd_icon32.png\" style=\"float:left;margin-right:10px\"/>\n            </a>\n            <span>Pixiedust version 1.1.17</span>\n        </div>\n        ",
                        "text/plain": "<IPython.core.display.HTML object>"
                    },
                    "metadata": {},
                    "output_type": "display_data"
                },
                {
                    "name": "stdout",
                    "output_type": "stream",
                    "text": "\u001b[31mPixiedust runtime updated. Please restart kernel\u001b[0m\nTable SPARK_PACKAGES created successfully\nTable USER_PREFERENCES created successfully\nTable service_connections created successfully\n"
                }
            ],
            "source": "import pixiedust"
        },
        {
            "cell_type": "code",
            "execution_count": null,
            "metadata": {
                "pixiedust": {
                    "displayParams": {
                        "aggregation": "COUNT",
                        "chartsize": "50",
                        "handlerId": "pieChart",
                        "keyFields": "Risk",
                        "mpld3": "false",
                        "rendererId": "bokeh"
                    }
                }
            },
            "outputs": [
                {
                    "data": {
                        "text/html": "<style type=\"text/css\">.pd_warning{display:none;}</style><div class=\"pd_warning\"><em>Hey, there's something awesome here! To see it, open this notebook outside GitHub, in a viewer like Jupyter</em></div>\n        <div class=\"pd_save is-viewer-good\" style=\"padding-right:10px;text-align: center;line-height:initial !important;font-size: xx-large;font-weight: 500;color: coral;\">\n            \n        </div>\n    <div id=\"chartFigure1a9c88b7\" class=\"pd_save is-viewer-good\" style=\"overflow-x:auto\">\n            \n                    \n                            <center><img style=\"max-width:initial !important\" src=\"data:image/png;base64,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\" class=\"pd_save\"></center>\n                        \n                    \n                \n        </div>",
                        "text/plain": "<IPython.core.display.HTML object>"
                    },
                    "metadata": {},
                    "output_type": "display_data"
                }
            ],
            "source": "display(df_data)"
        },
        {
            "cell_type": "markdown",
            "metadata": {},
            "source": "## Create a model"
        },
        {
            "cell_type": "code",
            "execution_count": 18,
            "metadata": {
                "scrolled": true
            },
            "outputs": [
                {
                    "name": "stdout",
                    "output_type": "stream",
                    "text": "Number of records for training: 4016\nNumber of records for evaluation: 984\nroot\n |-- CheckingStatus: string (nullable = true)\n |-- LoanDuration: integer (nullable = true)\n |-- CreditHistory: string (nullable = true)\n |-- LoanPurpose: string (nullable = true)\n |-- LoanAmount: integer (nullable = true)\n |-- ExistingSavings: string (nullable = true)\n |-- EmploymentDuration: string (nullable = true)\n |-- InstallmentPercent: integer (nullable = true)\n |-- Sex: string (nullable = true)\n |-- OthersOnLoan: string (nullable = true)\n |-- CurrentResidenceDuration: integer (nullable = true)\n |-- OwnsProperty: string (nullable = true)\n |-- Age: integer (nullable = true)\n |-- InstallmentPlans: string (nullable = true)\n |-- Housing: string (nullable = true)\n |-- ExistingCreditsCount: integer (nullable = true)\n |-- Job: string (nullable = true)\n |-- Dependents: integer (nullable = true)\n |-- Telephone: string (nullable = true)\n |-- ForeignWorker: string (nullable = true)\n |-- Risk: string (nullable = true)\n\n"
                }
            ],
            "source": "spark_df = df_data\n(train_data, test_data) = spark_df.randomSplit([0.8, 0.2], 24)\n\nMODEL_NAME = \"Spark German Risk Model - Final\"\nDEPLOYMENT_NAME = \"Spark German Risk Deployment - Final\"\n\nprint(\"Number of records for training: \" + str(train_data.count()))\nprint(\"Number of records for evaluation: \" + str(test_data.count()))\n\nspark_df.printSchema()"
        },
        {
            "cell_type": "markdown",
            "metadata": {},
            "source": "The code below creates a Random Forest Classifier with Spark, setting up string indexers for the categorical features and the label column. Finally, this notebook creates a pipeline including the indexers and the model, and does an initial Area Under ROC evaluation of the model."
        },
        {
            "cell_type": "code",
            "execution_count": 19,
            "metadata": {
                "scrolled": true
            },
            "outputs": [],
            "source": "from pyspark.ml.feature import OneHotEncoder, StringIndexer, IndexToString, VectorAssembler\nfrom pyspark.ml.evaluation import BinaryClassificationEvaluator\nfrom pyspark.ml import Pipeline, Model\n\nsi_CheckingStatus = StringIndexer(inputCol = 'CheckingStatus', outputCol = 'CheckingStatus_IX')\nsi_CreditHistory = StringIndexer(inputCol = 'CreditHistory', outputCol = 'CreditHistory_IX')\nsi_LoanPurpose = StringIndexer(inputCol = 'LoanPurpose', outputCol = 'LoanPurpose_IX')\nsi_ExistingSavings = StringIndexer(inputCol = 'ExistingSavings', outputCol = 'ExistingSavings_IX')\nsi_EmploymentDuration = StringIndexer(inputCol = 'EmploymentDuration', outputCol = 'EmploymentDuration_IX')\nsi_Sex = StringIndexer(inputCol = 'Sex', outputCol = 'Sex_IX')\nsi_OthersOnLoan = StringIndexer(inputCol = 'OthersOnLoan', outputCol = 'OthersOnLoan_IX')\nsi_OwnsProperty = StringIndexer(inputCol = 'OwnsProperty', outputCol = 'OwnsProperty_IX')\nsi_InstallmentPlans = StringIndexer(inputCol = 'InstallmentPlans', outputCol = 'InstallmentPlans_IX')\nsi_Housing = StringIndexer(inputCol = 'Housing', outputCol = 'Housing_IX')\nsi_Job = StringIndexer(inputCol = 'Job', outputCol = 'Job_IX')\nsi_Telephone = StringIndexer(inputCol = 'Telephone', outputCol = 'Telephone_IX')\nsi_ForeignWorker = StringIndexer(inputCol = 'ForeignWorker', outputCol = 'ForeignWorker_IX')"
        },
        {
            "cell_type": "code",
            "execution_count": 20,
            "metadata": {
                "scrolled": true
            },
            "outputs": [],
            "source": "si_Label = StringIndexer(inputCol=\"Risk\", outputCol=\"label\").fit(spark_df)\nlabel_converter = IndexToString(inputCol=\"prediction\", outputCol=\"predictedLabel\", labels=si_Label.labels)"
        },
        {
            "cell_type": "code",
            "execution_count": 21,
            "metadata": {
                "scrolled": true
            },
            "outputs": [],
            "source": "va_features = VectorAssembler(inputCols=[\"CheckingStatus_IX\", \"CreditHistory_IX\", \"LoanPurpose_IX\", \"ExistingSavings_IX\", \"EmploymentDuration_IX\", \"Sex_IX\", \\\n                                         \"OthersOnLoan_IX\", \"OwnsProperty_IX\", \"InstallmentPlans_IX\", \"Housing_IX\", \"Job_IX\", \"Telephone_IX\", \"ForeignWorker_IX\", \\\n                                         \"LoanDuration\", \"LoanAmount\", \"InstallmentPercent\", \"CurrentResidenceDuration\", \"LoanDuration\", \"Age\", \"ExistingCreditsCount\", \\\n                                         \"Dependents\"], outputCol=\"features\")"
        },
        {
            "cell_type": "code",
            "execution_count": 22,
            "metadata": {
                "scrolled": true
            },
            "outputs": [],
            "source": "from pyspark.ml.classification import RandomForestClassifier\n\nclassifier = RandomForestClassifier(featuresCol=\"features\")\npipeline = Pipeline(stages=[si_CheckingStatus, si_CreditHistory, si_EmploymentDuration, si_ExistingSavings, si_ForeignWorker, si_Housing, si_InstallmentPlans, si_Job, si_LoanPurpose, si_OthersOnLoan,\\\n                               si_OwnsProperty, si_Sex, si_Telephone, si_Label, va_features, classifier, label_converter])\nmodel = pipeline.fit(train_data)"
        },
        {
            "cell_type": "code",
            "execution_count": 23,
            "metadata": {
                "scrolled": true
            },
            "outputs": [
                {
                    "name": "stdout",
                    "output_type": "stream",
                    "text": "areaUnderROC = 0.706673\n"
                }
            ],
            "source": "predictions = model.transform(test_data)\nevaluatorDT = BinaryClassificationEvaluator(rawPredictionCol=\"prediction\")\narea_under_curve = evaluatorDT.evaluate(predictions)\n\nprint(\"areaUnderROC = %g\" % area_under_curve)"
        },
        {
            "cell_type": "markdown",
            "metadata": {},
            "source": "## Publish the model"
        },
        {
            "cell_type": "markdown",
            "metadata": {},
            "source": "In this section, the notebook uses the supplied Watson Machine Learning credentials to save the model (including the pipeline) to the WML instance. Previous versions of the model are removed so that the notebook can be run again, resetting all data for another demo."
        },
        {
            "cell_type": "code",
            "execution_count": 24,
            "metadata": {
                "scrolled": true
            },
            "outputs": [
                {
                    "name": "stderr",
                    "output_type": "stream",
                    "text": "/home/spark/shared/user-libs/python3.6/sklearn/externals/joblib/__init__.py:15: DeprecationWarning: sklearn.externals.joblib is deprecated in 0.21 and will be removed in 0.23. Please import this functionality directly from joblib, which can be installed with: pip install joblib. If this warning is raised when loading pickled models, you may need to re-serialize those models with scikit-learn 0.21+.\n  warnings.warn(msg, category=DeprecationWarning)\nWARNING:matplotlib.font_manager:findfont: Font family ['serif'] not found. Falling back to DejaVu Sans.\n"
                }
            ],
            "source": "from watson_machine_learning_client import WatsonMachineLearningAPIClient\nimport json\n\nwml_client = WatsonMachineLearningAPIClient(WML_CREDENTIALS)"
        },
        {
            "cell_type": "markdown",
            "metadata": {},
            "source": "### Remove existing model and deployment"
        },
        {
            "cell_type": "code",
            "execution_count": 25,
            "metadata": {
                "scrolled": true
            },
            "outputs": [
                {
                    "name": "stdout",
                    "output_type": "stream",
                    "text": "Deleting deployment id 6e0260e0-e48c-459e-b32b-c1a5eff989bf\nDeleting model id ada49052-76e6-42b3-a1c7-c36f05452a9f\n------------------------------------  ----------------------------------  ------------------------  -----------------\nGUID                                  NAME                                CREATED                   FRAMEWORK\n30a56c7d-f8b6-4d0a-9928-ead7b52160c5  SVCHighlights                       2019-11-05T12:57:33.531Z  scikit-learn-0.20\nb92d12ec-670e-4571-b4b8-b4390243705b  AIOS Scikit Digits V4               2019-10-18T09:03:03.170Z  scikit-learn-0.19\n95a5a12d-05a2-42ee-bf5f-c0673131b77c  SVCHighlights                       2019-10-18T08:35:11.347Z  scikit-learn-0.19\n2cb55722-64e5-4aea-a2a9-fde47565887b  CIFAR10 neunets                     2019-10-11T09:21:03.345Z  tensorflow-1.5\n08f25c71-3dc6-4be9-98df-54a423199a07  AIOS Spark Credit Risk model xFg    2019-10-10T13:56:02.454Z  mllib-2.3\n69724866-bd8e-4f84-855f-49aeb2cce62b  Spark German Risk Model - Scikit    2019-09-27T07:54:56.702Z  scikit-learn-0.20\nee1a3b56-756b-4262-8452-a5eefaaf1a6c  AIOS Spark German Risk model drift  2019-09-16T08:50:17.278Z  mllib-2.3\n175c7388-df34-488f-9dd8-63357818f9ef  AIOS Spark German Risk model        2019-09-13T12:48:22.104Z  mllib-2.3\n------------------------------------  ----------------------------------  ------------------------  -----------------\n"
                }
            ],
            "source": "model_deployment_ids = wml_client.deployments.get_uids()\nfor deployment_id in model_deployment_ids:\n    deployment = wml_client.deployments.get_details(deployment_id)\n    model_id = deployment['entity']['deployable_asset']['guid']\n    if deployment['entity']['name'] == DEPLOYMENT_NAME:\n        print('Deleting deployment id', deployment_id)\n        wml_client.deployments.delete(deployment_id)\n        print('Deleting model id', model_id)\n        wml_client.repository.delete(model_id)\nwml_client.repository.list_models()"
        },
        {
            "cell_type": "code",
            "execution_count": 26,
            "metadata": {},
            "outputs": [
                {
                    "name": "stdout",
                    "output_type": "stream",
                    "text": "-rw-r--r-- 1 spark 4294967294 14K Dec  2 09:44 credit-risk-meta.json\r\n"
                }
            ],
            "source": "with io.capture_output() as captured:\n    !wget https://raw.githubusercontent.com/pmservice/wml-sample-models/master/spark/credit-risk/meta/credit-risk-meta.json -O credit-risk-meta.json\n!ls -lh credit-risk-meta.json"
        },
        {
            "cell_type": "code",
            "execution_count": 27,
            "metadata": {},
            "outputs": [],
            "source": "with open('credit-risk-meta.json') as f:\n    [training_data_reference, *_] = json.load(f)['model_meta']['training_data_reference']"
        },
        {
            "cell_type": "code",
            "execution_count": 28,
            "metadata": {
                "scrolled": true
            },
            "outputs": [],
            "source": "model_props = {\n    wml_client.repository.ModelMetaNames.NAME: \"{}\".format(MODEL_NAME),\n    wml_client.repository.ModelMetaNames.EVALUATION_METHOD: \"binary\",\n    wml_client.repository.ModelMetaNames.TRAINING_DATA_REFERENCE: training_data_reference,\n    wml_client.repository.ModelMetaNames.EVALUATION_METRICS: [\n        {\n           \"name\": \"areaUnderROC\",\n           \"value\": area_under_curve,\n           \"threshold\": 0.7\n        }\n    ]\n}"
        },
        {
            "cell_type": "code",
            "execution_count": 29,
            "metadata": {
                "scrolled": true
            },
            "outputs": [
                {
                    "name": "stdout",
                    "output_type": "stream",
                    "text": "Storing model ...\nDone\n"
                }
            ],
            "source": "wml_models = wml_client.repository.get_details()\nmodel_uid = None\nfor model_in in wml_models['models']['resources']:\n    if MODEL_NAME == model_in['entity']['name']:\n        model_uid = model_in['metadata']['guid']\n        break\n\nif model_uid is None:\n    print(\"Storing model ...\")\n\n    published_model_details = wml_client.repository.store_model(model=model, meta_props=model_props, training_data=train_data, pipeline=pipeline)\n    model_uid = wml_client.repository.get_model_uid(published_model_details)\n    print(\"Done\")"
        },
        {
            "cell_type": "code",
            "execution_count": 30,
            "metadata": {
                "scrolled": true
            },
            "outputs": [
                {
                    "data": {
                        "text/plain": "'3ff7858b-e3b0-4fe3-a8f9-a06eb17f708c'"
                    },
                    "execution_count": 30,
                    "metadata": {},
                    "output_type": "execute_result"
                }
            ],
            "source": "model_uid"
        },
        {
            "cell_type": "markdown",
            "metadata": {},
            "source": "## Deploy the model"
        },
        {
            "cell_type": "markdown",
            "metadata": {},
            "source": "The next section of the notebook deploys the model as a RESTful web service in Watson Machine Learning. The deployed model will have a scoring URL you can use to send data to the model for predictions."
        },
        {
            "cell_type": "code",
            "execution_count": 31,
            "metadata": {
                "scrolled": true
            },
            "outputs": [
                {
                    "name": "stdout",
                    "output_type": "stream",
                    "text": "Deploying model...\n\n\n#######################################################################################\n\nSynchronous deployment creation for uid: '3ff7858b-e3b0-4fe3-a8f9-a06eb17f708c' started\n\n#######################################################################################\n\n\nINITIALIZING\nDEPLOY_IN_PROGRESS\nDEPLOY_SUCCESS\n\n\n------------------------------------------------------------------------------------------------\nSuccessfully finished deployment creation, deployment_uid='58235d63-f4f4-49fb-ae30-5d90cfb67c93'\n------------------------------------------------------------------------------------------------\n\n\nModel id: 3ff7858b-e3b0-4fe3-a8f9-a06eb17f708c\nDeployment id: 58235d63-f4f4-49fb-ae30-5d90cfb67c93\n"
                }
            ],
            "source": "wml_deployments = wml_client.deployments.get_details()\ndeployment_uid = None\nfor deployment in wml_deployments['resources']:\n    if DEPLOYMENT_NAME == deployment['entity']['name']:\n        deployment_uid = deployment['metadata']['guid']\n        break\n\nif deployment_uid is None:\n    print(\"Deploying model...\")\n\n    deployment = wml_client.deployments.create(artifact_uid=model_uid, name=DEPLOYMENT_NAME, asynchronous=False)\n    deployment_uid = wml_client.deployments.get_uid(deployment)\n    \nprint(\"Model id: {}\".format(model_uid))\nprint(\"Deployment id: {}\".format(deployment_uid))"
        },
        {
            "cell_type": "markdown",
            "metadata": {},
            "source": "# Configure OpenScale <a name=\"openscale\"></a>"
        },
        {
            "cell_type": "markdown",
            "metadata": {},
            "source": "The notebook will now import the necessary libraries and set up a Python OpenScale client."
        },
        {
            "cell_type": "code",
            "execution_count": 32,
            "metadata": {
                "scrolled": true
            },
            "outputs": [],
            "source": "from ibm_ai_openscale import APIClient\nfrom ibm_ai_openscale.engines import *\nfrom ibm_ai_openscale.utils import *\nfrom ibm_ai_openscale.supporting_classes import PayloadRecord, Feature\nfrom ibm_ai_openscale.supporting_classes.enums import *"
        },
        {
            "cell_type": "markdown",
            "metadata": {},
            "source": "### Get Watson OpenScale GUID"
        },
        {
            "cell_type": "markdown",
            "metadata": {},
            "source": "Each instance of OpenScale has a unique ID. We can get this value using the Cloud API key specified at the beginning of the notebook."
        },
        {
            "cell_type": "code",
            "execution_count": 33,
            "metadata": {},
            "outputs": [
                {
                    "name": "stdout",
                    "output_type": "stream",
                    "text": "27d2155a-b202-44ac-955e-ee20b64f6c89\n"
                }
            ],
            "source": "import requests\nfrom ibm_ai_openscale.utils import get_instance_guid\n\n\nWOS_GUID = get_instance_guid(api_key=CLOUD_API_KEY)\nWOS_CREDENTIALS = {\n    \"instance_guid\": WOS_GUID,\n    \"apikey\": CLOUD_API_KEY,\n    \"url\": \"https://api.aiopenscale.cloud.ibm.com\"\n}\n\nif WOS_GUID is None:\n    print('Watson OpenScale GUID NOT FOUND')\nelse:\n    print(WOS_GUID)"
        },
        {
            "cell_type": "markdown",
            "metadata": {},
            "source": "If Watson OpenScale GUID has not been found you need provide the GUID to variabe `WOS_GUID`.\n\n#### Get OpenScale `instance_guid` \n\nHow to install IBM Cloud (bluemix) console: [instruction](https://console.bluemix.net/docs/cli/reference/ibmcloud/download_cli.html#install_use)\n\n\n\nHow to get your OpenScale instance GUID\n- log in to IBM Cloud:\n```\nbx login --sso\n```\n- if your resource group is different than `default` switch to resource group containing OpenScale instance\n```\nbx target -g <myResourceGroup>\n```\n- get details of the instance\n```\nbx resource service-instance 'AI-OpenScale-instance_name'\n```"
        },
        {
            "cell_type": "code",
            "execution_count": 34,
            "metadata": {
                "scrolled": true
            },
            "outputs": [
                {
                    "data": {
                        "text/plain": "'2.1.19'"
                    },
                    "execution_count": 34,
                    "metadata": {},
                    "output_type": "execute_result"
                }
            ],
            "source": "ai_client = APIClient(aios_credentials=WOS_CREDENTIALS)\nai_client.version"
        },
        {
            "cell_type": "markdown",
            "metadata": {},
            "source": "## Create schema and datamart"
        },
        {
            "cell_type": "markdown",
            "metadata": {},
            "source": "### Set up datamart"
        },
        {
            "cell_type": "markdown",
            "metadata": {},
            "source": "Watson OpenScale uses a database to store payload logs and calculated metrics. If database credentials were **not** supplied above, the notebook will use the free, internal lite database. If database credentials were supplied, the datamart will be created there **unless** there is an existing datamart **and** the **KEEP_MY_INTERNAL_POSTGRES** variable is set to **True**. If an OpenScale datamart exists in Db2 or PostgreSQL, the existing datamart will be used and no data will be overwritten.\n\nPrior instances of the German Credit model will be removed from OpenScale monitoring."
        },
        {
            "cell_type": "code",
            "execution_count": 35,
            "metadata": {},
            "outputs": [
                {
                    "name": "stdout",
                    "output_type": "stream",
                    "text": "Using existing internal datamart.\n"
                }
            ],
            "source": "try:\n    data_mart_details = ai_client.data_mart.get_details()\n    if 'internal_database' in data_mart_details and data_mart_details['internal_database']:\n        if KEEP_MY_INTERNAL_POSTGRES:\n            print('Using existing internal datamart.')\n        else:\n            if DB_CREDENTIALS is None:\n                print('No postgres credentials supplied. Using existing internal datamart')\n            else:\n                print('Switching to external datamart')\n                ai_client.data_mart.delete(force=True)\n                ai_client.data_mart.setup(db_credentials=DB_CREDENTIALS)\n    else:\n        print('Using existing external datamart')\nexcept:\n    if DB_CREDENTIALS is None:\n        print('Setting up internal datamart')\n        ai_client.data_mart.setup(internal_db=True)\n    else:\n        print('Setting up external datamart')\n        try:\n            ai_client.data_mart.setup(db_credentials=DB_CREDENTIALS)\n        except:\n            print('Setup failed, trying Db2 setup')\n            ai_client.data_mart.setup(db_credentials=DB_CREDENTIALS, schema=DB_CREDENTIALS['username'])\n    "
        },
        {
            "cell_type": "code",
            "execution_count": 36,
            "metadata": {
                "scrolled": true
            },
            "outputs": [],
            "source": "data_mart_details = ai_client.data_mart.get_details()"
        },
        {
            "cell_type": "markdown",
            "metadata": {},
            "source": "## Bind machine learning engines"
        },
        {
            "cell_type": "markdown",
            "metadata": {},
            "source": "Watson OpenScale needs to be bound to the Watson Machine Learning instance to capture payload data into and out of the model. If this binding already exists, this code will output a warning message and use the existing binding."
        },
        {
            "cell_type": "markdown",
            "metadata": {},
            "source": "**Note:** You can bind more than one engine instance if needed by calling `ai_client.data_mart.bindings.add` method. Next, you can refer to particular binding using `binding_uid`."
        },
        {
            "cell_type": "code",
            "execution_count": 37,
            "metadata": {
                "scrolled": false
            },
            "outputs": [
                {
                    "name": "stdout",
                    "output_type": "stream",
                    "text": "Warning during bind instance.\nStatus code: 409, body: {\"errors\":[{\"code\":\"AIQCS0010W\",\"message\":\"Service Binding with this id is already defined\"}],\"trace\":\"N2M4YzBkNzAtOWNlOS00NGMyLWIwM2EtNmMyM2YwMTM0Mjk3\"}\n"
                },
                {
                    "data": {
                        "text/html": "<HTML>\n        <body>\n            <h3>Service bindings</h3>\n            <table style='border: 1px solid #dddddd; font-family: Courier'>\n                <th style='border: 1px solid #dddddd'>uid</th><th style='border: 1px solid #dddddd'>name</th><th style='border: 1px solid #dddddd'>service_type</th><th style='border: 1px solid #dddddd'>created</th>\n                <tr><td style='border: 1px solid #dddddd'>d838c8c6-6efd-4902-ab0d-0160122a70ac</td><td style='border: 1px solid #dddddd'>WML instance on Cloud</td><td style='border: 1px solid #dddddd'>watson_machine_learning</td><td style='border: 1px solid #dddddd'>2019-11-29T11:37:44.255Z</td></tr><tr><td style='border: 1px solid #dddddd'>a73bf76d-a663-448a-b771-4f651f73d54e</td><td style='border: 1px solid #dddddd'>WML instance</td><td style='border: 1px solid #dddddd'>watson_machine_learning</td><td style='border: 1px solid #dddddd'>2019-11-28T15:06:49.965Z</td></tr><tr><td style='border: 1px solid #dddddd'>a4729971-8653-4aae-a7ab-624185056799</td><td style='border: 1px solid #dddddd'>WML instance</td><td style='border: 1px solid #dddddd'>watson_machine_learning</td><td style='border: 1px solid #dddddd'>2019-11-19T15:18:21.910Z</td></tr>\n            </table>\n        </body>\n        </HTML>",
                        "text/plain": "<IPython.core.display.HTML object>"
                    },
                    "metadata": {},
                    "output_type": "display_data"
                }
            ],
            "source": "binding_uid = ai_client.data_mart.bindings.add('WML instance', WatsonMachineLearningInstance(WML_CREDENTIALS))\nif binding_uid is None:\n    binding_uid = ai_client.data_mart.bindings.get_details()['service_bindings'][0]['metadata']['guid']\nbindings_details = ai_client.data_mart.bindings.get_details()\nai_client.data_mart.bindings.list()"
        },
        {
            "cell_type": "code",
            "execution_count": 38,
            "metadata": {
                "scrolled": true
            },
            "outputs": [
                {
                    "name": "stdout",
                    "output_type": "stream",
                    "text": "a73bf76d-a663-448a-b771-4f651f73d54e\n"
                }
            ],
            "source": "print(binding_uid)"
        },
        {
            "cell_type": "code",
            "execution_count": 39,
            "metadata": {
                "scrolled": false
            },
            "outputs": [
                {
                    "data": {
                        "text/html": "<HTML>\n        <body>\n            <h3>Available assets</h3>\n            <table style='border: 1px solid #dddddd; font-family: Courier'>\n                <th style='border: 1px solid #dddddd'>source_uid</th><th style='border: 1px solid #dddddd'>name</th><th style='border: 1px solid #dddddd'>created</th><th style='border: 1px solid #dddddd'>type</th><th style='border: 1px solid #dddddd'>frameworks</th><th style='border: 1px solid #dddddd'>binding_uid</th><th style='border: 1px solid #dddddd'>is_subscribed</th>\n                <tr><td style='border: 1px solid #dddddd'>3ff7858b-e3b0-4fe3-a8f9-a06eb17f708c</td><td style='border: 1px solid #dddddd'>Spark German Risk Model - Final</td><td style='border: 1px solid #dddddd'>2019-12-02T09:45:02.632Z</td><td style='border: 1px solid #dddddd'>model</td><td style='border: 1px solid #dddddd'>mllib-2.3</td><td style='border: 1px solid #dddddd'>a73bf76d-a663-448a-b771-4f651f73d54e</td><td style='border: 1px solid #dddddd'>False</td></tr><tr><td style='border: 1px solid #dddddd'>fed54fed-f6dd-4dbc-98b0-135c89ff02bc</td><td style='border: 1px solid #dddddd'>Spark German Risk Model - Final</td><td style='border: 1px solid #dddddd'>2019-11-21T12:54:32.766Z</td><td style='border: 1px solid #dddddd'>model</td><td style='border: 1px solid #dddddd'>mllib-2.3</td><td style='border: 1px solid #dddddd'>a4729971-8653-4aae-a7ab-624185056799</td><td style='border: 1px solid #dddddd'>False</td></tr><tr><td style='border: 1px solid #dddddd'>30a56c7d-f8b6-4d0a-9928-ead7b52160c5</td><td style='border: 1px solid #dddddd'>SVCHighlights</td><td style='border: 1px solid #dddddd'>2019-11-05T12:57:39.392Z</td><td style='border: 1px solid #dddddd'>model</td><td style='border: 1px solid #dddddd'>scikit-learn-0.20</td><td style='border: 1px solid #dddddd'>a73bf76d-a663-448a-b771-4f651f73d54e</td><td style='border: 1px solid #dddddd'>False</td></tr><tr><td style='border: 1px solid #dddddd'>30e9a796-2d3f-4d79-8182-d9cd0ae99ab8</td><td style='border: 1px solid #dddddd'>AIOS Xgboost Agaricus xv2 Model</td><td style='border: 1px solid #dddddd'>2019-10-30T21:19:05.938Z</td><td style='border: 1px solid #dddddd'>model</td><td style='border: 1px solid #dddddd'>xgboost-0.80</td><td style='border: 1px solid #dddddd'>d838c8c6-6efd-4902-ab0d-0160122a70ac</td><td style='border: 1px solid #dddddd'>False</td></tr><tr><td style='border: 1px solid #dddddd'>fff2595a-f5a0-413c-b5ea-cf6af7aeef2e</td><td style='border: 1px solid #dddddd'>AIOS German TDF Risk model tmp xcx</td><td style='border: 1px solid #dddddd'>2019-10-29T08:57:20.658Z</td><td style='border: 1px solid #dddddd'>model</td><td style='border: 1px solid #dddddd'>mllib-2.3</td><td style='border: 1px solid #dddddd'>d838c8c6-6efd-4902-ab0d-0160122a70ac</td><td style='border: 1px solid #dddddd'>False</td></tr><tr><td style='border: 1px solid #dddddd'>d26960e6-d5a2-4d02-bdc8-ff0e7a59b2d6</td><td style='border: 1px solid #dddddd'>AIOS Xgboost Iris Model v4</td><td style='border: 1px solid #dddddd'>2019-10-28T14:35:44.707Z</td><td style='border: 1px solid #dddddd'>model</td><td style='border: 1px solid #dddddd'>xgboost-0.80</td><td style='border: 1px solid #dddddd'>d838c8c6-6efd-4902-ab0d-0160122a70ac</td><td style='border: 1px solid #dddddd'>False</td></tr><tr><td style='border: 1px solid #dddddd'>508c65ae-61c7-4551-9d49-d5f2cfd782c8</td><td style='border: 1px solid #dddddd'>AIOS Xgboost Iris Model x22</td><td style='border: 1px solid #dddddd'>2019-10-28T14:15:48.098Z</td><td style='border: 1px solid #dddddd'>model</td><td style='border: 1px solid #dddddd'>xgboost-0.80</td><td style='border: 1px solid #dddddd'>d838c8c6-6efd-4902-ab0d-0160122a70ac</td><td style='border: 1px solid #dddddd'>False</td></tr><tr><td style='border: 1px solid #dddddd'>7b996e11-46f2-48c6-891a-31c4e53c92c2</td><td style='border: 1px solid #dddddd'>AIOS Xgboost Iris Model</td><td style='border: 1px solid #dddddd'>2019-10-28T13:31:30.447Z</td><td style='border: 1px solid #dddddd'>model</td><td style='border: 1px solid #dddddd'>xgboost-0.80</td><td style='border: 1px solid #dddddd'>d838c8c6-6efd-4902-ab0d-0160122a70ac</td><td style='border: 1px solid #dddddd'>False</td></tr><tr><td style='border: 1px solid #dddddd'>6a116cdc-e828-428a-b571-130ed9f580af</td><td style='border: 1px solid #dddddd'>AIOS German TDF Risk model xcx</td><td style='border: 1px solid #dddddd'>2019-10-28T12:17:21.457Z</td><td style='border: 1px solid #dddddd'>model</td><td style='border: 1px solid #dddddd'>mllib-2.3</td><td style='border: 1px solid #dddddd'>d838c8c6-6efd-4902-ab0d-0160122a70ac</td><td style='border: 1px solid #dddddd'>False</td></tr><tr><td style='border: 1px solid #dddddd'>4b1de5b1-ce99-4eee-9f52-beb5b605541d</td><td style='border: 1px solid #dddddd'>AIOS Xgboost Agaricus Model</td><td style='border: 1px solid #dddddd'>2019-10-28T09:16:36.749Z</td><td style='border: 1px solid #dddddd'>model</td><td style='border: 1px solid #dddddd'>xgboost-0.80</td><td style='border: 1px solid #dddddd'>d838c8c6-6efd-4902-ab0d-0160122a70ac</td><td style='border: 1px solid #dddddd'>False</td></tr><tr><td style='border: 1px solid #dddddd'>6ac5e713-1ced-4e40-b2c6-3cb673b1a409</td><td style='border: 1px solid #dddddd'>AIOS Multiply Function V4</td><td style='border: 1px solid #dddddd'>2019-10-25T13:49:45.294Z</td><td style='border: 1px solid #dddddd'>function</td><td style='border: 1px solid #dddddd'></td><td style='border: 1px solid #dddddd'>d838c8c6-6efd-4902-ab0d-0160122a70ac</td><td style='border: 1px solid #dddddd'>False</td></tr><tr><td style='border: 1px solid #dddddd'>f6e05445-1c8a-44d1-95c6-205770ea2930</td><td style='border: 1px solid #dddddd'>AIOS Xgboost Solar Model</td><td style='border: 1px solid #dddddd'>2019-10-25T11:32:12.602Z</td><td style='border: 1px solid #dddddd'>model</td><td style='border: 1px solid #dddddd'>xgboost-0.80</td><td style='border: 1px solid #dddddd'>d838c8c6-6efd-4902-ab0d-0160122a70ac</td><td style='border: 1px solid #dddddd'>False</td></tr><tr><td style='border: 1px solid #dddddd'>56ba6d0f-a6a6-4e6d-b7c0-62eeb309d84c</td><td style='border: 1px solid #dddddd'>AIOS Xgboost Boston House Model</td><td style='border: 1px solid #dddddd'>2019-10-25T11:28:38.913Z</td><td style='border: 1px solid #dddddd'>model</td><td style='border: 1px solid #dddddd'>scikit-learn-0.19</td><td style='border: 1px solid #dddddd'>d838c8c6-6efd-4902-ab0d-0160122a70ac</td><td style='border: 1px solid #dddddd'>False</td></tr><tr><td style='border: 1px solid #dddddd'>44545649-63ef-42ae-a7fe-473c25e1df63</td><td style='border: 1px solid #dddddd'>AIOS TF Structured Deployment</td><td style='border: 1px solid #dddddd'>2019-10-25T11:26:59.666Z</td><td style='border: 1px solid #dddddd'>model</td><td style='border: 1px solid #dddddd'>tensorflow-1.11</td><td style='border: 1px solid #dddddd'>d838c8c6-6efd-4902-ab0d-0160122a70ac</td><td style='border: 1px solid #dddddd'>False</td></tr><tr><td style='border: 1px solid #dddddd'>de8a520a-2f23-44c1-bdb3-22e644e1162f</td><td style='border: 1px solid #dddddd'>AIOS SPSS Customer Model</td><td style='border: 1px solid #dddddd'>2019-10-25T11:24:41.662Z</td><td style='border: 1px solid #dddddd'>model</td><td style='border: 1px solid #dddddd'>spss-modeler-18.0</td><td style='border: 1px solid #dddddd'>d838c8c6-6efd-4902-ab0d-0160122a70ac</td><td style='border: 1px solid #dddddd'>False</td></tr><tr><td style='border: 1px solid #dddddd'>443a678f-ee6e-4928-a4d4-b22cc8583682</td><td style='border: 1px solid #dddddd'>AIOS Scikit Regression Diabetes</td><td style='border: 1px solid #dddddd'>2019-10-25T11:22:06.975Z</td><td style='border: 1px solid #dddddd'>model</td><td style='border: 1px solid #dddddd'>scikit-learn-0.19</td><td style='border: 1px solid #dddddd'>d838c8c6-6efd-4902-ab0d-0160122a70ac</td><td style='border: 1px solid #dddddd'>False</td></tr><tr><td style='border: 1px solid #dddddd'>9826003d-68fd-4693-842f-1f67d67a4e9a</td><td style='border: 1px solid #dddddd'>SVCHighlights</td><td style='border: 1px solid #dddddd'>2019-10-25T11:20:55.476Z</td><td style='border: 1px solid #dddddd'>model</td><td style='border: 1px solid #dddddd'>scikit-learn-0.19</td><td style='border: 1px solid #dddddd'>d838c8c6-6efd-4902-ab0d-0160122a70ac</td><td style='border: 1px solid #dddddd'>False</td></tr><tr><td style='border: 1px solid #dddddd'>0788e437-08cb-447c-9e63-72ca440e43de</td><td style='border: 1px solid #dddddd'>AIOS Scikit Digits</td><td style='border: 1px solid #dddddd'>2019-10-25T11:18:12.169Z</td><td style='border: 1px solid #dddddd'>model</td><td style='border: 1px solid #dddddd'>scikit-learn-0.19</td><td style='border: 1px solid #dddddd'>d838c8c6-6efd-4902-ab0d-0160122a70ac</td><td style='border: 1px solid #dddddd'>False</td></tr><tr><td style='border: 1px solid #dddddd'>c93e5d66-4939-406b-80cf-ac62b21c5211</td><td style='border: 1px solid #dddddd'>AIOS Multiply Function wml4</td><td style='border: 1px solid #dddddd'>2019-10-25T11:17:45.799Z</td><td style='border: 1px solid #dddddd'>function</td><td style='border: 1px solid #dddddd'></td><td style='border: 1px solid #dddddd'>d838c8c6-6efd-4902-ab0d-0160122a70ac</td><td style='border: 1px solid #dddddd'>False</td></tr><tr><td style='border: 1px solid #dddddd'>a41fd14b-e691-4ad0-bf66-14b321e629fc</td><td style='border: 1px solid #dddddd'>AIOS Spark Regression Customer Satisfaction model</td><td style='border: 1px solid #dddddd'>2019-10-25T11:11:53.690Z</td><td style='border: 1px solid #dddddd'>model</td><td style='border: 1px solid #dddddd'>mllib-2.3</td><td style='border: 1px solid #dddddd'>d838c8c6-6efd-4902-ab0d-0160122a70ac</td><td style='border: 1px solid #dddddd'>False</td></tr><tr><td style='border: 1px solid #dddddd'>9d369671-1b8e-4d13-b889-03b73798d020</td><td style='border: 1px solid #dddddd'>AIOS Spark Drugs feedback model</td><td style='border: 1px solid #dddddd'>2019-10-25T11:09:29.211Z</td><td style='border: 1px solid #dddddd'>model</td><td style='border: 1px solid #dddddd'>mllib-2.3</td><td style='border: 1px solid #dddddd'>d838c8c6-6efd-4902-ab0d-0160122a70ac</td><td style='border: 1px solid #dddddd'>False</td></tr><tr><td style='border: 1px solid #dddddd'>0f22858d-90fb-43db-b395-d3cde487a06a</td><td style='border: 1px solid #dddddd'>AIOS Keras Regression Poland House Prices V4</td><td style='border: 1px solid #dddddd'>2019-10-25T11:00:39.788Z</td><td style='border: 1px solid #dddddd'>model</td><td style='border: 1px solid #dddddd'>tensorflow-1.11</td><td style='border: 1px solid #dddddd'>d838c8c6-6efd-4902-ab0d-0160122a70ac</td><td style='border: 1px solid #dddddd'>False</td></tr><tr><td style='border: 1px solid #dddddd'>40ec61e0-4507-46fb-b38a-7917eee6055f</td><td style='border: 1px solid #dddddd'>AIOS Keras Multiclass StackOverflow V4</td><td style='border: 1px solid #dddddd'>2019-10-25T10:57:32.555Z</td><td style='border: 1px solid #dddddd'>model</td><td style='border: 1px solid #dddddd'>tensorflow-1.11</td><td style='border: 1px solid #dddddd'>d838c8c6-6efd-4902-ab0d-0160122a70ac</td><td style='border: 1px solid #dddddd'>False</td></tr><tr><td style='border: 1px solid #dddddd'>dd405eb2-7bbe-450f-985f-30c1ead73481</td><td style='border: 1px solid #dddddd'>AIOS Keras Multiclass Mnist V4</td><td style='border: 1px solid #dddddd'>2019-10-25T10:54:35.701Z</td><td style='border: 1px solid #dddddd'>model</td><td style='border: 1px solid #dddddd'>tensorflow-1.11</td><td style='border: 1px solid #dddddd'>d838c8c6-6efd-4902-ab0d-0160122a70ac</td><td style='border: 1px solid #dddddd'>False</td></tr><tr><td style='border: 1px solid #dddddd'>b886abbe-6b72-4c18-bea6-d2a54e4fd1d7</td><td style='border: 1px solid #dddddd'>AIOS Keras Iris model V4xxx</td><td style='border: 1px solid #dddddd'>2019-10-25T10:52:38.066Z</td><td style='border: 1px solid #dddddd'>model</td><td style='border: 1px solid #dddddd'>tensorflow-1.11</td><td style='border: 1px solid #dddddd'>d838c8c6-6efd-4902-ab0d-0160122a70ac</td><td style='border: 1px solid #dddddd'>False</td></tr><tr><td style='border: 1px solid #dddddd'>b7f814d2-53a0-452f-9205-e68c26275c5c</td><td style='border: 1px solid #dddddd'>AIOS Keras LSTM V4</td><td style='border: 1px solid #dddddd'>2019-10-25T10:49:31.304Z</td><td style='border: 1px solid #dddddd'>model</td><td style='border: 1px solid #dddddd'>tensorflow-1.11</td><td style='border: 1px solid #dddddd'>d838c8c6-6efd-4902-ab0d-0160122a70ac</td><td style='border: 1px solid #dddddd'>False</td></tr><tr><td style='border: 1px solid #dddddd'>84752138-6ef6-4259-82f5-27ed7c4d65cf</td><td style='border: 1px solid #dddddd'>AIOS Keras Binary Spam model V4</td><td style='border: 1px solid #dddddd'>2019-10-25T10:46:36.856Z</td><td style='border: 1px solid #dddddd'>model</td><td style='border: 1px solid #dddddd'>tensorflow-1.11</td><td style='border: 1px solid #dddddd'>d838c8c6-6efd-4902-ab0d-0160122a70ac</td><td style='border: 1px solid #dddddd'>False</td></tr><tr><td style='border: 1px solid #dddddd'>4d4c074d-eaab-4927-885d-c0783f803a2d</td><td style='border: 1px solid #dddddd'>AIOS Keras Binary Dogs vs Cats model V4</td><td style='border: 1px solid #dddddd'>2019-10-25T10:44:26.718Z</td><td style='border: 1px solid #dddddd'>model</td><td style='border: 1px solid #dddddd'>tensorflow-1.11</td><td style='border: 1px solid #dddddd'>d838c8c6-6efd-4902-ab0d-0160122a70ac</td><td style='border: 1px solid #dddddd'>False</td></tr><tr><td style='border: 1px solid #dddddd'>f807e4fe-e862-444f-852f-de32300b91ab</td><td style='border: 1px solid #dddddd'>AIOS Spark Credit Risk model xFg</td><td style='border: 1px solid #dddddd'>2019-10-25T10:04:37.915Z</td><td style='border: 1px solid #dddddd'>model</td><td style='border: 1px solid #dddddd'>mllib-2.3</td><td style='border: 1px solid #dddddd'>d838c8c6-6efd-4902-ab0d-0160122a70ac</td><td style='border: 1px solid #dddddd'>True</td></tr><tr><td style='border: 1px solid #dddddd'>85f95534-50ef-4f8f-839a-86dc0e501178</td><td style='border: 1px solid #dddddd'>GermanCreditRiskModelYPQA</td><td style='border: 1px solid #dddddd'>2019-10-25T08:46:21.795Z</td><td style='border: 1px solid #dddddd'>model</td><td style='border: 1px solid #dddddd'>mllib-2.3</td><td style='border: 1px solid #dddddd'>a4729971-8653-4aae-a7ab-624185056799</td><td style='border: 1px solid #dddddd'>False</td></tr><tr><td style='border: 1px solid #dddddd'>6a1b8908-6df4-4af0-b991-a547ab009bea</td><td style='border: 1px solid #dddddd'>AIOS Spark Credit Risk model xFg</td><td style='border: 1px solid #dddddd'>2019-10-24T12:43:01.316Z</td><td style='border: 1px solid #dddddd'>model</td><td style='border: 1px solid #dddddd'>mllib-2.3</td><td style='border: 1px solid #dddddd'>a4729971-8653-4aae-a7ab-624185056799</td><td style='border: 1px solid #dddddd'>False</td></tr><tr><td style='border: 1px solid #dddddd'>b92d12ec-670e-4571-b4b8-b4390243705b</td><td style='border: 1px solid #dddddd'>AIOS Scikit Digits V4</td><td style='border: 1px solid #dddddd'>2019-10-18T09:03:09.193Z</td><td style='border: 1px solid #dddddd'>model</td><td style='border: 1px solid #dddddd'>scikit-learn-0.19</td><td style='border: 1px solid #dddddd'>a73bf76d-a663-448a-b771-4f651f73d54e</td><td style='border: 1px solid #dddddd'>False</td></tr><tr><td style='border: 1px solid #dddddd'>95a5a12d-05a2-42ee-bf5f-c0673131b77c</td><td style='border: 1px solid #dddddd'>SVCHighlights</td><td style='border: 1px solid #dddddd'>2019-10-18T08:35:17.822Z</td><td style='border: 1px solid #dddddd'>model</td><td style='border: 1px solid #dddddd'>scikit-learn-0.19</td><td style='border: 1px solid #dddddd'>a73bf76d-a663-448a-b771-4f651f73d54e</td><td style='border: 1px solid #dddddd'>False</td></tr><tr><td style='border: 1px solid #dddddd'>2cb55722-64e5-4aea-a2a9-fde47565887b</td><td style='border: 1px solid #dddddd'>CIFAR10 neunets</td><td style='border: 1px solid #dddddd'>2019-10-11T10:33:34.002Z</td><td style='border: 1px solid #dddddd'>model</td><td style='border: 1px solid #dddddd'>tensorflow-1.5</td><td style='border: 1px solid #dddddd'>a73bf76d-a663-448a-b771-4f651f73d54e</td><td style='border: 1px solid #dddddd'>False</td></tr><tr><td style='border: 1px solid #dddddd'>08f25c71-3dc6-4be9-98df-54a423199a07</td><td style='border: 1px solid #dddddd'>AIOS Spark Credit Risk model xFg</td><td style='border: 1px solid #dddddd'>2019-10-10T13:56:12.216Z</td><td style='border: 1px solid #dddddd'>model</td><td style='border: 1px solid #dddddd'>mllib-2.3</td><td style='border: 1px solid #dddddd'>a73bf76d-a663-448a-b771-4f651f73d54e</td><td style='border: 1px solid #dddddd'>False</td></tr><tr><td style='border: 1px solid #dddddd'>69724866-bd8e-4f84-855f-49aeb2cce62b</td><td style='border: 1px solid #dddddd'>Spark German Risk Model - Scikit</td><td style='border: 1px solid #dddddd'>2019-09-27T07:54:59.048Z</td><td style='border: 1px solid #dddddd'>model</td><td style='border: 1px solid #dddddd'>scikit-learn-0.20</td><td style='border: 1px solid #dddddd'>a73bf76d-a663-448a-b771-4f651f73d54e</td><td style='border: 1px solid #dddddd'>False</td></tr><tr><td style='border: 1px solid #dddddd'>ee1a3b56-756b-4262-8452-a5eefaaf1a6c</td><td style='border: 1px solid #dddddd'>AIOS Spark German Risk model drift</td><td style='border: 1px solid #dddddd'>2019-09-16T08:50:26.056Z</td><td style='border: 1px solid #dddddd'>model</td><td style='border: 1px solid #dddddd'>mllib-2.3</td><td style='border: 1px solid #dddddd'>a73bf76d-a663-448a-b771-4f651f73d54e</td><td style='border: 1px solid #dddddd'>False</td></tr><tr><td style='border: 1px solid #dddddd'>175c7388-df34-488f-9dd8-63357818f9ef</td><td style='border: 1px solid #dddddd'>AIOS Spark German Risk model</td><td style='border: 1px solid #dddddd'>2019-09-13T12:48:30.603Z</td><td style='border: 1px solid #dddddd'>model</td><td style='border: 1px solid #dddddd'>mllib-2.3</td><td style='border: 1px solid #dddddd'>a73bf76d-a663-448a-b771-4f651f73d54e</td><td style='border: 1px solid #dddddd'>False</td></tr><tr><td style='border: 1px solid #dddddd'>b66a65f6-b1a9-4c85-97c5-004072847a6f</td><td style='border: 1px solid #dddddd'>BID_detector_CIFAR10</td><td style='border: 1px solid #dddddd'>2019-07-01T00:28:47.752Z</td><td style='border: 1px solid #dddddd'>model</td><td style='border: 1px solid #dddddd'>tensorflow-1.11</td><td style='border: 1px solid #dddddd'>a4729971-8653-4aae-a7ab-624185056799</td><td style='border: 1px solid #dddddd'>False</td></tr><tr><td style='border: 1px solid #dddddd'>f81bf4f9-9877-49b2-b400-b3de965d12e7</td><td style='border: 1px solid #dddddd'>Image-classifier</td><td style='border: 1px solid #dddddd'>2019-06-28T07:02:53.259Z</td><td style='border: 1px solid #dddddd'>model</td><td style='border: 1px solid #dddddd'>tensorflow-1.11</td><td style='border: 1px solid #dddddd'>a4729971-8653-4aae-a7ab-624185056799</td><td style='border: 1px solid #dddddd'>False</td></tr>\n            </table>\n        </body>\n        </HTML>",
                        "text/plain": "<IPython.core.display.HTML object>"
                    },
                    "metadata": {},
                    "output_type": "display_data"
                }
            ],
            "source": "ai_client.data_mart.bindings.list_assets()"
        },
        {
            "cell_type": "markdown",
            "metadata": {},
            "source": "## Subscriptions"
        },
        {
            "cell_type": "markdown",
            "metadata": {},
            "source": "### Remove existing credit risk subscriptions"
        },
        {
            "cell_type": "markdown",
            "metadata": {},
            "source": "This code removes previous subscriptions to the German Credit model to refresh the monitors with the new model and new data."
        },
        {
            "cell_type": "code",
            "execution_count": 40,
            "metadata": {
                "scrolled": true
            },
            "outputs": [
                {
                    "name": "stdout",
                    "output_type": "stream",
                    "text": "Deleted existing subscription for Spark German Risk Model - Final\n"
                }
            ],
            "source": "subscriptions_uids = ai_client.data_mart.subscriptions.get_uids()\nfor subscription in subscriptions_uids:\n    sub_name = ai_client.data_mart.subscriptions.get_details(subscription)['entity']['asset']['name']\n    if sub_name == MODEL_NAME:\n        ai_client.data_mart.subscriptions.delete(subscription)\n        print('Deleted existing subscription for', MODEL_NAME)"
        },
        {
            "cell_type": "markdown",
            "metadata": {},
            "source": "This code creates the model subscription in OpenScale using the Python client API. Note that we need to provide the model unique identifier, and some information about the model itself."
        },
        {
            "cell_type": "code",
            "execution_count": 41,
            "metadata": {
                "scrolled": false
            },
            "outputs": [],
            "source": "subscription = ai_client.data_mart.subscriptions.add(WatsonMachineLearningAsset(\n    model_uid,\n    problem_type=ProblemType.BINARY_CLASSIFICATION,\n    input_data_type=InputDataType.STRUCTURED,\n    label_column='Risk',\n    prediction_column='predictedLabel',\n    probability_column='probability',\n    transaction_id_column='transaction_id',\n    feature_columns = [\"CheckingStatus\",\"LoanDuration\",\"CreditHistory\",\"LoanPurpose\",\"LoanAmount\",\"ExistingSavings\",\"EmploymentDuration\",\"InstallmentPercent\",\"Sex\",\"OthersOnLoan\",\"CurrentResidenceDuration\",\"OwnsProperty\",\"Age\",\"InstallmentPlans\",\"Housing\",\"ExistingCreditsCount\",\"Job\",\"Dependents\",\"Telephone\",\"ForeignWorker\"],\n    categorical_columns = [\"CheckingStatus\",\"CreditHistory\",\"LoanPurpose\",\"ExistingSavings\",\"EmploymentDuration\",\"Sex\",\"OthersOnLoan\",\"OwnsProperty\",\"InstallmentPlans\",\"Housing\",\"Job\",\"Telephone\",\"ForeignWorker\"]\n))\n\nif subscription is None:\n    print('Subscription already exists; get the existing one')\n    subscriptions_uids = ai_client.data_mart.subscriptions.get_uids()\n    for sub in subscriptions_uids:\n        if ai_client.data_mart.subscriptions.get_details(sub)['entity']['asset']['name'] == MODEL_NAME:\n            subscription = ai_client.data_mart.subscriptions.get(sub)"
        },
        {
            "cell_type": "markdown",
            "metadata": {},
            "source": "Get subscription list"
        },
        {
            "cell_type": "code",
            "execution_count": 42,
            "metadata": {
                "scrolled": true
            },
            "outputs": [
                {
                    "data": {
                        "text/html": "<HTML>\n        <body>\n            <h3>Subscriptions</h3>\n            <table style='border: 1px solid #dddddd; font-family: Courier'>\n                <th style='border: 1px solid #dddddd'>uid</th><th style='border: 1px solid #dddddd'>name</th><th style='border: 1px solid #dddddd'>type</th><th style='border: 1px solid #dddddd'>binding_uid</th><th style='border: 1px solid #dddddd'>created</th>\n                <tr><td style='border: 1px solid #dddddd'>bc1c9816-c845-4f08-8e6f-2e778eeb5943</td><td style='border: 1px solid #dddddd'>Spark German Risk Model - Final</td><td style='border: 1px solid #dddddd'>model</td><td style='border: 1px solid #dddddd'>a73bf76d-a663-448a-b771-4f651f73d54e</td><td style='border: 1px solid #dddddd'>2019-12-02T09:45:29.353Z</td></tr><tr><td style='border: 1px solid #dddddd'>b672adba-f877-419d-aa54-b1496a289732</td><td style='border: 1px solid #dddddd'>AIOS Spark Credit Risk model xFg</td><td style='border: 1px solid #dddddd'>model</td><td style='border: 1px solid #dddddd'>d838c8c6-6efd-4902-ab0d-0160122a70ac</td><td style='border: 1px solid #dddddd'>2019-11-29T14:10:19.419Z</td></tr><tr><td style='border: 1px solid #dddddd'>a8e0293e-86f2-4e13-b080-df739cdca3d7</td><td style='border: 1px solid #dddddd'>AIOS Spark Credit Risk model xFg</td><td style='border: 1px solid #dddddd'>model</td><td style='border: 1px solid #dddddd'>d838c8c6-6efd-4902-ab0d-0160122a70ac</td><td style='border: 1px solid #dddddd'>2019-11-29T12:25:07.577Z</td></tr><tr><td style='border: 1px solid #dddddd'>967c725d-57fa-4898-a7c0-85c83826e3b0</td><td style='border: 1px solid #dddddd'>AIOS Spark Credit Risk model xFg</td><td style='border: 1px solid #dddddd'>model</td><td style='border: 1px solid #dddddd'>d838c8c6-6efd-4902-ab0d-0160122a70ac</td><td style='border: 1px solid #dddddd'>2019-11-29T11:39:50.839Z</td></tr>\n            </table>\n        </body>\n        </HTML>",
                        "text/plain": "<IPython.core.display.HTML object>"
                    },
                    "metadata": {},
                    "output_type": "display_data"
                }
            ],
            "source": "subscriptions_uids = ai_client.data_mart.subscriptions.get_uids()\nai_client.data_mart.subscriptions.list()"
        },
        {
            "cell_type": "code",
            "execution_count": 43,
            "metadata": {
                "scrolled": false
            },
            "outputs": [],
            "source": "subscription_details = subscription.get_details()"
        },
        {
            "cell_type": "code",
            "execution_count": 44,
            "metadata": {},
            "outputs": [
                {
                    "data": {
                        "text/plain": "'bc1c9816-c845-4f08-8e6f-2e778eeb5943'"
                    },
                    "execution_count": 44,
                    "metadata": {},
                    "output_type": "execute_result"
                }
            ],
            "source": "subscription.uid"
        },
        {
            "cell_type": "markdown",
            "metadata": {},
            "source": "### Score the model so we can configure monitors"
        },
        {
            "cell_type": "markdown",
            "metadata": {},
            "source": "Now that the WML service has been bound and the subscription has been created, we need to send a request to the model before we configure OpenScale. This allows OpenScale to create a payload log in the datamart with the correct schema, so it can capture data coming into and out of the model. First, the code gets the model deployment's endpoint URL, and then sends a few records for predictions."
        },
        {
            "cell_type": "code",
            "execution_count": 45,
            "metadata": {
                "scrolled": true
            },
            "outputs": [
                {
                    "name": "stdout",
                    "output_type": "stream",
                    "text": "58235d63-f4f4-49fb-ae30-5d90cfb67c93\nhttps://us-south.ml.cloud.ibm.com/v3/wml_instances/a73bf76d-a663-448a-b771-4f651f73d54e/deployments/58235d63-f4f4-49fb-ae30-5d90cfb67c93/online\n"
                }
            ],
            "source": "credit_risk_scoring_endpoint = None\nprint(deployment_uid)\n\nfor deployment in wml_client.deployments.get_details()['resources']:\n    if deployment_uid in deployment['metadata']['guid']:\n        credit_risk_scoring_endpoint = deployment['entity']['scoring_url']\n        \nprint(credit_risk_scoring_endpoint)"
        },
        {
            "cell_type": "code",
            "execution_count": 46,
            "metadata": {
                "scrolled": true
            },
            "outputs": [
                {
                    "name": "stdout",
                    "output_type": "stream",
                    "text": "Single record scoring result: \n fields: ['CheckingStatus', 'LoanDuration', 'CreditHistory', 'LoanPurpose', 'LoanAmount', 'ExistingSavings', 'EmploymentDuration', 'InstallmentPercent', 'Sex', 'OthersOnLoan', 'CurrentResidenceDuration', 'OwnsProperty', 'Age', 'InstallmentPlans', 'Housing', 'ExistingCreditsCount', 'Job', 'Dependents', 'Telephone', 'ForeignWorker', 'CheckingStatus_IX', 'CreditHistory_IX', 'EmploymentDuration_IX', 'ExistingSavings_IX', 'ForeignWorker_IX', 'Housing_IX', 'InstallmentPlans_IX', 'Job_IX', 'LoanPurpose_IX', 'OthersOnLoan_IX', 'OwnsProperty_IX', 'Sex_IX', 'Telephone_IX', 'features', 'rawPrediction', 'probability', 'prediction', 'predictedLabel'] \n values:  ['no_checking', 13, 'credits_paid_to_date', 'car_new', 1343, '100_to_500', '1_to_4', 2, 'female', 'none', 3, 'savings_insurance', 46, 'none', 'own', 2, 'skilled', 1, 'none', 'yes', 0.0, 1.0, 0.0, 1.0, 0.0, 0.0, 0.0, 0.0, 0.0, 0.0, 0.0, 1.0, 0.0, [21, [1, 3, 5, 13, 14, 15, 16, 17, 18, 19, 20], [1.0, 1.0, 1.0, 13.0, 1343.0, 2.0, 3.0, 13.0, 46.0, 2.0, 1.0]], [14.605454920235635, 5.394545079764367], [0.7302727460117817, 0.26972725398821834], 0.0, 'No Risk']\n"
                }
            ],
            "source": "fields = [\"CheckingStatus\",\"LoanDuration\",\"CreditHistory\",\"LoanPurpose\",\"LoanAmount\",\"ExistingSavings\",\"EmploymentDuration\",\"InstallmentPercent\",\"Sex\",\"OthersOnLoan\",\"CurrentResidenceDuration\",\"OwnsProperty\",\"Age\",\"InstallmentPlans\",\"Housing\",\"ExistingCreditsCount\",\"Job\",\"Dependents\",\"Telephone\",\"ForeignWorker\"]\nvalues = [\n  [\"no_checking\",13,\"credits_paid_to_date\",\"car_new\",1343,\"100_to_500\",\"1_to_4\",2,\"female\",\"none\",3,\"savings_insurance\",46,\"none\",\"own\",2,\"skilled\",1,\"none\",\"yes\"],\n  [\"no_checking\",24,\"prior_payments_delayed\",\"furniture\",4567,\"500_to_1000\",\"1_to_4\",4,\"male\",\"none\",4,\"savings_insurance\",36,\"none\",\"free\",2,\"management_self-employed\",1,\"none\",\"yes\"],\n  [\"0_to_200\",26,\"all_credits_paid_back\",\"car_new\",863,\"less_100\",\"less_1\",2,\"female\",\"co-applicant\",2,\"real_estate\",38,\"none\",\"own\",1,\"skilled\",1,\"none\",\"yes\"],\n  [\"0_to_200\",14,\"no_credits\",\"car_new\",2368,\"less_100\",\"1_to_4\",3,\"female\",\"none\",3,\"real_estate\",29,\"none\",\"own\",1,\"skilled\",1,\"none\",\"yes\"],\n  [\"0_to_200\",4,\"no_credits\",\"car_new\",250,\"less_100\",\"unemployed\",2,\"female\",\"none\",3,\"real_estate\",23,\"none\",\"rent\",1,\"management_self-employed\",1,\"none\",\"yes\"],\n  [\"no_checking\",17,\"credits_paid_to_date\",\"car_new\",832,\"100_to_500\",\"1_to_4\",2,\"male\",\"none\",2,\"real_estate\",42,\"none\",\"own\",1,\"skilled\",1,\"none\",\"yes\"],\n  [\"no_checking\",33,\"outstanding_credit\",\"appliances\",5696,\"unknown\",\"greater_7\",4,\"male\",\"co-applicant\",4,\"unknown\",54,\"none\",\"free\",2,\"skilled\",1,\"yes\",\"yes\"],\n  [\"0_to_200\",13,\"prior_payments_delayed\",\"retraining\",1375,\"100_to_500\",\"4_to_7\",3,\"male\",\"none\",3,\"real_estate\",37,\"none\",\"own\",2,\"management_self-employed\",1,\"none\",\"yes\"]\n]\n\npayload_scoring = {\"fields\": fields,\"values\": values}\nscoring_response = wml_client.deployments.score(credit_risk_scoring_endpoint, payload_scoring)\n\nprint('Single record scoring result:', '\\n fields:', scoring_response['fields'], '\\n values: ', scoring_response['values'][0])"
        },
        {
            "cell_type": "code",
            "execution_count": 47,
            "metadata": {},
            "outputs": [
                {
                    "data": {
                        "text/plain": "8"
                    },
                    "execution_count": 47,
                    "metadata": {},
                    "output_type": "execute_result"
                }
            ],
            "source": "time.sleep(10)\nsubscription.payload_logging.get_records_count()"
        },
        {
            "cell_type": "markdown",
            "metadata": {},
            "source": "# Quality monitoring and feedback logging <a name=\"quality\"></a>"
        },
        {
            "cell_type": "markdown",
            "metadata": {},
            "source": "## Enable quality monitoring"
        },
        {
            "cell_type": "markdown",
            "metadata": {},
            "source": "The code below waits ten seconds to allow the payload logging table to be set up before it begins enabling monitors. First, it turns on the quality (accuracy) monitor and sets an alert threshold of 70%. OpenScale will show an alert on the dashboard if the model accuracy measurement (area under the curve, in the case of a binary classifier) falls below this threshold.\n\nThe second paramater supplied, min_records, specifies the minimum number of feedback records OpenScale needs before it calculates a new measurement. The quality monitor runs hourly, but the accuracy reading in the dashboard will not change until an additional 50 feedback records have been added, via the user interface, the Python client, or the supplied feedback endpoint."
        },
        {
            "cell_type": "code",
            "execution_count": 48,
            "metadata": {
                "scrolled": true
            },
            "outputs": [],
            "source": "time.sleep(10)\nsubscription.quality_monitoring.enable(threshold=0.7, min_records=50)"
        },
        {
            "cell_type": "markdown",
            "metadata": {},
            "source": "## Feedback logging"
        },
        {
            "cell_type": "markdown",
            "metadata": {},
            "source": "The code below downloads and stores enough feedback data to meet the minimum threshold so that OpenScale can calculate a new accuracy measurement. It then kicks off the accuracy monitor. The monitors run hourly, or can be initiated via the Python API, the REST API, or the graphical user interface."
        },
        {
            "cell_type": "code",
            "execution_count": 49,
            "metadata": {},
            "outputs": [
                {
                    "name": "stdout",
                    "output_type": "stream",
                    "text": "-rw-r--r-- 1 spark 4294967294 17K Dec  2 09:49 additional_feedback_data.json\r\n"
                }
            ],
            "source": "with io.capture_output() as captured:\n    !wget https://raw.githubusercontent.com/pmservice/ai-openscale-tutorials/master/assets/historical_data/german_credit_risk/wml/additional_feedback_data.json -O additional_feedback_data.json\n!ls -lh additional_feedback_data.json"
        },
        {
            "cell_type": "code",
            "execution_count": 50,
            "metadata": {},
            "outputs": [],
            "source": "with open('additional_feedback_data.json') as feedback_file:\n    additional_feedback_data = json.load(feedback_file)\n    \nsubscription.feedback_logging.store(additional_feedback_data['data'])"
        },
        {
            "cell_type": "code",
            "execution_count": 51,
            "metadata": {
                "scrolled": true
            },
            "outputs": [
                {
                    "data": {
                        "text/html": "<HTML>\n        <body>\n            <h3>Feedback_bc1c9816-c845-4f08-8e6f-2e778eeb5943 (binding_id=a73bf76d-a663-448a-b771-4f651f73d54e, subscription_id=bc1c9816-c845-4f08-8e6f-2e778eeb5943)</h3>\n            <table style='border: 1px solid #dddddd; font-family: Courier'>\n                <th style='border: 1px solid #dddddd'>CheckingStatus</th><th style='border: 1px solid #dddddd'>LoanDuration</th><th style='border: 1px solid #dddddd'>CreditHistory</th><th style='border: 1px solid #dddddd'>LoanPurpose</th><th style='border: 1px solid #dddddd'>LoanAmount</th><th style='border: 1px solid #dddddd'>ExistingSavings</th><th style='border: 1px solid #dddddd'>EmploymentDuration</th><th style='border: 1px solid #dddddd'>InstallmentPercent</th><th style='border: 1px solid #dddddd'>Sex</th><th style='border: 1px solid #dddddd'>OthersOnLoan</th><th style='border: 1px solid #dddddd'>CurrentResidenceDuration</th><th style='border: 1px solid #dddddd'>OwnsProperty</th><th style='border: 1px solid #dddddd'>Age</th><th style='border: 1px solid #dddddd'>InstallmentPlans</th><th style='border: 1px solid #dddddd'>Housing</th><th style='border: 1px solid #dddddd'>ExistingCreditsCount</th><th style='border: 1px solid #dddddd'>Job</th><th style='border: 1px solid #dddddd'>Dependents</th><th style='border: 1px solid #dddddd'>Telephone</th><th style='border: 1px solid #dddddd'>ForeignWorker</th><th style='border: 1px solid #dddddd'>Risk</th><th style='border: 1px solid #dddddd'>_training</th>\n                <tr><td style='border: 1px solid #dddddd'>less_0</td><td style='border: 1px solid #dddddd'>10</td><td style='border: 1px solid #dddddd'>all_credits_paid_back</td><td style='border: 1px solid #dddddd'>car_new</td><td style='border: 1px solid #dddddd'>250</td><td style='border: 1px solid #dddddd'>500_to_1000</td><td style='border: 1px solid #dddddd'>4_to_7</td><td style='border: 1px solid #dddddd'>3</td><td style='border: 1px solid #dddddd'>male</td><td style='border: 1px solid #dddddd'>none</td><td style='border: 1px solid #dddddd'>2</td><td style='border: 1px solid #dddddd'>real_estate</td><td style='border: 1px solid #dddddd'>23</td><td style='border: 1px solid #dddddd'>none</td><td style='border: 1px solid #dddddd'>rent</td><td style='border: 1px solid #dddddd'>1</td><td style='border: 1px solid #dddddd'>skilled</td><td style='border: 1px solid #dddddd'>1</td><td style='border: 1px solid #dddddd'>none</td><td style='border: 1px solid #dddddd'>yes</td><td style='border: 1px solid #dddddd'>No Risk</td><td style='border: 1px solid #dddddd'>2019-12-02 09:49:45.890419+00:00</td></tr><tr><td style='border: 1px solid #dddddd'>no_checking</td><td style='border: 1px solid #dddddd'>23</td><td style='border: 1px solid #dddddd'>prior_payments_delayed</td><td style='border: 1px solid #dddddd'>appliances</td><td style='border: 1px solid #dddddd'>6964</td><td style='border: 1px solid #dddddd'>100_to_500</td><td style='border: 1px solid #dddddd'>4_to_7</td><td style='border: 1px solid #dddddd'>4</td><td style='border: 1px solid #dddddd'>female</td><td style='border: 1px solid #dddddd'>none</td><td style='border: 1px solid #dddddd'>3</td><td style='border: 1px solid #dddddd'>car_other</td><td style='border: 1px solid #dddddd'>39</td><td style='border: 1px solid #dddddd'>none</td><td style='border: 1px solid #dddddd'>own</td><td style='border: 1px solid #dddddd'>1</td><td style='border: 1px solid #dddddd'>skilled</td><td style='border: 1px solid #dddddd'>1</td><td style='border: 1px solid #dddddd'>none</td><td style='border: 1px solid #dddddd'>yes</td><td style='border: 1px solid #dddddd'>Risk</td><td style='border: 1px solid #dddddd'>2019-12-02 09:49:45.890419+00:00</td></tr><tr><td style='border: 1px solid #dddddd'>0_to_200</td><td style='border: 1px solid #dddddd'>30</td><td style='border: 1px solid #dddddd'>outstanding_credit</td><td style='border: 1px solid #dddddd'>appliances</td><td style='border: 1px solid #dddddd'>3464</td><td style='border: 1px solid #dddddd'>100_to_500</td><td style='border: 1px solid #dddddd'>greater_7</td><td style='border: 1px solid #dddddd'>3</td><td style='border: 1px solid #dddddd'>male</td><td style='border: 1px solid #dddddd'>guarantor</td><td style='border: 1px solid #dddddd'>4</td><td style='border: 1px solid #dddddd'>savings_insurance</td><td style='border: 1px solid #dddddd'>51</td><td style='border: 1px solid #dddddd'>stores</td><td style='border: 1px solid #dddddd'>free</td><td style='border: 1px solid #dddddd'>1</td><td style='border: 1px solid #dddddd'>skilled</td><td style='border: 1px solid #dddddd'>1</td><td style='border: 1px solid #dddddd'>yes</td><td style='border: 1px solid #dddddd'>yes</td><td style='border: 1px solid #dddddd'>Risk</td><td style='border: 1px solid #dddddd'>2019-12-02 09:49:45.890419+00:00</td></tr><tr><td style='border: 1px solid #dddddd'>no_checking</td><td style='border: 1px solid #dddddd'>23</td><td style='border: 1px solid #dddddd'>outstanding_credit</td><td style='border: 1px solid #dddddd'>car_used</td><td style='border: 1px solid #dddddd'>2681</td><td style='border: 1px solid #dddddd'>500_to_1000</td><td style='border: 1px solid #dddddd'>greater_7</td><td style='border: 1px solid #dddddd'>4</td><td style='border: 1px solid #dddddd'>male</td><td style='border: 1px solid #dddddd'>none</td><td style='border: 1px solid #dddddd'>3</td><td style='border: 1px solid #dddddd'>car_other</td><td style='border: 1px solid #dddddd'>33</td><td style='border: 1px solid #dddddd'>stores</td><td style='border: 1px solid #dddddd'>free</td><td style='border: 1px solid #dddddd'>1</td><td style='border: 1px solid #dddddd'>unskilled</td><td style='border: 1px solid #dddddd'>1</td><td style='border: 1px solid #dddddd'>yes</td><td style='border: 1px solid #dddddd'>yes</td><td style='border: 1px solid #dddddd'>No Risk</td><td style='border: 1px solid #dddddd'>2019-12-02 09:49:45.890419+00:00</td></tr><tr><td style='border: 1px solid #dddddd'>0_to_200</td><td style='border: 1px solid #dddddd'>18</td><td style='border: 1px solid #dddddd'>prior_payments_delayed</td><td style='border: 1px solid #dddddd'>furniture</td><td style='border: 1px solid #dddddd'>1673</td><td style='border: 1px solid #dddddd'>less_100</td><td style='border: 1px solid #dddddd'>1_to_4</td><td style='border: 1px solid #dddddd'>2</td><td style='border: 1px solid #dddddd'>male</td><td style='border: 1px solid #dddddd'>none</td><td style='border: 1px solid #dddddd'>3</td><td style='border: 1px solid #dddddd'>car_other</td><td style='border: 1px solid #dddddd'>30</td><td style='border: 1px solid #dddddd'>none</td><td style='border: 1px solid #dddddd'>own</td><td style='border: 1px solid #dddddd'>2</td><td style='border: 1px solid #dddddd'>skilled</td><td style='border: 1px solid #dddddd'>1</td><td style='border: 1px solid #dddddd'>none</td><td style='border: 1px solid #dddddd'>yes</td><td style='border: 1px solid #dddddd'>Risk</td><td style='border: 1px solid #dddddd'>2019-12-02 09:49:45.890419+00:00</td></tr><tr><td style='border: 1px solid #dddddd'>no_checking</td><td style='border: 1px solid #dddddd'>44</td><td style='border: 1px solid #dddddd'>outstanding_credit</td><td style='border: 1px solid #dddddd'>radio_tv</td><td style='border: 1px solid #dddddd'>3476</td><td style='border: 1px solid #dddddd'>unknown</td><td style='border: 1px solid #dddddd'>greater_7</td><td style='border: 1px solid #dddddd'>4</td><td style='border: 1px solid #dddddd'>male</td><td style='border: 1px solid #dddddd'>co-applicant</td><td style='border: 1px solid #dddddd'>4</td><td style='border: 1px solid #dddddd'>unknown</td><td style='border: 1px solid #dddddd'>60</td><td style='border: 1px solid #dddddd'>none</td><td style='border: 1px solid #dddddd'>free</td><td style='border: 1px solid #dddddd'>2</td><td style='border: 1px solid #dddddd'>skilled</td><td style='border: 1px solid #dddddd'>2</td><td style='border: 1px solid #dddddd'>yes</td><td style='border: 1px solid #dddddd'>yes</td><td style='border: 1px solid #dddddd'>Risk</td><td style='border: 1px solid #dddddd'>2019-12-02 09:49:45.890419+00:00</td></tr><tr><td style='border: 1px solid #dddddd'>less_0</td><td style='border: 1px solid #dddddd'>8</td><td style='border: 1px solid #dddddd'>no_credits</td><td style='border: 1px solid #dddddd'>education</td><td style='border: 1px solid #dddddd'>803</td><td style='border: 1px solid #dddddd'>less_100</td><td style='border: 1px solid #dddddd'>unemployed</td><td style='border: 1px solid #dddddd'>1</td><td style='border: 1px solid #dddddd'>male</td><td style='border: 1px solid #dddddd'>none</td><td style='border: 1px solid #dddddd'>1</td><td style='border: 1px solid #dddddd'>savings_insurance</td><td style='border: 1px solid #dddddd'>19</td><td style='border: 1px solid #dddddd'>stores</td><td style='border: 1px solid #dddddd'>rent</td><td style='border: 1px solid #dddddd'>1</td><td style='border: 1px solid #dddddd'>skilled</td><td style='border: 1px solid #dddddd'>1</td><td style='border: 1px solid #dddddd'>none</td><td style='border: 1px solid #dddddd'>yes</td><td style='border: 1px solid #dddddd'>No Risk</td><td style='border: 1px solid #dddddd'>2019-12-02 09:49:45.890419+00:00</td></tr><tr><td style='border: 1px solid #dddddd'>0_to_200</td><td style='border: 1px solid #dddddd'>7</td><td style='border: 1px solid #dddddd'>all_credits_paid_back</td><td style='border: 1px solid #dddddd'>car_new</td><td style='border: 1px solid #dddddd'>250</td><td style='border: 1px solid #dddddd'>less_100</td><td style='border: 1px solid #dddddd'>unemployed</td><td style='border: 1px solid #dddddd'>1</td><td style='border: 1px solid #dddddd'>male</td><td style='border: 1px solid #dddddd'>none</td><td style='border: 1px solid #dddddd'>1</td><td style='border: 1px solid #dddddd'>real_estate</td><td style='border: 1px solid #dddddd'>19</td><td style='border: 1px solid #dddddd'>stores</td><td style='border: 1px solid #dddddd'>rent</td><td style='border: 1px solid #dddddd'>1</td><td style='border: 1px solid #dddddd'>skilled</td><td style='border: 1px solid #dddddd'>1</td><td style='border: 1px solid #dddddd'>none</td><td style='border: 1px solid #dddddd'>yes</td><td style='border: 1px solid #dddddd'>No Risk</td><td style='border: 1px solid #dddddd'>2019-12-02 09:49:45.890419+00:00</td></tr><tr><td style='border: 1px solid #dddddd'>0_to_200</td><td style='border: 1px solid #dddddd'>33</td><td style='border: 1px solid #dddddd'>credits_paid_to_date</td><td style='border: 1px solid #dddddd'>radio_tv</td><td style='border: 1px solid #dddddd'>3548</td><td style='border: 1px solid #dddddd'>100_to_500</td><td style='border: 1px solid #dddddd'>1_to_4</td><td style='border: 1px solid #dddddd'>3</td><td style='border: 1px solid #dddddd'>male</td><td style='border: 1px solid #dddddd'>none</td><td style='border: 1px solid #dddddd'>4</td><td style='border: 1px solid #dddddd'>car_other</td><td style='border: 1px solid #dddddd'>28</td><td style='border: 1px solid #dddddd'>none</td><td style='border: 1px solid #dddddd'>own</td><td style='border: 1px solid #dddddd'>2</td><td style='border: 1px solid #dddddd'>skilled</td><td style='border: 1px solid #dddddd'>1</td><td style='border: 1px solid #dddddd'>yes</td><td style='border: 1px solid #dddddd'>yes</td><td style='border: 1px solid #dddddd'>Risk</td><td style='border: 1px solid #dddddd'>2019-12-02 09:49:45.890419+00:00</td></tr><tr><td style='border: 1px solid #dddddd'>no_checking</td><td style='border: 1px solid #dddddd'>24</td><td style='border: 1px solid #dddddd'>prior_payments_delayed</td><td style='border: 1px solid #dddddd'>retraining</td><td style='border: 1px solid #dddddd'>4158</td><td style='border: 1px solid #dddddd'>100_to_500</td><td style='border: 1px solid #dddddd'>greater_7</td><td style='border: 1px solid #dddddd'>3</td><td style='border: 1px solid #dddddd'>female</td><td style='border: 1px solid #dddddd'>none</td><td style='border: 1px solid #dddddd'>2</td><td style='border: 1px solid #dddddd'>savings_insurance</td><td style='border: 1px solid #dddddd'>35</td><td style='border: 1px solid #dddddd'>stores</td><td style='border: 1px solid #dddddd'>own</td><td style='border: 1px solid #dddddd'>1</td><td style='border: 1px solid #dddddd'>unskilled</td><td style='border: 1px solid #dddddd'>2</td><td style='border: 1px solid #dddddd'>none</td><td style='border: 1px solid #dddddd'>yes</td><td style='border: 1px solid #dddddd'>Risk</td><td style='border: 1px solid #dddddd'>2019-12-02 09:49:45.890419+00:00</td></tr>\n            </table>\n        </body>\n        </HTML>",
                        "text/plain": "<IPython.core.display.HTML object>"
                    },
                    "metadata": {},
                    "output_type": "display_data"
                }
            ],
            "source": "subscription.feedback_logging.show_table()"
        },
        {
            "cell_type": "code",
            "execution_count": 58,
            "metadata": {
                "scrolled": true
            },
            "outputs": [
                {
                    "name": "stdout",
                    "output_type": "stream",
                    "text": "\n\n================================================================================\n\n Waiting for end of quality monitoring run 58378e51-6373-4287-89fd-a301a744d3ff \n\n================================================================================\n\n\n\ninitializing\ncompleted\n\n---------------------------\n Successfully finished run \n---------------------------\n\n\n"
                }
            ],
            "source": "run_details = subscription.quality_monitoring.run(background_mode=False)"
        },
        {
            "cell_type": "code",
            "execution_count": 59,
            "metadata": {
                "scrolled": true
            },
            "outputs": [
                {
                    "data": {
                        "text/html": "<HTML>\n        <body>\n            <h3>QualityMetrics (binding_id=a73bf76d-a663-448a-b771-4f651f73d54e, subscription_id=bc1c9816-c845-4f08-8e6f-2e778eeb5943)</h3>\n            <table style='border: 1px solid #dddddd; font-family: Courier'>\n                <th style='border: 1px solid #dddddd'>ts</th><th style='border: 1px solid #dddddd'>id</th><th style='border: 1px solid #dddddd'>measurement_id</th><th style='border: 1px solid #dddddd'>value</th><th style='border: 1px solid #dddddd'>lower limit</th><th style='border: 1px solid #dddddd'>upper limit</th><th style='border: 1px solid #dddddd'>tags</th><th style='border: 1px solid #dddddd'>binding_id</th><th style='border: 1px solid #dddddd'>subscription_id</th><th style='border: 1px solid #dddddd'>deployment_id</th>\n                <tr><td style='border: 1px solid #dddddd'>2019-12-02 09:51:41.292000+00:00</td><td style='border: 1px solid #dddddd'>true_positive_rate</td><td style='border: 1px solid #dddddd'>2bd4a93e-f09e-4f45-8277-ee89cbe9ece1</td><td style='border: 1px solid #dddddd'>0.3333333333333333</td><td style='border: 1px solid #dddddd'></td><td style='border: 1px solid #dddddd'></td><td style='border: 1px solid #dddddd'>model_type: original</td><td style='border: 1px solid #dddddd'>a73bf76d-a663-448a-b771-4f651f73d54e</td><td style='border: 1px solid #dddddd'>bc1c9816-c845-4f08-8e6f-2e778eeb5943</td><td style='border: 1px solid #dddddd'>58235d63-f4f4-49fb-ae30-5d90cfb67c93</td></tr><tr><td style='border: 1px solid #dddddd'>2019-12-02 09:51:41.292000+00:00</td><td style='border: 1px solid #dddddd'>area_under_roc</td><td style='border: 1px solid #dddddd'>2bd4a93e-f09e-4f45-8277-ee89cbe9ece1</td><td style='border: 1px solid #dddddd'>0.6282051282051282</td><td style='border: 1px solid #dddddd'>0.7</td><td style='border: 1px solid #dddddd'></td><td style='border: 1px solid #dddddd'>model_type: original</td><td style='border: 1px solid #dddddd'>a73bf76d-a663-448a-b771-4f651f73d54e</td><td style='border: 1px solid #dddddd'>bc1c9816-c845-4f08-8e6f-2e778eeb5943</td><td style='border: 1px solid #dddddd'>58235d63-f4f4-49fb-ae30-5d90cfb67c93</td></tr><tr><td style='border: 1px solid #dddddd'>2019-12-02 09:51:41.292000+00:00</td><td style='border: 1px solid #dddddd'>precision</td><td style='border: 1px solid #dddddd'>2bd4a93e-f09e-4f45-8277-ee89cbe9ece1</td><td style='border: 1px solid #dddddd'>0.6875</td><td style='border: 1px solid #dddddd'></td><td style='border: 1px solid #dddddd'></td><td style='border: 1px solid #dddddd'>model_type: original</td><td style='border: 1px solid #dddddd'>a73bf76d-a663-448a-b771-4f651f73d54e</td><td style='border: 1px solid #dddddd'>bc1c9816-c845-4f08-8e6f-2e778eeb5943</td><td style='border: 1px solid #dddddd'>58235d63-f4f4-49fb-ae30-5d90cfb67c93</td></tr><tr><td style='border: 1px solid #dddddd'>2019-12-02 09:51:41.292000+00:00</td><td style='border: 1px solid #dddddd'>f1_measure</td><td style='border: 1px solid #dddddd'>2bd4a93e-f09e-4f45-8277-ee89cbe9ece1</td><td style='border: 1px solid #dddddd'>0.4489795918367347</td><td style='border: 1px solid #dddddd'></td><td style='border: 1px solid #dddddd'></td><td style='border: 1px solid #dddddd'>model_type: original</td><td style='border: 1px solid #dddddd'>a73bf76d-a663-448a-b771-4f651f73d54e</td><td style='border: 1px solid #dddddd'>bc1c9816-c845-4f08-8e6f-2e778eeb5943</td><td style='border: 1px solid #dddddd'>58235d63-f4f4-49fb-ae30-5d90cfb67c93</td></tr><tr><td style='border: 1px solid #dddddd'>2019-12-02 09:51:41.292000+00:00</td><td style='border: 1px solid #dddddd'>accuracy</td><td style='border: 1px solid #dddddd'>2bd4a93e-f09e-4f45-8277-ee89cbe9ece1</td><td style='border: 1px solid #dddddd'>0.7244897959183674</td><td style='border: 1px solid #dddddd'></td><td style='border: 1px solid #dddddd'></td><td style='border: 1px solid #dddddd'>model_type: original</td><td style='border: 1px solid #dddddd'>a73bf76d-a663-448a-b771-4f651f73d54e</td><td style='border: 1px solid #dddddd'>bc1c9816-c845-4f08-8e6f-2e778eeb5943</td><td style='border: 1px solid #dddddd'>58235d63-f4f4-49fb-ae30-5d90cfb67c93</td></tr><tr><td style='border: 1px solid #dddddd'>2019-12-02 09:51:41.292000+00:00</td><td style='border: 1px solid #dddddd'>log_loss</td><td style='border: 1px solid #dddddd'>2bd4a93e-f09e-4f45-8277-ee89cbe9ece1</td><td style='border: 1px solid #dddddd'>0.44190073386090284</td><td style='border: 1px solid #dddddd'></td><td style='border: 1px solid #dddddd'></td><td style='border: 1px solid #dddddd'>model_type: original</td><td style='border: 1px solid #dddddd'>a73bf76d-a663-448a-b771-4f651f73d54e</td><td style='border: 1px solid #dddddd'>bc1c9816-c845-4f08-8e6f-2e778eeb5943</td><td style='border: 1px solid #dddddd'>58235d63-f4f4-49fb-ae30-5d90cfb67c93</td></tr><tr><td style='border: 1px solid #dddddd'>2019-12-02 09:51:41.292000+00:00</td><td style='border: 1px solid #dddddd'>false_positive_rate</td><td style='border: 1px solid #dddddd'>2bd4a93e-f09e-4f45-8277-ee89cbe9ece1</td><td style='border: 1px solid #dddddd'>0.07692307692307693</td><td style='border: 1px solid #dddddd'></td><td style='border: 1px solid #dddddd'></td><td style='border: 1px solid #dddddd'>model_type: original</td><td style='border: 1px solid #dddddd'>a73bf76d-a663-448a-b771-4f651f73d54e</td><td style='border: 1px solid #dddddd'>bc1c9816-c845-4f08-8e6f-2e778eeb5943</td><td style='border: 1px solid #dddddd'>58235d63-f4f4-49fb-ae30-5d90cfb67c93</td></tr><tr><td style='border: 1px solid #dddddd'>2019-12-02 09:51:41.292000+00:00</td><td style='border: 1px solid #dddddd'>area_under_pr</td><td style='border: 1px solid #dddddd'>2bd4a93e-f09e-4f45-8277-ee89cbe9ece1</td><td style='border: 1px solid #dddddd'>0.5705782312925171</td><td style='border: 1px solid #dddddd'></td><td style='border: 1px solid #dddddd'></td><td style='border: 1px solid #dddddd'>model_type: original</td><td style='border: 1px solid #dddddd'>a73bf76d-a663-448a-b771-4f651f73d54e</td><td style='border: 1px solid #dddddd'>bc1c9816-c845-4f08-8e6f-2e778eeb5943</td><td style='border: 1px solid #dddddd'>58235d63-f4f4-49fb-ae30-5d90cfb67c93</td></tr><tr><td style='border: 1px solid #dddddd'>2019-12-02 09:51:41.292000+00:00</td><td style='border: 1px solid #dddddd'>recall</td><td style='border: 1px solid #dddddd'>2bd4a93e-f09e-4f45-8277-ee89cbe9ece1</td><td style='border: 1px solid #dddddd'>0.3333333333333333</td><td style='border: 1px solid #dddddd'></td><td style='border: 1px solid #dddddd'></td><td style='border: 1px solid #dddddd'>model_type: original</td><td style='border: 1px solid #dddddd'>a73bf76d-a663-448a-b771-4f651f73d54e</td><td style='border: 1px solid #dddddd'>bc1c9816-c845-4f08-8e6f-2e778eeb5943</td><td style='border: 1px solid #dddddd'>58235d63-f4f4-49fb-ae30-5d90cfb67c93</td></tr>\n            </table>\n        </body>\n        </HTML>",
                        "text/plain": "<IPython.core.display.HTML object>"
                    },
                    "metadata": {},
                    "output_type": "display_data"
                }
            ],
            "source": "time.sleep(10)\nsubscription.quality_monitoring.show_table()"
        },
        {
            "cell_type": "code",
            "execution_count": 60,
            "metadata": {},
            "outputs": [
                {
                    "data": {
                        "image/png": "[encoded data removed]",
                        "text/plain": "<Figure size 432x288 with 1 Axes>"
                    },
                    "metadata": {
                        "needs_background": "light"
                    },
                    "output_type": "display_data"
                }
            ],
            "source": "%matplotlib inline\n\nquality_pd = subscription.quality_monitoring.get_table_content(format='pandas')\nquality_pd.plot.barh(x='id', y='value');"
        },
        {
            "cell_type": "markdown",
            "metadata": {},
            "source": "# Fairness, drift monitoring and explanations <a name=\"fairness\"></a>"
        },
        {
            "cell_type": "markdown",
            "metadata": {},
            "source": "### Fairness configuration\n\nThe code below configures fairness monitoring for our model. It turns on monitoring for two features, Sex and Age. In each case, we must specify:\n\n  * Which model feature to monitor\n  * One or more **majority** groups, which are values of that feature that we expect to receive a higher percentage of favorable outcomes\n  * One or more **minority** groups, which are values of that feature that we expect to receive a higher percentage of unfavorable outcomes\n  * The threshold at which we would like OpenScale to display an alert if the fairness measurement falls below (in this case, 95%)\n\nAdditionally, we must specify which outcomes from the model are favourable outcomes, and which are unfavourable. We must also provide the number of records OpenScale will use to calculate the fairness score. In this case, OpenScale's fairness monitor will run hourly, but will not calculate a new fairness rating until at least 200 records have been added. Finally, to calculate fairness, OpenScale must perform some calculations on the training data, so we provide the dataframe containing the data."
        },
        {
            "cell_type": "code",
            "execution_count": 61,
            "metadata": {
                "scrolled": true
            },
            "outputs": [],
            "source": "subscription.fairness_monitoring.enable(\n            features=[\n                Feature(\"Sex\", majority=['male'], minority=['female'], threshold=0.95),\n                Feature(\"Age\", majority=[[26,75]], minority=[[18,25]], threshold=0.95)\n            ],\n            favourable_classes=['No Risk'],\n            unfavourable_classes=['Risk'],\n            min_records=200,\n            training_data=pd_data\n        )"
        },
        {
            "cell_type": "markdown",
            "metadata": {},
            "source": "### Drift configuration"
        },
        {
            "cell_type": "code",
            "execution_count": 62,
            "metadata": {},
            "outputs": [
                {
                    "data": {
                        "text/plain": "{'config_status': {'model_name': None, 'state': 'new'},\n 'data_drift_enabled': True,\n 'drift_threshold': 0.05,\n 'is_schedule_enabled': True,\n 'min_samples': 200,\n 'model_drift_enabled': True,\n 'schedule_repeat_interval': 3,\n 'schedule_repeat_type': 'hour'}"
                    },
                    "execution_count": 62,
                    "metadata": {},
                    "output_type": "execute_result"
                }
            ],
            "source": "subscription.drift_monitoring.enable(threshold=0.05, min_records=200)"
        },
        {
            "cell_type": "code",
            "execution_count": 63,
            "metadata": {
                "scrolled": true
            },
            "outputs": [
                {
                    "name": "stdout",
                    "output_type": "stream",
                    "text": "09:52:52 new\n09:53:22 in_progress\n09:53:52 in_progress\n09:54:23 in_progress\n09:54:53 in_progress\nfinished\n"
                }
            ],
            "source": "drift_status = None\nwhile drift_status != 'finished':\n    drift_details = subscription.drift_monitoring.get_details()\n    drift_status = drift_details['parameters']['config_status']['state']\n    if drift_status != 'finished':\n        print(datetime.utcnow().strftime('%H:%M:%S'), drift_status)\n        time.sleep(30)\nprint(drift_status)"
        },
        {
            "cell_type": "markdown",
            "metadata": {},
            "source": "## Score the model again now that monitoring is configured"
        },
        {
            "cell_type": "markdown",
            "metadata": {},
            "source": "This next section randomly selects 200 records from the data feed and sends those records to the model for predictions. This is enough to exceed the minimum threshold for records set in the previous section, which allows OpenScale to begin calculating fairness."
        },
        {
            "cell_type": "code",
            "execution_count": 64,
            "metadata": {},
            "outputs": [
                {
                    "name": "stdout",
                    "output_type": "stream",
                    "text": "-rw-r--r-- 1 spark 4294967294 3.0M Dec  2 10:11 german_credit_feed.json\r\n"
                }
            ],
            "source": "with io.capture_output() as captured:\n    !wget https://raw.githubusercontent.com/pmservice/ai-openscale-tutorials/master/assets/historical_data/german_credit_risk/wml/german_credit_feed.json -O german_credit_feed.json\n!ls -lh german_credit_feed.json"
        },
        {
            "cell_type": "markdown",
            "metadata": {},
            "source": "Score 200 randomly chosen records"
        },
        {
            "cell_type": "code",
            "execution_count": 69,
            "metadata": {},
            "outputs": [],
            "source": "import random\n\nwith open('german_credit_feed.json', 'r') as scoring_file:\n    scoring_data = json.load(scoring_file)\n\nfields = scoring_data['fields']\nvalues = []\nfor _ in range(200):\n    values.append(random.choice(scoring_data['values']))\npayload_scoring = {\"fields\": fields, \"values\": values}\n\n\nscoring_response = wml_client.deployments.score(credit_risk_scoring_endpoint, payload_scoring)\ntime.sleep(5)"
        },
        {
            "cell_type": "markdown",
            "metadata": {},
            "source": "**Note:** Now in payload table should be total 208 records."
        },
        {
            "cell_type": "code",
            "execution_count": 70,
            "metadata": {},
            "outputs": [
                {
                    "name": "stdout",
                    "output_type": "stream",
                    "text": "Number of records in payload table:  208\n"
                }
            ],
            "source": "print('Number of records in payload table: ', subscription.payload_logging.get_records_count())"
        },
        {
            "cell_type": "markdown",
            "metadata": {},
            "source": "## Run fairness monitor"
        },
        {
            "cell_type": "markdown",
            "metadata": {},
            "source": "Kick off a fairness monitor run on current data. The monitor runs hourly, but can be manually initiated using the Python client, the REST API, or the graphical user interface."
        },
        {
            "cell_type": "code",
            "execution_count": 71,
            "metadata": {
                "scrolled": true
            },
            "outputs": [
                {
                    "name": "stdout",
                    "output_type": "stream",
                    "text": "\n\n=======================================================================\n\n Counting bias for deployment_uid=58235d63-f4f4-49fb-ae30-5d90cfb67c93 \n\n=======================================================================\n\n\n\nRUNNING.....\nFINISHED\n\n---------------------------\n Successfully finished run \n---------------------------\n\n\n"
                }
            ],
            "source": "fairness_run_details = subscription.fairness_monitoring.run(background_mode=False)"
        },
        {
            "cell_type": "code",
            "execution_count": 72,
            "metadata": {},
            "outputs": [
                {
                    "data": {
                        "text/html": "<HTML>\n        <body>\n            <h3>FairnessMetrics (binding_id=a73bf76d-a663-448a-b771-4f651f73d54e, subscription_id=bc1c9816-c845-4f08-8e6f-2e778eeb5943)</h3>\n            <table style='border: 1px solid #dddddd; font-family: Courier'>\n                <th style='border: 1px solid #dddddd'>ts</th><th style='border: 1px solid #dddddd'>feature</th><th style='border: 1px solid #dddddd'>feature_value</th><th style='border: 1px solid #dddddd'>fairness_biased</th><th style='border: 1px solid #dddddd'>fairness_value</th><th style='border: 1px solid #dddddd'>fairness_fav_class</th><th style='border: 1px solid #dddddd'>binding_id</th><th style='border: 1px solid #dddddd'>subscription_id</th><th style='border: 1px solid #dddddd'>asset_revision</th><th style='border: 1px solid #dddddd'>deployment_id</th><th style='border: 1px solid #dddddd'>process</th>\n                <tr><td style='border: 1px solid #dddddd'>2019-12-02 10:56:09.525866+00:00</td><td style='border: 1px solid #dddddd'>Sex</td><td style='border: 1px solid #dddddd'>female</td><td style='border: 1px solid #dddddd'>True</td><td style='border: 1px solid #dddddd'>0.945</td><td style='border: 1px solid #dddddd'>77.5</td><td style='border: 1px solid #dddddd'>a73bf76d-a663-448a-b771-4f651f73d54e</td><td style='border: 1px solid #dddddd'>bc1c9816-c845-4f08-8e6f-2e778eeb5943</td><td style='border: 1px solid #dddddd'>bc1c9816-c845-4f08-8e6f-2e778eeb5943</td><td style='border: 1px solid #dddddd'>58235d63-f4f4-49fb-ae30-5d90cfb67c93</td><td style='border: 1px solid #dddddd'></td></tr><tr><td style='border: 1px solid #dddddd'>2019-12-02 10:56:09.525866+00:00</td><td style='border: 1px solid #dddddd'>Age</td><td style='border: 1px solid #dddddd'>[18, 25]</td><td style='border: 1px solid #dddddd'>False</td><td style='border: 1px solid #dddddd'>1.099</td><td style='border: 1px solid #dddddd'>89.0</td><td style='border: 1px solid #dddddd'>a73bf76d-a663-448a-b771-4f651f73d54e</td><td style='border: 1px solid #dddddd'>bc1c9816-c845-4f08-8e6f-2e778eeb5943</td><td style='border: 1px solid #dddddd'>bc1c9816-c845-4f08-8e6f-2e778eeb5943</td><td style='border: 1px solid #dddddd'>58235d63-f4f4-49fb-ae30-5d90cfb67c93</td><td style='border: 1px solid #dddddd'></td></tr>\n            </table>\n        </body>\n        </HTML>",
                        "text/plain": "<IPython.core.display.HTML object>"
                    },
                    "metadata": {},
                    "output_type": "display_data"
                }
            ],
            "source": "time.sleep(10)\n\nsubscription.fairness_monitoring.show_table()"
        },
        {
            "cell_type": "markdown",
            "metadata": {},
            "source": "## Run drift monitor\n\n\nKick off a drift monitor run on current data. The monitor runs every hour, but can be manually initiated using the Python client, the REST API."
        },
        {
            "cell_type": "code",
            "execution_count": 73,
            "metadata": {},
            "outputs": [
                {
                    "name": "stdout",
                    "output_type": "stream",
                    "text": "\n\n==========================================\n\n Waiting for end of drift monitoring run  \n\n==========================================\n\n\n\nRUNNING..\nCOMPLETED\n\n---------------------------\n Successfully finished run \n---------------------------\n\n\n"
                }
            ],
            "source": "drift_run_details = subscription.drift_monitoring.run(background_mode=False)"
        },
        {
            "cell_type": "code",
            "execution_count": 74,
            "metadata": {},
            "outputs": [
                {
                    "data": {
                        "text/html": "<div>\n<style scoped>\n    .dataframe tbody tr th:only-of-type {\n        vertical-align: middle;\n    }\n\n    .dataframe tbody tr th {\n        vertical-align: top;\n    }\n\n    .dataframe thead th {\n        text-align: right;\n    }\n</style>\n<table border=\"1\" class=\"dataframe\">\n  <thead>\n    <tr style=\"text-align: right;\">\n      <th></th>\n      <th>ts</th>\n      <th>id</th>\n      <th>measurement_id</th>\n      <th>value</th>\n      <th>lower limit</th>\n      <th>upper limit</th>\n      <th>tags</th>\n      <th>binding_id</th>\n      <th>subscription_id</th>\n      <th>deployment_id</th>\n    </tr>\n  </thead>\n  <tbody>\n    <tr>\n      <th>0</th>\n      <td>2019-12-02 11:12:12.023812+00:00</td>\n      <td>data_drift_magnitude</td>\n      <td>1b5ceeba-8776-489b-8df9-cc5c64e2b60a</td>\n      <td>0.095</td>\n      <td></td>\n      <td></td>\n      <td></td>\n      <td>a73bf76d-a663-448a-b771-4f651f73d54e</td>\n      <td>bc1c9816-c845-4f08-8e6f-2e778eeb5943</td>\n      <td>58235d63-f4f4-49fb-ae30-5d90cfb67c93</td>\n    </tr>\n    <tr>\n      <th>1</th>\n      <td>2019-12-02 11:12:12.023812+00:00</td>\n      <td>drift_magnitude</td>\n      <td>1b5ceeba-8776-489b-8df9-cc5c64e2b60a</td>\n      <td>0.030</td>\n      <td></td>\n      <td>0.05</td>\n      <td></td>\n      <td>a73bf76d-a663-448a-b771-4f651f73d54e</td>\n      <td>bc1c9816-c845-4f08-8e6f-2e778eeb5943</td>\n      <td>58235d63-f4f4-49fb-ae30-5d90cfb67c93</td>\n    </tr>\n    <tr>\n      <th>2</th>\n      <td>2019-12-02 11:12:12.023812+00:00</td>\n      <td>predicted_accuracy</td>\n      <td>1b5ceeba-8776-489b-8df9-cc5c64e2b60a</td>\n      <td>0.752</td>\n      <td></td>\n      <td></td>\n      <td></td>\n      <td>a73bf76d-a663-448a-b771-4f651f73d54e</td>\n      <td>bc1c9816-c845-4f08-8e6f-2e778eeb5943</td>\n      <td>58235d63-f4f4-49fb-ae30-5d90cfb67c93</td>\n    </tr>\n  </tbody>\n</table>\n</div>",
                        "text/plain": "                                ts                    id  \\\n0 2019-12-02 11:12:12.023812+00:00  data_drift_magnitude   \n1 2019-12-02 11:12:12.023812+00:00       drift_magnitude   \n2 2019-12-02 11:12:12.023812+00:00    predicted_accuracy   \n\n                         measurement_id  value lower limit upper limit tags  \\\n0  1b5ceeba-8776-489b-8df9-cc5c64e2b60a  0.095                                \n1  1b5ceeba-8776-489b-8df9-cc5c64e2b60a  0.030                    0.05        \n2  1b5ceeba-8776-489b-8df9-cc5c64e2b60a  0.752                                \n\n                             binding_id                       subscription_id  \\\n0  a73bf76d-a663-448a-b771-4f651f73d54e  bc1c9816-c845-4f08-8e6f-2e778eeb5943   \n1  a73bf76d-a663-448a-b771-4f651f73d54e  bc1c9816-c845-4f08-8e6f-2e778eeb5943   \n2  a73bf76d-a663-448a-b771-4f651f73d54e  bc1c9816-c845-4f08-8e6f-2e778eeb5943   \n\n                          deployment_id  \n0  58235d63-f4f4-49fb-ae30-5d90cfb67c93  \n1  58235d63-f4f4-49fb-ae30-5d90cfb67c93  \n2  58235d63-f4f4-49fb-ae30-5d90cfb67c93  "
                    },
                    "execution_count": 74,
                    "metadata": {},
                    "output_type": "execute_result"
                }
            ],
            "source": "subscription.drift_monitoring.get_table_content()"
        },
        {
            "cell_type": "markdown",
            "metadata": {},
            "source": "**Note:** You can disable drift monitor running code in cell below."
        },
        {
            "cell_type": "code",
            "execution_count": 65,
            "metadata": {},
            "outputs": [],
            "source": "# subscription.drift_monitoring.disable()"
        },
        {
            "cell_type": "markdown",
            "metadata": {},
            "source": "## Configure Explainability"
        },
        {
            "cell_type": "markdown",
            "metadata": {},
            "source": "Finally, we provide OpenScale with the training data to enable and configure the explainability features."
        },
        {
            "cell_type": "code",
            "execution_count": 75,
            "metadata": {
                "scrolled": true
            },
            "outputs": [],
            "source": "from ibm_ai_openscale.supporting_classes import *\n\nsubscription.explainability.enable(training_data=pd_data)"
        },
        {
            "cell_type": "code",
            "execution_count": 76,
            "metadata": {
                "scrolled": true
            },
            "outputs": [],
            "source": "explainability_details = subscription.explainability.get_details()"
        },
        {
            "cell_type": "markdown",
            "metadata": {},
            "source": "## Run explanation for sample record"
        },
        {
            "cell_type": "code",
            "execution_count": 77,
            "metadata": {},
            "outputs": [
                {
                    "name": "stdout",
                    "output_type": "stream",
                    "text": "a15f0041a10f89424fd990da7a46cd70-1\n"
                }
            ],
            "source": "transaction_id = subscription.payload_logging.get_table_content(limit=1)['scoring_id'].values[0]\n\nprint(transaction_id)"
        },
        {
            "cell_type": "code",
            "execution_count": 78,
            "metadata": {},
            "outputs": [
                {
                    "name": "stdout",
                    "output_type": "stream",
                    "text": "\n\n================================================================\n\n Looking for explanation for a15f0041a10f89424fd990da7a46cd70-1 \n\n================================================================\n\n\n\nin_progress...................\nfinished\n\n---------------------------\n Successfully finished run \n---------------------------\n\n\n"
                }
            ],
            "source": "explain_run = subscription.explainability.run(transaction_id=transaction_id, background_mode=False)"
        },
        {
            "cell_type": "code",
            "execution_count": 79,
            "metadata": {},
            "outputs": [
                {
                    "data": {
                        "image/png": "[encoded data removed]",
                        "text/plain": "<Figure size 432x288 with 1 Axes>"
                    },
                    "metadata": {
                        "needs_background": "light"
                    },
                    "output_type": "display_data"
                }
            ],
            "source": "explain_result = pd.DataFrame.from_dict(explain_run['entity']['predictions'][0]['explanation_features'])\nexplain_result.plot.barh(x='feature_name', y='weight', color='g', alpha=0.8);"
        },
        {
            "cell_type": "markdown",
            "metadata": {},
            "source": "# Custom monitors and metrics <a name=\"custom\"></a>"
        },
        {
            "cell_type": "markdown",
            "metadata": {},
            "source": "## Register custom monitor"
        },
        {
            "cell_type": "code",
            "execution_count": 80,
            "metadata": {},
            "outputs": [],
            "source": "def get_definition(monitor_name):\n    monitors_definitions = ai_client.data_mart.monitors.get_details()['monitor_definitions']\n    \n    for definition in monitors_definitions:\n        if monitor_name == definition['entity']['name']:\n            return definition\n    \n    return None"
        },
        {
            "cell_type": "code",
            "execution_count": 81,
            "metadata": {},
            "outputs": [],
            "source": "from ibm_ai_openscale.supporting_classes import Metric, Tag\n\nmonitor_name = 'my model performance'\nmetrics = [Metric(name='sensitivity', lower_limit_default=0.8), Metric(name='specificity', lower_limit_default=0.75)]\ntags = [Tag(name='region', description='customer geographical region')]\n\nexisting_definition = get_definition(monitor_name)\n\nif existing_definition is None:\n    my_monitor = ai_client.data_mart.monitors.add(name=monitor_name, metrics=metrics, tags=tags)\nelse:\n    my_monitor = existing_definition"
        },
        {
            "cell_type": "markdown",
            "metadata": {},
            "source": "### List monitors"
        },
        {
            "cell_type": "markdown",
            "metadata": {},
            "source": "### Get monitors uids and details"
        },
        {
            "cell_type": "code",
            "execution_count": 82,
            "metadata": {},
            "outputs": [
                {
                    "name": "stdout",
                    "output_type": "stream",
                    "text": "my_model_performance\n"
                }
            ],
            "source": "monitor_uid = my_monitor['metadata']['guid']\n\nprint(monitor_uid)"
        },
        {
            "cell_type": "code",
            "execution_count": 83,
            "metadata": {},
            "outputs": [
                {
                    "name": "stdout",
                    "output_type": "stream",
                    "text": "monitor definition details {'entity': {'metrics': [{'expected_direction': 'increasing', 'id': 'sensitivity', 'name': 'sensitivity', 'required': True, 'thresholds': [{'default': 0.8, 'type': 'lower_limit'}]}, {'expected_direction': 'increasing', 'id': 'specificity', 'name': 'specificity', 'required': True, 'thresholds': [{'default': 0.75, 'type': 'lower_limit'}]}], 'name': 'my model performance', 'tags': [{'description': 'customer geographical region', 'id': 'region', 'name': 'region', 'required': True}]}, 'metadata': {'guid': 'my_model_performance', 'url': '/v1/data_marts/27d2155a-b202-44ac-955e-ee20b64f6c89/monitor_definitions/my_model_performance', 'created_at': '2019-11-20T08:37:31.972Z'}}\n"
                }
            ],
            "source": "my_monitor = ai_client.data_mart.monitors.get_details(monitor_uid=monitor_uid)\nprint('monitor definition details', my_monitor)"
        },
        {
            "cell_type": "markdown",
            "metadata": {},
            "source": "## Enable custom monitor for subscription"
        },
        {
            "cell_type": "code",
            "execution_count": 84,
            "metadata": {},
            "outputs": [],
            "source": "from ibm_ai_openscale.supporting_classes import Threshold\n\nthresholds = [Threshold(metric_uid='sensitivity', lower_limit=0.9)]\nsubscription.monitoring.enable(monitor_uid=monitor_uid, thresholds=thresholds)"
        },
        {
            "cell_type": "markdown",
            "metadata": {},
            "source": "### Get monitor configuration details"
        },
        {
            "cell_type": "code",
            "execution_count": 85,
            "metadata": {},
            "outputs": [
                {
                    "data": {
                        "text/plain": "{'enabled': True,\n 'monitor_definition': {'entity': {'metrics': [{'expected_direction': 'increasing',\n     'id': 'sensitivity',\n     'name': 'sensitivity',\n     'required': True,\n     'thresholds': [{'default': 0.9, 'type': 'lower_limit'}]},\n    {'expected_direction': 'increasing',\n     'id': 'specificity',\n     'name': 'specificity',\n     'required': True}],\n   'name': 'my model performance',\n   'tags': [{'description': 'customer geographical region',\n     'id': 'region',\n     'name': 'region',\n     'required': True}]},\n  'metadata': {'guid': 'my_model_performance',\n   'url': '/v1/data_marts/27d2155a-b202-44ac-955e-ee20b64f6c89/monitor_definitions/my_model_performance',\n   'created_at': '2019-11-20T08:37:31.972Z'}},\n 'thresholds': [{'metric_id': 'sensitivity',\n   'type': 'lower_limit',\n   'value': 0.9}]}"
                    },
                    "execution_count": 85,
                    "metadata": {},
                    "output_type": "execute_result"
                }
            ],
            "source": "subscription.monitoring.get_details(monitor_uid=monitor_uid)"
        },
        {
            "cell_type": "markdown",
            "metadata": {},
            "source": "## Storing custom metrics"
        },
        {
            "cell_type": "code",
            "execution_count": 86,
            "metadata": {},
            "outputs": [
                {
                    "data": {
                        "text/plain": "[{'asset_id': '3ff7858b-e3b0-4fe3-a8f9-a06eb17f708c',\n  'binding_id': 'a73bf76d-a663-448a-b771-4f651f73d54e',\n  'measurement_id': '04978837-fb6b-49a7-b70b-8d30ff710e32',\n  'metrics': [{'region': 'us-south',\n    'sensitivity': 0.67,\n    'specificity': 0.78}],\n  'monitor_definition_id': 'my_model_performance',\n  'subscription_id': 'bc1c9816-c845-4f08-8e6f-2e778eeb5943',\n  'timestamp': '2019-12-02T11:21:44.097473Z'}]"
                    },
                    "execution_count": 86,
                    "metadata": {},
                    "output_type": "execute_result"
                }
            ],
            "source": "metrics = {\"specificity\": 0.78, \"sensitivity\": 0.67, \"region\": \"us-south\"}\n\nsubscription.monitoring.store_metrics(monitor_uid=monitor_uid, metrics=metrics)"
        },
        {
            "cell_type": "markdown",
            "metadata": {},
            "source": "### List and get custom metrics"
        },
        {
            "cell_type": "code",
            "execution_count": 87,
            "metadata": {},
            "outputs": [
                {
                    "data": {
                        "text/html": "<HTML>\n        <body>\n            <h3>CustomMetrics (binding_id=a73bf76d-a663-448a-b771-4f651f73d54e, subscription_id=bc1c9816-c845-4f08-8e6f-2e778eeb5943)</h3>\n            <table style='border: 1px solid #dddddd; font-family: Courier'>\n                <th style='border: 1px solid #dddddd'>ts</th><th style='border: 1px solid #dddddd'>id</th><th style='border: 1px solid #dddddd'>measurement_id</th><th style='border: 1px solid #dddddd'>value</th><th style='border: 1px solid #dddddd'>lower limit</th><th style='border: 1px solid #dddddd'>upper limit</th><th style='border: 1px solid #dddddd'>tags</th><th style='border: 1px solid #dddddd'>binding_id</th><th style='border: 1px solid #dddddd'>subscription_id</th><th style='border: 1px solid #dddddd'>deployment_id</th>\n                <tr><td style='border: 1px solid #dddddd'>2019-12-02 11:21:44.097473+00:00</td><td style='border: 1px solid #dddddd'>sensitivity</td><td style='border: 1px solid #dddddd'>04978837-fb6b-49a7-b70b-8d30ff710e32</td><td style='border: 1px solid #dddddd'>0.67</td><td style='border: 1px solid #dddddd'>0.9</td><td style='border: 1px solid #dddddd'></td><td style='border: 1px solid #dddddd'>region: us-south</td><td style='border: 1px solid #dddddd'>a73bf76d-a663-448a-b771-4f651f73d54e</td><td style='border: 1px solid #dddddd'>bc1c9816-c845-4f08-8e6f-2e778eeb5943</td><td style='border: 1px solid #dddddd'>58235d63-f4f4-49fb-ae30-5d90cfb67c93</td></tr><tr><td style='border: 1px solid #dddddd'>2019-12-02 11:21:44.097473+00:00</td><td style='border: 1px solid #dddddd'>specificity</td><td style='border: 1px solid #dddddd'>04978837-fb6b-49a7-b70b-8d30ff710e32</td><td style='border: 1px solid #dddddd'>0.78</td><td style='border: 1px solid #dddddd'></td><td style='border: 1px solid #dddddd'></td><td style='border: 1px solid #dddddd'>region: us-south</td><td style='border: 1px solid #dddddd'>a73bf76d-a663-448a-b771-4f651f73d54e</td><td style='border: 1px solid #dddddd'>bc1c9816-c845-4f08-8e6f-2e778eeb5943</td><td style='border: 1px solid #dddddd'>58235d63-f4f4-49fb-ae30-5d90cfb67c93</td></tr>\n            </table>\n        </body>\n        </HTML>",
                        "text/plain": "<IPython.core.display.HTML object>"
                    },
                    "metadata": {},
                    "output_type": "display_data"
                }
            ],
            "source": "time.sleep(5)\n\nsubscription.monitoring.show_table(monitor_uid=monitor_uid)"
        },
        {
            "cell_type": "code",
            "execution_count": 88,
            "metadata": {},
            "outputs": [
                {
                    "data": {
                        "text/plain": "[{'asset_id': '3ff7858b-e3b0-4fe3-a8f9-a06eb17f708c',\n  'binding_id': 'a73bf76d-a663-448a-b771-4f651f73d54e',\n  'tags': [{'id': 'region', 'value': 'us-south'}],\n  'ts': '2019-12-02T11:21:44.097473Z',\n  'measurement_id': '04978837-fb6b-49a7-b70b-8d30ff710e32',\n  'monitor_definition_id': 'my_model_performance',\n  'subscription_id': 'bc1c9816-c845-4f08-8e6f-2e778eeb5943',\n  'metrics': [{'lower_limit': 0.9, 'id': 'sensitivity', 'value': 0.67},\n   {'id': 'specificity', 'value': 0.78}]}]"
                    },
                    "execution_count": 88,
                    "metadata": {},
                    "output_type": "execute_result"
                }
            ],
            "source": "custom_metrics = subscription.monitoring.get_metrics(monitor_uid=monitor_uid, deployment_uid='credit')\ncustom_metrics"
        },
        {
            "cell_type": "code",
            "execution_count": 89,
            "metadata": {},
            "outputs": [
                {
                    "data": {
                        "image/png": "[encoded data removed]",
                        "text/plain": "<Figure size 432x288 with 1 Axes>"
                    },
                    "metadata": {
                        "needs_background": "light"
                    },
                    "output_type": "display_data"
                }
            ],
            "source": "custom_metrics_pandas = subscription.monitoring.get_table_content(monitor_uid=monitor_uid)\n\n%matplotlib inline\ncustom_metrics_pandas.plot.barh(x='id', y='value');"
        },
        {
            "cell_type": "markdown",
            "metadata": {},
            "source": "# Payload analytics <a name=\"analytics\"></a>"
        },
        {
            "cell_type": "markdown",
            "metadata": {},
            "source": "## Run data distributions calculation"
        },
        {
            "cell_type": "code",
            "execution_count": 90,
            "metadata": {},
            "outputs": [
                {
                    "name": "stdout",
                    "output_type": "stream",
                    "text": "\n\n===============================================================================\n\n Waiting for end of data distribution run 5a76d2e1-eb07-4fe5-aaec-0adb9c70d8ef \n\n===============================================================================\n\n\n\ncompleted\n\n---------------------------\n Successfully finished run \n---------------------------\n\n\n"
                }
            ],
            "source": "from datetime import datetime\n\nstart_date = \"2018-01-01T00:00:00.00Z\"\nend_date = datetime.utcnow().isoformat() + \"Z\"\n\nsex_distribution = subscription.payload_logging.data_distribution.run(\n            start_date=start_date,\n            end_date=end_date,\n            group=['predictedLabel', 'Sex'],\n            agg=['count'])"
        },
        {
            "cell_type": "markdown",
            "metadata": {},
            "source": "## Get data distributions as pandas dataframe"
        },
        {
            "cell_type": "code",
            "execution_count": 91,
            "metadata": {},
            "outputs": [
                {
                    "data": {
                        "text/html": "<div>\n<style scoped>\n    .dataframe tbody tr th:only-of-type {\n        vertical-align: middle;\n    }\n\n    .dataframe tbody tr th {\n        vertical-align: top;\n    }\n\n    .dataframe thead th {\n        text-align: right;\n    }\n</style>\n<table border=\"1\" class=\"dataframe\">\n  <thead>\n    <tr style=\"text-align: right;\">\n      <th></th>\n      <th>predictedLabel</th>\n      <th>Sex</th>\n      <th>count</th>\n    </tr>\n  </thead>\n  <tbody>\n    <tr>\n      <th>0</th>\n      <td>No Risk</td>\n      <td>female</td>\n      <td>89</td>\n    </tr>\n    <tr>\n      <th>1</th>\n      <td>No Risk</td>\n      <td>male</td>\n      <td>81</td>\n    </tr>\n    <tr>\n      <th>2</th>\n      <td>Risk</td>\n      <td>female</td>\n      <td>9</td>\n    </tr>\n    <tr>\n      <th>3</th>\n      <td>Risk</td>\n      <td>male</td>\n      <td>29</td>\n    </tr>\n  </tbody>\n</table>\n</div>",
                        "text/plain": "  predictedLabel     Sex  count\n0        No Risk  female     89\n1        No Risk    male     81\n2           Risk  female      9\n3           Risk    male     29"
                    },
                    "execution_count": 91,
                    "metadata": {},
                    "output_type": "execute_result"
                }
            ],
            "source": "sex_distribution_run_uid = sex_distribution['id']\ndistributions_pd = subscription.payload_logging.data_distribution.get_run_result(run_id=sex_distribution_run_uid, format='pandas')\ndistributions_pd"
        },
        {
            "cell_type": "code",
            "execution_count": 92,
            "metadata": {},
            "outputs": [
                {
                    "data": {
                        "image/png": "[encoded data removed]",
                        "text/plain": "<Figure size 432x288 with 1 Axes>"
                    },
                    "metadata": {
                        "needs_background": "light"
                    },
                    "output_type": "display_data"
                }
            ],
            "source": "subscription.payload_logging.data_distribution.show_chart(sex_distribution_run_uid);"
        },
        {
            "cell_type": "code",
            "execution_count": 93,
            "metadata": {},
            "outputs": [
                {
                    "name": "stdout",
                    "output_type": "stream",
                    "text": "\n\n===============================================================================\n\n Waiting for end of data distribution run bd0ec297-5388-47fc-9d25-24cd2265e149 \n\n===============================================================================\n\n\n\ncompleted\n\n---------------------------\n Successfully finished run \n---------------------------\n\n\n"
                }
            ],
            "source": "credit_history_distribution = subscription.payload_logging.data_distribution.run(\n            start_date=start_date,\n            end_date=end_date,\n            group=['predictedLabel', 'CreditHistory'],\n            agg=['count'])"
        },
        {
            "cell_type": "code",
            "execution_count": 94,
            "metadata": {},
            "outputs": [
                {
                    "data": {
                        "image/png": "[encoded data removed]",
                        "text/plain": "<Figure size 432x288 with 1 Axes>"
                    },
                    "metadata": {
                        "needs_background": "light"
                    },
                    "output_type": "display_data"
                }
            ],
            "source": "credit_history_distribution_run_uid = credit_history_distribution['id']\n\nsubscription.payload_logging.data_distribution.show_chart(credit_history_distribution_run_uid);"
        },
        {
            "cell_type": "markdown",
            "metadata": {},
            "source": "# Business Application <a name=\"application\"></a>"
        },
        {
            "cell_type": "code",
            "execution_count": 95,
            "metadata": {},
            "outputs": [],
            "source": "data_mart_id = subscription.get_details()['metadata']['url'].split('/service_bindings')[0].split('marts/')[1]\n"
        },
        {
            "cell_type": "code",
            "execution_count": 96,
            "metadata": {},
            "outputs": [],
            "source": "business_application_url = \"/\".join((WOS_CREDENTIALS['url'], data_mart_id,\"v2\", \"business_applications\" ))\n"
        },
        {
            "cell_type": "code",
            "execution_count": 97,
            "metadata": {},
            "outputs": [],
            "source": "payload_business_app = {\n    \"name\": \"Credit Risk Application - Tutorial Notebook\",\n    \"description\": \"Sample Business Application\",\n    \"payload_fields\": [\n        {\n            \"name\": \"LoanDuration\",\n            \"type\": \"number\",\n        },\n        {\n            \"name\": \"LoanPurpose\",\n            \"type\": \"string\",\n        },\n        {\n            \"name\": \"LoanAmount\",\n            \"type\": \"number\",\n        },\n        {\n            \"name\": \"InstallmentPercent\",\n            \"type\": \"number\",\n        },\n        {\n            \"name\": \"AcceptedPercent\",\n            \"type\": \"number\",\n        },\n         {\n            \"name\": \"Accepted\",\n            \"type\": \"number\",\n        },\n        {\n            \"name\": \"AmountGranted\",\n            \"type\": \"number\",\n        },\n        {\n            \"name\": \"transaction_id\",\n            \"type\": \"string\",\n        }     \n    ],\n    \"business_metrics\": [\n        {\n            \"name\": \"Accepted Credits\",\n            \"expected_direction\": \"increasing\",\n            \"thresholds\": [\n                {\n                    \"type\": \"lower_limit\",\n                    \"default\": 2150,\n                }\n            ],\n            \"required\": False,\n            \"calculation_metadata\": {\n                \"field_name\": \"Accepted\",\n                \"aggregation\": \"sum\",\n                \"time_frame\": {\n                    \"count\": 1,\n                    \"unit\": \"day\"\n                }\n            }\n        },\n        {\n            \"name\": \"Credit Amount Granted\",\n            \"expected_direction\": \"increasing\",\n            \"thresholds\": [\n                {\n                    \"type\": \"lower_limit\",\n                    \"default\": 5500000,\n                }\n            ],\n            \"required\": False,\n            \"calculation_metadata\": {\n                \"field_name\": \"AmountGranted\",\n                \"aggregation\": \"sum\",\n                \"time_frame\": {\n                    \"count\": 1,\n                    \"unit\": \"day\"\n                }\n            }\n        }\n    ],\n    \"subscription_ids\": subscriptions_uids\n}\n\nresponse = requests.post(url=business_application_url, headers=ai_client._get_headers(), json=payload_business_app)\nbusiness_application_id = response.json()['metadata']['id']\ntime.sleep(10)"
        },
        {
            "cell_type": "markdown",
            "metadata": {},
            "source": "## Get business application details:"
        },
        {
            "cell_type": "code",
            "execution_count": 98,
            "metadata": {},
            "outputs": [],
            "source": "business_application_details_url = \"/\".join((business_application_url, business_application_id))"
        },
        {
            "cell_type": "code",
            "execution_count": 99,
            "metadata": {},
            "outputs": [
                {
                    "name": "stdout",
                    "output_type": "stream",
                    "text": "active\n"
                }
            ],
            "source": "business_app_status = None\nwhile business_app_status != 'active':\n    business_application_details = requests.get(url = business_application_details_url, headers=ai_client._get_headers()).json()\n    business_app_status = business_application_details['entity']['status']['state']\n    if business_app_status != 'active':\n        print(datetime.utcnow().strftime('%H:%M:%S'), business_app_status)\n        time.sleep(10)\nprint(business_app_status)"
        },
        {
            "cell_type": "code",
            "execution_count": 100,
            "metadata": {},
            "outputs": [],
            "source": "business_payload_data_set_id = business_application_details['entity']['business_payload_data_set_id']\nbusiness_metrics_monitor_instance_id =  business_application_details['entity']['business_metrics_monitor_instance_id']"
        },
        {
            "cell_type": "code",
            "execution_count": 101,
            "metadata": {},
            "outputs": [],
            "source": "monitor_instances_url = \"/\".join((WOS_CREDENTIALS['url'], data_mart_id,\"v2\", \"monitor_instances\" ))\n"
        },
        {
            "cell_type": "code",
            "execution_count": 102,
            "metadata": {},
            "outputs": [
                {
                    "name": "stdout",
                    "output_type": "stream",
                    "text": "7bfa076a-261e-44a4-bf70-60cc87661de7 2019-12-02T11:13:05.400Z\n1af64fa0-fe24-4723-9247-8a14035390b7 2019-12-02T11:12:17.055Z\nff3cfe8f-9136-4786-9b64-241f7098ccb1 2019-12-02T11:00:21.375Z\n"
                }
            ],
            "source": "response = requests.get(url=monitor_instances_url, headers=ai_client._get_headers())\ninstances = response.json()['monitor_instances']\n\nfor instance in instances:\n    if 'managed_by' in instance['entity'] and instance['entity']['managed_by'] == business_application_id:\n        if instance['entity']['monitor_definition_id'] == 'correlations':\n            corr_monitor_instance_id = instance['metadata']['id']\n\n    if instance['entity']['monitor_definition_id'] == 'drift':\n        print(instance['metadata']['id'], instance['metadata']['modified_at'] )\n        drift_instance_id = instance['metadata']['id']"
        },
        {
            "cell_type": "markdown",
            "metadata": {},
            "source": "# Historical data <a name=\"historical\"></a>"
        },
        {
            "cell_type": "code",
            "execution_count": 103,
            "metadata": {},
            "outputs": [],
            "source": "historyDays = 7"
        },
        {
            "cell_type": "markdown",
            "metadata": {},
            "source": " ## Insert historical payloads"
        },
        {
            "cell_type": "markdown",
            "metadata": {},
            "source": "The next section of the notebook downloads and writes historical data to the payload and measurement tables to simulate a production model that has been monitored and receiving regular traffic for the last seven days. This historical data can be viewed in the Watson OpenScale user interface. The code uses the Python and REST APIs to write this data."
        },
        {
            "cell_type": "code",
            "execution_count": 104,
            "metadata": {
                "scrolled": false
            },
            "outputs": [
                {
                    "name": "stdout",
                    "output_type": "stream",
                    "text": "-rw-r--r-- 1 spark 4294967294 5.0M Dec  2 11:22 history_payloads_with_transaction_id_0.json\r\n-rw-r--r-- 1 spark 4294967294 5.0M Dec  2 11:22 history_payloads_with_transaction_id_1.json\r\n-rw-r--r-- 1 spark 4294967294 5.0M Dec  2 11:22 history_payloads_with_transaction_id_2.json\r\n-rw-r--r-- 1 spark 4294967294 5.0M Dec  2 11:22 history_payloads_with_transaction_id_3.json\r\n-rw-r--r-- 1 spark 4294967294 5.0M Dec  2 11:22 history_payloads_with_transaction_id_4.json\r\n-rw-r--r-- 1 spark 4294967294 5.0M Dec  2 11:22 history_payloads_with_transaction_id_5.json\r\n-rw-r--r-- 1 spark 4294967294 5.0M Dec  2 11:22 history_payloads_with_transaction_id_6.json\r\n"
                }
            ],
            "source": "with io.capture_output() as captured:\n    !wget https://raw.githubusercontent.com/pmservice/ai-openscale-tutorials/master/assets/historical_data/german_credit_risk/wml/fastpath/history_payloads_with_transaction_id_0.json\n    !wget https://raw.githubusercontent.com/pmservice/ai-openscale-tutorials/master/assets/historical_data/german_credit_risk/wml/fastpath/history_payloads_with_transaction_id_1.json\n    !wget https://raw.githubusercontent.com/pmservice/ai-openscale-tutorials/master/assets/historical_data/german_credit_risk/wml/fastpath/history_payloads_with_transaction_id_2.json\n    !wget https://raw.githubusercontent.com/pmservice/ai-openscale-tutorials/master/assets/historical_data/german_credit_risk/wml/fastpath/history_payloads_with_transaction_id_3.json\n    !wget https://raw.githubusercontent.com/pmservice/ai-openscale-tutorials/master/assets/historical_data/german_credit_risk/wml/fastpath/history_payloads_with_transaction_id_4.json\n    !wget https://raw.githubusercontent.com/pmservice/ai-openscale-tutorials/master/assets/historical_data/german_credit_risk/wml/fastpath/history_payloads_with_transaction_id_5.json\n    !wget https://raw.githubusercontent.com/pmservice/ai-openscale-tutorials/master/assets/historical_data/german_credit_risk/wml/fastpath/history_payloads_with_transaction_id_6.json\n!ls -lh history_payloads_with_transaction_id_*.json"
        },
        {
            "cell_type": "code",
            "execution_count": 105,
            "metadata": {
                "scrolled": false
            },
            "outputs": [
                {
                    "name": "stdout",
                    "output_type": "stream",
                    "text": "Loading historical scoring payload...\nDay 0 injection.\nDaily loading finished.\nDay 1 injection.\nDaily loading finished.\nDay 2 injection.\nDaily loading finished.\nDay 3 injection.\nDaily loading finished.\nDay 4 injection.\nDaily loading finished.\nDay 5 injection.\nDaily loading finished.\nDay 6 injection.\nDaily loading finished.\n"
                }
            ],
            "source": "from ibm_ai_openscale.utils.inject_demo_data import DemoData\nimport os\n\nhistoricalData = DemoData(aios_credentials=WOS_CREDENTIALS)\nhistorical_data_path=os.getcwd()\n\nhistoricalData.load_historical_scoring_payload(subscription, deployment_uid,file_path=historical_data_path, day_template=\"history_payloads_with_transaction_id_{}.json\" )"
        },
        {
            "cell_type": "code",
            "execution_count": 106,
            "metadata": {
                "scrolled": true
            },
            "outputs": [
                {
                    "name": "stdout",
                    "output_type": "stream",
                    "text": "https://api.aiopenscale.cloud.ibm.com/v1/data_marts/27d2155a-b202-44ac-955e-ee20b64f6c89/metrics\n"
                }
            ],
            "source": "performance_metrics_url = WOS_CREDENTIALS['url'] + subscription.get_details()['metadata']['url'].split('/service_bindings')[0] + '/metrics'\nprint(performance_metrics_url)"
        },
        {
            "cell_type": "markdown",
            "metadata": {},
            "source": "## Insert historical fairness metrics"
        },
        {
            "cell_type": "code",
            "execution_count": 107,
            "metadata": {},
            "outputs": [
                {
                    "name": "stdout",
                    "output_type": "stream",
                    "text": "-rw-r--r-- 1 spark 4294967294 1.4M Dec  2 11:22 history_fairness.json\r\n"
                }
            ],
            "source": "with io.capture_output() as captured:\n    !wget https://raw.githubusercontent.com/pmservice/ai-openscale-tutorials/master/assets/historical_data/german_credit_risk/wml/history_fairness.json -O history_fairness.json\n!ls -lh history_fairness.json"
        },
        {
            "cell_type": "code",
            "execution_count": 108,
            "metadata": {},
            "outputs": [
                {
                    "name": "stdout",
                    "output_type": "stream",
                    "text": "Loading day 1\nLoading day 2\nLoading day 3\nLoading day 4\nLoading day 5\nLoading day 6\nLoading day 7\nFinished\n"
                }
            ],
            "source": "with open('history_fairness.json', 'r') as history_file:\n    payloads = json.load(history_file)\n\nfor day in range(historyDays):\n    print('Loading day', day + 1)\n    metrics = []\n    \n    for hour in range(24):\n        score_time = (datetime.utcnow() + timedelta(hours=(-(24*day + hour + 1)))).strftime('%Y-%m-%dT%H:%M:%SZ')\n        index = (day * 24 + hour) % len(payloads) # wrap around and reuse values if needed\n        \n        metric = {\n            'metric_type': 'fairness',\n            'binding_id': binding_uid,\n            'timestamp': score_time,\n            'subscription_id': model_uid,\n            'asset_revision': model_uid,\n            'deployment_id': deployment_uid,\n            'value': payloads[index]\n        }\n        metrics.append(metric)\n    response = requests.post(performance_metrics_url, json=metrics, headers=ai_client._get_headers())\nprint('Finished')"
        },
        {
            "cell_type": "markdown",
            "metadata": {},
            "source": "## Insert historical debias metrics"
        },
        {
            "cell_type": "code",
            "execution_count": 109,
            "metadata": {},
            "outputs": [
                {
                    "name": "stdout",
                    "output_type": "stream",
                    "text": "-rw-r--r-- 1 spark 4294967294 553K Dec  2 11:23 history_debias.json\r\n"
                }
            ],
            "source": "with io.capture_output() as captured:\n    !wget https://raw.githubusercontent.com/pmservice/ai-openscale-tutorials/master/assets/historical_data/german_credit_risk/wml/history_debias.json -O history_debias.json\n!ls -lh history_debias.json"
        },
        {
            "cell_type": "code",
            "execution_count": 110,
            "metadata": {},
            "outputs": [
                {
                    "name": "stdout",
                    "output_type": "stream",
                    "text": "Loading day 1\nLoading day 2\nLoading day 3\nLoading day 4\nLoading day 5\nLoading day 6\nLoading day 7\nFinished\n"
                }
            ],
            "source": "with open('history_debias.json', 'r') as history_file:\n    payloads = json.load(history_file)\n\nfor day in range(historyDays):\n    print('Loading day', day + 1)\n    debias_metrics = []\n    for hour in range(24):\n        score_time = (datetime.utcnow() + timedelta(hours=(-(24*day + hour + 1)))).strftime('%Y-%m-%dT%H:%M:%SZ')\n        index = (day * 24 + hour) % len(payloads) # wrap around and reuse values if needed\n\n        debiasMetric = {\n            'metric_type': 'debiased_fairness',\n            'binding_id': binding_uid,\n            'timestamp': score_time,\n            'subscription_id': subscription.uid,\n            'asset_revision': model_uid,\n            'deployment_id': deployment_uid,\n            'value': payloads[index]\n        }\n\n        debias_metrics.append(debiasMetric)\n    response = requests.post(performance_metrics_url, json=debias_metrics, headers=ai_client._get_headers())\nprint('Finished')"
        },
        {
            "cell_type": "markdown",
            "metadata": {},
            "source": "## Insert historical quality metrics"
        },
        {
            "cell_type": "code",
            "execution_count": 111,
            "metadata": {
                "scrolled": true
            },
            "outputs": [
                {
                    "name": "stdout",
                    "output_type": "stream",
                    "text": "Day 1\nDay 2\nDay 3\nDay 4\nDay 5\nDay 6\nDay 7\nFinished\n"
                }
            ],
            "source": "measurements = [0.76, 0.78, 0.68, 0.72, 0.73, 0.77, 0.80]\nfor day in range(historyDays):\n    quality_metrics = []\n    print('Day', day + 1)\n    for hour in range(24):\n        score_time = (datetime.utcnow() + timedelta(hours=(-(24*day + hour + 1)))).strftime('%Y-%m-%dT%H:%M:%SZ')\n        qualityMetric = {\n            'metric_type': 'quality',\n            'binding_id': binding_uid,\n            'timestamp': score_time,\n            'subscription_id': subscription.uid,\n            'asset_revision': model_uid,\n            'deployment_id': deployment_uid,\n            'value': {\n                'quality': measurements[day],\n                'threshold': 0.7,\n                'metrics': [\n                    {\n                        'name': 'auroc',\n                        'value': measurements[day],\n                        'threshold': 0.7\n                    }\n                ]\n            }\n        }\n        \n        quality_metrics.append(qualityMetric)\n    \n    response = requests.post(performance_metrics_url, json=quality_metrics, headers=ai_client._get_headers())\n\nprint('Finished')"
        },
        {
            "cell_type": "markdown",
            "metadata": {},
            "source": "## Insert historical confusion matrixes"
        },
        {
            "cell_type": "code",
            "execution_count": 112,
            "metadata": {},
            "outputs": [
                {
                    "name": "stdout",
                    "output_type": "stream",
                    "text": "-rw-r--r-- 1 spark 4294967294 79K Dec  2 11:26 history_quality_metrics.json\r\n"
                }
            ],
            "source": "with io.capture_output() as captured:\n    !wget https://raw.githubusercontent.com/pmservice/ai-openscale-tutorials/master/assets/historical_data/german_credit_risk/wml/history_quality_metrics.json -O history_quality_metrics.json\n!ls -lh history_quality_metrics.json"
        },
        {
            "cell_type": "code",
            "execution_count": 113,
            "metadata": {},
            "outputs": [
                {
                    "name": "stdout",
                    "output_type": "stream",
                    "text": "https://api.aiopenscale.cloud.ibm.com/v1/data_marts/27d2155a-b202-44ac-955e-ee20b64f6c89/measurements\n"
                }
            ],
            "source": "measurements_url = WOS_CREDENTIALS['url'] + subscription.get_details()['metadata']['url'].split('/service_bindings')[0] + '/measurements'\nprint(measurements_url)"
        },
        {
            "cell_type": "code",
            "execution_count": 114,
            "metadata": {},
            "outputs": [
                {
                    "name": "stdout",
                    "output_type": "stream",
                    "text": "Day 1\nDay 2\nDay 3\nDay 4\nDay 5\nDay 6\nDay 7\nFinished\n"
                }
            ],
            "source": "with open('history_quality_metrics.json') as json_file:\n    records = json.load(json_file)\n    \nfor day in range(historyDays):\n    index = 0\n    measurments = []\n    print('Day', day + 1)\n    \n    for hour in range(24):\n        score_time = (datetime.utcnow() + timedelta(hours=(-(24*day + hour + 1)))).strftime('%Y-%m-%dT%H:%M:%SZ')\n\n        measurement = {\n            \"monitor_definition_id\": 'quality',\n            \"binding_id\": subscription.binding_uid,\n            \"subscription_id\": subscription.uid,\n            \"asset_id\": subscription.source_uid,\n            'metrics': [records[index]['metrics']],\n            'sources': [records[index]['sources']],\n            'timestamp': score_time\n        }\n\n        measurments.append(measurement)\n        index+=1\n\n    response = requests.post(measurements_url, json=measurments, headers=ai_client._get_headers())\n\nprint('Finished')"
        },
        {
            "cell_type": "markdown",
            "metadata": {},
            "source": "## Insert historical performance metrics"
        },
        {
            "cell_type": "code",
            "execution_count": 115,
            "metadata": {},
            "outputs": [
                {
                    "name": "stdout",
                    "output_type": "stream",
                    "text": "Day 1\nDay 2\nDay 3\nDay 4\nDay 5\nDay 6\nDay 7\nFinished\n"
                }
            ],
            "source": "for day in range(historyDays):\n    performance_metrics = []\n    print('Day', day + 1)\n    for hour in range(24):\n        score_time = (datetime.utcnow() + timedelta(hours=(-(24*day + hour + 1)))).strftime('%Y-%m-%dT%H:%M:%SZ')\n        score_count = random.randint(60, 600)\n        score_resp = random.uniform(60, 300)\n\n        performanceMetric = {\n            'metric_type': 'performance',\n            'binding_id': binding_uid,\n            'timestamp': score_time,\n            'subscription_id': subscription.uid,\n            'asset_revision': model_uid,\n            'deployment_id': deployment_uid,\n            'value': {\n                'response_time': score_resp,\n                'records': score_count\n            }\n        }\n        performance_metrics.append(performanceMetric)\n\n    response = requests.post(performance_metrics_url, json=performance_metrics, headers=ai_client._get_headers())\n\nprint('Finished')"
        },
        {
            "cell_type": "markdown",
            "metadata": {},
            "source": "## Insert historical manual labeling"
        },
        {
            "cell_type": "code",
            "execution_count": 116,
            "metadata": {},
            "outputs": [
                {
                    "name": "stdout",
                    "output_type": "stream",
                    "text": "https://api.aiopenscale.cloud.ibm.com/v1/data_marts/27d2155a-b202-44ac-955e-ee20b64f6c89/manual_labelings\n"
                }
            ],
            "source": "manual_labeling_url = WOS_CREDENTIALS['url'] + subscription.get_details()['metadata']['url'].split('/service_bindings')[0] + '/manual_labelings'\nprint(manual_labeling_url)"
        },
        {
            "cell_type": "code",
            "execution_count": 117,
            "metadata": {},
            "outputs": [
                {
                    "name": "stdout",
                    "output_type": "stream",
                    "text": "-rw-r--r-- 1 spark 4294967294 926K Dec  2 11:26 history_manual_labeling.json\r\n"
                }
            ],
            "source": "with io.capture_output() as captured:\n    !wget https://raw.githubusercontent.com/pmservice/ai-openscale-tutorials/master/assets/historical_data/german_credit_risk/wml/history_manual_labeling.json -O history_manual_labeling.json\n!ls -lh history_manual_labeling.json"
        },
        {
            "cell_type": "code",
            "execution_count": 118,
            "metadata": {},
            "outputs": [
                {
                    "name": "stdout",
                    "output_type": "stream",
                    "text": "Loading day 1\nLoading day 2\nLoading day 3\nLoading day 4\nLoading day 5\nLoading day 6\nLoading day 7\nFinished\n"
                }
            ],
            "source": "with open('history_manual_labeling.json', 'r') as history_file:\n    records = json.load(history_file)\n\nfor day in range(historyDays):\n    print('Loading day', day + 1)\n    record_json = []\n    for hour in range(24):\n        for record in records:\n            if record['fastpath_history_day'] == day and record['fastpath_history_hour'] == hour:\n                record['binding_id'] = binding_uid\n                record['subscription_id'] = subscription.uid\n                record['asset_revision'] = model_uid\n                record['deployment_id'] = deployment_uid\n                record['scoring_timestamp'] = (datetime.utcnow() + timedelta(hours=(-(24*day + hour + 1)))).strftime('%Y-%m-%dT%H:%M:%SZ')\n                record_json.append(record)\n    response = requests.post(manual_labeling_url, json=record_json, headers=ai_client._get_headers())\n\nprint('Finished')"
        },
        {
            "cell_type": "markdown",
            "metadata": {},
            "source": "## Insert historical drift measurements"
        },
        {
            "cell_type": "code",
            "execution_count": 119,
            "metadata": {},
            "outputs": [
                {
                    "name": "stdout",
                    "output_type": "stream",
                    "text": "-rw-r--r-- 1 spark 4294967294 832K Dec  2 11:26 history_drift_measurement_0.json\r\n-rw-r--r-- 1 spark 4294967294 868K Dec  2 11:26 history_drift_measurement_1.json\r\n-rw-r--r-- 1 spark 4294967294 870K Dec  2 11:26 history_drift_measurement_2.json\r\n-rw-r--r-- 1 spark 4294967294 910K Dec  2 11:26 history_drift_measurement_3.json\r\n-rw-r--r-- 1 spark 4294967294 841K Dec  2 11:26 history_drift_measurement_4.json\r\n-rw-r--r-- 1 spark 4294967294 836K Dec  2 11:26 history_drift_measurement_5.json\r\n-rw-r--r-- 1 spark 4294967294 840K Dec  2 11:26 history_drift_measurement_6.json\r\n"
                }
            ],
            "source": "with io.capture_output() as captured:\n    !wget https://raw.githubusercontent.com/pmservice/ai-openscale-tutorials/master/assets/historical_data/german_credit_risk/wos/history_drift_measurement_0.json\n    !wget https://raw.githubusercontent.com/pmservice/ai-openscale-tutorials/master/assets/historical_data/german_credit_risk/wos/history_drift_measurement_1.json\n    !wget https://raw.githubusercontent.com/pmservice/ai-openscale-tutorials/master/assets/historical_data/german_credit_risk/wos/history_drift_measurement_2.json\n    !wget https://raw.githubusercontent.com/pmservice/ai-openscale-tutorials/master/assets/historical_data/german_credit_risk/wos/history_drift_measurement_3.json\n    !wget https://raw.githubusercontent.com/pmservice/ai-openscale-tutorials/master/assets/historical_data/german_credit_risk/wos/history_drift_measurement_4.json\n    !wget https://raw.githubusercontent.com/pmservice/ai-openscale-tutorials/master/assets/historical_data/german_credit_risk/wos/history_drift_measurement_5.json\n    !wget https://raw.githubusercontent.com/pmservice/ai-openscale-tutorials/master/assets/historical_data/german_credit_risk/wos/history_drift_measurement_6.json\n!ls -lh history_drift_measurement_*.json"
        },
        {
            "cell_type": "code",
            "execution_count": 120,
            "metadata": {},
            "outputs": [
                {
                    "name": "stdout",
                    "output_type": "stream",
                    "text": "https://api.aiopenscale.cloud.ibm.com/v1/data_marts/27d2155a-b202-44ac-955e-ee20b64f6c89/measurements\n"
                }
            ],
            "source": "print(measurements_url)"
        },
        {
            "cell_type": "code",
            "execution_count": 121,
            "metadata": {},
            "outputs": [
                {
                    "name": "stdout",
                    "output_type": "stream",
                    "text": "Loading day 1\nDaily loading finished.\nLoading day 2\nDaily loading finished.\nLoading day 3\nDaily loading finished.\nLoading day 4\nDaily loading finished.\nLoading day 5\nDaily loading finished.\nLoading day 6\nDaily loading finished.\nLoading day 7\nDaily loading finished.\n"
                }
            ],
            "source": "for day in range(historyDays):\n    measurements = []\n\n    with open(\"history_drift_measurement_{}.json\".format(day), 'r') as history_file:\n        drift_daily_measurements = json.load(history_file)\n    print('Loading day', day + 1)\n\n    #Historical data contains 8 records per day - each represents 3 hour drift window.\n    \n    for nb_window, records in enumerate(drift_daily_measurements):\n        for record in records:\n            window_start =  (datetime.utcnow() + timedelta(hours=(-(24 * day + (nb_window+1)*3 + 1)))).strftime('%Y-%m-%dT%H:%M:%SZ') # first_payload_record_timestamp_in_window (oldest)\n            window_end = (datetime.utcnow() + timedelta(hours=(-(24 * day + nb_window*3 + 1)))).strftime('%Y-%m-%dT%H:%M:%SZ')# last_payload_record_timestamp_in_window (most recent)\n            #modify start and end time for each record\n            record['sources'][0]['data']['start'] = window_start\n            record['sources'][0]['data']['end'] = window_end\n            \n            measurement = {\n                \"monitor_definition_id\": \"drift\",\n                \"binding_id\": subscription.binding_uid,\n                \"subscription_id\": subscription.uid,\n                \"asset_id\": subscription.source_uid,\n                'metrics': record['metrics'],\n                'sources': record['sources'],\n                'timestamp': window_start,\n                'process': 'Drift run for subscription_{}'.format(subscription.uid)\n            }\n\n            measurements.append(measurement)\n    response = requests.post(measurements_url, json=measurements, headers=ai_client._get_headers())\n    print(\"Daily loading finished.\")"
        },
        {
            "cell_type": "markdown",
            "metadata": {},
            "source": "## Insert Business payload "
        },
        {
            "cell_type": "code",
            "execution_count": 122,
            "metadata": {},
            "outputs": [
                {
                    "name": "stdout",
                    "output_type": "stream",
                    "text": "-rw-r--r-- 1 spark 4294967294 1.6M Dec  2 11:26 history_business_payloads_week.csv\r\n"
                }
            ],
            "source": "with io.capture_output() as captured:\n    !wget https://raw.githubusercontent.com/pmservice/ai-openscale-tutorials/master/assets/historical_data/german_credit_risk/wml/history_business_payloads_week.csv -O history_business_payloads_week.csv\n!ls -lh history_business_payloads_week.csv"
        },
        {
            "cell_type": "code",
            "execution_count": 123,
            "metadata": {},
            "outputs": [],
            "source": "historicalData.load_historical_business_payload(business_payload_data_set_id, file_path=historical_data_path, file_name=\"history_business_payloads_week.csv\")\ntime.sleep(60)"
        },
        {
            "cell_type": "markdown",
            "metadata": {},
            "source": "# Run Business Application and Correlation monitor  <a name=\"correlation\"></a>"
        },
        {
            "cell_type": "code",
            "execution_count": 124,
            "metadata": {},
            "outputs": [
                {
                    "name": "stdout",
                    "output_type": "stream",
                    "text": "https://api.aiopenscale.cloud.ibm.com/27d2155a-b202-44ac-955e-ee20b64f6c89/v2/monitor_instances/80707a75-5a64-48eb-a1f6-f40ff826c1ab/runs\n"
                }
            ],
            "source": "business_app_run_url = \"/\".join((monitor_instances_url, business_metrics_monitor_instance_id,\"runs\"))\nprint(business_app_run_url)"
        },
        {
            "cell_type": "code",
            "execution_count": 130,
            "metadata": {},
            "outputs": [],
            "source": "response = requests.post(\n    url=business_app_run_url,\n    headers=ai_client._get_headers(),\n    json={}, verify=False\n)\nif response.status_code == 201:\n    business_app_run_details = response.json()\nelse:\n    business_app_run_details = None\n    print(\"Run business application failed. Details: {}\".format(response.text))"
        },
        {
            "cell_type": "code",
            "execution_count": 131,
            "metadata": {},
            "outputs": [
                {
                    "name": "stdout",
                    "output_type": "stream",
                    "text": "11:32:55 running\n11:33:25 running\n11:33:55 running\n11:34:25 running\n11:34:55 running\n11:35:25 running\n11:35:55 running\n11:36:26 running\nfinished\n"
                }
            ],
            "source": "if business_app_run_details is not None:\n    business_metrics_monitor_run_id =business_app_run_details['metadata']['id']\n    monitor_status = business_app_run_details['entity']['status']['state']\n\nwhile monitor_status != 'finished' and monitor_status != 'error':\n    business_app_run_details = (requests.get(url=business_app_run_url+ \"/\" + business_metrics_monitor_run_id, headers=ai_client._get_headers(), verify=False)).json()   \n    monitor_status = business_app_run_details['entity']['status']['state']\n    if monitor_status != 'finished':\n        print(datetime.utcnow().strftime('%H:%M:%S'), monitor_status)\n        time.sleep(30)\nprint(monitor_status)"
        },
        {
            "cell_type": "code",
            "execution_count": 140,
            "metadata": {},
            "outputs": [
                {
                    "name": "stdout",
                    "output_type": "stream",
                    "text": "finished\n"
                }
            ],
            "source": "drift_runs = requests.get('{}/{}/v2/monitor_instances/{}/runs'.format(WOS_CREDENTIALS['url'],\n                                    data_mart_id, drift_instance_id), headers=ai_client._get_headers(),json={}, verify=False).json()\n\n\nfor run in drift_runs['runs']:\n    if 'business_metric_context' in run['entity']:\n        if run['entity']['business_metric_context']['business_application_id'] == business_application_id:\n            last_drift_run_id = run['metadata']['id']\n\ndrift_monitor_status = None\nwhile drift_monitor_status != 'finished':\n    drift_run_details = (requests.get('{}/{}/v2/monitor_instances/{}/runs/{}'.format(WOS_CREDENTIALS['url'],\n            data_mart_id,drift_instance_id, last_drift_run_id), headers=ai_client._get_headers(),json={}, verify=False)).json()\n    drift_monitor_status = drift_run_details['entity']['status']['state']\n    if drift_monitor_status != 'finished':\n    \n        time.sleep(30)\nprint(drift_monitor_status)"
        },
        {
            "cell_type": "markdown",
            "metadata": {},
            "source": "## Run correlation monitor"
        },
        {
            "cell_type": "code",
            "execution_count": 144,
            "metadata": {},
            "outputs": [],
            "source": "time.sleep(15)\npayload = {\n            \"triggered_by\": \"user\",\n            \"parameters\": {\n                \"max_number_of_days\": \"1000\"\n            },\n            \"business_metric_context\": {\n                \"business_application_id\": business_application_id,\n                \"metric_id\": \"\",\n                \"transaction_data_set_id\": \"\",\n                \"transaction_batch_id\": \"\"\n            }\n        }\n\nresponse = requests.post(url = \"/\".join((monitor_instances_url, corr_monitor_instance_id,\"runs\")), json=payload, headers=ai_client._get_headers())"
        },
        {
            "cell_type": "code",
            "execution_count": 143,
            "metadata": {},
            "outputs": [
                {
                    "name": "stdout",
                    "output_type": "stream",
                    "text": "Correlation status:  active\n"
                }
            ],
            "source": "corr_status = None\nwhile corr_status != 'active':\n    corr_details = requests.get(url = \"/\".join((monitor_instances_url, corr_monitor_instance_id)), headers=ai_client._get_headers()).json()\n    corr_status = corr_details['entity']['status']['state']\n    if corr_status != 'active':\n        print(datetime.utcnow().strftime('%H:%M:%S'), corr_status)\n        time.sleep(10)\nprint(\"Correlation status: \", corr_status)"
        },
        {
            "cell_type": "markdown",
            "metadata": {},
            "source": "## Additional data to help debugging"
        },
        {
            "cell_type": "code",
            "execution_count": 145,
            "metadata": {
                "scrolled": true
            },
            "outputs": [
                {
                    "name": "stdout",
                    "output_type": "stream",
                    "text": "Datamart: 27d2155a-b202-44ac-955e-ee20b64f6c89\nModel: 3ff7858b-e3b0-4fe3-a8f9-a06eb17f708c\nDeployment: 58235d63-f4f4-49fb-ae30-5d90cfb67c93\nBinding: a73bf76d-a663-448a-b771-4f651f73d54e\nScoring URL: https://us-south.ml.cloud.ibm.com/v3/wml_instances/a73bf76d-a663-448a-b771-4f651f73d54e/deployments/58235d63-f4f4-49fb-ae30-5d90cfb67c93/online\n"
                }
            ],
            "source": "print('Datamart:', data_mart_id)\nprint('Model:', model_uid)\nprint('Deployment:', deployment_uid)\nprint('Binding:', binding_uid)\nprint('Scoring URL:', credit_risk_scoring_endpoint)"
        },
        {
            "cell_type": "markdown",
            "metadata": {},
            "source": "## Identify transactions for Explainability"
        },
        {
            "cell_type": "markdown",
            "metadata": {},
            "source": "Transaction IDs identified by the cells below can be copied and pasted into the Explainability tab of the OpenScale dashboard."
        },
        {
            "cell_type": "code",
            "execution_count": 146,
            "metadata": {
                "scrolled": false
            },
            "outputs": [
                {
                    "data": {
                        "text/html": "<div>\n<style scoped>\n    .dataframe tbody tr th:only-of-type {\n        vertical-align: middle;\n    }\n\n    .dataframe tbody tr th {\n        vertical-align: top;\n    }\n\n    .dataframe thead th {\n        text-align: right;\n    }\n</style>\n<table border=\"1\" class=\"dataframe\">\n  <thead>\n    <tr style=\"text-align: right;\">\n      <th></th>\n      <th>scoring_id</th>\n      <th>predictedLabel</th>\n      <th>probability</th>\n    </tr>\n  </thead>\n  <tbody>\n    <tr>\n      <th>0</th>\n      <td>a15f0041a10f89424fd990da7a46cd70-1</td>\n      <td>No Risk</td>\n      <td>[0.8125602651878072, 0.1874397348121928]</td>\n    </tr>\n    <tr>\n      <th>1</th>\n      <td>a15f0041a10f89424fd990da7a46cd70-2</td>\n      <td>Risk</td>\n      <td>[0.11606945409188785, 0.8839305459081122]</td>\n    </tr>\n    <tr>\n      <th>2</th>\n      <td>a15f0041a10f89424fd990da7a46cd70-3</td>\n      <td>No Risk</td>\n      <td>[0.8256910983026791, 0.17430890169732094]</td>\n    </tr>\n    <tr>\n      <th>3</th>\n      <td>a15f0041a10f89424fd990da7a46cd70-4</td>\n      <td>Risk</td>\n      <td>[0.4179691075745774, 0.5820308924254227]</td>\n    </tr>\n    <tr>\n      <th>4</th>\n      <td>a15f0041a10f89424fd990da7a46cd70-5</td>\n      <td>No Risk</td>\n      <td>[0.6579680999628722, 0.34203190003712775]</td>\n    </tr>\n    <tr>\n      <th>5</th>\n      <td>a15f0041a10f89424fd990da7a46cd70-6</td>\n      <td>No Risk</td>\n      <td>[0.7161474165735514, 0.28385258342644853]</td>\n    </tr>\n    <tr>\n      <th>6</th>\n      <td>a15f0041a10f89424fd990da7a46cd70-7</td>\n      <td>No Risk</td>\n      <td>[0.6175388680662374, 0.38246113193376263]</td>\n    </tr>\n    <tr>\n      <th>7</th>\n      <td>a15f0041a10f89424fd990da7a46cd70-8</td>\n      <td>No Risk</td>\n      <td>[0.6993525871384599, 0.30064741286154006]</td>\n    </tr>\n    <tr>\n      <th>8</th>\n      <td>a15f0041a10f89424fd990da7a46cd70-9</td>\n      <td>No Risk</td>\n      <td>[0.6693655841048836, 0.3306344158951165]</td>\n    </tr>\n    <tr>\n      <th>9</th>\n      <td>a15f0041a10f89424fd990da7a46cd70-10</td>\n      <td>No Risk</td>\n      <td>[0.7304434531663005, 0.2695565468336995]</td>\n    </tr>\n    <tr>\n      <th>10</th>\n      <td>a15f0041a10f89424fd990da7a46cd70-11</td>\n      <td>No Risk</td>\n      <td>[0.9584454602294539, 0.04155453977054613]</td>\n    </tr>\n    <tr>\n      <th>11</th>\n      <td>a15f0041a10f89424fd990da7a46cd70-12</td>\n      <td>No Risk</td>\n      <td>[0.7021981288826931, 0.29780187111730705]</td>\n    </tr>\n    <tr>\n      <th>12</th>\n      <td>a15f0041a10f89424fd990da7a46cd70-13</td>\n      <td>No Risk</td>\n      <td>[0.7093801367545246, 0.2906198632454754]</td>\n    </tr>\n    <tr>\n      <th>13</th>\n      <td>a15f0041a10f89424fd990da7a46cd70-14</td>\n      <td>No Risk</td>\n      <td>[0.9392355458651304, 0.06076445413486954]</td>\n    </tr>\n    <tr>\n      <th>14</th>\n      <td>a15f0041a10f89424fd990da7a46cd70-15</td>\n      <td>Risk</td>\n      <td>[0.058076200140015175, 0.9419237998599849]</td>\n    </tr>\n    <tr>\n      <th>15</th>\n      <td>a15f0041a10f89424fd990da7a46cd70-16</td>\n      <td>No Risk</td>\n      <td>[0.6102184969429161, 0.3897815030570838]</td>\n    </tr>\n    <tr>\n      <th>16</th>\n      <td>a15f0041a10f89424fd990da7a46cd70-17</td>\n      <td>No Risk</td>\n      <td>[0.9509224958774917, 0.049077504122508234]</td>\n    </tr>\n    <tr>\n      <th>17</th>\n      <td>a15f0041a10f89424fd990da7a46cd70-18</td>\n      <td>No Risk</td>\n      <td>[0.5764536894704352, 0.4235463105295647]</td>\n    </tr>\n    <tr>\n      <th>18</th>\n      <td>a15f0041a10f89424fd990da7a46cd70-19</td>\n      <td>No Risk</td>\n      <td>[0.9317177452459838, 0.0682822547540162]</td>\n    </tr>\n    <tr>\n      <th>19</th>\n      <td>a15f0041a10f89424fd990da7a46cd70-20</td>\n      <td>No Risk</td>\n      <td>[0.7475554492208386, 0.2524445507791614]</td>\n    </tr>\n  </tbody>\n</table>\n</div>",
                        "text/plain": "                             scoring_id predictedLabel  \\\n0    a15f0041a10f89424fd990da7a46cd70-1        No Risk   \n1    a15f0041a10f89424fd990da7a46cd70-2           Risk   \n2    a15f0041a10f89424fd990da7a46cd70-3        No Risk   \n3    a15f0041a10f89424fd990da7a46cd70-4           Risk   \n4    a15f0041a10f89424fd990da7a46cd70-5        No Risk   \n5    a15f0041a10f89424fd990da7a46cd70-6        No Risk   \n6    a15f0041a10f89424fd990da7a46cd70-7        No Risk   \n7    a15f0041a10f89424fd990da7a46cd70-8        No Risk   \n8    a15f0041a10f89424fd990da7a46cd70-9        No Risk   \n9   a15f0041a10f89424fd990da7a46cd70-10        No Risk   \n10  a15f0041a10f89424fd990da7a46cd70-11        No Risk   \n11  a15f0041a10f89424fd990da7a46cd70-12        No Risk   \n12  a15f0041a10f89424fd990da7a46cd70-13        No Risk   \n13  a15f0041a10f89424fd990da7a46cd70-14        No Risk   \n14  a15f0041a10f89424fd990da7a46cd70-15           Risk   \n15  a15f0041a10f89424fd990da7a46cd70-16        No Risk   \n16  a15f0041a10f89424fd990da7a46cd70-17        No Risk   \n17  a15f0041a10f89424fd990da7a46cd70-18        No Risk   \n18  a15f0041a10f89424fd990da7a46cd70-19        No Risk   \n19  a15f0041a10f89424fd990da7a46cd70-20        No Risk   \n\n                                   probability  \n0     [0.8125602651878072, 0.1874397348121928]  \n1    [0.11606945409188785, 0.8839305459081122]  \n2    [0.8256910983026791, 0.17430890169732094]  \n3     [0.4179691075745774, 0.5820308924254227]  \n4    [0.6579680999628722, 0.34203190003712775]  \n5    [0.7161474165735514, 0.28385258342644853]  \n6    [0.6175388680662374, 0.38246113193376263]  \n7    [0.6993525871384599, 0.30064741286154006]  \n8     [0.6693655841048836, 0.3306344158951165]  \n9     [0.7304434531663005, 0.2695565468336995]  \n10   [0.9584454602294539, 0.04155453977054613]  \n11   [0.7021981288826931, 0.29780187111730705]  \n12    [0.7093801367545246, 0.2906198632454754]  \n13   [0.9392355458651304, 0.06076445413486954]  \n14  [0.058076200140015175, 0.9419237998599849]  \n15    [0.6102184969429161, 0.3897815030570838]  \n16  [0.9509224958774917, 0.049077504122508234]  \n17    [0.5764536894704352, 0.4235463105295647]  \n18    [0.9317177452459838, 0.0682822547540162]  \n19    [0.7475554492208386, 0.2524445507791614]  "
                    },
                    "execution_count": 146,
                    "metadata": {},
                    "output_type": "execute_result"
                }
            ],
            "source": "payload_data = subscription.payload_logging.get_table_content(limit=20)\npayload_data.filter(items=['scoring_id', 'predictedLabel', 'probability'])"
        },
        {
            "cell_type": "markdown",
            "metadata": {},
            "source": "## Congratulations!\n\nYou have finished the hands-on lab for IBM Watson OpenScale. You can now view the [OpenScale Dashboard](https://aiopenscale.cloud.ibm.com/). Click on the tile for the German Credit model to see fairness, accuracy, and performance monitors. Click on the timeseries graph to get detailed information on transactions during a specific time window.\n\n## Next steps\n\nOpenScale shows model performance over time. You have two options to keep data flowing to your OpenScale graphs:\n  * Download, configure and schedule the [model feed notebook](https://raw.githubusercontent.com/emartensibm/german-credit/master/german_credit_scoring_feed.ipynb). This notebook can be set up with your WML credentials, and scheduled to provide a consistent flow of scoring requests to your model, which will appear in your OpenScale monitors.\n  * Re-run this notebook. Running this notebook from the beginning will delete and re-create the model and deployment, and re-create the historical data. Please note that the payload and measurement logs for the previous deployment will continue to be stored in your datamart, and can be deleted if necessary."
        },
        {
            "cell_type": "markdown",
            "metadata": {},
            "source": "## Authors\n\nEric Martens, is a technical specialist having expertise in analysis and description of business processes, and their translation into functional and non-functional IT requirements. He acts as the interpreter between the worlds of IT and business.\n\nLukasz Cmielowski, PhD, is an Automation Architect and Data Scientist at IBM with a track record of developing enterprise-level applications that substantially increases clients' ability to turn data into actionable knowledge."
        }
    ],
    "metadata": {
        "kernelspec": {
            "display_name": "Python 3.6 with Spark",
            "language": "python3",
            "name": "python36"
        },
        "language_info": {
            "codemirror_mode": {
                "name": "ipython",
                "version": 3
            },
            "file_extension": ".py",
            "mimetype": "text/x-python",
            "name": "python",
            "nbconvert_exporter": "python",
            "pygments_lexer": "ipython3",
            "version": "3.6.8"
        }
    },
    "nbformat": 4,
    "nbformat_minor": 1
}