{
    "nbformat_minor": 1, 
    "cells": [
        {
            "source": "<img src=\"https://github.com/pmservice/ai-openscale-tutorials/raw/master/notebooks/images/banner.png\" align=\"left\" alt=\"banner\">", 
            "cell_type": "markdown", 
            "metadata": {}
        }, 
        {
            "source": "# Working with Watson Machine Learning", 
            "cell_type": "markdown", 
            "metadata": {}
        }, 
        {
            "source": "This notebook should be run in a Watson Studio project, using **Default Spark Python** runtime environment. **If you are viewing this in Watson Studio and do not see Python 3.5 with Spark in the upper right corner of your screen, please update the runtime now.** It requires service credentials for the following Cloud services:\n  * Watson OpenScale\n  * Watson Machine Learning\n  \nIf you have a paid Cloud account, you may also provision a **Databases for PostgreSQL** or **Db2 Warehouse** service to take full advantage of integration with Watson Studio and continuous learning services. If you choose not to provision this paid service, you can use the free internal PostgreSQL storage with OpenScale, but will not be able to configure continuous learning for your model.\n\nThe notebook will train, create and deploy a German Credit Risk model, configure OpenScale to monitor that deployment, and inject seven days' worth of historical records and measurements for viewing in the OpenScale Insights dashboard.", 
            "cell_type": "markdown", 
            "metadata": {}
        }, 
        {
            "source": "### Contents\n\n- [Setup](#setup)\n- [Model building and deployment](#model)\n- [OpenScale configuration](#openscale)\n- [Quality monitor and feedback logging](#quality)\n- [Fairness monitoring and explanations](#fairness)\n- [Custom monitors and metrics](#custom)\n- [Payload analytics](#analytics)\n- [Historical data](#historical)", 
            "cell_type": "markdown", 
            "metadata": {}
        }, 
        {
            "source": "# Setup <a name=\"setup\"></a>", 
            "cell_type": "markdown", 
            "metadata": {}
        }, 
        {
            "source": "## Spark check", 
            "cell_type": "markdown", 
            "metadata": {}
        }, 
        {
            "execution_count": 1, 
            "cell_type": "code", 
            "metadata": {}, 
            "outputs": [
                {
                    "output_type": "stream", 
                    "name": "stdout", 
                    "text": "Waiting for a Spark session to start...\nSpark Initialization Done! ApplicationId = app-20190603090000-0000\nKERNEL_ID = b4cfde9f-65a2-4334-8c18-ff3b942fb6ba\n"
                }
            ], 
            "source": "try:\n    from pyspark.sql import SparkSession\nexcept:\n    print('Error: Spark runtime is missing. If you are using Watson Studio change the notebook runtime to Spark.')\n    raise "
        }, 
        {
            "source": "## Package installation", 
            "cell_type": "markdown", 
            "metadata": {
                "collapsed": true
            }
        }, 
        {
            "execution_count": 1, 
            "cell_type": "code", 
            "metadata": {}, 
            "outputs": [
                {
                    "output_type": "stream", 
                    "name": "stdout", 
                    "text": "Waiting for a Spark session to start...\nSpark Initialization Done! ApplicationId = app-20190603141045-0001\nKERNEL_ID = 368a2137-ac0b-4677-abbc-efd7b27f27aa\n\u001b[31mtensorflow 1.13.1 requires tensorboard<1.14.0,>=1.13.0, which is not installed.\u001b[0m\n\u001b[31mspyder 3.3.3 requires pyqt5<=5.12; python_version >= \"3\", which is not installed.\u001b[0m\n\u001b[31mibm-cos-sdk-core 2.4.4 has requirement urllib3<1.25,>=1.20, but you'll have urllib3 1.25.3 which is incompatible.\u001b[0m\n\u001b[31mbotocore 1.12.82 has requirement urllib3<1.25,>=1.20, but you'll have urllib3 1.25.3 which is incompatible.\u001b[0m\nSuccessfully installed certifi-2019.3.9 chardet-3.0.4 docutils-0.14 h5py-2.9.0 ibm-ai-openscale-2.1.7 ibm-cos-sdk-2.4.4 ibm-cos-sdk-core-2.4.4 ibm-cos-sdk-s3transfer-2.4.4 idna-2.8 jmespath-0.9.4 lomond-0.3.3 numpy-1.16.4 pandas-0.24.2 python-dateutil-2.8.0 pytz-2019.1 requests-2.22.0 six-1.12.0 tabulate-0.8.3 tqdm-4.32.1 urllib3-1.25.3 watson-machine-learning-client-1.0.365\n\u001b[31mtensorflow 1.13.1 requires tensorboard<1.14.0,>=1.13.0, which is not installed.\u001b[0m\n\u001b[31mspyder 3.3.3 requires pyqt5<=5.12; python_version >= \"3\", which is not installed.\u001b[0m\n\u001b[31mibm-cos-sdk-core 2.4.4 has requirement urllib3<1.25,>=1.20, but you'll have urllib3 1.25.3 which is incompatible.\u001b[0m\n\u001b[31mbotocore 1.12.82 has requirement urllib3<1.25,>=1.20, but you'll have urllib3 1.25.3 which is incompatible.\u001b[0m\nSuccessfully installed certifi-2019.3.9 chardet-3.0.4 docutils-0.14 ibm-cos-sdk-2.4.4 ibm-cos-sdk-core-2.4.4 ibm-cos-sdk-s3transfer-2.4.4 idna-2.8 jmespath-0.9.4 lomond-0.3.3 numpy-1.16.4 pandas-0.24.2 python-dateutil-2.8.0 pytz-2019.1 requests-2.22.0 six-1.12.0 tabulate-0.8.3 tqdm-4.32.1 urllib3-1.25.3 watson-machine-learning-client-1.0.365\n\u001b[31mtensorflow 1.13.1 requires tensorboard<1.14.0,>=1.13.0, which is not installed.\u001b[0m\nSuccessfully installed numpy-1.16.4\n\u001b[31mtensorflow 1.13.1 requires tensorboard<1.14.0,>=1.13.0, which is not installed.\u001b[0m\nSuccessfully installed SciPy-1.3.0 numpy-1.16.4\n\u001b[31mtensorflow 1.13.1 requires tensorboard<1.14.0,>=1.13.0, which is not installed.\u001b[0m\n\u001b[31mibm-cos-sdk-core 2.4.4 has requirement urllib3<1.25,>=1.20, but you'll have urllib3 1.25.3 which is incompatible.\u001b[0m\n\u001b[31mbotocore 1.12.82 has requirement urllib3<1.25,>=1.20, but you'll have urllib3 1.25.3 which is incompatible.\u001b[0m\n\u001b[33mTarget directory /home/spark/shared/user-libs/python3/numpy already exists. Specify --upgrade to force replacement.\u001b[0m\n\u001b[33mTarget directory /home/spark/shared/user-libs/python3/scipy-1.3.0.dist-info already exists. Specify --upgrade to force replacement.\u001b[0m\n\u001b[33mTarget directory /home/spark/shared/user-libs/python3/numpy-1.16.4.dist-info already exists. Specify --upgrade to force replacement.\u001b[0m\n\u001b[33mTarget directory /home/spark/shared/user-libs/python3/six-1.12.0.dist-info already exists. Specify --upgrade to force replacement.\u001b[0m\n\u001b[33mTarget directory /home/spark/shared/user-libs/python3/python_dateutil-2.8.0.dist-info already exists. Specify --upgrade to force replacement.\u001b[0m\n\u001b[33mTarget directory /home/spark/shared/user-libs/python3/scipy already exists. Specify --upgrade to force replacement.\u001b[0m\n\u001b[33mTarget directory /home/spark/shared/user-libs/python3/__pycache__ already exists. Specify --upgrade to force replacement.\u001b[0m\n\u001b[33mTarget directory /home/spark/shared/user-libs/python3/dateutil already exists. Specify --upgrade to force replacement.\u001b[0m\n\u001b[33mTarget directory /home/spark/shared/user-libs/python3/six.py already exists. Specify --upgrade to force replacement.\u001b[0m\n\u001b[33mTarget directory /home/spark/shared/user-libs/python3/bin already exists. Specify --upgrade to force replacement.\u001b[0m\nSuccessfully installed PyWavelets-1.0.3 cycler-0.10.0 decorator-4.4.0 imageio-2.5.0 joblib-0.13.2 kiwisolver-1.1.0 lime-0.1.1.34 matplotlib-3.1.0 networkx-2.3 numpy-1.16.4 pillow-6.0.0 pyparsing-2.4.0 python-dateutil-2.8.0 scikit-image-0.15.0 scikit-learn-0.21.2 scipy-1.3.0 setuptools-41.0.1 six-1.12.0\n\u001b[31mtensorflow 1.13.1 requires tensorboard<1.14.0,>=1.13.0, which is not installed.\u001b[0m\n\u001b[31mspyder 3.3.3 requires pyqt5<=5.12; python_version >= \"3\", which is not installed.\u001b[0m\n\u001b[31mibm-cos-sdk-core 2.4.4 has requirement urllib3<1.25,>=1.20, but you'll have urllib3 1.25.3 which is incompatible.\u001b[0m\n\u001b[31mbotocore 1.12.82 has requirement urllib3<1.25,>=1.20, but you'll have urllib3 1.25.3 which is incompatible.\u001b[0m\n\u001b[33mTarget directory /home/spark/shared/user-libs/python3/easy_install.py already exists. Specify --upgrade to force replacement.\u001b[0m\n\u001b[33mTarget directory /home/spark/shared/user-libs/python3/setuptools already exists. Specify --upgrade to force replacement.\u001b[0m\n\u001b[33mTarget directory /home/spark/shared/user-libs/python3/urllib3-1.25.3.dist-info already exists. Specify --upgrade to force replacement.\u001b[0m\n\u001b[33mTarget directory /home/spark/shared/user-libs/python3/urllib3 already exists. Specify --upgrade to force replacement.\u001b[0m\n\u001b[33mTarget directory /home/spark/shared/user-libs/python3/requests already exists. Specify --upgrade to force replacement.\u001b[0m\n\u001b[33mTarget directory /home/spark/shared/user-libs/python3/idna-2.8.dist-info already exists. Specify --upgrade to force replacement.\u001b[0m\n\u001b[33mTarget directory /home/spark/shared/user-libs/python3/requests-2.22.0.dist-info already exists. Specify --upgrade to force replacement.\u001b[0m\n\u001b[33mTarget directory /home/spark/shared/user-libs/python3/pkg_resources already exists. Specify --upgrade to force replacement.\u001b[0m\n\u001b[33mTarget directory /home/spark/shared/user-libs/python3/chardet-3.0.4.dist-info already exists. Specify --upgrade to force replacement.\u001b[0m\n\u001b[33mTarget directory /home/spark/shared/user-libs/python3/idna already exists. Specify --upgrade to force replacement.\u001b[0m\n\u001b[33mTarget directory /home/spark/shared/user-libs/python3/certifi already exists. Specify --upgrade to force replacement.\u001b[0m\n\u001b[33mTarget directory /home/spark/shared/user-libs/python3/six-1.12.0.dist-info already exists. Specify --upgrade to force replacement.\u001b[0m\n\u001b[33mTarget directory /home/spark/shared/user-libs/python3/setuptools-41.0.1.dist-info already exists. Specify --upgrade to force replacement.\u001b[0m\n\u001b[33mTarget directory /home/spark/shared/user-libs/python3/__pycache__ already exists. Specify --upgrade to force replacement.\u001b[0m\n\u001b[33mTarget directory /home/spark/shared/user-libs/python3/certifi-2019.3.9.dist-info already exists. Specify --upgrade to force replacement.\u001b[0m\n\u001b[33mTarget directory /home/spark/shared/user-libs/python3/six.py already exists. Specify --upgrade to force replacement.\u001b[0m\n\u001b[33mTarget directory /home/spark/shared/user-libs/python3/chardet already exists. Specify --upgrade to force replacement.\u001b[0m\n\u001b[33mTarget directory /home/spark/shared/user-libs/python3/bin already exists. Specify --upgrade to force replacement.\u001b[0m\nSuccessfully installed astunparse-1.6.2 certifi-2019.3.9 chardet-3.0.4 colour-0.1.5 geojson-2.4.1 idna-2.8 lxml-4.3.3 markdown-3.1.1 mpld3-0.3 pixiedust-1.1.17 requests-2.22.0 setuptools-41.0.1 six-1.12.0 urllib3-1.25.3 wheel-0.33.4\n"
                }
            ], 
            "source": "!rm -rf /home/spark/shared/user-libs/python3/*\n\n!pip install --upgrade ibm-ai-openscale --no-cache | tail -n 1\n!pip install --upgrade watson-machine-learning-client | tail -n 1\n!pip install --upgrade numpy --no-cache | tail -n 1\n!pip install --upgrade SciPy --no-cache | tail -n 1\n!pip install lime --no-cache | tail -n 1\n!pip install pixiedust | tail -n 1"
        }, 
        {
            "source": "## Provision services and configure credentials", 
            "cell_type": "markdown", 
            "metadata": {}
        }, 
        {
            "source": "If you have not already, provision an instance of IBM Watson OpenScale using the [OpenScale link in the Cloud catalog](https://cloud.ibm.com/catalog/services/watson-openscale).", 
            "cell_type": "markdown", 
            "metadata": {}
        }, 
        {
            "source": "Your Cloud API key can be generated by going to the [**Users** section of the Cloud console](https://cloud.ibm.com/iam#/users). From that page, click your name, scroll down to the **API Keys** section, and click **Create an IBM Cloud API key**. Give your key a name and click **Create**, then copy the created key and paste it below.", 
            "cell_type": "markdown", 
            "metadata": {}
        }, 
        {
            "source": "**NOTE:** You can also get OpenScale `API_KEY` using IBM CLOUD CLI.\n\nHow to install IBM Cloud (bluemix) console: [instruction](https://console.bluemix.net/docs/cli/reference/ibmcloud/download_cli.html#install_use)\n\nHow to get api key using console:\n```\nbx login --sso\nbx iam api-key-create 'my_key'\n```", 
            "cell_type": "markdown", 
            "metadata": {}
        }, 
        {
            "execution_count": 2, 
            "cell_type": "code", 
            "metadata": {
                "scrolled": true
            }, 
            "outputs": [], 
            "source": "CLOUD_API_KEY = \"PASTE HERE\""
        }, 
        {
            "execution_count": 3, 
            "cell_type": "code", 
            "metadata": {}, 
            "outputs": [], 
            "source": "# The code was removed by Watson Studio for sharing."
        }, 
        {
            "source": "Next you will need credentials for Watson Machine Learning. If you already have a WML instance, you may use credentials for it. To provision a new Lite instance of WML, use the [Cloud catalog](https://cloud.ibm.com/catalog/services/machine-learning), give your service a name, and click **Create**. Once your instance is created, click the **Service Credentials** link on the left side of the screen. Click the **New credential** button, give your credentials a name, and click **Add**. Your new credentials can be accessed by clicking the **View credentials** button. Copy and paste your WML credentials into the cell below.", 
            "cell_type": "markdown", 
            "metadata": {}
        }, 
        {
            "execution_count": 4, 
            "cell_type": "code", 
            "metadata": {
                "scrolled": true
            }, 
            "outputs": [], 
            "source": "WML_CREDENTIALS = {\n    \"apikey\": \"key\",\n    \"iam_apikey_description\": \"description\",\n    \"iam_apikey_name\": \"auto-generated-apikey\",\n    \"iam_role_crn\": \"crn:v1:bluemix:public:iam::::serviceRole:Writer\",\n    \"iam_serviceid_crn\": \"crn:v1:bluemix:public:iam-identity::\",\n    \"instance_id\": \"instance_id\",\n    \"password\": \"password\",\n    \"url\": \"https://us-south.ml.cloud.ibm.com\",\n    \"username\": \"username\"\n}"
        }, 
        {
            "execution_count": 5, 
            "cell_type": "code", 
            "metadata": {}, 
            "outputs": [], 
            "source": "# The code was removed by Watson Studio for sharing."
        }, 
        {
            "source": "This tutorial can use Databases for PostgreSQL, Db2 Warehouse, or a free internal verison of PostgreSQL to create a datamart for OpenScale.\n\nIf you have previously configured OpenScale, it will use your existing datamart, and not interfere with any models you are currently monitoring. Do not update the cell below.\n\nIf you do not have a paid Cloud account or would prefer not to provision this paid service, you may use the free internal PostgreSQL service with OpenScale. Do not update the cell below.\n\nTo provision a new instance of Db2 Warehouse, locate [Db2 Warehouse in the Cloud catalog](https://cloud.ibm.com/catalog/services/db2-warehouse), give your service a name, and click **Create**. Once your instance is created, click the **Service Credentials** link on the left side of the screen. Click the **New credential** button, give your credentials a name, and click **Add**. Your new credentials can be accessed by clicking the **View credentials** button. Copy and paste your Db2 Warehouse credentials into the cell below.\n\nTo provision a new instance of Databases for PostgreSQL, locate [Databases for PostgreSQL in the Cloud catalog](https://cloud.ibm.com/catalog/services/databases-for-postgresql), give your service a name, and click **Create**. Once your instance is created, click the **Service Credentials** link on the left side of the screen. Click the **New credential** button, give your credentials a name, and click **Add**. Your new credentials can be accessed by clicking the **View credentials** button. Copy and paste your Databases for PostgreSQL credentials into the cell below.", 
            "cell_type": "markdown", 
            "metadata": {}
        }, 
        {
            "execution_count": 6, 
            "cell_type": "code", 
            "metadata": {
                "scrolled": true
            }, 
            "outputs": [], 
            "source": "DB_CREDENTIALS = None"
        }, 
        {
            "source": "__If you previously configured OpenScale to use the free internal version of PostgreSQL, you can switch to a new datamart using a paid database service.__ If you would like to delete the internal PostgreSQL configuration and create a new one using service credentials supplied in the cell above, set the __KEEP_MY_INTERNAL_POSTGRES__ variable below to __False__ below. In this case, the notebook will remove your existing internal PostgreSQL datamart and create a new one with the supplied credentials. __*NO DATA MIGRATION WILL OCCUR.*__", 
            "cell_type": "markdown", 
            "metadata": {}
        }, 
        {
            "execution_count": 7, 
            "cell_type": "code", 
            "metadata": {}, 
            "outputs": [], 
            "source": "KEEP_MY_INTERNAL_POSTGRES = True"
        }, 
        {
            "source": "## Run the notebook\n\nAt this point, the notebook is ready to run. You can either run the cells one at a time, or click the **Kernel** option above and select **Restart and Run All** to run all the cells.", 
            "cell_type": "markdown", 
            "metadata": {}
        }, 
        {
            "source": "# Model building and deployment <a name=\"model\"></a>", 
            "cell_type": "markdown", 
            "metadata": {}
        }, 
        {
            "source": "In this section you will learn how to train Spark MLLib model and next deploy it as web-service using Watson Machine Learning service.", 
            "cell_type": "markdown", 
            "metadata": {}
        }, 
        {
            "source": "## Load the training data from github", 
            "cell_type": "markdown", 
            "metadata": {}
        }, 
        {
            "execution_count": 8, 
            "cell_type": "code", 
            "metadata": {
                "scrolled": true
            }, 
            "outputs": [
                {
                    "output_type": "stream", 
                    "name": "stdout", 
                    "text": "--2019-06-03 14:13:45--  https://raw.githubusercontent.com/pmservice/ai-openscale-tutorials/master/assets/historical_data/german_credit_risk/wml/german_credit_data_biased_training.csv\nResolving raw.githubusercontent.com (raw.githubusercontent.com)... 151.101.48.133\nConnecting to raw.githubusercontent.com (raw.githubusercontent.com)|151.101.48.133|:443... connected.\nHTTP request sent, awaiting response... 200 OK\nLength: 689622 (673K) [text/plain]\nSaving to: 'german_credit_data_biased_training.csv'\n\ngerman_credit_data_ 100%[===================>] 673.46K  --.-KB/s    in 0.06s   \n\n2019-06-03 14:13:46 (11.0 MB/s) - 'german_credit_data_biased_training.csv' saved [689622/689622]\n\n"
                }
            ], 
            "source": "!rm german_credit_data_biased_training.csv\n!wget https://raw.githubusercontent.com/pmservice/ai-openscale-tutorials/master/assets/historical_data/german_credit_risk/wml/german_credit_data_biased_training.csv"
        }, 
        {
            "execution_count": 9, 
            "cell_type": "code", 
            "metadata": {
                "scrolled": true
            }, 
            "outputs": [
                {
                    "execution_count": 9, 
                    "metadata": {}, 
                    "data": {
                        "text/plain": "Row(CheckingStatus='0_to_200', LoanDuration=31, CreditHistory='credits_paid_to_date', LoanPurpose='other', LoanAmount=1889, ExistingSavings='100_to_500', EmploymentDuration='less_1', InstallmentPercent=3, Sex='female', OthersOnLoan='none', CurrentResidenceDuration=3, OwnsProperty='savings_insurance', Age=32, InstallmentPlans='none', Housing='own', ExistingCreditsCount=1, Job='skilled', Dependents=1, Telephone='none', ForeignWorker='yes', Risk='No Risk')"
                    }, 
                    "output_type": "execute_result"
                }
            ], 
            "source": "from pyspark.sql import SparkSession\nimport pandas as pd\nimport json\n\nspark = SparkSession.builder.getOrCreate()\npd_data = pd.read_csv(\"german_credit_data_biased_training.csv\", sep=\",\", header=0)\ndf_data = spark.read.csv(path=\"german_credit_data_biased_training.csv\", sep=\",\", header=True, inferSchema=True)\ndf_data.head()"
        }, 
        {
            "source": "## Explore data", 
            "cell_type": "markdown", 
            "metadata": {}
        }, 
        {
            "execution_count": 10, 
            "cell_type": "code", 
            "metadata": {
                "scrolled": true
            }, 
            "outputs": [
                {
                    "output_type": "stream", 
                    "name": "stdout", 
                    "text": "root\n |-- CheckingStatus: string (nullable = true)\n |-- LoanDuration: integer (nullable = true)\n |-- CreditHistory: string (nullable = true)\n |-- LoanPurpose: string (nullable = true)\n |-- LoanAmount: integer (nullable = true)\n |-- ExistingSavings: string (nullable = true)\n |-- EmploymentDuration: string (nullable = true)\n |-- InstallmentPercent: integer (nullable = true)\n |-- Sex: string (nullable = true)\n |-- OthersOnLoan: string (nullable = true)\n |-- CurrentResidenceDuration: integer (nullable = true)\n |-- OwnsProperty: string (nullable = true)\n |-- Age: integer (nullable = true)\n |-- InstallmentPlans: string (nullable = true)\n |-- Housing: string (nullable = true)\n |-- ExistingCreditsCount: integer (nullable = true)\n |-- Job: string (nullable = true)\n |-- Dependents: integer (nullable = true)\n |-- Telephone: string (nullable = true)\n |-- ForeignWorker: string (nullable = true)\n |-- Risk: string (nullable = true)\n\n"
                }
            ], 
            "source": "df_data.printSchema()"
        }, 
        {
            "execution_count": 11, 
            "cell_type": "code", 
            "metadata": {
                "scrolled": true
            }, 
            "outputs": [
                {
                    "output_type": "stream", 
                    "name": "stdout", 
                    "text": "Number of records: 5000\n"
                }
            ], 
            "source": "print(\"Number of records: \" + str(df_data.count()))"
        }, 
        {
            "source": "## Visualize data with pixiedust", 
            "cell_type": "markdown", 
            "metadata": {}
        }, 
        {
            "execution_count": 12, 
            "cell_type": "code", 
            "metadata": {}, 
            "outputs": [
                {
                    "output_type": "stream", 
                    "name": "stdout", 
                    "text": "Pixiedust database opened successfully\n"
                }, 
                {
                    "output_type": "display_data", 
                    "data": {
                        "text/html": "\n        <div style=\"margin:10px\">\n            <a href=\"https://github.com/ibm-watson-data-lab/pixiedust\" target=\"_new\">\n                <img src=\"https://github.com/ibm-watson-data-lab/pixiedust/raw/master/docs/_static/pd_icon32.png\" style=\"float:left;margin-right:10px\"/>\n            </a>\n            <span>Pixiedust version upgraded from 1.1.16 to 1.1.17</span>\n        </div>\n        ", 
                        "text/plain": "<IPython.core.display.HTML object>"
                    }, 
                    "metadata": {}
                }
            ], 
            "source": "import pixiedust"
        }, 
        {
            "execution_count": null, 
            "cell_type": "code", 
            "metadata": {
                "pixiedust": {
                    "displayParams": {
                        "handlerId": "pieChart", 
                        "keyFields": "Risk", 
                        "rendererId": "bokeh", 
                        "chartsize": "50", 
                        "mpld3": "false", 
                        "aggregation": "COUNT"
                    }
                }
            }, 
            "outputs": [
                {
                    "output_type": "display_data", 
                    "data": {
                        "text/html": "<style type=\"text/css\">.pd_warning{display:none;}</style><div class=\"pd_warning\"><em>Hey, there's something awesome here! To see it, open this notebook outside GitHub, in a viewer like Jupyter</em></div>\n        <div class=\"pd_save is-viewer-good\" style=\"padding-right:10px;text-align: center;line-height:initial !important;font-size: xx-large;font-weight: 500;color: coral;\">\n            \n        </div>\n    <div id=\"chartFigure824bb12e\" class=\"pd_save is-viewer-good\" style=\"overflow-x:auto\">\n            \n                    \n                            <center><img style=\"max-width:initial !important\" src=\"data:image/png;base64,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\" class=\"pd_save\"></center>\n                        \n                    \n                \n        </div>", 
                        "text/plain": "<IPython.core.display.HTML object>"
                    }, 
                    "metadata": {}
                }
            ], 
            "source": "display(df_data)"
        }, 
        {
            "source": "## Create a model", 
            "cell_type": "markdown", 
            "metadata": {}
        }, 
        {
            "execution_count": 14, 
            "cell_type": "code", 
            "metadata": {
                "scrolled": true
            }, 
            "outputs": [
                {
                    "output_type": "stream", 
                    "name": "stdout", 
                    "text": "Number of records for training: 4016\nNumber of records for evaluation: 984\nroot\n |-- CheckingStatus: string (nullable = true)\n |-- LoanDuration: integer (nullable = true)\n |-- CreditHistory: string (nullable = true)\n |-- LoanPurpose: string (nullable = true)\n |-- LoanAmount: integer (nullable = true)\n |-- ExistingSavings: string (nullable = true)\n |-- EmploymentDuration: string (nullable = true)\n |-- InstallmentPercent: integer (nullable = true)\n |-- Sex: string (nullable = true)\n |-- OthersOnLoan: string (nullable = true)\n |-- CurrentResidenceDuration: integer (nullable = true)\n |-- OwnsProperty: string (nullable = true)\n |-- Age: integer (nullable = true)\n |-- InstallmentPlans: string (nullable = true)\n |-- Housing: string (nullable = true)\n |-- ExistingCreditsCount: integer (nullable = true)\n |-- Job: string (nullable = true)\n |-- Dependents: integer (nullable = true)\n |-- Telephone: string (nullable = true)\n |-- ForeignWorker: string (nullable = true)\n |-- Risk: string (nullable = true)\n\n"
                }
            ], 
            "source": "spark_df = df_data\n(train_data, test_data) = spark_df.randomSplit([0.8, 0.2], 24)\n\nMODEL_NAME = \"Spark German Risk Model - Final\"\nDEPLOYMENT_NAME = \"Spark German Risk Deployment - Final\"\n\nprint(\"Number of records for training: \" + str(train_data.count()))\nprint(\"Number of records for evaluation: \" + str(test_data.count()))\n\nspark_df.printSchema()"
        }, 
        {
            "source": "The code below creates a Random Forest Classifier with Spark, setting up string indexers for the categorical features and the label column. Finally, this notebook creates a pipeline including the indexers and the model, and does an initial Area Under ROC evaluation of the model.", 
            "cell_type": "markdown", 
            "metadata": {}
        }, 
        {
            "execution_count": 15, 
            "cell_type": "code", 
            "metadata": {
                "scrolled": true
            }, 
            "outputs": [], 
            "source": "from pyspark.ml.feature import OneHotEncoder, StringIndexer, IndexToString, VectorAssembler\nfrom pyspark.ml.evaluation import BinaryClassificationEvaluator\nfrom pyspark.ml import Pipeline, Model\n\nsi_CheckingStatus = StringIndexer(inputCol = 'CheckingStatus', outputCol = 'CheckingStatus_IX')\nsi_CreditHistory = StringIndexer(inputCol = 'CreditHistory', outputCol = 'CreditHistory_IX')\nsi_LoanPurpose = StringIndexer(inputCol = 'LoanPurpose', outputCol = 'LoanPurpose_IX')\nsi_ExistingSavings = StringIndexer(inputCol = 'ExistingSavings', outputCol = 'ExistingSavings_IX')\nsi_EmploymentDuration = StringIndexer(inputCol = 'EmploymentDuration', outputCol = 'EmploymentDuration_IX')\nsi_Sex = StringIndexer(inputCol = 'Sex', outputCol = 'Sex_IX')\nsi_OthersOnLoan = StringIndexer(inputCol = 'OthersOnLoan', outputCol = 'OthersOnLoan_IX')\nsi_OwnsProperty = StringIndexer(inputCol = 'OwnsProperty', outputCol = 'OwnsProperty_IX')\nsi_InstallmentPlans = StringIndexer(inputCol = 'InstallmentPlans', outputCol = 'InstallmentPlans_IX')\nsi_Housing = StringIndexer(inputCol = 'Housing', outputCol = 'Housing_IX')\nsi_Job = StringIndexer(inputCol = 'Job', outputCol = 'Job_IX')\nsi_Telephone = StringIndexer(inputCol = 'Telephone', outputCol = 'Telephone_IX')\nsi_ForeignWorker = StringIndexer(inputCol = 'ForeignWorker', outputCol = 'ForeignWorker_IX')"
        }, 
        {
            "execution_count": 16, 
            "cell_type": "code", 
            "metadata": {
                "scrolled": true
            }, 
            "outputs": [], 
            "source": "si_Label = StringIndexer(inputCol=\"Risk\", outputCol=\"label\").fit(spark_df)\nlabel_converter = IndexToString(inputCol=\"prediction\", outputCol=\"predictedLabel\", labels=si_Label.labels)"
        }, 
        {
            "execution_count": 17, 
            "cell_type": "code", 
            "metadata": {
                "scrolled": true
            }, 
            "outputs": [], 
            "source": "va_features = VectorAssembler(inputCols=[\"CheckingStatus_IX\", \"CreditHistory_IX\", \"LoanPurpose_IX\", \"ExistingSavings_IX\", \"EmploymentDuration_IX\", \"Sex_IX\", \\\n                                         \"OthersOnLoan_IX\", \"OwnsProperty_IX\", \"InstallmentPlans_IX\", \"Housing_IX\", \"Job_IX\", \"Telephone_IX\", \"ForeignWorker_IX\", \\\n                                         \"LoanDuration\", \"LoanAmount\", \"InstallmentPercent\", \"CurrentResidenceDuration\", \"LoanDuration\", \"Age\", \"ExistingCreditsCount\", \\\n                                         \"Dependents\"], outputCol=\"features\")"
        }, 
        {
            "execution_count": 18, 
            "cell_type": "code", 
            "metadata": {
                "scrolled": true
            }, 
            "outputs": [], 
            "source": "from pyspark.ml.classification import RandomForestClassifier\nclassifier = RandomForestClassifier(featuresCol=\"features\")\n\npipeline = Pipeline(stages=[si_CheckingStatus, si_CreditHistory, si_EmploymentDuration, si_ExistingSavings, si_ForeignWorker, si_Housing, si_InstallmentPlans, si_Job, si_LoanPurpose, si_OthersOnLoan,\\\n                               si_OwnsProperty, si_Sex, si_Telephone, si_Label, va_features, classifier, label_converter])\nmodel = pipeline.fit(train_data)"
        }, 
        {
            "execution_count": 19, 
            "cell_type": "code", 
            "metadata": {
                "scrolled": true
            }, 
            "outputs": [
                {
                    "output_type": "stream", 
                    "name": "stdout", 
                    "text": "areaUnderROC = 0.69523\n"
                }
            ], 
            "source": "predictions = model.transform(test_data)\nevaluatorDT = BinaryClassificationEvaluator(rawPredictionCol=\"prediction\")\narea_under_curve = evaluatorDT.evaluate(predictions)\n\nprint(\"areaUnderROC = %g\" % area_under_curve)"
        }, 
        {
            "source": "## Publish the model", 
            "cell_type": "markdown", 
            "metadata": {}
        }, 
        {
            "source": "In this section, the notebook uses the supplied Watson Machine Learning credentials to save the model (including the pipeline) to the WML instance. Previous versions of the model are removed so that the notebook can be run again, resetting all data for another demo.", 
            "cell_type": "markdown", 
            "metadata": {}
        }, 
        {
            "execution_count": 20, 
            "cell_type": "code", 
            "metadata": {
                "scrolled": true
            }, 
            "outputs": [
                {
                    "output_type": "stream", 
                    "name": "stderr", 
                    "text": "/home/spark/shared/user-libs/python3/sklearn/externals/joblib/__init__.py:15: DeprecationWarning: sklearn.externals.joblib is deprecated in 0.21 and will be removed in 0.23. Please import this functionality directly from joblib, which can be installed with: pip install joblib. If this warning is raised when loading pickled models, you may need to re-serialize those models with scikit-learn 0.21+.\n  warnings.warn(msg, category=DeprecationWarning)\n"
                }
            ], 
            "source": "from watson_machine_learning_client import WatsonMachineLearningAPIClient\nimport json\n\nwml_client = WatsonMachineLearningAPIClient(WML_CREDENTIALS)"
        }, 
        {
            "source": "### Remove existing model and deployment", 
            "cell_type": "markdown", 
            "metadata": {}
        }, 
        {
            "execution_count": 21, 
            "cell_type": "code", 
            "metadata": {
                "scrolled": true
            }, 
            "outputs": [
                {
                    "output_type": "stream", 
                    "name": "stdout", 
                    "text": "Deleting deployment id 18f7d10b-d68b-4cf4-9c7d-1f179f1f7068\nDeleting model id b4b7a23f-96a0-4683-91a4-722493ddcaa7\n------------------------------------  ------------------------------------  ------------------------  -----------------\nGUID                                  NAME                                  CREATED                   FRAMEWORK\na3583b91-2a7c-4817-bb95-293831c7f183  AIOS Spark German Risk model          2019-05-29T14:20:59.828Z  mllib-2.1\n965e5b42-9cca-4141-8881-a17b5f75a91b  AIOS Spark German Risk model          2019-05-29T13:18:27.395Z  mllib-2.1\ne6ffbb1e-53a6-40f3-b190-2d11fdbe458a  AIOS Spark German Risk model          2019-05-29T11:49:07.583Z  mllib-2.1\nd6293dce-3e73-4e3d-b96d-a4c532c78596  AIOS Spark German Risk model          2019-05-29T11:39:48.770Z  mllib-2.1\n10ff3963-f81d-46d6-9e52-64d6530f27a9  AIOS Spark German Risk model          2019-05-29T11:36:26.465Z  mllib-2.1\n32eec06f-de31-4a08-b329-c659a05826f7  AIOS Spark German Risk model          2019-05-29T10:59:55.608Z  mllib-2.1\n011cfea9-4e65-4e9a-97be-011dd5a68c72  AIOS Spark German Risk model          2019-05-27T13:29:06.990Z  mllib-2.1\n29d1c6e1-60b1-438a-9754-2788e3aa9bf6  AIOS Spark German Risk model          2019-05-27T09:57:33.064Z  mllib-2.1\n15eca736-b889-494c-9aa7-374cd3997aff  AIOS Spark German Risk model          2019-05-24T10:39:50.202Z  mllib-2.1\ncf689555-3b4f-4613-a8d0-4e9706bc8fe7  diabetes regression                   2019-05-23T07:19:12.676Z  scikit-learn-0.19\n06dd7f79-81ba-4cfd-8f97-0debaa7b7eb1  diabetes regression                   2019-05-23T07:02:20.779Z  scikit-learn-0.19\nb4bb376b-dddd-480b-947a-a6edc283b600  diabetes regression                   2019-05-21T12:28:37.386Z  scikit-learn-0.19\n87382ca4-b920-475b-927b-834f0e7a8774  AIOS Scikit Digits Model              2019-05-09T07:55:33.198Z  scikit-learn-0.19\ned9cf153-64f7-4609-854e-6dc052c93b6b  AIOS Keras DogsAndCats model          2019-05-08T17:19:06.759Z  tensorflow-1.5\nc00339d7-6fd1-4d4a-a21f-ae593c0cc72b  AIOS Keras DogsAndCats model          2019-05-06T08:20:56.881Z  tensorflow-1.5\n96c68770-61ee-4f4c-9a44-6ab3ee111842  AIOS Keras DogsAndCats model          2019-05-06T08:12:22.467Z  tensorflow-1.5\n0db79032-15a0-4425-8a54-12da316e7313  AIOS Keras iris model                 2019-04-12T13:08:50.026Z  tensorflow-1.5\n85c70143-86ce-4248-b7ae-ebba03e77aae  AIOS Scikit Digits Model              2019-04-12T12:46:52.760Z  scikit-learn-0.19\n44f0bf75-effb-4016-9158-7b585af4b5c0  AIOS Scikit Digits Model              2019-04-12T12:45:29.156Z  scikit-learn-0.19\nc69669fd-319c-48d5-adbe-8f1871df5c84  Propensity Model                      2019-04-05T14:15:09.772Z  mllib-2.3\nadd7e5f3-4ec4-49a7-ad22-d360bce6c443  sentiment-prediction                  2019-03-15T12:17:29.654Z  mllib-2.1\n09662d80-3722-48b8-b577-d2e1d62773c3  AIOS Spark Drugs feedback model       2019-03-15T10:59:33.285Z  mllib-2.1\n5b7dab22-37f8-478d-9524-d7a6005ab71d  AIOS TF Structured Model              2019-03-13T14:12:29.679Z  tensorflow-1.5\nc06aafcd-88d4-4547-bff8-ff17cb1b48c4  AIOS Spark Drugs feedback model       2019-03-13T14:02:41.167Z  mllib-2.1\nf271faa1-cb6d-4cd1-8020-c33b427cba4c  credit-risk                           2019-03-13T11:52:46.559Z  mllib-2.3\nac269afe-3b76-4264-8757-ef046790056e  AIOS Keras Stack Overflow model       2019-03-05T15:58:11.523Z  tensorflow-1.5\nc291e166-45c2-4411-bbe7-88a436f083c1  AIOS Keras spam model                 2019-03-05T13:00:37.170Z  tensorflow-1.5\na3c10d8c-fe54-4592-857b-0852c2807789  AIOS Keras Stack Overflow model       2019-03-04T11:27:59.318Z  tensorflow-1.5\na14b6c3a-5f8f-425a-b884-2d67a4d6c4b2  AIOS Keras Stack Overflow model       2019-03-04T11:19:05.553Z  tensorflow-1.5\n418445ec-c565-43ba-86e8-56a3a5aae165  AIOS Keras Stack Overflow model       2019-03-04T11:17:35.645Z  tensorflow-1.5\na128731e-8a03-4d91-b020-95d23aa4de98  AIOS Keras Stack Overflow model       2019-03-04T11:13:24.740Z  tensorflow-1.5\n490de02c-7190-4756-8e3b-7f1d6ba7134a  SVCHighlights                         2019-02-26T12:22:32.340Z  scikit-learn-0.19\n8d4649e7-ff64-4cea-800d-f1ac88e54c57  SVCHighlights                         2019-02-25T09:34:56.877Z  scikit-learn-0.19\n0d2ad5af-40b9-4dd0-ba11-8badcf9cb1c4  SVCHighlights                         2019-02-25T09:24:23.692Z  scikit-learn-0.19\nb83399e3-882c-4459-bc45-127a7c16d6f9  Dummy model for issue with pandas     2019-02-22T10:56:50.856Z  scikit-learn-0.19\n7ad9804c-6c21-4e62-8a10-3c4a7ebd3f13  Dummy model for issue                 2019-02-22T10:43:29.413Z  scikit-learn-0.19\nd5aee97c-5347-42ae-865c-794c431d750c  AIOS SPSS Customer Model              2019-02-21T09:43:08.816Z  spss-modeler-18.0\n9a7e44e9-5464-4ef8-a136-dd3ed3d41df2  AIOS SPSS Customer Model              2019-02-21T09:41:33.480Z  spss-modeler-18.0\n986a13c7-d0a3-4f18-83dd-37467d82ae8b  AIOS SPSS Customer Model              2019-02-21T09:16:04.246Z  spss-modeler-18.0\n199ee3ae-0b4a-4e5d-9434-1ffc7131c3d5  AIOS SPSS Customer Model              2019-02-21T09:10:23.729Z  spss-modeler-18.0\nd5a21cb5-7500-4e2c-aaae-006f6e243481  AIOS Spark German Risk model          2019-02-19T19:11:07.660Z  mllib-2.1\n29a29430-4538-4a66-96ce-e2e3502e9844  AIOS Spark German Risk model          2019-02-19T19:07:36.191Z  mllib-2.1\ncfa65667-2b40-4c7e-beb8-0ce986273e27  AIOS Spark German Risk model          2019-02-19T19:04:16.682Z  mllib-2.1\n9dc24903-f6b7-4ddb-8239-3d30249e3ea7  AIOS Xgboost Agaricus Model           2019-02-13T12:17:41.412Z  xgboost-0.80\n2ac283ef-5138-47d6-9743-d4b230e3f056  AIOS Xgboost Agaricus Model           2019-02-13T12:14:41.486Z  xgboost-0.80\nc02dbfe4-ad80-45ec-81b8-ea5fb7b33699  AIOS Xgboost Agaricus Model           2019-02-13T10:59:51.344Z  xgboost-0.80\n0f1d511c-b121-44d1-b3f7-c3ad258211f5  AIOS Spark German Risk Model - Final  2019-02-13T10:34:05.152Z  mllib-2.1\n8d77d6b2-9458-4105-9977-1390c65cb475  credit-risk                           2019-02-08T08:31:18.222Z  mllib-2.3\n263dedd0-254d-4eed-9c4f-16300e0db5b3  AIOS Spark Drugs feedback model       2019-02-07T15:06:55.275Z  mllib-2.1\nde5c9e61-f806-40f1-8137-e034303a8dad  AIOS Xgboost Agaricus Model           2019-01-25T11:06:58.070Z  xgboost-0.6\n------------------------------------  ------------------------------------  ------------------------  -----------------\nNote: Only first 50 records were displayed. To display more use 'limit' parameter.\n"
                }
            ], 
            "source": "model_deployment_ids = wml_client.deployments.get_uids()\nfor deployment_id in model_deployment_ids:\n    deployment = wml_client.deployments.get_details(deployment_id)\n    model_id = deployment['entity']['deployable_asset']['guid']\n    if deployment['entity']['name'] == DEPLOYMENT_NAME:\n        print('Deleting deployment id', deployment_id)\n        wml_client.deployments.delete(deployment_id)\n        print('Deleting model id', model_id)\n        wml_client.repository.delete(model_id)\nwml_client.repository.list_models()"
        }, 
        {
            "execution_count": 22, 
            "cell_type": "code", 
            "metadata": {
                "scrolled": true
            }, 
            "outputs": [], 
            "source": "model_props = {\n    wml_client.repository.ModelMetaNames.NAME: \"{}\".format(MODEL_NAME),\n    wml_client.repository.ModelMetaNames.EVALUATION_METHOD: \"binary\",\n    wml_client.repository.ModelMetaNames.EVALUATION_METRICS: [\n        {\n           \"name\": \"areaUnderROC\",\n           \"value\": area_under_curve,\n           \"threshold\": 0.7\n        }\n    ]\n}"
        }, 
        {
            "execution_count": 23, 
            "cell_type": "code", 
            "metadata": {
                "scrolled": true
            }, 
            "outputs": [
                {
                    "output_type": "stream", 
                    "name": "stdout", 
                    "text": "Storing model ...\n"
                }, 
                {
                    "output_type": "stream", 
                    "name": "stderr", 
                    "text": "/home/spark/shared/user-libs/python3/urllib3/connectionpool.py:851: InsecureRequestWarning: Unverified HTTPS request is being made. Adding certificate verification is strongly advised. See: https://urllib3.readthedocs.io/en/latest/advanced-usage.html#ssl-warnings\n  InsecureRequestWarning)\n"
                }, 
                {
                    "output_type": "stream", 
                    "name": "stdout", 
                    "text": "Done\n"
                }
            ], 
            "source": "wml_models = wml_client.repository.get_details()\nmodel_uid = None\nfor model_in in wml_models['models']['resources']:\n    if MODEL_NAME == model_in['entity']['name']:\n        model_uid = model_in['metadata']['guid']\n        break\n\nif model_uid is None:\n    print(\"Storing model ...\")\n\n    published_model_details = wml_client.repository.store_model(model=model, meta_props=model_props, training_data=train_data, pipeline=pipeline)\n    model_uid = wml_client.repository.get_model_uid(published_model_details)\n    print(\"Done\")"
        }, 
        {
            "execution_count": 24, 
            "cell_type": "code", 
            "metadata": {
                "scrolled": true
            }, 
            "outputs": [
                {
                    "execution_count": 24, 
                    "metadata": {}, 
                    "data": {
                        "text/plain": "'eb9ab6dc-7bdc-47c5-b881-f20b9ee81375'"
                    }, 
                    "output_type": "execute_result"
                }
            ], 
            "source": "model_uid"
        }, 
        {
            "source": "## Deploy the model", 
            "cell_type": "markdown", 
            "metadata": {}
        }, 
        {
            "source": "The next section of the notebook deploys the model as a RESTful web service in Watson Machine Learning. The deployed model will have a scoring URL you can use to send data to the model for predictions.", 
            "cell_type": "markdown", 
            "metadata": {}
        }, 
        {
            "execution_count": 25, 
            "cell_type": "code", 
            "metadata": {
                "scrolled": true
            }, 
            "outputs": [
                {
                    "output_type": "stream", 
                    "name": "stdout", 
                    "text": "Deploying model...\n\n\n#######################################################################################\n\nSynchronous deployment creation for uid: 'eb9ab6dc-7bdc-47c5-b881-f20b9ee81375' started\n\n#######################################################################################\n\n\nINITIALIZING\nDEPLOY_SUCCESS\n\n\n------------------------------------------------------------------------------------------------\nSuccessfully finished deployment creation, deployment_uid='13dc527a-35f0-4881-afc0-f474d1f843b5'\n------------------------------------------------------------------------------------------------\n\n\nModel id: eb9ab6dc-7bdc-47c5-b881-f20b9ee81375\nDeployment id: 13dc527a-35f0-4881-afc0-f474d1f843b5\n"
                }
            ], 
            "source": "wml_deployments = wml_client.deployments.get_details()\ndeployment_uid = None\nfor deployment in wml_deployments['resources']:\n    if DEPLOYMENT_NAME == deployment['entity']['name']:\n        deployment_uid = deployment['metadata']['guid']\n        break\n\nif deployment_uid is None:\n    print(\"Deploying model...\")\n\n    deployment = wml_client.deployments.create(artifact_uid=model_uid, name=DEPLOYMENT_NAME, asynchronous=False)\n    deployment_uid = wml_client.deployments.get_uid(deployment)\n    \nprint(\"Model id: {}\".format(model_uid))\nprint(\"Deployment id: {}\".format(deployment_uid))"
        }, 
        {
            "source": "# Configure OpenScale <a name=\"openscale\"></a>", 
            "cell_type": "markdown", 
            "metadata": {}
        }, 
        {
            "source": "The notebook will now import the necessary libraries and set up a Python OpenScale client.", 
            "cell_type": "markdown", 
            "metadata": {}
        }, 
        {
            "execution_count": 26, 
            "cell_type": "code", 
            "metadata": {
                "scrolled": true
            }, 
            "outputs": [], 
            "source": "from ibm_ai_openscale import APIClient\nfrom ibm_ai_openscale.engines import *\nfrom ibm_ai_openscale.utils import *\nfrom ibm_ai_openscale.supporting_classes import PayloadRecord, Feature\nfrom ibm_ai_openscale.supporting_classes.enums import *"
        }, 
        {
            "source": "### Get Watson OpenScale GUID", 
            "cell_type": "markdown", 
            "metadata": {}
        }, 
        {
            "source": "Each instance of OpenScale has a unique ID. We can get this value using the Cloud API key specified at the beginning of the notebook.", 
            "cell_type": "markdown", 
            "metadata": {}
        }, 
        {
            "execution_count": 27, 
            "cell_type": "code", 
            "metadata": {}, 
            "outputs": [
                {
                    "output_type": "stream", 
                    "name": "stdout", 
                    "text": "cacaf1bc-1285-46da-ba9a-49464bc683a3\n"
                }
            ], 
            "source": "import requests\nfrom ibm_ai_openscale.utils import get_instance_guid\n\n\nWOS_GUID = get_instance_guid(api_key=CLOUD_API_KEY)\nWOS_CREDENTIALS = {\n    \"instance_guid\": WOS_GUID,\n    \"apikey\": CLOUD_API_KEY,\n    \"url\": \"https://api.aiopenscale.cloud.ibm.com\"\n}\n\nif WOS_GUID is None:\n    print('Watson OpenScale GUID NOT FOUND')\nelse:\n    print(WOS_GUID)"
        }, 
        {
            "execution_count": 28, 
            "cell_type": "code", 
            "metadata": {
                "scrolled": true
            }, 
            "outputs": [
                {
                    "execution_count": 28, 
                    "metadata": {}, 
                    "data": {
                        "text/plain": "'2.1.7'"
                    }, 
                    "output_type": "execute_result"
                }
            ], 
            "source": "ai_client = APIClient(aios_credentials=WOS_CREDENTIALS)\nai_client.version"
        }, 
        {
            "source": "## Create schema and datamart", 
            "cell_type": "markdown", 
            "metadata": {}
        }, 
        {
            "source": "### Set up datamart", 
            "cell_type": "markdown", 
            "metadata": {}
        }, 
        {
            "source": "Watson OpenScale uses a database to store payload logs and calculated metrics. If database credentials were **not** supplied above, the notebook will use the free, internal lite database. If database credentials were supplied, the datamart will be created there **unless** there is an existing datamart **and** the **KEEP_MY_INTERNAL_POSTGRES** variable is set to **True**. If an OpenScale datamart exists in Db2 or PostgreSQL, the existing datamart will be used and no data will be overwritten.\n\nPrior instances of the German Credit model will be removed from OpenScale monitoring.", 
            "cell_type": "markdown", 
            "metadata": {}
        }, 
        {
            "execution_count": 29, 
            "cell_type": "code", 
            "metadata": {}, 
            "outputs": [
                {
                    "output_type": "stream", 
                    "name": "stdout", 
                    "text": "Using existing internal datamart.\n"
                }
            ], 
            "source": "try:\n    data_mart_details = ai_client.data_mart.get_details()\n    if 'internal_database' in data_mart_details and data_mart_details['internal_database']:\n        if KEEP_MY_INTERNAL_POSTGRES:\n            print('Using existing internal datamart.')\n        else:\n            if DB_CREDENTIALS is None:\n                print('No postgres credentials supplied. Using existing internal datamart')\n            else:\n                print('Switching to external datamart')\n                ai_client.data_mart.delete(force=True)\n                ai_client.data_mart.setup(db_credentials=DB_CREDENTIALS)\n    else:\n        print('Using existing external datamart')\nexcept:\n    if DB_CREDENTIALS is None:\n        print('Setting up internal datamart')\n        ai_client.data_mart.setup(internal_db=True)\n    else:\n        print('Setting up external datamart')\n        try:\n            ai_client.data_mart.setup(db_credentials=DB_CREDENTIALS)\n        except:\n            print('Setup failed, trying Db2 setup')\n            ai_client.data_mart.setup(db_credentials=DB_CREDENTIALS, schema=DB_CREDENTIALS['username'])\n    "
        }, 
        {
            "execution_count": 30, 
            "cell_type": "code", 
            "metadata": {
                "scrolled": true
            }, 
            "outputs": [
                {
                    "execution_count": 30, 
                    "metadata": {}, 
                    "data": {
                        "text/plain": "{'internal_database': True,\n 'service_instance_crn': 'crn:v1:bluemix:public:aiopenscale:us-south:a/bc6f89c9dbf0a21338f4ee6fa02cf6cf:cacaf1bc-1285-46da-ba9a-49464bc683a3::',\n 'status': {'state': 'active'},\n 'database_configuration': {},\n 'internal_database_pool': 'compose-psql'}"
                    }, 
                    "output_type": "execute_result"
                }
            ], 
            "source": "data_mart_details = ai_client.data_mart.get_details()\ndata_mart_details"
        }, 
        {
            "source": "## Bind machine learning engines", 
            "cell_type": "markdown", 
            "metadata": {}
        }, 
        {
            "source": "Watson OpenScale needs to be bound to the Watson Machine Learning instance to capture payload data into and out of the model. If this binding already exists, this code will output a warning message and use the existing binding.", 
            "cell_type": "markdown", 
            "metadata": {}
        }, 
        {
            "execution_count": 31, 
            "cell_type": "code", 
            "metadata": {
                "scrolled": false
            }, 
            "outputs": [
                {
                    "output_type": "stream", 
                    "name": "stdout", 
                    "text": "Warning during bind instance.\nStatus code: 409, body: {\"trace\":\"MzRiYWU1NTctZDI0Ni00MWZkLWE3ZWEtZmQ0ZDhlNzExODU2\",\"errors\":[{\"code\":\"AIQCS0010W\",\"message\":\"Service Binding with this id is already defined\"}]}\n"
                }, 
                {
                    "output_type": "display_data", 
                    "data": {
                        "text/html": "<HTML>\n        <body>\n            <h3>Service bindings</h3>\n            <table style='border: 1px solid #dddddd; font-family: Courier'>\n                <th style='border: 1px solid #dddddd'>uid</th><th style='border: 1px solid #dddddd'>name</th><th style='border: 1px solid #dddddd'>service_type</th><th style='border: 1px solid #dddddd'>created</th>\n                <tr><td style='border: 1px solid #dddddd'>a73bf76d-a663-448a-b771-4f651f73d54e</td><td style='border: 1px solid #dddddd'>WML instance</td><td style='border: 1px solid #dddddd'>watson_machine_learning</td><td style='border: 1px solid #dddddd'>2019-06-03T10:31:02.338Z</td></tr>\n            </table>\n        </body>\n        </HTML>", 
                        "text/plain": "<IPython.core.display.HTML object>"
                    }, 
                    "metadata": {}
                }
            ], 
            "source": "binding_uid = ai_client.data_mart.bindings.add('WML instance', WatsonMachineLearningInstance(WML_CREDENTIALS))\nif binding_uid is None:\n    binding_uid = ai_client.data_mart.bindings.get_details()['service_bindings'][0]['metadata']['guid']\nbindings_details = ai_client.data_mart.bindings.get_details()\nai_client.data_mart.bindings.list()"
        }, 
        {
            "execution_count": 32, 
            "cell_type": "code", 
            "metadata": {
                "scrolled": true
            }, 
            "outputs": [
                {
                    "output_type": "stream", 
                    "name": "stdout", 
                    "text": "a73bf76d-a663-448a-b771-4f651f73d54e\n"
                }
            ], 
            "source": "print(binding_uid)"
        }, 
        {
            "execution_count": 33, 
            "cell_type": "code", 
            "metadata": {
                "scrolled": false
            }, 
            "outputs": [
                {
                    "output_type": "display_data", 
                    "data": {
                        "text/html": "<HTML>\n        <body>\n            <h3>Available assets</h3>\n            <table style='border: 1px solid #dddddd; font-family: Courier'>\n                <th style='border: 1px solid #dddddd'>source_uid</th><th style='border: 1px solid #dddddd'>name</th><th style='border: 1px solid #dddddd'>created</th><th style='border: 1px solid #dddddd'>type</th><th style='border: 1px solid #dddddd'>frameworks</th><th style='border: 1px solid #dddddd'>binding_uid</th><th style='border: 1px solid #dddddd'>is_subscribed</th>\n                <tr><td style='border: 1px solid #dddddd'>eb9ab6dc-7bdc-47c5-b881-f20b9ee81375</td><td style='border: 1px solid #dddddd'>Spark German Risk Model - Final</td><td style='border: 1px solid #dddddd'>2019-06-03T14:16:06.917Z</td><td style='border: 1px solid #dddddd'>model</td><td style='border: 1px solid #dddddd'>mllib-2.3</td><td style='border: 1px solid #dddddd'>a73bf76d-a663-448a-b771-4f651f73d54e</td><td style='border: 1px solid #dddddd'>False</td></tr><tr><td style='border: 1px solid #dddddd'>a3583b91-2a7c-4817-bb95-293831c7f183</td><td style='border: 1px solid #dddddd'>AIOS Spark German Risk model</td><td style='border: 1px solid #dddddd'>2019-05-29T14:21:08.875Z</td><td style='border: 1px solid #dddddd'>model</td><td style='border: 1px solid #dddddd'>mllib-2.1</td><td style='border: 1px solid #dddddd'>a73bf76d-a663-448a-b771-4f651f73d54e</td><td style='border: 1px solid #dddddd'>False</td></tr><tr><td style='border: 1px solid #dddddd'>965e5b42-9cca-4141-8881-a17b5f75a91b</td><td style='border: 1px solid #dddddd'>AIOS Spark German Risk model</td><td style='border: 1px solid #dddddd'>2019-05-29T13:18:36.510Z</td><td style='border: 1px solid #dddddd'>model</td><td style='border: 1px solid #dddddd'>mllib-2.1</td><td style='border: 1px solid #dddddd'>a73bf76d-a663-448a-b771-4f651f73d54e</td><td style='border: 1px solid #dddddd'>False</td></tr><tr><td style='border: 1px solid #dddddd'>e6ffbb1e-53a6-40f3-b190-2d11fdbe458a</td><td style='border: 1px solid #dddddd'>AIOS Spark German Risk model</td><td style='border: 1px solid #dddddd'>2019-05-29T11:49:16.526Z</td><td style='border: 1px solid #dddddd'>model</td><td style='border: 1px solid #dddddd'>mllib-2.1</td><td style='border: 1px solid #dddddd'>a73bf76d-a663-448a-b771-4f651f73d54e</td><td style='border: 1px solid #dddddd'>False</td></tr><tr><td style='border: 1px solid #dddddd'>d6293dce-3e73-4e3d-b96d-a4c532c78596</td><td style='border: 1px solid #dddddd'>AIOS Spark German Risk model</td><td style='border: 1px solid #dddddd'>2019-05-29T11:39:57.816Z</td><td style='border: 1px solid #dddddd'>model</td><td style='border: 1px solid #dddddd'>mllib-2.1</td><td style='border: 1px solid #dddddd'>a73bf76d-a663-448a-b771-4f651f73d54e</td><td style='border: 1px solid #dddddd'>False</td></tr><tr><td style='border: 1px solid #dddddd'>10ff3963-f81d-46d6-9e52-64d6530f27a9</td><td style='border: 1px solid #dddddd'>AIOS Spark German Risk model</td><td style='border: 1px solid #dddddd'>2019-05-29T11:36:35.458Z</td><td style='border: 1px solid #dddddd'>model</td><td style='border: 1px solid #dddddd'>mllib-2.1</td><td style='border: 1px solid #dddddd'>a73bf76d-a663-448a-b771-4f651f73d54e</td><td style='border: 1px solid #dddddd'>False</td></tr><tr><td style='border: 1px solid #dddddd'>32eec06f-de31-4a08-b329-c659a05826f7</td><td style='border: 1px solid #dddddd'>AIOS Spark German Risk model</td><td style='border: 1px solid #dddddd'>2019-05-29T11:00:04.443Z</td><td style='border: 1px solid #dddddd'>model</td><td style='border: 1px solid #dddddd'>mllib-2.1</td><td style='border: 1px solid #dddddd'>a73bf76d-a663-448a-b771-4f651f73d54e</td><td style='border: 1px solid #dddddd'>False</td></tr><tr><td style='border: 1px solid #dddddd'>011cfea9-4e65-4e9a-97be-011dd5a68c72</td><td style='border: 1px solid #dddddd'>AIOS Spark German Risk model</td><td style='border: 1px solid #dddddd'>2019-05-27T13:29:15.866Z</td><td style='border: 1px solid #dddddd'>model</td><td style='border: 1px solid #dddddd'>mllib-2.1</td><td style='border: 1px solid #dddddd'>a73bf76d-a663-448a-b771-4f651f73d54e</td><td style='border: 1px solid #dddddd'>False</td></tr><tr><td style='border: 1px solid #dddddd'>29d1c6e1-60b1-438a-9754-2788e3aa9bf6</td><td style='border: 1px solid #dddddd'>AIOS Spark German Risk model</td><td style='border: 1px solid #dddddd'>2019-05-27T09:57:41.912Z</td><td style='border: 1px solid #dddddd'>model</td><td style='border: 1px solid #dddddd'>mllib-2.1</td><td style='border: 1px solid #dddddd'>a73bf76d-a663-448a-b771-4f651f73d54e</td><td style='border: 1px solid #dddddd'>False</td></tr><tr><td style='border: 1px solid #dddddd'>15eca736-b889-494c-9aa7-374cd3997aff</td><td style='border: 1px solid #dddddd'>AIOS Spark German Risk model</td><td style='border: 1px solid #dddddd'>2019-05-24T10:39:58.847Z</td><td style='border: 1px solid #dddddd'>model</td><td style='border: 1px solid #dddddd'>mllib-2.1</td><td style='border: 1px solid #dddddd'>a73bf76d-a663-448a-b771-4f651f73d54e</td><td style='border: 1px solid #dddddd'>False</td></tr><tr><td style='border: 1px solid #dddddd'>cf689555-3b4f-4613-a8d0-4e9706bc8fe7</td><td style='border: 1px solid #dddddd'>diabetes regression</td><td style='border: 1px solid #dddddd'>2019-05-23T07:19:18.801Z</td><td style='border: 1px solid #dddddd'>model</td><td style='border: 1px solid #dddddd'>scikit-learn-0.19</td><td style='border: 1px solid #dddddd'>a73bf76d-a663-448a-b771-4f651f73d54e</td><td style='border: 1px solid #dddddd'>False</td></tr><tr><td style='border: 1px solid #dddddd'>b4bb376b-dddd-480b-947a-a6edc283b600</td><td style='border: 1px solid #dddddd'>diabetes regression</td><td style='border: 1px solid #dddddd'>2019-05-21T12:28:42.696Z</td><td style='border: 1px solid #dddddd'>model</td><td style='border: 1px solid #dddddd'>scikit-learn-0.19</td><td style='border: 1px solid #dddddd'>a73bf76d-a663-448a-b771-4f651f73d54e</td><td style='border: 1px solid #dddddd'>False</td></tr><tr><td style='border: 1px solid #dddddd'>87382ca4-b920-475b-927b-834f0e7a8774</td><td style='border: 1px solid #dddddd'>AIOS Scikit Digits Model</td><td style='border: 1px solid #dddddd'>2019-05-09T07:55:35.097Z</td><td style='border: 1px solid #dddddd'>model</td><td style='border: 1px solid #dddddd'>scikit-learn-0.19</td><td style='border: 1px solid #dddddd'>a73bf76d-a663-448a-b771-4f651f73d54e</td><td style='border: 1px solid #dddddd'>False</td></tr><tr><td style='border: 1px solid #dddddd'>ed9cf153-64f7-4609-854e-6dc052c93b6b</td><td style='border: 1px solid #dddddd'>AIOS Keras DogsAndCats model</td><td style='border: 1px solid #dddddd'>2019-05-08T17:19:15.040Z</td><td style='border: 1px solid #dddddd'>model</td><td style='border: 1px solid #dddddd'>tensorflow-1.5</td><td style='border: 1px solid #dddddd'>a73bf76d-a663-448a-b771-4f651f73d54e</td><td style='border: 1px solid #dddddd'>False</td></tr><tr><td style='border: 1px solid #dddddd'>c00339d7-6fd1-4d4a-a21f-ae593c0cc72b</td><td style='border: 1px solid #dddddd'>AIOS Keras DogsAndCats model</td><td style='border: 1px solid #dddddd'>2019-05-06T08:21:41.025Z</td><td style='border: 1px solid #dddddd'>model</td><td style='border: 1px solid #dddddd'>tensorflow-1.5</td><td style='border: 1px solid #dddddd'>a73bf76d-a663-448a-b771-4f651f73d54e</td><td style='border: 1px solid #dddddd'>False</td></tr><tr><td style='border: 1px solid #dddddd'>96c68770-61ee-4f4c-9a44-6ab3ee111842</td><td style='border: 1px solid #dddddd'>AIOS Keras DogsAndCats model</td><td style='border: 1px solid #dddddd'>2019-05-06T08:12:46.254Z</td><td style='border: 1px solid #dddddd'>model</td><td style='border: 1px solid #dddddd'>tensorflow-1.5</td><td style='border: 1px solid #dddddd'>a73bf76d-a663-448a-b771-4f651f73d54e</td><td style='border: 1px solid #dddddd'>False</td></tr><tr><td style='border: 1px solid #dddddd'>0db79032-15a0-4425-8a54-12da316e7313</td><td style='border: 1px solid #dddddd'>AIOS Keras iris model</td><td style='border: 1px solid #dddddd'>2019-04-12T13:08:55.982Z</td><td style='border: 1px solid #dddddd'>model</td><td style='border: 1px solid #dddddd'>tensorflow-1.5</td><td style='border: 1px solid #dddddd'>a73bf76d-a663-448a-b771-4f651f73d54e</td><td style='border: 1px solid #dddddd'>False</td></tr><tr><td style='border: 1px solid #dddddd'>85c70143-86ce-4248-b7ae-ebba03e77aae</td><td style='border: 1px solid #dddddd'>AIOS Scikit Digits Model</td><td style='border: 1px solid #dddddd'>2019-04-12T12:46:59.621Z</td><td style='border: 1px solid #dddddd'>model</td><td style='border: 1px solid #dddddd'>scikit-learn-0.19</td><td style='border: 1px solid #dddddd'>a73bf76d-a663-448a-b771-4f651f73d54e</td><td style='border: 1px solid #dddddd'>False</td></tr><tr><td style='border: 1px solid #dddddd'>44f0bf75-effb-4016-9158-7b585af4b5c0</td><td style='border: 1px solid #dddddd'>AIOS Scikit Digits Model</td><td style='border: 1px solid #dddddd'>2019-04-12T12:45:35.491Z</td><td style='border: 1px solid #dddddd'>model</td><td style='border: 1px solid #dddddd'>scikit-learn-0.19</td><td style='border: 1px solid #dddddd'>a73bf76d-a663-448a-b771-4f651f73d54e</td><td style='border: 1px solid #dddddd'>False</td></tr><tr><td style='border: 1px solid #dddddd'>c69669fd-319c-48d5-adbe-8f1871df5c84</td><td style='border: 1px solid #dddddd'>Propensity Model</td><td style='border: 1px solid #dddddd'>2019-04-05T14:15:22.818Z</td><td style='border: 1px solid #dddddd'>model</td><td style='border: 1px solid #dddddd'>mllib-2.3</td><td style='border: 1px solid #dddddd'>a73bf76d-a663-448a-b771-4f651f73d54e</td><td style='border: 1px solid #dddddd'>False</td></tr><tr><td style='border: 1px solid #dddddd'>add7e5f3-4ec4-49a7-ad22-d360bce6c443</td><td style='border: 1px solid #dddddd'>sentiment-prediction</td><td style='border: 1px solid #dddddd'>2019-03-15T12:17:58.644Z</td><td style='border: 1px solid #dddddd'>model</td><td style='border: 1px solid #dddddd'>mllib-2.1</td><td style='border: 1px solid #dddddd'>a73bf76d-a663-448a-b771-4f651f73d54e</td><td style='border: 1px solid #dddddd'>False</td></tr><tr><td style='border: 1px solid #dddddd'>09662d80-3722-48b8-b577-d2e1d62773c3</td><td style='border: 1px solid #dddddd'>AIOS Spark Drugs feedback model</td><td style='border: 1px solid #dddddd'>2019-03-15T10:59:39.908Z</td><td style='border: 1px solid #dddddd'>model</td><td style='border: 1px solid #dddddd'>mllib-2.1</td><td style='border: 1px solid #dddddd'>a73bf76d-a663-448a-b771-4f651f73d54e</td><td style='border: 1px solid #dddddd'>False</td></tr><tr><td style='border: 1px solid #dddddd'>5b7dab22-37f8-478d-9524-d7a6005ab71d</td><td style='border: 1px solid #dddddd'>AIOS TF Structured Model</td><td style='border: 1px solid #dddddd'>2019-03-13T14:12:35.270Z</td><td style='border: 1px solid #dddddd'>model</td><td style='border: 1px solid #dddddd'>tensorflow-1.5</td><td style='border: 1px solid #dddddd'>a73bf76d-a663-448a-b771-4f651f73d54e</td><td style='border: 1px solid #dddddd'>False</td></tr><tr><td style='border: 1px solid #dddddd'>c06aafcd-88d4-4547-bff8-ff17cb1b48c4</td><td style='border: 1px solid #dddddd'>AIOS Spark Drugs feedback model</td><td style='border: 1px solid #dddddd'>2019-03-13T14:02:47.914Z</td><td style='border: 1px solid #dddddd'>model</td><td style='border: 1px solid #dddddd'>mllib-2.1</td><td style='border: 1px solid #dddddd'>a73bf76d-a663-448a-b771-4f651f73d54e</td><td style='border: 1px solid #dddddd'>False</td></tr><tr><td style='border: 1px solid #dddddd'>f271faa1-cb6d-4cd1-8020-c33b427cba4c</td><td style='border: 1px solid #dddddd'>credit-risk</td><td style='border: 1px solid #dddddd'>2019-03-13T11:53:09.533Z</td><td style='border: 1px solid #dddddd'>model</td><td style='border: 1px solid #dddddd'>mllib-2.3</td><td style='border: 1px solid #dddddd'>a73bf76d-a663-448a-b771-4f651f73d54e</td><td style='border: 1px solid #dddddd'>False</td></tr><tr><td style='border: 1px solid #dddddd'>ac269afe-3b76-4264-8757-ef046790056e</td><td style='border: 1px solid #dddddd'>AIOS Keras Stack Overflow model</td><td style='border: 1px solid #dddddd'>2019-03-05T15:58:18.973Z</td><td style='border: 1px solid #dddddd'>model</td><td style='border: 1px solid #dddddd'>tensorflow-1.5</td><td style='border: 1px solid #dddddd'>a73bf76d-a663-448a-b771-4f651f73d54e</td><td style='border: 1px solid #dddddd'>False</td></tr><tr><td style='border: 1px solid #dddddd'>c291e166-45c2-4411-bbe7-88a436f083c1</td><td style='border: 1px solid #dddddd'>AIOS Keras spam model</td><td style='border: 1px solid #dddddd'>2019-03-05T13:01:00.993Z</td><td style='border: 1px solid #dddddd'>model</td><td style='border: 1px solid #dddddd'>tensorflow-1.5</td><td style='border: 1px solid #dddddd'>a73bf76d-a663-448a-b771-4f651f73d54e</td><td style='border: 1px solid #dddddd'>False</td></tr><tr><td style='border: 1px solid #dddddd'>a3c10d8c-fe54-4592-857b-0852c2807789</td><td style='border: 1px solid #dddddd'>AIOS Keras Stack Overflow model</td><td style='border: 1px solid #dddddd'>2019-03-04T11:28:06.598Z</td><td style='border: 1px solid #dddddd'>model</td><td style='border: 1px solid #dddddd'>tensorflow-1.5</td><td style='border: 1px solid #dddddd'>a73bf76d-a663-448a-b771-4f651f73d54e</td><td style='border: 1px solid #dddddd'>False</td></tr><tr><td style='border: 1px solid #dddddd'>a14b6c3a-5f8f-425a-b884-2d67a4d6c4b2</td><td style='border: 1px solid #dddddd'>AIOS Keras Stack Overflow model</td><td style='border: 1px solid #dddddd'>2019-03-04T11:19:12.746Z</td><td style='border: 1px solid #dddddd'>model</td><td style='border: 1px solid #dddddd'>tensorflow-1.5</td><td style='border: 1px solid #dddddd'>a73bf76d-a663-448a-b771-4f651f73d54e</td><td style='border: 1px solid #dddddd'>False</td></tr><tr><td style='border: 1px solid #dddddd'>418445ec-c565-43ba-86e8-56a3a5aae165</td><td style='border: 1px solid #dddddd'>AIOS Keras Stack Overflow model</td><td style='border: 1px solid #dddddd'>2019-03-04T11:17:44.315Z</td><td style='border: 1px solid #dddddd'>model</td><td style='border: 1px solid #dddddd'>tensorflow-1.5</td><td style='border: 1px solid #dddddd'>a73bf76d-a663-448a-b771-4f651f73d54e</td><td style='border: 1px solid #dddddd'>False</td></tr><tr><td style='border: 1px solid #dddddd'>a128731e-8a03-4d91-b020-95d23aa4de98</td><td style='border: 1px solid #dddddd'>AIOS Keras Stack Overflow model</td><td style='border: 1px solid #dddddd'>2019-03-04T11:13:34.246Z</td><td style='border: 1px solid #dddddd'>model</td><td style='border: 1px solid #dddddd'>tensorflow-1.5</td><td style='border: 1px solid #dddddd'>a73bf76d-a663-448a-b771-4f651f73d54e</td><td style='border: 1px solid #dddddd'>False</td></tr><tr><td style='border: 1px solid #dddddd'>8d4649e7-ff64-4cea-800d-f1ac88e54c57</td><td style='border: 1px solid #dddddd'>SVCHighlights</td><td style='border: 1px solid #dddddd'>2019-02-25T09:37:59.520Z</td><td style='border: 1px solid #dddddd'>model</td><td style='border: 1px solid #dddddd'>scikit-learn-0.19</td><td style='border: 1px solid #dddddd'>a73bf76d-a663-448a-b771-4f651f73d54e</td><td style='border: 1px solid #dddddd'>False</td></tr><tr><td style='border: 1px solid #dddddd'>d5aee97c-5347-42ae-865c-794c431d750c</td><td style='border: 1px solid #dddddd'>AIOS SPSS Customer Model</td><td style='border: 1px solid #dddddd'>2019-02-21T09:43:15.257Z</td><td style='border: 1px solid #dddddd'>model</td><td style='border: 1px solid #dddddd'>spss-modeler-18.0</td><td style='border: 1px solid #dddddd'>a73bf76d-a663-448a-b771-4f651f73d54e</td><td style='border: 1px solid #dddddd'>False</td></tr><tr><td style='border: 1px solid #dddddd'>9a7e44e9-5464-4ef8-a136-dd3ed3d41df2</td><td style='border: 1px solid #dddddd'>AIOS SPSS Customer Model</td><td style='border: 1px solid #dddddd'>2019-02-21T09:41:40.332Z</td><td style='border: 1px solid #dddddd'>model</td><td style='border: 1px solid #dddddd'>spss-modeler-18.0</td><td style='border: 1px solid #dddddd'>a73bf76d-a663-448a-b771-4f651f73d54e</td><td style='border: 1px solid #dddddd'>False</td></tr><tr><td style='border: 1px solid #dddddd'>986a13c7-d0a3-4f18-83dd-37467d82ae8b</td><td style='border: 1px solid #dddddd'>AIOS SPSS Customer Model</td><td style='border: 1px solid #dddddd'>2019-02-21T09:16:14.492Z</td><td style='border: 1px solid #dddddd'>model</td><td style='border: 1px solid #dddddd'>spss-modeler-18.0</td><td style='border: 1px solid #dddddd'>a73bf76d-a663-448a-b771-4f651f73d54e</td><td style='border: 1px solid #dddddd'>False</td></tr><tr><td style='border: 1px solid #dddddd'>199ee3ae-0b4a-4e5d-9434-1ffc7131c3d5</td><td style='border: 1px solid #dddddd'>AIOS SPSS Customer Model</td><td style='border: 1px solid #dddddd'>2019-02-21T09:10:32.067Z</td><td style='border: 1px solid #dddddd'>model</td><td style='border: 1px solid #dddddd'>spss-modeler-18.0</td><td style='border: 1px solid #dddddd'>a73bf76d-a663-448a-b771-4f651f73d54e</td><td style='border: 1px solid #dddddd'>False</td></tr><tr><td style='border: 1px solid #dddddd'>9dc24903-f6b7-4ddb-8239-3d30249e3ea7</td><td style='border: 1px solid #dddddd'>AIOS Xgboost Agaricus Model</td><td style='border: 1px solid #dddddd'>2019-02-13T12:17:46.317Z</td><td style='border: 1px solid #dddddd'>model</td><td style='border: 1px solid #dddddd'>xgboost-0.80</td><td style='border: 1px solid #dddddd'>a73bf76d-a663-448a-b771-4f651f73d54e</td><td style='border: 1px solid #dddddd'>False</td></tr><tr><td style='border: 1px solid #dddddd'>2ac283ef-5138-47d6-9743-d4b230e3f056</td><td style='border: 1px solid #dddddd'>AIOS Xgboost Agaricus Model</td><td style='border: 1px solid #dddddd'>2019-02-13T12:14:46.726Z</td><td style='border: 1px solid #dddddd'>model</td><td style='border: 1px solid #dddddd'>xgboost-0.80</td><td style='border: 1px solid #dddddd'>a73bf76d-a663-448a-b771-4f651f73d54e</td><td style='border: 1px solid #dddddd'>False</td></tr><tr><td style='border: 1px solid #dddddd'>c02dbfe4-ad80-45ec-81b8-ea5fb7b33699</td><td style='border: 1px solid #dddddd'>AIOS Xgboost Agaricus Model</td><td style='border: 1px solid #dddddd'>2019-02-13T10:59:56.746Z</td><td style='border: 1px solid #dddddd'>model</td><td style='border: 1px solid #dddddd'>xgboost-0.80</td><td style='border: 1px solid #dddddd'>a73bf76d-a663-448a-b771-4f651f73d54e</td><td style='border: 1px solid #dddddd'>False</td></tr><tr><td style='border: 1px solid #dddddd'>0f1d511c-b121-44d1-b3f7-c3ad258211f5</td><td style='border: 1px solid #dddddd'>AIOS Spark German Risk Model - Final</td><td style='border: 1px solid #dddddd'>2019-02-13T10:34:15.419Z</td><td style='border: 1px solid #dddddd'>model</td><td style='border: 1px solid #dddddd'>mllib-2.1</td><td style='border: 1px solid #dddddd'>a73bf76d-a663-448a-b771-4f651f73d54e</td><td style='border: 1px solid #dddddd'>False</td></tr><tr><td style='border: 1px solid #dddddd'>8d77d6b2-9458-4105-9977-1390c65cb475</td><td style='border: 1px solid #dddddd'>credit-risk</td><td style='border: 1px solid #dddddd'>2019-02-08T08:32:29.094Z</td><td style='border: 1px solid #dddddd'>model</td><td style='border: 1px solid #dddddd'>mllib-2.3</td><td style='border: 1px solid #dddddd'>a73bf76d-a663-448a-b771-4f651f73d54e</td><td style='border: 1px solid #dddddd'>False</td></tr><tr><td style='border: 1px solid #dddddd'>263dedd0-254d-4eed-9c4f-16300e0db5b3</td><td style='border: 1px solid #dddddd'>AIOS Spark Drugs feedback model</td><td style='border: 1px solid #dddddd'>2019-02-07T15:07:01.800Z</td><td style='border: 1px solid #dddddd'>model</td><td style='border: 1px solid #dddddd'>mllib-2.1</td><td style='border: 1px solid #dddddd'>a73bf76d-a663-448a-b771-4f651f73d54e</td><td style='border: 1px solid #dddddd'>False</td></tr><tr><td style='border: 1px solid #dddddd'>de5c9e61-f806-40f1-8137-e034303a8dad</td><td style='border: 1px solid #dddddd'>AIOS Xgboost Agaricus Model</td><td style='border: 1px solid #dddddd'>2019-01-25T11:07:04.731Z</td><td style='border: 1px solid #dddddd'>model</td><td style='border: 1px solid #dddddd'>xgboost-0.6</td><td style='border: 1px solid #dddddd'>a73bf76d-a663-448a-b771-4f651f73d54e</td><td style='border: 1px solid #dddddd'>False</td></tr><tr><td style='border: 1px solid #dddddd'>404aae40-ad00-43c5-b4cf-70a85030d043</td><td style='border: 1px solid #dddddd'>AIOS Spark Digits Model</td><td style='border: 1px solid #dddddd'>2019-01-22T08:34:40.657Z</td><td style='border: 1px solid #dddddd'>model</td><td style='border: 1px solid #dddddd'>scikit-learn-0.19</td><td style='border: 1px solid #dddddd'>a73bf76d-a663-448a-b771-4f651f73d54e</td><td style='border: 1px solid #dddddd'>False</td></tr><tr><td style='border: 1px solid #dddddd'>aa2ef63a-23c9-436b-997d-3820d0989dcd</td><td style='border: 1px solid #dddddd'>AIOS Spark German Risk model 4</td><td style='border: 1px solid #dddddd'>2019-01-15T09:34:58.474Z</td><td style='border: 1px solid #dddddd'>model</td><td style='border: 1px solid #dddddd'>mllib-2.1</td><td style='border: 1px solid #dddddd'>a73bf76d-a663-448a-b771-4f651f73d54e</td><td style='border: 1px solid #dddddd'>False</td></tr><tr><td style='border: 1px solid #dddddd'>f1f257e1-8acf-4d2d-a7d7-a3166bffb9dd</td><td style='border: 1px solid #dddddd'>AIOS Spark Drug learning model</td><td style='border: 1px solid #dddddd'>2019-01-08T14:58:06.985Z</td><td style='border: 1px solid #dddddd'>model</td><td style='border: 1px solid #dddddd'>mllib-2.1</td><td style='border: 1px solid #dddddd'>a73bf76d-a663-448a-b771-4f651f73d54e</td><td style='border: 1px solid #dddddd'>False</td></tr><tr><td style='border: 1px solid #dddddd'>5c23b6e2-4fb3-4b3b-9946-e9611f8c3b01</td><td style='border: 1px solid #dddddd'>AIOS Spark Drugs feedback model</td><td style='border: 1px solid #dddddd'>2019-01-08T13:58:01.780Z</td><td style='border: 1px solid #dddddd'>model</td><td style='border: 1px solid #dddddd'>mllib-2.1</td><td style='border: 1px solid #dddddd'>a73bf76d-a663-448a-b771-4f651f73d54e</td><td style='border: 1px solid #dddddd'>False</td></tr><tr><td style='border: 1px solid #dddddd'>3618c3af-277e-4d4c-831c-893086322c48</td><td style='border: 1px solid #dddddd'>AIOS Spark Best Drug model</td><td style='border: 1px solid #dddddd'>2018-12-20T09:53:13.285Z</td><td style='border: 1px solid #dddddd'>model</td><td style='border: 1px solid #dddddd'>mllib-2.1</td><td style='border: 1px solid #dddddd'>a73bf76d-a663-448a-b771-4f651f73d54e</td><td style='border: 1px solid #dddddd'>False</td></tr><tr><td style='border: 1px solid #dddddd'>4935d03c-52b7-4f2a-bc8c-e0ba7e81b1ea</td><td style='border: 1px solid #dddddd'>AIOS Spark GoSales Model</td><td style='border: 1px solid #dddddd'>2018-12-18T13:06:50.820Z</td><td style='border: 1px solid #dddddd'>model</td><td style='border: 1px solid #dddddd'>mllib-2.1</td><td style='border: 1px solid #dddddd'>a73bf76d-a663-448a-b771-4f651f73d54e</td><td style='border: 1px solid #dddddd'>False</td></tr><tr><td style='border: 1px solid #dddddd'>3118440a-8c3d-47f3-bf4f-563239cebae7</td><td style='border: 1px solid #dddddd'>AIOS Spark Telco Model</td><td style='border: 1px solid #dddddd'>2018-12-14T11:42:51.466Z</td><td style='border: 1px solid #dddddd'>model</td><td style='border: 1px solid #dddddd'>mllib-2.1</td><td style='border: 1px solid #dddddd'>a73bf76d-a663-448a-b771-4f651f73d54e</td><td style='border: 1px solid #dddddd'>False</td></tr><tr><td style='border: 1px solid #dddddd'>dcd69f0e-5b8c-43e8-adc9-25db2199dfcf</td><td style='border: 1px solid #dddddd'>AIOS Spark Telco model</td><td style='border: 1px solid #dddddd'>2018-12-14T11:39:04.231Z</td><td style='border: 1px solid #dddddd'>model</td><td style='border: 1px solid #dddddd'>mllib-2.1</td><td style='border: 1px solid #dddddd'>a73bf76d-a663-448a-b771-4f651f73d54e</td><td style='border: 1px solid #dddddd'>False</td></tr><tr><td style='border: 1px solid #dddddd'>c8f469e9-34df-4c13-9883-ddf5bbb1498d</td><td style='border: 1px solid #dddddd'>AIOS Xgboost agaricus model</td><td style='border: 1px solid #dddddd'>2018-12-12T14:17:09.129Z</td><td style='border: 1px solid #dddddd'>model</td><td style='border: 1px solid #dddddd'>xgboost-0.6</td><td style='border: 1px solid #dddddd'>a73bf76d-a663-448a-b771-4f651f73d54e</td><td style='border: 1px solid #dddddd'>False</td></tr><tr><td style='border: 1px solid #dddddd'>d6349f3f-ffd1-43b2-8afc-b4e74b520463</td><td style='border: 1px solid #dddddd'>AIOS Spark GoSales model</td><td style='border: 1px solid #dddddd'>2018-12-12T14:07:52.356Z</td><td style='border: 1px solid #dddddd'>model</td><td style='border: 1px solid #dddddd'>mllib-2.1</td><td style='border: 1px solid #dddddd'>a73bf76d-a663-448a-b771-4f651f73d54e</td><td style='border: 1px solid #dddddd'>False</td></tr><tr><td style='border: 1px solid #dddddd'>7bee77b1-3936-4797-b579-2175dd81c2d5</td><td style='border: 1px solid #dddddd'>AIOS Spark Digits model</td><td style='border: 1px solid #dddddd'>2018-12-12T12:49:14.358Z</td><td style='border: 1px solid #dddddd'>model</td><td style='border: 1px solid #dddddd'>scikit-learn-0.19</td><td style='border: 1px solid #dddddd'>a73bf76d-a663-448a-b771-4f651f73d54e</td><td style='border: 1px solid #dddddd'>False</td></tr>\n            </table>\n        </body>\n        </HTML>", 
                        "text/plain": "<IPython.core.display.HTML object>"
                    }, 
                    "metadata": {}
                }
            ], 
            "source": "ai_client.data_mart.bindings.list_assets()"
        }, 
        {
            "source": "## Subscriptions", 
            "cell_type": "markdown", 
            "metadata": {}
        }, 
        {
            "source": "### Remove existing credit risk subscriptions", 
            "cell_type": "markdown", 
            "metadata": {}
        }, 
        {
            "source": "This code removes previous subscriptions to the German Credit model to refresh the monitors with the new model and new data.", 
            "cell_type": "markdown", 
            "metadata": {}
        }, 
        {
            "execution_count": 34, 
            "cell_type": "code", 
            "metadata": {
                "scrolled": true
            }, 
            "outputs": [
                {
                    "output_type": "stream", 
                    "name": "stdout", 
                    "text": "Deleted existing subscription for Spark German Risk Model - Final\n"
                }
            ], 
            "source": "subscriptions_uids = ai_client.data_mart.subscriptions.get_uids()\nfor subscription in subscriptions_uids:\n    sub_name = ai_client.data_mart.subscriptions.get_details(subscription)['entity']['asset']['name']\n    if sub_name == MODEL_NAME:\n        ai_client.data_mart.subscriptions.delete(subscription)\n        print('Deleted existing subscription for', MODEL_NAME)"
        }, 
        {
            "source": "This code creates the model subscription in OpenScale using the Python client API. Note that we need to provide the model unique identifier, and some information about the model itself.", 
            "cell_type": "markdown", 
            "metadata": {}
        }, 
        {
            "execution_count": 35, 
            "cell_type": "code", 
            "metadata": {
                "scrolled": false
            }, 
            "outputs": [], 
            "source": "subscription = ai_client.data_mart.subscriptions.add(WatsonMachineLearningAsset(\n    model_uid,\n    problem_type=ProblemType.BINARY_CLASSIFICATION,\n    input_data_type=InputDataType.STRUCTURED,\n    label_column='Risk',\n    prediction_column='predictedLabel',\n    probability_column='probability',\n    feature_columns = [\"CheckingStatus\",\"LoanDuration\",\"CreditHistory\",\"LoanPurpose\",\"LoanAmount\",\"ExistingSavings\",\"EmploymentDuration\",\"InstallmentPercent\",\"Sex\",\"OthersOnLoan\",\"CurrentResidenceDuration\",\"OwnsProperty\",\"Age\",\"InstallmentPlans\",\"Housing\",\"ExistingCreditsCount\",\"Job\",\"Dependents\",\"Telephone\",\"ForeignWorker\"],\n    categorical_columns = [\"CheckingStatus\",\"CreditHistory\",\"LoanPurpose\",\"ExistingSavings\",\"EmploymentDuration\",\"Sex\",\"OthersOnLoan\",\"OwnsProperty\",\"InstallmentPlans\",\"Housing\",\"Job\",\"Telephone\",\"ForeignWorker\"]\n))\n\nif subscription is None:\n    print('Subscription already exists; get the existing one')\n    subscriptions_uids = ai_client.data_mart.subscriptions.get_uids()\n    for sub in subscriptions_uids:\n        if ai_client.data_mart.subscriptions.get_details(sub)['entity']['asset']['name'] == MODEL_NAME:\n            subscription = ai_client.data_mart.subscriptions.get(sub)"
        }, 
        {
            "source": "Get subscription list", 
            "cell_type": "markdown", 
            "metadata": {}
        }, 
        {
            "execution_count": 36, 
            "cell_type": "code", 
            "metadata": {
                "scrolled": true
            }, 
            "outputs": [
                {
                    "output_type": "display_data", 
                    "data": {
                        "text/html": "<HTML>\n        <body>\n            <h3>Subscriptions</h3>\n            <table style='border: 1px solid #dddddd; font-family: Courier'>\n                <th style='border: 1px solid #dddddd'>uid</th><th style='border: 1px solid #dddddd'>name</th><th style='border: 1px solid #dddddd'>type</th><th style='border: 1px solid #dddddd'>binding_uid</th><th style='border: 1px solid #dddddd'>created</th>\n                <tr><td style='border: 1px solid #dddddd'>eb9ab6dc-7bdc-47c5-b881-f20b9ee81375</td><td style='border: 1px solid #dddddd'>Spark German Risk Model - Final</td><td style='border: 1px solid #dddddd'>model</td><td style='border: 1px solid #dddddd'>a73bf76d-a663-448a-b771-4f651f73d54e</td><td style='border: 1px solid #dddddd'>2019-06-03T14:16:55.111Z</td></tr>\n            </table>\n        </body>\n        </HTML>", 
                        "text/plain": "<IPython.core.display.HTML object>"
                    }, 
                    "metadata": {}
                }
            ], 
            "source": "subscriptions_uids = ai_client.data_mart.subscriptions.get_uids()\nai_client.data_mart.subscriptions.list()"
        }, 
        {
            "execution_count": 37, 
            "cell_type": "code", 
            "metadata": {
                "scrolled": false
            }, 
            "outputs": [], 
            "source": "subscription_details = subscription.get_details()"
        }, 
        {
            "source": "### Score the model so we can configure monitors", 
            "cell_type": "markdown", 
            "metadata": {}
        }, 
        {
            "source": "Now that the WML service has been bound and the subscription has been created, we need to send a request to the model before we configure OpenScale. This allows OpenScale to create a payload log in the datamart with the correct schema, so it can capture data coming into and out of the model. First, the code gets the model deployment's endpoint URL, and then sends a few records for predictions.", 
            "cell_type": "markdown", 
            "metadata": {}
        }, 
        {
            "execution_count": 38, 
            "cell_type": "code", 
            "metadata": {
                "scrolled": true
            }, 
            "outputs": [
                {
                    "output_type": "stream", 
                    "name": "stdout", 
                    "text": "13dc527a-35f0-4881-afc0-f474d1f843b5\nhttps://us-south.ml.cloud.ibm.com/v3/wml_instances/a73bf76d-a663-448a-b771-4f651f73d54e/deployments/13dc527a-35f0-4881-afc0-f474d1f843b5/online\n"
                }
            ], 
            "source": "credit_risk_scoring_endpoint = None\nprint(deployment_uid)\n\nfor deployment in wml_client.deployments.get_details()['resources']:\n    if deployment_uid in deployment['metadata']['guid']:\n        credit_risk_scoring_endpoint = deployment['entity']['scoring_url']\n        \nprint(credit_risk_scoring_endpoint)"
        }, 
        {
            "execution_count": 39, 
            "cell_type": "code", 
            "metadata": {
                "scrolled": true
            }, 
            "outputs": [
                {
                    "output_type": "stream", 
                    "name": "stdout", 
                    "text": "Single record scoring result: \n fields: ['CheckingStatus', 'LoanDuration', 'CreditHistory', 'LoanPurpose', 'LoanAmount', 'ExistingSavings', 'EmploymentDuration', 'InstallmentPercent', 'Sex', 'OthersOnLoan', 'CurrentResidenceDuration', 'OwnsProperty', 'Age', 'InstallmentPlans', 'Housing', 'ExistingCreditsCount', 'Job', 'Dependents', 'Telephone', 'ForeignWorker', 'CheckingStatus_IX', 'CreditHistory_IX', 'EmploymentDuration_IX', 'ExistingSavings_IX', 'ForeignWorker_IX', 'Housing_IX', 'InstallmentPlans_IX', 'Job_IX', 'LoanPurpose_IX', 'OthersOnLoan_IX', 'OwnsProperty_IX', 'Sex_IX', 'Telephone_IX', 'features', 'rawPrediction', 'probability', 'prediction', 'predictedLabel'] \n values:  ['no_checking', 13, 'credits_paid_to_date', 'car_new', 1343, '100_to_500', '1_to_4', 2, 'female', 'none', 3, 'savings_insurance', 46, 'none', 'own', 2, 'skilled', 1, 'none', 'yes', 0.0, 1.0, 0.0, 1.0, 0.0, 0.0, 0.0, 0.0, 0.0, 0.0, 0.0, 1.0, 0.0, [21, [1, 3, 5, 13, 14, 15, 16, 17, 18, 19, 20], [1.0, 1.0, 1.0, 13.0, 1343.0, 2.0, 3.0, 13.0, 46.0, 2.0, 1.0]], [13.253015150602028, 6.746984849397973], [0.6626507575301014, 0.3373492424698986], 0.0, 'No Risk']\n"
                }
            ], 
            "source": "fields = [\"CheckingStatus\",\"LoanDuration\",\"CreditHistory\",\"LoanPurpose\",\"LoanAmount\",\"ExistingSavings\",\"EmploymentDuration\",\"InstallmentPercent\",\"Sex\",\"OthersOnLoan\",\"CurrentResidenceDuration\",\"OwnsProperty\",\"Age\",\"InstallmentPlans\",\"Housing\",\"ExistingCreditsCount\",\"Job\",\"Dependents\",\"Telephone\",\"ForeignWorker\"]\nvalues = [\n  [\"no_checking\",13,\"credits_paid_to_date\",\"car_new\",1343,\"100_to_500\",\"1_to_4\",2,\"female\",\"none\",3,\"savings_insurance\",46,\"none\",\"own\",2,\"skilled\",1,\"none\",\"yes\"],\n  [\"no_checking\",24,\"prior_payments_delayed\",\"furniture\",4567,\"500_to_1000\",\"1_to_4\",4,\"male\",\"none\",4,\"savings_insurance\",36,\"none\",\"free\",2,\"management_self-employed\",1,\"none\",\"yes\"],\n  [\"0_to_200\",26,\"all_credits_paid_back\",\"car_new\",863,\"less_100\",\"less_1\",2,\"female\",\"co-applicant\",2,\"real_estate\",38,\"none\",\"own\",1,\"skilled\",1,\"none\",\"yes\"],\n  [\"0_to_200\",14,\"no_credits\",\"car_new\",2368,\"less_100\",\"1_to_4\",3,\"female\",\"none\",3,\"real_estate\",29,\"none\",\"own\",1,\"skilled\",1,\"none\",\"yes\"],\n  [\"0_to_200\",4,\"no_credits\",\"car_new\",250,\"less_100\",\"unemployed\",2,\"female\",\"none\",3,\"real_estate\",23,\"none\",\"rent\",1,\"management_self-employed\",1,\"none\",\"yes\"],\n  [\"no_checking\",17,\"credits_paid_to_date\",\"car_new\",832,\"100_to_500\",\"1_to_4\",2,\"male\",\"none\",2,\"real_estate\",42,\"none\",\"own\",1,\"skilled\",1,\"none\",\"yes\"],\n  [\"no_checking\",33,\"outstanding_credit\",\"appliances\",5696,\"unknown\",\"greater_7\",4,\"male\",\"co-applicant\",4,\"unknown\",54,\"none\",\"free\",2,\"skilled\",1,\"yes\",\"yes\"],\n  [\"0_to_200\",13,\"prior_payments_delayed\",\"retraining\",1375,\"100_to_500\",\"4_to_7\",3,\"male\",\"none\",3,\"real_estate\",37,\"none\",\"own\",2,\"management_self-employed\",1,\"none\",\"yes\"]\n]\n\npayload_scoring = {\"fields\": fields,\"values\": values}\nscoring_response = wml_client.deployments.score(credit_risk_scoring_endpoint, payload_scoring)\n\nprint('Single record scoring result:', '\\n fields:', scoring_response['fields'], '\\n values: ', scoring_response['values'][0])"
        }, 
        {
            "source": "# Quality monitoring and feedback logging <a name=\"quality\"></a>", 
            "cell_type": "markdown", 
            "metadata": {}
        }, 
        {
            "source": "## Enable quality monitoring", 
            "cell_type": "markdown", 
            "metadata": {}
        }, 
        {
            "source": "The code below waits ten seconds to allow the payload logging table to be set up before it begins enabling monitors. First, it turns on the quality (accuracy) monitor and sets an alert threshold of 70%. OpenScale will show an alert on the dashboard if the model accuracy measurement (area under the curve, in the case of a binary classifier) falls below this threshold.\n\nThe second paramater supplied, min_records, specifies the minimum number of feedback records OpenScale needs before it calculates a new measurement. The quality monitor runs hourly, but the accuracy reading in the dashboard will not change until an additional 50 feedback records have been added, via the user interface, the Python client, or the supplied feedback endpoint.", 
            "cell_type": "markdown", 
            "metadata": {}
        }, 
        {
            "execution_count": 40, 
            "cell_type": "code", 
            "metadata": {
                "scrolled": true
            }, 
            "outputs": [], 
            "source": "time.sleep(10)\nsubscription.quality_monitoring.enable(threshold=0.7, min_records=50)"
        }, 
        {
            "source": "## Feedback logging", 
            "cell_type": "markdown", 
            "metadata": {}
        }, 
        {
            "source": "The code below downloads and stores enough feedback data to meet the minimum threshold so that OpenScale can calculate a new accuracy measurement. It then kicks off the accuracy monitor. The monitors run hourly, or can be initiated via the Python API, the REST API, or the graphical user interface.", 
            "cell_type": "markdown", 
            "metadata": {}
        }, 
        {
            "execution_count": 41, 
            "cell_type": "code", 
            "metadata": {}, 
            "outputs": [
                {
                    "output_type": "stream", 
                    "name": "stdout", 
                    "text": "rm: cannot remove 'additional_feedback_data.json': No such file or directory\n--2019-06-03 14:19:43--  https://raw.githubusercontent.com/pmservice/ai-openscale-tutorials/master/assets/historical_data/german_credit_risk/wml/additional_feedback_data.json\nResolving raw.githubusercontent.com (raw.githubusercontent.com)... 151.101.48.133\nConnecting to raw.githubusercontent.com (raw.githubusercontent.com)|151.101.48.133|:443... connected.\nHTTP request sent, awaiting response... 200 OK\nLength: 16506 (16K) [text/plain]\nSaving to: 'additional_feedback_data.json'\n\nadditional_feedback 100%[===================>]  16.12K  --.-KB/s    in 0s      \n\n2019-06-03 14:19:43 (31.6 MB/s) - 'additional_feedback_data.json' saved [16506/16506]\n\n"
                }
            ], 
            "source": "!rm additional_feedback_data.json\n!wget https://raw.githubusercontent.com/pmservice/ai-openscale-tutorials/master/assets/historical_data/german_credit_risk/wml/additional_feedback_data.json"
        }, 
        {
            "execution_count": 42, 
            "cell_type": "code", 
            "metadata": {}, 
            "outputs": [], 
            "source": "with open('additional_feedback_data.json') as feedback_file:\n    additional_feedback_data = json.load(feedback_file)\n    \nsubscription.feedback_logging.store(additional_feedback_data['data'])"
        }, 
        {
            "execution_count": 43, 
            "cell_type": "code", 
            "metadata": {
                "scrolled": true
            }, 
            "outputs": [
                {
                    "output_type": "display_data", 
                    "data": {
                        "text/html": "<HTML>\n        <body>\n            <h3>Feedback_eb9ab6dc-7bdc-47c5-b881-f20b9ee81375 (binding_id=a73bf76d-a663-448a-b771-4f651f73d54e, subscription_id=eb9ab6dc-7bdc-47c5-b881-f20b9ee81375)</h3>\n            <table style='border: 1px solid #dddddd; font-family: Courier'>\n                <th style='border: 1px solid #dddddd'>CheckingStatus</th><th style='border: 1px solid #dddddd'>LoanDuration</th><th style='border: 1px solid #dddddd'>CreditHistory</th><th style='border: 1px solid #dddddd'>LoanPurpose</th><th style='border: 1px solid #dddddd'>LoanAmount</th><th style='border: 1px solid #dddddd'>ExistingSavings</th><th style='border: 1px solid #dddddd'>EmploymentDuration</th><th style='border: 1px solid #dddddd'>InstallmentPercent</th><th style='border: 1px solid #dddddd'>Sex</th><th style='border: 1px solid #dddddd'>OthersOnLoan</th><th style='border: 1px solid #dddddd'>CurrentResidenceDuration</th><th style='border: 1px solid #dddddd'>OwnsProperty</th><th style='border: 1px solid #dddddd'>Age</th><th style='border: 1px solid #dddddd'>InstallmentPlans</th><th style='border: 1px solid #dddddd'>Housing</th><th style='border: 1px solid #dddddd'>ExistingCreditsCount</th><th style='border: 1px solid #dddddd'>Job</th><th style='border: 1px solid #dddddd'>Dependents</th><th style='border: 1px solid #dddddd'>Telephone</th><th style='border: 1px solid #dddddd'>ForeignWorker</th><th style='border: 1px solid #dddddd'>Risk</th><th style='border: 1px solid #dddddd'>_training</th>\n                <tr><td style='border: 1px solid #dddddd'>less_0</td><td style='border: 1px solid #dddddd'>10</td><td style='border: 1px solid #dddddd'>all_credits_paid_back</td><td style='border: 1px solid #dddddd'>car_new</td><td style='border: 1px solid #dddddd'>250</td><td style='border: 1px solid #dddddd'>500_to_1000</td><td style='border: 1px solid #dddddd'>4_to_7</td><td style='border: 1px solid #dddddd'>3</td><td style='border: 1px solid #dddddd'>male</td><td style='border: 1px solid #dddddd'>none</td><td style='border: 1px solid #dddddd'>2</td><td style='border: 1px solid #dddddd'>real_estate</td><td style='border: 1px solid #dddddd'>23</td><td style='border: 1px solid #dddddd'>none</td><td style='border: 1px solid #dddddd'>rent</td><td style='border: 1px solid #dddddd'>1</td><td style='border: 1px solid #dddddd'>skilled</td><td style='border: 1px solid #dddddd'>1</td><td style='border: 1px solid #dddddd'>none</td><td style='border: 1px solid #dddddd'>yes</td><td style='border: 1px solid #dddddd'>No Risk</td><td style='border: 1px solid #dddddd'>2019-06-03 14:19:43.983458+00:00</td></tr><tr><td style='border: 1px solid #dddddd'>no_checking</td><td style='border: 1px solid #dddddd'>23</td><td style='border: 1px solid #dddddd'>prior_payments_delayed</td><td style='border: 1px solid #dddddd'>appliances</td><td style='border: 1px solid #dddddd'>6964</td><td style='border: 1px solid #dddddd'>100_to_500</td><td style='border: 1px solid #dddddd'>4_to_7</td><td style='border: 1px solid #dddddd'>4</td><td style='border: 1px solid #dddddd'>female</td><td style='border: 1px solid #dddddd'>none</td><td style='border: 1px solid #dddddd'>3</td><td style='border: 1px solid #dddddd'>car_other</td><td style='border: 1px solid #dddddd'>39</td><td style='border: 1px solid #dddddd'>none</td><td style='border: 1px solid #dddddd'>own</td><td style='border: 1px solid #dddddd'>1</td><td style='border: 1px solid #dddddd'>skilled</td><td style='border: 1px solid #dddddd'>1</td><td style='border: 1px solid #dddddd'>none</td><td style='border: 1px solid #dddddd'>yes</td><td style='border: 1px solid #dddddd'>Risk</td><td style='border: 1px solid #dddddd'>2019-06-03 14:19:43.983458+00:00</td></tr><tr><td style='border: 1px solid #dddddd'>0_to_200</td><td style='border: 1px solid #dddddd'>30</td><td style='border: 1px solid #dddddd'>outstanding_credit</td><td style='border: 1px solid #dddddd'>appliances</td><td style='border: 1px solid #dddddd'>3464</td><td style='border: 1px solid #dddddd'>100_to_500</td><td style='border: 1px solid #dddddd'>greater_7</td><td style='border: 1px solid #dddddd'>3</td><td style='border: 1px solid #dddddd'>male</td><td style='border: 1px solid #dddddd'>guarantor</td><td style='border: 1px solid #dddddd'>4</td><td style='border: 1px solid #dddddd'>savings_insurance</td><td style='border: 1px solid #dddddd'>51</td><td style='border: 1px solid #dddddd'>stores</td><td style='border: 1px solid #dddddd'>free</td><td style='border: 1px solid #dddddd'>1</td><td style='border: 1px solid #dddddd'>skilled</td><td style='border: 1px solid #dddddd'>1</td><td style='border: 1px solid #dddddd'>yes</td><td style='border: 1px solid #dddddd'>yes</td><td style='border: 1px solid #dddddd'>Risk</td><td style='border: 1px solid #dddddd'>2019-06-03 14:19:43.983458+00:00</td></tr><tr><td style='border: 1px solid #dddddd'>no_checking</td><td style='border: 1px solid #dddddd'>23</td><td style='border: 1px solid #dddddd'>outstanding_credit</td><td style='border: 1px solid #dddddd'>car_used</td><td style='border: 1px solid #dddddd'>2681</td><td style='border: 1px solid #dddddd'>500_to_1000</td><td style='border: 1px solid #dddddd'>greater_7</td><td style='border: 1px solid #dddddd'>4</td><td style='border: 1px solid #dddddd'>male</td><td style='border: 1px solid #dddddd'>none</td><td style='border: 1px solid #dddddd'>3</td><td style='border: 1px solid #dddddd'>car_other</td><td style='border: 1px solid #dddddd'>33</td><td style='border: 1px solid #dddddd'>stores</td><td style='border: 1px solid #dddddd'>free</td><td style='border: 1px solid #dddddd'>1</td><td style='border: 1px solid #dddddd'>unskilled</td><td style='border: 1px solid #dddddd'>1</td><td style='border: 1px solid #dddddd'>yes</td><td style='border: 1px solid #dddddd'>yes</td><td style='border: 1px solid #dddddd'>No Risk</td><td style='border: 1px solid #dddddd'>2019-06-03 14:19:43.983458+00:00</td></tr><tr><td style='border: 1px solid #dddddd'>0_to_200</td><td style='border: 1px solid #dddddd'>18</td><td style='border: 1px solid #dddddd'>prior_payments_delayed</td><td style='border: 1px solid #dddddd'>furniture</td><td style='border: 1px solid #dddddd'>1673</td><td style='border: 1px solid #dddddd'>less_100</td><td style='border: 1px solid #dddddd'>1_to_4</td><td style='border: 1px solid #dddddd'>2</td><td style='border: 1px solid #dddddd'>male</td><td style='border: 1px solid #dddddd'>none</td><td style='border: 1px solid #dddddd'>3</td><td style='border: 1px solid #dddddd'>car_other</td><td style='border: 1px solid #dddddd'>30</td><td style='border: 1px solid #dddddd'>none</td><td style='border: 1px solid #dddddd'>own</td><td style='border: 1px solid #dddddd'>2</td><td style='border: 1px solid #dddddd'>skilled</td><td style='border: 1px solid #dddddd'>1</td><td style='border: 1px solid #dddddd'>none</td><td style='border: 1px solid #dddddd'>yes</td><td style='border: 1px solid #dddddd'>Risk</td><td style='border: 1px solid #dddddd'>2019-06-03 14:19:43.983458+00:00</td></tr><tr><td style='border: 1px solid #dddddd'>no_checking</td><td style='border: 1px solid #dddddd'>44</td><td style='border: 1px solid #dddddd'>outstanding_credit</td><td style='border: 1px solid #dddddd'>radio_tv</td><td style='border: 1px solid #dddddd'>3476</td><td style='border: 1px solid #dddddd'>unknown</td><td style='border: 1px solid #dddddd'>greater_7</td><td style='border: 1px solid #dddddd'>4</td><td style='border: 1px solid #dddddd'>male</td><td style='border: 1px solid #dddddd'>co-applicant</td><td style='border: 1px solid #dddddd'>4</td><td style='border: 1px solid #dddddd'>unknown</td><td style='border: 1px solid #dddddd'>60</td><td style='border: 1px solid #dddddd'>none</td><td style='border: 1px solid #dddddd'>free</td><td style='border: 1px solid #dddddd'>2</td><td style='border: 1px solid #dddddd'>skilled</td><td style='border: 1px solid #dddddd'>2</td><td style='border: 1px solid #dddddd'>yes</td><td style='border: 1px solid #dddddd'>yes</td><td style='border: 1px solid #dddddd'>Risk</td><td style='border: 1px solid #dddddd'>2019-06-03 14:19:43.983458+00:00</td></tr><tr><td style='border: 1px solid #dddddd'>less_0</td><td style='border: 1px solid #dddddd'>8</td><td style='border: 1px solid #dddddd'>no_credits</td><td style='border: 1px solid #dddddd'>education</td><td style='border: 1px solid #dddddd'>803</td><td style='border: 1px solid #dddddd'>less_100</td><td style='border: 1px solid #dddddd'>unemployed</td><td style='border: 1px solid #dddddd'>1</td><td style='border: 1px solid #dddddd'>male</td><td style='border: 1px solid #dddddd'>none</td><td style='border: 1px solid #dddddd'>1</td><td style='border: 1px solid #dddddd'>savings_insurance</td><td style='border: 1px solid #dddddd'>19</td><td style='border: 1px solid #dddddd'>stores</td><td style='border: 1px solid #dddddd'>rent</td><td style='border: 1px solid #dddddd'>1</td><td style='border: 1px solid #dddddd'>skilled</td><td style='border: 1px solid #dddddd'>1</td><td style='border: 1px solid #dddddd'>none</td><td style='border: 1px solid #dddddd'>yes</td><td style='border: 1px solid #dddddd'>No Risk</td><td style='border: 1px solid #dddddd'>2019-06-03 14:19:43.983458+00:00</td></tr><tr><td style='border: 1px solid #dddddd'>0_to_200</td><td style='border: 1px solid #dddddd'>7</td><td style='border: 1px solid #dddddd'>all_credits_paid_back</td><td style='border: 1px solid #dddddd'>car_new</td><td style='border: 1px solid #dddddd'>250</td><td style='border: 1px solid #dddddd'>less_100</td><td style='border: 1px solid #dddddd'>unemployed</td><td style='border: 1px solid #dddddd'>1</td><td style='border: 1px solid #dddddd'>male</td><td style='border: 1px solid #dddddd'>none</td><td style='border: 1px solid #dddddd'>1</td><td style='border: 1px solid #dddddd'>real_estate</td><td style='border: 1px solid #dddddd'>19</td><td style='border: 1px solid #dddddd'>stores</td><td style='border: 1px solid #dddddd'>rent</td><td style='border: 1px solid #dddddd'>1</td><td style='border: 1px solid #dddddd'>skilled</td><td style='border: 1px solid #dddddd'>1</td><td style='border: 1px solid #dddddd'>none</td><td style='border: 1px solid #dddddd'>yes</td><td style='border: 1px solid #dddddd'>No Risk</td><td style='border: 1px solid #dddddd'>2019-06-03 14:19:43.983458+00:00</td></tr><tr><td style='border: 1px solid #dddddd'>0_to_200</td><td style='border: 1px solid #dddddd'>33</td><td style='border: 1px solid #dddddd'>credits_paid_to_date</td><td style='border: 1px solid #dddddd'>radio_tv</td><td style='border: 1px solid #dddddd'>3548</td><td style='border: 1px solid #dddddd'>100_to_500</td><td style='border: 1px solid #dddddd'>1_to_4</td><td style='border: 1px solid #dddddd'>3</td><td style='border: 1px solid #dddddd'>male</td><td style='border: 1px solid #dddddd'>none</td><td style='border: 1px solid #dddddd'>4</td><td style='border: 1px solid #dddddd'>car_other</td><td style='border: 1px solid #dddddd'>28</td><td style='border: 1px solid #dddddd'>none</td><td style='border: 1px solid #dddddd'>own</td><td style='border: 1px solid #dddddd'>2</td><td style='border: 1px solid #dddddd'>skilled</td><td style='border: 1px solid #dddddd'>1</td><td style='border: 1px solid #dddddd'>yes</td><td style='border: 1px solid #dddddd'>yes</td><td style='border: 1px solid #dddddd'>Risk</td><td style='border: 1px solid #dddddd'>2019-06-03 14:19:43.983458+00:00</td></tr><tr><td style='border: 1px solid #dddddd'>no_checking</td><td style='border: 1px solid #dddddd'>24</td><td style='border: 1px solid #dddddd'>prior_payments_delayed</td><td style='border: 1px solid #dddddd'>retraining</td><td style='border: 1px solid #dddddd'>4158</td><td style='border: 1px solid #dddddd'>100_to_500</td><td style='border: 1px solid #dddddd'>greater_7</td><td style='border: 1px solid #dddddd'>3</td><td style='border: 1px solid #dddddd'>female</td><td style='border: 1px solid #dddddd'>none</td><td style='border: 1px solid #dddddd'>2</td><td style='border: 1px solid #dddddd'>savings_insurance</td><td style='border: 1px solid #dddddd'>35</td><td style='border: 1px solid #dddddd'>stores</td><td style='border: 1px solid #dddddd'>own</td><td style='border: 1px solid #dddddd'>1</td><td style='border: 1px solid #dddddd'>unskilled</td><td style='border: 1px solid #dddddd'>2</td><td style='border: 1px solid #dddddd'>none</td><td style='border: 1px solid #dddddd'>yes</td><td style='border: 1px solid #dddddd'>Risk</td><td style='border: 1px solid #dddddd'>2019-06-03 14:19:43.983458+00:00</td></tr>\n            </table>\n        </body>\n        </HTML>", 
                        "text/plain": "<IPython.core.display.HTML object>"
                    }, 
                    "metadata": {}
                }
            ], 
            "source": "subscription.feedback_logging.show_table()"
        }, 
        {
            "execution_count": 44, 
            "cell_type": "code", 
            "metadata": {
                "scrolled": true
            }, 
            "outputs": [
                {
                    "output_type": "stream", 
                    "name": "stdout", 
                    "text": "\n\n================================================================================\n\n Waiting for end of quality monitoring run c6b2eb23-d15c-4c6f-bfce-6fa8f1e86e7c \n\n================================================================================\n\n\n\ninitializing.\nrunning\ncompleted\n\n---------------------------\n Successfully finished run \n---------------------------\n\n\n"
                }
            ], 
            "source": "run_details = subscription.quality_monitoring.run(background_mode=False)"
        }, 
        {
            "execution_count": 45, 
            "cell_type": "code", 
            "metadata": {
                "scrolled": true
            }, 
            "outputs": [
                {
                    "output_type": "display_data", 
                    "data": {
                        "text/html": "<HTML>\n        <body>\n            <h3>QualityMetrics (binding_id=a73bf76d-a663-448a-b771-4f651f73d54e, subscription_id=eb9ab6dc-7bdc-47c5-b881-f20b9ee81375)</h3>\n            <table style='border: 1px solid #dddddd; font-family: Courier'>\n                <th style='border: 1px solid #dddddd'>ts</th><th style='border: 1px solid #dddddd'>id</th><th style='border: 1px solid #dddddd'>measurement_id</th><th style='border: 1px solid #dddddd'>value</th><th style='border: 1px solid #dddddd'>lower limit</th><th style='border: 1px solid #dddddd'>upper limit</th><th style='border: 1px solid #dddddd'>tags</th><th style='border: 1px solid #dddddd'>binding_id</th><th style='border: 1px solid #dddddd'>subscription_id</th><th style='border: 1px solid #dddddd'>deployment_id</th>\n                <tr><td style='border: 1px solid #dddddd'>2019-06-03 14:19:47.230000+00:00</td><td style='border: 1px solid #dddddd'>true_positive_rate</td><td style='border: 1px solid #dddddd'>0d528e2a-ccef-4e2c-ac93-d1c277c81420</td><td style='border: 1px solid #dddddd'>0.45454545454545453</td><td style='border: 1px solid #dddddd'></td><td style='border: 1px solid #dddddd'></td><td style='border: 1px solid #dddddd'>model_type: original</td><td style='border: 1px solid #dddddd'>a73bf76d-a663-448a-b771-4f651f73d54e</td><td style='border: 1px solid #dddddd'>eb9ab6dc-7bdc-47c5-b881-f20b9ee81375</td><td style='border: 1px solid #dddddd'>13dc527a-35f0-4881-afc0-f474d1f843b5</td></tr><tr><td style='border: 1px solid #dddddd'>2019-06-03 14:19:47.230000+00:00</td><td style='border: 1px solid #dddddd'>area_under_roc</td><td style='border: 1px solid #dddddd'>0d528e2a-ccef-4e2c-ac93-d1c277c81420</td><td style='border: 1px solid #dddddd'>0.6965034965034965</td><td style='border: 1px solid #dddddd'>0.7</td><td style='border: 1px solid #dddddd'></td><td style='border: 1px solid #dddddd'>model_type: original</td><td style='border: 1px solid #dddddd'>a73bf76d-a663-448a-b771-4f651f73d54e</td><td style='border: 1px solid #dddddd'>eb9ab6dc-7bdc-47c5-b881-f20b9ee81375</td><td style='border: 1px solid #dddddd'>13dc527a-35f0-4881-afc0-f474d1f843b5</td></tr><tr><td style='border: 1px solid #dddddd'>2019-06-03 14:19:47.230000+00:00</td><td style='border: 1px solid #dddddd'>precision</td><td style='border: 1px solid #dddddd'>0d528e2a-ccef-4e2c-ac93-d1c277c81420</td><td style='border: 1px solid #dddddd'>0.7894736842105263</td><td style='border: 1px solid #dddddd'></td><td style='border: 1px solid #dddddd'></td><td style='border: 1px solid #dddddd'>model_type: original</td><td style='border: 1px solid #dddddd'>a73bf76d-a663-448a-b771-4f651f73d54e</td><td style='border: 1px solid #dddddd'>eb9ab6dc-7bdc-47c5-b881-f20b9ee81375</td><td style='border: 1px solid #dddddd'>13dc527a-35f0-4881-afc0-f474d1f843b5</td></tr><tr><td style='border: 1px solid #dddddd'>2019-06-03 14:19:47.230000+00:00</td><td style='border: 1px solid #dddddd'>f1_measure</td><td style='border: 1px solid #dddddd'>0d528e2a-ccef-4e2c-ac93-d1c277c81420</td><td style='border: 1px solid #dddddd'>0.5769230769230769</td><td style='border: 1px solid #dddddd'></td><td style='border: 1px solid #dddddd'></td><td style='border: 1px solid #dddddd'>model_type: original</td><td style='border: 1px solid #dddddd'>a73bf76d-a663-448a-b771-4f651f73d54e</td><td style='border: 1px solid #dddddd'>eb9ab6dc-7bdc-47c5-b881-f20b9ee81375</td><td style='border: 1px solid #dddddd'>13dc527a-35f0-4881-afc0-f474d1f843b5</td></tr><tr><td style='border: 1px solid #dddddd'>2019-06-03 14:19:47.230000+00:00</td><td style='border: 1px solid #dddddd'>accuracy</td><td style='border: 1px solid #dddddd'>0d528e2a-ccef-4e2c-ac93-d1c277c81420</td><td style='border: 1px solid #dddddd'>0.7755102040816326</td><td style='border: 1px solid #dddddd'></td><td style='border: 1px solid #dddddd'></td><td style='border: 1px solid #dddddd'>model_type: original</td><td style='border: 1px solid #dddddd'>a73bf76d-a663-448a-b771-4f651f73d54e</td><td style='border: 1px solid #dddddd'>eb9ab6dc-7bdc-47c5-b881-f20b9ee81375</td><td style='border: 1px solid #dddddd'>13dc527a-35f0-4881-afc0-f474d1f843b5</td></tr><tr><td style='border: 1px solid #dddddd'>2019-06-03 14:19:47.230000+00:00</td><td style='border: 1px solid #dddddd'>log_loss</td><td style='border: 1px solid #dddddd'>0d528e2a-ccef-4e2c-ac93-d1c277c81420</td><td style='border: 1px solid #dddddd'>0.4374964794725183</td><td style='border: 1px solid #dddddd'></td><td style='border: 1px solid #dddddd'></td><td style='border: 1px solid #dddddd'>model_type: original</td><td style='border: 1px solid #dddddd'>a73bf76d-a663-448a-b771-4f651f73d54e</td><td style='border: 1px solid #dddddd'>eb9ab6dc-7bdc-47c5-b881-f20b9ee81375</td><td style='border: 1px solid #dddddd'>13dc527a-35f0-4881-afc0-f474d1f843b5</td></tr><tr><td style='border: 1px solid #dddddd'>2019-06-03 14:19:47.230000+00:00</td><td style='border: 1px solid #dddddd'>false_positive_rate</td><td style='border: 1px solid #dddddd'>0d528e2a-ccef-4e2c-ac93-d1c277c81420</td><td style='border: 1px solid #dddddd'>0.06153846153846154</td><td style='border: 1px solid #dddddd'></td><td style='border: 1px solid #dddddd'></td><td style='border: 1px solid #dddddd'>model_type: original</td><td style='border: 1px solid #dddddd'>a73bf76d-a663-448a-b771-4f651f73d54e</td><td style='border: 1px solid #dddddd'>eb9ab6dc-7bdc-47c5-b881-f20b9ee81375</td><td style='border: 1px solid #dddddd'>13dc527a-35f0-4881-afc0-f474d1f843b5</td></tr><tr><td style='border: 1px solid #dddddd'>2019-06-03 14:19:47.230000+00:00</td><td style='border: 1px solid #dddddd'>area_under_pr</td><td style='border: 1px solid #dddddd'>0d528e2a-ccef-4e2c-ac93-d1c277c81420</td><td style='border: 1px solid #dddddd'>0.6659994141197149</td><td style='border: 1px solid #dddddd'></td><td style='border: 1px solid #dddddd'></td><td style='border: 1px solid #dddddd'>model_type: original</td><td style='border: 1px solid #dddddd'>a73bf76d-a663-448a-b771-4f651f73d54e</td><td style='border: 1px solid #dddddd'>eb9ab6dc-7bdc-47c5-b881-f20b9ee81375</td><td style='border: 1px solid #dddddd'>13dc527a-35f0-4881-afc0-f474d1f843b5</td></tr><tr><td style='border: 1px solid #dddddd'>2019-06-03 14:19:47.230000+00:00</td><td style='border: 1px solid #dddddd'>recall</td><td style='border: 1px solid #dddddd'>0d528e2a-ccef-4e2c-ac93-d1c277c81420</td><td style='border: 1px solid #dddddd'>0.45454545454545453</td><td style='border: 1px solid #dddddd'></td><td style='border: 1px solid #dddddd'></td><td style='border: 1px solid #dddddd'>model_type: original</td><td style='border: 1px solid #dddddd'>a73bf76d-a663-448a-b771-4f651f73d54e</td><td style='border: 1px solid #dddddd'>eb9ab6dc-7bdc-47c5-b881-f20b9ee81375</td><td style='border: 1px solid #dddddd'>13dc527a-35f0-4881-afc0-f474d1f843b5</td></tr>\n            </table>\n        </body>\n        </HTML>", 
                        "text/plain": "<IPython.core.display.HTML object>"
                    }, 
                    "metadata": {}
                }
            ], 
            "source": "subscription.quality_monitoring.show_table()"
        }, 
        {
            "execution_count": 46, 
            "cell_type": "code", 
            "metadata": {}, 
            "outputs": [
                {
                    "output_type": "display_data", 
                    "data": {
                        "image/png": "[encoded data removed]", 
                        "text/plain": "<Figure size 432x288 with 1 Axes>"
                    }, 
                    "metadata": {
                        "needs_background": "light"
                    }
                }
            ], 
            "source": "%matplotlib inline\n\nquality_pd = subscription.quality_monitoring.get_table_content(format='pandas')\nquality_pd.plot.barh(x='id', y='value');"
        }, 
        {
            "execution_count": 47, 
            "cell_type": "code", 
            "metadata": {
                "scrolled": true
            }, 
            "outputs": [
                {
                    "execution_count": 47, 
                    "metadata": {}, 
                    "data": {
                        "text/plain": "{'deployment_metrics': [{'subscription': {'subscription_id': 'eb9ab6dc-7bdc-47c5-b881-f20b9ee81375',\n    'url': '/v1/data_marts/cacaf1bc-1285-46da-ba9a-49464bc683a3/service_bindings/a73bf76d-a663-448a-b771-4f651f73d54e/subscriptions/eb9ab6dc-7bdc-47c5-b881-f20b9ee81375'},\n   'asset': {'name': 'Spark German Risk Model - Final',\n    'asset_id': 'eb9ab6dc-7bdc-47c5-b881-f20b9ee81375',\n    'url': 'https://us-south.ml.cloud.ibm.com/v3/wml_instances/a73bf76d-a663-448a-b771-4f651f73d54e/published_models/eb9ab6dc-7bdc-47c5-b881-f20b9ee81375',\n    'asset_type': 'model',\n    'created_at': '2019-06-03T14:16:06.917Z'},\n   'deployment': {'name': 'Spark German Risk Deployment - Final',\n    'url': 'https://us-south.ml.cloud.ibm.com/v3/wml_instances/a73bf76d-a663-448a-b771-4f651f73d54e/deployments/13dc527a-35f0-4881-afc0-f474d1f843b5',\n    'deployment_type': 'online',\n    'scoring_endpoint': {'url': 'https://us-south.ml.cloud.ibm.com/v3/wml_instances/a73bf76d-a663-448a-b771-4f651f73d54e/deployments/13dc527a-35f0-4881-afc0-f474d1f843b5/online',\n     'request_headers': {'Content-Type': 'application/json'}},\n    'deployment_rn': '',\n    'created_at': '2019-06-03T14:16:06.968Z',\n    'deployment_id': '13dc527a-35f0-4881-afc0-f474d1f843b5'},\n   'metrics': [{'metric_type': 'quality',\n     'value': {'metrics': [{'name': 'true_positive_rate',\n        'value': 0.45454545454545453},\n       {'name': 'area_under_roc', 'value': 0.6965034965034965},\n       {'name': 'precision', 'value': 0.7894736842105263},\n       {'name': 'f1_measure', 'value': 0.5769230769230769},\n       {'name': 'accuracy', 'value': 0.7755102040816326},\n       {'name': 'log_loss', 'value': 0.4374964794725183},\n       {'name': 'false_positive_rate', 'value': 0.06153846153846154},\n       {'name': 'area_under_pr', 'value': 0.6659994141197149},\n       {'name': 'recall', 'value': 0.45454545454545453}],\n      'quality': 0.6965034965034965,\n      'threshold': 0.7},\n     'issues': 1,\n     'timestamp': '2019-06-03T14:19:47.230Z'}]}]}"
                    }, 
                    "output_type": "execute_result"
                }
            ], 
            "source": "ai_client.data_mart.get_deployment_metrics()"
        }, 
        {
            "source": "# Fairness monitoring and explanations <a name=\"fairness\"></a>", 
            "cell_type": "markdown", 
            "metadata": {}
        }, 
        {
            "source": "The code below configures fairness monitoring for our model. It turns on monitoring for two features, Sex and Age. In each case, we must specify:\n  * Which model feature to monitor\n  * One or more **majority** groups, which are values of that feature that we expect to receive a higher percentage of favorable outcomes\n  * One or more **minority** groups, which are values of that feature that we expect to receive a higher percentage of unfavorable outcomes\n  * The threshold at which we would like OpenScale to display an alert if the fairness measurement falls below (in this case, 95%)\n\nAdditionally, we must specify which outcomes from the model are favourable outcomes, and which are unfavourable. We must also provide the number of records OpenScale will use to calculate the fairness score. In this case, OpenScale's fairness monitor will run hourly, but will not calculate a new fairness rating until at least 200 records have been added. Finally, to calculate fairness, OpenScale must perform some calculations on the training data, so we provide the dataframe containing the data.", 
            "cell_type": "markdown", 
            "metadata": {}
        }, 
        {
            "execution_count": 48, 
            "cell_type": "code", 
            "metadata": {
                "scrolled": true
            }, 
            "outputs": [], 
            "source": "subscription.fairness_monitoring.enable(\n            features=[\n                Feature(\"Sex\", majority=['male'], minority=['female'], threshold=0.95),\n                Feature(\"Age\", majority=[[26,75]], minority=[[18,25]], threshold=0.95)\n            ],\n            favourable_classes=['No Risk'],\n            unfavourable_classes=['Risk'],\n            min_records=200,\n            training_data=pd_data\n        )"
        }, 
        {
            "source": "## Score the model again now that monitoring is configured", 
            "cell_type": "markdown", 
            "metadata": {}
        }, 
        {
            "source": "This next section randomly selects 200 records from the data feed and sends those records to the model for predictions. This is enough to exceed the minimum threshold for records set in the previous section, which allows OpenScale to begin calculating fairness.", 
            "cell_type": "markdown", 
            "metadata": {}
        }, 
        {
            "execution_count": 49, 
            "cell_type": "code", 
            "metadata": {}, 
            "outputs": [
                {
                    "output_type": "stream", 
                    "name": "stdout", 
                    "text": "rm: cannot remove 'german_credit_feed.json': No such file or directory\n--2019-06-03 14:20:09--  https://raw.githubusercontent.com/pmservice/ai-openscale-tutorials/master/assets/historical_data/german_credit_risk/wml/german_credit_feed.json\nResolving raw.githubusercontent.com (raw.githubusercontent.com)... 151.101.48.133\nConnecting to raw.githubusercontent.com (raw.githubusercontent.com)|151.101.48.133|:443... connected.\nHTTP request sent, awaiting response... 200 OK\nLength: 3076547 (2.9M) [text/plain]\nSaving to: 'german_credit_feed.json'\n\ngerman_credit_feed. 100%[===================>]   2.93M  --.-KB/s    in 0.07s   \n\n2019-06-03 14:20:10 (44.6 MB/s) - 'german_credit_feed.json' saved [3076547/3076547]\n\n"
                }
            ], 
            "source": "!rm german_credit_feed.json\n!wget https://raw.githubusercontent.com/pmservice/ai-openscale-tutorials/master/assets/historical_data/german_credit_risk/wml/german_credit_feed.json"
        }, 
        {
            "source": "Score 200 randomly chosen records", 
            "cell_type": "markdown", 
            "metadata": {}
        }, 
        {
            "execution_count": 50, 
            "cell_type": "code", 
            "metadata": {}, 
            "outputs": [], 
            "source": "import random\n\nwith open('german_credit_feed.json', 'r') as scoring_file:\n    scoring_data = json.load(scoring_file)\n\nfields = scoring_data['fields']\nvalues = []\nfor _ in range(200):\n    values.append(random.choice(scoring_data['values']))\npayload_scoring = {\"fields\": fields, \"values\": values}\n\nscoring_response = wml_client.deployments.score(credit_risk_scoring_endpoint, payload_scoring)\ntime.sleep(5)"
        }, 
        {
            "source": "## Run fairness monitor", 
            "cell_type": "markdown", 
            "metadata": {}
        }, 
        {
            "source": "Kick off a fairness monitor run on current data. The monitor runs hourly, but can be manually initiated using the Python client, the REST API, or the graphical user interface.", 
            "cell_type": "markdown", 
            "metadata": {}
        }, 
        {
            "execution_count": 57, 
            "cell_type": "code", 
            "metadata": {
                "scrolled": true
            }, 
            "outputs": [
                {
                    "output_type": "stream", 
                    "name": "stdout", 
                    "text": "\n\n=======================================================================\n\n Counting bias for deployment_uid=13dc527a-35f0-4881-afc0-f474d1f843b5 \n\n=======================================================================\n\n\n\nRUNNING\nFINISHED\n\n---------------------------\n Successfully finished run \n---------------------------\n\n\n"
                }
            ], 
            "source": "run_details = subscription.fairness_monitoring.run(background_mode=False)"
        }, 
        {
            "execution_count": 58, 
            "cell_type": "code", 
            "metadata": {}, 
            "outputs": [
                {
                    "output_type": "display_data", 
                    "data": {
                        "text/html": "<HTML>\n        <body>\n            <h3>FairnessMetrics (binding_id=a73bf76d-a663-448a-b771-4f651f73d54e, subscription_id=eb9ab6dc-7bdc-47c5-b881-f20b9ee81375)</h3>\n            <table style='border: 1px solid #dddddd; font-family: Courier'>\n                <th style='border: 1px solid #dddddd'>ts</th><th style='border: 1px solid #dddddd'>feature</th><th style='border: 1px solid #dddddd'>feature_value</th><th style='border: 1px solid #dddddd'>fairness_biased</th><th style='border: 1px solid #dddddd'>fairness_value</th><th style='border: 1px solid #dddddd'>fairness_fav_class</th><th style='border: 1px solid #dddddd'>binding_id</th><th style='border: 1px solid #dddddd'>subscription_id</th><th style='border: 1px solid #dddddd'>asset_revision</th><th style='border: 1px solid #dddddd'>deployment_id</th><th style='border: 1px solid #dddddd'>process</th>\n                \n            </table>\n        </body>\n        </HTML>", 
                        "text/plain": "<IPython.core.display.HTML object>"
                    }, 
                    "metadata": {}
                }
            ], 
            "source": "time.sleep(10)\n\nsubscription.fairness_monitoring.show_table()"
        }, 
        {
            "source": "## Configure Explainability", 
            "cell_type": "markdown", 
            "metadata": {}
        }, 
        {
            "source": "Finally, we provide OpenScale with the training data to enable and configure the explainability features.", 
            "cell_type": "markdown", 
            "metadata": {}
        }, 
        {
            "execution_count": 59, 
            "cell_type": "code", 
            "metadata": {
                "scrolled": true
            }, 
            "outputs": [], 
            "source": "from ibm_ai_openscale.supporting_classes import *\n\nsubscription.explainability.enable(training_data=pd_data)"
        }, 
        {
            "execution_count": 60, 
            "cell_type": "code", 
            "metadata": {
                "scrolled": true
            }, 
            "outputs": [], 
            "source": "explainability_details = subscription.explainability.get_details()"
        }, 
        {
            "source": "## Run explanation for sample record", 
            "cell_type": "markdown", 
            "metadata": {}
        }, 
        {
            "execution_count": 61, 
            "cell_type": "code", 
            "metadata": {}, 
            "outputs": [
                {
                    "output_type": "stream", 
                    "name": "stdout", 
                    "text": "b3bc058e28d25f1ef750bda33e886d6e-1\n"
                }
            ], 
            "source": "transaction_id = subscription.payload_logging.get_table_content(limit=1)['scoring_id'].values[0]\n\nprint(transaction_id)"
        }, 
        {
            "execution_count": 62, 
            "cell_type": "code", 
            "metadata": {}, 
            "outputs": [
                {
                    "output_type": "stream", 
                    "name": "stdout", 
                    "text": "\n\n================================================================\n\n Looking for explanation for b3bc058e28d25f1ef750bda33e886d6e-1 \n\n================================================================\n\n\n\nin_progress\nfinished\n\n---------------------------\n Successfully finished run \n---------------------------\n\n\n"
                }
            ], 
            "source": "explain_run = subscription.explainability.run(transaction_id=transaction_id, background_mode=False)"
        }, 
        {
            "execution_count": 63, 
            "cell_type": "code", 
            "metadata": {}, 
            "outputs": [
                {
                    "output_type": "display_data", 
                    "data": {
                        "image/png": "[encoded data removed]", 
                        "text/plain": "<Figure size 432x288 with 1 Axes>"
                    }, 
                    "metadata": {
                        "needs_background": "light"
                    }
                }
            ], 
            "source": "explain_result = pd.DataFrame.from_dict(explain_run['entity']['predictions'][0]['explanation_features'])\nexplain_result.plot.barh(x='feature_name', y='weight', color='g', alpha=0.8);"
        }, 
        {
            "source": "# Custom monitors and metrics <a name=\"custom\"></a>", 
            "cell_type": "markdown", 
            "metadata": {}
        }, 
        {
            "source": "## Register custom monitor", 
            "cell_type": "markdown", 
            "metadata": {}
        }, 
        {
            "execution_count": 64, 
            "cell_type": "code", 
            "metadata": {}, 
            "outputs": [], 
            "source": "def get_definition(monitor_name):\n    monitors_definitions = ai_client.data_mart.monitors.get_details()['monitor_definitions']\n    \n    for definition in monitors_definitions:\n        if monitor_name == definition['entity']['name']:\n            return definition\n    \n    return None"
        }, 
        {
            "execution_count": 65, 
            "cell_type": "code", 
            "metadata": {}, 
            "outputs": [], 
            "source": "from ibm_ai_openscale.supporting_classes import Metric, Tag\n\nmonitor_name = 'my model performance'\nmetrics = [Metric(name='sensitivity', lower_limit_default=0.8), Metric(name='specificity', lower_limit_default=0.75)]\ntags = [Tag(name='region', description='customer geographical region')]\n\nexisting_definition = get_definition(monitor_name)\n\nif existing_definition is None:\n    my_monitor = ai_client.data_mart.monitors.add(name=monitor_name, metrics=metrics, tags=tags)\nelse:\n    my_monitor = existing_definition"
        }, 
        {
            "source": "### List monitors", 
            "cell_type": "markdown", 
            "metadata": {}
        }, 
        {
            "source": "### Get monitors uids and details", 
            "cell_type": "markdown", 
            "metadata": {}
        }, 
        {
            "execution_count": 66, 
            "cell_type": "code", 
            "metadata": {}, 
            "outputs": [
                {
                    "output_type": "stream", 
                    "name": "stdout", 
                    "text": "my_model_performance\n"
                }
            ], 
            "source": "monitor_uid = my_monitor['metadata']['guid']\n\nprint(monitor_uid)"
        }, 
        {
            "execution_count": 67, 
            "cell_type": "code", 
            "metadata": {}, 
            "outputs": [
                {
                    "output_type": "stream", 
                    "name": "stdout", 
                    "text": "monitor definition details {'metadata': {'guid': 'my_model_performance', 'url': '/v1/data_marts/cacaf1bc-1285-46da-ba9a-49464bc683a3/monitor_definitions/my_model_performance', 'created_at': '2019-06-03T10:36:05.945Z'}, 'entity': {'name': 'my model performance', 'metrics': [{'id': 'sensitivity', 'name': 'sensitivity', 'thresholds': [{'type': 'lower_limit', 'default': 0.8}], 'required': True}, {'id': 'specificity', 'name': 'specificity', 'thresholds': [{'type': 'lower_limit', 'default': 0.75}], 'required': True}], 'tags': [{'id': 'region', 'name': 'region', 'description': 'customer geographical region', 'required': True}]}}\n"
                }
            ], 
            "source": "my_monitor = ai_client.data_mart.monitors.get_details(monitor_uid=monitor_uid)\nprint('monitor definition details', my_monitor)"
        }, 
        {
            "source": "## Enable custom monitor for subscription", 
            "cell_type": "markdown", 
            "metadata": {}
        }, 
        {
            "execution_count": 68, 
            "cell_type": "code", 
            "metadata": {}, 
            "outputs": [], 
            "source": "from ibm_ai_openscale.supporting_classes import Threshold\n\nthresholds = [Threshold(metric_uid='sensitivity', lower_limit=0.9)]\nsubscription.monitoring.enable(monitor_uid=monitor_uid, thresholds=thresholds)"
        }, 
        {
            "source": "### Get monitor configuration details", 
            "cell_type": "markdown", 
            "metadata": {}
        }, 
        {
            "execution_count": 69, 
            "cell_type": "code", 
            "metadata": {}, 
            "outputs": [
                {
                    "execution_count": 69, 
                    "metadata": {}, 
                    "data": {
                        "text/plain": "{'enabled': True,\n 'thresholds': [{'metric_id': 'sensitivity',\n   'type': 'lower_limit',\n   'value': 0.9}],\n 'monitor_definition': {'metadata': {'guid': 'my_model_performance',\n   'url': '/v1/data_marts/cacaf1bc-1285-46da-ba9a-49464bc683a3/monitor_definitions/my_model_performance',\n   'created_at': '2019-06-03T10:36:05.945Z'},\n  'entity': {'name': 'my model performance',\n   'metrics': [{'id': 'sensitivity',\n     'name': 'sensitivity',\n     'thresholds': [{'type': 'lower_limit', 'default': 0.9}],\n     'required': True},\n    {'id': 'specificity', 'name': 'specificity', 'required': True}],\n   'tags': [{'id': 'region',\n     'name': 'region',\n     'description': 'customer geographical region',\n     'required': True}]}}}"
                    }, 
                    "output_type": "execute_result"
                }
            ], 
            "source": "subscription.monitoring.get_details(monitor_uid=monitor_uid)"
        }, 
        {
            "source": "## Storing custom metrics", 
            "cell_type": "markdown", 
            "metadata": {}
        }, 
        {
            "execution_count": 70, 
            "cell_type": "code", 
            "metadata": {}, 
            "outputs": [], 
            "source": "metrics = {\"specificity\": 0.78, \"sensitivity\": 0.67, \"region\": \"us-south\"}\n\nsubscription.monitoring.store_metrics(monitor_uid=monitor_uid, metrics=metrics)"
        }, 
        {
            "source": "### List and get custom metrics", 
            "cell_type": "markdown", 
            "metadata": {}
        }, 
        {
            "execution_count": 71, 
            "cell_type": "code", 
            "metadata": {}, 
            "outputs": [
                {
                    "output_type": "display_data", 
                    "data": {
                        "text/html": "<HTML>\n        <body>\n            <h3>CustomMetrics (binding_id=a73bf76d-a663-448a-b771-4f651f73d54e, subscription_id=eb9ab6dc-7bdc-47c5-b881-f20b9ee81375)</h3>\n            <table style='border: 1px solid #dddddd; font-family: Courier'>\n                <th style='border: 1px solid #dddddd'>ts</th><th style='border: 1px solid #dddddd'>id</th><th style='border: 1px solid #dddddd'>measurement_id</th><th style='border: 1px solid #dddddd'>value</th><th style='border: 1px solid #dddddd'>lower limit</th><th style='border: 1px solid #dddddd'>upper limit</th><th style='border: 1px solid #dddddd'>tags</th><th style='border: 1px solid #dddddd'>binding_id</th><th style='border: 1px solid #dddddd'>subscription_id</th><th style='border: 1px solid #dddddd'>deployment_id</th>\n                <tr><td style='border: 1px solid #dddddd'>2019-06-03 14:22:28.997933+00:00</td><td style='border: 1px solid #dddddd'>sensitivity</td><td style='border: 1px solid #dddddd'>77e0e669-e6f7-46e2-9444-cfbf05d07005</td><td style='border: 1px solid #dddddd'>0.67</td><td style='border: 1px solid #dddddd'>0.9</td><td style='border: 1px solid #dddddd'></td><td style='border: 1px solid #dddddd'>region: us-south</td><td style='border: 1px solid #dddddd'>a73bf76d-a663-448a-b771-4f651f73d54e</td><td style='border: 1px solid #dddddd'>eb9ab6dc-7bdc-47c5-b881-f20b9ee81375</td><td style='border: 1px solid #dddddd'>13dc527a-35f0-4881-afc0-f474d1f843b5</td></tr><tr><td style='border: 1px solid #dddddd'>2019-06-03 14:22:28.997933+00:00</td><td style='border: 1px solid #dddddd'>specificity</td><td style='border: 1px solid #dddddd'>77e0e669-e6f7-46e2-9444-cfbf05d07005</td><td style='border: 1px solid #dddddd'>0.78</td><td style='border: 1px solid #dddddd'></td><td style='border: 1px solid #dddddd'></td><td style='border: 1px solid #dddddd'>region: us-south</td><td style='border: 1px solid #dddddd'>a73bf76d-a663-448a-b771-4f651f73d54e</td><td style='border: 1px solid #dddddd'>eb9ab6dc-7bdc-47c5-b881-f20b9ee81375</td><td style='border: 1px solid #dddddd'>13dc527a-35f0-4881-afc0-f474d1f843b5</td></tr>\n            </table>\n        </body>\n        </HTML>", 
                        "text/plain": "<IPython.core.display.HTML object>"
                    }, 
                    "metadata": {}
                }
            ], 
            "source": "time.sleep(5)\n\nsubscription.monitoring.show_table(monitor_uid=monitor_uid)"
        }, 
        {
            "execution_count": 72, 
            "cell_type": "code", 
            "metadata": {}, 
            "outputs": [
                {
                    "execution_count": 72, 
                    "metadata": {}, 
                    "data": {
                        "text/plain": "[{'asset_id': 'eb9ab6dc-7bdc-47c5-b881-f20b9ee81375',\n  'binding_id': 'a73bf76d-a663-448a-b771-4f651f73d54e',\n  'tags': [{'id': 'region', 'value': 'us-south'}],\n  'ts': '2019-06-03T14:22:28.997933Z',\n  'measurement_id': '77e0e669-e6f7-46e2-9444-cfbf05d07005',\n  'monitor_definition_id': 'my_model_performance',\n  'subscription_id': 'eb9ab6dc-7bdc-47c5-b881-f20b9ee81375',\n  'metrics': [{'lower_limit': 0.9, 'id': 'sensitivity', 'value': 0.67},\n   {'id': 'specificity', 'value': 0.78}]}]"
                    }, 
                    "output_type": "execute_result"
                }
            ], 
            "source": "custom_metrics = subscription.monitoring.get_metrics(monitor_uid=monitor_uid, deployment_uid='credit')\ncustom_metrics"
        }, 
        {
            "execution_count": 73, 
            "cell_type": "code", 
            "metadata": {}, 
            "outputs": [
                {
                    "output_type": "display_data", 
                    "data": {
                        "image/png": "[encoded data removed]", 
                        "text/plain": "<Figure size 432x288 with 1 Axes>"
                    }, 
                    "metadata": {
                        "needs_background": "light"
                    }
                }
            ], 
            "source": "custom_metrics_pandas = subscription.monitoring.get_table_content(monitor_uid=monitor_uid)\n\n%matplotlib inline\ncustom_metrics_pandas.plot.barh(x='id', y='value');"
        }, 
        {
            "source": "# Payload analytics <a name=\"analytics\"></a>", 
            "cell_type": "markdown", 
            "metadata": {}
        }, 
        {
            "source": "## Run data distributions calculation", 
            "cell_type": "markdown", 
            "metadata": {}
        }, 
        {
            "execution_count": 74, 
            "cell_type": "code", 
            "metadata": {}, 
            "outputs": [
                {
                    "output_type": "stream", 
                    "name": "stdout", 
                    "text": "\n\n===============================================================================\n\n Waiting for end of data distribution run 3e7ab122-6108-4605-8d50-f977be6b1ce1 \n\n===============================================================================\n\n\n\nrunning\ncompleted\n\n---------------------------\n Successfully finished run \n---------------------------\n\n\n"
                }
            ], 
            "source": "from datetime import datetime\n\nstart_date = \"2018-01-01T00:00:00.00Z\"\nend_date = datetime.utcnow().isoformat() + \"Z\"\n\nsex_distribution = subscription.payload_logging.data_distribution.run(\n            start_date=start_date,\n            end_date=end_date,\n            group=['predictedLabel', 'Sex'],\n            agg=['count'])"
        }, 
        {
            "source": "## Get data distributions as pandas dataframe", 
            "cell_type": "markdown", 
            "metadata": {}
        }, 
        {
            "execution_count": 75, 
            "cell_type": "code", 
            "metadata": {}, 
            "outputs": [
                {
                    "execution_count": 75, 
                    "metadata": {}, 
                    "data": {
                        "text/html": "<div>\n<style scoped>\n    .dataframe tbody tr th:only-of-type {\n        vertical-align: middle;\n    }\n\n    .dataframe tbody tr th {\n        vertical-align: top;\n    }\n\n    .dataframe thead th {\n        text-align: right;\n    }\n</style>\n<table border=\"1\" class=\"dataframe\">\n  <thead>\n    <tr style=\"text-align: right;\">\n      <th></th>\n      <th>predictedLabel</th>\n      <th>Sex</th>\n      <th>count</th>\n    </tr>\n  </thead>\n  <tbody>\n    <tr>\n      <th>0</th>\n      <td>No Risk</td>\n      <td>female</td>\n      <td>67</td>\n    </tr>\n    <tr>\n      <th>1</th>\n      <td>No Risk</td>\n      <td>male</td>\n      <td>90</td>\n    </tr>\n    <tr>\n      <th>2</th>\n      <td>Risk</td>\n      <td>female</td>\n      <td>5</td>\n    </tr>\n    <tr>\n      <th>3</th>\n      <td>Risk</td>\n      <td>male</td>\n      <td>46</td>\n    </tr>\n  </tbody>\n</table>\n</div>", 
                        "text/plain": "  predictedLabel     Sex  count\n0        No Risk  female     67\n1        No Risk    male     90\n2           Risk  female      5\n3           Risk    male     46"
                    }, 
                    "output_type": "execute_result"
                }
            ], 
            "source": "sex_distribution_run_uid = sex_distribution['id']\ndistributions_pd = subscription.payload_logging.data_distribution.get_run_result(run_id=sex_distribution_run_uid, format='pandas')\ndistributions_pd"
        }, 
        {
            "execution_count": 76, 
            "cell_type": "code", 
            "metadata": {}, 
            "outputs": [
                {
                    "output_type": "display_data", 
                    "data": {
                        "image/png": "[encoded data removed]", 
                        "text/plain": "<Figure size 432x288 with 1 Axes>"
                    }, 
                    "metadata": {
                        "needs_background": "light"
                    }
                }
            ], 
            "source": "subscription.payload_logging.data_distribution.show_chart(sex_distribution_run_uid);"
        }, 
        {
            "execution_count": 77, 
            "cell_type": "code", 
            "metadata": {}, 
            "outputs": [
                {
                    "output_type": "stream", 
                    "name": "stdout", 
                    "text": "\n\n===============================================================================\n\n Waiting for end of data distribution run 9af618a8-7006-456c-a2b0-a925404a0ccf \n\n===============================================================================\n\n\n\nrunning\ncompleted\n\n---------------------------\n Successfully finished run \n---------------------------\n\n\n"
                }
            ], 
            "source": "credit_history_distribution = subscription.payload_logging.data_distribution.run(\n            start_date=start_date,\n            end_date=end_date,\n            group=['predictedLabel', 'CreditHistory'],\n            agg=['count'])"
        }, 
        {
            "execution_count": 78, 
            "cell_type": "code", 
            "metadata": {}, 
            "outputs": [
                {
                    "output_type": "display_data", 
                    "data": {
                        "image/png": "[encoded data removed]", 
                        "text/plain": "<Figure size 432x288 with 1 Axes>"
                    }, 
                    "metadata": {
                        "needs_background": "light"
                    }
                }
            ], 
            "source": "credit_history_distribution_run_uid = credit_history_distribution['id']\n\nsubscription.payload_logging.data_distribution.show_chart(credit_history_distribution_run_uid);"
        }, 
        {
            "source": "# Historical data <a name=\"historical\"></a>", 
            "cell_type": "markdown", 
            "metadata": {}
        }, 
        {
            "source": " ## Insert historical payloads", 
            "cell_type": "markdown", 
            "metadata": {}
        }, 
        {
            "source": "The next section of the notebook downloads and writes historical data to the payload and measurement tables to simulate a production model that has been monitored and receiving regular traffic for the last seven days. This historical data can be viewed in the Watson OpenScale user interface. The code uses the Python and REST APIs to write this data.", 
            "cell_type": "markdown", 
            "metadata": {}
        }, 
        {
            "execution_count": 79, 
            "cell_type": "code", 
            "metadata": {
                "scrolled": false
            }, 
            "outputs": [
                {
                    "output_type": "stream", 
                    "name": "stdout", 
                    "text": "rm: cannot remove 'history_payloads*.json': No such file or directory\n--2019-06-03 14:24:40--  https://raw.githubusercontent.com/pmservice/ai-openscale-tutorials/master/assets/historical_data/german_credit_risk/wml/history_payloads_0.json\nResolving raw.githubusercontent.com (raw.githubusercontent.com)... 199.232.8.133\nConnecting to raw.githubusercontent.com (raw.githubusercontent.com)|199.232.8.133|:443... connected.\nHTTP request sent, awaiting response... 200 OK\nLength: 9569926 (9.1M) [text/plain]\nSaving to: 'history_payloads_0.json'\n\nhistory_payloads_0. 100%[===================>]   9.13M  --.-KB/s    in 0.1s    \n\n2019-06-03 14:24:41 (93.5 MB/s) - 'history_payloads_0.json' saved [9569926/9569926]\n\n--2019-06-03 14:24:42--  https://raw.githubusercontent.com/pmservice/ai-openscale-tutorials/master/assets/historical_data/german_credit_risk/wml/history_payloads_1.json\nResolving raw.githubusercontent.com (raw.githubusercontent.com)... 151.101.48.133\nConnecting to raw.githubusercontent.com (raw.githubusercontent.com)|151.101.48.133|:443... connected.\nHTTP request sent, awaiting response... 200 OK\nLength: 9567447 (9.1M) [text/plain]\nSaving to: 'history_payloads_1.json'\n\nhistory_payloads_1. 100%[===================>]   9.12M  --.-KB/s    in 0.1s    \n\n2019-06-03 14:24:42 (77.6 MB/s) - 'history_payloads_1.json' saved [9567447/9567447]\n\n--2019-06-03 14:24:43--  https://raw.githubusercontent.com/pmservice/ai-openscale-tutorials/master/assets/historical_data/german_credit_risk/wml/history_payloads_2.json\nResolving raw.githubusercontent.com (raw.githubusercontent.com)... 151.101.48.133\nConnecting to raw.githubusercontent.com (raw.githubusercontent.com)|151.101.48.133|:443... connected.\nHTTP request sent, awaiting response... 200 OK\nLength: 9571799 (9.1M) [text/plain]\nSaving to: 'history_payloads_2.json'\n\nhistory_payloads_2. 100%[===================>]   9.13M  --.-KB/s    in 0.1s    \n\n2019-06-03 14:24:44 (78.9 MB/s) - 'history_payloads_2.json' saved [9571799/9571799]\n\n--2019-06-03 14:24:44--  https://raw.githubusercontent.com/pmservice/ai-openscale-tutorials/master/assets/historical_data/german_credit_risk/wml/history_payloads_3.json\nResolving raw.githubusercontent.com (raw.githubusercontent.com)... 151.101.48.133\nConnecting to raw.githubusercontent.com (raw.githubusercontent.com)|151.101.48.133|:443... connected.\nHTTP request sent, awaiting response... 200 OK\nLength: 9573282 (9.1M) [text/plain]\nSaving to: 'history_payloads_3.json'\n\nhistory_payloads_3. 100%[===================>]   9.13M  --.-KB/s    in 0.1s    \n\n2019-06-03 14:24:45 (83.4 MB/s) - 'history_payloads_3.json' saved [9573282/9573282]\n\n--2019-06-03 14:24:45--  https://raw.githubusercontent.com/pmservice/ai-openscale-tutorials/master/assets/historical_data/german_credit_risk/wml/history_payloads_4.json\nResolving raw.githubusercontent.com (raw.githubusercontent.com)... 199.232.8.133\nConnecting to raw.githubusercontent.com (raw.githubusercontent.com)|199.232.8.133|:443... connected.\nHTTP request sent, awaiting response... 200 OK\nLength: 9568788 (9.1M) [text/plain]\nSaving to: 'history_payloads_4.json'\n\nhistory_payloads_4. 100%[===================>]   9.12M  45.3MB/s    in 0.2s    \n\n2019-06-03 14:24:46 (45.3 MB/s) - 'history_payloads_4.json' saved [9568788/9568788]\n\n--2019-06-03 14:24:46--  https://raw.githubusercontent.com/pmservice/ai-openscale-tutorials/master/assets/historical_data/german_credit_risk/wml/history_payloads_5.json\nResolving raw.githubusercontent.com (raw.githubusercontent.com)... 151.101.48.133\nConnecting to raw.githubusercontent.com (raw.githubusercontent.com)|151.101.48.133|:443... connected.\nHTTP request sent, awaiting response... 200 OK\nLength: 9569249 (9.1M) [text/plain]\nSaving to: 'history_payloads_5.json'\n\nhistory_payloads_5. 100%[===================>]   9.12M  --.-KB/s    in 0.1s    \n\n2019-06-03 14:24:47 (86.4 MB/s) - 'history_payloads_5.json' saved [9569249/9569249]\n\n--2019-06-03 14:24:48--  https://raw.githubusercontent.com/pmservice/ai-openscale-tutorials/master/assets/historical_data/german_credit_risk/wml/history_payloads_6.json\nResolving raw.githubusercontent.com (raw.githubusercontent.com)... 151.101.48.133\nConnecting to raw.githubusercontent.com (raw.githubusercontent.com)|151.101.48.133|:443... connected.\nHTTP request sent, awaiting response... 200 OK\nLength: 9568623 (9.1M) [text/plain]\nSaving to: 'history_payloads_6.json'\n\nhistory_payloads_6. 100%[===================>]   9.12M  --.-KB/s    in 0.1s    \n\n2019-06-03 14:24:49 (81.6 MB/s) - 'history_payloads_6.json' saved [9568623/9568623]\n\n"
                }
            ], 
            "source": "!rm history_payloads*.json\n!wget https://raw.githubusercontent.com/pmservice/ai-openscale-tutorials/master/assets/historical_data/german_credit_risk/wml/history_payloads_0.json\n!wget https://raw.githubusercontent.com/pmservice/ai-openscale-tutorials/master/assets/historical_data/german_credit_risk/wml/history_payloads_1.json\n!wget https://raw.githubusercontent.com/pmservice/ai-openscale-tutorials/master/assets/historical_data/german_credit_risk/wml/history_payloads_2.json\n!wget https://raw.githubusercontent.com/pmservice/ai-openscale-tutorials/master/assets/historical_data/german_credit_risk/wml/history_payloads_3.json\n!wget https://raw.githubusercontent.com/pmservice/ai-openscale-tutorials/master/assets/historical_data/german_credit_risk/wml/history_payloads_4.json\n!wget https://raw.githubusercontent.com/pmservice/ai-openscale-tutorials/master/assets/historical_data/german_credit_risk/wml/history_payloads_5.json\n!wget https://raw.githubusercontent.com/pmservice/ai-openscale-tutorials/master/assets/historical_data/german_credit_risk/wml/history_payloads_6.json"
        }, 
        {
            "execution_count": 80, 
            "cell_type": "code", 
            "metadata": {
                "scrolled": true
            }, 
            "outputs": [], 
            "source": "historyDays = 7"
        }, 
        {
            "execution_count": 81, 
            "cell_type": "code", 
            "metadata": {
                "scrolled": false
            }, 
            "outputs": [
                {
                    "output_type": "stream", 
                    "name": "stdout", 
                    "text": "Loading day 1\nLoading day 2\nLoading day 3\nLoading day 4\nLoading day 5\nLoading day 6\nLoading day 7\nFinished\n"
                }
            ], 
            "source": "from ibm_ai_openscale.supporting_classes import PayloadRecord, Feature\nimport datetime\nimport time\n\nfor day in range(historyDays):\n    print('Loading day {}'.format(day + 1))\n    history_file = 'history_payloads_' + str(day) + '.json'\n    with open(history_file) as f:\n        payloads = json.load(f)\n        hourly_records = int(len(payloads) / 24)\n        index = 0\n        for hour in range(24):\n            recordsList = []\n            for i in range(hourly_records):\n                score_time = str(datetime.datetime.utcnow() + datetime.timedelta(hours=(-(24*day + hour + 1))))\n                recordsList.append(PayloadRecord(request=payloads[index]['request'], response=payloads[index]['response'], scoring_timestamp=score_time))\n                index += 1\n            subscription.payload_logging.store(records=recordsList)\nprint('Finished')"
        }, 
        {
            "execution_count": 82, 
            "cell_type": "code", 
            "metadata": {
                "scrolled": true
            }, 
            "outputs": [
                {
                    "output_type": "stream", 
                    "name": "stdout", 
                    "text": "cacaf1bc-1285-46da-ba9a-49464bc683a3\n"
                }
            ], 
            "source": "data_mart_id = subscription.get_details()['metadata']['url'].split('/service_bindings')[0].split('marts/')[1]\nprint(data_mart_id)"
        }, 
        {
            "execution_count": 83, 
            "cell_type": "code", 
            "metadata": {
                "scrolled": true
            }, 
            "outputs": [
                {
                    "output_type": "stream", 
                    "name": "stdout", 
                    "text": "https://api.aiopenscale.cloud.ibm.com/v1/data_marts/cacaf1bc-1285-46da-ba9a-49464bc683a3/metrics\n"
                }
            ], 
            "source": "performance_metrics_url = WOS_CREDENTIALS['url'] + subscription.get_details()['metadata']['url'].split('/service_bindings')[0] + '/metrics'\nprint(performance_metrics_url)"
        }, 
        {
            "source": "## Insert historical fairness metrics", 
            "cell_type": "markdown", 
            "metadata": {}
        }, 
        {
            "execution_count": 84, 
            "cell_type": "code", 
            "metadata": {}, 
            "outputs": [
                {
                    "output_type": "stream", 
                    "name": "stdout", 
                    "text": "rm: cannot remove 'history_fairness.json': No such file or directory\n--2019-06-03 14:32:02--  https://raw.githubusercontent.com/pmservice/ai-openscale-tutorials/master/assets/historical_data/german_credit_risk/wml/history_fairness.json\nResolving raw.githubusercontent.com (raw.githubusercontent.com)... 151.101.48.133\nConnecting to raw.githubusercontent.com (raw.githubusercontent.com)|151.101.48.133|:443... connected.\nHTTP request sent, awaiting response... 200 OK\nLength: 562458 (549K) [text/plain]\nSaving to: 'history_fairness.json'\n\nhistory_fairness.js 100%[===================>] 549.28K  --.-KB/s    in 0.02s   \n\n2019-06-03 14:32:02 (24.9 MB/s) - 'history_fairness.json' saved [562458/562458]\n\n"
                }
            ], 
            "source": "!rm history_fairness.json\n!wget https://raw.githubusercontent.com/pmservice/ai-openscale-tutorials/master/assets/historical_data/german_credit_risk/wml/history_fairness.json"
        }, 
        {
            "execution_count": 85, 
            "cell_type": "code", 
            "metadata": {}, 
            "outputs": [
                {
                    "output_type": "stream", 
                    "name": "stdout", 
                    "text": "Loading day 1\nLoading day 2\nLoading day 3\nLoading day 4\nLoading day 5\nLoading day 6\nLoading day 7\nFinished\n"
                }
            ], 
            "source": "with open('history_fairness.json', 'r') as history_file:\n    payloads = json.load(history_file)\n\nfor day in range(historyDays):\n    print('Loading day', day + 1)\n    metrics = []\n    \n    for hour in range(24):\n        score_time = (datetime.datetime.utcnow() + datetime.timedelta(hours=(-(24*day + hour + 1)))).strftime('%Y-%m-%dT%H:%M:%SZ')\n        index = (day * 24 + hour) % len(payloads) # wrap around and reuse values if needed\n        \n        metric = {\n            'metric_type': 'fairness',\n            'binding_id': binding_uid,\n            'timestamp': score_time,\n            'subscription_id': model_uid,\n            'asset_revision': model_uid,\n            'deployment_id': deployment_uid,\n            'value': payloads[index]\n        }\n        metrics.append(metric)\n    response = requests.post(performance_metrics_url, json=metrics, headers=ai_client._get_headers())\nprint('Finished')"
        }, 
        {
            "source": "## Insert historical debias metrics", 
            "cell_type": "markdown", 
            "metadata": {}
        }, 
        {
            "execution_count": 86, 
            "cell_type": "code", 
            "metadata": {}, 
            "outputs": [
                {
                    "output_type": "stream", 
                    "name": "stdout", 
                    "text": "rm: cannot remove 'history_debias.json': No such file or directory\n--2019-06-03 14:32:04--  https://raw.githubusercontent.com/pmservice/ai-openscale-tutorials/master/assets/historical_data/german_credit_risk/wml/history_debias.json\nResolving raw.githubusercontent.com (raw.githubusercontent.com)... 151.101.48.133\nConnecting to raw.githubusercontent.com (raw.githubusercontent.com)|151.101.48.133|:443... connected.\nHTTP request sent, awaiting response... 200 OK\nLength: 565971 (553K) [text/plain]\nSaving to: 'history_debias.json'\n\nhistory_debias.json 100%[===================>] 552.71K  --.-KB/s    in 0.02s   \n\n2019-06-03 14:32:04 (22.1 MB/s) - 'history_debias.json' saved [565971/565971]\n\n"
                }
            ], 
            "source": "!rm history_debias.json\n!wget https://raw.githubusercontent.com/pmservice/ai-openscale-tutorials/master/assets/historical_data/german_credit_risk/wml/history_debias.json"
        }, 
        {
            "execution_count": 87, 
            "cell_type": "code", 
            "metadata": {}, 
            "outputs": [
                {
                    "output_type": "stream", 
                    "name": "stdout", 
                    "text": "Loading day 1\nLoading day 2\nLoading day 3\nLoading day 4\nLoading day 5\nLoading day 6\nLoading day 7\nFinished\n"
                }
            ], 
            "source": "with open('history_debias.json', 'r') as history_file:\n    payloads = json.load(history_file)\n\nfor day in range(historyDays):\n    print('Loading day', day + 1)\n    debias_metrics = []\n    for hour in range(24):\n        score_time = (datetime.datetime.utcnow() + datetime.timedelta(hours=(-(24*day + hour + 1)))).strftime('%Y-%m-%dT%H:%M:%SZ')\n        index = (day * 24 + hour) % len(payloads) # wrap around and reuse values if needed\n\n        debiasMetric = {\n            'metric_type': 'debiased_fairness',\n            'binding_id': binding_uid,\n            'timestamp': score_time,\n            'subscription_id': model_uid,\n            'asset_revision': model_uid,\n            'deployment_id': deployment_uid,\n            'value': payloads[index]\n        }\n\n        debias_metrics.append(debiasMetric)\n    response = requests.post(performance_metrics_url, json=debias_metrics, headers=ai_client._get_headers())\nprint('Finished')"
        }, 
        {
            "source": "## Insert historical quality metrics", 
            "cell_type": "markdown", 
            "metadata": {}
        }, 
        {
            "execution_count": 88, 
            "cell_type": "code", 
            "metadata": {
                "scrolled": true
            }, 
            "outputs": [
                {
                    "output_type": "stream", 
                    "name": "stdout", 
                    "text": "Day 1\nDay 2\nDay 3\nDay 4\nDay 5\nDay 6\nDay 7\nFinished\n"
                }
            ], 
            "source": "measurements = [0.76, 0.78, 0.68, 0.72, 0.73, 0.77, 0.80]\nfor day in range(historyDays):\n    quality_metrics = []\n    print('Day', day + 1)\n    for hour in range(24):\n        score_time = (datetime.datetime.utcnow() + datetime.timedelta(hours=(-(24*day + hour + 1)))).strftime('%Y-%m-%dT%H:%M:%SZ')\n        qualityMetric = {\n            'metric_type': 'quality',\n            'binding_id': binding_uid,\n            'timestamp': score_time,\n            'subscription_id': model_uid,\n            'asset_revision': model_uid,\n            'deployment_id': deployment_uid,\n            'value': {\n                'quality': measurements[day],\n                'threshold': 0.7,\n                'metrics': [\n                    {\n                        'name': 'auroc',\n                        'value': measurements[day],\n                        'threshold': 0.7\n                    }\n                ]\n            }\n        }\n        \n        quality_metrics.append(qualityMetric)\n    \n    response = requests.post(performance_metrics_url, json=quality_metrics, headers=ai_client._get_headers())\n\nprint('Finished')"
        }, 
        {
            "source": "## Insert historical confusion matrixes", 
            "cell_type": "markdown", 
            "metadata": {}
        }, 
        {
            "execution_count": 89, 
            "cell_type": "code", 
            "metadata": {}, 
            "outputs": [
                {
                    "output_type": "stream", 
                    "name": "stdout", 
                    "text": "rm: cannot remove 'history_quality_metrics.json': No such file or directory\n--2019-06-03 14:32:07--  https://raw.githubusercontent.com/pmservice/ai-openscale-tutorials/master/assets/historical_data/german_credit_risk/wml/history_quality_metrics.json\nResolving raw.githubusercontent.com (raw.githubusercontent.com)... 199.232.8.133\nConnecting to raw.githubusercontent.com (raw.githubusercontent.com)|199.232.8.133|:443... connected.\nHTTP request sent, awaiting response... 200 OK\nLength: 80244 (78K) [text/plain]\nSaving to: 'history_quality_metrics.json'\n\nhistory_quality_met 100%[===================>]  78.36K  --.-KB/s    in 0.004s  \n\n2019-06-03 14:32:08 (19.3 MB/s) - 'history_quality_metrics.json' saved [80244/80244]\n\n"
                }
            ], 
            "source": "!rm history_quality_metrics.json\n!wget https://raw.githubusercontent.com/pmservice/ai-openscale-tutorials/master/assets/historical_data/german_credit_risk/wml/history_quality_metrics.json"
        }, 
        {
            "execution_count": 90, 
            "cell_type": "code", 
            "metadata": {}, 
            "outputs": [
                {
                    "output_type": "stream", 
                    "name": "stdout", 
                    "text": "https://api.aiopenscale.cloud.ibm.com/v1/data_marts/cacaf1bc-1285-46da-ba9a-49464bc683a3/measurements\n"
                }
            ], 
            "source": "measurements_url = WOS_CREDENTIALS['url'] + subscription.get_details()['metadata']['url'].split('/service_bindings')[0] + '/measurements'\nprint(measurements_url)"
        }, 
        {
            "execution_count": 91, 
            "cell_type": "code", 
            "metadata": {}, 
            "outputs": [
                {
                    "output_type": "stream", 
                    "name": "stdout", 
                    "text": "Day 1\nDay 2\nDay 3\nDay 4\nDay 5\nDay 6\nDay 7\nFinished\n"
                }
            ], 
            "source": "with open('history_quality_metrics.json') as json_file:\n    records = json.load(json_file)\n    \nfor day in range(historyDays):\n    index = 0\n    measurments = []\n    print('Day', day + 1)\n    \n    for hour in range(24):\n        score_time = (datetime.datetime.utcnow() + datetime.timedelta(hours=(-(24*day + hour + 1)))).strftime('%Y-%m-%dT%H:%M:%SZ')\n\n        measurement = {\n            \"monitor_definition_id\": 'quality',\n            \"binding_id\": subscription.binding_uid,\n            \"subscription_id\": subscription.uid,\n            \"asset_id\": subscription.source_uid,\n            'metrics': [records[index]['metrics']],\n            'sources': [records[index]['sources']],\n            'timestamp': score_time\n        }\n\n        measurments.append(measurement)\n        index+=1\n\n    response = requests.post(measurements_url, json=measurments, headers=ai_client._get_headers())\n\nprint('Finished')"
        }, 
        {
            "source": "## Insert historical performance metrics", 
            "cell_type": "markdown", 
            "metadata": {}
        }, 
        {
            "execution_count": 92, 
            "cell_type": "code", 
            "metadata": {}, 
            "outputs": [
                {
                    "output_type": "stream", 
                    "name": "stdout", 
                    "text": "Day 1\nDay 2\nDay 3\nDay 4\nDay 5\nDay 6\nDay 7\nFinished\n"
                }
            ], 
            "source": "for day in range(historyDays):\n    performance_metrics = []\n    print('Day', day + 1)\n    for hour in range(24):\n        score_time = (datetime.datetime.utcnow() + datetime.timedelta(hours=(-(24*day + hour + 1)))).strftime('%Y-%m-%dT%H:%M:%SZ')\n        score_count = random.randint(60, 600)\n        score_resp = random.uniform(60, 300)\n\n        performanceMetric = {\n            'metric_type': 'performance',\n            'binding_id': binding_uid,\n            'timestamp': score_time,\n            'subscription_id': model_uid,\n            'asset_revision': model_uid,\n            'deployment_id': deployment_uid,\n            'value': {\n                'response_time': score_resp,\n                'records': score_count\n            }\n        }\n        performance_metrics.append(performanceMetric)\n\n    response = requests.post(performance_metrics_url, json=performance_metrics, headers=ai_client._get_headers())\n\nprint('Finished')"
        }, 
        {
            "source": "## Insert historical manual labeling", 
            "cell_type": "markdown", 
            "metadata": {}
        }, 
        {
            "execution_count": 93, 
            "cell_type": "code", 
            "metadata": {}, 
            "outputs": [
                {
                    "output_type": "stream", 
                    "name": "stdout", 
                    "text": "https://api.aiopenscale.cloud.ibm.com/v1/data_marts/cacaf1bc-1285-46da-ba9a-49464bc683a3/manual_labelings\n"
                }
            ], 
            "source": "manual_labeling_url = WOS_CREDENTIALS['url'] + subscription.get_details()['metadata']['url'].split('/service_bindings')[0] + '/manual_labelings'\nprint(manual_labeling_url)"
        }, 
        {
            "execution_count": 94, 
            "cell_type": "code", 
            "metadata": {}, 
            "outputs": [
                {
                    "output_type": "stream", 
                    "name": "stdout", 
                    "text": "rm: cannot remove 'history_manual_labeling.json': No such file or directory\n--2019-06-03 14:32:10--  https://raw.githubusercontent.com/emartensibm/german-credit/master/model_data/german_credit/history_manual_labeling.json\nResolving raw.githubusercontent.com (raw.githubusercontent.com)... 151.101.48.133\nConnecting to raw.githubusercontent.com (raw.githubusercontent.com)|151.101.48.133|:443... connected.\nHTTP request sent, awaiting response... 200 OK\nLength: 947956 (926K) [text/plain]\nSaving to: 'history_manual_labeling.json'\n\nhistory_manual_labe 100%[===================>] 925.74K  --.-KB/s    in 0.03s   \n\n2019-06-03 14:32:10 (26.8 MB/s) - 'history_manual_labeling.json' saved [947956/947956]\n\n"
                }
            ], 
            "source": "!rm history_manual_labeling.json\n!wget https://raw.githubusercontent.com/emartensibm/german-credit/master/model_data/german_credit/history_manual_labeling.json"
        }, 
        {
            "execution_count": 95, 
            "cell_type": "code", 
            "metadata": {}, 
            "outputs": [
                {
                    "output_type": "stream", 
                    "name": "stdout", 
                    "text": "Loading day 1\nLoading day 2\nLoading day 3\nLoading day 4\nLoading day 5\nLoading day 6\nLoading day 7\nFinished\n"
                }
            ], 
            "source": "with open('history_manual_labeling.json', 'r') as history_file:\n    records = json.load(history_file)\n\nfor day in range(historyDays):\n    print('Loading day', day + 1)\n    record_json = []\n    for hour in range(24):\n        for record in records:\n            if record['fastpath_history_day'] == day and record['fastpath_history_hour'] == hour:\n                record['binding_id'] = binding_uid\n                record['subscription_id'] = model_uid\n                record['asset_revision'] = model_uid\n                record['deployment_id'] = deployment_uid\n                record['scoring_timestamp'] = (datetime.datetime.utcnow() + datetime.timedelta(hours=(-(24*day + hour + 1)))).strftime('%Y-%m-%dT%H:%M:%SZ')\n                record_json.append(record)\n    response = requests.post(manual_labeling_url, json=record_json, headers=ai_client._get_headers())\n\nprint('Finished')"
        }, 
        {
            "source": "## Additional data to help debugging", 
            "cell_type": "markdown", 
            "metadata": {}
        }, 
        {
            "execution_count": 96, 
            "cell_type": "code", 
            "metadata": {
                "scrolled": true
            }, 
            "outputs": [
                {
                    "output_type": "stream", 
                    "name": "stdout", 
                    "text": "Datamart: cacaf1bc-1285-46da-ba9a-49464bc683a3\nModel: eb9ab6dc-7bdc-47c5-b881-f20b9ee81375\nDeployment: 13dc527a-35f0-4881-afc0-f474d1f843b5\nBinding: a73bf76d-a663-448a-b771-4f651f73d54e\nScoring URL: https://us-south.ml.cloud.ibm.com/v3/wml_instances/a73bf76d-a663-448a-b771-4f651f73d54e/deployments/13dc527a-35f0-4881-afc0-f474d1f843b5/online\n"
                }
            ], 
            "source": "print('Datamart:', data_mart_id)\nprint('Model:', model_uid)\nprint('Deployment:', deployment_uid)\nprint('Binding:', binding_uid)\nprint('Scoring URL:', credit_risk_scoring_endpoint)"
        }, 
        {
            "source": "## Identify transactions for Explainability", 
            "cell_type": "markdown", 
            "metadata": {}
        }, 
        {
            "source": "Transaction IDs identified by the cells below can be copied and pasted into the Explainability tab of the OpenScale dashboard.", 
            "cell_type": "markdown", 
            "metadata": {}
        }, 
        {
            "execution_count": 97, 
            "cell_type": "code", 
            "metadata": {}, 
            "outputs": [
                {
                    "execution_count": 97, 
                    "metadata": {}, 
                    "data": {
                        "text/html": "<div>\n<style scoped>\n    .dataframe tbody tr th:only-of-type {\n        vertical-align: middle;\n    }\n\n    .dataframe tbody tr th {\n        vertical-align: top;\n    }\n\n    .dataframe thead th {\n        text-align: right;\n    }\n</style>\n<table border=\"1\" class=\"dataframe\">\n  <thead>\n    <tr style=\"text-align: right;\">\n      <th></th>\n      <th>scoring_id</th>\n      <th>predictedLabel</th>\n      <th>probability</th>\n    </tr>\n  </thead>\n  <tbody>\n    <tr>\n      <th>0</th>\n      <td>b3bc058e28d25f1ef750bda33e886d6e-150</td>\n      <td>No Risk</td>\n      <td>[0.8395902871775395, 0.1604097128224605]</td>\n    </tr>\n    <tr>\n      <th>1</th>\n      <td>b3bc058e28d25f1ef750bda33e886d6e-143</td>\n      <td>Risk</td>\n      <td>[0.47848495253043, 0.52151504746957]</td>\n    </tr>\n    <tr>\n      <th>2</th>\n      <td>b3bc058e28d25f1ef750bda33e886d6e-146</td>\n      <td>No Risk</td>\n      <td>[0.9376785386162704, 0.06232146138372968]</td>\n    </tr>\n    <tr>\n      <th>3</th>\n      <td>b3bc058e28d25f1ef750bda33e886d6e-15</td>\n      <td>No Risk</td>\n      <td>[0.9490850337299452, 0.05091496627005476]</td>\n    </tr>\n    <tr>\n      <th>4</th>\n      <td>b3bc058e28d25f1ef750bda33e886d6e-132</td>\n      <td>No Risk</td>\n      <td>[0.5116196587404638, 0.4883803412595363]</td>\n    </tr>\n    <tr>\n      <th>5</th>\n      <td>b3bc058e28d25f1ef750bda33e886d6e-142</td>\n      <td>No Risk</td>\n      <td>[0.5782888713231674, 0.42171112867683264]</td>\n    </tr>\n    <tr>\n      <th>6</th>\n      <td>b3bc058e28d25f1ef750bda33e886d6e-108</td>\n      <td>No Risk</td>\n      <td>[0.8992566117633526, 0.10074338823664739]</td>\n    </tr>\n    <tr>\n      <th>7</th>\n      <td>b3bc058e28d25f1ef750bda33e886d6e-145</td>\n      <td>No Risk</td>\n      <td>[0.9599615171162788, 0.04003848288372135]</td>\n    </tr>\n    <tr>\n      <th>8</th>\n      <td>b3bc058e28d25f1ef750bda33e886d6e-149</td>\n      <td>No Risk</td>\n      <td>[0.8471575946193944, 0.1528424053806056]</td>\n    </tr>\n    <tr>\n      <th>9</th>\n      <td>b3bc058e28d25f1ef750bda33e886d6e-117</td>\n      <td>No Risk</td>\n      <td>[0.9223609377765861, 0.07763906222341392]</td>\n    </tr>\n    <tr>\n      <th>10</th>\n      <td>b3bc058e28d25f1ef750bda33e886d6e-125</td>\n      <td>No Risk</td>\n      <td>[0.926153558700384, 0.07384644129961601]</td>\n    </tr>\n    <tr>\n      <th>11</th>\n      <td>b3bc058e28d25f1ef750bda33e886d6e-131</td>\n      <td>No Risk</td>\n      <td>[0.5628720836921554, 0.43712791630784464]</td>\n    </tr>\n    <tr>\n      <th>12</th>\n      <td>b3bc058e28d25f1ef750bda33e886d6e-139</td>\n      <td>No Risk</td>\n      <td>[0.9594002820617854, 0.04059971793821462]</td>\n    </tr>\n    <tr>\n      <th>13</th>\n      <td>b3bc058e28d25f1ef750bda33e886d6e-141</td>\n      <td>No Risk</td>\n      <td>[0.6249362490906853, 0.37506375090931476]</td>\n    </tr>\n    <tr>\n      <th>14</th>\n      <td>b3bc058e28d25f1ef750bda33e886d6e-103</td>\n      <td>No Risk</td>\n      <td>[0.9807676117668894, 0.019232388233110558]</td>\n    </tr>\n    <tr>\n      <th>15</th>\n      <td>b3bc058e28d25f1ef750bda33e886d6e-102</td>\n      <td>No Risk</td>\n      <td>[0.8955680734220381, 0.10443192657796177]</td>\n    </tr>\n    <tr>\n      <th>16</th>\n      <td>b3bc058e28d25f1ef750bda33e886d6e-107</td>\n      <td>No Risk</td>\n      <td>[0.7650240914818072, 0.23497590851819278]</td>\n    </tr>\n    <tr>\n      <th>17</th>\n      <td>b3bc058e28d25f1ef750bda33e886d6e-144</td>\n      <td>No Risk</td>\n      <td>[0.9770044243726845, 0.022995575627315402]</td>\n    </tr>\n    <tr>\n      <th>18</th>\n      <td>b3bc058e28d25f1ef750bda33e886d6e-147</td>\n      <td>Risk</td>\n      <td>[0.4904002945682368, 0.5095997054317631]</td>\n    </tr>\n    <tr>\n      <th>19</th>\n      <td>b3bc058e28d25f1ef750bda33e886d6e-148</td>\n      <td>No Risk</td>\n      <td>[0.5231415363540954, 0.4768584636459045]</td>\n    </tr>\n    <tr>\n      <th>20</th>\n      <td>b3bc058e28d25f1ef750bda33e886d6e-113</td>\n      <td>No Risk</td>\n      <td>[0.9625386378486809, 0.03746136215131914]</td>\n    </tr>\n    <tr>\n      <th>21</th>\n      <td>b3bc058e28d25f1ef750bda33e886d6e-116</td>\n      <td>No Risk</td>\n      <td>[0.9770044243726845, 0.022995575627315402]</td>\n    </tr>\n    <tr>\n      <th>22</th>\n      <td>b3bc058e28d25f1ef750bda33e886d6e-121</td>\n      <td>No Risk</td>\n      <td>[0.7072103525721513, 0.29278964742784874]</td>\n    </tr>\n    <tr>\n      <th>23</th>\n      <td>b3bc058e28d25f1ef750bda33e886d6e-124</td>\n      <td>No Risk</td>\n      <td>[0.9325954924933539, 0.06740450750664617]</td>\n    </tr>\n    <tr>\n      <th>24</th>\n      <td>b3bc058e28d25f1ef750bda33e886d6e-128</td>\n      <td>No Risk</td>\n      <td>[0.5961033747809046, 0.40389662521909553]</td>\n    </tr>\n    <tr>\n      <th>25</th>\n      <td>b3bc058e28d25f1ef750bda33e886d6e-130</td>\n      <td>No Risk</td>\n      <td>[0.9530853470439254, 0.046914652956074485]</td>\n    </tr>\n    <tr>\n      <th>26</th>\n      <td>b3bc058e28d25f1ef750bda33e886d6e-135</td>\n      <td>No Risk</td>\n      <td>[0.6145018054950411, 0.38549819450495904]</td>\n    </tr>\n    <tr>\n      <th>27</th>\n      <td>b3bc058e28d25f1ef750bda33e886d6e-138</td>\n      <td>No Risk</td>\n      <td>[0.7137831765988798, 0.28621682340112026]</td>\n    </tr>\n    <tr>\n      <th>28</th>\n      <td>b3bc058e28d25f1ef750bda33e886d6e-14</td>\n      <td>No Risk</td>\n      <td>[0.9562189077230959, 0.04378109227690398]</td>\n    </tr>\n    <tr>\n      <th>29</th>\n      <td>b3bc058e28d25f1ef750bda33e886d6e-140</td>\n      <td>Risk</td>\n      <td>[0.388854211767763, 0.6111457882322371]</td>\n    </tr>\n    <tr>\n      <th>30</th>\n      <td>b3bc058e28d25f1ef750bda33e886d6e-10</td>\n      <td>No Risk</td>\n      <td>[0.6113938138063052, 0.38860618619369475]</td>\n    </tr>\n    <tr>\n      <th>31</th>\n      <td>b3bc058e28d25f1ef750bda33e886d6e-1</td>\n      <td>No Risk</td>\n      <td>[0.684245434972064, 0.315754565027936]</td>\n    </tr>\n    <tr>\n      <th>32</th>\n      <td>b3bc058e28d25f1ef750bda33e886d6e-100</td>\n      <td>Risk</td>\n      <td>[0.29159856664917355, 0.7084014333508264]</td>\n    </tr>\n    <tr>\n      <th>33</th>\n      <td>b3bc058e28d25f1ef750bda33e886d6e-101</td>\n      <td>No Risk</td>\n      <td>[0.5185753290343398, 0.48142467096566016]</td>\n    </tr>\n    <tr>\n      <th>34</th>\n      <td>b3bc058e28d25f1ef750bda33e886d6e-105</td>\n      <td>No Risk</td>\n      <td>[0.6598680824773798, 0.3401319175226202]</td>\n    </tr>\n    <tr>\n      <th>35</th>\n      <td>b3bc058e28d25f1ef750bda33e886d6e-104</td>\n      <td>No Risk</td>\n      <td>[0.7681199890810196, 0.2318800109189804]</td>\n    </tr>\n    <tr>\n      <th>36</th>\n      <td>b3bc058e28d25f1ef750bda33e886d6e-106</td>\n      <td>No Risk</td>\n      <td>[0.5263376102181623, 0.47366238978183767]</td>\n    </tr>\n    <tr>\n      <th>37</th>\n      <td>b3bc058e28d25f1ef750bda33e886d6e-119</td>\n      <td>No Risk</td>\n      <td>[0.8299414369555231, 0.17005856304447695]</td>\n    </tr>\n    <tr>\n      <th>38</th>\n      <td>b3bc058e28d25f1ef750bda33e886d6e-110</td>\n      <td>No Risk</td>\n      <td>[0.9636861788322875, 0.03631382116771258]</td>\n    </tr>\n    <tr>\n      <th>39</th>\n      <td>b3bc058e28d25f1ef750bda33e886d6e-118</td>\n      <td>No Risk</td>\n      <td>[0.5854891111138862, 0.4145108888861137]</td>\n    </tr>\n    <tr>\n      <th>40</th>\n      <td>b3bc058e28d25f1ef750bda33e886d6e-11</td>\n      <td>No Risk</td>\n      <td>[0.9394633267736319, 0.060536673226368035]</td>\n    </tr>\n    <tr>\n      <th>41</th>\n      <td>b3bc058e28d25f1ef750bda33e886d6e-109</td>\n      <td>No Risk</td>\n      <td>[0.5055103970004688, 0.49448960299953126]</td>\n    </tr>\n    <tr>\n      <th>42</th>\n      <td>b3bc058e28d25f1ef750bda33e886d6e-111</td>\n      <td>No Risk</td>\n      <td>[0.5463383208036434, 0.45366167919635664]</td>\n    </tr>\n    <tr>\n      <th>43</th>\n      <td>b3bc058e28d25f1ef750bda33e886d6e-112</td>\n      <td>No Risk</td>\n      <td>[0.500213373083995, 0.4997866269160049]</td>\n    </tr>\n    <tr>\n      <th>44</th>\n      <td>b3bc058e28d25f1ef750bda33e886d6e-114</td>\n      <td>No Risk</td>\n      <td>[0.6574088891935139, 0.3425911108064861]</td>\n    </tr>\n    <tr>\n      <th>45</th>\n      <td>b3bc058e28d25f1ef750bda33e886d6e-115</td>\n      <td>No Risk</td>\n      <td>[0.6923024838320057, 0.30769751616799434]</td>\n    </tr>\n    <tr>\n      <th>46</th>\n      <td>b3bc058e28d25f1ef750bda33e886d6e-12</td>\n      <td>No Risk</td>\n      <td>[0.9475680777371164, 0.05243192226288364]</td>\n    </tr>\n    <tr>\n      <th>47</th>\n      <td>b3bc058e28d25f1ef750bda33e886d6e-120</td>\n      <td>No Risk</td>\n      <td>[0.9621457475481007, 0.03785425245189932]</td>\n    </tr>\n    <tr>\n      <th>48</th>\n      <td>b3bc058e28d25f1ef750bda33e886d6e-122</td>\n      <td>No Risk</td>\n      <td>[0.8545577067738082, 0.14544229322619184]</td>\n    </tr>\n    <tr>\n      <th>49</th>\n      <td>b3bc058e28d25f1ef750bda33e886d6e-123</td>\n      <td>No Risk</td>\n      <td>[0.8240137839623326, 0.17598621603766731]</td>\n    </tr>\n    <tr>\n      <th>50</th>\n      <td>b3bc058e28d25f1ef750bda33e886d6e-126</td>\n      <td>No Risk</td>\n      <td>[0.7684923523118925, 0.23150764768810755]</td>\n    </tr>\n    <tr>\n      <th>51</th>\n      <td>b3bc058e28d25f1ef750bda33e886d6e-127</td>\n      <td>No Risk</td>\n      <td>[0.9696986015109417, 0.030301398489058374]</td>\n    </tr>\n    <tr>\n      <th>52</th>\n      <td>b3bc058e28d25f1ef750bda33e886d6e-129</td>\n      <td>Risk</td>\n      <td>[0.10539383981749087, 0.8946061601825092]</td>\n    </tr>\n    <tr>\n      <th>53</th>\n      <td>b3bc058e28d25f1ef750bda33e886d6e-13</td>\n      <td>Risk</td>\n      <td>[0.3785861873094811, 0.6214138126905189]</td>\n    </tr>\n    <tr>\n      <th>54</th>\n      <td>b3bc058e28d25f1ef750bda33e886d6e-133</td>\n      <td>No Risk</td>\n      <td>[0.7390460843548987, 0.2609539156451013]</td>\n    </tr>\n    <tr>\n      <th>55</th>\n      <td>b3bc058e28d25f1ef750bda33e886d6e-134</td>\n      <td>Risk</td>\n      <td>[0.16003690072575863, 0.8399630992742413]</td>\n    </tr>\n    <tr>\n      <th>56</th>\n      <td>b3bc058e28d25f1ef750bda33e886d6e-136</td>\n      <td>Risk</td>\n      <td>[0.35572602755086546, 0.6442739724491344]</td>\n    </tr>\n    <tr>\n      <th>57</th>\n      <td>b3bc058e28d25f1ef750bda33e886d6e-137</td>\n      <td>No Risk</td>\n      <td>[0.5376690709298199, 0.4623309290701802]</td>\n    </tr>\n    <tr>\n      <th>58</th>\n      <td>b3bc058e28d25f1ef750bda33e886d6e-152</td>\n      <td>No Risk</td>\n      <td>[0.7075593740317607, 0.29244062596823917]</td>\n    </tr>\n    <tr>\n      <th>59</th>\n      <td>b3bc058e28d25f1ef750bda33e886d6e-151</td>\n      <td>Risk</td>\n      <td>[0.4244912564157371, 0.575508743584263]</td>\n    </tr>\n  </tbody>\n</table>\n</div>", 
                        "text/plain": "                              scoring_id predictedLabel  \\\n0   b3bc058e28d25f1ef750bda33e886d6e-150        No Risk   \n1   b3bc058e28d25f1ef750bda33e886d6e-143           Risk   \n2   b3bc058e28d25f1ef750bda33e886d6e-146        No Risk   \n3    b3bc058e28d25f1ef750bda33e886d6e-15        No Risk   \n4   b3bc058e28d25f1ef750bda33e886d6e-132        No Risk   \n5   b3bc058e28d25f1ef750bda33e886d6e-142        No Risk   \n6   b3bc058e28d25f1ef750bda33e886d6e-108        No Risk   \n7   b3bc058e28d25f1ef750bda33e886d6e-145        No Risk   \n8   b3bc058e28d25f1ef750bda33e886d6e-149        No Risk   \n9   b3bc058e28d25f1ef750bda33e886d6e-117        No Risk   \n10  b3bc058e28d25f1ef750bda33e886d6e-125        No Risk   \n11  b3bc058e28d25f1ef750bda33e886d6e-131        No Risk   \n12  b3bc058e28d25f1ef750bda33e886d6e-139        No Risk   \n13  b3bc058e28d25f1ef750bda33e886d6e-141        No Risk   \n14  b3bc058e28d25f1ef750bda33e886d6e-103        No Risk   \n15  b3bc058e28d25f1ef750bda33e886d6e-102        No Risk   \n16  b3bc058e28d25f1ef750bda33e886d6e-107        No Risk   \n17  b3bc058e28d25f1ef750bda33e886d6e-144        No Risk   \n18  b3bc058e28d25f1ef750bda33e886d6e-147           Risk   \n19  b3bc058e28d25f1ef750bda33e886d6e-148        No Risk   \n20  b3bc058e28d25f1ef750bda33e886d6e-113        No Risk   \n21  b3bc058e28d25f1ef750bda33e886d6e-116        No Risk   \n22  b3bc058e28d25f1ef750bda33e886d6e-121        No Risk   \n23  b3bc058e28d25f1ef750bda33e886d6e-124        No Risk   \n24  b3bc058e28d25f1ef750bda33e886d6e-128        No Risk   \n25  b3bc058e28d25f1ef750bda33e886d6e-130        No Risk   \n26  b3bc058e28d25f1ef750bda33e886d6e-135        No Risk   \n27  b3bc058e28d25f1ef750bda33e886d6e-138        No Risk   \n28   b3bc058e28d25f1ef750bda33e886d6e-14        No Risk   \n29  b3bc058e28d25f1ef750bda33e886d6e-140           Risk   \n30   b3bc058e28d25f1ef750bda33e886d6e-10        No Risk   \n31    b3bc058e28d25f1ef750bda33e886d6e-1        No Risk   \n32  b3bc058e28d25f1ef750bda33e886d6e-100           Risk   \n33  b3bc058e28d25f1ef750bda33e886d6e-101        No Risk   \n34  b3bc058e28d25f1ef750bda33e886d6e-105        No Risk   \n35  b3bc058e28d25f1ef750bda33e886d6e-104        No Risk   \n36  b3bc058e28d25f1ef750bda33e886d6e-106        No Risk   \n37  b3bc058e28d25f1ef750bda33e886d6e-119        No Risk   \n38  b3bc058e28d25f1ef750bda33e886d6e-110        No Risk   \n39  b3bc058e28d25f1ef750bda33e886d6e-118        No Risk   \n40   b3bc058e28d25f1ef750bda33e886d6e-11        No Risk   \n41  b3bc058e28d25f1ef750bda33e886d6e-109        No Risk   \n42  b3bc058e28d25f1ef750bda33e886d6e-111        No Risk   \n43  b3bc058e28d25f1ef750bda33e886d6e-112        No Risk   \n44  b3bc058e28d25f1ef750bda33e886d6e-114        No Risk   \n45  b3bc058e28d25f1ef750bda33e886d6e-115        No Risk   \n46   b3bc058e28d25f1ef750bda33e886d6e-12        No Risk   \n47  b3bc058e28d25f1ef750bda33e886d6e-120        No Risk   \n48  b3bc058e28d25f1ef750bda33e886d6e-122        No Risk   \n49  b3bc058e28d25f1ef750bda33e886d6e-123        No Risk   \n50  b3bc058e28d25f1ef750bda33e886d6e-126        No Risk   \n51  b3bc058e28d25f1ef750bda33e886d6e-127        No Risk   \n52  b3bc058e28d25f1ef750bda33e886d6e-129           Risk   \n53   b3bc058e28d25f1ef750bda33e886d6e-13           Risk   \n54  b3bc058e28d25f1ef750bda33e886d6e-133        No Risk   \n55  b3bc058e28d25f1ef750bda33e886d6e-134           Risk   \n56  b3bc058e28d25f1ef750bda33e886d6e-136           Risk   \n57  b3bc058e28d25f1ef750bda33e886d6e-137        No Risk   \n58  b3bc058e28d25f1ef750bda33e886d6e-152        No Risk   \n59  b3bc058e28d25f1ef750bda33e886d6e-151           Risk   \n\n                                   probability  \n0     [0.8395902871775395, 0.1604097128224605]  \n1         [0.47848495253043, 0.52151504746957]  \n2    [0.9376785386162704, 0.06232146138372968]  \n3    [0.9490850337299452, 0.05091496627005476]  \n4     [0.5116196587404638, 0.4883803412595363]  \n5    [0.5782888713231674, 0.42171112867683264]  \n6    [0.8992566117633526, 0.10074338823664739]  \n7    [0.9599615171162788, 0.04003848288372135]  \n8     [0.8471575946193944, 0.1528424053806056]  \n9    [0.9223609377765861, 0.07763906222341392]  \n10    [0.926153558700384, 0.07384644129961601]  \n11   [0.5628720836921554, 0.43712791630784464]  \n12   [0.9594002820617854, 0.04059971793821462]  \n13   [0.6249362490906853, 0.37506375090931476]  \n14  [0.9807676117668894, 0.019232388233110558]  \n15   [0.8955680734220381, 0.10443192657796177]  \n16   [0.7650240914818072, 0.23497590851819278]  \n17  [0.9770044243726845, 0.022995575627315402]  \n18    [0.4904002945682368, 0.5095997054317631]  \n19    [0.5231415363540954, 0.4768584636459045]  \n20   [0.9625386378486809, 0.03746136215131914]  \n21  [0.9770044243726845, 0.022995575627315402]  \n22   [0.7072103525721513, 0.29278964742784874]  \n23   [0.9325954924933539, 0.06740450750664617]  \n24   [0.5961033747809046, 0.40389662521909553]  \n25  [0.9530853470439254, 0.046914652956074485]  \n26   [0.6145018054950411, 0.38549819450495904]  \n27   [0.7137831765988798, 0.28621682340112026]  \n28   [0.9562189077230959, 0.04378109227690398]  \n29     [0.388854211767763, 0.6111457882322371]  \n30   [0.6113938138063052, 0.38860618619369475]  \n31      [0.684245434972064, 0.315754565027936]  \n32   [0.29159856664917355, 0.7084014333508264]  \n33   [0.5185753290343398, 0.48142467096566016]  \n34    [0.6598680824773798, 0.3401319175226202]  \n35    [0.7681199890810196, 0.2318800109189804]  \n36   [0.5263376102181623, 0.47366238978183767]  \n37   [0.8299414369555231, 0.17005856304447695]  \n38   [0.9636861788322875, 0.03631382116771258]  \n39    [0.5854891111138862, 0.4145108888861137]  \n40  [0.9394633267736319, 0.060536673226368035]  \n41   [0.5055103970004688, 0.49448960299953126]  \n42   [0.5463383208036434, 0.45366167919635664]  \n43     [0.500213373083995, 0.4997866269160049]  \n44    [0.6574088891935139, 0.3425911108064861]  \n45   [0.6923024838320057, 0.30769751616799434]  \n46   [0.9475680777371164, 0.05243192226288364]  \n47   [0.9621457475481007, 0.03785425245189932]  \n48   [0.8545577067738082, 0.14544229322619184]  \n49   [0.8240137839623326, 0.17598621603766731]  \n50   [0.7684923523118925, 0.23150764768810755]  \n51  [0.9696986015109417, 0.030301398489058374]  \n52   [0.10539383981749087, 0.8946061601825092]  \n53    [0.3785861873094811, 0.6214138126905189]  \n54    [0.7390460843548987, 0.2609539156451013]  \n55   [0.16003690072575863, 0.8399630992742413]  \n56   [0.35572602755086546, 0.6442739724491344]  \n57    [0.5376690709298199, 0.4623309290701802]  \n58   [0.7075593740317607, 0.29244062596823917]  \n59     [0.4244912564157371, 0.575508743584263]  "
                    }, 
                    "output_type": "execute_result"
                }
            ], 
            "source": "payload_data = subscription.payload_logging.get_table_content(limit=60)\npayload_data.filter(items=['scoring_id', 'predictedLabel', 'probability'])"
        }, 
        {
            "source": "## Congratulations!\n\nYou have finished the hands-on lab for IBM Watson OpenScale. You can now view the [OpenScale Dashboard](https://aiopenscale.cloud.ibm.com/). Click on the tile for the German Credit model to see fairness, accuracy, and performance monitors. Click on the timeseries graph to get detailed information on transactions during a specific time window.\n\n## Next steps\n\nOpenScale shows model performance over time. You have two options to keep data flowing to your OpenScale graphs:\n  * Download, configure and schedule the [model feed notebook](https://raw.githubusercontent.com/emartensibm/german-credit/master/german_credit_scoring_feed.ipynb). This notebook can be set up with your WML credentials, and scheduled to provide a consistent flow of scoring requests to your model, which will appear in your OpenScale monitors.\n  * Re-run this notebook. Running this notebook from the beginning will delete and re-create the model and deployment, and re-create the historical data. Please note that the payload and measurement logs for the previous deployment will continue to be stored in your datamart, and can be deleted if necessary.", 
            "cell_type": "markdown", 
            "metadata": {}
        }, 
        {
            "source": "## Authors\n\nEric Martens, is a technical specialist having expertise in analysis and description of business processes, and their translation into functional and non-functional IT requirements. He acts as the interpreter between the worlds of IT and business.\n\nLukasz Cmielowski, PhD, is an Automation Architect and Data Scientist at IBM with a track record of developing enterprise-level applications that substantially increases clients' ability to turn data into actionable knowledge.", 
            "cell_type": "markdown", 
            "metadata": {}
        }
    ], 
    "metadata": {
        "kernelspec": {
            "display_name": "Python 3.6 with Spark", 
            "name": "python36", 
            "language": "python3"
        }, 
        "language_info": {
            "mimetype": "text/x-python", 
            "nbconvert_exporter": "python", 
            "version": "3.6.8", 
            "name": "python", 
            "file_extension": ".py", 
            "pygments_lexer": "ipython3", 
            "codemirror_mode": {
                "version": 3, 
                "name": "ipython"
            }
        }
    }, 
    "nbformat": 4
}