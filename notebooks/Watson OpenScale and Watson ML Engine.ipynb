{
    "cells": [
        {
            "cell_type": "markdown",
            "metadata": {},
            "source": "<img src=\"https://github.com/pmservice/ai-openscale-tutorials/raw/master/notebooks/images/banner.png\" align=\"left\" alt=\"banner\">"
        },
        {
            "cell_type": "markdown",
            "metadata": {},
            "source": "# Working with Watson Machine Learning"
        },
        {
            "cell_type": "markdown",
            "metadata": {},
            "source": "This notebook should be run in a Watson Studio project, using **Default Spark Python** runtime environment. **If you are viewing this in Watson Studio and do not see Python 3.6 with Spark in the upper right corner of your screen, please update the runtime now.** It requires service credentials for the following Cloud services:\n  * Watson OpenScale\n  * Watson Machine Learning\n  \nIf you have a paid Cloud account, you may also provision a **Databases for PostgreSQL** or **Db2 Warehouse** service to take full advantage of integration with Watson Studio and continuous learning services. If you choose not to provision this paid service, you can use the free internal PostgreSQL storage with OpenScale, but will not be able to configure continuous learning for your model.\n\nThe notebook will train, create and deploy a German Credit Risk model, configure OpenScale to monitor that deployment, and inject seven days' worth of historical records and measurements for viewing in the OpenScale Insights dashboard."
        },
        {
            "cell_type": "markdown",
            "metadata": {},
            "source": "### Contents\n\n- [Setup](#setup)\n- [Model building and deployment](#model)\n- [OpenScale configuration](#openscale)\n- [Quality monitor and feedback logging](#quality)\n- [Fairness, drift monitoring and explanations](#fairness)\n- [Custom monitors and metrics](#custom)\n- [Payload analytics](#analytics)\n- [Business application](#application)\n- [Historical data](#historical)"
        },
        {
            "cell_type": "markdown",
            "metadata": {},
            "source": "# Setup <a name=\"setup\"></a>"
        },
        {
            "cell_type": "markdown",
            "metadata": {},
            "source": "## Spark check"
        },
        {
            "cell_type": "code",
            "execution_count": 1,
            "metadata": {},
            "outputs": [
                {
                    "name": "stdout",
                    "output_type": "stream",
                    "text": "Waiting for a Spark session to start...\nSpark Initialization Done! ApplicationId = app-20191121125019-0000\nKERNEL_ID = 60fb9094-1025-4969-bc1a-271188edf195\n"
                }
            ],
            "source": "try:\n    from pyspark.sql import SparkSession\nexcept:\n    print('Error: Spark runtime is missing. If you are using Watson Studio change the notebook runtime to Spark.')\n    raise "
        },
        {
            "cell_type": "markdown",
            "metadata": {
                "collapsed": true
            },
            "source": "## Package installation"
        },
        {
            "cell_type": "code",
            "execution_count": 2,
            "metadata": {},
            "outputs": [],
            "source": "import warnings\nwarnings.filterwarnings('ignore')"
        },
        {
            "cell_type": "code",
            "execution_count": 3,
            "metadata": {},
            "outputs": [
                {
                    "name": "stdout",
                    "output_type": "stream",
                    "text": "\u001b[31mtensorflow 1.13.1 requires tensorboard<1.14.0,>=1.13.0, which is not installed.\u001b[0m\n\u001b[31mibm-cos-sdk-core 2.4.3 has requirement urllib3<1.25,>=1.20, but you'll have urllib3 1.25.7 which is incompatible.\u001b[0m\n\u001b[31mbotocore 1.12.82 has requirement urllib3<1.25,>=1.20, but you'll have urllib3 1.25.7 which is incompatible.\u001b[0m\nSuccessfully installed certifi-2019.9.11 chardet-3.0.4 h5py-2.10.0 ibm-ai-openscale-2.1.19 idna-2.8 numpy-1.17.4 pandas-0.25.3 python-dateutil-2.8.1 pytz-2019.3 requests-2.22.0 six-1.13.0 tabulate-0.8.6 urllib3-1.25.7\n^C\nERROR: Pipe to stdout was broken\nException ignored in: <_io.TextIOWrapper name='<stdout>' mode='w' encoding='ANSI_X3.4-1968'>\nBrokenPipeError: [Errno 32] Broken pipe\n\u001b[31mtensorflow 1.13.1 requires tensorboard<1.14.0,>=1.13.0, which is not installed.\u001b[0m\nSuccessfully installed numpy-1.17.4\n\u001b[31mtensorflow 1.13.1 requires tensorboard<1.14.0,>=1.13.0, which is not installed.\u001b[0m\nSuccessfully installed SciPy-1.3.2 numpy-1.17.4\n\u001b[31mtensorflow 1.13.1 requires tensorboard<1.14.0,>=1.13.0, which is not installed.\u001b[0m\n\u001b[31mibm-cos-sdk-core 2.4.3 has requirement urllib3<1.25,>=1.20, but you'll have urllib3 1.25.7 which is incompatible.\u001b[0m\n\u001b[31mbotocore 1.12.82 has requirement urllib3<1.25,>=1.20, but you'll have urllib3 1.25.7 which is incompatible.\u001b[0m\n\u001b[33mTarget directory /home/spark/shared/user-libs/python3.6/numpy-1.17.4.dist-info already exists. Specify --upgrade to force replacement.\u001b[0m\n\u001b[33mTarget directory /home/spark/shared/user-libs/python3.6/dateutil already exists. Specify --upgrade to force replacement.\u001b[0m\n\u001b[33mTarget directory /home/spark/shared/user-libs/python3.6/python_dateutil-2.8.1.dist-info already exists. Specify --upgrade to force replacement.\u001b[0m\n\u001b[33mTarget directory /home/spark/shared/user-libs/python3.6/scipy already exists. Specify --upgrade to force replacement.\u001b[0m\n\u001b[33mTarget directory /home/spark/shared/user-libs/python3.6/six.py already exists. Specify --upgrade to force replacement.\u001b[0m\n\u001b[33mTarget directory /home/spark/shared/user-libs/python3.6/numpy already exists. Specify --upgrade to force replacement.\u001b[0m\n\u001b[33mTarget directory /home/spark/shared/user-libs/python3.6/six-1.13.0.dist-info already exists. Specify --upgrade to force replacement.\u001b[0m\n\u001b[33mTarget directory /home/spark/shared/user-libs/python3.6/scipy-1.3.2.dist-info already exists. Specify --upgrade to force replacement.\u001b[0m\n\u001b[33mTarget directory /home/spark/shared/user-libs/python3.6/__pycache__ already exists. Specify --upgrade to force replacement.\u001b[0m\n\u001b[33mTarget directory /home/spark/shared/user-libs/python3.6/bin already exists. Specify --upgrade to force replacement.\u001b[0m\nSuccessfully installed PyWavelets-1.1.1 cycler-0.10.0 decorator-4.4.1 imageio-2.6.1 joblib-0.14.0 kiwisolver-1.1.0 lime-0.1.1.36 matplotlib-3.1.1 networkx-2.4 numpy-1.17.4 pillow-6.2.1 pyparsing-2.4.5 python-dateutil-2.8.1 scikit-image-0.16.2 scikit-learn-0.21.3 scipy-1.3.2 setuptools-41.6.0 six-1.13.0\n\u001b[31mtensorflow 1.13.1 requires tensorboard<1.14.0,>=1.13.0, which is not installed.\u001b[0m\n\u001b[31mibm-cos-sdk-core 2.4.3 has requirement urllib3<1.25,>=1.20, but you'll have urllib3 1.25.7 which is incompatible.\u001b[0m\n\u001b[31mbotocore 1.12.82 has requirement urllib3<1.25,>=1.20, but you'll have urllib3 1.25.7 which is incompatible.\u001b[0m\n\u001b[33mTarget directory /home/spark/shared/user-libs/python3.6/chardet-3.0.4.dist-info already exists. Specify --upgrade to force replacement.\u001b[0m\n\u001b[33mTarget directory /home/spark/shared/user-libs/python3.6/setuptools already exists. Specify --upgrade to force replacement.\u001b[0m\n\u001b[33mTarget directory /home/spark/shared/user-libs/python3.6/idna-2.8.dist-info already exists. Specify --upgrade to force replacement.\u001b[0m\n\u001b[33mTarget directory /home/spark/shared/user-libs/python3.6/requests already exists. Specify --upgrade to force replacement.\u001b[0m\n\u001b[33mTarget directory /home/spark/shared/user-libs/python3.6/chardet already exists. Specify --upgrade to force replacement.\u001b[0m\n\u001b[33mTarget directory /home/spark/shared/user-libs/python3.6/easy_install.py already exists. Specify --upgrade to force replacement.\u001b[0m\n\u001b[33mTarget directory /home/spark/shared/user-libs/python3.6/requests-2.22.0.dist-info already exists. Specify --upgrade to force replacement.\u001b[0m\n\u001b[33mTarget directory /home/spark/shared/user-libs/python3.6/urllib3-1.25.7.dist-info already exists. Specify --upgrade to force replacement.\u001b[0m\n\u001b[33mTarget directory /home/spark/shared/user-libs/python3.6/certifi-2019.9.11.dist-info already exists. Specify --upgrade to force replacement.\u001b[0m\n\u001b[33mTarget directory /home/spark/shared/user-libs/python3.6/six.py already exists. Specify --upgrade to force replacement.\u001b[0m\n\u001b[33mTarget directory /home/spark/shared/user-libs/python3.6/six-1.13.0.dist-info already exists. Specify --upgrade to force replacement.\u001b[0m\n\u001b[33mTarget directory /home/spark/shared/user-libs/python3.6/certifi already exists. Specify --upgrade to force replacement.\u001b[0m\n\u001b[33mTarget directory /home/spark/shared/user-libs/python3.6/idna already exists. Specify --upgrade to force replacement.\u001b[0m\n\u001b[33mTarget directory /home/spark/shared/user-libs/python3.6/__pycache__ already exists. Specify --upgrade to force replacement.\u001b[0m\n\u001b[33mTarget directory /home/spark/shared/user-libs/python3.6/pkg_resources already exists. Specify --upgrade to force replacement.\u001b[0m\n\u001b[33mTarget directory /home/spark/shared/user-libs/python3.6/setuptools-41.6.0.dist-info already exists. Specify --upgrade to force replacement.\u001b[0m\n\u001b[33mTarget directory /home/spark/shared/user-libs/python3.6/urllib3 already exists. Specify --upgrade to force replacement.\u001b[0m\n\u001b[33mTarget directory /home/spark/shared/user-libs/python3.6/bin already exists. Specify --upgrade to force replacement.\u001b[0m\nSuccessfully installed astunparse-1.6.2 certifi-2019.9.11 chardet-3.0.4 colour-0.1.5 geojson-2.5.0 idna-2.8 lxml-4.4.1 markdown-3.1.1 mpld3-0.3 pixiedust-1.1.17 requests-2.22.0 setuptools-41.6.0 six-1.13.0 urllib3-1.25.7 wheel-0.33.6\n"
                }
            ],
            "source": "!rm -rf /home/spark/shared/user-libs/python3.6*\n\n!pip install --upgrade ibm-ai-openscale --no-cache | tail -n 1\n!pip install --upgrade watson-machine-learning-client | tail -n 1\n!pip install --upgrade numpy --no-cache | tail -n 1\n!pip install --upgrade SciPy --no-cache | tail -n 1\n!pip install lime --no-cache | tail -n 1\n!pip install pixiedust | tail -n 1"
        },
        {
            "cell_type": "code",
            "execution_count": 4,
            "metadata": {},
            "outputs": [
                {
                    "name": "stdout",
                    "output_type": "stream",
                    "text": "Name: ibm-ai-openscale\r\nVersion: 2.1.19\r\nSummary: Python SDK for IBM Watson OpenScale\r\nHome-page: http://ai-openscale-python-client.mybluemix.net\r\nAuthor: IBM\r\nAuthor-email: lukasz.cmielowski@pl.ibm.com, maria.oleszkiewicz@pl.ibm.com, wojciech.sobala@pl.ibm.com\r\nLicense: BSD\r\nLocation: /home/spark/shared/user-libs/python3.6\r\nRequires: requests, h5py, pandas, tabulate\r\nRequired-by: \r\n"
                }
            ],
            "source": "! pip show ibm-ai-openscale"
        },
        {
            "cell_type": "markdown",
            "metadata": {},
            "source": "## Provision services and configure credentials"
        },
        {
            "cell_type": "markdown",
            "metadata": {},
            "source": "If you have not already, provision an instance of IBM Watson OpenScale using the [OpenScale link in the Cloud catalog](https://cloud.ibm.com/catalog/services/watson-openscale)."
        },
        {
            "cell_type": "markdown",
            "metadata": {},
            "source": "Your Cloud API key can be generated by going to the [**Users** section of the Cloud console](https://cloud.ibm.com/iam#/users). From that page, click your name, scroll down to the **API Keys** section, and click **Create an IBM Cloud API key**. Give your key a name and click **Create**, then copy the created key and paste it below."
        },
        {
            "cell_type": "markdown",
            "metadata": {},
            "source": "**NOTE:** You can also get OpenScale `API_KEY` using IBM CLOUD CLI.\n\nHow to install IBM Cloud (bluemix) console: [instruction](https://console.bluemix.net/docs/cli/reference/ibmcloud/download_cli.html#install_use)\n\nHow to get api key using console:\n```\nbx login --sso\nbx iam api-key-create 'my_key'\n```"
        },
        {
            "cell_type": "code",
            "execution_count": 5,
            "metadata": {
                "scrolled": true
            },
            "outputs": [],
            "source": "CLOUD_API_KEY = \"PASTE HERE\""
        },
        {
            "cell_type": "code",
            "execution_count": 6,
            "metadata": {},
            "outputs": [],
            "source": "# The code was removed by Watson Studio for sharing."
        },
        {
            "cell_type": "markdown",
            "metadata": {},
            "source": "Next you will need credentials for Watson Machine Learning. If you already have a WML instance, you may use credentials for it. To provision a new Lite instance of WML, use the [Cloud catalog](https://cloud.ibm.com/catalog/services/machine-learning), give your service a name, and click **Create**. Once your instance is created, click the **Service Credentials** link on the left side of the screen. Click the **New credential** button, give your credentials a name, and click **Add**. Your new credentials can be accessed by clicking the **View credentials** button. Copy and paste your WML credentials into the cell below."
        },
        {
            "cell_type": "code",
            "execution_count": 8,
            "metadata": {
                "scrolled": true
            },
            "outputs": [],
            "source": "WML_CREDENTIALS = {\n    \"apikey\": \"key\",\n    \"iam_apikey_description\": \"description\",\n    \"iam_apikey_name\": \"auto-generated-apikey\",\n    \"iam_role_crn\": \"crn:v1:bluemix:public:iam::::serviceRole:Writer\",\n    \"iam_serviceid_crn\": \"crn:v1:bluemix:public:iam-identity::\",\n    \"instance_id\": \"instance_id\",\n    \"url\": \"https://us-south.ml.cloud.ibm.com\",\n}"
        },
        {
            "cell_type": "code",
            "execution_count": 9,
            "metadata": {},
            "outputs": [],
            "source": "# The code was removed by Watson Studio for sharing."
        },
        {
            "cell_type": "markdown",
            "metadata": {},
            "source": "This tutorial can use Databases for PostgreSQL, Db2 Warehouse, or a free internal verison of PostgreSQL to create a datamart for OpenScale.\n\nIf you have previously configured OpenScale, it will use your existing datamart, and not interfere with any models you are currently monitoring. Do not update the cell below.\n\nIf you do not have a paid Cloud account or would prefer not to provision this paid service, you may use the free internal PostgreSQL service with OpenScale. Do not update the cell below.\n\nTo provision a new instance of Db2 Warehouse, locate [Db2 Warehouse in the Cloud catalog](https://cloud.ibm.com/catalog/services/db2-warehouse), give your service a name, and click **Create**. Once your instance is created, click the **Service Credentials** link on the left side of the screen. Click the **New credential** button, give your credentials a name, and click **Add**. Your new credentials can be accessed by clicking the **View credentials** button. Copy and paste your Db2 Warehouse credentials into the cell below.\n\nTo provision a new instance of Databases for PostgreSQL, locate [Databases for PostgreSQL in the Cloud catalog](https://cloud.ibm.com/catalog/services/databases-for-postgresql), give your service a name, and click **Create**. Once your instance is created, click the **Service Credentials** link on the left side of the screen. Click the **New credential** button, give your credentials a name, and click **Add**. Your new credentials can be accessed by clicking the **View credentials** button. Copy and paste your Databases for PostgreSQL credentials into the cell below."
        },
        {
            "cell_type": "code",
            "execution_count": 11,
            "metadata": {
                "scrolled": true
            },
            "outputs": [],
            "source": "DB_CREDENTIALS = None"
        },
        {
            "cell_type": "markdown",
            "metadata": {},
            "source": "__If you previously configured OpenScale to use the free internal version of PostgreSQL, you can switch to a new datamart using a paid database service.__ If you would like to delete the internal PostgreSQL configuration and create a new one using service credentials supplied in the cell above, set the __KEEP_MY_INTERNAL_POSTGRES__ variable below to __False__ below. In this case, the notebook will remove your existing internal PostgreSQL datamart and create a new one with the supplied credentials. __*NO DATA MIGRATION WILL OCCUR.*__"
        },
        {
            "cell_type": "code",
            "execution_count": 12,
            "metadata": {},
            "outputs": [],
            "source": "KEEP_MY_INTERNAL_POSTGRES = True"
        },
        {
            "cell_type": "markdown",
            "metadata": {},
            "source": "## Run the notebook\n\nAt this point, the notebook is ready to run. You can either run the cells one at a time, or click the **Kernel** option above and select **Restart and Run All** to run all the cells."
        },
        {
            "cell_type": "markdown",
            "metadata": {},
            "source": "# Model building and deployment <a name=\"model\"></a>"
        },
        {
            "cell_type": "markdown",
            "metadata": {},
            "source": "In this section you will learn how to train Spark MLLib model and next deploy it as web-service using Watson Machine Learning service."
        },
        {
            "cell_type": "markdown",
            "metadata": {},
            "source": "## Load the training data from github"
        },
        {
            "cell_type": "code",
            "execution_count": 13,
            "metadata": {
                "scrolled": true
            },
            "outputs": [
                {
                    "name": "stdout",
                    "output_type": "stream",
                    "text": "-rw-r--r-- 1 spark 4294967294 674K Nov 21 12:52 german_credit_data_biased_training.csv\r\n"
                }
            ],
            "source": "from IPython.utils import io\n\nwith io.capture_output() as captured:\n    !wget https://raw.githubusercontent.com/pmservice/ai-openscale-tutorials/master/assets/historical_data/german_credit_risk/wml/german_credit_data_biased_training.csv -O german_credit_data_biased_training.csv\n!ls -lh german_credit_data_biased_training.csv"
        },
        {
            "cell_type": "code",
            "execution_count": 15,
            "metadata": {
                "scrolled": true
            },
            "outputs": [
                {
                    "data": {
                        "text/plain": "Row(CheckingStatus='0_to_200', LoanDuration=31, CreditHistory='credits_paid_to_date', LoanPurpose='other', LoanAmount=1889, ExistingSavings='100_to_500', EmploymentDuration='less_1', InstallmentPercent=3, Sex='female', OthersOnLoan='none', CurrentResidenceDuration=3, OwnsProperty='savings_insurance', Age=32, InstallmentPlans='none', Housing='own', ExistingCreditsCount=1, Job='skilled', Dependents=1, Telephone='none', ForeignWorker='yes', Risk='No Risk')"
                    },
                    "execution_count": 15,
                    "metadata": {},
                    "output_type": "execute_result"
                }
            ],
            "source": "from pyspark.sql import SparkSession\nimport pandas as pd\nimport json\nimport datetime\n\nspark = SparkSession.builder.getOrCreate()\npd_data = pd.read_csv(\"german_credit_data_biased_training.csv\", sep=\",\", header=0)\ndf_data = spark.read.csv(path=\"german_credit_data_biased_training.csv\", sep=\",\", header=True, inferSchema=True)\ndf_data.head()"
        },
        {
            "cell_type": "markdown",
            "metadata": {},
            "source": "## Explore data"
        },
        {
            "cell_type": "code",
            "execution_count": 16,
            "metadata": {
                "scrolled": true
            },
            "outputs": [
                {
                    "name": "stdout",
                    "output_type": "stream",
                    "text": "root\n |-- CheckingStatus: string (nullable = true)\n |-- LoanDuration: integer (nullable = true)\n |-- CreditHistory: string (nullable = true)\n |-- LoanPurpose: string (nullable = true)\n |-- LoanAmount: integer (nullable = true)\n |-- ExistingSavings: string (nullable = true)\n |-- EmploymentDuration: string (nullable = true)\n |-- InstallmentPercent: integer (nullable = true)\n |-- Sex: string (nullable = true)\n |-- OthersOnLoan: string (nullable = true)\n |-- CurrentResidenceDuration: integer (nullable = true)\n |-- OwnsProperty: string (nullable = true)\n |-- Age: integer (nullable = true)\n |-- InstallmentPlans: string (nullable = true)\n |-- Housing: string (nullable = true)\n |-- ExistingCreditsCount: integer (nullable = true)\n |-- Job: string (nullable = true)\n |-- Dependents: integer (nullable = true)\n |-- Telephone: string (nullable = true)\n |-- ForeignWorker: string (nullable = true)\n |-- Risk: string (nullable = true)\n\n"
                }
            ],
            "source": "df_data.printSchema()"
        },
        {
            "cell_type": "code",
            "execution_count": 17,
            "metadata": {
                "scrolled": true
            },
            "outputs": [
                {
                    "name": "stdout",
                    "output_type": "stream",
                    "text": "Number of records: 5000\n"
                }
            ],
            "source": "print(\"Number of records: \" + str(df_data.count()))"
        },
        {
            "cell_type": "markdown",
            "metadata": {},
            "source": "## Visualize data with pixiedust"
        },
        {
            "cell_type": "code",
            "execution_count": 18,
            "metadata": {},
            "outputs": [
                {
                    "name": "stdout",
                    "output_type": "stream",
                    "text": "Pixiedust database opened successfully\nTable VERSION_TRACKER created successfully\nTable METRICS_TRACKER created successfully\n\nShare anonymous install statistics? (opt-out instructions)\n\nPixieDust will record metadata on its environment the next time the package is installed or updated. The data is anonymized and aggregated to help plan for future releases, and records only the following values:\n\n{\n   \"data_sent\": currentDate,\n   \"runtime\": \"python\",\n   \"application_version\": currentPixiedustVersion,\n   \"space_id\": nonIdentifyingUniqueId,\n   \"config\": {\n       \"repository_id\": \"https://github.com/ibm-watson-data-lab/pixiedust\",\n       \"target_runtimes\": [\"Data Science Experience\"],\n       \"event_id\": \"web\",\n       \"event_organizer\": \"dev-journeys\"\n   }\n}\nYou can opt out by calling pixiedust.optOut() in a new cell.\n"
                },
                {
                    "data": {
                        "text/html": "\n        <div style=\"margin:10px\">\n            <a href=\"https://github.com/ibm-watson-data-lab/pixiedust\" target=\"_new\">\n                <img src=\"https://github.com/ibm-watson-data-lab/pixiedust/raw/master/docs/_static/pd_icon32.png\" style=\"float:left;margin-right:10px\"/>\n            </a>\n            <span>Pixiedust version 1.1.17</span>\n        </div>\n        ",
                        "text/plain": "<IPython.core.display.HTML object>"
                    },
                    "metadata": {},
                    "output_type": "display_data"
                },
                {
                    "name": "stdout",
                    "output_type": "stream",
                    "text": "\u001b[31mPixiedust runtime updated. Please restart kernel\u001b[0m\nTable SPARK_PACKAGES created successfully\nTable USER_PREFERENCES created successfully\nTable service_connections created successfully\n"
                }
            ],
            "source": "import pixiedust"
        },
        {
            "cell_type": "code",
            "execution_count": null,
            "metadata": {
                "pixiedust": {
                    "displayParams": {
                        "aggregation": "COUNT",
                        "chartsize": "50",
                        "handlerId": "pieChart",
                        "keyFields": "Risk",
                        "mpld3": "false",
                        "rendererId": "bokeh"
                    }
                }
            },
            "outputs": [
                {
                    "data": {
                        "text/html": "<div class=\"pixiedust\" pixiedust=\"{&quot;prefix&quot;: &quot;3b3ff4b2&quot;, &quot;command&quot;: &quot;display(df_data,cell_id=&apos;1eb6889bcec9407f9e1a68509c74813b&apos;,nostore_pixiedust=&apos;true&apos;,handlerId=&apos;pieChart&apos;,keyFields=&apos;Risk&apos;,rendererId=&apos;bokeh&apos;,chartsize=&apos;50&apos;,mpld3=&apos;false&apos;,aggregation=&apos;COUNT&apos;,nostore_cw=&apos;1353&apos;,nostore_vh=&apos;561&apos;,org_params=&apos;nostore_pixiedust&apos;,nostore_bokeh=&apos;false&apos;)&quot;, &quot;entity&quot;: &quot;df_data&quot;, &quot;options&quot;: {&quot;cell_id&quot;: &quot;1eb6889bcec9407f9e1a68509c74813b&quot;, &quot;nostore_pixiedust&quot;: &quot;true&quot;, &quot;handlerId&quot;: &quot;pieChart&quot;, &quot;keyFields&quot;: &quot;Risk&quot;, &quot;rendererId&quot;: &quot;bokeh&quot;, &quot;chartsize&quot;: &quot;50&quot;, &quot;mpld3&quot;: &quot;false&quot;, &quot;aggregation&quot;: &quot;COUNT&quot;, &quot;nostore_cw&quot;: &quot;1353&quot;, &quot;nostore_vh&quot;: &quot;561&quot;, &quot;org_params&quot;: &quot;nostore_pixiedust&quot;, &quot;nostore_bokeh&quot;: &quot;false&quot;}, &quot;sniffers&quot;: [&quot;{&apos;nostore_bokeh&apos;:!!window.Bokeh}&quot;], &quot;avoidMetadata&quot;: false, &quot;include_keys&quot;: [&quot;filter&quot;]}\">\n  \n  <button class=\"btn btn-default btn-sm expandButton\" data-toggle=\"collapse\"\n          data-target=\"#pixiedust-output-wrapper-3b3ff4b2\" title=\"Expand/Collapse Pixiedust output\">\n    <i class=\"fa\"></i>\n  </button>\n  \n  \n  <div id=\"pixiedust-output-wrapper-3b3ff4b2\" class=\"pixiedust-output-wrapper collapse in\">\n    \n      <div class=\"pixiedust-toolbar btn-group\" role=\"group\" style=\"margin-bottom:15px\">  \n      \n        \n          <a class=\"btn btn-small btn-default display-type-button\" id=\"menu3b3ff4b2-tableView\" title=\"Table.Next\">\n            <i class=\"fa fa-table\"></i>\n          </a>\n          \n            <script>\n                $('#menu3b3ff4b2-tableView').on('click', \n            \n            function(){\n                pixiedust.executeDisplay(\n                    {\"prefix\": \"3b3ff4b2\", \"command\": \"display(df_data,cell_id='1eb6889bcec9407f9e1a68509c74813b',nostore_pixiedust='true',handlerId='tableView',keyFields='Risk',rendererId='bokeh',chartsize='50',mpld3='false',aggregation='COUNT',nostore_cw='1353',nostore_vh='561',org_params='nostore_pixiedust',nostore_bokeh='false',prefix='3b3ff4b2')\", \"entity\": \"df_data\", \"options\": {\"cell_id\": \"1eb6889bcec9407f9e1a68509c74813b\", \"nostore_pixiedust\": \"true\", \"handlerId\": \"tableView\", \"keyFields\": \"Risk\", \"rendererId\": \"bokeh\", \"chartsize\": \"50\", \"mpld3\": \"false\", \"aggregation\": \"COUNT\", \"nostore_cw\": \"1353\", \"nostore_vh\": \"561\", \"org_params\": \"nostore_pixiedust\", \"nostore_bokeh\": \"false\", \"prefix\": \"3b3ff4b2\"}, \"sniffers\": [\"{'nostore_bokeh':!!window.Bokeh}\"], \"avoidMetadata\": true, \"include_keys\": [\"filter\"]},\n                    {'targetDivId': 'wrapperHTML3b3ff4b2' }\n                );\n            }\n            )\n            </script>\n        \n        \n      \n        \n          <div class=\"btn-group btn-small display-type-button\">\n            \n            <a class=\"btn btn-small dropdown-toggle btn-default\" data-toggle=\"dropdown\" title=\"Chart\">\n              \n              <i class=\"fa fa-line-chart\"></i>\n              \n              <i class=\"fa fa-chevron-down\"></i>\n            </a>\n            <div class=\"dropdown-menu\" role=\"menu\" style=\"white-space:nowrap\">\n              <ul>\n              \n                <li id=\"menu3b3ff4b2-barChart\">\n                  \n                  <i class=\"fa fa-bar-chart\"></i>\n                  \n                  <span>Bar Chart</span>\n                  \n            <script>\n                $('#menu3b3ff4b2-barChart').on('click', \n            \n            function(){\n                pixiedust.executeDisplay(\n                    {\"prefix\": \"3b3ff4b2\", \"command\": \"display(df_data,cell_id='1eb6889bcec9407f9e1a68509c74813b',nostore_pixiedust='true',handlerId='barChart',keyFields='Risk',rendererId='bokeh',chartsize='50',mpld3='false',aggregation='COUNT',nostore_cw='1353',nostore_vh='561',org_params='nostore_pixiedust',nostore_bokeh='false',prefix='3b3ff4b2')\", \"entity\": \"df_data\", \"options\": {\"cell_id\": \"1eb6889bcec9407f9e1a68509c74813b\", \"nostore_pixiedust\": \"true\", \"handlerId\": \"barChart\", \"keyFields\": \"Risk\", \"rendererId\": \"bokeh\", \"chartsize\": \"50\", \"mpld3\": \"false\", \"aggregation\": \"COUNT\", \"nostore_cw\": \"1353\", \"nostore_vh\": \"561\", \"org_params\": \"nostore_pixiedust\", \"nostore_bokeh\": \"false\", \"prefix\": \"3b3ff4b2\"}, \"sniffers\": [\"{'nostore_bokeh':!!window.Bokeh}\"], \"avoidMetadata\": true, \"include_keys\": [\"filter\"]},\n                    {'targetDivId': 'wrapperHTML3b3ff4b2' }\n                );\n            }\n            )\n            </script>\n        \n                </li>\n              \n                <li id=\"menu3b3ff4b2-lineChart\">\n                  \n                  <i class=\"fa fa-line-chart\"></i>\n                  \n                  <span>Line Chart</span>\n                  \n            <script>\n                $('#menu3b3ff4b2-lineChart').on('click', \n            \n            function(){\n                pixiedust.executeDisplay(\n                    {\"prefix\": \"3b3ff4b2\", \"command\": \"display(df_data,cell_id='1eb6889bcec9407f9e1a68509c74813b',nostore_pixiedust='true',handlerId='lineChart',keyFields='Risk',rendererId='bokeh',chartsize='50',mpld3='false',aggregation='COUNT',nostore_cw='1353',nostore_vh='561',org_params='nostore_pixiedust',nostore_bokeh='false',prefix='3b3ff4b2')\", \"entity\": \"df_data\", \"options\": {\"cell_id\": \"1eb6889bcec9407f9e1a68509c74813b\", \"nostore_pixiedust\": \"true\", \"handlerId\": \"lineChart\", \"keyFields\": \"Risk\", \"rendererId\": \"bokeh\", \"chartsize\": \"50\", \"mpld3\": \"false\", \"aggregation\": \"COUNT\", \"nostore_cw\": \"1353\", \"nostore_vh\": \"561\", \"org_params\": \"nostore_pixiedust\", \"nostore_bokeh\": \"false\", \"prefix\": \"3b3ff4b2\"}, \"sniffers\": [\"{'nostore_bokeh':!!window.Bokeh}\"], \"avoidMetadata\": true, \"include_keys\": [\"filter\"]},\n                    {'targetDivId': 'wrapperHTML3b3ff4b2' }\n                );\n            }\n            )\n            </script>\n        \n                </li>\n              \n                <li id=\"menu3b3ff4b2-scatterPlot\">\n                  \n                  <i class=\"fa fa-circle\"></i>\n                  \n                  <span>Scatter Plot</span>\n                  \n            <script>\n                $('#menu3b3ff4b2-scatterPlot').on('click', \n            \n            function(){\n                pixiedust.executeDisplay(\n                    {\"prefix\": \"3b3ff4b2\", \"command\": \"display(df_data,cell_id='1eb6889bcec9407f9e1a68509c74813b',nostore_pixiedust='true',handlerId='scatterPlot',keyFields='Risk',rendererId='bokeh',chartsize='50',mpld3='false',aggregation='COUNT',nostore_cw='1353',nostore_vh='561',org_params='nostore_pixiedust',nostore_bokeh='false',prefix='3b3ff4b2')\", \"entity\": \"df_data\", \"options\": {\"cell_id\": \"1eb6889bcec9407f9e1a68509c74813b\", \"nostore_pixiedust\": \"true\", \"handlerId\": \"scatterPlot\", \"keyFields\": \"Risk\", \"rendererId\": \"bokeh\", \"chartsize\": \"50\", \"mpld3\": \"false\", \"aggregation\": \"COUNT\", \"nostore_cw\": \"1353\", \"nostore_vh\": \"561\", \"org_params\": \"nostore_pixiedust\", \"nostore_bokeh\": \"false\", \"prefix\": \"3b3ff4b2\"}, \"sniffers\": [\"{'nostore_bokeh':!!window.Bokeh}\"], \"avoidMetadata\": true, \"include_keys\": [\"filter\"]},\n                    {'targetDivId': 'wrapperHTML3b3ff4b2' }\n                );\n            }\n            )\n            </script>\n        \n                </li>\n              \n                <li id=\"menu3b3ff4b2-pieChart\">\n                  \n                  <i class=\"fa fa-pie-chart\"></i>\n                  \n                  <span>Pie Chart</span>\n                  \n            <script>\n                $('#menu3b3ff4b2-pieChart').on('click', \n            \n            function(){\n                pixiedust.executeDisplay(\n                    {\"prefix\": \"3b3ff4b2\", \"command\": \"display(df_data,cell_id='1eb6889bcec9407f9e1a68509c74813b',nostore_pixiedust='true',handlerId='pieChart',keyFields='Risk',rendererId='bokeh',chartsize='50',mpld3='false',aggregation='COUNT',nostore_cw='1353',nostore_vh='561',org_params='nostore_pixiedust',nostore_bokeh='false',prefix='3b3ff4b2')\", \"entity\": \"df_data\", \"options\": {\"cell_id\": \"1eb6889bcec9407f9e1a68509c74813b\", \"nostore_pixiedust\": \"true\", \"handlerId\": \"pieChart\", \"keyFields\": \"Risk\", \"rendererId\": \"bokeh\", \"chartsize\": \"50\", \"mpld3\": \"false\", \"aggregation\": \"COUNT\", \"nostore_cw\": \"1353\", \"nostore_vh\": \"561\", \"org_params\": \"nostore_pixiedust\", \"nostore_bokeh\": \"false\", \"prefix\": \"3b3ff4b2\"}, \"sniffers\": [\"{'nostore_bokeh':!!window.Bokeh}\"], \"avoidMetadata\": true, \"include_keys\": [\"filter\"]},\n                    {'targetDivId': 'wrapperHTML3b3ff4b2' }\n                );\n            }\n            )\n            </script>\n        \n                </li>\n              \n                <li id=\"menu3b3ff4b2-mapView\">\n                  \n                  <i class=\"fa fa-globe\"></i>\n                  \n                  <span>Map</span>\n                  \n            <script>\n                $('#menu3b3ff4b2-mapView').on('click', \n            \n            function(){\n                pixiedust.executeDisplay(\n                    {\"prefix\": \"3b3ff4b2\", \"command\": \"display(df_data,cell_id='1eb6889bcec9407f9e1a68509c74813b',nostore_pixiedust='true',handlerId='mapView',keyFields='Risk',rendererId='bokeh',chartsize='50',mpld3='false',aggregation='COUNT',nostore_cw='1353',nostore_vh='561',org_params='nostore_pixiedust',nostore_bokeh='false',prefix='3b3ff4b2')\", \"entity\": \"df_data\", \"options\": {\"cell_id\": \"1eb6889bcec9407f9e1a68509c74813b\", \"nostore_pixiedust\": \"true\", \"handlerId\": \"mapView\", \"keyFields\": \"Risk\", \"rendererId\": \"bokeh\", \"chartsize\": \"50\", \"mpld3\": \"false\", \"aggregation\": \"COUNT\", \"nostore_cw\": \"1353\", \"nostore_vh\": \"561\", \"org_params\": \"nostore_pixiedust\", \"nostore_bokeh\": \"false\", \"prefix\": \"3b3ff4b2\"}, \"sniffers\": [\"{'nostore_bokeh':!!window.Bokeh}\"], \"avoidMetadata\": true, \"include_keys\": [\"filter\"]},\n                    {'targetDivId': 'wrapperHTML3b3ff4b2' }\n                );\n            }\n            )\n            </script>\n        \n                </li>\n              \n                <li id=\"menu3b3ff4b2-histogram\">\n                  \n                  <i class=\"fa fa-area-chart\"></i>\n                  \n                  <span>Histogram</span>\n                  \n            <script>\n                $('#menu3b3ff4b2-histogram').on('click', \n            \n            function(){\n                pixiedust.executeDisplay(\n                    {\"prefix\": \"3b3ff4b2\", \"command\": \"display(df_data,cell_id='1eb6889bcec9407f9e1a68509c74813b',nostore_pixiedust='true',handlerId='histogram',keyFields='Risk',rendererId='bokeh',chartsize='50',mpld3='false',aggregation='COUNT',nostore_cw='1353',nostore_vh='561',org_params='nostore_pixiedust',nostore_bokeh='false',prefix='3b3ff4b2')\", \"entity\": \"df_data\", \"options\": {\"cell_id\": \"1eb6889bcec9407f9e1a68509c74813b\", \"nostore_pixiedust\": \"true\", \"handlerId\": \"histogram\", \"keyFields\": \"Risk\", \"rendererId\": \"bokeh\", \"chartsize\": \"50\", \"mpld3\": \"false\", \"aggregation\": \"COUNT\", \"nostore_cw\": \"1353\", \"nostore_vh\": \"561\", \"org_params\": \"nostore_pixiedust\", \"nostore_bokeh\": \"false\", \"prefix\": \"3b3ff4b2\"}, \"sniffers\": [\"{'nostore_bokeh':!!window.Bokeh}\"], \"avoidMetadata\": true, \"include_keys\": [\"filter\"]},\n                    {'targetDivId': 'wrapperHTML3b3ff4b2' }\n                );\n            }\n            )\n            </script>\n        \n                </li>\n              \n              </ul>\n            </div>\n          </div>\n        \n      \n        \n      \n        \n      \n        \n          <div class=\"btn-group btn-small display-type-button\">\n            \n            <a class=\"btn btn-small dropdown-toggle btn-default\" data-toggle=\"dropdown\" title=\"Stash dataset\">\n              \n              <i class=\"fa fa-cloud-download\"></i>\n              \n              <i class=\"fa fa-chevron-down\"></i>\n            </a>\n            <div class=\"dropdown-menu\" role=\"menu\" style=\"white-space:nowrap\">\n              <ul>\n              \n                <li id=\"menu3b3ff4b2-downloadFile\">\n                  \n                  <i class=\"fa fa-download\"></i>\n                  \n                  <span>Download as File</span>\n                  \n            <script>\n                $('#menu3b3ff4b2-downloadFile').on('click', \n            \n            function(){\n                pixiedust.executeDisplay(\n                    {\"prefix\": \"3b3ff4b2\", \"command\": \"display(df_data,cell_id='1eb6889bcec9407f9e1a68509c74813b',nostore_pixiedust='true',handlerId='downloadFile',keyFields='Risk',rendererId='bokeh',chartsize='50',mpld3='false',aggregation='COUNT',nostore_cw='1353',nostore_vh='561',org_params='nostore_pixiedust',nostore_bokeh='false',prefix='3b3ff4b2')\", \"entity\": \"df_data\", \"options\": {\"cell_id\": \"1eb6889bcec9407f9e1a68509c74813b\", \"nostore_pixiedust\": \"true\", \"handlerId\": \"downloadFile\", \"keyFields\": \"Risk\", \"rendererId\": \"bokeh\", \"chartsize\": \"50\", \"mpld3\": \"false\", \"aggregation\": \"COUNT\", \"nostore_cw\": \"1353\", \"nostore_vh\": \"561\", \"org_params\": \"nostore_pixiedust\", \"nostore_bokeh\": \"false\", \"prefix\": \"3b3ff4b2\"}, \"sniffers\": [\"{'nostore_bokeh':!!window.Bokeh}\"], \"avoidMetadata\": true, \"include_keys\": [\"filter\"]},\n                    {'targetDivId': 'wrapperHTML3b3ff4b2' }\n                );\n            }\n            )\n            </script>\n        \n                </li>\n              \n                <li id=\"menu3b3ff4b2-stashCloudant\">\n                  \n                  <i class=\"fa fa-cloud\"></i>\n                  \n                  <span>Stash to Cloudant</span>\n                  \n            <script>\n                $('#menu3b3ff4b2-stashCloudant').on('click', \n            \n            function(){\n                pixiedust.executeDisplay(\n                    {\"prefix\": \"3b3ff4b2\", \"command\": \"display(df_data,cell_id='1eb6889bcec9407f9e1a68509c74813b',nostore_pixiedust='true',handlerId='stashCloudant',keyFields='Risk',rendererId='bokeh',chartsize='50',mpld3='false',aggregation='COUNT',nostore_cw='1353',nostore_vh='561',org_params='nostore_pixiedust',nostore_bokeh='false',prefix='3b3ff4b2')\", \"entity\": \"df_data\", \"options\": {\"cell_id\": \"1eb6889bcec9407f9e1a68509c74813b\", \"nostore_pixiedust\": \"true\", \"handlerId\": \"stashCloudant\", \"keyFields\": \"Risk\", \"rendererId\": \"bokeh\", \"chartsize\": \"50\", \"mpld3\": \"false\", \"aggregation\": \"COUNT\", \"nostore_cw\": \"1353\", \"nostore_vh\": \"561\", \"org_params\": \"nostore_pixiedust\", \"nostore_bokeh\": \"false\", \"prefix\": \"3b3ff4b2\"}, \"sniffers\": [\"{'nostore_bokeh':!!window.Bokeh}\"], \"avoidMetadata\": true, \"include_keys\": [\"filter\"]},\n                    {'targetDivId': 'wrapperHTML3b3ff4b2' }\n                );\n            }\n            )\n            </script>\n        \n                </li>\n              \n              </ul>\n            </div>\n          </div>\n        \n      \n        <a id=\"filterbutton3b3ff4b2\" href=\"#filter3b3ff4b2\" class=\"btn btn-small btn-default display-type-button\" data-toggle=\"collapse\" title=\"Filter\">\n          <i class=\"fa fa-filter\" aria-hidden=\"true\"></i>\n        </a>\n      </div>\n      <div id=\"filter3b3ff4b2\" class=\"collapse no_loading_msg\" style=\"margin-bottom:15px;padding:10px 15px;border: 1px solid #eaeaea;background-color: #fafafa;\">\n        <div pd_render_onload pd_app=\"pixiedust.display.chart.filter.FilterApp\" class=\"no_loading_msg\">\n          <script>\n            $(document).trigger('pd_event', {type:\"pd_load\", targetNode: $(\"#filter3b3ff4b2\")});\n          </script>\n        </div>\n      </div>\n    \n    <div id=\"wrapperJS3b3ff4b2\"></div>\n    <div id=\"wrapperHTML3b3ff4b2\" class=\"pixiedustWrapperHTML\" pd_init\n        pixiedust=\"{&quot;prefix&quot;: &quot;3b3ff4b2&quot;, &quot;command&quot;: &quot;display(df_data,cell_id=&apos;1eb6889bcec9407f9e1a68509c74813b&apos;,nostore_pixiedust=&apos;true&apos;,handlerId=&apos;pieChart&apos;,keyFields=&apos;Risk&apos;,rendererId=&apos;bokeh&apos;,chartsize=&apos;50&apos;,mpld3=&apos;false&apos;,aggregation=&apos;COUNT&apos;,nostore_cw=&apos;1353&apos;,nostore_vh=&apos;561&apos;,org_params=&apos;nostore_pixiedust&apos;,nostore_bokeh=&apos;false&apos;)&quot;, &quot;entity&quot;: &quot;df_data&quot;, &quot;options&quot;: {&quot;cell_id&quot;: &quot;1eb6889bcec9407f9e1a68509c74813b&quot;, &quot;nostore_pixiedust&quot;: &quot;true&quot;, &quot;handlerId&quot;: &quot;pieChart&quot;, &quot;keyFields&quot;: &quot;Risk&quot;, &quot;rendererId&quot;: &quot;bokeh&quot;, &quot;chartsize&quot;: &quot;50&quot;, &quot;mpld3&quot;: &quot;false&quot;, &quot;aggregation&quot;: &quot;COUNT&quot;, &quot;nostore_cw&quot;: &quot;1353&quot;, &quot;nostore_vh&quot;: &quot;561&quot;, &quot;org_params&quot;: &quot;nostore_pixiedust&quot;, &quot;nostore_bokeh&quot;: &quot;false&quot;}, &quot;sniffers&quot;: [&quot;{&apos;nostore_bokeh&apos;:!!window.Bokeh}&quot;], &quot;avoidMetadata&quot;: false, &quot;include_keys&quot;: [&quot;filter&quot;]}\" style=\"min-height:100px\"></div>\n  </div>\n</div>\n                    <script>\n                    (\n            \n            function(){\n                pixiedust.executeDisplay(\n                    {\"prefix\": \"3b3ff4b2\", \"command\": \"display(df_data,cell_id='1eb6889bcec9407f9e1a68509c74813b',nostore_pixiedust='true',handlerId='pieChart',keyFields='Risk',rendererId='bokeh',chartsize='50',mpld3='false',aggregation='COUNT',nostore_cw='1353',nostore_vh='561',org_params='nostore_pixiedust',nostore_bokeh='false',prefix='3b3ff4b2')\", \"entity\": \"df_data\", \"options\": {\"cell_id\": \"1eb6889bcec9407f9e1a68509c74813b\", \"nostore_pixiedust\": \"true\", \"handlerId\": \"pieChart\", \"keyFields\": \"Risk\", \"rendererId\": \"bokeh\", \"chartsize\": \"50\", \"mpld3\": \"false\", \"aggregation\": \"COUNT\", \"nostore_cw\": \"1353\", \"nostore_vh\": \"561\", \"org_params\": \"nostore_pixiedust\", \"nostore_bokeh\": \"false\", \"prefix\": \"3b3ff4b2\"}, \"sniffers\": [\"{'nostore_bokeh':!!window.Bokeh}\"], \"avoidMetadata\": true, \"include_keys\": [\"filter\"]},\n                    {'targetDivId': 'wrapperHTML3b3ff4b2' }\n                );\n            }\n            )();\n                    </script>\n                </div>",
                        "text/plain": "<IPython.core.display.HTML object>"
                    },
                    "metadata": {},
                    "output_type": "display_data"
                }
            ],
            "source": "display(df_data)"
        },
        {
            "cell_type": "markdown",
            "metadata": {},
            "source": "## Create a model"
        },
        {
            "cell_type": "code",
            "execution_count": 20,
            "metadata": {
                "scrolled": true
            },
            "outputs": [
                {
                    "name": "stdout",
                    "output_type": "stream",
                    "text": "Number of records for training: 4016\nNumber of records for evaluation: 984\nroot\n |-- CheckingStatus: string (nullable = true)\n |-- LoanDuration: integer (nullable = true)\n |-- CreditHistory: string (nullable = true)\n |-- LoanPurpose: string (nullable = true)\n |-- LoanAmount: integer (nullable = true)\n |-- ExistingSavings: string (nullable = true)\n |-- EmploymentDuration: string (nullable = true)\n |-- InstallmentPercent: integer (nullable = true)\n |-- Sex: string (nullable = true)\n |-- OthersOnLoan: string (nullable = true)\n |-- CurrentResidenceDuration: integer (nullable = true)\n |-- OwnsProperty: string (nullable = true)\n |-- Age: integer (nullable = true)\n |-- InstallmentPlans: string (nullable = true)\n |-- Housing: string (nullable = true)\n |-- ExistingCreditsCount: integer (nullable = true)\n |-- Job: string (nullable = true)\n |-- Dependents: integer (nullable = true)\n |-- Telephone: string (nullable = true)\n |-- ForeignWorker: string (nullable = true)\n |-- Risk: string (nullable = true)\n\n"
                }
            ],
            "source": "spark_df = df_data\n(train_data, test_data) = spark_df.randomSplit([0.8, 0.2], 24)\n\nMODEL_NAME = \"Spark German Risk Model - Final\"\nDEPLOYMENT_NAME = \"Spark German Risk Deployment - Final\"\n\nprint(\"Number of records for training: \" + str(train_data.count()))\nprint(\"Number of records for evaluation: \" + str(test_data.count()))\n\nspark_df.printSchema()"
        },
        {
            "cell_type": "markdown",
            "metadata": {},
            "source": "The code below creates a Random Forest Classifier with Spark, setting up string indexers for the categorical features and the label column. Finally, this notebook creates a pipeline including the indexers and the model, and does an initial Area Under ROC evaluation of the model."
        },
        {
            "cell_type": "code",
            "execution_count": 21,
            "metadata": {
                "scrolled": true
            },
            "outputs": [],
            "source": "from pyspark.ml.feature import OneHotEncoder, StringIndexer, IndexToString, VectorAssembler\nfrom pyspark.ml.evaluation import BinaryClassificationEvaluator\nfrom pyspark.ml import Pipeline, Model\n\nsi_CheckingStatus = StringIndexer(inputCol = 'CheckingStatus', outputCol = 'CheckingStatus_IX')\nsi_CreditHistory = StringIndexer(inputCol = 'CreditHistory', outputCol = 'CreditHistory_IX')\nsi_LoanPurpose = StringIndexer(inputCol = 'LoanPurpose', outputCol = 'LoanPurpose_IX')\nsi_ExistingSavings = StringIndexer(inputCol = 'ExistingSavings', outputCol = 'ExistingSavings_IX')\nsi_EmploymentDuration = StringIndexer(inputCol = 'EmploymentDuration', outputCol = 'EmploymentDuration_IX')\nsi_Sex = StringIndexer(inputCol = 'Sex', outputCol = 'Sex_IX')\nsi_OthersOnLoan = StringIndexer(inputCol = 'OthersOnLoan', outputCol = 'OthersOnLoan_IX')\nsi_OwnsProperty = StringIndexer(inputCol = 'OwnsProperty', outputCol = 'OwnsProperty_IX')\nsi_InstallmentPlans = StringIndexer(inputCol = 'InstallmentPlans', outputCol = 'InstallmentPlans_IX')\nsi_Housing = StringIndexer(inputCol = 'Housing', outputCol = 'Housing_IX')\nsi_Job = StringIndexer(inputCol = 'Job', outputCol = 'Job_IX')\nsi_Telephone = StringIndexer(inputCol = 'Telephone', outputCol = 'Telephone_IX')\nsi_ForeignWorker = StringIndexer(inputCol = 'ForeignWorker', outputCol = 'ForeignWorker_IX')"
        },
        {
            "cell_type": "code",
            "execution_count": 22,
            "metadata": {
                "scrolled": true
            },
            "outputs": [],
            "source": "si_Label = StringIndexer(inputCol=\"Risk\", outputCol=\"label\").fit(spark_df)\nlabel_converter = IndexToString(inputCol=\"prediction\", outputCol=\"predictedLabel\", labels=si_Label.labels)"
        },
        {
            "cell_type": "code",
            "execution_count": 23,
            "metadata": {
                "scrolled": true
            },
            "outputs": [],
            "source": "va_features = VectorAssembler(inputCols=[\"CheckingStatus_IX\", \"CreditHistory_IX\", \"LoanPurpose_IX\", \"ExistingSavings_IX\", \"EmploymentDuration_IX\", \"Sex_IX\", \\\n                                         \"OthersOnLoan_IX\", \"OwnsProperty_IX\", \"InstallmentPlans_IX\", \"Housing_IX\", \"Job_IX\", \"Telephone_IX\", \"ForeignWorker_IX\", \\\n                                         \"LoanDuration\", \"LoanAmount\", \"InstallmentPercent\", \"CurrentResidenceDuration\", \"LoanDuration\", \"Age\", \"ExistingCreditsCount\", \\\n                                         \"Dependents\"], outputCol=\"features\")"
        },
        {
            "cell_type": "code",
            "execution_count": 24,
            "metadata": {
                "scrolled": true
            },
            "outputs": [],
            "source": "from pyspark.ml.classification import RandomForestClassifier\n\nclassifier = RandomForestClassifier(featuresCol=\"features\")\npipeline = Pipeline(stages=[si_CheckingStatus, si_CreditHistory, si_EmploymentDuration, si_ExistingSavings, si_ForeignWorker, si_Housing, si_InstallmentPlans, si_Job, si_LoanPurpose, si_OthersOnLoan,\\\n                               si_OwnsProperty, si_Sex, si_Telephone, si_Label, va_features, classifier, label_converter])\nmodel = pipeline.fit(train_data)"
        },
        {
            "cell_type": "code",
            "execution_count": 25,
            "metadata": {
                "scrolled": true
            },
            "outputs": [
                {
                    "name": "stdout",
                    "output_type": "stream",
                    "text": "areaUnderROC = 0.695963\n"
                }
            ],
            "source": "predictions = model.transform(test_data)\nevaluatorDT = BinaryClassificationEvaluator(rawPredictionCol=\"prediction\")\narea_under_curve = evaluatorDT.evaluate(predictions)\n\nprint(\"areaUnderROC = %g\" % area_under_curve)"
        },
        {
            "cell_type": "markdown",
            "metadata": {},
            "source": "## Publish the model"
        },
        {
            "cell_type": "markdown",
            "metadata": {},
            "source": "In this section, the notebook uses the supplied Watson Machine Learning credentials to save the model (including the pipeline) to the WML instance. Previous versions of the model are removed so that the notebook can be run again, resetting all data for another demo."
        },
        {
            "cell_type": "code",
            "execution_count": 26,
            "metadata": {
                "scrolled": true
            },
            "outputs": [
                {
                    "name": "stderr",
                    "output_type": "stream",
                    "text": "/home/spark/shared/user-libs/python3.6/sklearn/externals/joblib/__init__.py:15: DeprecationWarning: sklearn.externals.joblib is deprecated in 0.21 and will be removed in 0.23. Please import this functionality directly from joblib, which can be installed with: pip install joblib. If this warning is raised when loading pickled models, you may need to re-serialize those models with scikit-learn 0.21+.\n  warnings.warn(msg, category=DeprecationWarning)\n"
                }
            ],
            "source": "from watson_machine_learning_client import WatsonMachineLearningAPIClient\nimport json\n\nwml_client = WatsonMachineLearningAPIClient(WML_CREDENTIALS)"
        },
        {
            "cell_type": "markdown",
            "metadata": {},
            "source": "### Remove existing model and deployment"
        },
        {
            "cell_type": "code",
            "execution_count": 27,
            "metadata": {
                "scrolled": true
            },
            "outputs": [
                {
                    "name": "stdout",
                    "output_type": "stream",
                    "text": "Deleting deployment id 812cbacf-333f-46ef-8f66-e4cad986370b\nDeleting model id e7fedc41-ccc2-40c5-8e13-d87661e1bdce\n------------------------------------  --------------------------------  ------------------------  ---------------\nGUID                                  NAME                              CREATED                   FRAMEWORK\n85f95534-50ef-4f8f-839a-86dc0e501178  GermanCreditRiskModelYPQA         2019-10-25T08:46:19.479Z  mllib-2.3\n6a1b8908-6df4-4af0-b991-a547ab009bea  AIOS Spark Credit Risk model xFg  2019-10-24T12:42:50.091Z  mllib-2.3\nb66a65f6-b1a9-4c85-97c5-004072847a6f  BID_detector_CIFAR10              2019-07-01T00:26:25.922Z  tensorflow-1.11\nf81bf4f9-9877-49b2-b400-b3de965d12e7  Image-classifier                  2019-06-28T06:58:33.484Z  tensorflow-1.11\n------------------------------------  --------------------------------  ------------------------  ---------------\n"
                }
            ],
            "source": "model_deployment_ids = wml_client.deployments.get_uids()\nfor deployment_id in model_deployment_ids:\n    deployment = wml_client.deployments.get_details(deployment_id)\n    model_id = deployment['entity']['deployable_asset']['guid']\n    if deployment['entity']['name'] == DEPLOYMENT_NAME:\n        print('Deleting deployment id', deployment_id)\n        wml_client.deployments.delete(deployment_id)\n        print('Deleting model id', model_id)\n        wml_client.repository.delete(model_id)\nwml_client.repository.list_models()"
        },
        {
            "cell_type": "code",
            "execution_count": 28,
            "metadata": {},
            "outputs": [
                {
                    "name": "stdout",
                    "output_type": "stream",
                    "text": "-rw-r--r-- 1 spark 4294967294 14K Nov 21 12:54 credit-risk-meta.json\r\n"
                }
            ],
            "source": "with io.capture_output() as captured:\n    !wget https://raw.githubusercontent.com/pmservice/wml-sample-models/master/spark/credit-risk/meta/credit-risk-meta.json -O credit-risk-meta.json\n!ls -lh credit-risk-meta.json"
        },
        {
            "cell_type": "code",
            "execution_count": 29,
            "metadata": {},
            "outputs": [],
            "source": "with open('credit-risk-meta.json') as f:\n    [training_data_reference, *_] = json.load(f)['model_meta']['training_data_reference']"
        },
        {
            "cell_type": "code",
            "execution_count": 30,
            "metadata": {
                "scrolled": true
            },
            "outputs": [],
            "source": "model_props = {\n    wml_client.repository.ModelMetaNames.NAME: \"{}\".format(MODEL_NAME),\n    wml_client.repository.ModelMetaNames.EVALUATION_METHOD: \"binary\",\n    wml_client.repository.ModelMetaNames.TRAINING_DATA_REFERENCE: training_data_reference,\n    wml_client.repository.ModelMetaNames.EVALUATION_METRICS: [\n        {\n           \"name\": \"areaUnderROC\",\n           \"value\": area_under_curve,\n           \"threshold\": 0.7\n        }\n    ]\n}"
        },
        {
            "cell_type": "code",
            "execution_count": 31,
            "metadata": {
                "scrolled": true
            },
            "outputs": [
                {
                    "name": "stdout",
                    "output_type": "stream",
                    "text": "Storing model ...\nDone\n"
                }
            ],
            "source": "wml_models = wml_client.repository.get_details()\nmodel_uid = None\nfor model_in in wml_models['models']['resources']:\n    if MODEL_NAME == model_in['entity']['name']:\n        model_uid = model_in['metadata']['guid']\n        break\n\nif model_uid is None:\n    print(\"Storing model ...\")\n\n    published_model_details = wml_client.repository.store_model(model=model, meta_props=model_props, training_data=train_data, pipeline=pipeline)\n    model_uid = wml_client.repository.get_model_uid(published_model_details)\n    print(\"Done\")"
        },
        {
            "cell_type": "code",
            "execution_count": 32,
            "metadata": {
                "scrolled": true
            },
            "outputs": [
                {
                    "data": {
                        "text/plain": "'fed54fed-f6dd-4dbc-98b0-135c89ff02bc'"
                    },
                    "execution_count": 32,
                    "metadata": {},
                    "output_type": "execute_result"
                }
            ],
            "source": "model_uid"
        },
        {
            "cell_type": "markdown",
            "metadata": {},
            "source": "## Deploy the model"
        },
        {
            "cell_type": "markdown",
            "metadata": {},
            "source": "The next section of the notebook deploys the model as a RESTful web service in Watson Machine Learning. The deployed model will have a scoring URL you can use to send data to the model for predictions."
        },
        {
            "cell_type": "code",
            "execution_count": 33,
            "metadata": {
                "scrolled": true
            },
            "outputs": [
                {
                    "name": "stdout",
                    "output_type": "stream",
                    "text": "Deploying model...\n\n\n#######################################################################################\n\nSynchronous deployment creation for uid: 'fed54fed-f6dd-4dbc-98b0-135c89ff02bc' started\n\n#######################################################################################\n\n\nINITIALIZING\nDEPLOY_SUCCESS\n\n\n------------------------------------------------------------------------------------------------\nSuccessfully finished deployment creation, deployment_uid='3a27328f-e8f2-4143-8e84-969da2450da7'\n------------------------------------------------------------------------------------------------\n\n\nModel id: fed54fed-f6dd-4dbc-98b0-135c89ff02bc\nDeployment id: 3a27328f-e8f2-4143-8e84-969da2450da7\n"
                }
            ],
            "source": "wml_deployments = wml_client.deployments.get_details()\ndeployment_uid = None\nfor deployment in wml_deployments['resources']:\n    if DEPLOYMENT_NAME == deployment['entity']['name']:\n        deployment_uid = deployment['metadata']['guid']\n        break\n\nif deployment_uid is None:\n    print(\"Deploying model...\")\n\n    deployment = wml_client.deployments.create(artifact_uid=model_uid, name=DEPLOYMENT_NAME, asynchronous=False)\n    deployment_uid = wml_client.deployments.get_uid(deployment)\n    \nprint(\"Model id: {}\".format(model_uid))\nprint(\"Deployment id: {}\".format(deployment_uid))"
        },
        {
            "cell_type": "markdown",
            "metadata": {},
            "source": "# Configure OpenScale <a name=\"openscale\"></a>"
        },
        {
            "cell_type": "markdown",
            "metadata": {},
            "source": "The notebook will now import the necessary libraries and set up a Python OpenScale client."
        },
        {
            "cell_type": "code",
            "execution_count": 34,
            "metadata": {
                "scrolled": true
            },
            "outputs": [],
            "source": "from ibm_ai_openscale import APIClient\nfrom ibm_ai_openscale.engines import *\nfrom ibm_ai_openscale.utils import *\nfrom ibm_ai_openscale.supporting_classes import PayloadRecord, Feature\nfrom ibm_ai_openscale.supporting_classes.enums import *"
        },
        {
            "cell_type": "markdown",
            "metadata": {},
            "source": "### Get Watson OpenScale GUID"
        },
        {
            "cell_type": "markdown",
            "metadata": {},
            "source": "Each instance of OpenScale has a unique ID. We can get this value using the Cloud API key specified at the beginning of the notebook."
        },
        {
            "cell_type": "code",
            "execution_count": 35,
            "metadata": {},
            "outputs": [
                {
                    "name": "stdout",
                    "output_type": "stream",
                    "text": "27d2155a-b202-44ac-955e-ee20b64f6c89\n"
                }
            ],
            "source": "import requests\nfrom ibm_ai_openscale.utils import get_instance_guid\n\n\nWOS_GUID = get_instance_guid(api_key=CLOUD_API_KEY)\nWOS_CREDENTIALS = {\n    \"instance_guid\": WOS_GUID,\n    \"apikey\": CLOUD_API_KEY,\n    \"url\": \"https://api.aiopenscale.cloud.ibm.com\"\n}\n\nif WOS_GUID is None:\n    print('Watson OpenScale GUID NOT FOUND')\nelse:\n    print(WOS_GUID)"
        },
        {
            "cell_type": "markdown",
            "metadata": {},
            "source": "If Watson OpenScale GUID has not been found you need provide the GUID to variabe `WOS_GUID`.\n\n#### Get OpenScale `instance_guid` \n\nHow to install IBM Cloud (bluemix) console: [instruction](https://console.bluemix.net/docs/cli/reference/ibmcloud/download_cli.html#install_use)\n\n\n\nHow to get your OpenScale instance GUID\n- log in to IBM Cloud:\n```\nbx login --sso\n```\n- if your resource group is different than `default` switch to resource group containing OpenScale instance\n```\nbx target -g <myResourceGroup>\n```\n- get details of the instance\n```\nbx resource service-instance 'AI-OpenScale-instance_name'\n```"
        },
        {
            "cell_type": "code",
            "execution_count": 36,
            "metadata": {
                "scrolled": true
            },
            "outputs": [
                {
                    "data": {
                        "text/plain": "'2.1.19'"
                    },
                    "execution_count": 36,
                    "metadata": {},
                    "output_type": "execute_result"
                }
            ],
            "source": "ai_client = APIClient(aios_credentials=WOS_CREDENTIALS)\nai_client.version"
        },
        {
            "cell_type": "markdown",
            "metadata": {},
            "source": "## Create schema and datamart"
        },
        {
            "cell_type": "markdown",
            "metadata": {},
            "source": "### Set up datamart"
        },
        {
            "cell_type": "markdown",
            "metadata": {},
            "source": "Watson OpenScale uses a database to store payload logs and calculated metrics. If database credentials were **not** supplied above, the notebook will use the free, internal lite database. If database credentials were supplied, the datamart will be created there **unless** there is an existing datamart **and** the **KEEP_MY_INTERNAL_POSTGRES** variable is set to **True**. If an OpenScale datamart exists in Db2 or PostgreSQL, the existing datamart will be used and no data will be overwritten.\n\nPrior instances of the German Credit model will be removed from OpenScale monitoring."
        },
        {
            "cell_type": "code",
            "execution_count": 37,
            "metadata": {},
            "outputs": [
                {
                    "name": "stdout",
                    "output_type": "stream",
                    "text": "Using existing internal datamart.\n"
                }
            ],
            "source": "try:\n    data_mart_details = ai_client.data_mart.get_details()\n    if 'internal_database' in data_mart_details and data_mart_details['internal_database']:\n        if KEEP_MY_INTERNAL_POSTGRES:\n            print('Using existing internal datamart.')\n        else:\n            if DB_CREDENTIALS is None:\n                print('No postgres credentials supplied. Using existing internal datamart')\n            else:\n                print('Switching to external datamart')\n                ai_client.data_mart.delete(force=True)\n                ai_client.data_mart.setup(db_credentials=DB_CREDENTIALS)\n    else:\n        print('Using existing external datamart')\nexcept:\n    if DB_CREDENTIALS is None:\n        print('Setting up internal datamart')\n        ai_client.data_mart.setup(internal_db=True)\n    else:\n        print('Setting up external datamart')\n        try:\n            ai_client.data_mart.setup(db_credentials=DB_CREDENTIALS)\n        except:\n            print('Setup failed, trying Db2 setup')\n            ai_client.data_mart.setup(db_credentials=DB_CREDENTIALS, schema=DB_CREDENTIALS['username'])\n    "
        },
        {
            "cell_type": "code",
            "execution_count": 38,
            "metadata": {
                "scrolled": true
            },
            "outputs": [],
            "source": "data_mart_details = ai_client.data_mart.get_details()"
        },
        {
            "cell_type": "markdown",
            "metadata": {},
            "source": "## Bind machine learning engines"
        },
        {
            "cell_type": "markdown",
            "metadata": {},
            "source": "Watson OpenScale needs to be bound to the Watson Machine Learning instance to capture payload data into and out of the model. If this binding already exists, this code will output a warning message and use the existing binding."
        },
        {
            "cell_type": "markdown",
            "metadata": {},
            "source": "**Note:** You can bind more than one engine instance if needed by calling `ai_client.data_mart.bindings.add` method. Next, you can refer to particular binding using `binding_uid`."
        },
        {
            "cell_type": "code",
            "execution_count": 39,
            "metadata": {
                "scrolled": false
            },
            "outputs": [
                {
                    "name": "stdout",
                    "output_type": "stream",
                    "text": "Warning during bind instance.\nStatus code: 409, body: {\"errors\":[{\"code\":\"AIQCS0010W\",\"message\":\"Service Binding with this id is already defined\"}],\"trace\":\"ZDZhMTE1MmMtZTA5Yy00OTA3LWFhMWQtYmJkODI2MDk1Njg3\"}\n"
                },
                {
                    "data": {
                        "text/html": "<HTML>\n        <body>\n            <h3>Service bindings</h3>\n            <table style='border: 1px solid #dddddd; font-family: Courier'>\n                <th style='border: 1px solid #dddddd'>uid</th><th style='border: 1px solid #dddddd'>name</th><th style='border: 1px solid #dddddd'>service_type</th><th style='border: 1px solid #dddddd'>created</th>\n                <tr><td style='border: 1px solid #dddddd'>a4729971-8653-4aae-a7ab-624185056799</td><td style='border: 1px solid #dddddd'>WML instance</td><td style='border: 1px solid #dddddd'>watson_machine_learning</td><td style='border: 1px solid #dddddd'>2019-11-19T15:18:21.910Z</td></tr>\n            </table>\n        </body>\n        </HTML>",
                        "text/plain": "<IPython.core.display.HTML object>"
                    },
                    "metadata": {},
                    "output_type": "display_data"
                }
            ],
            "source": "binding_uid = ai_client.data_mart.bindings.add('WML instance', WatsonMachineLearningInstance(WML_CREDENTIALS))\nif binding_uid is None:\n    binding_uid = ai_client.data_mart.bindings.get_details()['service_bindings'][0]['metadata']['guid']\nbindings_details = ai_client.data_mart.bindings.get_details()\nai_client.data_mart.bindings.list()"
        },
        {
            "cell_type": "code",
            "execution_count": 40,
            "metadata": {
                "scrolled": true
            },
            "outputs": [
                {
                    "name": "stdout",
                    "output_type": "stream",
                    "text": "a4729971-8653-4aae-a7ab-624185056799\n"
                }
            ],
            "source": "print(binding_uid)"
        },
        {
            "cell_type": "code",
            "execution_count": 41,
            "metadata": {
                "scrolled": false
            },
            "outputs": [
                {
                    "data": {
                        "text/html": "<HTML>\n        <body>\n            <h3>Available assets</h3>\n            <table style='border: 1px solid #dddddd; font-family: Courier'>\n                <th style='border: 1px solid #dddddd'>source_uid</th><th style='border: 1px solid #dddddd'>name</th><th style='border: 1px solid #dddddd'>created</th><th style='border: 1px solid #dddddd'>type</th><th style='border: 1px solid #dddddd'>frameworks</th><th style='border: 1px solid #dddddd'>binding_uid</th><th style='border: 1px solid #dddddd'>is_subscribed</th>\n                <tr><td style='border: 1px solid #dddddd'>fed54fed-f6dd-4dbc-98b0-135c89ff02bc</td><td style='border: 1px solid #dddddd'>Spark German Risk Model - Final</td><td style='border: 1px solid #dddddd'>2019-11-21T12:54:32.766Z</td><td style='border: 1px solid #dddddd'>model</td><td style='border: 1px solid #dddddd'>mllib-2.3</td><td style='border: 1px solid #dddddd'>a4729971-8653-4aae-a7ab-624185056799</td><td style='border: 1px solid #dddddd'>False</td></tr><tr><td style='border: 1px solid #dddddd'>85f95534-50ef-4f8f-839a-86dc0e501178</td><td style='border: 1px solid #dddddd'>GermanCreditRiskModelYPQA</td><td style='border: 1px solid #dddddd'>2019-10-25T08:46:21.795Z</td><td style='border: 1px solid #dddddd'>model</td><td style='border: 1px solid #dddddd'>mllib-2.3</td><td style='border: 1px solid #dddddd'>a4729971-8653-4aae-a7ab-624185056799</td><td style='border: 1px solid #dddddd'>False</td></tr><tr><td style='border: 1px solid #dddddd'>6a1b8908-6df4-4af0-b991-a547ab009bea</td><td style='border: 1px solid #dddddd'>AIOS Spark Credit Risk model xFg</td><td style='border: 1px solid #dddddd'>2019-10-24T12:43:01.316Z</td><td style='border: 1px solid #dddddd'>model</td><td style='border: 1px solid #dddddd'>mllib-2.3</td><td style='border: 1px solid #dddddd'>a4729971-8653-4aae-a7ab-624185056799</td><td style='border: 1px solid #dddddd'>False</td></tr><tr><td style='border: 1px solid #dddddd'>b66a65f6-b1a9-4c85-97c5-004072847a6f</td><td style='border: 1px solid #dddddd'>BID_detector_CIFAR10</td><td style='border: 1px solid #dddddd'>2019-07-01T00:28:47.752Z</td><td style='border: 1px solid #dddddd'>model</td><td style='border: 1px solid #dddddd'>tensorflow-1.11</td><td style='border: 1px solid #dddddd'>a4729971-8653-4aae-a7ab-624185056799</td><td style='border: 1px solid #dddddd'>False</td></tr><tr><td style='border: 1px solid #dddddd'>f81bf4f9-9877-49b2-b400-b3de965d12e7</td><td style='border: 1px solid #dddddd'>Image-classifier</td><td style='border: 1px solid #dddddd'>2019-06-28T07:02:53.259Z</td><td style='border: 1px solid #dddddd'>model</td><td style='border: 1px solid #dddddd'>tensorflow-1.11</td><td style='border: 1px solid #dddddd'>a4729971-8653-4aae-a7ab-624185056799</td><td style='border: 1px solid #dddddd'>False</td></tr>\n            </table>\n        </body>\n        </HTML>",
                        "text/plain": "<IPython.core.display.HTML object>"
                    },
                    "metadata": {},
                    "output_type": "display_data"
                }
            ],
            "source": "ai_client.data_mart.bindings.list_assets()"
        },
        {
            "cell_type": "markdown",
            "metadata": {},
            "source": "## Subscriptions"
        },
        {
            "cell_type": "markdown",
            "metadata": {},
            "source": "### Remove existing credit risk subscriptions"
        },
        {
            "cell_type": "markdown",
            "metadata": {},
            "source": "This code removes previous subscriptions to the German Credit model to refresh the monitors with the new model and new data."
        },
        {
            "cell_type": "code",
            "execution_count": 42,
            "metadata": {
                "scrolled": true
            },
            "outputs": [
                {
                    "name": "stdout",
                    "output_type": "stream",
                    "text": "Deleted existing subscription for Spark German Risk Model - Final\n"
                }
            ],
            "source": "subscriptions_uids = ai_client.data_mart.subscriptions.get_uids()\nfor subscription in subscriptions_uids:\n    sub_name = ai_client.data_mart.subscriptions.get_details(subscription)['entity']['asset']['name']\n    if sub_name == MODEL_NAME:\n        ai_client.data_mart.subscriptions.delete(subscription)\n        print('Deleted existing subscription for', MODEL_NAME)"
        },
        {
            "cell_type": "markdown",
            "metadata": {},
            "source": "This code creates the model subscription in OpenScale using the Python client API. Note that we need to provide the model unique identifier, and some information about the model itself."
        },
        {
            "cell_type": "code",
            "execution_count": 43,
            "metadata": {
                "scrolled": false
            },
            "outputs": [],
            "source": "subscription = ai_client.data_mart.subscriptions.add(WatsonMachineLearningAsset(\n    model_uid,\n    problem_type=ProblemType.BINARY_CLASSIFICATION,\n    input_data_type=InputDataType.STRUCTURED,\n    label_column='Risk',\n    prediction_column='predictedLabel',\n    probability_column='probability',\n    feature_columns = [\"CheckingStatus\",\"LoanDuration\",\"CreditHistory\",\"LoanPurpose\",\"LoanAmount\",\"ExistingSavings\",\"EmploymentDuration\",\"InstallmentPercent\",\"Sex\",\"OthersOnLoan\",\"CurrentResidenceDuration\",\"OwnsProperty\",\"Age\",\"InstallmentPlans\",\"Housing\",\"ExistingCreditsCount\",\"Job\",\"Dependents\",\"Telephone\",\"ForeignWorker\"],\n    categorical_columns = [\"CheckingStatus\",\"CreditHistory\",\"LoanPurpose\",\"ExistingSavings\",\"EmploymentDuration\",\"Sex\",\"OthersOnLoan\",\"OwnsProperty\",\"InstallmentPlans\",\"Housing\",\"Job\",\"Telephone\",\"ForeignWorker\"]\n))\n\nif subscription is None:\n    print('Subscription already exists; get the existing one')\n    subscriptions_uids = ai_client.data_mart.subscriptions.get_uids()\n    for sub in subscriptions_uids:\n        if ai_client.data_mart.subscriptions.get_details(sub)['entity']['asset']['name'] == MODEL_NAME:\n            subscription = ai_client.data_mart.subscriptions.get(sub)"
        },
        {
            "cell_type": "markdown",
            "metadata": {},
            "source": "Get subscription list"
        },
        {
            "cell_type": "code",
            "execution_count": 44,
            "metadata": {
                "scrolled": true
            },
            "outputs": [
                {
                    "data": {
                        "text/html": "<HTML>\n        <body>\n            <h3>Subscriptions</h3>\n            <table style='border: 1px solid #dddddd; font-family: Courier'>\n                <th style='border: 1px solid #dddddd'>uid</th><th style='border: 1px solid #dddddd'>name</th><th style='border: 1px solid #dddddd'>type</th><th style='border: 1px solid #dddddd'>binding_uid</th><th style='border: 1px solid #dddddd'>created</th>\n                <tr><td style='border: 1px solid #dddddd'>ace63d35-1615-4d4d-874c-12eb3908a1f9</td><td style='border: 1px solid #dddddd'>Spark German Risk Model - Final</td><td style='border: 1px solid #dddddd'>model</td><td style='border: 1px solid #dddddd'>a4729971-8653-4aae-a7ab-624185056799</td><td style='border: 1px solid #dddddd'>2019-11-21T12:54:47.667Z</td></tr>\n            </table>\n        </body>\n        </HTML>",
                        "text/plain": "<IPython.core.display.HTML object>"
                    },
                    "metadata": {},
                    "output_type": "display_data"
                }
            ],
            "source": "subscriptions_uids = ai_client.data_mart.subscriptions.get_uids()\nai_client.data_mart.subscriptions.list()"
        },
        {
            "cell_type": "code",
            "execution_count": 45,
            "metadata": {
                "scrolled": false
            },
            "outputs": [],
            "source": "subscription_details = subscription.get_details()"
        },
        {
            "cell_type": "code",
            "execution_count": 46,
            "metadata": {},
            "outputs": [
                {
                    "data": {
                        "text/plain": "'ace63d35-1615-4d4d-874c-12eb3908a1f9'"
                    },
                    "execution_count": 46,
                    "metadata": {},
                    "output_type": "execute_result"
                }
            ],
            "source": "subscription.uid"
        },
        {
            "cell_type": "markdown",
            "metadata": {},
            "source": "### Score the model so we can configure monitors"
        },
        {
            "cell_type": "markdown",
            "metadata": {},
            "source": "Now that the WML service has been bound and the subscription has been created, we need to send a request to the model before we configure OpenScale. This allows OpenScale to create a payload log in the datamart with the correct schema, so it can capture data coming into and out of the model. First, the code gets the model deployment's endpoint URL, and then sends a few records for predictions."
        },
        {
            "cell_type": "code",
            "execution_count": 47,
            "metadata": {
                "scrolled": true
            },
            "outputs": [
                {
                    "name": "stdout",
                    "output_type": "stream",
                    "text": "3a27328f-e8f2-4143-8e84-969da2450da7\nhttps://us-south.ml.cloud.ibm.com/v3/wml_instances/a4729971-8653-4aae-a7ab-624185056799/deployments/3a27328f-e8f2-4143-8e84-969da2450da7/online\n"
                }
            ],
            "source": "credit_risk_scoring_endpoint = None\nprint(deployment_uid)\n\nfor deployment in wml_client.deployments.get_details()['resources']:\n    if deployment_uid in deployment['metadata']['guid']:\n        credit_risk_scoring_endpoint = deployment['entity']['scoring_url']\n        \nprint(credit_risk_scoring_endpoint)"
        },
        {
            "cell_type": "code",
            "execution_count": 48,
            "metadata": {
                "scrolled": true
            },
            "outputs": [
                {
                    "name": "stdout",
                    "output_type": "stream",
                    "text": "Single record scoring result: \n fields: ['CheckingStatus', 'LoanDuration', 'CreditHistory', 'LoanPurpose', 'LoanAmount', 'ExistingSavings', 'EmploymentDuration', 'InstallmentPercent', 'Sex', 'OthersOnLoan', 'CurrentResidenceDuration', 'OwnsProperty', 'Age', 'InstallmentPlans', 'Housing', 'ExistingCreditsCount', 'Job', 'Dependents', 'Telephone', 'ForeignWorker', 'CheckingStatus_IX', 'CreditHistory_IX', 'EmploymentDuration_IX', 'ExistingSavings_IX', 'ForeignWorker_IX', 'Housing_IX', 'InstallmentPlans_IX', 'Job_IX', 'LoanPurpose_IX', 'OthersOnLoan_IX', 'OwnsProperty_IX', 'Sex_IX', 'Telephone_IX', 'features', 'rawPrediction', 'probability', 'prediction', 'predictedLabel'] \n values:  ['no_checking', 13, 'credits_paid_to_date', 'car_new', 1343, '100_to_500', '1_to_4', 2, 'female', 'none', 3, 'savings_insurance', 46, 'none', 'own', 2, 'skilled', 1, 'none', 'yes', 0.0, 1.0, 0.0, 1.0, 0.0, 0.0, 0.0, 0.0, 0.0, 0.0, 0.0, 1.0, 0.0, [21, [1, 3, 5, 13, 14, 15, 16, 17, 18, 19, 20], [1.0, 1.0, 1.0, 13.0, 1343.0, 2.0, 3.0, 13.0, 46.0, 2.0, 1.0]], [14.525690563474964, 5.474309436525037], [0.7262845281737482, 0.2737154718262519], 0.0, 'No Risk']\n"
                }
            ],
            "source": "fields = [\"CheckingStatus\",\"LoanDuration\",\"CreditHistory\",\"LoanPurpose\",\"LoanAmount\",\"ExistingSavings\",\"EmploymentDuration\",\"InstallmentPercent\",\"Sex\",\"OthersOnLoan\",\"CurrentResidenceDuration\",\"OwnsProperty\",\"Age\",\"InstallmentPlans\",\"Housing\",\"ExistingCreditsCount\",\"Job\",\"Dependents\",\"Telephone\",\"ForeignWorker\"]\nvalues = [\n  [\"no_checking\",13,\"credits_paid_to_date\",\"car_new\",1343,\"100_to_500\",\"1_to_4\",2,\"female\",\"none\",3,\"savings_insurance\",46,\"none\",\"own\",2,\"skilled\",1,\"none\",\"yes\"],\n  [\"no_checking\",24,\"prior_payments_delayed\",\"furniture\",4567,\"500_to_1000\",\"1_to_4\",4,\"male\",\"none\",4,\"savings_insurance\",36,\"none\",\"free\",2,\"management_self-employed\",1,\"none\",\"yes\"],\n  [\"0_to_200\",26,\"all_credits_paid_back\",\"car_new\",863,\"less_100\",\"less_1\",2,\"female\",\"co-applicant\",2,\"real_estate\",38,\"none\",\"own\",1,\"skilled\",1,\"none\",\"yes\"],\n  [\"0_to_200\",14,\"no_credits\",\"car_new\",2368,\"less_100\",\"1_to_4\",3,\"female\",\"none\",3,\"real_estate\",29,\"none\",\"own\",1,\"skilled\",1,\"none\",\"yes\"],\n  [\"0_to_200\",4,\"no_credits\",\"car_new\",250,\"less_100\",\"unemployed\",2,\"female\",\"none\",3,\"real_estate\",23,\"none\",\"rent\",1,\"management_self-employed\",1,\"none\",\"yes\"],\n  [\"no_checking\",17,\"credits_paid_to_date\",\"car_new\",832,\"100_to_500\",\"1_to_4\",2,\"male\",\"none\",2,\"real_estate\",42,\"none\",\"own\",1,\"skilled\",1,\"none\",\"yes\"],\n  [\"no_checking\",33,\"outstanding_credit\",\"appliances\",5696,\"unknown\",\"greater_7\",4,\"male\",\"co-applicant\",4,\"unknown\",54,\"none\",\"free\",2,\"skilled\",1,\"yes\",\"yes\"],\n  [\"0_to_200\",13,\"prior_payments_delayed\",\"retraining\",1375,\"100_to_500\",\"4_to_7\",3,\"male\",\"none\",3,\"real_estate\",37,\"none\",\"own\",2,\"management_self-employed\",1,\"none\",\"yes\"]\n]\n\npayload_scoring = {\"fields\": fields,\"values\": values}\nscoring_response = wml_client.deployments.score(credit_risk_scoring_endpoint, payload_scoring)\n\nprint('Single record scoring result:', '\\n fields:', scoring_response['fields'], '\\n values: ', scoring_response['values'][0])"
        },
        {
            "cell_type": "code",
            "execution_count": 49,
            "metadata": {},
            "outputs": [
                {
                    "data": {
                        "text/plain": "8"
                    },
                    "execution_count": 49,
                    "metadata": {},
                    "output_type": "execute_result"
                }
            ],
            "source": "time.sleep(10)\nsubscription.payload_logging.get_records_count()"
        },
        {
            "cell_type": "markdown",
            "metadata": {},
            "source": "# Quality monitoring and feedback logging <a name=\"quality\"></a>"
        },
        {
            "cell_type": "markdown",
            "metadata": {},
            "source": "## Enable quality monitoring"
        },
        {
            "cell_type": "markdown",
            "metadata": {},
            "source": "The code below waits ten seconds to allow the payload logging table to be set up before it begins enabling monitors. First, it turns on the quality (accuracy) monitor and sets an alert threshold of 70%. OpenScale will show an alert on the dashboard if the model accuracy measurement (area under the curve, in the case of a binary classifier) falls below this threshold.\n\nThe second paramater supplied, min_records, specifies the minimum number of feedback records OpenScale needs before it calculates a new measurement. The quality monitor runs hourly, but the accuracy reading in the dashboard will not change until an additional 50 feedback records have been added, via the user interface, the Python client, or the supplied feedback endpoint."
        },
        {
            "cell_type": "code",
            "execution_count": 50,
            "metadata": {
                "scrolled": true
            },
            "outputs": [],
            "source": "time.sleep(10)\nsubscription.quality_monitoring.enable(threshold=0.7, min_records=50)"
        },
        {
            "cell_type": "markdown",
            "metadata": {},
            "source": "## Feedback logging"
        },
        {
            "cell_type": "markdown",
            "metadata": {},
            "source": "The code below downloads and stores enough feedback data to meet the minimum threshold so that OpenScale can calculate a new accuracy measurement. It then kicks off the accuracy monitor. The monitors run hourly, or can be initiated via the Python API, the REST API, or the graphical user interface."
        },
        {
            "cell_type": "code",
            "execution_count": 51,
            "metadata": {},
            "outputs": [
                {
                    "name": "stdout",
                    "output_type": "stream",
                    "text": "-rw-r--r-- 1 spark 4294967294 17K Nov 21 12:55 additional_feedback_data.json\r\n"
                }
            ],
            "source": "with io.capture_output() as captured:\n    !wget https://raw.githubusercontent.com/pmservice/ai-openscale-tutorials/master/assets/historical_data/german_credit_risk/wml/additional_feedback_data.json -O additional_feedback_data.json\n!ls -lh additional_feedback_data.json"
        },
        {
            "cell_type": "code",
            "execution_count": 52,
            "metadata": {},
            "outputs": [],
            "source": "with open('additional_feedback_data.json') as feedback_file:\n    additional_feedback_data = json.load(feedback_file)\n    \nsubscription.feedback_logging.store(additional_feedback_data['data'])"
        },
        {
            "cell_type": "code",
            "execution_count": 53,
            "metadata": {
                "scrolled": true
            },
            "outputs": [
                {
                    "data": {
                        "text/html": "<HTML>\n        <body>\n            <h3>Feedback_ace63d35-1615-4d4d-874c-12eb3908a1f9 (binding_id=a4729971-8653-4aae-a7ab-624185056799, subscription_id=ace63d35-1615-4d4d-874c-12eb3908a1f9)</h3>\n            <table style='border: 1px solid #dddddd; font-family: Courier'>\n                <th style='border: 1px solid #dddddd'>CheckingStatus</th><th style='border: 1px solid #dddddd'>LoanDuration</th><th style='border: 1px solid #dddddd'>CreditHistory</th><th style='border: 1px solid #dddddd'>LoanPurpose</th><th style='border: 1px solid #dddddd'>LoanAmount</th><th style='border: 1px solid #dddddd'>ExistingSavings</th><th style='border: 1px solid #dddddd'>EmploymentDuration</th><th style='border: 1px solid #dddddd'>InstallmentPercent</th><th style='border: 1px solid #dddddd'>Sex</th><th style='border: 1px solid #dddddd'>OthersOnLoan</th><th style='border: 1px solid #dddddd'>CurrentResidenceDuration</th><th style='border: 1px solid #dddddd'>OwnsProperty</th><th style='border: 1px solid #dddddd'>Age</th><th style='border: 1px solid #dddddd'>InstallmentPlans</th><th style='border: 1px solid #dddddd'>Housing</th><th style='border: 1px solid #dddddd'>ExistingCreditsCount</th><th style='border: 1px solid #dddddd'>Job</th><th style='border: 1px solid #dddddd'>Dependents</th><th style='border: 1px solid #dddddd'>Telephone</th><th style='border: 1px solid #dddddd'>ForeignWorker</th><th style='border: 1px solid #dddddd'>Risk</th><th style='border: 1px solid #dddddd'>_training</th>\n                <tr><td style='border: 1px solid #dddddd'>less_0</td><td style='border: 1px solid #dddddd'>10</td><td style='border: 1px solid #dddddd'>all_credits_paid_back</td><td style='border: 1px solid #dddddd'>car_new</td><td style='border: 1px solid #dddddd'>250</td><td style='border: 1px solid #dddddd'>500_to_1000</td><td style='border: 1px solid #dddddd'>4_to_7</td><td style='border: 1px solid #dddddd'>3</td><td style='border: 1px solid #dddddd'>male</td><td style='border: 1px solid #dddddd'>none</td><td style='border: 1px solid #dddddd'>2</td><td style='border: 1px solid #dddddd'>real_estate</td><td style='border: 1px solid #dddddd'>23</td><td style='border: 1px solid #dddddd'>none</td><td style='border: 1px solid #dddddd'>rent</td><td style='border: 1px solid #dddddd'>1</td><td style='border: 1px solid #dddddd'>skilled</td><td style='border: 1px solid #dddddd'>1</td><td style='border: 1px solid #dddddd'>none</td><td style='border: 1px solid #dddddd'>yes</td><td style='border: 1px solid #dddddd'>No Risk</td><td style='border: 1px solid #dddddd'>2019-11-21 12:55:15.359508+00:00</td></tr><tr><td style='border: 1px solid #dddddd'>no_checking</td><td style='border: 1px solid #dddddd'>23</td><td style='border: 1px solid #dddddd'>prior_payments_delayed</td><td style='border: 1px solid #dddddd'>appliances</td><td style='border: 1px solid #dddddd'>6964</td><td style='border: 1px solid #dddddd'>100_to_500</td><td style='border: 1px solid #dddddd'>4_to_7</td><td style='border: 1px solid #dddddd'>4</td><td style='border: 1px solid #dddddd'>female</td><td style='border: 1px solid #dddddd'>none</td><td style='border: 1px solid #dddddd'>3</td><td style='border: 1px solid #dddddd'>car_other</td><td style='border: 1px solid #dddddd'>39</td><td style='border: 1px solid #dddddd'>none</td><td style='border: 1px solid #dddddd'>own</td><td style='border: 1px solid #dddddd'>1</td><td style='border: 1px solid #dddddd'>skilled</td><td style='border: 1px solid #dddddd'>1</td><td style='border: 1px solid #dddddd'>none</td><td style='border: 1px solid #dddddd'>yes</td><td style='border: 1px solid #dddddd'>Risk</td><td style='border: 1px solid #dddddd'>2019-11-21 12:55:15.359508+00:00</td></tr><tr><td style='border: 1px solid #dddddd'>0_to_200</td><td style='border: 1px solid #dddddd'>30</td><td style='border: 1px solid #dddddd'>outstanding_credit</td><td style='border: 1px solid #dddddd'>appliances</td><td style='border: 1px solid #dddddd'>3464</td><td style='border: 1px solid #dddddd'>100_to_500</td><td style='border: 1px solid #dddddd'>greater_7</td><td style='border: 1px solid #dddddd'>3</td><td style='border: 1px solid #dddddd'>male</td><td style='border: 1px solid #dddddd'>guarantor</td><td style='border: 1px solid #dddddd'>4</td><td style='border: 1px solid #dddddd'>savings_insurance</td><td style='border: 1px solid #dddddd'>51</td><td style='border: 1px solid #dddddd'>stores</td><td style='border: 1px solid #dddddd'>free</td><td style='border: 1px solid #dddddd'>1</td><td style='border: 1px solid #dddddd'>skilled</td><td style='border: 1px solid #dddddd'>1</td><td style='border: 1px solid #dddddd'>yes</td><td style='border: 1px solid #dddddd'>yes</td><td style='border: 1px solid #dddddd'>Risk</td><td style='border: 1px solid #dddddd'>2019-11-21 12:55:15.359508+00:00</td></tr><tr><td style='border: 1px solid #dddddd'>no_checking</td><td style='border: 1px solid #dddddd'>23</td><td style='border: 1px solid #dddddd'>outstanding_credit</td><td style='border: 1px solid #dddddd'>car_used</td><td style='border: 1px solid #dddddd'>2681</td><td style='border: 1px solid #dddddd'>500_to_1000</td><td style='border: 1px solid #dddddd'>greater_7</td><td style='border: 1px solid #dddddd'>4</td><td style='border: 1px solid #dddddd'>male</td><td style='border: 1px solid #dddddd'>none</td><td style='border: 1px solid #dddddd'>3</td><td style='border: 1px solid #dddddd'>car_other</td><td style='border: 1px solid #dddddd'>33</td><td style='border: 1px solid #dddddd'>stores</td><td style='border: 1px solid #dddddd'>free</td><td style='border: 1px solid #dddddd'>1</td><td style='border: 1px solid #dddddd'>unskilled</td><td style='border: 1px solid #dddddd'>1</td><td style='border: 1px solid #dddddd'>yes</td><td style='border: 1px solid #dddddd'>yes</td><td style='border: 1px solid #dddddd'>No Risk</td><td style='border: 1px solid #dddddd'>2019-11-21 12:55:15.359508+00:00</td></tr><tr><td style='border: 1px solid #dddddd'>0_to_200</td><td style='border: 1px solid #dddddd'>18</td><td style='border: 1px solid #dddddd'>prior_payments_delayed</td><td style='border: 1px solid #dddddd'>furniture</td><td style='border: 1px solid #dddddd'>1673</td><td style='border: 1px solid #dddddd'>less_100</td><td style='border: 1px solid #dddddd'>1_to_4</td><td style='border: 1px solid #dddddd'>2</td><td style='border: 1px solid #dddddd'>male</td><td style='border: 1px solid #dddddd'>none</td><td style='border: 1px solid #dddddd'>3</td><td style='border: 1px solid #dddddd'>car_other</td><td style='border: 1px solid #dddddd'>30</td><td style='border: 1px solid #dddddd'>none</td><td style='border: 1px solid #dddddd'>own</td><td style='border: 1px solid #dddddd'>2</td><td style='border: 1px solid #dddddd'>skilled</td><td style='border: 1px solid #dddddd'>1</td><td style='border: 1px solid #dddddd'>none</td><td style='border: 1px solid #dddddd'>yes</td><td style='border: 1px solid #dddddd'>Risk</td><td style='border: 1px solid #dddddd'>2019-11-21 12:55:15.359508+00:00</td></tr><tr><td style='border: 1px solid #dddddd'>no_checking</td><td style='border: 1px solid #dddddd'>44</td><td style='border: 1px solid #dddddd'>outstanding_credit</td><td style='border: 1px solid #dddddd'>radio_tv</td><td style='border: 1px solid #dddddd'>3476</td><td style='border: 1px solid #dddddd'>unknown</td><td style='border: 1px solid #dddddd'>greater_7</td><td style='border: 1px solid #dddddd'>4</td><td style='border: 1px solid #dddddd'>male</td><td style='border: 1px solid #dddddd'>co-applicant</td><td style='border: 1px solid #dddddd'>4</td><td style='border: 1px solid #dddddd'>unknown</td><td style='border: 1px solid #dddddd'>60</td><td style='border: 1px solid #dddddd'>none</td><td style='border: 1px solid #dddddd'>free</td><td style='border: 1px solid #dddddd'>2</td><td style='border: 1px solid #dddddd'>skilled</td><td style='border: 1px solid #dddddd'>2</td><td style='border: 1px solid #dddddd'>yes</td><td style='border: 1px solid #dddddd'>yes</td><td style='border: 1px solid #dddddd'>Risk</td><td style='border: 1px solid #dddddd'>2019-11-21 12:55:15.359508+00:00</td></tr><tr><td style='border: 1px solid #dddddd'>less_0</td><td style='border: 1px solid #dddddd'>8</td><td style='border: 1px solid #dddddd'>no_credits</td><td style='border: 1px solid #dddddd'>education</td><td style='border: 1px solid #dddddd'>803</td><td style='border: 1px solid #dddddd'>less_100</td><td style='border: 1px solid #dddddd'>unemployed</td><td style='border: 1px solid #dddddd'>1</td><td style='border: 1px solid #dddddd'>male</td><td style='border: 1px solid #dddddd'>none</td><td style='border: 1px solid #dddddd'>1</td><td style='border: 1px solid #dddddd'>savings_insurance</td><td style='border: 1px solid #dddddd'>19</td><td style='border: 1px solid #dddddd'>stores</td><td style='border: 1px solid #dddddd'>rent</td><td style='border: 1px solid #dddddd'>1</td><td style='border: 1px solid #dddddd'>skilled</td><td style='border: 1px solid #dddddd'>1</td><td style='border: 1px solid #dddddd'>none</td><td style='border: 1px solid #dddddd'>yes</td><td style='border: 1px solid #dddddd'>No Risk</td><td style='border: 1px solid #dddddd'>2019-11-21 12:55:15.359508+00:00</td></tr><tr><td style='border: 1px solid #dddddd'>0_to_200</td><td style='border: 1px solid #dddddd'>7</td><td style='border: 1px solid #dddddd'>all_credits_paid_back</td><td style='border: 1px solid #dddddd'>car_new</td><td style='border: 1px solid #dddddd'>250</td><td style='border: 1px solid #dddddd'>less_100</td><td style='border: 1px solid #dddddd'>unemployed</td><td style='border: 1px solid #dddddd'>1</td><td style='border: 1px solid #dddddd'>male</td><td style='border: 1px solid #dddddd'>none</td><td style='border: 1px solid #dddddd'>1</td><td style='border: 1px solid #dddddd'>real_estate</td><td style='border: 1px solid #dddddd'>19</td><td style='border: 1px solid #dddddd'>stores</td><td style='border: 1px solid #dddddd'>rent</td><td style='border: 1px solid #dddddd'>1</td><td style='border: 1px solid #dddddd'>skilled</td><td style='border: 1px solid #dddddd'>1</td><td style='border: 1px solid #dddddd'>none</td><td style='border: 1px solid #dddddd'>yes</td><td style='border: 1px solid #dddddd'>No Risk</td><td style='border: 1px solid #dddddd'>2019-11-21 12:55:15.359508+00:00</td></tr><tr><td style='border: 1px solid #dddddd'>0_to_200</td><td style='border: 1px solid #dddddd'>33</td><td style='border: 1px solid #dddddd'>credits_paid_to_date</td><td style='border: 1px solid #dddddd'>radio_tv</td><td style='border: 1px solid #dddddd'>3548</td><td style='border: 1px solid #dddddd'>100_to_500</td><td style='border: 1px solid #dddddd'>1_to_4</td><td style='border: 1px solid #dddddd'>3</td><td style='border: 1px solid #dddddd'>male</td><td style='border: 1px solid #dddddd'>none</td><td style='border: 1px solid #dddddd'>4</td><td style='border: 1px solid #dddddd'>car_other</td><td style='border: 1px solid #dddddd'>28</td><td style='border: 1px solid #dddddd'>none</td><td style='border: 1px solid #dddddd'>own</td><td style='border: 1px solid #dddddd'>2</td><td style='border: 1px solid #dddddd'>skilled</td><td style='border: 1px solid #dddddd'>1</td><td style='border: 1px solid #dddddd'>yes</td><td style='border: 1px solid #dddddd'>yes</td><td style='border: 1px solid #dddddd'>Risk</td><td style='border: 1px solid #dddddd'>2019-11-21 12:55:15.359508+00:00</td></tr><tr><td style='border: 1px solid #dddddd'>no_checking</td><td style='border: 1px solid #dddddd'>24</td><td style='border: 1px solid #dddddd'>prior_payments_delayed</td><td style='border: 1px solid #dddddd'>retraining</td><td style='border: 1px solid #dddddd'>4158</td><td style='border: 1px solid #dddddd'>100_to_500</td><td style='border: 1px solid #dddddd'>greater_7</td><td style='border: 1px solid #dddddd'>3</td><td style='border: 1px solid #dddddd'>female</td><td style='border: 1px solid #dddddd'>none</td><td style='border: 1px solid #dddddd'>2</td><td style='border: 1px solid #dddddd'>savings_insurance</td><td style='border: 1px solid #dddddd'>35</td><td style='border: 1px solid #dddddd'>stores</td><td style='border: 1px solid #dddddd'>own</td><td style='border: 1px solid #dddddd'>1</td><td style='border: 1px solid #dddddd'>unskilled</td><td style='border: 1px solid #dddddd'>2</td><td style='border: 1px solid #dddddd'>none</td><td style='border: 1px solid #dddddd'>yes</td><td style='border: 1px solid #dddddd'>Risk</td><td style='border: 1px solid #dddddd'>2019-11-21 12:55:15.359508+00:00</td></tr>\n            </table>\n        </body>\n        </HTML>",
                        "text/plain": "<IPython.core.display.HTML object>"
                    },
                    "metadata": {},
                    "output_type": "display_data"
                }
            ],
            "source": "subscription.feedback_logging.show_table()"
        },
        {
            "cell_type": "code",
            "execution_count": 54,
            "metadata": {
                "scrolled": true
            },
            "outputs": [
                {
                    "name": "stdout",
                    "output_type": "stream",
                    "text": "\n\n================================================================================\n\n Waiting for end of quality monitoring run c954918d-d0ce-4cb2-8bcb-7cab9f82cf0e \n\n================================================================================\n\n\n\ninitializing\ncompleted\n\n---------------------------\n Successfully finished run \n---------------------------\n\n\n"
                }
            ],
            "source": "run_details = subscription.quality_monitoring.run(background_mode=False)"
        },
        {
            "cell_type": "code",
            "execution_count": 55,
            "metadata": {
                "scrolled": true
            },
            "outputs": [
                {
                    "data": {
                        "text/html": "<HTML>\n        <body>\n            <h3>QualityMetrics (binding_id=a4729971-8653-4aae-a7ab-624185056799, subscription_id=ace63d35-1615-4d4d-874c-12eb3908a1f9)</h3>\n            <table style='border: 1px solid #dddddd; font-family: Courier'>\n                <th style='border: 1px solid #dddddd'>ts</th><th style='border: 1px solid #dddddd'>id</th><th style='border: 1px solid #dddddd'>measurement_id</th><th style='border: 1px solid #dddddd'>value</th><th style='border: 1px solid #dddddd'>lower limit</th><th style='border: 1px solid #dddddd'>upper limit</th><th style='border: 1px solid #dddddd'>tags</th><th style='border: 1px solid #dddddd'>binding_id</th><th style='border: 1px solid #dddddd'>subscription_id</th><th style='border: 1px solid #dddddd'>deployment_id</th>\n                <tr><td style='border: 1px solid #dddddd'>2019-11-21 12:55:20.058000+00:00</td><td style='border: 1px solid #dddddd'>true_positive_rate</td><td style='border: 1px solid #dddddd'>94810617-da0c-4fd0-a30b-0276e21d0096</td><td style='border: 1px solid #dddddd'>0.3939393939393939</td><td style='border: 1px solid #dddddd'></td><td style='border: 1px solid #dddddd'></td><td style='border: 1px solid #dddddd'>model_type: original</td><td style='border: 1px solid #dddddd'>a4729971-8653-4aae-a7ab-624185056799</td><td style='border: 1px solid #dddddd'>ace63d35-1615-4d4d-874c-12eb3908a1f9</td><td style='border: 1px solid #dddddd'>3a27328f-e8f2-4143-8e84-969da2450da7</td></tr><tr><td style='border: 1px solid #dddddd'>2019-11-21 12:55:20.058000+00:00</td><td style='border: 1px solid #dddddd'>area_under_roc</td><td style='border: 1px solid #dddddd'>94810617-da0c-4fd0-a30b-0276e21d0096</td><td style='border: 1px solid #dddddd'>0.6662004662004662</td><td style='border: 1px solid #dddddd'>0.7</td><td style='border: 1px solid #dddddd'></td><td style='border: 1px solid #dddddd'>model_type: original</td><td style='border: 1px solid #dddddd'>a4729971-8653-4aae-a7ab-624185056799</td><td style='border: 1px solid #dddddd'>ace63d35-1615-4d4d-874c-12eb3908a1f9</td><td style='border: 1px solid #dddddd'>3a27328f-e8f2-4143-8e84-969da2450da7</td></tr><tr><td style='border: 1px solid #dddddd'>2019-11-21 12:55:20.058000+00:00</td><td style='border: 1px solid #dddddd'>precision</td><td style='border: 1px solid #dddddd'>94810617-da0c-4fd0-a30b-0276e21d0096</td><td style='border: 1px solid #dddddd'>0.7647058823529411</td><td style='border: 1px solid #dddddd'></td><td style='border: 1px solid #dddddd'></td><td style='border: 1px solid #dddddd'>model_type: original</td><td style='border: 1px solid #dddddd'>a4729971-8653-4aae-a7ab-624185056799</td><td style='border: 1px solid #dddddd'>ace63d35-1615-4d4d-874c-12eb3908a1f9</td><td style='border: 1px solid #dddddd'>3a27328f-e8f2-4143-8e84-969da2450da7</td></tr><tr><td style='border: 1px solid #dddddd'>2019-11-21 12:55:20.058000+00:00</td><td style='border: 1px solid #dddddd'>f1_measure</td><td style='border: 1px solid #dddddd'>94810617-da0c-4fd0-a30b-0276e21d0096</td><td style='border: 1px solid #dddddd'>0.5199999999999999</td><td style='border: 1px solid #dddddd'></td><td style='border: 1px solid #dddddd'></td><td style='border: 1px solid #dddddd'>model_type: original</td><td style='border: 1px solid #dddddd'>a4729971-8653-4aae-a7ab-624185056799</td><td style='border: 1px solid #dddddd'>ace63d35-1615-4d4d-874c-12eb3908a1f9</td><td style='border: 1px solid #dddddd'>3a27328f-e8f2-4143-8e84-969da2450da7</td></tr><tr><td style='border: 1px solid #dddddd'>2019-11-21 12:55:20.058000+00:00</td><td style='border: 1px solid #dddddd'>accuracy</td><td style='border: 1px solid #dddddd'>94810617-da0c-4fd0-a30b-0276e21d0096</td><td style='border: 1px solid #dddddd'>0.7551020408163265</td><td style='border: 1px solid #dddddd'></td><td style='border: 1px solid #dddddd'></td><td style='border: 1px solid #dddddd'>model_type: original</td><td style='border: 1px solid #dddddd'>a4729971-8653-4aae-a7ab-624185056799</td><td style='border: 1px solid #dddddd'>ace63d35-1615-4d4d-874c-12eb3908a1f9</td><td style='border: 1px solid #dddddd'>3a27328f-e8f2-4143-8e84-969da2450da7</td></tr><tr><td style='border: 1px solid #dddddd'>2019-11-21 12:55:20.058000+00:00</td><td style='border: 1px solid #dddddd'>log_loss</td><td style='border: 1px solid #dddddd'>94810617-da0c-4fd0-a30b-0276e21d0096</td><td style='border: 1px solid #dddddd'>0.4329326242414696</td><td style='border: 1px solid #dddddd'></td><td style='border: 1px solid #dddddd'></td><td style='border: 1px solid #dddddd'>model_type: original</td><td style='border: 1px solid #dddddd'>a4729971-8653-4aae-a7ab-624185056799</td><td style='border: 1px solid #dddddd'>ace63d35-1615-4d4d-874c-12eb3908a1f9</td><td style='border: 1px solid #dddddd'>3a27328f-e8f2-4143-8e84-969da2450da7</td></tr><tr><td style='border: 1px solid #dddddd'>2019-11-21 12:55:20.058000+00:00</td><td style='border: 1px solid #dddddd'>false_positive_rate</td><td style='border: 1px solid #dddddd'>94810617-da0c-4fd0-a30b-0276e21d0096</td><td style='border: 1px solid #dddddd'>0.06153846153846154</td><td style='border: 1px solid #dddddd'></td><td style='border: 1px solid #dddddd'></td><td style='border: 1px solid #dddddd'>model_type: original</td><td style='border: 1px solid #dddddd'>a4729971-8653-4aae-a7ab-624185056799</td><td style='border: 1px solid #dddddd'>ace63d35-1615-4d4d-874c-12eb3908a1f9</td><td style='border: 1px solid #dddddd'>3a27328f-e8f2-4143-8e84-969da2450da7</td></tr><tr><td style='border: 1px solid #dddddd'>2019-11-21 12:55:20.058000+00:00</td><td style='border: 1px solid #dddddd'>area_under_pr</td><td style='border: 1px solid #dddddd'>94810617-da0c-4fd0-a30b-0276e21d0096</td><td style='border: 1px solid #dddddd'>0.6350176434210048</td><td style='border: 1px solid #dddddd'></td><td style='border: 1px solid #dddddd'></td><td style='border: 1px solid #dddddd'>model_type: original</td><td style='border: 1px solid #dddddd'>a4729971-8653-4aae-a7ab-624185056799</td><td style='border: 1px solid #dddddd'>ace63d35-1615-4d4d-874c-12eb3908a1f9</td><td style='border: 1px solid #dddddd'>3a27328f-e8f2-4143-8e84-969da2450da7</td></tr><tr><td style='border: 1px solid #dddddd'>2019-11-21 12:55:20.058000+00:00</td><td style='border: 1px solid #dddddd'>recall</td><td style='border: 1px solid #dddddd'>94810617-da0c-4fd0-a30b-0276e21d0096</td><td style='border: 1px solid #dddddd'>0.3939393939393939</td><td style='border: 1px solid #dddddd'></td><td style='border: 1px solid #dddddd'></td><td style='border: 1px solid #dddddd'>model_type: original</td><td style='border: 1px solid #dddddd'>a4729971-8653-4aae-a7ab-624185056799</td><td style='border: 1px solid #dddddd'>ace63d35-1615-4d4d-874c-12eb3908a1f9</td><td style='border: 1px solid #dddddd'>3a27328f-e8f2-4143-8e84-969da2450da7</td></tr>\n            </table>\n        </body>\n        </HTML>",
                        "text/plain": "<IPython.core.display.HTML object>"
                    },
                    "metadata": {},
                    "output_type": "display_data"
                }
            ],
            "source": "time.sleep(10)\nsubscription.quality_monitoring.show_table()"
        },
        {
            "cell_type": "code",
            "execution_count": 56,
            "metadata": {},
            "outputs": [
                {
                    "data": {
                        "image/png": "[encoded data removed]",
                        "text/plain": "<Figure size 432x288 with 1 Axes>"
                    },
                    "metadata": {
                        "needs_background": "light"
                    },
                    "output_type": "display_data"
                }
            ],
            "source": "%matplotlib inline\n\nquality_pd = subscription.quality_monitoring.get_table_content(format='pandas')\nquality_pd.plot.barh(x='id', y='value');"
        },
        {
            "cell_type": "markdown",
            "metadata": {},
            "source": "# Fairness, drift monitoring and explanations <a name=\"fairness\"></a>"
        },
        {
            "cell_type": "markdown",
            "metadata": {},
            "source": "### Fairness configuration\n\nThe code below configures fairness monitoring for our model. It turns on monitoring for two features, Sex and Age. In each case, we must specify:\n\n  * Which model feature to monitor\n  * One or more **majority** groups, which are values of that feature that we expect to receive a higher percentage of favorable outcomes\n  * One or more **minority** groups, which are values of that feature that we expect to receive a higher percentage of unfavorable outcomes\n  * The threshold at which we would like OpenScale to display an alert if the fairness measurement falls below (in this case, 95%)\n\nAdditionally, we must specify which outcomes from the model are favourable outcomes, and which are unfavourable. We must also provide the number of records OpenScale will use to calculate the fairness score. In this case, OpenScale's fairness monitor will run hourly, but will not calculate a new fairness rating until at least 200 records have been added. Finally, to calculate fairness, OpenScale must perform some calculations on the training data, so we provide the dataframe containing the data."
        },
        {
            "cell_type": "code",
            "execution_count": 60,
            "metadata": {
                "scrolled": true
            },
            "outputs": [],
            "source": "subscription.fairness_monitoring.enable(\n            features=[\n                Feature(\"Sex\", majority=['male'], minority=['female'], threshold=0.95),\n                Feature(\"Age\", majority=[[26,75]], minority=[[18,25]], threshold=0.95)\n            ],\n            favourable_classes=['No Risk'],\n            unfavourable_classes=['Risk'],\n            min_records=200,\n            training_data=pd_data\n        )"
        },
        {
            "cell_type": "markdown",
            "metadata": {},
            "source": "### Drift configuration"
        },
        {
            "cell_type": "code",
            "execution_count": 58,
            "metadata": {},
            "outputs": [
                {
                    "data": {
                        "text/plain": "{'config_status': {'model_name': None, 'state': 'new'},\n 'data_drift_enabled': True,\n 'drift_threshold': 0.05,\n 'is_schedule_enabled': True,\n 'min_samples': 100,\n 'model_drift_enabled': True,\n 'schedule_repeat_interval': 3,\n 'schedule_repeat_type': 'hour'}"
                    },
                    "execution_count": 58,
                    "metadata": {},
                    "output_type": "execute_result"
                }
            ],
            "source": "subscription.drift_monitoring.enable(threshold=0.05, min_records=100)"
        },
        {
            "cell_type": "code",
            "execution_count": 59,
            "metadata": {
                "scrolled": true
            },
            "outputs": [
                {
                    "name": "stdout",
                    "output_type": "stream",
                    "text": "13:18:49 in_progress\n13:19:19 in_progress\n13:19:50 in_progress\n13:20:21 in_progress\n13:20:51 in_progress\nfinished\n"
                }
            ],
            "source": "drift_status = None\nwhile drift_status != 'finished':\n    drift_details = subscription.drift_monitoring.get_details()\n    drift_status = drift_details['parameters']['config_status']['state']\n    if drift_status != 'finished':\n        print(datetime.utcnow().strftime('%H:%M:%S'), drift_status)\n        time.sleep(30)\nprint(drift_status)"
        },
        {
            "cell_type": "markdown",
            "metadata": {},
            "source": "## Score the model again now that monitoring is configured"
        },
        {
            "cell_type": "markdown",
            "metadata": {},
            "source": "This next section randomly selects 200 records from the data feed and sends those records to the model for predictions. This is enough to exceed the minimum threshold for records set in the previous section, which allows OpenScale to begin calculating fairness."
        },
        {
            "cell_type": "code",
            "execution_count": 61,
            "metadata": {},
            "outputs": [
                {
                    "name": "stdout",
                    "output_type": "stream",
                    "text": "-rw-r--r-- 1 spark 4294967294 3.0M Nov 21 13:21 german_credit_feed.json\r\n"
                }
            ],
            "source": "with io.capture_output() as captured:\n    !wget https://raw.githubusercontent.com/pmservice/ai-openscale-tutorials/master/assets/historical_data/german_credit_risk/wml/german_credit_feed.json -O german_credit_feed.json\n!ls -lh german_credit_feed.json"
        },
        {
            "cell_type": "markdown",
            "metadata": {},
            "source": "Score 200 randomly chosen records"
        },
        {
            "cell_type": "code",
            "execution_count": 62,
            "metadata": {},
            "outputs": [],
            "source": "import random\n\nwith open('german_credit_feed.json', 'r') as scoring_file:\n    scoring_data = json.load(scoring_file)\n\nfields = scoring_data['fields']\nvalues = []\nfor _ in range(200):\n    values.append(random.choice(scoring_data['values']))\npayload_scoring = {\"fields\": fields, \"values\": values}\n\n\nscoring_response = wml_client.deployments.score(credit_risk_scoring_endpoint, payload_scoring)\ntime.sleep(5)"
        },
        {
            "cell_type": "markdown",
            "metadata": {},
            "source": "**Note:** Now in payload table should be total 208 records."
        },
        {
            "cell_type": "code",
            "execution_count": 63,
            "metadata": {},
            "outputs": [
                {
                    "name": "stdout",
                    "output_type": "stream",
                    "text": "Number of records in payload table:  8\n"
                }
            ],
            "source": "print('Number of records in payload table: ', subscription.payload_logging.get_records_count())"
        },
        {
            "cell_type": "markdown",
            "metadata": {},
            "source": "## Run fairness monitor"
        },
        {
            "cell_type": "markdown",
            "metadata": {},
            "source": "Kick off a fairness monitor run on current data. The monitor runs hourly, but can be manually initiated using the Python client, the REST API, or the graphical user interface."
        },
        {
            "cell_type": "code",
            "execution_count": 64,
            "metadata": {
                "scrolled": true
            },
            "outputs": [
                {
                    "name": "stdout",
                    "output_type": "stream",
                    "text": "\n\n=======================================================================\n\n Counting bias for deployment_uid=3a27328f-e8f2-4143-8e84-969da2450da7 \n\n=======================================================================\n\n\n\nFINISHED WITH ERRORS\n\n----------------------------------------------\n Run failed with status: FINISHED WITH ERRORS \n----------------------------------------------\n\n\nReason: AIQFM6001\n"
                }
            ],
            "source": "fairness_run_details = subscription.fairness_monitoring.run(background_mode=False)"
        },
        {
            "cell_type": "code",
            "execution_count": 127,
            "metadata": {},
            "outputs": [
                {
                    "data": {
                        "text/html": "<HTML>\n        <body>\n            <h3>FairnessMetrics (binding_id=a4729971-8653-4aae-a7ab-624185056799, subscription_id=ace63d35-1615-4d4d-874c-12eb3908a1f9)</h3>\n            <table style='border: 1px solid #dddddd; font-family: Courier'>\n                <th style='border: 1px solid #dddddd'>ts</th><th style='border: 1px solid #dddddd'>feature</th><th style='border: 1px solid #dddddd'>feature_value</th><th style='border: 1px solid #dddddd'>fairness_biased</th><th style='border: 1px solid #dddddd'>fairness_value</th><th style='border: 1px solid #dddddd'>fairness_fav_class</th><th style='border: 1px solid #dddddd'>binding_id</th><th style='border: 1px solid #dddddd'>subscription_id</th><th style='border: 1px solid #dddddd'>asset_revision</th><th style='border: 1px solid #dddddd'>deployment_id</th><th style='border: 1px solid #dddddd'>process</th>\n                <tr><td style='border: 1px solid #dddddd'>2019-11-20 12:26:20+00:00</td><td style='border: 1px solid #dddddd'>Sex</td><td style='border: 1px solid #dddddd'>female</td><td style='border: 1px solid #dddddd'>True</td><td style='border: 1px solid #dddddd'>0.948</td><td style='border: 1px solid #dddddd'>73.0</td><td style='border: 1px solid #dddddd'>a4729971-8653-4aae-a7ab-624185056799</td><td style='border: 1px solid #dddddd'>ace63d35-1615-4d4d-874c-12eb3908a1f9</td><td style='border: 1px solid #dddddd'>fed54fed-f6dd-4dbc-98b0-135c89ff02bc</td><td style='border: 1px solid #dddddd'>3a27328f-e8f2-4143-8e84-969da2450da7</td><td style='border: 1px solid #dddddd'></td></tr><tr><td style='border: 1px solid #dddddd'>2019-11-20 12:26:20+00:00</td><td style='border: 1px solid #dddddd'>Age</td><td style='border: 1px solid #dddddd'>[18, 25]</td><td style='border: 1px solid #dddddd'>False</td><td style='border: 1px solid #dddddd'>0.99</td><td style='border: 1px solid #dddddd'>79.00552486187846</td><td style='border: 1px solid #dddddd'>a4729971-8653-4aae-a7ab-624185056799</td><td style='border: 1px solid #dddddd'>ace63d35-1615-4d4d-874c-12eb3908a1f9</td><td style='border: 1px solid #dddddd'>fed54fed-f6dd-4dbc-98b0-135c89ff02bc</td><td style='border: 1px solid #dddddd'>3a27328f-e8f2-4143-8e84-969da2450da7</td><td style='border: 1px solid #dddddd'></td></tr><tr><td style='border: 1px solid #dddddd'>2019-11-20 11:26:20+00:00</td><td style='border: 1px solid #dddddd'>Sex</td><td style='border: 1px solid #dddddd'>female</td><td style='border: 1px solid #dddddd'>True</td><td style='border: 1px solid #dddddd'>0.951</td><td style='border: 1px solid #dddddd'>77.0</td><td style='border: 1px solid #dddddd'>a4729971-8653-4aae-a7ab-624185056799</td><td style='border: 1px solid #dddddd'>ace63d35-1615-4d4d-874c-12eb3908a1f9</td><td style='border: 1px solid #dddddd'>fed54fed-f6dd-4dbc-98b0-135c89ff02bc</td><td style='border: 1px solid #dddddd'>3a27328f-e8f2-4143-8e84-969da2450da7</td><td style='border: 1px solid #dddddd'></td></tr><tr><td style='border: 1px solid #dddddd'>2019-11-20 11:26:20+00:00</td><td style='border: 1px solid #dddddd'>Age</td><td style='border: 1px solid #dddddd'>[18, 25]</td><td style='border: 1px solid #dddddd'>True</td><td style='border: 1px solid #dddddd'>0.952</td><td style='border: 1px solid #dddddd'>77.77777777777779</td><td style='border: 1px solid #dddddd'>a4729971-8653-4aae-a7ab-624185056799</td><td style='border: 1px solid #dddddd'>ace63d35-1615-4d4d-874c-12eb3908a1f9</td><td style='border: 1px solid #dddddd'>fed54fed-f6dd-4dbc-98b0-135c89ff02bc</td><td style='border: 1px solid #dddddd'>3a27328f-e8f2-4143-8e84-969da2450da7</td><td style='border: 1px solid #dddddd'></td></tr><tr><td style='border: 1px solid #dddddd'>2019-11-20 10:26:20+00:00</td><td style='border: 1px solid #dddddd'>Sex</td><td style='border: 1px solid #dddddd'>female</td><td style='border: 1px solid #dddddd'>True</td><td style='border: 1px solid #dddddd'>0.851</td><td style='border: 1px solid #dddddd'>63.0</td><td style='border: 1px solid #dddddd'>a4729971-8653-4aae-a7ab-624185056799</td><td style='border: 1px solid #dddddd'>ace63d35-1615-4d4d-874c-12eb3908a1f9</td><td style='border: 1px solid #dddddd'>fed54fed-f6dd-4dbc-98b0-135c89ff02bc</td><td style='border: 1px solid #dddddd'>3a27328f-e8f2-4143-8e84-969da2450da7</td><td style='border: 1px solid #dddddd'></td></tr><tr><td style='border: 1px solid #dddddd'>2019-11-20 10:26:20+00:00</td><td style='border: 1px solid #dddddd'>Age</td><td style='border: 1px solid #dddddd'>[18, 25]</td><td style='border: 1px solid #dddddd'>False</td><td style='border: 1px solid #dddddd'>1.046</td><td style='border: 1px solid #dddddd'>77.29729729729729</td><td style='border: 1px solid #dddddd'>a4729971-8653-4aae-a7ab-624185056799</td><td style='border: 1px solid #dddddd'>ace63d35-1615-4d4d-874c-12eb3908a1f9</td><td style='border: 1px solid #dddddd'>fed54fed-f6dd-4dbc-98b0-135c89ff02bc</td><td style='border: 1px solid #dddddd'>3a27328f-e8f2-4143-8e84-969da2450da7</td><td style='border: 1px solid #dddddd'></td></tr><tr><td style='border: 1px solid #dddddd'>2019-11-21 12:26:20+00:00</td><td style='border: 1px solid #dddddd'>Sex</td><td style='border: 1px solid #dddddd'>female</td><td style='border: 1px solid #dddddd'>True</td><td style='border: 1px solid #dddddd'>0.947</td><td style='border: 1px solid #dddddd'>72.0</td><td style='border: 1px solid #dddddd'>a4729971-8653-4aae-a7ab-624185056799</td><td style='border: 1px solid #dddddd'>ace63d35-1615-4d4d-874c-12eb3908a1f9</td><td style='border: 1px solid #dddddd'>fed54fed-f6dd-4dbc-98b0-135c89ff02bc</td><td style='border: 1px solid #dddddd'>3a27328f-e8f2-4143-8e84-969da2450da7</td><td style='border: 1px solid #dddddd'></td></tr><tr><td style='border: 1px solid #dddddd'>2019-11-21 12:26:20+00:00</td><td style='border: 1px solid #dddddd'>Age</td><td style='border: 1px solid #dddddd'>[18, 25]</td><td style='border: 1px solid #dddddd'>True</td><td style='border: 1px solid #dddddd'>0.954</td><td style='border: 1px solid #dddddd'>74.58563535911603</td><td style='border: 1px solid #dddddd'>a4729971-8653-4aae-a7ab-624185056799</td><td style='border: 1px solid #dddddd'>ace63d35-1615-4d4d-874c-12eb3908a1f9</td><td style='border: 1px solid #dddddd'>fed54fed-f6dd-4dbc-98b0-135c89ff02bc</td><td style='border: 1px solid #dddddd'>3a27328f-e8f2-4143-8e84-969da2450da7</td><td style='border: 1px solid #dddddd'></td></tr><tr><td style='border: 1px solid #dddddd'>2019-11-21 11:26:20+00:00</td><td style='border: 1px solid #dddddd'>Sex</td><td style='border: 1px solid #dddddd'>female</td><td style='border: 1px solid #dddddd'>True</td><td style='border: 1px solid #dddddd'>0.947</td><td style='border: 1px solid #dddddd'>72.0</td><td style='border: 1px solid #dddddd'>a4729971-8653-4aae-a7ab-624185056799</td><td style='border: 1px solid #dddddd'>ace63d35-1615-4d4d-874c-12eb3908a1f9</td><td style='border: 1px solid #dddddd'>fed54fed-f6dd-4dbc-98b0-135c89ff02bc</td><td style='border: 1px solid #dddddd'>3a27328f-e8f2-4143-8e84-969da2450da7</td><td style='border: 1px solid #dddddd'></td></tr><tr><td style='border: 1px solid #dddddd'>2019-11-21 11:26:20+00:00</td><td style='border: 1px solid #dddddd'>Age</td><td style='border: 1px solid #dddddd'>[18, 25]</td><td style='border: 1px solid #dddddd'>True</td><td style='border: 1px solid #dddddd'>0.954</td><td style='border: 1px solid #dddddd'>74.58563535911603</td><td style='border: 1px solid #dddddd'>a4729971-8653-4aae-a7ab-624185056799</td><td style='border: 1px solid #dddddd'>ace63d35-1615-4d4d-874c-12eb3908a1f9</td><td style='border: 1px solid #dddddd'>fed54fed-f6dd-4dbc-98b0-135c89ff02bc</td><td style='border: 1px solid #dddddd'>3a27328f-e8f2-4143-8e84-969da2450da7</td><td style='border: 1px solid #dddddd'></td></tr>\n            </table>\n        </body>\n        </HTML>",
                        "text/plain": "<IPython.core.display.HTML object>"
                    },
                    "metadata": {},
                    "output_type": "display_data"
                }
            ],
            "source": "time.sleep(10)\n\nsubscription.fairness_monitoring.show_table()"
        },
        {
            "cell_type": "markdown",
            "metadata": {},
            "source": "## Run drift monitor\n\n\nKick off a drift monitor run on current data. The monitor runs every hour, but can be manually initiated using the Python client, the REST API."
        },
        {
            "cell_type": "code",
            "execution_count": 128,
            "metadata": {},
            "outputs": [
                {
                    "name": "stdout",
                    "output_type": "stream",
                    "text": "\n\n==========================================\n\n Waiting for end of drift monitoring run  \n\n==========================================\n\n\n\nCOMPLETED\n\n---------------------------\n Successfully finished run \n---------------------------\n\n\n"
                }
            ],
            "source": "drift_run_details = subscription.drift_monitoring.run(background_mode=False)"
        },
        {
            "cell_type": "code",
            "execution_count": 129,
            "metadata": {},
            "outputs": [
                {
                    "data": {
                        "text/plain": "{'enabled': True,\n 'monitor_definition': {'entity': {'description': 'Collects model drift metrics',\n   'dictionary': {'de': {'description': 'Erfasst Driftmetriken f\u00fcr das Modell',\n     'drift_magnitude.description': 'Der R\u00fcckgang der Genauigkeit des Modells relativ zur Trainingsgenauigkeit. ',\n     'drift_magnitude.name': 'Ausma\u00df der Drift',\n     'drift_magnitude.thresholds.upper_limit.default_recommendation': 'Bei einer steigenden Drift verursacht der vom Modell verarbeitete Datentyp einen R\u00fcckgang der Modellgenauigkeit. \u00dcberpr\u00fcfen Sie die Transaktionen, um Merkmale der Daten zu identifizieren, die eine zur\u00fcckgehende Modellgenauigkeit verursachen. ',\n     'name': 'Drift\u00fcberwachung',\n     'predicted_accuracy.description': 'Die Genauigkeit des Modells, die vom Drift-Service auf der Basis einer Stichprobe von Nutzdaten prognostiziert wird. ',\n     'predicted_accuracy.name': 'Prognostizierte Genauigkeit',\n     'predicted_accuracy.thresholds.upper_limit.default_recommendation': '<strong>Aufw\u00e4rtstrend der Metrik</strong><br>Dies bedeutet, dass sich die Metrik verbessert. Die Modellgenauigkeit ist effektiv, keine signifikante Drift. <br><br><strong>Abw\u00e4rtstrend der Metrik</strong><br>Dies bedeutet, dass sich die Metrik verschlechtert Die Differenz zwischen den Nutzdaten und den Trainingsdaten vergr\u00f6\u00dfert sich signifikant, was auf eine Drift hinweist. '},\n    'en': {'AIQDD9001E': 'The values of the {0} and {1} features rarely occur together.',\n     'AIQDD9002E': 'The {0} feature value falls outside of the training data distribution.',\n     'AIQDD9003E': 'The {0} feature values are typically between the range of {1}.',\n     'AIQDD9004E': 'For the {0} feature the value of {1} feature falls outside of the training data distribution.',\n     'AIQDD9005E': 'For the {0} feature the value of the {1} feature is outside of its typical value ranges.',\n     'AIQDD9006E': 'The {0} feature value is unexpected.',\n     'AIQDD9007E': 'The {0} feature values are causing a drop in accuracy.',\n     'AIQDD9008E': 'Review the {0} feature values to determine why the model may be providing incorrect predictions. Supplement the training data with similar records with corrected predictions and retrain the model.',\n     'AIQDD9009E': 'The {0} feature values are unexpected compared to the training data.',\n     'AIQDD9010E': 'Review the {0} features to determine why their values are not consistent with the training data. If a value is unexpected, a data entry or data processing problem may exist or the type of data the model is processing may be slowly changing.',\n     'AIQDD9011E': 'The {0} feature has a large impact on drift.',\n     'AIQDD9012E': 'The {0} feature(s) have some impact on drift.',\n     'AIQDD9013E': 'The {0} feature(s) have a small impact on drift.',\n     'AIQDD9014E': 'The feature values are similar to those in the training data, but the model is known to provide incorrect predictions for similar transactions in the training data.',\n     'AIQDD9015E': 'The feature values exhibit the following inconsistencies.',\n     'AIQDD9016E': 'The {0} feature values are unexpected compared to the training data and causing a drop in accuracy.',\n     'AIQDD9017E': 'Review the {0} features to determine why their values are not consistent with the training data. If a value is unexpected, a data entry or data processing problem may exist or the type of data the model is processing may be slowly changing and the model will need to be retrained.',\n     'data_drift_magnitude.description': 'The drift monitor estimates the drop in data consistency based on the training data.',\n     'data_drift_magnitude.name': 'Drop in data consistency',\n     'data_drift_magnitude.thresholds.upper_limit.default_recommendation': 'If there is a drop in data consistency, click on the graph to review the transactions that are responsible.',\n     'description': 'Collects model drift metrics',\n     'drift_magnitude.description': 'The drift monitor estimates the drop in accuracy of the model and the drop in data consistency based on the training data.',\n     'drift_magnitude.name': 'Drop in accuracy',\n     'drift_magnitude.thresholds.upper_limit.default_recommendation': 'If there is a drop in accuracy or data consistency, click on the graph to review the transactions that are responsible.',\n     'name': 'Drift',\n     'predicted_accuracy.description': 'Accuracy of the model as predicted by drift service on a sample of payload data.',\n     'predicted_accuracy.name': 'Predicted accuracy',\n     'predicted_accuracy.thresholds.upper_limit.default_recommendation': '<strong>If metric is trending upwards</strong><br>Metric is improving. Model accuracy is effective, meaning no significant drift.<br><br><strong>If metric is trending downwards</strong><br>Metric is deteriorating. Payload data is becoming significantly different from the training data, indicating drift.'},\n    'es': {'description': 'Recopila m\u00e9tricas de desviaci\u00f3n del modelo',\n     'drift_magnitude.description': 'La ca\u00edda en la exactitud del modelo en relaci\u00f3n a su exactitud durante el entrenamiento.',\n     'drift_magnitude.name': 'Magnitud de la desviaci\u00f3n',\n     'drift_magnitude.thresholds.upper_limit.default_recommendation': 'Si la desviaci\u00f3n va en aumento, el tipo de datos que el modelo est\u00e1 procesando es tal que provoca una ca\u00edda en la exactitud del modelo. Revise las transacciones para identificar caracter\u00edsticas sobre los datos que est\u00e1n causando la ca\u00edda en la exactitud del modelo.',\n     'name': 'Supervisi\u00f3n de la desviaci\u00f3n',\n     'predicted_accuracy.description': 'Exactitud del modelo tal como ha previsto el servicio de desviaci\u00f3n en una muestra de datos de carga \u00fatil.',\n     'predicted_accuracy.name': 'Exactitud prevista',\n     'predicted_accuracy.thresholds.upper_limit.default_recommendation': '<strong>Si la m\u00e9trica tiene tendencia al alza</strong><br>La m\u00e9trica est\u00e1 mejorando. La exactitud del modelo es efectiva, lo que significa que no hay desviaci\u00f3n. <br><br><strong>Si la m\u00e9trica tiene tendencia a la baja</strong><br>La m\u00e9trica se est\u00e1 deteriorando. Los datos de carga ya son significativamente distintos respecto a los datos de entrenamiento, lo cual indica una desviaci\u00f3n.'},\n    'fr': {'description': 'Recueille les m\u00e9triques de d\u00e9rive du mod\u00e8le',\n     'drift_magnitude.description': \"Baisse d'exactitude (ou de justesse) du mod\u00e8le par rapport \u00e0 sa justesse d'apprentissage.\",\n     'drift_magnitude.name': 'Ampleur de la d\u00e9rive',\n     'drift_magnitude.thresholds.upper_limit.default_recommendation': \"Si la d\u00e9rive s'aggrave, c'est que le type de donn\u00e9es que le mod\u00e8le traite est tel qu'il provoque une baisse de l'exactitude des r\u00e9sultats. Passez en revue les transactions pour identifier les caract\u00e9ristiques des donn\u00e9es qui provoquent cette baisse.\",\n     'name': 'Surveillance de la d\u00e9rive',\n     'predicted_accuracy.description': 'Exactitude du mod\u00e8le pr\u00e9vue par le service de d\u00e9tection de d\u00e9rive sur un \u00e9chantillon de donn\u00e9es utiles.',\n     'predicted_accuracy.name': 'Exactitude pr\u00e9vue',\n     'predicted_accuracy.thresholds.upper_limit.default_recommendation': \"<strong>Si la m\u00e9trique suit une tendance \u00e0 la hausse</strong><br>La m\u00e9trique s'am\u00e9liore. Le mod\u00e8le est efficace, son exactitude est bonne et ne pr\u00e9sente pas de d\u00e9rive significative.<br><br><strong>Si la m\u00e9trique suit une tendance \u00e0 la baisse</strong><br>La m\u00e9trique se d\u00e9t\u00e9riore. Les donn\u00e9es utiles deviennent nettement diff\u00e9rentes des donn\u00e9es d'entra\u00eenement, ce qui est l'indication d'une d\u00e9rive.\"},\n    'it': {'description': 'Raccoglie le metriche di deviazione del modello',\n     'drift_magnitude.description': 'La caduta in accuratezza del modello relativamente alla sua accuratezza di training. ',\n     'drift_magnitude.name': 'Entit\u00e0 della deviazione',\n     'drift_magnitude.thresholds.upper_limit.default_recommendation': \"Se la deviazione aumenta, il tipo di dati elaborati dal modello \u00e8 tale che provoca una diminuzione dell'accuratezza del modello. Esaminare le transazioni per identificare le caratteristiche dei dati che stanno causando la diminuzione dell'accuratezza del modello. \",\n     'name': 'Monitoraggio deviazione',\n     'predicted_accuracy.description': \"L'accuratezza del modello come previsto dal servizio di deviazione su un campione di dati del payload. \",\n     'predicted_accuracy.name': 'Accuratezza prevista',\n     'predicted_accuracy.thresholds.upper_limit.default_recommendation': \"<strong>Se la metrica tende verso l'alto,</strong><br>la metrica sta migliorando. L'accuratezza del modello \u00e8 efficace, cio\u00e9 nessuna deviazione significativa. <br><br><strong>Se la metrica tende verso il basso,</strong><br>la metrica sta peggiorando. I dati del payload stanno riportando differenze significative rispetto ai dati di training, ci\u00f2 indica deviazione. \"},\n    'ja': {'description': '\u30e2\u30c7\u30eb\u306e\u30c9\u30ea\u30d5\u30c8\u306e\u6307\u6a19\u3092\u53ce\u96c6\u3057\u307e\u3059',\n     'drift_magnitude.description': '\u8a13\u7df4\u306e\u6b63\u89e3\u7387\u306b\u95a2\u9023\u3057\u305f\u30e2\u30c7\u30eb\u306e\u6b63\u89e3\u7387\u306e\u4f4e\u4e0b\u3092\u793a\u3057\u307e\u3059',\n     'drift_magnitude.name': '\u30c9\u30ea\u30d5\u30c8\u306e\u5927\u304d\u3055',\n     'drift_magnitude.thresholds.upper_limit.default_recommendation': '\u30c9\u30ea\u30d5\u30c8\u304c\u5927\u304d\u304f\u306a\u3063\u3066\u3044\u308b\u5834\u5408\u3001\u30e2\u30c7\u30eb\u304c\u51e6\u7406\u3057\u3066\u3044\u308b\u30c7\u30fc\u30bf\u30fb\u30bf\u30a4\u30d7\u306f\u30e2\u30c7\u30eb\u306e\u6b63\u89e3\u7387\u4f4e\u4e0b\u306e\u539f\u56e0\u3068\u306a\u308a\u307e\u3059\u3002\u30e2\u30c7\u30eb\u306e\u6b63\u89e3\u7387\u4f4e\u4e0b\u306e\u539f\u56e0\u3068\u306a\u3063\u3066\u3044\u308b\u30c7\u30fc\u30bf\u306e\u6027\u8cea\u306b\u3064\u3044\u3066\u30c8\u30e9\u30f3\u30b6\u30af\u30b7\u30e7\u30f3\u3092\u78ba\u8a8d\u3057\u3066\u304f\u3060\u3055\u3044\u3002',\n     'name': '\u30c9\u30ea\u30d5\u30c8\u306e\u30e2\u30cb\u30bf\u30ea\u30f3\u30b0',\n     'predicted_accuracy.description': '\u30da\u30a4\u30ed\u30fc\u30c9\u30fb\u30c7\u30fc\u30bf\u306e\u30b5\u30f3\u30d7\u30eb\u306b\u95a2\u3057\u3066\u30c9\u30ea\u30d5\u30c8\u30fb\u30b5\u30fc\u30d3\u30b9\u304c\u4e88\u6e2c\u3059\u308b\u30e2\u30c7\u30eb\u306e\u6b63\u89e3\u7387\u3067\u3059\u3002',\n     'predicted_accuracy.name': '\u4e88\u6e2c\u3055\u308c\u308b\u6b63\u89e3\u7387',\n     'predicted_accuracy.thresholds.upper_limit.default_recommendation': '<strong>\u6307\u6a19\u306e\u30c8\u30ec\u30f3\u30c9\u304c\u4e0a\u5411\u304d\u3067\u3042\u308b\u5834\u5408</strong><br>\u6307\u6a19\u306f\u5411\u4e0a\u3057\u3066\u3044\u307e\u3059\u3002\u30e2\u30c7\u30eb\u6b63\u89e3\u7387\u306f\u6709\u52b9\u3067\u3001\u660e\u3089\u304b\u306a\u30c9\u30ea\u30d5\u30c8\u306f\u3042\u308a\u307e\u305b\u3093\u3002<br><br><strong>\u6307\u6a19\u306e\u30c8\u30ec\u30f3\u30c9\u304c\u4e0b\u5411\u304d\u3067\u3042\u308b\u5834\u5408</strong><br>\u6307\u6a19\u306f\u60aa\u5316\u3057\u3066\u3044\u307e\u3059\u3002\u30da\u30a4\u30ed\u30fc\u30c9\u30fb\u30c7\u30fc\u30bf\u306f\u8a13\u7df4\u30c7\u30fc\u30bf\u3068\u306e\u5dee\u7570\u304c\u5927\u304d\u304f\u3001\u30c9\u30ea\u30d5\u30c8\u3067\u3042\u308b\u3053\u3068\u3092\u793a\u3057\u3066\u3044\u307e\u3059\u3002'},\n    'ko': {'description': '\ubaa8\ub378 \ub4dc\ub9ac\ud504\ud2b8 \uba54\ud2b8\ub9ad\uc744 \uc218\uc9d1\ud569\ub2c8\ub2e4.',\n     'drift_magnitude.description': '\ud6c8\ub828 \uc815\ud655\ub3c4 \ub300\ube44 \ubaa8\ub378 \uc815\ud655\ub3c4 \uac10\uc18c\uc785\ub2c8\ub2e4.',\n     'drift_magnitude.name': '\ub4dc\ub9ac\ud504\ud2b8 \uaddc\ubaa8',\n     'drift_magnitude.thresholds.upper_limit.default_recommendation': '\ub4dc\ub9ac\ud504\ud2b8\uac00 \uc0c1\uc2b9\ud560 \uacbd\uc6b0 \ubaa8\ub378\uc774 \ucc98\ub9ac \uc911\uc778 \ub370\uc774\ud130 \uc720\ud615\uc73c\ub85c \uc778\ud574 \ubaa8\ub378 \uc815\ud655\ub3c4\uac00 \uac10\uc18c\ud569\ub2c8\ub2e4. \ud2b8\ub79c\uc7ad\uc158\uc744 \uac80\ud1a0\ud558\uc5ec \ubaa8\ub378 \uc815\ud655\ub3c4 \uac10\uc18c\ub97c \uc720\ubc1c\ud558\ub294 \ub370\uc774\ud130\uc5d0 \ub300\ud55c \ud2b9\uc131\uc744 \uc2dd\ubcc4\ud558\uc2ed\uc2dc\uc624. ',\n     'name': '\ub4dc\ub9ac\ud504\ud2b8 \ubaa8\ub2c8\ud130\ub9c1',\n     'predicted_accuracy.description': '\ud398\uc774\ub85c\ub4dc \ub370\uc774\ud130 \uc0d8\ud50c\uc5d0 \ub300\ud55c \ub4dc\ub9ac\ud504\ud2b8 \uc11c\ube44\uc2a4\uc5d0\uc11c \uc608\uce21\ud558\ub294 \ubaa8\ub378\uc758 \uc815\ud655\ub3c4\uc785\ub2c8\ub2e4.',\n     'predicted_accuracy.name': '\uc608\uce21 \uc815\ud655\ub3c4',\n     'predicted_accuracy.thresholds.upper_limit.default_recommendation': '<strong>\uba54\ud2b8\ub9ad\uc774 \uc0c1\uc2b9 \uacbd\ud5a5\uc744 \ubcf4\uc774\ub294 \uacbd\uc6b0</strong><br>\uba54\ud2b8\ub9ad\uc774 \uac1c\uc120\ub418\uace0 \uc788\uc2b5\ub2c8\ub2e4. \ubaa8\ub378 \uc815\ud655\ub3c4\uac00 \uc720\ud6a8\ud569\ub2c8\ub2e4. \uc989, \uc911\uc694\ud55c \ub4dc\ub9ac\ud504\ud2b8\uac00 \uc5c6\uc2b5\ub2c8\ub2e4. <br><br><strong>\uba54\ud2b8\ub9ad\uc774 \ud558\uac15 \uacbd\ud5a5\uc744 \ubcf4\uc774\ub294 \uacbd\uc6b0</strong><br>\uba54\ud2b8\ub9ad\uc774 \uc545\ud654\ub418\uace0 \uc788\uc2b5\ub2c8\ub2e4. \ud398\uc774\ub85c\ub4dc \ub370\uc774\ud130\uac00 \ud6c8\ub828 \ub370\uc774\ud130\uc640 \uc0c1\ub2f9\ud788 \ub2ec\ub77c\uc9c0\uace0 \uc788\uc5b4 \ub4dc\ub9ac\ud504\ud2b8\ub97c \ub098\ud0c0\ub0c5\ub2c8\ub2e4.'},\n    'pt_BR': {'description': 'Coleta m\u00e9tricas de desvio do modelo',\n     'drift_magnitude.description': 'A queda na precis\u00e3o do modelo em rela\u00e7\u00e3o \u00e0 sua precis\u00e3o de treinamento.',\n     'drift_magnitude.name': 'Magnitude de desvio',\n     'drift_magnitude.thresholds.upper_limit.default_recommendation': 'Se o desvio estiver aumentando, isso significar\u00e1 que o tipo de dados que o modelo est\u00e1 processando \u00e9 tal que causa uma queda na precis\u00e3o do modelo. Revise as transa\u00e7\u00f5es para identificar as caracter\u00edsticas sobre os dados que est\u00e3o fazendo com que a precis\u00e3o do modelo sofra a queda.',\n     'name': 'Monitoramento de desvio',\n     'predicted_accuracy.description': 'Precis\u00e3o do modelo como prevista pelo servi\u00e7o de desvio em uma amostra de dados de carga \u00fatil.',\n     'predicted_accuracy.name': 'Precis\u00e3o prevista',\n     'predicted_accuracy.thresholds.upper_limit.default_recommendation': '<strong>Se a m\u00e9trica estiver tend\u00eancia para cima</strong><br>A M\u00e9trica est\u00e1 melhorando. Precis\u00e3o do model \u00e9 efetiva, o que significa que n\u00e3o h\u00e1 desvio significativo.<br><br><strong>Se a m\u00e9trica estiver se desfazendo em frente</strong><br>A M\u00e9trica est\u00e1 se deteriorando. Os dados de carga \u00fatil est\u00e3o se tornando significativamente diferentes dos dados de treinamento, indicando desvio.'},\n    'zh': {'description': '\u6536\u96c6\u6a21\u578b\u6f02\u79fb\u5ea6\u91cf',\n     'drift_magnitude.description': '\u6a21\u578b\u51c6\u786e\u6027\u7684\u4e0b\u964d\u4e0e\u5176\u8bad\u7ec3\u51c6\u786e\u6027\u6709\u5173\u3002',\n     'drift_magnitude.name': '\u6f02\u79fb\u5e45\u5ea6',\n     'drift_magnitude.thresholds.upper_limit.default_recommendation': '\u5982\u679c\u6f02\u79fb\u4e0a\u5347\uff0c\u90a3\u4e48\u5bfc\u81f4\u6a21\u578b\u51c6\u786e\u6027\u4e0b\u964d\u7684\u539f\u56e0\u4e0e\u6a21\u578b\u6b63\u5728\u5904\u7406\u7684\u6570\u636e\u7c7b\u578b\u6709\u5173\u3002\u8bf7\u590d\u67e5\u4e8b\u52a1\u4ee5\u8bc6\u522b\u5bfc\u81f4\u6a21\u578b\u51c6\u786e\u6027\u4e0b\u964d\u7684\u6570\u636e\u7684\u76f8\u5173\u7279\u5f81\u3002',\n     'name': '\u6f02\u79fb\u76d1\u89c6',\n     'predicted_accuracy.description': '\u6f02\u79fb\u670d\u52a1\u9884\u6d4b\u7684\u6709\u6548\u5185\u5bb9\u6570\u636e\u6837\u672c\u7684\u6a21\u578b\u51c6\u786e\u6027\u3002',\n     'predicted_accuracy.name': '\u9884\u6d4b\u51c6\u786e\u6027',\n     'predicted_accuracy.thresholds.upper_limit.default_recommendation': '<strong>\u5982\u679c\u5ea6\u91cf\u4e3a\u5411\u4e0a\u8d8b\u52bf</strong><br>\u5ea6\u91cf\u6b63\u5728\u6539\u5584\u3002\u6a21\u578b\u51c6\u786e\u6027\u6709\u6548\uff0c\u8868\u793a\u65e0\u663e\u8457\u6f02\u79fb\u3002<br><br><strong>\u5982\u679c\u5ea6\u91cf\u4e3a\u5411\u4e0b\u8d8b\u52bf</strong><br>\u5ea6\u91cf\u6b63\u5728\u6076\u5316\u3002\u6709\u6548\u5185\u5bb9\u6570\u636e\u6b63\u53d8\u5f97\u4e0e\u8bad\u7ec3\u6570\u636e\u663e\u8457\u4e0d\u540c\uff0c\u8fd9\u8868\u793a\u51fa\u73b0\u6f02\u79fb\u3002'},\n    'zh_TW': {'description': '\u6536\u96c6\u6a21\u578b\u504f\u79fb\u5ea6\u91cf\u503c',\n     'drift_magnitude.description': '\u6a21\u578b\u7cbe\u78ba\u5ea6\u76f8\u5c0d\u65bc\u5176\u8a13\u7df4\u7cbe\u78ba\u5ea6\u4e0b\u964d\u3002',\n     'drift_magnitude.name': '\u504f\u79fb\u5e45\u5ea6',\n     'drift_magnitude.thresholds.upper_limit.default_recommendation': '\u5982\u679c\u504f\u79fb\u4e0a\u5347\uff0c\u6a21\u578b\u8655\u7406\u7684\u8cc7\u6599\u985e\u578b\u6703\u5c0e\u81f4\u6a21\u578b\u7cbe\u78ba\u5ea6\u4e0b\u964d\u3002\u6aa2\u95b1\u4ea4\u6613\u4ee5\u8b58\u5225\u6703\u5c0e\u81f4\u6a21\u578b\u7cbe\u78ba\u5ea6\u4e0b\u964d\u7684\u8cc7\u6599\u7684\u6027\u8cea\u3002',\n     'name': '\u504f\u79fb\u76e3\u8996',\n     'predicted_accuracy.description': '\u504f\u79fb\u670d\u52d9\u91dd\u5c0d\u6709\u6548\u8ca0\u8f09\u8cc7\u6599\u7bc4\u4f8b\u9032\u884c\u9810\u6e2c\u7684\u6a21\u578b\u7684\u7cbe\u78ba\u5ea6\u3002',\n     'predicted_accuracy.name': '\u9810\u6e2c\u7cbe\u78ba\u5ea6',\n     'predicted_accuracy.thresholds.upper_limit.default_recommendation': '<strong>\u5982\u679c\u5ea6\u91cf\u5448\u4e0a\u5347\u8da8\u52e2</strong><br>\u5ea6\u91cf\u6b63\u5728\u63d0\u9ad8\u3002\u6a21\u578b\u7cbe\u78ba\u5ea6\u6709\u6548\uff0c\u8868\u793a\u4e0d\u6703\u7522\u751f\u91cd\u5927\u504f\u79fb\u3002<br><br><strong>\u5982\u679c\u5ea6\u91cf\u5448\u4e0b\u964d\u8da8\u52e2</strong><br>\u5ea6\u91cf\u6b63\u5728\u964d\u4f4e\u3002\u6709\u6548\u8ca0\u8f09\u8cc7\u6599\u6b63\u8b8a\u5f97\u8207\u8a13\u7df4\u8cc7\u6599\u986f\u8457\u4e0d\u540c\uff0c\u9019\u8868\u793a\u5b58\u5728\u504f\u79fb\u3002'}},\n   'metrics': [{'applies_to': {'input_data_type': ['structured'],\n      'problem_type': ['binary', 'multiclass']},\n     'description': 'The drift monitor estimates the drop in accuracy of the model and the drop in data consistency based on the training data.',\n     'id': 'drift_magnitude',\n     'name': 'Drop in accuracy',\n     'required': False,\n     'thresholds': [{'default': 0.05,\n       'default_recommendation': 'If there is a drop in accuracy or data consistency, click on the graph to review the transactions that are responsible.',\n       'type': 'upper_limit'}]},\n    {'applies_to': {'input_data_type': ['structured'],\n      'problem_type': ['binary', 'multiclass']},\n     'description': 'Accuracy of the model as predicted by drift service on a sample of payload data.',\n     'id': 'predicted_accuracy',\n     'name': 'Predicted accuracy',\n     'required': False},\n    {'applies_to': {'input_data_type': ['structured'],\n      'problem_type': ['binary', 'multiclass', 'regression']},\n     'description': 'The drift monitor estimates the drop in data consistency based on the training data.',\n     'id': 'data_drift_magnitude',\n     'name': 'Drop in data consistency',\n     'required': False}],\n   'name': 'Drift',\n   'tags': [{'description': 'Id of the Business Application',\n     'id': 'business_application_id',\n     'name': 'Business Application Id'},\n    {'description': 'Id of the Business KPI Metric',\n     'id': 'business_metric_id',\n     'name': 'Business Metric Id'},\n    {'description': 'Id of the Transaction Batch',\n     'id': 'transaction_batch_id',\n     'name': 'Transaction Batch Id'}]},\n  'metadata': {'guid': 'drift',\n   'url': '/v1/data_marts/27d2155a-b202-44ac-955e-ee20b64f6c89/monitor_definitions/drift',\n   'created_at': '2019-04-09T12:00:00.000Z'}},\n 'parameters': {'config_status': {'state': 'finished'},\n  'data_drift_enabled': True,\n  'data_drift_learning_stage': 'CONSTRAINT_LEARNING_COMPLETED',\n  'drift_buffer_range': [-4.5, 4.5],\n  'drift_threshold': 0.05,\n  'is_schedule_enabled': True,\n  'last_drift_run_end_timestamp': '2019-11-21T13:41:49.227232Z',\n  'last_drift_run_start_timestamp': '2019-11-21T13:41:47.005218Z',\n  'last_payload_record_timestamp': '2019-11-21T12:26:54Z',\n  'min_samples': 100,\n  'model_drift_enabled': True,\n  'next_scheduled_run_timestamp': '2019-11-21T16:23:28.167004Z',\n  'run_message': 'Drift computation successfully completed.',\n  'run_status': 'COMPLETED',\n  'schedule_repeat_interval': 3,\n  'schedule_repeat_type': 'hour',\n  'train_accuracy': 0.789,\n  'train_drift_model_stage': 'DRIFT_MODEL_COMPLETE',\n  'train_predicted_accuracy': 0.697},\n 'thresholds': [{'metric_id': 'drift_magnitude',\n   'type': 'upper_limit',\n   'value': 0.05}]}"
                    },
                    "execution_count": 129,
                    "metadata": {},
                    "output_type": "execute_result"
                }
            ],
            "source": "drift_run_details"
        },
        {
            "cell_type": "code",
            "execution_count": 130,
            "metadata": {},
            "outputs": [
                {
                    "data": {
                        "text/html": "<div>\n<style scoped>\n    .dataframe tbody tr th:only-of-type {\n        vertical-align: middle;\n    }\n\n    .dataframe tbody tr th {\n        vertical-align: top;\n    }\n\n    .dataframe thead th {\n        text-align: right;\n    }\n</style>\n<table border=\"1\" class=\"dataframe\">\n  <thead>\n    <tr style=\"text-align: right;\">\n      <th></th>\n      <th>ts</th>\n      <th>id</th>\n      <th>measurement_id</th>\n      <th>value</th>\n      <th>lower limit</th>\n      <th>upper limit</th>\n      <th>tags</th>\n      <th>binding_id</th>\n      <th>subscription_id</th>\n      <th>deployment_id</th>\n    </tr>\n  </thead>\n  <tbody>\n    <tr>\n      <th>0</th>\n      <td>2019-11-21 13:41:48.949879+00:00</td>\n      <td>data_drift_magnitude</td>\n      <td>fb45a887-1671-4d6b-90f8-e546469565c0</td>\n      <td>0.041551</td>\n      <td></td>\n      <td></td>\n      <td></td>\n      <td>a4729971-8653-4aae-a7ab-624185056799</td>\n      <td>ace63d35-1615-4d4d-874c-12eb3908a1f9</td>\n      <td>3a27328f-e8f2-4143-8e84-969da2450da7</td>\n    </tr>\n    <tr>\n      <th>1</th>\n      <td>2019-11-21 13:41:48.949879+00:00</td>\n      <td>drift_magnitude</td>\n      <td>fb45a887-1671-4d6b-90f8-e546469565c0</td>\n      <td>0.011307</td>\n      <td></td>\n      <td>0.05</td>\n      <td></td>\n      <td>a4729971-8653-4aae-a7ab-624185056799</td>\n      <td>ace63d35-1615-4d4d-874c-12eb3908a1f9</td>\n      <td>3a27328f-e8f2-4143-8e84-969da2450da7</td>\n    </tr>\n    <tr>\n      <th>2</th>\n      <td>2019-11-21 13:41:48.949879+00:00</td>\n      <td>predicted_accuracy</td>\n      <td>fb45a887-1671-4d6b-90f8-e546469565c0</td>\n      <td>0.788693</td>\n      <td></td>\n      <td></td>\n      <td></td>\n      <td>a4729971-8653-4aae-a7ab-624185056799</td>\n      <td>ace63d35-1615-4d4d-874c-12eb3908a1f9</td>\n      <td>3a27328f-e8f2-4143-8e84-969da2450da7</td>\n    </tr>\n    <tr>\n      <th>3</th>\n      <td>2019-11-21 09:26:54+00:00</td>\n      <td>data_drift_magnitude</td>\n      <td>9800e136-1b7b-45ee-b9f2-93dbdc7854d9</td>\n      <td>0.041551</td>\n      <td></td>\n      <td></td>\n      <td></td>\n      <td>a4729971-8653-4aae-a7ab-624185056799</td>\n      <td>ace63d35-1615-4d4d-874c-12eb3908a1f9</td>\n      <td>3a27328f-e8f2-4143-8e84-969da2450da7</td>\n    </tr>\n    <tr>\n      <th>4</th>\n      <td>2019-11-21 09:26:54+00:00</td>\n      <td>drift_magnitude</td>\n      <td>9800e136-1b7b-45ee-b9f2-93dbdc7854d9</td>\n      <td>0.011307</td>\n      <td></td>\n      <td>0.05</td>\n      <td></td>\n      <td>a4729971-8653-4aae-a7ab-624185056799</td>\n      <td>ace63d35-1615-4d4d-874c-12eb3908a1f9</td>\n      <td>3a27328f-e8f2-4143-8e84-969da2450da7</td>\n    </tr>\n    <tr>\n      <th>...</th>\n      <td>...</td>\n      <td>...</td>\n      <td>...</td>\n      <td>...</td>\n      <td>...</td>\n      <td>...</td>\n      <td>...</td>\n      <td>...</td>\n      <td>...</td>\n      <td>...</td>\n    </tr>\n    <tr>\n      <th>256</th>\n      <td>2019-11-14 12:27:00+00:00</td>\n      <td>drift_magnitude</td>\n      <td>3b32f32a-4069-4e70-aabd-f6c826ce4e18</td>\n      <td>0.000889</td>\n      <td></td>\n      <td>0.05</td>\n      <td></td>\n      <td>a4729971-8653-4aae-a7ab-624185056799</td>\n      <td>ace63d35-1615-4d4d-874c-12eb3908a1f9</td>\n      <td>3a27328f-e8f2-4143-8e84-969da2450da7</td>\n    </tr>\n    <tr>\n      <th>257</th>\n      <td>2019-11-14 12:27:00+00:00</td>\n      <td>predicted_accuracy</td>\n      <td>3b32f32a-4069-4e70-aabd-f6c826ce4e18</td>\n      <td>0.799111</td>\n      <td></td>\n      <td></td>\n      <td></td>\n      <td>a4729971-8653-4aae-a7ab-624185056799</td>\n      <td>ace63d35-1615-4d4d-874c-12eb3908a1f9</td>\n      <td>3a27328f-e8f2-4143-8e84-969da2450da7</td>\n    </tr>\n    <tr>\n      <th>258</th>\n      <td>2019-11-14 12:27:00+00:00</td>\n      <td>data_drift_magnitude</td>\n      <td>3b32f32a-4069-4e70-aabd-f6c826ce4e18</td>\n      <td>0.041667</td>\n      <td></td>\n      <td></td>\n      <td></td>\n      <td>a4729971-8653-4aae-a7ab-624185056799</td>\n      <td>ace63d35-1615-4d4d-874c-12eb3908a1f9</td>\n      <td>3a27328f-e8f2-4143-8e84-969da2450da7</td>\n    </tr>\n    <tr>\n      <th>259</th>\n      <td>2019-11-14 12:27:00+00:00</td>\n      <td>drift_magnitude</td>\n      <td>3b32f32a-4069-4e70-aabd-f6c826ce4e18</td>\n      <td>0.000889</td>\n      <td></td>\n      <td>0.05</td>\n      <td></td>\n      <td>a4729971-8653-4aae-a7ab-624185056799</td>\n      <td>ace63d35-1615-4d4d-874c-12eb3908a1f9</td>\n      <td>3a27328f-e8f2-4143-8e84-969da2450da7</td>\n    </tr>\n    <tr>\n      <th>260</th>\n      <td>2019-11-14 12:27:00+00:00</td>\n      <td>predicted_accuracy</td>\n      <td>3b32f32a-4069-4e70-aabd-f6c826ce4e18</td>\n      <td>0.799111</td>\n      <td></td>\n      <td></td>\n      <td></td>\n      <td>a4729971-8653-4aae-a7ab-624185056799</td>\n      <td>ace63d35-1615-4d4d-874c-12eb3908a1f9</td>\n      <td>3a27328f-e8f2-4143-8e84-969da2450da7</td>\n    </tr>\n  </tbody>\n</table>\n<p>261 rows \u00d7 10 columns</p>\n</div>",
                        "text/plain": "                                  ts                    id  \\\n0   2019-11-21 13:41:48.949879+00:00  data_drift_magnitude   \n1   2019-11-21 13:41:48.949879+00:00       drift_magnitude   \n2   2019-11-21 13:41:48.949879+00:00    predicted_accuracy   \n3          2019-11-21 09:26:54+00:00  data_drift_magnitude   \n4          2019-11-21 09:26:54+00:00       drift_magnitude   \n..                               ...                   ...   \n256        2019-11-14 12:27:00+00:00       drift_magnitude   \n257        2019-11-14 12:27:00+00:00    predicted_accuracy   \n258        2019-11-14 12:27:00+00:00  data_drift_magnitude   \n259        2019-11-14 12:27:00+00:00       drift_magnitude   \n260        2019-11-14 12:27:00+00:00    predicted_accuracy   \n\n                           measurement_id     value lower limit upper limit  \\\n0    fb45a887-1671-4d6b-90f8-e546469565c0  0.041551                           \n1    fb45a887-1671-4d6b-90f8-e546469565c0  0.011307                    0.05   \n2    fb45a887-1671-4d6b-90f8-e546469565c0  0.788693                           \n3    9800e136-1b7b-45ee-b9f2-93dbdc7854d9  0.041551                           \n4    9800e136-1b7b-45ee-b9f2-93dbdc7854d9  0.011307                    0.05   \n..                                    ...       ...         ...         ...   \n256  3b32f32a-4069-4e70-aabd-f6c826ce4e18  0.000889                    0.05   \n257  3b32f32a-4069-4e70-aabd-f6c826ce4e18  0.799111                           \n258  3b32f32a-4069-4e70-aabd-f6c826ce4e18  0.041667                           \n259  3b32f32a-4069-4e70-aabd-f6c826ce4e18  0.000889                    0.05   \n260  3b32f32a-4069-4e70-aabd-f6c826ce4e18  0.799111                           \n\n    tags                            binding_id  \\\n0         a4729971-8653-4aae-a7ab-624185056799   \n1         a4729971-8653-4aae-a7ab-624185056799   \n2         a4729971-8653-4aae-a7ab-624185056799   \n3         a4729971-8653-4aae-a7ab-624185056799   \n4         a4729971-8653-4aae-a7ab-624185056799   \n..   ...                                   ...   \n256       a4729971-8653-4aae-a7ab-624185056799   \n257       a4729971-8653-4aae-a7ab-624185056799   \n258       a4729971-8653-4aae-a7ab-624185056799   \n259       a4729971-8653-4aae-a7ab-624185056799   \n260       a4729971-8653-4aae-a7ab-624185056799   \n\n                          subscription_id  \\\n0    ace63d35-1615-4d4d-874c-12eb3908a1f9   \n1    ace63d35-1615-4d4d-874c-12eb3908a1f9   \n2    ace63d35-1615-4d4d-874c-12eb3908a1f9   \n3    ace63d35-1615-4d4d-874c-12eb3908a1f9   \n4    ace63d35-1615-4d4d-874c-12eb3908a1f9   \n..                                    ...   \n256  ace63d35-1615-4d4d-874c-12eb3908a1f9   \n257  ace63d35-1615-4d4d-874c-12eb3908a1f9   \n258  ace63d35-1615-4d4d-874c-12eb3908a1f9   \n259  ace63d35-1615-4d4d-874c-12eb3908a1f9   \n260  ace63d35-1615-4d4d-874c-12eb3908a1f9   \n\n                            deployment_id  \n0    3a27328f-e8f2-4143-8e84-969da2450da7  \n1    3a27328f-e8f2-4143-8e84-969da2450da7  \n2    3a27328f-e8f2-4143-8e84-969da2450da7  \n3    3a27328f-e8f2-4143-8e84-969da2450da7  \n4    3a27328f-e8f2-4143-8e84-969da2450da7  \n..                                    ...  \n256  3a27328f-e8f2-4143-8e84-969da2450da7  \n257  3a27328f-e8f2-4143-8e84-969da2450da7  \n258  3a27328f-e8f2-4143-8e84-969da2450da7  \n259  3a27328f-e8f2-4143-8e84-969da2450da7  \n260  3a27328f-e8f2-4143-8e84-969da2450da7  \n\n[261 rows x 10 columns]"
                    },
                    "execution_count": 130,
                    "metadata": {},
                    "output_type": "execute_result"
                }
            ],
            "source": "subscription.drift_monitoring.get_table_content()"
        },
        {
            "cell_type": "markdown",
            "metadata": {},
            "source": "**Note:** You can disable drift monitor running code in cell below."
        },
        {
            "cell_type": "code",
            "execution_count": 69,
            "metadata": {},
            "outputs": [],
            "source": "# subscription.drift_monitoring.disable()"
        },
        {
            "cell_type": "markdown",
            "metadata": {},
            "source": "## Configure Explainability"
        },
        {
            "cell_type": "markdown",
            "metadata": {},
            "source": "Finally, we provide OpenScale with the training data to enable and configure the explainability features."
        },
        {
            "cell_type": "code",
            "execution_count": 70,
            "metadata": {
                "scrolled": true
            },
            "outputs": [],
            "source": "from ibm_ai_openscale.supporting_classes import *\n\nsubscription.explainability.enable(training_data=pd_data)"
        },
        {
            "cell_type": "code",
            "execution_count": 71,
            "metadata": {
                "scrolled": true
            },
            "outputs": [],
            "source": "explainability_details = subscription.explainability.get_details()"
        },
        {
            "cell_type": "markdown",
            "metadata": {},
            "source": "## Run explanation for sample record"
        },
        {
            "cell_type": "code",
            "execution_count": 72,
            "metadata": {},
            "outputs": [
                {
                    "name": "stdout",
                    "output_type": "stream",
                    "text": "5dbe6f7f4c98a44289aa0c62e22c9c18-5\n"
                }
            ],
            "source": "transaction_id = subscription.payload_logging.get_table_content(limit=1)['scoring_id'].values[0]\n\nprint(transaction_id)"
        },
        {
            "cell_type": "code",
            "execution_count": 73,
            "metadata": {},
            "outputs": [
                {
                    "name": "stdout",
                    "output_type": "stream",
                    "text": "\n\n================================================================\n\n Looking for explanation for 5dbe6f7f4c98a44289aa0c62e22c9c18-5 \n\n================================================================\n\n\n\nin_progress....................\nfinished\n\n---------------------------\n Successfully finished run \n---------------------------\n\n\n"
                }
            ],
            "source": "explain_run = subscription.explainability.run(transaction_id=transaction_id, background_mode=False)"
        },
        {
            "cell_type": "code",
            "execution_count": 74,
            "metadata": {},
            "outputs": [
                {
                    "data": {
                        "image/png": "[encoded data removed]",
                        "text/plain": "<Figure size 432x288 with 1 Axes>"
                    },
                    "metadata": {
                        "needs_background": "light"
                    },
                    "output_type": "display_data"
                }
            ],
            "source": "explain_result = pd.DataFrame.from_dict(explain_run['entity']['predictions'][0]['explanation_features'])\nexplain_result.plot.barh(x='feature_name', y='weight', color='g', alpha=0.8);"
        },
        {
            "cell_type": "markdown",
            "metadata": {},
            "source": "# Custom monitors and metrics <a name=\"custom\"></a>"
        },
        {
            "cell_type": "markdown",
            "metadata": {},
            "source": "## Register custom monitor"
        },
        {
            "cell_type": "code",
            "execution_count": 75,
            "metadata": {},
            "outputs": [],
            "source": "def get_definition(monitor_name):\n    monitors_definitions = ai_client.data_mart.monitors.get_details()['monitor_definitions']\n    \n    for definition in monitors_definitions:\n        if monitor_name == definition['entity']['name']:\n            return definition\n    \n    return None"
        },
        {
            "cell_type": "code",
            "execution_count": 76,
            "metadata": {},
            "outputs": [],
            "source": "from ibm_ai_openscale.supporting_classes import Metric, Tag\n\nmonitor_name = 'my model performance'\nmetrics = [Metric(name='sensitivity', lower_limit_default=0.8), Metric(name='specificity', lower_limit_default=0.75)]\ntags = [Tag(name='region', description='customer geographical region')]\n\nexisting_definition = get_definition(monitor_name)\n\nif existing_definition is None:\n    my_monitor = ai_client.data_mart.monitors.add(name=monitor_name, metrics=metrics, tags=tags)\nelse:\n    my_monitor = existing_definition"
        },
        {
            "cell_type": "markdown",
            "metadata": {},
            "source": "### List monitors"
        },
        {
            "cell_type": "markdown",
            "metadata": {},
            "source": "### Get monitors uids and details"
        },
        {
            "cell_type": "code",
            "execution_count": 77,
            "metadata": {},
            "outputs": [
                {
                    "name": "stdout",
                    "output_type": "stream",
                    "text": "my_model_performance\n"
                }
            ],
            "source": "monitor_uid = my_monitor['metadata']['guid']\n\nprint(monitor_uid)"
        },
        {
            "cell_type": "code",
            "execution_count": 78,
            "metadata": {},
            "outputs": [
                {
                    "name": "stdout",
                    "output_type": "stream",
                    "text": "monitor definition details {'entity': {'metrics': [{'expected_direction': 'increasing', 'id': 'sensitivity', 'name': 'sensitivity', 'required': True, 'thresholds': [{'default': 0.8, 'type': 'lower_limit'}]}, {'expected_direction': 'increasing', 'id': 'specificity', 'name': 'specificity', 'required': True, 'thresholds': [{'default': 0.75, 'type': 'lower_limit'}]}], 'name': 'my model performance', 'tags': [{'description': 'customer geographical region', 'id': 'region', 'name': 'region', 'required': True}]}, 'metadata': {'guid': 'my_model_performance', 'url': '/v1/data_marts/27d2155a-b202-44ac-955e-ee20b64f6c89/monitor_definitions/my_model_performance', 'created_at': '2019-11-20T08:37:31.972Z'}}\n"
                }
            ],
            "source": "my_monitor = ai_client.data_mart.monitors.get_details(monitor_uid=monitor_uid)\nprint('monitor definition details', my_monitor)"
        },
        {
            "cell_type": "markdown",
            "metadata": {},
            "source": "## Enable custom monitor for subscription"
        },
        {
            "cell_type": "code",
            "execution_count": 79,
            "metadata": {},
            "outputs": [],
            "source": "from ibm_ai_openscale.supporting_classes import Threshold\n\nthresholds = [Threshold(metric_uid='sensitivity', lower_limit=0.9)]\nsubscription.monitoring.enable(monitor_uid=monitor_uid, thresholds=thresholds)"
        },
        {
            "cell_type": "markdown",
            "metadata": {},
            "source": "### Get monitor configuration details"
        },
        {
            "cell_type": "code",
            "execution_count": 80,
            "metadata": {},
            "outputs": [
                {
                    "data": {
                        "text/plain": "{'enabled': True,\n 'monitor_definition': {'entity': {'metrics': [{'expected_direction': 'increasing',\n     'id': 'sensitivity',\n     'name': 'sensitivity',\n     'required': True,\n     'thresholds': [{'default': 0.9, 'type': 'lower_limit'}]},\n    {'expected_direction': 'increasing',\n     'id': 'specificity',\n     'name': 'specificity',\n     'required': True}],\n   'name': 'my model performance',\n   'tags': [{'description': 'customer geographical region',\n     'id': 'region',\n     'name': 'region',\n     'required': True}]},\n  'metadata': {'guid': 'my_model_performance',\n   'url': '/v1/data_marts/27d2155a-b202-44ac-955e-ee20b64f6c89/monitor_definitions/my_model_performance',\n   'created_at': '2019-11-20T08:37:31.972Z'}},\n 'thresholds': [{'metric_id': 'sensitivity',\n   'type': 'lower_limit',\n   'value': 0.9}]}"
                    },
                    "execution_count": 80,
                    "metadata": {},
                    "output_type": "execute_result"
                }
            ],
            "source": "subscription.monitoring.get_details(monitor_uid=monitor_uid)"
        },
        {
            "cell_type": "markdown",
            "metadata": {},
            "source": "## Storing custom metrics"
        },
        {
            "cell_type": "code",
            "execution_count": 81,
            "metadata": {},
            "outputs": [
                {
                    "data": {
                        "text/plain": "[{'asset_id': 'fed54fed-f6dd-4dbc-98b0-135c89ff02bc',\n  'binding_id': 'a4729971-8653-4aae-a7ab-624185056799',\n  'measurement_id': 'f44324fa-9140-48e7-899c-b4c8cfa669ce',\n  'metrics': [{'region': 'us-south',\n    'sensitivity': 0.67,\n    'specificity': 0.78}],\n  'monitor_definition_id': 'my_model_performance',\n  'subscription_id': 'ace63d35-1615-4d4d-874c-12eb3908a1f9',\n  'timestamp': '2019-11-21T13:24:56.507126Z'}]"
                    },
                    "execution_count": 81,
                    "metadata": {},
                    "output_type": "execute_result"
                }
            ],
            "source": "metrics = {\"specificity\": 0.78, \"sensitivity\": 0.67, \"region\": \"us-south\"}\n\nsubscription.monitoring.store_metrics(monitor_uid=monitor_uid, metrics=metrics)"
        },
        {
            "cell_type": "markdown",
            "metadata": {},
            "source": "### List and get custom metrics"
        },
        {
            "cell_type": "code",
            "execution_count": 82,
            "metadata": {},
            "outputs": [
                {
                    "data": {
                        "text/html": "<HTML>\n        <body>\n            <h3>CustomMetrics (binding_id=a4729971-8653-4aae-a7ab-624185056799, subscription_id=ace63d35-1615-4d4d-874c-12eb3908a1f9)</h3>\n            <table style='border: 1px solid #dddddd; font-family: Courier'>\n                <th style='border: 1px solid #dddddd'>ts</th><th style='border: 1px solid #dddddd'>id</th><th style='border: 1px solid #dddddd'>measurement_id</th><th style='border: 1px solid #dddddd'>value</th><th style='border: 1px solid #dddddd'>lower limit</th><th style='border: 1px solid #dddddd'>upper limit</th><th style='border: 1px solid #dddddd'>tags</th><th style='border: 1px solid #dddddd'>binding_id</th><th style='border: 1px solid #dddddd'>subscription_id</th><th style='border: 1px solid #dddddd'>deployment_id</th>\n                <tr><td style='border: 1px solid #dddddd'>2019-11-21 13:24:56.507126+00:00</td><td style='border: 1px solid #dddddd'>sensitivity</td><td style='border: 1px solid #dddddd'>f44324fa-9140-48e7-899c-b4c8cfa669ce</td><td style='border: 1px solid #dddddd'>0.67</td><td style='border: 1px solid #dddddd'>0.9</td><td style='border: 1px solid #dddddd'></td><td style='border: 1px solid #dddddd'>region: us-south</td><td style='border: 1px solid #dddddd'>a4729971-8653-4aae-a7ab-624185056799</td><td style='border: 1px solid #dddddd'>ace63d35-1615-4d4d-874c-12eb3908a1f9</td><td style='border: 1px solid #dddddd'>3a27328f-e8f2-4143-8e84-969da2450da7</td></tr><tr><td style='border: 1px solid #dddddd'>2019-11-21 13:24:56.507126+00:00</td><td style='border: 1px solid #dddddd'>specificity</td><td style='border: 1px solid #dddddd'>f44324fa-9140-48e7-899c-b4c8cfa669ce</td><td style='border: 1px solid #dddddd'>0.78</td><td style='border: 1px solid #dddddd'></td><td style='border: 1px solid #dddddd'></td><td style='border: 1px solid #dddddd'>region: us-south</td><td style='border: 1px solid #dddddd'>a4729971-8653-4aae-a7ab-624185056799</td><td style='border: 1px solid #dddddd'>ace63d35-1615-4d4d-874c-12eb3908a1f9</td><td style='border: 1px solid #dddddd'>3a27328f-e8f2-4143-8e84-969da2450da7</td></tr>\n            </table>\n        </body>\n        </HTML>",
                        "text/plain": "<IPython.core.display.HTML object>"
                    },
                    "metadata": {},
                    "output_type": "display_data"
                }
            ],
            "source": "time.sleep(5)\n\nsubscription.monitoring.show_table(monitor_uid=monitor_uid)"
        },
        {
            "cell_type": "code",
            "execution_count": 83,
            "metadata": {},
            "outputs": [
                {
                    "data": {
                        "text/plain": "[{'asset_id': 'fed54fed-f6dd-4dbc-98b0-135c89ff02bc',\n  'binding_id': 'a4729971-8653-4aae-a7ab-624185056799',\n  'tags': [{'id': 'region', 'value': 'us-south'}],\n  'ts': '2019-11-21T13:24:56.507126Z',\n  'measurement_id': 'f44324fa-9140-48e7-899c-b4c8cfa669ce',\n  'monitor_definition_id': 'my_model_performance',\n  'subscription_id': 'ace63d35-1615-4d4d-874c-12eb3908a1f9',\n  'metrics': [{'lower_limit': 0.9, 'id': 'sensitivity', 'value': 0.67},\n   {'id': 'specificity', 'value': 0.78}]}]"
                    },
                    "execution_count": 83,
                    "metadata": {},
                    "output_type": "execute_result"
                }
            ],
            "source": "custom_metrics = subscription.monitoring.get_metrics(monitor_uid=monitor_uid, deployment_uid='credit')\ncustom_metrics"
        },
        {
            "cell_type": "code",
            "execution_count": 84,
            "metadata": {},
            "outputs": [
                {
                    "data": {
                        "image/png": "[encoded data removed]",
                        "text/plain": "<Figure size 432x288 with 1 Axes>"
                    },
                    "metadata": {
                        "needs_background": "light"
                    },
                    "output_type": "display_data"
                }
            ],
            "source": "custom_metrics_pandas = subscription.monitoring.get_table_content(monitor_uid=monitor_uid)\n\n%matplotlib inline\ncustom_metrics_pandas.plot.barh(x='id', y='value');"
        },
        {
            "cell_type": "markdown",
            "metadata": {},
            "source": "# Payload analytics <a name=\"analytics\"></a>"
        },
        {
            "cell_type": "markdown",
            "metadata": {},
            "source": "## Run data distributions calculation"
        },
        {
            "cell_type": "code",
            "execution_count": 85,
            "metadata": {},
            "outputs": [
                {
                    "name": "stdout",
                    "output_type": "stream",
                    "text": "\n\n===============================================================================\n\n Waiting for end of data distribution run e2a24991-756e-4f5c-870f-55b8c1f8ebb2 \n\n===============================================================================\n\n\n\ncompleted\n\n---------------------------\n Successfully finished run \n---------------------------\n\n\n"
                }
            ],
            "source": "from datetime import datetime\n\nstart_date = \"2018-01-01T00:00:00.00Z\"\nend_date = datetime.utcnow().isoformat() + \"Z\"\n\nsex_distribution = subscription.payload_logging.data_distribution.run(\n            start_date=start_date,\n            end_date=end_date,\n            group=['predictedLabel', 'Sex'],\n            agg=['count'])"
        },
        {
            "cell_type": "markdown",
            "metadata": {},
            "source": "## Get data distributions as pandas dataframe"
        },
        {
            "cell_type": "code",
            "execution_count": 86,
            "metadata": {},
            "outputs": [
                {
                    "data": {
                        "text/html": "<div>\n<style scoped>\n    .dataframe tbody tr th:only-of-type {\n        vertical-align: middle;\n    }\n\n    .dataframe tbody tr th {\n        vertical-align: top;\n    }\n\n    .dataframe thead th {\n        text-align: right;\n    }\n</style>\n<table border=\"1\" class=\"dataframe\">\n  <thead>\n    <tr style=\"text-align: right;\">\n      <th></th>\n      <th>predictedLabel</th>\n      <th>Sex</th>\n      <th>count</th>\n    </tr>\n  </thead>\n  <tbody>\n    <tr>\n      <th>0</th>\n      <td>No Risk</td>\n      <td>female</td>\n      <td>4</td>\n    </tr>\n    <tr>\n      <th>1</th>\n      <td>No Risk</td>\n      <td>male</td>\n      <td>3</td>\n    </tr>\n    <tr>\n      <th>2</th>\n      <td>Risk</td>\n      <td>male</td>\n      <td>1</td>\n    </tr>\n  </tbody>\n</table>\n</div>",
                        "text/plain": "  predictedLabel     Sex  count\n0        No Risk  female      4\n1        No Risk    male      3\n2           Risk    male      1"
                    },
                    "execution_count": 86,
                    "metadata": {},
                    "output_type": "execute_result"
                }
            ],
            "source": "sex_distribution_run_uid = sex_distribution['id']\ndistributions_pd = subscription.payload_logging.data_distribution.get_run_result(run_id=sex_distribution_run_uid, format='pandas')\ndistributions_pd"
        },
        {
            "cell_type": "code",
            "execution_count": 87,
            "metadata": {},
            "outputs": [
                {
                    "data": {
                        "image/png": "[encoded data removed]",
                        "text/plain": "<Figure size 432x288 with 1 Axes>"
                    },
                    "metadata": {
                        "needs_background": "light"
                    },
                    "output_type": "display_data"
                }
            ],
            "source": "subscription.payload_logging.data_distribution.show_chart(sex_distribution_run_uid);"
        },
        {
            "cell_type": "code",
            "execution_count": 88,
            "metadata": {},
            "outputs": [
                {
                    "name": "stdout",
                    "output_type": "stream",
                    "text": "\n\n===============================================================================\n\n Waiting for end of data distribution run 0b716725-905f-48f8-9bfc-0841b12892b7 \n\n===============================================================================\n\n\n\ncompleted\n\n---------------------------\n Successfully finished run \n---------------------------\n\n\n"
                }
            ],
            "source": "credit_history_distribution = subscription.payload_logging.data_distribution.run(\n            start_date=start_date,\n            end_date=end_date,\n            group=['predictedLabel', 'CreditHistory'],\n            agg=['count'])"
        },
        {
            "cell_type": "code",
            "execution_count": 89,
            "metadata": {},
            "outputs": [
                {
                    "data": {
                        "image/png": "[encoded data removed]",
                        "text/plain": "<Figure size 432x288 with 1 Axes>"
                    },
                    "metadata": {
                        "needs_background": "light"
                    },
                    "output_type": "display_data"
                }
            ],
            "source": "credit_history_distribution_run_uid = credit_history_distribution['id']\n\nsubscription.payload_logging.data_distribution.show_chart(credit_history_distribution_run_uid);"
        },
        {
            "cell_type": "markdown",
            "metadata": {},
            "source": "# Business Application <a name=\"application\"></a>"
        },
        {
            "cell_type": "code",
            "execution_count": 90,
            "metadata": {},
            "outputs": [],
            "source": "data_mart_id = subscription.get_details()['metadata']['url'].split('/service_bindings')[0].split('marts/')[1]\n"
        },
        {
            "cell_type": "code",
            "execution_count": 91,
            "metadata": {},
            "outputs": [],
            "source": "business_application_url = \"/\".join((WOS_CREDENTIALS['url'], data_mart_id,\"v2\", \"business_applications\" ))\n"
        },
        {
            "cell_type": "code",
            "execution_count": 92,
            "metadata": {},
            "outputs": [],
            "source": "payload_business_app = {\n    \"name\": \"Credit Risk Application\",\n    \"description\": \"Test Business Application\",\n    \"payload_fields\": [\n        {\n            \"name\": \"LoanDuration\",\n            \"type\": \"number\",\n        },\n        {\n            \"name\": \"LoanPurpose\",\n            \"type\": \"string\",\n        },\n        {\n            \"name\": \"LoanAmount\",\n            \"type\": \"number\",\n        },\n        {\n            \"name\": \"InstallmentPercent\",\n            \"type\": \"number\",\n        },\n        {\n            \"name\": \"AcceptedPercent\",\n            \"type\": \"number\",\n        },\n         {\n            \"name\": \"Accepted\",\n            \"type\": \"number\",\n        },\n        {\n            \"name\": \"AmountGranted\",\n            \"type\": \"number\",\n        },\n        {\n            \"name\": \"transaction_id\",\n            \"type\": \"string\",\n        }     \n    ],\n    \"business_metrics\": [\n        {\n            \"name\": \"Accepted Credits\",\n            \"expected_direction\": \"increasing\",\n            \"thresholds\": [\n                {\n                    \"type\": \"lower_limit\",\n                    \"default\": 2150,\n                }\n            ],\n            \"required\": False,\n            \"calculation_metadata\": {\n                \"field_name\": \"Accepted\",\n                \"aggregation\": \"sum\",\n                \"time_frame\": {\n                    \"count\": 1,\n                    \"unit\": \"day\"\n                }\n            }\n        },\n        {\n            \"name\": \"Credit Amount Granted\",\n            \"expected_direction\": \"increasing\",\n            \"thresholds\": [\n                {\n                    \"type\": \"lower_limit\",\n                    \"default\": 5500000,\n                }\n            ],\n            \"required\": False,\n            \"calculation_metadata\": {\n                \"field_name\": \"AmountGranted\",\n                \"aggregation\": \"sum\",\n                \"time_frame\": {\n                    \"count\": 1,\n                    \"unit\": \"day\"\n                }\n            }\n        }\n    ],\n    \"subscription_ids\": subscriptions_uids\n}\n\nresponse = requests.post(url=business_application_url, headers=ai_client._get_headers(), json=payload_business_app)\nbusiness_application_id = response.json()['metadata']['id']\ntime.sleep(10)"
        },
        {
            "cell_type": "markdown",
            "metadata": {},
            "source": "## Get business application details:"
        },
        {
            "cell_type": "code",
            "execution_count": 93,
            "metadata": {},
            "outputs": [],
            "source": "business_application_details_url = \"/\".join((business_application_url, business_application_id))"
        },
        {
            "cell_type": "code",
            "execution_count": 94,
            "metadata": {},
            "outputs": [
                {
                    "name": "stdout",
                    "output_type": "stream",
                    "text": "active\n"
                }
            ],
            "source": "business_app_status = None\nwhile business_app_status != 'active':\n    business_application_details = requests.get(url = business_application_details_url, headers=ai_client._get_headers()).json()\n    business_app_status = business_application_details['entity']['status']['state']\n    if business_app_status != 'active':\n        print(datetime.utcnow().strftime('%H:%M:%S'), business_app_status)\n        time.sleep(10)\nprint(business_app_status)"
        },
        {
            "cell_type": "code",
            "execution_count": 95,
            "metadata": {},
            "outputs": [],
            "source": "business_payload_data_set_id = business_application_details['entity']['business_payload_data_set_id']\nbusiness_metrics_monitor_instance_id =  business_application_details['entity']['business_metrics_monitor_instance_id']"
        },
        {
            "cell_type": "code",
            "execution_count": 96,
            "metadata": {},
            "outputs": [],
            "source": "monitor_instances_url = \"/\".join((WOS_CREDENTIALS['url'], data_mart_id,\"v2\", \"monitor_instances\" ))\n"
        },
        {
            "cell_type": "code",
            "execution_count": 97,
            "metadata": {},
            "outputs": [],
            "source": "response = requests.get(url=monitor_instances_url, headers=ai_client._get_headers())\ninstances = response.json()['monitor_instances']\n\nfor instance in instances:\n    if 'managed_by' in instance['entity'] and instance['entity']['managed_by'] == business_application_id:\n        if instance['entity']['monitor_definition_id'] == 'correlations':\n            corr_monitor_instance_id = instance['metadata']['id']\n\n    if instance['entity']['monitor_definition_id'] == 'drift':\n        drift_instance_id = instance['metadata']['id']"
        },
        {
            "cell_type": "markdown",
            "metadata": {},
            "source": "# Historical data <a name=\"historical\"></a>"
        },
        {
            "cell_type": "code",
            "execution_count": 98,
            "metadata": {},
            "outputs": [],
            "source": "historyDays = 7"
        },
        {
            "cell_type": "markdown",
            "metadata": {},
            "source": " ## Insert historical payloads"
        },
        {
            "cell_type": "markdown",
            "metadata": {},
            "source": "The next section of the notebook downloads and writes historical data to the payload and measurement tables to simulate a production model that has been monitored and receiving regular traffic for the last seven days. This historical data can be viewed in the Watson OpenScale user interface. The code uses the Python and REST APIs to write this data."
        },
        {
            "cell_type": "code",
            "execution_count": 99,
            "metadata": {
                "scrolled": false
            },
            "outputs": [
                {
                    "name": "stdout",
                    "output_type": "stream",
                    "text": "-rw-r--r-- 1 spark 4294967294 4.8M Nov 21 13:25 history_payloads_0.json\r\n-rw-r--r-- 1 spark 4294967294 4.8M Nov 21 13:25 history_payloads_1.json\r\n-rw-r--r-- 1 spark 4294967294 4.8M Nov 21 13:25 history_payloads_2.json\r\n-rw-r--r-- 1 spark 4294967294 4.8M Nov 21 13:25 history_payloads_3.json\r\n-rw-r--r-- 1 spark 4294967294 4.8M Nov 21 13:25 history_payloads_4.json\r\n-rw-r--r-- 1 spark 4294967294 4.8M Nov 21 13:25 history_payloads_5.json\r\n-rw-r--r-- 1 spark 4294967294 4.8M Nov 21 13:25 history_payloads_6.json\r\n"
                }
            ],
            "source": "with io.capture_output() as captured:\n    !wget https://raw.githubusercontent.com/pmservice/ai-openscale-tutorials/master/assets/historical_data/german_credit_risk/wml/history_payloads_0.json\n    !wget https://raw.githubusercontent.com/pmservice/ai-openscale-tutorials/master/assets/historical_data/german_credit_risk/wml/history_payloads_1.json\n    !wget https://raw.githubusercontent.com/pmservice/ai-openscale-tutorials/master/assets/historical_data/german_credit_risk/wml/history_payloads_2.json\n    !wget https://raw.githubusercontent.com/pmservice/ai-openscale-tutorials/master/assets/historical_data/german_credit_risk/wml/history_payloads_3.json\n    !wget https://raw.githubusercontent.com/pmservice/ai-openscale-tutorials/master/assets/historical_data/german_credit_risk/wml/history_payloads_4.json\n    !wget https://raw.githubusercontent.com/pmservice/ai-openscale-tutorials/master/assets/historical_data/german_credit_risk/wml/history_payloads_5.json\n    !wget https://raw.githubusercontent.com/pmservice/ai-openscale-tutorials/master/assets/historical_data/german_credit_risk/wml/history_payloads_6.json\n!ls -lh history_payloads_*.json"
        },
        {
            "cell_type": "code",
            "execution_count": 100,
            "metadata": {
                "scrolled": false
            },
            "outputs": [
                {
                    "name": "stdout",
                    "output_type": "stream",
                    "text": "Loading historical scoring payload...\nDay 0 injection.\nDaily loading finished.\nDay 1 injection.\nDaily loading finished.\nDay 2 injection.\nDaily loading finished.\nDay 3 injection.\nDaily loading finished.\nDay 4 injection.\nDaily loading finished.\nDay 5 injection.\nDaily loading finished.\nDay 6 injection.\nDaily loading finished.\n"
                }
            ],
            "source": "from ibm_ai_openscale.utils.inject_demo_data import DemoData\nimport os\n\nhistoricalData = DemoData(aios_credentials=WOS_CREDENTIALS)\nhistorical_data_path=os.getcwd()\n\nhistoricalData.load_historical_scoring_payload(subscription, deployment_uid,file_path=historical_data_path, day_template=\"history_payloads_{}.json\" )"
        },
        {
            "cell_type": "code",
            "execution_count": 101,
            "metadata": {
                "scrolled": true
            },
            "outputs": [
                {
                    "name": "stdout",
                    "output_type": "stream",
                    "text": "https://api.aiopenscale.cloud.ibm.com/v1/data_marts/27d2155a-b202-44ac-955e-ee20b64f6c89/metrics\n"
                }
            ],
            "source": "performance_metrics_url = WOS_CREDENTIALS['url'] + subscription.get_details()['metadata']['url'].split('/service_bindings')[0] + '/metrics'\nprint(performance_metrics_url)"
        },
        {
            "cell_type": "markdown",
            "metadata": {},
            "source": "## Insert historical fairness metrics"
        },
        {
            "cell_type": "code",
            "execution_count": 102,
            "metadata": {},
            "outputs": [
                {
                    "name": "stdout",
                    "output_type": "stream",
                    "text": "-rw-r--r-- 1 spark 4294967294 1.4M Nov 21 13:26 history_fairness.json\r\n"
                }
            ],
            "source": "with io.capture_output() as captured:\n    !wget https://raw.githubusercontent.com/pmservice/ai-openscale-tutorials/master/assets/historical_data/german_credit_risk/wml/history_fairness.json -O history_fairness.json\n!ls -lh history_fairness.json"
        },
        {
            "cell_type": "code",
            "execution_count": 103,
            "metadata": {},
            "outputs": [
                {
                    "name": "stdout",
                    "output_type": "stream",
                    "text": "Loading day 1\nLoading day 2\nLoading day 3\nLoading day 4\nLoading day 5\nLoading day 6\nLoading day 7\nFinished\n"
                }
            ],
            "source": "with open('history_fairness.json', 'r') as history_file:\n    payloads = json.load(history_file)\n\nfor day in range(historyDays):\n    print('Loading day', day + 1)\n    metrics = []\n    \n    for hour in range(24):\n        score_time = (datetime.utcnow() + timedelta(hours=(-(24*day + hour + 1)))).strftime('%Y-%m-%dT%H:%M:%SZ')\n        index = (day * 24 + hour) % len(payloads) # wrap around and reuse values if needed\n        \n        metric = {\n            'metric_type': 'fairness',\n            'binding_id': binding_uid,\n            'timestamp': score_time,\n            'subscription_id': model_uid,\n            'asset_revision': model_uid,\n            'deployment_id': deployment_uid,\n            'value': payloads[index]\n        }\n        metrics.append(metric)\n    response = requests.post(performance_metrics_url, json=metrics, headers=ai_client._get_headers())\nprint('Finished')"
        },
        {
            "cell_type": "markdown",
            "metadata": {},
            "source": "## Insert historical debias metrics"
        },
        {
            "cell_type": "code",
            "execution_count": 104,
            "metadata": {},
            "outputs": [
                {
                    "name": "stdout",
                    "output_type": "stream",
                    "text": "-rw-r--r-- 1 spark 4294967294 553K Nov 21 13:26 history_debias.json\r\n"
                }
            ],
            "source": "with io.capture_output() as captured:\n    !wget https://raw.githubusercontent.com/pmservice/ai-openscale-tutorials/master/assets/historical_data/german_credit_risk/wml/history_debias.json -O history_debias.json\n!ls -lh history_debias.json"
        },
        {
            "cell_type": "code",
            "execution_count": 105,
            "metadata": {},
            "outputs": [
                {
                    "name": "stdout",
                    "output_type": "stream",
                    "text": "Loading day 1\nLoading day 2\nLoading day 3\nLoading day 4\nLoading day 5\nLoading day 6\nLoading day 7\nFinished\n"
                }
            ],
            "source": "with open('history_debias.json', 'r') as history_file:\n    payloads = json.load(history_file)\n\nfor day in range(historyDays):\n    print('Loading day', day + 1)\n    debias_metrics = []\n    for hour in range(24):\n        score_time = (datetime.utcnow() + timedelta(hours=(-(24*day + hour + 1)))).strftime('%Y-%m-%dT%H:%M:%SZ')\n        index = (day * 24 + hour) % len(payloads) # wrap around and reuse values if needed\n\n        debiasMetric = {\n            'metric_type': 'debiased_fairness',\n            'binding_id': binding_uid,\n            'timestamp': score_time,\n            'subscription_id': subscription.uid,\n            'asset_revision': model_uid,\n            'deployment_id': deployment_uid,\n            'value': payloads[index]\n        }\n\n        debias_metrics.append(debiasMetric)\n    response = requests.post(performance_metrics_url, json=debias_metrics, headers=ai_client._get_headers())\nprint('Finished')"
        },
        {
            "cell_type": "markdown",
            "metadata": {},
            "source": "## Insert historical quality metrics"
        },
        {
            "cell_type": "code",
            "execution_count": 106,
            "metadata": {
                "scrolled": true
            },
            "outputs": [
                {
                    "name": "stdout",
                    "output_type": "stream",
                    "text": "Day 1\nDay 2\nDay 3\nDay 4\nDay 5\nDay 6\nDay 7\nFinished\n"
                }
            ],
            "source": "measurements = [0.76, 0.78, 0.68, 0.72, 0.73, 0.77, 0.80]\nfor day in range(historyDays):\n    quality_metrics = []\n    print('Day', day + 1)\n    for hour in range(24):\n        score_time = (datetime.utcnow() + timedelta(hours=(-(24*day + hour + 1)))).strftime('%Y-%m-%dT%H:%M:%SZ')\n        qualityMetric = {\n            'metric_type': 'quality',\n            'binding_id': binding_uid,\n            'timestamp': score_time,\n            'subscription_id': subscription.uid,\n            'asset_revision': model_uid,\n            'deployment_id': deployment_uid,\n            'value': {\n                'quality': measurements[day],\n                'threshold': 0.7,\n                'metrics': [\n                    {\n                        'name': 'auroc',\n                        'value': measurements[day],\n                        'threshold': 0.7\n                    }\n                ]\n            }\n        }\n        \n        quality_metrics.append(qualityMetric)\n    \n    response = requests.post(performance_metrics_url, json=quality_metrics, headers=ai_client._get_headers())\n\nprint('Finished')"
        },
        {
            "cell_type": "markdown",
            "metadata": {},
            "source": "## Insert historical confusion matrixes"
        },
        {
            "cell_type": "code",
            "execution_count": 107,
            "metadata": {},
            "outputs": [
                {
                    "name": "stdout",
                    "output_type": "stream",
                    "text": "-rw-r--r-- 1 spark 4294967294 79K Nov 21 13:26 history_quality_metrics.json\r\n"
                }
            ],
            "source": "with io.capture_output() as captured:\n    !wget https://raw.githubusercontent.com/pmservice/ai-openscale-tutorials/master/assets/historical_data/german_credit_risk/wml/history_quality_metrics.json -O history_quality_metrics.json\n!ls -lh history_quality_metrics.json"
        },
        {
            "cell_type": "code",
            "execution_count": 108,
            "metadata": {},
            "outputs": [
                {
                    "name": "stdout",
                    "output_type": "stream",
                    "text": "https://api.aiopenscale.cloud.ibm.com/v1/data_marts/27d2155a-b202-44ac-955e-ee20b64f6c89/measurements\n"
                }
            ],
            "source": "measurements_url = WOS_CREDENTIALS['url'] + subscription.get_details()['metadata']['url'].split('/service_bindings')[0] + '/measurements'\nprint(measurements_url)"
        },
        {
            "cell_type": "code",
            "execution_count": 109,
            "metadata": {},
            "outputs": [
                {
                    "name": "stdout",
                    "output_type": "stream",
                    "text": "Day 1\nDay 2\nDay 3\nDay 4\nDay 5\nDay 6\nDay 7\nFinished\n"
                }
            ],
            "source": "with open('history_quality_metrics.json') as json_file:\n    records = json.load(json_file)\n    \nfor day in range(historyDays):\n    index = 0\n    measurments = []\n    print('Day', day + 1)\n    \n    for hour in range(24):\n        score_time = (datetime.utcnow() + timedelta(hours=(-(24*day + hour + 1)))).strftime('%Y-%m-%dT%H:%M:%SZ')\n\n        measurement = {\n            \"monitor_definition_id\": 'quality',\n            \"binding_id\": subscription.binding_uid,\n            \"subscription_id\": subscription.uid,\n            \"asset_id\": subscription.source_uid,\n            'metrics': [records[index]['metrics']],\n            'sources': [records[index]['sources']],\n            'timestamp': score_time\n        }\n\n        measurments.append(measurement)\n        index+=1\n\n    response = requests.post(measurements_url, json=measurments, headers=ai_client._get_headers())\n\nprint('Finished')"
        },
        {
            "cell_type": "markdown",
            "metadata": {},
            "source": "## Insert historical performance metrics"
        },
        {
            "cell_type": "code",
            "execution_count": 110,
            "metadata": {},
            "outputs": [
                {
                    "name": "stdout",
                    "output_type": "stream",
                    "text": "Day 1\nDay 2\nDay 3\nDay 4\nDay 5\nDay 6\nDay 7\nFinished\n"
                }
            ],
            "source": "for day in range(historyDays):\n    performance_metrics = []\n    print('Day', day + 1)\n    for hour in range(24):\n        score_time = (datetime.utcnow() + timedelta(hours=(-(24*day + hour + 1)))).strftime('%Y-%m-%dT%H:%M:%SZ')\n        score_count = random.randint(60, 600)\n        score_resp = random.uniform(60, 300)\n\n        performanceMetric = {\n            'metric_type': 'performance',\n            'binding_id': binding_uid,\n            'timestamp': score_time,\n            'subscription_id': subscription.uid,\n            'asset_revision': model_uid,\n            'deployment_id': deployment_uid,\n            'value': {\n                'response_time': score_resp,\n                'records': score_count\n            }\n        }\n        performance_metrics.append(performanceMetric)\n\n    response = requests.post(performance_metrics_url, json=performance_metrics, headers=ai_client._get_headers())\n\nprint('Finished')"
        },
        {
            "cell_type": "markdown",
            "metadata": {},
            "source": "## Insert historical manual labeling"
        },
        {
            "cell_type": "code",
            "execution_count": 111,
            "metadata": {},
            "outputs": [
                {
                    "name": "stdout",
                    "output_type": "stream",
                    "text": "https://api.aiopenscale.cloud.ibm.com/v1/data_marts/27d2155a-b202-44ac-955e-ee20b64f6c89/manual_labelings\n"
                }
            ],
            "source": "manual_labeling_url = WOS_CREDENTIALS['url'] + subscription.get_details()['metadata']['url'].split('/service_bindings')[0] + '/manual_labelings'\nprint(manual_labeling_url)"
        },
        {
            "cell_type": "code",
            "execution_count": 112,
            "metadata": {},
            "outputs": [
                {
                    "name": "stdout",
                    "output_type": "stream",
                    "text": "-rw-r--r-- 1 spark 4294967294 926K Nov 21 13:26 history_manual_labeling.json\r\n"
                }
            ],
            "source": "with io.capture_output() as captured:\n    !wget https://raw.githubusercontent.com/pmservice/ai-openscale-tutorials/master/assets/historical_data/german_credit_risk/wml/history_manual_labeling.json -O history_manual_labeling.json\n!ls -lh history_manual_labeling.json"
        },
        {
            "cell_type": "code",
            "execution_count": 113,
            "metadata": {},
            "outputs": [
                {
                    "name": "stdout",
                    "output_type": "stream",
                    "text": "Loading day 1\nLoading day 2\nLoading day 3\nLoading day 4\nLoading day 5\nLoading day 6\nLoading day 7\nFinished\n"
                }
            ],
            "source": "with open('history_manual_labeling.json', 'r') as history_file:\n    records = json.load(history_file)\n\nfor day in range(historyDays):\n    print('Loading day', day + 1)\n    record_json = []\n    for hour in range(24):\n        for record in records:\n            if record['fastpath_history_day'] == day and record['fastpath_history_hour'] == hour:\n                record['binding_id'] = binding_uid\n                record['subscription_id'] = subscription.uid\n                record['asset_revision'] = model_uid\n                record['deployment_id'] = deployment_uid\n                record['scoring_timestamp'] = (datetime.utcnow() + timedelta(hours=(-(24*day + hour + 1)))).strftime('%Y-%m-%dT%H:%M:%SZ')\n                record_json.append(record)\n    response = requests.post(manual_labeling_url, json=record_json, headers=ai_client._get_headers())\n\nprint('Finished')"
        },
        {
            "cell_type": "markdown",
            "metadata": {},
            "source": "## Insert historical drift measurements"
        },
        {
            "cell_type": "code",
            "execution_count": 114,
            "metadata": {},
            "outputs": [
                {
                    "name": "stdout",
                    "output_type": "stream",
                    "text": "-rw-r--r-- 1 spark 4294967294 832K Nov 21 13:26 history_drift_measurement_0.json\r\n-rw-r--r-- 1 spark 4294967294 868K Nov 21 13:26 history_drift_measurement_1.json\r\n-rw-r--r-- 1 spark 4294967294 870K Nov 21 13:26 history_drift_measurement_2.json\r\n-rw-r--r-- 1 spark 4294967294 910K Nov 21 13:26 history_drift_measurement_3.json\r\n-rw-r--r-- 1 spark 4294967294 841K Nov 21 13:26 history_drift_measurement_4.json\r\n-rw-r--r-- 1 spark 4294967294 836K Nov 21 13:26 history_drift_measurement_5.json\r\n-rw-r--r-- 1 spark 4294967294 840K Nov 21 13:26 history_drift_measurement_6.json\r\n"
                }
            ],
            "source": "with io.capture_output() as captured:\n    !wget https://raw.githubusercontent.com/pmservice/ai-openscale-tutorials/master/assets/historical_data/german_credit_risk/wos/history_drift_measurement_0.json\n    !wget https://raw.githubusercontent.com/pmservice/ai-openscale-tutorials/master/assets/historical_data/german_credit_risk/wos/history_drift_measurement_1.json\n    !wget https://raw.githubusercontent.com/pmservice/ai-openscale-tutorials/master/assets/historical_data/german_credit_risk/wos/history_drift_measurement_2.json\n    !wget https://raw.githubusercontent.com/pmservice/ai-openscale-tutorials/master/assets/historical_data/german_credit_risk/wos/history_drift_measurement_3.json\n    !wget https://raw.githubusercontent.com/pmservice/ai-openscale-tutorials/master/assets/historical_data/german_credit_risk/wos/history_drift_measurement_4.json\n    !wget https://raw.githubusercontent.com/pmservice/ai-openscale-tutorials/master/assets/historical_data/german_credit_risk/wos/history_drift_measurement_5.json\n    !wget https://raw.githubusercontent.com/pmservice/ai-openscale-tutorials/master/assets/historical_data/german_credit_risk/wos/history_drift_measurement_6.json\n!ls -lh history_drift_measurement_*.json"
        },
        {
            "cell_type": "code",
            "execution_count": 115,
            "metadata": {},
            "outputs": [
                {
                    "name": "stdout",
                    "output_type": "stream",
                    "text": "https://api.aiopenscale.cloud.ibm.com/v1/data_marts/27d2155a-b202-44ac-955e-ee20b64f6c89/measurements\n"
                }
            ],
            "source": "print(measurements_url)"
        },
        {
            "cell_type": "code",
            "execution_count": 116,
            "metadata": {},
            "outputs": [
                {
                    "name": "stdout",
                    "output_type": "stream",
                    "text": "Loading day 1\nDaily loading finished.\nLoading day 2\nDaily loading finished.\nLoading day 3\nDaily loading finished.\nLoading day 4\nDaily loading finished.\nLoading day 5\nDaily loading finished.\nLoading day 6\nDaily loading finished.\nLoading day 7\nDaily loading finished.\n"
                }
            ],
            "source": "for day in range(historyDays):\n    measurements = []\n\n    with open(\"history_drift_measurement_{}.json\".format(day), 'r') as history_file:\n        drift_daily_measurements = json.load(history_file)\n    print('Loading day', day + 1)\n\n    #Historical data contains 8 records per day - each represents 3 hour drift window.\n    \n    for nb_window, records in enumerate(drift_daily_measurements):\n        for record in records:\n            window_start =  (datetime.utcnow() + timedelta(hours=(-(24 * day + (nb_window+1)*3 + 1)))).strftime('%Y-%m-%dT%H:%M:%SZ') # first_payload_record_timestamp_in_window (oldest)\n            window_end = (datetime.utcnow() + timedelta(hours=(-(24 * day + nb_window*3 + 1)))).strftime('%Y-%m-%dT%H:%M:%SZ')# last_payload_record_timestamp_in_window (most recent)\n            #modify start and end time for each record\n            record['sources'][0]['data']['start'] = window_start\n            record['sources'][0]['data']['end'] = window_end\n            \n            measurement = {\n                \"monitor_definition_id\": \"drift\",\n                \"binding_id\": subscription.binding_uid,\n                \"subscription_id\": subscription.uid,\n                \"asset_id\": subscription.source_uid,\n                'metrics': record['metrics'],\n                'sources': record['sources'],\n                'timestamp': window_start,\n                'process': 'Drift run for subscription_{}'.format(subscription.uid)\n            }\n\n            measurements.append(measurement)\n    response = requests.post(measurements_url, json=measurements, headers=ai_client._get_headers())\n    print(\"Daily loading finished.\")"
        },
        {
            "cell_type": "markdown",
            "metadata": {},
            "source": "## Insert Business payload "
        },
        {
            "cell_type": "code",
            "execution_count": 117,
            "metadata": {},
            "outputs": [
                {
                    "name": "stdout",
                    "output_type": "stream",
                    "text": "-rw-r--r-- 1 spark 4294967294 1.6M Nov 21 13:27 history_business_payloads_week.csv\r\n"
                }
            ],
            "source": "with io.capture_output() as captured:\n    !wget https://raw.githubusercontent.com/pmservice/ai-openscale-tutorials/master/assets/historical_data/german_credit_risk/wml/history_business_payloads_week.csv -O history_business_payloads_week.csv\n!ls -lh history_business_payloads_week.csv"
        },
        {
            "cell_type": "code",
            "execution_count": 118,
            "metadata": {},
            "outputs": [],
            "source": "historicalData.load_historical_business_payload(business_payload_data_set_id, file_path=historical_data_path, file_name=\"history_business_payloads_week.csv\")\ntime.sleep(60)"
        },
        {
            "cell_type": "markdown",
            "metadata": {},
            "source": "## Insert historical BKPIs"
        },
        {
            "cell_type": "code",
            "execution_count": 119,
            "metadata": {},
            "outputs": [
                {
                    "name": "stdout",
                    "output_type": "stream",
                    "text": "-rw-r--r-- 1 spark 4294967294 706 Nov 21 13:28 history_business_metrics.json\r\n"
                }
            ],
            "source": "with io.capture_output() as captured:\n    !wget https://raw.githubusercontent.com/pmservice/ai-openscale-tutorials/master/assets/historical_data/german_credit_risk/wml/history_business_metrics.json -O history_business_metrics.json\n!ls -lh history_business_metrics.json"
        },
        {
            "cell_type": "code",
            "execution_count": 120,
            "metadata": {
                "scrolled": true
            },
            "outputs": [],
            "source": "historicalData.load_historical_kpi_measurements(monitor_instance_id=business_metrics_monitor_instance_id, filename=\"history_business_metrics.json\", file_path=historical_data_path)"
        },
        {
            "cell_type": "markdown",
            "metadata": {},
            "source": "## Insert historical drift measurements "
        },
        {
            "cell_type": "code",
            "execution_count": 121,
            "metadata": {},
            "outputs": [
                {
                    "name": "stdout",
                    "output_type": "stream",
                    "text": "-rw-r--r-- 1 spark 4294967294 3.6K Nov 21 13:28 history_drift_metrics.json\r\n"
                }
            ],
            "source": "with io.capture_output() as captured:\n    !wget https://raw.githubusercontent.com/pmservice/ai-openscale-tutorials/master/assets/historical_data/german_credit_risk/wos/history_drift_metrics.json -O history_drift_metrics.json\n!ls -lh history_drift_metrics.json"
        },
        {
            "cell_type": "code",
            "execution_count": 122,
            "metadata": {},
            "outputs": [],
            "source": "historicalData.load_historical_drift_measurements(business_application_id=business_application_id, monitor_instance_id=drift_instance_id, filename=\"history_drift_metrics.json\", file_path=historical_data_path)"
        },
        {
            "cell_type": "markdown",
            "metadata": {},
            "source": "## Run correlation monitor"
        },
        {
            "cell_type": "code",
            "execution_count": 123,
            "metadata": {},
            "outputs": [],
            "source": "payload = {\n            \"triggered_by\": \"user\",\n            \"parameters\": {\n                \"max_number_of_days\": \"1000\"\n            },\n            \"business_metric_context\": {\n                \"business_application_id\": business_application_id,\n                \"metric_id\": \"\",\n                \"transaction_data_set_id\": \"\",\n                \"transaction_batch_id\": \"\"\n            }\n        }\n\nresponse = requests.post(url = \"/\".join((monitor_instances_url, corr_monitor_instance_id,\"runs\")), json=payload, headers=ai_client._get_headers())"
        },
        {
            "cell_type": "code",
            "execution_count": 124,
            "metadata": {},
            "outputs": [
                {
                    "name": "stdout",
                    "output_type": "stream",
                    "text": "Correlation status:  active\n"
                }
            ],
            "source": "corr_status = None\nwhile corr_status != 'active':\n    corr_details = requests.get(url = \"/\".join((monitor_instances_url, corr_monitor_instance_id)), headers=ai_client._get_headers()).json()\n    corr_status = corr_details['entity']['status']['state']\n    if corr_status != 'active':\n        print(datetime.utcnow().strftime('%H:%M:%S'), corr_status)\n        time.sleep(10)\nprint(\"Correlation status: \", corr_status)"
        },
        {
            "cell_type": "markdown",
            "metadata": {},
            "source": "## Additional data to help debugging"
        },
        {
            "cell_type": "code",
            "execution_count": 125,
            "metadata": {
                "scrolled": true
            },
            "outputs": [
                {
                    "name": "stdout",
                    "output_type": "stream",
                    "text": "Datamart: 27d2155a-b202-44ac-955e-ee20b64f6c89\nModel: fed54fed-f6dd-4dbc-98b0-135c89ff02bc\nDeployment: 3a27328f-e8f2-4143-8e84-969da2450da7\nBinding: a4729971-8653-4aae-a7ab-624185056799\nScoring URL: https://us-south.ml.cloud.ibm.com/v3/wml_instances/a4729971-8653-4aae-a7ab-624185056799/deployments/3a27328f-e8f2-4143-8e84-969da2450da7/online\n"
                }
            ],
            "source": "print('Datamart:', data_mart_id)\nprint('Model:', model_uid)\nprint('Deployment:', deployment_uid)\nprint('Binding:', binding_uid)\nprint('Scoring URL:', credit_risk_scoring_endpoint)"
        },
        {
            "cell_type": "markdown",
            "metadata": {},
            "source": "## Identify transactions for Explainability"
        },
        {
            "cell_type": "markdown",
            "metadata": {},
            "source": "Transaction IDs identified by the cells below can be copied and pasted into the Explainability tab of the OpenScale dashboard."
        },
        {
            "cell_type": "code",
            "execution_count": 126,
            "metadata": {
                "scrolled": false
            },
            "outputs": [
                {
                    "data": {
                        "text/html": "<div>\n<style scoped>\n    .dataframe tbody tr th:only-of-type {\n        vertical-align: middle;\n    }\n\n    .dataframe tbody tr th {\n        vertical-align: top;\n    }\n\n    .dataframe thead th {\n        text-align: right;\n    }\n</style>\n<table border=\"1\" class=\"dataframe\">\n  <thead>\n    <tr style=\"text-align: right;\">\n      <th></th>\n      <th>scoring_id</th>\n      <th>predictedLabel</th>\n      <th>probability</th>\n    </tr>\n  </thead>\n  <tbody>\n    <tr>\n      <th>0</th>\n      <td>5dbe6f7f4c98a44289aa0c62e22c9c18-5</td>\n      <td>No Risk</td>\n      <td>[0.9759676722594726, 0.02403232774052732]</td>\n    </tr>\n    <tr>\n      <th>1</th>\n      <td>5dbe6f7f4c98a44289aa0c62e22c9c18-8</td>\n      <td>No Risk</td>\n      <td>[0.8452500476914391, 0.15474995230856084]</td>\n    </tr>\n    <tr>\n      <th>2</th>\n      <td>5dbe6f7f4c98a44289aa0c62e22c9c18-4</td>\n      <td>No Risk</td>\n      <td>[0.94405880874146, 0.05594119125853995]</td>\n    </tr>\n    <tr>\n      <th>3</th>\n      <td>5dbe6f7f4c98a44289aa0c62e22c9c18-3</td>\n      <td>No Risk</td>\n      <td>[0.8877054276025375, 0.1122945723974625]</td>\n    </tr>\n    <tr>\n      <th>4</th>\n      <td>5dbe6f7f4c98a44289aa0c62e22c9c18-1</td>\n      <td>No Risk</td>\n      <td>[0.7262845281737482, 0.2737154718262519]</td>\n    </tr>\n    <tr>\n      <th>5</th>\n      <td>5dbe6f7f4c98a44289aa0c62e22c9c18-6</td>\n      <td>No Risk</td>\n      <td>[0.8736198972978712, 0.12638010270212885]</td>\n    </tr>\n    <tr>\n      <th>6</th>\n      <td>5dbe6f7f4c98a44289aa0c62e22c9c18-2</td>\n      <td>No Risk</td>\n      <td>[0.6106955826878451, 0.389304417312155]</td>\n    </tr>\n    <tr>\n      <th>7</th>\n      <td>5dbe6f7f4c98a44289aa0c62e22c9c18-7</td>\n      <td>Risk</td>\n      <td>[0.077399878377203, 0.922600121622797]</td>\n    </tr>\n    <tr>\n      <th>8</th>\n      <td>1ed172ade9c24ad8941540e5a94210cd-1</td>\n      <td>No Risk</td>\n      <td>[0.9446189778243669, 0.055381022175633045]</td>\n    </tr>\n    <tr>\n      <th>9</th>\n      <td>a58033402c5249e5be1e36d562f4574a-1</td>\n      <td>No Risk</td>\n      <td>[0.8669971575013028, 0.13300284249869726]</td>\n    </tr>\n    <tr>\n      <th>10</th>\n      <td>9595a62589ed46c38b58cb6054679718-1</td>\n      <td>No Risk</td>\n      <td>[0.9607911194218659, 0.039208880578134084]</td>\n    </tr>\n    <tr>\n      <th>11</th>\n      <td>d7e00a48ccb643fd981162a990a9a9df-1</td>\n      <td>No Risk</td>\n      <td>[0.8293622617193058, 0.1706377382806942]</td>\n    </tr>\n    <tr>\n      <th>12</th>\n      <td>bfe4a1b289d241b6b826fb3183e6e5d4-1</td>\n      <td>No Risk</td>\n      <td>[0.7466573599022788, 0.2533426400977212]</td>\n    </tr>\n    <tr>\n      <th>13</th>\n      <td>d7916f9f89624f8aac6ff99d143b1c24-1</td>\n      <td>No Risk</td>\n      <td>[0.5849450288900755, 0.4150549711099246]</td>\n    </tr>\n    <tr>\n      <th>14</th>\n      <td>32056d54c1a24327a172d6ab2955985d-1</td>\n      <td>No Risk</td>\n      <td>[0.6552516772484969, 0.34474832275150313]</td>\n    </tr>\n    <tr>\n      <th>15</th>\n      <td>088a954a71e14f91a54c4bf051f16df5-1</td>\n      <td>No Risk</td>\n      <td>[0.7201036600499557, 0.2798963399500443]</td>\n    </tr>\n    <tr>\n      <th>16</th>\n      <td>47aabe20200f4b7ca4aa9db623a362ba-1</td>\n      <td>No Risk</td>\n      <td>[0.7209500972722663, 0.27904990272773367]</td>\n    </tr>\n    <tr>\n      <th>17</th>\n      <td>bec73a2639d9433fac23782658f180ca-1</td>\n      <td>No Risk</td>\n      <td>[0.7566753325112161, 0.2433246674887839]</td>\n    </tr>\n    <tr>\n      <th>18</th>\n      <td>45fa8ed98ca04971ae415e949de44ffb-1</td>\n      <td>No Risk</td>\n      <td>[0.5708654995768268, 0.4291345004231732]</td>\n    </tr>\n    <tr>\n      <th>19</th>\n      <td>ba8dbc491f0040bf8b6968d94748510c-1</td>\n      <td>Risk</td>\n      <td>[0.46275041088000524, 0.5372495891199948]</td>\n    </tr>\n  </tbody>\n</table>\n</div>",
                        "text/plain": "                            scoring_id predictedLabel  \\\n0   5dbe6f7f4c98a44289aa0c62e22c9c18-5        No Risk   \n1   5dbe6f7f4c98a44289aa0c62e22c9c18-8        No Risk   \n2   5dbe6f7f4c98a44289aa0c62e22c9c18-4        No Risk   \n3   5dbe6f7f4c98a44289aa0c62e22c9c18-3        No Risk   \n4   5dbe6f7f4c98a44289aa0c62e22c9c18-1        No Risk   \n5   5dbe6f7f4c98a44289aa0c62e22c9c18-6        No Risk   \n6   5dbe6f7f4c98a44289aa0c62e22c9c18-2        No Risk   \n7   5dbe6f7f4c98a44289aa0c62e22c9c18-7           Risk   \n8   1ed172ade9c24ad8941540e5a94210cd-1        No Risk   \n9   a58033402c5249e5be1e36d562f4574a-1        No Risk   \n10  9595a62589ed46c38b58cb6054679718-1        No Risk   \n11  d7e00a48ccb643fd981162a990a9a9df-1        No Risk   \n12  bfe4a1b289d241b6b826fb3183e6e5d4-1        No Risk   \n13  d7916f9f89624f8aac6ff99d143b1c24-1        No Risk   \n14  32056d54c1a24327a172d6ab2955985d-1        No Risk   \n15  088a954a71e14f91a54c4bf051f16df5-1        No Risk   \n16  47aabe20200f4b7ca4aa9db623a362ba-1        No Risk   \n17  bec73a2639d9433fac23782658f180ca-1        No Risk   \n18  45fa8ed98ca04971ae415e949de44ffb-1        No Risk   \n19  ba8dbc491f0040bf8b6968d94748510c-1           Risk   \n\n                                   probability  \n0    [0.9759676722594726, 0.02403232774052732]  \n1    [0.8452500476914391, 0.15474995230856084]  \n2      [0.94405880874146, 0.05594119125853995]  \n3     [0.8877054276025375, 0.1122945723974625]  \n4     [0.7262845281737482, 0.2737154718262519]  \n5    [0.8736198972978712, 0.12638010270212885]  \n6      [0.6106955826878451, 0.389304417312155]  \n7       [0.077399878377203, 0.922600121622797]  \n8   [0.9446189778243669, 0.055381022175633045]  \n9    [0.8669971575013028, 0.13300284249869726]  \n10  [0.9607911194218659, 0.039208880578134084]  \n11    [0.8293622617193058, 0.1706377382806942]  \n12    [0.7466573599022788, 0.2533426400977212]  \n13    [0.5849450288900755, 0.4150549711099246]  \n14   [0.6552516772484969, 0.34474832275150313]  \n15    [0.7201036600499557, 0.2798963399500443]  \n16   [0.7209500972722663, 0.27904990272773367]  \n17    [0.7566753325112161, 0.2433246674887839]  \n18    [0.5708654995768268, 0.4291345004231732]  \n19   [0.46275041088000524, 0.5372495891199948]  "
                    },
                    "execution_count": 126,
                    "metadata": {},
                    "output_type": "execute_result"
                }
            ],
            "source": "payload_data = subscription.payload_logging.get_table_content(limit=20)\npayload_data.filter(items=['scoring_id', 'predictedLabel', 'probability'])"
        },
        {
            "cell_type": "markdown",
            "metadata": {},
            "source": "## Congratulations!\n\nYou have finished the hands-on lab for IBM Watson OpenScale. You can now view the [OpenScale Dashboard](https://aiopenscale.cloud.ibm.com/). Click on the tile for the German Credit model to see fairness, accuracy, and performance monitors. Click on the timeseries graph to get detailed information on transactions during a specific time window.\n\n## Next steps\n\nOpenScale shows model performance over time. You have two options to keep data flowing to your OpenScale graphs:\n  * Download, configure and schedule the [model feed notebook](https://raw.githubusercontent.com/emartensibm/german-credit/master/german_credit_scoring_feed.ipynb). This notebook can be set up with your WML credentials, and scheduled to provide a consistent flow of scoring requests to your model, which will appear in your OpenScale monitors.\n  * Re-run this notebook. Running this notebook from the beginning will delete and re-create the model and deployment, and re-create the historical data. Please note that the payload and measurement logs for the previous deployment will continue to be stored in your datamart, and can be deleted if necessary."
        },
        {
            "cell_type": "markdown",
            "metadata": {},
            "source": "## Authors\n\nEric Martens, is a technical specialist having expertise in analysis and description of business processes, and their translation into functional and non-functional IT requirements. He acts as the interpreter between the worlds of IT and business.\n\nLukasz Cmielowski, PhD, is an Automation Architect and Data Scientist at IBM with a track record of developing enterprise-level applications that substantially increases clients' ability to turn data into actionable knowledge."
        }
    ],
    "metadata": {
        "kernelspec": {
            "display_name": "Python 3.6 with Spark",
            "language": "python3",
            "name": "python36"
        },
        "language_info": {
            "codemirror_mode": {
                "name": "ipython",
                "version": 3
            },
            "file_extension": ".py",
            "mimetype": "text/x-python",
            "name": "python",
            "nbconvert_exporter": "python",
            "pygments_lexer": "ipython3",
            "version": "3.6.8"
        }
    },
    "nbformat": 4,
    "nbformat_minor": 1
}