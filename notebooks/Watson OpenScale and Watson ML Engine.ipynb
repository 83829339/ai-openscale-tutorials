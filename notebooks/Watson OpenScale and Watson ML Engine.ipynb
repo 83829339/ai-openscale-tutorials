{
    "nbformat_minor": 1, 
    "cells": [
        {
            "source": "<img src=\"https://github.com/pmservice/ai-openscale-tutorials/raw/master/notebooks/images/banner.png\" align=\"left\" alt=\"banner\">", 
            "cell_type": "markdown", 
            "metadata": {}
        }, 
        {
            "source": "# Working with Watson Machine Learning", 
            "cell_type": "markdown", 
            "metadata": {}
        }, 
        {
            "source": "This notebook should be run in a Watson Studio project, using with **Python 3.5 with Spark** runtime environment. **If you are viewing this in Watson Studio and do not see Python 3.5 with Spark in the upper right corner of your screen, please update the runtime now.** It requires service credentials for the following Cloud services:\n  * Watson OpenScale\n  * Watson Machine Learning\n  \nIf you have a paid Cloud account, you may also provision a **Databases for PostgreSQL** or **Db2 Warehouse** service to take full advantage of integration with Watson Studio and continuous learning services. If you choose not to provision this paid service, you can use the free internal PostgreSQL storage with OpenScale, but will not be able to configure continuous learning for your model.\n\nThe notebook will train, create and deploy a German Credit Risk model, configure OpenScale to monitor that deployment, and inject seven days' worth of historical records and measurements for viewing in the OpenScale Insights dashboard.", 
            "cell_type": "markdown", 
            "metadata": {}
        }, 
        {
            "source": "### Contents\n\n- [Setup](#setup)\n- [Model building and deployment](#model)\n- [OpenScale configuration](#openscale)\n- [Quality monitor and feedback logging](#quality)\n- [Fairness monitoring and explanations](#fairness)\n- [Custom monitors and metrics](#custom)\n- [Payload analytics](#analytics)\n- [Historical data](#historical)", 
            "cell_type": "markdown", 
            "metadata": {}
        }, 
        {
            "source": "# Setup <a name=\"setup\"></a>", 
            "cell_type": "markdown", 
            "metadata": {}
        }, 
        {
            "source": "## Package installation", 
            "cell_type": "markdown", 
            "metadata": {
                "collapsed": true
            }
        }, 
        {
            "execution_count": 2, 
            "cell_type": "code", 
            "metadata": {}, 
            "outputs": [
                {
                    "output_type": "stream", 
                    "name": "stdout", 
                    "text": "\u001b[31mtensorflow 1.3.0 requires tensorflow-tensorboard<0.2.0,>=0.1.0, which is not installed.\u001b[0m\n\u001b[31mpyspark 2.3.0 requires py4j==0.10.6, which is not installed.\u001b[0m\nSuccessfully installed certifi-2019.3.9 chardet-3.0.4 docutils-0.14 h5py-2.9.0 ibm-ai-openscale-2.1.6 ibm-cos-sdk-2.4.4 ibm-cos-sdk-core-2.4.4 ibm-cos-sdk-s3transfer-2.4.4 idna-2.8 jmespath-0.9.4 lomond-0.3.3 numpy-1.16.2 pandas-0.24.2 psycopg2-2.7.7 python-dateutil-2.8.0 pytz-2019.1 requests-2.21.0 six-1.12.0 tabulate-0.8.3 tqdm-4.31.1 urllib3-1.24.1 watson-machine-learning-client-1.0.364\n\u001b[31mpyspark 2.3.0 requires py4j==0.10.6, which is not installed.\u001b[0m\n\u001b[31mtensorflow 1.3.0 requires tensorflow-tensorboard<0.2.0,>=0.1.0, which is not installed.\u001b[0m\nSuccessfully installed numpy-1.16.2\n\u001b[31mtensorflow 1.3.0 requires tensorflow-tensorboard<0.2.0,>=0.1.0, which is not installed.\u001b[0m\n\u001b[31mpyspark 2.3.0 requires py4j==0.10.6, which is not installed.\u001b[0m\nSuccessfully installed PyWavelets-1.0.3 cycler-0.10.0 decorator-4.4.0 imageio-2.5.0 lime-0.1.1.33 matplotlib-2.1.0 networkx-2.2 numpy-1.16.2 pillow-6.0.0 pyparsing-2.4.0 python-dateutil-2.8.0 pytz-2019.1 scikit-image-0.15.0 scikit-learn-0.20.3 scipy-1.2.1 six-1.12.0\n\u001b[31mtensorflow 1.3.0 requires tensorflow-tensorboard<0.2.0,>=0.1.0, which is not installed.\u001b[0m\n\u001b[31mpyspark 2.3.0 requires py4j==0.10.6, which is not installed.\u001b[0m\nSuccessfully installed SciPy-1.2.1 numpy-1.16.2\n\u001b[31mpyspark 2.3.0 requires py4j==0.10.6, which is not installed.\u001b[0m\n\u001b[31mtensorflow 1.3.0 requires tensorflow-tensorboard<0.2.0,>=0.1.0, which is not installed.\u001b[0m\n\u001b[33mTarget directory /home/spark/shared/user-libs/python3/urllib3 already exists. Specify --upgrade to force replacement.\u001b[0m\n\u001b[33mTarget directory /home/spark/shared/user-libs/python3/requests already exists. Specify --upgrade to force replacement.\u001b[0m\n\u001b[33mTarget directory /home/spark/shared/user-libs/python3/chardet-3.0.4.dist-info already exists. Specify --upgrade to force replacement.\u001b[0m\n\u001b[33mTarget directory /home/spark/shared/user-libs/python3/certifi-2019.3.9.dist-info already exists. Specify --upgrade to force replacement.\u001b[0m\n\u001b[33mTarget directory /home/spark/shared/user-libs/python3/requests-2.21.0.dist-info already exists. Specify --upgrade to force replacement.\u001b[0m\n\u001b[33mTarget directory /home/spark/shared/user-libs/python3/urllib3-1.24.1.dist-info already exists. Specify --upgrade to force replacement.\u001b[0m\n\u001b[33mTarget directory /home/spark/shared/user-libs/python3/idna-2.8.dist-info already exists. Specify --upgrade to force replacement.\u001b[0m\n\u001b[33mTarget directory /home/spark/shared/user-libs/python3/certifi already exists. Specify --upgrade to force replacement.\u001b[0m\n\u001b[33mTarget directory /home/spark/shared/user-libs/python3/idna already exists. Specify --upgrade to force replacement.\u001b[0m\n\u001b[33mTarget directory /home/spark/shared/user-libs/python3/six-1.12.0.dist-info already exists. Specify --upgrade to force replacement.\u001b[0m\n\u001b[33mTarget directory /home/spark/shared/user-libs/python3/chardet already exists. Specify --upgrade to force replacement.\u001b[0m\n\u001b[33mTarget directory /home/spark/shared/user-libs/python3/.DS_Store already exists. Specify --upgrade to force replacement.\u001b[0m\n\u001b[33mTarget directory /home/spark/shared/user-libs/python3/__pycache__ already exists. Specify --upgrade to force replacement.\u001b[0m\n\u001b[33mTarget directory /home/spark/shared/user-libs/python3/six.py already exists. Specify --upgrade to force replacement.\u001b[0m\n\u001b[33mTarget directory /home/spark/shared/user-libs/python3/bin already exists. Specify --upgrade to force replacement.\u001b[0m\nSuccessfully installed astunparse-1.6.2 certifi-2019.3.9 chardet-3.0.4 colour-0.1.5 geojson-2.4.1 idna-2.8 lxml-4.3.3 markdown-3.1 mpld3-0.3 pixiedust-1.1.15 requests-2.21.0 setuptools-41.0.0 six-1.12.0 urllib3-1.24.1 wheel-0.33.1\n"
                }
            ], 
            "source": "!rm -rf /home/spark/shared/user-libs/python3/*\n\n!pip install --upgrade ibm-ai-openscale --no-cache | tail -n 1\n!pip install --upgrade numpy --no-cache | tail -n 1\n!pip install --upgrade lime --no-cache | tail -n 1\n!pip install --upgrade SciPy --no-cache | tail -n 1\n!pip install pixiedust | tail -n 1"
        }, 
        {
            "source": "## Provision services and configure credentials", 
            "cell_type": "markdown", 
            "metadata": {}
        }, 
        {
            "source": "If you have not already, provision an instance of IBM Watson OpenScale using the [OpenScale link in the Cloud catalog](https://cloud.ibm.com/catalog/services/watson-openscale).", 
            "cell_type": "markdown", 
            "metadata": {}
        }, 
        {
            "source": "Your Cloud API key can be generated by going to the [**Users** section of the Cloud console](https://cloud.ibm.com/iam#/users). From that page, click your name, scroll down to the **API Keys** section, and click **Create an IBM Cloud API key**. Give your key a name and click **Create**, then copy the created key and paste it below.", 
            "cell_type": "markdown", 
            "metadata": {}
        }, 
        {
            "source": "**NOTE:** You can also get OpenScale `API_KEY` using IBM CLOUD CLI.\n\nHow to install IBM Cloud (bluemix) console: [instruction](https://console.bluemix.net/docs/cli/reference/ibmcloud/download_cli.html#install_use)\n\nHow to get api key using console:\n```\nbx login --sso\nbx iam api-key-create 'my_key'\n```", 
            "cell_type": "markdown", 
            "metadata": {}
        }, 
        {
            "execution_count": 61, 
            "cell_type": "code", 
            "metadata": {
                "scrolled": true
            }, 
            "outputs": [], 
            "source": "CLOUD_API_KEY = \"PASTE HERE\""
        }, 
        {
            "execution_count": 62, 
            "cell_type": "code", 
            "metadata": {}, 
            "outputs": [], 
            "source": "# The code was removed by Watson Studio for sharing."
        }, 
        {
            "source": "Next you will need credentials for Watson Machine Learning. If you already have a WML instance, you may use credentials for it. To provision a new Lite instance of WML, use the [Cloud catalog](https://cloud.ibm.com/catalog/services/machine-learning), give your service a name, and click **Create**. Once your instance is created, click the **Service Credentials** link on the left side of the screen. Click the **New credential** button, give your credentials a name, and click **Add**. Your new credentials can be accessed by clicking the **View credentials** button. Copy and paste your WML credentials into the cell below.", 
            "cell_type": "markdown", 
            "metadata": {}
        }, 
        {
            "execution_count": 63, 
            "cell_type": "code", 
            "metadata": {
                "scrolled": true
            }, 
            "outputs": [], 
            "source": "WML_CREDENTIALS = {\n    \"apikey\": \"key\",\n    \"iam_apikey_description\": \"description\",\n    \"iam_apikey_name\": \"auto-generated-apikey\",\n    \"iam_role_crn\": \"crn:v1:bluemix:public:iam::::serviceRole:Writer\",\n    \"iam_serviceid_crn\": \"crn:v1:bluemix:public:iam-identity::\",\n    \"instance_id\": \"instance_id\",\n    \"password\": \"password\",\n    \"url\": \"https://us-south.ml.cloud.ibm.com\",\n    \"username\": \"username\"\n}"
        }, 
        {
            "execution_count": 64, 
            "cell_type": "code", 
            "metadata": {}, 
            "outputs": [], 
            "source": "# The code was removed by Watson Studio for sharing."
        }, 
        {
            "source": "This tutorial can use Databases for PostgreSQL, Db2 Warehouse, or a free internal verison of PostgreSQL to create a datamart for OpenScale.\n\nIf you have previously configured OpenScale, it will use your existing datamart, and not interfere with any models you are currently monitoring. Do not update the cell below.\n\nIf you do not have a paid Cloud account or would prefer not to provision this paid service, you may use the free internal PostgreSQL service with OpenScale. Do not update the cell below.\n\nTo provision a new instance of Db2 Warehouse, locate [Db2 Warehouse in the Cloud catalog](https://cloud.ibm.com/catalog/services/db2-warehouse), give your service a name, and click **Create**. Once your instance is created, click the **Service Credentials** link on the left side of the screen. Click the **New credential** button, give your credentials a name, and click **Add**. Your new credentials can be accessed by clicking the **View credentials** button. Copy and paste your Db2 Warehouse credentials into the cell below.\n\nTo provision a new instance of Databases for PostgreSQL, locate [Databases for PostgreSQL in the Cloud catalog](https://cloud.ibm.com/catalog/services/databases-for-postgresql), give your service a name, and click **Create**. Once your instance is created, click the **Service Credentials** link on the left side of the screen. Click the **New credential** button, give your credentials a name, and click **Add**. Your new credentials can be accessed by clicking the **View credentials** button. Copy and paste your Databases for PostgreSQL credentials into the cell below.", 
            "cell_type": "markdown", 
            "metadata": {}
        }, 
        {
            "execution_count": 65, 
            "cell_type": "code", 
            "metadata": {
                "scrolled": true
            }, 
            "outputs": [], 
            "source": "DB_CREDENTIALS = None"
        }, 
        {
            "source": "__If you previously configured OpenScale to use the free internal version of PostgreSQL, you can switch to a new datamart using a paid database service.__ If you would like to delete the internal PostgreSQL configuration and create a new one using service credentials supplied in the cell above, set the __KEEP_MY_INTERNAL_POSTGRES__ variable below to __False__ below. In this case, the notebook will remove your existing internal PostgreSQL datamart and create a new one with the supplied credentials. __*NO DATA MIGRATION WILL OCCUR.*__", 
            "cell_type": "markdown", 
            "metadata": {}
        }, 
        {
            "execution_count": 66, 
            "cell_type": "code", 
            "metadata": {}, 
            "outputs": [], 
            "source": "KEEP_MY_INTERNAL_POSTGRES = True"
        }, 
        {
            "source": "## Run the notebook\n\nAt this point, the notebook is ready to run. You can either run the cells one at a time, or click the **Kernel** option above and select **Restart and Run All** to run all the cells.", 
            "cell_type": "markdown", 
            "metadata": {}
        }, 
        {
            "source": "# Model building and deployment <a name=\"model\"></a>", 
            "cell_type": "markdown", 
            "metadata": {}
        }, 
        {
            "source": "In this section you will learn how to train Spark MLLib model and next deploy it as web-service using Watson Machine Learning service.", 
            "cell_type": "markdown", 
            "metadata": {}
        }, 
        {
            "source": "## Load the training data from github", 
            "cell_type": "markdown", 
            "metadata": {}
        }, 
        {
            "execution_count": 67, 
            "cell_type": "code", 
            "metadata": {
                "scrolled": true
            }, 
            "outputs": [
                {
                    "output_type": "stream", 
                    "name": "stdout", 
                    "text": "--2019-04-10 12:26:19--  https://raw.githubusercontent.com/emartensibm/german-credit/master/german_credit_data_biased_training.csv\nResolving raw.githubusercontent.com (raw.githubusercontent.com)... 151.101.48.133\nConnecting to raw.githubusercontent.com (raw.githubusercontent.com)|151.101.48.133|:443... connected.\nHTTP request sent, awaiting response... 200 OK\nLength: 689622 (673K) [text/plain]\nSaving to: 'german_credit_data_biased_training.csv'\n\ngerman_credit_data_ 100%[===================>] 673.46K  --.-KB/s    in 0.02s   \n\n2019-04-10 12:26:19 (29.2 MB/s) - 'german_credit_data_biased_training.csv' saved [689622/689622]\n\n"
                }
            ], 
            "source": "!rm german_credit_data_biased_training.csv\n!wget https://raw.githubusercontent.com/emartensibm/german-credit/master/german_credit_data_biased_training.csv"
        }, 
        {
            "execution_count": 68, 
            "cell_type": "code", 
            "metadata": {
                "scrolled": true
            }, 
            "outputs": [
                {
                    "execution_count": 68, 
                    "metadata": {}, 
                    "data": {
                        "text/plain": "Row(CheckingStatus='0_to_200', LoanDuration=31, CreditHistory='credits_paid_to_date', LoanPurpose='other', LoanAmount=1889, ExistingSavings='100_to_500', EmploymentDuration='less_1', InstallmentPercent=3, Sex='female', OthersOnLoan='none', CurrentResidenceDuration=3, OwnsProperty='savings_insurance', Age=32, InstallmentPlans='none', Housing='own', ExistingCreditsCount=1, Job='skilled', Dependents=1, Telephone='none', ForeignWorker='yes', Risk='No Risk')"
                    }, 
                    "output_type": "execute_result"
                }
            ], 
            "source": "from pyspark.sql import SparkSession\nimport pandas as pd\nimport json\n\nspark = SparkSession.builder.getOrCreate()\npd_data = pd.read_csv(\"german_credit_data_biased_training.csv\", sep=\",\", header=0)\ndf_data = spark.read.csv(path=\"german_credit_data_biased_training.csv\", sep=\",\", header=True, inferSchema=True)\ndf_data.head()"
        }, 
        {
            "source": "## Explore data", 
            "cell_type": "markdown", 
            "metadata": {}
        }, 
        {
            "execution_count": 69, 
            "cell_type": "code", 
            "metadata": {
                "scrolled": true
            }, 
            "outputs": [
                {
                    "output_type": "stream", 
                    "name": "stdout", 
                    "text": "root\n |-- CheckingStatus: string (nullable = true)\n |-- LoanDuration: integer (nullable = true)\n |-- CreditHistory: string (nullable = true)\n |-- LoanPurpose: string (nullable = true)\n |-- LoanAmount: integer (nullable = true)\n |-- ExistingSavings: string (nullable = true)\n |-- EmploymentDuration: string (nullable = true)\n |-- InstallmentPercent: integer (nullable = true)\n |-- Sex: string (nullable = true)\n |-- OthersOnLoan: string (nullable = true)\n |-- CurrentResidenceDuration: integer (nullable = true)\n |-- OwnsProperty: string (nullable = true)\n |-- Age: integer (nullable = true)\n |-- InstallmentPlans: string (nullable = true)\n |-- Housing: string (nullable = true)\n |-- ExistingCreditsCount: integer (nullable = true)\n |-- Job: string (nullable = true)\n |-- Dependents: integer (nullable = true)\n |-- Telephone: string (nullable = true)\n |-- ForeignWorker: string (nullable = true)\n |-- Risk: string (nullable = true)\n\n"
                }
            ], 
            "source": "df_data.printSchema()"
        }, 
        {
            "execution_count": 70, 
            "cell_type": "code", 
            "metadata": {
                "scrolled": true
            }, 
            "outputs": [
                {
                    "output_type": "stream", 
                    "name": "stdout", 
                    "text": "Number of records: 5000\n"
                }
            ], 
            "source": "print(\"Number of records: \" + str(df_data.count()))"
        }, 
        {
            "source": "## Visualize data with pixiedust", 
            "cell_type": "markdown", 
            "metadata": {}
        }, 
        {
            "execution_count": 71, 
            "cell_type": "code", 
            "metadata": {}, 
            "outputs": [], 
            "source": "import pixiedust"
        }, 
        {
            "execution_count": 72, 
            "cell_type": "code", 
            "metadata": {
                "pixiedust": {
                    "displayParams": {
                        "handlerId": "pieChart", 
                        "keyFields": "Risk", 
                        "rendererId": "bokeh", 
                        "chartsize": "50", 
                        "mpld3": "false", 
                        "aggregation": "COUNT"
                    }
                }
            }, 
            "outputs": [
                {
                    "output_type": "display_data", 
                    "data": {
                        "text/html": "<style type=\"text/css\">.pd_warning{display:none;}</style><div class=\"pd_warning\"><em>Hey, there's something awesome here! To see it, open this notebook outside GitHub, in a viewer like Jupyter</em></div>\n        <div class=\"pd_save is-viewer-good\" style=\"padding-right:10px;text-align: center;line-height:initial !important;font-size: xx-large;font-weight: 500;color: coral;\">\n            \n        </div>\n    <div id=\"chartFigureff5f8ee6\" class=\"pd_save is-viewer-good\" style=\"overflow-x:auto\">\n            \n                    \n                            <center><img style=\"max-width:initial !important\" src=\"data:image/png;base64,iVBORw0KGgoAAAANSUhEUgAAAUkAAAFTCAYAAAC0x/5VAAAABHNCSVQICAgIfAhkiAAAAAlwSFlzAAAOwwAADsMBx2+oZAAAADl0RVh0U29mdHdhcmUAbWF0cGxvdGxpYiB2ZXJzaW9uIDIuMS4wLCBodHRwOi8vbWF0cGxvdGxpYi5vcmcvpW3flQAAIABJREFUeJzt3Xl8U1X+P/7XTdIkTZMu6V7asgmyKTsioCCLKKgwI6ifURYZB3GZD6M4OjI/EQFnBof5uYx+PuqoA+LgIHxkBlFAQUCRfV9lK3SBtnRL27RJs9z7/aPSsbZNtyT3Jvf1fDwYneSavG/SvjjnnnPPESRJkkBERI3SyF0AEZGSMSSJiHzQyV1AKBNFES6XC7xiQeFKEATo9XpoNOptTzEk20CSJOTl5eHq1atyl0IUFElJSUhPT4cgCHKXEnQMyTa4FpAZGRkwm82q/MEhdZAkCXa7Hbm5uZAkCZmZmXKXFHQMyVYSRbEuIJOSkuQuhyjgTCYTACA3Nxf5+fkYMmSIqhoG6r3Q0EYulwsAYDabZa6EKHiu/bzv378fe/bskbma4GJIttK1QRo1/U1KdO3nPTIyEocPH4bH45G5ouBhSBJRixmNRrjdbjgcDrlLCRpek/STTr/7PGjvdelPE/36enPmzIHH48F7773X7LGCIOCrr77C2LFj/VpDa/393JWgvdfD3dKC9l7tkZOTg169euHYsWPo0qWLz2MXLlyILVu2YOfOnUGqLnSxJakCo0aNgl6vh9lsRnR0NHr37o133nmn7vm33367RQFJzRs1ahQEQcBnn31W7/GHHnoIM2fObPPrbt++HYIgwGw2w2w2IyUlBVOmTEF2dnbdMZmZmbDb7c0GJLUOQ1Ilnn32WdjtdthsNrz44ot47LHHsGPHDrnLCksJCQmYN29e3SCfP9lsNtjtdhw9ehRFRUXtCl5qGYakymg0Gtx3332wWq3Yv38/AGDmzJl46KGHANQOTC1YsADp6emwWCxIT0/H/PnzG32tqqoqTJ48GWPHjoXNZgvaOSjdzJkzIYoi3njjjSaPsdlsmD17NtLT05GQkIA777wTZ86cafF7JCcnY+rUqXXfIQBcunQJgiDg/PnzAICjR49i5MiRiI2NRVxcHAYOHNjke3zxxRdISUnBmjVrWlyDWjAkVcbj8WDVqlUoKSlBz549Gzy/ZcsWfPDBB9i1axcqKytx7Ngx3H333Q2Oy83NxfDhw5GcnIxNmzYhNjY2GOWHBIPBgGXLlmHx4sVN3pU1bdo0nDt3DgcOHEBOTg6uv/56jB07Fna7vUXvceXKFaxevbrR7/Caxx9/HGPGjEFxcTGKiorw/vvvN/o9vfbaa5g9ezbWr1+PqVOntuwkVYQhqRLLli1DbGwsjEYjpk+fjqVLl2LixIYDQHq9Hk6nEydPnoTD4YDVasXNN99c75i9e/di6NChmD59Ot555x3odBz/+6nJkydj0KBBjbbC8/PzsWHDBrz22mtISUmByWTCn//8ZzgcDmzYsMHn6yYkJMBsNqNDhw6oqqrCqlWrmjxWr9cjJycH2dnZ0Ol06NevH5KTk+ued7vdmD17dt1fikOGDGn7CYcxhqRKPPPMM7DZbCgrK8PMmTPx5ZdfNjrXbeTIkXjllVfwpz/9CcnJybj11lvx1Vdf1TvmzTffREpKCubMmROs8kPS66+/jpUrV+Lw4cP1Hs/NzQUAdO3ate6xiIgIdOzYETk5OT5fs7i4GJWVldi5cyfy8/ORlZXV5LHLly+HIAgYPXo00tPT8Zvf/KZeS/X8+fNYvnw5fv/736vydsOWYkiqjMViwVtvvYWsrCy89dZbjR4za9Ys7NixA0VFRZg8eTLuvvtuVFZW1j3/7rvvIi0tDbfffjuvRfrQp08fPPLII5g7d269xzMyMgAAFy5cqHvM4/EgJyenRWElCAKGDx+ORYsW4Ze//CWqq6sbPa5jx47429/+huzsbGzfvh1fffUV/vjHP9Y937NnT3z22WeYM2eOzxap2jEkVchgMGDBggVYvHgxysvL6z23b98+fPPNN3A4HNDr9bBYLBAEAVqttu6YyMhIrFu3Dl26dMHIkSNRUFAQ7FMIGYsWLcKJEyewefPmusdSU1MxYcIEzJs3D4WFhXA4HHjuueeg1+sbvQTSlIcffhiRkZF49dVXG31++fLlyMvLgyRJiI6Ohk6na3BpZPz48di4cSPmzp2LN998s20nGeZ4MclP/D3BO9CmTZuGP/7xj1i6dGm9x+12O5599lmcOXMGGo0G3bt3x7p16+oWObhGp9NhxYoVmDdvHoYPH44vv/yyXvcx0EJlgnd8fDwWLlzYoDW5cuVKPPvssxgwYACcTicGDx6MLVu2wGKxtPi1dTodFixYgCeffBKPPvpog+e3bduG+fPno7y8HNHR0Zg0aRKee+65BscNHToU27dvx/jx41FcXIyFCxe2+jzDmcA9blrH4XDg1KlT6NWrFyIjI+Uuhygorv3cf//99yguLsasWbNaFeihjN1tIiIfGJJERD4wJImIfGBIEhH5wJBspWuLj3K8i9Tk2s+7Gn/uGZKtpNfrAaDF99gShYNrP++BWNlI6ThPspU0Gg2SkpLqbi3jbokUzn68W2JpaSlEUZS7pKBjSLZBeno6gP/cg0sU7kpLS1FUVITq6moYDIYGNxeEM4ZkGwiCgIyMDHg8HmzduhU1NTUwGo1sUVLYkSQJLpcLoiiipqYGoijilltuqXebarjjHTftdPHiRRw6dAg2m02VF7VJPcxmM3r27Ikbb7xRVQ0ChiQRkQ8c3SYi8oEhSUTkA0OSiMgHhiQRkQ8MSSIiHxiSREQ+MCSJiHxgSBIR+cCQJCLygSFJROQDQ5KIyAeGJBGRDwxJIiIfGJJERD4wJImIfGBIEhH5wJAkIvKBIUlE5ANDkojIB4YkEZEPDEkiIh8YkkREPjAkiYh8YEgSEfnAkCQi8oEhSUTkA0OSiMgHhiQRkQ8MSSIiHxiSREQ+MCSJiHxgSBIR+cCQJCLygSFJROQDQ5KIyAeGJBGRDwxJIiIfdHIXQPRTNR4vyqvdqHC64fJI8IoSPKIIUap9XiMAGkGAViPAYtTBYoxAtFEHnZZ/518zZ84ceDwevPfee80eKwgCvvrqK4wdOzYIlYUehiQFTWmVCzml1cgprUZuaTXyyqpRVFmDcoe73h+nW2zT65v0WkQbI2Ax6hAdGQFrlB4dYiORHheJ9DgT0uMikRFnQowpws9nFnyjRo3Crl27oNfrodFokJGRgf/+7//Go48+CgB4++23Za4wfDAkye8u2xw4cbkcJy6X42xhJbJLqpFX5oC9xhPQ9612eVHt8qKgwvdxFqMO6XEmdE2MQu+0GPROi0bvtGjEmw0Brc/fnn32WSxZsgSiKGLt2rV44IEH0KNHD4wcOVLu0sIKQ5La5bLNgWO5Nhy/XI7jl8tx6koFSqpccpflU6XTg9P5FTidX4ENx/LrHk+JNtYFZu8OMRjcyQprlF7GSltGo9Hgvvvuw+OPP479+/dj5MiRmDlzJjweDz766CNIkoQXX3wRH3zwAcrLyxETE4Pp06fjD3/4Q4PXqqqqwoMPPgi73Y61a9ciNjZWhjNSFoYktUpZlQvfXSjGd+eLsfN8MXJLHXKX5DcFFU4UVDix9furAABBAHqkRGNY13gM6xqPm7rEw2xQ3q+Mx+PBJ598gpKSEvTs2bPB81u2bMEHH3yAXbt2ITMzE6WlpThz5kyD43Jzc3H33Xfjpptuwtq1a6HTKe9c5cBPgXyq8XixN6u0LhRP5VdAkuSuKjgkCXUtzvd3XoROI6BPhxgM6xqPkd0TMbiTFRqNIFt9y5Ytw5tvvgm73Q4AWLp0KSZOnNjgOL1eD6fTiZMnTyIxMRFWqxU333xzvWP27t2LGTNmYN68eXj66aeDUn+oECRJLT/y1FI1Hi92nCnC58fzsfX01YBfSwxVCWYDxvdOxoQbUjG0Szy0QQzMUaNGYcSIEViyZAkqKyvx1FNP4dKlS9i0aRN0Ol297jYAfPDBB1ixYgUOHz6Mfv364YUXXsC4ceMA1I5up6SkIC0tDd9++y1MJlPQziMUcM4EAagNxq9OFeI3/zyMQYu3YPbKg/j3kSsMSB+K7TX4x94cPPjeXgx+eQt+93/HsONsETzeto3Ot5XFYsFbb72FrKwsvPXWW40eM2vWLOzYsQNFRUWYPHky7r77blRWVtY9/+677yItLQ233347bDZbsEoPCexuq9zB7DJ8vC8Hm08UoJKB2GalVS78c38u/rk/F9YoPX7evwP+66ZMdE00B+X9DQYDFixYgGeeeQYzZ86s99y+ffvgdDoxePBgGI1GWCwWCIIArVZbd0xkZCTWrVuHWbNmYeTIkdi8eTNSUlKCUrvSsSWpQlU1Hny0JxsTXv8W9/7vLqw9mMeA9KPSKhfe23kRY/6yA/e/sxv/PnIZNR5vwN932rRpiI+Px9KlS+s9brfb8fTTTyMpKQmxsbF49913sW7dugbdap1OhxUrVmDMmDEYPnw4Lly4EPCaQwGvSarI6fwKfLQnm91oGVij9Lh3QAf815BMdAlS65L8gyGpAltOFeLtHRdwILtM7lJUTxCAMT2S8cRtXdE/M07ucqgFGJJhSpIkbDxRgDe/Po9T+c3cgkKyGNY1Hk/cdh2GX5cgdynkA0MyzHhFCeuPXsb/bLuAc1ftcpdDLdAvIxaPj+qKcb2SIQjyzbukxjEkw4RXlPB/B/Pw1vbzyC6plrscaoPrky2Yd3t33N6bo8pKwpAMA9u+v4o/bjyNs4VsOYaDIZ2seH5CD16zVAiGZAgrrXFj/ppj2HSiQO5SKAAm3piK5+/sgfQ43gEjJ4ZkCHJ6RRwqqcDZ8mp47G4sWX1C7pIoQAw6DWbf2gWPjeoKk573fsiBIRlCJEnCmYpqHCyugOuHZboFAJ9ty8bBrFJ5i6OASo0xYsnkPhjTM1nuUlSHIRkiKlwefHfVhgJHw7UaTRDw3PuHZKiKgu2evmlYeE/vkFjnMlwwJBVOkiScslXhUEklPD6+qqwLNqzcfjGIlZFcrFF6LLirFyb37yB3KarAkFQwm8uNnYU2FDndzR5r0Ah45R/HYatu/lgKD6N7JOHln/VBakyk3KWENYakAkmShONldhwprYS3Fd+Op9KNlz/hII6aWAw6LLynN+4dmC53KWGLIakwDo8XOwrKkN/ItcfmaAD86+uLOHyR6wGqzb0D0rF4cm+OgAcAQ1JB8qtrsKOgDI52LNrKQRz1ui7JjLd+MQDXp1jkLiWsMCQVQJIkHC2z40hJJfzxZVw4V4aPvrnkh1eiUGOM0GDh3b3xwJBMuUsJG1x0V2ZOjxdfXinFYT8FJAD0vt6KGBO7XWrkdIv43afHMfefh1HFNUP9gi1JGRU5Xfg6vxTVHv/vieKudOMPHMRRteuTLXh/5iDe1thObEnKJNvuwKa8koAEJAAYLBHo14kby6vZmcJKTH5rF47kciCvPRiSMjhRZse2/DKfk8PbSwTwwJguAXt9Cg3F9ho88O5ufH4sX+5SQhZDMohEScLuqzbsL67w2/VHXxyQ8ItbOgXhnUjJnG4RT358CG9tOy93KSGJIRkkblHE1iul+L48uAvi3tDDCouRgzhqJ0nAnzefwTNrjsId5H3BQx0HboLA6fFi85USlMo02uiucOMPaziIQ7Vuuz4R//vQQBgjtM0fTGxJBprD48XGy/IFJAAYoiNwY0cO4lCtbWeK8KsPD8DhCvxe4OGAIRlA1R4vNuaVwOaSd76aCOAXHMShH/n2XDFm/n0f51K2AEMyQKo8XmzMK0a5Wxk/hA5BwgMjOspdBinI3oulmP7BPlS2YJUpNWNIBoDd7cHGvGJUuJXVnenbMx5mI69D0X8czC7DQ+/tRTmX2GsSQ9LPagOyBJUKC0gAcIoSfn1XD7nLIIU5mleOX7y3hy3KJjAk/cjpFbH5cgnsHuUF5DXGWD1uyIyRuwxSmJNXKjD7w4OoUfDPrlwYkn7iEUVsuVKiuC72T4kS8ODYrnKXQQq0O6sET68+ClHkrMAfY0j6gShJ2F5Q1qJtFpTAIUi4bzgHcaihz4/n46XPTspdhqIwJP1g99Vy5FbVyF1Gq/TvlcBBHGrUit3ZePPrc3KXoRgMyXY6XFKJsxXBvdXQH5yiiCcnchCHGrfsy7NYvT9H7jIUgSHZDucqqnGktFLuMtrMFKdHnwwO4lDjfr/uBPZklchdhuwYkm1U7HRh99XQXqfPKwEPjeOdONQ4jyjhyVWHkF/ukLsUWTEk28DpFbEtv6xV270qlUMApg7jfijUuGK7C3M+OqTqqUEMyVaSJAk7CsoUPReytQb2ToRJz0EcatzRXBsWrlfviDdDspUOlVTiSnVojWQ3xyGKePKu6+UugxTs4325+Oc+dQ7kMCRbIcfuxLEyu9xlBITZakDP9Gi5yyAFW7D+JI6qcL8chmQLVbo9+LawTO4yAsYrAdPH8U4caprLI+KJVYdgV9nyagzJFpAkCd8W2uAK89u1nBrg3psz5C6DFCyvzIFFKrsjhyHZAqdsVSh0uOQuIygG90lCJAdxyIdPDuRhy6lCucsIGu5x0wyby431OUVhMd2npRxlNXjl01NylxFUtp2rUHXya3irKyBoddAnd0XcqIehT66dR+q2FaBkw1/gLr0MyeuG1hSDqD5jEDPsfghCbVuj8sgmlO/8BwAgZsSDsPS7o+71K/Z9ClfRJSRMfDr4JxcACWYDvnzqVlij9HKXEnAMSR9EScLnucUorgmNhSv8RSsAqzZewPeXK+QuJWjcJXnQRMVCazRD8rpRefAzlO/9FOlPrICg0UKsqYbXXgpdXCoEjRZuWwGurlkIy4CJiB54N7xVNlx5/3GkzngVkiShYMVTSHvkf6GNioW7OBdXP12M1BmvQmOIkvtU/eaO3il4e9pAucsIOHa3fThWZlddQAK1gzgzblfXIE5EfDq0RnPt/5EACFqI1TaIztrZDBqDCRHx6RA0/7kUIQgaeErzAACe8kLo4lKhi0lGRGwKdHFp8JQXQhK9KP7iVVjHzQmrgASATScL8OmhPLnLCDhuyNyE0ho3jpaE7n3Z7eXUAD8fmoFP9+TKXUrQVF/Yj+LPlkGqqQIgwDJoErSm+ve2F/zjWbgKzkPyuKC1JMDS/y4AgM7aAZ7yQrhtBYAkwlNRCJ21A8p3fwJ9cldEdh4gwxkF3ovrT2LEdQlIijbKXUrAsLvdCEmSsEGF3eyfitRo8NKKI6rbetTrqETVia3QWhIQ1WNEg+cl0YuaK2fhuLAP0UN+Bm1k7fzS6nN7Ub77EwBAzM33QReTiKJ/v4LUGa+h8uB6OC4egsZgQtxtv0SEtUNQzymQ7umbhjf+q7/cZQQMQ7IRZ8qrsOtqudxlKEJ1aQ3+vE5dgzgAIEkicl97ACkP/gn6pMYXASnfuxauK2eR+LP5Df97rxv5H86DdexsSB43ynevRvIDL8N58TDK93yClAdfCfQpBNWqR27CsOsS5C4jIHhN8iecXhEHi9Xbzf4pS7wB3VMtcpcRfJIEiF64S680fYzXC3dp49fkbDtXwZh5A4wZfeC6egGGDj0gaLQwdrwRrsILASpaPi/8+wTcXlHuMgKCIfkTh0oqUCOG55fdFl4JmDn+OrnLCLiKA/+Gt6r2jipvdTlKv/wfQKuDIb0XAMBx8TCceachedyQRC+c2cdQcXA9IrsMavBaNVfOwHF+H+JGzgAARMSlwZl9DKLLiepze6GLTQ3eiQXJhaIqLP/uktxlBAQHbn6ktMaNs+Wht8p4oNVogclD0vGvfeE7kum8dATlu9dAcjug0ZugT+2G5PuXQGe2AgAklwNl296Hx1YACBroLPGwDLwbMUOn1nsdyeNCycbXEX/nXAi62jmEkd1uhiPrEC7/zwxoouKQMOE3QT+/YHhj6zn8bEAHJJgNcpfiV7wm+SOb8oqRr5I7a1orUqPBwuVH4FT4bpAkr/sHZWDplBvlLsOv2N3+Qa7dyYD0wSGKeGJid7nLIIVbczAX56+G1zV9huQPDoXwXjXBEpNgRLcUs9xlkIKJEvDqlvDaaZEhCSDb7kCpyudEtoRXAh6+o5vcZZDCfXE8H2cKwqfRofqQlCQJR0rDcyHdQKjRAvcMDp+J0OR/kgS8tuWs3GX4jepDMqfKyVZkKw3rlwJjBJdTo6ZtOlmAU1fCY4EUVYdkbSsyfLoFweIQRTw+gYM41DRJAl4Nk9akqkOythWprqXo/SUuMRLXcRCHfPjqVCFOXA7923tVHZLHeC2yzTyShFnjOYhDvv3t2yy5S2g31YbkVYdL9av8tFeNDrhrUJrcZZCCfXE8H1crnXKX0S6qDcnT5VVylxAWRvRPhUEnyF0GKZTbK2HV3tDer1uVIenweHHJ7pC7jLBQO4hzvdxlkIKt2psT0isEqTIkz1ZUI8x3hw0qa5IJXZI4iEONu1pZgy+O58tdRpupLiRFScL37Gr7lUeS8Ms7OYhDTVux65LcJbSZ6kIyp8qJak/oNv2VyqUDJgzgIA417lCODcfzQnM6kOpCkutFBs7IgRzEoaatPRiam8qpKiSdHi+uVNfIXUbYqhZFPMZBHGrC58fz4Q3BwQBVheRFuxOh9xWFlvgkEzolhtf+0uQfxXYXvjtfLHcZraaukKzktJ9A80gSfjWBgzjUuPVHfWysplCqCckqtxeFTq48HgwunYA7+offZlfUfptPFqDGE1pbgKgmJC9y8nhQ3TYoDRFaDuJQfZVOD7Z9f1XuMlpFPSHJrnZQVfNOHGpCqHW5VRGSlW4PF7OQQUKyCZmJJrnLIIXZ9n0RXCE0V1kVIXmZ035k4ZEkzL6Ti/NSfQ63FwculcpdRoupIiSvVDEk5eKOEDC+HwdxqL4d54rkLqHFwj4kRUlCvoMhKafRgzmIQ/V9ezZ05kuGfUgWO91wheAs/3BSLYp4jN1u+pHTBRUoqgyNxkvYhyRvQ1SGpJQoZMRzEIdqSRKw83xodLmbDcmPP/640cf/+c9/+r2YQGBIKoNbkvAod1ikH/kmRLrcgiRJPvui0dHRqKhouH+u1WpFaamyR6jcooh/XCjg/doKsvtAPr48WiB3GaQASRYD9v1+rNxlNKvZlmRjGVpaWgqNRvk99WKnmwGpMGOGdICOgziE2hXLC8qVv0mYrqknMjIyIAgCHA4HMjMz6z1XXFyMSZMmBby49uIEcuWpFkU8dkd3/PXzM3KXQgpwNM+GlJgUucvwqcmQXLJkCSRJwmOPPYbFixfXPa7RaJCSkoLRo0cHpcD2KOGCFoqUnBqFjPhI5JbwVlG1O55XjvG9lR2SzV6T3LlzJ0aMGBGsevxq7aVCVLpDa8URtdC5RLyw8qjcZZDMbu2eiA9nDZG7DJ+abEleM2LECNjtdpw+fRqVlZX1nlNya7LGKzIgFcyj12DsjSnYcoyDOGp2PM8mdwnNajYk//Wvf2HGjBkNAlIQBHi9yg2hEl6PVLxxN3XA9pOF8Hg5vKZWZdVu5JZWI8Oq3Dm0zQ5R//a3v8XChQtht9shimLdHyUHJMCQDAXVoohHx3MVc7U7pvBdFJsNycLCQjz11FMwmZSb9I0pY0iGhNQ0MzpYI+Uug2R0ocgudwk+NRuSt9xyC44eDb0L7JVuj9wlUAu4JQlzeCeOqmWXKHub52avSQ4dOhSTJk3Cr371K6Sm1l/yatasWQErrL04aBM6PAYNRt+QjK+PF8pdCskgt1TZIdnsFKDOnTs3/h8KArKysgJSVHt5RAkrL+TLXQa1gknQ4Pn3D4ILNqlPcrQBe+cr9/bEZluSFy9eDEYdfsWuduiplkTMuaMb/mfjOblLoSC7WlkDp9sLY4RW7lIapfwbsNuAXe3QlNbBgrQ4DuKojSQpu8vdbEty+vTpTT734Ycf+rUYf7F72JIMRW5JwpyJ3bHgo9AbKKT2yS6pRrdki9xlNKrZlqRWq633p7CwEGvWrGl0dSClYEsydHkNGozsnSR3GRRkl23KvY+/2Zbk3//+9waPrVmzBt98801ACvIHpzd0tqukhibcnIFvT13lII6K2KqVO6+5Tdck77333iZXLFcCF0MypFVLImbzThxVKXeEWUju3r0bWq0yR6IAwCUyJENderoFqbFGucugIFFySDbb3b7lllsgCP9ZSbqqqgrHjx/H/PnzA1pYe3B3xNBXO4hzPV78Bwdx1KDcody1X5sNybFj60/ytFgsGDRoEG699daAFdVeNexuhwXJqMGtvRLxzanQ2FWP2i6kW5IvvvhiMOrwK7Ykw4MEYOKwTOw8XcRBnDCn5IGbZkMSAK5cuYKPPvoIOTk5yMzMxIMPPogOHToEurY28UoSvAqenkStUy2JmH37dXh783m5S6EAUnJLstmBm3379qFHjx5YtWoVCgoK8PHHH6Nnz57Yt29fMOprNTebHGEnIzMayRzECWtOBc9tbvGiu0eOHMHatWtx+PBhvPTSS3jmmWeCUV+rKXmSO7WNS5Tw+EQupxbOlNy2aXYVoPj4eBQWFkKn+0/P3O12Izk5GaWlpQEvsLWqPV6svsglt8KNAGDrrjx8e5qDOOHIpNfi1KI75C6jUc1ek4yJiUFubm69JdPy8vIQHR0d0MKIfkwCcNfwTMSYIuQuhQJAp1XuWjvNhuTUqVMxefJkvPzyy+jSpQsuXLiABQsW4P777w9GfUR1qiURA/sly10GBYD2R3OxlabZkFy0aBGqq6tx//33w+FwwGg0YtasWXjppZeCUV+rKfejJqKmKPn3ttlrktdIkoTi4mIkJCTUuwNHaZxeER9ncS9nolCi1wh4sGtq8wfKoNkLAUeOHEFubi4EQUBiYiIEQUBubq5iNwdT7pUNImqKoOC2ZLOZMmvWLFRVVdV7zG63K3YTMJ1GuR82ETVOr1Xu722zIZmVlYUePXrUe6xnz564cOFCwIpqD40gIIJBSRRSDBrl9gGbrcxisaCsrKzeYyUlJTCZTAErqr2U/IETUUN6BU8BaraykSNH4re//S08P+wb4/F48Pzzz2PUqFGBrq3NDAr+wImbjucPAAATL0lEQVSoIb2Ce3/NTgFaunQpRo8ejdTUVHTq1AmXLl1CXFwcvv7662DU1yYGBX/gRNSQknt/zYZkhw4dcPToUWzYsAGXLl1Cp06dcNddd8FoVO6CA2xJEoUWJf/OtmipNKPRiClTpjT5/IgRI7Bz506/FdVeSv7AiaihkL4m2RLHjh3zx8v4jVHBHzgRNRSp4N9Z5VbWDuaIFjWQiUghLBHK3VgwLENSyR84ETVkUXDDJixDMlrBHzgR1acTBJh0ym3YhGVImnRa6BS8CAcR/YdZ4T0/v4SkErdMYJebKDQovefnl5A8deqUP17Gr5R8jYOI/kPpDZpGk+S2225r0ZqR1+66ycjI8G9VfhCt8A+eiGopvUHTaEtyxIgRGD58OIYPH47evXtjz549sFqtGDhwIOLj47F371706dMn2LW2SqyBe6EQhYJ4hf+uNhrhixcvrvv3KVOm4JNPPsFdd91V99jnn3+Ov//974Gvrh0SFf7BE1Httg1Whf+uNrt9Q0xMDMrKyqD50Q3ooigiLi4O5eXlAS+wrSRJwj+yCuBW8oa+RCoXp9dhcsckucvwqdmBm+TkZGzatKneY5s3b0ZSkrJPTBAExTfjidQuwaiXu4RmNXvF9IUXXsDkyZMxadIkdO7cGZcuXcL69evx7rvvBqO+dkkwRqDA4ZK7DCJqQkIINGSabUlOmzYN27dvR1xcHE6ePIm4uDhs3boV06dPD0Z97ZJgUP7fUkRqlmAMg5AEaruuoijC4/HA6/UqekvZHwuFL4BIrTQCEBcOLcmVK1di1KhRsNvtGDBgAKqqqjBmzBh8+OGHwaivXSwROkUvwUSkZgkGPbQh0OBqdnS7e/fueP3113HnnXfWPbZp0yb8+te/xrlz5wJeYHt9U1CGC5UOucsgop/ob7WgX7xF7jKa1WxIRkdHw2azNZgCFBsbi4qKioAX2F4XKqrxTaFN7jKI6CfuykhAYgiMbjfbFx03blyjU4DGjRsXsKL8qYPJIHcJRPQTBo0QEiPbQAumAKWlpWHq1KmYMGFC3RSgL774ArNmzcKCBQvqjlu0aFFAC20ro06LeEMESmrccpdCRD9INRlCZgC42e72bbfd1vyLCIKit5g9WFyBY2V2ucsgoh8MT4pB95gouctokWZDMhwUOGqwMa9E7jKI6AdTOyUrfrHda1QxPybJqEeEJjSa9kThLlavC5mABFQSkhpBQGaUUe4yiAhAF0uk3CW0iipCEgi9L4YoXHU2h9bvompCMs1kgJF33xDJKsEQgWi9slci/ynVpIZGENDJzC43kZxCsUenmpAEgC4Wk9wlEKmWAKAzQ1LZkiP1MCt4E3SicJYcqYcpBH//VBWSQGg294nCQdcQ/d1TXUh2jzGBMyaJgkuvEUK2gaK6kLRE6JAexUUviIKpW7QJOk1oxk1oVt1OvWLNcpdApBoCgJ6xoXGfdmNUGZJpJgNiQ2yuFlGo6mAywBIRur9vqgxJAOgZIiuQEIW6XiHcigRUHJJdoyOh56IXRAEVHaFFWogvfK3akIzQaNAtmpPLiQKpZ6w5ZBbXbYpqQxIAeseZoQ3t749IsUxaDbqHQUNE1SEZpdPiel6bJAqIG6wW6MLgkpaqQxIAbowzQxfi3QEipTHpNLg+DFqRAEMSkTotro8Jjy+TSCn6xlmgDYNWJMCQBMDWJJE/Rem06BZGDQ+GJGq3nQ3lOwKIlKSv1QxtGDU6GJI/uCHOzHmTRO1kidCG3dS60L1XyM8MWg36Wi3YX1whdykBdf7wAXz66lJcPH4UGo0Wadd1w/Mf/wt7N/wLHy54rt6x7poapF3XHYs+2wIA2LH6H/jXG8sAAJP/+xmMvP/BumM3vf828s6cxiOvvB68kyHFGZwQDU0YtSIBhmQ9vWKjcLa8GuVuj9ylBMT5wwfw6iPT8Iv/bxHmvvMhdBERuHTyGARBwM33/Bw33/PzumM9bjeeGTkYwyZPAQBUlBTj//7yRyz4dCNEUcTiKRPQf+x4RMcn4Mr5c9ix+iO88H9fyHVqpABpJgM6htgmXy3B7vaPaAQBQxKj5S4jYNa88jJumfIAhv9sKgyRkdDqdOjad0Cjd0Qc3PwFnPZKjLj3fgBAcV4ukjt1RkJ6BpIyOyK5Y2cU5+XC6/Hg/d89hQcXvAyTJXw/O/JNADAkITy/f4bkT6RHGZERhnt01zgcOH/4ADRaLRbfOxG/HtIbL/3sDhzY/Hmjx29btQKDJ9wDc2wcACC5U2cU5eXiak42CrMvovhyHpI7dcbn7/wVHXv3QZ8RI4N5OqQwvWKjEGeIkLuMgGB3uxFDE6ORX10DjyTJXYrfVJWXQRJF7Fq3BnPfWYHMXn1wZOuXePvpxxH7UTKu6z+o7ti8s9/j7IG9uP93C+oei4qJxYzFr+DdeU8AAGYsfgUlVy5jz/p1eHHdJnz+9l9x/NvtMFksuP93C5DcqUvQz5HkYdJp0D/eIncZAcOQbIQ5Qoe+VjMOllTKXYrfGKNqFxoe/vP70PnGfgCAgeMnoMdNw3B4y+Z6Iblt1Qp06tO37rhr+o+5Hf3H3A4A8LhcWDL1LsxY8grOHz6A499ux29XrMbJ777BB8/Pw/MfrwvSmZHchiTEICJEVx1vifA9s3bqE2eGNYwW5jVZopGU2QloZocfh92O3f/+FLc9OMPncf/+61/Q46ZhuH7wUOScOoHr+g+CVqdDz6HDkH3quP8KJ0XLjDKG5DaxrcGQbIJGEHBrSlxYrRI0ZtrD+G7dJ8g5dQKiKOLw1i9xZt8eDLj9zrpjdv97LbQROtw08Z4mX+fC0UM4sm0L7p33OwBAUsfOOL3nO9RUV+Pw1i9/CGMKd0atBsOSYuQuI+DCp6kUAHGGCPSPj8aBMJk7OW7GI3A5HHh9zkxUV1YguWNnPPba/6Jr3wF1x2z7eCWG/+w+6I2Ntw7cNU4sn/8MHv7DXxBhqB3gGjDuDpz4dhvm3ToIMQmJmPWn/z8o50PyGpYUg8gQ3Ee7tQRJCqPRiQCQJAkbL5eg0OGSuxQixehqicStKXFylxEU7G43QxAE3JIciwjeskgEoHYBi6GJ4d/NvoYh2QKWCF3YTpQlaq0RybHQa9UTHeo503bqHhOFzDCcZE7UGr1jo0J+Y6/WYki2wi3JsYiOCP8L1USNSYnUY5AKe1QMyVbQazUYk2rlAr2kOiadBqNS4sJuhZ+WYEi2UqwhArckx8pdBlHQaARgdKpVFdN9GsOQbINOlkjcEGeWuwyioLgpMQaJRr3cZciGIdlGA+ItqruATerTLdqEHirfdpkh2UYaQcDIlDhYOJBDYSrJGKGq+ZBNYUi2g1Grwe1p8TCqaM4YqUOsXoexafHQ8SYKhmR7Ret1GJdm5R05FDZMOg3GpcXDwL/8ATAk/SLBqMfoVCuYkxTq9BoBt6fFw8zLSHUYkn6SZjLglmR13PBP4UkrAGPSrGG7DUNbMST9qIslEjeF8UZiFL4EACNT4pASyRkbP8WQ9LNesWb0t4bvfh8UfgTU3nIbjtvB+gPXkwyQY6WVYbVHDoWnay3IcN+CoT0YkgF0ssyOfWGyqjmFH40AjEqJYwuyGQzJAPveVoXdReVyl0FUj1YAbkuxIsPM5f+aw5AMgnPl1fjuqg38oEkJtAIwJtWKDlwftUUYkkGSVVmNbwttEPlpk4z0GgGjU61I5boDLcaQDKICRw2+vlKKGiYlycASocXYNCti9ZwH2RoMySArd3mw5UoJKtxeuUshFUkyRmBMqhVGla4J2R4MSRnUeEV8nV+KAm5TS0HQ2RyJEcmxXKyijRiSMhElCd8V2nC+0iF3KRTG+lprb24QVLjtgr8wJGV2/IdJ5/wSyJ90goBhSTHoGm2Su5SQx5BUgAJHDXYUlKHaI8pdCoWBWL0Ot6XGcYDGTxiSCuH0evFNgQ2Xq2vkLoVCWLdoE4YmxvD6ox8xJBVEkiScKLOz+02tphME3JwUg+vYvfY7hqQCXXW4sL2gDFUeThOi5rF7HVgMSYWq8YrYV1TO0W9qkgDghjgz+lkt0LJ7HTAMSYW7XOXErqvlsLNVST9iNegwIikO8Ua2HgONIRkC3KKIg8WV+L68itcqVU4rAH2tFtwQZ4aGcx+DgiEZQgodLnx31YZyl0fuUkgGicYIjEiO5bXHIGNIhhivKOF4mR3Hy+zw8KtTBYNWgwFWC66PMfHOGRkwJENUlduLAyUVyOLATtgSAPSIjUJ/q4V7YMuIIRnirjpcOFBcgUInF8sIJxlRRgxKsLBrrQAMyTCRbXfgYHElyt28XhnKEgwRGJwYza1dFYQhGUZESUJWpQPHSu0MyxCTaIxA3zgL95xRIIZkGJIkCdl2J46V2VFS45a7HPIhNVKPG60WpHE7BcViSIa5vConjpXaec1SYdJNBvS1WpAUqZe7FGoGh8yCICcnB2azGVlZWc0eu3DhQowYMcJv750eZcSEjATcmR6PzCgjOIFEPjpBQLdoE+7JTMS4DvEMyBChmpAcNWoUBEHAZ599Vu/xhx56CDNnzmzz627fvh2CIMBsNsNsNiMlJQVTpkxBdnZ23TGZmZmw2+3o0qVLm9+nvVIiDRiTZsV9nZPRP94CM/c6CZpYvQ43Jcbg/s7JGJEci3gDR6xDiWpCEgASEhIwb948uFz+73rabDbY7XYcPXoURUVF7QreQDLptOhntWBKpySMS7OydRkgWgHoaonEhPR4/KxjEnrFRkHPuY4hSVXf2syZMyGKIt54440mj7HZbJg9ezbS09ORkJCAO++8E2fOnGnxeyQnJ2Pq1KnYv39/3WOXLl2CIAg4f/48AODo0aMYOXIkYmNjERcXh4EDBzb5Hl988QVSUlKwZs2aFtfQEoIgID3KWNe6HBhvYQunnQQAKZF63JwYg/s7p+DWlDgkcypPyNPJXUAwGQwGLFu2DDNmzMD06dORlJTU4Jhp06bBbrfjwIEDiI6Oxvz58zF27FicPn0aZrO52fe4cuUKVq9ejZ49ezZ5zOOPP47x48dj69atAIATJ04gNja2wXGvvfYali1bhvXr12PIkCGtONPWMem0uNFqwY1WCyrdHlyyO5Ftd6DIyZHx5lwLxk7mSHQ0GxHJyxhhR1UhCQCTJ0/GoEGDMH/+fLz33nv1nsvPz8eGDRtw5MgRpKSkAAD+/Oc/46OPPsKGDRvwwAMPNPm6CQkJ8Hg8qKqqQv/+/bF69eomj9Xr9cjJyUF2dja6du2Kfv361Xve7XZj9uzZ2LNnD3bt2oXMzMx2nHHrWCJ0uCHOjBvizLC7vci2O5Btd+Kq08UViH6gFQQkR+rR0WxEpygj97IOc6oLSQB4/fXXMXDgQDzxxBP1Hs/NzQUAdO3ate6xiIgIdOzYETk5OT5fs7i4GFqtFrt27cKUKVOQlZWFbt26NXrs8uXLsWTJEowePRperxdTpkzBkiVL6lqq58+fx+HDh7Fy5cqgBuRPmSO06B1nRu84M9yiiAKHC/nVNch31KC0Rj2T1QUACcYIpJkMSI00IMmo5yK3KqLKkOzTpw8eeeQRzJ07t14IZWRkAAAuXLiAvn37AgA8Hg9ycnJaFFaCIGD48OFYtGgRfvnLX+Ls2bMwmRruOdKxY0f87W9/A1AbiJMmTUJUVBRefvllAEDPnj3xwgsv4IEHHoDX68UvfvGLdp9ze0VoNMiIMiIjqvaOEKdXRMEPgVnocMHm8oRNS1MrCLAadEg06pEaaUBKpJ6DLiqm2m9+0aJFOHHiBDZv3lz3WGpqKiZMmIB58+ahsLAQDocDzz33HPR6PSZOnNji13744YcRGRmJV199tdHnly9fjry8PEiShOjoaOh0Ouh09f++Gj9+PDZu3Ii5c+fizTffbNtJBpBRq0EnSyRuTorF5I5JmNY1FXdnJGBYUgx6xJiQaIyALgSW9YrQCEg26tErNgq3JMdicmYiHuqagrsyEnFTYgwyzUYGpMqpsiUJAPHx8Vi4cCHmzp1b7/GVK1fi2WefxYABA+B0OjF48GBs2bIFFoulxa+t0+mwYMECPPnkk3j00UcbPL9t2zbMnz8f5eXliI6OxqRJk/Dcc881OG7o0KHYvn07xo8fj+LiYixcuLDV5xksWo2ABKMeCcb/TJAWJQkVbg8qXF7YPR5Uur2wu72wuz2o9HjhFoPT9jRoBJgjdLBEaGv/qdPCEqGF5YfHuEYj+cLbEkk2NV4RVR4varwiXKIIlyjB9ZN/90gSRAk/dOVr/1eAAAGAINTexaLXaqDXaGDQCrX/1Gig1wowaDQw6bRsCVK7MCSJiHzgX7FERD4wJImIfGBIEhH5wJAkIvKBIUlE5ANDkojIB4YkEZEPDEkiIh8YkkREPjAkiYh8YEgSEfnAkCQi8oEhSUTkA0OSiMgHhiQRkQ8MSSIiHxiSREQ+MCSJiHxgSBIR+cCQJCLygSFJROQDQ5KIyAeGJBGRDwxJIiIfGJJERD4wJImIfGBIEhH5wJAkIvKBIUlE5ANDkojIB4YkEZEPDEkiIh8YkkREPjAkiYh8YEgSEfnAkCQi8uH/AW/WFh7jLdLNAAAAAElFTkSuQmCC\" class=\"pd_save\"></center>\n                        \n                    \n                \n        </div>", 
                        "text/plain": "<IPython.core.display.HTML object>"
                    }, 
                    "metadata": {}
                }
            ], 
            "source": "display(df_data)"
        }, 
        {
            "source": "## Create a model", 
            "cell_type": "markdown", 
            "metadata": {}
        }, 
        {
            "execution_count": 73, 
            "cell_type": "code", 
            "metadata": {
                "scrolled": true
            }, 
            "outputs": [
                {
                    "output_type": "stream", 
                    "name": "stdout", 
                    "text": "Number of records for training: 4016\nNumber of records for evaluation: 984\nroot\n |-- CheckingStatus: string (nullable = true)\n |-- LoanDuration: integer (nullable = true)\n |-- CreditHistory: string (nullable = true)\n |-- LoanPurpose: string (nullable = true)\n |-- LoanAmount: integer (nullable = true)\n |-- ExistingSavings: string (nullable = true)\n |-- EmploymentDuration: string (nullable = true)\n |-- InstallmentPercent: integer (nullable = true)\n |-- Sex: string (nullable = true)\n |-- OthersOnLoan: string (nullable = true)\n |-- CurrentResidenceDuration: integer (nullable = true)\n |-- OwnsProperty: string (nullable = true)\n |-- Age: integer (nullable = true)\n |-- InstallmentPlans: string (nullable = true)\n |-- Housing: string (nullable = true)\n |-- ExistingCreditsCount: integer (nullable = true)\n |-- Job: string (nullable = true)\n |-- Dependents: integer (nullable = true)\n |-- Telephone: string (nullable = true)\n |-- ForeignWorker: string (nullable = true)\n |-- Risk: string (nullable = true)\n\n"
                }
            ], 
            "source": "spark_df = df_data\n(train_data, test_data) = spark_df.randomSplit([0.8, 0.2], 24)\n\nMODEL_NAME = \"Spark German Risk Model - Final\"\nDEPLOYMENT_NAME = \"Spark German Risk Deployment - Final\"\n\nprint(\"Number of records for training: \" + str(train_data.count()))\nprint(\"Number of records for evaluation: \" + str(test_data.count()))\n\nspark_df.printSchema()"
        }, 
        {
            "source": "The code below creates a Random Forest Classifier with Spark, setting up string indexers for the categorical features and the label column. Finally, this notebook creates a pipeline including the indexers and the model, and does an initial Area Under ROC evaluation of the model.", 
            "cell_type": "markdown", 
            "metadata": {}
        }, 
        {
            "execution_count": 74, 
            "cell_type": "code", 
            "metadata": {
                "scrolled": true
            }, 
            "outputs": [], 
            "source": "from pyspark.ml.feature import OneHotEncoder, StringIndexer, IndexToString, VectorAssembler\nfrom pyspark.ml.evaluation import BinaryClassificationEvaluator\nfrom pyspark.ml import Pipeline, Model\n\nsi_CheckingStatus = StringIndexer(inputCol = 'CheckingStatus', outputCol = 'CheckingStatus_IX')\nsi_CreditHistory = StringIndexer(inputCol = 'CreditHistory', outputCol = 'CreditHistory_IX')\nsi_LoanPurpose = StringIndexer(inputCol = 'LoanPurpose', outputCol = 'LoanPurpose_IX')\nsi_ExistingSavings = StringIndexer(inputCol = 'ExistingSavings', outputCol = 'ExistingSavings_IX')\nsi_EmploymentDuration = StringIndexer(inputCol = 'EmploymentDuration', outputCol = 'EmploymentDuration_IX')\nsi_Sex = StringIndexer(inputCol = 'Sex', outputCol = 'Sex_IX')\nsi_OthersOnLoan = StringIndexer(inputCol = 'OthersOnLoan', outputCol = 'OthersOnLoan_IX')\nsi_OwnsProperty = StringIndexer(inputCol = 'OwnsProperty', outputCol = 'OwnsProperty_IX')\nsi_InstallmentPlans = StringIndexer(inputCol = 'InstallmentPlans', outputCol = 'InstallmentPlans_IX')\nsi_Housing = StringIndexer(inputCol = 'Housing', outputCol = 'Housing_IX')\nsi_Job = StringIndexer(inputCol = 'Job', outputCol = 'Job_IX')\nsi_Telephone = StringIndexer(inputCol = 'Telephone', outputCol = 'Telephone_IX')\nsi_ForeignWorker = StringIndexer(inputCol = 'ForeignWorker', outputCol = 'ForeignWorker_IX')"
        }, 
        {
            "execution_count": 75, 
            "cell_type": "code", 
            "metadata": {
                "scrolled": true
            }, 
            "outputs": [], 
            "source": "si_Label = StringIndexer(inputCol=\"Risk\", outputCol=\"label\").fit(spark_df)\nlabel_converter = IndexToString(inputCol=\"prediction\", outputCol=\"predictedLabel\", labels=si_Label.labels)"
        }, 
        {
            "execution_count": 76, 
            "cell_type": "code", 
            "metadata": {
                "scrolled": true
            }, 
            "outputs": [], 
            "source": "va_features = VectorAssembler(inputCols=[\"CheckingStatus_IX\", \"CreditHistory_IX\", \"LoanPurpose_IX\", \"ExistingSavings_IX\", \"EmploymentDuration_IX\", \"Sex_IX\", \\\n                                         \"OthersOnLoan_IX\", \"OwnsProperty_IX\", \"InstallmentPlans_IX\", \"Housing_IX\", \"Job_IX\", \"Telephone_IX\", \"ForeignWorker_IX\", \\\n                                         \"LoanDuration\", \"LoanAmount\", \"InstallmentPercent\", \"CurrentResidenceDuration\", \"LoanDuration\", \"Age\", \"ExistingCreditsCount\", \\\n                                         \"Dependents\"], outputCol=\"features\")"
        }, 
        {
            "execution_count": 77, 
            "cell_type": "code", 
            "metadata": {
                "scrolled": true
            }, 
            "outputs": [], 
            "source": "from pyspark.ml.classification import RandomForestClassifier\nclassifier = RandomForestClassifier(featuresCol=\"features\")\n\npipeline = Pipeline(stages=[si_CheckingStatus, si_CreditHistory, si_EmploymentDuration, si_ExistingSavings, si_ForeignWorker, si_Housing, si_InstallmentPlans, si_Job, si_LoanPurpose, si_OthersOnLoan,\\\n                               si_OwnsProperty, si_Sex, si_Telephone, si_Label, va_features, classifier, label_converter])\nmodel = pipeline.fit(train_data)"
        }, 
        {
            "execution_count": 78, 
            "cell_type": "code", 
            "metadata": {
                "scrolled": true
            }, 
            "outputs": [
                {
                    "output_type": "stream", 
                    "name": "stdout", 
                    "text": "areaUnderROC = 0.69368\n"
                }
            ], 
            "source": "predictions = model.transform(test_data)\nevaluatorDT = BinaryClassificationEvaluator(rawPredictionCol=\"prediction\")\narea_under_curve = evaluatorDT.evaluate(predictions)\n\n#default evaluation is areaUnderROC\nprint(\"areaUnderROC = %g\" % area_under_curve)"
        }, 
        {
            "source": "## Publish the model", 
            "cell_type": "markdown", 
            "metadata": {}
        }, 
        {
            "source": "In this section, the notebook uses the supplied Watson Machine Learning credentials to save the model (including the pipeline) to the WML instance. Previous versions of the model are removed so that the notebook can be run again, resetting all data for another demo.", 
            "cell_type": "markdown", 
            "metadata": {}
        }, 
        {
            "execution_count": 79, 
            "cell_type": "code", 
            "metadata": {
                "scrolled": true
            }, 
            "outputs": [], 
            "source": "from watson_machine_learning_client import WatsonMachineLearningAPIClient\nimport json\n\nwml_client = WatsonMachineLearningAPIClient(WML_CREDENTIALS)"
        }, 
        {
            "source": "### Remove existing model and deployment", 
            "cell_type": "markdown", 
            "metadata": {}
        }, 
        {
            "execution_count": 80, 
            "cell_type": "code", 
            "metadata": {
                "scrolled": true
            }, 
            "outputs": [
                {
                    "output_type": "stream", 
                    "name": "stdout", 
                    "text": "Deleting deployment id 2c1e56b5-e119-45b2-8d95-ed11711a5a6d\nDeleting model id cccf732a-e892-41f3-bb80-3d8e811d173a\n------------------------------------  ------------------------------------  ------------------------  -----------------\nGUID                                  NAME                                  CREATED                   FRAMEWORK\nc69669fd-319c-48d5-adbe-8f1871df5c84  Propensity Model                      2019-04-05T14:15:09.772Z  mllib-2.3\n9cfb5c06-9e58-4e66-b756-528be69ee605  AIOS Spark German Risk model          2019-04-02T12:29:40.369Z  mllib-2.1\ncc739a17-a08f-4768-8062-e7d795385ff4  AIOS Spark German Risk model          2019-04-02T12:21:07.155Z  mllib-2.1\nadd7e5f3-4ec4-49a7-ad22-d360bce6c443  sentiment-prediction                  2019-03-15T12:17:29.654Z  mllib-2.1\n09662d80-3722-48b8-b577-d2e1d62773c3  AIOS Spark Drugs feedback model       2019-03-15T10:59:33.285Z  mllib-2.1\nf18776bf-74f2-487f-9034-996cf3dac60e  AIOS Spark German Risk model          2019-03-15T10:19:06.234Z  mllib-2.1\n5b7dab22-37f8-478d-9524-d7a6005ab71d  AIOS TF Structured Model              2019-03-13T14:12:29.679Z  tensorflow-1.5\nc06aafcd-88d4-4547-bff8-ff17cb1b48c4  AIOS Spark Drugs feedback model       2019-03-13T14:02:41.167Z  mllib-2.1\n985cc511-c1c7-4855-a731-248bf3315e3e  AIOS Spark German Risk model          2019-03-13T13:58:36.763Z  mllib-2.1\nf271faa1-cb6d-4cd1-8020-c33b427cba4c  credit-risk                           2019-03-13T11:52:46.559Z  mllib-2.3\nac269afe-3b76-4264-8757-ef046790056e  AIOS Keras Stack Overflow model       2019-03-05T15:58:11.523Z  tensorflow-1.5\nc291e166-45c2-4411-bbe7-88a436f083c1  AIOS Keras spam model                 2019-03-05T13:00:37.170Z  tensorflow-1.5\na3c10d8c-fe54-4592-857b-0852c2807789  AIOS Keras Stack Overflow model       2019-03-04T11:27:59.318Z  tensorflow-1.5\na14b6c3a-5f8f-425a-b884-2d67a4d6c4b2  AIOS Keras Stack Overflow model       2019-03-04T11:19:05.553Z  tensorflow-1.5\n418445ec-c565-43ba-86e8-56a3a5aae165  AIOS Keras Stack Overflow model       2019-03-04T11:17:35.645Z  tensorflow-1.5\na128731e-8a03-4d91-b020-95d23aa4de98  AIOS Keras Stack Overflow model       2019-03-04T11:13:24.740Z  tensorflow-1.5\n67f09f99-c815-4b46-bf5a-76c747d6bb7e  AIOS Spark German Risk model          2019-02-28T13:44:51.718Z  mllib-2.1\nc94c4b31-5f89-4259-b9da-dd79f3f8bf33  AIOS Spark German Risk model          2019-02-28T13:25:21.674Z  mllib-2.1\n490de02c-7190-4756-8e3b-7f1d6ba7134a  SVCHighlights                         2019-02-26T12:22:32.340Z  scikit-learn-0.19\n8d4649e7-ff64-4cea-800d-f1ac88e54c57  SVCHighlights                         2019-02-25T09:34:56.877Z  scikit-learn-0.19\n0d2ad5af-40b9-4dd0-ba11-8badcf9cb1c4  SVCHighlights                         2019-02-25T09:24:23.692Z  scikit-learn-0.19\nb83399e3-882c-4459-bc45-127a7c16d6f9  Dummy model for issue with pandas     2019-02-22T10:56:50.856Z  scikit-learn-0.19\n7ad9804c-6c21-4e62-8a10-3c4a7ebd3f13  Dummy model for issue                 2019-02-22T10:43:29.413Z  scikit-learn-0.19\nd5aee97c-5347-42ae-865c-794c431d750c  AIOS SPSS Customer Model              2019-02-21T09:43:08.816Z  spss-modeler-18.0\n9a7e44e9-5464-4ef8-a136-dd3ed3d41df2  AIOS SPSS Customer Model              2019-02-21T09:41:33.480Z  spss-modeler-18.0\n986a13c7-d0a3-4f18-83dd-37467d82ae8b  AIOS SPSS Customer Model              2019-02-21T09:16:04.246Z  spss-modeler-18.0\n199ee3ae-0b4a-4e5d-9434-1ffc7131c3d5  AIOS SPSS Customer Model              2019-02-21T09:10:23.729Z  spss-modeler-18.0\nd5a21cb5-7500-4e2c-aaae-006f6e243481  AIOS Spark German Risk model          2019-02-19T19:11:07.660Z  mllib-2.1\n29a29430-4538-4a66-96ce-e2e3502e9844  AIOS Spark German Risk model          2019-02-19T19:07:36.191Z  mllib-2.1\ncfa65667-2b40-4c7e-beb8-0ce986273e27  AIOS Spark German Risk model          2019-02-19T19:04:16.682Z  mllib-2.1\n6bd6283d-771a-439c-bbaf-8f81f022bbb2  AIOS Spark German Risk model          2019-02-19T13:16:12.241Z  mllib-2.1\n9dc24903-f6b7-4ddb-8239-3d30249e3ea7  AIOS Xgboost Agaricus Model           2019-02-13T12:17:41.412Z  xgboost-0.80\n2ac283ef-5138-47d6-9743-d4b230e3f056  AIOS Xgboost Agaricus Model           2019-02-13T12:14:41.486Z  xgboost-0.80\nc02dbfe4-ad80-45ec-81b8-ea5fb7b33699  AIOS Xgboost Agaricus Model           2019-02-13T10:59:51.344Z  xgboost-0.80\n0f1d511c-b121-44d1-b3f7-c3ad258211f5  AIOS Spark German Risk Model - Final  2019-02-13T10:34:05.152Z  mllib-2.1\n8d77d6b2-9458-4105-9977-1390c65cb475  credit-risk                           2019-02-08T08:31:18.222Z  mllib-2.3\nf8cef2be-3097-4b1b-8989-a952754eb705  AIOS Spark German Risk model          2019-02-07T16:04:50.142Z  mllib-2.1\n263dedd0-254d-4eed-9c4f-16300e0db5b3  AIOS Spark Drugs feedback model       2019-02-07T15:06:55.275Z  mllib-2.1\nde5c9e61-f806-40f1-8137-e034303a8dad  AIOS Xgboost Agaricus Model           2019-01-25T11:06:58.070Z  xgboost-0.6\n404aae40-ad00-43c5-b4cf-70a85030d043  AIOS Spark Digits Model               2019-01-22T08:34:29.846Z  scikit-learn-0.19\n1a1f6ee4-1a5d-4af6-83ea-9de89cfdf9cd  AIOS Spark German Risk model          2019-01-18T12:38:38.440Z  mllib-2.1\n096310f1-c01c-496d-9647-34b964f29e06  AIOS Spark German Risk model          2019-01-18T12:20:09.545Z  mllib-2.1\nd023d796-73bd-496d-9ef6-0d35eb4e769a  AIOS Spark German Risk model          2019-01-18T12:12:56.978Z  mllib-2.1\na68c3eb5-e804-45c6-bd1c-8a5ac127be3a  AIOS Spark German Risk model          2019-01-18T10:16:40.630Z  mllib-2.1\n7814bb24-daab-4c58-87db-5f571a953ccc  AIOS Spark German Risk model          2019-01-18T09:35:05.267Z  mllib-2.1\na00f13fe-c60d-47fd-afe5-c9d69bebe392  AIOS Spark German Risk model          2019-01-17T17:45:38.724Z  mllib-2.1\n75e947f2-576d-45a7-bf04-2e1ec9d2e590  AIOS Spark German Risk model          2019-01-17T17:23:22.693Z  mllib-2.1\naa2ef63a-23c9-436b-997d-3820d0989dcd  AIOS Spark German Risk model 4        2019-01-15T09:34:45.127Z  mllib-2.1\n7866ac20-0be4-44fb-aa03-14f608764b26  AIOS Spark German Risk model          2019-01-15T09:28:59.071Z  mllib-2.1\n2ad43f44-6182-48b0-84fe-f3bcec2bf967  AIOS Spark German Risk model          2019-01-14T13:02:28.374Z  mllib-2.1\n------------------------------------  ------------------------------------  ------------------------  -----------------\nNote: Only first 50 records were displayed. To display more use 'limit' parameter.\n"
                }
            ], 
            "source": "model_deployment_ids = wml_client.deployments.get_uids()\nfor deployment_id in model_deployment_ids:\n    deployment = wml_client.deployments.get_details(deployment_id)\n    model_id = deployment['entity']['deployable_asset']['guid']\n    if deployment['entity']['name'] == DEPLOYMENT_NAME:\n        print('Deleting deployment id', deployment_id)\n        wml_client.deployments.delete(deployment_id)\n        print('Deleting model id', model_id)\n        wml_client.repository.delete(model_id)\nwml_client.repository.list_models()"
        }, 
        {
            "execution_count": 81, 
            "cell_type": "code", 
            "metadata": {
                "scrolled": true
            }, 
            "outputs": [], 
            "source": "model_props = {\n    wml_client.repository.ModelMetaNames.NAME: \"{}\".format(MODEL_NAME),\n    wml_client.repository.ModelMetaNames.EVALUATION_METHOD: \"binary\",\n    wml_client.repository.ModelMetaNames.EVALUATION_METRICS: [\n        {\n           \"name\": \"areaUnderROC\",\n           \"value\": area_under_curve,\n           \"threshold\": 0.7\n        }\n    ]\n}"
        }, 
        {
            "execution_count": 82, 
            "cell_type": "code", 
            "metadata": {
                "scrolled": true
            }, 
            "outputs": [
                {
                    "output_type": "stream", 
                    "name": "stdout", 
                    "text": "Storing model ...\nDone\n"
                }
            ], 
            "source": "wml_models = wml_client.repository.get_details()\nmodel_uid = None\nfor model_in in wml_models['models']['resources']:\n    if MODEL_NAME == model_in['entity']['name']:\n        model_uid = model_in['metadata']['guid']\n        break\n\nif model_uid is None:\n    print(\"Storing model ...\")\n\n    published_model_details = wml_client.repository.store_model(model=model, meta_props=model_props, training_data=train_data, pipeline=pipeline)\n    model_uid = wml_client.repository.get_model_uid(published_model_details)\n    print(\"Done\")"
        }, 
        {
            "execution_count": 83, 
            "cell_type": "code", 
            "metadata": {
                "scrolled": true
            }, 
            "outputs": [
                {
                    "execution_count": 83, 
                    "metadata": {}, 
                    "data": {
                        "text/plain": "'18d9e549-575a-48cb-add0-d76459b07919'"
                    }, 
                    "output_type": "execute_result"
                }
            ], 
            "source": "model_uid"
        }, 
        {
            "source": "## Deploy the model", 
            "cell_type": "markdown", 
            "metadata": {}
        }, 
        {
            "source": "The next section of the notebook deploys the model as a RESTful web service in Watson Machine Learning. The deployed model will have a scoring URL you can use to send data to the model for predictions.", 
            "cell_type": "markdown", 
            "metadata": {}
        }, 
        {
            "execution_count": 84, 
            "cell_type": "code", 
            "metadata": {
                "scrolled": true
            }, 
            "outputs": [
                {
                    "output_type": "stream", 
                    "name": "stdout", 
                    "text": "Deploying model...\n\n\n#######################################################################################\n\nSynchronous deployment creation for uid: '18d9e549-575a-48cb-add0-d76459b07919' started\n\n#######################################################################################\n\n\nINITIALIZING\nDEPLOY_SUCCESS\n\n\n------------------------------------------------------------------------------------------------\nSuccessfully finished deployment creation, deployment_uid='eff4bfde-c896-4290-b610-cd1306197a09'\n------------------------------------------------------------------------------------------------\n\n\nModel id: 18d9e549-575a-48cb-add0-d76459b07919\nDeployment id: eff4bfde-c896-4290-b610-cd1306197a09\n"
                }
            ], 
            "source": "wml_deployments = wml_client.deployments.get_details()\ndeployment_uid = None\nfor deployment in wml_deployments['resources']:\n    if DEPLOYMENT_NAME == deployment['entity']['name']:\n        deployment_uid = deployment['metadata']['guid']\n        break\n\nif deployment_uid is None:\n    print(\"Deploying model...\")\n\n    deployment = wml_client.deployments.create(artifact_uid=model_uid, name=DEPLOYMENT_NAME, asynchronous=False)\n    deployment_uid = wml_client.deployments.get_uid(deployment)\n    \nprint(\"Model id: {}\".format(model_uid))\nprint(\"Deployment id: {}\".format(deployment_uid))"
        }, 
        {
            "source": "# Configure OpenScale <a name=\"openscale\"></a>", 
            "cell_type": "markdown", 
            "metadata": {}
        }, 
        {
            "source": "The notebook will now import the necessary libraries and set up a Python OpenScale client.", 
            "cell_type": "markdown", 
            "metadata": {}
        }, 
        {
            "execution_count": 85, 
            "cell_type": "code", 
            "metadata": {
                "scrolled": true
            }, 
            "outputs": [], 
            "source": "from ibm_ai_openscale import APIClient\nfrom ibm_ai_openscale.engines import *\nfrom ibm_ai_openscale.utils import *\nfrom ibm_ai_openscale.supporting_classes import PayloadRecord, Feature\nfrom ibm_ai_openscale.supporting_classes.enums import *"
        }, 
        {
            "source": "### Get Watson OpenScale GUID", 
            "cell_type": "markdown", 
            "metadata": {}
        }, 
        {
            "source": "Each instance of OpenScale has a unique ID. We can get this value using the Cloud API key specified at the beginning of the notebook.", 
            "cell_type": "markdown", 
            "metadata": {}
        }, 
        {
            "execution_count": 86, 
            "cell_type": "code", 
            "metadata": {}, 
            "outputs": [
                {
                    "output_type": "stream", 
                    "name": "stdout", 
                    "text": "e3a38ab0-3884-454c-abc0-5e535eec36e6\n"
                }
            ], 
            "source": "import requests\n\nAIOS_GUID = None\ntoken_data = {\n    'grant_type': 'urn:ibm:params:oauth:grant-type:apikey',\n    'response_type': 'cloud_iam',\n    'apikey': CLOUD_API_KEY\n}\n\nresponse = requests.post('https://iam.bluemix.net/identity/token', data=token_data)\niam_token = response.json()['access_token']\niam_headers = {\n    'Content-Type': 'application/json',\n    'Authorization': 'Bearer %s' % iam_token\n}\n\nresources = json.loads(requests.get('https://resource-controller.cloud.ibm.com/v2/resource_instances', headers=iam_headers).text)['resources']\nfor resource in resources:\n    if \"aiopenscale\" in resource['id'].lower():\n        AIOS_GUID = resource['guid']\n        \nAIOS_CREDENTIALS = {\n    \"instance_guid\": AIOS_GUID,\n    \"apikey\": CLOUD_API_KEY,\n    \"url\": \"https://api.aiopenscale.cloud.ibm.com\"\n}\n\nif AIOS_GUID is None:\n    print('Watson OpenScale GUID NOT FOUND')\nelse:\n    print(AIOS_GUID)"
        }, 
        {
            "execution_count": 87, 
            "cell_type": "code", 
            "metadata": {
                "scrolled": true
            }, 
            "outputs": [
                {
                    "execution_count": 87, 
                    "metadata": {}, 
                    "data": {
                        "text/plain": "'2.1.6'"
                    }, 
                    "output_type": "execute_result"
                }
            ], 
            "source": "ai_client = APIClient(aios_credentials=AIOS_CREDENTIALS)\nai_client.version"
        }, 
        {
            "source": "## Create schema and datamart", 
            "cell_type": "markdown", 
            "metadata": {}
        }, 
        {
            "source": "### Set up datamart", 
            "cell_type": "markdown", 
            "metadata": {}
        }, 
        {
            "source": "Watson OpenScale uses a database to store payload logs and calculated metrics. If database credentials were **not** supplied above, the notebook will use the free, internal lite database. If database credentials were supplied, the datamart will be created there **unless** there is an existing datamart **and** the **KEEP_MY_INTERNAL_POSTGRES** variable is set to **True**. If an OpenScale datamart exists in Db2 or PostgreSQL, the existing datamart will be used and no data will be overwritten.\n\nPrior instances of the German Credit model will be removed from OpenScale monitoring.", 
            "cell_type": "markdown", 
            "metadata": {}
        }, 
        {
            "execution_count": 88, 
            "cell_type": "code", 
            "metadata": {}, 
            "outputs": [
                {
                    "output_type": "stream", 
                    "name": "stdout", 
                    "text": "Using existing internal datamart.\n"
                }
            ], 
            "source": "try:\n    data_mart_details = ai_client.data_mart.get_details()\n    if 'internal_database' in data_mart_details and data_mart_details['internal_database']:\n        if KEEP_MY_INTERNAL_POSTGRES:\n            print('Using existing internal datamart.')\n        else:\n            if DB_CREDENTIALS is None:\n                print('No postgres credentials supplied. Using existing internal datamart')\n            else:\n                print('Switching to external datamart')\n                ai_client.data_mart.delete(force=True)\n                ai_client.data_mart.setup(db_credentials=DB_CREDENTIALS)\n    else:\n        print('Using existing external datamart')\nexcept:\n    if DB_CREDENTIALS is None:\n        print('Setting up internal datamart')\n        ai_client.data_mart.setup(internal_db=True)\n    else:\n        print('Setting up external datamart')\n        try:\n            ai_client.data_mart.setup(db_credentials=DB_CREDENTIALS)\n        except:\n            print('Setup failed, trying Db2 setup')\n            ai_client.data_mart.setup(db_credentials=DB_CREDENTIALS, schema=DB_CREDENTIALS['username'])\n    "
        }, 
        {
            "execution_count": 89, 
            "cell_type": "code", 
            "metadata": {
                "scrolled": true
            }, 
            "outputs": [
                {
                    "execution_count": 89, 
                    "metadata": {}, 
                    "data": {
                        "text/plain": "{'database_configuration': {},\n 'internal_database': True,\n 'internal_database_pool': 'icd-psql',\n 'service_instance_crn': 'crn:v1:bluemix:public:aiopenscale:us-south:a/bc6f89c9dbf0a21338f4ee6fa02cf6cf:e3a38ab0-3884-454c-abc0-5e535eec36e6::',\n 'status': {'state': 'active'}}"
                    }, 
                    "output_type": "execute_result"
                }
            ], 
            "source": "data_mart_details = ai_client.data_mart.get_details()\ndata_mart_details"
        }, 
        {
            "source": "## Bind machine learning engines", 
            "cell_type": "markdown", 
            "metadata": {}
        }, 
        {
            "source": "Watson OpenScale needs to be bound to the Watson Machine Learning instance to capture payload data into and out of the model. If this binding already exists, this code will output a warning message and use the existing binding.", 
            "cell_type": "markdown", 
            "metadata": {}
        }, 
        {
            "execution_count": 90, 
            "cell_type": "code", 
            "metadata": {
                "scrolled": false
            }, 
            "outputs": [
                {
                    "output_type": "stream", 
                    "name": "stdout", 
                    "text": "Warning during bind instance.\nStatus code: 409, body: {\"trace\":\"NjEwMzAzZTYtNWExMi00OTIwLTg0MGMtOTZiMmE4YmQwZjQw\",\"errors\":[{\"code\":\"AIQCS0010W\",\"message\":\"Service Binding with this id is already defined\"}]}\n"
                }, 
                {
                    "output_type": "display_data", 
                    "data": {
                        "text/html": "<HTML>\n        <body>\n            <h3>Service bindings</h3>\n            <table style='border: 1px solid #dddddd; font-family: Courier'>\n                <th style='border: 1px solid #dddddd'>uid</th><th style='border: 1px solid #dddddd'>name</th><th style='border: 1px solid #dddddd'>service_type</th><th style='border: 1px solid #dddddd'>created</th>\n                <tr><td style='border: 1px solid #dddddd'>a73bf76d-a663-448a-b771-4f651f73d54e</td><td style='border: 1px solid #dddddd'>WML instance</td><td style='border: 1px solid #dddddd'>watson_machine_learning</td><td style='border: 1px solid #dddddd'>2019-04-08T12:19:35.851Z</td></tr>\n            </table>\n        </body>\n        </HTML>", 
                        "text/plain": "<IPython.core.display.HTML object>"
                    }, 
                    "metadata": {}
                }
            ], 
            "source": "binding_uid = ai_client.data_mart.bindings.add('WML instance', WatsonMachineLearningInstance(WML_CREDENTIALS))\nif binding_uid is None:\n    binding_uid = ai_client.data_mart.bindings.get_details()['service_bindings'][0]['metadata']['guid']\nbindings_details = ai_client.data_mart.bindings.get_details()\nai_client.data_mart.bindings.list()"
        }, 
        {
            "execution_count": 91, 
            "cell_type": "code", 
            "metadata": {}, 
            "outputs": [
                {
                    "execution_count": 91, 
                    "metadata": {}, 
                    "data": {
                        "text/plain": "{'service_bindings': [{'entity': {'credentials': {'apikey': 'mM6CFm0ZcfDNxtRy2El-k9Y3NNoDaIzeZvd900gQE-li',\n     'iam_apikey_description': 'Auto generated apikey during resource-key operation for Instance - crn:v1:bluemix:public:pm-20:us-south:a/bc6f89c9dbf0a21338f4ee6fa02cf6cf:a73bf76d-a663-448a-b771-4f651f73d54e::',\n     'iam_apikey_name': 'auto-generated-apikey-b81ff8a2-6f44-4ad6-9e6b-793452ab2559',\n     'iam_role_crn': 'crn:v1:bluemix:public:iam::::serviceRole:Writer',\n     'iam_serviceid_crn': 'crn:v1:bluemix:public:iam-identity::a/bc6f89c9dbf0a21338f4ee6fa02cf6cf::serviceid:ServiceId-6414428c-49c3-40a7-b2df-a5924d8d92fa',\n     'instance_id': 'a73bf76d-a663-448a-b771-4f651f73d54e',\n     'password': 'f1a2c763-041d-42e9-9b15-d8837513d8a8',\n     'url': 'https://us-south.ml.cloud.ibm.com',\n     'username': 'b81ff8a2-6f44-4ad6-9e6b-793452ab2559'},\n    'instance_id': 'a73bf76d-a663-448a-b771-4f651f73d54e',\n    'name': 'WML instance',\n    'service_type': 'watson_machine_learning',\n    'status': {'state': 'active'}},\n   'metadata': {'created_at': '2019-04-08T12:19:35.851Z',\n    'guid': 'a73bf76d-a663-448a-b771-4f651f73d54e',\n    'url': '/v1/data_marts/e3a38ab0-3884-454c-abc0-5e535eec36e6/service_bindings/a73bf76d-a663-448a-b771-4f651f73d54e'}}]}"
                    }, 
                    "output_type": "execute_result"
                }
            ], 
            "source": "bindings_details"
        }, 
        {
            "execution_count": 92, 
            "cell_type": "code", 
            "metadata": {
                "scrolled": true
            }, 
            "outputs": [
                {
                    "output_type": "stream", 
                    "name": "stdout", 
                    "text": "a73bf76d-a663-448a-b771-4f651f73d54e\n"
                }
            ], 
            "source": "print(binding_uid)"
        }, 
        {
            "execution_count": 93, 
            "cell_type": "code", 
            "metadata": {
                "scrolled": false
            }, 
            "outputs": [
                {
                    "output_type": "display_data", 
                    "data": {
                        "text/html": "<HTML>\n        <body>\n            <h3>Available assets</h3>\n            <table style='border: 1px solid #dddddd; font-family: Courier'>\n                <th style='border: 1px solid #dddddd'>source_uid</th><th style='border: 1px solid #dddddd'>name</th><th style='border: 1px solid #dddddd'>created</th><th style='border: 1px solid #dddddd'>type</th><th style='border: 1px solid #dddddd'>frameworks</th><th style='border: 1px solid #dddddd'>binding_uid</th><th style='border: 1px solid #dddddd'>is_subscribed</th>\n                <tr><td style='border: 1px solid #dddddd'>18d9e549-575a-48cb-add0-d76459b07919</td><td style='border: 1px solid #dddddd'>Spark German Risk Model - Final</td><td style='border: 1px solid #dddddd'>2019-04-10T12:27:17.178Z</td><td style='border: 1px solid #dddddd'>model</td><td style='border: 1px solid #dddddd'>mllib-2.3</td><td style='border: 1px solid #dddddd'>a73bf76d-a663-448a-b771-4f651f73d54e</td><td style='border: 1px solid #dddddd'>False</td></tr><tr><td style='border: 1px solid #dddddd'>c69669fd-319c-48d5-adbe-8f1871df5c84</td><td style='border: 1px solid #dddddd'>Propensity Model</td><td style='border: 1px solid #dddddd'>2019-04-05T14:15:22.818Z</td><td style='border: 1px solid #dddddd'>model</td><td style='border: 1px solid #dddddd'>mllib-2.3</td><td style='border: 1px solid #dddddd'>a73bf76d-a663-448a-b771-4f651f73d54e</td><td style='border: 1px solid #dddddd'>False</td></tr><tr><td style='border: 1px solid #dddddd'>9cfb5c06-9e58-4e66-b756-528be69ee605</td><td style='border: 1px solid #dddddd'>AIOS Spark German Risk model</td><td style='border: 1px solid #dddddd'>2019-04-02T12:29:49.238Z</td><td style='border: 1px solid #dddddd'>model</td><td style='border: 1px solid #dddddd'>mllib-2.1</td><td style='border: 1px solid #dddddd'>a73bf76d-a663-448a-b771-4f651f73d54e</td><td style='border: 1px solid #dddddd'>False</td></tr><tr><td style='border: 1px solid #dddddd'>cc739a17-a08f-4768-8062-e7d795385ff4</td><td style='border: 1px solid #dddddd'>AIOS Spark German Risk model</td><td style='border: 1px solid #dddddd'>2019-04-02T12:21:15.623Z</td><td style='border: 1px solid #dddddd'>model</td><td style='border: 1px solid #dddddd'>mllib-2.1</td><td style='border: 1px solid #dddddd'>a73bf76d-a663-448a-b771-4f651f73d54e</td><td style='border: 1px solid #dddddd'>False</td></tr><tr><td style='border: 1px solid #dddddd'>add7e5f3-4ec4-49a7-ad22-d360bce6c443</td><td style='border: 1px solid #dddddd'>sentiment-prediction</td><td style='border: 1px solid #dddddd'>2019-03-15T12:17:58.644Z</td><td style='border: 1px solid #dddddd'>model</td><td style='border: 1px solid #dddddd'>mllib-2.1</td><td style='border: 1px solid #dddddd'>a73bf76d-a663-448a-b771-4f651f73d54e</td><td style='border: 1px solid #dddddd'>False</td></tr><tr><td style='border: 1px solid #dddddd'>09662d80-3722-48b8-b577-d2e1d62773c3</td><td style='border: 1px solid #dddddd'>AIOS Spark Drugs feedback model</td><td style='border: 1px solid #dddddd'>2019-03-15T10:59:39.908Z</td><td style='border: 1px solid #dddddd'>model</td><td style='border: 1px solid #dddddd'>mllib-2.1</td><td style='border: 1px solid #dddddd'>a73bf76d-a663-448a-b771-4f651f73d54e</td><td style='border: 1px solid #dddddd'>False</td></tr><tr><td style='border: 1px solid #dddddd'>f18776bf-74f2-487f-9034-996cf3dac60e</td><td style='border: 1px solid #dddddd'>AIOS Spark German Risk model</td><td style='border: 1px solid #dddddd'>2019-03-15T10:19:15.889Z</td><td style='border: 1px solid #dddddd'>model</td><td style='border: 1px solid #dddddd'>mllib-2.1</td><td style='border: 1px solid #dddddd'>a73bf76d-a663-448a-b771-4f651f73d54e</td><td style='border: 1px solid #dddddd'>False</td></tr><tr><td style='border: 1px solid #dddddd'>5b7dab22-37f8-478d-9524-d7a6005ab71d</td><td style='border: 1px solid #dddddd'>AIOS TF Structured Model</td><td style='border: 1px solid #dddddd'>2019-03-13T14:12:35.270Z</td><td style='border: 1px solid #dddddd'>model</td><td style='border: 1px solid #dddddd'>tensorflow-1.5</td><td style='border: 1px solid #dddddd'>a73bf76d-a663-448a-b771-4f651f73d54e</td><td style='border: 1px solid #dddddd'>False</td></tr><tr><td style='border: 1px solid #dddddd'>c06aafcd-88d4-4547-bff8-ff17cb1b48c4</td><td style='border: 1px solid #dddddd'>AIOS Spark Drugs feedback model</td><td style='border: 1px solid #dddddd'>2019-03-13T14:02:47.914Z</td><td style='border: 1px solid #dddddd'>model</td><td style='border: 1px solid #dddddd'>mllib-2.1</td><td style='border: 1px solid #dddddd'>a73bf76d-a663-448a-b771-4f651f73d54e</td><td style='border: 1px solid #dddddd'>False</td></tr><tr><td style='border: 1px solid #dddddd'>985cc511-c1c7-4855-a731-248bf3315e3e</td><td style='border: 1px solid #dddddd'>AIOS Spark German Risk model</td><td style='border: 1px solid #dddddd'>2019-03-13T13:58:47.044Z</td><td style='border: 1px solid #dddddd'>model</td><td style='border: 1px solid #dddddd'>mllib-2.1</td><td style='border: 1px solid #dddddd'>a73bf76d-a663-448a-b771-4f651f73d54e</td><td style='border: 1px solid #dddddd'>False</td></tr><tr><td style='border: 1px solid #dddddd'>f271faa1-cb6d-4cd1-8020-c33b427cba4c</td><td style='border: 1px solid #dddddd'>credit-risk</td><td style='border: 1px solid #dddddd'>2019-03-13T11:53:09.533Z</td><td style='border: 1px solid #dddddd'>model</td><td style='border: 1px solid #dddddd'>mllib-2.3</td><td style='border: 1px solid #dddddd'>a73bf76d-a663-448a-b771-4f651f73d54e</td><td style='border: 1px solid #dddddd'>False</td></tr><tr><td style='border: 1px solid #dddddd'>ac269afe-3b76-4264-8757-ef046790056e</td><td style='border: 1px solid #dddddd'>AIOS Keras Stack Overflow model</td><td style='border: 1px solid #dddddd'>2019-03-05T15:58:18.973Z</td><td style='border: 1px solid #dddddd'>model</td><td style='border: 1px solid #dddddd'>tensorflow-1.5</td><td style='border: 1px solid #dddddd'>a73bf76d-a663-448a-b771-4f651f73d54e</td><td style='border: 1px solid #dddddd'>False</td></tr><tr><td style='border: 1px solid #dddddd'>c291e166-45c2-4411-bbe7-88a436f083c1</td><td style='border: 1px solid #dddddd'>AIOS Keras spam model</td><td style='border: 1px solid #dddddd'>2019-03-05T13:01:00.993Z</td><td style='border: 1px solid #dddddd'>model</td><td style='border: 1px solid #dddddd'>tensorflow-1.5</td><td style='border: 1px solid #dddddd'>a73bf76d-a663-448a-b771-4f651f73d54e</td><td style='border: 1px solid #dddddd'>False</td></tr><tr><td style='border: 1px solid #dddddd'>a3c10d8c-fe54-4592-857b-0852c2807789</td><td style='border: 1px solid #dddddd'>AIOS Keras Stack Overflow model</td><td style='border: 1px solid #dddddd'>2019-03-04T11:28:06.598Z</td><td style='border: 1px solid #dddddd'>model</td><td style='border: 1px solid #dddddd'>tensorflow-1.5</td><td style='border: 1px solid #dddddd'>a73bf76d-a663-448a-b771-4f651f73d54e</td><td style='border: 1px solid #dddddd'>False</td></tr><tr><td style='border: 1px solid #dddddd'>a14b6c3a-5f8f-425a-b884-2d67a4d6c4b2</td><td style='border: 1px solid #dddddd'>AIOS Keras Stack Overflow model</td><td style='border: 1px solid #dddddd'>2019-03-04T11:19:12.746Z</td><td style='border: 1px solid #dddddd'>model</td><td style='border: 1px solid #dddddd'>tensorflow-1.5</td><td style='border: 1px solid #dddddd'>a73bf76d-a663-448a-b771-4f651f73d54e</td><td style='border: 1px solid #dddddd'>False</td></tr><tr><td style='border: 1px solid #dddddd'>418445ec-c565-43ba-86e8-56a3a5aae165</td><td style='border: 1px solid #dddddd'>AIOS Keras Stack Overflow model</td><td style='border: 1px solid #dddddd'>2019-03-04T11:17:44.315Z</td><td style='border: 1px solid #dddddd'>model</td><td style='border: 1px solid #dddddd'>tensorflow-1.5</td><td style='border: 1px solid #dddddd'>a73bf76d-a663-448a-b771-4f651f73d54e</td><td style='border: 1px solid #dddddd'>False</td></tr><tr><td style='border: 1px solid #dddddd'>a128731e-8a03-4d91-b020-95d23aa4de98</td><td style='border: 1px solid #dddddd'>AIOS Keras Stack Overflow model</td><td style='border: 1px solid #dddddd'>2019-03-04T11:13:34.246Z</td><td style='border: 1px solid #dddddd'>model</td><td style='border: 1px solid #dddddd'>tensorflow-1.5</td><td style='border: 1px solid #dddddd'>a73bf76d-a663-448a-b771-4f651f73d54e</td><td style='border: 1px solid #dddddd'>False</td></tr><tr><td style='border: 1px solid #dddddd'>67f09f99-c815-4b46-bf5a-76c747d6bb7e</td><td style='border: 1px solid #dddddd'>AIOS Spark German Risk model</td><td style='border: 1px solid #dddddd'>2019-02-28T13:45:00.965Z</td><td style='border: 1px solid #dddddd'>model</td><td style='border: 1px solid #dddddd'>mllib-2.1</td><td style='border: 1px solid #dddddd'>a73bf76d-a663-448a-b771-4f651f73d54e</td><td style='border: 1px solid #dddddd'>False</td></tr><tr><td style='border: 1px solid #dddddd'>c94c4b31-5f89-4259-b9da-dd79f3f8bf33</td><td style='border: 1px solid #dddddd'>AIOS Spark German Risk model</td><td style='border: 1px solid #dddddd'>2019-02-28T13:25:31.646Z</td><td style='border: 1px solid #dddddd'>model</td><td style='border: 1px solid #dddddd'>mllib-2.1</td><td style='border: 1px solid #dddddd'>a73bf76d-a663-448a-b771-4f651f73d54e</td><td style='border: 1px solid #dddddd'>False</td></tr><tr><td style='border: 1px solid #dddddd'>8d4649e7-ff64-4cea-800d-f1ac88e54c57</td><td style='border: 1px solid #dddddd'>SVCHighlights</td><td style='border: 1px solid #dddddd'>2019-02-25T09:37:59.520Z</td><td style='border: 1px solid #dddddd'>model</td><td style='border: 1px solid #dddddd'>scikit-learn-0.19</td><td style='border: 1px solid #dddddd'>a73bf76d-a663-448a-b771-4f651f73d54e</td><td style='border: 1px solid #dddddd'>False</td></tr><tr><td style='border: 1px solid #dddddd'>d5aee97c-5347-42ae-865c-794c431d750c</td><td style='border: 1px solid #dddddd'>AIOS SPSS Customer Model</td><td style='border: 1px solid #dddddd'>2019-02-21T09:43:15.257Z</td><td style='border: 1px solid #dddddd'>model</td><td style='border: 1px solid #dddddd'>spss-modeler-18.0</td><td style='border: 1px solid #dddddd'>a73bf76d-a663-448a-b771-4f651f73d54e</td><td style='border: 1px solid #dddddd'>False</td></tr><tr><td style='border: 1px solid #dddddd'>9a7e44e9-5464-4ef8-a136-dd3ed3d41df2</td><td style='border: 1px solid #dddddd'>AIOS SPSS Customer Model</td><td style='border: 1px solid #dddddd'>2019-02-21T09:41:40.332Z</td><td style='border: 1px solid #dddddd'>model</td><td style='border: 1px solid #dddddd'>spss-modeler-18.0</td><td style='border: 1px solid #dddddd'>a73bf76d-a663-448a-b771-4f651f73d54e</td><td style='border: 1px solid #dddddd'>False</td></tr><tr><td style='border: 1px solid #dddddd'>986a13c7-d0a3-4f18-83dd-37467d82ae8b</td><td style='border: 1px solid #dddddd'>AIOS SPSS Customer Model</td><td style='border: 1px solid #dddddd'>2019-02-21T09:16:14.492Z</td><td style='border: 1px solid #dddddd'>model</td><td style='border: 1px solid #dddddd'>spss-modeler-18.0</td><td style='border: 1px solid #dddddd'>a73bf76d-a663-448a-b771-4f651f73d54e</td><td style='border: 1px solid #dddddd'>False</td></tr><tr><td style='border: 1px solid #dddddd'>199ee3ae-0b4a-4e5d-9434-1ffc7131c3d5</td><td style='border: 1px solid #dddddd'>AIOS SPSS Customer Model</td><td style='border: 1px solid #dddddd'>2019-02-21T09:10:32.067Z</td><td style='border: 1px solid #dddddd'>model</td><td style='border: 1px solid #dddddd'>spss-modeler-18.0</td><td style='border: 1px solid #dddddd'>a73bf76d-a663-448a-b771-4f651f73d54e</td><td style='border: 1px solid #dddddd'>False</td></tr><tr><td style='border: 1px solid #dddddd'>6bd6283d-771a-439c-bbaf-8f81f022bbb2</td><td style='border: 1px solid #dddddd'>AIOS Spark German Risk model</td><td style='border: 1px solid #dddddd'>2019-02-19T13:16:21.234Z</td><td style='border: 1px solid #dddddd'>model</td><td style='border: 1px solid #dddddd'>mllib-2.1</td><td style='border: 1px solid #dddddd'>a73bf76d-a663-448a-b771-4f651f73d54e</td><td style='border: 1px solid #dddddd'>False</td></tr><tr><td style='border: 1px solid #dddddd'>9dc24903-f6b7-4ddb-8239-3d30249e3ea7</td><td style='border: 1px solid #dddddd'>AIOS Xgboost Agaricus Model</td><td style='border: 1px solid #dddddd'>2019-02-13T12:17:46.317Z</td><td style='border: 1px solid #dddddd'>model</td><td style='border: 1px solid #dddddd'>xgboost-0.80</td><td style='border: 1px solid #dddddd'>a73bf76d-a663-448a-b771-4f651f73d54e</td><td style='border: 1px solid #dddddd'>False</td></tr><tr><td style='border: 1px solid #dddddd'>2ac283ef-5138-47d6-9743-d4b230e3f056</td><td style='border: 1px solid #dddddd'>AIOS Xgboost Agaricus Model</td><td style='border: 1px solid #dddddd'>2019-02-13T12:14:46.726Z</td><td style='border: 1px solid #dddddd'>model</td><td style='border: 1px solid #dddddd'>xgboost-0.80</td><td style='border: 1px solid #dddddd'>a73bf76d-a663-448a-b771-4f651f73d54e</td><td style='border: 1px solid #dddddd'>False</td></tr><tr><td style='border: 1px solid #dddddd'>c02dbfe4-ad80-45ec-81b8-ea5fb7b33699</td><td style='border: 1px solid #dddddd'>AIOS Xgboost Agaricus Model</td><td style='border: 1px solid #dddddd'>2019-02-13T10:59:56.746Z</td><td style='border: 1px solid #dddddd'>model</td><td style='border: 1px solid #dddddd'>xgboost-0.80</td><td style='border: 1px solid #dddddd'>a73bf76d-a663-448a-b771-4f651f73d54e</td><td style='border: 1px solid #dddddd'>False</td></tr><tr><td style='border: 1px solid #dddddd'>0f1d511c-b121-44d1-b3f7-c3ad258211f5</td><td style='border: 1px solid #dddddd'>AIOS Spark German Risk Model - Final</td><td style='border: 1px solid #dddddd'>2019-02-13T10:34:15.419Z</td><td style='border: 1px solid #dddddd'>model</td><td style='border: 1px solid #dddddd'>mllib-2.1</td><td style='border: 1px solid #dddddd'>a73bf76d-a663-448a-b771-4f651f73d54e</td><td style='border: 1px solid #dddddd'>False</td></tr><tr><td style='border: 1px solid #dddddd'>8d77d6b2-9458-4105-9977-1390c65cb475</td><td style='border: 1px solid #dddddd'>credit-risk</td><td style='border: 1px solid #dddddd'>2019-02-08T08:32:29.094Z</td><td style='border: 1px solid #dddddd'>model</td><td style='border: 1px solid #dddddd'>mllib-2.3</td><td style='border: 1px solid #dddddd'>a73bf76d-a663-448a-b771-4f651f73d54e</td><td style='border: 1px solid #dddddd'>False</td></tr><tr><td style='border: 1px solid #dddddd'>f8cef2be-3097-4b1b-8989-a952754eb705</td><td style='border: 1px solid #dddddd'>AIOS Spark German Risk model</td><td style='border: 1px solid #dddddd'>2019-02-07T16:04:58.716Z</td><td style='border: 1px solid #dddddd'>model</td><td style='border: 1px solid #dddddd'>mllib-2.1</td><td style='border: 1px solid #dddddd'>a73bf76d-a663-448a-b771-4f651f73d54e</td><td style='border: 1px solid #dddddd'>False</td></tr><tr><td style='border: 1px solid #dddddd'>263dedd0-254d-4eed-9c4f-16300e0db5b3</td><td style='border: 1px solid #dddddd'>AIOS Spark Drugs feedback model</td><td style='border: 1px solid #dddddd'>2019-02-07T15:07:01.800Z</td><td style='border: 1px solid #dddddd'>model</td><td style='border: 1px solid #dddddd'>mllib-2.1</td><td style='border: 1px solid #dddddd'>a73bf76d-a663-448a-b771-4f651f73d54e</td><td style='border: 1px solid #dddddd'>False</td></tr><tr><td style='border: 1px solid #dddddd'>de5c9e61-f806-40f1-8137-e034303a8dad</td><td style='border: 1px solid #dddddd'>AIOS Xgboost Agaricus Model</td><td style='border: 1px solid #dddddd'>2019-01-25T11:07:04.731Z</td><td style='border: 1px solid #dddddd'>model</td><td style='border: 1px solid #dddddd'>xgboost-0.6</td><td style='border: 1px solid #dddddd'>a73bf76d-a663-448a-b771-4f651f73d54e</td><td style='border: 1px solid #dddddd'>False</td></tr><tr><td style='border: 1px solid #dddddd'>404aae40-ad00-43c5-b4cf-70a85030d043</td><td style='border: 1px solid #dddddd'>AIOS Spark Digits Model</td><td style='border: 1px solid #dddddd'>2019-01-22T08:34:40.657Z</td><td style='border: 1px solid #dddddd'>model</td><td style='border: 1px solid #dddddd'>scikit-learn-0.19</td><td style='border: 1px solid #dddddd'>a73bf76d-a663-448a-b771-4f651f73d54e</td><td style='border: 1px solid #dddddd'>False</td></tr><tr><td style='border: 1px solid #dddddd'>1a1f6ee4-1a5d-4af6-83ea-9de89cfdf9cd</td><td style='border: 1px solid #dddddd'>AIOS Spark German Risk model</td><td style='border: 1px solid #dddddd'>2019-01-18T12:38:51.029Z</td><td style='border: 1px solid #dddddd'>model</td><td style='border: 1px solid #dddddd'>mllib-2.1</td><td style='border: 1px solid #dddddd'>a73bf76d-a663-448a-b771-4f651f73d54e</td><td style='border: 1px solid #dddddd'>False</td></tr><tr><td style='border: 1px solid #dddddd'>096310f1-c01c-496d-9647-34b964f29e06</td><td style='border: 1px solid #dddddd'>AIOS Spark German Risk model</td><td style='border: 1px solid #dddddd'>2019-01-18T12:20:21.580Z</td><td style='border: 1px solid #dddddd'>model</td><td style='border: 1px solid #dddddd'>mllib-2.1</td><td style='border: 1px solid #dddddd'>a73bf76d-a663-448a-b771-4f651f73d54e</td><td style='border: 1px solid #dddddd'>False</td></tr><tr><td style='border: 1px solid #dddddd'>d023d796-73bd-496d-9ef6-0d35eb4e769a</td><td style='border: 1px solid #dddddd'>AIOS Spark German Risk model</td><td style='border: 1px solid #dddddd'>2019-01-18T12:13:08.881Z</td><td style='border: 1px solid #dddddd'>model</td><td style='border: 1px solid #dddddd'>mllib-2.1</td><td style='border: 1px solid #dddddd'>a73bf76d-a663-448a-b771-4f651f73d54e</td><td style='border: 1px solid #dddddd'>False</td></tr><tr><td style='border: 1px solid #dddddd'>a68c3eb5-e804-45c6-bd1c-8a5ac127be3a</td><td style='border: 1px solid #dddddd'>AIOS Spark German Risk model</td><td style='border: 1px solid #dddddd'>2019-01-18T10:16:52.395Z</td><td style='border: 1px solid #dddddd'>model</td><td style='border: 1px solid #dddddd'>mllib-2.1</td><td style='border: 1px solid #dddddd'>a73bf76d-a663-448a-b771-4f651f73d54e</td><td style='border: 1px solid #dddddd'>False</td></tr><tr><td style='border: 1px solid #dddddd'>7814bb24-daab-4c58-87db-5f571a953ccc</td><td style='border: 1px solid #dddddd'>AIOS Spark German Risk model</td><td style='border: 1px solid #dddddd'>2019-01-18T09:35:17.280Z</td><td style='border: 1px solid #dddddd'>model</td><td style='border: 1px solid #dddddd'>mllib-2.1</td><td style='border: 1px solid #dddddd'>a73bf76d-a663-448a-b771-4f651f73d54e</td><td style='border: 1px solid #dddddd'>False</td></tr><tr><td style='border: 1px solid #dddddd'>a00f13fe-c60d-47fd-afe5-c9d69bebe392</td><td style='border: 1px solid #dddddd'>AIOS Spark German Risk model</td><td style='border: 1px solid #dddddd'>2019-01-17T17:45:50.882Z</td><td style='border: 1px solid #dddddd'>model</td><td style='border: 1px solid #dddddd'>mllib-2.1</td><td style='border: 1px solid #dddddd'>a73bf76d-a663-448a-b771-4f651f73d54e</td><td style='border: 1px solid #dddddd'>False</td></tr><tr><td style='border: 1px solid #dddddd'>75e947f2-576d-45a7-bf04-2e1ec9d2e590</td><td style='border: 1px solid #dddddd'>AIOS Spark German Risk model</td><td style='border: 1px solid #dddddd'>2019-01-17T17:23:34.098Z</td><td style='border: 1px solid #dddddd'>model</td><td style='border: 1px solid #dddddd'>mllib-2.1</td><td style='border: 1px solid #dddddd'>a73bf76d-a663-448a-b771-4f651f73d54e</td><td style='border: 1px solid #dddddd'>False</td></tr><tr><td style='border: 1px solid #dddddd'>aa2ef63a-23c9-436b-997d-3820d0989dcd</td><td style='border: 1px solid #dddddd'>AIOS Spark German Risk model 4</td><td style='border: 1px solid #dddddd'>2019-01-15T09:34:58.474Z</td><td style='border: 1px solid #dddddd'>model</td><td style='border: 1px solid #dddddd'>mllib-2.1</td><td style='border: 1px solid #dddddd'>a73bf76d-a663-448a-b771-4f651f73d54e</td><td style='border: 1px solid #dddddd'>False</td></tr><tr><td style='border: 1px solid #dddddd'>7866ac20-0be4-44fb-aa03-14f608764b26</td><td style='border: 1px solid #dddddd'>AIOS Spark German Risk model</td><td style='border: 1px solid #dddddd'>2019-01-15T09:29:09.817Z</td><td style='border: 1px solid #dddddd'>model</td><td style='border: 1px solid #dddddd'>mllib-2.1</td><td style='border: 1px solid #dddddd'>a73bf76d-a663-448a-b771-4f651f73d54e</td><td style='border: 1px solid #dddddd'>False</td></tr><tr><td style='border: 1px solid #dddddd'>2ad43f44-6182-48b0-84fe-f3bcec2bf967</td><td style='border: 1px solid #dddddd'>AIOS Spark German Risk model</td><td style='border: 1px solid #dddddd'>2019-01-14T13:02:37.731Z</td><td style='border: 1px solid #dddddd'>model</td><td style='border: 1px solid #dddddd'>mllib-2.1</td><td style='border: 1px solid #dddddd'>a73bf76d-a663-448a-b771-4f651f73d54e</td><td style='border: 1px solid #dddddd'>False</td></tr><tr><td style='border: 1px solid #dddddd'>a594813f-1f42-4576-9c48-3b4726496d55</td><td style='border: 1px solid #dddddd'>AIOS Spark German Risk model</td><td style='border: 1px solid #dddddd'>2019-01-14T11:59:57.440Z</td><td style='border: 1px solid #dddddd'>model</td><td style='border: 1px solid #dddddd'>mllib-2.1</td><td style='border: 1px solid #dddddd'>a73bf76d-a663-448a-b771-4f651f73d54e</td><td style='border: 1px solid #dddddd'>False</td></tr><tr><td style='border: 1px solid #dddddd'>73298892-94ee-41f2-8ffc-f07aa6acaec2</td><td style='border: 1px solid #dddddd'>AIOS Spark German Risk model</td><td style='border: 1px solid #dddddd'>2019-01-08T17:29:21.835Z</td><td style='border: 1px solid #dddddd'>model</td><td style='border: 1px solid #dddddd'>mllib-2.1</td><td style='border: 1px solid #dddddd'>a73bf76d-a663-448a-b771-4f651f73d54e</td><td style='border: 1px solid #dddddd'>False</td></tr><tr><td style='border: 1px solid #dddddd'>96a42902-d5d0-4326-a5b7-ab93e30c0409</td><td style='border: 1px solid #dddddd'>AIOS Spark German Risk model</td><td style='border: 1px solid #dddddd'>2019-01-08T17:11:09.267Z</td><td style='border: 1px solid #dddddd'>model</td><td style='border: 1px solid #dddddd'>mllib-2.1</td><td style='border: 1px solid #dddddd'>a73bf76d-a663-448a-b771-4f651f73d54e</td><td style='border: 1px solid #dddddd'>False</td></tr><tr><td style='border: 1px solid #dddddd'>2250e929-f7c0-41a2-a3c3-e98039c99b18</td><td style='border: 1px solid #dddddd'>AIOS Spark German Risk model</td><td style='border: 1px solid #dddddd'>2019-01-08T16:34:57.984Z</td><td style='border: 1px solid #dddddd'>model</td><td style='border: 1px solid #dddddd'>mllib-2.1</td><td style='border: 1px solid #dddddd'>a73bf76d-a663-448a-b771-4f651f73d54e</td><td style='border: 1px solid #dddddd'>False</td></tr><tr><td style='border: 1px solid #dddddd'>f1f257e1-8acf-4d2d-a7d7-a3166bffb9dd</td><td style='border: 1px solid #dddddd'>AIOS Spark Drug learning model</td><td style='border: 1px solid #dddddd'>2019-01-08T14:58:06.985Z</td><td style='border: 1px solid #dddddd'>model</td><td style='border: 1px solid #dddddd'>mllib-2.1</td><td style='border: 1px solid #dddddd'>a73bf76d-a663-448a-b771-4f651f73d54e</td><td style='border: 1px solid #dddddd'>False</td></tr><tr><td style='border: 1px solid #dddddd'>5c23b6e2-4fb3-4b3b-9946-e9611f8c3b01</td><td style='border: 1px solid #dddddd'>AIOS Spark Drugs feedback model</td><td style='border: 1px solid #dddddd'>2019-01-08T13:58:01.780Z</td><td style='border: 1px solid #dddddd'>model</td><td style='border: 1px solid #dddddd'>mllib-2.1</td><td style='border: 1px solid #dddddd'>a73bf76d-a663-448a-b771-4f651f73d54e</td><td style='border: 1px solid #dddddd'>False</td></tr><tr><td style='border: 1px solid #dddddd'>0e7317b7-114c-417d-a3bc-376667730f99</td><td style='border: 1px solid #dddddd'>AIOS Spark German Risk model</td><td style='border: 1px solid #dddddd'>2019-01-08T10:25:10.403Z</td><td style='border: 1px solid #dddddd'>model</td><td style='border: 1px solid #dddddd'>mllib-2.1</td><td style='border: 1px solid #dddddd'>a73bf76d-a663-448a-b771-4f651f73d54e</td><td style='border: 1px solid #dddddd'>False</td></tr><tr><td style='border: 1px solid #dddddd'>3618c3af-277e-4d4c-831c-893086322c48</td><td style='border: 1px solid #dddddd'>AIOS Spark Best Drug model</td><td style='border: 1px solid #dddddd'>2018-12-20T09:53:13.285Z</td><td style='border: 1px solid #dddddd'>model</td><td style='border: 1px solid #dddddd'>mllib-2.1</td><td style='border: 1px solid #dddddd'>a73bf76d-a663-448a-b771-4f651f73d54e</td><td style='border: 1px solid #dddddd'>False</td></tr><tr><td style='border: 1px solid #dddddd'>4935d03c-52b7-4f2a-bc8c-e0ba7e81b1ea</td><td style='border: 1px solid #dddddd'>AIOS Spark GoSales Model</td><td style='border: 1px solid #dddddd'>2018-12-18T13:06:50.820Z</td><td style='border: 1px solid #dddddd'>model</td><td style='border: 1px solid #dddddd'>mllib-2.1</td><td style='border: 1px solid #dddddd'>a73bf76d-a663-448a-b771-4f651f73d54e</td><td style='border: 1px solid #dddddd'>False</td></tr><tr><td style='border: 1px solid #dddddd'>3118440a-8c3d-47f3-bf4f-563239cebae7</td><td style='border: 1px solid #dddddd'>AIOS Spark Telco Model</td><td style='border: 1px solid #dddddd'>2018-12-14T11:42:51.466Z</td><td style='border: 1px solid #dddddd'>model</td><td style='border: 1px solid #dddddd'>mllib-2.1</td><td style='border: 1px solid #dddddd'>a73bf76d-a663-448a-b771-4f651f73d54e</td><td style='border: 1px solid #dddddd'>False</td></tr><tr><td style='border: 1px solid #dddddd'>dcd69f0e-5b8c-43e8-adc9-25db2199dfcf</td><td style='border: 1px solid #dddddd'>AIOS Spark Telco model</td><td style='border: 1px solid #dddddd'>2018-12-14T11:39:04.231Z</td><td style='border: 1px solid #dddddd'>model</td><td style='border: 1px solid #dddddd'>mllib-2.1</td><td style='border: 1px solid #dddddd'>a73bf76d-a663-448a-b771-4f651f73d54e</td><td style='border: 1px solid #dddddd'>False</td></tr><tr><td style='border: 1px solid #dddddd'>c8f469e9-34df-4c13-9883-ddf5bbb1498d</td><td style='border: 1px solid #dddddd'>AIOS Xgboost agaricus model</td><td style='border: 1px solid #dddddd'>2018-12-12T14:17:09.129Z</td><td style='border: 1px solid #dddddd'>model</td><td style='border: 1px solid #dddddd'>xgboost-0.6</td><td style='border: 1px solid #dddddd'>a73bf76d-a663-448a-b771-4f651f73d54e</td><td style='border: 1px solid #dddddd'>False</td></tr><tr><td style='border: 1px solid #dddddd'>d6349f3f-ffd1-43b2-8afc-b4e74b520463</td><td style='border: 1px solid #dddddd'>AIOS Spark GoSales model</td><td style='border: 1px solid #dddddd'>2018-12-12T14:07:52.356Z</td><td style='border: 1px solid #dddddd'>model</td><td style='border: 1px solid #dddddd'>mllib-2.1</td><td style='border: 1px solid #dddddd'>a73bf76d-a663-448a-b771-4f651f73d54e</td><td style='border: 1px solid #dddddd'>False</td></tr><tr><td style='border: 1px solid #dddddd'>7bee77b1-3936-4797-b579-2175dd81c2d5</td><td style='border: 1px solid #dddddd'>AIOS Spark Digits model</td><td style='border: 1px solid #dddddd'>2018-12-12T12:49:14.358Z</td><td style='border: 1px solid #dddddd'>model</td><td style='border: 1px solid #dddddd'>scikit-learn-0.19</td><td style='border: 1px solid #dddddd'>a73bf76d-a663-448a-b771-4f651f73d54e</td><td style='border: 1px solid #dddddd'>False</td></tr>\n            </table>\n        </body>\n        </HTML>", 
                        "text/plain": "<IPython.core.display.HTML object>"
                    }, 
                    "metadata": {}
                }
            ], 
            "source": "ai_client.data_mart.bindings.list_assets()"
        }, 
        {
            "source": "## Subscriptions", 
            "cell_type": "markdown", 
            "metadata": {}
        }, 
        {
            "source": "### Remove existing credit risk subscriptions", 
            "cell_type": "markdown", 
            "metadata": {}
        }, 
        {
            "source": "This code removes previous subscriptions to the German Credit model to refresh the monitors with the new model and new data.", 
            "cell_type": "markdown", 
            "metadata": {}
        }, 
        {
            "execution_count": 94, 
            "cell_type": "code", 
            "metadata": {
                "scrolled": true
            }, 
            "outputs": [
                {
                    "output_type": "stream", 
                    "name": "stdout", 
                    "text": "Deleted existing subscription for Spark German Risk Model - Final\n"
                }
            ], 
            "source": "subscriptions_uids = ai_client.data_mart.subscriptions.get_uids()\nfor subscription in subscriptions_uids:\n    sub_name = ai_client.data_mart.subscriptions.get_details(subscription)['entity']['asset']['name']\n    if sub_name == MODEL_NAME:\n        ai_client.data_mart.subscriptions.delete(subscription)\n        print('Deleted existing subscription for', MODEL_NAME)"
        }, 
        {
            "source": "This code creates the model subscription in OpenScale using the Python client API. Note that we need to provide the model unique identifier, and some information about the model itself.", 
            "cell_type": "markdown", 
            "metadata": {}
        }, 
        {
            "execution_count": 95, 
            "cell_type": "code", 
            "metadata": {
                "scrolled": false
            }, 
            "outputs": [], 
            "source": "subscription = ai_client.data_mart.subscriptions.add(WatsonMachineLearningAsset(\n    model_uid,\n    problem_type=ProblemType.BINARY_CLASSIFICATION,\n    input_data_type=InputDataType.STRUCTURED,\n    label_column='Risk',\n    prediction_column='predictedLabel',\n    probability_column='probability',\n    feature_columns = [\"CheckingStatus\",\"LoanDuration\",\"CreditHistory\",\"LoanPurpose\",\"LoanAmount\",\"ExistingSavings\",\"EmploymentDuration\",\"InstallmentPercent\",\"Sex\",\"OthersOnLoan\",\"CurrentResidenceDuration\",\"OwnsProperty\",\"Age\",\"InstallmentPlans\",\"Housing\",\"ExistingCreditsCount\",\"Job\",\"Dependents\",\"Telephone\",\"ForeignWorker\"],\n    categorical_columns = [\"CheckingStatus\",\"CreditHistory\",\"LoanPurpose\",\"ExistingSavings\",\"EmploymentDuration\",\"Sex\",\"OthersOnLoan\",\"OwnsProperty\",\"InstallmentPlans\",\"Housing\",\"Job\",\"Telephone\",\"ForeignWorker\"]\n))\n\nif subscription is None:\n    print('Subscription already exists; get the existing one')\n    subscriptions_uids = ai_client.data_mart.subscriptions.get_uids()\n    for sub in subscriptions_uids:\n        if ai_client.data_mart.subscriptions.get_details(sub)['entity']['asset']['name'] == MODEL_NAME:\n            subscription = ai_client.data_mart.subscriptions.get(sub)"
        }, 
        {
            "source": "Get subscription list", 
            "cell_type": "markdown", 
            "metadata": {}
        }, 
        {
            "execution_count": 96, 
            "cell_type": "code", 
            "metadata": {
                "scrolled": true
            }, 
            "outputs": [
                {
                    "output_type": "display_data", 
                    "data": {
                        "text/html": "<HTML>\n        <body>\n            <h3>Subscriptions</h3>\n            <table style='border: 1px solid #dddddd; font-family: Courier'>\n                <th style='border: 1px solid #dddddd'>uid</th><th style='border: 1px solid #dddddd'>name</th><th style='border: 1px solid #dddddd'>type</th><th style='border: 1px solid #dddddd'>binding_uid</th><th style='border: 1px solid #dddddd'>created</th>\n                <tr><td style='border: 1px solid #dddddd'>18d9e549-575a-48cb-add0-d76459b07919</td><td style='border: 1px solid #dddddd'>Spark German Risk Model - Final</td><td style='border: 1px solid #dddddd'>model</td><td style='border: 1px solid #dddddd'>a73bf76d-a663-448a-b771-4f651f73d54e</td><td style='border: 1px solid #dddddd'>2019-04-10T12:27:38.561Z</td></tr>\n            </table>\n        </body>\n        </HTML>", 
                        "text/plain": "<IPython.core.display.HTML object>"
                    }, 
                    "metadata": {}
                }
            ], 
            "source": "subscriptions_uids = ai_client.data_mart.subscriptions.get_uids()\nai_client.data_mart.subscriptions.list()"
        }, 
        {
            "execution_count": 97, 
            "cell_type": "code", 
            "metadata": {
                "scrolled": false
            }, 
            "outputs": [], 
            "source": "subscription_details = subscription.get_details()"
        }, 
        {
            "source": "### Score the model so we can configure monitors", 
            "cell_type": "markdown", 
            "metadata": {}
        }, 
        {
            "source": "Now that the WML service has been bound and the subscription has been created, we need to send a request to the model before we configure OpenScale. This allows OpenScale to create a payload log in the datamart with the correct schema, so it can capture data coming into and out of the model. First, the code gets the model deployment's endpoint URL, and then sends a few records for predictions.", 
            "cell_type": "markdown", 
            "metadata": {}
        }, 
        {
            "execution_count": 98, 
            "cell_type": "code", 
            "metadata": {
                "scrolled": true
            }, 
            "outputs": [
                {
                    "output_type": "stream", 
                    "name": "stdout", 
                    "text": "eff4bfde-c896-4290-b610-cd1306197a09\nhttps://us-south.ml.cloud.ibm.com/v3/wml_instances/a73bf76d-a663-448a-b771-4f651f73d54e/deployments/eff4bfde-c896-4290-b610-cd1306197a09/online\n"
                }
            ], 
            "source": "credit_risk_scoring_endpoint = None\nprint(deployment_uid)\n\nfor deployment in wml_client.deployments.get_details()['resources']:\n    if deployment_uid in deployment['metadata']['guid']:\n        credit_risk_scoring_endpoint = deployment['entity']['scoring_url']\n        \nprint(credit_risk_scoring_endpoint)"
        }, 
        {
            "execution_count": 99, 
            "cell_type": "code", 
            "metadata": {
                "scrolled": true
            }, 
            "outputs": [
                {
                    "output_type": "stream", 
                    "name": "stdout", 
                    "text": "Single record scoring result: \n fields: ['CheckingStatus', 'LoanDuration', 'CreditHistory', 'LoanPurpose', 'LoanAmount', 'ExistingSavings', 'EmploymentDuration', 'InstallmentPercent', 'Sex', 'OthersOnLoan', 'CurrentResidenceDuration', 'OwnsProperty', 'Age', 'InstallmentPlans', 'Housing', 'ExistingCreditsCount', 'Job', 'Dependents', 'Telephone', 'ForeignWorker', 'CheckingStatus_IX', 'CreditHistory_IX', 'EmploymentDuration_IX', 'ExistingSavings_IX', 'ForeignWorker_IX', 'Housing_IX', 'InstallmentPlans_IX', 'Job_IX', 'LoanPurpose_IX', 'OthersOnLoan_IX', 'OwnsProperty_IX', 'Sex_IX', 'Telephone_IX', 'features', 'rawPrediction', 'probability', 'prediction', 'predictedLabel'] \n values:  ['no_checking', 13, 'credits_paid_to_date', 'car_new', 1343, '100_to_500', '1_to_4', 2, 'female', 'none', 3, 'savings_insurance', 46, 'none', 'own', 2, 'skilled', 1, 'none', 'yes', 0.0, 1.0, 0.0, 1.0, 0.0, 0.0, 0.0, 0.0, 0.0, 0.0, 0.0, 1.0, 0.0, [21, [1, 3, 5, 13, 14, 15, 16, 17, 18, 19, 20], [1.0, 1.0, 1.0, 13.0, 1343.0, 2.0, 3.0, 13.0, 46.0, 2.0, 1.0]], [13.527234618673575, 6.472765381326424], [0.6763617309336787, 0.3236382690663212], 0.0, 'No Risk']\n"
                }
            ], 
            "source": "fields = [\"CheckingStatus\",\"LoanDuration\",\"CreditHistory\",\"LoanPurpose\",\"LoanAmount\",\"ExistingSavings\",\"EmploymentDuration\",\"InstallmentPercent\",\"Sex\",\"OthersOnLoan\",\"CurrentResidenceDuration\",\"OwnsProperty\",\"Age\",\"InstallmentPlans\",\"Housing\",\"ExistingCreditsCount\",\"Job\",\"Dependents\",\"Telephone\",\"ForeignWorker\"]\nvalues = [\n  [\"no_checking\",13,\"credits_paid_to_date\",\"car_new\",1343,\"100_to_500\",\"1_to_4\",2,\"female\",\"none\",3,\"savings_insurance\",46,\"none\",\"own\",2,\"skilled\",1,\"none\",\"yes\"],\n  [\"no_checking\",24,\"prior_payments_delayed\",\"furniture\",4567,\"500_to_1000\",\"1_to_4\",4,\"male\",\"none\",4,\"savings_insurance\",36,\"none\",\"free\",2,\"management_self-employed\",1,\"none\",\"yes\"],\n  [\"0_to_200\",26,\"all_credits_paid_back\",\"car_new\",863,\"less_100\",\"less_1\",2,\"female\",\"co-applicant\",2,\"real_estate\",38,\"none\",\"own\",1,\"skilled\",1,\"none\",\"yes\"],\n  [\"0_to_200\",14,\"no_credits\",\"car_new\",2368,\"less_100\",\"1_to_4\",3,\"female\",\"none\",3,\"real_estate\",29,\"none\",\"own\",1,\"skilled\",1,\"none\",\"yes\"],\n  [\"0_to_200\",4,\"no_credits\",\"car_new\",250,\"less_100\",\"unemployed\",2,\"female\",\"none\",3,\"real_estate\",23,\"none\",\"rent\",1,\"management_self-employed\",1,\"none\",\"yes\"],\n  [\"no_checking\",17,\"credits_paid_to_date\",\"car_new\",832,\"100_to_500\",\"1_to_4\",2,\"male\",\"none\",2,\"real_estate\",42,\"none\",\"own\",1,\"skilled\",1,\"none\",\"yes\"],\n  [\"no_checking\",33,\"outstanding_credit\",\"appliances\",5696,\"unknown\",\"greater_7\",4,\"male\",\"co-applicant\",4,\"unknown\",54,\"none\",\"free\",2,\"skilled\",1,\"yes\",\"yes\"],\n  [\"0_to_200\",13,\"prior_payments_delayed\",\"retraining\",1375,\"100_to_500\",\"4_to_7\",3,\"male\",\"none\",3,\"real_estate\",37,\"none\",\"own\",2,\"management_self-employed\",1,\"none\",\"yes\"]\n]\n\npayload_scoring = {\"fields\": fields,\"values\": values}\nscoring_response = wml_client.deployments.score(credit_risk_scoring_endpoint, payload_scoring)\n\nprint('Single record scoring result:', '\\n fields:', scoring_response['fields'], '\\n values: ', scoring_response['values'][0])"
        }, 
        {
            "source": "# Quality monitoring and feedback logging <a name=\"quality\"></a>", 
            "cell_type": "markdown", 
            "metadata": {}
        }, 
        {
            "source": "## Enable quality monitoring", 
            "cell_type": "markdown", 
            "metadata": {}
        }, 
        {
            "source": "The code below waits ten seconds to allow the payload logging table to be set up before it begins enabling monitors. First, it turns on the quality (accuracy) monitor and sets an alert threshold of 70%. OpenScale will show an alert on the dashboard if the model accuracy measurement (area under the curve, in the case of a binary classifier) falls below this threshold.\n\nThe second paramater supplied, min_records, specifies the minimum number of feedback records OpenScale needs before it calculates a new measurement. The quality monitor runs hourly, but the accuracy reading in the dashboard will not change until an additional 50 feedback records have been added, via the user interface, the Python client, or the supplied feedback endpoint.", 
            "cell_type": "markdown", 
            "metadata": {}
        }, 
        {
            "execution_count": 100, 
            "cell_type": "code", 
            "metadata": {
                "scrolled": true
            }, 
            "outputs": [], 
            "source": "time.sleep(10)\nsubscription.quality_monitoring.enable(threshold=0.7, min_records=50)"
        }, 
        {
            "source": "## Feedback logging", 
            "cell_type": "markdown", 
            "metadata": {}
        }, 
        {
            "source": "The code below downloads and stores enough feedback data to meet the minimum threshold so that OpenScale can calculate a new accuracy measurement. It then kicks off the accuracy monitor. The monitors run hourly, or can be initiated via the Python API, the REST API, or the graphical user interface.", 
            "cell_type": "markdown", 
            "metadata": {}
        }, 
        {
            "execution_count": 101, 
            "cell_type": "code", 
            "metadata": {}, 
            "outputs": [
                {
                    "output_type": "stream", 
                    "name": "stdout", 
                    "text": "--2019-04-10 12:27:51--  https://raw.githubusercontent.com/emartensibm/german-credit/master/additional_feedback_data.json\nResolving raw.githubusercontent.com (raw.githubusercontent.com)... 151.101.48.133\nConnecting to raw.githubusercontent.com (raw.githubusercontent.com)|151.101.48.133|:443... connected.\nHTTP request sent, awaiting response... 200 OK\nLength: 16506 (16K) [text/plain]\nSaving to: 'additional_feedback_data.json'\n\nadditional_feedback 100%[===================>]  16.12K  --.-KB/s    in 0s      \n\n2019-04-10 12:27:51 (124 MB/s) - 'additional_feedback_data.json' saved [16506/16506]\n\n"
                }
            ], 
            "source": "!rm additional_feedback_data.json\n!wget https://raw.githubusercontent.com/emartensibm/german-credit/master/additional_feedback_data.json"
        }, 
        {
            "execution_count": 102, 
            "cell_type": "code", 
            "metadata": {}, 
            "outputs": [], 
            "source": "with open('additional_feedback_data.json') as feedback_file:\n    additional_feedback_data = json.load(feedback_file)\nsubscription.feedback_logging.store(additional_feedback_data['data'])"
        }, 
        {
            "execution_count": 103, 
            "cell_type": "code", 
            "metadata": {
                "scrolled": true
            }, 
            "outputs": [
                {
                    "output_type": "display_data", 
                    "data": {
                        "text/html": "<HTML>\n        <body>\n            <h3>Feedback_18d9e549-575a-48cb-add0-d76459b07919 (binding_id=a73bf76d-a663-448a-b771-4f651f73d54e, subscription_id=18d9e549-575a-48cb-add0-d76459b07919)</h3>\n            <table style='border: 1px solid #dddddd; font-family: Courier'>\n                <th style='border: 1px solid #dddddd'>CheckingStatus</th><th style='border: 1px solid #dddddd'>LoanDuration</th><th style='border: 1px solid #dddddd'>CreditHistory</th><th style='border: 1px solid #dddddd'>LoanPurpose</th><th style='border: 1px solid #dddddd'>LoanAmount</th><th style='border: 1px solid #dddddd'>ExistingSavings</th><th style='border: 1px solid #dddddd'>EmploymentDuration</th><th style='border: 1px solid #dddddd'>InstallmentPercent</th><th style='border: 1px solid #dddddd'>Sex</th><th style='border: 1px solid #dddddd'>OthersOnLoan</th><th style='border: 1px solid #dddddd'>CurrentResidenceDuration</th><th style='border: 1px solid #dddddd'>OwnsProperty</th><th style='border: 1px solid #dddddd'>Age</th><th style='border: 1px solid #dddddd'>InstallmentPlans</th><th style='border: 1px solid #dddddd'>Housing</th><th style='border: 1px solid #dddddd'>ExistingCreditsCount</th><th style='border: 1px solid #dddddd'>Job</th><th style='border: 1px solid #dddddd'>Dependents</th><th style='border: 1px solid #dddddd'>Telephone</th><th style='border: 1px solid #dddddd'>ForeignWorker</th><th style='border: 1px solid #dddddd'>Risk</th><th style='border: 1px solid #dddddd'>_training</th>\n                <tr><td style='border: 1px solid #dddddd'>less_0</td><td style='border: 1px solid #dddddd'>10</td><td style='border: 1px solid #dddddd'>all_credits_paid_back</td><td style='border: 1px solid #dddddd'>car_new</td><td style='border: 1px solid #dddddd'>250</td><td style='border: 1px solid #dddddd'>500_to_1000</td><td style='border: 1px solid #dddddd'>4_to_7</td><td style='border: 1px solid #dddddd'>3</td><td style='border: 1px solid #dddddd'>male</td><td style='border: 1px solid #dddddd'>none</td><td style='border: 1px solid #dddddd'>2</td><td style='border: 1px solid #dddddd'>real_estate</td><td style='border: 1px solid #dddddd'>23</td><td style='border: 1px solid #dddddd'>none</td><td style='border: 1px solid #dddddd'>rent</td><td style='border: 1px solid #dddddd'>1</td><td style='border: 1px solid #dddddd'>skilled</td><td style='border: 1px solid #dddddd'>1</td><td style='border: 1px solid #dddddd'>none</td><td style='border: 1px solid #dddddd'>yes</td><td style='border: 1px solid #dddddd'>No Risk</td><td style='border: 1px solid #dddddd'>2019-04-10 12:27:52.581950+00:00</td></tr><tr><td style='border: 1px solid #dddddd'>no_checking</td><td style='border: 1px solid #dddddd'>23</td><td style='border: 1px solid #dddddd'>prior_payments_delayed</td><td style='border: 1px solid #dddddd'>appliances</td><td style='border: 1px solid #dddddd'>6964</td><td style='border: 1px solid #dddddd'>100_to_500</td><td style='border: 1px solid #dddddd'>4_to_7</td><td style='border: 1px solid #dddddd'>4</td><td style='border: 1px solid #dddddd'>female</td><td style='border: 1px solid #dddddd'>none</td><td style='border: 1px solid #dddddd'>3</td><td style='border: 1px solid #dddddd'>car_other</td><td style='border: 1px solid #dddddd'>39</td><td style='border: 1px solid #dddddd'>none</td><td style='border: 1px solid #dddddd'>own</td><td style='border: 1px solid #dddddd'>1</td><td style='border: 1px solid #dddddd'>skilled</td><td style='border: 1px solid #dddddd'>1</td><td style='border: 1px solid #dddddd'>none</td><td style='border: 1px solid #dddddd'>yes</td><td style='border: 1px solid #dddddd'>Risk</td><td style='border: 1px solid #dddddd'>2019-04-10 12:27:52.581950+00:00</td></tr><tr><td style='border: 1px solid #dddddd'>0_to_200</td><td style='border: 1px solid #dddddd'>30</td><td style='border: 1px solid #dddddd'>outstanding_credit</td><td style='border: 1px solid #dddddd'>appliances</td><td style='border: 1px solid #dddddd'>3464</td><td style='border: 1px solid #dddddd'>100_to_500</td><td style='border: 1px solid #dddddd'>greater_7</td><td style='border: 1px solid #dddddd'>3</td><td style='border: 1px solid #dddddd'>male</td><td style='border: 1px solid #dddddd'>guarantor</td><td style='border: 1px solid #dddddd'>4</td><td style='border: 1px solid #dddddd'>savings_insurance</td><td style='border: 1px solid #dddddd'>51</td><td style='border: 1px solid #dddddd'>stores</td><td style='border: 1px solid #dddddd'>free</td><td style='border: 1px solid #dddddd'>1</td><td style='border: 1px solid #dddddd'>skilled</td><td style='border: 1px solid #dddddd'>1</td><td style='border: 1px solid #dddddd'>yes</td><td style='border: 1px solid #dddddd'>yes</td><td style='border: 1px solid #dddddd'>Risk</td><td style='border: 1px solid #dddddd'>2019-04-10 12:27:52.581950+00:00</td></tr><tr><td style='border: 1px solid #dddddd'>no_checking</td><td style='border: 1px solid #dddddd'>23</td><td style='border: 1px solid #dddddd'>outstanding_credit</td><td style='border: 1px solid #dddddd'>car_used</td><td style='border: 1px solid #dddddd'>2681</td><td style='border: 1px solid #dddddd'>500_to_1000</td><td style='border: 1px solid #dddddd'>greater_7</td><td style='border: 1px solid #dddddd'>4</td><td style='border: 1px solid #dddddd'>male</td><td style='border: 1px solid #dddddd'>none</td><td style='border: 1px solid #dddddd'>3</td><td style='border: 1px solid #dddddd'>car_other</td><td style='border: 1px solid #dddddd'>33</td><td style='border: 1px solid #dddddd'>stores</td><td style='border: 1px solid #dddddd'>free</td><td style='border: 1px solid #dddddd'>1</td><td style='border: 1px solid #dddddd'>unskilled</td><td style='border: 1px solid #dddddd'>1</td><td style='border: 1px solid #dddddd'>yes</td><td style='border: 1px solid #dddddd'>yes</td><td style='border: 1px solid #dddddd'>No Risk</td><td style='border: 1px solid #dddddd'>2019-04-10 12:27:52.581950+00:00</td></tr><tr><td style='border: 1px solid #dddddd'>0_to_200</td><td style='border: 1px solid #dddddd'>18</td><td style='border: 1px solid #dddddd'>prior_payments_delayed</td><td style='border: 1px solid #dddddd'>furniture</td><td style='border: 1px solid #dddddd'>1673</td><td style='border: 1px solid #dddddd'>less_100</td><td style='border: 1px solid #dddddd'>1_to_4</td><td style='border: 1px solid #dddddd'>2</td><td style='border: 1px solid #dddddd'>male</td><td style='border: 1px solid #dddddd'>none</td><td style='border: 1px solid #dddddd'>3</td><td style='border: 1px solid #dddddd'>car_other</td><td style='border: 1px solid #dddddd'>30</td><td style='border: 1px solid #dddddd'>none</td><td style='border: 1px solid #dddddd'>own</td><td style='border: 1px solid #dddddd'>2</td><td style='border: 1px solid #dddddd'>skilled</td><td style='border: 1px solid #dddddd'>1</td><td style='border: 1px solid #dddddd'>none</td><td style='border: 1px solid #dddddd'>yes</td><td style='border: 1px solid #dddddd'>Risk</td><td style='border: 1px solid #dddddd'>2019-04-10 12:27:52.581950+00:00</td></tr><tr><td style='border: 1px solid #dddddd'>no_checking</td><td style='border: 1px solid #dddddd'>44</td><td style='border: 1px solid #dddddd'>outstanding_credit</td><td style='border: 1px solid #dddddd'>radio_tv</td><td style='border: 1px solid #dddddd'>3476</td><td style='border: 1px solid #dddddd'>unknown</td><td style='border: 1px solid #dddddd'>greater_7</td><td style='border: 1px solid #dddddd'>4</td><td style='border: 1px solid #dddddd'>male</td><td style='border: 1px solid #dddddd'>co-applicant</td><td style='border: 1px solid #dddddd'>4</td><td style='border: 1px solid #dddddd'>unknown</td><td style='border: 1px solid #dddddd'>60</td><td style='border: 1px solid #dddddd'>none</td><td style='border: 1px solid #dddddd'>free</td><td style='border: 1px solid #dddddd'>2</td><td style='border: 1px solid #dddddd'>skilled</td><td style='border: 1px solid #dddddd'>2</td><td style='border: 1px solid #dddddd'>yes</td><td style='border: 1px solid #dddddd'>yes</td><td style='border: 1px solid #dddddd'>Risk</td><td style='border: 1px solid #dddddd'>2019-04-10 12:27:52.581950+00:00</td></tr><tr><td style='border: 1px solid #dddddd'>less_0</td><td style='border: 1px solid #dddddd'>8</td><td style='border: 1px solid #dddddd'>no_credits</td><td style='border: 1px solid #dddddd'>education</td><td style='border: 1px solid #dddddd'>803</td><td style='border: 1px solid #dddddd'>less_100</td><td style='border: 1px solid #dddddd'>unemployed</td><td style='border: 1px solid #dddddd'>1</td><td style='border: 1px solid #dddddd'>male</td><td style='border: 1px solid #dddddd'>none</td><td style='border: 1px solid #dddddd'>1</td><td style='border: 1px solid #dddddd'>savings_insurance</td><td style='border: 1px solid #dddddd'>19</td><td style='border: 1px solid #dddddd'>stores</td><td style='border: 1px solid #dddddd'>rent</td><td style='border: 1px solid #dddddd'>1</td><td style='border: 1px solid #dddddd'>skilled</td><td style='border: 1px solid #dddddd'>1</td><td style='border: 1px solid #dddddd'>none</td><td style='border: 1px solid #dddddd'>yes</td><td style='border: 1px solid #dddddd'>No Risk</td><td style='border: 1px solid #dddddd'>2019-04-10 12:27:52.581950+00:00</td></tr><tr><td style='border: 1px solid #dddddd'>0_to_200</td><td style='border: 1px solid #dddddd'>7</td><td style='border: 1px solid #dddddd'>all_credits_paid_back</td><td style='border: 1px solid #dddddd'>car_new</td><td style='border: 1px solid #dddddd'>250</td><td style='border: 1px solid #dddddd'>less_100</td><td style='border: 1px solid #dddddd'>unemployed</td><td style='border: 1px solid #dddddd'>1</td><td style='border: 1px solid #dddddd'>male</td><td style='border: 1px solid #dddddd'>none</td><td style='border: 1px solid #dddddd'>1</td><td style='border: 1px solid #dddddd'>real_estate</td><td style='border: 1px solid #dddddd'>19</td><td style='border: 1px solid #dddddd'>stores</td><td style='border: 1px solid #dddddd'>rent</td><td style='border: 1px solid #dddddd'>1</td><td style='border: 1px solid #dddddd'>skilled</td><td style='border: 1px solid #dddddd'>1</td><td style='border: 1px solid #dddddd'>none</td><td style='border: 1px solid #dddddd'>yes</td><td style='border: 1px solid #dddddd'>No Risk</td><td style='border: 1px solid #dddddd'>2019-04-10 12:27:52.581950+00:00</td></tr><tr><td style='border: 1px solid #dddddd'>0_to_200</td><td style='border: 1px solid #dddddd'>33</td><td style='border: 1px solid #dddddd'>credits_paid_to_date</td><td style='border: 1px solid #dddddd'>radio_tv</td><td style='border: 1px solid #dddddd'>3548</td><td style='border: 1px solid #dddddd'>100_to_500</td><td style='border: 1px solid #dddddd'>1_to_4</td><td style='border: 1px solid #dddddd'>3</td><td style='border: 1px solid #dddddd'>male</td><td style='border: 1px solid #dddddd'>none</td><td style='border: 1px solid #dddddd'>4</td><td style='border: 1px solid #dddddd'>car_other</td><td style='border: 1px solid #dddddd'>28</td><td style='border: 1px solid #dddddd'>none</td><td style='border: 1px solid #dddddd'>own</td><td style='border: 1px solid #dddddd'>2</td><td style='border: 1px solid #dddddd'>skilled</td><td style='border: 1px solid #dddddd'>1</td><td style='border: 1px solid #dddddd'>yes</td><td style='border: 1px solid #dddddd'>yes</td><td style='border: 1px solid #dddddd'>Risk</td><td style='border: 1px solid #dddddd'>2019-04-10 12:27:52.581950+00:00</td></tr><tr><td style='border: 1px solid #dddddd'>no_checking</td><td style='border: 1px solid #dddddd'>24</td><td style='border: 1px solid #dddddd'>prior_payments_delayed</td><td style='border: 1px solid #dddddd'>retraining</td><td style='border: 1px solid #dddddd'>4158</td><td style='border: 1px solid #dddddd'>100_to_500</td><td style='border: 1px solid #dddddd'>greater_7</td><td style='border: 1px solid #dddddd'>3</td><td style='border: 1px solid #dddddd'>female</td><td style='border: 1px solid #dddddd'>none</td><td style='border: 1px solid #dddddd'>2</td><td style='border: 1px solid #dddddd'>savings_insurance</td><td style='border: 1px solid #dddddd'>35</td><td style='border: 1px solid #dddddd'>stores</td><td style='border: 1px solid #dddddd'>own</td><td style='border: 1px solid #dddddd'>1</td><td style='border: 1px solid #dddddd'>unskilled</td><td style='border: 1px solid #dddddd'>2</td><td style='border: 1px solid #dddddd'>none</td><td style='border: 1px solid #dddddd'>yes</td><td style='border: 1px solid #dddddd'>Risk</td><td style='border: 1px solid #dddddd'>2019-04-10 12:27:52.581950+00:00</td></tr>\n            </table>\n        </body>\n        </HTML>", 
                        "text/plain": "<IPython.core.display.HTML object>"
                    }, 
                    "metadata": {}
                }
            ], 
            "source": "subscription.feedback_logging.show_table()"
        }, 
        {
            "execution_count": 104, 
            "cell_type": "code", 
            "metadata": {
                "scrolled": true
            }, 
            "outputs": [
                {
                    "output_type": "stream", 
                    "name": "stdout", 
                    "text": "\n\n================================================================================\n\n Waiting for end of quality monitoring run 76ad26d3-2dd7-4ce4-b406-2d0c9fa097ff \n\n================================================================================\n\n\n\ninitializing.\ncompleted\n\n---------------------------\n Successfully finished run \n---------------------------\n\n\n"
                }
            ], 
            "source": "run_details = subscription.quality_monitoring.run(background_mode=False)"
        }, 
        {
            "execution_count": 105, 
            "cell_type": "code", 
            "metadata": {
                "scrolled": true
            }, 
            "outputs": [
                {
                    "output_type": "display_data", 
                    "data": {
                        "text/html": "<HTML>\n        <body>\n            <h3>QualityMetrics (binding_id=a73bf76d-a663-448a-b771-4f651f73d54e, subscription_id=18d9e549-575a-48cb-add0-d76459b07919)</h3>\n            <table style='border: 1px solid #dddddd; font-family: Courier'>\n                <th style='border: 1px solid #dddddd'>ts</th><th style='border: 1px solid #dddddd'>id</th><th style='border: 1px solid #dddddd'>value</th><th style='border: 1px solid #dddddd'>lower limit</th><th style='border: 1px solid #dddddd'>upper limit</th><th style='border: 1px solid #dddddd'>tags</th><th style='border: 1px solid #dddddd'>binding_id</th><th style='border: 1px solid #dddddd'>subscription_id</th><th style='border: 1px solid #dddddd'>deployment_id</th>\n                <tr><td style='border: 1px solid #dddddd'>2019-04-10 12:27:53.310000+00:00</td><td style='border: 1px solid #dddddd'>true_positive_rate</td><td style='border: 1px solid #dddddd'>0.7647058823529411</td><td style='border: 1px solid #dddddd'></td><td style='border: 1px solid #dddddd'></td><td style='border: 1px solid #dddddd'></td><td style='border: 1px solid #dddddd'>a73bf76d-a663-448a-b771-4f651f73d54e</td><td style='border: 1px solid #dddddd'>18d9e549-575a-48cb-add0-d76459b07919</td><td style='border: 1px solid #dddddd'>eff4bfde-c896-4290-b610-cd1306197a09</td></tr><tr><td style='border: 1px solid #dddddd'>2019-04-10 12:27:53.310000+00:00</td><td style='border: 1px solid #dddddd'>area_under_roc</td><td style='border: 1px solid #dddddd'>0.7588961510530139</td><td style='border: 1px solid #dddddd'>0.7</td><td style='border: 1px solid #dddddd'></td><td style='border: 1px solid #dddddd'></td><td style='border: 1px solid #dddddd'>a73bf76d-a663-448a-b771-4f651f73d54e</td><td style='border: 1px solid #dddddd'>18d9e549-575a-48cb-add0-d76459b07919</td><td style='border: 1px solid #dddddd'>eff4bfde-c896-4290-b610-cd1306197a09</td></tr><tr><td style='border: 1px solid #dddddd'>2019-04-10 12:27:53.310000+00:00</td><td style='border: 1px solid #dddddd'>precision</td><td style='border: 1px solid #dddddd'>0.3939393939393939</td><td style='border: 1px solid #dddddd'></td><td style='border: 1px solid #dddddd'></td><td style='border: 1px solid #dddddd'></td><td style='border: 1px solid #dddddd'>a73bf76d-a663-448a-b771-4f651f73d54e</td><td style='border: 1px solid #dddddd'>18d9e549-575a-48cb-add0-d76459b07919</td><td style='border: 1px solid #dddddd'>eff4bfde-c896-4290-b610-cd1306197a09</td></tr><tr><td style='border: 1px solid #dddddd'>2019-04-10 12:27:53.310000+00:00</td><td style='border: 1px solid #dddddd'>f1_measure</td><td style='border: 1px solid #dddddd'>0.5199999999999999</td><td style='border: 1px solid #dddddd'></td><td style='border: 1px solid #dddddd'></td><td style='border: 1px solid #dddddd'></td><td style='border: 1px solid #dddddd'>a73bf76d-a663-448a-b771-4f651f73d54e</td><td style='border: 1px solid #dddddd'>18d9e549-575a-48cb-add0-d76459b07919</td><td style='border: 1px solid #dddddd'>eff4bfde-c896-4290-b610-cd1306197a09</td></tr><tr><td style='border: 1px solid #dddddd'>2019-04-10 12:27:53.310000+00:00</td><td style='border: 1px solid #dddddd'>accuracy</td><td style='border: 1px solid #dddddd'>0.7551020408163265</td><td style='border: 1px solid #dddddd'></td><td style='border: 1px solid #dddddd'></td><td style='border: 1px solid #dddddd'></td><td style='border: 1px solid #dddddd'>a73bf76d-a663-448a-b771-4f651f73d54e</td><td style='border: 1px solid #dddddd'>18d9e549-575a-48cb-add0-d76459b07919</td><td style='border: 1px solid #dddddd'>eff4bfde-c896-4290-b610-cd1306197a09</td></tr><tr><td style='border: 1px solid #dddddd'>2019-04-10 12:27:53.310000+00:00</td><td style='border: 1px solid #dddddd'>log_loss</td><td style='border: 1px solid #dddddd'>0.440746563352481</td><td style='border: 1px solid #dddddd'></td><td style='border: 1px solid #dddddd'></td><td style='border: 1px solid #dddddd'></td><td style='border: 1px solid #dddddd'>a73bf76d-a663-448a-b771-4f651f73d54e</td><td style='border: 1px solid #dddddd'>18d9e549-575a-48cb-add0-d76459b07919</td><td style='border: 1px solid #dddddd'>eff4bfde-c896-4290-b610-cd1306197a09</td></tr><tr><td style='border: 1px solid #dddddd'>2019-04-10 12:27:53.310000+00:00</td><td style='border: 1px solid #dddddd'>false_positive_rate</td><td style='border: 1px solid #dddddd'>0.24691358024691357</td><td style='border: 1px solid #dddddd'></td><td style='border: 1px solid #dddddd'></td><td style='border: 1px solid #dddddd'></td><td style='border: 1px solid #dddddd'>a73bf76d-a663-448a-b771-4f651f73d54e</td><td style='border: 1px solid #dddddd'>18d9e549-575a-48cb-add0-d76459b07919</td><td style='border: 1px solid #dddddd'>eff4bfde-c896-4290-b610-cd1306197a09</td></tr><tr><td style='border: 1px solid #dddddd'>2019-04-10 12:27:53.310000+00:00</td><td style='border: 1px solid #dddddd'>area_under_pr</td><td style='border: 1px solid #dddddd'>0.3680017461530066</td><td style='border: 1px solid #dddddd'></td><td style='border: 1px solid #dddddd'></td><td style='border: 1px solid #dddddd'></td><td style='border: 1px solid #dddddd'>a73bf76d-a663-448a-b771-4f651f73d54e</td><td style='border: 1px solid #dddddd'>18d9e549-575a-48cb-add0-d76459b07919</td><td style='border: 1px solid #dddddd'>eff4bfde-c896-4290-b610-cd1306197a09</td></tr><tr><td style='border: 1px solid #dddddd'>2019-04-10 12:27:53.310000+00:00</td><td style='border: 1px solid #dddddd'>recall</td><td style='border: 1px solid #dddddd'>0.7647058823529411</td><td style='border: 1px solid #dddddd'></td><td style='border: 1px solid #dddddd'></td><td style='border: 1px solid #dddddd'></td><td style='border: 1px solid #dddddd'>a73bf76d-a663-448a-b771-4f651f73d54e</td><td style='border: 1px solid #dddddd'>18d9e549-575a-48cb-add0-d76459b07919</td><td style='border: 1px solid #dddddd'>eff4bfde-c896-4290-b610-cd1306197a09</td></tr>\n            </table>\n        </body>\n        </HTML>", 
                        "text/plain": "<IPython.core.display.HTML object>"
                    }, 
                    "metadata": {}
                }
            ], 
            "source": "subscription.quality_monitoring.show_table()"
        }, 
        {
            "execution_count": 106, 
            "cell_type": "code", 
            "metadata": {}, 
            "outputs": [
                {
                    "output_type": "display_data", 
                    "data": {
                        "image/png": "[encoded data removed]", 
                        "text/plain": "<matplotlib.figure.Figure at 0x2b808a118898>"
                    }, 
                    "metadata": {}
                }
            ], 
            "source": "%matplotlib inline\n\nquality_pd = subscription.quality_monitoring.get_table_content(format='pandas')\nquality_pd.plot.barh(x='id', y='value');"
        }, 
        {
            "execution_count": 107, 
            "cell_type": "code", 
            "metadata": {
                "scrolled": true
            }, 
            "outputs": [
                {
                    "execution_count": 107, 
                    "metadata": {}, 
                    "data": {
                        "text/plain": "{'deployment_metrics': [{'asset': {'asset_id': '18d9e549-575a-48cb-add0-d76459b07919',\n    'asset_type': 'model',\n    'created_at': '2019-04-10T12:27:17.178Z',\n    'name': 'Spark German Risk Model - Final',\n    'url': 'https://us-south.ml.cloud.ibm.com/v3/wml_instances/a73bf76d-a663-448a-b771-4f651f73d54e/published_models/18d9e549-575a-48cb-add0-d76459b07919'},\n   'deployment': {'created_at': '2019-04-10T12:27:17.194Z',\n    'deployment_id': 'eff4bfde-c896-4290-b610-cd1306197a09',\n    'deployment_rn': '',\n    'deployment_type': 'online',\n    'name': 'Spark German Risk Deployment - Final',\n    'scoring_endpoint': {'request_headers': {'Content-Type': 'application/json'},\n     'url': 'https://us-south.ml.cloud.ibm.com/v3/wml_instances/a73bf76d-a663-448a-b771-4f651f73d54e/deployments/eff4bfde-c896-4290-b610-cd1306197a09/online'},\n    'url': 'https://us-south.ml.cloud.ibm.com/v3/wml_instances/a73bf76d-a663-448a-b771-4f651f73d54e/deployments/eff4bfde-c896-4290-b610-cd1306197a09'},\n   'metrics': [{'issues': 0,\n     'metric_type': 'quality',\n     'timestamp': '2019-04-10T12:27:53.310Z',\n     'value': {'metrics': [{'name': 'true_positive_rate',\n        'value': 0.7647058823529411},\n       {'name': 'area_under_roc', 'value': 0.7588961510530139},\n       {'name': 'precision', 'value': 0.3939393939393939},\n       {'name': 'f1_measure', 'value': 0.5199999999999999},\n       {'name': 'accuracy', 'value': 0.7551020408163265},\n       {'name': 'log_loss', 'value': 0.440746563352481},\n       {'name': 'false_positive_rate', 'value': 0.24691358024691357},\n       {'name': 'area_under_pr', 'value': 0.3680017461530066},\n       {'name': 'recall', 'value': 0.7647058823529411}],\n      'quality': 0.7588961510530139,\n      'threshold': 0.7}}],\n   'subscription': {'subscription_id': '18d9e549-575a-48cb-add0-d76459b07919',\n    'url': '/v1/data_marts/e3a38ab0-3884-454c-abc0-5e535eec36e6/service_bindings/a73bf76d-a663-448a-b771-4f651f73d54e/subscriptions/18d9e549-575a-48cb-add0-d76459b07919'}}]}"
                    }, 
                    "output_type": "execute_result"
                }
            ], 
            "source": "ai_client.data_mart.get_deployment_metrics()"
        }, 
        {
            "source": "# Fairness monitoring and explanations <a name=\"fairness\"></a>", 
            "cell_type": "markdown", 
            "metadata": {}
        }, 
        {
            "source": "The code below configures fairness monitoring for our model. It turns on monitoring for two features, Sex and Age. In each case, we must specify:\n  * Which model feature to monitor\n  * One or more **majority** groups, which are values of that feature that we expect to receive a higher percentage of favorable outcomes\n  * One or more **minority** groups, which are values of that feature that we expect to receive a higher percentage of unfavorable outcomes\n  * The threshold at which we would like OpenScale to display an alert if the fairness measurement falls below (in this case, 95%)\n\nAdditionally, we must specify which outcomes from the model are favourable outcomes, and which are unfavourable. We must also provide the number of records OpenScale will use to calculate the fairness score. In this case, OpenScale's fairness monitor will run hourly, but will not calculate a new fairness rating until at least 200 records have been added. Finally, to calculate fairness, OpenScale must perform some calculations on the training data, so we provide the dataframe containing the data.", 
            "cell_type": "markdown", 
            "metadata": {}
        }, 
        {
            "execution_count": 108, 
            "cell_type": "code", 
            "metadata": {
                "scrolled": true
            }, 
            "outputs": [], 
            "source": "subscription.fairness_monitoring.enable(\n            features=[\n                Feature(\"Sex\", majority=['male'], minority=['female'], threshold=0.95),\n                Feature(\"Age\", majority=[[26,75]], minority=[[18,25]], threshold=0.95)\n            ],\n            favourable_classes=['No Risk'],\n            unfavourable_classes=['Risk'],\n            min_records=200,\n            training_data=pd_data\n        )"
        }, 
        {
            "source": "## Score the model again now that monitoring is configured", 
            "cell_type": "markdown", 
            "metadata": {}
        }, 
        {
            "source": "This next section randomly selects 200 records from the data feed and sends those records to the model for predictions. This is enough to exceed the minimum threshold for records set in the previous section, which allows OpenScale to begin calculating fairness.", 
            "cell_type": "markdown", 
            "metadata": {}
        }, 
        {
            "execution_count": 109, 
            "cell_type": "code", 
            "metadata": {}, 
            "outputs": [
                {
                    "output_type": "stream", 
                    "name": "stdout", 
                    "text": "--2019-04-10 12:28:15--  https://raw.githubusercontent.com/emartensibm/german-credit/master/german_credit_feed.json\nResolving raw.githubusercontent.com (raw.githubusercontent.com)... 199.232.8.133\nConnecting to raw.githubusercontent.com (raw.githubusercontent.com)|199.232.8.133|:443... connected.\nHTTP request sent, awaiting response... 200 OK\nLength: 3076547 (2.9M) [text/plain]\nSaving to: 'german_credit_feed.json'\n\ngerman_credit_feed. 100%[===================>]   2.93M  --.-KB/s    in 0.06s   \n\n2019-04-10 12:28:15 (47.9 MB/s) - 'german_credit_feed.json' saved [3076547/3076547]\n\n"
                }
            ], 
            "source": "!rm german_credit_feed.json\n!wget https://raw.githubusercontent.com/emartensibm/german-credit/master/german_credit_feed.json"
        }, 
        {
            "source": "Score 200 randomly chosen records", 
            "cell_type": "markdown", 
            "metadata": {}
        }, 
        {
            "execution_count": 110, 
            "cell_type": "code", 
            "metadata": {}, 
            "outputs": [], 
            "source": "import random\n\nwith open('german_credit_feed.json', 'r') as scoring_file:\n    scoring_data = json.load(scoring_file)\n\nfields = scoring_data['fields']\nvalues = []\nfor _ in range(200):\n    values.append(random.choice(scoring_data['values']))\npayload_scoring = {\"fields\": fields, \"values\": values}\n\nscoring_response = wml_client.deployments.score(credit_risk_scoring_endpoint, payload_scoring)"
        }, 
        {
            "source": "## Run fairness monitor", 
            "cell_type": "markdown", 
            "metadata": {}
        }, 
        {
            "source": "Kick off a fairness monitor run on current data. The monitor runs hourly, but can be manually initiated using the Python client, the REST API, or the graphical user interface.", 
            "cell_type": "markdown", 
            "metadata": {}
        }, 
        {
            "execution_count": 111, 
            "cell_type": "code", 
            "metadata": {
                "scrolled": true
            }, 
            "outputs": [
                {
                    "output_type": "stream", 
                    "name": "stdout", 
                    "text": "\n\n=======================================================================\n\n Counting bias for deployment_uid=eff4bfde-c896-4290-b610-cd1306197a09 \n\n=======================================================================\n\n\n\nRUNNING..........\nFINISHED\n\n---------------------------\n Successfully finished run \n---------------------------\n\n\n"
                }
            ], 
            "source": "run_details = subscription.fairness_monitoring.run(background_mode=False)"
        }, 
        {
            "execution_count": 112, 
            "cell_type": "code", 
            "metadata": {}, 
            "outputs": [
                {
                    "output_type": "display_data", 
                    "data": {
                        "text/html": "<HTML>\n        <body>\n            <h3>FairnessMetrics (binding_id=a73bf76d-a663-448a-b771-4f651f73d54e, subscription_id=18d9e549-575a-48cb-add0-d76459b07919)</h3>\n            <table style='border: 1px solid #dddddd; font-family: Courier'>\n                <th style='border: 1px solid #dddddd'>ts</th><th style='border: 1px solid #dddddd'>feature</th><th style='border: 1px solid #dddddd'>feature_value</th><th style='border: 1px solid #dddddd'>fairness_biased</th><th style='border: 1px solid #dddddd'>fairness_value</th><th style='border: 1px solid #dddddd'>fairness_fav_class</th><th style='border: 1px solid #dddddd'>binding_id</th><th style='border: 1px solid #dddddd'>subscription_id</th><th style='border: 1px solid #dddddd'>asset_revision</th><th style='border: 1px solid #dddddd'>deployment_id</th><th style='border: 1px solid #dddddd'>process</th>\n                <tr><td style='border: 1px solid #dddddd'>2019-04-10 12:28:44.137625+00:00</td><td style='border: 1px solid #dddddd'>Sex</td><td style='border: 1px solid #dddddd'>female</td><td style='border: 1px solid #dddddd'>True</td><td style='border: 1px solid #dddddd'>0.942</td><td style='border: 1px solid #dddddd'>73.0</td><td style='border: 1px solid #dddddd'>a73bf76d-a663-448a-b771-4f651f73d54e</td><td style='border: 1px solid #dddddd'>18d9e549-575a-48cb-add0-d76459b07919</td><td style='border: 1px solid #dddddd'>18d9e549-575a-48cb-add0-d76459b07919</td><td style='border: 1px solid #dddddd'>eff4bfde-c896-4290-b610-cd1306197a09</td><td style='border: 1px solid #dddddd'></td></tr><tr><td style='border: 1px solid #dddddd'>2019-04-10 12:28:44.137625+00:00</td><td style='border: 1px solid #dddddd'>Age</td><td style='border: 1px solid #dddddd'>[18, 25]</td><td style='border: 1px solid #dddddd'>False</td><td style='border: 1px solid #dddddd'>1.09</td><td style='border: 1px solid #dddddd'>86.95652173913044</td><td style='border: 1px solid #dddddd'>a73bf76d-a663-448a-b771-4f651f73d54e</td><td style='border: 1px solid #dddddd'>18d9e549-575a-48cb-add0-d76459b07919</td><td style='border: 1px solid #dddddd'>18d9e549-575a-48cb-add0-d76459b07919</td><td style='border: 1px solid #dddddd'>eff4bfde-c896-4290-b610-cd1306197a09</td><td style='border: 1px solid #dddddd'></td></tr><tr><td style='border: 1px solid #dddddd'>2019-04-10 12:29:16.130574+00:00</td><td style='border: 1px solid #dddddd'>Sex</td><td style='border: 1px solid #dddddd'>female</td><td style='border: 1px solid #dddddd'>True</td><td style='border: 1px solid #dddddd'>0.942</td><td style='border: 1px solid #dddddd'>73.0</td><td style='border: 1px solid #dddddd'>a73bf76d-a663-448a-b771-4f651f73d54e</td><td style='border: 1px solid #dddddd'>18d9e549-575a-48cb-add0-d76459b07919</td><td style='border: 1px solid #dddddd'>18d9e549-575a-48cb-add0-d76459b07919</td><td style='border: 1px solid #dddddd'>eff4bfde-c896-4290-b610-cd1306197a09</td><td style='border: 1px solid #dddddd'></td></tr><tr><td style='border: 1px solid #dddddd'>2019-04-10 12:29:16.130574+00:00</td><td style='border: 1px solid #dddddd'>Age</td><td style='border: 1px solid #dddddd'>[18, 25]</td><td style='border: 1px solid #dddddd'>False</td><td style='border: 1px solid #dddddd'>1.09</td><td style='border: 1px solid #dddddd'>86.95652173913044</td><td style='border: 1px solid #dddddd'>a73bf76d-a663-448a-b771-4f651f73d54e</td><td style='border: 1px solid #dddddd'>18d9e549-575a-48cb-add0-d76459b07919</td><td style='border: 1px solid #dddddd'>18d9e549-575a-48cb-add0-d76459b07919</td><td style='border: 1px solid #dddddd'>eff4bfde-c896-4290-b610-cd1306197a09</td><td style='border: 1px solid #dddddd'></td></tr>\n            </table>\n        </body>\n        </HTML>", 
                        "text/plain": "<IPython.core.display.HTML object>"
                    }, 
                    "metadata": {}
                }
            ], 
            "source": "subscription.fairness_monitoring.show_table()"
        }, 
        {
            "source": "## Configure Explainability", 
            "cell_type": "markdown", 
            "metadata": {}
        }, 
        {
            "source": "Finally, we provide OpenScale with the training data to enable and configure the explainability features.", 
            "cell_type": "markdown", 
            "metadata": {}
        }, 
        {
            "execution_count": 113, 
            "cell_type": "code", 
            "metadata": {
                "scrolled": true
            }, 
            "outputs": [], 
            "source": "from ibm_ai_openscale.supporting_classes import *\nsubscription.explainability.enable(training_data=pd_data)"
        }, 
        {
            "execution_count": 114, 
            "cell_type": "code", 
            "metadata": {
                "scrolled": true
            }, 
            "outputs": [], 
            "source": "explainability_details = subscription.explainability.get_details()"
        }, 
        {
            "source": "## Run explanation for sample record", 
            "cell_type": "markdown", 
            "metadata": {}
        }, 
        {
            "execution_count": 115, 
            "cell_type": "code", 
            "metadata": {}, 
            "outputs": [
                {
                    "output_type": "stream", 
                    "name": "stdout", 
                    "text": "265974ae623e15e5903ad3adbfc5a13d-1\n"
                }
            ], 
            "source": "transaction_id = subscription.payload_logging.get_table_content(limit=1)['scoring_id'].values[0]\n\nprint(transaction_id)"
        }, 
        {
            "execution_count": 116, 
            "cell_type": "code", 
            "metadata": {}, 
            "outputs": [
                {
                    "output_type": "stream", 
                    "name": "stdout", 
                    "text": "\n\n================================================================\n\n Looking for explanation for 265974ae623e15e5903ad3adbfc5a13d-1 \n\n================================================================\n\n\n\nin_progress...........\nfinished\n\n---------------------------\n Successfully finished run \n---------------------------\n\n\n"
                }
            ], 
            "source": "explain_run = subscription.explainability.run(transaction_id=transaction_id, background_mode=False)"
        }, 
        {
            "execution_count": 117, 
            "cell_type": "code", 
            "metadata": {}, 
            "outputs": [
                {
                    "output_type": "display_data", 
                    "data": {
                        "image/png": "[encoded data removed]", 
                        "text/plain": "<matplotlib.figure.Figure at 0x2b8089fb1a90>"
                    }, 
                    "metadata": {}
                }
            ], 
            "source": "explain_result = pd.DataFrame.from_dict(explain_run['entity']['predictions'][0]['explanation_features'])\nexplain_result.plot.barh(x='feature_name', y='weight', color='g', alpha=0.8);"
        }, 
        {
            "source": "# Custom monitors and metrics <a name=\"custom\"></a>", 
            "cell_type": "markdown", 
            "metadata": {}
        }, 
        {
            "source": "## Register custom monitor", 
            "cell_type": "markdown", 
            "metadata": {}
        }, 
        {
            "execution_count": 94, 
            "cell_type": "code", 
            "metadata": {}, 
            "outputs": [], 
            "source": "from ibm_ai_openscale.supporting_classes import Metric, Tag\n\nmetrics = [Metric(name='sensitivity', lower_limit_default=0.8), Metric(name='specificity', lower_limit_default=0.75)]\ntags = [Tag(name='region', description='customer geographical region')]\n\nmy_monitor = ai_client.data_mart.monitors.add(name='model performance', metrics=metrics, tags=tags)"
        }, 
        {
            "source": "### List monitors", 
            "cell_type": "markdown", 
            "metadata": {}
        }, 
        {
            "execution_count": 96, 
            "cell_type": "code", 
            "metadata": {}, 
            "outputs": [
                {
                    "output_type": "display_data", 
                    "data": {
                        "text/html": "<HTML>\n        <body>\n            <h3>Monitors</h3>\n            <table style='border: 1px solid #dddddd; font-family: Courier'>\n                <th style='border: 1px solid #dddddd'>uid</th><th style='border: 1px solid #dddddd'>name</th><th style='border: 1px solid #dddddd'>description</th><th style='border: 1px solid #dddddd'>metrics</th>\n                <tr><td style='border: 1px solid #dddddd'>quality</td><td style='border: 1px solid #dddddd'>Accuracy Monitoring</td><td style='border: 1px solid #dddddd'>None</td><td style='border: 1px solid #dddddd'>['area_under_roc', 'area_under_pr', 'explained_variance', 'mean_absolute_error', 'mean_squared_error', 'r2', 'root_mean_squared_error', 'accuracy', 'weighted_true_positive_rate', 'true_positive_rate', 'weighted_false_positive_rate', 'false_positive_rate', 'weighted_recall', 'recall', 'weighted_precision', 'precision', 'weighted_f_measure', 'f1_measure', 'log_loss']</td></tr><tr><td style='border: 1px solid #dddddd'>model_performance</td><td style='border: 1px solid #dddddd'>model performance</td><td style='border: 1px solid #dddddd'>None</td><td style='border: 1px solid #dddddd'>['sensitivity', 'specificity']</td></tr>\n            </table>\n        </body>\n        </HTML>", 
                        "text/plain": "<IPython.core.display.HTML object>"
                    }, 
                    "metadata": {}
                }
            ], 
            "source": "ai_client.data_mart.monitors.list()"
        }, 
        {
            "source": "### Get monitors uids and details", 
            "cell_type": "markdown", 
            "metadata": {}
        }, 
        {
            "execution_count": 97, 
            "cell_type": "code", 
            "metadata": {}, 
            "outputs": [
                {
                    "output_type": "stream", 
                    "name": "stdout", 
                    "text": "model_performance\n"
                }
            ], 
            "source": "monitor_uid = my_monitor['metadata']['guid']\n\nprint(monitor_uid)"
        }, 
        {
            "execution_count": 98, 
            "cell_type": "code", 
            "metadata": {}, 
            "outputs": [
                {
                    "output_type": "stream", 
                    "name": "stdout", 
                    "text": "monitor definition details {'metadata': {'created_at': '2019-04-10T10:32:00.544Z', 'url': '/v1/data_marts/e3a38ab0-3884-454c-abc0-5e535eec36e6/monitor_definitions/model_performance', 'guid': 'model_performance'}, 'entity': {'metrics': [{'name': 'sensitivity', 'id': 'sensitivity', 'required': True, 'thresholds': [{'default': 0.8, 'type': 'lower_limit'}]}, {'name': 'specificity', 'id': 'specificity', 'required': True, 'thresholds': [{'default': 0.75, 'type': 'lower_limit'}]}], 'name': 'model performance', 'tags': [{'name': 'region', 'id': 'region', 'description': 'customer geographical region', 'required': True}]}}\n"
                }
            ], 
            "source": "my_monitor = ai_client.data_mart.monitors.get_details(monitor_uid=monitor_uid)\nprint('monitor definition details', my_monitor)"
        }, 
        {
            "source": "## Enable custom monitor for subscription", 
            "cell_type": "markdown", 
            "metadata": {}
        }, 
        {
            "execution_count": 99, 
            "cell_type": "code", 
            "metadata": {}, 
            "outputs": [], 
            "source": "from ibm_ai_openscale.supporting_classes import Threshold\n\nthresholds = [Threshold(metric_uid='sensitivity', lower_limit=0.9)]\nsubscription.monitoring.enable(monitor_uid=monitor_uid, thresholds=thresholds)"
        }, 
        {
            "source": "### Get monitor configuration details", 
            "cell_type": "markdown", 
            "metadata": {}
        }, 
        {
            "execution_count": 100, 
            "cell_type": "code", 
            "metadata": {}, 
            "outputs": [
                {
                    "execution_count": 100, 
                    "metadata": {}, 
                    "data": {
                        "text/plain": "{'enabled': True,\n 'monitor_definition': {'entity': {'metrics': [{'id': 'sensitivity',\n     'name': 'sensitivity',\n     'required': True,\n     'thresholds': [{'default': 0.9, 'type': 'lower_limit'}]},\n    {'id': 'specificity', 'name': 'specificity', 'required': True}],\n   'name': 'model performance',\n   'tags': [{'description': 'customer geographical region',\n     'id': 'region',\n     'name': 'region',\n     'required': True}]},\n  'metadata': {'created_at': '2019-04-10T10:32:00.544Z',\n   'guid': 'model_performance',\n   'url': '/v1/data_marts/e3a38ab0-3884-454c-abc0-5e535eec36e6/monitor_definitions/model_performance'}},\n 'thresholds': [{'metric_id': 'sensitivity',\n   'type': 'lower_limit',\n   'value': 0.9}]}"
                    }, 
                    "output_type": "execute_result"
                }
            ], 
            "source": "subscription.monitoring.get_details(monitor_uid=monitor_uid)"
        }, 
        {
            "source": "## Storing custom metrics", 
            "cell_type": "markdown", 
            "metadata": {}
        }, 
        {
            "execution_count": 101, 
            "cell_type": "code", 
            "metadata": {}, 
            "outputs": [], 
            "source": "metrics = {\"specificity\": 0.78, \"sensitivity\": 0.67, \"region\": \"us-south\"}\n\nsubscription.monitoring.store_metrics(monitor_uid=monitor_uid, metrics=metrics)"
        }, 
        {
            "source": "### List and get custom metrics", 
            "cell_type": "markdown", 
            "metadata": {}
        }, 
        {
            "execution_count": 102, 
            "cell_type": "code", 
            "metadata": {}, 
            "outputs": [
                {
                    "output_type": "display_data", 
                    "data": {
                        "text/html": "<HTML>\n        <body>\n            <h3>CustomMetrics (binding_id=a73bf76d-a663-448a-b771-4f651f73d54e, subscription_id=fbb4921b-a7d0-4164-bf36-f2bb6f1bd3af)</h3>\n            <table style='border: 1px solid #dddddd; font-family: Courier'>\n                <th style='border: 1px solid #dddddd'>ts</th><th style='border: 1px solid #dddddd'>id</th><th style='border: 1px solid #dddddd'>value</th><th style='border: 1px solid #dddddd'>lower limit</th><th style='border: 1px solid #dddddd'>upper limit</th><th style='border: 1px solid #dddddd'>tags</th><th style='border: 1px solid #dddddd'>binding_id</th><th style='border: 1px solid #dddddd'>subscription_id</th><th style='border: 1px solid #dddddd'>deployment_id</th>\n                <tr><td style='border: 1px solid #dddddd'>2019-04-10 10:36:17.021937+00:00</td><td style='border: 1px solid #dddddd'>sensitivity</td><td style='border: 1px solid #dddddd'>0.67</td><td style='border: 1px solid #dddddd'>0.9</td><td style='border: 1px solid #dddddd'></td><td style='border: 1px solid #dddddd'>region: us-south</td><td style='border: 1px solid #dddddd'>a73bf76d-a663-448a-b771-4f651f73d54e</td><td style='border: 1px solid #dddddd'>fbb4921b-a7d0-4164-bf36-f2bb6f1bd3af</td><td style='border: 1px solid #dddddd'>6235d1ee-4356-4e5b-9ca9-29ffb5a03e03</td></tr><tr><td style='border: 1px solid #dddddd'>2019-04-10 10:36:17.021937+00:00</td><td style='border: 1px solid #dddddd'>specificity</td><td style='border: 1px solid #dddddd'>0.78</td><td style='border: 1px solid #dddddd'></td><td style='border: 1px solid #dddddd'></td><td style='border: 1px solid #dddddd'>region: us-south</td><td style='border: 1px solid #dddddd'>a73bf76d-a663-448a-b771-4f651f73d54e</td><td style='border: 1px solid #dddddd'>fbb4921b-a7d0-4164-bf36-f2bb6f1bd3af</td><td style='border: 1px solid #dddddd'>6235d1ee-4356-4e5b-9ca9-29ffb5a03e03</td></tr>\n            </table>\n        </body>\n        </HTML>", 
                        "text/plain": "<IPython.core.display.HTML object>"
                    }, 
                    "metadata": {}
                }
            ], 
            "source": "subscription.monitoring.show_table(monitor_uid=monitor_uid)"
        }, 
        {
            "execution_count": 104, 
            "cell_type": "code", 
            "metadata": {}, 
            "outputs": [
                {
                    "execution_count": 104, 
                    "metadata": {}, 
                    "data": {
                        "text/plain": "[{'binding_id': 'a73bf76d-a663-448a-b771-4f651f73d54e',\n  'metrics': [{'id': 'sensitivity', 'lower_limit': 0.9, 'value': 0.67},\n   {'id': 'specificity', 'value': 0.78}],\n  'monitor_definition_id': 'model_performance',\n  'subscription_id': 'fbb4921b-a7d0-4164-bf36-f2bb6f1bd3af',\n  'tags': [{'id': 'region', 'value': 'us-south'}],\n  'ts': '2019-04-10T10:36:17.021937Z'}]"
                    }, 
                    "output_type": "execute_result"
                }
            ], 
            "source": "custom_metrics = subscription.monitoring.get_metrics(monitor_uid=monitor_uid, deployment_uid='credit')\ncustom_metrics"
        }, 
        {
            "execution_count": 105, 
            "cell_type": "code", 
            "metadata": {}, 
            "outputs": [
                {
                    "output_type": "display_data", 
                    "data": {
                        "image/png": "[encoded data removed]", 
                        "text/plain": "<matplotlib.figure.Figure at 0x2b2fe7de3748>"
                    }, 
                    "metadata": {}
                }
            ], 
            "source": "custom_metrics_pandas = subscription.monitoring.get_table_content(monitor_uid=monitor_uid)\n\n%matplotlib inline\ncustom_metrics_pandas.plot.barh(x='id', y='value');"
        }, 
        {
            "source": "# Payload analytics <a name=\"analytics\"></a>", 
            "cell_type": "markdown", 
            "metadata": {}
        }, 
        {
            "source": "## Run data distributions calculation", 
            "cell_type": "markdown", 
            "metadata": {}
        }, 
        {
            "execution_count": 109, 
            "cell_type": "code", 
            "metadata": {}, 
            "outputs": [
                {
                    "output_type": "stream", 
                    "name": "stdout", 
                    "text": "\n\n===============================================================================\n\n Waiting for end of data distribution run b4b72f2f-59dd-46da-9900-c572424cb47f \n\n===============================================================================\n\n\n\nrunning.\ncompleted\n\n---------------------------\n Successfully finished run \n---------------------------\n\n\n"
                }
            ], 
            "source": "from datetime import datetime\n\nstart_date = \"2018-01-01T00:00:00.00Z\"\nend_date = datetime.utcnow().isoformat() + \"Z\"\n\nsex_distribution = subscription.payload_logging.data_distribution.run(\n            start_date=start_date,\n            end_date=end_date,\n            group=['predictedLabel', 'Sex'],\n            agg=['count'])"
        }, 
        {
            "source": "## Get data distributions as pandas dataframe", 
            "cell_type": "markdown", 
            "metadata": {}
        }, 
        {
            "execution_count": 110, 
            "cell_type": "code", 
            "metadata": {}, 
            "outputs": [
                {
                    "execution_count": 110, 
                    "metadata": {}, 
                    "data": {
                        "text/html": "<div>\n<style scoped>\n    .dataframe tbody tr th:only-of-type {\n        vertical-align: middle;\n    }\n\n    .dataframe tbody tr th {\n        vertical-align: top;\n    }\n\n    .dataframe thead th {\n        text-align: right;\n    }\n</style>\n<table border=\"1\" class=\"dataframe\">\n  <thead>\n    <tr style=\"text-align: right;\">\n      <th></th>\n      <th>predictedLabel</th>\n      <th>Sex</th>\n      <th>count</th>\n    </tr>\n  </thead>\n  <tbody>\n    <tr>\n      <th>0</th>\n      <td>No Risk</td>\n      <td>female</td>\n      <td>17155</td>\n    </tr>\n    <tr>\n      <th>1</th>\n      <td>No Risk</td>\n      <td>male</td>\n      <td>29682</td>\n    </tr>\n    <tr>\n      <th>2</th>\n      <td>Risk</td>\n      <td>female</td>\n      <td>1653</td>\n    </tr>\n    <tr>\n      <th>3</th>\n      <td>Risk</td>\n      <td>male</td>\n      <td>1510</td>\n    </tr>\n  </tbody>\n</table>\n</div>", 
                        "text/plain": "  predictedLabel     Sex  count\n0        No Risk  female  17155\n1        No Risk    male  29682\n2           Risk  female   1653\n3           Risk    male   1510"
                    }, 
                    "output_type": "execute_result"
                }
            ], 
            "source": "sex_distribution_run_uid = sex_distribution['id']\ndistributions_pd = subscription.payload_logging.data_distribution.get_run_result(run_id=sex_distribution_run_uid, format='pandas')\ndistributions_pd"
        }, 
        {
            "execution_count": 111, 
            "cell_type": "code", 
            "metadata": {}, 
            "outputs": [
                {
                    "output_type": "display_data", 
                    "data": {
                        "image/png": "[encoded data removed]", 
                        "text/plain": "<matplotlib.figure.Figure at 0x2b2fe9ecd7f0>"
                    }, 
                    "metadata": {}
                }
            ], 
            "source": "subscription.payload_logging.data_distribution.show_chart(sex_distribution_run_uid);"
        }, 
        {
            "execution_count": 112, 
            "cell_type": "code", 
            "metadata": {}, 
            "outputs": [
                {
                    "output_type": "stream", 
                    "name": "stdout", 
                    "text": "\n\n===============================================================================\n\n Waiting for end of data distribution run 38d28a43-1e63-41fd-8866-57285278867c \n\n===============================================================================\n\n\n\nrunning\ncompleted\n\n---------------------------\n Successfully finished run \n---------------------------\n\n\n"
                }
            ], 
            "source": "credit_history_distribution = subscription.payload_logging.data_distribution.run(\n            start_date=start_date,\n            end_date=end_date,\n            group=['predictedLabel', 'CreditHistory'],\n            agg=['count'])"
        }, 
        {
            "execution_count": 113, 
            "cell_type": "code", 
            "metadata": {}, 
            "outputs": [
                {
                    "output_type": "display_data", 
                    "data": {
                        "image/png": "[encoded data removed]", 
                        "text/plain": "<matplotlib.figure.Figure at 0x2b2fe7eda8d0>"
                    }, 
                    "metadata": {}
                }
            ], 
            "source": "credit_history_distribution_run_uid = credit_history_distribution['id']\n\nsubscription.payload_logging.data_distribution.show_chart(credit_history_distribution_run_uid);"
        }, 
        {
            "source": "# Historical data <a name=\"historical\"></a>", 
            "cell_type": "markdown", 
            "metadata": {}
        }, 
        {
            "source": " ## Insert historical payloads", 
            "cell_type": "markdown", 
            "metadata": {}
        }, 
        {
            "source": "The next section of the notebook downloads and writes historical data to the payload and measurement tables to simulate a production model that has been monitored and receiving regular traffic for the last seven days. This historical data can be viewed in the Watson OpenScale user interface. The code uses the Python and REST APIs to write this data.", 
            "cell_type": "markdown", 
            "metadata": {}
        }, 
        {
            "execution_count": 118, 
            "cell_type": "code", 
            "metadata": {
                "scrolled": false
            }, 
            "outputs": [
                {
                    "output_type": "stream", 
                    "name": "stdout", 
                    "text": "rm: cannot remove 'history_payloads*.json': No such file or directory\n--2019-04-10 12:30:40--  https://raw.githubusercontent.com/emartensibm/german-credit/master/model_data/german_credit/history_payloads_0.json\nResolving raw.githubusercontent.com (raw.githubusercontent.com)... 151.101.48.133\nConnecting to raw.githubusercontent.com (raw.githubusercontent.com)|151.101.48.133|:443... connected.\nHTTP request sent, awaiting response... 200 OK\nLength: 9569926 (9.1M) [text/plain]\nSaving to: 'history_payloads_0.json'\n\nhistory_payloads_0. 100%[===================>]   9.13M  --.-KB/s    in 0.1s    \n\n2019-04-10 12:30:40 (77.0 MB/s) - 'history_payloads_0.json' saved [9569926/9569926]\n\n--2019-04-10 12:30:41--  https://raw.githubusercontent.com/emartensibm/german-credit/master/model_data/german_credit/history_payloads_1.json\nResolving raw.githubusercontent.com (raw.githubusercontent.com)... 199.232.8.133\nConnecting to raw.githubusercontent.com (raw.githubusercontent.com)|199.232.8.133|:443... connected.\nHTTP request sent, awaiting response... 200 OK\nLength: 9567447 (9.1M) [text/plain]\nSaving to: 'history_payloads_1.json'\n\nhistory_payloads_1. 100%[===================>]   9.12M  57.3MB/s    in 0.2s    \n\n2019-04-10 12:30:41 (57.3 MB/s) - 'history_payloads_1.json' saved [9567447/9567447]\n\n--2019-04-10 12:30:42--  https://raw.githubusercontent.com/emartensibm/german-credit/master/model_data/german_credit/history_payloads_2.json\nResolving raw.githubusercontent.com (raw.githubusercontent.com)... 151.101.48.133\nConnecting to raw.githubusercontent.com (raw.githubusercontent.com)|151.101.48.133|:443... connected.\nHTTP request sent, awaiting response... 200 OK\nLength: 9571799 (9.1M) [text/plain]\nSaving to: 'history_payloads_2.json'\n\nhistory_payloads_2. 100%[===================>]   9.13M  --.-KB/s    in 0.1s    \n\n2019-04-10 12:30:42 (84.9 MB/s) - 'history_payloads_2.json' saved [9571799/9571799]\n\n--2019-04-10 12:30:43--  https://raw.githubusercontent.com/emartensibm/german-credit/master/model_data/german_credit/history_payloads_3.json\nResolving raw.githubusercontent.com (raw.githubusercontent.com)... 199.232.8.133\nConnecting to raw.githubusercontent.com (raw.githubusercontent.com)|199.232.8.133|:443... connected.\nHTTP request sent, awaiting response... 200 OK\nLength: 9573282 (9.1M) [text/plain]\nSaving to: 'history_payloads_3.json'\n\nhistory_payloads_3. 100%[===================>]   9.13M  --.-KB/s    in 0.1s    \n\n2019-04-10 12:30:43 (90.5 MB/s) - 'history_payloads_3.json' saved [9573282/9573282]\n\n--2019-04-10 12:30:44--  https://raw.githubusercontent.com/emartensibm/german-credit/master/model_data/german_credit/history_payloads_4.json\nResolving raw.githubusercontent.com (raw.githubusercontent.com)... 199.232.8.133\nConnecting to raw.githubusercontent.com (raw.githubusercontent.com)|199.232.8.133|:443... connected.\nHTTP request sent, awaiting response... 200 OK\nLength: 9568788 (9.1M) [text/plain]\nSaving to: 'history_payloads_4.json'\n\nhistory_payloads_4. 100%[===================>]   9.12M  --.-KB/s    in 0.1s    \n\n2019-04-10 12:30:44 (91.0 MB/s) - 'history_payloads_4.json' saved [9568788/9568788]\n\n--2019-04-10 12:30:45--  https://raw.githubusercontent.com/emartensibm/german-credit/master/model_data/german_credit/history_payloads_5.json\nResolving raw.githubusercontent.com (raw.githubusercontent.com)... 151.101.48.133\nConnecting to raw.githubusercontent.com (raw.githubusercontent.com)|151.101.48.133|:443... connected.\nHTTP request sent, awaiting response... 200 OK\nLength: 9569249 (9.1M) [text/plain]\nSaving to: 'history_payloads_5.json'\n\nhistory_payloads_5. 100%[===================>]   9.12M  --.-KB/s    in 0.1s    \n\n2019-04-10 12:30:46 (81.2 MB/s) - 'history_payloads_5.json' saved [9569249/9569249]\n\n--2019-04-10 12:30:47--  https://raw.githubusercontent.com/emartensibm/german-credit/master/model_data/german_credit/history_payloads_6.json\nResolving raw.githubusercontent.com (raw.githubusercontent.com)... 199.232.8.133\nConnecting to raw.githubusercontent.com (raw.githubusercontent.com)|199.232.8.133|:443... connected.\nHTTP request sent, awaiting response... 200 OK\nLength: 9568623 (9.1M) [text/plain]\nSaving to: 'history_payloads_6.json'\n\nhistory_payloads_6. 100%[===================>]   9.12M  --.-KB/s    in 0.1s    \n\n2019-04-10 12:30:47 (67.7 MB/s) - 'history_payloads_6.json' saved [9568623/9568623]\n\n"
                }
            ], 
            "source": "!rm history_payloads*.json\n!wget https://raw.githubusercontent.com/emartensibm/german-credit/master/model_data/german_credit/history_payloads_0.json\n!wget https://raw.githubusercontent.com/emartensibm/german-credit/master/model_data/german_credit/history_payloads_1.json\n!wget https://raw.githubusercontent.com/emartensibm/german-credit/master/model_data/german_credit/history_payloads_2.json\n!wget https://raw.githubusercontent.com/emartensibm/german-credit/master/model_data/german_credit/history_payloads_3.json\n!wget https://raw.githubusercontent.com/emartensibm/german-credit/master/model_data/german_credit/history_payloads_4.json\n!wget https://raw.githubusercontent.com/emartensibm/german-credit/master/model_data/german_credit/history_payloads_5.json\n!wget https://raw.githubusercontent.com/emartensibm/german-credit/master/model_data/german_credit/history_payloads_6.json"
        }, 
        {
            "execution_count": 119, 
            "cell_type": "code", 
            "metadata": {
                "scrolled": true
            }, 
            "outputs": [], 
            "source": "historyDays = 7"
        }, 
        {
            "execution_count": 120, 
            "cell_type": "code", 
            "metadata": {
                "scrolled": false
            }, 
            "outputs": [
                {
                    "output_type": "stream", 
                    "name": "stdout", 
                    "text": "Loading day 1\nLoading day 2\nLoading day 3\nLoading day 4\nLoading day 5\nLoading day 6\nLoading day 7\nFinished\n"
                }
            ], 
            "source": "from ibm_ai_openscale.supporting_classes import PayloadRecord, Feature\nimport datetime\nimport time\n\nfor day in range(historyDays):\n    print('Loading day {}'.format(day + 1))\n    history_file = 'history_payloads_' + str(day) + '.json'\n    with open(history_file) as f:\n        payloads = json.load(f)\n        hourly_records = int(len(payloads) / 24)\n        index = 0\n        for hour in range(24):\n            recordsList = []\n            for i in range(hourly_records):\n                score_time = str(datetime.datetime.utcnow() + datetime.timedelta(hours=(-(24*day + hour + 1))))\n                recordsList.append(PayloadRecord(request=payloads[index]['request'], response=payloads[index]['response'], scoring_timestamp=score_time))\n                index += 1\n            subscription.payload_logging.store(records=recordsList)\nprint('Finished')"
        }, 
        {
            "execution_count": 121, 
            "cell_type": "code", 
            "metadata": {
                "scrolled": true
            }, 
            "outputs": [
                {
                    "output_type": "stream", 
                    "name": "stdout", 
                    "text": "e3a38ab0-3884-454c-abc0-5e535eec36e6\n"
                }
            ], 
            "source": "data_mart_id = subscription.get_details()['metadata']['url'].split('/service_bindings')[0].split('marts/')[1]\nprint(data_mart_id)"
        }, 
        {
            "execution_count": 122, 
            "cell_type": "code", 
            "metadata": {
                "scrolled": true
            }, 
            "outputs": [
                {
                    "output_type": "stream", 
                    "name": "stdout", 
                    "text": "https://api.aiopenscale.cloud.ibm.com/v1/data_marts/e3a38ab0-3884-454c-abc0-5e535eec36e6/metrics\n"
                }
            ], 
            "source": "performance_metrics_url = 'https://api.aiopenscale.cloud.ibm.com' + subscription.get_details()['metadata']['url'].split('/service_bindings')[0] + '/metrics'\nprint(performance_metrics_url)"
        }, 
        {
            "source": "## Insert historical fairness metrics", 
            "cell_type": "markdown", 
            "metadata": {}
        }, 
        {
            "execution_count": 123, 
            "cell_type": "code", 
            "metadata": {}, 
            "outputs": [
                {
                    "output_type": "stream", 
                    "name": "stdout", 
                    "text": "rm: cannot remove 'history_fairness.json': No such file or directory\n--2019-04-10 12:31:44--  https://raw.githubusercontent.com/emartensibm/german-credit/master/model_data/german_credit/history_fairness.json\nResolving raw.githubusercontent.com (raw.githubusercontent.com)... 199.232.8.133\nConnecting to raw.githubusercontent.com (raw.githubusercontent.com)|199.232.8.133|:443... connected.\nHTTP request sent, awaiting response... 200 OK\nLength: 562458 (549K) [text/plain]\nSaving to: 'history_fairness.json'\n\nhistory_fairness.js 100%[===================>] 549.28K  --.-KB/s    in 0.02s   \n\n2019-04-10 12:31:44 (25.5 MB/s) - 'history_fairness.json' saved [562458/562458]\n\n"
                }
            ], 
            "source": "!rm history_fairness.json\n!wget https://raw.githubusercontent.com/emartensibm/german-credit/master/model_data/german_credit/history_fairness.json"
        }, 
        {
            "execution_count": 124, 
            "cell_type": "code", 
            "metadata": {
                "scrolled": true
            }, 
            "outputs": [
                {
                    "output_type": "stream", 
                    "name": "stdout", 
                    "text": "Loading day 1\nLoading day 2\nLoading day 3\nLoading day 4\nLoading day 5\nLoading day 6\nLoading day 7\nFinished\n"
                }
            ], 
            "source": "token_data = {\n    'grant_type': 'urn:ibm:params:oauth:grant-type:apikey',\n    'response_type': 'cloud_iam',\n    'apikey': AIOS_CREDENTIALS['apikey']\n}\n\nresponse = requests.post('https://iam.bluemix.net/identity/token', data=token_data)\niam_token = response.json()['access_token']\niam_headers = {\n    'Content-Type': 'application/json',\n    'Authorization': 'Bearer %s' % iam_token\n}\n\nwith open('history_fairness.json', 'r') as history_file:\n    payloads = json.load(history_file)\n\nfor day in range(historyDays):\n    print('Loading day', day + 1)\n    for hour in range(24):\n        score_time = (datetime.datetime.utcnow() + datetime.timedelta(hours=(-(24*day + hour + 1)))).strftime('%Y-%m-%dT%H:%M:%SZ')\n        index = (day * 24 + hour) % len(payloads) # wrap around and reuse values if needed\n        \n        qualityMetric = {\n            'metric_type': 'fairness',\n            'binding_id': binding_uid,\n            'timestamp': score_time,\n            'subscription_id': model_uid,\n            'asset_revision': model_uid,\n            'deployment_id': deployment_uid,\n            'value': payloads[index]\n        }\n\n        response = requests.post(performance_metrics_url, json=[qualityMetric], headers=iam_headers)\nprint('Finished')"
        }, 
        {
            "source": "## Insert historical debias metrics", 
            "cell_type": "markdown", 
            "metadata": {}
        }, 
        {
            "execution_count": 125, 
            "cell_type": "code", 
            "metadata": {}, 
            "outputs": [
                {
                    "output_type": "stream", 
                    "name": "stdout", 
                    "text": "rm: cannot remove 'history_debias.json': No such file or directory\n--2019-04-10 12:31:59--  https://raw.githubusercontent.com/emartensibm/german-credit/master/model_data/german_credit/history_debias.json\nResolving raw.githubusercontent.com (raw.githubusercontent.com)... 199.232.8.133\nConnecting to raw.githubusercontent.com (raw.githubusercontent.com)|199.232.8.133|:443... connected.\nHTTP request sent, awaiting response... 200 OK\nLength: 565971 (553K) [text/plain]\nSaving to: 'history_debias.json'\n\nhistory_debias.json 100%[===================>] 552.71K  --.-KB/s    in 0.02s   \n\n2019-04-10 12:31:59 (23.9 MB/s) - 'history_debias.json' saved [565971/565971]\n\n"
                }
            ], 
            "source": "!rm history_debias.json\n!wget https://raw.githubusercontent.com/emartensibm/german-credit/master/model_data/german_credit/history_debias.json"
        }, 
        {
            "execution_count": 126, 
            "cell_type": "code", 
            "metadata": {}, 
            "outputs": [
                {
                    "output_type": "stream", 
                    "name": "stdout", 
                    "text": "Loading day 1\nLoading day 2\nLoading day 3\nLoading day 4\nLoading day 5\nLoading day 6\nLoading day 7\nFinished\n"
                }
            ], 
            "source": "token_data = {\n    'grant_type': 'urn:ibm:params:oauth:grant-type:apikey',\n    'response_type': 'cloud_iam',\n    'apikey': AIOS_CREDENTIALS['apikey']\n}\n\nresponse = requests.post('https://iam.bluemix.net/identity/token', data=token_data)\niam_token = response.json()['access_token']\niam_headers = {\n    'Content-Type': 'application/json',\n    'Authorization': 'Bearer %s' % iam_token\n}\n\nwith open('history_debias.json', 'r') as history_file:\n    payloads = json.load(history_file)\n\nfor day in range(historyDays):\n    print('Loading day', day + 1)\n    for hour in range(24):\n        score_time = (datetime.datetime.utcnow() + datetime.timedelta(hours=(-(24*day + hour + 1)))).strftime('%Y-%m-%dT%H:%M:%SZ')\n        index = (day * 24 + hour) % len(payloads) # wrap around and reuse values if needed\n\n        qualityMetric = {\n            'metric_type': 'debiased_fairness',\n            'binding_id': binding_uid,\n            'timestamp': score_time,\n            'subscription_id': model_uid,\n            'asset_revision': model_uid,\n            'deployment_id': deployment_uid,\n            'value': payloads[index]\n        }\n\n        response = requests.post(performance_metrics_url, json=[qualityMetric], headers=iam_headers)\nprint('Finished')"
        }, 
        {
            "source": "## Insert historical quality metrics", 
            "cell_type": "markdown", 
            "metadata": {}
        }, 
        {
            "execution_count": 127, 
            "cell_type": "code", 
            "metadata": {
                "scrolled": true
            }, 
            "outputs": [
                {
                    "output_type": "stream", 
                    "name": "stdout", 
                    "text": "Day 1\nDay 2\nDay 3\nDay 4\nDay 5\nDay 6\nDay 7\nFinished\n"
                }
            ], 
            "source": "token_data = {\n    'grant_type': 'urn:ibm:params:oauth:grant-type:apikey',\n    'response_type': 'cloud_iam',\n    'apikey': AIOS_CREDENTIALS['apikey']\n}\n\nresponse = requests.post('https://iam.bluemix.net/identity/token', data=token_data)\niam_token = response.json()['access_token']\niam_headers = {\n    'Content-Type': 'application/json',\n    'Authorization': 'Bearer %s' % iam_token\n}\n\nmeasurements = [0.76, 0.78, 0.68, 0.72, 0.73, 0.77, 0.80]\nfor day in range(historyDays):\n    print('Day', day + 1)\n    for hour in range(24):\n        score_time = (datetime.datetime.utcnow() + datetime.timedelta(hours=(-(24*day + hour + 1)))).strftime('%Y-%m-%dT%H:%M:%SZ')\n        qualityMetric = {\n            'metric_type': 'quality',\n            'binding_id': binding_uid,\n            'timestamp': score_time,\n            'subscription_id': model_uid,\n            'asset_revision': model_uid,\n            'deployment_id': deployment_uid,\n            'value': {\n                'quality': measurements[day],\n                'threshold': 0.7,\n                'metrics': [\n                    {\n                        'name': 'auroc',\n                        'value': measurements[day],\n                        'threshold': 0.7\n                    }\n                ]\n            }\n        }\n\n        response = requests.post(performance_metrics_url, json=[qualityMetric], headers=iam_headers)\nprint('Finished')"
        }, 
        {
            "source": "## Insert historical performance metrics", 
            "cell_type": "markdown", 
            "metadata": {}
        }, 
        {
            "execution_count": 128, 
            "cell_type": "code", 
            "metadata": {}, 
            "outputs": [
                {
                    "output_type": "stream", 
                    "name": "stdout", 
                    "text": "Day 1\nDay 2\nDay 3\nDay 4\nDay 5\nDay 6\nDay 7\nFinished\n"
                }
            ], 
            "source": "token_data = {\n    'grant_type': 'urn:ibm:params:oauth:grant-type:apikey',\n    'response_type': 'cloud_iam',\n    'apikey': AIOS_CREDENTIALS['apikey']\n}\n\nresponse = requests.post('https://iam.bluemix.net/identity/token', data=token_data)\niam_token = response.json()['access_token']\niam_headers = {\n    'Content-Type': 'application/json',\n    'Authorization': 'Bearer %s' % iam_token\n}\n\nfor day in range(historyDays):\n    print('Day', day + 1)\n    for hour in range(24):\n        score_time = (datetime.datetime.utcnow() + datetime.timedelta(hours=(-(24*day + hour + 1)))).strftime('%Y-%m-%dT%H:%M:%SZ')\n        score_count = random.randint(60, 600)\n        score_resp = random.uniform(60, 300)\n\n        performanceMetric = {\n            'metric_type': 'performance',\n            'binding_id': binding_uid,\n            'timestamp': score_time,\n            'subscription_id': model_uid,\n            'asset_revision': model_uid,\n            'deployment_id': deployment_uid,\n            'value': {\n                'response_time': score_resp,\n                'records': score_count\n            }\n        }\n\n        response = requests.post(performance_metrics_url, json=[performanceMetric], headers=iam_headers)\nprint('Finished')"
        }, 
        {
            "source": "## Insert historical manual labeling", 
            "cell_type": "markdown", 
            "metadata": {}
        }, 
        {
            "execution_count": 129, 
            "cell_type": "code", 
            "metadata": {}, 
            "outputs": [
                {
                    "output_type": "stream", 
                    "name": "stdout", 
                    "text": "https://api.aiopenscale.cloud.ibm.com/v1/data_marts/e3a38ab0-3884-454c-abc0-5e535eec36e6/manual_labelings\n"
                }
            ], 
            "source": "manual_labeling_url = 'https://api.aiopenscale.cloud.ibm.com' + subscription.get_details()['metadata']['url'].split('/service_bindings')[0] + '/manual_labelings'\nprint(manual_labeling_url)"
        }, 
        {
            "execution_count": 130, 
            "cell_type": "code", 
            "metadata": {}, 
            "outputs": [
                {
                    "output_type": "stream", 
                    "name": "stdout", 
                    "text": "rm: cannot remove 'history_manual_labeling.json': No such file or directory\n--2019-04-10 12:32:37--  https://raw.githubusercontent.com/emartensibm/german-credit/master/model_data/german_credit/history_manual_labeling.json\nResolving raw.githubusercontent.com (raw.githubusercontent.com)... 199.232.8.133\nConnecting to raw.githubusercontent.com (raw.githubusercontent.com)|199.232.8.133|:443... connected.\nHTTP request sent, awaiting response... 200 OK\nLength: 947956 (926K) [text/plain]\nSaving to: 'history_manual_labeling.json'\n\nhistory_manual_labe 100%[===================>] 925.74K  --.-KB/s    in 0.03s   \n\n2019-04-10 12:32:37 (34.2 MB/s) - 'history_manual_labeling.json' saved [947956/947956]\n\n"
                }
            ], 
            "source": "!rm history_manual_labeling.json\n!wget https://raw.githubusercontent.com/emartensibm/german-credit/master/model_data/german_credit/history_manual_labeling.json"
        }, 
        {
            "execution_count": 131, 
            "cell_type": "code", 
            "metadata": {}, 
            "outputs": [
                {
                    "output_type": "stream", 
                    "name": "stdout", 
                    "text": "Loading day 1\nLoading day 2\nLoading day 3\nLoading day 4\nLoading day 5\nLoading day 6\nLoading day 7\nFinished\n"
                }
            ], 
            "source": "token_data = {\n    'grant_type': 'urn:ibm:params:oauth:grant-type:apikey',\n    'response_type': 'cloud_iam',\n    'apikey': AIOS_CREDENTIALS['apikey']\n}\n\nresponse = requests.post('https://iam.bluemix.net/identity/token', data=token_data)\niam_token = response.json()['access_token']\niam_headers = {\n    'Content-Type': 'application/json',\n    'Authorization': 'Bearer %s' % iam_token\n}\n\nwith open('history_manual_labeling.json', 'r') as history_file:\n    records = json.load(history_file)\n\nfor day in range(historyDays):\n    print('Loading day', day + 1)\n    record_json = []\n    for hour in range(24):\n        for record in records:\n            if record['fastpath_history_day'] == day and record['fastpath_history_hour'] == hour:\n                record['binding_id'] = binding_uid\n                record['subscription_id'] = model_uid\n                record['asset_revision'] = model_uid\n                record['deployment_id'] = deployment_uid\n                record['scoring_timestamp'] = (datetime.datetime.utcnow() + datetime.timedelta(hours=(-(24*day + hour + 1)))).strftime('%Y-%m-%dT%H:%M:%SZ')\n                record_json.append(record)\n    response = requests.post(manual_labeling_url, json=record_json, headers=iam_headers)\n\nprint('Finished')"
        }, 
        {
            "source": "## Additional data to help debugging", 
            "cell_type": "markdown", 
            "metadata": {}
        }, 
        {
            "execution_count": 132, 
            "cell_type": "code", 
            "metadata": {
                "scrolled": true
            }, 
            "outputs": [
                {
                    "output_type": "stream", 
                    "name": "stdout", 
                    "text": "Datamart: e3a38ab0-3884-454c-abc0-5e535eec36e6\nModel: 18d9e549-575a-48cb-add0-d76459b07919\nDeployment: eff4bfde-c896-4290-b610-cd1306197a09\nBinding: a73bf76d-a663-448a-b771-4f651f73d54e\nScoring URL: https://us-south.ml.cloud.ibm.com/v3/wml_instances/a73bf76d-a663-448a-b771-4f651f73d54e/deployments/eff4bfde-c896-4290-b610-cd1306197a09/online\n"
                }
            ], 
            "source": "print('Datamart:', data_mart_id)\nprint('Model:', model_uid)\nprint('Deployment:', deployment_uid)\nprint('Binding:', binding_uid)\nprint('Scoring URL:', credit_risk_scoring_endpoint)"
        }, 
        {
            "source": "## Identify transactions for Explainability", 
            "cell_type": "markdown", 
            "metadata": {}
        }, 
        {
            "source": "Transaction IDs identified by the cells below can be copied and pasted into the Explainability tab of the OpenScale dashboard.", 
            "cell_type": "markdown", 
            "metadata": {}
        }, 
        {
            "execution_count": 133, 
            "cell_type": "code", 
            "metadata": {}, 
            "outputs": [
                {
                    "execution_count": 133, 
                    "metadata": {}, 
                    "data": {
                        "text/html": "<div>\n<style scoped>\n    .dataframe tbody tr th:only-of-type {\n        vertical-align: middle;\n    }\n\n    .dataframe tbody tr th {\n        vertical-align: top;\n    }\n\n    .dataframe thead th {\n        text-align: right;\n    }\n</style>\n<table border=\"1\" class=\"dataframe\">\n  <thead>\n    <tr style=\"text-align: right;\">\n      <th></th>\n      <th>scoring_id</th>\n      <th>predictedLabel</th>\n      <th>probability</th>\n    </tr>\n  </thead>\n  <tbody>\n    <tr>\n      <th>0</th>\n      <td>265974ae623e15e5903ad3adbfc5a13d-126</td>\n      <td>No Risk</td>\n      <td>[0.7509605808219262, 0.24903941917807382]</td>\n    </tr>\n    <tr>\n      <th>1</th>\n      <td>265974ae623e15e5903ad3adbfc5a13d-151</td>\n      <td>No Risk</td>\n      <td>[0.673974433208733, 0.326025566791267]</td>\n    </tr>\n    <tr>\n      <th>2</th>\n      <td>265974ae623e15e5903ad3adbfc5a13d-111</td>\n      <td>No Risk</td>\n      <td>[0.5797844882809182, 0.4202155117190817]</td>\n    </tr>\n    <tr>\n      <th>3</th>\n      <td>265974ae623e15e5903ad3adbfc5a13d-125</td>\n      <td>No Risk</td>\n      <td>[0.5969124010917555, 0.4030875989082446]</td>\n    </tr>\n    <tr>\n      <th>4</th>\n      <td>265974ae623e15e5903ad3adbfc5a13d-14</td>\n      <td>No Risk</td>\n      <td>[0.9562965791968165, 0.04370342080318346]</td>\n    </tr>\n    <tr>\n      <th>5</th>\n      <td>265974ae623e15e5903ad3adbfc5a13d-150</td>\n      <td>Risk</td>\n      <td>[0.489839542044053, 0.510160457955947]</td>\n    </tr>\n    <tr>\n      <th>6</th>\n      <td>265974ae623e15e5903ad3adbfc5a13d-104</td>\n      <td>Risk</td>\n      <td>[0.3456698925940616, 0.6543301074059384]</td>\n    </tr>\n    <tr>\n      <th>7</th>\n      <td>265974ae623e15e5903ad3adbfc5a13d-110</td>\n      <td>Risk</td>\n      <td>[0.35009468537932087, 0.6499053146206792]</td>\n    </tr>\n    <tr>\n      <th>8</th>\n      <td>265974ae623e15e5903ad3adbfc5a13d-118</td>\n      <td>Risk</td>\n      <td>[0.250521204048579, 0.749478795951421]</td>\n    </tr>\n    <tr>\n      <th>9</th>\n      <td>265974ae623e15e5903ad3adbfc5a13d-124</td>\n      <td>No Risk</td>\n      <td>[0.961032201365013, 0.038967798634987005]</td>\n    </tr>\n    <tr>\n      <th>10</th>\n      <td>265974ae623e15e5903ad3adbfc5a13d-132</td>\n      <td>No Risk</td>\n      <td>[0.8366675946416103, 0.16333240535838967]</td>\n    </tr>\n    <tr>\n      <th>11</th>\n      <td>265974ae623e15e5903ad3adbfc5a13d-139</td>\n      <td>No Risk</td>\n      <td>[0.7144156971353893, 0.2855843028646106]</td>\n    </tr>\n    <tr>\n      <th>12</th>\n      <td>265974ae623e15e5903ad3adbfc5a13d-146</td>\n      <td>No Risk</td>\n      <td>[0.5649865546165125, 0.4350134453834874]</td>\n    </tr>\n    <tr>\n      <th>13</th>\n      <td>265974ae623e15e5903ad3adbfc5a13d-15</td>\n      <td>No Risk</td>\n      <td>[0.741496041884421, 0.2585039581155791]</td>\n    </tr>\n    <tr>\n      <th>14</th>\n      <td>265974ae623e15e5903ad3adbfc5a13d-100</td>\n      <td>No Risk</td>\n      <td>[0.513520851737467, 0.486479148262533]</td>\n    </tr>\n    <tr>\n      <th>15</th>\n      <td>265974ae623e15e5903ad3adbfc5a13d-103</td>\n      <td>No Risk</td>\n      <td>[0.6330297937300314, 0.3669702062699685]</td>\n    </tr>\n    <tr>\n      <th>16</th>\n      <td>265974ae623e15e5903ad3adbfc5a13d-107</td>\n      <td>No Risk</td>\n      <td>[0.648586255329324, 0.35141374467067604]</td>\n    </tr>\n    <tr>\n      <th>17</th>\n      <td>265974ae623e15e5903ad3adbfc5a13d-11</td>\n      <td>No Risk</td>\n      <td>[0.5504621451346092, 0.44953785486539066]</td>\n    </tr>\n    <tr>\n      <th>18</th>\n      <td>265974ae623e15e5903ad3adbfc5a13d-114</td>\n      <td>No Risk</td>\n      <td>[0.9583107694244047, 0.04168923057559527]</td>\n    </tr>\n    <tr>\n      <th>19</th>\n      <td>265974ae623e15e5903ad3adbfc5a13d-117</td>\n      <td>Risk</td>\n      <td>[0.28889429548009266, 0.7111057045199074]</td>\n    </tr>\n    <tr>\n      <th>20</th>\n      <td>265974ae623e15e5903ad3adbfc5a13d-120</td>\n      <td>No Risk</td>\n      <td>[0.6878582167962188, 0.3121417832037811]</td>\n    </tr>\n    <tr>\n      <th>21</th>\n      <td>265974ae623e15e5903ad3adbfc5a13d-123</td>\n      <td>Risk</td>\n      <td>[0.23904623476728046, 0.7609537652327195]</td>\n    </tr>\n    <tr>\n      <th>22</th>\n      <td>265974ae623e15e5903ad3adbfc5a13d-129</td>\n      <td>No Risk</td>\n      <td>[0.6117870956401914, 0.38821290435980854]</td>\n    </tr>\n    <tr>\n      <th>23</th>\n      <td>265974ae623e15e5903ad3adbfc5a13d-131</td>\n      <td>No Risk</td>\n      <td>[0.5941711725409426, 0.40582882745905735]</td>\n    </tr>\n    <tr>\n      <th>24</th>\n      <td>265974ae623e15e5903ad3adbfc5a13d-135</td>\n      <td>No Risk</td>\n      <td>[0.6710393850741815, 0.32896061492581846]</td>\n    </tr>\n    <tr>\n      <th>25</th>\n      <td>265974ae623e15e5903ad3adbfc5a13d-138</td>\n      <td>No Risk</td>\n      <td>[0.5040368800078278, 0.4959631199921722]</td>\n    </tr>\n    <tr>\n      <th>26</th>\n      <td>265974ae623e15e5903ad3adbfc5a13d-142</td>\n      <td>Risk</td>\n      <td>[0.265525695145362, 0.734474304854638]</td>\n    </tr>\n    <tr>\n      <th>27</th>\n      <td>265974ae623e15e5903ad3adbfc5a13d-145</td>\n      <td>Risk</td>\n      <td>[0.11331806620847977, 0.8866819337915203]</td>\n    </tr>\n    <tr>\n      <th>28</th>\n      <td>265974ae623e15e5903ad3adbfc5a13d-148</td>\n      <td>No Risk</td>\n      <td>[0.9569918027609121, 0.04300819723908785]</td>\n    </tr>\n    <tr>\n      <th>29</th>\n      <td>265974ae623e15e5903ad3adbfc5a13d-149</td>\n      <td>No Risk</td>\n      <td>[0.5993373192753061, 0.40066268072469385]</td>\n    </tr>\n    <tr>\n      <th>30</th>\n      <td>265974ae623e15e5903ad3adbfc5a13d-1</td>\n      <td>No Risk</td>\n      <td>[0.9469661519412546, 0.05303384805874545]</td>\n    </tr>\n    <tr>\n      <th>31</th>\n      <td>265974ae623e15e5903ad3adbfc5a13d-10</td>\n      <td>No Risk</td>\n      <td>[0.7339608585872534, 0.26603914141274665]</td>\n    </tr>\n    <tr>\n      <th>32</th>\n      <td>265974ae623e15e5903ad3adbfc5a13d-101</td>\n      <td>No Risk</td>\n      <td>[0.9837303772893641, 0.016269622710635832]</td>\n    </tr>\n    <tr>\n      <th>33</th>\n      <td>265974ae623e15e5903ad3adbfc5a13d-102</td>\n      <td>No Risk</td>\n      <td>[0.9847415295797978, 0.015258470420202248]</td>\n    </tr>\n    <tr>\n      <th>34</th>\n      <td>265974ae623e15e5903ad3adbfc5a13d-105</td>\n      <td>No Risk</td>\n      <td>[0.5238514373359512, 0.4761485626640488]</td>\n    </tr>\n    <tr>\n      <th>35</th>\n      <td>265974ae623e15e5903ad3adbfc5a13d-106</td>\n      <td>Risk</td>\n      <td>[0.09079111372151664, 0.9092088862784834]</td>\n    </tr>\n    <tr>\n      <th>36</th>\n      <td>265974ae623e15e5903ad3adbfc5a13d-108</td>\n      <td>No Risk</td>\n      <td>[0.9681197095405782, 0.03188029045942188]</td>\n    </tr>\n    <tr>\n      <th>37</th>\n      <td>265974ae623e15e5903ad3adbfc5a13d-109</td>\n      <td>No Risk</td>\n      <td>[0.9417381537614709, 0.058261846238529036]</td>\n    </tr>\n    <tr>\n      <th>38</th>\n      <td>265974ae623e15e5903ad3adbfc5a13d-112</td>\n      <td>Risk</td>\n      <td>[0.14945459294439906, 0.8505454070556009]</td>\n    </tr>\n    <tr>\n      <th>39</th>\n      <td>265974ae623e15e5903ad3adbfc5a13d-113</td>\n      <td>No Risk</td>\n      <td>[0.8548708329370596, 0.1451291670629405]</td>\n    </tr>\n    <tr>\n      <th>40</th>\n      <td>265974ae623e15e5903ad3adbfc5a13d-115</td>\n      <td>No Risk</td>\n      <td>[0.6696308968654615, 0.33036910313453854]</td>\n    </tr>\n    <tr>\n      <th>41</th>\n      <td>265974ae623e15e5903ad3adbfc5a13d-116</td>\n      <td>No Risk</td>\n      <td>[0.7649804468072905, 0.23501955319270965]</td>\n    </tr>\n    <tr>\n      <th>42</th>\n      <td>265974ae623e15e5903ad3adbfc5a13d-119</td>\n      <td>No Risk</td>\n      <td>[0.9861591477423044, 0.01384085225769561]</td>\n    </tr>\n    <tr>\n      <th>43</th>\n      <td>265974ae623e15e5903ad3adbfc5a13d-12</td>\n      <td>Risk</td>\n      <td>[0.41433832099831047, 0.5856616790016896]</td>\n    </tr>\n    <tr>\n      <th>44</th>\n      <td>265974ae623e15e5903ad3adbfc5a13d-121</td>\n      <td>Risk</td>\n      <td>[0.2015920689406901, 0.79840793105931]</td>\n    </tr>\n    <tr>\n      <th>45</th>\n      <td>265974ae623e15e5903ad3adbfc5a13d-122</td>\n      <td>Risk</td>\n      <td>[0.41784193593126195, 0.582158064068738]</td>\n    </tr>\n    <tr>\n      <th>46</th>\n      <td>265974ae623e15e5903ad3adbfc5a13d-127</td>\n      <td>No Risk</td>\n      <td>[0.5348783732022326, 0.46512162679776725]</td>\n    </tr>\n    <tr>\n      <th>47</th>\n      <td>265974ae623e15e5903ad3adbfc5a13d-128</td>\n      <td>No Risk</td>\n      <td>[0.602187845132952, 0.39781215486704796]</td>\n    </tr>\n    <tr>\n      <th>48</th>\n      <td>265974ae623e15e5903ad3adbfc5a13d-13</td>\n      <td>Risk</td>\n      <td>[0.484502331218872, 0.515497668781128]</td>\n    </tr>\n    <tr>\n      <th>49</th>\n      <td>265974ae623e15e5903ad3adbfc5a13d-130</td>\n      <td>No Risk</td>\n      <td>[0.8793484521450378, 0.12065154785496227]</td>\n    </tr>\n    <tr>\n      <th>50</th>\n      <td>265974ae623e15e5903ad3adbfc5a13d-133</td>\n      <td>No Risk</td>\n      <td>[0.713256316138251, 0.2867436838617491]</td>\n    </tr>\n    <tr>\n      <th>51</th>\n      <td>265974ae623e15e5903ad3adbfc5a13d-134</td>\n      <td>No Risk</td>\n      <td>[0.8071578698921715, 0.19284213010782847]</td>\n    </tr>\n    <tr>\n      <th>52</th>\n      <td>265974ae623e15e5903ad3adbfc5a13d-136</td>\n      <td>No Risk</td>\n      <td>[0.6142511284632233, 0.3857488715367767]</td>\n    </tr>\n    <tr>\n      <th>53</th>\n      <td>265974ae623e15e5903ad3adbfc5a13d-137</td>\n      <td>No Risk</td>\n      <td>[0.7786178575783939, 0.22138214242160617]</td>\n    </tr>\n    <tr>\n      <th>54</th>\n      <td>265974ae623e15e5903ad3adbfc5a13d-140</td>\n      <td>No Risk</td>\n      <td>[0.6868606963320028, 0.31313930366799736]</td>\n    </tr>\n    <tr>\n      <th>55</th>\n      <td>265974ae623e15e5903ad3adbfc5a13d-141</td>\n      <td>No Risk</td>\n      <td>[0.8831031319243504, 0.11689686807564956]</td>\n    </tr>\n    <tr>\n      <th>56</th>\n      <td>265974ae623e15e5903ad3adbfc5a13d-143</td>\n      <td>No Risk</td>\n      <td>[0.9840274682115433, 0.01597253178845664]</td>\n    </tr>\n    <tr>\n      <th>57</th>\n      <td>265974ae623e15e5903ad3adbfc5a13d-144</td>\n      <td>Risk</td>\n      <td>[0.224411265398255, 0.7755887346017449]</td>\n    </tr>\n    <tr>\n      <th>58</th>\n      <td>265974ae623e15e5903ad3adbfc5a13d-147</td>\n      <td>No Risk</td>\n      <td>[0.6312858101034505, 0.36871418989654947]</td>\n    </tr>\n    <tr>\n      <th>59</th>\n      <td>265974ae623e15e5903ad3adbfc5a13d-152</td>\n      <td>Risk</td>\n      <td>[0.4604128893163682, 0.5395871106836317]</td>\n    </tr>\n  </tbody>\n</table>\n</div>", 
                        "text/plain": "                              scoring_id predictedLabel  \\\n0   265974ae623e15e5903ad3adbfc5a13d-126        No Risk   \n1   265974ae623e15e5903ad3adbfc5a13d-151        No Risk   \n2   265974ae623e15e5903ad3adbfc5a13d-111        No Risk   \n3   265974ae623e15e5903ad3adbfc5a13d-125        No Risk   \n4    265974ae623e15e5903ad3adbfc5a13d-14        No Risk   \n5   265974ae623e15e5903ad3adbfc5a13d-150           Risk   \n6   265974ae623e15e5903ad3adbfc5a13d-104           Risk   \n7   265974ae623e15e5903ad3adbfc5a13d-110           Risk   \n8   265974ae623e15e5903ad3adbfc5a13d-118           Risk   \n9   265974ae623e15e5903ad3adbfc5a13d-124        No Risk   \n10  265974ae623e15e5903ad3adbfc5a13d-132        No Risk   \n11  265974ae623e15e5903ad3adbfc5a13d-139        No Risk   \n12  265974ae623e15e5903ad3adbfc5a13d-146        No Risk   \n13   265974ae623e15e5903ad3adbfc5a13d-15        No Risk   \n14  265974ae623e15e5903ad3adbfc5a13d-100        No Risk   \n15  265974ae623e15e5903ad3adbfc5a13d-103        No Risk   \n16  265974ae623e15e5903ad3adbfc5a13d-107        No Risk   \n17   265974ae623e15e5903ad3adbfc5a13d-11        No Risk   \n18  265974ae623e15e5903ad3adbfc5a13d-114        No Risk   \n19  265974ae623e15e5903ad3adbfc5a13d-117           Risk   \n20  265974ae623e15e5903ad3adbfc5a13d-120        No Risk   \n21  265974ae623e15e5903ad3adbfc5a13d-123           Risk   \n22  265974ae623e15e5903ad3adbfc5a13d-129        No Risk   \n23  265974ae623e15e5903ad3adbfc5a13d-131        No Risk   \n24  265974ae623e15e5903ad3adbfc5a13d-135        No Risk   \n25  265974ae623e15e5903ad3adbfc5a13d-138        No Risk   \n26  265974ae623e15e5903ad3adbfc5a13d-142           Risk   \n27  265974ae623e15e5903ad3adbfc5a13d-145           Risk   \n28  265974ae623e15e5903ad3adbfc5a13d-148        No Risk   \n29  265974ae623e15e5903ad3adbfc5a13d-149        No Risk   \n30    265974ae623e15e5903ad3adbfc5a13d-1        No Risk   \n31   265974ae623e15e5903ad3adbfc5a13d-10        No Risk   \n32  265974ae623e15e5903ad3adbfc5a13d-101        No Risk   \n33  265974ae623e15e5903ad3adbfc5a13d-102        No Risk   \n34  265974ae623e15e5903ad3adbfc5a13d-105        No Risk   \n35  265974ae623e15e5903ad3adbfc5a13d-106           Risk   \n36  265974ae623e15e5903ad3adbfc5a13d-108        No Risk   \n37  265974ae623e15e5903ad3adbfc5a13d-109        No Risk   \n38  265974ae623e15e5903ad3adbfc5a13d-112           Risk   \n39  265974ae623e15e5903ad3adbfc5a13d-113        No Risk   \n40  265974ae623e15e5903ad3adbfc5a13d-115        No Risk   \n41  265974ae623e15e5903ad3adbfc5a13d-116        No Risk   \n42  265974ae623e15e5903ad3adbfc5a13d-119        No Risk   \n43   265974ae623e15e5903ad3adbfc5a13d-12           Risk   \n44  265974ae623e15e5903ad3adbfc5a13d-121           Risk   \n45  265974ae623e15e5903ad3adbfc5a13d-122           Risk   \n46  265974ae623e15e5903ad3adbfc5a13d-127        No Risk   \n47  265974ae623e15e5903ad3adbfc5a13d-128        No Risk   \n48   265974ae623e15e5903ad3adbfc5a13d-13           Risk   \n49  265974ae623e15e5903ad3adbfc5a13d-130        No Risk   \n50  265974ae623e15e5903ad3adbfc5a13d-133        No Risk   \n51  265974ae623e15e5903ad3adbfc5a13d-134        No Risk   \n52  265974ae623e15e5903ad3adbfc5a13d-136        No Risk   \n53  265974ae623e15e5903ad3adbfc5a13d-137        No Risk   \n54  265974ae623e15e5903ad3adbfc5a13d-140        No Risk   \n55  265974ae623e15e5903ad3adbfc5a13d-141        No Risk   \n56  265974ae623e15e5903ad3adbfc5a13d-143        No Risk   \n57  265974ae623e15e5903ad3adbfc5a13d-144           Risk   \n58  265974ae623e15e5903ad3adbfc5a13d-147        No Risk   \n59  265974ae623e15e5903ad3adbfc5a13d-152           Risk   \n\n                                   probability  \n0    [0.7509605808219262, 0.24903941917807382]  \n1       [0.673974433208733, 0.326025566791267]  \n2     [0.5797844882809182, 0.4202155117190817]  \n3     [0.5969124010917555, 0.4030875989082446]  \n4    [0.9562965791968165, 0.04370342080318346]  \n5       [0.489839542044053, 0.510160457955947]  \n6     [0.3456698925940616, 0.6543301074059384]  \n7    [0.35009468537932087, 0.6499053146206792]  \n8       [0.250521204048579, 0.749478795951421]  \n9    [0.961032201365013, 0.038967798634987005]  \n10   [0.8366675946416103, 0.16333240535838967]  \n11    [0.7144156971353893, 0.2855843028646106]  \n12    [0.5649865546165125, 0.4350134453834874]  \n13     [0.741496041884421, 0.2585039581155791]  \n14      [0.513520851737467, 0.486479148262533]  \n15    [0.6330297937300314, 0.3669702062699685]  \n16    [0.648586255329324, 0.35141374467067604]  \n17   [0.5504621451346092, 0.44953785486539066]  \n18   [0.9583107694244047, 0.04168923057559527]  \n19   [0.28889429548009266, 0.7111057045199074]  \n20    [0.6878582167962188, 0.3121417832037811]  \n21   [0.23904623476728046, 0.7609537652327195]  \n22   [0.6117870956401914, 0.38821290435980854]  \n23   [0.5941711725409426, 0.40582882745905735]  \n24   [0.6710393850741815, 0.32896061492581846]  \n25    [0.5040368800078278, 0.4959631199921722]  \n26      [0.265525695145362, 0.734474304854638]  \n27   [0.11331806620847977, 0.8866819337915203]  \n28   [0.9569918027609121, 0.04300819723908785]  \n29   [0.5993373192753061, 0.40066268072469385]  \n30   [0.9469661519412546, 0.05303384805874545]  \n31   [0.7339608585872534, 0.26603914141274665]  \n32  [0.9837303772893641, 0.016269622710635832]  \n33  [0.9847415295797978, 0.015258470420202248]  \n34    [0.5238514373359512, 0.4761485626640488]  \n35   [0.09079111372151664, 0.9092088862784834]  \n36   [0.9681197095405782, 0.03188029045942188]  \n37  [0.9417381537614709, 0.058261846238529036]  \n38   [0.14945459294439906, 0.8505454070556009]  \n39    [0.8548708329370596, 0.1451291670629405]  \n40   [0.6696308968654615, 0.33036910313453854]  \n41   [0.7649804468072905, 0.23501955319270965]  \n42   [0.9861591477423044, 0.01384085225769561]  \n43   [0.41433832099831047, 0.5856616790016896]  \n44      [0.2015920689406901, 0.79840793105931]  \n45    [0.41784193593126195, 0.582158064068738]  \n46   [0.5348783732022326, 0.46512162679776725]  \n47    [0.602187845132952, 0.39781215486704796]  \n48      [0.484502331218872, 0.515497668781128]  \n49   [0.8793484521450378, 0.12065154785496227]  \n50     [0.713256316138251, 0.2867436838617491]  \n51   [0.8071578698921715, 0.19284213010782847]  \n52    [0.6142511284632233, 0.3857488715367767]  \n53   [0.7786178575783939, 0.22138214242160617]  \n54   [0.6868606963320028, 0.31313930366799736]  \n55   [0.8831031319243504, 0.11689686807564956]  \n56   [0.9840274682115433, 0.01597253178845664]  \n57     [0.224411265398255, 0.7755887346017449]  \n58   [0.6312858101034505, 0.36871418989654947]  \n59    [0.4604128893163682, 0.5395871106836317]  "
                    }, 
                    "output_type": "execute_result"
                }
            ], 
            "source": "payload_data = subscription.payload_logging.get_table_content(limit=60)\npayload_data.filter(items=['scoring_id', 'predictedLabel', 'probability'])"
        }, 
        {
            "source": "## Congratulations!\n\nYou have finished the hands-on lab for IBM Watson OpenScale. You can now view the [OpenScale Dashboard](https://aiopenscale.cloud.ibm.com/). Click on the tile for the German Credit model to see fairness, accuracy, and performance monitors. Click on the timeseries graph to get detailed information on transactions during a specific time window.\n\n## Next steps\n\nOpenScale shows model performance over time. You have two options to keep data flowing to your OpenScale graphs:\n  * Download, configure and schedule the [model feed notebook](https://raw.githubusercontent.com/emartensibm/german-credit/master/german_credit_scoring_feed.ipynb). This notebook can be set up with your WML credentials, and scheduled to provide a consistent flow of scoring requests to your model, which will appear in your OpenScale monitors.\n  * Re-run this notebook. Running this notebook from the beginning will delete and re-create the model and deployment, and re-create the historical data. Please note that the payload and measurement logs for the previous deployment will continue to be stored in your datamart, and can be deleted if necessary.", 
            "cell_type": "markdown", 
            "metadata": {}
        }, 
        {
            "source": "## Authors\n\nEric Martens, is a technical specialist having expertise in analysis and description of business processes, and their translation into functional and non-functional IT requirements. He acts as the interpreter between the worlds of IT and business.\n\nLukasz Cmielowski, PhD, is an Automation Architect and Data Scientist at IBM with a track record of developing enterprise-level applications that substantially increases clients' ability to turn data into actionable knowledge.", 
            "cell_type": "markdown", 
            "metadata": {}
        }
    ], 
    "metadata": {
        "kernelspec": {
            "display_name": "Python 3.5 with Spark", 
            "name": "python3", 
            "language": "python3"
        }, 
        "language_info": {
            "mimetype": "text/x-python", 
            "nbconvert_exporter": "python", 
            "version": "3.5.4", 
            "name": "python", 
            "file_extension": ".py", 
            "pygments_lexer": "ipython3", 
            "codemirror_mode": {
                "version": 3, 
                "name": "ipython"
            }
        }
    }, 
    "nbformat": 4
}