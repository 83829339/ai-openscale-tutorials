{
 "cells": [
  {
   "cell_type": "markdown",
   "metadata": {},
   "source": [
    "<img src=\"https://github.com/pmservice/ai-openscale-tutorials/raw/master/notebooks/images/banner.png\" align=\"left\" alt=\"banner\">"
   ]
  },
  {
   "cell_type": "markdown",
   "metadata": {},
   "source": [
    "# Logging the payload with scoring endpoint wrapper\n",
    "\n",
    "Now, you're ready to create credit risk scoring endpoint wrapper. The goal of the wrapper is to automatically log all input and outpus payloads from credit risk deployment (created previously).\n",
    "\n",
    "## Prerequisites to this tutorial:\n",
    "> * Credit Risk model deployment on Azure ML Service (scoring endpoint)\n",
    "> * Custom ML Engine deployment and integration with OpenScale\n",
    "\n",
    "\n",
    "In this part of the tutorial, you use Azure Machine Learning service to:\n",
    "\n",
    "> * Set up your testing environment\n",
    "> * Retrieve the deployment from your workspace\n",
    "> * Test the deployment locally\n",
    "> * Deploy the wrapper to ACI\n",
    "> * Test the wrapper"
   ]
  },
  {
   "cell_type": "markdown",
   "metadata": {},
   "source": [
    "## Install `ibm-ai-openscale` package"
   ]
  },
  {
   "cell_type": "code",
   "execution_count": 1,
   "metadata": {},
   "outputs": [
    {
     "name": "stdout",
     "output_type": "stream",
     "text": [
      "\u001b[33mWARNING: You are using pip version 19.1, however version 19.1.1 is available.\n",
      "You should consider upgrading via the 'pip install --upgrade pip' command.\u001b[0m\n",
      "Successfully installed ibm-ai-openscale-2.1.7 ibm-cos-sdk-2.4.4 ibm-cos-sdk-core-2.4.4 ibm-cos-sdk-s3transfer-2.4.4 lomond-0.3.3 watson-machine-learning-client-1.0.365\n"
     ]
    }
   ],
   "source": [
    "!pip install --upgrade ibm-ai-openscale | tail -n 1"
   ]
  },
  {
   "cell_type": "markdown",
   "metadata": {},
   "source": [
    "### Action: Restart the kernel"
   ]
  },
  {
   "cell_type": "markdown",
   "metadata": {},
   "source": [
    "## Set up the workspace"
   ]
  },
  {
   "cell_type": "code",
   "execution_count": 1,
   "metadata": {
    "tags": [
     "register model from file"
    ]
   },
   "outputs": [],
   "source": [
    "import os\n",
    "import urllib.request\n",
    "from azureml.core import Workspace\n",
    "\n",
    "ws = Workspace.from_config()"
   ]
  },
  {
   "cell_type": "code",
   "execution_count": 2,
   "metadata": {},
   "outputs": [
    {
     "data": {
      "text/plain": [
       "{'id': '/subscriptions/744bca72-2299-451c-b682-ed6fb75fb671/resourceGroups/ai-ops-squad/providers/Microsoft.MachineLearningServices/workspaces/ai-ops-squad-server',\n",
       " 'name': 'ai-ops-squad-server',\n",
       " 'location': 'southcentralus',\n",
       " 'type': 'Microsoft.MachineLearningServices/workspaces',\n",
       " 'workspaceid': '16b06534-668c-4887-aa3c-a10d99eb27e4',\n",
       " 'description': '',\n",
       " 'friendlyName': '',\n",
       " 'creationTime': '2018-10-18T12:12:25.7036291+00:00',\n",
       " 'containerRegistry': '/subscriptions/744bca72-2299-451c-b682-ed6fb75fb671/resourcegroups/ai-ops-squad/providers/microsoft.containerregistry/registries/aiopssquadserv4124490709',\n",
       " 'keyVault': '/subscriptions/744bca72-2299-451c-b682-ed6fb75fb671/resourcegroups/ai-ops-squad/providers/microsoft.keyvault/vaults/aiopssquadserv3633962467',\n",
       " 'applicationInsights': '/subscriptions/744bca72-2299-451c-b682-ed6fb75fb671/resourcegroups/ai-ops-squad/providers/microsoft.insights/components/aiopssquadserv0294391293',\n",
       " 'identityPrincipalId': 'e057536e-7de0-4980-8a09-eabf1755973f',\n",
       " 'identityTenantId': 'fcf67057-50c9-4ad4-98f3-ffca64add9e9',\n",
       " 'identityType': 'SystemAssigned',\n",
       " 'storageAccount': '/subscriptions/744bca72-2299-451c-b682-ed6fb75fb671/resourcegroups/ai-ops-squad/providers/microsoft.storage/storageaccounts/aiopssquadserv0098803127'}"
      ]
     },
     "execution_count": 2,
     "metadata": {},
     "output_type": "execute_result"
    }
   ],
   "source": [
    "ws.get_details()"
   ]
  },
  {
   "cell_type": "markdown",
   "metadata": {},
   "source": [
    "## Set up the environment\n",
    "\n",
    "Start by setting up a testing environment.\n",
    "\n",
    "### Import packages\n",
    "\n",
    "Import the Python packages needed for this tutorial."
   ]
  },
  {
   "cell_type": "code",
   "execution_count": 3,
   "metadata": {
    "tags": [
     "check version"
    ]
   },
   "outputs": [
    {
     "name": "stdout",
     "output_type": "stream",
     "text": [
      "Azure ML SDK Version:  1.0.33\n"
     ]
    }
   ],
   "source": [
    "import azureml.core\n",
    "from ibm_ai_openscale import APIClient\n",
    "from ibm_ai_openscale.supporting_classes import PayloadRecord\n",
    "from ibm_ai_openscale.utils import *\n",
    "import os \n",
    "\n",
    "print(\"Azure ML SDK Version: \", azureml.core.VERSION)"
   ]
  },
  {
   "cell_type": "markdown",
   "metadata": {},
   "source": [
    "### Retrieve deployments\n",
    "\n",
    "You created a model deployment in your workspace in the previous tutorial. Now, let's list the deployments."
   ]
  },
  {
   "cell_type": "code",
   "execution_count": 4,
   "metadata": {},
   "outputs": [
    {
     "name": "stdout",
     "output_type": "stream",
     "text": [
      "scoring endpoint http://20.189.138.213:80/score\n"
     ]
    }
   ],
   "source": [
    "from azureml.core.webservice import AciWebservice\n",
    "\n",
    "credit_risk_deployment_name = 'credit-risk-prediction'\n",
    "credit_risk_scoring_endpoint = None\n",
    "\n",
    "webservices = AciWebservice.list(ws)\n",
    "for service in webservices:\n",
    "    if service.name == credit_risk_deployment_name:\n",
    "        credit_risk_scoring_endpoint = service.scoring_uri\n",
    "        \n",
    "print('scoring endpoint', credit_risk_scoring_endpoint)"
   ]
  },
  {
   "cell_type": "markdown",
   "metadata": {},
   "source": [
    "## Test endpoint locally\n",
    "\n",
    "Before creating a scoring endpoint wrapper let's test the original scoring endpoint."
   ]
  },
  {
   "cell_type": "code",
   "execution_count": 5,
   "metadata": {},
   "outputs": [],
   "source": [
    "scoring_data = {\"input\":[{\n",
    "                            'CheckingStatus': \"0_to_200\", 'LoanDuration': 31, 'CreditHistory': \"credits_paid_to_date\", 'LoanPurpose': \"other\",\n",
    "                            'LoanAmount': 1889, 'ExistingSavings': \"100_to_500\",'EmploymentDuration': \"less_1\",'InstallmentPercent': 3,'Sex': \"female\",\n",
    "                            'OthersOnLoan': \"none\",'CurrentResidenceDuration': 3, 'OwnsProperty': \"savings_insurance\", 'Age': 32,'InstallmentPlans': \"none\",\n",
    "                            'Housing': \"own\",'ExistingCreditsCount': 1,'Job': \"skilled\",'Dependents': 1,'Telephone': \"none\",'ForeignWorker': \"yes\",\n",
    "                        },\n",
    "                        {\n",
    "                            'CheckingStatus': \"no_checking\", 'LoanDuration': 13, 'CreditHistory': \"credits_paid_to_date\", 'LoanPurpose': \"car_new\",\n",
    "                            'LoanAmount': 1389, 'ExistingSavings': \"100_to_500\",'EmploymentDuration': \"1_to_4\",'InstallmentPercent': 2,'Sex': \"male\",\n",
    "                            'OthersOnLoan': \"none\",'CurrentResidenceDuration': 3, 'OwnsProperty': \"savings_insurance\", 'Age': 25,'InstallmentPlans': \"none\",\n",
    "                            'Housing': \"own\",'ExistingCreditsCount': 2,'Job': \"skilled\",'Dependents': 2,'Telephone': \"none\",'ForeignWorker': \"yes\",\n",
    "                        }]\n",
    "              }"
   ]
  },
  {
   "cell_type": "code",
   "execution_count": 6,
   "metadata": {},
   "outputs": [
    {
     "name": "stdout",
     "output_type": "stream",
     "text": [
      "POST to url http://20.189.138.213:80/score\n",
      "{'output': [{'Scored Labels': 'No Risk', 'Scored Probabilities': [0.8922524675865824, 0.10774753241341757]}, {'Scored Labels': 'No Risk', 'Scored Probabilities': [0.8335192848546905, 0.1664807151453095]}]}\n"
     ]
    }
   ],
   "source": [
    "import requests\n",
    "\n",
    "headers = {'Content-Type':'application/json'}\n",
    "resp = requests.post(credit_risk_scoring_endpoint, json=scoring_data, headers=headers)\n",
    "output_data = json.loads(resp.json())\n",
    "\n",
    "print(\"POST to url\", credit_risk_scoring_endpoint)\n",
    "print(output_data)"
   ]
  },
  {
   "cell_type": "markdown",
   "metadata": {},
   "source": [
    "## Implement the wrapper\n",
    "\n",
    "Once you've tested the deployment, let's implement the wrapper that will:\n",
    "* call the original scoring endpoint (credit risk)\n",
    "* conver the scoring request and response to the OpenScale format\n",
    "* store converted request and response as payload records in OpenScale data mart\n",
    "\n",
    "\n",
    "To build the correct environment for ACI, provide the following:\n",
    "* A scoring script to show how to use the scoring wrapper\n",
    "* An environment file to show what packages need to be installed\n",
    "* A configuration file to build the ACI\n",
    "\n",
    "\n",
    "### Create scoring script\n",
    "\n",
    "Create the scoring script, called score.py, used by the web service call to show how to use the deployment.\n",
    "\n",
    "You must include two required functions into the scoring script:\n",
    "* The `init()` function, which typically loads the required credentials into a global object. This function is run only once when the Docker container is started. \n",
    "\n",
    "* The `run(input_data)` function uses the original scoring endpoint to predict a value based on the input data. Next it makes format conversions and finally stored payload records in OpenScale data mart.\n"
   ]
  },
  {
   "cell_type": "markdown",
   "metadata": {},
   "source": [
    "### ACTION: You need to update below score.py content by changing the following lines:\n",
    "\n",
    "- `scoring_endpoint` - PUT your scoring endpoint there\n",
    "- `scoring_headers` - PUT your scoring header there\n",
    "- `openscale_credentials` - PUT your OpenScale credentials there\n",
    "- `openscale_subscription_uid` - PUT uid of created subscription there\n",
    "- you may also need to modify conversion methods to fit your custom format of payloads"
   ]
  },
  {
   "cell_type": "markdown",
   "metadata": {},
   "source": [
    "### Scoring endpoint wrapper code"
   ]
  },
  {
   "cell_type": "code",
   "execution_count": 7,
   "metadata": {},
   "outputs": [
    {
     "name": "stdout",
     "output_type": "stream",
     "text": [
      "Overwriting score.py\n"
     ]
    }
   ],
   "source": [
    "%%writefile score.py\n",
    "import json\n",
    "import numpy as np\n",
    "import os\n",
    "import time\n",
    "import requests\n",
    "from ibm_ai_openscale import APIClient\n",
    "from ibm_ai_openscale.supporting_classes import PayloadRecord\n",
    "\n",
    "\n",
    "def convert_user_input_2_openscale(input_data):\n",
    "    users_records = input_data['input']\n",
    "    openscale_fields = list(users_records[0])\n",
    "    openscale_values = [[rec[k] for k in openscale_fields] for rec in users_records] \n",
    "\n",
    "    return {'fields':openscale_fields, 'values':openscale_values}\n",
    "\n",
    "\n",
    "def convert_user_output_2_openscale(output_data):\n",
    "    output_data = json.loads(output_data)\n",
    "    users_records = output_data['output']\n",
    "    openscale_fields = list(users_records[0])\n",
    "    openscale_values = [[rec[k] for k in openscale_fields] for rec in users_records] \n",
    "\n",
    "    return {'fields':openscale_fields, 'values':openscale_values}\n",
    "\n",
    "\n",
    "def init():\n",
    "    global openscale_client\n",
    "    global openscale_credentials\n",
    "    global openscale_subscription_uid\n",
    "    global openscale_subscription\n",
    "    global scoring_endpoint\n",
    "    global scoring_headers\n",
    "    \n",
    "    scoring_endpoint = <PUT YOUR ENDPOINT URL HERE>\n",
    "    scoring_headers = {'Content-Type': 'application/json'}\n",
    "    openscale_credentials = {<PUT YOUR OpenScale CREDENTIALS HERE>}\n",
    "    openscale_subscription_uid = <PUT YOUR SUBSCRIPTION ID HERE>\n",
    "    openscale_client = APIClient(openscale_credentials)\n",
    "    openscale_subscription = openscale_client.data_mart.subscriptions.get(openscale_subscription_uid)\n",
    "    \n",
    "    \n",
    "def run(input_data):\n",
    "    try:\n",
    "        # ------ CALL SCORING ENDPOINT --------------\n",
    "        if type(input_data) is str:\n",
    "            input_data = json.loads(input_data)\n",
    "        \n",
    "        start_time = time.time()        \n",
    "        response = requests.post(scoring_endpoint, json=input_data, headers=scoring_headers)\n",
    "        response_time = int((time.time() - start_time)*1000)\n",
    "        output_data = response.json()\n",
    "        \n",
    "\n",
    "        # ------ PAYLOAD COVERSION TO OPENSCALE FORMAT and LOGGING --------------\n",
    "        openscale_input = convert_user_input_2_openscale(input_data)\n",
    "        openscale_output = convert_user_output_2_openscale(output_data)\n",
    "        \n",
    "        records_list = [PayloadRecord(request=openscale_input, response=openscale_output, response_time=response_time)]\n",
    "        openscale_subscription.payload_logging.store(records=records_list)       \n",
    "        \n",
    "        return output_data\n",
    "        \n",
    "    except Exception as e:\n",
    "        error = str(e)\n",
    "        return json.dumps({\"error\": error + str(input_data)})\n",
    "        "
   ]
  },
  {
   "cell_type": "markdown",
   "metadata": {},
   "source": [
    "## Test wrapper locally"
   ]
  },
  {
   "cell_type": "code",
   "execution_count": 14,
   "metadata": {},
   "outputs": [],
   "source": [
    "from score import *\n",
    "\n",
    "init()"
   ]
  },
  {
   "cell_type": "code",
   "execution_count": 9,
   "metadata": {},
   "outputs": [],
   "source": [
    "scores = run(scoring_data)"
   ]
  },
  {
   "cell_type": "code",
   "execution_count": 10,
   "metadata": {},
   "outputs": [
    {
     "data": {
      "text/plain": [
       "{'output': [{'Scored Labels': 'No Risk',\n",
       "   'Scored Probabilities': [0.8922524675865824, 0.10774753241341757]},\n",
       "  {'Scored Labels': 'No Risk',\n",
       "   'Scored Probabilities': [0.8335192848546905, 0.1664807151453095]}]}"
      ]
     },
     "execution_count": 10,
     "metadata": {},
     "output_type": "execute_result"
    }
   ],
   "source": [
    "json.loads(scores)"
   ]
  },
  {
   "cell_type": "code",
   "execution_count": 15,
   "metadata": {},
   "outputs": [
    {
     "data": {
      "text/html": [
       "<div>\n",
       "<style scoped>\n",
       "    .dataframe tbody tr th:only-of-type {\n",
       "        vertical-align: middle;\n",
       "    }\n",
       "\n",
       "    .dataframe tbody tr th {\n",
       "        vertical-align: top;\n",
       "    }\n",
       "\n",
       "    .dataframe thead th {\n",
       "        text-align: right;\n",
       "    }\n",
       "</style>\n",
       "<table border=\"1\" class=\"dataframe\">\n",
       "  <thead>\n",
       "    <tr style=\"text-align: right;\">\n",
       "      <th></th>\n",
       "      <th>scoring_id</th>\n",
       "      <th>scoring_timestamp</th>\n",
       "      <th>deployment_id</th>\n",
       "      <th>asset_revision</th>\n",
       "      <th>CheckingStatus</th>\n",
       "      <th>LoanDuration</th>\n",
       "      <th>CreditHistory</th>\n",
       "      <th>LoanPurpose</th>\n",
       "      <th>LoanAmount</th>\n",
       "      <th>ExistingSavings</th>\n",
       "      <th>...</th>\n",
       "      <th>Job</th>\n",
       "      <th>Dependents</th>\n",
       "      <th>Telephone</th>\n",
       "      <th>ForeignWorker</th>\n",
       "      <th>Scored Labels</th>\n",
       "      <th>Scored Probabilities</th>\n",
       "      <th>prediction_probability</th>\n",
       "      <th>debiased_prediction</th>\n",
       "      <th>debiased_probability</th>\n",
       "      <th>debiased_decoded_target</th>\n",
       "    </tr>\n",
       "  </thead>\n",
       "  <tbody>\n",
       "    <tr>\n",
       "      <th>0</th>\n",
       "      <td>4ea8ca46-185f-4e92-a151-a1bf1ca0f6c3-1</td>\n",
       "      <td>2019-05-17 09:56:20.310000+00:00</td>\n",
       "      <td>credit</td>\n",
       "      <td>None</td>\n",
       "      <td>0_to_200</td>\n",
       "      <td>31</td>\n",
       "      <td>credits_paid_to_date</td>\n",
       "      <td>other</td>\n",
       "      <td>1889</td>\n",
       "      <td>100_to_500</td>\n",
       "      <td>...</td>\n",
       "      <td>skilled</td>\n",
       "      <td>1</td>\n",
       "      <td>none</td>\n",
       "      <td>yes</td>\n",
       "      <td>No Risk</td>\n",
       "      <td>[0.8922524675865824, 0.10774753241341757]</td>\n",
       "      <td>0.892252</td>\n",
       "      <td>None</td>\n",
       "      <td>None</td>\n",
       "      <td>None</td>\n",
       "    </tr>\n",
       "  </tbody>\n",
       "</table>\n",
       "<p>1 rows × 30 columns</p>\n",
       "</div>"
      ],
      "text/plain": [
       "                               scoring_id                scoring_timestamp  \\\n",
       "0  4ea8ca46-185f-4e92-a151-a1bf1ca0f6c3-1 2019-05-17 09:56:20.310000+00:00   \n",
       "\n",
       "  deployment_id asset_revision CheckingStatus  LoanDuration  \\\n",
       "0        credit           None       0_to_200            31   \n",
       "\n",
       "          CreditHistory LoanPurpose  LoanAmount ExistingSavings  \\\n",
       "0  credits_paid_to_date       other        1889      100_to_500   \n",
       "\n",
       "            ...                 Job  Dependents Telephone ForeignWorker  \\\n",
       "0           ...             skilled           1      none           yes   \n",
       "\n",
       "   Scored Labels                       Scored Probabilities  \\\n",
       "0        No Risk  [0.8922524675865824, 0.10774753241341757]   \n",
       "\n",
       "   prediction_probability debiased_prediction debiased_probability  \\\n",
       "0                0.892252                None                 None   \n",
       "\n",
       "   debiased_decoded_target  \n",
       "0                     None  \n",
       "\n",
       "[1 rows x 30 columns]"
      ]
     },
     "execution_count": 15,
     "metadata": {},
     "output_type": "execute_result"
    }
   ],
   "source": [
    "latest_record = openscale_subscription.payload_logging.get_table_content(limit=1)\n",
    "latest_record"
   ]
  },
  {
   "cell_type": "markdown",
   "metadata": {},
   "source": [
    "## Deploy the wrapper as web service"
   ]
  },
  {
   "cell_type": "markdown",
   "metadata": {},
   "source": [
    "### Create environment file\n",
    "\n",
    "Next, create an environment file, called myenv.yml, that specifies all of the script's package dependencies. This file is used to ensure that all of those dependencies are installed in the Docker image. This model needs `scikit-learn` and `azureml-sdk`."
   ]
  },
  {
   "cell_type": "code",
   "execution_count": 16,
   "metadata": {
    "tags": [
     "set conda dependencies"
    ]
   },
   "outputs": [],
   "source": [
    "from azureml.core.conda_dependencies import CondaDependencies \n",
    "\n",
    "myenv = CondaDependencies()\n",
    "myenv.add_pip_package(\"ibm-ai-openscale\")\n",
    "\n",
    "with open(\"myenv.yml\",\"w\") as f:\n",
    "    f.write(myenv.serialize_to_string())"
   ]
  },
  {
   "cell_type": "markdown",
   "metadata": {},
   "source": [
    "Review the content of the `myenv.yml` file."
   ]
  },
  {
   "cell_type": "code",
   "execution_count": 17,
   "metadata": {},
   "outputs": [
    {
     "name": "stdout",
     "output_type": "stream",
     "text": [
      "# Conda environment specification. The dependencies defined in this file will\n",
      "# be automatically provisioned for runs with userManagedDependencies=False.\n",
      "\n",
      "# Details about the Conda environment file format:\n",
      "# https://conda.io/docs/user-guide/tasks/manage-environments.html#create-env-file-manually\n",
      "\n",
      "name: project_environment\n",
      "dependencies:\n",
      "  # The python interpreter version.\n",
      "  # Currently Azure ML only supports 3.5.2 and later.\n",
      "- python=3.6.2\n",
      "\n",
      "- pip:\n",
      "    # Required packages for AzureML execution, history, and data preparation.\n",
      "  - azureml-defaults\n",
      "  - ibm-ai-openscale\n",
      "\n"
     ]
    }
   ],
   "source": [
    "with open(\"myenv.yml\",\"r\") as f:\n",
    "    print(f.read())"
   ]
  },
  {
   "cell_type": "markdown",
   "metadata": {},
   "source": [
    "### Create configuration file\n",
    "\n",
    "Create a deployment configuration file and specify the number of CPUs and gigabyte of RAM needed for your ACI container. While it depends on your model, the default of 1 core and 1 gigabyte of RAM is usually sufficient for many models. If you feel you need more later, you would have to recreate the image and redeploy the service."
   ]
  },
  {
   "cell_type": "code",
   "execution_count": 18,
   "metadata": {
    "tags": [
     "configure web service",
     "aci"
    ]
   },
   "outputs": [],
   "source": [
    "from azureml.core.webservice import AciWebservice\n",
    "\n",
    "aciconfig = AciWebservice.deploy_configuration(cpu_cores=1, \n",
    "                                               memory_gb=1, \n",
    "                                               tags={\"data\": \"german credit risk\",  \"method\" : \"scoring-endpoint-wrapper\"}, \n",
    "                                               description='Credit risk scoring endpoint with payload logging')"
   ]
  },
  {
   "cell_type": "markdown",
   "metadata": {},
   "source": [
    "### Deploy in ACI\n",
    "Estimated time to complete: **about 7-8 minutes**\n",
    "\n",
    "Configure the image and deploy. The following code goes through these steps:\n",
    "\n",
    "1. Build an image using:\n",
    "   * The scoring file (`score.py`)\n",
    "   * The environment file (`myenv.yml`)\n",
    "   * The model file\n",
    "1. Register that image under the workspace. \n",
    "1. Send the image to the ACI container.\n",
    "1. Start up a container in ACI using the image.\n",
    "1. Get the web service HTTP endpoint."
   ]
  },
  {
   "cell_type": "markdown",
   "metadata": {},
   "source": [
    "## Scoring endpoint creation"
   ]
  },
  {
   "cell_type": "code",
   "execution_count": 19,
   "metadata": {},
   "outputs": [
    {
     "name": "stdout",
     "output_type": "stream",
     "text": [
      "Creating image\n",
      "Image creation operation finished for image credit-risk-prediction-wrapper:6, operation \"Succeeded\"\n",
      "Creating service\n",
      "Running...............\n",
      "SucceededACI service creation operation finished, operation \"Succeeded\"\n",
      "CPU times: user 989 ms, sys: 386 ms, total: 1.38 s\n",
      "Wall time: 3min 22s\n"
     ]
    }
   ],
   "source": [
    "%%time\n",
    "from azureml.core.webservice import Webservice\n",
    "from azureml.core.image import ContainerImage\n",
    "\n",
    "\n",
    "deployment_name = 'credit-risk-prediction-wrapper'\n",
    "\n",
    "# configure the image\n",
    "image_config = ContainerImage.image_configuration(execution_script=\"score.py\", \n",
    "                                                  runtime=\"python\", \n",
    "                                                  conda_file=\"myenv.yml\")\n",
    "\n",
    "service_az = Webservice.deploy_from_model(workspace=ws,\n",
    "                                       name=deployment_name,\n",
    "                                       deployment_config=aciconfig,\n",
    "                                       models=[],\n",
    "                                       image_config=image_config)\n",
    "\n",
    "service_az.wait_for_deployment(show_output=True)"
   ]
  },
  {
   "cell_type": "markdown",
   "metadata": {},
   "source": [
    "Get the scoring web service's HTTP endpoint, which accepts REST client calls. This endpoint can be shared with anyone who wants to test the web service or integrate it into an application."
   ]
  },
  {
   "cell_type": "code",
   "execution_count": 20,
   "metadata": {},
   "outputs": [
    {
     "name": "stdout",
     "output_type": "stream",
     "text": [
      "http://13.86.233.123:80/score\n"
     ]
    }
   ],
   "source": [
    "print(service_az.scoring_uri)"
   ]
  },
  {
   "cell_type": "markdown",
   "metadata": {},
   "source": [
    "## Test deployed wrapper\n",
    "\n",
    "The following code goes through these steps:\n",
    "1. Send the scoring request to the web service hosted in ACI. \n",
    "2. Print the returned predictions.\n",
    "3. Check if the scoring request and response has been logged as payload records in OpenScale"
   ]
  },
  {
   "cell_type": "code",
   "execution_count": 27,
   "metadata": {},
   "outputs": [
    {
     "name": "stdout",
     "output_type": "stream",
     "text": [
      "POST to url http://13.86.233.123:80/score\n",
      "{\"output\": [{\"Scored Labels\": \"No Risk\", \"Scored Probabilities\": [0.8922524675865824, 0.10774753241341757]}, {\"Scored Labels\": \"No Risk\", \"Scored Probabilities\": [0.8335192848546905, 0.1664807151453095]}]}\n"
     ]
    }
   ],
   "source": [
    "import requests\n",
    "\n",
    "headers = {'Content-Type':'application/json'}\n",
    "resp = requests.post(service_az.scoring_uri, json=scoring_data, headers=headers)\n",
    "\n",
    "print(\"POST to url\", service_az.scoring_uri)\n",
    "print(resp.json())"
   ]
  },
  {
   "cell_type": "code",
   "execution_count": 29,
   "metadata": {},
   "outputs": [
    {
     "data": {
      "text/html": [
       "<div>\n",
       "<style scoped>\n",
       "    .dataframe tbody tr th:only-of-type {\n",
       "        vertical-align: middle;\n",
       "    }\n",
       "\n",
       "    .dataframe tbody tr th {\n",
       "        vertical-align: top;\n",
       "    }\n",
       "\n",
       "    .dataframe thead th {\n",
       "        text-align: right;\n",
       "    }\n",
       "</style>\n",
       "<table border=\"1\" class=\"dataframe\">\n",
       "  <thead>\n",
       "    <tr style=\"text-align: right;\">\n",
       "      <th></th>\n",
       "      <th>scoring_id</th>\n",
       "      <th>scoring_timestamp</th>\n",
       "      <th>deployment_id</th>\n",
       "      <th>asset_revision</th>\n",
       "      <th>CheckingStatus</th>\n",
       "      <th>LoanDuration</th>\n",
       "      <th>CreditHistory</th>\n",
       "      <th>LoanPurpose</th>\n",
       "      <th>LoanAmount</th>\n",
       "      <th>ExistingSavings</th>\n",
       "      <th>...</th>\n",
       "      <th>Job</th>\n",
       "      <th>Dependents</th>\n",
       "      <th>Telephone</th>\n",
       "      <th>ForeignWorker</th>\n",
       "      <th>Scored Labels</th>\n",
       "      <th>Scored Probabilities</th>\n",
       "      <th>prediction_probability</th>\n",
       "      <th>debiased_prediction</th>\n",
       "      <th>debiased_probability</th>\n",
       "      <th>debiased_decoded_target</th>\n",
       "    </tr>\n",
       "  </thead>\n",
       "  <tbody>\n",
       "    <tr>\n",
       "      <th>0</th>\n",
       "      <td>fbf6ef96-99e2-434e-bc27-806ed419a521-1</td>\n",
       "      <td>2019-05-17 10:02:56.367000+00:00</td>\n",
       "      <td>credit</td>\n",
       "      <td>None</td>\n",
       "      <td>0_to_200</td>\n",
       "      <td>31</td>\n",
       "      <td>credits_paid_to_date</td>\n",
       "      <td>other</td>\n",
       "      <td>1889</td>\n",
       "      <td>100_to_500</td>\n",
       "      <td>...</td>\n",
       "      <td>skilled</td>\n",
       "      <td>1</td>\n",
       "      <td>none</td>\n",
       "      <td>yes</td>\n",
       "      <td>No Risk</td>\n",
       "      <td>[0.8922524675865824, 0.10774753241341757]</td>\n",
       "      <td>0.892252</td>\n",
       "      <td>None</td>\n",
       "      <td>None</td>\n",
       "      <td>None</td>\n",
       "    </tr>\n",
       "  </tbody>\n",
       "</table>\n",
       "<p>1 rows × 30 columns</p>\n",
       "</div>"
      ],
      "text/plain": [
       "                               scoring_id                scoring_timestamp  \\\n",
       "0  fbf6ef96-99e2-434e-bc27-806ed419a521-1 2019-05-17 10:02:56.367000+00:00   \n",
       "\n",
       "  deployment_id asset_revision CheckingStatus  LoanDuration  \\\n",
       "0        credit           None       0_to_200            31   \n",
       "\n",
       "          CreditHistory LoanPurpose  LoanAmount ExistingSavings  \\\n",
       "0  credits_paid_to_date       other        1889      100_to_500   \n",
       "\n",
       "            ...                 Job  Dependents Telephone ForeignWorker  \\\n",
       "0           ...             skilled           1      none           yes   \n",
       "\n",
       "   Scored Labels                       Scored Probabilities  \\\n",
       "0        No Risk  [0.8922524675865824, 0.10774753241341757]   \n",
       "\n",
       "   prediction_probability debiased_prediction debiased_probability  \\\n",
       "0                0.892252                None                 None   \n",
       "\n",
       "   debiased_decoded_target  \n",
       "0                     None  \n",
       "\n",
       "[1 rows x 30 columns]"
      ]
     },
     "execution_count": 29,
     "metadata": {},
     "output_type": "execute_result"
    }
   ],
   "source": [
    "time.sleep(4)\n",
    "\n",
    "latest_record = openscale_subscription.payload_logging.get_table_content(limit=1)\n",
    "latest_record"
   ]
  },
  {
   "cell_type": "code",
   "execution_count": null,
   "metadata": {},
   "outputs": [],
   "source": []
  }
 ],
 "metadata": {
  "authors": [
   {
    "name": "roastala"
   }
  ],
  "kernelspec": {
   "display_name": "Python 3",
   "language": "python",
   "name": "python3"
  },
  "language_info": {
   "codemirror_mode": {
    "name": "ipython",
    "version": 3
   },
   "file_extension": ".py",
   "mimetype": "text/x-python",
   "name": "python",
   "nbconvert_exporter": "python",
   "pygments_lexer": "ipython3",
   "version": "3.5.3"
  },
  "msauthor": "sgilley"
 },
 "nbformat": 4,
 "nbformat_minor": 2
}
