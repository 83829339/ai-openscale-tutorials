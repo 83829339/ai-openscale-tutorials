{
    "nbformat_minor": 1, 
    "cells": [
        {
            "source": "<table style=\"border: none\" align=\"left\">\n    <tr style=\"border: none\">\n       <th style=\"border: none\"><img src=\"https://raw.githubusercontent.com/pmservice/cars-4-you/master/static/images/logo.png\" width=\"200\" alt=\"Icon\"></th>\n       <th style=\"border: none\"><font face=\"verdana\" size=\"5\" color=\"black\"><b>Business area prediction and action recommendation</b></th>\n   </tr>\n</table>", 
            "cell_type": "markdown", 
            "metadata": {}
        }, 
        {
            "source": "<img align=left src=\"https://github.com/pmservice/cars-4-you/raw/master/static/images/action.png\" width=\"550\" alt=\"Icon\">", 
            "cell_type": "markdown", 
            "metadata": {}
        }, 
        {
            "source": "Contents\n- [0. Setup](#setup)\n- [1. Introduction](#introduction)\n- [2. Load and explore data](#load)\n- [3. Create an Apache Spark machine learning model](#model)\n- [4. Store the model in the Watson Machine Learning repository](#persistence)\n- [5. Download the model](#download)\n- [6. Deploy the model in the IBM Cloud](#persistence)\n- [7. Score the model](#score)", 
            "cell_type": "markdown", 
            "metadata": {}
        }, 
        {
            "source": "**Note:** This notebook works correctly with kernel `Python 3.5 with Spark 2.1`.", 
            "cell_type": "markdown", 
            "metadata": {}
        }, 
        {
            "source": "<a id=\"setup\"></a>\n## 0. Setup\n\nIn this section please use below cell to upgrade the `watson-machine-learning-client`.", 
            "cell_type": "markdown", 
            "metadata": {}
        }, 
        {
            "source": "### Training data setup\n\nBefore you use the sample code in this notebook, you must perform the following setup tasks:\n\n- Create a Watson Machine Learning Service instance (a free plan is offered).\n- Create a Compose for PostgreSQL instance.", 
            "cell_type": "markdown", 
            "metadata": {}
        }, 
        {
            "source": "### Package installation", 
            "cell_type": "markdown", 
            "metadata": {}
        }, 
        {
            "execution_count": 1, 
            "cell_type": "code", 
            "metadata": {}, 
            "outputs": [
                {
                    "output_type": "stream", 
                    "name": "stdout", 
                    "text": "Requirement already up-to-date: watson-machine-learning-client in /gpfs/global_fs01/sym_shared/YPProdSpark/user/s86b-18e61b28c674e4-3fbaf243aed6/.local/lib/python3.5/site-packages (1.0.338)\nRequirement not upgraded as not directly required: tqdm in /gpfs/global_fs01/sym_shared/YPProdSpark/user/s86b-18e61b28c674e4-3fbaf243aed6/.local/lib/python3.5/site-packages (from watson-machine-learning-client) (4.23.4)\nRequirement not upgraded as not directly required: tabulate in /gpfs/global_fs01/sym_shared/YPProdSpark/user/s86b-18e61b28c674e4-3fbaf243aed6/.local/lib/python3.5/site-packages (from watson-machine-learning-client) (0.8.2)\nRequirement not upgraded as not directly required: urllib3 in /gpfs/global_fs01/sym_shared/YPProdSpark/user/s86b-18e61b28c674e4-3fbaf243aed6/.local/lib/python3.5/site-packages (from watson-machine-learning-client) (1.23)\nRequirement not upgraded as not directly required: certifi in /gpfs/global_fs01/sym_shared/YPProdSpark/user/s86b-18e61b28c674e4-3fbaf243aed6/.local/lib/python3.5/site-packages (from watson-machine-learning-client) (2018.4.16)\nRequirement not upgraded as not directly required: pandas in /gpfs/global_fs01/sym_shared/YPProdSpark/user/s86b-18e61b28c674e4-3fbaf243aed6/.local/lib/python3.5/site-packages (from watson-machine-learning-client) (0.23.1)\nRequirement not upgraded as not directly required: lomond in /gpfs/global_fs01/sym_shared/YPProdSpark/user/s86b-18e61b28c674e4-3fbaf243aed6/.local/lib/python3.5/site-packages (from watson-machine-learning-client) (0.3.1)\nRequirement not upgraded as not directly required: ibm-cos-sdk in /gpfs/global_fs01/sym_shared/YPProdSpark/user/s86b-18e61b28c674e4-3fbaf243aed6/.local/lib/python3.5/site-packages (from watson-machine-learning-client) (2.1.1)\nRequirement not upgraded as not directly required: requests in /gpfs/global_fs01/sym_shared/YPProdSpark/user/s86b-18e61b28c674e4-3fbaf243aed6/.local/lib/python3.5/site-packages (from watson-machine-learning-client) (2.19.1)\nRequirement not upgraded as not directly required: pytz>=2011k in /gpfs/global_fs01/sym_shared/YPProdSpark/user/s86b-18e61b28c674e4-3fbaf243aed6/.local/lib/python3.5/site-packages (from pandas->watson-machine-learning-client) (2018.4)\nRequirement not upgraded as not directly required: numpy>=1.9.0 in /gpfs/global_fs01/sym_shared/YPProdSpark/user/s86b-18e61b28c674e4-3fbaf243aed6/.local/lib/python3.5/site-packages (from pandas->watson-machine-learning-client) (1.14.5)\nRequirement not upgraded as not directly required: python-dateutil>=2.5.0 in /gpfs/global_fs01/sym_shared/YPProdSpark/user/s86b-18e61b28c674e4-3fbaf243aed6/.local/lib/python3.5/site-packages (from pandas->watson-machine-learning-client) (2.7.3)\nRequirement not upgraded as not directly required: six>=1.10.0 in /gpfs/global_fs01/sym_shared/YPProdSpark/user/s86b-18e61b28c674e4-3fbaf243aed6/.local/lib/python3.5/site-packages (from lomond->watson-machine-learning-client) (1.11.0)\nRequirement not upgraded as not directly required: ibm-cos-sdk-core==2.*,>=2.0.0 in /gpfs/global_fs01/sym_shared/YPProdSpark/user/s86b-18e61b28c674e4-3fbaf243aed6/.local/lib/python3.5/site-packages (from ibm-cos-sdk->watson-machine-learning-client) (2.1.1)\nRequirement not upgraded as not directly required: ibm-cos-sdk-s3transfer==2.*,>=2.0.0 in /gpfs/global_fs01/sym_shared/YPProdSpark/user/s86b-18e61b28c674e4-3fbaf243aed6/.local/lib/python3.5/site-packages (from ibm-cos-sdk->watson-machine-learning-client) (2.1.1)\nRequirement not upgraded as not directly required: chardet<3.1.0,>=3.0.2 in /gpfs/global_fs01/sym_shared/YPProdSpark/user/s86b-18e61b28c674e4-3fbaf243aed6/.local/lib/python3.5/site-packages (from requests->watson-machine-learning-client) (3.0.4)\nRequirement not upgraded as not directly required: idna<2.8,>=2.5 in /gpfs/global_fs01/sym_shared/YPProdSpark/user/s86b-18e61b28c674e4-3fbaf243aed6/.local/lib/python3.5/site-packages (from requests->watson-machine-learning-client) (2.7)\nRequirement not upgraded as not directly required: docutils>=0.10 in /usr/local/src/conda3_runtime.v47/home/envs/DSX-Python35-Spark/lib/python3.5/site-packages (from ibm-cos-sdk-core==2.*,>=2.0.0->ibm-cos-sdk->watson-machine-learning-client) (0.14)\nRequirement not upgraded as not directly required: jmespath<1.0.0,>=0.7.1 in /usr/local/src/conda3_runtime.v47/home/envs/DSX-Python35-Spark/lib/python3.5/site-packages (from ibm-cos-sdk-core==2.*,>=2.0.0->ibm-cos-sdk->watson-machine-learning-client) (0.9.3)\n\u001b[31mtensorflow 1.3.0 requires tensorflow-tensorboard<0.2.0,>=0.1.0, which is not installed.\u001b[0m\n"
                }
            ], 
            "source": "!rm -rf $PIP_BUILD\n!pip install --upgrade watson-machine-learning-client"
        }, 
        {
            "source": "**Note**: Please restart the kernel (Kernel -> Restart)", 
            "cell_type": "markdown", 
            "metadata": {}
        }, 
        {
            "source": "<a id=\"introduction\"></a>\n## 1. Introduction\n\nThis notebook defines, trains and deploys the model that recommends specific Action for unstatisfied customers.", 
            "cell_type": "markdown", 
            "metadata": {}
        }, 
        {
            "source": "<a id=\"load\"></a>\n## 2. Load and explore data", 
            "cell_type": "markdown", 
            "metadata": {}
        }, 
        {
            "source": "In this section you will upload training data to the database, load it as an Apache Spark DataFrame and perform a basic exploration.", 
            "cell_type": "markdown", 
            "metadata": {}
        }, 
        {
            "source": "Read data into Spark DataFrame from CSV file and show sample record.", 
            "cell_type": "markdown", 
            "metadata": {}
        }, 
        {
            "source": "### 2.1 Load data from git", 
            "cell_type": "markdown", 
            "metadata": {}
        }, 
        {
            "execution_count": 1, 
            "cell_type": "code", 
            "metadata": {}, 
            "outputs": [
                {
                    "output_type": "stream", 
                    "name": "stdout", 
                    "text": "--2018-11-15 08:37:40--  https://github.com/pmservice/ai-openscale-tutorials/raw/master/notebooks/data/car_rental_training_data.csv\nResolving github.com (github.com)... 192.30.253.112, 192.30.253.113\nConnecting to github.com (github.com)|192.30.253.112|:443... connected.\nHTTP request sent, awaiting response... 302 Found\nLocation: https://raw.githubusercontent.com/pmservice/ai-openscale-tutorials/master/notebooks/data/car_rental_training_data.csv [following]\n--2018-11-15 08:37:40--  https://raw.githubusercontent.com/pmservice/ai-openscale-tutorials/master/notebooks/data/car_rental_training_data.csv\nResolving raw.githubusercontent.com (raw.githubusercontent.com)... 151.101.48.133\nConnecting to raw.githubusercontent.com (raw.githubusercontent.com)|151.101.48.133|:443... connected.\nHTTP request sent, awaiting response... 200 OK\nLength: 79518 (78K) [text/plain]\nSaving to: \u2018car_rental_training_data.csv.3\u2019\n\n100%[======================================>] 79,518      --.-K/s   in 0.003s  \n\n2018-11-15 08:37:40 (28.9 MB/s) - \u2018car_rental_training_data.csv.3\u2019 saved [79518/79518]\n\n"
                }
            ], 
            "source": "!wget https://github.com/pmservice/ai-openscale-tutorials/raw/master/notebooks/data/car_rental_training_data.csv"
        }, 
        {
            "execution_count": 2, 
            "cell_type": "code", 
            "metadata": {}, 
            "outputs": [
                {
                    "execution_count": 2, 
                    "metadata": {}, 
                    "data": {
                        "text/plain": "Row(ID=83, Gender='Female', Status='M', Children=2, Age=48.85, Customer_Status='Inactive', Car_Owner='Yes', Customer_Service='I thought the representative handled the initial situation badly.  The company was out of cars, with none coming in that day.  Then the representative tried to find us a car at another franchise.  There they were successful.', Satisfaction=0, Business_Area='Product: Availability/Variety/Size', Action='Free Upgrade')"
                    }, 
                    "output_type": "execute_result"
                }
            ], 
            "source": "from pyspark.sql import SparkSession\nimport json\n\nspark = SparkSession.builder.getOrCreate()\ndf_data = spark.read.csv(path=\"car_rental_training_data.csv\", sep=\";\", header=True, inferSchema=True)\ndf_data.head()"
        }, 
        {
            "source": "### 2.2 Upload data to PostgreSQL database.", 
            "cell_type": "markdown", 
            "metadata": {}
        }, 
        {
            "source": "**TIP:** Put your service credentials here. Just copy paste content of Credentials tab from service details (IBM Cloud)", 
            "cell_type": "markdown", 
            "metadata": {}
        }, 
        {
            "execution_count": 3, 
            "cell_type": "code", 
            "metadata": {}, 
            "outputs": [], 
            "source": "postgres_credentials = {\n    \"db_type\": \"postgresql\",\n    \"name\": \"<put correct name here>\",\n    \"uri\": \"<put correct uri here>\"\n}"
        }, 
        {
            "execution_count": 4, 
            "cell_type": "code", 
            "metadata": {}, 
            "outputs": [], 
            "source": "# The code was removed by Watson Studio for sharing."
        }, 
        {
            "source": "Put your schema name here.", 
            "cell_type": "markdown", 
            "metadata": {}
        }, 
        {
            "execution_count": 5, 
            "cell_type": "code", 
            "metadata": {}, 
            "outputs": [], 
            "source": "schemaName = 'data_mart'"
        }, 
        {
            "source": "You can use the code below to create the schema. If the schema already exists skipp this cell.", 
            "cell_type": "markdown", 
            "metadata": {}
        }, 
        {
            "execution_count": 1, 
            "cell_type": "code", 
            "metadata": {}, 
            "outputs": [
                {
                    "output_type": "stream", 
                    "name": "stdout", 
                    "text": "Collecting psycopg2-binary\n\u001b[?25l  Downloading https://files.pythonhosted.org/packages/f1/50/12c3134e6dc7295d92f97d12e625714c9d6cdd4740feebe81b27663fab18/psycopg2_binary-2.7.6.1-cp35-cp35m-manylinux1_x86_64.whl (2.7MB)\n\u001b[K    100% |\u2588\u2588\u2588\u2588\u2588\u2588\u2588\u2588\u2588\u2588\u2588\u2588\u2588\u2588\u2588\u2588\u2588\u2588\u2588\u2588\u2588\u2588\u2588\u2588\u2588\u2588\u2588\u2588\u2588\u2588\u2588\u2588| 2.7MB 7.9MB/s eta 0:00:01\n\u001b[31mnotebook 5.0.0 requires nbconvert, which is not installed.\u001b[0m\n\u001b[31mipywidgets 6.0.0 requires widgetsnbextension~=2.0.0, which is not installed.\u001b[0m\n\u001b[31mtensorflow 1.3.0 requires tensorflow-tensorboard<0.2.0,>=0.1.0, which is not installed.\u001b[0m\n\u001b[?25hInstalling collected packages: psycopg2-binary\nSuccessfully installed psycopg2-binary-2.7.6.1\n"
                }
            ], 
            "source": "!pip install psycopg2-binary"
        }, 
        {
            "execution_count": 6, 
            "cell_type": "code", 
            "metadata": {}, 
            "outputs": [
                {
                    "output_type": "stream", 
                    "name": "stderr", 
                    "text": "/gpfs/fs01/user/s86b-18e61b28c674e4-3fbaf243aed6/.local/lib/python3.5/site-packages/psycopg2/__init__.py:144: UserWarning: The psycopg2 wheel package will be renamed from release 2.8; in order to keep installing from binary please use \"pip install psycopg2-binary\" instead. For details see: <http://initd.org/psycopg/docs/install.html#binary-install-from-pypi>.\n  \"\"\")\n"
                }
            ], 
            "source": "import psycopg2\n\nhostname = postgres_credentials['uri'].split('@')[1].split(':')[0]\nport = postgres_credentials['uri'].split('@')[1].split(':')[1].split('/')[0]\nuser = postgres_credentials['uri'].split('@')[0].split('//')[1].split(':')[0]\npassword = postgres_credentials['uri'].split('@')[0].split('//')[1].split(':')[1]\ndbname = 'compose'\n\nconn_string = \"host=\" + hostname + \" port=\" + port + \" dbname=\" + dbname + \" user=\" + user + \" password=\" + password\nconn = psycopg2.connect(conn_string)\nconn.autocommit = True\ncursor = conn.cursor()\ntry:\n    query = \"drop schema \" + schemaName + \" cascade\"\n    cursor.execute(query)\nexcept:\n    pass\nfinally:    \n    try:\n        query = \"create schema \" + schemaName\n        cursor.execute(query)\n    finally:    \n        cursor.close()\n        conn.close()"
        }, 
        {
            "source": "Create training table.", 
            "cell_type": "markdown", 
            "metadata": {}
        }, 
        {
            "execution_count": 7, 
            "cell_type": "code", 
            "metadata": {}, 
            "outputs": [], 
            "source": "table_name = \"CAR_RENTAL_TRAINING\"\n\nconn = psycopg2.connect(conn_string)\nconn.autocommit = True\ncursor = conn.cursor()\ncursor.execute(\"\"\"\nCREATE TABLE {}.{}(\n    ID integer,\n    Gender text,\n    Status text,\n    Children integer,\n    Age decimal(14,6),\n    Customer_Status text,\n    Car_Owner text,\n    Customer_Service text,\n    Satisfaction integer,\n    Business_Area text,\n    Action text\n)\n\"\"\".format(schemaName, table_name))\ncursor.close()\nconn.close()"
        }, 
        {
            "source": "Upload training data to created table.", 
            "cell_type": "markdown", 
            "metadata": {}
        }, 
        {
            "execution_count": 8, 
            "cell_type": "code", 
            "metadata": {}, 
            "outputs": [], 
            "source": "conn = psycopg2.connect(conn_string)\nconn.autocommit = True\ncursor = conn.cursor()\nwith open('car_rental_training_data.csv', 'r') as f:\n    next(f)\n    cursor.copy_from(file=f, table='{}.CAR_RENTAL_TRAINING'.format(schemaName), sep=';')\ncursor.close()\nconn.close()"
        }, 
        {
            "source": "Print first row in table.", 
            "cell_type": "markdown", 
            "metadata": {}
        }, 
        {
            "execution_count": 9, 
            "cell_type": "code", 
            "metadata": {}, 
            "outputs": [
                {
                    "output_type": "stream", 
                    "name": "stdout", 
                    "text": "[(83, 'Female', 'M', 2, Decimal('48.850000'), 'Inactive', 'Yes', 'I thought the representative handled the initial situation badly.  The company was out of cars, with none coming in that day.  Then the representative tried to find us a car at another franchise.  There they were successful.', 0, 'Product: Availability/Variety/Size', 'Free Upgrade')]\n"
                }
            ], 
            "source": "conn = psycopg2.connect(conn_string)\nconn.autocommit = True\ncursor = conn.cursor()\ncursor.execute(\"\"\"\nSELECT * FROM {}.CAR_RENTAL_TRAINING LIMIT 1\n\"\"\".format(schemaName))\nresult = cursor.fetchall()\ncursor.close()\nconn.close()\n\nprint(result)"
        }, 
        {
            "source": "### 2.3 Explore data", 
            "cell_type": "markdown", 
            "metadata": {}
        }, 
        {
            "execution_count": 10, 
            "cell_type": "code", 
            "metadata": {}, 
            "outputs": [
                {
                    "output_type": "stream", 
                    "name": "stdout", 
                    "text": "root\n |-- ID: integer (nullable = true)\n |-- Gender: string (nullable = true)\n |-- Status: string (nullable = true)\n |-- Children: integer (nullable = true)\n |-- Age: double (nullable = true)\n |-- Customer_Status: string (nullable = true)\n |-- Car_Owner: string (nullable = true)\n |-- Customer_Service: string (nullable = true)\n |-- Satisfaction: integer (nullable = true)\n |-- Business_Area: string (nullable = true)\n |-- Action: string (nullable = true)\n\n"
                }
            ], 
            "source": "df_data.printSchema()"
        }, 
        {
            "source": "**Tip:** Code above can be inserted using Data menu.  You have to select `Insert SparkSession DataFrame` option.\n\n**Note:** Inserted code is modified to work with code in cells below.", 
            "cell_type": "markdown", 
            "metadata": {}
        }, 
        {
            "source": "As you can see, the data contains eleven fields. `Action` field is the one you would like to predict using feedback data in `Customer_Service` field.", 
            "cell_type": "markdown", 
            "metadata": {}
        }, 
        {
            "execution_count": 11, 
            "cell_type": "code", 
            "metadata": {}, 
            "outputs": [
                {
                    "output_type": "stream", 
                    "name": "stdout", 
                    "text": "Number of records: 486\n"
                }
            ], 
            "source": "print(\"Number of records: \" + str(df_data.count()))"
        }, 
        {
            "execution_count": 12, 
            "cell_type": "code", 
            "metadata": {}, 
            "outputs": [
                {
                    "output_type": "stream", 
                    "name": "stdout", 
                    "text": "+----------------------------------+-----+\n|Business_area                     |count|\n+----------------------------------+-----+\n|Service: Accessibility            |26   |\n|Product: Functioning              |150  |\n|Service: Attitude                 |24   |\n|Service: Orders/Contracts         |32   |\n|Product: Availability/Variety/Size|42   |\n|Product: Pricing and Billing      |24   |\n|Product: Information              |8    |\n|Service: Knowledge                |180  |\n+----------------------------------+-----+\n\n"
                }
            ], 
            "source": "df_data.select('Business_area').groupBy('Business_area').count().show(truncate=False)"
        }, 
        {
            "execution_count": 13, 
            "cell_type": "code", 
            "metadata": {}, 
            "outputs": [
                {
                    "output_type": "stream", 
                    "name": "stdout", 
                    "text": "+-------------------------+-----+\n|Action                   |count|\n+-------------------------+-----+\n|NA                       |274  |\n|Voucher                  |42   |\n|Premium features         |30   |\n|On-demand pickup location|56   |\n|Free Upgrade             |84   |\n+-------------------------+-----+\n\n"
                }
            ], 
            "source": "df_data.select('Action').groupBy('Action').count().show(truncate=False)"
        }, 
        {
            "source": "<a id=\"model\"></a>\n## 3. Create an Apache Spark machine learning model\n\nIn this section you will learn how to:\n\n- [3.1 Prepare data for training a model](#prep)\n- [3.2 Create an Apache Spark machine learning pipeline](#pipe)\n- [3.3 Train a model](#train)", 
            "cell_type": "markdown", 
            "metadata": {}
        }, 
        {
            "source": "<a id=\"prep\"></a>\n### 3.1 Prepare data for training a model\n\nIn this subsection you will split your data into: train and test data set.", 
            "cell_type": "markdown", 
            "metadata": {}
        }, 
        {
            "execution_count": 14, 
            "cell_type": "code", 
            "metadata": {}, 
            "outputs": [
                {
                    "output_type": "stream", 
                    "name": "stdout", 
                    "text": "Number of training records: 391\nNumber of testing records : 95\n"
                }
            ], 
            "source": "train_data, test_data = df_data.randomSplit([0.8, 0.2], 24)\n\nprint(\"Number of training records: \" + str(train_data.count()))\nprint(\"Number of testing records : \" + str(test_data.count()))"
        }, 
        {
            "source": "### 3.2 Create the pipeline<a id=\"pipe\"></a>", 
            "cell_type": "markdown", 
            "metadata": {}
        }, 
        {
            "source": "In this section you will create an Apache Spark machine learning pipeline and then train the model.", 
            "cell_type": "markdown", 
            "metadata": {}
        }, 
        {
            "execution_count": 15, 
            "cell_type": "code", 
            "metadata": {}, 
            "outputs": [], 
            "source": "from pyspark.ml.feature import OneHotEncoder, StringIndexer, IndexToString, VectorAssembler, HashingTF, IDF, Tokenizer, SQLTransformer\nfrom pyspark.ml.classification import RandomForestClassifier, DecisionTreeClassifier, LogisticRegression\nfrom pyspark.ml.evaluation import MulticlassClassificationEvaluator\nfrom pyspark.ml import Pipeline, Model, PipelineModel"
        }, 
        {
            "source": "In the following step, use the StringIndexer transformer to convert all the string fields to numeric ones.", 
            "cell_type": "markdown", 
            "metadata": {}
        }, 
        {
            "execution_count": 16, 
            "cell_type": "code", 
            "metadata": {}, 
            "outputs": [], 
            "source": "tokenizer = Tokenizer(inputCol=\"Customer_Service\", outputCol=\"words\")"
        }, 
        {
            "execution_count": 17, 
            "cell_type": "code", 
            "metadata": {}, 
            "outputs": [], 
            "source": "hashing_tf = HashingTF(inputCol=tokenizer.getOutputCol(), outputCol='hash')\nidf = IDF(inputCol=hashing_tf.getOutputCol(), outputCol=\"area_features\", minDocFreq=5)"
        }, 
        {
            "execution_count": 18, 
            "cell_type": "code", 
            "metadata": {}, 
            "outputs": [], 
            "source": "string_indexer_area = StringIndexer(inputCol=\"Business_Area\", outputCol=\"area_label\").fit(df_data)"
        }, 
        {
            "execution_count": 19, 
            "cell_type": "code", 
            "metadata": {}, 
            "outputs": [], 
            "source": "dt_area = DecisionTreeClassifier(labelCol='area_label', featuresCol=idf.getOutputCol() , predictionCol='prediction_area', probabilityCol='probability_area', rawPredictionCol='rawPrediction_area')"
        }, 
        {
            "source": "Finally, convert the indexed labels back to original labels.", 
            "cell_type": "markdown", 
            "metadata": {}
        }, 
        {
            "execution_count": 20, 
            "cell_type": "code", 
            "metadata": {}, 
            "outputs": [], 
            "source": "labelConverter = IndexToString(inputCol=\"prediction_area\", outputCol=\"predictedAreaLabel\", labels=string_indexer_area.labels)"
        }, 
        {
            "execution_count": 21, 
            "cell_type": "code", 
            "metadata": {}, 
            "outputs": [], 
            "source": "string_indexer_gender = StringIndexer(inputCol=\"Gender\", outputCol=\"gender_ix\")\nstring_indexer_customer_status = StringIndexer(inputCol=\"Customer_Status\", outputCol=\"customer_status_ix\")\nstring_indexer_status = StringIndexer(inputCol=\"Status\", outputCol=\"status_ix\")\nstring_indexer_owner = StringIndexer(inputCol=\"Car_Owner\", outputCol=\"owner_ix\")"
        }, 
        {
            "execution_count": 22, 
            "cell_type": "code", 
            "metadata": {}, 
            "outputs": [], 
            "source": "assembler = VectorAssembler(inputCols=[\"gender_ix\", \"customer_status_ix\", \"status_ix\", \"owner_ix\", \"Children\", \"Age\", \"Satisfaction\", idf.getOutputCol()], outputCol=\"features\")"
        }, 
        {
            "execution_count": 23, 
            "cell_type": "code", 
            "metadata": {}, 
            "outputs": [], 
            "source": "string_indexer_action = StringIndexer(inputCol=\"Action\", outputCol=\"label\").fit(df_data)"
        }, 
        {
            "execution_count": 24, 
            "cell_type": "code", 
            "metadata": {}, 
            "outputs": [], 
            "source": "label_action_converter = IndexToString(inputCol=\"prediction\", outputCol=\"predictedActionLabel\", labels=string_indexer_action.labels)"
        }, 
        {
            "execution_count": 25, 
            "cell_type": "code", 
            "metadata": {}, 
            "outputs": [], 
            "source": "dt_action = DecisionTreeClassifier()"
        }, 
        {
            "execution_count": 26, 
            "cell_type": "code", 
            "metadata": {}, 
            "outputs": [], 
            "source": "vector_assembler = VectorAssembler(inputCols=[\"gender_ix\", \"customer_status_ix\", \"status_ix\", \"owner_ix\", \"Children\", \"Age\", \"Satisfaction\", 'prediction_area'], outputCol=\"features\")"
        }, 
        {
            "execution_count": 27, 
            "cell_type": "code", 
            "metadata": {}, 
            "outputs": [], 
            "source": "pipeline = Pipeline(stages=[tokenizer, hashing_tf, idf, string_indexer_area, dt_area, labelConverter, string_indexer_gender, string_indexer_customer_status, string_indexer_status, string_indexer_action, string_indexer_owner, vector_assembler, dt_action, label_action_converter])"
        }, 
        {
            "source": "### 3.3 Train the model", 
            "cell_type": "markdown", 
            "metadata": {}
        }, 
        {
            "source": "**Hint:** Training takes ~10 minutes to complete.", 
            "cell_type": "markdown", 
            "metadata": {}
        }, 
        {
            "execution_count": 28, 
            "cell_type": "code", 
            "metadata": {}, 
            "outputs": [], 
            "source": "model = pipeline.fit(train_data)"
        }, 
        {
            "source": "### 3.4 Evaluate the model", 
            "cell_type": "markdown", 
            "metadata": {}
        }, 
        {
            "execution_count": 29, 
            "cell_type": "code", 
            "metadata": {}, 
            "outputs": [], 
            "source": "predictions = model.transform(test_data)"
        }, 
        {
            "execution_count": 30, 
            "cell_type": "code", 
            "metadata": {}, 
            "outputs": [
                {
                    "output_type": "stream", 
                    "name": "stdout", 
                    "text": "Accuracy = 0.789474\n"
                }
            ], 
            "source": "evaluator = MulticlassClassificationEvaluator(labelCol=\"label\", predictionCol=\"prediction\", metricName=\"accuracy\")\naccuracy = evaluator.evaluate(predictions)\n\nprint(\"Accuracy = %g\" % accuracy)"
        }, 
        {
            "source": "<a id=\"persistence\"></a>\n## 4. Store the model in the repository", 
            "cell_type": "markdown", 
            "metadata": {
                "collapsed": true
            }
        }, 
        {
            "source": "In this section you will store trained model to Watson Machine Learning repository. When model is stored some metada is optional, however we provide it to be able to configure Continuous Learning System.", 
            "cell_type": "markdown", 
            "metadata": {
                "collapsed": true
            }
        }, 
        {
            "execution_count": 31, 
            "cell_type": "code", 
            "metadata": {}, 
            "outputs": [
                {
                    "output_type": "stream", 
                    "name": "stderr", 
                    "text": "/usr/local/src/conda3_runtime/home/envs/DSX-Python35-Spark/lib/python3.5/site-packages/sklearn/cross_validation.py:41: DeprecationWarning: This module was deprecated in version 0.18 in favor of the model_selection module into which all the refactored classes and functions are moved. Also note that the interface of the new CV iterators are different from that of this module. This module will be removed in 0.20.\n  \"This module will be removed in 0.20.\", DeprecationWarning)\n2018-11-15 08:41:31,086 - watson_machine_learning_client.metanames - WARNING - 'AUTHOR_EMAIL' meta prop is deprecated. It will be ignored.\n"
                }
            ], 
            "source": "from watson_machine_learning_client import WatsonMachineLearningAPIClient"
        }, 
        {
            "source": "We need Watson Machine Learning credentials to be able to store model in repository.", 
            "cell_type": "markdown", 
            "metadata": {}
        }, 
        {
            "source": "**TIP:** Put watson Machine Learning service credentials here.", 
            "cell_type": "markdown", 
            "metadata": {}
        }, 
        {
            "execution_count": 32, 
            "cell_type": "code", 
            "metadata": {}, 
            "outputs": [], 
            "source": "wml_credentials = {\n  \"apikey\": \"***\",\n  \"iam_apikey_description\": \"***\",\n  \"iam_apikey_name\": \"***\",\n  \"iam_role_crn\": \"***\",\n  \"iam_serviceid_crn\": \"***\",\n  \"instance_id\": \"***\",\n  \"password\": \"***\",\n  \"url\": \"https://us-south.ml.cloud.ibm.com\",\n  \"username\": \"***\"\n}"
        }, 
        {
            "execution_count": 33, 
            "cell_type": "code", 
            "metadata": {}, 
            "outputs": [], 
            "source": "# The code was removed by Watson Studio for sharing."
        }, 
        {
            "execution_count": 34, 
            "cell_type": "code", 
            "metadata": {}, 
            "outputs": [], 
            "source": "client = WatsonMachineLearningAPIClient(wml_credentials)"
        }, 
        {
            "execution_count": 35, 
            "cell_type": "code", 
            "metadata": {}, 
            "outputs": [
                {
                    "execution_count": 35, 
                    "metadata": {}, 
                    "data": {
                        "text/plain": "'1.0.338'"
                    }, 
                    "output_type": "execute_result"
                }
            ], 
            "source": "client.version"
        }, 
        {
            "source": "### 4.2 Save the pipeline and model<a id=\"save\"></a>", 
            "cell_type": "markdown", 
            "metadata": {}
        }, 
        {
            "execution_count": 36, 
            "cell_type": "code", 
            "metadata": {}, 
            "outputs": [], 
            "source": "training_data_reference = {\n \"name\": \"CARS4U training reference\",\n \"connection\": postgres_credentials,\n \"source\": {\n  \"tablename\": table_name,\n  \"type\": \"postgres\"\n }\n}"
        }, 
        {
            "source": "Define `output_data_schema` for the model", 
            "cell_type": "markdown", 
            "metadata": {}
        }, 
        {
            "execution_count": 37, 
            "cell_type": "code", 
            "metadata": {}, 
            "outputs": [], 
            "source": "train_data_schema = train_data.schema\nlabel_field = next(f for f in train_data_schema.fields if f.name == \"Action\")\nlabel_field.metadata['values'] = string_indexer_action.labels"
        }, 
        {
            "execution_count": 38, 
            "cell_type": "code", 
            "metadata": {}, 
            "outputs": [], 
            "source": "from pyspark.sql.types import *\n\ninput_fileds = filter(lambda f: f.name != \"Action\", train_data_schema.fields)\n\noutput_data_schema = StructType(list(input_fileds)). \\\n    add(\"prediction\", DoubleType(), True, {'modeling_role': 'prediction'}). \\\n    add(\"predictedActionLabel\", StringType(), True, {'modeling_role': 'decoded-target', 'values': string_indexer_action.labels}). \\\n    add(\"probability\", ArrayType(DoubleType()), True, {'modeling_role': 'probability'})"
        }, 
        {
            "source": "Define model's metadata.", 
            "cell_type": "markdown", 
            "metadata": {}
        }, 
        {
            "execution_count": 39, 
            "cell_type": "code", 
            "metadata": {}, 
            "outputs": [], 
            "source": "model_props = {\n    client.repository.ModelMetaNames.NAME: \"CARS4U - Action Recommendation Model\",\n    client.repository.ModelMetaNames.TRAINING_DATA_REFERENCE: training_data_reference,\n    client.repository.ModelMetaNames.EVALUATION_METHOD: \"multiclass\",\n    client.repository.ModelMetaNames.OUTPUT_DATA_SCHEMA: output_data_schema.jsonValue(),\n    client.repository.ModelMetaNames.EVALUATION_METRICS: [\n        {\n           \"name\": \"accuracy\",\n           \"value\": accuracy,\n           \"threshold\": 0.7\n        }\n    ]\n}"
        }, 
        {
            "source": "**Tip**: Use `client.repository.ModelMetaNames.show()` to get the list of available meta names.", 
            "cell_type": "markdown", 
            "metadata": {}
        }, 
        {
            "source": "Store the model.", 
            "cell_type": "markdown", 
            "metadata": {}
        }, 
        {
            "execution_count": 40, 
            "cell_type": "code", 
            "metadata": {}, 
            "outputs": [], 
            "source": "published_model_details = client.repository.store_model(model=model, meta_props=model_props, training_data=train_data, pipeline=pipeline)"
        }, 
        {
            "execution_count": 41, 
            "cell_type": "code", 
            "metadata": {}, 
            "outputs": [
                {
                    "output_type": "stream", 
                    "name": "stdout", 
                    "text": "eea0e3cf-9291-425f-834d-a67b42f9fad8\n"
                }
            ], 
            "source": "model_uid = client.repository.get_model_uid(published_model_details)\nprint(model_uid)"
        }, 
        {
            "source": "<a id=\"download\"></a>\n## 5. Download the model", 
            "cell_type": "markdown", 
            "metadata": {}
        }, 
        {
            "execution_count": 55, 
            "cell_type": "code", 
            "metadata": {}, 
            "outputs": [], 
            "source": "client.repository.download(model_uid)"
        }, 
        {
            "execution_count": 56, 
            "cell_type": "code", 
            "metadata": {}, 
            "outputs": [], 
            "source": "from watson_machine_learning_client.utils import create_download_link\n\nfilename = 'downloaded_artifact.tar.gz'"
        }, 
        {
            "execution_count": 57, 
            "cell_type": "code", 
            "metadata": {}, 
            "outputs": [
                {
                    "execution_count": 57, 
                    "metadata": {}, 
                    "data": {
                        "text/html": "<a download=\"downloaded_artifact.tar.gz\" href=\"data:binary;base64,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\" target=\"_blank\">Download file.</a>", 
                        "text/plain": "<IPython.core.display.HTML object>"
                    }, 
                    "output_type": "execute_result"
                }
            ], 
            "source": "create_download_link(filename)"
        }, 
        {
            "source": "<a id=\"deploy\"></a>\n## 6. Deploy model in the IBM Cloud", 
            "cell_type": "markdown", 
            "metadata": {}
        }, 
        {
            "source": "You can use following command to create online deployment in cloud.", 
            "cell_type": "markdown", 
            "metadata": {}
        }, 
        {
            "execution_count": 42, 
            "cell_type": "code", 
            "metadata": {}, 
            "outputs": [
                {
                    "output_type": "stream", 
                    "name": "stdout", 
                    "text": "\n\n#######################################################################################\n\nSynchronous deployment creation for uid: 'eea0e3cf-9291-425f-834d-a67b42f9fad8' started\n\n#######################################################################################\n\n\nINITIALIZING\nDEPLOY_SUCCESS\n\n\n------------------------------------------------------------------------------------------------\nSuccessfully finished deployment creation, deployment_uid='65c316d4-293d-4ea1-b6e0-07dc3652ad43'\n------------------------------------------------------------------------------------------------\n\n\n"
                }
            ], 
            "source": "deployment_details = client.deployments.create(model_uid=model_uid, name='CARS4U - Area and Action Model Deployment')"
        }, 
        {
            "source": "You can use deployed model to score new data using scoring endpoint.", 
            "cell_type": "markdown", 
            "metadata": {}
        }, 
        {
            "execution_count": 43, 
            "cell_type": "code", 
            "metadata": {}, 
            "outputs": [
                {
                    "output_type": "stream", 
                    "name": "stdout", 
                    "text": "https://us-south.ml.cloud.ibm.com/v3/wml_instances/e4e87cbb-f343-4acb-a2bb-b652d82bea38/deployments/65c316d4-293d-4ea1-b6e0-07dc3652ad43/online\n"
                }
            ], 
            "source": "scoring_url = client.deployments.get_scoring_url(deployment_details)\nprint(scoring_url)"
        }, 
        {
            "source": "<a id=\"score\"></a>\n## 7. Score the model", 
            "cell_type": "markdown", 
            "metadata": {}
        }, 
        {
            "execution_count": 44, 
            "cell_type": "code", 
            "metadata": {}, 
            "outputs": [], 
            "source": "fields = ['ID', 'Gender', 'Status', 'Children', 'Age', 'Customer_Status','Car_Owner', 'Customer_Service', 'Business_Area', 'Satisfaction']\nvalues = [3785, 'Male', 'S', 1, 17, 'Inactive', 'Yes', 'The car should have been brought to us instead of us trying to find it in the lot.', 'Product: Information', 0]"
        }, 
        {
            "execution_count": 45, 
            "cell_type": "code", 
            "metadata": {}, 
            "outputs": [], 
            "source": "payload_scoring = {\"fields\": fields,\"values\": [values]}\nscoring_response = client.deployments.score(scoring_url, payload_scoring)"
        }, 
        {
            "execution_count": 46, 
            "cell_type": "code", 
            "metadata": {}, 
            "outputs": [
                {
                    "output_type": "stream", 
                    "name": "stdout", 
                    "text": "Predicted Business Area: \"Service: Knowledge\"\nRecommended action: \"On-demand pickup location\"\n"
                }
            ], 
            "source": "area_index = scoring_response['fields'].index('predictedAreaLabel')\naction_index = scoring_response['fields'].index('predictedActionLabel')\n\nprint(\"Predicted Business Area: \" + json.dumps(scoring_response['values'][0][area_index]))\nprint(\"Recommended action: \" + json.dumps(scoring_response['values'][0][action_index]))"
        }, 
        {
            "source": "---", 
            "cell_type": "markdown", 
            "metadata": {}
        }, 
        {
            "source": "### Authors\nLukasz Cmielowski, PhD, is an Automation Architect and Data Scientist at IBM with a track record of developing enterprise-level applications that substantially increases clients' ability to turn data into actionable knowledge.", 
            "cell_type": "markdown", 
            "metadata": {}
        }
    ], 
    "metadata": {
        "kernelspec": {
            "display_name": "Python 3.5 with Spark 2.1", 
            "name": "python3-spark21", 
            "language": "python"
        }, 
        "language_info": {
            "mimetype": "text/x-python", 
            "nbconvert_exporter": "python", 
            "version": "3.5.4", 
            "name": "python", 
            "file_extension": ".py", 
            "pygments_lexer": "ipython3", 
            "codemirror_mode": {
                "version": 3, 
                "name": "ipython"
            }
        }
    }, 
    "nbformat": 4
}