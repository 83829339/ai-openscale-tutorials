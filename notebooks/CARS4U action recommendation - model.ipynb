{
    "nbformat_minor": 1, 
    "cells": [
        {
            "source": "<table style=\"border: none\" align=\"left\">\n    <tr style=\"border: none\">\n       <th style=\"border: none\"><img src=\"https://raw.githubusercontent.com/pmservice/cars-4-you/master/static/images/logo.png\" width=\"200\" alt=\"Icon\"></th>\n       <th style=\"border: none\"><font face=\"verdana\" size=\"5\" color=\"black\"><b>Business area prediction and action recommendation</b></th>\n   </tr>\n</table>", 
            "cell_type": "markdown", 
            "metadata": {}
        }, 
        {
            "source": "<img align=left src=\"https://github.com/pmservice/cars-4-you/raw/master/static/images/action.png\" width=\"550\" alt=\"Icon\">", 
            "cell_type": "markdown", 
            "metadata": {}
        }, 
        {
            "source": "Contents\n- [0. Setup](#setup)\n- [1. Introduction](#introduction)\n- [2. Load and explore data](#load)\n- [3. Create an Apache Spark machine learning model](#model)\n- [4. Store the model in the Watson Machine Learning repository](#persistence)\n- [5. Download the model](#download)\n- [6. Deploy the model in the IBM Cloud](#persistence)\n- [7. Score the model](#score)", 
            "cell_type": "markdown", 
            "metadata": {}
        }, 
        {
            "source": "**Note:** This notebook works correctly with kernel `Python 3.5 with Spark 2.1`.", 
            "cell_type": "markdown", 
            "metadata": {}
        }, 
        {
            "source": "<a id=\"setup\"></a>\n## 0. Setup\n\nIn this section please use below cell to upgrade the `watson-machine-learning-client`.", 
            "cell_type": "markdown", 
            "metadata": {}
        }, 
        {
            "source": "### Training data setup\n\nBefore you use the sample code in this notebook, you must perform the following setup tasks:\n\n- Create a Watson Machine Learning Service instance (a free plan is offered).\n- Create a Compose for PostgreSQL instance.", 
            "cell_type": "markdown", 
            "metadata": {}
        }, 
        {
            "source": "### Package installation", 
            "cell_type": "markdown", 
            "metadata": {}
        }, 
        {
            "execution_count": null, 
            "cell_type": "code", 
            "metadata": {}, 
            "outputs": [], 
            "source": "!rm -rf $PIP_BUILD\n!pip install --upgrade watson-machine-learning-client"
        }, 
        {
            "source": "**Note**: Please restart the kernel (Kernel -> Restart)", 
            "cell_type": "markdown", 
            "metadata": {}
        }, 
        {
            "source": "<a id=\"introduction\"></a>\n## 1. Introduction\n\nThis notebook defines, trains and deploys the model that recommends specific Action for unstatisfied customers.", 
            "cell_type": "markdown", 
            "metadata": {}
        }, 
        {
            "source": "<a id=\"load\"></a>\n## 2. Load and explore data", 
            "cell_type": "markdown", 
            "metadata": {}
        }, 
        {
            "source": "In this section you will upload training data to the database, load it as an Apache Spark DataFrame and perform a basic exploration.", 
            "cell_type": "markdown", 
            "metadata": {}
        }, 
        {
            "source": "Read data into Spark DataFrame from CSV file and show sample record.", 
            "cell_type": "markdown", 
            "metadata": {}
        }, 
        {
            "source": "### 2.1 Load data from git", 
            "cell_type": "markdown", 
            "metadata": {}
        }, 
        {
            "execution_count": 2, 
            "cell_type": "code", 
            "metadata": {}, 
            "outputs": [
                {
                    "output_type": "stream", 
                    "name": "stdout", 
                    "text": "--2018-11-15 06:55:33--  https://github.com/pmservice/ai-openscale-tutorials/raw/master/notebooks/data/car_rental_training_data.csv\nResolving github.com (github.com)... 192.30.253.112, 192.30.253.113\nConnecting to github.com (github.com)|192.30.253.112|:443... connected.\nHTTP request sent, awaiting response... 302 Found\nLocation: https://raw.githubusercontent.com/pmservice/ai-openscale-tutorials/master/notebooks/data/car_rental_training_data.csv [following]\n--2018-11-15 06:55:33--  https://raw.githubusercontent.com/pmservice/ai-openscale-tutorials/master/notebooks/data/car_rental_training_data.csv\nResolving raw.githubusercontent.com (raw.githubusercontent.com)... 151.101.48.133\nConnecting to raw.githubusercontent.com (raw.githubusercontent.com)|151.101.48.133|:443... connected.\nHTTP request sent, awaiting response... 200 OK\nLength: 79518 (78K) [text/plain]\nSaving to: \u2018car_rental_training_data.csv.2\u2019\n\n100%[======================================>] 79,518      --.-K/s   in 0.002s  \n\n2018-11-15 06:55:33 (32.2 MB/s) - \u2018car_rental_training_data.csv.2\u2019 saved [79518/79518]\n\n"
                }
            ], 
            "source": "!wget https://github.com/pmservice/ai-openscale-tutorials/raw/master/notebooks/data/car_rental_training_data.csv"
        }, 
        {
            "execution_count": 2, 
            "cell_type": "code", 
            "metadata": {}, 
            "outputs": [
                {
                    "execution_count": 2, 
                    "metadata": {}, 
                    "data": {
                        "text/plain": "Row(ID=83, Gender='Female', Status='M', Children=2, Age=48.85, Customer_Status='Inactive', Car_Owner='Yes', Customer_Service='I thought the representative handled the initial situation badly.  The company was out of cars, with none coming in that day.  Then the representative tried to find us a car at another franchise.  There they were successful.', Satisfaction=0, Business_Area='Product: Availability/Variety/Size', Action='Free Upgrade')"
                    }, 
                    "output_type": "execute_result"
                }
            ], 
            "source": "from pyspark.sql import SparkSession\nimport json\n\nspark = SparkSession.builder.getOrCreate()\ndf_data = spark.read.csv(path=\"car_rental_training_data.csv\", sep=\";\", header=True, inferSchema=True)\ndf_data.head()"
        }, 
        {
            "source": "### 2.2 Upload data to PostgreSQL database.", 
            "cell_type": "markdown", 
            "metadata": {}
        }, 
        {
            "source": "**TIP:** Put your service credentials here. Just copy paste content of Credentials tab from service details (IBM Cloud)", 
            "cell_type": "markdown", 
            "metadata": {}
        }, 
        {
            "execution_count": 3, 
            "cell_type": "code", 
            "metadata": {}, 
            "outputs": [], 
            "source": "postgres_credentials = {\n    \"db_type\": \"postgresql\",\n    \"name\": \"<put correct name here>\",\n    \"uri\": \"<put correct uri here>\"\n}"
        }, 
        {
            "execution_count": 4, 
            "cell_type": "code", 
            "metadata": {}, 
            "outputs": [], 
            "source": "# The code was removed by Watson Studio for sharing."
        }, 
        {
            "source": "Put your schema name here.", 
            "cell_type": "markdown", 
            "metadata": {}
        }, 
        {
            "execution_count": 5, 
            "cell_type": "code", 
            "metadata": {}, 
            "outputs": [], 
            "source": "schemaName = 'data_mart'"
        }, 
        {
            "source": "You can use the code below to create the schema. If the schema already exists skipp this cell.", 
            "cell_type": "markdown", 
            "metadata": {}
        }, 
        {
            "execution_count": 6, 
            "cell_type": "code", 
            "metadata": {}, 
            "outputs": [
                {
                    "output_type": "stream", 
                    "name": "stderr", 
                    "text": "/gpfs/fs01/user/s86b-18e61b28c674e4-3fbaf243aed6/.local/lib/python3.5/site-packages/psycopg2/__init__.py:144: UserWarning: The psycopg2 wheel package will be renamed from release 2.8; in order to keep installing from binary please use \"pip install psycopg2-binary\" instead. For details see: <http://initd.org/psycopg/docs/install.html#binary-install-from-pypi>.\n  \"\"\")\n"
                }
            ], 
            "source": "import psycopg2\n\nhostname = postgres_credentials['uri'].split('@')[1].split(':')[0]\nport = postgres_credentials['uri'].split('@')[1].split(':')[1].split('/')[0]\nuser = postgres_credentials['uri'].split('@')[0].split('//')[1].split(':')[0]\npassword = postgres_credentials['uri'].split('@')[0].split('//')[1].split(':')[1]\ndbname = 'compose'\n\nconn_string = \"host=\" + hostname + \" port=\" + port + \" dbname=\" + dbname + \" user=\" + user + \" password=\" + password\nconn = psycopg2.connect(conn_string)\nconn.autocommit = True\ncursor = conn.cursor()\ntry:\n    query = \"drop schema \" + schemaName + \" cascade\"\n    cursor.execute(query)\nexcept:\n    pass\nfinally:    \n    try:\n        query = \"create schema \" + schemaName\n        cursor.execute(query)\n    finally:    \n        cursor.close()\n        conn.close()"
        }, 
        {
            "source": "Create training table.", 
            "cell_type": "markdown", 
            "metadata": {}
        }, 
        {
            "execution_count": 7, 
            "cell_type": "code", 
            "metadata": {}, 
            "outputs": [], 
            "source": "table_name = \"CAR_RENTAL_TRAINING\"\n\nconn = psycopg2.connect(conn_string)\nconn.autocommit = True\ncursor = conn.cursor()\ncursor.execute(\"\"\"\nCREATE TABLE {}.{}(\n    ID integer,\n    Gender text,\n    Status text,\n    Children integer,\n    Age decimal(14,6),\n    Customer_Status text,\n    Car_Owner text,\n    Customer_Service text,\n    Satisfaction integer,\n    Business_Area text,\n    Action text\n)\n\"\"\".format(schemaName, table_name))\ncursor.close()\nconn.close()"
        }, 
        {
            "source": "Upload training data to created table.", 
            "cell_type": "markdown", 
            "metadata": {}
        }, 
        {
            "execution_count": 8, 
            "cell_type": "code", 
            "metadata": {}, 
            "outputs": [], 
            "source": "conn = psycopg2.connect(conn_string)\nconn.autocommit = True\ncursor = conn.cursor()\nwith open('car_rental_training_data.csv', 'r') as f:\n    next(f)\n    cursor.copy_from(file=f, table='{}.CAR_RENTAL_TRAINING'.format(schemaName), sep=';')\ncursor.close()\nconn.close()"
        }, 
        {
            "source": "Print first row in table.", 
            "cell_type": "markdown", 
            "metadata": {}
        }, 
        {
            "execution_count": 9, 
            "cell_type": "code", 
            "metadata": {}, 
            "outputs": [
                {
                    "output_type": "stream", 
                    "name": "stdout", 
                    "text": "[(83, 'Female', 'M', 2, Decimal('48.850000'), 'Inactive', 'Yes', 'I thought the representative handled the initial situation badly.  The company was out of cars, with none coming in that day.  Then the representative tried to find us a car at another franchise.  There they were successful.', 0, 'Product: Availability/Variety/Size', 'Free Upgrade')]\n"
                }
            ], 
            "source": "conn = psycopg2.connect(conn_string)\nconn.autocommit = True\ncursor = conn.cursor()\ncursor.execute(\"\"\"\nSELECT * FROM {}.CAR_RENTAL_TRAINING LIMIT 1\n\"\"\".format(schemaName))\nresult = cursor.fetchall()\ncursor.close()\nconn.close()\n\nprint(result)"
        }, 
        {
            "source": "### 2.3 Explore data", 
            "cell_type": "markdown", 
            "metadata": {}
        }, 
        {
            "execution_count": 10, 
            "cell_type": "code", 
            "metadata": {}, 
            "outputs": [
                {
                    "output_type": "stream", 
                    "name": "stdout", 
                    "text": "root\n |-- ID: integer (nullable = true)\n |-- Gender: string (nullable = true)\n |-- Status: string (nullable = true)\n |-- Children: integer (nullable = true)\n |-- Age: double (nullable = true)\n |-- Customer_Status: string (nullable = true)\n |-- Car_Owner: string (nullable = true)\n |-- Customer_Service: string (nullable = true)\n |-- Satisfaction: integer (nullable = true)\n |-- Business_Area: string (nullable = true)\n |-- Action: string (nullable = true)\n\n"
                }
            ], 
            "source": "df_data.printSchema()"
        }, 
        {
            "source": "**Tip:** Code above can be inserted using Data menu.  You have to select `Insert SparkSession DataFrame` option.\n\n**Note:** Inserted code is modified to work with code in cells below.", 
            "cell_type": "markdown", 
            "metadata": {}
        }, 
        {
            "source": "As you can see, the data contains eleven fields. `Action` field is the one you would like to predict using feedback data in `Customer_Service` field.", 
            "cell_type": "markdown", 
            "metadata": {}
        }, 
        {
            "execution_count": 11, 
            "cell_type": "code", 
            "metadata": {}, 
            "outputs": [
                {
                    "output_type": "stream", 
                    "name": "stdout", 
                    "text": "Number of records: 486\n"
                }
            ], 
            "source": "print(\"Number of records: \" + str(df_data.count()))"
        }, 
        {
            "execution_count": 12, 
            "cell_type": "code", 
            "metadata": {}, 
            "outputs": [
                {
                    "output_type": "stream", 
                    "name": "stdout", 
                    "text": "+----------------------------------+-----+\n|Business_area                     |count|\n+----------------------------------+-----+\n|Service: Accessibility            |26   |\n|Product: Functioning              |150  |\n|Service: Attitude                 |24   |\n|Service: Orders/Contracts         |32   |\n|Product: Availability/Variety/Size|42   |\n|Product: Pricing and Billing      |24   |\n|Product: Information              |8    |\n|Service: Knowledge                |180  |\n+----------------------------------+-----+\n\n"
                }
            ], 
            "source": "df_data.select('Business_area').groupBy('Business_area').count().show(truncate=False)"
        }, 
        {
            "execution_count": 13, 
            "cell_type": "code", 
            "metadata": {}, 
            "outputs": [
                {
                    "output_type": "stream", 
                    "name": "stdout", 
                    "text": "+-------------------------+-----+\n|Action                   |count|\n+-------------------------+-----+\n|NA                       |274  |\n|Voucher                  |42   |\n|Premium features         |30   |\n|On-demand pickup location|56   |\n|Free Upgrade             |84   |\n+-------------------------+-----+\n\n"
                }
            ], 
            "source": "df_data.select('Action').groupBy('Action').count().show(truncate=False)"
        }, 
        {
            "source": "<a id=\"model\"></a>\n## 3. Create an Apache Spark machine learning model\n\nIn this section you will learn how to:\n\n- [3.1 Prepare data for training a model](#prep)\n- [3.2 Create an Apache Spark machine learning pipeline](#pipe)\n- [3.3 Train a model](#train)", 
            "cell_type": "markdown", 
            "metadata": {}
        }, 
        {
            "source": "<a id=\"prep\"></a>\n### 3.1 Prepare data for training a model\n\nIn this subsection you will split your data into: train and test data set.", 
            "cell_type": "markdown", 
            "metadata": {}
        }, 
        {
            "execution_count": 15, 
            "cell_type": "code", 
            "metadata": {}, 
            "outputs": [
                {
                    "output_type": "stream", 
                    "name": "stdout", 
                    "text": "Number of training records: 391\nNumber of testing records : 95\n"
                }
            ], 
            "source": "train_data, test_data = df_data.randomSplit([0.8, 0.2], 24)\n\nprint(\"Number of training records: \" + str(train_data.count()))\nprint(\"Number of testing records : \" + str(test_data.count()))"
        }, 
        {
            "source": "### 3.2 Create the pipeline<a id=\"pipe\"></a>", 
            "cell_type": "markdown", 
            "metadata": {}
        }, 
        {
            "source": "In this section you will create an Apache Spark machine learning pipeline and then train the model.", 
            "cell_type": "markdown", 
            "metadata": {}
        }, 
        {
            "execution_count": 16, 
            "cell_type": "code", 
            "metadata": {}, 
            "outputs": [], 
            "source": "from pyspark.ml.feature import OneHotEncoder, StringIndexer, IndexToString, VectorAssembler, HashingTF, IDF, Tokenizer, SQLTransformer\nfrom pyspark.ml.classification import RandomForestClassifier, DecisionTreeClassifier, LogisticRegression\nfrom pyspark.ml.evaluation import MulticlassClassificationEvaluator\nfrom pyspark.ml import Pipeline, Model, PipelineModel"
        }, 
        {
            "source": "In the following step, use the StringIndexer transformer to convert all the string fields to numeric ones.", 
            "cell_type": "markdown", 
            "metadata": {}
        }, 
        {
            "execution_count": 17, 
            "cell_type": "code", 
            "metadata": {}, 
            "outputs": [], 
            "source": "tokenizer = Tokenizer(inputCol=\"Customer_Service\", outputCol=\"words\")"
        }, 
        {
            "execution_count": 18, 
            "cell_type": "code", 
            "metadata": {}, 
            "outputs": [], 
            "source": "hashing_tf = HashingTF(inputCol=tokenizer.getOutputCol(), outputCol='hash')\nidf = IDF(inputCol=hashing_tf.getOutputCol(), outputCol=\"area_features\", minDocFreq=5)"
        }, 
        {
            "execution_count": 19, 
            "cell_type": "code", 
            "metadata": {}, 
            "outputs": [], 
            "source": "string_indexer_area = StringIndexer(inputCol=\"Business_Area\", outputCol=\"area_label\").fit(df_data)"
        }, 
        {
            "execution_count": 20, 
            "cell_type": "code", 
            "metadata": {}, 
            "outputs": [], 
            "source": "dt_area = DecisionTreeClassifier(labelCol='area_label', featuresCol=idf.getOutputCol() , predictionCol='prediction_area', probabilityCol='probability_area', rawPredictionCol='rawPrediction_area')"
        }, 
        {
            "source": "Finally, convert the indexed labels back to original labels.", 
            "cell_type": "markdown", 
            "metadata": {}
        }, 
        {
            "execution_count": 21, 
            "cell_type": "code", 
            "metadata": {}, 
            "outputs": [], 
            "source": "labelConverter = IndexToString(inputCol=\"prediction_area\", outputCol=\"predictedAreaLabel\", labels=string_indexer_area.labels)"
        }, 
        {
            "execution_count": 22, 
            "cell_type": "code", 
            "metadata": {}, 
            "outputs": [], 
            "source": "string_indexer_gender = StringIndexer(inputCol=\"Gender\", outputCol=\"gender_ix\")\nstring_indexer_customer_status = StringIndexer(inputCol=\"Customer_Status\", outputCol=\"customer_status_ix\")\nstring_indexer_status = StringIndexer(inputCol=\"Status\", outputCol=\"status_ix\")\nstring_indexer_owner = StringIndexer(inputCol=\"Car_Owner\", outputCol=\"owner_ix\")"
        }, 
        {
            "execution_count": 23, 
            "cell_type": "code", 
            "metadata": {}, 
            "outputs": [], 
            "source": "assembler = VectorAssembler(inputCols=[\"gender_ix\", \"customer_status_ix\", \"status_ix\", \"owner_ix\", \"Children\", \"Age\", \"Satisfaction\", idf.getOutputCol()], outputCol=\"features\")"
        }, 
        {
            "execution_count": 24, 
            "cell_type": "code", 
            "metadata": {}, 
            "outputs": [], 
            "source": "string_indexer_action = StringIndexer(inputCol=\"Action\", outputCol=\"label\").fit(df_data)"
        }, 
        {
            "execution_count": 25, 
            "cell_type": "code", 
            "metadata": {}, 
            "outputs": [], 
            "source": "label_action_converter = IndexToString(inputCol=\"prediction\", outputCol=\"predictedActionLabel\", labels=string_indexer_action.labels)"
        }, 
        {
            "execution_count": 26, 
            "cell_type": "code", 
            "metadata": {}, 
            "outputs": [], 
            "source": "dt_action = DecisionTreeClassifier()"
        }, 
        {
            "execution_count": 27, 
            "cell_type": "code", 
            "metadata": {}, 
            "outputs": [], 
            "source": "vector_assembler = VectorAssembler(inputCols=[\"gender_ix\", \"customer_status_ix\", \"status_ix\", \"owner_ix\", \"Children\", \"Age\", \"Satisfaction\", 'prediction_area'], outputCol=\"features\")"
        }, 
        {
            "execution_count": 28, 
            "cell_type": "code", 
            "metadata": {}, 
            "outputs": [], 
            "source": "pipeline = Pipeline(stages=[tokenizer, hashing_tf, idf, string_indexer_area, dt_area, labelConverter, string_indexer_gender, string_indexer_customer_status, string_indexer_status, string_indexer_action, string_indexer_owner, vector_assembler, dt_action, label_action_converter])"
        }, 
        {
            "source": "### 3.3 Train the model", 
            "cell_type": "markdown", 
            "metadata": {}
        }, 
        {
            "source": "**Hint:** Training takes ~10 minutes to complete.", 
            "cell_type": "markdown", 
            "metadata": {}
        }, 
        {
            "execution_count": 29, 
            "cell_type": "code", 
            "metadata": {}, 
            "outputs": [], 
            "source": "model = pipeline.fit(train_data)"
        }, 
        {
            "source": "### 3.4 Evaluate the model", 
            "cell_type": "markdown", 
            "metadata": {}
        }, 
        {
            "execution_count": 30, 
            "cell_type": "code", 
            "metadata": {}, 
            "outputs": [], 
            "source": "predictions = model.transform(test_data)"
        }, 
        {
            "execution_count": 31, 
            "cell_type": "code", 
            "metadata": {}, 
            "outputs": [
                {
                    "output_type": "stream", 
                    "name": "stdout", 
                    "text": "Accuracy = 0.789474\n"
                }
            ], 
            "source": "evaluator = MulticlassClassificationEvaluator(labelCol=\"label\", predictionCol=\"prediction\", metricName=\"accuracy\")\naccuracy = evaluator.evaluate(predictions)\n\nprint(\"Accuracy = %g\" % accuracy)"
        }, 
        {
            "source": "<a id=\"persistence\"></a>\n## 4. Store the model in the repository", 
            "cell_type": "markdown", 
            "metadata": {
                "collapsed": true
            }
        }, 
        {
            "source": "In this section you will store trained model to Watson Machine Learning repository. When model is stored some metada is optional, however we provide it to be able to configure Continuous Learning System.", 
            "cell_type": "markdown", 
            "metadata": {
                "collapsed": true
            }
        }, 
        {
            "execution_count": 15, 
            "cell_type": "code", 
            "metadata": {}, 
            "outputs": [], 
            "source": "from watson_machine_learning_client import WatsonMachineLearningAPIClient"
        }, 
        {
            "source": "We need Watson Machine Learning credentials to be able to store model in repository.", 
            "cell_type": "markdown", 
            "metadata": {}
        }, 
        {
            "source": "**TIP:** Put watson Machine Learning service credentials here.", 
            "cell_type": "markdown", 
            "metadata": {}
        }, 
        {
            "execution_count": 33, 
            "cell_type": "code", 
            "metadata": {}, 
            "outputs": [], 
            "source": "wml_credentials = {\n  \"apikey\": \"***\",\n  \"iam_apikey_description\": \"***\",\n  \"iam_apikey_name\": \"***\",\n  \"iam_role_crn\": \"***\",\n  \"iam_serviceid_crn\": \"***\",\n  \"instance_id\": \"***\",\n  \"password\": \"***\",\n  \"url\": \"https://us-south.ml.cloud.ibm.com\",\n  \"username\": \"***\"\n}"
        }, 
        {
            "execution_count": 34, 
            "cell_type": "code", 
            "metadata": {}, 
            "outputs": [], 
            "source": "# The code was removed by Watson Studio for sharing."
        }, 
        {
            "execution_count": 35, 
            "cell_type": "code", 
            "metadata": {}, 
            "outputs": [], 
            "source": "client = WatsonMachineLearningAPIClient(wml_credentials)"
        }, 
        {
            "execution_count": 36, 
            "cell_type": "code", 
            "metadata": {}, 
            "outputs": [
                {
                    "execution_count": 36, 
                    "metadata": {}, 
                    "data": {
                        "text/plain": "'1.0.338'"
                    }, 
                    "output_type": "execute_result"
                }
            ], 
            "source": "client.version"
        }, 
        {
            "source": "### 4.2 Save the pipeline and model<a id=\"save\"></a>", 
            "cell_type": "markdown", 
            "metadata": {}
        }, 
        {
            "execution_count": 39, 
            "cell_type": "code", 
            "metadata": {}, 
            "outputs": [], 
            "source": "training_data_reference = {\n \"name\": \"CARS4U training reference\",\n \"connection\": postgres_credentials,\n \"source\": {\n  \"tablename\": table_name,\n  \"type\": \"postgres\"\n }\n}"
        }, 
        {
            "source": "Define `output_data_schema` for the model", 
            "cell_type": "markdown", 
            "metadata": {}
        }, 
        {
            "execution_count": 40, 
            "cell_type": "code", 
            "metadata": {}, 
            "outputs": [], 
            "source": "train_data_schema = train_data.schema\nlabel_field = next(f for f in train_data_schema.fields if f.name == \"Action\")\nlabel_field.metadata['values'] = string_indexer_action.labels"
        }, 
        {
            "execution_count": 41, 
            "cell_type": "code", 
            "metadata": {}, 
            "outputs": [], 
            "source": "from pyspark.sql.types import *\n\ninput_fileds = filter(lambda f: f.name != \"Action\", train_data_schema.fields)\n\noutput_data_schema = StructType(list(input_fileds)). \\\n    add(\"prediction\", DoubleType(), True, {'modeling_role': 'prediction'}). \\\n    add(\"predictedActionLabel\", StringType(), True, {'modeling_role': 'decoded-target', 'values': string_indexer_action.labels}). \\\n    add(\"probability\", ArrayType(DoubleType()), True, {'modeling_role': 'probability'})"
        }, 
        {
            "source": "Define model's metadata.", 
            "cell_type": "markdown", 
            "metadata": {}
        }, 
        {
            "execution_count": 42, 
            "cell_type": "code", 
            "metadata": {}, 
            "outputs": [], 
            "source": "model_props = {\n    client.repository.ModelMetaNames.NAME: \"CARS4U - Action Recommendation Model\",\n    client.repository.ModelMetaNames.TRAINING_DATA_REFERENCE: training_data_reference,\n    client.repository.ModelMetaNames.EVALUATION_METHOD: \"multiclass\",\n    client.repository.ModelMetaNames.OUTPUT_DATA_SCHEMA: output_data_schema.jsonValue(),\n    client.repository.ModelMetaNames.EVALUATION_METRICS: [\n        {\n           \"name\": \"accuracy\",\n           \"value\": accuracy,\n           \"threshold\": 0.7\n        }\n    ]\n}"
        }, 
        {
            "source": "**Tip**: Use `client.repository.ModelMetaNames.show()` to get the list of available meta names.", 
            "cell_type": "markdown", 
            "metadata": {}
        }, 
        {
            "source": "Store the model.", 
            "cell_type": "markdown", 
            "metadata": {}
        }, 
        {
            "execution_count": 43, 
            "cell_type": "code", 
            "metadata": {}, 
            "outputs": [], 
            "source": "published_model_details = client.repository.store_model(model=model, meta_props=model_props, training_data=train_data, pipeline=pipeline)"
        }, 
        {
            "execution_count": 44, 
            "cell_type": "code", 
            "metadata": {}, 
            "outputs": [
                {
                    "output_type": "stream", 
                    "name": "stdout", 
                    "text": "f17b991c-3098-4cdd-86d9-d56174ca4b00\n"
                }
            ], 
            "source": "model_uid = client.repository.get_model_uid(published_model_details)\nprint(model_uid)"
        }, 
        {
            "execution_count": null, 
            "cell_type": "code", 
            "metadata": {}, 
            "outputs": [], 
            "source": "model_details = client.repository.get_model_details(model_uid)"
        }, 
        {
            "source": "<a id=\"download\"></a>\n## 5. Download the model", 
            "cell_type": "markdown", 
            "metadata": {}
        }, 
        {
            "execution_count": null, 
            "cell_type": "code", 
            "metadata": {}, 
            "outputs": [], 
            "source": "client.repository.download(model_uid)"
        }, 
        {
            "execution_count": 47, 
            "cell_type": "code", 
            "metadata": {}, 
            "outputs": [], 
            "source": "from watson_machine_learning_client.utils import create_download_link\n\nfilename = 'downloaded_artifact.tar.gz'"
        }, 
        {
            "execution_count": 48, 
            "cell_type": "code", 
            "metadata": {}, 
            "outputs": [
                {
                    "execution_count": 48, 
                    "metadata": {}, 
                    "data": {
                        "text/html": "<a download=\"downloaded_artifact.tar.gz\" href=\"data:binary;base64,H4sICPM/7FsC/21vZGVsX2NvbnRlbnQudGFyAO19DXwbxZn3rrSS146VyMErbDCJaxw1bW1nP/WRqkj5aEiKE1ISuELhzEpaxWps2ch2SPi45uVomqMBQko5yMuPBi6FHM0FruRoynHA9SCltG9LW8rx1TblQqDQ4wxHS5rS8M7saiV5V7Ikf2yV+hlQLO3OzM7us/+dnf/8n2e6FhHTnliU/CxL8Lwg+X2S+psTRfVvJhGcIPgFVvD7JYFgOYn1cUSrRFiQRoaG5XRrKzEU8EU7uYDi46J8IObzi4rYKSSicoIXBVmJ+0aGlPRQiZPEJ6L/PUVS16J+ZViOy8Pyoiqyv88ngv2ttn/PuguXLfv0unXTYn8fsnfZ9udZVhCIVhbsb6X9u/QboCuWjllqf85kf5+PBftbkTRT2whIMzPl439QTg93qnfv1D4BSuKfN+KfQ6+AgH8r8X/5H774/sXfvu5hQMSMxX8O/ta+/3G8JBn7f54VAf9WpKvbYn3y0FDb4raB9IYueVCO9SpdQ+hW2NjV39e1Njmo9CVTyuqBuNLX1tE2nOxX0PXqH2xbzEkiz7NBCf0V+Y42tchF6BIlB1KoMr6L6xJQgZFkHP0aU02PGAgqUZaPsTE5GOR4kYvFFZQVVSD3r5ZR1Ve3oWNsUC5MxlG7Pt+2fmCjkkpepaRRSVaQuYDAxgKy5PeLiSCfQCVXykO9ydSG9St6RAkZi1XEOB+QYkLCH2TlIMqwajnaFeT8cpCVOFFg44GYHE2IfrRr3XAaFV2Viiub8QFEgZcDcSnBCT4uEeCVoC+AMi1XYkl8YuvTirIMX65kIolzy4IcjcUTMc7HRnkplojHZXw0XNn6Aa3mHpFLSEGZDcYUQUT3hej38wWOGw2IUT/KwYsxgeP4YJyLmzMJfnTpEFiCUjweiMYEOcibM0lxXlaCUb/kE+OoTpnzCQVqQoiPoUskSVE+GogJfqlATfGgGI0iIAQCiszxiZhPxhf7IiU2PJBeMjSk9Ef71GySHORirKwEBNEXjCYSnDLeJYvKUZ+gsAkhyMcVzsezBS6Z4vPJASEel1iF9QclOaZwbZdde20dPK6n4fmvYm1oOmnAivgfH4/5H0H0A/9jqf1ZX0/pZ9Ki6be/5Ef9v4hfCcD+1Wf/CZHFldvfxwpg/6q2fyVkcWX8L7a/n+f98P5fzfavhCyujP9F9hdYVoLxH/C/kKoX/xWQxaXxLxrxz3OAf0vx//mDG9cAGgD/5eK/ErK4FP4FyfT+h34A/v/8/G9CkYdH0krXmDtjPDI4KPqlEmRwWcxnPhmcTA2ODC8b6ENlz1VQsTTaPzAynN24Qd3Yk9yMtvfKqXifsiq1Se5TD6ak0wPpNqAOpwr/ExKKVT7+lzifD8b/1ti/a1GkeyC1oTuZ2jiN/G/+pTH8ZTk/O+ZeYNHdxqHnf7eV9p/qk/wLxn/eu3+nwCcSXNQX7IxGA3ynKHK+zoA/KnQmpJhfDMZZIe4Xu4ZS8uDgFlzsihFleKrlZZCq3P6Vj/8EAcZ/1o7/fvP0wB2ABsB/OfivVCheOf/vE0D/W8XP/wqF4hXz/7yfZ0H/aenzH9JMff5XwfjPJ5jHfxKM/6r1+T+54R9gbqbZv1T/7xcl0/gP9B/WpLVLLuAYgjmHiXQwFPriZJwtTdRquU9pcq5Q+tFfD842vwm/IthtdtLZPYeg0HecxYn+apkYW3P3ynqV9+8ZivWibYyNkGxNzj45qvQNMTbGSUhUE9WXHBpGe5j6BbamGqVP6VdSwwsIwmNrbmlu8dItTH3zAsLZHMiUU/Pr+Ribh/JcT3q2kV46VKCNeJ+NaG5p+phpKmPoir4s+5QeuLJLn8Zqupm8um14y6DStrhtaDg9Ehtu62hLJJU+VXl+dVtK7se7tMbgKQ81a7aInE7LW9DmTAPXZytCMEKbYwOpYTmZGloz0tfXthhVr1zb0ZZCP+Ron6Jt6GjTm4Kqvfbay64lmlZlGtrZn27dpM2htHJdgS6udWF0JNkXb8UaajEuK/5olI2LSjwaS/iDPLpJEYaCCT6QiAsJfyKW+BhxG6kZuCz8Sz2lheuW6T/RMwH4f2uf/2XZ3yL9p+STwP5Vbf9p1n+yog/6/2q2/7TqP3m/D/QfwP9AqmL8T6/+E+K/WIz/+y//l+cADYD/cvE/lfpPn988/8MB/2NJKk//OebOKCb9FDh/CelnWZ7x+dLPfJnnYFqJJ2PDSnxJWpG7MSODMudpQzP70XF7ZJQD7czQNos/37ZOSW9KxpTFreelBq7sU+IbsIv62vRAfCQ2vLh1xUhKLaedW3bzkk1yElWR7EsOb1l0kZxOKujvuuRVuGy2wvPTcXSyi5YNpIbTcmx4KH/fklhMGRpKajXk17w2nYyhg7XKqXjr0mRfn3bgXLnh4eTwSHxMG1elEgPpfhk3c0pd4bP454Se0l74FvA/2P+bx6EOYPxv6fO/PPtPP/+j2t/HAf9T3fafNv5Htb9fAP6nuu0/bfwPtr/AcsD/AP8DqYrxP138j4Z/Afgfa/H/+y/e8iGgAfBfLv6nkv8REeYN738SB+9/pxb/w/O+IFsZ/1MozF85/I9K1ugMUI7kWbME/VyRVpTWCwc3pGWVPzk/1RlX+jHPMpiMbRwZbO0biGkkSkfbRQMj6GTTKsui9CdH+lszpzvUdlkRZukvz5M4x/8KPaVjYVqh/5HU+G/Y/xPG/1Vnfwv0P9j+kt8P9q9q+0+f/gfb38/5wP+nqu0/ffofSZ3/53iwP/A/kKoW/9Om/1Hxz0mAf0vxv/zr33IBGgD/5eJ/SuO/+Uzvf4IA+K8i/qfs+G9+ZMLK4r8VXnEjnwQqHNNtbAw4rPjp6TOLgpaODCVTytBQDxYNQRy4SePfgvhv6vif40H/UbX2n974L5Ia/wX4/+q1//TGf9H4HxHmf2H8D8kC/EP8T4j/UuHzPy8AiKL447JfZDt9HCd1ioov3hmU4/5O9KRPBES0S45FIf7nzLZ/Zev/Yv5PkESI/2lp//9I19d+eN6aRbcAIqD/t7z/h/hvp9Tzf3LdP2Buptm/1PrfWOxt7P9h/TdrUib+29N25qitg3HrEeCaizq4NpXhIKuGYztKNqox406Szifc9rnoq9kLtxG3oJAbblcT0Ve0+maCaF4fMTbM03UW0aK73DqWEy1dlxHdBTxtG/jFRKPmYeu7n1iY51hrURA7t+c9yrOTwkHspuAy48og6l1+1LvvlY56B8n8/Pf3lF5u3gr/b1bV/6IhIcz/VJ/9LfD/ZtX1n1mwf1Xbf/r8v1l1/scP+o+qtv/0+X+zmv4X4v9Yyv9Bgve/ivA/bf7frKb/Bfxbiv8zF3SuBzQA/svF/5Tqf/288f1PEOH9z5I01es/B6UK9b8F7rLi6z8vQ9Ya6EfF1g2jhg0ZRMAxfe+QuhdWhJ56/E+//lfFv8QJHIz/q9X+06r/1fgfgQf9p0X2B/0fzP9Xhv98/ZccF2OJmMh2RtlEvFMM+MTOKOf3d4qiIHI+2R8L+mOg/5vZ9q98/C+ILDz/LR3/+zrqjwAaAP9l4X86/X8y8z8SrP9tKf4hzVT8g/4X3v8re/5P7vUfMDfT7F9y/WcfZ3r/50D/a0nK6H9XMCvz1n+mV6Xk2HByk9LkXKL+VZWmZ+fWgL50DoHXftZ20uibXmAqJbROYpx1oG8lPbep60AXbiveD6rYfFXs7sKq2Bz+A0b8S3FeVoJRv+QT42LUL6Nu2jL9pzr/B/y/lc//suxvlf6T48H+VW3/adZ/CtD/V7f9p1n/yYkc2B/4H0hVi//p1X+iJwDg30r87/vi438NaAD8l4v/KdV/Sqb3P9EH8z+WpKnVf/KsyPGV6T8L3GVlxn/N04UWlIPmVKCg9pwq/Ful/+QlWP/FIvuD/g/m/yrDf77+C+1KyAGR64wKitApilFfZ0DxK51xQRQCUTGQiPsh/t8Mt/8E9H8+Hvx/LB3/ffbVn/QCGgD/5eDfAv8PUYT136r3+T/9+k8e4n9Y+/yHNFOf/6D/hPFfZc//yQ3/AHMzzf4l9Z+c3zT+E0D/YUnK6D8DzOIOxqnrP8l1TeRyVUfZomk+nXbSGQkTJPq+Gv+zDv+z3KJ4qU5PyjOIpZ65ZqEtoO7MV3d+ZaIxT7P45/ie5UosiRuxPq0oy/CsUBJdIPQgQK2I+gSFTQhBPq5wPp6dTv0fj8d/vATxH6x9/ldo/0qEoBXbX2BZiP9xiti/DDKoMv4H25/jIf7HKWL/MsigyvgfbH+eBf9f4H8gnQr4Ly0ErWj9Lw3/6AEA+LcS/4n47Gcenf3824AIwH9F+C9DCFpq/R9WEI3vf4IP4v9aksbXf8Yyd0FMXR+nq9ANou0aTxPKs4JQQhNawZ1nEIdmFKpDmuRT/4XVof2DI+nk8Ba0dUMylcQkTa8S2zg4kEwNr0oNK+lNMirBsR1tafnKtWklnlQXH9LqGbMJFVVpIW2X+hU3wlBkMD9/v7x5uTI43Nu2WEJnrijoHIOSjwtyAXST8z7WJ3EBH8qWTOHlh86Vk+iSsF0srnUgmlnqR682u0Grd2kyhawl8Oh8sK3WoAu/CnNYCblvSFFzrFb6B9JbVqVWL21bzEv6YZBVUjFlaK2SxkXQmasMVf8K/YotDqi/1auPf0qgmYXnf/HnfyVC4Mr5Pz86CPA/1ti/GvS/onn+1w/zv1WP/+y7H4IKF08Eo4lgJ+/j2E4R9XadAS6udCoJORaXuRgqG4SJ4Jlp/xLv/xLP+g3v/6II439rUmb+dyHT0cHUoS80Q7c0UXiStYnCa3aq062N3fjrafgb+jCZzQzFtDLt3egPRRDukFYfHclUHFEnk+twrZRWK63n0L8REbV2O03aZ6Pca5mleW2gL3F+47tP/vHX4WxurS0LI/qOzY0Hzv31Vc+FCZ4k2o+EB1u+d0XL934SRoe7nDmnm6nHzUJ2QHspd6R2DtHkoqnRcK27XW9jI27jYuacDoZHhbTIR9qepojhqGcNOtC/tb+8+n9IzJXyNnttRGy1R4gXiD129VJEmOXdqOXomK3XHAxyF37wu2fD++d96a3PHnosrFU0+rgHt/CKR8PqOdbnXxq9hH5YlBf/oept9r12s31OV+3zIUoZ++i2+TCTTlftZCzWZCzmyZhTL9akFRMZn1bMqRZzjC12hqYJmO8gnYG8srYit8QTrH5L4KrRbu288y43ypF3uVFJVFQ9BPoP/fuAnbQ7UYkmpqUbFUP76zv0A9q1WhuZJr1W3GD72AbXtWsNttkpG2Nr/sBtEC24Cca2gGiyJeMEU4e+1OXGctoGWh9MYnWDS/+BnQ7NIgecXxcvaL+oDWh8px2itk9JDC/rTfbFtd916eSG3swGVLVjaBAN9FCF6s76zGhWFeTg3c1qaXlY2TCQTipD56fX96KRW+9AX7xEK3BtLjy4y5YlPHXNLc37sfjC1ryAoJvx2TM2T53nC54U1loYHwHeTS1MXfMCmmrOvzxqiV2kZzfp3RQqCnDvTptaGB8meynVoveQnltJtDtUFO7evXa1rJNqDoy98kaZCO/ZZvO8QaICoaIw9u5wZE9DNYvaioOk51ES7QoVxaH3aWf2QuVsmL1eTztDJkx6H67JFskzc7bMwzUhEyC9e1V7SISTbl6o3QxjbgK18CbPZpQvZIKl985a/Uqt1MoWv1+M167Os59ElwFVESqKSe+zdWrjnOjiZRo39p5S69lOenaSKGvIhELP87M8dRWKdnbVlCPaScazgp22ZAo1R8HuwTn5jU6N5OtvOrKlxxA3mVriAyO4ZPmVZNmmyVeh3tzlKpCyRxmrQFKPVEqClDs0RsIkWp4FxGTMkIPIZGpRb0vzxRvn5snH12SOXBRr1ppyDCIrP5/LLNat3VwDa3XPeP6HZzkT/8P6gP+p+vF/bu7fNxECCBzBZ4b9S+o/RKP+QxQ40H9ZknT9x6yvffHggd59//Xm2gNf/skhG3HJmd2z5Jd+vBsQAv0/9P/Q/5d4/nPQ/8/o/p+b6v4f1n+ztv8f+fkz73/xifveq305sO3tE5s9ty36J/bcPz4Fa8JD/z/t/T/oP07R5//khv8Avhli/9L6D9as/4DxvyWpsP4DPw6bqBYiq//AX89Cn3noMx99cAZV9MDqogeCqCWJSG0NQbvo9tGwXr9Z6qBtp41Ts1jqcKtdrTOi19m68tdXYZFHmHCQy38d3n74xLOfm//SOHXr+QvUfRTXPcis6GZm47oDmjCEzheGEITL3d4Y0QpeWlQccmkZ4pDtzh2OJ2z2ywmiiE5m9PFd7avQ/4fDZp2MvscwCY11MjaUyc00ZiqjW/Ds6jztUoythJpHjJl9LVZ4fsHC88sr7NAKz2U8+eoLw7x0baumvsBVEMzHmS5dWoKv6NXYXJesjuS+efBJM2vz9B8HbPo+tX313YwNN4Gqx4dANaFW5R9e1bHkDk+3aIcn7CD9KFP6YUB/RvpB0Wbpx0HSs6+I9CNT9i5btvBY6QcqeohEu0NFUet9XpN+UM7S0o/bbJ5REhUIFQWp97Aj25Kc9EPTrhzG0o8iqPMe0aQflFn6kfZchfaGTFjzvlSTLWKUfuAyL2HphwFi3uc06QdFO4tLP/7Gs41EGQtoP17StB+EcyLaj2s8W0lUQ6goHL0v1RkbV0D6Mey5BmUMmRDo+SEIP0D4AcIPEH7kCT9uBOHHqT/+KzMQcOXxX1hBgvhvwP8B/3eK8D8C8H8zmv8TJsX/cQIH/N+fl/9T3XLoLP/XoA4vZ+tjZ3cIf52Dv6FPg8ZpsUxHxh2niSAcJOWOOGoWjvX/Utk52sD8uY3uIZidux7zSBEmlNcIOvrqn55OPnbMSAu0tuo7CBcZWn8hTq+Fbzq8b+kF+1/D3l9bSWZNN+PGLYvkWD7M8NGE24VZPppod9HtHZmmfhw3lccuTwsNTF+HkURovhx7QtT88uo5mFRaaLPXbOcJqs31O4d2RUT9ilx6aNmRw/zCp7KuX6MXMDey794XNl8VPWcB169bCbNp5o4d+btD2Cy6D9ZcgihQpNlYxJ1XpFkr0sGwWpGCHJ5nvUqizSHzCmbIv8UMrxfEF26+6vEWMTqPnNWUIfRIJ/UW0UC26PkMrKItcwCdVaSztJ6tIKs4B7sOAq+n8Xp0QV6P9kQ9CZXXM6DamyrC69GevST635sKFcWsd1dhly4aM2o3kWh3qCiAvXvK5fUWevbYPO+SqECoKCS9u8y8nnoC+1ErMK9XBF/ex4q4dGnX6zHM6xmw5t1bzKVLK7MX83oGsHlvyLh0Fef1aE/Kk0b5CtB6H9ATpvVozw7Scz2JqggVRaV3a2lej9ZYx62Y2DNg0HP7LA8NxB4Qe0DsAbGnE3s3AbEH+q/K+B/Qf5+i4/+uyQUAAv33zLD/hPTfPuB/rEi6/nvO3q7/M/dLp531hbPff/fiBlsk/u//8968t/f8NyAE+n+Y/4H+f3z+n4P5nxk9/8NNTv/NF4j/B/P/Vs7/GPTftEr0UURW/42/YnLSiac/0IcmMvpvX07/7SCp0bCjhibckVq6ncjMrtCRYhLwHKk8Gs5NBGkS8FBWAr7i9MuGf/Lp19XJnr31oV/snn8sM6nyUoE4enruQgJwUo0MGDBGBnTNcdFjROtNkwoLuF0k3G0NHeRWfZYsNyd06eMX7Hn+gSezc0JnY8HprqcLnIa+p9CcEGkIhefITJnQRAFFfMaSWcq2YA3OTA21BWuoLVJD/rSNwzBtU4YY3KNe5FC+GFyN5/je8oiuCO6MeJxj546Wv2XTM+lZQBNuiSbc8EQYJxzgQdJzIF8TboK5d68tW9ikCT9Iot2hokD2vlC+JnybzfMqiQqMEw7wkULhALW5o0fw3FERHHqPaXNHuJxBE34NnnM55gyZkOd9syZbxigKVwu9iWePDGDzvq3NHtFUKVX424Wmj96bjCp8hzqR9x6WhRcBpve6WcbWFZGFXzergCz8XZCFw+wRzB7B7FHe7NFOmD2C+R+Y/znl+H8B5n9m9PyPMOXzP7D+g6XzP331zsjvX/uvwbvCO76y5msfOpfc/d3NK95uPQIIAfwXx3/ptZ91aFS2/jOHXwkA/xbiHxK8/8P7P7z/T/D9T4L3/xn9/i9N+fs/rP9saf//wG+eOkr97+AN/D337n3nO8/uOfFEk+Nfr3z9F4AQ6P+h/4f+v8Tzn4X+f0b3/+yU9/889P9W9v+U54pXO8546IGhc24f/fThu249545H5Uj87+8FhED/D/0/9P8lnv889P8zuv/np7z/B/23pf3/wm2f+vHPGm7/6oXzzz+r8eWNXzn7Z+t6Xtqzpg4QAv3/dPf/4P91ij7/Jzf8B/DNEPuXjP8n8RD/78+UCsf/w+suNGFnDz3+H/6XJDShAN6peja15eL/8SSRW/SjaOg/ouCiH1rov+X5of8e/PlDy44cxpHDRq4403Wk86jmOdJ6jf5Tz3DLnuPcsQOvhWufu3Hzsb89hsP/PUgyvd2MBzfsc6pT2qURRw1FLHHRRAB9RC36XwNJtLjcRBv61eii21sjWqtUb7UAdktaWGrVj5a+sbEAqRo3v/4jyxbE/+r2+4kC5/RL7/UX37r2OXROO/cl9g3ecrd+TvoOffOey3fHnvurA2Hqo/Kv/nTDo2GzeSjVPGTOPPmmwTvNRVrVIjW5IngDDgiH3/BqiEIxAJ1jbwI9BqAzcxHybgXz8iZ6Gs1r/djrOWp07XGH8tb8+JAg7ZS5Sdp9aQpLiDfozcF/waurzIiABpyPHxFwd35EQBOUvdvHiQh4G4l2h4ri2nuX5tXlpEpHBHze5tllQwXGWenjQUe2JbmIgForHsReXUWQ6D08bkTAw9ipy4A87/7xIwLurwmZoOfdpfl0OVGhcSMC7sIWMoDQe32tfqUmEBFwv+pfd31tqCgIvYfqjI0rEBEQt+5QXciMxx9CQEBw6QKXLnDpgpU+gP8B/mfGjP8l4H9mNP8jTS7+j1hg/VdY/91K/scQ/+dM9b3+dCIb/wd/bUIfHN38DPQ5s9jAX1//YbTAuqZ6DkM8ELy6aAvKvZbpzmsD/cmmh376RsNrxhHKQpXTORJ21PSiX3qmf2348TXPPvNq+GI1RNCvMA+0k2Qu6mbm4sat1GL9jIZr51A4OBEmgIgW9MH0T6srF6xIDf2zlFlhDv3TbhxlfmSrIfQPVUu4ScLGLiOUmq34emkkGZu/SMby0cd797w854LND4dvXxa5YeBb/1wg+I+eo0Dwn52EIXQPHnpl7WEK3XMmYQrdU7AGvLJvS8EaziqzBkeGH0Q1NDJN4wQAqmvXQu+o9ZgiAKlx6k+uzL/WxghAJ2x6Jj1LgYVpbUShhWkLLyExn7TTQBgVCAOERvKmMECGB8M4YYC0lVULLQ2rhwHamQkDRBjDAN1Deu4i0e5Q0YeA90D5YYCesHlusKECoaJQ9h4qEgZoH4l2hYoiUl8atlgYIHVtWAMGvUdLhAE6iikjA+y8b5QRBmg76dlJopwF4gAdz5BGxMTjAB2vDRWFp3dbOXGA1DBF22YVWEZiRz0EAgLWCFgjYI1yrNEuYI2A/wH+5xQZ//PA/8xo/oefZPxnH8R/rir+x6W+odfm+J/ajFJkFvrUo4+rqPCjJP9DFOJ/5qn8z/p8/ufm7/5u4aU3v2rif+584cuHTzz7uR+Hr7vrv69ffdar4bk4Omnj82G9QB4vYF4KVOWAmjAHJLhodSlQt4tuZyP60LBY6GehnNDPxA7mTvdnttuLcT/bT3znplDPt8NNl+K27i/A/WRzmLmf9kK8i24PM3NTb2ZuCtYwW7emqYbZZdbgyCmIDNxPTTHup70M7gfdHUbu5zED9zMahujPlkR/NjwPMrSPWSdkpn2IYrSPUSek0j73ZmifItj3Plw+7bPP5jlBogKhogjWdUL5K4fqtI+qEyoCRu8LGu1D0YVpnxcw7WOAn/eVmmyZgrTPK5j2MSDOe0SjfSgnXYr2OYKtZICbd3Ty4Z9HC9E+GWR6T9YZm1ck/PPJugLhn9+E8M/A+gDrA6xPHutzC7A+f7bxH9uzbjidTG1Qb3087IsHxWgUDYQCAUXm+ETMJycWTZga8aMhUVH/TzZ//p8jWF6U8Py/BOO/arO/Dv5F02t/H+8D+1e1/fXIr+Xaf1z/b5P9/aIE8Z+r2v5lhv4tz/6cwf7oC8T/sSZB/F94/5sQ/nO+vyWfAKXxLxrxL4qAf0vx7z5jiAI0AP7LxX8O/pN//xPG+P+r738+HvTflqSr22J4prdtcZuJhu3v68qwYV1j7ozVA3GlD3NJyX4FXbz+wbbFnCTyPBuUeE5k2Y42tfxFGhWEaua7uC4BFRhJxtGv0ncZyooqkPtXy4OYJhsYGR4cGV420IcbeWUKFUpiai6Zym5dJqd7zsd70OZeORXvU1alNsl96uGUdHog3XbttRDJaCrwX/HYf2Ljf0lErwQw/rfE/lWg//IJZv2XBPqvasV/Xtgf3idwrD/g7/SzMb5T5FilU47G5M6AIok+ReKDcT8Psq8Zbv9S739+9LI3dvwniBKM/yxJGf2XyPg6GErX4tgvVoaabGsG1In6MzQBjs1OOgNzVKZozQBWOF2MJ/ibuw3yGRvWpjj75KjSZ5bD1C+wZYUoCwjCY2tuaW7BspN6VaUQyJQzihEoz6AnjXUoY9qFNtoq1A/cTJYzBaw1otx52iEVNKZ5WjxXavHk6U3kBCZPJ4L/Srj/ifH/Ph+O/wz4r87nfyXc/4T4f94vCjD+B/4f0swY//lZ8/hPgPFf1T7/JzcAhLD/M8z+lc//CaII/b+l/f/tdYF/AjTMYPyzfM+q5St6xCDnl4OsxIkCGw/E5GhC9C+a5DEq4v8ltJ3nWT8H/H/V2H9Cqs/J2F/wSWD/KrR/pczPBPgf1f4SC/1/Ndq/UuZnAvyPZn+fH9Z/AP4HUrXhvwLVZyX4Fw3497EC4N9S/N+YXP4zQAPgf3z8V6L6LB//AicZ+3+eA/xbksrTf6I7YxzVJycFfUIJ1Wexe8ug9exPppYPxFaklSvaFktjNJ698lAvypwvBpXTityTaeIQSDynD/+TGPtXPv6X8PifBf9fq+xfBfN/knn9b46H+b/qwn/epI/i51lZCvo7gzGB7xR5KdgZ4OVYZzzBBoKJQNQnBaOg+gT7Z+xf4v1PDfYw5v1PEDifH97/rEgZ/acauM2WXWcRh/LPW+YuE7iNzET4n83MzWX24V01TeqqjSTeewYzT9/r1Pa62LyVHUkcQm4n/r+bWYqjtm1HO13k6Ie39n2099xzaiIxx8+ijTucEd/lnXfc/f4fw/3Hv3Bk8zO1kZtPH3nP+4Yj8ubDL//7gcSfwusSnzjykcj74dE1X+1dM/9/wsE3fkTLax2RV8/r+bsu22/CP1jzTmwLSUcObrrx6Xderov87Xn/fN/RP5wM/+qrt7R94/T6yDvJ/a1vnENFFn99/U/OW3M8/PM9f9gbeZGOXHbj87tarv7v8EWPEJ9Kfe9o+KqHWnft+bsPw4NPHn7o6XtPhH/+iZc/eVnqg/Dmg44Lwu++H170O99XPmiwRd6946+X3nj+u+FE+/7LHv+uPXLJ3E++9sBqe+TRmj985pzr/xheO/8fNpw3h4j84m72c4/d+b/huwbOPm3T/uPhr+yWVtMDJ3EwwPtp5k1HB7N1qzsbfVBvrSF22deorTgEl/3k6IdzSOy4icrYHTesx9cXpW1LCbuNrK2fR9jtJF1/gxdt/2gjcf8nCbuDnFt/zIl+L6OJQxe5JGpvjavd/diZhL2GbHc/S+FwjLXu52nCXov+7qgl7HXo74nPE/ZZ6O8hZMV6spa61+WaSx2pdXW6f7uSsLvIM6ltC1A1751B2GeTc6kb6l1nUtdf7Kol3mi4h9qxzPVl+uE7SJfffSdqwRzST7/yj6RrCfVIi6vF/e65hN1NtrgPribsDegQ+9Ch56JDXGd3dVK7g6iiPc3oYLvaXGHi/oZ26hXKFacOO1y11E2z0T+PUagRH7QT9tPIS6gDq1wriRMNO6mnaVc7tdOF9t8udLqpa4iPpalXXOhsn1ULnob+efCvOq+nRhnXn4hW1xnurW2EvZEcIvY1/CPhcV3u/sBN2BnyjI6nlxN21TH2Vju+uW+YxbzpLMtCTzlaMnYhXXSL3blzBTo9giSpfe6GOvfOM/GFOo0m3qXQr0eQPTyORvf2RmQ2R537bWS309HfVxajq43+foC2NznqqNuphsb6J9H1Ia9oIogDDchGjnnUL2sb5rmPeQh7s6OR3jeXcG2mdvgbVlBHxYYQ9WpNwzzqRB8q14Fs7/gk9eSFDae596HrNcvRSL1NN3DUTbMa+t2jdYT9DFTZ9gUN3yOeYC4m3mbmUbuublhL7XCiuo7bG1a470E3w5mOFdSdXlTn2+g0qPdsDddRd9U0xKmTtQ33U79sREc8uYG7grqtrmGh+1gLunkcl1AvnMZ9gtrR0LCQ2u5qeMz9Cjr3FsdC6rcLUDW77Q0HG5++jiTsZ9XOr2cIuxOd7/3oVpjnqCPOQHU+elrDZvIxotlxFvV8PT6X+oZR6rmzGxqp+z+NLt1BF7oaDp76bX3DZmpbQwNPvbu6oY44zjxG39NKoDvl2KyGEP1kB9F5wP1TB2Gf71jr/im6yVvR5XxyZUOK3SdkDEzcNQsvHLu/kKDdnownGFqLnUhhOfiCefiHrYkaSl6l4Bw1yVQ8GVPMmndbfvBFrI3fJPeNKCVCRarK+G4tIKNE4Ph6uAXqkRmbx+a5yHOJGpfR8Jz2Rg0FcOvUAgFPyBsNqU9j712kFufR2bwSZ9JbblTd2zzLPStR5kypY2R24VFcKnMaxkJbt7Z6bmv2PDwX5Q8VxYbnjTMq1u7/B1Ve7L+EWbg/EseZx+M5+pIpuW9D10VKbHggfeHy9ZiV2LIsU2Bwy3j5UIPXlx1dTs2RjcIW3TJcSVw9bMzxQ7iNGwouY+Zy/Rpy9U8qAJ12m1gR9O6yay32t+ik/gKC1ZX//j+xuf+y5n9M/I/I+SH+U5XZf2Jz/+XN/xntL7E8+P9ZOv8HaabyP9XA//pg/Zfqf/5PjgAGr48Za/+S/b8gGvlfVgL/X0v7/y89T/xyy03Xd/R6z7vjwG8e9dsePzgH0DGT8M/1rJSHepOpDevRU0BCNz2riHE+IMXQeDfIysGJCwAqm/8X8Py/wEL8p2qz/4S9QCq3v4T6C7B/tdp/WuN/qPb38dD/V6/9pzX+h2p/P8eC/w/wP5CqE/8VeoFU5v+h4p8H/z9r8e//bf2ZgAbAfzn4r9QLpKT/h8gZ3/9EmP+xJpXn/5G9M4o5gPgDgRIOIOPfXAY3kGgyJae3ZAUR+U4fGT+QPM+QKwfS8SFVB9G/QncGWYyGEOgWA5+Q8vEfNMb/ERDaY8hEkhTlo4GY4Jd4y9Z/EzkfjP+r0P5Wrf/G+cH+VW3/aV7/TYD4D9Vt/2le/02N/w/2B/4HUpXif3rXfxNg/U9r8T//58IhQAPgv1z8T+n6b6JofP+TBPD/rCL+p+z139iAz1/Z+m8F7jIDGZRH9SyJDeMqi63yNpYpUtfxgLAgU4p/q9Z/E3g/jP+tsT+s/wb678rwnycEZoP+oBj1xTqj6MnfKQZ9ic5AnI13ipwPwVmKskpUgUggM9z+Jd7/OBzs27T+G+i/LEmZ+B+PkcwTZAdTp68AV3PRwAh6E0w31a9IK0rrhYMb0nJcUZ23e7T14ObZSSf1oZ10ja5es6QebcnP2Ix+n5/qjCv96D2tdTAZ2zgy2No3EJPx61sN2pmp3o1bkFb6kyP9rXogN4sWlavz7LZ57rRhN/pxThZnglXm8r2ev07+BXg9Q6qq9z9Y/+mU6v+7JvcCCJ6AM8z+Jfl/njWv/wT8n6X8/0cvv/ycZPcFFCAC8F8K/xas/yvxHOC/ap//07/+ryDC+N/S5z+kmf78Z3vWD2xUUsmrMPYDrCBzAYGNBWTJ7xcTQT5hrf83ygbzP9Vlfyv9vzkR7F+19rfA/1sA/Uf12t8K/28c/wHsD+9/kKoQ/9Pv/y3wgH9L8f9Oz7W3ABoA/+Xgf8r9vzmT/7fEgv+XJak8/W/2zijm/+1jS8l+x7+5DJLffBmv7t6dJwNehow20I+qWqekNyVjCoh8J49/juvRljVYMjSk9Ef7sKHikhzkYqysBATRF4wmEpwyERZoAvpfFj0SYPxfjfafAAtUmf159fnv58H+1W3/8lmgyub/sP3RH3j/r3L7l88CVTb/x2P/Tx8H87/A/0CqZvyXzQJNwP/bL8H4z1L87zvrhk8DGgD/5eO/fBaoFP5F1Ocb8I9+Av6rh/8x3BlFnL+5gK9UFMBybrFxuCDdRyiPDsJONW0blFQc1ZbcjD1kdHIINW94ZEjbmP994MqUnndZb7IvnlawR/mSDfjA6+Th5FBC1t3MB9NKPKn+6JHTitx22V8c0ZTjf8We5Uosia22Pq0o6uKXyUQS20gW5GgsnohxPjbKS7FEPD6N8d/U9d98kgTj/6q2fyU0UMX2R18EsP+pYf8yaKCK1/8UOAnmf08R+5dBA1W8/qeAMgL/A/wPpFMA/6VpoIr8/zT8Syz4f1iK/97aNy5RjqzqB0QA/ivCfxk0UOn4L7zx/c/nh/UfqoD/iWXuAi1wS1ehG0TbNU5MQM4visEStFAFd56BHeqXN69W+gfSW1alVi9tW8xLvo62/mRqVQq1IhVThtYq6TWobag5mM0ZiMrRZF9yeItGJ+Vt0PidDlzf0mQKXQ+B78jSTVpunKMnj4HKkUN6bWPJoo62ZP/gSBpVjnZuSKaSaEtavnKtodiYTXrJGLYDbvgqHDUmswyGel6JgXPlJLqCbBfboQWRyWudFvIQFe9VYhsHB5Kp4VWpYSW9SUY5OFY9u+XK4HBv22IJWURR0LUPSj4uyAUQ+Hgf65O4gO/agktpqBtV2+BtARBczeznfyUSoMr4Hz/Wf4jg/2eV/ash/o9ojv/jh/g/VY//7Lsf18lHYwFBUfydChdMdIoyG+uMijJClCgqAsfHfX4pAIEgZ6b9S7z/SzjYV+7570Pv/xLLwfjfkpSJ/9jKtHcwNPpCM3RLE+VEe5ooO/pXjYLoDuGvODaQA33wToZiWKatm3EyaGsTQfAk0T4a1qpsjKj11OMKKa1CWt+jf8tUTNXb7LcSKHuEWZ53fPrVtcwz75z9RljP/lpYzd56zYM/GLz1pjdeD+sZ7rs6/eI/fPn1sJ4NHXCUZHaS3cw83LLNBEGS9NZVEbKGJraurKUposVFE+3o04Y+NNqwdUUtOkgDSzS63EQT2tjqohtIajTsqmuNaNW68QktZVZ0oGZSWnxMrV2oYsMJfWQrvkK1J1HCnGrERtW6eX69B302BXZd8oN/e+tR9dKJ+qW79MjHzvzEvRfcHr7kB8fv/vBjt2fOZPRx8zXUc+qHHH08ew33EmYbOlQbfohSxoa6/T7MJHORGmORmoy584p0MKxWxKkWefwJe34Rz3o1OOgcvPmTI2SuIMW4mcZuxoZPmm7RrxmqZh7Tpp1k3nXFzchdV9zuOQG1XgLfh/YH0Ee9KvWZCqn6TOPQMfTKcOPw1rzG0S1a41BpW/MHbkOQUTfB2BYQTbZknGDq0Je63HhO20DrwzkcjdSl/1g3LA+bg5Li/HqwUe0XtQEN27RD1PYpiWFVeqD9rksnN/RmNqCqHUODaESKKlR31mdGnGpYHry7WS0tDysbBtJJZej89PpeNEzrHeiLl2gFrs2FB3HZsoSHbm5p3o+DpdqaFxB0Mz57xuahPVFPAkdGNT4IvKkWpq55AU01518etcRe0rOb9KZCRbHu3W5TC+PDZC+lWnQX6bmNRLtDRYHvvcuulqWczYGxV94Y1jXiucfuOWxDBUJFQeo96siehmoW/QT2k2hXqCjSvDtrshcqZ8Ps9dpZEzKhzvv7XJE8M2fL/B6XMcDO+4pqD4mgnc0LtZthzE2gFk550ihfyARA749q9Su1Uitb/H4xXjsaWdBzD4mqCBUFone0Tm0cTWUbN/aeUusZ9lyDMoZMCPTcVe+hKwynu6umnHC6yXg2lG5bMoUao6qUcoFxdQolPzJuR7Z07l7O1RIfGMEly68ky/ZMvgr11i43NnD2KGNjA6tHKhUcOHdojINJtDwLh8mYIQeQydSi3pTmizfOzZOPrskcuSjSrDXlGDxWfj6XWRxR+sYaiCg9o/kfnuVM/A+e/wX+p8rH//mBgCdAAEEg6Jlh/5L6D9Go/xD9wP9Yk3T9x1lLjv5f5kt31IfauLe/8/0/PPj9T52xecubO72AEOj/of+H/r/E81+E/n9G9//i1PX/PrX/58H/z9L+v4H75yUHvvPx0+65ct3oyPWe/3jrga2/f+CzWz8PCIH+f7r7f9B/nKLP/+zj3wf6j5nY/5dp/1L6D45nTfoPHuJ/WJIK6z+aCDwjyRBZ/Yf+9XRClXtg/Qcq0o3+UHi3VpcuACEiqjygziwAIbJTsaPaxK6dJu11BSs7oldGFKvsSNgwr4srmz2eMqUVN4xnfCYhB9pjqKv5coOQw1bbSLgJimglxm2uKtwo0dzMdLLeXFUYQWnCCLwjo2UYWwnlIcZMEhcqfHrRwqeXLnzfgmzhuYwnX0WB9+QVrm3VVBS4CoL5ONOly0Hw1fRd3nnH3e//MZz75lHlQmvz5BvfJPR9IOKwRMRhQHNGxEHRZhHHLoOIw4RXXcRBFRJx7M6IOIrA03tP+SKOH5GeJ0lUIFQUoN5jVLYlORGH1opjVKgo6rxbneqFoswijrTnKrQ3ZMKa90SuiFHEgcucwGUMEPO+pwo/JMpJFxdx/I1nG4kyhkwY856gNa3MhFQc13i2kqiGUFE4ek/UGhtXRMRxoraAiONQHYg4QMQBIg4QcYCIA/gf4H+A/xGA/5nR/I8wOf4HgX2s/kNiefD//zPyPy51MFOX43/w11noU48+rmL8Dx0pRdnQkYKUDfb/CeX7/7z12UPzvvTWr40jSPSUdpGX6juPxr5f/+xDvwi/fMXiyFOHXsRswiCzopuZjdsUUJkfajRcO4fyRWpp1bXH7aLbGyN5JNVi5hwzF+QzNvKsQQMXZK8lbMQlS6mPR6m2uZTa/Eh+8x/+zN3bfvCfDxmHnqj5DjI++ri++2DPx7/9w937w8d7+59jfv/NsNkOswmDQw7+qttgtnahDUVOK1QEb3SjzxytiMGHZ/ertkI+PHjD/3uDJHY+aiNwlsn48OAax/jwnAQfHqvoHwOYK6B/6Ip8eG7K0D9FwOu9rXz65zabZ5REBUJFMend5si2ZAz9s4tEu0JFMei93TmeD8/tmMoxoM570jmuD89JXMYAO+/RmvJ8eI5i9scAQO/z9KR9eJ6nQ0WB6D2eoX/oUj48xwvRP28D/QP0D9A/QP8A/TPDx39lLgFVWfxfv7r+jwTrf88Y/g/036co/nP6Xwn03zPw+V+m/Sek/4b475YkXf9938Y7O3/691+r+f5F9956yStLv3n1vy9Y8I0v+BsBITD/B/0/9P8lnv8C9P8zuv8Xptr/m4f1Pyzt/8NXXnHrol994+Y79228//JXOfHlAy8mfrTnNej/of+f9v4f9D+n6PN/csN/AN8Msf9E/L844H8tSYX1P7jbb6IaiKz+B3+diz54mhvvHNf/y13U/8tdyP9rdsHK9HQ0XKyyo4X8v6jx/L+Iov5fRBn+X6g+stFG2Aqf++Pa3xeKNveFQv5flMELC8+yq9fX5MKlmWSMC1ehwkzBwkx5hbEXSgX+X5TZ/0u/hnlX0+T/9UjWtiAAskQAZEBzBQIg9yT8v45Oqf8XMUH/rxcm4v9lwFpZ/l8GiGX9v8YTAE27/1cROGb9v0oKgMD/CwRAIAACARAIgID/Af4H+J8i438R+J8Zzf+Ik+J/0E5z/B8J+B8L+Z8mpqUDjbd1/setDmZm62Ot+g78FTsPuTV6gcUOP9nsmcFFk3GIlmFfmiL6EFItKZpLmkKFNF363R98bHPQ8Z/hsa09gp28Inj1JBpTBq3YoYryRRw1lOrbpWdTj6Q6ObGlfLs86/GqJjUZmoe12WqOfvP+Rw58c1yS50iW5HGWE+SnENXSkMfTZCtRx+hl8DRzCxaeW17hV2M5kseZZVnwVjPJU5NH8jjHI3koI8mzuBySx1mC5KkBkidL8jjzSB40+s6QPE7PJZ6/VkkeA2S9CW2JI8JI8jg915GeYW8iVBS23pfIbNl8jkctuY1Eu8eJ8XPEVibHw3peID3PkqjAOE5eD1KmhZqcGY7nwfFi/Dzj0K4TZeB4nCpf84wjZIKa90lntshYjkcr8yTmeAwI8z5WY1wLycjxODWO5zHM8Rgg5n1S43icROUcj1PjeJ6kx1mo6cnakgs1OVWO58lCHM/uOo8TOB7geIDjAY5H53h2AMcD/A/wP8D/mMb/PPA/M5r/4acw/o9f439g/Yc/I/9Tqw50anL8D/6Kxxe1xbQ/Y6iXgtTIaCG5jrNIZd9eduQwv/CpApXpewpUZlPJoa4x5FBTxFHDkO3tkVLMUHtpZmj9hS9eePGFRZih8lucxwzZCvAztQXJnVozuVOocF3BwnXlFT6WIAswQ3hrQWbINjFmqAuYoeljhnLynxwzZABzhhkyy390ZiVHDZkg691aWP6jF92KyZwiCPXu1uQ/TqosaugZEhUIFUWn96hZ/qO34igVKoo670lHYfmPRvOcdIRMWPMeLyb/0cocx9SQAWLedzVqyEnRJaihdzE1ZMCY9/ikqaHj41FDmfg/eY0rQg0VjP/zCFBDQA0BNQTUEMh/gP+ZCv4H/L9P0fF/1+QWAAP/75lh/wnFfwH9jyVJ9//21q069P7z77Q7F734LxD/Bfp/6P+h/6/g+c9B/z+j+39uyvt/WP/T0v6/901p6Juf6Olu+Vbnu7YNQerRjSPfOvdSzz8BQgD/xfGvBwAe/0leEv+cMf4vJ7EQ/9FS/EOC9394/4f3/wm+//Hw/j+j3//5qXv/92vv/7D+m6X9/9HtB/e+6Jv9L1eeE/zd7EMP/xfEf4T+36r+H/Tfp+jzP/v4Z0H/PRP7/zLtXzr+I2da/5WD/t+SVFj/jfmAJiwV1PXf+F8yQxRMpf6bMocEWH3xtsDzT72Ocq+/EKVPvR7OhATQd+ibWwIPP/5vu17HIQGeIJm/6UYngRp0OWooSUcuiJA1NBFZW0tTBOuiiYXo40WfdvSh0acV7di6Cn1ZXUsvJFoiWrvacIDIAF6L1iAPR/XlFsVU29PSN1YeTtW4+fWK279euf0zl2w0n9boxto/7NlwHzqta9y2nrmrb9NPS9+hb151D3fVbdTXw2ar2FWrkDmr6BbBO8zZm9TsdC473oAX8aW17O3MQl27jbNvFu0o+17GpmWfu1wTWuMNeNcbC+ylVoB1jrcCLP5nzAqw4fFXgAUF+NQpwA1w1mMDUJNQgBN04eAAqgK8CIS928pXgB+zefbZUIFQUQB6D5hXgNVbcQCvAFsEcd6DRVaA1a7XQazmNiDNu6umyAqwWpldWMNtgJt3NLMCrHMcBXjC8wWUL2QCn/clWr9SExCAayvAvlREAa7W/0FGAY7ugfEV4B8UUoCfBAU4KMBBAQ4KcFCAQ4IECRIkSJAgQYIECRIkSJAgQYIECRIkSJAgQYIECRIkSJAgQYIECRIkSJAgQYJkZfr/7hgkNQBwAwA=\" target=\"_blank\">Download file.</a>", 
                        "text/plain": "<IPython.core.display.HTML object>"
                    }, 
                    "output_type": "execute_result"
                }
            ], 
            "source": "create_download_link(filename)"
        }, 
        {
            "source": "<a id=\"deploy\"></a>\n## 6. Deploy model in the IBM Cloud", 
            "cell_type": "markdown", 
            "metadata": {}
        }, 
        {
            "source": "You can use following command to create online deployment in cloud.", 
            "cell_type": "markdown", 
            "metadata": {}
        }, 
        {
            "execution_count": 49, 
            "cell_type": "code", 
            "metadata": {}, 
            "outputs": [
                {
                    "output_type": "stream", 
                    "name": "stdout", 
                    "text": "\n\n#######################################################################################\n\nSynchronous deployment creation for uid: 'f17b991c-3098-4cdd-86d9-d56174ca4b00' started\n\n#######################################################################################\n\n\nINITIALIZING\nDEPLOY_SUCCESS\n\n\n------------------------------------------------------------------------------------------------\nSuccessfully finished deployment creation, deployment_uid='6dcd1e22-7bb0-46a3-8b5b-de852d49d7ba'\n------------------------------------------------------------------------------------------------\n\n\n"
                }
            ], 
            "source": "deployment_details = client.deployments.create(model_uid=model_uid, name='CARS4U - Area and Action Model Deployment')"
        }, 
        {
            "source": "You can use deployed model to score new data using scoring endpoint.", 
            "cell_type": "markdown", 
            "metadata": {}
        }, 
        {
            "execution_count": 50, 
            "cell_type": "code", 
            "metadata": {}, 
            "outputs": [
                {
                    "output_type": "stream", 
                    "name": "stdout", 
                    "text": "https://us-south.ml.cloud.ibm.com/v3/wml_instances/9ebe661b-4d93-4f22-905e-e2ce65feff29/deployments/6dcd1e22-7bb0-46a3-8b5b-de852d49d7ba/online\n"
                }
            ], 
            "source": "scoring_url = client.deployments.get_scoring_url(deployment_details)\nprint(scoring_url)"
        }, 
        {
            "source": "<a id=\"score\"></a>\n## 7. Score the model", 
            "cell_type": "markdown", 
            "metadata": {}
        }, 
        {
            "execution_count": 51, 
            "cell_type": "code", 
            "metadata": {}, 
            "outputs": [], 
            "source": "fields = ['ID', 'Gender', 'Status', 'Children', 'Age', 'Customer_Status','Car_Owner', 'Customer_Service', 'Business_Area', 'Satisfaction']\nvalues = [3785, 'Male', 'S', 1, 17, 'Inactive', 'Yes', 'The car should have been brought to us instead of us trying to find it in the lot.', 'Product: Information', 0]"
        }, 
        {
            "execution_count": 52, 
            "cell_type": "code", 
            "metadata": {}, 
            "outputs": [], 
            "source": "payload_scoring = {\"fields\": fields,\"values\": [values]}\nscoring_response = client.deployments.score(scoring_url, payload_scoring)"
        }, 
        {
            "execution_count": 53, 
            "cell_type": "code", 
            "metadata": {}, 
            "outputs": [
                {
                    "output_type": "stream", 
                    "name": "stdout", 
                    "text": "Predicted Business Area: \"Service: Knowledge\"\nRecommended action: \"On-demand pickup location\"\n"
                }
            ], 
            "source": "area_index = scoring_response['fields'].index('predictedAreaLabel')\naction_index = scoring_response['fields'].index('predictedActionLabel')\n\nprint(\"Predicted Business Area: \" + json.dumps(scoring_response['values'][0][area_index]))\nprint(\"Recommended action: \" + json.dumps(scoring_response['values'][0][action_index]))"
        }, 
        {
            "source": "---", 
            "cell_type": "markdown", 
            "metadata": {}
        }, 
        {
            "source": "### Authors\nLukasz Cmielowski, PhD, is an Automation Architect and Data Scientist at IBM with a track record of developing enterprise-level applications that substantially increases clients' ability to turn data into actionable knowledge.", 
            "cell_type": "markdown", 
            "metadata": {}
        }
    ], 
    "metadata": {
        "kernelspec": {
            "display_name": "Python 3.5 with Spark 2.1", 
            "name": "python3-spark21", 
            "language": "python"
        }, 
        "language_info": {
            "mimetype": "text/x-python", 
            "nbconvert_exporter": "python", 
            "version": "3.5.4", 
            "name": "python", 
            "file_extension": ".py", 
            "pygments_lexer": "ipython3", 
            "codemirror_mode": {
                "version": 3, 
                "name": "ipython"
            }
        }
    }, 
    "nbformat": 4
}