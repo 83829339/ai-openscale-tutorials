{
    "nbformat_minor": 1, 
    "cells": [
        {
            "source": "<table style=\"border: none\" align=\"left\">\n    <tr style=\"border: none\">\n       <th style=\"border: none\"><img src=\"https://raw.githubusercontent.com/pmservice/cars-4-you/master/static/images/logo.png\" width=\"200\" alt=\"Icon\"></th>\n       <th style=\"border: none\"><font face=\"verdana\" size=\"5\" color=\"black\"><b>Business area prediction and action recommendation</b></th>\n   </tr>\n</table>", 
            "cell_type": "markdown", 
            "metadata": {}
        }, 
        {
            "source": "<img align=left src=\"https://github.com/pmservice/cars-4-you/raw/master/static/images/action.png\" width=\"550\" alt=\"Icon\">", 
            "cell_type": "markdown", 
            "metadata": {}
        }, 
        {
            "source": "Contents\n- [0. Setup](#setup)\n- [1. Introduction](#introduction)\n- [2. Load and explore data](#load)\n- [3. Create an Apache Spark machine learning model](#model)\n- [4. Store the model in the Watson Machine Learning repository](#persistence)\n- [5. Download the model](#download)\n- [6. Deploy the model in the IBM Cloud](#persistence)\n- [7. Score the model](#score)", 
            "cell_type": "markdown", 
            "metadata": {}
        }, 
        {
            "source": "**Note:** This notebook works correctly with kernel `Python 3.5 with Spark 2.1`.", 
            "cell_type": "markdown", 
            "metadata": {}
        }, 
        {
            "source": "<a id=\"setup\"></a>\n## 0. Setup\n\nIn this section please use below cell to upgrade the `watson-machine-learning-client`.", 
            "cell_type": "markdown", 
            "metadata": {}
        }, 
        {
            "source": "### Training data setup\n\nBefore you use the sample code in this notebook, you must perform the following setup tasks:\n\n- Create a Watson Machine Learning Service instance (a free plan is offered).\n- Create a Db2 Warehouse on Cloud Service instance (an entry plan is offered).\n- Create the **CAR_RENTAL_TRAINING** in Db2 Warehouse on Cloud.\n    - [Download data](https://github.com/pmservice/ai-openscale-tutorials/raw/master/notebooks/data/car_rental_training_data.csv) from git repository.\n    - Click the Open the console to get started with Db2 Warehouse on Cloud icon.\n    - Select the Load Data and Desktop load type.\n    - Drag and drop previously downloaded file and press Next.\n    - Select Schema to import data and click New Table.\n    - Write name for new table than click Next to finish data import.\n    - Use ; as field separator.\n    - Click Next to create table with uploaded data.\n", 
            "cell_type": "markdown", 
            "metadata": {}
        }, 
        {
            "source": "### Package installation", 
            "cell_type": "markdown", 
            "metadata": {}
        }, 
        {
            "execution_count": 1, 
            "cell_type": "code", 
            "metadata": {}, 
            "outputs": [
                {
                    "output_type": "stream", 
                    "name": "stdout", 
                    "text": "Waiting for a Spark session to start...\nSpark Initialization Done! ApplicationId = app-20181030044945-0000\nCollecting watson-machine-learning-client\n  Downloading https://files.pythonhosted.org/packages/9e/30/254f30d6f7b77e562370484791f0fd5d4fb024d43e20a5609d4edd4f2f7d/watson_machine_learning_client-1.0.338-py3-none-any.whl (933kB)\n\u001b[K    100% |################################| 942kB 791kB/s eta 0:00:01\n\u001b[?25hCollecting tqdm (from watson-machine-learning-client)\n  Downloading https://files.pythonhosted.org/packages/91/55/8cb23a97301b177e9c8e3226dba45bb454411de2cbd25746763267f226c2/tqdm-4.28.1-py2.py3-none-any.whl (45kB)\n\u001b[K    100% |################################| 51kB 1.9MB/s eta 0:00:01\n\u001b[?25hCollecting requests (from watson-machine-learning-client)\n  Downloading https://files.pythonhosted.org/packages/f1/ca/10332a30cb25b627192b4ea272c351bce3ca1091e541245cccbace6051d8/requests-2.20.0-py2.py3-none-any.whl (60kB)\n\u001b[K    100% |################################| 61kB 2.0MB/s eta 0:00:01\n\u001b[?25hCollecting urllib3 (from watson-machine-learning-client)\n  Downloading https://files.pythonhosted.org/packages/8c/4b/5cbc4cb46095f369117dcb751821e1bef9dd86a07c968d8757e9204c324c/urllib3-1.24-py2.py3-none-any.whl (117kB)\n\u001b[K    100% |################################| 122kB 2.7MB/s eta 0:00:01\n\u001b[?25hCollecting tabulate (from watson-machine-learning-client)\n  Downloading https://files.pythonhosted.org/packages/12/c2/11d6845db5edf1295bc08b2f488cf5937806586afe42936c3f34c097ebdc/tabulate-0.8.2.tar.gz (45kB)\n\u001b[K    100% |################################| 51kB 1.7MB/s eta 0:00:01\n\u001b[?25hCollecting lomond (from watson-machine-learning-client)\n  Downloading https://files.pythonhosted.org/packages/0f/b1/02eebed49c754b01b17de7705caa8c4ceecfb4f926cdafc220c863584360/lomond-0.3.3-py2.py3-none-any.whl\nCollecting ibm-cos-sdk (from watson-machine-learning-client)\n  Downloading https://files.pythonhosted.org/packages/81/6d/caa16a1a85af26bb2c4902644f43b233a8db2a7d7485792c25601f67a5ae/ibm-cos-sdk-2.3.2.tar.gz (49kB)\n\u001b[K    100% |################################| 51kB 1.5MB/s eta 0:00:01\n\u001b[?25hCollecting certifi (from watson-machine-learning-client)\n  Downloading https://files.pythonhosted.org/packages/56/9d/1d02dd80bc4cd955f98980f28c5ee2200e1209292d5f9e9cc8d030d18655/certifi-2018.10.15-py2.py3-none-any.whl (146kB)\n\u001b[K    100% |################################| 153kB 2.5MB/s eta 0:00:01\n\u001b[?25hCollecting pandas (from watson-machine-learning-client)\n  Downloading https://files.pythonhosted.org/packages/5d/d4/6e9c56a561f1d27407bf29318ca43f36ccaa289271b805a30034eb3a8ec4/pandas-0.23.4-cp35-cp35m-manylinux1_x86_64.whl (8.7MB)\n\u001b[K    100% |################################| 8.7MB 104kB/s eta 0:00:01\n\u001b[?25hCollecting chardet<3.1.0,>=3.0.2 (from requests->watson-machine-learning-client)\n  Downloading https://files.pythonhosted.org/packages/bc/a9/01ffebfb562e4274b6487b4bb1ddec7ca55ec7510b22e4c51f14098443b8/chardet-3.0.4-py2.py3-none-any.whl (133kB)\n\u001b[K    100% |################################| 143kB 2.6MB/s eta 0:00:01\n\u001b[?25hCollecting idna<2.8,>=2.5 (from requests->watson-machine-learning-client)\n  Downloading https://files.pythonhosted.org/packages/4b/2a/0276479a4b3caeb8a8c1af2f8e4355746a97fab05a372e4a2c6a6b876165/idna-2.7-py2.py3-none-any.whl (58kB)\n\u001b[K    100% |################################| 61kB 2.0MB/s eta 0:00:01\n\u001b[?25hCollecting six>=1.10.0 (from lomond->watson-machine-learning-client)\n  Downloading https://files.pythonhosted.org/packages/67/4b/141a581104b1f6397bfa78ac9d43d8ad29a7ca43ea90a2d863fe3056e86a/six-1.11.0-py2.py3-none-any.whl\nCollecting ibm-cos-sdk-core==2.*,>=2.0.0 (from ibm-cos-sdk->watson-machine-learning-client)\n  Downloading https://files.pythonhosted.org/packages/c1/59/c0aaad1ca84586f0c6ce9481c183d5f16a6af2f271511c152c5cccc30649/ibm-cos-sdk-core-2.3.2.tar.gz (783kB)\n\u001b[K    100% |################################| 788kB 931kB/s eta 0:00:01\n\u001b[?25hCollecting ibm-cos-sdk-s3transfer==2.*,>=2.0.0 (from ibm-cos-sdk->watson-machine-learning-client)\n  Downloading https://files.pythonhosted.org/packages/4e/f1/60a4b8e2b82fa461dad02e28884e7947b235a51f221abce81d25f522888f/ibm-cos-sdk-s3transfer-2.3.2.tar.gz (189kB)\n\u001b[K    100% |################################| 194kB 2.2MB/s eta 0:00:01\n\u001b[?25hCollecting numpy>=1.9.0 (from pandas->watson-machine-learning-client)\n  Downloading https://files.pythonhosted.org/packages/98/d6/ebc4f752b683d190361248ecce4d5a0977b5c483370aa7ff63b733e8f011/numpy-1.15.3-cp35-cp35m-manylinux1_x86_64.whl (13.8MB)\n\u001b[K    100% |################################| 13.8MB 68kB/s  eta 0:00:01\n\u001b[?25hCollecting pytz>=2011k (from pandas->watson-machine-learning-client)\n  Downloading https://files.pythonhosted.org/packages/f8/0e/2365ddc010afb3d79147f1dd544e5ee24bf4ece58ab99b16fbb465ce6dc0/pytz-2018.7-py2.py3-none-any.whl (506kB)\n\u001b[K    100% |################################| 512kB 1.4MB/s eta 0:00:01\n\u001b[?25hCollecting python-dateutil>=2.5.0 (from pandas->watson-machine-learning-client)\n  Downloading https://files.pythonhosted.org/packages/74/68/d87d9b36af36f44254a8d512cbfc48369103a3b9e474be9bdfe536abfc45/python_dateutil-2.7.5-py2.py3-none-any.whl (225kB)\n\u001b[K    100% |################################| 235kB 2.1MB/s eta 0:00:01\n\u001b[?25hCollecting jmespath<1.0.0,>=0.7.1 (from ibm-cos-sdk-core==2.*,>=2.0.0->ibm-cos-sdk->watson-machine-learning-client)\n  Downloading https://files.pythonhosted.org/packages/b7/31/05c8d001f7f87f0f07289a5fc0fc3832e9a57f2dbd4d3b0fee70e0d51365/jmespath-0.9.3-py2.py3-none-any.whl\nCollecting docutils>=0.10 (from ibm-cos-sdk-core==2.*,>=2.0.0->ibm-cos-sdk->watson-machine-learning-client)\n  Downloading https://files.pythonhosted.org/packages/36/fa/08e9e6e0e3cbd1d362c3bbee8d01d0aedb2155c4ac112b19ef3cae8eed8d/docutils-0.14-py3-none-any.whl (543kB)\n\u001b[K    100% |################################| 552kB 1.4MB/s eta 0:00:01\n\u001b[?25hBuilding wheels for collected packages: tabulate, ibm-cos-sdk, ibm-cos-sdk-core, ibm-cos-sdk-s3transfer\n  Running setup.py bdist_wheel for tabulate ... \u001b[?25ldone\n\u001b[?25h  Stored in directory: /home/spark/shared/.cache/pip/wheels/2a/85/33/2f6da85d5f10614cbe5a625eab3b3aebfdf43e7b857f25f829\n  Running setup.py bdist_wheel for ibm-cos-sdk ... \u001b[?25ldone\n\u001b[?25h  Stored in directory: /home/spark/shared/.cache/pip/wheels/7e/91/03/9358f01bd4d1149f5dab84f01885e9e0d76008f2a81a44c6bd\n  Running setup.py bdist_wheel for ibm-cos-sdk-core ... \u001b[?25ldone\n\u001b[?25h  Stored in directory: /home/spark/shared/.cache/pip/wheels/51/30/29/b5f5354a30a756d66636baa1a4e3a783568be90c1f28b25cc0\n  Running setup.py bdist_wheel for ibm-cos-sdk-s3transfer ... \u001b[?25ldone\n\u001b[?25h  Stored in directory: /home/spark/shared/.cache/pip/wheels/56/d2/7e/a9a3720592e4f74ed9c6f0e3dc6d7ad3db9f875d5ee4a8585b\nSuccessfully built tabulate ibm-cos-sdk ibm-cos-sdk-core ibm-cos-sdk-s3transfer\nInstalling collected packages: tqdm, chardet, idna, certifi, urllib3, requests, tabulate, six, lomond, jmespath, docutils, python-dateutil, ibm-cos-sdk-core, ibm-cos-sdk-s3transfer, ibm-cos-sdk, numpy, pytz, pandas, watson-machine-learning-client\nSuccessfully installed certifi-2018.10.15 chardet-3.0.4 docutils-0.14 ibm-cos-sdk-2.3.2 ibm-cos-sdk-core-2.3.2 ibm-cos-sdk-s3transfer-2.3.2 idna-2.7 jmespath-0.9.3 lomond-0.3.3 numpy-1.15.3 pandas-0.23.4 python-dateutil-2.7.5 pytz-2018.7 requests-2.20.0 six-1.11.0 tabulate-0.8.2 tqdm-4.28.1 urllib3-1.24 watson-machine-learning-client-1.0.338\n"
                }
            ], 
            "source": "!rm -rf $PIP_BUILD\n!pip install --upgrade watson-machine-learning-client"
        }, 
        {
            "source": "**Note**: Please restart the kernel (Kernel -> Restart)", 
            "cell_type": "markdown", 
            "metadata": {}
        }, 
        {
            "source": "<a id=\"introduction\"></a>\n## 1. Introduction\n\nThis notebook defines, trains and deploys the model that recommends specific Action for unstatisfied customers.", 
            "cell_type": "markdown", 
            "metadata": {}
        }, 
        {
            "source": "<a id=\"load\"></a>\n## 2. Load and explore data", 
            "cell_type": "markdown", 
            "metadata": {}
        }, 
        {
            "source": "In this section you will load the data as an Apache Spark DataFrame and perform a basic exploration.", 
            "cell_type": "markdown", 
            "metadata": {}
        }, 
        {
            "source": "Read data into Spark DataFrame from DB2 database and show sample record.", 
            "cell_type": "markdown", 
            "metadata": {}
        }, 
        {
            "source": "### Load data", 
            "cell_type": "markdown", 
            "metadata": {}
        }, 
        {
            "source": "**TIP:** Put your service credentials here. Just copy paste content of Credentials tab from service details (IBM Cloud)", 
            "cell_type": "markdown", 
            "metadata": {}
        }, 
        {
            "execution_count": 2, 
            "cell_type": "code", 
            "metadata": {}, 
            "outputs": [], 
            "source": "db2_service_credentials = {\n  \"username\": \"***\",\n  \"ssljdbcurl\": \"***\",\n  \"host\": \"***\",\n  \"https_url\": \"***\",\n  \"dsn\": \"***\",\n  \"hostname\": \"***\",\n  \"jdbcurl\": \"***\",\n  \"ssldsn\": \"***\",\n  \"uri\": \"***\",\n  \"password\": \"***\"\n}"
        }, 
        {
            "execution_count": 3, 
            "cell_type": "code", 
            "metadata": {}, 
            "outputs": [], 
            "source": "# The code was removed by Watson Studio for sharing."
        }, 
        {
            "execution_count": 4, 
            "cell_type": "code", 
            "metadata": {}, 
            "outputs": [], 
            "source": "properties_db2 = {\n    'driver': 'com.ibm.db2.jcc.DB2Driver',\n    'jdbcurl': db2_service_credentials['jdbcurl'],\n    'user': db2_service_credentials['username'],\n    'password': db2_service_credentials['password']\n}"
        }, 
        {
            "execution_count": 5, 
            "cell_type": "code", 
            "metadata": {}, 
            "outputs": [
                {
                    "execution_count": 5, 
                    "metadata": {}, 
                    "data": {
                        "text/plain": "Row(ID=10, Gender='Male', Status='M', Children=1, Age=Decimal('46.000000'), Customer_Status='Inactive', Car_Owner='Yes', Customer_Service='They did not have the car I wanted.  upgraded me to a car I did not like and did not want.', Satisfaction=0, Business_Area='Product: Availability/Variety/Size', Action='Free Upgrade')"
                    }, 
                    "output_type": "execute_result"
                }
            ], 
            "source": "from pyspark.sql import SparkSession\nimport json\n\nspark = SparkSession.builder.getOrCreate()\ntable_name = 'CAR_RENTAL_TRAINING'\ndf_data = spark.read.jdbc(properties_db2['jdbcurl'], table='.'.join([properties_db2['user'], table_name]), properties=properties_db2)\ndf_data.head()"
        }, 
        {
            "source": "### Explore data", 
            "cell_type": "markdown", 
            "metadata": {}
        }, 
        {
            "execution_count": 7, 
            "cell_type": "code", 
            "metadata": {}, 
            "outputs": [
                {
                    "output_type": "stream", 
                    "name": "stdout", 
                    "text": "root\n |-- ID: integer (nullable = true)\n |-- Gender: string (nullable = true)\n |-- Status: string (nullable = true)\n |-- Children: integer (nullable = true)\n |-- Age: decimal(14,6) (nullable = true)\n |-- Customer_Status: string (nullable = true)\n |-- Car_Owner: string (nullable = true)\n |-- Customer_Service: string (nullable = true)\n |-- Satisfaction: integer (nullable = true)\n |-- Business_Area: string (nullable = true)\n |-- Action: string (nullable = true)\n\n"
                }
            ], 
            "source": "df_data.printSchema()"
        }, 
        {
            "source": "**Tip:** Code above can be inserted using Data menu.  You have to select `Insert SparkSession DataFrame` option.\n\n**Note:** Inserted code is modified to work with code in cells below.", 
            "cell_type": "markdown", 
            "metadata": {}
        }, 
        {
            "source": "As you can see, the data contains eleven fields. `Action` field is the one you would like to predict using feedback data in `Customer_Service` field.", 
            "cell_type": "markdown", 
            "metadata": {}
        }, 
        {
            "execution_count": 8, 
            "cell_type": "code", 
            "metadata": {}, 
            "outputs": [
                {
                    "output_type": "stream", 
                    "name": "stdout", 
                    "text": "Number of records: 243\n"
                }
            ], 
            "source": "print(\"Number of records: \" + str(df_data.count()))"
        }, 
        {
            "execution_count": 9, 
            "cell_type": "code", 
            "metadata": {}, 
            "outputs": [
                {
                    "output_type": "stream", 
                    "name": "stdout", 
                    "text": "+----------------------------------+-----+\n|Business_area                     |count|\n+----------------------------------+-----+\n|Service: Accessibility            |13   |\n|Product: Functioning              |75   |\n|Service: Attitude                 |12   |\n|Service: Orders/Contracts         |16   |\n|Product: Availability/Variety/Size|21   |\n|Product: Pricing and Billing      |12   |\n|Product: Information              |4    |\n|Service: Knowledge                |90   |\n+----------------------------------+-----+\n\n"
                }
            ], 
            "source": "df_data.select('Business_area').groupBy('Business_area').count().show(truncate=False)"
        }, 
        {
            "execution_count": 10, 
            "cell_type": "code", 
            "metadata": {}, 
            "outputs": [
                {
                    "output_type": "stream", 
                    "name": "stdout", 
                    "text": "+-------------------------+-----+\n|Action                   |count|\n+-------------------------+-----+\n|NA                       |137  |\n|Voucher                  |21   |\n|Premium features         |15   |\n|On-demand pickup location|28   |\n|Free Upgrade             |42   |\n+-------------------------+-----+\n\n"
                }
            ], 
            "source": "df_data.select('Action').groupBy('Action').count().show(truncate=False)"
        }, 
        {
            "source": "<a id=\"model\"></a>\n## 3. Create an Apache Spark machine learning model\n\nIn this section you will learn how to:\n\n- [3.1 Prepare data for training a model](#prep)\n- [3.2 Create an Apache Spark machine learning pipeline](#pipe)\n- [3.3 Train a model](#train)", 
            "cell_type": "markdown", 
            "metadata": {}
        }, 
        {
            "source": "<a id=\"prep\"></a>\n### 3.1 Prepare data for training a model\n\nIn this subsection you will split your data into: train and test data set.", 
            "cell_type": "markdown", 
            "metadata": {}
        }, 
        {
            "execution_count": 11, 
            "cell_type": "code", 
            "metadata": {}, 
            "outputs": [
                {
                    "output_type": "stream", 
                    "name": "stdout", 
                    "text": "Number of training records: 200\nNumber of testing records : 43\n"
                }
            ], 
            "source": "train_data, test_data = df_data.randomSplit([0.8, 0.2], 24)\n\nprint(\"Number of training records: \" + str(train_data.count()))\nprint(\"Number of testing records : \" + str(test_data.count()))"
        }, 
        {
            "source": "### 3.2 Create the pipeline<a id=\"pipe\"></a>", 
            "cell_type": "markdown", 
            "metadata": {}
        }, 
        {
            "source": "In this section you will create an Apache Spark machine learning pipeline and then train the model.", 
            "cell_type": "markdown", 
            "metadata": {}
        }, 
        {
            "execution_count": 12, 
            "cell_type": "code", 
            "metadata": {}, 
            "outputs": [], 
            "source": "from pyspark.ml.feature import OneHotEncoder, StringIndexer, IndexToString, VectorAssembler, HashingTF, IDF, Tokenizer, SQLTransformer\nfrom pyspark.ml.classification import RandomForestClassifier, DecisionTreeClassifier, LogisticRegression\nfrom pyspark.ml.evaluation import MulticlassClassificationEvaluator\nfrom pyspark.ml import Pipeline, Model, PipelineModel"
        }, 
        {
            "source": "In the following step, use the StringIndexer transformer to convert all the string fields to numeric ones.", 
            "cell_type": "markdown", 
            "metadata": {}
        }, 
        {
            "execution_count": 13, 
            "cell_type": "code", 
            "metadata": {}, 
            "outputs": [], 
            "source": "tokenizer = Tokenizer(inputCol=\"Customer_Service\", outputCol=\"words\")"
        }, 
        {
            "execution_count": 14, 
            "cell_type": "code", 
            "metadata": {}, 
            "outputs": [], 
            "source": "hashing_tf = HashingTF(inputCol=tokenizer.getOutputCol(), outputCol='hash')\nidf = IDF(inputCol=hashing_tf.getOutputCol(), outputCol=\"area_features\", minDocFreq=5)"
        }, 
        {
            "execution_count": 15, 
            "cell_type": "code", 
            "metadata": {}, 
            "outputs": [], 
            "source": "string_indexer_area = StringIndexer(inputCol=\"Business_Area\", outputCol=\"area_label\").fit(df_data)"
        }, 
        {
            "execution_count": 16, 
            "cell_type": "code", 
            "metadata": {}, 
            "outputs": [], 
            "source": "dt_area = DecisionTreeClassifier(labelCol='area_label', featuresCol=idf.getOutputCol() , predictionCol='prediction_area', probabilityCol='probability_area', rawPredictionCol='rawPrediction_area')"
        }, 
        {
            "source": "Finally, convert the indexed labels back to original labels.", 
            "cell_type": "markdown", 
            "metadata": {}
        }, 
        {
            "execution_count": 17, 
            "cell_type": "code", 
            "metadata": {}, 
            "outputs": [], 
            "source": "labelConverter = IndexToString(inputCol=\"prediction_area\", outputCol=\"predictedAreaLabel\", labels=string_indexer_area.labels)"
        }, 
        {
            "execution_count": 18, 
            "cell_type": "code", 
            "metadata": {}, 
            "outputs": [], 
            "source": "string_indexer_gender = StringIndexer(inputCol=\"Gender\", outputCol=\"gender_ix\")\nstring_indexer_customer_status = StringIndexer(inputCol=\"Customer_Status\", outputCol=\"customer_status_ix\")\nstring_indexer_status = StringIndexer(inputCol=\"Status\", outputCol=\"status_ix\")\nstring_indexer_owner = StringIndexer(inputCol=\"Car_Owner\", outputCol=\"owner_ix\")"
        }, 
        {
            "execution_count": 19, 
            "cell_type": "code", 
            "metadata": {}, 
            "outputs": [], 
            "source": "assembler = VectorAssembler(inputCols=[\"gender_ix\", \"customer_status_ix\", \"status_ix\", \"owner_ix\", \"Children\", \"Age\", \"Satisfaction\", idf.getOutputCol()], outputCol=\"features\")"
        }, 
        {
            "execution_count": 20, 
            "cell_type": "code", 
            "metadata": {}, 
            "outputs": [], 
            "source": "string_indexer_action = StringIndexer(inputCol=\"Action\", outputCol=\"label\").fit(df_data)"
        }, 
        {
            "execution_count": 21, 
            "cell_type": "code", 
            "metadata": {}, 
            "outputs": [], 
            "source": "label_action_converter = IndexToString(inputCol=\"prediction\", outputCol=\"predictedActionLabel\", labels=string_indexer_action.labels)"
        }, 
        {
            "execution_count": 22, 
            "cell_type": "code", 
            "metadata": {}, 
            "outputs": [], 
            "source": "dt_action = DecisionTreeClassifier()"
        }, 
        {
            "execution_count": 23, 
            "cell_type": "code", 
            "metadata": {}, 
            "outputs": [], 
            "source": "vector_assembler = VectorAssembler(inputCols=[\"gender_ix\", \"customer_status_ix\", \"status_ix\", \"owner_ix\", \"Children\", \"Age\", \"Satisfaction\", 'prediction_area'], outputCol=\"features\")"
        }, 
        {
            "execution_count": 24, 
            "cell_type": "code", 
            "metadata": {}, 
            "outputs": [], 
            "source": "pipeline = Pipeline(stages=[tokenizer, hashing_tf, idf, string_indexer_area, dt_area, labelConverter, string_indexer_gender, string_indexer_customer_status, string_indexer_status, string_indexer_action, string_indexer_owner, vector_assembler, dt_action, label_action_converter])"
        }, 
        {
            "source": "### 3.3 Train the model", 
            "cell_type": "markdown", 
            "metadata": {}
        }, 
        {
            "execution_count": 26, 
            "cell_type": "code", 
            "metadata": {}, 
            "outputs": [], 
            "source": "model = pipeline.fit(train_data)"
        }, 
        {
            "source": "### 3.4 Evaluate the model", 
            "cell_type": "markdown", 
            "metadata": {}
        }, 
        {
            "execution_count": 27, 
            "cell_type": "code", 
            "metadata": {}, 
            "outputs": [], 
            "source": "predictions = model.transform(test_data)"
        }, 
        {
            "execution_count": 28, 
            "cell_type": "code", 
            "metadata": {}, 
            "outputs": [
                {
                    "output_type": "stream", 
                    "name": "stdout", 
                    "text": "Accuracy = 0.744186\n"
                }
            ], 
            "source": "evaluator = MulticlassClassificationEvaluator(labelCol=\"label\", predictionCol=\"prediction\", metricName=\"accuracy\")\naccuracy = evaluator.evaluate(predictions)\n\nprint(\"Accuracy = %g\" % accuracy)"
        }, 
        {
            "source": "<a id=\"persistence\"></a>\n## 4. Store the model in the repository", 
            "cell_type": "markdown", 
            "metadata": {
                "collapsed": true
            }
        }, 
        {
            "source": "In this section you will store trained model to Watson Machine Learning repository. When model is stored some metada is optional, however we provide it to be able to configure Continuous Learning System.", 
            "cell_type": "markdown", 
            "metadata": {
                "collapsed": true
            }
        }, 
        {
            "execution_count": 29, 
            "cell_type": "code", 
            "metadata": {}, 
            "outputs": [
                {
                    "output_type": "stream", 
                    "name": "stderr", 
                    "text": "WARNING:watson_machine_learning_client.metanames:'AUTHOR_EMAIL' meta prop is deprecated. It will be ignored.\n"
                }
            ], 
            "source": "from watson_machine_learning_client import WatsonMachineLearningAPIClient"
        }, 
        {
            "source": "We need Watson Machine Learning credentials to be able to store model in repository.", 
            "cell_type": "markdown", 
            "metadata": {}
        }, 
        {
            "source": "**TIP:** Put watson Machine Learning service credentials here.", 
            "cell_type": "markdown", 
            "metadata": {}
        }, 
        {
            "execution_count": 30, 
            "cell_type": "code", 
            "metadata": {}, 
            "outputs": [], 
            "source": "wml_credentials = {\n  \"apikey\": \"***\",\n  \"iam_apikey_description\": \"***\",\n  \"iam_apikey_name\": \"***\",\n  \"iam_role_crn\": \"***\",\n  \"iam_serviceid_crn\": \"***\",\n  \"instance_id\": \"***\",\n  \"password\": \"***\",\n  \"url\": \"https://us-south.ml.cloud.ibm.com\",\n  \"username\": \"***\"\n}"
        }, 
        {
            "execution_count": 31, 
            "cell_type": "code", 
            "metadata": {}, 
            "outputs": [], 
            "source": "# The code was removed by Watson Studio for sharing."
        }, 
        {
            "execution_count": 32, 
            "cell_type": "code", 
            "metadata": {}, 
            "outputs": [], 
            "source": "client = WatsonMachineLearningAPIClient(wml_credentials)"
        }, 
        {
            "execution_count": 33, 
            "cell_type": "code", 
            "metadata": {}, 
            "outputs": [
                {
                    "execution_count": 33, 
                    "metadata": {}, 
                    "data": {
                        "text/plain": "'1.0.338'"
                    }, 
                    "output_type": "execute_result"
                }
            ], 
            "source": "client.version"
        }, 
        {
            "source": "### 4.2 Save the pipeline and model<a id=\"save\"></a>", 
            "cell_type": "markdown", 
            "metadata": {}
        }, 
        {
            "execution_count": 34, 
            "cell_type": "code", 
            "metadata": {}, 
            "outputs": [], 
            "source": "training_data_reference = {\n \"name\": \"CARS4U training reference\",\n \"connection\": db2_service_credentials,\n \"source\": {\n  \"tablename\": table_name,\n  \"type\": \"dashdb\"\n }\n}"
        }, 
        {
            "source": "Define `output_data_schema` for the model", 
            "cell_type": "markdown", 
            "metadata": {}
        }, 
        {
            "execution_count": 35, 
            "cell_type": "code", 
            "metadata": {}, 
            "outputs": [], 
            "source": "train_data_schema = train_data.schema\nlabel_field = next(f for f in train_data_schema.fields if f.name == \"Action\")\nlabel_field.metadata['values'] = string_indexer_action.labels"
        }, 
        {
            "execution_count": 36, 
            "cell_type": "code", 
            "metadata": {}, 
            "outputs": [], 
            "source": "from pyspark.sql.types import *\n\ninput_fileds = filter(lambda f: f.name != \"Action\", train_data_schema.fields)\n\noutput_data_schema = StructType(list(input_fileds)). \\\n    add(\"prediction\", DoubleType(), True, {'modeling_role': 'prediction'}). \\\n    add(\"predictedLabel\", StringType(), True, {'modeling_role': 'decoded-target', 'values': string_indexer_action.labels}). \\\n    add(\"probability\", ArrayType(DoubleType()), True, {'modeling_role': 'probability'})"
        }, 
        {
            "source": "Define model's metadata.", 
            "cell_type": "markdown", 
            "metadata": {}
        }, 
        {
            "execution_count": 37, 
            "cell_type": "code", 
            "metadata": {}, 
            "outputs": [], 
            "source": "model_props = {\n    client.repository.ModelMetaNames.NAME: \"CARS4U - Action Recommendation Model\",\n    client.repository.ModelMetaNames.TRAINING_DATA_REFERENCE: training_data_reference,\n    client.repository.ModelMetaNames.EVALUATION_METHOD: \"multiclass\",\n    client.repository.ModelMetaNames.OUTPUT_DATA_SCHEMA: output_data_schema.jsonValue(),\n    client.repository.ModelMetaNames.EVALUATION_METRICS: [\n        {\n           \"name\": \"accuracy\",\n           \"value\": accuracy,\n           \"threshold\": 0.7\n        }\n    ]\n}"
        }, 
        {
            "source": "**Tip**: Use `client.repository.ModelMetaNames.show()` to get the list of available meta names.", 
            "cell_type": "markdown", 
            "metadata": {}
        }, 
        {
            "source": "Store the model.", 
            "cell_type": "markdown", 
            "metadata": {}
        }, 
        {
            "execution_count": 38, 
            "cell_type": "code", 
            "metadata": {}, 
            "outputs": [], 
            "source": "published_model_details = client.repository.store_model(model=model, meta_props=model_props, training_data=train_data, pipeline=pipeline)"
        }, 
        {
            "execution_count": 39, 
            "cell_type": "code", 
            "metadata": {}, 
            "outputs": [
                {
                    "output_type": "stream", 
                    "name": "stdout", 
                    "text": "a757d335-38e3-4a55-8e67-2ced091fa9db\n"
                }
            ], 
            "source": "model_uid = client.repository.get_model_uid(published_model_details)\nprint(model_uid)"
        }, 
        {
            "execution_count": 40, 
            "cell_type": "code", 
            "metadata": {}, 
            "outputs": [], 
            "source": "model_details = client.repository.get_model_details(model_uid)"
        }, 
        {
            "source": "<a id=\"download\"></a>\n## 5. Download the model", 
            "cell_type": "markdown", 
            "metadata": {}
        }, 
        {
            "execution_count": 42, 
            "cell_type": "code", 
            "metadata": {}, 
            "outputs": [], 
            "source": "client.repository.download(model_uid)"
        }, 
        {
            "execution_count": 43, 
            "cell_type": "code", 
            "metadata": {}, 
            "outputs": [], 
            "source": "from watson_machine_learning_client.utils import create_download_link\n\nfilename = 'downloaded_artifact.tar.gz'"
        }, 
        {
            "execution_count": 44, 
            "cell_type": "code", 
            "metadata": {}, 
            "outputs": [
                {
                    "execution_count": 44, 
                    "metadata": {}, 
                    "data": {
                        "text/html": "<a download=\"downloaded_artifact.tar.gz\" href=\"data:binary;base64,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\" target=\"_blank\">Download file.</a>", 
                        "text/plain": "<IPython.core.display.HTML object>"
                    }, 
                    "output_type": "execute_result"
                }
            ], 
            "source": "create_download_link(filename)"
        }, 
        {
            "source": "<a id=\"deploy\"></a>\n## 6. Deploy model in the IBM Cloud", 
            "cell_type": "markdown", 
            "metadata": {}
        }, 
        {
            "source": "You can use following command to create online deployment in cloud.", 
            "cell_type": "markdown", 
            "metadata": {}
        }, 
        {
            "execution_count": 45, 
            "cell_type": "code", 
            "metadata": {}, 
            "outputs": [
                {
                    "output_type": "stream", 
                    "name": "stdout", 
                    "text": "\n\n#######################################################################################\n\nSynchronous deployment creation for uid: 'a757d335-38e3-4a55-8e67-2ced091fa9db' started\n\n#######################################################################################\n\n\nINITIALIZING\nDEPLOY_SUCCESS\n\n\n------------------------------------------------------------------------------------------------\nSuccessfully finished deployment creation, deployment_uid='2e06ff73-f2cc-4483-9d60-8e31073efa45'\n------------------------------------------------------------------------------------------------\n\n\n"
                }
            ], 
            "source": "deployment_details = client.deployments.create(model_uid=model_uid, name='CARS4U - Area and Action Model Deployment')"
        }, 
        {
            "source": "You can use deployed model to score new data using scoring endpoint.", 
            "cell_type": "markdown", 
            "metadata": {}
        }, 
        {
            "execution_count": 46, 
            "cell_type": "code", 
            "metadata": {}, 
            "outputs": [
                {
                    "output_type": "stream", 
                    "name": "stdout", 
                    "text": "https://us-south.ml.cloud.ibm.com/v3/wml_instances/a73bf76d-a663-448a-b771-4f651f73d54e/deployments/2e06ff73-f2cc-4483-9d60-8e31073efa45/online\n"
                }
            ], 
            "source": "scoring_url = client.deployments.get_scoring_url(deployment_details)\nprint(scoring_url)"
        }, 
        {
            "source": "<a id=\"score\"></a>\n## 7. Score the model", 
            "cell_type": "markdown", 
            "metadata": {}
        }, 
        {
            "execution_count": 47, 
            "cell_type": "code", 
            "metadata": {}, 
            "outputs": [], 
            "source": "fields = ['ID', 'Gender', 'Status', 'Children', 'Age', 'Customer_Status','Car_Owner', 'Customer_Service', 'Business_Area', 'Satisfaction']\nvalues = [3785, 'Male', 'S', 1, 17, 'Inactive', 'Yes', 'The car should have been brought to us instead of us trying to find it in the lot.', 'Product: Information', 0]"
        }, 
        {
            "execution_count": 61, 
            "cell_type": "code", 
            "metadata": {}, 
            "outputs": [], 
            "source": "payload_scoring = {\"fields\": fields,\"values\": [values]}\nscoring_response = client.deployments.score(scoring_url, payload_scoring)"
        }, 
        {
            "execution_count": 66, 
            "cell_type": "code", 
            "metadata": {}, 
            "outputs": [
                {
                    "output_type": "stream", 
                    "name": "stdout", 
                    "text": "Predicted Business Area: \"Product: Functioning\"\nRecommended action: \"On-demand pickup location\"\n"
                }
            ], 
            "source": "area_index = scoring_response['fields'].index('predictedAreaLabel')\naction_index = scoring_response['fields'].index('predictedActionLabel')\n\nprint(\"Predicted Business Area: \" + json.dumps(scoring_response['values'][0][area_index]))\nprint(\"Recommended action: \" + json.dumps(scoring_response['values'][0][action_index]))"
        }, 
        {
            "source": "---", 
            "cell_type": "markdown", 
            "metadata": {}
        }, 
        {
            "source": "### Authors\nLukasz Cmielowski, PhD, is an Automation Architect and Data Scientist at IBM with a track record of developing enterprise-level applications that substantially increases clients' ability to turn data into actionable knowledge.", 
            "cell_type": "markdown", 
            "metadata": {}
        }
    ], 
    "metadata": {
        "kernelspec": {
            "display_name": "Python 3.5 with Spark", 
            "name": "python3", 
            "language": "python3"
        }, 
        "language_info": {
            "mimetype": "text/x-python", 
            "nbconvert_exporter": "python", 
            "version": "3.5.4", 
            "name": "python", 
            "file_extension": ".py", 
            "pygments_lexer": "ipython3", 
            "codemirror_mode": {
                "version": 3, 
                "name": "ipython"
            }
        }
    }, 
    "nbformat": 4
}