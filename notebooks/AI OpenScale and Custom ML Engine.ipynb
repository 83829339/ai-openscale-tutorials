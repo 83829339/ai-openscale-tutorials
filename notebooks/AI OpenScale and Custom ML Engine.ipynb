{
    "nbformat_minor": 1, 
    "cells": [
        {
            "source": "<img src=\"https://github.com/pmservice/ai-openscale-tutorials/raw/master/notebooks/images/banner.png\" align=\"left\" alt=\"banner\">", 
            "cell_type": "markdown", 
            "metadata": {}
        }, 
        {
            "source": "# Working with Custom Machine Learning engine", 
            "cell_type": "markdown", 
            "metadata": {}
        }, 
        {
            "source": "This notebook shows how to log the payload for the model deployed on custom model serving engine using Watson OpenScale python sdk.", 
            "cell_type": "markdown", 
            "metadata": {}
        }, 
        {
            "source": "### Contents\n\n- [Setup](#setup)\n- [OpenScale configuration](#openscale)\n- [Performance monitor, scoring and payload logging](#performance)\n- [Quality monitor and feedback logging](#quality)\n- [Fairness monitoring and explanations](#fairness)\n- [Custom monitors and metrics](#custom)\n- [Payload analytics](#analytics)", 
            "cell_type": "markdown", 
            "metadata": {}
        }, 
        {
            "source": "# Setup <a name=\"setup\"></a>", 
            "cell_type": "markdown", 
            "metadata": {}
        }, 
        {
            "source": "## Custom machine learning engine example", 
            "cell_type": "markdown", 
            "metadata": {}
        }, 
        {
            "source": "The sample machine learning engine code (python flask) and deployment instructions can be found [here](https://github.com/pmservice/ai-openscale-tutorials/tree/master/applications/custom-ml-engine-bluemix).\n\nFollow up intructions and deploy your own instance of the custom engine application.", 
            "cell_type": "markdown", 
            "metadata": {}
        }, 
        {
            "source": "**NOTE:** CUSTOM machine learning engine must follow this [API specification](https://aiopenscale-custom-deployement-spec.mybluemix.net/) to be supported.", 
            "cell_type": "markdown", 
            "metadata": {}
        }, 
        {
            "source": "## Packages and credentials", 
            "cell_type": "markdown", 
            "metadata": {}
        }, 
        {
            "execution_count": 1, 
            "cell_type": "code", 
            "metadata": {}, 
            "outputs": [
                {
                    "output_type": "stream", 
                    "name": "stdout", 
                    "text": "Successfully installed ibm-ai-openscale-2.1.6\r\n"
                }
            ], 
            "source": "!pip install --upgrade ibm-ai-openscale --no-cache | tail -n 1"
        }, 
        {
            "execution_count": 2, 
            "cell_type": "code", 
            "metadata": {}, 
            "outputs": [
                {
                    "output_type": "stream", 
                    "name": "stdout", 
                    "text": "Successfully installed py4j-0.10.7 pyspark-2.4.1\nSuccessfully installed lime-0.1.1.33\nRequirement not upgraded as not directly required: certifi>=2017.4.17 in /opt/conda/envs/DSX-Python35/lib/python3.5/site-packages (from requests->pixiedust)\n"
                }
            ], 
            "source": "!pip install pyspark | tail -n 1\n!pip install lime | tail -n 1\n!pip install pixiedust | tail -n 1"
        }, 
        {
            "source": "Import and initiate.", 
            "cell_type": "markdown", 
            "metadata": {}
        }, 
        {
            "execution_count": 3, 
            "cell_type": "code", 
            "metadata": {}, 
            "outputs": [
                {
                    "output_type": "stream", 
                    "name": "stderr", 
                    "text": "/opt/conda/envs/DSX-Python35/lib/python3.5/site-packages/sklearn/cross_validation.py:41: DeprecationWarning: This module was deprecated in version 0.18 in favor of the model_selection module into which all the refactored classes and functions are moved. Also note that the interface of the new CV iterators are different from that of this module. This module will be removed in 0.20.\n  \"This module will be removed in 0.20.\", DeprecationWarning)\n"
                }
            ], 
            "source": "from ibm_ai_openscale import APIClient\nfrom ibm_ai_openscale.supporting_classes import PayloadRecord\nfrom ibm_ai_openscale.engines import *\nfrom ibm_ai_openscale.utils import *\nimport pandas as pd"
        }, 
        {
            "source": "#### ACTION: Get OpenScale `instance_guid` and `apikey`\n\nHow to install IBM Cloud (bluemix) console: [instruction](https://console.bluemix.net/docs/cli/reference/ibmcloud/download_cli.html#install_use)\n\nHow to get api key using bluemix console:\n```\nbx login --sso\nbx iam api-key-create 'my_key'\n```\n\nHow to get your OpenScale instance GUID\n\n- if your resource group is different than `default` switch to resource group containing OpenScale instance\n```\nbx target -g <myResourceGroup>\n```\n- get details of the instance\n```\nbx resource service-instance 'AI-OpenScale-instance_name'\n```", 
            "cell_type": "markdown", 
            "metadata": {}
        }, 
        {
            "source": "#### Let's define some constants required to set up data mart:\n\n- AIOS_CREDENTIALS\n- POSTGRES_CREDENTIALS\n- SCHEMA_NAME", 
            "cell_type": "markdown", 
            "metadata": {}
        }, 
        {
            "execution_count": 4, 
            "cell_type": "code", 
            "metadata": {}, 
            "outputs": [], 
            "source": "AIOS_CREDENTIALS = {\n  \"url\": \"https://api.aiopenscale.cloud.ibm.com\",\n  \"instance_guid\": \"***\",\n  \"apikey\": \"***\"\n}"
        }, 
        {
            "execution_count": 5, 
            "cell_type": "code", 
            "metadata": {}, 
            "outputs": [], 
            "source": "# The code was removed by Watson Studio for sharing."
        }, 
        {
            "execution_count": 6, 
            "cell_type": "code", 
            "metadata": {}, 
            "outputs": [], 
            "source": "POSTGRES_CREDENTIALS = {\n    \"db_type\": \"postgresql\",\n    \"uri_cli_1\": \"xxx\",\n    \"maps\": [],\n    \"instance_administration_api\": {\n        \"instance_id\": \"xxx\",\n        \"root\": \"xxx\",\n        \"deployment_id\": \"xxx\"\n    },\n    \"name\": \"xxx\",\n    \"uri_cli\": \"xxx\",\n    \"uri_direct_1\": \"xxx\",\n    \"ca_certificate_base64\": \"xxx\",\n    \"deployment_id\": \"xxx\",\n    \"uri\": \"xxx\"\n}"
        }, 
        {
            "execution_count": 7, 
            "cell_type": "code", 
            "metadata": {}, 
            "outputs": [], 
            "source": "# The code was removed by Watson Studio for sharing."
        }, 
        {
            "execution_count": 8, 
            "cell_type": "code", 
            "metadata": {}, 
            "outputs": [], 
            "source": "SCHEMA_NAME = 'custom_ml_engine'"
        }, 
        {
            "source": "Create schema for data mart.", 
            "cell_type": "markdown", 
            "metadata": {}
        }, 
        {
            "execution_count": 9, 
            "cell_type": "code", 
            "metadata": {}, 
            "outputs": [], 
            "source": "create_postgres_schema(postgres_credentials=POSTGRES_CREDENTIALS, schema_name=SCHEMA_NAME)"
        }, 
        {
            "execution_count": 10, 
            "cell_type": "code", 
            "metadata": {}, 
            "outputs": [], 
            "source": "client = APIClient(AIOS_CREDENTIALS)"
        }, 
        {
            "execution_count": 11, 
            "cell_type": "code", 
            "metadata": {}, 
            "outputs": [
                {
                    "execution_count": 11, 
                    "metadata": {}, 
                    "data": {
                        "text/plain": "'2.1.6'"
                    }, 
                    "output_type": "execute_result"
                }
            ], 
            "source": "client.version"
        }, 
        {
            "source": "## Training data", 
            "cell_type": "markdown", 
            "metadata": {}
        }, 
        {
            "source": "#### Get training data set from git", 
            "cell_type": "markdown", 
            "metadata": {}
        }, 
        {
            "execution_count": 47, 
            "cell_type": "code", 
            "metadata": {}, 
            "outputs": [
                {
                    "output_type": "stream", 
                    "name": "stdout", 
                    "text": "--2019-04-04 10:32:58--  https://raw.githubusercontent.com/pmservice/wml-sample-models/master/spss/credit-risk/data/credit_risk_training.csv\nResolving raw.githubusercontent.com (raw.githubusercontent.com)... 151.101.48.133\nConnecting to raw.githubusercontent.com (raw.githubusercontent.com)|151.101.48.133|:443... connected.\nHTTP request sent, awaiting response... 200 OK\nLength: 694222 (678K) [text/plain]\nSaving to: \u2018credit_risk_training.csv\u2019\n\n100%[======================================>] 694,222     --.-K/s   in 0.02s   \n\n2019-04-04 10:32:58 (29.9 MB/s) - \u2018credit_risk_training.csv\u2019 saved [694222/694222]\n\n"
                }
            ], 
            "source": "!rm credit_risk_training.csv \n!wget https://raw.githubusercontent.com/pmservice/wml-sample-models/master/spss/credit-risk/data/credit_risk_training.csv"
        }, 
        {
            "source": "### Preview data", 
            "cell_type": "markdown", 
            "metadata": {}
        }, 
        {
            "execution_count": 43, 
            "cell_type": "code", 
            "metadata": {}, 
            "outputs": [], 
            "source": "data_df = pd.read_csv(\"credit_risk_training.csv\",\n                    dtype={'LoanDuration': int, 'LoanAmount': int, 'InstallmentPercent': int, 'CurrentResidenceDuration': int, 'Age': int, 'ExistingCreditsCount': int, 'Dependents': int})"
        }, 
        {
            "execution_count": 48, 
            "cell_type": "code", 
            "metadata": {}, 
            "outputs": [
                {
                    "execution_count": 48, 
                    "metadata": {}, 
                    "data": {
                        "text/html": "<div>\n<style scoped>\n    .dataframe tbody tr th:only-of-type {\n        vertical-align: middle;\n    }\n\n    .dataframe tbody tr th {\n        vertical-align: top;\n    }\n\n    .dataframe thead th {\n        text-align: right;\n    }\n</style>\n<table border=\"1\" class=\"dataframe\">\n  <thead>\n    <tr style=\"text-align: right;\">\n      <th></th>\n      <th>CheckingStatus</th>\n      <th>LoanDuration</th>\n      <th>CreditHistory</th>\n      <th>LoanPurpose</th>\n      <th>LoanAmount</th>\n      <th>ExistingSavings</th>\n      <th>EmploymentDuration</th>\n      <th>InstallmentPercent</th>\n      <th>Sex</th>\n      <th>OthersOnLoan</th>\n      <th>...</th>\n      <th>OwnsProperty</th>\n      <th>Age</th>\n      <th>InstallmentPlans</th>\n      <th>Housing</th>\n      <th>ExistingCreditsCount</th>\n      <th>Job</th>\n      <th>Dependents</th>\n      <th>Telephone</th>\n      <th>ForeignWorker</th>\n      <th>Risk</th>\n    </tr>\n  </thead>\n  <tbody>\n    <tr>\n      <th>0</th>\n      <td>0_to_200</td>\n      <td>31</td>\n      <td>credits_paid_to_date</td>\n      <td>other</td>\n      <td>1889</td>\n      <td>100_to_500</td>\n      <td>less_1</td>\n      <td>3</td>\n      <td>female</td>\n      <td>none</td>\n      <td>...</td>\n      <td>savings_insurance</td>\n      <td>32</td>\n      <td>none</td>\n      <td>own</td>\n      <td>1</td>\n      <td>skilled</td>\n      <td>1</td>\n      <td>none</td>\n      <td>yes</td>\n      <td>No Risk</td>\n    </tr>\n    <tr>\n      <th>1</th>\n      <td>less_0</td>\n      <td>18</td>\n      <td>credits_paid_to_date</td>\n      <td>car_new</td>\n      <td>462</td>\n      <td>less_100</td>\n      <td>1_to_4</td>\n      <td>2</td>\n      <td>female</td>\n      <td>none</td>\n      <td>...</td>\n      <td>savings_insurance</td>\n      <td>37</td>\n      <td>stores</td>\n      <td>own</td>\n      <td>2</td>\n      <td>skilled</td>\n      <td>1</td>\n      <td>none</td>\n      <td>yes</td>\n      <td>No Risk</td>\n    </tr>\n    <tr>\n      <th>2</th>\n      <td>less_0</td>\n      <td>15</td>\n      <td>prior_payments_delayed</td>\n      <td>furniture</td>\n      <td>250</td>\n      <td>less_100</td>\n      <td>1_to_4</td>\n      <td>2</td>\n      <td>male</td>\n      <td>none</td>\n      <td>...</td>\n      <td>real_estate</td>\n      <td>28</td>\n      <td>none</td>\n      <td>own</td>\n      <td>2</td>\n      <td>skilled</td>\n      <td>1</td>\n      <td>yes</td>\n      <td>no</td>\n      <td>No Risk</td>\n    </tr>\n    <tr>\n      <th>3</th>\n      <td>0_to_200</td>\n      <td>28</td>\n      <td>credits_paid_to_date</td>\n      <td>retraining</td>\n      <td>3693</td>\n      <td>less_100</td>\n      <td>greater_7</td>\n      <td>3</td>\n      <td>male</td>\n      <td>none</td>\n      <td>...</td>\n      <td>savings_insurance</td>\n      <td>32</td>\n      <td>none</td>\n      <td>own</td>\n      <td>1</td>\n      <td>skilled</td>\n      <td>1</td>\n      <td>none</td>\n      <td>yes</td>\n      <td>No Risk</td>\n    </tr>\n    <tr>\n      <th>4</th>\n      <td>no_checking</td>\n      <td>28</td>\n      <td>prior_payments_delayed</td>\n      <td>education</td>\n      <td>6235</td>\n      <td>500_to_1000</td>\n      <td>greater_7</td>\n      <td>3</td>\n      <td>male</td>\n      <td>none</td>\n      <td>...</td>\n      <td>unknown</td>\n      <td>57</td>\n      <td>none</td>\n      <td>own</td>\n      <td>2</td>\n      <td>skilled</td>\n      <td>1</td>\n      <td>none</td>\n      <td>yes</td>\n      <td>Risk</td>\n    </tr>\n    <tr>\n      <th>5</th>\n      <td>no_checking</td>\n      <td>32</td>\n      <td>outstanding_credit</td>\n      <td>vacation</td>\n      <td>9604</td>\n      <td>500_to_1000</td>\n      <td>greater_7</td>\n      <td>6</td>\n      <td>male</td>\n      <td>co-applicant</td>\n      <td>...</td>\n      <td>unknown</td>\n      <td>57</td>\n      <td>none</td>\n      <td>free</td>\n      <td>2</td>\n      <td>skilled</td>\n      <td>2</td>\n      <td>yes</td>\n      <td>yes</td>\n      <td>Risk</td>\n    </tr>\n    <tr>\n      <th>6</th>\n      <td>no_checking</td>\n      <td>9</td>\n      <td>prior_payments_delayed</td>\n      <td>car_new</td>\n      <td>1032</td>\n      <td>100_to_500</td>\n      <td>4_to_7</td>\n      <td>3</td>\n      <td>male</td>\n      <td>none</td>\n      <td>...</td>\n      <td>savings_insurance</td>\n      <td>41</td>\n      <td>none</td>\n      <td>own</td>\n      <td>1</td>\n      <td>management_self-employed</td>\n      <td>1</td>\n      <td>none</td>\n      <td>yes</td>\n      <td>No Risk</td>\n    </tr>\n    <tr>\n      <th>7</th>\n      <td>less_0</td>\n      <td>16</td>\n      <td>credits_paid_to_date</td>\n      <td>vacation</td>\n      <td>3109</td>\n      <td>less_100</td>\n      <td>4_to_7</td>\n      <td>3</td>\n      <td>female</td>\n      <td>none</td>\n      <td>...</td>\n      <td>car_other</td>\n      <td>36</td>\n      <td>none</td>\n      <td>own</td>\n      <td>2</td>\n      <td>skilled</td>\n      <td>1</td>\n      <td>none</td>\n      <td>yes</td>\n      <td>No Risk</td>\n    </tr>\n    <tr>\n      <th>8</th>\n      <td>0_to_200</td>\n      <td>11</td>\n      <td>credits_paid_to_date</td>\n      <td>car_new</td>\n      <td>4553</td>\n      <td>less_100</td>\n      <td>less_1</td>\n      <td>3</td>\n      <td>female</td>\n      <td>none</td>\n      <td>...</td>\n      <td>savings_insurance</td>\n      <td>22</td>\n      <td>none</td>\n      <td>own</td>\n      <td>1</td>\n      <td>management_self-employed</td>\n      <td>1</td>\n      <td>none</td>\n      <td>yes</td>\n      <td>No Risk</td>\n    </tr>\n    <tr>\n      <th>9</th>\n      <td>no_checking</td>\n      <td>35</td>\n      <td>outstanding_credit</td>\n      <td>appliances</td>\n      <td>7138</td>\n      <td>500_to_1000</td>\n      <td>greater_7</td>\n      <td>5</td>\n      <td>male</td>\n      <td>co-applicant</td>\n      <td>...</td>\n      <td>unknown</td>\n      <td>49</td>\n      <td>none</td>\n      <td>free</td>\n      <td>2</td>\n      <td>skilled</td>\n      <td>2</td>\n      <td>yes</td>\n      <td>yes</td>\n      <td>Risk</td>\n    </tr>\n    <tr>\n      <th>10</th>\n      <td>less_0</td>\n      <td>5</td>\n      <td>all_credits_paid_back</td>\n      <td>car_new</td>\n      <td>1523</td>\n      <td>less_100</td>\n      <td>unemployed</td>\n      <td>2</td>\n      <td>female</td>\n      <td>none</td>\n      <td>...</td>\n      <td>real_estate</td>\n      <td>19</td>\n      <td>none</td>\n      <td>rent</td>\n      <td>1</td>\n      <td>management_self-employed</td>\n      <td>1</td>\n      <td>none</td>\n      <td>yes</td>\n      <td>No Risk</td>\n    </tr>\n    <tr>\n      <th>11</th>\n      <td>less_0</td>\n      <td>9</td>\n      <td>all_credits_paid_back</td>\n      <td>car_used</td>\n      <td>4302</td>\n      <td>less_100</td>\n      <td>1_to_4</td>\n      <td>3</td>\n      <td>male</td>\n      <td>none</td>\n      <td>...</td>\n      <td>car_other</td>\n      <td>34</td>\n      <td>none</td>\n      <td>free</td>\n      <td>1</td>\n      <td>skilled</td>\n      <td>1</td>\n      <td>none</td>\n      <td>yes</td>\n      <td>No Risk</td>\n    </tr>\n    <tr>\n      <th>12</th>\n      <td>no_checking</td>\n      <td>27</td>\n      <td>outstanding_credit</td>\n      <td>furniture</td>\n      <td>3310</td>\n      <td>500_to_1000</td>\n      <td>greater_7</td>\n      <td>5</td>\n      <td>male</td>\n      <td>none</td>\n      <td>...</td>\n      <td>car_other</td>\n      <td>40</td>\n      <td>none</td>\n      <td>free</td>\n      <td>1</td>\n      <td>skilled</td>\n      <td>1</td>\n      <td>yes</td>\n      <td>yes</td>\n      <td>No Risk</td>\n    </tr>\n    <tr>\n      <th>13</th>\n      <td>0_to_200</td>\n      <td>29</td>\n      <td>credits_paid_to_date</td>\n      <td>furniture</td>\n      <td>3705</td>\n      <td>less_100</td>\n      <td>less_1</td>\n      <td>3</td>\n      <td>female</td>\n      <td>co-applicant</td>\n      <td>...</td>\n      <td>car_other</td>\n      <td>44</td>\n      <td>none</td>\n      <td>own</td>\n      <td>1</td>\n      <td>skilled</td>\n      <td>1</td>\n      <td>none</td>\n      <td>yes</td>\n      <td>No Risk</td>\n    </tr>\n    <tr>\n      <th>14</th>\n      <td>greater_200</td>\n      <td>4</td>\n      <td>all_credits_paid_back</td>\n      <td>car_new</td>\n      <td>2407</td>\n      <td>less_100</td>\n      <td>1_to_4</td>\n      <td>3</td>\n      <td>female</td>\n      <td>none</td>\n      <td>...</td>\n      <td>car_other</td>\n      <td>52</td>\n      <td>none</td>\n      <td>own</td>\n      <td>1</td>\n      <td>skilled</td>\n      <td>2</td>\n      <td>yes</td>\n      <td>yes</td>\n      <td>No Risk</td>\n    </tr>\n    <tr>\n      <th>15</th>\n      <td>no_checking</td>\n      <td>33</td>\n      <td>all_credits_paid_back</td>\n      <td>furniture</td>\n      <td>3810</td>\n      <td>100_to_500</td>\n      <td>less_1</td>\n      <td>2</td>\n      <td>female</td>\n      <td>co-applicant</td>\n      <td>...</td>\n      <td>savings_insurance</td>\n      <td>35</td>\n      <td>none</td>\n      <td>own</td>\n      <td>1</td>\n      <td>skilled</td>\n      <td>1</td>\n      <td>none</td>\n      <td>yes</td>\n      <td>Risk</td>\n    </tr>\n    <tr>\n      <th>16</th>\n      <td>0_to_200</td>\n      <td>4</td>\n      <td>all_credits_paid_back</td>\n      <td>car_new</td>\n      <td>250</td>\n      <td>less_100</td>\n      <td>1_to_4</td>\n      <td>2</td>\n      <td>female</td>\n      <td>none</td>\n      <td>...</td>\n      <td>real_estate</td>\n      <td>26</td>\n      <td>none</td>\n      <td>own</td>\n      <td>1</td>\n      <td>skilled</td>\n      <td>1</td>\n      <td>none</td>\n      <td>yes</td>\n      <td>No Risk</td>\n    </tr>\n    <tr>\n      <th>17</th>\n      <td>no_checking</td>\n      <td>39</td>\n      <td>prior_payments_delayed</td>\n      <td>repairs</td>\n      <td>7150</td>\n      <td>500_to_1000</td>\n      <td>4_to_7</td>\n      <td>3</td>\n      <td>male</td>\n      <td>co-applicant</td>\n      <td>...</td>\n      <td>unknown</td>\n      <td>52</td>\n      <td>none</td>\n      <td>own</td>\n      <td>2</td>\n      <td>skilled</td>\n      <td>1</td>\n      <td>yes</td>\n      <td>yes</td>\n      <td>Risk</td>\n    </tr>\n    <tr>\n      <th>18</th>\n      <td>0_to_200</td>\n      <td>4</td>\n      <td>all_credits_paid_back</td>\n      <td>car_new</td>\n      <td>250</td>\n      <td>less_100</td>\n      <td>1_to_4</td>\n      <td>2</td>\n      <td>female</td>\n      <td>none</td>\n      <td>...</td>\n      <td>real_estate</td>\n      <td>28</td>\n      <td>none</td>\n      <td>own</td>\n      <td>1</td>\n      <td>skilled</td>\n      <td>1</td>\n      <td>none</td>\n      <td>yes</td>\n      <td>No Risk</td>\n    </tr>\n    <tr>\n      <th>19</th>\n      <td>less_0</td>\n      <td>13</td>\n      <td>all_credits_paid_back</td>\n      <td>vacation</td>\n      <td>2317</td>\n      <td>less_100</td>\n      <td>less_1</td>\n      <td>2</td>\n      <td>female</td>\n      <td>none</td>\n      <td>...</td>\n      <td>savings_insurance</td>\n      <td>27</td>\n      <td>stores</td>\n      <td>own</td>\n      <td>2</td>\n      <td>skilled</td>\n      <td>1</td>\n      <td>none</td>\n      <td>yes</td>\n      <td>No Risk</td>\n    </tr>\n    <tr>\n      <th>20</th>\n      <td>0_to_200</td>\n      <td>15</td>\n      <td>prior_payments_delayed</td>\n      <td>furniture</td>\n      <td>250</td>\n      <td>500_to_1000</td>\n      <td>4_to_7</td>\n      <td>3</td>\n      <td>male</td>\n      <td>none</td>\n      <td>...</td>\n      <td>savings_insurance</td>\n      <td>24</td>\n      <td>none</td>\n      <td>own</td>\n      <td>2</td>\n      <td>skilled</td>\n      <td>2</td>\n      <td>yes</td>\n      <td>yes</td>\n      <td>No Risk</td>\n    </tr>\n    <tr>\n      <th>21</th>\n      <td>0_to_200</td>\n      <td>16</td>\n      <td>prior_payments_delayed</td>\n      <td>car_new</td>\n      <td>5551</td>\n      <td>100_to_500</td>\n      <td>1_to_4</td>\n      <td>3</td>\n      <td>male</td>\n      <td>none</td>\n      <td>...</td>\n      <td>car_other</td>\n      <td>34</td>\n      <td>none</td>\n      <td>rent</td>\n      <td>2</td>\n      <td>management_self-employed</td>\n      <td>1</td>\n      <td>none</td>\n      <td>yes</td>\n      <td>No Risk</td>\n    </tr>\n    <tr>\n      <th>22</th>\n      <td>no_checking</td>\n      <td>34</td>\n      <td>prior_payments_delayed</td>\n      <td>furniture</td>\n      <td>6063</td>\n      <td>unknown</td>\n      <td>1_to_4</td>\n      <td>4</td>\n      <td>male</td>\n      <td>none</td>\n      <td>...</td>\n      <td>car_other</td>\n      <td>40</td>\n      <td>none</td>\n      <td>own</td>\n      <td>2</td>\n      <td>skilled</td>\n      <td>1</td>\n      <td>none</td>\n      <td>yes</td>\n      <td>No Risk</td>\n    </tr>\n    <tr>\n      <th>23</th>\n      <td>less_0</td>\n      <td>13</td>\n      <td>all_credits_paid_back</td>\n      <td>radio_tv</td>\n      <td>1045</td>\n      <td>100_to_500</td>\n      <td>less_1</td>\n      <td>2</td>\n      <td>female</td>\n      <td>none</td>\n      <td>...</td>\n      <td>real_estate</td>\n      <td>24</td>\n      <td>none</td>\n      <td>rent</td>\n      <td>1</td>\n      <td>skilled</td>\n      <td>1</td>\n      <td>none</td>\n      <td>yes</td>\n      <td>No Risk</td>\n    </tr>\n    <tr>\n      <th>24</th>\n      <td>less_0</td>\n      <td>15</td>\n      <td>credits_paid_to_date</td>\n      <td>vacation</td>\n      <td>250</td>\n      <td>less_100</td>\n      <td>4_to_7</td>\n      <td>2</td>\n      <td>female</td>\n      <td>none</td>\n      <td>...</td>\n      <td>real_estate</td>\n      <td>19</td>\n      <td>stores</td>\n      <td>rent</td>\n      <td>1</td>\n      <td>skilled</td>\n      <td>1</td>\n      <td>none</td>\n      <td>yes</td>\n      <td>No Risk</td>\n    </tr>\n    <tr>\n      <th>25</th>\n      <td>0_to_200</td>\n      <td>33</td>\n      <td>credits_paid_to_date</td>\n      <td>repairs</td>\n      <td>3946</td>\n      <td>less_100</td>\n      <td>4_to_7</td>\n      <td>2</td>\n      <td>female</td>\n      <td>none</td>\n      <td>...</td>\n      <td>car_other</td>\n      <td>33</td>\n      <td>stores</td>\n      <td>own</td>\n      <td>1</td>\n      <td>unskilled</td>\n      <td>1</td>\n      <td>none</td>\n      <td>yes</td>\n      <td>No Risk</td>\n    </tr>\n    <tr>\n      <th>26</th>\n      <td>less_0</td>\n      <td>23</td>\n      <td>prior_payments_delayed</td>\n      <td>car_used</td>\n      <td>250</td>\n      <td>greater_1000</td>\n      <td>1_to_4</td>\n      <td>2</td>\n      <td>male</td>\n      <td>none</td>\n      <td>...</td>\n      <td>real_estate</td>\n      <td>19</td>\n      <td>stores</td>\n      <td>rent</td>\n      <td>1</td>\n      <td>skilled</td>\n      <td>1</td>\n      <td>none</td>\n      <td>yes</td>\n      <td>No Risk</td>\n    </tr>\n    <tr>\n      <th>27</th>\n      <td>less_0</td>\n      <td>9</td>\n      <td>prior_payments_delayed</td>\n      <td>furniture</td>\n      <td>292</td>\n      <td>less_100</td>\n      <td>less_1</td>\n      <td>2</td>\n      <td>female</td>\n      <td>none</td>\n      <td>...</td>\n      <td>car_other</td>\n      <td>51</td>\n      <td>none</td>\n      <td>rent</td>\n      <td>1</td>\n      <td>skilled</td>\n      <td>1</td>\n      <td>none</td>\n      <td>yes</td>\n      <td>No Risk</td>\n    </tr>\n    <tr>\n      <th>28</th>\n      <td>no_checking</td>\n      <td>10</td>\n      <td>prior_payments_delayed</td>\n      <td>radio_tv</td>\n      <td>4312</td>\n      <td>100_to_500</td>\n      <td>less_1</td>\n      <td>3</td>\n      <td>female</td>\n      <td>none</td>\n      <td>...</td>\n      <td>car_other</td>\n      <td>38</td>\n      <td>none</td>\n      <td>own</td>\n      <td>1</td>\n      <td>skilled</td>\n      <td>2</td>\n      <td>yes</td>\n      <td>yes</td>\n      <td>No Risk</td>\n    </tr>\n    <tr>\n      <th>29</th>\n      <td>no_checking</td>\n      <td>25</td>\n      <td>outstanding_credit</td>\n      <td>radio_tv</td>\n      <td>6945</td>\n      <td>500_to_1000</td>\n      <td>1_to_4</td>\n      <td>4</td>\n      <td>male</td>\n      <td>none</td>\n      <td>...</td>\n      <td>unknown</td>\n      <td>46</td>\n      <td>none</td>\n      <td>own</td>\n      <td>1</td>\n      <td>management_self-employed</td>\n      <td>1</td>\n      <td>yes</td>\n      <td>yes</td>\n      <td>Risk</td>\n    </tr>\n    <tr>\n      <th>...</th>\n      <td>...</td>\n      <td>...</td>\n      <td>...</td>\n      <td>...</td>\n      <td>...</td>\n      <td>...</td>\n      <td>...</td>\n      <td>...</td>\n      <td>...</td>\n      <td>...</td>\n      <td>...</td>\n      <td>...</td>\n      <td>...</td>\n      <td>...</td>\n      <td>...</td>\n      <td>...</td>\n      <td>...</td>\n      <td>...</td>\n      <td>...</td>\n      <td>...</td>\n      <td>...</td>\n    </tr>\n    <tr>\n      <th>4970</th>\n      <td>0_to_200</td>\n      <td>16</td>\n      <td>credits_paid_to_date</td>\n      <td>car_new</td>\n      <td>1387</td>\n      <td>less_100</td>\n      <td>less_1</td>\n      <td>2</td>\n      <td>female</td>\n      <td>none</td>\n      <td>...</td>\n      <td>savings_insurance</td>\n      <td>28</td>\n      <td>none</td>\n      <td>own</td>\n      <td>1</td>\n      <td>skilled</td>\n      <td>1</td>\n      <td>none</td>\n      <td>yes</td>\n      <td>No Risk</td>\n    </tr>\n    <tr>\n      <th>4971</th>\n      <td>greater_200</td>\n      <td>25</td>\n      <td>credits_paid_to_date</td>\n      <td>car_used</td>\n      <td>6225</td>\n      <td>100_to_500</td>\n      <td>1_to_4</td>\n      <td>3</td>\n      <td>male</td>\n      <td>none</td>\n      <td>...</td>\n      <td>savings_insurance</td>\n      <td>40</td>\n      <td>none</td>\n      <td>own</td>\n      <td>2</td>\n      <td>skilled</td>\n      <td>1</td>\n      <td>none</td>\n      <td>yes</td>\n      <td>Risk</td>\n    </tr>\n    <tr>\n      <th>4972</th>\n      <td>no_checking</td>\n      <td>32</td>\n      <td>prior_payments_delayed</td>\n      <td>education</td>\n      <td>4424</td>\n      <td>500_to_1000</td>\n      <td>4_to_7</td>\n      <td>3</td>\n      <td>male</td>\n      <td>none</td>\n      <td>...</td>\n      <td>savings_insurance</td>\n      <td>32</td>\n      <td>none</td>\n      <td>own</td>\n      <td>2</td>\n      <td>skilled</td>\n      <td>1</td>\n      <td>none</td>\n      <td>yes</td>\n      <td>No Risk</td>\n    </tr>\n    <tr>\n      <th>4973</th>\n      <td>less_0</td>\n      <td>14</td>\n      <td>all_credits_paid_back</td>\n      <td>car_new</td>\n      <td>2244</td>\n      <td>less_100</td>\n      <td>less_1</td>\n      <td>2</td>\n      <td>female</td>\n      <td>none</td>\n      <td>...</td>\n      <td>real_estate</td>\n      <td>21</td>\n      <td>none</td>\n      <td>own</td>\n      <td>1</td>\n      <td>skilled</td>\n      <td>1</td>\n      <td>none</td>\n      <td>yes</td>\n      <td>No Risk</td>\n    </tr>\n    <tr>\n      <th>4974</th>\n      <td>no_checking</td>\n      <td>36</td>\n      <td>prior_payments_delayed</td>\n      <td>other</td>\n      <td>2992</td>\n      <td>unknown</td>\n      <td>greater_7</td>\n      <td>4</td>\n      <td>male</td>\n      <td>none</td>\n      <td>...</td>\n      <td>car_other</td>\n      <td>53</td>\n      <td>none</td>\n      <td>own</td>\n      <td>2</td>\n      <td>skilled</td>\n      <td>1</td>\n      <td>none</td>\n      <td>yes</td>\n      <td>No Risk</td>\n    </tr>\n    <tr>\n      <th>4975</th>\n      <td>less_0</td>\n      <td>20</td>\n      <td>prior_payments_delayed</td>\n      <td>car_used</td>\n      <td>2034</td>\n      <td>greater_1000</td>\n      <td>greater_7</td>\n      <td>4</td>\n      <td>male</td>\n      <td>none</td>\n      <td>...</td>\n      <td>car_other</td>\n      <td>47</td>\n      <td>none</td>\n      <td>own</td>\n      <td>2</td>\n      <td>skilled</td>\n      <td>1</td>\n      <td>yes</td>\n      <td>yes</td>\n      <td>No Risk</td>\n    </tr>\n    <tr>\n      <th>4976</th>\n      <td>no_checking</td>\n      <td>19</td>\n      <td>credits_paid_to_date</td>\n      <td>radio_tv</td>\n      <td>2804</td>\n      <td>100_to_500</td>\n      <td>less_1</td>\n      <td>3</td>\n      <td>female</td>\n      <td>none</td>\n      <td>...</td>\n      <td>real_estate</td>\n      <td>31</td>\n      <td>stores</td>\n      <td>own</td>\n      <td>1</td>\n      <td>skilled</td>\n      <td>1</td>\n      <td>none</td>\n      <td>yes</td>\n      <td>No Risk</td>\n    </tr>\n    <tr>\n      <th>4977</th>\n      <td>less_0</td>\n      <td>10</td>\n      <td>all_credits_paid_back</td>\n      <td>car_used</td>\n      <td>259</td>\n      <td>100_to_500</td>\n      <td>1_to_4</td>\n      <td>2</td>\n      <td>female</td>\n      <td>none</td>\n      <td>...</td>\n      <td>real_estate</td>\n      <td>29</td>\n      <td>none</td>\n      <td>own</td>\n      <td>1</td>\n      <td>skilled</td>\n      <td>1</td>\n      <td>yes</td>\n      <td>yes</td>\n      <td>No Risk</td>\n    </tr>\n    <tr>\n      <th>4978</th>\n      <td>no_checking</td>\n      <td>8</td>\n      <td>credits_paid_to_date</td>\n      <td>car_used</td>\n      <td>6602</td>\n      <td>less_100</td>\n      <td>unemployed</td>\n      <td>3</td>\n      <td>male</td>\n      <td>none</td>\n      <td>...</td>\n      <td>savings_insurance</td>\n      <td>29</td>\n      <td>none</td>\n      <td>free</td>\n      <td>1</td>\n      <td>management_self-employed</td>\n      <td>1</td>\n      <td>yes</td>\n      <td>yes</td>\n      <td>No Risk</td>\n    </tr>\n    <tr>\n      <th>4979</th>\n      <td>0_to_200</td>\n      <td>32</td>\n      <td>outstanding_credit</td>\n      <td>appliances</td>\n      <td>4902</td>\n      <td>100_to_500</td>\n      <td>4_to_7</td>\n      <td>4</td>\n      <td>male</td>\n      <td>none</td>\n      <td>...</td>\n      <td>car_other</td>\n      <td>33</td>\n      <td>none</td>\n      <td>free</td>\n      <td>2</td>\n      <td>skilled</td>\n      <td>1</td>\n      <td>yes</td>\n      <td>yes</td>\n      <td>Risk</td>\n    </tr>\n    <tr>\n      <th>4980</th>\n      <td>0_to_200</td>\n      <td>32</td>\n      <td>credits_paid_to_date</td>\n      <td>business</td>\n      <td>2238</td>\n      <td>100_to_500</td>\n      <td>1_to_4</td>\n      <td>2</td>\n      <td>male</td>\n      <td>none</td>\n      <td>...</td>\n      <td>savings_insurance</td>\n      <td>19</td>\n      <td>bank</td>\n      <td>rent</td>\n      <td>1</td>\n      <td>unemployed</td>\n      <td>1</td>\n      <td>none</td>\n      <td>yes</td>\n      <td>No Risk</td>\n    </tr>\n    <tr>\n      <th>4981</th>\n      <td>no_checking</td>\n      <td>33</td>\n      <td>prior_payments_delayed</td>\n      <td>appliances</td>\n      <td>6805</td>\n      <td>100_to_500</td>\n      <td>4_to_7</td>\n      <td>3</td>\n      <td>male</td>\n      <td>none</td>\n      <td>...</td>\n      <td>savings_insurance</td>\n      <td>47</td>\n      <td>none</td>\n      <td>own</td>\n      <td>2</td>\n      <td>skilled</td>\n      <td>1</td>\n      <td>none</td>\n      <td>yes</td>\n      <td>Risk</td>\n    </tr>\n    <tr>\n      <th>4982</th>\n      <td>0_to_200</td>\n      <td>9</td>\n      <td>no_credits</td>\n      <td>car_new</td>\n      <td>250</td>\n      <td>less_100</td>\n      <td>unemployed</td>\n      <td>2</td>\n      <td>female</td>\n      <td>none</td>\n      <td>...</td>\n      <td>real_estate</td>\n      <td>19</td>\n      <td>none</td>\n      <td>own</td>\n      <td>1</td>\n      <td>skilled</td>\n      <td>1</td>\n      <td>none</td>\n      <td>yes</td>\n      <td>No Risk</td>\n    </tr>\n    <tr>\n      <th>4983</th>\n      <td>0_to_200</td>\n      <td>32</td>\n      <td>credits_paid_to_date</td>\n      <td>car_used</td>\n      <td>3706</td>\n      <td>greater_1000</td>\n      <td>1_to_4</td>\n      <td>4</td>\n      <td>female</td>\n      <td>none</td>\n      <td>...</td>\n      <td>car_other</td>\n      <td>36</td>\n      <td>stores</td>\n      <td>own</td>\n      <td>2</td>\n      <td>unskilled</td>\n      <td>2</td>\n      <td>yes</td>\n      <td>yes</td>\n      <td>No Risk</td>\n    </tr>\n    <tr>\n      <th>4984</th>\n      <td>0_to_200</td>\n      <td>18</td>\n      <td>credits_paid_to_date</td>\n      <td>appliances</td>\n      <td>3301</td>\n      <td>less_100</td>\n      <td>1_to_4</td>\n      <td>2</td>\n      <td>male</td>\n      <td>none</td>\n      <td>...</td>\n      <td>car_other</td>\n      <td>19</td>\n      <td>bank</td>\n      <td>rent</td>\n      <td>1</td>\n      <td>unemployed</td>\n      <td>1</td>\n      <td>yes</td>\n      <td>yes</td>\n      <td>No Risk</td>\n    </tr>\n    <tr>\n      <th>4985</th>\n      <td>no_checking</td>\n      <td>53</td>\n      <td>outstanding_credit</td>\n      <td>education</td>\n      <td>10148</td>\n      <td>greater_1000</td>\n      <td>greater_7</td>\n      <td>6</td>\n      <td>male</td>\n      <td>co-applicant</td>\n      <td>...</td>\n      <td>unknown</td>\n      <td>61</td>\n      <td>none</td>\n      <td>free</td>\n      <td>3</td>\n      <td>skilled</td>\n      <td>2</td>\n      <td>yes</td>\n      <td>yes</td>\n      <td>Risk</td>\n    </tr>\n    <tr>\n      <th>4986</th>\n      <td>less_0</td>\n      <td>4</td>\n      <td>all_credits_paid_back</td>\n      <td>car_used</td>\n      <td>250</td>\n      <td>less_100</td>\n      <td>unemployed</td>\n      <td>1</td>\n      <td>female</td>\n      <td>none</td>\n      <td>...</td>\n      <td>real_estate</td>\n      <td>19</td>\n      <td>none</td>\n      <td>rent</td>\n      <td>1</td>\n      <td>skilled</td>\n      <td>1</td>\n      <td>none</td>\n      <td>yes</td>\n      <td>No Risk</td>\n    </tr>\n    <tr>\n      <th>4987</th>\n      <td>less_0</td>\n      <td>22</td>\n      <td>no_credits</td>\n      <td>furniture</td>\n      <td>1822</td>\n      <td>less_100</td>\n      <td>1_to_4</td>\n      <td>3</td>\n      <td>female</td>\n      <td>none</td>\n      <td>...</td>\n      <td>savings_insurance</td>\n      <td>32</td>\n      <td>none</td>\n      <td>own</td>\n      <td>1</td>\n      <td>skilled</td>\n      <td>1</td>\n      <td>none</td>\n      <td>yes</td>\n      <td>No Risk</td>\n    </tr>\n    <tr>\n      <th>4988</th>\n      <td>no_checking</td>\n      <td>32</td>\n      <td>prior_payments_delayed</td>\n      <td>radio_tv</td>\n      <td>3581</td>\n      <td>500_to_1000</td>\n      <td>4_to_7</td>\n      <td>4</td>\n      <td>female</td>\n      <td>none</td>\n      <td>...</td>\n      <td>car_other</td>\n      <td>43</td>\n      <td>none</td>\n      <td>own</td>\n      <td>2</td>\n      <td>skilled</td>\n      <td>1</td>\n      <td>none</td>\n      <td>yes</td>\n      <td>No Risk</td>\n    </tr>\n    <tr>\n      <th>4989</th>\n      <td>0_to_200</td>\n      <td>25</td>\n      <td>credits_paid_to_date</td>\n      <td>car_new</td>\n      <td>2021</td>\n      <td>500_to_1000</td>\n      <td>1_to_4</td>\n      <td>3</td>\n      <td>male</td>\n      <td>none</td>\n      <td>...</td>\n      <td>car_other</td>\n      <td>38</td>\n      <td>none</td>\n      <td>rent</td>\n      <td>1</td>\n      <td>skilled</td>\n      <td>1</td>\n      <td>none</td>\n      <td>yes</td>\n      <td>No Risk</td>\n    </tr>\n    <tr>\n      <th>4990</th>\n      <td>no_checking</td>\n      <td>36</td>\n      <td>prior_payments_delayed</td>\n      <td>other</td>\n      <td>8022</td>\n      <td>100_to_500</td>\n      <td>4_to_7</td>\n      <td>5</td>\n      <td>male</td>\n      <td>none</td>\n      <td>...</td>\n      <td>car_other</td>\n      <td>53</td>\n      <td>none</td>\n      <td>free</td>\n      <td>2</td>\n      <td>management_self-employed</td>\n      <td>1</td>\n      <td>yes</td>\n      <td>yes</td>\n      <td>Risk</td>\n    </tr>\n    <tr>\n      <th>4991</th>\n      <td>less_0</td>\n      <td>11</td>\n      <td>all_credits_paid_back</td>\n      <td>furniture</td>\n      <td>833</td>\n      <td>less_100</td>\n      <td>less_1</td>\n      <td>1</td>\n      <td>male</td>\n      <td>none</td>\n      <td>...</td>\n      <td>savings_insurance</td>\n      <td>37</td>\n      <td>stores</td>\n      <td>own</td>\n      <td>1</td>\n      <td>skilled</td>\n      <td>1</td>\n      <td>none</td>\n      <td>yes</td>\n      <td>No Risk</td>\n    </tr>\n    <tr>\n      <th>4992</th>\n      <td>no_checking</td>\n      <td>8</td>\n      <td>credits_paid_to_date</td>\n      <td>car_used</td>\n      <td>1654</td>\n      <td>less_100</td>\n      <td>1_to_4</td>\n      <td>2</td>\n      <td>male</td>\n      <td>none</td>\n      <td>...</td>\n      <td>savings_insurance</td>\n      <td>36</td>\n      <td>none</td>\n      <td>own</td>\n      <td>1</td>\n      <td>skilled</td>\n      <td>1</td>\n      <td>yes</td>\n      <td>yes</td>\n      <td>No Risk</td>\n    </tr>\n    <tr>\n      <th>4993</th>\n      <td>0_to_200</td>\n      <td>15</td>\n      <td>credits_paid_to_date</td>\n      <td>car_used</td>\n      <td>4097</td>\n      <td>100_to_500</td>\n      <td>1_to_4</td>\n      <td>3</td>\n      <td>male</td>\n      <td>none</td>\n      <td>...</td>\n      <td>car_other</td>\n      <td>43</td>\n      <td>none</td>\n      <td>own</td>\n      <td>2</td>\n      <td>skilled</td>\n      <td>1</td>\n      <td>none</td>\n      <td>yes</td>\n      <td>No Risk</td>\n    </tr>\n    <tr>\n      <th>4994</th>\n      <td>0_to_200</td>\n      <td>12</td>\n      <td>prior_payments_delayed</td>\n      <td>retraining</td>\n      <td>5715</td>\n      <td>less_100</td>\n      <td>less_1</td>\n      <td>3</td>\n      <td>male</td>\n      <td>co-applicant</td>\n      <td>...</td>\n      <td>savings_insurance</td>\n      <td>31</td>\n      <td>none</td>\n      <td>own</td>\n      <td>1</td>\n      <td>skilled</td>\n      <td>1</td>\n      <td>yes</td>\n      <td>yes</td>\n      <td>No Risk</td>\n    </tr>\n    <tr>\n      <th>4995</th>\n      <td>greater_200</td>\n      <td>27</td>\n      <td>credits_paid_to_date</td>\n      <td>furniture</td>\n      <td>4650</td>\n      <td>less_100</td>\n      <td>1_to_4</td>\n      <td>3</td>\n      <td>male</td>\n      <td>none</td>\n      <td>...</td>\n      <td>savings_insurance</td>\n      <td>40</td>\n      <td>none</td>\n      <td>own</td>\n      <td>1</td>\n      <td>skilled</td>\n      <td>1</td>\n      <td>none</td>\n      <td>yes</td>\n      <td>No Risk</td>\n    </tr>\n    <tr>\n      <th>4996</th>\n      <td>0_to_200</td>\n      <td>11</td>\n      <td>prior_payments_delayed</td>\n      <td>furniture</td>\n      <td>250</td>\n      <td>greater_1000</td>\n      <td>4_to_7</td>\n      <td>3</td>\n      <td>male</td>\n      <td>none</td>\n      <td>...</td>\n      <td>car_other</td>\n      <td>32</td>\n      <td>bank</td>\n      <td>own</td>\n      <td>1</td>\n      <td>unemployed</td>\n      <td>1</td>\n      <td>none</td>\n      <td>yes</td>\n      <td>No Risk</td>\n    </tr>\n    <tr>\n      <th>4997</th>\n      <td>no_checking</td>\n      <td>32</td>\n      <td>outstanding_credit</td>\n      <td>appliances</td>\n      <td>6536</td>\n      <td>unknown</td>\n      <td>greater_7</td>\n      <td>5</td>\n      <td>male</td>\n      <td>co-applicant</td>\n      <td>...</td>\n      <td>unknown</td>\n      <td>54</td>\n      <td>stores</td>\n      <td>own</td>\n      <td>2</td>\n      <td>unskilled</td>\n      <td>2</td>\n      <td>yes</td>\n      <td>yes</td>\n      <td>Risk</td>\n    </tr>\n    <tr>\n      <th>4998</th>\n      <td>0_to_200</td>\n      <td>38</td>\n      <td>outstanding_credit</td>\n      <td>other</td>\n      <td>1597</td>\n      <td>500_to_1000</td>\n      <td>greater_7</td>\n      <td>3</td>\n      <td>female</td>\n      <td>co-applicant</td>\n      <td>...</td>\n      <td>savings_insurance</td>\n      <td>27</td>\n      <td>stores</td>\n      <td>own</td>\n      <td>1</td>\n      <td>skilled</td>\n      <td>1</td>\n      <td>none</td>\n      <td>yes</td>\n      <td>Risk</td>\n    </tr>\n    <tr>\n      <th>4999</th>\n      <td>less_0</td>\n      <td>12</td>\n      <td>all_credits_paid_back</td>\n      <td>car_new</td>\n      <td>4152</td>\n      <td>less_100</td>\n      <td>1_to_4</td>\n      <td>2</td>\n      <td>male</td>\n      <td>none</td>\n      <td>...</td>\n      <td>savings_insurance</td>\n      <td>29</td>\n      <td>none</td>\n      <td>own</td>\n      <td>2</td>\n      <td>skilled</td>\n      <td>1</td>\n      <td>none</td>\n      <td>yes</td>\n      <td>No Risk</td>\n    </tr>\n  </tbody>\n</table>\n<p>5000 rows \u00d7 21 columns</p>\n</div>", 
                        "text/plain": "     CheckingStatus  LoanDuration           CreditHistory LoanPurpose  \\\n0          0_to_200            31    credits_paid_to_date       other   \n1            less_0            18    credits_paid_to_date     car_new   \n2            less_0            15  prior_payments_delayed   furniture   \n3          0_to_200            28    credits_paid_to_date  retraining   \n4       no_checking            28  prior_payments_delayed   education   \n5       no_checking            32      outstanding_credit    vacation   \n6       no_checking             9  prior_payments_delayed     car_new   \n7            less_0            16    credits_paid_to_date    vacation   \n8          0_to_200            11    credits_paid_to_date     car_new   \n9       no_checking            35      outstanding_credit  appliances   \n10           less_0             5   all_credits_paid_back     car_new   \n11           less_0             9   all_credits_paid_back    car_used   \n12      no_checking            27      outstanding_credit   furniture   \n13         0_to_200            29    credits_paid_to_date   furniture   \n14      greater_200             4   all_credits_paid_back     car_new   \n15      no_checking            33   all_credits_paid_back   furniture   \n16         0_to_200             4   all_credits_paid_back     car_new   \n17      no_checking            39  prior_payments_delayed     repairs   \n18         0_to_200             4   all_credits_paid_back     car_new   \n19           less_0            13   all_credits_paid_back    vacation   \n20         0_to_200            15  prior_payments_delayed   furniture   \n21         0_to_200            16  prior_payments_delayed     car_new   \n22      no_checking            34  prior_payments_delayed   furniture   \n23           less_0            13   all_credits_paid_back    radio_tv   \n24           less_0            15    credits_paid_to_date    vacation   \n25         0_to_200            33    credits_paid_to_date     repairs   \n26           less_0            23  prior_payments_delayed    car_used   \n27           less_0             9  prior_payments_delayed   furniture   \n28      no_checking            10  prior_payments_delayed    radio_tv   \n29      no_checking            25      outstanding_credit    radio_tv   \n...             ...           ...                     ...         ...   \n4970       0_to_200            16    credits_paid_to_date     car_new   \n4971    greater_200            25    credits_paid_to_date    car_used   \n4972    no_checking            32  prior_payments_delayed   education   \n4973         less_0            14   all_credits_paid_back     car_new   \n4974    no_checking            36  prior_payments_delayed       other   \n4975         less_0            20  prior_payments_delayed    car_used   \n4976    no_checking            19    credits_paid_to_date    radio_tv   \n4977         less_0            10   all_credits_paid_back    car_used   \n4978    no_checking             8    credits_paid_to_date    car_used   \n4979       0_to_200            32      outstanding_credit  appliances   \n4980       0_to_200            32    credits_paid_to_date    business   \n4981    no_checking            33  prior_payments_delayed  appliances   \n4982       0_to_200             9              no_credits     car_new   \n4983       0_to_200            32    credits_paid_to_date    car_used   \n4984       0_to_200            18    credits_paid_to_date  appliances   \n4985    no_checking            53      outstanding_credit   education   \n4986         less_0             4   all_credits_paid_back    car_used   \n4987         less_0            22              no_credits   furniture   \n4988    no_checking            32  prior_payments_delayed    radio_tv   \n4989       0_to_200            25    credits_paid_to_date     car_new   \n4990    no_checking            36  prior_payments_delayed       other   \n4991         less_0            11   all_credits_paid_back   furniture   \n4992    no_checking             8    credits_paid_to_date    car_used   \n4993       0_to_200            15    credits_paid_to_date    car_used   \n4994       0_to_200            12  prior_payments_delayed  retraining   \n4995    greater_200            27    credits_paid_to_date   furniture   \n4996       0_to_200            11  prior_payments_delayed   furniture   \n4997    no_checking            32      outstanding_credit  appliances   \n4998       0_to_200            38      outstanding_credit       other   \n4999         less_0            12   all_credits_paid_back     car_new   \n\n      LoanAmount ExistingSavings EmploymentDuration  InstallmentPercent  \\\n0           1889      100_to_500             less_1                   3   \n1            462        less_100             1_to_4                   2   \n2            250        less_100             1_to_4                   2   \n3           3693        less_100          greater_7                   3   \n4           6235     500_to_1000          greater_7                   3   \n5           9604     500_to_1000          greater_7                   6   \n6           1032      100_to_500             4_to_7                   3   \n7           3109        less_100             4_to_7                   3   \n8           4553        less_100             less_1                   3   \n9           7138     500_to_1000          greater_7                   5   \n10          1523        less_100         unemployed                   2   \n11          4302        less_100             1_to_4                   3   \n12          3310     500_to_1000          greater_7                   5   \n13          3705        less_100             less_1                   3   \n14          2407        less_100             1_to_4                   3   \n15          3810      100_to_500             less_1                   2   \n16           250        less_100             1_to_4                   2   \n17          7150     500_to_1000             4_to_7                   3   \n18           250        less_100             1_to_4                   2   \n19          2317        less_100             less_1                   2   \n20           250     500_to_1000             4_to_7                   3   \n21          5551      100_to_500             1_to_4                   3   \n22          6063         unknown             1_to_4                   4   \n23          1045      100_to_500             less_1                   2   \n24           250        less_100             4_to_7                   2   \n25          3946        less_100             4_to_7                   2   \n26           250    greater_1000             1_to_4                   2   \n27           292        less_100             less_1                   2   \n28          4312      100_to_500             less_1                   3   \n29          6945     500_to_1000             1_to_4                   4   \n...          ...             ...                ...                 ...   \n4970        1387        less_100             less_1                   2   \n4971        6225      100_to_500             1_to_4                   3   \n4972        4424     500_to_1000             4_to_7                   3   \n4973        2244        less_100             less_1                   2   \n4974        2992         unknown          greater_7                   4   \n4975        2034    greater_1000          greater_7                   4   \n4976        2804      100_to_500             less_1                   3   \n4977         259      100_to_500             1_to_4                   2   \n4978        6602        less_100         unemployed                   3   \n4979        4902      100_to_500             4_to_7                   4   \n4980        2238      100_to_500             1_to_4                   2   \n4981        6805      100_to_500             4_to_7                   3   \n4982         250        less_100         unemployed                   2   \n4983        3706    greater_1000             1_to_4                   4   \n4984        3301        less_100             1_to_4                   2   \n4985       10148    greater_1000          greater_7                   6   \n4986         250        less_100         unemployed                   1   \n4987        1822        less_100             1_to_4                   3   \n4988        3581     500_to_1000             4_to_7                   4   \n4989        2021     500_to_1000             1_to_4                   3   \n4990        8022      100_to_500             4_to_7                   5   \n4991         833        less_100             less_1                   1   \n4992        1654        less_100             1_to_4                   2   \n4993        4097      100_to_500             1_to_4                   3   \n4994        5715        less_100             less_1                   3   \n4995        4650        less_100             1_to_4                   3   \n4996         250    greater_1000             4_to_7                   3   \n4997        6536         unknown          greater_7                   5   \n4998        1597     500_to_1000          greater_7                   3   \n4999        4152        less_100             1_to_4                   2   \n\n         Sex  OthersOnLoan   ...          OwnsProperty Age  InstallmentPlans  \\\n0     female          none   ...     savings_insurance  32              none   \n1     female          none   ...     savings_insurance  37            stores   \n2       male          none   ...           real_estate  28              none   \n3       male          none   ...     savings_insurance  32              none   \n4       male          none   ...               unknown  57              none   \n5       male  co-applicant   ...               unknown  57              none   \n6       male          none   ...     savings_insurance  41              none   \n7     female          none   ...             car_other  36              none   \n8     female          none   ...     savings_insurance  22              none   \n9       male  co-applicant   ...               unknown  49              none   \n10    female          none   ...           real_estate  19              none   \n11      male          none   ...             car_other  34              none   \n12      male          none   ...             car_other  40              none   \n13    female  co-applicant   ...             car_other  44              none   \n14    female          none   ...             car_other  52              none   \n15    female  co-applicant   ...     savings_insurance  35              none   \n16    female          none   ...           real_estate  26              none   \n17      male  co-applicant   ...               unknown  52              none   \n18    female          none   ...           real_estate  28              none   \n19    female          none   ...     savings_insurance  27            stores   \n20      male          none   ...     savings_insurance  24              none   \n21      male          none   ...             car_other  34              none   \n22      male          none   ...             car_other  40              none   \n23    female          none   ...           real_estate  24              none   \n24    female          none   ...           real_estate  19            stores   \n25    female          none   ...             car_other  33            stores   \n26      male          none   ...           real_estate  19            stores   \n27    female          none   ...             car_other  51              none   \n28    female          none   ...             car_other  38              none   \n29      male          none   ...               unknown  46              none   \n...      ...           ...   ...                   ...  ..               ...   \n4970  female          none   ...     savings_insurance  28              none   \n4971    male          none   ...     savings_insurance  40              none   \n4972    male          none   ...     savings_insurance  32              none   \n4973  female          none   ...           real_estate  21              none   \n4974    male          none   ...             car_other  53              none   \n4975    male          none   ...             car_other  47              none   \n4976  female          none   ...           real_estate  31            stores   \n4977  female          none   ...           real_estate  29              none   \n4978    male          none   ...     savings_insurance  29              none   \n4979    male          none   ...             car_other  33              none   \n4980    male          none   ...     savings_insurance  19              bank   \n4981    male          none   ...     savings_insurance  47              none   \n4982  female          none   ...           real_estate  19              none   \n4983  female          none   ...             car_other  36            stores   \n4984    male          none   ...             car_other  19              bank   \n4985    male  co-applicant   ...               unknown  61              none   \n4986  female          none   ...           real_estate  19              none   \n4987  female          none   ...     savings_insurance  32              none   \n4988  female          none   ...             car_other  43              none   \n4989    male          none   ...             car_other  38              none   \n4990    male          none   ...             car_other  53              none   \n4991    male          none   ...     savings_insurance  37            stores   \n4992    male          none   ...     savings_insurance  36              none   \n4993    male          none   ...             car_other  43              none   \n4994    male  co-applicant   ...     savings_insurance  31              none   \n4995    male          none   ...     savings_insurance  40              none   \n4996    male          none   ...             car_other  32              bank   \n4997    male  co-applicant   ...               unknown  54            stores   \n4998  female  co-applicant   ...     savings_insurance  27            stores   \n4999    male          none   ...     savings_insurance  29              none   \n\n     Housing ExistingCreditsCount                       Job Dependents  \\\n0        own                    1                   skilled          1   \n1        own                    2                   skilled          1   \n2        own                    2                   skilled          1   \n3        own                    1                   skilled          1   \n4        own                    2                   skilled          1   \n5       free                    2                   skilled          2   \n6        own                    1  management_self-employed          1   \n7        own                    2                   skilled          1   \n8        own                    1  management_self-employed          1   \n9       free                    2                   skilled          2   \n10      rent                    1  management_self-employed          1   \n11      free                    1                   skilled          1   \n12      free                    1                   skilled          1   \n13       own                    1                   skilled          1   \n14       own                    1                   skilled          2   \n15       own                    1                   skilled          1   \n16       own                    1                   skilled          1   \n17       own                    2                   skilled          1   \n18       own                    1                   skilled          1   \n19       own                    2                   skilled          1   \n20       own                    2                   skilled          2   \n21      rent                    2  management_self-employed          1   \n22       own                    2                   skilled          1   \n23      rent                    1                   skilled          1   \n24      rent                    1                   skilled          1   \n25       own                    1                 unskilled          1   \n26      rent                    1                   skilled          1   \n27      rent                    1                   skilled          1   \n28       own                    1                   skilled          2   \n29       own                    1  management_self-employed          1   \n...      ...                  ...                       ...        ...   \n4970     own                    1                   skilled          1   \n4971     own                    2                   skilled          1   \n4972     own                    2                   skilled          1   \n4973     own                    1                   skilled          1   \n4974     own                    2                   skilled          1   \n4975     own                    2                   skilled          1   \n4976     own                    1                   skilled          1   \n4977     own                    1                   skilled          1   \n4978    free                    1  management_self-employed          1   \n4979    free                    2                   skilled          1   \n4980    rent                    1                unemployed          1   \n4981     own                    2                   skilled          1   \n4982     own                    1                   skilled          1   \n4983     own                    2                 unskilled          2   \n4984    rent                    1                unemployed          1   \n4985    free                    3                   skilled          2   \n4986    rent                    1                   skilled          1   \n4987     own                    1                   skilled          1   \n4988     own                    2                   skilled          1   \n4989    rent                    1                   skilled          1   \n4990    free                    2  management_self-employed          1   \n4991     own                    1                   skilled          1   \n4992     own                    1                   skilled          1   \n4993     own                    2                   skilled          1   \n4994     own                    1                   skilled          1   \n4995     own                    1                   skilled          1   \n4996     own                    1                unemployed          1   \n4997     own                    2                 unskilled          2   \n4998     own                    1                   skilled          1   \n4999     own                    2                   skilled          1   \n\n      Telephone ForeignWorker     Risk  \n0          none           yes  No Risk  \n1          none           yes  No Risk  \n2           yes            no  No Risk  \n3          none           yes  No Risk  \n4          none           yes     Risk  \n5           yes           yes     Risk  \n6          none           yes  No Risk  \n7          none           yes  No Risk  \n8          none           yes  No Risk  \n9           yes           yes     Risk  \n10         none           yes  No Risk  \n11         none           yes  No Risk  \n12          yes           yes  No Risk  \n13         none           yes  No Risk  \n14          yes           yes  No Risk  \n15         none           yes     Risk  \n16         none           yes  No Risk  \n17          yes           yes     Risk  \n18         none           yes  No Risk  \n19         none           yes  No Risk  \n20          yes           yes  No Risk  \n21         none           yes  No Risk  \n22         none           yes  No Risk  \n23         none           yes  No Risk  \n24         none           yes  No Risk  \n25         none           yes  No Risk  \n26         none           yes  No Risk  \n27         none           yes  No Risk  \n28          yes           yes  No Risk  \n29          yes           yes     Risk  \n...         ...           ...      ...  \n4970       none           yes  No Risk  \n4971       none           yes     Risk  \n4972       none           yes  No Risk  \n4973       none           yes  No Risk  \n4974       none           yes  No Risk  \n4975        yes           yes  No Risk  \n4976       none           yes  No Risk  \n4977        yes           yes  No Risk  \n4978        yes           yes  No Risk  \n4979        yes           yes     Risk  \n4980       none           yes  No Risk  \n4981       none           yes     Risk  \n4982       none           yes  No Risk  \n4983        yes           yes  No Risk  \n4984        yes           yes  No Risk  \n4985        yes           yes     Risk  \n4986       none           yes  No Risk  \n4987       none           yes  No Risk  \n4988       none           yes  No Risk  \n4989       none           yes  No Risk  \n4990        yes           yes     Risk  \n4991       none           yes  No Risk  \n4992        yes           yes  No Risk  \n4993       none           yes  No Risk  \n4994        yes           yes  No Risk  \n4995       none           yes  No Risk  \n4996       none           yes  No Risk  \n4997        yes           yes     Risk  \n4998       none           yes     Risk  \n4999       none           yes  No Risk  \n\n[5000 rows x 21 columns]"
                    }, 
                    "output_type": "execute_result"
                }
            ], 
            "source": "data_df"
        }, 
        {
            "source": "# OpenScale configuration <a name=\"openscale\"></a>", 
            "cell_type": "markdown", 
            "metadata": {}
        }, 
        {
            "source": "## DataMart setup", 
            "cell_type": "markdown", 
            "metadata": {}
        }, 
        {
            "execution_count": 16, 
            "cell_type": "code", 
            "metadata": {}, 
            "outputs": [], 
            "source": "client.data_mart.setup(db_credentials=POSTGRES_CREDENTIALS, schema=SCHEMA_NAME)"
        }, 
        {
            "execution_count": 17, 
            "cell_type": "code", 
            "metadata": {}, 
            "outputs": [], 
            "source": "data_mart_details = client.data_mart.get_details()"
        }, 
        {
            "source": "## Bind machine learning engines", 
            "cell_type": "markdown", 
            "metadata": {}
        }, 
        {
            "source": "### Bind  `CUSTOM` machine learning engine\n**NOTE:** CUSTOM machine learning engine must follow this [API specification](https://aiopenscale-custom-deployement-spec.mybluemix.net/) to be supported.\n\nCredentials support following fields:\n- `url` - hostname and port (required)\n- `username` - part of BasicAuth (optional)\n- `password` - part of BasicAuth (optional)", 
            "cell_type": "markdown", 
            "metadata": {}
        }, 
        {
            "execution_count": 18, 
            "cell_type": "code", 
            "metadata": {}, 
            "outputs": [], 
            "source": "CUSTOM_ENGINE_CREDENTIALS = {\n    \"url\": \"***\",\n    \"username\": \"***\",\n    \"password\": \"***\"\n}"
        }, 
        {
            "execution_count": 19, 
            "cell_type": "code", 
            "metadata": {}, 
            "outputs": [], 
            "source": "# The code was removed by Watson Studio for sharing."
        }, 
        {
            "execution_count": 20, 
            "cell_type": "code", 
            "metadata": {}, 
            "outputs": [], 
            "source": "binding_uid = client.data_mart.bindings.add('My custom engine', CustomMachineLearningInstance(CUSTOM_ENGINE_CREDENTIALS))"
        }, 
        {
            "execution_count": 21, 
            "cell_type": "code", 
            "metadata": {}, 
            "outputs": [], 
            "source": "bindings_details = client.data_mart.bindings.get_details()"
        }, 
        {
            "execution_count": 22, 
            "cell_type": "code", 
            "metadata": {}, 
            "outputs": [
                {
                    "output_type": "display_data", 
                    "data": {
                        "text/html": "<HTML>\n        <body>\n            <h3>Service bindings</h3>\n            <table style='border: 1px solid #dddddd; font-family: Courier'>\n                <th style='border: 1px solid #dddddd'>uid</th><th style='border: 1px solid #dddddd'>name</th><th style='border: 1px solid #dddddd'>service_type</th><th style='border: 1px solid #dddddd'>created</th>\n                <tr><td style='border: 1px solid #dddddd'>3e949909-dc80-4c09-9968-c55019d272df</td><td style='border: 1px solid #dddddd'>My custom engine</td><td style='border: 1px solid #dddddd'>custom_machine_learning</td><td style='border: 1px solid #dddddd'>2019-04-04T10:30:05.277Z</td></tr>\n            </table>\n        </body>\n        </HTML>", 
                        "text/plain": "<IPython.core.display.HTML object>"
                    }, 
                    "metadata": {}
                }
            ], 
            "source": "client.data_mart.bindings.list()"
        }, 
        {
            "source": "## Subscriptions", 
            "cell_type": "markdown", 
            "metadata": {}
        }, 
        {
            "source": "### Add subscriptions", 
            "cell_type": "markdown", 
            "metadata": {}
        }, 
        {
            "source": "List available deployments.", 
            "cell_type": "markdown", 
            "metadata": {}
        }, 
        {
            "execution_count": 23, 
            "cell_type": "code", 
            "metadata": {}, 
            "outputs": [
                {
                    "output_type": "display_data", 
                    "data": {
                        "text/html": "<HTML>\n        <body>\n            <h3>Available assets</h3>\n            <table style='border: 1px solid #dddddd; font-family: Courier'>\n                <th style='border: 1px solid #dddddd'>source_uid</th><th style='border: 1px solid #dddddd'>name</th><th style='border: 1px solid #dddddd'>created</th><th style='border: 1px solid #dddddd'>type</th><th style='border: 1px solid #dddddd'>frameworks</th><th style='border: 1px solid #dddddd'>binding_uid</th><th style='border: 1px solid #dddddd'>is_subscribed</th>\n                <tr><td style='border: 1px solid #dddddd'>credit</td><td style='border: 1px solid #dddddd'>credit</td><td style='border: 1px solid #dddddd'>2019-01-01T10:11:12Z</td><td style='border: 1px solid #dddddd'>model</td><td style='border: 1px solid #dddddd'></td><td style='border: 1px solid #dddddd'>3e949909-dc80-4c09-9968-c55019d272df</td><td style='border: 1px solid #dddddd'>False</td></tr><tr><td style='border: 1px solid #dddddd'>resnet50</td><td style='border: 1px solid #dddddd'>resnet50</td><td style='border: 1px solid #dddddd'>2016-12-01T10:11:12Z</td><td style='border: 1px solid #dddddd'>model</td><td style='border: 1px solid #dddddd'></td><td style='border: 1px solid #dddddd'>3e949909-dc80-4c09-9968-c55019d272df</td><td style='border: 1px solid #dddddd'>False</td></tr><tr><td style='border: 1px solid #dddddd'>action</td><td style='border: 1px solid #dddddd'>area and action prediction</td><td style='border: 1px solid #dddddd'>2016-12-01T10:11:12Z</td><td style='border: 1px solid #dddddd'>model</td><td style='border: 1px solid #dddddd'></td><td style='border: 1px solid #dddddd'>3e949909-dc80-4c09-9968-c55019d272df</td><td style='border: 1px solid #dddddd'>False</td></tr>\n            </table>\n        </body>\n        </HTML>", 
                        "text/plain": "<IPython.core.display.HTML object>"
                    }, 
                    "metadata": {}
                }
            ], 
            "source": "client.data_mart.bindings.list_assets()"
        }, 
        {
            "source": "Let's specify training data information like: list of features and list of categorical features required by fairness and explain.", 
            "cell_type": "markdown", 
            "metadata": {}
        }, 
        {
            "execution_count": 24, 
            "cell_type": "code", 
            "metadata": {}, 
            "outputs": [], 
            "source": "feature_columns = ['CheckingStatus', 'LoanDuration', 'CreditHistory', 'LoanPurpose', 'LoanAmount', 'ExistingSavings', 'EmploymentDuration', 'InstallmentPercent', 'Sex', 'OthersOnLoan', 'CurrentResidenceDuration', 'OwnsProperty', 'Age', 'InstallmentPlans', 'Housing', 'ExistingCreditsCount', 'Job', 'Dependents', 'Telephone', 'ForeignWorker']\ncategorical_columns = ['CheckingStatus', 'CreditHistory', 'LoanPurpose', 'ExistingSavings', 'EmploymentDuration', 'Sex', 'OthersOnLoan', 'OwnsProperty', 'InstallmentPlans','Housing', 'Job', 'Telephone', 'ForeignWorker']"
        }, 
        {
            "execution_count": 25, 
            "cell_type": "code", 
            "metadata": {}, 
            "outputs": [], 
            "source": "subscription = client.data_mart.subscriptions.add(\n    CustomMachineLearningAsset(\n                source_uid='credit',\n                label_column='Risk',\n                prediction_column='prediction',\n                probability_column='probability',\n                feature_columns=feature_columns.copy(),\n                categorical_columns=categorical_columns.copy(),\n                binding_uid=binding_uid))"
        }, 
        {
            "source": "### Get subscriptions list", 
            "cell_type": "markdown", 
            "metadata": {}
        }, 
        {
            "execution_count": 26, 
            "cell_type": "code", 
            "metadata": {}, 
            "outputs": [], 
            "source": "subscriptions = client.data_mart.subscriptions.get_details()"
        }, 
        {
            "execution_count": 27, 
            "cell_type": "code", 
            "metadata": {}, 
            "outputs": [
                {
                    "output_type": "stream", 
                    "name": "stdout", 
                    "text": "['credit']\n"
                }
            ], 
            "source": "subscriptions_uids = client.data_mart.subscriptions.get_uids()\nprint(subscriptions_uids)"
        }, 
        {
            "source": "### List subscriptions", 
            "cell_type": "markdown", 
            "metadata": {}
        }, 
        {
            "execution_count": 28, 
            "cell_type": "code", 
            "metadata": {}, 
            "outputs": [
                {
                    "output_type": "display_data", 
                    "data": {
                        "text/html": "<HTML>\n        <body>\n            <h3>Subscriptions</h3>\n            <table style='border: 1px solid #dddddd; font-family: Courier'>\n                <th style='border: 1px solid #dddddd'>uid</th><th style='border: 1px solid #dddddd'>name</th><th style='border: 1px solid #dddddd'>type</th><th style='border: 1px solid #dddddd'>binding_uid</th><th style='border: 1px solid #dddddd'>created</th>\n                <tr><td style='border: 1px solid #dddddd'>credit</td><td style='border: 1px solid #dddddd'>credit</td><td style='border: 1px solid #dddddd'>model</td><td style='border: 1px solid #dddddd'>3e949909-dc80-4c09-9968-c55019d272df</td><td style='border: 1px solid #dddddd'>2019-04-04T10:30:12.663Z</td></tr>\n            </table>\n        </body>\n        </HTML>", 
                        "text/plain": "<IPython.core.display.HTML object>"
                    }, 
                    "metadata": {}
                }
            ], 
            "source": "client.data_mart.subscriptions.list()"
        }, 
        {
            "source": "# Performance metrics, scoring and payload logging <a id=\"performance\"></a>", 
            "cell_type": "markdown", 
            "metadata": {}
        }, 
        {
            "source": "## Score the credit model", 
            "cell_type": "markdown", 
            "metadata": {}
        }, 
        {
            "execution_count": 29, 
            "cell_type": "code", 
            "metadata": {}, 
            "outputs": [
                {
                    "output_type": "stream", 
                    "name": "stdout", 
                    "text": "Response: {'values': [['No Risk', [0.8823126094462725, 0.1176873905537274]], ['No Risk', [0.6755090846150376, 0.3244909153849625]], ['No Risk', [0.8944991421537971, 0.10550085784620292]], ['No Risk', [0.9297263621482206, 0.07027363785177945]], ['No Risk', [0.937346474163384, 0.06265352583661594]], ['No Risk', [0.8389265131291409, 0.16107348687085907]], ['Risk', [0.16270903114445467, 0.8372909688555453]], ['No Risk', [0.8011704003481404, 0.1988295996518596]]], 'fields': ['prediction', 'probability'], 'labels': ['Risk', 'No Risk']}\n"
                }
            ], 
            "source": "import requests\nimport time\n\nvalues = [\n            [\"no_checking\", 13, \"credits_paid_to_date\", \"car_new\", 1343, \"100_to_500\", \"1_to_4\", 2, \"female\", \"none\", 3,\n             \"savings_insurance\", 25, \"none\", \"own\", 2, \"skilled\", 1, \"none\", \"yes\"],\n            [\"no_checking\", 24, \"prior_payments_delayed\", \"furniture\", 4567, \"500_to_1000\", \"1_to_4\", 4, \"male\", \"none\",\n             4, \"savings_insurance\", 60, \"none\", \"free\", 2, \"management_self-employed\", 1, \"none\", \"yes\"],\n            [\"0_to_200\", 26, \"all_credits_paid_back\", \"car_new\", 863, \"less_100\", \"less_1\", 2, \"female\", \"co-applicant\",\n             2, \"real_estate\", 38, \"none\", \"own\", 1, \"skilled\", 1, \"none\", \"yes\"],\n            [\"0_to_200\", 14, \"no_credits\", \"car_new\", 2368, \"less_100\", \"1_to_4\", 3, \"female\", \"none\", 3, \"real_estate\",\n             29, \"none\", \"own\", 1, \"skilled\", 1, \"none\", \"yes\"],\n            [\"0_to_200\", 4, \"no_credits\", \"car_new\", 250, \"less_100\", \"unemployed\", 2, \"female\", \"none\", 3,\n             \"real_estate\", 23, \"none\", \"rent\", 1, \"management_self-employed\", 1, \"none\", \"yes\"],\n            [\"no_checking\", 17, \"credits_paid_to_date\", \"car_new\", 832, \"100_to_500\", \"1_to_4\", 2, \"male\", \"none\", 2,\n             \"real_estate\", 42, \"none\", \"own\", 1, \"skilled\", 1, \"none\", \"yes\"],\n            [\"no_checking\", 50, \"outstanding_credit\", \"appliances\", 5696, \"unknown\", \"greater_7\", 4, \"female\",\n             \"co-applicant\", 4, \"unknown\", 54, \"none\", \"free\", 2, \"skilled\", 1, \"yes\", \"yes\"],\n            [\"0_to_200\", 13, \"prior_payments_delayed\", \"retraining\", 1375, \"100_to_500\", \"4_to_7\", 3, \"male\", \"none\", 3,\n             \"real_estate\", 70, \"none\", \"own\", 2, \"management_self-employed\", 1, \"none\", \"yes\"]\n        ]\n\n\nrequest_data = {'fields': feature_columns, 'values': values}\n\nheader = {'Content-Type': 'application/json'}\nscoring_url = subscription.get_details()['entity']['deployments'][0]['scoring_endpoint']['url']\n\nstart_time = time.time()\nresponse = requests.post(scoring_url, json=request_data, headers=header)\nresponse_time = int((time.time() - start_time)*1000)\n\nresponse_data = response.json()\nprint('Response: ' + str(response_data))"
        }, 
        {
            "source": "## Store the request and response in payload logging table", 
            "cell_type": "markdown", 
            "metadata": {}
        }, 
        {
            "source": "#### Using Python SDK", 
            "cell_type": "markdown", 
            "metadata": {}
        }, 
        {
            "source": "**Hint:** You can embed payload logging code into your custom deployment so it is logged automatically each time you score the model.", 
            "cell_type": "markdown", 
            "metadata": {}
        }, 
        {
            "execution_count": 30, 
            "cell_type": "code", 
            "metadata": {}, 
            "outputs": [], 
            "source": "records_list = [PayloadRecord(request=request_data, response=response_data, response_time=response_time), \n                PayloadRecord(request=request_data, response=response_data, response_time=response_time)]\n\nfor i in range(1, 10):\n    records_list.append(PayloadRecord(request=request_data, response=response_data, response_time=response_time))\n\nsubscription.payload_logging.store(records=records_list)"
        }, 
        {
            "source": "#### Using REST API", 
            "cell_type": "markdown", 
            "metadata": {}
        }, 
        {
            "source": "Get the token first.", 
            "cell_type": "markdown", 
            "metadata": {}
        }, 
        {
            "execution_count": 31, 
            "cell_type": "code", 
            "metadata": {}, 
            "outputs": [], 
            "source": "token_endpoint = \"https://iam.bluemix.net/identity/token\"\nheaders = {\n    \"Content-Type\": \"application/x-www-form-urlencoded\",\n    \"Accept\": \"application/json\"\n}\n\ndata = {\n    \"grant_type\":\"urn:ibm:params:oauth:grant-type:apikey\",\n    \"apikey\":AIOS_CREDENTIALS[\"apikey\"]\n}\n\nreq = requests.post(token_endpoint, data=data, headers=headers)\ntoken = req.json()['access_token']"
        }, 
        {
            "source": "Store the payload.", 
            "cell_type": "markdown", 
            "metadata": {}
        }, 
        {
            "execution_count": 32, 
            "cell_type": "code", 
            "metadata": {}, 
            "outputs": [
                {
                    "output_type": "stream", 
                    "name": "stdout", 
                    "text": "Request OK: True\n"
                }
            ], 
            "source": "import requests, uuid\n\nPAYLOAD_STORING_HREF_PATTERN = '{}/v1/data_marts/{}/scoring_payloads'\nendpoint = PAYLOAD_STORING_HREF_PATTERN.format(AIOS_CREDENTIALS['url'], AIOS_CREDENTIALS['data_mart_id'])\n\npayload = [{\n    'binding_id': binding_uid, \n    'deployment_id': subscription.get_details()['entity']['deployments'][0]['deployment_id'], \n    'subscription_id': subscription.uid, \n    'scoring_id': str(uuid.uuid4()), \n    'response': response_data,\n    'request': request_data\n}]\n\n\nheaders = {\"Authorization\": \"Bearer \" + token}\n      \nreq_response = requests.post(endpoint, json=payload, headers = headers)\n\nprint(\"Request OK: \" + str(req_response.ok))"
        }, 
        {
            "source": "## Performance metrics of scoring requests", 
            "cell_type": "markdown", 
            "metadata": {}
        }, 
        {
            "execution_count": 33, 
            "cell_type": "code", 
            "metadata": {}, 
            "outputs": [
                {
                    "output_type": "display_data", 
                    "data": {
                        "text/html": "<HTML>\n        <body>\n            <h3>PerformanceMetrics (binding_id=3e949909-dc80-4c09-9968-c55019d272df, subscription_id=credit)</h3>\n            <table style='border: 1px solid #dddddd; font-family: Courier'>\n                <th style='border: 1px solid #dddddd'>ts</th><th style='border: 1px solid #dddddd'>scoring_time</th><th style='border: 1px solid #dddddd'>scoring_records</th><th style='border: 1px solid #dddddd'>binding_id</th><th style='border: 1px solid #dddddd'>subscription_id</th><th style='border: 1px solid #dddddd'>deployment_id</th><th style='border: 1px solid #dddddd'>process</th><th style='border: 1px solid #dddddd'>asset_revision</th>\n                <tr><td style='border: 1px solid #dddddd'>2019-04-04 10:30:25.211000+00:00</td><td style='border: 1px solid #dddddd'>18.0</td><td style='border: 1px solid #dddddd'>8</td><td style='border: 1px solid #dddddd'>3e949909-dc80-4c09-9968-c55019d272df</td><td style='border: 1px solid #dddddd'>credit</td><td style='border: 1px solid #dddddd'>german_credit_risk</td><td style='border: 1px solid #dddddd'></td><td style='border: 1px solid #dddddd'></td></tr><tr><td style='border: 1px solid #dddddd'>2019-04-04 10:30:25.211000+00:00</td><td style='border: 1px solid #dddddd'>18.0</td><td style='border: 1px solid #dddddd'>8</td><td style='border: 1px solid #dddddd'>3e949909-dc80-4c09-9968-c55019d272df</td><td style='border: 1px solid #dddddd'>credit</td><td style='border: 1px solid #dddddd'>german_credit_risk</td><td style='border: 1px solid #dddddd'></td><td style='border: 1px solid #dddddd'></td></tr><tr><td style='border: 1px solid #dddddd'>2019-04-04 10:30:25.211000+00:00</td><td style='border: 1px solid #dddddd'>18.0</td><td style='border: 1px solid #dddddd'>8</td><td style='border: 1px solid #dddddd'>3e949909-dc80-4c09-9968-c55019d272df</td><td style='border: 1px solid #dddddd'>credit</td><td style='border: 1px solid #dddddd'>german_credit_risk</td><td style='border: 1px solid #dddddd'></td><td style='border: 1px solid #dddddd'></td></tr><tr><td style='border: 1px solid #dddddd'>2019-04-04 10:30:25.211000+00:00</td><td style='border: 1px solid #dddddd'>18.0</td><td style='border: 1px solid #dddddd'>8</td><td style='border: 1px solid #dddddd'>3e949909-dc80-4c09-9968-c55019d272df</td><td style='border: 1px solid #dddddd'>credit</td><td style='border: 1px solid #dddddd'>german_credit_risk</td><td style='border: 1px solid #dddddd'></td><td style='border: 1px solid #dddddd'></td></tr><tr><td style='border: 1px solid #dddddd'>2019-04-04 10:30:25.211000+00:00</td><td style='border: 1px solid #dddddd'>18.0</td><td style='border: 1px solid #dddddd'>8</td><td style='border: 1px solid #dddddd'>3e949909-dc80-4c09-9968-c55019d272df</td><td style='border: 1px solid #dddddd'>credit</td><td style='border: 1px solid #dddddd'>german_credit_risk</td><td style='border: 1px solid #dddddd'></td><td style='border: 1px solid #dddddd'></td></tr><tr><td style='border: 1px solid #dddddd'>2019-04-04 10:30:25.211000+00:00</td><td style='border: 1px solid #dddddd'>18.0</td><td style='border: 1px solid #dddddd'>8</td><td style='border: 1px solid #dddddd'>3e949909-dc80-4c09-9968-c55019d272df</td><td style='border: 1px solid #dddddd'>credit</td><td style='border: 1px solid #dddddd'>german_credit_risk</td><td style='border: 1px solid #dddddd'></td><td style='border: 1px solid #dddddd'></td></tr><tr><td style='border: 1px solid #dddddd'>2019-04-04 10:30:25.211000+00:00</td><td style='border: 1px solid #dddddd'>18.0</td><td style='border: 1px solid #dddddd'>8</td><td style='border: 1px solid #dddddd'>3e949909-dc80-4c09-9968-c55019d272df</td><td style='border: 1px solid #dddddd'>credit</td><td style='border: 1px solid #dddddd'>german_credit_risk</td><td style='border: 1px solid #dddddd'></td><td style='border: 1px solid #dddddd'></td></tr><tr><td style='border: 1px solid #dddddd'>2019-04-04 10:30:25.211000+00:00</td><td style='border: 1px solid #dddddd'>18.0</td><td style='border: 1px solid #dddddd'>8</td><td style='border: 1px solid #dddddd'>3e949909-dc80-4c09-9968-c55019d272df</td><td style='border: 1px solid #dddddd'>credit</td><td style='border: 1px solid #dddddd'>german_credit_risk</td><td style='border: 1px solid #dddddd'></td><td style='border: 1px solid #dddddd'></td></tr><tr><td style='border: 1px solid #dddddd'>2019-04-04 10:30:25.211000+00:00</td><td style='border: 1px solid #dddddd'>18.0</td><td style='border: 1px solid #dddddd'>8</td><td style='border: 1px solid #dddddd'>3e949909-dc80-4c09-9968-c55019d272df</td><td style='border: 1px solid #dddddd'>credit</td><td style='border: 1px solid #dddddd'>german_credit_risk</td><td style='border: 1px solid #dddddd'></td><td style='border: 1px solid #dddddd'></td></tr><tr><td style='border: 1px solid #dddddd'>2019-04-04 10:30:25.211000+00:00</td><td style='border: 1px solid #dddddd'>18.0</td><td style='border: 1px solid #dddddd'>8</td><td style='border: 1px solid #dddddd'>3e949909-dc80-4c09-9968-c55019d272df</td><td style='border: 1px solid #dddddd'>credit</td><td style='border: 1px solid #dddddd'>german_credit_risk</td><td style='border: 1px solid #dddddd'></td><td style='border: 1px solid #dddddd'></td></tr>\n            </table>\n        </body>\n        </HTML>", 
                        "text/plain": "<IPython.core.display.HTML object>"
                    }, 
                    "metadata": {}
                }
            ], 
            "source": "subscription.performance_monitoring.show_table()"
        }, 
        {
            "source": "# Feedback logging & quality (accuracy) monitoring <a id=\"quality\"></a>", 
            "cell_type": "markdown", 
            "metadata": {}
        }, 
        {
            "source": "## Enable quality monitoring", 
            "cell_type": "markdown", 
            "metadata": {}
        }, 
        {
            "source": "You need to provide the monitoring `threshold` and `min_records` (minimal number of feedback records).", 
            "cell_type": "markdown", 
            "metadata": {}
        }, 
        {
            "execution_count": 34, 
            "cell_type": "code", 
            "metadata": {}, 
            "outputs": [], 
            "source": "subscription.quality_monitoring.enable(threshold=0.8, min_records=10)"
        }, 
        {
            "source": "### Feedback records logging", 
            "cell_type": "markdown", 
            "metadata": {}
        }, 
        {
            "source": "Feedback records are used to evaluate your model. The predicted values are compared to real values (feedback records).", 
            "cell_type": "markdown", 
            "metadata": {}
        }, 
        {
            "source": "You can check the schema of feedback table using below method.", 
            "cell_type": "markdown", 
            "metadata": {}
        }, 
        {
            "execution_count": 35, 
            "cell_type": "code", 
            "metadata": {}, 
            "outputs": [
                {
                    "output_type": "display_data", 
                    "data": {
                        "text/html": "<HTML>\n        <body>\n            <h3>Schema of Feedback_credit</h3>\n            <table style='border: 1px solid #dddddd; font-family: Courier'>\n                <th style='border: 1px solid #dddddd'>name</th><th style='border: 1px solid #dddddd'>type</th><th style='border: 1px solid #dddddd'>nullable</th>\n                <tr><td style='border: 1px solid #dddddd'>CheckingStatus</td><td style='border: 1px solid #dddddd'>string</td><td style='border: 1px solid #dddddd'>True</td></tr><tr><td style='border: 1px solid #dddddd'>LoanDuration</td><td style='border: 1px solid #dddddd'>integer</td><td style='border: 1px solid #dddddd'>True</td></tr><tr><td style='border: 1px solid #dddddd'>CreditHistory</td><td style='border: 1px solid #dddddd'>string</td><td style='border: 1px solid #dddddd'>True</td></tr><tr><td style='border: 1px solid #dddddd'>LoanPurpose</td><td style='border: 1px solid #dddddd'>string</td><td style='border: 1px solid #dddddd'>True</td></tr><tr><td style='border: 1px solid #dddddd'>LoanAmount</td><td style='border: 1px solid #dddddd'>integer</td><td style='border: 1px solid #dddddd'>True</td></tr><tr><td style='border: 1px solid #dddddd'>ExistingSavings</td><td style='border: 1px solid #dddddd'>string</td><td style='border: 1px solid #dddddd'>True</td></tr><tr><td style='border: 1px solid #dddddd'>EmploymentDuration</td><td style='border: 1px solid #dddddd'>string</td><td style='border: 1px solid #dddddd'>True</td></tr><tr><td style='border: 1px solid #dddddd'>InstallmentPercent</td><td style='border: 1px solid #dddddd'>integer</td><td style='border: 1px solid #dddddd'>True</td></tr><tr><td style='border: 1px solid #dddddd'>Sex</td><td style='border: 1px solid #dddddd'>string</td><td style='border: 1px solid #dddddd'>True</td></tr><tr><td style='border: 1px solid #dddddd'>OthersOnLoan</td><td style='border: 1px solid #dddddd'>string</td><td style='border: 1px solid #dddddd'>True</td></tr><tr><td style='border: 1px solid #dddddd'>CurrentResidenceDuration</td><td style='border: 1px solid #dddddd'>integer</td><td style='border: 1px solid #dddddd'>True</td></tr><tr><td style='border: 1px solid #dddddd'>OwnsProperty</td><td style='border: 1px solid #dddddd'>string</td><td style='border: 1px solid #dddddd'>True</td></tr><tr><td style='border: 1px solid #dddddd'>Age</td><td style='border: 1px solid #dddddd'>integer</td><td style='border: 1px solid #dddddd'>True</td></tr><tr><td style='border: 1px solid #dddddd'>InstallmentPlans</td><td style='border: 1px solid #dddddd'>string</td><td style='border: 1px solid #dddddd'>True</td></tr><tr><td style='border: 1px solid #dddddd'>Housing</td><td style='border: 1px solid #dddddd'>string</td><td style='border: 1px solid #dddddd'>True</td></tr><tr><td style='border: 1px solid #dddddd'>ExistingCreditsCount</td><td style='border: 1px solid #dddddd'>integer</td><td style='border: 1px solid #dddddd'>True</td></tr><tr><td style='border: 1px solid #dddddd'>Job</td><td style='border: 1px solid #dddddd'>string</td><td style='border: 1px solid #dddddd'>True</td></tr><tr><td style='border: 1px solid #dddddd'>Dependents</td><td style='border: 1px solid #dddddd'>integer</td><td style='border: 1px solid #dddddd'>True</td></tr><tr><td style='border: 1px solid #dddddd'>Telephone</td><td style='border: 1px solid #dddddd'>string</td><td style='border: 1px solid #dddddd'>True</td></tr><tr><td style='border: 1px solid #dddddd'>ForeignWorker</td><td style='border: 1px solid #dddddd'>string</td><td style='border: 1px solid #dddddd'>True</td></tr><tr><td style='border: 1px solid #dddddd'>Risk</td><td style='border: 1px solid #dddddd'>string</td><td style='border: 1px solid #dddddd'>True</td></tr><tr><td style='border: 1px solid #dddddd'>_training</td><td style='border: 1px solid #dddddd'>timestamp</td><td style='border: 1px solid #dddddd'>False</td></tr>\n            </table>\n        </body>\n        </HTML>", 
                        "text/plain": "<IPython.core.display.HTML object>"
                    }, 
                    "metadata": {}
                }
            ], 
            "source": "subscription.feedback_logging.print_table_schema()"
        }, 
        {
            "source": "The feedback records can be send to feedback table using below code.", 
            "cell_type": "markdown", 
            "metadata": {}
        }, 
        {
            "execution_count": 36, 
            "cell_type": "code", 
            "metadata": {}, 
            "outputs": [], 
            "source": "records = [\n    [\"no_checking\",\"28\",\"outstanding_credit\",\"appliances\",\"5990\",\"500_to_1000\",\"greater_7\",\"5\",\"male\",\"co-applicant\",\"3\",\"car_other\",\"55\",\"none\",\"free\",\"2\",\"skilled\",\"2\",\"yes\",\"yes\",\"Risk\"],\n    [\"greater_200\",\"22\",\"all_credits_paid_back\",\"car_used\",\"3376\",\"less_100\",\"less_1\",\"3\",\"female\",\"none\",\"2\",\"car_other\",\"32\",\"none\",\"own\",\"1\",\"skilled\",\"1\",\"none\",\"yes\",\"No Risk\"],\n    [\"no_checking\",\"39\",\"credits_paid_to_date\",\"vacation\",\"6434\",\"unknown\",\"greater_7\",\"5\",\"male\",\"none\",\"4\",\"car_other\",\"39\",\"none\",\"own\",\"2\",\"skilled\",\"2\",\"yes\",\"yes\",\"Risk\"],\n    [\"0_to_200\",\"20\",\"credits_paid_to_date\",\"furniture\",\"2442\",\"less_100\",\"unemployed\",\"3\",\"female\",\"none\",\"1\",\"real_estate\",\"42\",\"none\",\"own\",\"1\",\"skilled\",\"1\",\"none\",\"yes\",\"No Risk\"],\n    [\"greater_200\",\"4\",\"all_credits_paid_back\",\"education\",\"4206\",\"less_100\",\"unemployed\",\"1\",\"female\",\"none\",\"3\",\"savings_insurance\",\"27\",\"none\",\"own\",\"1\",\"management_self-employed\",\"1\",\"none\",\"yes\",\"No Risk\"],\n    [\"greater_200\",\"23\",\"credits_paid_to_date\",\"car_used\",\"2963\",\"greater_1000\",\"greater_7\",\"4\",\"male\",\"none\",\"4\",\"car_other\",\"46\",\"none\",\"own\",\"2\",\"skilled\",\"1\",\"none\",\"yes\",\"Risk\"],\n    [\"no_checking\",\"31\",\"prior_payments_delayed\",\"vacation\",\"2673\",\"500_to_1000\",\"1_to_4\",\"3\",\"male\",\"none\",\"2\",\"real_estate\",\"35\",\"stores\",\"rent\",\"1\",\"skilled\",\"2\",\"none\",\"yes\",\"Risk\"],\n    [\"no_checking\",\"37\",\"prior_payments_delayed\",\"other\",\"6971\",\"500_to_1000\",\"1_to_4\",\"3\",\"male\",\"none\",\"3\",\"savings_insurance\",\"54\",\"none\",\"own\",\"2\",\"skilled\",\"1\",\"yes\",\"yes\",\"Risk\"],\n    [\"0_to_200\",\"39\",\"prior_payments_delayed\",\"appliances\",\"5685\",\"100_to_500\",\"1_to_4\",\"4\",\"female\",\"none\",\"2\",\"unknown\",\"37\",\"none\",\"own\",\"2\",\"skilled\",\"1\",\"yes\",\"yes\",\"Risk\"],\n    [\"no_checking\",\"38\",\"prior_payments_delayed\",\"appliances\",\"4990\",\"500_to_1000\",\"greater_7\",\"4\",\"male\",\"none\",\"4\",\"car_other\",\"50\",\"bank\",\"own\",\"2\",\"unemployed\",\"2\",\"yes\",\"yes\",\"Risk\"]]\n\nfields = feature_columns.copy()\nfields.append('Risk')\n\nsubscription.feedback_logging.store(feedback_data=records, fields=fields)"
        }, 
        {
            "source": "## Run quality monitoring on demand", 
            "cell_type": "markdown", 
            "metadata": {}
        }, 
        {
            "source": "By default, quality monitoring is run on hourly schedule. You can also trigger it on demand using below code.", 
            "cell_type": "markdown", 
            "metadata": {}
        }, 
        {
            "execution_count": 37, 
            "cell_type": "code", 
            "metadata": {}, 
            "outputs": [
                {
                    "output_type": "stream", 
                    "name": "stdout", 
                    "text": "\n\n================================================================================\n\n Waiting for end of quality monitoring run d843c6cc-861f-4619-939d-e5b4d4590542 \n\n================================================================================\n\n\n\ninitializing\ncompleted\n\n---------------------------\n Successfully finished run \n---------------------------\n\n\n"
                }
            ], 
            "source": "run_details = subscription.quality_monitoring.run(background_mode=False)"
        }, 
        {
            "source": "### Show the quality metrics", 
            "cell_type": "markdown", 
            "metadata": {}
        }, 
        {
            "execution_count": 38, 
            "cell_type": "code", 
            "metadata": {}, 
            "outputs": [
                {
                    "output_type": "display_data", 
                    "data": {
                        "text/html": "<HTML>\n        <body>\n            <h3>QualityMetrics (binding_id=3e949909-dc80-4c09-9968-c55019d272df, subscription_id=credit)</h3>\n            <table style='border: 1px solid #dddddd; font-family: Courier'>\n                <th style='border: 1px solid #dddddd'>ts</th><th style='border: 1px solid #dddddd'>id</th><th style='border: 1px solid #dddddd'>value</th><th style='border: 1px solid #dddddd'>lower limit</th><th style='border: 1px solid #dddddd'>upper limit</th><th style='border: 1px solid #dddddd'>tags</th><th style='border: 1px solid #dddddd'>binding_id</th><th style='border: 1px solid #dddddd'>subscription_id</th><th style='border: 1px solid #dddddd'>deployment_id</th>\n                <tr><td style='border: 1px solid #dddddd'>2019-04-04 10:30:33.360000+00:00</td><td style='border: 1px solid #dddddd'>true_positive_rate</td><td style='border: 1px solid #dddddd'>1.0</td><td style='border: 1px solid #dddddd'></td><td style='border: 1px solid #dddddd'></td><td style='border: 1px solid #dddddd'></td><td style='border: 1px solid #dddddd'>3e949909-dc80-4c09-9968-c55019d272df</td><td style='border: 1px solid #dddddd'>credit</td><td style='border: 1px solid #dddddd'>german_credit_risk</td></tr><tr><td style='border: 1px solid #dddddd'>2019-04-04 10:30:33.360000+00:00</td><td style='border: 1px solid #dddddd'>area_under_roc</td><td style='border: 1px solid #dddddd'>0.7142857142857143</td><td style='border: 1px solid #dddddd'>0.8</td><td style='border: 1px solid #dddddd'></td><td style='border: 1px solid #dddddd'></td><td style='border: 1px solid #dddddd'>3e949909-dc80-4c09-9968-c55019d272df</td><td style='border: 1px solid #dddddd'>credit</td><td style='border: 1px solid #dddddd'>german_credit_risk</td></tr><tr><td style='border: 1px solid #dddddd'>2019-04-04 10:30:33.360000+00:00</td><td style='border: 1px solid #dddddd'>precision</td><td style='border: 1px solid #dddddd'>0.42857142857142855</td><td style='border: 1px solid #dddddd'></td><td style='border: 1px solid #dddddd'></td><td style='border: 1px solid #dddddd'></td><td style='border: 1px solid #dddddd'>3e949909-dc80-4c09-9968-c55019d272df</td><td style='border: 1px solid #dddddd'>credit</td><td style='border: 1px solid #dddddd'>german_credit_risk</td></tr><tr><td style='border: 1px solid #dddddd'>2019-04-04 10:30:33.360000+00:00</td><td style='border: 1px solid #dddddd'>f1_measure</td><td style='border: 1px solid #dddddd'>0.6</td><td style='border: 1px solid #dddddd'></td><td style='border: 1px solid #dddddd'></td><td style='border: 1px solid #dddddd'></td><td style='border: 1px solid #dddddd'>3e949909-dc80-4c09-9968-c55019d272df</td><td style='border: 1px solid #dddddd'>credit</td><td style='border: 1px solid #dddddd'>german_credit_risk</td></tr><tr><td style='border: 1px solid #dddddd'>2019-04-04 10:30:33.360000+00:00</td><td style='border: 1px solid #dddddd'>accuracy</td><td style='border: 1px solid #dddddd'>0.6</td><td style='border: 1px solid #dddddd'></td><td style='border: 1px solid #dddddd'></td><td style='border: 1px solid #dddddd'></td><td style='border: 1px solid #dddddd'>3e949909-dc80-4c09-9968-c55019d272df</td><td style='border: 1px solid #dddddd'>credit</td><td style='border: 1px solid #dddddd'>german_credit_risk</td></tr><tr><td style='border: 1px solid #dddddd'>2019-04-04 10:30:33.360000+00:00</td><td style='border: 1px solid #dddddd'>log_loss</td><td style='border: 1px solid #dddddd'>0.6451208770769135</td><td style='border: 1px solid #dddddd'></td><td style='border: 1px solid #dddddd'></td><td style='border: 1px solid #dddddd'></td><td style='border: 1px solid #dddddd'>3e949909-dc80-4c09-9968-c55019d272df</td><td style='border: 1px solid #dddddd'>credit</td><td style='border: 1px solid #dddddd'>german_credit_risk</td></tr><tr><td style='border: 1px solid #dddddd'>2019-04-04 10:30:33.360000+00:00</td><td style='border: 1px solid #dddddd'>false_positive_rate</td><td style='border: 1px solid #dddddd'>0.5714285714285714</td><td style='border: 1px solid #dddddd'></td><td style='border: 1px solid #dddddd'></td><td style='border: 1px solid #dddddd'></td><td style='border: 1px solid #dddddd'>3e949909-dc80-4c09-9968-c55019d272df</td><td style='border: 1px solid #dddddd'>credit</td><td style='border: 1px solid #dddddd'>german_credit_risk</td></tr><tr><td style='border: 1px solid #dddddd'>2019-04-04 10:30:33.360000+00:00</td><td style='border: 1px solid #dddddd'>area_under_pr</td><td style='border: 1px solid #dddddd'>0.42857142857142855</td><td style='border: 1px solid #dddddd'></td><td style='border: 1px solid #dddddd'></td><td style='border: 1px solid #dddddd'></td><td style='border: 1px solid #dddddd'>3e949909-dc80-4c09-9968-c55019d272df</td><td style='border: 1px solid #dddddd'>credit</td><td style='border: 1px solid #dddddd'>german_credit_risk</td></tr><tr><td style='border: 1px solid #dddddd'>2019-04-04 10:30:33.360000+00:00</td><td style='border: 1px solid #dddddd'>recall</td><td style='border: 1px solid #dddddd'>1.0</td><td style='border: 1px solid #dddddd'></td><td style='border: 1px solid #dddddd'></td><td style='border: 1px solid #dddddd'></td><td style='border: 1px solid #dddddd'>3e949909-dc80-4c09-9968-c55019d272df</td><td style='border: 1px solid #dddddd'>credit</td><td style='border: 1px solid #dddddd'>german_credit_risk</td></tr>\n            </table>\n        </body>\n        </HTML>", 
                        "text/plain": "<IPython.core.display.HTML object>"
                    }, 
                    "metadata": {}
                }
            ], 
            "source": "subscription.quality_monitoring.show_table()"
        }, 
        {
            "source": "Get all calculated metrics.", 
            "cell_type": "markdown", 
            "metadata": {}
        }, 
        {
            "execution_count": 39, 
            "cell_type": "code", 
            "metadata": {}, 
            "outputs": [
                {
                    "execution_count": 39, 
                    "metadata": {}, 
                    "data": {
                        "text/plain": "[{'binding_id': '3e949909-dc80-4c09-9968-c55019d272df',\n  'metrics': [{'id': 'true_positive_rate', 'value': 1.0},\n   {'id': 'area_under_roc', 'lower_limit': 0.8, 'value': 0.7142857142857143},\n   {'id': 'precision', 'value': 0.42857142857142855},\n   {'id': 'f1_measure', 'value': 0.6},\n   {'id': 'accuracy', 'value': 0.6},\n   {'id': 'log_loss', 'value': 0.6451208770769135},\n   {'id': 'false_positive_rate', 'value': 0.5714285714285714},\n   {'id': 'area_under_pr', 'value': 0.42857142857142855},\n   {'id': 'recall', 'value': 1.0}],\n  'monitor_definition_id': 'quality',\n  'subscription_id': 'credit',\n  'tags': [],\n  'ts': '2019-04-04T10:30:33.360Z'}]"
                    }, 
                    "output_type": "execute_result"
                }
            ], 
            "source": "subscription.quality_monitoring.get_metrics(deployment_uid='action')"
        }, 
        {
            "source": "#### Get metrics as pandas dataframe", 
            "cell_type": "markdown", 
            "metadata": {}
        }, 
        {
            "execution_count": 40, 
            "cell_type": "code", 
            "metadata": {}, 
            "outputs": [
                {
                    "execution_count": 40, 
                    "metadata": {}, 
                    "data": {
                        "text/html": "<div>\n<style scoped>\n    .dataframe tbody tr th:only-of-type {\n        vertical-align: middle;\n    }\n\n    .dataframe tbody tr th {\n        vertical-align: top;\n    }\n\n    .dataframe thead th {\n        text-align: right;\n    }\n</style>\n<table border=\"1\" class=\"dataframe\">\n  <thead>\n    <tr style=\"text-align: right;\">\n      <th></th>\n      <th>ts</th>\n      <th>id</th>\n      <th>value</th>\n      <th>lower limit</th>\n      <th>upper limit</th>\n      <th>tags</th>\n      <th>binding_id</th>\n      <th>subscription_id</th>\n      <th>deployment_id</th>\n    </tr>\n  </thead>\n  <tbody>\n    <tr>\n      <th>0</th>\n      <td>2019-04-04 10:30:33.360000+00:00</td>\n      <td>true_positive_rate</td>\n      <td>1.000000</td>\n      <td></td>\n      <td></td>\n      <td></td>\n      <td>3e949909-dc80-4c09-9968-c55019d272df</td>\n      <td>credit</td>\n      <td>german_credit_risk</td>\n    </tr>\n    <tr>\n      <th>1</th>\n      <td>2019-04-04 10:30:33.360000+00:00</td>\n      <td>area_under_roc</td>\n      <td>0.714286</td>\n      <td>0.8</td>\n      <td></td>\n      <td></td>\n      <td>3e949909-dc80-4c09-9968-c55019d272df</td>\n      <td>credit</td>\n      <td>german_credit_risk</td>\n    </tr>\n    <tr>\n      <th>2</th>\n      <td>2019-04-04 10:30:33.360000+00:00</td>\n      <td>precision</td>\n      <td>0.428571</td>\n      <td></td>\n      <td></td>\n      <td></td>\n      <td>3e949909-dc80-4c09-9968-c55019d272df</td>\n      <td>credit</td>\n      <td>german_credit_risk</td>\n    </tr>\n    <tr>\n      <th>3</th>\n      <td>2019-04-04 10:30:33.360000+00:00</td>\n      <td>f1_measure</td>\n      <td>0.600000</td>\n      <td></td>\n      <td></td>\n      <td></td>\n      <td>3e949909-dc80-4c09-9968-c55019d272df</td>\n      <td>credit</td>\n      <td>german_credit_risk</td>\n    </tr>\n    <tr>\n      <th>4</th>\n      <td>2019-04-04 10:30:33.360000+00:00</td>\n      <td>accuracy</td>\n      <td>0.600000</td>\n      <td></td>\n      <td></td>\n      <td></td>\n      <td>3e949909-dc80-4c09-9968-c55019d272df</td>\n      <td>credit</td>\n      <td>german_credit_risk</td>\n    </tr>\n    <tr>\n      <th>5</th>\n      <td>2019-04-04 10:30:33.360000+00:00</td>\n      <td>log_loss</td>\n      <td>0.645121</td>\n      <td></td>\n      <td></td>\n      <td></td>\n      <td>3e949909-dc80-4c09-9968-c55019d272df</td>\n      <td>credit</td>\n      <td>german_credit_risk</td>\n    </tr>\n    <tr>\n      <th>6</th>\n      <td>2019-04-04 10:30:33.360000+00:00</td>\n      <td>false_positive_rate</td>\n      <td>0.571429</td>\n      <td></td>\n      <td></td>\n      <td></td>\n      <td>3e949909-dc80-4c09-9968-c55019d272df</td>\n      <td>credit</td>\n      <td>german_credit_risk</td>\n    </tr>\n    <tr>\n      <th>7</th>\n      <td>2019-04-04 10:30:33.360000+00:00</td>\n      <td>area_under_pr</td>\n      <td>0.428571</td>\n      <td></td>\n      <td></td>\n      <td></td>\n      <td>3e949909-dc80-4c09-9968-c55019d272df</td>\n      <td>credit</td>\n      <td>german_credit_risk</td>\n    </tr>\n    <tr>\n      <th>8</th>\n      <td>2019-04-04 10:30:33.360000+00:00</td>\n      <td>recall</td>\n      <td>1.000000</td>\n      <td></td>\n      <td></td>\n      <td></td>\n      <td>3e949909-dc80-4c09-9968-c55019d272df</td>\n      <td>credit</td>\n      <td>german_credit_risk</td>\n    </tr>\n  </tbody>\n</table>\n</div>", 
                        "text/plain": "                                ts                   id     value lower limit  \\\n0 2019-04-04 10:30:33.360000+00:00   true_positive_rate  1.000000               \n1 2019-04-04 10:30:33.360000+00:00       area_under_roc  0.714286         0.8   \n2 2019-04-04 10:30:33.360000+00:00            precision  0.428571               \n3 2019-04-04 10:30:33.360000+00:00           f1_measure  0.600000               \n4 2019-04-04 10:30:33.360000+00:00             accuracy  0.600000               \n5 2019-04-04 10:30:33.360000+00:00             log_loss  0.645121               \n6 2019-04-04 10:30:33.360000+00:00  false_positive_rate  0.571429               \n7 2019-04-04 10:30:33.360000+00:00        area_under_pr  0.428571               \n8 2019-04-04 10:30:33.360000+00:00               recall  1.000000               \n\n  upper limit tags                            binding_id subscription_id  \\\n0                   3e949909-dc80-4c09-9968-c55019d272df          credit   \n1                   3e949909-dc80-4c09-9968-c55019d272df          credit   \n2                   3e949909-dc80-4c09-9968-c55019d272df          credit   \n3                   3e949909-dc80-4c09-9968-c55019d272df          credit   \n4                   3e949909-dc80-4c09-9968-c55019d272df          credit   \n5                   3e949909-dc80-4c09-9968-c55019d272df          credit   \n6                   3e949909-dc80-4c09-9968-c55019d272df          credit   \n7                   3e949909-dc80-4c09-9968-c55019d272df          credit   \n8                   3e949909-dc80-4c09-9968-c55019d272df          credit   \n\n        deployment_id  \n0  german_credit_risk  \n1  german_credit_risk  \n2  german_credit_risk  \n3  german_credit_risk  \n4  german_credit_risk  \n5  german_credit_risk  \n6  german_credit_risk  \n7  german_credit_risk  \n8  german_credit_risk  "
                    }, 
                    "output_type": "execute_result"
                }
            ], 
            "source": "quality_pd = subscription.quality_monitoring.get_table_content(format='pandas')\nquality_pd"
        }, 
        {
            "source": "Create a bar plot.", 
            "cell_type": "markdown", 
            "metadata": {}
        }, 
        {
            "execution_count": 41, 
            "cell_type": "code", 
            "metadata": {}, 
            "outputs": [
                {
                    "output_type": "display_data", 
                    "data": {
                        "image/png": "[encoded data removed]", 
                        "text/plain": "<matplotlib.figure.Figure at 0x7fc16b483cf8>"
                    }, 
                    "metadata": {}
                }
            ], 
            "source": "%matplotlib inline\n\nquality_pd.plot.barh(x='id', y='value');"
        }, 
        {
            "source": "# Fairness monitoring and explanations <a id=\"fairness\"></a>", 
            "cell_type": "markdown", 
            "metadata": {}
        }, 
        {
            "source": "## Enable and run fairness monitoring", 
            "cell_type": "markdown", 
            "metadata": {}
        }, 
        {
            "execution_count": 49, 
            "cell_type": "code", 
            "metadata": {}, 
            "outputs": [], 
            "source": "from ibm_ai_openscale.supporting_classes import Feature\n\nsubscription.fairness_monitoring.enable(\n            features=[\n                Feature(\"Sex\", majority=['male'], minority=['female'], threshold=0.95),\n                Feature(\"Age\", majority=[[26, 75]], minority=[[18, 25]], threshold=0.95)\n            ],\n            favourable_classes=['No Risk'],\n            unfavourable_classes=['Risk'],\n            min_records=4,\n            training_data=data_df\n        )"
        }, 
        {
            "execution_count": 50, 
            "cell_type": "code", 
            "metadata": {}, 
            "outputs": [
                {
                    "output_type": "stream", 
                    "name": "stdout", 
                    "text": "\n\n=====================================================\n\n Counting bias for deployment_uid=german_credit_risk \n\n=====================================================\n\n\n\nRUNNING\nFINISHED\n\n---------------------------\n Successfully finished run \n---------------------------\n\n\n"
                }
            ], 
            "source": "fairness_run = subscription.fairness_monitoring.run(background_mode=False)"
        }, 
        {
            "source": "### Check fairness run results", 
            "cell_type": "markdown", 
            "metadata": {}
        }, 
        {
            "execution_count": 51, 
            "cell_type": "code", 
            "metadata": {}, 
            "outputs": [
                {
                    "output_type": "display_data", 
                    "data": {
                        "text/html": "<HTML>\n        <body>\n            <h3>FairnessMetrics (binding_id=3e949909-dc80-4c09-9968-c55019d272df, subscription_id=credit)</h3>\n            <table style='border: 1px solid #dddddd; font-family: Courier'>\n                <th style='border: 1px solid #dddddd'>ts</th><th style='border: 1px solid #dddddd'>feature</th><th style='border: 1px solid #dddddd'>feature_value</th><th style='border: 1px solid #dddddd'>fairness_biased</th><th style='border: 1px solid #dddddd'>fairness_value</th><th style='border: 1px solid #dddddd'>fairness_fav_class</th><th style='border: 1px solid #dddddd'>binding_id</th><th style='border: 1px solid #dddddd'>subscription_id</th><th style='border: 1px solid #dddddd'>asset_revision</th><th style='border: 1px solid #dddddd'>deployment_id</th><th style='border: 1px solid #dddddd'>process</th>\n                <tr><td style='border: 1px solid #dddddd'>2019-04-04 10:31:11.720276+00:00</td><td style='border: 1px solid #dddddd'>Sex</td><td style='border: 1px solid #dddddd'>female</td><td style='border: 1px solid #dddddd'>False</td><td style='border: 1px solid #dddddd'>1.0</td><td style='border: 1px solid #dddddd'>100.0</td><td style='border: 1px solid #dddddd'>3e949909-dc80-4c09-9968-c55019d272df</td><td style='border: 1px solid #dddddd'>credit</td><td style='border: 1px solid #dddddd'>credit</td><td style='border: 1px solid #dddddd'>german_credit_risk</td><td style='border: 1px solid #dddddd'></td></tr><tr><td style='border: 1px solid #dddddd'>2019-04-04 10:31:11.720276+00:00</td><td style='border: 1px solid #dddddd'>Age</td><td style='border: 1px solid #dddddd'>[18, 25]</td><td style='border: 1px solid #dddddd'>False</td><td style='border: 1px solid #dddddd'>1.0</td><td style='border: 1px solid #dddddd'>100.0</td><td style='border: 1px solid #dddddd'>3e949909-dc80-4c09-9968-c55019d272df</td><td style='border: 1px solid #dddddd'>credit</td><td style='border: 1px solid #dddddd'>credit</td><td style='border: 1px solid #dddddd'>german_credit_risk</td><td style='border: 1px solid #dddddd'></td></tr><tr><td style='border: 1px solid #dddddd'>2019-04-04 10:32:10.379432+00:00</td><td style='border: 1px solid #dddddd'>Sex</td><td style='border: 1px solid #dddddd'>female</td><td style='border: 1px solid #dddddd'>False</td><td style='border: 1px solid #dddddd'>1.0</td><td style='border: 1px solid #dddddd'>100.0</td><td style='border: 1px solid #dddddd'>3e949909-dc80-4c09-9968-c55019d272df</td><td style='border: 1px solid #dddddd'>credit</td><td style='border: 1px solid #dddddd'>credit</td><td style='border: 1px solid #dddddd'>german_credit_risk</td><td style='border: 1px solid #dddddd'></td></tr><tr><td style='border: 1px solid #dddddd'>2019-04-04 10:32:10.379432+00:00</td><td style='border: 1px solid #dddddd'>Age</td><td style='border: 1px solid #dddddd'>[18, 25]</td><td style='border: 1px solid #dddddd'>False</td><td style='border: 1px solid #dddddd'>1.0</td><td style='border: 1px solid #dddddd'>100.0</td><td style='border: 1px solid #dddddd'>3e949909-dc80-4c09-9968-c55019d272df</td><td style='border: 1px solid #dddddd'>credit</td><td style='border: 1px solid #dddddd'>credit</td><td style='border: 1px solid #dddddd'>german_credit_risk</td><td style='border: 1px solid #dddddd'></td></tr><tr><td style='border: 1px solid #dddddd'>2019-04-04 10:35:02.669312+00:00</td><td style='border: 1px solid #dddddd'>Sex</td><td style='border: 1px solid #dddddd'>female</td><td style='border: 1px solid #dddddd'>False</td><td style='border: 1px solid #dddddd'>1.0</td><td style='border: 1px solid #dddddd'>100.0</td><td style='border: 1px solid #dddddd'>3e949909-dc80-4c09-9968-c55019d272df</td><td style='border: 1px solid #dddddd'>credit</td><td style='border: 1px solid #dddddd'>credit</td><td style='border: 1px solid #dddddd'>german_credit_risk</td><td style='border: 1px solid #dddddd'></td></tr><tr><td style='border: 1px solid #dddddd'>2019-04-04 10:35:02.669312+00:00</td><td style='border: 1px solid #dddddd'>Age</td><td style='border: 1px solid #dddddd'>[18, 25]</td><td style='border: 1px solid #dddddd'>False</td><td style='border: 1px solid #dddddd'>1.0</td><td style='border: 1px solid #dddddd'>100.0</td><td style='border: 1px solid #dddddd'>3e949909-dc80-4c09-9968-c55019d272df</td><td style='border: 1px solid #dddddd'>credit</td><td style='border: 1px solid #dddddd'>credit</td><td style='border: 1px solid #dddddd'>german_credit_risk</td><td style='border: 1px solid #dddddd'></td></tr>\n            </table>\n        </body>\n        </HTML>", 
                        "text/plain": "<IPython.core.display.HTML object>"
                    }, 
                    "metadata": {}
                }
            ], 
            "source": "subscription.fairness_monitoring.show_table()"
        }, 
        {
            "source": "## Explainability configuration and run", 
            "cell_type": "markdown", 
            "metadata": {}
        }, 
        {
            "source": "### Enable explainability", 
            "cell_type": "markdown", 
            "metadata": {}
        }, 
        {
            "execution_count": 52, 
            "cell_type": "code", 
            "metadata": {}, 
            "outputs": [], 
            "source": "subscription.explainability.enable(training_data=data_df)"
        }, 
        {
            "source": "#### Get sample transaction_id from payload logging table (`scoring_id`)", 
            "cell_type": "markdown", 
            "metadata": {}
        }, 
        {
            "execution_count": 53, 
            "cell_type": "code", 
            "metadata": {}, 
            "outputs": [
                {
                    "output_type": "stream", 
                    "name": "stdout", 
                    "text": "389721db-ce32-46f7-b61d-978795432fff-1\n"
                }
            ], 
            "source": "transaction_id = subscription.payload_logging.get_table_content(limit=1)['scoring_id'].values[0]\n\nprint(transaction_id)"
        }, 
        {
            "source": "### Run explanation for sample `transaction_id`", 
            "cell_type": "markdown", 
            "metadata": {}
        }, 
        {
            "execution_count": 54, 
            "cell_type": "code", 
            "metadata": {}, 
            "outputs": [
                {
                    "output_type": "stream", 
                    "name": "stdout", 
                    "text": "\n\n====================================================================\n\n Looking for explanation for 389721db-ce32-46f7-b61d-978795432fff-1 \n\n====================================================================\n\n\n\nin_progress.\nfinished\n\n---------------------------\n Successfully finished run \n---------------------------\n\n\n"
                }
            ], 
            "source": "explain_run = subscription.explainability.run(transaction_id=transaction_id, background_mode=False)\n        "
        }, 
        {
            "execution_count": 55, 
            "cell_type": "code", 
            "metadata": {}, 
            "outputs": [
                {
                    "output_type": "display_data", 
                    "data": {
                        "image/png": "[encoded data removed]", 
                        "text/plain": "<matplotlib.figure.Figure at 0x7fc16b510908>"
                    }, 
                    "metadata": {}
                }
            ], 
            "source": "explain_result = pd.DataFrame.from_dict(explain_run['entity']['predictions'][0]['explanation_features'])\nexplain_result.plot.barh(x='feature_name', y='weight', color='g', alpha=0.8);"
        }, 
        {
            "source": "# Custom monitoring <a id=\"custom\"></a>", 
            "cell_type": "markdown", 
            "metadata": {}
        }, 
        {
            "source": "## Register custom monitor", 
            "cell_type": "markdown", 
            "metadata": {}
        }, 
        {
            "execution_count": 56, 
            "cell_type": "code", 
            "metadata": {}, 
            "outputs": [], 
            "source": "from ibm_ai_openscale.supporting_classes import Metric, Tag\n\nmetrics = [Metric(name='sensitivity', lower_limit_default=0.8), Metric(name='specificity', lower_limit_default=0.75)]\ntags = [Tag(name='region', description='customer geographical region')]\n\nmy_monitor = client.data_mart.monitors.add(name='model performance', metrics=metrics, tags=tags)"
        }, 
        {
            "execution_count": 57, 
            "cell_type": "code", 
            "metadata": {}, 
            "outputs": [
                {
                    "output_type": "display_data", 
                    "data": {
                        "text/html": "<HTML>\n        <body>\n            <h3>Monitors</h3>\n            <table style='border: 1px solid #dddddd; font-family: Courier'>\n                <th style='border: 1px solid #dddddd'>uid</th><th style='border: 1px solid #dddddd'>name</th><th style='border: 1px solid #dddddd'>description</th><th style='border: 1px solid #dddddd'>metrics</th>\n                <tr><td style='border: 1px solid #dddddd'>quality</td><td style='border: 1px solid #dddddd'>Accuracy Monitoring</td><td style='border: 1px solid #dddddd'>None</td><td style='border: 1px solid #dddddd'>['area_under_roc', 'area_under_pr', 'explained_variance', 'mean_absolute_error', 'mean_squared_error', 'r2', 'root_mean_squared_error', 'accuracy', 'weighted_true_positive_rate', 'true_positive_rate', 'weighted_false_positive_rate', 'false_positive_rate', 'weighted_recall', 'recall', 'weighted_precision', 'precision', 'weighted_f_measure', 'f1_measure', 'log_loss']</td></tr><tr><td style='border: 1px solid #dddddd'>model_performance</td><td style='border: 1px solid #dddddd'>model performance</td><td style='border: 1px solid #dddddd'>None</td><td style='border: 1px solid #dddddd'>['sensitivity', 'specificity']</td></tr>\n            </table>\n        </body>\n        </HTML>", 
                        "text/plain": "<IPython.core.display.HTML object>"
                    }, 
                    "metadata": {}
                }
            ], 
            "source": "client.data_mart.monitors.list()"
        }, 
        {
            "source": "#### Get `monitor_uid`", 
            "cell_type": "markdown", 
            "metadata": {}
        }, 
        {
            "execution_count": 58, 
            "cell_type": "code", 
            "metadata": {}, 
            "outputs": [
                {
                    "output_type": "stream", 
                    "name": "stdout", 
                    "text": "model_performance\n"
                }
            ], 
            "source": "monitor_uid = my_monitor['metadata']['guid']\n\nprint(monitor_uid)"
        }, 
        {
            "source": "#### Get monitor details", 
            "cell_type": "markdown", 
            "metadata": {}
        }, 
        {
            "execution_count": 59, 
            "cell_type": "code", 
            "metadata": {}, 
            "outputs": [
                {
                    "output_type": "stream", 
                    "name": "stdout", 
                    "text": "monitor definition details {'metadata': {'url': '/v1/data_marts/e3a38ab0-3884-454c-abc0-5e535eec36e6/monitor_definitions/model_performance', 'created_at': '2019-04-04T10:35:59.816Z', 'guid': 'model_performance'}, 'entity': {'name': 'model performance', 'tags': [{'id': 'region', 'name': 'region', 'required': True, 'description': 'customer geographical region'}], 'metrics': [{'id': 'sensitivity', 'name': 'sensitivity', 'required': True, 'thresholds': [{'default': 0.8, 'type': 'lower_limit'}]}, {'id': 'specificity', 'name': 'specificity', 'required': True, 'thresholds': [{'default': 0.75, 'type': 'lower_limit'}]}]}}\n"
                }
            ], 
            "source": "my_monitor = client.data_mart.monitors.get_details(monitor_uid=monitor_uid)\nprint('monitor definition details', my_monitor)"
        }, 
        {
            "source": "## Enable custom monitor for subscription", 
            "cell_type": "markdown", 
            "metadata": {}
        }, 
        {
            "execution_count": 60, 
            "cell_type": "code", 
            "metadata": {}, 
            "outputs": [], 
            "source": "from ibm_ai_openscale.supporting_classes import Threshold\n\nthresholds = [Threshold(metric_uid='sensitivity', lower_limit=0.9)]\nsubscription.monitoring.enable(monitor_uid=monitor_uid, thresholds=thresholds)"
        }, 
        {
            "source": "#### Get custom monitoring configuration details", 
            "cell_type": "markdown", 
            "metadata": {}
        }, 
        {
            "execution_count": 61, 
            "cell_type": "code", 
            "metadata": {}, 
            "outputs": [
                {
                    "execution_count": 61, 
                    "metadata": {}, 
                    "data": {
                        "text/plain": "{'enabled': True,\n 'monitor_definition': {'entity': {'metrics': [{'id': 'sensitivity',\n     'name': 'sensitivity',\n     'required': True,\n     'thresholds': [{'default': 0.9, 'type': 'lower_limit'}]},\n    {'id': 'specificity', 'name': 'specificity', 'required': True}],\n   'name': 'model performance',\n   'tags': [{'description': 'customer geographical region',\n     'id': 'region',\n     'name': 'region',\n     'required': True}]},\n  'metadata': {'created_at': '2019-04-04T10:35:59.816Z',\n   'guid': 'model_performance',\n   'url': '/v1/data_marts/e3a38ab0-3884-454c-abc0-5e535eec36e6/monitor_definitions/model_performance'}},\n 'thresholds': [{'metric_id': 'sensitivity',\n   'type': 'lower_limit',\n   'value': 0.9}]}"
                    }, 
                    "output_type": "execute_result"
                }
            ], 
            "source": "subscription.monitoring.get_details(monitor_uid=monitor_uid)"
        }, 
        {
            "source": "## Storing custom metrics", 
            "cell_type": "markdown", 
            "metadata": {}
        }, 
        {
            "execution_count": 62, 
            "cell_type": "code", 
            "metadata": {}, 
            "outputs": [], 
            "source": "metrics = {\"specificity\": 0.78, \"sensitivity\": 0.67, \"region\": \"us-south\"}\n\nsubscription.monitoring.store_metrics(monitor_uid=monitor_uid, metrics=metrics)"
        }, 
        {
            "source": "### List and get custom metrics", 
            "cell_type": "markdown", 
            "metadata": {}
        }, 
        {
            "execution_count": 63, 
            "cell_type": "code", 
            "metadata": {}, 
            "outputs": [
                {
                    "output_type": "display_data", 
                    "data": {
                        "text/html": "<HTML>\n        <body>\n            <h3>CustomMetrics (binding_id=3e949909-dc80-4c09-9968-c55019d272df, subscription_id=credit)</h3>\n            <table style='border: 1px solid #dddddd; font-family: Courier'>\n                <th style='border: 1px solid #dddddd'>ts</th><th style='border: 1px solid #dddddd'>id</th><th style='border: 1px solid #dddddd'>value</th><th style='border: 1px solid #dddddd'>lower limit</th><th style='border: 1px solid #dddddd'>upper limit</th><th style='border: 1px solid #dddddd'>tags</th><th style='border: 1px solid #dddddd'>binding_id</th><th style='border: 1px solid #dddddd'>subscription_id</th><th style='border: 1px solid #dddddd'>deployment_id</th>\n                <tr><td style='border: 1px solid #dddddd'>2019-04-04 10:36:19.389092+00:00</td><td style='border: 1px solid #dddddd'>sensitivity</td><td style='border: 1px solid #dddddd'>0.67</td><td style='border: 1px solid #dddddd'>0.9</td><td style='border: 1px solid #dddddd'></td><td style='border: 1px solid #dddddd'>region: us-south</td><td style='border: 1px solid #dddddd'>3e949909-dc80-4c09-9968-c55019d272df</td><td style='border: 1px solid #dddddd'>credit</td><td style='border: 1px solid #dddddd'>german_credit_risk</td></tr><tr><td style='border: 1px solid #dddddd'>2019-04-04 10:36:19.389092+00:00</td><td style='border: 1px solid #dddddd'>specificity</td><td style='border: 1px solid #dddddd'>0.78</td><td style='border: 1px solid #dddddd'></td><td style='border: 1px solid #dddddd'></td><td style='border: 1px solid #dddddd'>region: us-south</td><td style='border: 1px solid #dddddd'>3e949909-dc80-4c09-9968-c55019d272df</td><td style='border: 1px solid #dddddd'>credit</td><td style='border: 1px solid #dddddd'>german_credit_risk</td></tr>\n            </table>\n        </body>\n        </HTML>", 
                        "text/plain": "<IPython.core.display.HTML object>"
                    }, 
                    "metadata": {}
                }
            ], 
            "source": "subscription.monitoring.show_table(monitor_uid=monitor_uid)"
        }, 
        {
            "execution_count": 64, 
            "cell_type": "code", 
            "metadata": {}, 
            "outputs": [], 
            "source": "custom_metrics = subscription.monitoring.get_metrics(monitor_uid=monitor_uid, deployment_uid='credit')"
        }, 
        {
            "execution_count": 65, 
            "cell_type": "code", 
            "metadata": {}, 
            "outputs": [
                {
                    "execution_count": 65, 
                    "metadata": {}, 
                    "data": {
                        "text/plain": "[{'binding_id': '3e949909-dc80-4c09-9968-c55019d272df',\n  'metrics': [{'id': 'sensitivity', 'lower_limit': 0.9, 'value': 0.67},\n   {'id': 'specificity', 'value': 0.78}],\n  'monitor_definition_id': 'model_performance',\n  'subscription_id': 'credit',\n  'tags': [{'id': 'region', 'value': 'us-south'}],\n  'ts': '2019-04-04T10:36:19.389092Z'}]"
                    }, 
                    "output_type": "execute_result"
                }
            ], 
            "source": "custom_metrics"
        }, 
        {
            "execution_count": 66, 
            "cell_type": "code", 
            "metadata": {}, 
            "outputs": [
                {
                    "output_type": "display_data", 
                    "data": {
                        "image/png": "[encoded data removed]", 
                        "text/plain": "<matplotlib.figure.Figure at 0x7fc1861499b0>"
                    }, 
                    "metadata": {}
                }
            ], 
            "source": "custom_metrics_pandas = subscription.monitoring.get_table_content(monitor_uid=monitor_uid)\n\n%matplotlib inline\ncustom_metrics_pandas.plot.barh(x='id', y='value');"
        }, 
        {
            "source": "# Payload analytics <a id=\"analytics\"></a>", 
            "cell_type": "markdown", 
            "metadata": {}
        }, 
        {
            "source": "## Run data distributions calculation", 
            "cell_type": "markdown", 
            "metadata": {}
        }, 
        {
            "execution_count": 67, 
            "cell_type": "code", 
            "metadata": {}, 
            "outputs": [
                {
                    "output_type": "stream", 
                    "name": "stdout", 
                    "text": "\n\n===============================================================================\n\n Waiting for end of data distribution run ade01d97-4a16-4363-bc76-fd20daba66be \n\n===============================================================================\n\n\n\nrunning\ncompleted\n\n---------------------------\n Successfully finished run \n---------------------------\n\n\n"
                }
            ], 
            "source": "from datetime import datetime\n\nstart_date = \"2018-01-01T00:00:00.00Z\"\nend_date = datetime.utcnow().isoformat() + \"Z\"\n\nsex_distribution = subscription.payload_logging.data_distribution.run(\n            start_date=start_date,\n            end_date=end_date,\n            group=['prediction', 'Sex'],\n            agg=['count'])"
        }, 
        {
            "source": "## Get data distributions as pandas dataframe", 
            "cell_type": "markdown", 
            "metadata": {}
        }, 
        {
            "execution_count": 68, 
            "cell_type": "code", 
            "metadata": {}, 
            "outputs": [], 
            "source": "sex_distribution_run_uid = sex_distribution['id']"
        }, 
        {
            "execution_count": 69, 
            "cell_type": "code", 
            "metadata": {}, 
            "outputs": [
                {
                    "execution_count": 69, 
                    "metadata": {}, 
                    "data": {
                        "text/html": "<div>\n<style scoped>\n    .dataframe tbody tr th:only-of-type {\n        vertical-align: middle;\n    }\n\n    .dataframe tbody tr th {\n        vertical-align: top;\n    }\n\n    .dataframe thead th {\n        text-align: right;\n    }\n</style>\n<table border=\"1\" class=\"dataframe\">\n  <thead>\n    <tr style=\"text-align: right;\">\n      <th></th>\n      <th>prediction</th>\n      <th>Sex</th>\n      <th>count</th>\n    </tr>\n  </thead>\n  <tbody>\n    <tr>\n      <th>0</th>\n      <td>No Risk</td>\n      <td>female</td>\n      <td>48</td>\n    </tr>\n    <tr>\n      <th>1</th>\n      <td>No Risk</td>\n      <td>male</td>\n      <td>36</td>\n    </tr>\n    <tr>\n      <th>2</th>\n      <td>Risk</td>\n      <td>female</td>\n      <td>12</td>\n    </tr>\n  </tbody>\n</table>\n</div>", 
                        "text/plain": "  prediction     Sex  count\n0    No Risk  female     48\n1    No Risk    male     36\n2       Risk  female     12"
                    }, 
                    "output_type": "execute_result"
                }
            ], 
            "source": "distributions_pd = subscription.payload_logging.data_distribution.get_run_result(run_id=sex_distribution_run_uid, format='pandas')\ndistributions_pd"
        }, 
        {
            "source": "## Visualize", 
            "cell_type": "markdown", 
            "metadata": {}
        }, 
        {
            "execution_count": 70, 
            "cell_type": "code", 
            "metadata": {}, 
            "outputs": [
                {
                    "output_type": "display_data", 
                    "data": {
                        "image/png": "[encoded data removed]", 
                        "text/plain": "<matplotlib.figure.Figure at 0x7fc16846fdd8>"
                    }, 
                    "metadata": {}
                }
            ], 
            "source": "subscription.payload_logging.data_distribution.show_chart(sex_distribution_run_uid);"
        }, 
        {
            "execution_count": 71, 
            "cell_type": "code", 
            "metadata": {}, 
            "outputs": [
                {
                    "output_type": "stream", 
                    "name": "stdout", 
                    "text": "\n\n===============================================================================\n\n Waiting for end of data distribution run 1263d9d5-140c-4878-9688-3d7a10e131a3 \n\n===============================================================================\n\n\n\nrunning\ncompleted\n\n---------------------------\n Successfully finished run \n---------------------------\n\n\n"
                }
            ], 
            "source": "credit_history_distribution = subscription.payload_logging.data_distribution.run(\n            start_date=start_date,\n            end_date=end_date,\n            group=['prediction', 'CreditHistory'],\n            agg=['count'])"
        }, 
        {
            "execution_count": 72, 
            "cell_type": "code", 
            "metadata": {}, 
            "outputs": [
                {
                    "output_type": "display_data", 
                    "data": {
                        "image/png": "[encoded data removed]", 
                        "text/plain": "<matplotlib.figure.Figure at 0x7fc16841e470>"
                    }, 
                    "metadata": {}
                }
            ], 
            "source": "credit_history_distribution_run_uid = credit_history_distribution['id']\n\nsubscription.payload_logging.data_distribution.show_chart(credit_history_distribution_run_uid);"
        }, 
        {
            "source": "---", 
            "cell_type": "markdown", 
            "metadata": {}
        }, 
        {
            "source": "## Congratulations!", 
            "cell_type": "markdown", 
            "metadata": {}
        }, 
        {
            "source": "You have finished the tutorial for IBM Watson OpenScale and Azure Machine Learning Studio. You can now view the [OpenScale Dashboard](https://aiopenscale.cloud.ibm.com/). Click on the tile for the German Credit model to see fairness, accuracy, and performance monitors. Click on the timeseries graph to get detailed information on transactions during a specific time window.", 
            "cell_type": "markdown", 
            "metadata": {}
        }, 
        {
            "source": "---", 
            "cell_type": "markdown", 
            "metadata": {}
        }, 
        {
            "source": "### Authors\nLukasz Cmielowski, PhD, is an Automation Architect and Data Scientist at IBM with a track record of developing enterprise-level applications that substantially increases clients' ability to turn data into actionable knowledge.", 
            "cell_type": "markdown", 
            "metadata": {}
        }
    ], 
    "metadata": {
        "kernelspec": {
            "display_name": "Python 3.5", 
            "name": "python3", 
            "language": "python"
        }, 
        "language_info": {
            "mimetype": "text/x-python", 
            "nbconvert_exporter": "python", 
            "version": "3.5.5", 
            "name": "python", 
            "file_extension": ".py", 
            "pygments_lexer": "ipython3", 
            "codemirror_mode": {
                "version": 3, 
                "name": "ipython"
            }
        }
    }, 
    "nbformat": 4
}