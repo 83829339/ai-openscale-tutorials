{
    "nbformat_minor": 1, 
    "cells": [
        {
            "source": "# IBM AI OpenScale & Custom machine learning engine\n\n<img src=\"https://github.com/pmservice/ai-openscale-tutorials/raw/master/notebooks/images/image.png\" align=\"left\" alt=\"banner\" width=\"100\">\n", 
            "cell_type": "markdown", 
            "metadata": {}
        }, 
        {
            "source": "This notebook shows how to log the payload for the model deployed on custom model serving engine using AI OpenScale python client.", 
            "cell_type": "markdown", 
            "metadata": {}
        }, 
        {
            "source": "Contents\n- [1. Setup](#setup)\n- [2. Binding machine learning engine](#binding)\n- [3. Subscriptions](#subscription)\n- [4. Scoring and payload logging](#scoring)\n- [5. Feedback logging](#feedback)\n- [6. Data Mart](#datamart)", 
            "cell_type": "markdown", 
            "metadata": {}
        }, 
        {
            "source": "<a id=\"setup\"></a>\n## 1. Setup", 
            "cell_type": "markdown", 
            "metadata": {}
        }, 
        {
            "source": "### 1.0 Sample custom machine learning engine", 
            "cell_type": "markdown", 
            "metadata": {}
        }, 
        {
            "source": "The sample machine leraning engine based on docker image and deployment instructions can be found [here](https://github.com/pmservice/ai-openscale-tutorials/tree/master/applications/custom-ml-engine).", 
            "cell_type": "markdown", 
            "metadata": {}
        }, 
        {
            "source": "**NOTE:** CUSTOM machine learning engine must follow this [API specification](https://aiopenscale-custom-deployement-spec.mybluemix.net/) to be supported.", 
            "cell_type": "markdown", 
            "metadata": {}
        }, 
        {
            "source": "### 1.1 Installation and authentication", 
            "cell_type": "markdown", 
            "metadata": {}
        }, 
        {
            "execution_count": 1, 
            "cell_type": "code", 
            "metadata": {}, 
            "outputs": [
                {
                    "output_type": "stream", 
                    "name": "stdout", 
                    "text": "Requirement already up-to-date: ibm-ai-openscale in /opt/conda/envs/DSX-Python35/lib/python3.5/site-packages\nRequirement not upgraded as not directly required: tabulate in /opt/conda/envs/DSX-Python35/lib/python3.5/site-packages (from ibm-ai-openscale)\nRequirement not upgraded as not directly required: pandas in /opt/conda/envs/DSX-Python35/lib/python3.5/site-packages (from ibm-ai-openscale)\nRequirement not upgraded as not directly required: h5py in /opt/conda/envs/DSX-Python35/lib/python3.5/site-packages (from ibm-ai-openscale)\nRequirement not upgraded as not directly required: requests in /opt/conda/envs/DSX-Python35/lib/python3.5/site-packages (from ibm-ai-openscale)\nRequirement not upgraded as not directly required: watson-machine-learning-client in /opt/conda/envs/DSX-Python35/lib/python3.5/site-packages (from ibm-ai-openscale)\nRequirement not upgraded as not directly required: psycopg2 in /opt/conda/envs/DSX-Python35/lib/python3.5/site-packages (from ibm-ai-openscale)\nRequirement not upgraded as not directly required: python-dateutil>=2 in /opt/conda/envs/DSX-Python35/lib/python3.5/site-packages (from pandas->ibm-ai-openscale)\nRequirement not upgraded as not directly required: pytz>=2011k in /opt/conda/envs/DSX-Python35/lib/python3.5/site-packages (from pandas->ibm-ai-openscale)\nRequirement not upgraded as not directly required: numpy>=1.9.0 in /opt/conda/envs/DSX-Python35/lib/python3.5/site-packages (from pandas->ibm-ai-openscale)\nRequirement not upgraded as not directly required: six in /opt/conda/envs/DSX-Python35/lib/python3.5/site-packages (from h5py->ibm-ai-openscale)\nRequirement not upgraded as not directly required: chardet<3.1.0,>=3.0.2 in /opt/conda/envs/DSX-Python35/lib/python3.5/site-packages (from requests->ibm-ai-openscale)\nRequirement not upgraded as not directly required: idna<2.7,>=2.5 in /opt/conda/envs/DSX-Python35/lib/python3.5/site-packages (from requests->ibm-ai-openscale)\nRequirement not upgraded as not directly required: urllib3<1.23,>=1.21.1 in /opt/conda/envs/DSX-Python35/lib/python3.5/site-packages (from requests->ibm-ai-openscale)\nRequirement not upgraded as not directly required: certifi>=2017.4.17 in /opt/conda/envs/DSX-Python35/lib/python3.5/site-packages (from requests->ibm-ai-openscale)\nRequirement not upgraded as not directly required: lomond in /opt/conda/envs/DSX-Python35/lib/python3.5/site-packages (from watson-machine-learning-client->ibm-ai-openscale)\nRequirement not upgraded as not directly required: tqdm in /opt/conda/envs/DSX-Python35/lib/python3.5/site-packages (from watson-machine-learning-client->ibm-ai-openscale)\nRequirement not upgraded as not directly required: ibm-cos-sdk in /opt/conda/envs/DSX-Python35/lib/python3.5/site-packages (from watson-machine-learning-client->ibm-ai-openscale)\nRequirement not upgraded as not directly required: ibm-cos-sdk-core==2.*,>=2.0.0 in /opt/conda/envs/DSX-Python35/lib/python3.5/site-packages (from ibm-cos-sdk->watson-machine-learning-client->ibm-ai-openscale)\nRequirement not upgraded as not directly required: ibm-cos-sdk-s3transfer==2.*,>=2.0.0 in /opt/conda/envs/DSX-Python35/lib/python3.5/site-packages (from ibm-cos-sdk->watson-machine-learning-client->ibm-ai-openscale)\nRequirement not upgraded as not directly required: docutils>=0.10 in /opt/conda/envs/DSX-Python35/lib/python3.5/site-packages (from ibm-cos-sdk-core==2.*,>=2.0.0->ibm-cos-sdk->watson-machine-learning-client->ibm-ai-openscale)\nRequirement not upgraded as not directly required: jmespath<1.0.0,>=0.7.1 in /opt/conda/envs/DSX-Python35/lib/python3.5/site-packages (from ibm-cos-sdk-core==2.*,>=2.0.0->ibm-cos-sdk->watson-machine-learning-client->ibm-ai-openscale)\n"
                }
            ], 
            "source": "!pip install --upgrade ibm-ai-openscale"
        }, 
        {
            "source": "Import and initiate.", 
            "cell_type": "markdown", 
            "metadata": {}
        }, 
        {
            "execution_count": 51, 
            "cell_type": "code", 
            "metadata": {}, 
            "outputs": [], 
            "source": "from ibm_ai_openscale import APIClient\nfrom ibm_ai_openscale.engines import *"
        }, 
        {
            "source": "### ACTION: Get `instance_guid` and `apikey`\n\nHow to get api key using bluemix console:\n```\nbx login --sso\nbx iam api-key-create 'my_key'\n```\n\nHow to get instance_guid (this is AI OpenScale instance GUID)\n```\nbx target -g <myResourceGroup>\nbx resource service-instance \u2018instance_name\u2019\n```\n", 
            "cell_type": "markdown", 
            "metadata": {}
        }, 
        {
            "execution_count": 57, 
            "cell_type": "code", 
            "metadata": {}, 
            "outputs": [], 
            "source": "aios_credentials = {\n  \"url\": \"https://api.aiopenscale.cloud.ibm.com\",\n  \"instance_guid\": \"***\",\n  \"apikey\": \"***\"\n}"
        }, 
        {
            "execution_count": 58, 
            "cell_type": "code", 
            "metadata": {}, 
            "outputs": [], 
            "source": "# The code was removed by Watson Studio for sharing."
        }, 
        {
            "execution_count": 59, 
            "cell_type": "code", 
            "metadata": {}, 
            "outputs": [], 
            "source": "client = APIClient(aios_credentials)"
        }, 
        {
            "execution_count": 60, 
            "cell_type": "code", 
            "metadata": {}, 
            "outputs": [
                {
                    "execution_count": 60, 
                    "metadata": {}, 
                    "data": {
                        "text/plain": "'1.0.190'"
                    }, 
                    "output_type": "execute_result"
                }
            ], 
            "source": "client.version"
        }, 
        {
            "execution_count": 61, 
            "cell_type": "code", 
            "metadata": {}, 
            "outputs": [], 
            "source": "postgres_credentials = {\n    \"db_type\": \"postgresql\",\n    \"uri_cli_1\": \"xxx\",\n    \"maps\": [],\n    \"instance_administration_api\": {\n        \"instance_id\": \"xxx\",\n        \"root\": \"xxx\",\n        \"deployment_id\": \"xxx\"\n    },\n    \"name\": \"xxx\",\n    \"uri_cli\": \"xxx\",\n    \"uri_direct_1\": \"xxx\",\n    \"ca_certificate_base64\": \"xxx\",\n    \"deployment_id\": \"xxx\",\n    \"uri\": \"xxx\"\n}"
        }, 
        {
            "execution_count": 62, 
            "cell_type": "code", 
            "metadata": {}, 
            "outputs": [], 
            "source": "# The code was removed by Watson Studio for sharing."
        }, 
        {
            "source": "Create schema for data mart.", 
            "cell_type": "markdown", 
            "metadata": {}
        }, 
        {
            "execution_count": 63, 
            "cell_type": "code", 
            "metadata": {}, 
            "outputs": [], 
            "source": "schemaName = 'custom_engine_data_mart'"
        }, 
        {
            "execution_count": 64, 
            "cell_type": "code", 
            "metadata": {}, 
            "outputs": [], 
            "source": "import psycopg2\n\n\nhostname = postgres_credentials['uri'].split('@')[1].split(':')[0]\nport = postgres_credentials['uri'].split('@')[1].split(':')[1].split('/')[0]\nuser = postgres_credentials['uri'].split('@')[0].split('//')[1].split(':')[0]\npassword = postgres_credentials['uri'].split('@')[0].split('//')[1].split(':')[1]\ndbname = 'compose'\n\nconn_string = \"host=\" + hostname + \" port=\" + port + \" dbname=\" + dbname + \" user=\" + user + \" password=\" + password\nconn = psycopg2.connect(conn_string)\nconn.autocommit = True\ncursor = conn.cursor()\ntry:\n    query = \"drop schema \" + schemaName + \" cascade\"\n    cursor.execute(query)\nexcept:\n    pass\nfinally:    \n    try:\n        query = \"create schema \" + schemaName\n        cursor.execute(query)\n    finally:    \n        conn.close()"
        }, 
        {
            "source": "### 1.2 DataMart setup", 
            "cell_type": "markdown", 
            "metadata": {}
        }, 
        {
            "execution_count": 65, 
            "cell_type": "code", 
            "metadata": {}, 
            "outputs": [], 
            "source": "client.data_mart.setup(db_credentials=postgres_credentials, schema=schemaName)"
        }, 
        {
            "execution_count": 66, 
            "cell_type": "code", 
            "metadata": {}, 
            "outputs": [], 
            "source": "data_mart_details = client.data_mart.get_details()"
        }, 
        {
            "source": "<a id=\"binding\"></a>\n## 2. Bind machine learning engines", 
            "cell_type": "markdown", 
            "metadata": {}
        }, 
        {
            "source": "### 2.1 Bind  `CUSTOM` machine learning engine\n**NOTE:** CUSTOM machine learning engine must follow this [API specification](https://aiopenscale-custom-deployement-spec.mybluemix.net/) to be supported.\n\nCredentials support following fields:\n- `url` - list deployments endpoint url (required)\n- `username` - part of BasicAuth (optional)\n- `password` - part of BasicAuth (optional)", 
            "cell_type": "markdown", 
            "metadata": {}
        }, 
        {
            "execution_count": 67, 
            "cell_type": "code", 
            "metadata": {}, 
            "outputs": [], 
            "source": "custom_engine_credentials = {\n    \"url\": \"***\",\n    \"username\": \"***\",\n    \"password\": \"***\"\n}"
        }, 
        {
            "execution_count": 68, 
            "cell_type": "code", 
            "metadata": {}, 
            "outputs": [], 
            "source": "# The code was removed by Watson Studio for sharing."
        }, 
        {
            "execution_count": 69, 
            "cell_type": "code", 
            "metadata": {}, 
            "outputs": [], 
            "source": "binding_uid = client.data_mart.bindings.add('My custom engine', CustomMachineLearningInstance(custom_engine_credentials))"
        }, 
        {
            "execution_count": 70, 
            "cell_type": "code", 
            "metadata": {}, 
            "outputs": [], 
            "source": "bindings_details = client.data_mart.bindings.get_details()"
        }, 
        {
            "execution_count": 71, 
            "cell_type": "code", 
            "metadata": {}, 
            "outputs": [
                {
                    "output_type": "display_data", 
                    "data": {
                        "text/html": "<HTML>\n        <body>\n            <h3>Service bindings</h3>\n            <table style='border: 1px solid #dddddd; font-family: Courier'>\n                <th style='border: 1px solid #dddddd'>uid</th><th style='border: 1px solid #dddddd'>name</th><th style='border: 1px solid #dddddd'>service_type</th><th style='border: 1px solid #dddddd'>created</th>\n                <tr><td style='border: 1px solid #dddddd'>537cf17b-b171-48cf-9ddc-9e15dbfbf6d5</td><td style='border: 1px solid #dddddd'>My custom engine</td><td style='border: 1px solid #dddddd'>custom_machine_learning</td><td style='border: 1px solid #dddddd'>2018-11-30T12:39:28.840Z</td></tr>\n            </table>\n        </body>\n        </HTML>", 
                        "text/plain": "<IPython.core.display.HTML object>"
                    }, 
                    "metadata": {}
                }
            ], 
            "source": "client.data_mart.bindings.list()"
        }, 
        {
            "source": "<a id=\"subsciption\"></a>\n## 3. Subscriptions", 
            "cell_type": "markdown", 
            "metadata": {}
        }, 
        {
            "source": "### 3.1 Add subscriptions", 
            "cell_type": "markdown", 
            "metadata": {}
        }, 
        {
            "source": "List available deployments.", 
            "cell_type": "markdown", 
            "metadata": {}
        }, 
        {
            "execution_count": 72, 
            "cell_type": "code", 
            "metadata": {}, 
            "outputs": [
                {
                    "output_type": "display_data", 
                    "data": {
                        "text/html": "<HTML>\n        <body>\n            <h3>Available assets</h3>\n            <table style='border: 1px solid #dddddd; font-family: Courier'>\n                <th style='border: 1px solid #dddddd'>source_uid</th><th style='border: 1px solid #dddddd'>name</th><th style='border: 1px solid #dddddd'>created</th><th style='border: 1px solid #dddddd'>type</th><th style='border: 1px solid #dddddd'>frameworks</th><th style='border: 1px solid #dddddd'>binding_uid</th><th style='border: 1px solid #dddddd'>is_subscribed</th>\n                <tr><td style='border: 1px solid #dddddd'>resnet50</td><td style='border: 1px solid #dddddd'>resnet50</td><td style='border: 1px solid #dddddd'>2016-12-01T10:11:12Z</td><td style='border: 1px solid #dddddd'>model</td><td style='border: 1px solid #dddddd'></td><td style='border: 1px solid #dddddd'>537cf17b-b171-48cf-9ddc-9e15dbfbf6d5</td><td style='border: 1px solid #dddddd'>F</td></tr><tr><td style='border: 1px solid #dddddd'>action</td><td style='border: 1px solid #dddddd'>area and action prediction</td><td style='border: 1px solid #dddddd'>2016-12-01T10:11:12Z</td><td style='border: 1px solid #dddddd'>model</td><td style='border: 1px solid #dddddd'></td><td style='border: 1px solid #dddddd'>537cf17b-b171-48cf-9ddc-9e15dbfbf6d5</td><td style='border: 1px solid #dddddd'>F</td></tr>\n            </table>\n        </body>\n        </HTML>", 
                        "text/plain": "<IPython.core.display.HTML object>"
                    }, 
                    "metadata": {}
                }
            ], 
            "source": "client.data_mart.bindings.list_assets()"
        }, 
        {
            "execution_count": 73, 
            "cell_type": "code", 
            "metadata": {}, 
            "outputs": [], 
            "source": "subscription = client.data_mart.subscriptions.add(\n    CustomMachineLearningAsset(source_uid='action', binding_uid=binding_uid, prediction_column='predictedActionLabel'))"
        }, 
        {
            "source": "#### Get subscriptions list", 
            "cell_type": "markdown", 
            "metadata": {}
        }, 
        {
            "execution_count": 74, 
            "cell_type": "code", 
            "metadata": {}, 
            "outputs": [], 
            "source": "subscriptions = client.data_mart.subscriptions.get_details()"
        }, 
        {
            "execution_count": 75, 
            "cell_type": "code", 
            "metadata": {}, 
            "outputs": [
                {
                    "output_type": "stream", 
                    "name": "stdout", 
                    "text": "['action']\n"
                }
            ], 
            "source": "subscriptions_uids = client.data_mart.subscriptions.get_uids()\nprint(subscriptions_uids)"
        }, 
        {
            "source": "#### List subscriptions", 
            "cell_type": "markdown", 
            "metadata": {}
        }, 
        {
            "execution_count": 76, 
            "cell_type": "code", 
            "metadata": {}, 
            "outputs": [
                {
                    "output_type": "display_data", 
                    "data": {
                        "text/html": "<HTML>\n        <body>\n            <h3>Subscriptions</h3>\n            <table style='border: 1px solid #dddddd; font-family: Courier'>\n                <th style='border: 1px solid #dddddd'>uid</th><th style='border: 1px solid #dddddd'>name</th><th style='border: 1px solid #dddddd'>type</th><th style='border: 1px solid #dddddd'>binding_uid</th><th style='border: 1px solid #dddddd'>created</th>\n                <tr><td style='border: 1px solid #dddddd'>action</td><td style='border: 1px solid #dddddd'>area and action prediction</td><td style='border: 1px solid #dddddd'>model</td><td style='border: 1px solid #dddddd'>537cf17b-b171-48cf-9ddc-9e15dbfbf6d5</td><td style='border: 1px solid #dddddd'>2018-11-30T12:49:27.456Z</td></tr>\n            </table>\n        </body>\n        </HTML>", 
                        "text/plain": "<IPython.core.display.HTML object>"
                    }, 
                    "metadata": {}
                }
            ], 
            "source": "client.data_mart.subscriptions.list()"
        }, 
        {
            "source": "### 3.2 Configure subscription", 
            "cell_type": "markdown", 
            "metadata": {}
        }, 
        {
            "source": "#### Enable payload logging in subscription", 
            "cell_type": "markdown", 
            "metadata": {}
        }, 
        {
            "execution_count": 77, 
            "cell_type": "code", 
            "metadata": {}, 
            "outputs": [], 
            "source": "subscription.payload_logging.enable()"
        }, 
        {
            "source": "#### Get details of enabled payload logging", 
            "cell_type": "markdown", 
            "metadata": {}
        }, 
        {
            "execution_count": 78, 
            "cell_type": "code", 
            "metadata": {}, 
            "outputs": [
                {
                    "execution_count": 78, 
                    "metadata": {}, 
                    "data": {
                        "text/plain": "{'enabled': True,\n 'parameters': {'dynamic_schema_update': True,\n  'table_name': 'custom_engine_data_mart.Payload_action'}}"
                    }, 
                    "output_type": "execute_result"
                }
            ], 
            "source": "subscription.payload_logging.get_details()"
        }, 
        {
            "source": "<a id=\"scoring\"></a>\n# 4. Scoring and payload logging", 
            "cell_type": "markdown", 
            "metadata": {}
        }, 
        {
            "source": "## 4.1 Score the action model", 
            "cell_type": "markdown", 
            "metadata": {}
        }, 
        {
            "execution_count": 79, 
            "cell_type": "code", 
            "metadata": {}, 
            "outputs": [
                {
                    "output_type": "stream", 
                    "name": "stdout", 
                    "text": "Response: {'values': [[3785, 'Male', 'S', 1, 17, 'Inactive', 'Yes', 'The car should have been brought to us instead of us trying to find it in the lot.', 'Product: Information', 0, ['the', 'car', 'should', 'have', 'been', 'brought', 'to', 'us', 'instead', 'of', 'us', 'trying', 'to', 'find', 'it', 'in', 'the', 'lot.'], [262144.0, [9639.0, 21872.0, 74079.0, 86175.0, 91878.0, 99585.0, 103838.0, 175817.0, 205044.0, 218965.0, 222453.0, 227152.0, 227431.0, 229772.0, 253475.0], [1.0, 2.0, 1.0, 1.0, 1.0, 1.0, 2.0, 1.0, 2.0, 1.0, 1.0, 1.0, 1.0, 1.0, 1.0]], [262144.0, [9639.0, 21872.0, 74079.0, 86175.0, 91878.0, 99585.0, 103838.0, 175817.0, 205044.0, 218965.0, 222453.0, 227152.0, 227431.0, 229772.0, 253475.0], [1.7479568465696622, 5.81081927052141, 0.0, 1.5191152741408147, 3.5115454388310208, 3.5115454388310208, 1.2986891158031049, 0.0, 1.563032662020071, 0.0, 1.8375690052593492, 0.0, 3.5115454388310208, 1.1444218246994038, 1.9021075263969205]], 7.0, [45.0, 48.0, 5.0, 10.0, 7.0, 6.0, 8.0, 3.0], [0.3409090909090909, 0.36363636363636365, 0.03787878787878788, 0.07575757575757576, 0.05303030303030303, 0.045454545454545456, 0.06060606060606061, 0.022727272727272728], 1.0, 'Product: Functioning', 0.0, 1.0, 1.0, 1.0, [0.0, 1.0, 1.0, 1.0, 1.0, 17.0, 0.0, 1.0], [0.0, 1.0, 6.0, 0.0, 0.0], [0.0, 0.14285714285714285, 0.8571428571428571, 0.0, 0.0], 2.0, 'On-demand pickup location']], 'labels': ['NA', 'Free Upgrade', 'On-demand pickup location', 'Voucher', 'Premium features'], 'fields': ['ID', 'Gender', 'Status', 'Children', 'Age', 'Customer_Status', 'Car_Owner', 'Customer_Service', 'Business_Area', 'Satisfaction', 'words', 'hash', 'area_features', 'area_label', 'rawPrediction_area', 'probability_area', 'prediction_area', 'predictedAreaLabel', 'gender_ix', 'customer_status_ix', 'status_ix', 'owner_ix', 'features', 'rawPrediction', 'probability', 'prediction', 'predictedActionLabel']}\n"
                }
            ], 
            "source": "import requests\nimport time\n\n\nrequest_data = {'fields': ['ID',\n                              'Gender',\n                              'Status',\n                              'Children',\n                              'Age',\n                              'Customer_Status',\n                              'Car_Owner',\n                              'Customer_Service',\n                              'Business_Area',\n                              'Satisfaction'],\n                             'values': [[3785,\n                               'Male',\n                               'S',\n                               1,\n                               17,\n                               'Inactive',\n                               'Yes',\n                               'The car should have been brought to us instead of us trying to find it in the lot.',\n                               'Product: Information',\n                               0]]}\n\nheader = {'Content-Type': 'application/json'}\nscoring_url = subscription.get_details()['entity']['deployments'][0]['scoring_endpoint']['url']\n\nstart_time = time.time()\nresponse = requests.post(scoring_url, json=request, headers=header)\nresponse_time = int((time.time() - start_time)*1000)\n\nresponse_data = r.json()\nprint('Response: ' + str(response_data))"
        }, 
        {
            "source": "## 4.2 Store the request and response in payload logging table", 
            "cell_type": "markdown", 
            "metadata": {}
        }, 
        {
            "source": "### Python SDK", 
            "cell_type": "markdown", 
            "metadata": {}
        }, 
        {
            "execution_count": 80, 
            "cell_type": "code", 
            "metadata": {}, 
            "outputs": [], 
            "source": "from ibm_ai_openscale.supporting_classes import PayloadRecord\n\nrecords_list = [PayloadRecord(request=request_data, response=response_data, response_time=response_time), \n                PayloadRecord(request=request_data, response=response_data, response_time=response_time)]\n\nsubscription.payload_logging.store(records=records_list)"
        }, 
        {
            "source": "### REST API", 
            "cell_type": "markdown", 
            "metadata": {}
        }, 
        {
            "source": "Get the token first.", 
            "cell_type": "markdown", 
            "metadata": {}
        }, 
        {
            "execution_count": 81, 
            "cell_type": "code", 
            "metadata": {}, 
            "outputs": [], 
            "source": "token_endpoint = \"https://iam.bluemix.net/identity/token\"\nheaders = {\n    \"Content-Type\": \"application/x-www-form-urlencoded\",\n    \"Accept\": \"application/json\"\n}\n\ndata = {\n    \"grant_type\":\"urn:ibm:params:oauth:grant-type:apikey\",\n    \"apikey\":aios_credentials[\"apikey\"]\n}\n\nreq = requests.post(token_endpoint, data=data, headers=headers)\ntoken = req.json()['access_token']"
        }, 
        {
            "execution_count": 82, 
            "cell_type": "code", 
            "metadata": {}, 
            "outputs": [
                {
                    "output_type": "stream", 
                    "name": "stdout", 
                    "text": "Request OK: True\n"
                }
            ], 
            "source": "import requests, uuid\n\nPAYLOAD_STORING_HREF_PATTERN = '{}/v1/data_marts/{}/scoring_payloads'\nendpoint = PAYLOAD_STORING_HREF_PATTERN.format(aios_credentials['url'], aios_credentials['data_mart_id'])\n\npayload = [{\n    'binding_id': binding_uid, \n    'deployment_id': subscription.get_details()['entity']['deployments'][0]['deployment_id'], \n    'subscription_id': subscription.uid, \n    'scoring_id': str(uuid.uuid4()), \n    'response': response_data,\n    'request': request_data\n}]\n\n\nheaders = {\"Authorization\": \"Bearer \" + token}\n      \nreq_response = requests.post(endpoint, json=payload, headers = headers)\n\nprint(\"Request OK: \" + str(req_response.ok))"
        }, 
        {
            "source": "<a id=\"datamart\"></a>\n# 5. Feedback logging & quality (accuracy) monitoring", 
            "cell_type": "markdown", 
            "metadata": {}
        }, 
        {
            "source": "Enable quality monitoring.", 
            "cell_type": "markdown", 
            "metadata": {}
        }, 
        {
            "execution_count": 86, 
            "cell_type": "code", 
            "metadata": {}, 
            "outputs": [], 
            "source": "subscription.quality_monitoring.enable(threshold=0.7, min_records=10)"
        }, 
        {
            "execution_count": 88, 
            "cell_type": "code", 
            "metadata": {}, 
            "outputs": [
                {
                    "output_type": "display_data", 
                    "data": {
                        "text/html": "<HTML>\n        <body>\n            <h3>Schema of Feedback_action</h3>\n            <table style='border: 1px solid #dddddd; font-family: Courier'>\n                <th style='border: 1px solid #dddddd'>name</th><th style='border: 1px solid #dddddd'>type</th><th style='border: 1px solid #dddddd'>nullable</th>\n                <tr><td style='border: 1px solid #dddddd'>ID</td><td style='border: 1px solid #dddddd'>integer</td><td style='border: 1px solid #dddddd'>True</td></tr><tr><td style='border: 1px solid #dddddd'>Gender</td><td style='border: 1px solid #dddddd'>string</td><td style='border: 1px solid #dddddd'>True</td></tr><tr><td style='border: 1px solid #dddddd'>Status</td><td style='border: 1px solid #dddddd'>string</td><td style='border: 1px solid #dddddd'>True</td></tr><tr><td style='border: 1px solid #dddddd'>Children</td><td style='border: 1px solid #dddddd'>integer</td><td style='border: 1px solid #dddddd'>True</td></tr><tr><td style='border: 1px solid #dddddd'>Age</td><td style='border: 1px solid #dddddd'>integer</td><td style='border: 1px solid #dddddd'>True</td></tr><tr><td style='border: 1px solid #dddddd'>Customer_Status</td><td style='border: 1px solid #dddddd'>string</td><td style='border: 1px solid #dddddd'>True</td></tr><tr><td style='border: 1px solid #dddddd'>Car_Owner</td><td style='border: 1px solid #dddddd'>string</td><td style='border: 1px solid #dddddd'>True</td></tr><tr><td style='border: 1px solid #dddddd'>Customer_Service</td><td style='border: 1px solid #dddddd'>string</td><td style='border: 1px solid #dddddd'>True</td></tr><tr><td style='border: 1px solid #dddddd'>Business_Area</td><td style='border: 1px solid #dddddd'>string</td><td style='border: 1px solid #dddddd'>True</td></tr><tr><td style='border: 1px solid #dddddd'>Satisfaction</td><td style='border: 1px solid #dddddd'>integer</td><td style='border: 1px solid #dddddd'>True</td></tr><tr><td style='border: 1px solid #dddddd'>label</td><td style='border: 1px solid #dddddd'>string</td><td style='border: 1px solid #dddddd'>True</td></tr><tr><td style='border: 1px solid #dddddd'>_training</td><td style='border: 1px solid #dddddd'>timestamp</td><td style='border: 1px solid #dddddd'>False</td></tr>\n            </table>\n        </body>\n        </HTML>", 
                        "text/plain": "<IPython.core.display.HTML object>"
                    }, 
                    "metadata": {}
                }
            ], 
            "source": "subscription.feedback_logging.print_table_schema()"
        }, 
        {
            "execution_count": 92, 
            "cell_type": "code", 
            "metadata": {}, 
            "outputs": [], 
            "source": "fields = ['ID', 'Gender', 'Status','Children', 'Age', 'Customer_Status', 'Car_Owner', 'Customer_Service', 'Business_Area', 'Satisfaction', 'label']\n\nrecords = [\n    [3785, 'Male', 'S', 1, 17,'Inactive', 'Yes', 'The car should have been brought to us instead of us trying to find it in the lot.', 'Product: Information', 0, 'On-demand pickup location'],\n    [3785, 'Male', 'S', 1, 17,'Inactive', 'Yes', 'The car should have been brought to us instead of us trying to find it in the lot.', 'Product: Information', 0, 'On-demand pickup location']]\n\n\n\nsubscription.feedback_logging.store(feedback_data=records, fields=fields)"
        }, 
        {
            "source": "<a id=\"datamart\"></a>\n# 6. Get the logged data", 
            "cell_type": "markdown", 
            "metadata": {}
        }, 
        {
            "source": "#### Print schema of payload_logging table", 
            "cell_type": "markdown", 
            "metadata": {}
        }, 
        {
            "execution_count": 48, 
            "cell_type": "code", 
            "metadata": {}, 
            "outputs": [
                {
                    "output_type": "display_data", 
                    "data": {
                        "text/html": "<HTML>\n        <body>\n            <h3>Schema of Payload_action</h3>\n            <table style='border: 1px solid #dddddd; font-family: Courier'>\n                <th style='border: 1px solid #dddddd'>name</th><th style='border: 1px solid #dddddd'>type</th><th style='border: 1px solid #dddddd'>nullable</th>\n                <tr><td style='border: 1px solid #dddddd'>scoring_id</td><td style='border: 1px solid #dddddd'>string</td><td style='border: 1px solid #dddddd'>False</td></tr><tr><td style='border: 1px solid #dddddd'>scoring_timestamp</td><td style='border: 1px solid #dddddd'>timestamp</td><td style='border: 1px solid #dddddd'>False</td></tr><tr><td style='border: 1px solid #dddddd'>deployment_id</td><td style='border: 1px solid #dddddd'>string</td><td style='border: 1px solid #dddddd'>False</td></tr><tr><td style='border: 1px solid #dddddd'>asset_revision</td><td style='border: 1px solid #dddddd'>string</td><td style='border: 1px solid #dddddd'>True</td></tr><tr><td style='border: 1px solid #dddddd'>ID</td><td style='border: 1px solid #dddddd'>integer</td><td style='border: 1px solid #dddddd'>True</td></tr><tr><td style='border: 1px solid #dddddd'>Gender</td><td style='border: 1px solid #dddddd'>string</td><td style='border: 1px solid #dddddd'>True</td></tr><tr><td style='border: 1px solid #dddddd'>Status</td><td style='border: 1px solid #dddddd'>string</td><td style='border: 1px solid #dddddd'>True</td></tr><tr><td style='border: 1px solid #dddddd'>Children</td><td style='border: 1px solid #dddddd'>integer</td><td style='border: 1px solid #dddddd'>True</td></tr><tr><td style='border: 1px solid #dddddd'>Age</td><td style='border: 1px solid #dddddd'>integer</td><td style='border: 1px solid #dddddd'>True</td></tr><tr><td style='border: 1px solid #dddddd'>Customer_Status</td><td style='border: 1px solid #dddddd'>string</td><td style='border: 1px solid #dddddd'>True</td></tr><tr><td style='border: 1px solid #dddddd'>Car_Owner</td><td style='border: 1px solid #dddddd'>string</td><td style='border: 1px solid #dddddd'>True</td></tr><tr><td style='border: 1px solid #dddddd'>Customer_Service</td><td style='border: 1px solid #dddddd'>string</td><td style='border: 1px solid #dddddd'>True</td></tr><tr><td style='border: 1px solid #dddddd'>Business_Area</td><td style='border: 1px solid #dddddd'>string</td><td style='border: 1px solid #dddddd'>True</td></tr><tr><td style='border: 1px solid #dddddd'>Satisfaction</td><td style='border: 1px solid #dddddd'>integer</td><td style='border: 1px solid #dddddd'>True</td></tr><tr><td style='border: 1px solid #dddddd'>words</td><td style='border: 1px solid #dddddd'>{'type': 'array', 'containsNull': True, 'elementType': 'string'}</td><td style='border: 1px solid #dddddd'>True</td></tr><tr><td style='border: 1px solid #dddddd'>hash</td><td style='border: 1px solid #dddddd'>{'type': 'array', 'containsNull': True, 'elementType': 'string'}</td><td style='border: 1px solid #dddddd'>True</td></tr><tr><td style='border: 1px solid #dddddd'>area_features</td><td style='border: 1px solid #dddddd'>{'type': 'array', 'containsNull': True, 'elementType': 'string'}</td><td style='border: 1px solid #dddddd'>True</td></tr><tr><td style='border: 1px solid #dddddd'>area_label</td><td style='border: 1px solid #dddddd'>integer</td><td style='border: 1px solid #dddddd'>True</td></tr><tr><td style='border: 1px solid #dddddd'>rawPrediction_area</td><td style='border: 1px solid #dddddd'>{'type': 'array', 'containsNull': True, 'elementType': 'double'}</td><td style='border: 1px solid #dddddd'>True</td></tr><tr><td style='border: 1px solid #dddddd'>probability_area</td><td style='border: 1px solid #dddddd'>{'type': 'array', 'containsNull': True, 'elementType': 'double'}</td><td style='border: 1px solid #dddddd'>True</td></tr><tr><td style='border: 1px solid #dddddd'>prediction_area</td><td style='border: 1px solid #dddddd'>integer</td><td style='border: 1px solid #dddddd'>True</td></tr><tr><td style='border: 1px solid #dddddd'>predictedAreaLabel</td><td style='border: 1px solid #dddddd'>string</td><td style='border: 1px solid #dddddd'>True</td></tr><tr><td style='border: 1px solid #dddddd'>gender_ix</td><td style='border: 1px solid #dddddd'>integer</td><td style='border: 1px solid #dddddd'>True</td></tr><tr><td style='border: 1px solid #dddddd'>customer_status_ix</td><td style='border: 1px solid #dddddd'>integer</td><td style='border: 1px solid #dddddd'>True</td></tr><tr><td style='border: 1px solid #dddddd'>status_ix</td><td style='border: 1px solid #dddddd'>integer</td><td style='border: 1px solid #dddddd'>True</td></tr><tr><td style='border: 1px solid #dddddd'>owner_ix</td><td style='border: 1px solid #dddddd'>integer</td><td style='border: 1px solid #dddddd'>True</td></tr><tr><td style='border: 1px solid #dddddd'>features</td><td style='border: 1px solid #dddddd'>{'type': 'array', 'containsNull': True, 'elementType': 'double'}</td><td style='border: 1px solid #dddddd'>True</td></tr><tr><td style='border: 1px solid #dddddd'>rawPrediction</td><td style='border: 1px solid #dddddd'>{'type': 'array', 'containsNull': True, 'elementType': 'double'}</td><td style='border: 1px solid #dddddd'>True</td></tr><tr><td style='border: 1px solid #dddddd'>probability</td><td style='border: 1px solid #dddddd'>{'type': 'array', 'containsNull': True, 'elementType': 'double'}</td><td style='border: 1px solid #dddddd'>True</td></tr><tr><td style='border: 1px solid #dddddd'>prediction</td><td style='border: 1px solid #dddddd'>integer</td><td style='border: 1px solid #dddddd'>True</td></tr><tr><td style='border: 1px solid #dddddd'>predictedActionLabel</td><td style='border: 1px solid #dddddd'>string</td><td style='border: 1px solid #dddddd'>True</td></tr>\n            </table>\n        </body>\n        </HTML>", 
                        "text/plain": "<IPython.core.display.HTML object>"
                    }, 
                    "metadata": {}
                }
            ], 
            "source": "subscription.payload_logging.print_table_schema()"
        }, 
        {
            "source": "#### Show (preview) the table", 
            "cell_type": "markdown", 
            "metadata": {}
        }, 
        {
            "execution_count": 49, 
            "cell_type": "code", 
            "metadata": {}, 
            "outputs": [
                {
                    "output_type": "display_data", 
                    "data": {
                        "text/html": "<HTML>\n        <body>\n            <h3>Payload_action (binding_id=799ac149-ad10-46a6-bc29-d6b9057bde7d, subscription_id=action)</h3>\n            <table style='border: 1px solid #dddddd; font-family: Courier'>\n                <th style='border: 1px solid #dddddd'>scoring_id</th><th style='border: 1px solid #dddddd'>scoring_timestamp</th><th style='border: 1px solid #dddddd'>deployment_id</th><th style='border: 1px solid #dddddd'>asset_revision</th><th style='border: 1px solid #dddddd'>ID</th><th style='border: 1px solid #dddddd'>Gender</th><th style='border: 1px solid #dddddd'>Status</th><th style='border: 1px solid #dddddd'>Children</th><th style='border: 1px solid #dddddd'>Age</th><th style='border: 1px solid #dddddd'>Customer_Status</th><th style='border: 1px solid #dddddd'>Car_Owner</th><th style='border: 1px solid #dddddd'>Customer_Service</th><th style='border: 1px solid #dddddd'>Business_Area</th><th style='border: 1px solid #dddddd'>Satisfaction</th><th style='border: 1px solid #dddddd'>words</th><th style='border: 1px solid #dddddd'>hash</th><th style='border: 1px solid #dddddd'>area_features</th><th style='border: 1px solid #dddddd'>area_label</th><th style='border: 1px solid #dddddd'>rawPrediction_area</th><th style='border: 1px solid #dddddd'>probability_area</th><th style='border: 1px solid #dddddd'>prediction_area</th><th style='border: 1px solid #dddddd'>predictedAreaLabel</th><th style='border: 1px solid #dddddd'>gender_ix</th><th style='border: 1px solid #dddddd'>customer_status_ix</th><th style='border: 1px solid #dddddd'>status_ix</th><th style='border: 1px solid #dddddd'>owner_ix</th><th style='border: 1px solid #dddddd'>features</th><th style='border: 1px solid #dddddd'>rawPrediction</th><th style='border: 1px solid #dddddd'>probability</th><th style='border: 1px solid #dddddd'>prediction</th><th style='border: 1px solid #dddddd'>predictedActionLabel</th>\n                <tr><td style='border: 1px solid #dddddd'>d8c602df-fd79-44fd-80fc-5f383c569954-1</td><td style='border: 1px solid #dddddd'>2018-11-30 12:10:37.154000+00:00</td><td style='border: 1px solid #dddddd'>action</td><td style='border: 1px solid #dddddd'>None</td><td style='border: 1px solid #dddddd'>3785</td><td style='border: 1px solid #dddddd'>Male</td><td style='border: 1px solid #dddddd'>S</td><td style='border: 1px solid #dddddd'>1</td><td style='border: 1px solid #dddddd'>17</td><td style='border: 1px solid #dddddd'>Inactive</td><td style='border: 1px solid #dddddd'>Yes</td><td style='border: 1px solid #dddddd'>The car should have been brought to us instead of us trying to find it in the lot.</td><td style='border: 1px solid #dddddd'>Product: Information</td><td style='border: 1px solid #dddddd'>0</td><td style='border: 1px solid #dddddd'>['the', 'car', 'should', 'have', 'been', 'brought', 'to', 'us', 'instead', 'of', 'us', 'trying', 'to', 'find', 'it', 'in', 'the', 'lot.']</td><td style='border: 1px solid #dddddd'>[262144.0, [9639.0, 21872.0, 74079.0, 86175.0, 91878.0, 99585.0, 103838.0, 175817.0, 205044.0, 218965.0, 222453.0, 227152.0, 227431.0, 229772.0, 253475.0], [1.0, 2.0, 1.0, 1.0, 1.0, 1.0, 2.0, 1.0, 2.0, 1.0, 1.0, 1.0, 1.0, 1.0, 1.0]]</td><td style='border: 1px solid #dddddd'>[262144.0, [9639.0, 21872.0, 74079.0, 86175.0, 91878.0, 99585.0, 103838.0, 175817.0, 205044.0, 218965.0, 222453.0, 227152.0, 227431.0, 229772.0, 253475.0], [1.7479568465696622, 5.81081927052141, 0.0, 1.5191152741408147, 3.5115454388310208, 3.5115454388310208, 1.2986891158031049, 0.0, 1.563032662020071, 0.0, 1.8375690052593492, 0.0, 3.5115454388310208, 1.1444218246994038, 1.9021075263969205]]</td><td style='border: 1px solid #dddddd'>7</td><td style='border: 1px solid #dddddd'>[45.0, 48.0, 5.0, 10.0, 7.0, 6.0, 8.0, 3.0]</td><td style='border: 1px solid #dddddd'>[0.3409090909090909, 0.36363636363636365, 0.03787878787878788, 0.07575757575757576, 0.05303030303030303, 0.045454545454545456, 0.06060606060606061, 0.022727272727272728]</td><td style='border: 1px solid #dddddd'>1</td><td style='border: 1px solid #dddddd'>Product: Functioning</td><td style='border: 1px solid #dddddd'>0</td><td style='border: 1px solid #dddddd'>1</td><td style='border: 1px solid #dddddd'>1</td><td style='border: 1px solid #dddddd'>1</td><td style='border: 1px solid #dddddd'>[0.0, 1.0, 1.0, 1.0, 1.0, 17.0, 0.0, 1.0]</td><td style='border: 1px solid #dddddd'>[0.0, 1.0, 6.0, 0.0, 0.0]</td><td style='border: 1px solid #dddddd'>[0.0, 0.14285714285714285, 0.8571428571428571, 0.0, 0.0]</td><td style='border: 1px solid #dddddd'>2</td><td style='border: 1px solid #dddddd'>On-demand pickup location</td></tr><tr><td style='border: 1px solid #dddddd'>35c71a17-7222-4dbc-a8d5-f4f951ad6049-1</td><td style='border: 1px solid #dddddd'>2018-11-30 11:29:28.676989+00:00</td><td style='border: 1px solid #dddddd'>action</td><td style='border: 1px solid #dddddd'>None</td><td style='border: 1px solid #dddddd'>3785</td><td style='border: 1px solid #dddddd'>Male</td><td style='border: 1px solid #dddddd'>S</td><td style='border: 1px solid #dddddd'>1</td><td style='border: 1px solid #dddddd'>17</td><td style='border: 1px solid #dddddd'>Inactive</td><td style='border: 1px solid #dddddd'>Yes</td><td style='border: 1px solid #dddddd'>The car should have been brought to us instead of us trying to find it in the lot.</td><td style='border: 1px solid #dddddd'>Product: Information</td><td style='border: 1px solid #dddddd'>0</td><td style='border: 1px solid #dddddd'>['the', 'car', 'should', 'have', 'been', 'brought', 'to', 'us', 'instead', 'of', 'us', 'trying', 'to', 'find', 'it', 'in', 'the', 'lot.']</td><td style='border: 1px solid #dddddd'>[262144.0, [9639.0, 21872.0, 74079.0, 86175.0, 91878.0, 99585.0, 103838.0, 175817.0, 205044.0, 218965.0, 222453.0, 227152.0, 227431.0, 229772.0, 253475.0], [1.0, 2.0, 1.0, 1.0, 1.0, 1.0, 2.0, 1.0, 2.0, 1.0, 1.0, 1.0, 1.0, 1.0, 1.0]]</td><td style='border: 1px solid #dddddd'>[262144.0, [9639.0, 21872.0, 74079.0, 86175.0, 91878.0, 99585.0, 103838.0, 175817.0, 205044.0, 218965.0, 222453.0, 227152.0, 227431.0, 229772.0, 253475.0], [1.7479568465696622, 5.81081927052141, 0.0, 1.5191152741408147, 3.5115454388310208, 3.5115454388310208, 1.2986891158031049, 0.0, 1.563032662020071, 0.0, 1.8375690052593492, 0.0, 3.5115454388310208, 1.1444218246994038, 1.9021075263969205]]</td><td style='border: 1px solid #dddddd'>7</td><td style='border: 1px solid #dddddd'>[45.0, 48.0, 5.0, 10.0, 7.0, 6.0, 8.0, 3.0]</td><td style='border: 1px solid #dddddd'>[0.3409090909090909, 0.36363636363636365, 0.03787878787878788, 0.07575757575757576, 0.05303030303030303, 0.045454545454545456, 0.06060606060606061, 0.022727272727272728]</td><td style='border: 1px solid #dddddd'>1</td><td style='border: 1px solid #dddddd'>Product: Functioning</td><td style='border: 1px solid #dddddd'>0</td><td style='border: 1px solid #dddddd'>1</td><td style='border: 1px solid #dddddd'>1</td><td style='border: 1px solid #dddddd'>1</td><td style='border: 1px solid #dddddd'>[0.0, 1.0, 1.0, 1.0, 1.0, 17.0, 0.0, 1.0]</td><td style='border: 1px solid #dddddd'>[0.0, 1.0, 6.0, 0.0, 0.0]</td><td style='border: 1px solid #dddddd'>[0.0, 0.14285714285714285, 0.8571428571428571, 0.0, 0.0]</td><td style='border: 1px solid #dddddd'>2</td><td style='border: 1px solid #dddddd'>On-demand pickup location</td></tr><tr><td style='border: 1px solid #dddddd'>bb7f7fdd-b323-4e4f-b2e8-6714279b7f83-1</td><td style='border: 1px solid #dddddd'>2018-11-30 11:29:28.676915+00:00</td><td style='border: 1px solid #dddddd'>action</td><td style='border: 1px solid #dddddd'>None</td><td style='border: 1px solid #dddddd'>3785</td><td style='border: 1px solid #dddddd'>Male</td><td style='border: 1px solid #dddddd'>S</td><td style='border: 1px solid #dddddd'>1</td><td style='border: 1px solid #dddddd'>17</td><td style='border: 1px solid #dddddd'>Inactive</td><td style='border: 1px solid #dddddd'>Yes</td><td style='border: 1px solid #dddddd'>The car should have been brought to us instead of us trying to find it in the lot.</td><td style='border: 1px solid #dddddd'>Product: Information</td><td style='border: 1px solid #dddddd'>0</td><td style='border: 1px solid #dddddd'>['the', 'car', 'should', 'have', 'been', 'brought', 'to', 'us', 'instead', 'of', 'us', 'trying', 'to', 'find', 'it', 'in', 'the', 'lot.']</td><td style='border: 1px solid #dddddd'>[262144.0, [9639.0, 21872.0, 74079.0, 86175.0, 91878.0, 99585.0, 103838.0, 175817.0, 205044.0, 218965.0, 222453.0, 227152.0, 227431.0, 229772.0, 253475.0], [1.0, 2.0, 1.0, 1.0, 1.0, 1.0, 2.0, 1.0, 2.0, 1.0, 1.0, 1.0, 1.0, 1.0, 1.0]]</td><td style='border: 1px solid #dddddd'>[262144.0, [9639.0, 21872.0, 74079.0, 86175.0, 91878.0, 99585.0, 103838.0, 175817.0, 205044.0, 218965.0, 222453.0, 227152.0, 227431.0, 229772.0, 253475.0], [1.7479568465696622, 5.81081927052141, 0.0, 1.5191152741408147, 3.5115454388310208, 3.5115454388310208, 1.2986891158031049, 0.0, 1.563032662020071, 0.0, 1.8375690052593492, 0.0, 3.5115454388310208, 1.1444218246994038, 1.9021075263969205]]</td><td style='border: 1px solid #dddddd'>7</td><td style='border: 1px solid #dddddd'>[45.0, 48.0, 5.0, 10.0, 7.0, 6.0, 8.0, 3.0]</td><td style='border: 1px solid #dddddd'>[0.3409090909090909, 0.36363636363636365, 0.03787878787878788, 0.07575757575757576, 0.05303030303030303, 0.045454545454545456, 0.06060606060606061, 0.022727272727272728]</td><td style='border: 1px solid #dddddd'>1</td><td style='border: 1px solid #dddddd'>Product: Functioning</td><td style='border: 1px solid #dddddd'>0</td><td style='border: 1px solid #dddddd'>1</td><td style='border: 1px solid #dddddd'>1</td><td style='border: 1px solid #dddddd'>1</td><td style='border: 1px solid #dddddd'>[0.0, 1.0, 1.0, 1.0, 1.0, 17.0, 0.0, 1.0]</td><td style='border: 1px solid #dddddd'>[0.0, 1.0, 6.0, 0.0, 0.0]</td><td style='border: 1px solid #dddddd'>[0.0, 0.14285714285714285, 0.8571428571428571, 0.0, 0.0]</td><td style='border: 1px solid #dddddd'>2</td><td style='border: 1px solid #dddddd'>On-demand pickup location</td></tr>\n            </table>\n        </body>\n        </HTML>", 
                        "text/plain": "<IPython.core.display.HTML object>"
                    }, 
                    "metadata": {}
                }
            ], 
            "source": "subscription.payload_logging.show_table()"
        }, 
        {
            "source": "#### Return the table content as pandas dataframe", 
            "cell_type": "markdown", 
            "metadata": {}
        }, 
        {
            "execution_count": 50, 
            "cell_type": "code", 
            "metadata": {}, 
            "outputs": [
                {
                    "execution_count": 50, 
                    "metadata": {}, 
                    "data": {
                        "text/html": "<div>\n<style scoped>\n    .dataframe tbody tr th:only-of-type {\n        vertical-align: middle;\n    }\n\n    .dataframe tbody tr th {\n        vertical-align: top;\n    }\n\n    .dataframe thead th {\n        text-align: right;\n    }\n</style>\n<table border=\"1\" class=\"dataframe\">\n  <thead>\n    <tr style=\"text-align: right;\">\n      <th></th>\n      <th>scoring_id</th>\n      <th>scoring_timestamp</th>\n      <th>deployment_id</th>\n      <th>asset_revision</th>\n      <th>ID</th>\n      <th>Gender</th>\n      <th>Status</th>\n      <th>Children</th>\n      <th>Age</th>\n      <th>Customer_Status</th>\n      <th>...</th>\n      <th>predictedAreaLabel</th>\n      <th>gender_ix</th>\n      <th>customer_status_ix</th>\n      <th>status_ix</th>\n      <th>owner_ix</th>\n      <th>features</th>\n      <th>rawPrediction</th>\n      <th>probability</th>\n      <th>prediction</th>\n      <th>predictedActionLabel</th>\n    </tr>\n  </thead>\n  <tbody>\n    <tr>\n      <th>0</th>\n      <td>d8c602df-fd79-44fd-80fc-5f383c569954-1</td>\n      <td>2018-11-30 12:10:37.154000+00:00</td>\n      <td>action</td>\n      <td>None</td>\n      <td>3785</td>\n      <td>Male</td>\n      <td>S</td>\n      <td>1</td>\n      <td>17</td>\n      <td>Inactive</td>\n      <td>...</td>\n      <td>Product: Functioning</td>\n      <td>0</td>\n      <td>1</td>\n      <td>1</td>\n      <td>1</td>\n      <td>[0.0, 1.0, 1.0, 1.0, 1.0, 17.0, 0.0, 1.0]</td>\n      <td>[0.0, 1.0, 6.0, 0.0, 0.0]</td>\n      <td>[0.0, 0.14285714285714285, 0.8571428571428571,...</td>\n      <td>2</td>\n      <td>On-demand pickup location</td>\n    </tr>\n    <tr>\n      <th>1</th>\n      <td>35c71a17-7222-4dbc-a8d5-f4f951ad6049-1</td>\n      <td>2018-11-30 11:29:28.676989+00:00</td>\n      <td>action</td>\n      <td>None</td>\n      <td>3785</td>\n      <td>Male</td>\n      <td>S</td>\n      <td>1</td>\n      <td>17</td>\n      <td>Inactive</td>\n      <td>...</td>\n      <td>Product: Functioning</td>\n      <td>0</td>\n      <td>1</td>\n      <td>1</td>\n      <td>1</td>\n      <td>[0.0, 1.0, 1.0, 1.0, 1.0, 17.0, 0.0, 1.0]</td>\n      <td>[0.0, 1.0, 6.0, 0.0, 0.0]</td>\n      <td>[0.0, 0.14285714285714285, 0.8571428571428571,...</td>\n      <td>2</td>\n      <td>On-demand pickup location</td>\n    </tr>\n    <tr>\n      <th>2</th>\n      <td>bb7f7fdd-b323-4e4f-b2e8-6714279b7f83-1</td>\n      <td>2018-11-30 11:29:28.676915+00:00</td>\n      <td>action</td>\n      <td>None</td>\n      <td>3785</td>\n      <td>Male</td>\n      <td>S</td>\n      <td>1</td>\n      <td>17</td>\n      <td>Inactive</td>\n      <td>...</td>\n      <td>Product: Functioning</td>\n      <td>0</td>\n      <td>1</td>\n      <td>1</td>\n      <td>1</td>\n      <td>[0.0, 1.0, 1.0, 1.0, 1.0, 17.0, 0.0, 1.0]</td>\n      <td>[0.0, 1.0, 6.0, 0.0, 0.0]</td>\n      <td>[0.0, 0.14285714285714285, 0.8571428571428571,...</td>\n      <td>2</td>\n      <td>On-demand pickup location</td>\n    </tr>\n  </tbody>\n</table>\n<p>3 rows \u00d7 31 columns</p>\n</div>", 
                        "text/plain": "                               scoring_id                scoring_timestamp  \\\n0  d8c602df-fd79-44fd-80fc-5f383c569954-1 2018-11-30 12:10:37.154000+00:00   \n1  35c71a17-7222-4dbc-a8d5-f4f951ad6049-1 2018-11-30 11:29:28.676989+00:00   \n2  bb7f7fdd-b323-4e4f-b2e8-6714279b7f83-1 2018-11-30 11:29:28.676915+00:00   \n\n  deployment_id asset_revision    ID Gender Status  Children  Age  \\\n0        action           None  3785   Male      S         1   17   \n1        action           None  3785   Male      S         1   17   \n2        action           None  3785   Male      S         1   17   \n\n  Customer_Status            ...                predictedAreaLabel gender_ix  \\\n0        Inactive            ...              Product: Functioning         0   \n1        Inactive            ...              Product: Functioning         0   \n2        Inactive            ...              Product: Functioning         0   \n\n  customer_status_ix  status_ix owner_ix  \\\n0                  1          1        1   \n1                  1          1        1   \n2                  1          1        1   \n\n                                    features              rawPrediction  \\\n0  [0.0, 1.0, 1.0, 1.0, 1.0, 17.0, 0.0, 1.0]  [0.0, 1.0, 6.0, 0.0, 0.0]   \n1  [0.0, 1.0, 1.0, 1.0, 1.0, 17.0, 0.0, 1.0]  [0.0, 1.0, 6.0, 0.0, 0.0]   \n2  [0.0, 1.0, 1.0, 1.0, 1.0, 17.0, 0.0, 1.0]  [0.0, 1.0, 6.0, 0.0, 0.0]   \n\n                                         probability prediction  \\\n0  [0.0, 0.14285714285714285, 0.8571428571428571,...          2   \n1  [0.0, 0.14285714285714285, 0.8571428571428571,...          2   \n2  [0.0, 0.14285714285714285, 0.8571428571428571,...          2   \n\n        predictedActionLabel  \n0  On-demand pickup location  \n1  On-demand pickup location  \n2  On-demand pickup location  \n\n[3 rows x 31 columns]"
                    }, 
                    "output_type": "execute_result"
                }
            ], 
            "source": "pandas_df = subscription.payload_logging.get_table_content(format='pandas')\npandas_df"
        }, 
        {
            "execution_count": 93, 
            "cell_type": "code", 
            "metadata": {}, 
            "outputs": [
                {
                    "output_type": "display_data", 
                    "data": {
                        "text/html": "<HTML>\n        <body>\n            <h3>Feedback_action (binding_id=537cf17b-b171-48cf-9ddc-9e15dbfbf6d5, subscription_id=action)</h3>\n            <table style='border: 1px solid #dddddd; font-family: Courier'>\n                <th style='border: 1px solid #dddddd'>ID</th><th style='border: 1px solid #dddddd'>Gender</th><th style='border: 1px solid #dddddd'>Status</th><th style='border: 1px solid #dddddd'>Children</th><th style='border: 1px solid #dddddd'>Age</th><th style='border: 1px solid #dddddd'>Customer_Status</th><th style='border: 1px solid #dddddd'>Car_Owner</th><th style='border: 1px solid #dddddd'>Customer_Service</th><th style='border: 1px solid #dddddd'>Business_Area</th><th style='border: 1px solid #dddddd'>Satisfaction</th><th style='border: 1px solid #dddddd'>label</th><th style='border: 1px solid #dddddd'>_training</th>\n                <tr><td style='border: 1px solid #dddddd'>3785</td><td style='border: 1px solid #dddddd'>Male</td><td style='border: 1px solid #dddddd'>S</td><td style='border: 1px solid #dddddd'>1</td><td style='border: 1px solid #dddddd'>17</td><td style='border: 1px solid #dddddd'>Inactive</td><td style='border: 1px solid #dddddd'>Yes</td><td style='border: 1px solid #dddddd'>The car should have been brought to us instead of us trying to find it in the lot.</td><td style='border: 1px solid #dddddd'>Product: Information</td><td style='border: 1px solid #dddddd'>0</td><td style='border: 1px solid #dddddd'>On-demand pickup location</td><td style='border: 1px solid #dddddd'>2018-11-30 12:55:10.598000+00:00</td></tr><tr><td style='border: 1px solid #dddddd'>3785</td><td style='border: 1px solid #dddddd'>Male</td><td style='border: 1px solid #dddddd'>S</td><td style='border: 1px solid #dddddd'>1</td><td style='border: 1px solid #dddddd'>17</td><td style='border: 1px solid #dddddd'>Inactive</td><td style='border: 1px solid #dddddd'>Yes</td><td style='border: 1px solid #dddddd'>The car should have been brought to us instead of us trying to find it in the lot.</td><td style='border: 1px solid #dddddd'>Product: Information</td><td style='border: 1px solid #dddddd'>0</td><td style='border: 1px solid #dddddd'>On-demand pickup location</td><td style='border: 1px solid #dddddd'>2018-11-30 12:55:10.598000+00:00</td></tr><tr><td style='border: 1px solid #dddddd'>3785</td><td style='border: 1px solid #dddddd'>Male</td><td style='border: 1px solid #dddddd'>S</td><td style='border: 1px solid #dddddd'>1</td><td style='border: 1px solid #dddddd'>17</td><td style='border: 1px solid #dddddd'>Inactive</td><td style='border: 1px solid #dddddd'>Yes</td><td style='border: 1px solid #dddddd'>The car should have been brought to us instead of us trying to find it in the lot.</td><td style='border: 1px solid #dddddd'>Product: Information</td><td style='border: 1px solid #dddddd'>0</td><td style='border: 1px solid #dddddd'>On-demand pickup location</td><td style='border: 1px solid #dddddd'>2018-11-30 12:55:39.738000+00:00</td></tr><tr><td style='border: 1px solid #dddddd'>3785</td><td style='border: 1px solid #dddddd'>Male</td><td style='border: 1px solid #dddddd'>S</td><td style='border: 1px solid #dddddd'>1</td><td style='border: 1px solid #dddddd'>17</td><td style='border: 1px solid #dddddd'>Inactive</td><td style='border: 1px solid #dddddd'>Yes</td><td style='border: 1px solid #dddddd'>The car should have been brought to us instead of us trying to find it in the lot.</td><td style='border: 1px solid #dddddd'>Product: Information</td><td style='border: 1px solid #dddddd'>0</td><td style='border: 1px solid #dddddd'>On-demand pickup location</td><td style='border: 1px solid #dddddd'>2018-11-30 12:55:39.738000+00:00</td></tr>\n            </table>\n        </body>\n        </HTML>", 
                        "text/plain": "<IPython.core.display.HTML object>"
                    }, 
                    "metadata": {}
                }
            ], 
            "source": "subscription.feedback_logging.show_table()"
        }, 
        {
            "source": "---", 
            "cell_type": "markdown", 
            "metadata": {}
        }, 
        {
            "source": "### Authors\nLukasz Cmielowski, PhD, is an Automation Architect and Data Scientist at IBM with a track record of developing enterprise-level applications that substantially increases clients' ability to turn data into actionable knowledge.", 
            "cell_type": "markdown", 
            "metadata": {}
        }
    ], 
    "metadata": {
        "kernelspec": {
            "display_name": "Python 3.5", 
            "name": "python3", 
            "language": "python"
        }, 
        "language_info": {
            "mimetype": "text/x-python", 
            "nbconvert_exporter": "python", 
            "version": "3.5.5", 
            "name": "python", 
            "file_extension": ".py", 
            "pygments_lexer": "ipython3", 
            "codemirror_mode": {
                "version": 3, 
                "name": "ipython"
            }
        }
    }, 
    "nbformat": 4
}