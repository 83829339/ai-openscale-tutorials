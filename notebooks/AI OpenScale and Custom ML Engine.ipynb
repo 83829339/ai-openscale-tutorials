{
    "nbformat_minor": 1, 
    "cells": [
        {
            "source": "<img src=\"https://github.com/pmservice/ai-openscale-tutorials/raw/master/notebooks/images/banner.png\" align=\"left\" alt=\"banner\">", 
            "cell_type": "markdown", 
            "metadata": {}
        }, 
        {
            "source": "# Working with Custom Machine Learning engine", 
            "cell_type": "markdown", 
            "metadata": {}
        }, 
        {
            "source": "This notebook shows how to log the payload for the model deployed on custom model serving engine using Watson OpenScale python sdk.", 
            "cell_type": "markdown", 
            "metadata": {}
        }, 
        {
            "source": "Contents\n- [1. Setup](#setup)\n- [2. Binding machine learning engine](#binding)\n- [3. Subscriptions](#subscription)\n- [4. Scoring and payload logging](#scoring)\n- [5. Feedback logging](#feedback)\n- [6. Fairness monitoring](#fairness)\n- [7. Working with Data Mart](#datamart)", 
            "cell_type": "markdown", 
            "metadata": {}
        }, 
        {
            "source": "<a id=\"setup\"></a>\n## 1. Setup", 
            "cell_type": "markdown", 
            "metadata": {}
        }, 
        {
            "source": "### 1.0 Sample custom machine learning engine", 
            "cell_type": "markdown", 
            "metadata": {}
        }, 
        {
            "source": "The sample machine learning engine based on docker image and deployment instructions can be found [here](https://github.com/pmservice/ai-openscale-tutorials/tree/master/applications/custom-ml-engine).", 
            "cell_type": "markdown", 
            "metadata": {}
        }, 
        {
            "source": "**NOTE:** CUSTOM machine learning engine must follow this [API specification](https://aiopenscale-custom-deployement-spec.mybluemix.net/) to be supported.", 
            "cell_type": "markdown", 
            "metadata": {}
        }, 
        {
            "source": "### 1.1 Installation and authentication", 
            "cell_type": "markdown", 
            "metadata": {}
        }, 
        {
            "execution_count": 1, 
            "cell_type": "code", 
            "metadata": {}, 
            "outputs": [
                {
                    "output_type": "stream", 
                    "name": "stdout", 
                    "text": "Successfully installed ibm-ai-openscale-2.0.17\r\n"
                }
            ], 
            "source": "!pip install --upgrade ibm-ai-openscale --no-cache | tail -n 1"
        }, 
        {
            "execution_count": 2, 
            "cell_type": "code", 
            "metadata": {}, 
            "outputs": [
                {
                    "output_type": "stream", 
                    "name": "stdout", 
                    "text": "Successfully installed py4j-0.10.7 pyspark-2.4.0\nSuccessfully installed lime-0.1.1.32\n"
                }
            ], 
            "source": "!pip install pyspark | tail -n 1\n!pip install lime | tail -n 1"
        }, 
        {
            "source": "Import and initiate.", 
            "cell_type": "markdown", 
            "metadata": {}
        }, 
        {
            "execution_count": 3, 
            "cell_type": "code", 
            "metadata": {}, 
            "outputs": [
                {
                    "output_type": "stream", 
                    "name": "stderr", 
                    "text": "/opt/conda/envs/DSX-Python35/lib/python3.5/site-packages/sklearn/cross_validation.py:41: DeprecationWarning: This module was deprecated in version 0.18 in favor of the model_selection module into which all the refactored classes and functions are moved. Also note that the interface of the new CV iterators are different from that of this module. This module will be removed in 0.20.\n  \"This module will be removed in 0.20.\", DeprecationWarning)\n"
                }
            ], 
            "source": "from ibm_ai_openscale import APIClient\nfrom ibm_ai_openscale.supporting_classes import PayloadRecord\nfrom ibm_ai_openscale.engines import *\nfrom ibm_ai_openscale.utils import *\nimport pandas as pd"
        }, 
        {
            "source": "#### ACTION: Get OpenScale `instance_guid` and `apikey`\n\nHow to install IBM Cloud (bluemix) console: [instruction](https://console.bluemix.net/docs/cli/reference/ibmcloud/download_cli.html#install_use)\n\nHow to get api key using bluemix console:\n```\nbx login --sso\nbx iam api-key-create 'my_key'\n```\n\nHow to get your OpenScale instance GUID\n\n- if your resource group is different than `default` switch to resource group containing OpenScale instance\n```\nbx target -g <myResourceGroup>\n```\n- get details of the instance\n```\nbx resource service-instance 'AI-OpenScale-instance_name'\n```", 
            "cell_type": "markdown", 
            "metadata": {}
        }, 
        {
            "source": "#### Let's define some constants required to set up data mart:\n\n- AIOS_CREDENTIALS\n- POSTGRES_CREDENTIALS\n- SCHEMA_NAME", 
            "cell_type": "markdown", 
            "metadata": {}
        }, 
        {
            "execution_count": 4, 
            "cell_type": "code", 
            "metadata": {}, 
            "outputs": [], 
            "source": "AIOS_CREDENTIALS = {\n  \"url\": \"https://api.aiopenscale.cloud.ibm.com\",\n  \"instance_guid\": \"***\",\n  \"apikey\": \"***\"\n}"
        }, 
        {
            "execution_count": 5, 
            "cell_type": "code", 
            "metadata": {}, 
            "outputs": [], 
            "source": "# The code was removed by Watson Studio for sharing."
        }, 
        {
            "execution_count": 6, 
            "cell_type": "code", 
            "metadata": {}, 
            "outputs": [], 
            "source": "POSTGRES_CREDENTIALS = {\n    \"db_type\": \"postgresql\",\n    \"uri_cli_1\": \"xxx\",\n    \"maps\": [],\n    \"instance_administration_api\": {\n        \"instance_id\": \"xxx\",\n        \"root\": \"xxx\",\n        \"deployment_id\": \"xxx\"\n    },\n    \"name\": \"xxx\",\n    \"uri_cli\": \"xxx\",\n    \"uri_direct_1\": \"xxx\",\n    \"ca_certificate_base64\": \"xxx\",\n    \"deployment_id\": \"xxx\",\n    \"uri\": \"xxx\"\n}"
        }, 
        {
            "execution_count": 7, 
            "cell_type": "code", 
            "metadata": {}, 
            "outputs": [], 
            "source": "# The code was removed by Watson Studio for sharing."
        }, 
        {
            "execution_count": 8, 
            "cell_type": "code", 
            "metadata": {}, 
            "outputs": [], 
            "source": "SCHEMA_NAME = 'data_mart_for_custom'"
        }, 
        {
            "source": "Create schema for data mart.", 
            "cell_type": "markdown", 
            "metadata": {}
        }, 
        {
            "execution_count": 9, 
            "cell_type": "code", 
            "metadata": {}, 
            "outputs": [], 
            "source": "create_postgres_schema(postgres_credentials=POSTGRES_CREDENTIALS, schema_name=SCHEMA_NAME)"
        }, 
        {
            "execution_count": 10, 
            "cell_type": "code", 
            "metadata": {}, 
            "outputs": [], 
            "source": "client = APIClient(AIOS_CREDENTIALS)"
        }, 
        {
            "execution_count": 11, 
            "cell_type": "code", 
            "metadata": {}, 
            "outputs": [
                {
                    "execution_count": 11, 
                    "metadata": {}, 
                    "data": {
                        "text/plain": "'2.0.17'"
                    }, 
                    "output_type": "execute_result"
                }
            ], 
            "source": "client.version"
        }, 
        {
            "source": "### 1.2 DataMart setup", 
            "cell_type": "markdown", 
            "metadata": {}
        }, 
        {
            "execution_count": 18, 
            "cell_type": "code", 
            "metadata": {}, 
            "outputs": [], 
            "source": "client.data_mart.setup(db_credentials=POSTGRES_CREDENTIALS, schema=SCHEMA_NAME)"
        }, 
        {
            "execution_count": 19, 
            "cell_type": "code", 
            "metadata": {}, 
            "outputs": [], 
            "source": "data_mart_details = client.data_mart.get_details()"
        }, 
        {
            "source": "<a id=\"binding\"></a>\n## 2. Bind machine learning engines", 
            "cell_type": "markdown", 
            "metadata": {}
        }, 
        {
            "source": "### 2.1 Bind  `CUSTOM` machine learning engine\n**NOTE:** CUSTOM machine learning engine must follow this [API specification](https://aiopenscale-custom-deployement-spec.mybluemix.net/) to be supported.\n\nCredentials support following fields:\n- `url` - hostname and port (required)\n- `username` - part of BasicAuth (optional)\n- `password` - part of BasicAuth (optional)", 
            "cell_type": "markdown", 
            "metadata": {}
        }, 
        {
            "execution_count": 20, 
            "cell_type": "code", 
            "metadata": {}, 
            "outputs": [], 
            "source": "CUSTOM_ENGINE_CREDENTIALS = {\n    \"url\": \"***\",\n    \"username\": \"***\",\n    \"password\": \"***\"\n}"
        }, 
        {
            "execution_count": 21, 
            "cell_type": "code", 
            "metadata": {}, 
            "outputs": [], 
            "source": "# The code was removed by Watson Studio for sharing."
        }, 
        {
            "execution_count": 22, 
            "cell_type": "code", 
            "metadata": {}, 
            "outputs": [], 
            "source": "binding_uid = client.data_mart.bindings.add('My custom engine', CustomMachineLearningInstance(CUSTOM_ENGINE_CREDENTIALS))"
        }, 
        {
            "execution_count": 23, 
            "cell_type": "code", 
            "metadata": {}, 
            "outputs": [], 
            "source": "bindings_details = client.data_mart.bindings.get_details()"
        }, 
        {
            "execution_count": 24, 
            "cell_type": "code", 
            "metadata": {}, 
            "outputs": [
                {
                    "output_type": "display_data", 
                    "data": {
                        "text/html": "<HTML>\n        <body>\n            <h3>Service bindings</h3>\n            <table style='border: 1px solid #dddddd; font-family: Courier'>\n                <th style='border: 1px solid #dddddd'>uid</th><th style='border: 1px solid #dddddd'>name</th><th style='border: 1px solid #dddddd'>service_type</th><th style='border: 1px solid #dddddd'>created</th>\n                <tr><td style='border: 1px solid #dddddd'>6c646985-8a93-48e0-911f-37bfc661e03e</td><td style='border: 1px solid #dddddd'>My custom engine</td><td style='border: 1px solid #dddddd'>custom_machine_learning</td><td style='border: 1px solid #dddddd'>2019-02-06T14:41:30.592Z</td></tr>\n            </table>\n        </body>\n        </HTML>", 
                        "text/plain": "<IPython.core.display.HTML object>"
                    }, 
                    "metadata": {}
                }
            ], 
            "source": "client.data_mart.bindings.list()"
        }, 
        {
            "source": "<a id=\"subsciption\"></a>\n## 3. Subscriptions", 
            "cell_type": "markdown", 
            "metadata": {}
        }, 
        {
            "source": "### 3.1 Add subscriptions", 
            "cell_type": "markdown", 
            "metadata": {}
        }, 
        {
            "source": "List available deployments.", 
            "cell_type": "markdown", 
            "metadata": {}
        }, 
        {
            "execution_count": 25, 
            "cell_type": "code", 
            "metadata": {}, 
            "outputs": [
                {
                    "output_type": "display_data", 
                    "data": {
                        "text/html": "<HTML>\n        <body>\n            <h3>Available assets</h3>\n            <table style='border: 1px solid #dddddd; font-family: Courier'>\n                <th style='border: 1px solid #dddddd'>source_uid</th><th style='border: 1px solid #dddddd'>name</th><th style='border: 1px solid #dddddd'>created</th><th style='border: 1px solid #dddddd'>type</th><th style='border: 1px solid #dddddd'>frameworks</th><th style='border: 1px solid #dddddd'>binding_uid</th><th style='border: 1px solid #dddddd'>is_subscribed</th>\n                <tr><td style='border: 1px solid #dddddd'>credit</td><td style='border: 1px solid #dddddd'>credit</td><td style='border: 1px solid #dddddd'>2019-01-01T10:11:12Z</td><td style='border: 1px solid #dddddd'>model</td><td style='border: 1px solid #dddddd'></td><td style='border: 1px solid #dddddd'>6c646985-8a93-48e0-911f-37bfc661e03e</td><td style='border: 1px solid #dddddd'>False</td></tr><tr><td style='border: 1px solid #dddddd'>resnet50</td><td style='border: 1px solid #dddddd'>resnet50</td><td style='border: 1px solid #dddddd'>2016-12-01T10:11:12Z</td><td style='border: 1px solid #dddddd'>model</td><td style='border: 1px solid #dddddd'></td><td style='border: 1px solid #dddddd'>6c646985-8a93-48e0-911f-37bfc661e03e</td><td style='border: 1px solid #dddddd'>False</td></tr><tr><td style='border: 1px solid #dddddd'>action</td><td style='border: 1px solid #dddddd'>area and action prediction</td><td style='border: 1px solid #dddddd'>2016-12-01T10:11:12Z</td><td style='border: 1px solid #dddddd'>model</td><td style='border: 1px solid #dddddd'></td><td style='border: 1px solid #dddddd'>6c646985-8a93-48e0-911f-37bfc661e03e</td><td style='border: 1px solid #dddddd'>False</td></tr>\n            </table>\n        </body>\n        </HTML>", 
                        "text/plain": "<IPython.core.display.HTML object>"
                    }, 
                    "metadata": {}
                }
            ], 
            "source": "client.data_mart.bindings.list_assets()"
        }, 
        {
            "source": "Let's specify training data information like: list of features and list of categorical features required by fairness and explain.", 
            "cell_type": "markdown", 
            "metadata": {}
        }, 
        {
            "execution_count": 26, 
            "cell_type": "code", 
            "metadata": {}, 
            "outputs": [], 
            "source": "feature_columns = ['CheckingStatus', 'LoanDuration', 'CreditHistory', 'LoanPurpose', 'LoanAmount', 'ExistingSavings', 'EmploymentDuration', 'InstallmentPercent', 'Sex', 'OthersOnLoan', 'CurrentResidenceDuration', 'OwnsProperty', 'Age', 'InstallmentPlans', 'Housing', 'ExistingCreditsCount', 'Job', 'Dependents', 'Telephone', 'ForeignWorker']\ncategorical_columns = ['CheckingStatus', 'CreditHistory', 'LoanPurpose', 'ExistingSavings', 'EmploymentDuration', 'Sex', 'OthersOnLoan', 'OwnsProperty', 'InstallmentPlans','Housing', 'Job', 'Telephone', 'ForeignWorker']"
        }, 
        {
            "execution_count": 27, 
            "cell_type": "code", 
            "metadata": {}, 
            "outputs": [], 
            "source": "subscription = client.data_mart.subscriptions.add(\n    CustomMachineLearningAsset(\n                source_uid='credit',\n                label_column='Risk',\n                prediction_column='prediction',\n                probability_column='probability',\n                feature_columns=feature_columns.copy(),\n                categorical_columns=categorical_columns.copy(),\n                binding_uid=binding_uid))"
        }, 
        {
            "source": "#### Get subscriptions list", 
            "cell_type": "markdown", 
            "metadata": {}
        }, 
        {
            "execution_count": 28, 
            "cell_type": "code", 
            "metadata": {}, 
            "outputs": [], 
            "source": "subscriptions = client.data_mart.subscriptions.get_details()"
        }, 
        {
            "execution_count": 29, 
            "cell_type": "code", 
            "metadata": {}, 
            "outputs": [
                {
                    "output_type": "stream", 
                    "name": "stdout", 
                    "text": "['credit']\n"
                }
            ], 
            "source": "subscriptions_uids = client.data_mart.subscriptions.get_uids()\nprint(subscriptions_uids)"
        }, 
        {
            "source": "#### List subscriptions", 
            "cell_type": "markdown", 
            "metadata": {}
        }, 
        {
            "execution_count": 30, 
            "cell_type": "code", 
            "metadata": {}, 
            "outputs": [
                {
                    "output_type": "display_data", 
                    "data": {
                        "text/html": "<HTML>\n        <body>\n            <h3>Subscriptions</h3>\n            <table style='border: 1px solid #dddddd; font-family: Courier'>\n                <th style='border: 1px solid #dddddd'>uid</th><th style='border: 1px solid #dddddd'>name</th><th style='border: 1px solid #dddddd'>type</th><th style='border: 1px solid #dddddd'>binding_uid</th><th style='border: 1px solid #dddddd'>created</th>\n                <tr><td style='border: 1px solid #dddddd'>credit</td><td style='border: 1px solid #dddddd'>credit</td><td style='border: 1px solid #dddddd'>model</td><td style='border: 1px solid #dddddd'>6c646985-8a93-48e0-911f-37bfc661e03e</td><td style='border: 1px solid #dddddd'>2019-02-06T14:41:35.381Z</td></tr>\n            </table>\n        </body>\n        </HTML>", 
                        "text/plain": "<IPython.core.display.HTML object>"
                    }, 
                    "metadata": {}
                }
            ], 
            "source": "client.data_mart.subscriptions.list()"
        }, 
        {
            "source": "<a id=\"scoring\"></a>\n## 4. Scoring and payload logging", 
            "cell_type": "markdown", 
            "metadata": {}
        }, 
        {
            "source": "### 4.1 Score the credit model", 
            "cell_type": "markdown", 
            "metadata": {}
        }, 
        {
            "execution_count": 31, 
            "cell_type": "code", 
            "metadata": {}, 
            "outputs": [
                {
                    "output_type": "stream", 
                    "name": "stdout", 
                    "text": "Response: {'fields': ['prediction', 'probability'], 'labels': ['Risk', 'No Risk'], 'values': [['No Risk', [0.8823126094462725, 0.1176873905537274]], ['No Risk', [0.6755090846150376, 0.3244909153849625]], ['No Risk', [0.8944991421537971, 0.10550085784620292]], ['No Risk', [0.9297263621482206, 0.07027363785177945]], ['No Risk', [0.937346474163384, 0.06265352583661594]], ['No Risk', [0.8389265131291409, 0.16107348687085907]], ['Risk', [0.16270903114445467, 0.8372909688555453]], ['No Risk', [0.8011704003481404, 0.1988295996518596]]]}\n"
                }
            ], 
            "source": "import requests\nimport time\n\nvalues = [\n            [\"no_checking\", 13, \"credits_paid_to_date\", \"car_new\", 1343, \"100_to_500\", \"1_to_4\", 2, \"female\", \"none\", 3,\n             \"savings_insurance\", 25, \"none\", \"own\", 2, \"skilled\", 1, \"none\", \"yes\"],\n            [\"no_checking\", 24, \"prior_payments_delayed\", \"furniture\", 4567, \"500_to_1000\", \"1_to_4\", 4, \"male\", \"none\",\n             4, \"savings_insurance\", 60, \"none\", \"free\", 2, \"management_self-employed\", 1, \"none\", \"yes\"],\n            [\"0_to_200\", 26, \"all_credits_paid_back\", \"car_new\", 863, \"less_100\", \"less_1\", 2, \"female\", \"co-applicant\",\n             2, \"real_estate\", 38, \"none\", \"own\", 1, \"skilled\", 1, \"none\", \"yes\"],\n            [\"0_to_200\", 14, \"no_credits\", \"car_new\", 2368, \"less_100\", \"1_to_4\", 3, \"female\", \"none\", 3, \"real_estate\",\n             29, \"none\", \"own\", 1, \"skilled\", 1, \"none\", \"yes\"],\n            [\"0_to_200\", 4, \"no_credits\", \"car_new\", 250, \"less_100\", \"unemployed\", 2, \"female\", \"none\", 3,\n             \"real_estate\", 23, \"none\", \"rent\", 1, \"management_self-employed\", 1, \"none\", \"yes\"],\n            [\"no_checking\", 17, \"credits_paid_to_date\", \"car_new\", 832, \"100_to_500\", \"1_to_4\", 2, \"male\", \"none\", 2,\n             \"real_estate\", 42, \"none\", \"own\", 1, \"skilled\", 1, \"none\", \"yes\"],\n            [\"no_checking\", 50, \"outstanding_credit\", \"appliances\", 5696, \"unknown\", \"greater_7\", 4, \"female\",\n             \"co-applicant\", 4, \"unknown\", 54, \"none\", \"free\", 2, \"skilled\", 1, \"yes\", \"yes\"],\n            [\"0_to_200\", 13, \"prior_payments_delayed\", \"retraining\", 1375, \"100_to_500\", \"4_to_7\", 3, \"male\", \"none\", 3,\n             \"real_estate\", 70, \"none\", \"own\", 2, \"management_self-employed\", 1, \"none\", \"yes\"]\n        ]\n\n\nrequest_data = {'fields': feature_columns, 'values': values}\n\nheader = {'Content-Type': 'application/json'}\nscoring_url = subscription.get_details()['entity']['deployments'][0]['scoring_endpoint']['url']\n\nstart_time = time.time()\nresponse = requests.post(scoring_url, json=request_data, headers=header)\nresponse_time = int((time.time() - start_time)*1000)\n\nresponse_data = response.json()\nprint('Response: ' + str(response_data))"
        }, 
        {
            "source": "### 4.2 Store the request and response in payload logging table", 
            "cell_type": "markdown", 
            "metadata": {}
        }, 
        {
            "source": "#### Using Python SDK", 
            "cell_type": "markdown", 
            "metadata": {}
        }, 
        {
            "source": "**Hint:** You can embed payload logging code into your custom deployment so it is logged automatically each time you score the model.", 
            "cell_type": "markdown", 
            "metadata": {}
        }, 
        {
            "execution_count": 32, 
            "cell_type": "code", 
            "metadata": {}, 
            "outputs": [], 
            "source": "records_list = [PayloadRecord(request=request_data, response=response_data, response_time=response_time), \n                PayloadRecord(request=request_data, response=response_data, response_time=response_time)]\n\nfor i in range(1, 10):\n    records_list.append(PayloadRecord(request=request_data, response=response_data, response_time=response_time))\n\nsubscription.payload_logging.store(records=records_list)"
        }, 
        {
            "source": "#### Using REST API", 
            "cell_type": "markdown", 
            "metadata": {}
        }, 
        {
            "source": "Get the token first.", 
            "cell_type": "markdown", 
            "metadata": {}
        }, 
        {
            "execution_count": 33, 
            "cell_type": "code", 
            "metadata": {}, 
            "outputs": [], 
            "source": "token_endpoint = \"https://iam.bluemix.net/identity/token\"\nheaders = {\n    \"Content-Type\": \"application/x-www-form-urlencoded\",\n    \"Accept\": \"application/json\"\n}\n\ndata = {\n    \"grant_type\":\"urn:ibm:params:oauth:grant-type:apikey\",\n    \"apikey\":AIOS_CREDENTIALS[\"apikey\"]\n}\n\nreq = requests.post(token_endpoint, data=data, headers=headers)\ntoken = req.json()['access_token']"
        }, 
        {
            "source": "Store the payload.", 
            "cell_type": "markdown", 
            "metadata": {}
        }, 
        {
            "execution_count": 34, 
            "cell_type": "code", 
            "metadata": {}, 
            "outputs": [
                {
                    "output_type": "stream", 
                    "name": "stdout", 
                    "text": "Request OK: True\n"
                }
            ], 
            "source": "import requests, uuid\n\nPAYLOAD_STORING_HREF_PATTERN = '{}/v1/data_marts/{}/scoring_payloads'\nendpoint = PAYLOAD_STORING_HREF_PATTERN.format(AIOS_CREDENTIALS['url'], AIOS_CREDENTIALS['data_mart_id'])\n\npayload = [{\n    'binding_id': binding_uid, \n    'deployment_id': subscription.get_details()['entity']['deployments'][0]['deployment_id'], \n    'subscription_id': subscription.uid, \n    'scoring_id': str(uuid.uuid4()), \n    'response': response_data,\n    'request': request_data\n}]\n\n\nheaders = {\"Authorization\": \"Bearer \" + token}\n      \nreq_response = requests.post(endpoint, json=payload, headers = headers)\n\nprint(\"Request OK: \" + str(req_response.ok))"
        }, 
        {
            "source": "<a id=\"feedback\"></a>\n## 5. Feedback logging & quality (accuracy) monitoring", 
            "cell_type": "markdown", 
            "metadata": {}
        }, 
        {
            "source": "### Enable quality monitoring", 
            "cell_type": "markdown", 
            "metadata": {}
        }, 
        {
            "source": "You need to provide the monitoring `threshold` and `min_records` (minimal number of feedback records).", 
            "cell_type": "markdown", 
            "metadata": {}
        }, 
        {
            "execution_count": 35, 
            "cell_type": "code", 
            "metadata": {}, 
            "outputs": [], 
            "source": "subscription.quality_monitoring.enable(threshold=0.7, min_records=10)"
        }, 
        {
            "source": "### Feedback records logging", 
            "cell_type": "markdown", 
            "metadata": {}
        }, 
        {
            "source": "Feedback records are used to evaluate your model. The predicted values are compared to real values (feedback records).", 
            "cell_type": "markdown", 
            "metadata": {}
        }, 
        {
            "source": "You can check the schema of feedback table using below method.", 
            "cell_type": "markdown", 
            "metadata": {}
        }, 
        {
            "execution_count": 36, 
            "cell_type": "code", 
            "metadata": {}, 
            "outputs": [
                {
                    "output_type": "display_data", 
                    "data": {
                        "text/html": "<HTML>\n        <body>\n            <h3>Schema of Feedback_credit</h3>\n            <table style='border: 1px solid #dddddd; font-family: Courier'>\n                <th style='border: 1px solid #dddddd'>name</th><th style='border: 1px solid #dddddd'>type</th><th style='border: 1px solid #dddddd'>nullable</th>\n                <tr><td style='border: 1px solid #dddddd'>CheckingStatus</td><td style='border: 1px solid #dddddd'>string</td><td style='border: 1px solid #dddddd'>True</td></tr><tr><td style='border: 1px solid #dddddd'>LoanDuration</td><td style='border: 1px solid #dddddd'>integer</td><td style='border: 1px solid #dddddd'>True</td></tr><tr><td style='border: 1px solid #dddddd'>CreditHistory</td><td style='border: 1px solid #dddddd'>string</td><td style='border: 1px solid #dddddd'>True</td></tr><tr><td style='border: 1px solid #dddddd'>LoanPurpose</td><td style='border: 1px solid #dddddd'>string</td><td style='border: 1px solid #dddddd'>True</td></tr><tr><td style='border: 1px solid #dddddd'>LoanAmount</td><td style='border: 1px solid #dddddd'>integer</td><td style='border: 1px solid #dddddd'>True</td></tr><tr><td style='border: 1px solid #dddddd'>ExistingSavings</td><td style='border: 1px solid #dddddd'>string</td><td style='border: 1px solid #dddddd'>True</td></tr><tr><td style='border: 1px solid #dddddd'>EmploymentDuration</td><td style='border: 1px solid #dddddd'>string</td><td style='border: 1px solid #dddddd'>True</td></tr><tr><td style='border: 1px solid #dddddd'>InstallmentPercent</td><td style='border: 1px solid #dddddd'>integer</td><td style='border: 1px solid #dddddd'>True</td></tr><tr><td style='border: 1px solid #dddddd'>Sex</td><td style='border: 1px solid #dddddd'>string</td><td style='border: 1px solid #dddddd'>True</td></tr><tr><td style='border: 1px solid #dddddd'>OthersOnLoan</td><td style='border: 1px solid #dddddd'>string</td><td style='border: 1px solid #dddddd'>True</td></tr><tr><td style='border: 1px solid #dddddd'>CurrentResidenceDuration</td><td style='border: 1px solid #dddddd'>integer</td><td style='border: 1px solid #dddddd'>True</td></tr><tr><td style='border: 1px solid #dddddd'>OwnsProperty</td><td style='border: 1px solid #dddddd'>string</td><td style='border: 1px solid #dddddd'>True</td></tr><tr><td style='border: 1px solid #dddddd'>Age</td><td style='border: 1px solid #dddddd'>integer</td><td style='border: 1px solid #dddddd'>True</td></tr><tr><td style='border: 1px solid #dddddd'>InstallmentPlans</td><td style='border: 1px solid #dddddd'>string</td><td style='border: 1px solid #dddddd'>True</td></tr><tr><td style='border: 1px solid #dddddd'>Housing</td><td style='border: 1px solid #dddddd'>string</td><td style='border: 1px solid #dddddd'>True</td></tr><tr><td style='border: 1px solid #dddddd'>ExistingCreditsCount</td><td style='border: 1px solid #dddddd'>integer</td><td style='border: 1px solid #dddddd'>True</td></tr><tr><td style='border: 1px solid #dddddd'>Job</td><td style='border: 1px solid #dddddd'>string</td><td style='border: 1px solid #dddddd'>True</td></tr><tr><td style='border: 1px solid #dddddd'>Dependents</td><td style='border: 1px solid #dddddd'>integer</td><td style='border: 1px solid #dddddd'>True</td></tr><tr><td style='border: 1px solid #dddddd'>Telephone</td><td style='border: 1px solid #dddddd'>string</td><td style='border: 1px solid #dddddd'>True</td></tr><tr><td style='border: 1px solid #dddddd'>ForeignWorker</td><td style='border: 1px solid #dddddd'>string</td><td style='border: 1px solid #dddddd'>True</td></tr><tr><td style='border: 1px solid #dddddd'>Risk</td><td style='border: 1px solid #dddddd'>string</td><td style='border: 1px solid #dddddd'>True</td></tr><tr><td style='border: 1px solid #dddddd'>_training</td><td style='border: 1px solid #dddddd'>timestamp</td><td style='border: 1px solid #dddddd'>False</td></tr>\n            </table>\n        </body>\n        </HTML>", 
                        "text/plain": "<IPython.core.display.HTML object>"
                    }, 
                    "metadata": {}
                }
            ], 
            "source": "subscription.feedback_logging.print_table_schema()"
        }, 
        {
            "source": "The feedback records can be send to feedback table using below code.", 
            "cell_type": "markdown", 
            "metadata": {}
        }, 
        {
            "execution_count": 37, 
            "cell_type": "code", 
            "metadata": {}, 
            "outputs": [], 
            "source": "records = []\n\nfields = feature_columns.copy()\nfields.append('Risk')\n\nfor i in range(1,20):\n    records.append([\"0_to_200\", 18, \"outstanding_credit\", \"car_new\", 884, \"less_100\", \"greater_7\", 4, \"male\", \"none\", 4, \"car_other\", 36, \"bank\", \"own\", 1, \"skilled\", 2, \"yes\", \"yes\", \"Risk\"])\n\nsubscription.feedback_logging.store(feedback_data=records, fields=fields)"
        }, 
        {
            "source": "### Run quality monitoring on demand", 
            "cell_type": "markdown", 
            "metadata": {}
        }, 
        {
            "source": "By default, quality monitoring is run on hourly schedule. You can also trigger it on demand using below code.", 
            "cell_type": "markdown", 
            "metadata": {}
        }, 
        {
            "execution_count": 38, 
            "cell_type": "code", 
            "metadata": {}, 
            "outputs": [
                {
                    "output_type": "stream", 
                    "name": "stdout", 
                    "text": "\n\n================================================================================\n\n Waiting for end of quality monitoring run 60cabade-90b4-4575-b7df-d4e47cb0efa6 \n\n================================================================================\n\n\n\ninitializing\ncompleted\n\n---------------------------\n Successfully finished run \n---------------------------\n\n\n"
                }
            ], 
            "source": "run_details = subscription.quality_monitoring.run(background_mode=False)"
        }, 
        {
            "source": "### Show the quality metrics", 
            "cell_type": "markdown", 
            "metadata": {}
        }, 
        {
            "execution_count": 39, 
            "cell_type": "code", 
            "metadata": {}, 
            "outputs": [
                {
                    "output_type": "display_data", 
                    "data": {
                        "text/html": "<HTML>\n        <body>\n            <h3>QualityMetrics (binding_id=6c646985-8a93-48e0-911f-37bfc661e03e, subscription_id=credit)</h3>\n            <table style='border: 1px solid #dddddd; font-family: Courier'>\n                <th style='border: 1px solid #dddddd'>ts</th><th style='border: 1px solid #dddddd'>quality</th><th style='border: 1px solid #dddddd'>quality_threshold</th><th style='border: 1px solid #dddddd'>binding_id</th><th style='border: 1px solid #dddddd'>subscription_id</th><th style='border: 1px solid #dddddd'>deployment_id</th><th style='border: 1px solid #dddddd'>process</th><th style='border: 1px solid #dddddd'>asset_revision</th>\n                <tr><td style='border: 1px solid #dddddd'>2019-02-06 14:41:51.847000+00:00</td><td style='border: 1px solid #dddddd'>1.0</td><td style='border: 1px solid #dddddd'>0.7</td><td style='border: 1px solid #dddddd'>6c646985-8a93-48e0-911f-37bfc661e03e</td><td style='border: 1px solid #dddddd'>credit</td><td style='border: 1px solid #dddddd'>german_credit_risk</td><td style='border: 1px solid #dddddd'>Accuracy_evaluation_60cabade-90b4-4575-b7df-d4e47cb0efa6</td><td style='border: 1px solid #dddddd'></td></tr>\n            </table>\n        </body>\n        </HTML>", 
                        "text/plain": "<IPython.core.display.HTML object>"
                    }, 
                    "metadata": {}
                }
            ], 
            "source": "subscription.quality_monitoring.show_table()"
        }, 
        {
            "source": "Get all calculated metrics.", 
            "cell_type": "markdown", 
            "metadata": {}
        }, 
        {
            "execution_count": 40, 
            "cell_type": "code", 
            "metadata": {}, 
            "outputs": [
                {
                    "execution_count": 40, 
                    "metadata": {}, 
                    "data": {
                        "text/plain": "{'end': '2019-02-06T14:42:02.532324Z',\n 'metrics': [{'process': 'Accuracy_evaluation_60cabade-90b4-4575-b7df-d4e47cb0efa6',\n   'timestamp': '2019-02-06T14:41:51.847Z',\n   'value': {'metrics': [{'name': 'areaUnderROC', 'value': 1.0},\n     {'name': 'areaUnderPR', 'value': 1.0}],\n    'quality': 1.0,\n    'threshold': 0.7}}],\n 'start': '2019-02-06T13:41:35.381Z'}"
                    }, 
                    "output_type": "execute_result"
                }
            ], 
            "source": "subscription.quality_monitoring.get_metrics(deployment_uid='action')"
        }, 
        {
            "source": "#### Get metrics as pandas dataframe", 
            "cell_type": "markdown", 
            "metadata": {}
        }, 
        {
            "execution_count": 41, 
            "cell_type": "code", 
            "metadata": {}, 
            "outputs": [
                {
                    "execution_count": 41, 
                    "metadata": {}, 
                    "data": {
                        "text/html": "<div>\n<style scoped>\n    .dataframe tbody tr th:only-of-type {\n        vertical-align: middle;\n    }\n\n    .dataframe tbody tr th {\n        vertical-align: top;\n    }\n\n    .dataframe thead th {\n        text-align: right;\n    }\n</style>\n<table border=\"1\" class=\"dataframe\">\n  <thead>\n    <tr style=\"text-align: right;\">\n      <th></th>\n      <th>ts</th>\n      <th>quality</th>\n      <th>quality_threshold</th>\n      <th>binding_id</th>\n      <th>subscription_id</th>\n      <th>deployment_id</th>\n      <th>process</th>\n      <th>asset_revision</th>\n    </tr>\n  </thead>\n  <tbody>\n    <tr>\n      <th>0</th>\n      <td>2019-02-06 14:41:51.847000+00:00</td>\n      <td>1.0</td>\n      <td>0.7</td>\n      <td>6c646985-8a93-48e0-911f-37bfc661e03e</td>\n      <td>credit</td>\n      <td>german_credit_risk</td>\n      <td>Accuracy_evaluation_60cabade-90b4-4575-b7df-d4...</td>\n      <td></td>\n    </tr>\n  </tbody>\n</table>\n</div>", 
                        "text/plain": "                                ts  quality  quality_threshold  \\\n0 2019-02-06 14:41:51.847000+00:00      1.0                0.7   \n\n                             binding_id subscription_id       deployment_id  \\\n0  6c646985-8a93-48e0-911f-37bfc661e03e          credit  german_credit_risk   \n\n                                             process asset_revision  \n0  Accuracy_evaluation_60cabade-90b4-4575-b7df-d4...                 "
                    }, 
                    "output_type": "execute_result"
                }
            ], 
            "source": "quality_pd = subscription.quality_monitoring.get_table_content(format='pandas')\nquality_pd"
        }, 
        {
            "source": "Create a bar plot.", 
            "cell_type": "markdown", 
            "metadata": {}
        }, 
        {
            "execution_count": 42, 
            "cell_type": "code", 
            "metadata": {}, 
            "outputs": [
                {
                    "output_type": "display_data", 
                    "data": {
                        "image/png": "[encoded data removed]", 
                        "text/plain": "<matplotlib.figure.Figure at 0x7f603fc602b0>"
                    }, 
                    "metadata": {}
                }
            ], 
            "source": "%matplotlib inline\n\nquality_pd.plot.barh(x='ts', y='quality', color='g', alpha=0.8);"
        }, 
        {
            "source": "<a id=\"fairness\"></a>\n## 6. Fairness monitoring", 
            "cell_type": "markdown", 
            "metadata": {}
        }, 
        {
            "source": "### 6.1 Get training data for fairness monitoring", 
            "cell_type": "markdown", 
            "metadata": {}
        }, 
        {
            "source": "#### Get training data set from git", 
            "cell_type": "markdown", 
            "metadata": {}
        }, 
        {
            "execution_count": 43, 
            "cell_type": "code", 
            "metadata": {}, 
            "outputs": [
                {
                    "output_type": "stream", 
                    "name": "stdout", 
                    "text": "--2019-02-06 14:42:06--  https://raw.githubusercontent.com/pmservice/wml-sample-models/master/spss/credit-risk/data/credit_risk_training.csv\nResolving raw.githubusercontent.com (raw.githubusercontent.com)... 151.101.48.133\nConnecting to raw.githubusercontent.com (raw.githubusercontent.com)|151.101.48.133|:443... connected.\nHTTP request sent, awaiting response... 200 OK\nLength: 694222 (678K) [text/plain]\nSaving to: \u2018credit_risk_training.csv\u2019\n\n100%[======================================>] 694,222     --.-K/s   in 0.03s   \n\n2019-02-06 14:42:07 (21.9 MB/s) - \u2018credit_risk_training.csv\u2019 saved [694222/694222]\n\n"
                }
            ], 
            "source": "!wget https://raw.githubusercontent.com/pmservice/wml-sample-models/master/spss/credit-risk/data/credit_risk_training.csv"
        }, 
        {
            "execution_count": 44, 
            "cell_type": "code", 
            "metadata": {}, 
            "outputs": [], 
            "source": "data_df = pd.read_csv(\"credit_risk_training.csv\",\n                    dtype={'LoanDuration': int, 'LoanAmount': int, 'InstallmentPercent': int, 'CurrentResidenceDuration': int, 'Age': int, 'ExistingCreditsCount': int, 'Dependents': int})"
        }, 
        {
            "source": "### 6.2 Enable and run fairness monitoring", 
            "cell_type": "markdown", 
            "metadata": {}
        }, 
        {
            "execution_count": 45, 
            "cell_type": "code", 
            "metadata": {}, 
            "outputs": [
                {
                    "output_type": "stream", 
                    "name": "stdout", 
                    "text": "Total Rows retrieved 5000\n"
                }
            ], 
            "source": "from ibm_ai_openscale.supporting_classes import Feature\n\nsubscription.fairness_monitoring.enable(\n            features=[\n                Feature(\"Sex\", majority=['male'], minority=['female'], threshold=0.95),\n                Feature(\"Age\", majority=[[26, 75]], minority=[[18, 25]], threshold=0.95)\n            ],\n            favourable_classes=['No Risk'],\n            unfavourable_classes=['Risk'],\n            min_records=4,\n            training_data=data_df\n        )"
        }, 
        {
            "execution_count": 60, 
            "cell_type": "code", 
            "metadata": {}, 
            "outputs": [
                {
                    "output_type": "stream", 
                    "name": "stdout", 
                    "text": "\n\n=====================================================\n\n Counting bias for deployment_uid=german_credit_risk \n\n=====================================================\n\n\n\nRUNNING\nFINISHED\n\n---------------------------\n Successfully finished run \n---------------------------\n\n\n"
                }
            ], 
            "source": "fairness_run = subscription.fairness_monitoring.run(background_mode=False)"
        }, 
        {
            "source": "#### Check fairness run results", 
            "cell_type": "markdown", 
            "metadata": {}
        }, 
        {
            "execution_count": 47, 
            "cell_type": "code", 
            "metadata": {}, 
            "outputs": [
                {
                    "output_type": "display_data", 
                    "data": {
                        "text/html": "<HTML>\n        <body>\n            <h3>FairnessMetrics (binding_id=6c646985-8a93-48e0-911f-37bfc661e03e, subscription_id=credit)</h3>\n            <table style='border: 1px solid #dddddd; font-family: Courier'>\n                <th style='border: 1px solid #dddddd'>ts</th><th style='border: 1px solid #dddddd'>feature</th><th style='border: 1px solid #dddddd'>feature_value</th><th style='border: 1px solid #dddddd'>fairness_biased</th><th style='border: 1px solid #dddddd'>fairness_value</th><th style='border: 1px solid #dddddd'>fairness_fav_class</th><th style='border: 1px solid #dddddd'>binding_id</th><th style='border: 1px solid #dddddd'>subscription_id</th><th style='border: 1px solid #dddddd'>asset_revision</th><th style='border: 1px solid #dddddd'>deployment_id</th><th style='border: 1px solid #dddddd'>process</th>\n                <tr><td style='border: 1px solid #dddddd'>2019-02-06 14:43:12.487914+00:00</td><td style='border: 1px solid #dddddd'>Sex</td><td style='border: 1px solid #dddddd'>female</td><td style='border: 1px solid #dddddd'>False</td><td style='border: 1px solid #dddddd'>1.0</td><td style='border: 1px solid #dddddd'>100.0</td><td style='border: 1px solid #dddddd'>6c646985-8a93-48e0-911f-37bfc661e03e</td><td style='border: 1px solid #dddddd'>credit</td><td style='border: 1px solid #dddddd'>credit</td><td style='border: 1px solid #dddddd'>german_credit_risk</td><td style='border: 1px solid #dddddd'></td></tr><tr><td style='border: 1px solid #dddddd'>2019-02-06 14:43:12.487914+00:00</td><td style='border: 1px solid #dddddd'>Age</td><td style='border: 1px solid #dddddd'>[18, 25]</td><td style='border: 1px solid #dddddd'>False</td><td style='border: 1px solid #dddddd'>1.0</td><td style='border: 1px solid #dddddd'>100.0</td><td style='border: 1px solid #dddddd'>6c646985-8a93-48e0-911f-37bfc661e03e</td><td style='border: 1px solid #dddddd'>credit</td><td style='border: 1px solid #dddddd'>credit</td><td style='border: 1px solid #dddddd'>german_credit_risk</td><td style='border: 1px solid #dddddd'></td></tr>\n            </table>\n        </body>\n        </HTML>", 
                        "text/plain": "<IPython.core.display.HTML object>"
                    }, 
                    "metadata": {}
                }
            ], 
            "source": "subscription.fairness_monitoring.show_table()"
        }, 
        {
            "source": "<a id=\"datamart\"></a>\n## 7. Working with data mart", 
            "cell_type": "markdown", 
            "metadata": {}
        }, 
        {
            "source": "### 6.1 Payload logging", 
            "cell_type": "markdown", 
            "metadata": {}
        }, 
        {
            "source": "#### Print schema of payload_logging table", 
            "cell_type": "markdown", 
            "metadata": {}
        }, 
        {
            "execution_count": 48, 
            "cell_type": "code", 
            "metadata": {}, 
            "outputs": [
                {
                    "output_type": "display_data", 
                    "data": {
                        "text/html": "<HTML>\n        <body>\n            <h3>Schema of Payload_credit</h3>\n            <table style='border: 1px solid #dddddd; font-family: Courier'>\n                <th style='border: 1px solid #dddddd'>name</th><th style='border: 1px solid #dddddd'>type</th><th style='border: 1px solid #dddddd'>nullable</th>\n                <tr><td style='border: 1px solid #dddddd'>scoring_id</td><td style='border: 1px solid #dddddd'>string</td><td style='border: 1px solid #dddddd'>True</td></tr><tr><td style='border: 1px solid #dddddd'>scoring_timestamp</td><td style='border: 1px solid #dddddd'>timestamp</td><td style='border: 1px solid #dddddd'>True</td></tr><tr><td style='border: 1px solid #dddddd'>deployment_id</td><td style='border: 1px solid #dddddd'>string</td><td style='border: 1px solid #dddddd'>True</td></tr><tr><td style='border: 1px solid #dddddd'>asset_revision</td><td style='border: 1px solid #dddddd'>string</td><td style='border: 1px solid #dddddd'>True</td></tr><tr><td style='border: 1px solid #dddddd'>CheckingStatus</td><td style='border: 1px solid #dddddd'>string</td><td style='border: 1px solid #dddddd'>True</td></tr><tr><td style='border: 1px solid #dddddd'>LoanDuration</td><td style='border: 1px solid #dddddd'>integer</td><td style='border: 1px solid #dddddd'>True</td></tr><tr><td style='border: 1px solid #dddddd'>CreditHistory</td><td style='border: 1px solid #dddddd'>string</td><td style='border: 1px solid #dddddd'>True</td></tr><tr><td style='border: 1px solid #dddddd'>LoanPurpose</td><td style='border: 1px solid #dddddd'>string</td><td style='border: 1px solid #dddddd'>True</td></tr><tr><td style='border: 1px solid #dddddd'>LoanAmount</td><td style='border: 1px solid #dddddd'>integer</td><td style='border: 1px solid #dddddd'>True</td></tr><tr><td style='border: 1px solid #dddddd'>ExistingSavings</td><td style='border: 1px solid #dddddd'>string</td><td style='border: 1px solid #dddddd'>True</td></tr><tr><td style='border: 1px solid #dddddd'>EmploymentDuration</td><td style='border: 1px solid #dddddd'>string</td><td style='border: 1px solid #dddddd'>True</td></tr><tr><td style='border: 1px solid #dddddd'>InstallmentPercent</td><td style='border: 1px solid #dddddd'>integer</td><td style='border: 1px solid #dddddd'>True</td></tr><tr><td style='border: 1px solid #dddddd'>Sex</td><td style='border: 1px solid #dddddd'>string</td><td style='border: 1px solid #dddddd'>True</td></tr><tr><td style='border: 1px solid #dddddd'>OthersOnLoan</td><td style='border: 1px solid #dddddd'>string</td><td style='border: 1px solid #dddddd'>True</td></tr><tr><td style='border: 1px solid #dddddd'>CurrentResidenceDuration</td><td style='border: 1px solid #dddddd'>integer</td><td style='border: 1px solid #dddddd'>True</td></tr><tr><td style='border: 1px solid #dddddd'>OwnsProperty</td><td style='border: 1px solid #dddddd'>string</td><td style='border: 1px solid #dddddd'>True</td></tr><tr><td style='border: 1px solid #dddddd'>Age</td><td style='border: 1px solid #dddddd'>integer</td><td style='border: 1px solid #dddddd'>True</td></tr><tr><td style='border: 1px solid #dddddd'>InstallmentPlans</td><td style='border: 1px solid #dddddd'>string</td><td style='border: 1px solid #dddddd'>True</td></tr><tr><td style='border: 1px solid #dddddd'>Housing</td><td style='border: 1px solid #dddddd'>string</td><td style='border: 1px solid #dddddd'>True</td></tr><tr><td style='border: 1px solid #dddddd'>ExistingCreditsCount</td><td style='border: 1px solid #dddddd'>integer</td><td style='border: 1px solid #dddddd'>True</td></tr><tr><td style='border: 1px solid #dddddd'>Job</td><td style='border: 1px solid #dddddd'>string</td><td style='border: 1px solid #dddddd'>True</td></tr><tr><td style='border: 1px solid #dddddd'>Dependents</td><td style='border: 1px solid #dddddd'>integer</td><td style='border: 1px solid #dddddd'>True</td></tr><tr><td style='border: 1px solid #dddddd'>Telephone</td><td style='border: 1px solid #dddddd'>string</td><td style='border: 1px solid #dddddd'>True</td></tr><tr><td style='border: 1px solid #dddddd'>ForeignWorker</td><td style='border: 1px solid #dddddd'>string</td><td style='border: 1px solid #dddddd'>True</td></tr><tr><td style='border: 1px solid #dddddd'>prediction</td><td style='border: 1px solid #dddddd'>string</td><td style='border: 1px solid #dddddd'>True</td></tr><tr><td style='border: 1px solid #dddddd'>probability</td><td style='border: 1px solid #dddddd'>{'containsNull': True, 'elementType': 'double', 'type': 'array'}</td><td style='border: 1px solid #dddddd'>True</td></tr><tr><td style='border: 1px solid #dddddd'>debiased_probability</td><td style='border: 1px solid #dddddd'>{'containsNull': True, 'elementType': 'double', 'type': 'array'}</td><td style='border: 1px solid #dddddd'>True</td></tr><tr><td style='border: 1px solid #dddddd'>debiased_decoded_target</td><td style='border: 1px solid #dddddd'>string</td><td style='border: 1px solid #dddddd'>True</td></tr>\n            </table>\n        </body>\n        </HTML>", 
                        "text/plain": "<IPython.core.display.HTML object>"
                    }, 
                    "metadata": {}
                }
            ], 
            "source": "subscription.payload_logging.print_table_schema()"
        }, 
        {
            "source": "#### Show (preview) the table", 
            "cell_type": "markdown", 
            "metadata": {}
        }, 
        {
            "execution_count": 49, 
            "cell_type": "code", 
            "metadata": {}, 
            "outputs": [
                {
                    "output_type": "stream", 
                    "name": "stdout", 
                    "text": "       LoanDuration   LoanAmount  InstallmentPercent  \\\ncount     72.000000    72.000000           72.000000   \nmean      20.125000  2161.750000            2.750000   \nstd       13.085781  1840.315816            0.834975   \nmin        4.000000   250.000000            2.000000   \n25%       13.000000   855.250000            2.000000   \n50%       15.500000  1359.000000            2.500000   \n75%       24.500000  2917.750000            3.250000   \nmax       50.000000  5696.000000            4.000000   \n\n       CurrentResidenceDuration       Age  ExistingCreditsCount  Dependents  \ncount                 72.000000  72.00000             72.000000        72.0  \nmean                   3.000000  42.62500              1.500000         1.0  \nstd                    0.712069  16.25279              0.503509         0.0  \nmin                    2.000000  23.00000              1.000000         1.0  \n25%                    2.750000  28.00000              1.000000         1.0  \n50%                    3.000000  40.00000              1.500000         1.0  \n75%                    3.250000  55.50000              2.000000         1.0  \nmax                    4.000000  70.00000              2.000000         1.0  \n"
                }
            ], 
            "source": "subscription.payload_logging.describe_table()"
        }, 
        {
            "source": "#### Return the table content as pandas dataframe", 
            "cell_type": "markdown", 
            "metadata": {}
        }, 
        {
            "execution_count": 50, 
            "cell_type": "code", 
            "metadata": {}, 
            "outputs": [], 
            "source": "pandas_df = subscription.payload_logging.get_table_content(format='pandas')"
        }, 
        {
            "source": "### 6.2 Feddback logging", 
            "cell_type": "markdown", 
            "metadata": {}
        }, 
        {
            "source": "Check the schema of table.", 
            "cell_type": "markdown", 
            "metadata": {}
        }, 
        {
            "execution_count": 51, 
            "cell_type": "code", 
            "metadata": {}, 
            "outputs": [
                {
                    "output_type": "display_data", 
                    "data": {
                        "text/html": "<HTML>\n        <body>\n            <h3>Schema of Feedback_credit</h3>\n            <table style='border: 1px solid #dddddd; font-family: Courier'>\n                <th style='border: 1px solid #dddddd'>name</th><th style='border: 1px solid #dddddd'>type</th><th style='border: 1px solid #dddddd'>nullable</th>\n                <tr><td style='border: 1px solid #dddddd'>CheckingStatus</td><td style='border: 1px solid #dddddd'>string</td><td style='border: 1px solid #dddddd'>True</td></tr><tr><td style='border: 1px solid #dddddd'>LoanDuration</td><td style='border: 1px solid #dddddd'>integer</td><td style='border: 1px solid #dddddd'>True</td></tr><tr><td style='border: 1px solid #dddddd'>CreditHistory</td><td style='border: 1px solid #dddddd'>string</td><td style='border: 1px solid #dddddd'>True</td></tr><tr><td style='border: 1px solid #dddddd'>LoanPurpose</td><td style='border: 1px solid #dddddd'>string</td><td style='border: 1px solid #dddddd'>True</td></tr><tr><td style='border: 1px solid #dddddd'>LoanAmount</td><td style='border: 1px solid #dddddd'>integer</td><td style='border: 1px solid #dddddd'>True</td></tr><tr><td style='border: 1px solid #dddddd'>ExistingSavings</td><td style='border: 1px solid #dddddd'>string</td><td style='border: 1px solid #dddddd'>True</td></tr><tr><td style='border: 1px solid #dddddd'>EmploymentDuration</td><td style='border: 1px solid #dddddd'>string</td><td style='border: 1px solid #dddddd'>True</td></tr><tr><td style='border: 1px solid #dddddd'>InstallmentPercent</td><td style='border: 1px solid #dddddd'>integer</td><td style='border: 1px solid #dddddd'>True</td></tr><tr><td style='border: 1px solid #dddddd'>Sex</td><td style='border: 1px solid #dddddd'>string</td><td style='border: 1px solid #dddddd'>True</td></tr><tr><td style='border: 1px solid #dddddd'>OthersOnLoan</td><td style='border: 1px solid #dddddd'>string</td><td style='border: 1px solid #dddddd'>True</td></tr><tr><td style='border: 1px solid #dddddd'>CurrentResidenceDuration</td><td style='border: 1px solid #dddddd'>integer</td><td style='border: 1px solid #dddddd'>True</td></tr><tr><td style='border: 1px solid #dddddd'>OwnsProperty</td><td style='border: 1px solid #dddddd'>string</td><td style='border: 1px solid #dddddd'>True</td></tr><tr><td style='border: 1px solid #dddddd'>Age</td><td style='border: 1px solid #dddddd'>integer</td><td style='border: 1px solid #dddddd'>True</td></tr><tr><td style='border: 1px solid #dddddd'>InstallmentPlans</td><td style='border: 1px solid #dddddd'>string</td><td style='border: 1px solid #dddddd'>True</td></tr><tr><td style='border: 1px solid #dddddd'>Housing</td><td style='border: 1px solid #dddddd'>string</td><td style='border: 1px solid #dddddd'>True</td></tr><tr><td style='border: 1px solid #dddddd'>ExistingCreditsCount</td><td style='border: 1px solid #dddddd'>integer</td><td style='border: 1px solid #dddddd'>True</td></tr><tr><td style='border: 1px solid #dddddd'>Job</td><td style='border: 1px solid #dddddd'>string</td><td style='border: 1px solid #dddddd'>True</td></tr><tr><td style='border: 1px solid #dddddd'>Dependents</td><td style='border: 1px solid #dddddd'>integer</td><td style='border: 1px solid #dddddd'>True</td></tr><tr><td style='border: 1px solid #dddddd'>Telephone</td><td style='border: 1px solid #dddddd'>string</td><td style='border: 1px solid #dddddd'>True</td></tr><tr><td style='border: 1px solid #dddddd'>ForeignWorker</td><td style='border: 1px solid #dddddd'>string</td><td style='border: 1px solid #dddddd'>True</td></tr><tr><td style='border: 1px solid #dddddd'>Risk</td><td style='border: 1px solid #dddddd'>string</td><td style='border: 1px solid #dddddd'>True</td></tr><tr><td style='border: 1px solid #dddddd'>_training</td><td style='border: 1px solid #dddddd'>timestamp</td><td style='border: 1px solid #dddddd'>False</td></tr>\n            </table>\n        </body>\n        </HTML>", 
                        "text/plain": "<IPython.core.display.HTML object>"
                    }, 
                    "metadata": {}
                }
            ], 
            "source": "subscription.feedback_logging.print_table_schema()"
        }, 
        {
            "source": "Preview table content.", 
            "cell_type": "markdown", 
            "metadata": {}
        }, 
        {
            "execution_count": 52, 
            "cell_type": "code", 
            "metadata": {}, 
            "outputs": [
                {
                    "output_type": "display_data", 
                    "data": {
                        "text/html": "<HTML>\n        <body>\n            <h3>Feedback_credit (binding_id=6c646985-8a93-48e0-911f-37bfc661e03e, subscription_id=credit)</h3>\n            <table style='border: 1px solid #dddddd; font-family: Courier'>\n                <th style='border: 1px solid #dddddd'>CheckingStatus</th><th style='border: 1px solid #dddddd'>LoanDuration</th><th style='border: 1px solid #dddddd'>CreditHistory</th><th style='border: 1px solid #dddddd'>LoanPurpose</th><th style='border: 1px solid #dddddd'>LoanAmount</th><th style='border: 1px solid #dddddd'>ExistingSavings</th><th style='border: 1px solid #dddddd'>EmploymentDuration</th><th style='border: 1px solid #dddddd'>InstallmentPercent</th><th style='border: 1px solid #dddddd'>Sex</th><th style='border: 1px solid #dddddd'>OthersOnLoan</th><th style='border: 1px solid #dddddd'>CurrentResidenceDuration</th><th style='border: 1px solid #dddddd'>OwnsProperty</th><th style='border: 1px solid #dddddd'>Age</th><th style='border: 1px solid #dddddd'>InstallmentPlans</th><th style='border: 1px solid #dddddd'>Housing</th><th style='border: 1px solid #dddddd'>ExistingCreditsCount</th><th style='border: 1px solid #dddddd'>Job</th><th style='border: 1px solid #dddddd'>Dependents</th><th style='border: 1px solid #dddddd'>Telephone</th><th style='border: 1px solid #dddddd'>ForeignWorker</th><th style='border: 1px solid #dddddd'>Risk</th><th style='border: 1px solid #dddddd'>_training</th>\n                <tr><td style='border: 1px solid #dddddd'>0_to_200</td><td style='border: 1px solid #dddddd'>18</td><td style='border: 1px solid #dddddd'>outstanding_credit</td><td style='border: 1px solid #dddddd'>car_new</td><td style='border: 1px solid #dddddd'>884</td><td style='border: 1px solid #dddddd'>less_100</td><td style='border: 1px solid #dddddd'>greater_7</td><td style='border: 1px solid #dddddd'>4</td><td style='border: 1px solid #dddddd'>male</td><td style='border: 1px solid #dddddd'>none</td><td style='border: 1px solid #dddddd'>4</td><td style='border: 1px solid #dddddd'>car_other</td><td style='border: 1px solid #dddddd'>36</td><td style='border: 1px solid #dddddd'>bank</td><td style='border: 1px solid #dddddd'>own</td><td style='border: 1px solid #dddddd'>1</td><td style='border: 1px solid #dddddd'>skilled</td><td style='border: 1px solid #dddddd'>2</td><td style='border: 1px solid #dddddd'>yes</td><td style='border: 1px solid #dddddd'>yes</td><td style='border: 1px solid #dddddd'>Risk</td><td style='border: 1px solid #dddddd'>2019-02-06 14:41:51.162000+00:00</td></tr><tr><td style='border: 1px solid #dddddd'>0_to_200</td><td style='border: 1px solid #dddddd'>18</td><td style='border: 1px solid #dddddd'>outstanding_credit</td><td style='border: 1px solid #dddddd'>car_new</td><td style='border: 1px solid #dddddd'>884</td><td style='border: 1px solid #dddddd'>less_100</td><td style='border: 1px solid #dddddd'>greater_7</td><td style='border: 1px solid #dddddd'>4</td><td style='border: 1px solid #dddddd'>male</td><td style='border: 1px solid #dddddd'>none</td><td style='border: 1px solid #dddddd'>4</td><td style='border: 1px solid #dddddd'>car_other</td><td style='border: 1px solid #dddddd'>36</td><td style='border: 1px solid #dddddd'>bank</td><td style='border: 1px solid #dddddd'>own</td><td style='border: 1px solid #dddddd'>1</td><td style='border: 1px solid #dddddd'>skilled</td><td style='border: 1px solid #dddddd'>2</td><td style='border: 1px solid #dddddd'>yes</td><td style='border: 1px solid #dddddd'>yes</td><td style='border: 1px solid #dddddd'>Risk</td><td style='border: 1px solid #dddddd'>2019-02-06 14:41:51.162000+00:00</td></tr><tr><td style='border: 1px solid #dddddd'>0_to_200</td><td style='border: 1px solid #dddddd'>18</td><td style='border: 1px solid #dddddd'>outstanding_credit</td><td style='border: 1px solid #dddddd'>car_new</td><td style='border: 1px solid #dddddd'>884</td><td style='border: 1px solid #dddddd'>less_100</td><td style='border: 1px solid #dddddd'>greater_7</td><td style='border: 1px solid #dddddd'>4</td><td style='border: 1px solid #dddddd'>male</td><td style='border: 1px solid #dddddd'>none</td><td style='border: 1px solid #dddddd'>4</td><td style='border: 1px solid #dddddd'>car_other</td><td style='border: 1px solid #dddddd'>36</td><td style='border: 1px solid #dddddd'>bank</td><td style='border: 1px solid #dddddd'>own</td><td style='border: 1px solid #dddddd'>1</td><td style='border: 1px solid #dddddd'>skilled</td><td style='border: 1px solid #dddddd'>2</td><td style='border: 1px solid #dddddd'>yes</td><td style='border: 1px solid #dddddd'>yes</td><td style='border: 1px solid #dddddd'>Risk</td><td style='border: 1px solid #dddddd'>2019-02-06 14:41:51.162000+00:00</td></tr><tr><td style='border: 1px solid #dddddd'>0_to_200</td><td style='border: 1px solid #dddddd'>18</td><td style='border: 1px solid #dddddd'>outstanding_credit</td><td style='border: 1px solid #dddddd'>car_new</td><td style='border: 1px solid #dddddd'>884</td><td style='border: 1px solid #dddddd'>less_100</td><td style='border: 1px solid #dddddd'>greater_7</td><td style='border: 1px solid #dddddd'>4</td><td style='border: 1px solid #dddddd'>male</td><td style='border: 1px solid #dddddd'>none</td><td style='border: 1px solid #dddddd'>4</td><td style='border: 1px solid #dddddd'>car_other</td><td style='border: 1px solid #dddddd'>36</td><td style='border: 1px solid #dddddd'>bank</td><td style='border: 1px solid #dddddd'>own</td><td style='border: 1px solid #dddddd'>1</td><td style='border: 1px solid #dddddd'>skilled</td><td style='border: 1px solid #dddddd'>2</td><td style='border: 1px solid #dddddd'>yes</td><td style='border: 1px solid #dddddd'>yes</td><td style='border: 1px solid #dddddd'>Risk</td><td style='border: 1px solid #dddddd'>2019-02-06 14:41:51.162000+00:00</td></tr><tr><td style='border: 1px solid #dddddd'>0_to_200</td><td style='border: 1px solid #dddddd'>18</td><td style='border: 1px solid #dddddd'>outstanding_credit</td><td style='border: 1px solid #dddddd'>car_new</td><td style='border: 1px solid #dddddd'>884</td><td style='border: 1px solid #dddddd'>less_100</td><td style='border: 1px solid #dddddd'>greater_7</td><td style='border: 1px solid #dddddd'>4</td><td style='border: 1px solid #dddddd'>male</td><td style='border: 1px solid #dddddd'>none</td><td style='border: 1px solid #dddddd'>4</td><td style='border: 1px solid #dddddd'>car_other</td><td style='border: 1px solid #dddddd'>36</td><td style='border: 1px solid #dddddd'>bank</td><td style='border: 1px solid #dddddd'>own</td><td style='border: 1px solid #dddddd'>1</td><td style='border: 1px solid #dddddd'>skilled</td><td style='border: 1px solid #dddddd'>2</td><td style='border: 1px solid #dddddd'>yes</td><td style='border: 1px solid #dddddd'>yes</td><td style='border: 1px solid #dddddd'>Risk</td><td style='border: 1px solid #dddddd'>2019-02-06 14:41:51.162000+00:00</td></tr><tr><td style='border: 1px solid #dddddd'>0_to_200</td><td style='border: 1px solid #dddddd'>18</td><td style='border: 1px solid #dddddd'>outstanding_credit</td><td style='border: 1px solid #dddddd'>car_new</td><td style='border: 1px solid #dddddd'>884</td><td style='border: 1px solid #dddddd'>less_100</td><td style='border: 1px solid #dddddd'>greater_7</td><td style='border: 1px solid #dddddd'>4</td><td style='border: 1px solid #dddddd'>male</td><td style='border: 1px solid #dddddd'>none</td><td style='border: 1px solid #dddddd'>4</td><td style='border: 1px solid #dddddd'>car_other</td><td style='border: 1px solid #dddddd'>36</td><td style='border: 1px solid #dddddd'>bank</td><td style='border: 1px solid #dddddd'>own</td><td style='border: 1px solid #dddddd'>1</td><td style='border: 1px solid #dddddd'>skilled</td><td style='border: 1px solid #dddddd'>2</td><td style='border: 1px solid #dddddd'>yes</td><td style='border: 1px solid #dddddd'>yes</td><td style='border: 1px solid #dddddd'>Risk</td><td style='border: 1px solid #dddddd'>2019-02-06 14:41:51.162000+00:00</td></tr><tr><td style='border: 1px solid #dddddd'>0_to_200</td><td style='border: 1px solid #dddddd'>18</td><td style='border: 1px solid #dddddd'>outstanding_credit</td><td style='border: 1px solid #dddddd'>car_new</td><td style='border: 1px solid #dddddd'>884</td><td style='border: 1px solid #dddddd'>less_100</td><td style='border: 1px solid #dddddd'>greater_7</td><td style='border: 1px solid #dddddd'>4</td><td style='border: 1px solid #dddddd'>male</td><td style='border: 1px solid #dddddd'>none</td><td style='border: 1px solid #dddddd'>4</td><td style='border: 1px solid #dddddd'>car_other</td><td style='border: 1px solid #dddddd'>36</td><td style='border: 1px solid #dddddd'>bank</td><td style='border: 1px solid #dddddd'>own</td><td style='border: 1px solid #dddddd'>1</td><td style='border: 1px solid #dddddd'>skilled</td><td style='border: 1px solid #dddddd'>2</td><td style='border: 1px solid #dddddd'>yes</td><td style='border: 1px solid #dddddd'>yes</td><td style='border: 1px solid #dddddd'>Risk</td><td style='border: 1px solid #dddddd'>2019-02-06 14:41:51.162000+00:00</td></tr><tr><td style='border: 1px solid #dddddd'>0_to_200</td><td style='border: 1px solid #dddddd'>18</td><td style='border: 1px solid #dddddd'>outstanding_credit</td><td style='border: 1px solid #dddddd'>car_new</td><td style='border: 1px solid #dddddd'>884</td><td style='border: 1px solid #dddddd'>less_100</td><td style='border: 1px solid #dddddd'>greater_7</td><td style='border: 1px solid #dddddd'>4</td><td style='border: 1px solid #dddddd'>male</td><td style='border: 1px solid #dddddd'>none</td><td style='border: 1px solid #dddddd'>4</td><td style='border: 1px solid #dddddd'>car_other</td><td style='border: 1px solid #dddddd'>36</td><td style='border: 1px solid #dddddd'>bank</td><td style='border: 1px solid #dddddd'>own</td><td style='border: 1px solid #dddddd'>1</td><td style='border: 1px solid #dddddd'>skilled</td><td style='border: 1px solid #dddddd'>2</td><td style='border: 1px solid #dddddd'>yes</td><td style='border: 1px solid #dddddd'>yes</td><td style='border: 1px solid #dddddd'>Risk</td><td style='border: 1px solid #dddddd'>2019-02-06 14:41:51.162000+00:00</td></tr><tr><td style='border: 1px solid #dddddd'>0_to_200</td><td style='border: 1px solid #dddddd'>18</td><td style='border: 1px solid #dddddd'>outstanding_credit</td><td style='border: 1px solid #dddddd'>car_new</td><td style='border: 1px solid #dddddd'>884</td><td style='border: 1px solid #dddddd'>less_100</td><td style='border: 1px solid #dddddd'>greater_7</td><td style='border: 1px solid #dddddd'>4</td><td style='border: 1px solid #dddddd'>male</td><td style='border: 1px solid #dddddd'>none</td><td style='border: 1px solid #dddddd'>4</td><td style='border: 1px solid #dddddd'>car_other</td><td style='border: 1px solid #dddddd'>36</td><td style='border: 1px solid #dddddd'>bank</td><td style='border: 1px solid #dddddd'>own</td><td style='border: 1px solid #dddddd'>1</td><td style='border: 1px solid #dddddd'>skilled</td><td style='border: 1px solid #dddddd'>2</td><td style='border: 1px solid #dddddd'>yes</td><td style='border: 1px solid #dddddd'>yes</td><td style='border: 1px solid #dddddd'>Risk</td><td style='border: 1px solid #dddddd'>2019-02-06 14:41:51.162000+00:00</td></tr><tr><td style='border: 1px solid #dddddd'>0_to_200</td><td style='border: 1px solid #dddddd'>18</td><td style='border: 1px solid #dddddd'>outstanding_credit</td><td style='border: 1px solid #dddddd'>car_new</td><td style='border: 1px solid #dddddd'>884</td><td style='border: 1px solid #dddddd'>less_100</td><td style='border: 1px solid #dddddd'>greater_7</td><td style='border: 1px solid #dddddd'>4</td><td style='border: 1px solid #dddddd'>male</td><td style='border: 1px solid #dddddd'>none</td><td style='border: 1px solid #dddddd'>4</td><td style='border: 1px solid #dddddd'>car_other</td><td style='border: 1px solid #dddddd'>36</td><td style='border: 1px solid #dddddd'>bank</td><td style='border: 1px solid #dddddd'>own</td><td style='border: 1px solid #dddddd'>1</td><td style='border: 1px solid #dddddd'>skilled</td><td style='border: 1px solid #dddddd'>2</td><td style='border: 1px solid #dddddd'>yes</td><td style='border: 1px solid #dddddd'>yes</td><td style='border: 1px solid #dddddd'>Risk</td><td style='border: 1px solid #dddddd'>2019-02-06 14:41:51.162000+00:00</td></tr>\n            </table>\n        </body>\n        </HTML>", 
                        "text/plain": "<IPython.core.display.HTML object>"
                    }, 
                    "metadata": {}
                }
            ], 
            "source": "subscription.feedback_logging.show_table()"
        }, 
        {
            "source": "Describe table (calulcate basic statistics).", 
            "cell_type": "markdown", 
            "metadata": {}
        }, 
        {
            "execution_count": 53, 
            "cell_type": "code", 
            "metadata": {}, 
            "outputs": [
                {
                    "output_type": "stream", 
                    "name": "stdout", 
                    "text": "       LoanDuration  LoanAmount  InstallmentPercent  CurrentResidenceDuration  \\\ncount          19.0        19.0                19.0                      19.0   \nmean           18.0       884.0                 4.0                       4.0   \nstd             0.0         0.0                 0.0                       0.0   \nmin            18.0       884.0                 4.0                       4.0   \n25%            18.0       884.0                 4.0                       4.0   \n50%            18.0       884.0                 4.0                       4.0   \n75%            18.0       884.0                 4.0                       4.0   \nmax            18.0       884.0                 4.0                       4.0   \n\n        Age  ExistingCreditsCount  Dependents  \ncount  19.0                  19.0        19.0  \nmean   36.0                   1.0         2.0  \nstd     0.0                   0.0         0.0  \nmin    36.0                   1.0         2.0  \n25%    36.0                   1.0         2.0  \n50%    36.0                   1.0         2.0  \n75%    36.0                   1.0         2.0  \nmax    36.0                   1.0         2.0  \n"
                }
            ], 
            "source": "subscription.feedback_logging.describe_table()"
        }, 
        {
            "source": "Get table content.", 
            "cell_type": "markdown", 
            "metadata": {}
        }, 
        {
            "execution_count": 54, 
            "cell_type": "code", 
            "metadata": {}, 
            "outputs": [], 
            "source": "feedback_pd = subscription.feedback_logging.get_table_content(format='pandas')"
        }, 
        {
            "source": "### 6.3 Quality metrics table", 
            "cell_type": "markdown", 
            "metadata": {}
        }, 
        {
            "execution_count": 55, 
            "cell_type": "code", 
            "metadata": {}, 
            "outputs": [
                {
                    "output_type": "display_data", 
                    "data": {
                        "text/html": "<HTML>\n        <body>\n            <h3>Schema of QualityMetrics</h3>\n            <table style='border: 1px solid #dddddd; font-family: Courier'>\n                <th style='border: 1px solid #dddddd'>name</th><th style='border: 1px solid #dddddd'>type</th><th style='border: 1px solid #dddddd'>nullable</th>\n                <tr><td style='border: 1px solid #dddddd'>ts</td><td style='border: 1px solid #dddddd'>timestamp</td><td style='border: 1px solid #dddddd'>False</td></tr><tr><td style='border: 1px solid #dddddd'>quality</td><td style='border: 1px solid #dddddd'>float</td><td style='border: 1px solid #dddddd'>False</td></tr><tr><td style='border: 1px solid #dddddd'>quality_threshold</td><td style='border: 1px solid #dddddd'>float</td><td style='border: 1px solid #dddddd'>False</td></tr><tr><td style='border: 1px solid #dddddd'>binding_id</td><td style='border: 1px solid #dddddd'>string</td><td style='border: 1px solid #dddddd'>False</td></tr><tr><td style='border: 1px solid #dddddd'>subscription_id</td><td style='border: 1px solid #dddddd'>string</td><td style='border: 1px solid #dddddd'>False</td></tr><tr><td style='border: 1px solid #dddddd'>deployment_id</td><td style='border: 1px solid #dddddd'>string</td><td style='border: 1px solid #dddddd'>True</td></tr><tr><td style='border: 1px solid #dddddd'>process</td><td style='border: 1px solid #dddddd'>string</td><td style='border: 1px solid #dddddd'>False</td></tr><tr><td style='border: 1px solid #dddddd'>asset_revision</td><td style='border: 1px solid #dddddd'>string</td><td style='border: 1px solid #dddddd'>True</td></tr>\n            </table>\n        </body>\n        </HTML>", 
                        "text/plain": "<IPython.core.display.HTML object>"
                    }, 
                    "metadata": {}
                }
            ], 
            "source": "subscription.quality_monitoring.print_table_schema()"
        }, 
        {
            "execution_count": 56, 
            "cell_type": "code", 
            "metadata": {}, 
            "outputs": [
                {
                    "output_type": "display_data", 
                    "data": {
                        "text/html": "<HTML>\n        <body>\n            <h3>QualityMetrics (binding_id=6c646985-8a93-48e0-911f-37bfc661e03e, subscription_id=credit)</h3>\n            <table style='border: 1px solid #dddddd; font-family: Courier'>\n                <th style='border: 1px solid #dddddd'>ts</th><th style='border: 1px solid #dddddd'>quality</th><th style='border: 1px solid #dddddd'>quality_threshold</th><th style='border: 1px solid #dddddd'>binding_id</th><th style='border: 1px solid #dddddd'>subscription_id</th><th style='border: 1px solid #dddddd'>deployment_id</th><th style='border: 1px solid #dddddd'>process</th><th style='border: 1px solid #dddddd'>asset_revision</th>\n                <tr><td style='border: 1px solid #dddddd'>2019-02-06 14:41:51.847000+00:00</td><td style='border: 1px solid #dddddd'>1.0</td><td style='border: 1px solid #dddddd'>0.7</td><td style='border: 1px solid #dddddd'>6c646985-8a93-48e0-911f-37bfc661e03e</td><td style='border: 1px solid #dddddd'>credit</td><td style='border: 1px solid #dddddd'>german_credit_risk</td><td style='border: 1px solid #dddddd'>Accuracy_evaluation_60cabade-90b4-4575-b7df-d4e47cb0efa6</td><td style='border: 1px solid #dddddd'></td></tr>\n            </table>\n        </body>\n        </HTML>", 
                        "text/plain": "<IPython.core.display.HTML object>"
                    }, 
                    "metadata": {}
                }
            ], 
            "source": "subscription.quality_monitoring.show_table()"
        }, 
        {
            "source": "### 6.4 Performance metrics table", 
            "cell_type": "markdown", 
            "metadata": {}
        }, 
        {
            "execution_count": 57, 
            "cell_type": "code", 
            "metadata": {}, 
            "outputs": [
                {
                    "output_type": "display_data", 
                    "data": {
                        "text/html": "<HTML>\n        <body>\n            <h3>Schema of PerformanceMetrics</h3>\n            <table style='border: 1px solid #dddddd; font-family: Courier'>\n                <th style='border: 1px solid #dddddd'>name</th><th style='border: 1px solid #dddddd'>type</th><th style='border: 1px solid #dddddd'>nullable</th>\n                <tr><td style='border: 1px solid #dddddd'>ts</td><td style='border: 1px solid #dddddd'>timestamp</td><td style='border: 1px solid #dddddd'>False</td></tr><tr><td style='border: 1px solid #dddddd'>scoring_time</td><td style='border: 1px solid #dddddd'>float</td><td style='border: 1px solid #dddddd'>False</td></tr><tr><td style='border: 1px solid #dddddd'>scoring_records</td><td style='border: 1px solid #dddddd'>object</td><td style='border: 1px solid #dddddd'>False</td></tr><tr><td style='border: 1px solid #dddddd'>binding_id</td><td style='border: 1px solid #dddddd'>string</td><td style='border: 1px solid #dddddd'>False</td></tr><tr><td style='border: 1px solid #dddddd'>subscription_id</td><td style='border: 1px solid #dddddd'>string</td><td style='border: 1px solid #dddddd'>False</td></tr><tr><td style='border: 1px solid #dddddd'>deployment_id</td><td style='border: 1px solid #dddddd'>string</td><td style='border: 1px solid #dddddd'>True</td></tr><tr><td style='border: 1px solid #dddddd'>process</td><td style='border: 1px solid #dddddd'>string</td><td style='border: 1px solid #dddddd'>False</td></tr><tr><td style='border: 1px solid #dddddd'>asset_revision</td><td style='border: 1px solid #dddddd'>string</td><td style='border: 1px solid #dddddd'>True</td></tr>\n            </table>\n        </body>\n        </HTML>", 
                        "text/plain": "<IPython.core.display.HTML object>"
                    }, 
                    "metadata": {}
                }
            ], 
            "source": "subscription.performance_monitoring.print_table_schema()"
        }, 
        {
            "execution_count": 58, 
            "cell_type": "code", 
            "metadata": {}, 
            "outputs": [
                {
                    "output_type": "display_data", 
                    "data": {
                        "text/html": "<HTML>\n        <body>\n            <h3>PerformanceMetrics (binding_id=6c646985-8a93-48e0-911f-37bfc661e03e, subscription_id=credit)</h3>\n            <table style='border: 1px solid #dddddd; font-family: Courier'>\n                <th style='border: 1px solid #dddddd'>ts</th><th style='border: 1px solid #dddddd'>scoring_time</th><th style='border: 1px solid #dddddd'>scoring_records</th><th style='border: 1px solid #dddddd'>binding_id</th><th style='border: 1px solid #dddddd'>subscription_id</th><th style='border: 1px solid #dddddd'>deployment_id</th><th style='border: 1px solid #dddddd'>process</th><th style='border: 1px solid #dddddd'>asset_revision</th>\n                <tr><td style='border: 1px solid #dddddd'>2019-02-06 14:41:41.244865+00:00</td><td style='border: 1px solid #dddddd'>16.0</td><td style='border: 1px solid #dddddd'>8</td><td style='border: 1px solid #dddddd'>6c646985-8a93-48e0-911f-37bfc661e03e</td><td style='border: 1px solid #dddddd'>credit</td><td style='border: 1px solid #dddddd'>german_credit_risk</td><td style='border: 1px solid #dddddd'></td><td style='border: 1px solid #dddddd'></td></tr><tr><td style='border: 1px solid #dddddd'>2019-02-06 14:41:41.244886+00:00</td><td style='border: 1px solid #dddddd'>16.0</td><td style='border: 1px solid #dddddd'>8</td><td style='border: 1px solid #dddddd'>6c646985-8a93-48e0-911f-37bfc661e03e</td><td style='border: 1px solid #dddddd'>credit</td><td style='border: 1px solid #dddddd'>german_credit_risk</td><td style='border: 1px solid #dddddd'></td><td style='border: 1px solid #dddddd'></td></tr><tr><td style='border: 1px solid #dddddd'>2019-02-06 14:41:41.244966+00:00</td><td style='border: 1px solid #dddddd'>16.0</td><td style='border: 1px solid #dddddd'>8</td><td style='border: 1px solid #dddddd'>6c646985-8a93-48e0-911f-37bfc661e03e</td><td style='border: 1px solid #dddddd'>credit</td><td style='border: 1px solid #dddddd'>german_credit_risk</td><td style='border: 1px solid #dddddd'></td><td style='border: 1px solid #dddddd'></td></tr><tr><td style='border: 1px solid #dddddd'>2019-02-06 14:41:41.244981+00:00</td><td style='border: 1px solid #dddddd'>16.0</td><td style='border: 1px solid #dddddd'>8</td><td style='border: 1px solid #dddddd'>6c646985-8a93-48e0-911f-37bfc661e03e</td><td style='border: 1px solid #dddddd'>credit</td><td style='border: 1px solid #dddddd'>german_credit_risk</td><td style='border: 1px solid #dddddd'></td><td style='border: 1px solid #dddddd'></td></tr><tr><td style='border: 1px solid #dddddd'>2019-02-06 14:41:41.244935+00:00</td><td style='border: 1px solid #dddddd'>16.0</td><td style='border: 1px solid #dddddd'>8</td><td style='border: 1px solid #dddddd'>6c646985-8a93-48e0-911f-37bfc661e03e</td><td style='border: 1px solid #dddddd'>credit</td><td style='border: 1px solid #dddddd'>german_credit_risk</td><td style='border: 1px solid #dddddd'></td><td style='border: 1px solid #dddddd'></td></tr><tr><td style='border: 1px solid #dddddd'>2019-02-06 14:41:41.244903+00:00</td><td style='border: 1px solid #dddddd'>16.0</td><td style='border: 1px solid #dddddd'>8</td><td style='border: 1px solid #dddddd'>6c646985-8a93-48e0-911f-37bfc661e03e</td><td style='border: 1px solid #dddddd'>credit</td><td style='border: 1px solid #dddddd'>german_credit_risk</td><td style='border: 1px solid #dddddd'></td><td style='border: 1px solid #dddddd'></td></tr><tr><td style='border: 1px solid #dddddd'>2019-02-06 14:41:41.244996+00:00</td><td style='border: 1px solid #dddddd'>16.0</td><td style='border: 1px solid #dddddd'>8</td><td style='border: 1px solid #dddddd'>6c646985-8a93-48e0-911f-37bfc661e03e</td><td style='border: 1px solid #dddddd'>credit</td><td style='border: 1px solid #dddddd'>german_credit_risk</td><td style='border: 1px solid #dddddd'></td><td style='border: 1px solid #dddddd'></td></tr><tr><td style='border: 1px solid #dddddd'>2019-02-06 14:41:41.244919+00:00</td><td style='border: 1px solid #dddddd'>16.0</td><td style='border: 1px solid #dddddd'>8</td><td style='border: 1px solid #dddddd'>6c646985-8a93-48e0-911f-37bfc661e03e</td><td style='border: 1px solid #dddddd'>credit</td><td style='border: 1px solid #dddddd'>german_credit_risk</td><td style='border: 1px solid #dddddd'></td><td style='border: 1px solid #dddddd'></td></tr><tr><td style='border: 1px solid #dddddd'>2019-02-06 14:41:41.244806+00:00</td><td style='border: 1px solid #dddddd'>16.0</td><td style='border: 1px solid #dddddd'>8</td><td style='border: 1px solid #dddddd'>6c646985-8a93-48e0-911f-37bfc661e03e</td><td style='border: 1px solid #dddddd'>credit</td><td style='border: 1px solid #dddddd'>german_credit_risk</td><td style='border: 1px solid #dddddd'></td><td style='border: 1px solid #dddddd'></td></tr><tr><td style='border: 1px solid #dddddd'>2019-02-06 14:41:41.245011+00:00</td><td style='border: 1px solid #dddddd'>16.0</td><td style='border: 1px solid #dddddd'>8</td><td style='border: 1px solid #dddddd'>6c646985-8a93-48e0-911f-37bfc661e03e</td><td style='border: 1px solid #dddddd'>credit</td><td style='border: 1px solid #dddddd'>german_credit_risk</td><td style='border: 1px solid #dddddd'></td><td style='border: 1px solid #dddddd'></td></tr>\n            </table>\n        </body>\n        </HTML>", 
                        "text/plain": "<IPython.core.display.HTML object>"
                    }, 
                    "metadata": {}
                }
            ], 
            "source": "subscription.performance_monitoring.show_table()"
        }, 
        {
            "source": "### 6.5 Data Mart measurement facts table", 
            "cell_type": "markdown", 
            "metadata": {}
        }, 
        {
            "execution_count": 59, 
            "cell_type": "code", 
            "metadata": {}, 
            "outputs": [
                {
                    "execution_count": 59, 
                    "metadata": {}, 
                    "data": {
                        "text/plain": "{'deployment_metrics': [{'asset': {'asset_id': 'credit',\n    'asset_type': 'model',\n    'created_at': '2019-01-01T10:11:12Z',\n    'name': 'credit',\n    'url': 'http://169.63.194.147:31520/v1/deployments/credit/online'},\n   'deployment': {'created_at': '2019-01-01T10:11:12Z',\n    'deployment_id': 'german_credit_risk',\n    'deployment_rn': '',\n    'deployment_type': 'online',\n    'name': 'German credit risk compliant deployment',\n    'scoring_endpoint': {'request_headers': {'Content-Type': 'application/json'},\n     'url': 'http://169.63.194.147:31520/v1/deployments/credit/online'},\n    'url': ''},\n   'metrics': [{'issues': 0,\n     'metric_type': 'debiased_fairness',\n     'timestamp': '2019-02-06T14:43:12.487914Z',\n     'value': {'debiased': True,\n      'manual_labelling_store': 'Manual_Labeling_credit',\n      'metrics': [{'feature': 'Sex',\n        'majority': {'total_fav_percent': 100.0,\n         'total_rows_percent': 33.33333333333333,\n         'values': [{'distribution': {'male': [{'count': 1,\n              'is_favourable': True,\n              'label': 'No Risk'}]},\n           'fav_class_percent': 100.0,\n           'value': 'male'}]},\n        'minority': {'total_fav_percent': 100.0,\n         'total_rows_percent': 33.33333333333333,\n         'values': [{'distribution': {'female': [{'count': 3,\n              'is_favourable': True,\n              'label': 'No Risk'}]},\n           'fairness_value': 1.0,\n           'fav_class_percent': 100.0,\n           'is_biased': False,\n           'value': 'female'}]}},\n       {'bias_source': {'values': []},\n        'feature': 'Age',\n        'majority': {'total_fav_percent': 100.0,\n         'total_rows_percent': 41.66666666666667,\n         'values': [{'distribution': {'29': [{'count': 1,\n              'is_favourable': True,\n              'label': 'No Risk'}],\n            '38': [{'count': 1, 'is_favourable': True, 'label': 'No Risk'}],\n            '60': [{'count': 1, 'is_favourable': True, 'label': 'No Risk'}]},\n           'fav_class_percent': 100.0,\n           'value': [26, 75]}]},\n        'minority': {'total_fav_percent': 100.0,\n         'total_rows_percent': 58.333333333333336,\n         'values': [{'distribution': {'25': [{'count': 1,\n              'is_favourable': True,\n              'label': 'No Risk'}]},\n           'fairness_value': 1.0,\n           'fav_class_percent': 100.0,\n           'is_biased': False,\n           'value': [18, 25]}]}}],\n      'perturbed_data_size': 8,\n      'response_time': '2.962746',\n      'rows_analyzed': 4,\n      'score_type': 'desperate impact'}},\n    {'issues': 0,\n     'metric_type': 'fairness',\n     'timestamp': '2019-02-06T14:43:12.487914Z',\n     'value': {'manual_labelling_store': 'Manual_Labeling_credit',\n      'metrics': [{'feature': 'Sex',\n        'majority': {'total_fav_percent': 100.0,\n         'total_rows_percent': 33.33333333333333,\n         'values': [{'distribution': {'male': [{'count': 1,\n              'is_favourable': True,\n              'label': 'No Risk'}]},\n           'fav_class_percent': 100.0,\n           'value': 'male'}]},\n        'minority': {'total_fav_percent': 100.0,\n         'total_rows_percent': 33.33333333333333,\n         'values': [{'distribution': {'female': [{'count': 3,\n              'is_favourable': True,\n              'label': 'No Risk'}]},\n           'fairness_value': 1.0,\n           'fav_class_percent': 100.0,\n           'is_biased': False,\n           'value': 'female'}]}},\n       {'bias_source': {'values': []},\n        'feature': 'Age',\n        'majority': {'total_fav_percent': 100.0,\n         'total_rows_percent': 41.66666666666667,\n         'values': [{'distribution': {'29': [{'count': 1,\n              'is_favourable': True,\n              'label': 'No Risk'}],\n            '38': [{'count': 1, 'is_favourable': True, 'label': 'No Risk'}],\n            '60': [{'count': 1, 'is_favourable': True, 'label': 'No Risk'}]},\n           'fav_class_percent': 100.0,\n           'value': [26, 75]}]},\n        'minority': {'total_fav_percent': 100.0,\n         'total_rows_percent': 58.333333333333336,\n         'values': [{'distribution': {'25': [{'count': 1,\n              'is_favourable': True,\n              'label': 'No Risk'}]},\n           'fairness_value': 1.0,\n           'fav_class_percent': 100.0,\n           'is_biased': False,\n           'value': [18, 25]}]}}],\n      'perturbed_data_size': 8,\n      'response_time': '2.962746',\n      'rows_analyzed': 4,\n      'score_type': 'desperate impact'}},\n    {'issues': 0,\n     'metric_type': 'performance',\n     'timestamp': '2019-02-06T14:41:41.245011Z',\n     'value': {'records': 8, 'response_time': 16.0}},\n    {'issues': 0,\n     'metric_type': 'quality',\n     'timestamp': '2019-02-06T14:41:51.847Z',\n     'value': {'metrics': [{'name': 'areaUnderROC', 'value': 1.0},\n       {'name': 'areaUnderPR', 'value': 1.0}],\n      'quality': 1.0,\n      'threshold': 0.7}}],\n   'subscription': {'subscription_id': 'credit',\n    'url': '/v1/data_marts/e3a38ab0-3884-454c-abc0-5e535eec36e6/service_bindings/6c646985-8a93-48e0-911f-37bfc661e03e/subscriptions/credit'}}]}"
                    }, 
                    "output_type": "execute_result"
                }
            ], 
            "source": "client.data_mart.get_deployment_metrics()"
        }, 
        {
            "source": "---", 
            "cell_type": "markdown", 
            "metadata": {}
        }, 
        {
            "source": "### Authors\nLukasz Cmielowski, PhD, is an Automation Architect and Data Scientist at IBM with a track record of developing enterprise-level applications that substantially increases clients' ability to turn data into actionable knowledge.", 
            "cell_type": "markdown", 
            "metadata": {}
        }
    ], 
    "metadata": {
        "kernelspec": {
            "display_name": "Python 3.5", 
            "name": "python3", 
            "language": "python"
        }, 
        "language_info": {
            "mimetype": "text/x-python", 
            "nbconvert_exporter": "python", 
            "version": "3.5.5", 
            "name": "python", 
            "file_extension": ".py", 
            "pygments_lexer": "ipython3", 
            "codemirror_mode": {
                "version": 3, 
                "name": "ipython"
            }
        }
    }, 
    "nbformat": 4
}