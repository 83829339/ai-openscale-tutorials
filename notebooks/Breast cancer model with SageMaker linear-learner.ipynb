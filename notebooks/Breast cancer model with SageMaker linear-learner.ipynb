{
    "nbformat_minor": 2, 
    "cells": [
        {
            "source": "# Predict breast cancer type using SageMaker linear-learner", 
            "cell_type": "markdown", 
            "metadata": {}
        }, 
        {
            "source": "Contents\n- [0. Setup](#setup)\n- [1. Introduction](#introduction)\n- [2. Load and explore data](#load)\n- [3. Create logistic regression model using SageMaker linear-learner algorithm](#model)\n- [4. Deploy the model in the AWS Cloud](#deployment)\n- [5. Score the model](#score)", 
            "cell_type": "markdown", 
            "metadata": {}
        }, 
        {
            "source": "**Note:** This notebook works correctly with kernel `Python 3.5+`.", 
            "cell_type": "markdown", 
            "metadata": {}
        }, 
        {
            "source": "<a id=\"setup\"></a>\n## 0. Setup", 
            "cell_type": "markdown", 
            "metadata": {}
        }, 
        {
            "source": "Before you use the sample code in this notebook, you must perform the following setup tasks:\n\n- Create a SageMaker Service, setting up steps are described here: https://docs.aws.amazon.com/sagemaker/latest/dg/gs-set-up.html\n- Install reqiured python packages from PyPi repository", 
            "cell_type": "markdown", 
            "metadata": {}
        }, 
        {
            "source": "### Package installation", 
            "cell_type": "markdown", 
            "metadata": {}
        }, 
        {
            "execution_count": 1, 
            "cell_type": "code", 
            "metadata": {}, 
            "outputs": [
                {
                    "output_type": "stream", 
                    "name": "stdout", 
                    "text": "Requirement not upgraded as not directly required: six>=1.5 in /opt/conda/envs/DSX-Python35/lib/python3.5/site-packages (from python-dateutil<3.0.0,>=2.1; python_version >= \"2.7\"->botocore<1.13.0,>=1.12.69->boto3)\nRequirement not upgraded as not directly required: docker-pycreds>=0.3.0 in /opt/conda/envs/DSX-Python35/lib/python3.5/site-packages (from docker<4.0,>=3.6.0->docker-compose>=1.23.0->sagemaker)\nRequirement not upgraded as not directly required: six>=1.5 in /opt/conda/envs/DSX-Python35/lib/python3.5/site-packages (from python-dateutil>=2->pandas)\nRequirement not upgraded as not directly required: scikit-learn in /opt/conda/envs/DSX-Python35/lib/python3.5/site-packages\n"
                }
            ], 
            "source": "!pip install boto3 | tail -n 1\n!pip install sagemaker | tail -n 1\n!pip install pandas | tail -n 1\n!pip install scikit-learn | tail -n 1"
        }, 
        {
            "source": "<a id=\"introduction\"></a>\n## 1. Introduction\n\nThis notebook defines, trains and deploys the model that predicts cancer type.", 
            "cell_type": "markdown", 
            "metadata": {}
        }, 
        {
            "source": "<a id=\"load\"></a>\n## 2. Load and explore data", 
            "cell_type": "markdown", 
            "metadata": {}
        }, 
        {
            "source": "In this section you will load data into pandas DataFrame and perform a basic exploration. Next you will upload training data to the Amaznon S3 Object Storage.", 
            "cell_type": "markdown", 
            "metadata": {}
        }, 
        {
            "source": "### 2.1 Load data from webpage", 
            "cell_type": "markdown", 
            "metadata": {}
        }, 
        {
            "execution_count": 2, 
            "cell_type": "code", 
            "metadata": {}, 
            "outputs": [], 
            "source": "import pandas as pd\nfrom sklearn.utils import shuffle"
        }, 
        {
            "execution_count": 3, 
            "cell_type": "code", 
            "metadata": {
                "scrolled": true
            }, 
            "outputs": [], 
            "source": "data = pd.read_csv('https://archive.ics.uci.edu/ml/machine-learning-databases/breast-cancer-wisconsin/wdbc.data', header = None)\n\ndata.columns = [\"id\",\"diagnosis\",\"radius_mean\",\"texture_mean\",\"perimeter_mean\",\"area_mean\",\"smoothness_mean\",\n                \"compactness_mean\",\"concavity_mean\",\"concave points_mean\",\"symmetry_mean\",\"fractal_dimension_mean\",\n                \"radius_se\",\"texture_se\",\"perimeter_se\",\"area_se\",\"smoothness_se\",\"compactness_se\",\"concavity_se\",\n                \"concave points_se\",\"symmetry_se\",\"fractal_dimension_se\",\"radius_worst\",\"texture_worst\",\n                \"perimeter_worst\",\"area_worst\",\"smoothness_worst\",\"compactness_worst\",\"concavity_worst\",\n                \"concave points_worst\",\"symmetry_worst\",\"fractal_dimension_worst\"] "
        }, 
        {
            "source": "### 2.2 Explore data", 
            "cell_type": "markdown", 
            "metadata": {}
        }, 
        {
            "execution_count": 4, 
            "cell_type": "code", 
            "metadata": {}, 
            "outputs": [
                {
                    "output_type": "stream", 
                    "name": "stdout", 
                    "text": "Sample records:\n"
                }, 
                {
                    "output_type": "display_data", 
                    "data": {
                        "text/html": "<div>\n<style scoped>\n    .dataframe tbody tr th:only-of-type {\n        vertical-align: middle;\n    }\n\n    .dataframe tbody tr th {\n        vertical-align: top;\n    }\n\n    .dataframe thead th {\n        text-align: right;\n    }\n</style>\n<table border=\"1\" class=\"dataframe\">\n  <thead>\n    <tr style=\"text-align: right;\">\n      <th></th>\n      <th>id</th>\n      <th>diagnosis</th>\n      <th>radius_mean</th>\n      <th>texture_mean</th>\n      <th>perimeter_mean</th>\n      <th>area_mean</th>\n      <th>smoothness_mean</th>\n      <th>compactness_mean</th>\n      <th>concavity_mean</th>\n      <th>concave points_mean</th>\n      <th>...</th>\n      <th>radius_worst</th>\n      <th>texture_worst</th>\n      <th>perimeter_worst</th>\n      <th>area_worst</th>\n      <th>smoothness_worst</th>\n      <th>compactness_worst</th>\n      <th>concavity_worst</th>\n      <th>concave points_worst</th>\n      <th>symmetry_worst</th>\n      <th>fractal_dimension_worst</th>\n    </tr>\n  </thead>\n  <tbody>\n    <tr>\n      <th>0</th>\n      <td>842302</td>\n      <td>M</td>\n      <td>17.99</td>\n      <td>10.38</td>\n      <td>122.80</td>\n      <td>1001.0</td>\n      <td>0.11840</td>\n      <td>0.27760</td>\n      <td>0.3001</td>\n      <td>0.14710</td>\n      <td>...</td>\n      <td>25.38</td>\n      <td>17.33</td>\n      <td>184.60</td>\n      <td>2019.0</td>\n      <td>0.1622</td>\n      <td>0.6656</td>\n      <td>0.7119</td>\n      <td>0.2654</td>\n      <td>0.4601</td>\n      <td>0.11890</td>\n    </tr>\n    <tr>\n      <th>1</th>\n      <td>842517</td>\n      <td>M</td>\n      <td>20.57</td>\n      <td>17.77</td>\n      <td>132.90</td>\n      <td>1326.0</td>\n      <td>0.08474</td>\n      <td>0.07864</td>\n      <td>0.0869</td>\n      <td>0.07017</td>\n      <td>...</td>\n      <td>24.99</td>\n      <td>23.41</td>\n      <td>158.80</td>\n      <td>1956.0</td>\n      <td>0.1238</td>\n      <td>0.1866</td>\n      <td>0.2416</td>\n      <td>0.1860</td>\n      <td>0.2750</td>\n      <td>0.08902</td>\n    </tr>\n    <tr>\n      <th>2</th>\n      <td>84300903</td>\n      <td>M</td>\n      <td>19.69</td>\n      <td>21.25</td>\n      <td>130.00</td>\n      <td>1203.0</td>\n      <td>0.10960</td>\n      <td>0.15990</td>\n      <td>0.1974</td>\n      <td>0.12790</td>\n      <td>...</td>\n      <td>23.57</td>\n      <td>25.53</td>\n      <td>152.50</td>\n      <td>1709.0</td>\n      <td>0.1444</td>\n      <td>0.4245</td>\n      <td>0.4504</td>\n      <td>0.2430</td>\n      <td>0.3613</td>\n      <td>0.08758</td>\n    </tr>\n    <tr>\n      <th>3</th>\n      <td>84348301</td>\n      <td>M</td>\n      <td>11.42</td>\n      <td>20.38</td>\n      <td>77.58</td>\n      <td>386.1</td>\n      <td>0.14250</td>\n      <td>0.28390</td>\n      <td>0.2414</td>\n      <td>0.10520</td>\n      <td>...</td>\n      <td>14.91</td>\n      <td>26.50</td>\n      <td>98.87</td>\n      <td>567.7</td>\n      <td>0.2098</td>\n      <td>0.8663</td>\n      <td>0.6869</td>\n      <td>0.2575</td>\n      <td>0.6638</td>\n      <td>0.17300</td>\n    </tr>\n    <tr>\n      <th>4</th>\n      <td>84358402</td>\n      <td>M</td>\n      <td>20.29</td>\n      <td>14.34</td>\n      <td>135.10</td>\n      <td>1297.0</td>\n      <td>0.10030</td>\n      <td>0.13280</td>\n      <td>0.1980</td>\n      <td>0.10430</td>\n      <td>...</td>\n      <td>22.54</td>\n      <td>16.67</td>\n      <td>152.20</td>\n      <td>1575.0</td>\n      <td>0.1374</td>\n      <td>0.2050</td>\n      <td>0.4000</td>\n      <td>0.1625</td>\n      <td>0.2364</td>\n      <td>0.07678</td>\n    </tr>\n  </tbody>\n</table>\n<p>5 rows \u00d7 32 columns</p>\n</div>", 
                        "text/plain": "         id diagnosis  radius_mean  texture_mean  perimeter_mean  area_mean  \\\n0    842302         M        17.99         10.38          122.80     1001.0   \n1    842517         M        20.57         17.77          132.90     1326.0   \n2  84300903         M        19.69         21.25          130.00     1203.0   \n3  84348301         M        11.42         20.38           77.58      386.1   \n4  84358402         M        20.29         14.34          135.10     1297.0   \n\n   smoothness_mean  compactness_mean  concavity_mean  concave points_mean  \\\n0          0.11840           0.27760          0.3001              0.14710   \n1          0.08474           0.07864          0.0869              0.07017   \n2          0.10960           0.15990          0.1974              0.12790   \n3          0.14250           0.28390          0.2414              0.10520   \n4          0.10030           0.13280          0.1980              0.10430   \n\n            ...             radius_worst  texture_worst  perimeter_worst  \\\n0           ...                    25.38          17.33           184.60   \n1           ...                    24.99          23.41           158.80   \n2           ...                    23.57          25.53           152.50   \n3           ...                    14.91          26.50            98.87   \n4           ...                    22.54          16.67           152.20   \n\n   area_worst  smoothness_worst  compactness_worst  concavity_worst  \\\n0      2019.0            0.1622             0.6656           0.7119   \n1      1956.0            0.1238             0.1866           0.2416   \n2      1709.0            0.1444             0.4245           0.4504   \n3       567.7            0.2098             0.8663           0.6869   \n4      1575.0            0.1374             0.2050           0.4000   \n\n   concave points_worst  symmetry_worst  fractal_dimension_worst  \n0                0.2654          0.4601                  0.11890  \n1                0.1860          0.2750                  0.08902  \n2                0.2430          0.3613                  0.08758  \n3                0.2575          0.6638                  0.17300  \n4                0.1625          0.2364                  0.07678  \n\n[5 rows x 32 columns]"
                    }, 
                    "metadata": {}
                }, 
                {
                    "output_type": "stream", 
                    "name": "stdout", 
                    "text": "Features columns summary:\n"
                }, 
                {
                    "output_type": "display_data", 
                    "data": {
                        "text/html": "<div>\n<style scoped>\n    .dataframe tbody tr th:only-of-type {\n        vertical-align: middle;\n    }\n\n    .dataframe tbody tr th {\n        vertical-align: top;\n    }\n\n    .dataframe thead th {\n        text-align: right;\n    }\n</style>\n<table border=\"1\" class=\"dataframe\">\n  <thead>\n    <tr style=\"text-align: right;\">\n      <th></th>\n      <th>radius_mean</th>\n      <th>texture_mean</th>\n      <th>perimeter_mean</th>\n      <th>area_mean</th>\n      <th>smoothness_mean</th>\n      <th>compactness_mean</th>\n      <th>concavity_mean</th>\n      <th>concave points_mean</th>\n      <th>symmetry_mean</th>\n      <th>fractal_dimension_mean</th>\n      <th>...</th>\n      <th>radius_worst</th>\n      <th>texture_worst</th>\n      <th>perimeter_worst</th>\n      <th>area_worst</th>\n      <th>smoothness_worst</th>\n      <th>compactness_worst</th>\n      <th>concavity_worst</th>\n      <th>concave points_worst</th>\n      <th>symmetry_worst</th>\n      <th>fractal_dimension_worst</th>\n    </tr>\n  </thead>\n  <tbody>\n    <tr>\n      <th>count</th>\n      <td>569.000000</td>\n      <td>569.000000</td>\n      <td>569.000000</td>\n      <td>569.000000</td>\n      <td>569.000000</td>\n      <td>569.000000</td>\n      <td>569.000000</td>\n      <td>569.000000</td>\n      <td>569.000000</td>\n      <td>569.000000</td>\n      <td>...</td>\n      <td>569.000000</td>\n      <td>569.000000</td>\n      <td>569.000000</td>\n      <td>569.000000</td>\n      <td>569.000000</td>\n      <td>569.000000</td>\n      <td>569.000000</td>\n      <td>569.000000</td>\n      <td>569.000000</td>\n      <td>569.000000</td>\n    </tr>\n    <tr>\n      <th>mean</th>\n      <td>14.127292</td>\n      <td>19.289649</td>\n      <td>91.969033</td>\n      <td>654.889104</td>\n      <td>0.096360</td>\n      <td>0.104341</td>\n      <td>0.088799</td>\n      <td>0.048919</td>\n      <td>0.181162</td>\n      <td>0.062798</td>\n      <td>...</td>\n      <td>16.269190</td>\n      <td>25.677223</td>\n      <td>107.261213</td>\n      <td>880.583128</td>\n      <td>0.132369</td>\n      <td>0.254265</td>\n      <td>0.272188</td>\n      <td>0.114606</td>\n      <td>0.290076</td>\n      <td>0.083946</td>\n    </tr>\n    <tr>\n      <th>std</th>\n      <td>3.524049</td>\n      <td>4.301036</td>\n      <td>24.298981</td>\n      <td>351.914129</td>\n      <td>0.014064</td>\n      <td>0.052813</td>\n      <td>0.079720</td>\n      <td>0.038803</td>\n      <td>0.027414</td>\n      <td>0.007060</td>\n      <td>...</td>\n      <td>4.833242</td>\n      <td>6.146258</td>\n      <td>33.602542</td>\n      <td>569.356993</td>\n      <td>0.022832</td>\n      <td>0.157336</td>\n      <td>0.208624</td>\n      <td>0.065732</td>\n      <td>0.061867</td>\n      <td>0.018061</td>\n    </tr>\n    <tr>\n      <th>min</th>\n      <td>6.981000</td>\n      <td>9.710000</td>\n      <td>43.790000</td>\n      <td>143.500000</td>\n      <td>0.052630</td>\n      <td>0.019380</td>\n      <td>0.000000</td>\n      <td>0.000000</td>\n      <td>0.106000</td>\n      <td>0.049960</td>\n      <td>...</td>\n      <td>7.930000</td>\n      <td>12.020000</td>\n      <td>50.410000</td>\n      <td>185.200000</td>\n      <td>0.071170</td>\n      <td>0.027290</td>\n      <td>0.000000</td>\n      <td>0.000000</td>\n      <td>0.156500</td>\n      <td>0.055040</td>\n    </tr>\n    <tr>\n      <th>25%</th>\n      <td>11.700000</td>\n      <td>16.170000</td>\n      <td>75.170000</td>\n      <td>420.300000</td>\n      <td>0.086370</td>\n      <td>0.064920</td>\n      <td>0.029560</td>\n      <td>0.020310</td>\n      <td>0.161900</td>\n      <td>0.057700</td>\n      <td>...</td>\n      <td>13.010000</td>\n      <td>21.080000</td>\n      <td>84.110000</td>\n      <td>515.300000</td>\n      <td>0.116600</td>\n      <td>0.147200</td>\n      <td>0.114500</td>\n      <td>0.064930</td>\n      <td>0.250400</td>\n      <td>0.071460</td>\n    </tr>\n    <tr>\n      <th>50%</th>\n      <td>13.370000</td>\n      <td>18.840000</td>\n      <td>86.240000</td>\n      <td>551.100000</td>\n      <td>0.095870</td>\n      <td>0.092630</td>\n      <td>0.061540</td>\n      <td>0.033500</td>\n      <td>0.179200</td>\n      <td>0.061540</td>\n      <td>...</td>\n      <td>14.970000</td>\n      <td>25.410000</td>\n      <td>97.660000</td>\n      <td>686.500000</td>\n      <td>0.131300</td>\n      <td>0.211900</td>\n      <td>0.226700</td>\n      <td>0.099930</td>\n      <td>0.282200</td>\n      <td>0.080040</td>\n    </tr>\n    <tr>\n      <th>75%</th>\n      <td>15.780000</td>\n      <td>21.800000</td>\n      <td>104.100000</td>\n      <td>782.700000</td>\n      <td>0.105300</td>\n      <td>0.130400</td>\n      <td>0.130700</td>\n      <td>0.074000</td>\n      <td>0.195700</td>\n      <td>0.066120</td>\n      <td>...</td>\n      <td>18.790000</td>\n      <td>29.720000</td>\n      <td>125.400000</td>\n      <td>1084.000000</td>\n      <td>0.146000</td>\n      <td>0.339100</td>\n      <td>0.382900</td>\n      <td>0.161400</td>\n      <td>0.317900</td>\n      <td>0.092080</td>\n    </tr>\n    <tr>\n      <th>max</th>\n      <td>28.110000</td>\n      <td>39.280000</td>\n      <td>188.500000</td>\n      <td>2501.000000</td>\n      <td>0.163400</td>\n      <td>0.345400</td>\n      <td>0.426800</td>\n      <td>0.201200</td>\n      <td>0.304000</td>\n      <td>0.097440</td>\n      <td>...</td>\n      <td>36.040000</td>\n      <td>49.540000</td>\n      <td>251.200000</td>\n      <td>4254.000000</td>\n      <td>0.222600</td>\n      <td>1.058000</td>\n      <td>1.252000</td>\n      <td>0.291000</td>\n      <td>0.663800</td>\n      <td>0.207500</td>\n    </tr>\n  </tbody>\n</table>\n<p>8 rows \u00d7 30 columns</p>\n</div>", 
                        "text/plain": "       radius_mean  texture_mean  perimeter_mean    area_mean  \\\ncount   569.000000    569.000000      569.000000   569.000000   \nmean     14.127292     19.289649       91.969033   654.889104   \nstd       3.524049      4.301036       24.298981   351.914129   \nmin       6.981000      9.710000       43.790000   143.500000   \n25%      11.700000     16.170000       75.170000   420.300000   \n50%      13.370000     18.840000       86.240000   551.100000   \n75%      15.780000     21.800000      104.100000   782.700000   \nmax      28.110000     39.280000      188.500000  2501.000000   \n\n       smoothness_mean  compactness_mean  concavity_mean  concave points_mean  \\\ncount       569.000000        569.000000      569.000000           569.000000   \nmean          0.096360          0.104341        0.088799             0.048919   \nstd           0.014064          0.052813        0.079720             0.038803   \nmin           0.052630          0.019380        0.000000             0.000000   \n25%           0.086370          0.064920        0.029560             0.020310   \n50%           0.095870          0.092630        0.061540             0.033500   \n75%           0.105300          0.130400        0.130700             0.074000   \nmax           0.163400          0.345400        0.426800             0.201200   \n\n       symmetry_mean  fractal_dimension_mean           ...             \\\ncount     569.000000              569.000000           ...              \nmean        0.181162                0.062798           ...              \nstd         0.027414                0.007060           ...              \nmin         0.106000                0.049960           ...              \n25%         0.161900                0.057700           ...              \n50%         0.179200                0.061540           ...              \n75%         0.195700                0.066120           ...              \nmax         0.304000                0.097440           ...              \n\n       radius_worst  texture_worst  perimeter_worst   area_worst  \\\ncount    569.000000     569.000000       569.000000   569.000000   \nmean      16.269190      25.677223       107.261213   880.583128   \nstd        4.833242       6.146258        33.602542   569.356993   \nmin        7.930000      12.020000        50.410000   185.200000   \n25%       13.010000      21.080000        84.110000   515.300000   \n50%       14.970000      25.410000        97.660000   686.500000   \n75%       18.790000      29.720000       125.400000  1084.000000   \nmax       36.040000      49.540000       251.200000  4254.000000   \n\n       smoothness_worst  compactness_worst  concavity_worst  \\\ncount        569.000000         569.000000       569.000000   \nmean           0.132369           0.254265         0.272188   \nstd            0.022832           0.157336         0.208624   \nmin            0.071170           0.027290         0.000000   \n25%            0.116600           0.147200         0.114500   \n50%            0.131300           0.211900         0.226700   \n75%            0.146000           0.339100         0.382900   \nmax            0.222600           1.058000         1.252000   \n\n       concave points_worst  symmetry_worst  fractal_dimension_worst  \ncount            569.000000      569.000000               569.000000  \nmean               0.114606        0.290076                 0.083946  \nstd                0.065732        0.061867                 0.018061  \nmin                0.000000        0.156500                 0.055040  \n25%                0.064930        0.250400                 0.071460  \n50%                0.099930        0.282200                 0.080040  \n75%                0.161400        0.317900                 0.092080  \nmax                0.291000        0.663800                 0.207500  \n\n[8 rows x 30 columns]"
                    }, 
                    "metadata": {}
                }, 
                {
                    "output_type": "stream", 
                    "name": "stdout", 
                    "text": "Label column summary:\n"
                }, 
                {
                    "output_type": "display_data", 
                    "data": {
                        "text/plain": "B    357\nM    212\nName: diagnosis, dtype: int64"
                    }, 
                    "metadata": {}
                }
            ], 
            "source": "print(\"Sample records:\")\ndisplay(data.head())\n\nprint(\"Features columns summary:\")\ndisplay(data.iloc[:, 2:].describe())\n\nprint(\"Label column summary:\")\ndisplay(data.diagnosis.value_counts())"
        }, 
        {
            "source": "### 2.3 Store training data in S3 Object Storage", 
            "cell_type": "markdown", 
            "metadata": {}
        }, 
        {
            "source": "You will use SageMaker linear-learner build-in algorithm. This algorithm expects first column to be the label when training data is in `text/csv` format.\n\nMoreover label column have to be numeric, so you will recode it.", 
            "cell_type": "markdown", 
            "metadata": {}
        }, 
        {
            "source": "#### Save prepared data to local filesystem", 
            "cell_type": "markdown", 
            "metadata": {}
        }, 
        {
            "execution_count": 5, 
            "cell_type": "code", 
            "metadata": {}, 
            "outputs": [
                {
                    "output_type": "display_data", 
                    "data": {
                        "text/html": "<div>\n<style scoped>\n    .dataframe tbody tr th:only-of-type {\n        vertical-align: middle;\n    }\n\n    .dataframe tbody tr th {\n        vertical-align: top;\n    }\n\n    .dataframe thead th {\n        text-align: right;\n    }\n</style>\n<table border=\"1\" class=\"dataframe\">\n  <thead>\n    <tr style=\"text-align: right;\">\n      <th></th>\n      <th>id</th>\n      <th>diagnosis</th>\n      <th>radius_mean</th>\n      <th>texture_mean</th>\n      <th>perimeter_mean</th>\n      <th>area_mean</th>\n      <th>smoothness_mean</th>\n      <th>compactness_mean</th>\n      <th>concavity_mean</th>\n      <th>concave points_mean</th>\n      <th>...</th>\n      <th>radius_worst</th>\n      <th>texture_worst</th>\n      <th>perimeter_worst</th>\n      <th>area_worst</th>\n      <th>smoothness_worst</th>\n      <th>compactness_worst</th>\n      <th>concavity_worst</th>\n      <th>concave points_worst</th>\n      <th>symmetry_worst</th>\n      <th>fractal_dimension_worst</th>\n    </tr>\n  </thead>\n  <tbody>\n    <tr>\n      <th>351</th>\n      <td>899667</td>\n      <td>1</td>\n      <td>15.75</td>\n      <td>19.22</td>\n      <td>107.10</td>\n      <td>758.6</td>\n      <td>0.12430</td>\n      <td>0.23640</td>\n      <td>0.29140</td>\n      <td>0.12420</td>\n      <td>...</td>\n      <td>17.36</td>\n      <td>24.17</td>\n      <td>119.40</td>\n      <td>915.3</td>\n      <td>0.15500</td>\n      <td>0.50460</td>\n      <td>0.68720</td>\n      <td>0.21350</td>\n      <td>0.4245</td>\n      <td>0.10500</td>\n    </tr>\n    <tr>\n      <th>65</th>\n      <td>859283</td>\n      <td>1</td>\n      <td>14.78</td>\n      <td>23.94</td>\n      <td>97.40</td>\n      <td>668.3</td>\n      <td>0.11720</td>\n      <td>0.14790</td>\n      <td>0.12670</td>\n      <td>0.09029</td>\n      <td>...</td>\n      <td>17.31</td>\n      <td>33.39</td>\n      <td>114.60</td>\n      <td>925.1</td>\n      <td>0.16480</td>\n      <td>0.34160</td>\n      <td>0.30240</td>\n      <td>0.16140</td>\n      <td>0.3321</td>\n      <td>0.08911</td>\n    </tr>\n    <tr>\n      <th>296</th>\n      <td>891936</td>\n      <td>0</td>\n      <td>10.91</td>\n      <td>12.35</td>\n      <td>69.14</td>\n      <td>363.7</td>\n      <td>0.08518</td>\n      <td>0.04721</td>\n      <td>0.01236</td>\n      <td>0.01369</td>\n      <td>...</td>\n      <td>11.37</td>\n      <td>14.82</td>\n      <td>72.42</td>\n      <td>392.2</td>\n      <td>0.09312</td>\n      <td>0.07506</td>\n      <td>0.02884</td>\n      <td>0.03194</td>\n      <td>0.2143</td>\n      <td>0.06643</td>\n    </tr>\n    <tr>\n      <th>235</th>\n      <td>88249602</td>\n      <td>0</td>\n      <td>14.03</td>\n      <td>21.25</td>\n      <td>89.79</td>\n      <td>603.4</td>\n      <td>0.09070</td>\n      <td>0.06945</td>\n      <td>0.01462</td>\n      <td>0.01896</td>\n      <td>...</td>\n      <td>15.33</td>\n      <td>30.28</td>\n      <td>98.27</td>\n      <td>715.5</td>\n      <td>0.12870</td>\n      <td>0.15130</td>\n      <td>0.06231</td>\n      <td>0.07963</td>\n      <td>0.2226</td>\n      <td>0.07617</td>\n    </tr>\n    <tr>\n      <th>542</th>\n      <td>921644</td>\n      <td>0</td>\n      <td>14.74</td>\n      <td>25.42</td>\n      <td>94.70</td>\n      <td>668.6</td>\n      <td>0.08275</td>\n      <td>0.07214</td>\n      <td>0.04105</td>\n      <td>0.03027</td>\n      <td>...</td>\n      <td>16.51</td>\n      <td>32.29</td>\n      <td>107.40</td>\n      <td>826.4</td>\n      <td>0.10600</td>\n      <td>0.13760</td>\n      <td>0.16110</td>\n      <td>0.10950</td>\n      <td>0.2722</td>\n      <td>0.06956</td>\n    </tr>\n  </tbody>\n</table>\n<p>5 rows \u00d7 32 columns</p>\n</div>", 
                        "text/plain": "           id  diagnosis  radius_mean  texture_mean  perimeter_mean  \\\n351    899667          1        15.75         19.22          107.10   \n65     859283          1        14.78         23.94           97.40   \n296    891936          0        10.91         12.35           69.14   \n235  88249602          0        14.03         21.25           89.79   \n542    921644          0        14.74         25.42           94.70   \n\n     area_mean  smoothness_mean  compactness_mean  concavity_mean  \\\n351      758.6          0.12430           0.23640         0.29140   \n65       668.3          0.11720           0.14790         0.12670   \n296      363.7          0.08518           0.04721         0.01236   \n235      603.4          0.09070           0.06945         0.01462   \n542      668.6          0.08275           0.07214         0.04105   \n\n     concave points_mean           ...             radius_worst  \\\n351              0.12420           ...                    17.36   \n65               0.09029           ...                    17.31   \n296              0.01369           ...                    11.37   \n235              0.01896           ...                    15.33   \n542              0.03027           ...                    16.51   \n\n     texture_worst  perimeter_worst  area_worst  smoothness_worst  \\\n351          24.17           119.40       915.3           0.15500   \n65           33.39           114.60       925.1           0.16480   \n296          14.82            72.42       392.2           0.09312   \n235          30.28            98.27       715.5           0.12870   \n542          32.29           107.40       826.4           0.10600   \n\n     compactness_worst  concavity_worst  concave points_worst  symmetry_worst  \\\n351            0.50460          0.68720               0.21350          0.4245   \n65             0.34160          0.30240               0.16140          0.3321   \n296            0.07506          0.02884               0.03194          0.2143   \n235            0.15130          0.06231               0.07963          0.2226   \n542            0.13760          0.16110               0.10950          0.2722   \n\n     fractal_dimension_worst  \n351                  0.10500  \n65                   0.08911  \n296                  0.06643  \n235                  0.07617  \n542                  0.06956  \n\n[5 rows x 32 columns]"
                    }, 
                    "metadata": {}
                }
            ], 
            "source": "data_shuffled = shuffle(data)\ndata_shuffled.replace({'diagnosis': {'M': 1, 'B': 0}}, inplace = True)\ndisplay(data_shuffled.head())"
        }, 
        {
            "execution_count": 6, 
            "cell_type": "code", 
            "metadata": {}, 
            "outputs": [], 
            "source": "train_data_filename = 'breast_cancer.csv'\ndata_shuffled.iloc[:, 1:].to_csv(path_or_buf = train_data_filename, index = False, header = False)"
        }, 
        {
            "source": "**Note:** Header row have to be omitted.", 
            "cell_type": "markdown", 
            "metadata": {}
        }, 
        {
            "source": "#### Upload data to S3 Object Storage", 
            "cell_type": "markdown", 
            "metadata": {}
        }, 
        {
            "execution_count": 7, 
            "cell_type": "code", 
            "metadata": {}, 
            "outputs": [], 
            "source": "import time\nimport json\nimport boto3"
        }, 
        {
            "execution_count": 8, 
            "cell_type": "code", 
            "metadata": {}, 
            "outputs": [], 
            "source": "aws_credentials = {'access_key': '***', \n                   'secret_key': '***', \n                   'region_name': '***'}"
        }, 
        {
            "source": "**Note:** You have to provide credentials from your Amazon account.", 
            "cell_type": "markdown", 
            "metadata": {}
        }, 
        {
            "execution_count": 9, 
            "cell_type": "code", 
            "metadata": {}, 
            "outputs": [], 
            "source": "# The code was removed by Watson Studio for sharing."
        }, 
        {
            "execution_count": 10, 
            "cell_type": "code", 
            "metadata": {}, 
            "outputs": [], 
            "source": "session = boto3.Session(\n    aws_access_key_id = aws_credentials['access_key'],\n    aws_secret_access_key = aws_credentials['secret_key'],\n    region_name = aws_credentials['region_name']\n)\ns3 = session.resource('s3')"
        }, 
        {
            "execution_count": 11, 
            "cell_type": "code", 
            "metadata": {}, 
            "outputs": [], 
            "source": "bucket_name = 'sagemaker-us-east-1-014862798213'\ntrain_data_filename = 'breast_cancer.csv'\ntrain_data_path = 'breast-cancer/train'\noutput_data_path = 's3://{}/breast-cancer/output'.format(bucket_name)\ntime_suffix = time.strftime(\"%Y-%m-%d-%H-%M\", time.gmtime())"
        }, 
        {
            "source": "**Note:** You have to replace `bucket_name` with name of bucket in your S3 Object Storage. \n\nYou can run following code `[bkt.name for bkt in s3.buckets.all()]` to list all your buckets.", 
            "cell_type": "markdown", 
            "metadata": {}
        }, 
        {
            "execution_count": 12, 
            "cell_type": "code", 
            "metadata": {}, 
            "outputs": [], 
            "source": "s3_bucket = s3.Bucket(bucket_name)\ns3_bucket.upload_file(Filename = train_data_filename, Key = '{}/{}'.format(train_data_path, train_data_filename))"
        }, 
        {
            "source": "Let's check if your data have been uploaded successfully.", 
            "cell_type": "markdown", 
            "metadata": {}
        }, 
        {
            "execution_count": 13, 
            "cell_type": "code", 
            "metadata": {}, 
            "outputs": [
                {
                    "output_type": "stream", 
                    "name": "stdout", 
                    "text": "s3://sagemaker-us-east-1-014862798213/breast-cancer/train/breast_cancer.csv\n"
                }
            ], 
            "source": "for s3_obj in s3_bucket.objects.all():\n    if (s3_obj.bucket_name == bucket_name) and (train_data_path in s3_obj.key):\n        train_data_uri = 's3://{}/{}'.format(s3_obj.bucket_name, s3_obj.key)\n        print(train_data_uri)"
        }, 
        {
            "source": "<a id=\"model\"></a>\n## 3. Create logistic regression model using SageMaker linear-learner algorithm\n\nIn this section you will learn how to:\n\n- [3.1 Setup training parameters](#prep)\n- [3.2 Start training job](#train)", 
            "cell_type": "markdown", 
            "metadata": {}
        }, 
        {
            "source": "<a id=\"prep\"></a>\n### 3.1 Setup training parameters", 
            "cell_type": "markdown", 
            "metadata": {}
        }, 
        {
            "execution_count": 14, 
            "cell_type": "code", 
            "metadata": {}, 
            "outputs": [], 
            "source": "from sagemaker.amazon.amazon_estimator import get_image_uri\n\nsm_client = session.client('sagemaker')"
        }, 
        {
            "execution_count": 15, 
            "cell_type": "code", 
            "metadata": {}, 
            "outputs": [], 
            "source": "training_image = get_image_uri(session.region_name, 'linear-learner')\n\niam_client = session.client('iam')\n[role_arn, *_] = [role['Arn'] for role in iam_client.list_roles()['Roles'] if 'AmazonSageMaker-ExecutionRole' in role['RoleName']]\n\nlinear_job_name = 'Breast-cancer-linear-learner-' + time_suffix"
        }, 
        {
            "execution_count": 16, 
            "cell_type": "code", 
            "metadata": {}, 
            "outputs": [], 
            "source": "linear_training_params = {\n    \"AlgorithmSpecification\": {\n        \"TrainingImage\": training_image,\n        \"TrainingInputMode\": \"File\"\n    },\n    \"HyperParameters\": {\n        \"feature_dim\": \"30\",\n        \"mini_batch_size\": \"100\",\n        \"predictor_type\": \"binary_classifier\",\n        \"epochs\": \"10\",\n        \"num_models\": \"32\",\n        \"loss\": \"auto\"\n    },\n    \"InputDataConfig\": [{\n        \"ChannelName\": \"train\",\n        \"ContentType\": \"text/csv\", \n        \"DataSource\": {\n            \"S3DataSource\": {\n                \"S3DataType\": \"S3Prefix\",\n                \"S3Uri\": train_data_uri,\n                \"S3DataDistributionType\": \"ShardedByS3Key\"\n            }\n        }\n    }],\n    \"OutputDataConfig\": {\"S3OutputPath\": output_data_path},\n    \"ResourceConfig\": {\n        \"InstanceCount\": 1,\n        \"InstanceType\": \"ml.c4.xlarge\",\n        \"VolumeSizeInGB\": 2\n    },\n    \"RoleArn\": role_arn,\n    \"StoppingCondition\": {\n        \"MaxRuntimeInSeconds\": 6 * 60\n    },\n    \"TrainingJobName\": linear_job_name\n\n}"
        }, 
        {
            "source": "<a id=\"train\"></a>\n### 3.2 Start training job", 
            "cell_type": "markdown", 
            "metadata": {}
        }, 
        {
            "execution_count": 17, 
            "cell_type": "code", 
            "metadata": {}, 
            "outputs": [
                {
                    "execution_count": 17, 
                    "metadata": {}, 
                    "data": {
                        "text/plain": "{'ResponseMetadata': {'HTTPHeaders': {'content-length': '120',\n   'content-type': 'application/x-amz-json-1.1',\n   'date': 'Thu, 20 Dec 2018 13:39:25 GMT',\n   'x-amzn-requestid': '0e4d7df2-e2c3-481a-ac5f-5c6c969790a5'},\n  'HTTPStatusCode': 200,\n  'RequestId': '0e4d7df2-e2c3-481a-ac5f-5c6c969790a5',\n  'RetryAttempts': 0},\n 'TrainingJobArn': 'arn:aws:sagemaker:us-east-1:014862798213:training-job/breast-cancer-linear-learner-2018-12-20-13-38'}"
                    }, 
                    "output_type": "execute_result"
                }
            ], 
            "source": "sm_client.create_training_job(**linear_training_params)"
        }, 
        {
            "execution_count": 18, 
            "cell_type": "code", 
            "metadata": {}, 
            "outputs": [], 
            "source": "try:\n    sm_client.get_waiter('training_job_completed_or_stopped').wait(TrainingJobName = linear_job_name)\nexcept Exception:\n    print('Traing job error.')"
        }, 
        {
            "execution_count": 19, 
            "cell_type": "code", 
            "metadata": {}, 
            "outputs": [
                {
                    "output_type": "stream", 
                    "name": "stdout", 
                    "text": "arn:aws:sagemaker:us-east-1:014862798213:training-job/breast-cancer-linear-learner-2018-12-20-13-38\ns3://sagemaker-us-east-1-014862798213/breast-cancer/output/Breast-cancer-linear-learner-2018-12-20-13-38/output/model.tar.gz\n"
                }
            ], 
            "source": "train_job_details = sm_client.describe_training_job(TrainingJobName = linear_job_name)\ntrain_job_status = train_job_details['TrainingJobStatus']\n\nif train_job_status == 'Failed':\n    print(train_job_details['FailureReason'])\nelse:\n    train_job_arn = train_job_details['TrainingJobArn']\n    print(train_job_arn)\n    trained_model_uri = train_job_details['ModelArtifacts']['S3ModelArtifacts']\n    print(trained_model_uri)"
        }, 
        {
            "source": "<a id=\"deployment\"></a>\n## 4. Deploy model in the AWS Cloud", 
            "cell_type": "markdown", 
            "metadata": {}
        }, 
        {
            "source": "### 4.1 Setup deployment parameters", 
            "cell_type": "markdown", 
            "metadata": {}
        }, 
        {
            "execution_count": 21, 
            "cell_type": "code", 
            "metadata": {}, 
            "outputs": [
                {
                    "output_type": "stream", 
                    "name": "stdout", 
                    "text": "arn:aws:sagemaker:us-east-1:014862798213:model/breast-cancer-linear-learner-2018-12-20-13-38\n"
                }
            ], 
            "source": "linear_hosting_container = {'Image': training_image, 'ModelDataUrl': trained_model_uri}\n\ncreate_model_details = sm_client.create_model(\n    ModelName = linear_job_name,\n    ExecutionRoleArn = role_arn,\n    PrimaryContainer = linear_hosting_container)\n\nprint(create_model_details['ModelArn'])"
        }, 
        {
            "source": "### 4.2 Create deployment configuration endpoint", 
            "cell_type": "markdown", 
            "metadata": {}
        }, 
        {
            "execution_count": 22, 
            "cell_type": "code", 
            "metadata": {}, 
            "outputs": [
                {
                    "output_type": "stream", 
                    "name": "stdout", 
                    "text": "Breast-cancer-linear-endpoint-config-2018-12-20-13-38\n"
                }
            ], 
            "source": "endpoint_config = 'Breast-cancer-linear-endpoint-config-' + time_suffix\nprint(endpoint_config)\n\ncreate_endpoint_config_details = sm_client.create_endpoint_config(\n    EndpointConfigName = endpoint_config,\n    ProductionVariants = [{\n        'InstanceType': 'ml.m4.xlarge',\n        'InitialInstanceCount': 1,\n        'ModelName': linear_job_name,\n        'VariantName': 'AllTraffic'}])"
        }, 
        {
            "execution_count": 23, 
            "cell_type": "code", 
            "metadata": {}, 
            "outputs": [
                {
                    "output_type": "stream", 
                    "name": "stdout", 
                    "text": "{'ResponseMetadata': {'RetryAttempts': 0, 'HTTPHeaders': {'content-type': 'application/x-amz-json-1.1', 'x-amzn-requestid': '5f0680c6-6391-4ea5-b862-6c6101ea65d6', 'content-length': '437', 'date': 'Thu, 20 Dec 2018 13:44:56 GMT'}, 'HTTPStatusCode': 200, 'RequestId': '5f0680c6-6391-4ea5-b862-6c6101ea65d6'}, 'EndpointConfigArn': 'arn:aws:sagemaker:us-east-1:014862798213:endpoint-config/breast-cancer-linear-endpoint-config-2018-12-20-13-38', 'EndpointConfigName': 'Breast-cancer-linear-endpoint-config-2018-12-20-13-38', 'CreationTime': datetime.datetime(2018, 12, 20, 13, 44, 47, 151000, tzinfo=tzlocal()), 'ProductionVariants': [{'InitialInstanceCount': 1, 'ModelName': 'Breast-cancer-linear-learner-2018-12-20-13-38', 'VariantName': 'AllTraffic', 'InitialVariantWeight': 1.0, 'InstanceType': 'ml.m4.xlarge'}]}\n"
                }
            ], 
            "source": "endpoint_config_details = sm_client.describe_endpoint_config(EndpointConfigName = endpoint_config)\nprint(endpoint_config_details)"
        }, 
        {
            "source": "### 4.3 Create scoring endpoint", 
            "cell_type": "markdown", 
            "metadata": {}
        }, 
        {
            "execution_count": 24, 
            "cell_type": "code", 
            "metadata": {}, 
            "outputs": [], 
            "source": "scoring_endpoint = 'Breast-cancer-endpoint-scoring-' + time_suffix\n\ncreate_endpoint_details = sm_client.create_endpoint(\n    EndpointName = scoring_endpoint,\n    EndpointConfigName = endpoint_config)"
        }, 
        {
            "execution_count": 25, 
            "cell_type": "code", 
            "metadata": {}, 
            "outputs": [], 
            "source": "try:\n    sm_client.get_waiter('endpoint_in_service').wait(EndpointName = scoring_endpoint)\nexcept Exception:\n    print('Create scoring endpoint error')"
        }, 
        {
            "execution_count": 26, 
            "cell_type": "code", 
            "metadata": {}, 
            "outputs": [
                {
                    "output_type": "stream", 
                    "name": "stdout", 
                    "text": "{'EndpointStatus': 'InService', 'EndpointConfigName': 'Breast-cancer-linear-endpoint-config-2018-12-20-13-38', 'LastModifiedTime': datetime.datetime(2018, 12, 20, 13, 51, 20, 90000, tzinfo=tzlocal()), 'ResponseMetadata': {'RetryAttempts': 0, 'HTTPHeaders': {'content-type': 'application/x-amz-json-1.1', 'x-amzn-requestid': '8053446e-cdde-43ca-a2e6-8e167cc0b4a8', 'content-length': '781', 'date': 'Thu, 20 Dec 2018 13:51:43 GMT'}, 'HTTPStatusCode': 200, 'RequestId': '8053446e-cdde-43ca-a2e6-8e167cc0b4a8'}, 'EndpointName': 'Breast-cancer-endpoint-scoring-2018-12-20-13-38', 'CreationTime': datetime.datetime(2018, 12, 20, 13, 45, 4, 177000, tzinfo=tzlocal()), 'ProductionVariants': [{'DeployedImages': [{'SpecifiedImage': '382416733822.dkr.ecr.us-east-1.amazonaws.com/linear-learner:1', 'ResolvedImage': '382416733822.dkr.ecr.us-east-1.amazonaws.com/linear-learner@sha256:1890548fee5880f79185e1d0180d21decdfad81175961135dfb44cd04504037f', 'ResolutionTime': datetime.datetime(2018, 12, 20, 13, 45, 5, 868000, tzinfo=tzlocal())}], 'CurrentInstanceCount': 1, 'DesiredWeight': 1.0, 'CurrentWeight': 1.0, 'VariantName': 'AllTraffic', 'DesiredInstanceCount': 1}], 'EndpointArn': 'arn:aws:sagemaker:us-east-1:014862798213:endpoint/breast-cancer-endpoint-scoring-2018-12-20-13-38'}\n"
                }
            ], 
            "source": "scoring_endpoint_details = sm_client.describe_endpoint(EndpointName = scoring_endpoint)\nscoring_enpoint_config_status = scoring_endpoint_details['EndpointStatus']\nif scoring_enpoint_config_status != 'InService':\n    print(scoring_endpoint_details['FailureReason'])\nelse:\n    print(scoring_endpoint_details['EndpointArn'])"
        }, 
        {
            "source": "<a id=\"score\"></a>\n## 5. Score the model", 
            "cell_type": "markdown", 
            "metadata": {}
        }, 
        {
            "source": "### 5.1 Prepare sample data for scoring", 
            "cell_type": "markdown", 
            "metadata": {}
        }, 
        {
            "source": "You will use data in `csv` format as scoring payload. First column (label) is removed from data and last 20 training records are selected.", 
            "cell_type": "markdown", 
            "metadata": {}
        }, 
        {
            "execution_count": 27, 
            "cell_type": "code", 
            "metadata": {}, 
            "outputs": [], 
            "source": "scoring_data_filename = 'scoring_breast_cancer.csv'"
        }, 
        {
            "execution_count": 28, 
            "cell_type": "code", 
            "metadata": {}, 
            "outputs": [], 
            "source": "with open(train_data_filename) as f_train:\n    with open(scoring_data_filename, 'w') as f_score:\n        f_score.writelines([','.join(line.split(',')[1:]) for line in f_train.readlines()[-20:]])"
        }, 
        {
            "source": "### 5.2 Send data for scoring", 
            "cell_type": "markdown", 
            "metadata": {}
        }, 
        {
            "execution_count": 30, 
            "cell_type": "code", 
            "metadata": {}, 
            "outputs": [
                {
                    "output_type": "stream", 
                    "name": "stdout", 
                    "text": "{'predictions': [{'predicted_label': 0.0, 'score': 0.22364917397499084}, {'predicted_label': 1.0, 'score': 0.9998002648353577}, {'predicted_label': 1.0, 'score': 1.0}, {'predicted_label': 0.0, 'score': 0.023445170372724533}, {'predicted_label': 1.0, 'score': 0.968568742275238}, {'predicted_label': 0.0, 'score': 1.1004765809730088e-07}, {'predicted_label': 0.0, 'score': 0.0007473318837583065}, {'predicted_label': 0.0, 'score': 0.2242916375398636}, {'predicted_label': 0.0, 'score': 0.07657745480537415}, {'predicted_label': 0.0, 'score': 0.010532176122069359}, {'predicted_label': 0.0, 'score': 0.22209057211875916}, {'predicted_label': 1.0, 'score': 0.9999949932098389}, {'predicted_label': 1.0, 'score': 1.0}, {'predicted_label': 0.0, 'score': 0.04370381310582161}, {'predicted_label': 1.0, 'score': 1.0}, {'predicted_label': 1.0, 'score': 0.9999145269393921}, {'predicted_label': 0.0, 'score': 0.0780254602432251}, {'predicted_label': 0.0, 'score': 0.004816959146410227}, {'predicted_label': 0.0, 'score': 0.007592230103909969}, {'predicted_label': 0.0, 'score': 2.1433002075355034e-06}]}\n"
                }
            ], 
            "source": "sm_runtime = session.client('runtime.sagemaker')\n\nwith open(scoring_data_filename) as f_payload:\n    scoring_response = sm_runtime.invoke_endpoint(EndpointName = scoring_endpoint,\n                                                  ContentType = 'text/csv',\n                                                  Body = f_payload.read().encode())\n    \n    scored_records = scoring_response['Body'].read().decode()\n    print(json.loads(scored_records))"
        }, 
        {
            "source": "### Authors\n\nWojciech Sobala, Data Scientist at IBM", 
            "cell_type": "markdown", 
            "metadata": {}
        }
    ], 
    "metadata": {
        "kernelspec": {
            "display_name": "Python 3.5", 
            "name": "python3", 
            "language": "python"
        }, 
        "language_info": {
            "mimetype": "text/x-python", 
            "nbconvert_exporter": "python", 
            "version": "3.5.5", 
            "name": "python", 
            "file_extension": ".py", 
            "pygments_lexer": "ipython3", 
            "codemirror_mode": {
                "version": 3, 
                "name": "ipython"
            }
        }
    }, 
    "nbformat": 4
}