{
    "nbformat_minor": 1, 
    "cells": [
        {
            "source": "# Data Mart configuration and usage with `ibm-ai-openscale` python package\n\n<img src=\"https://github.com/pmservice/ai-openscale-tutorials/raw/master/notebooks/images/image.png\" align=\"left\" alt=\"banner\" width=\"100\">", 
            "cell_type": "markdown", 
            "metadata": {}
        }, 
        {
            "source": "This notebook shows hot to create a data mart for Watson Machine Learning deployments. It includes steps for performance, bias and quality monitor configurations.", 
            "cell_type": "markdown", 
            "metadata": {}
        }, 
        {
            "source": "Contents\n- [1. Setup](#setup)\n- [2. Binding machine learning engine](#binding)\n- [3. Subscriptions](#subscription)\n- [4. Score models](#scoring)\n- [5. Data Mart](#datamart)\n- [6. Visualization](#visualization)", 
            "cell_type": "markdown", 
            "metadata": {}
        }, 
        {
            "source": "<a id=\"setup\"></a>\n## 1. Setup", 
            "cell_type": "markdown", 
            "metadata": {}
        }, 
        {
            "source": "### 1.1 Installation and authentication", 
            "cell_type": "markdown", 
            "metadata": {}
        }, 
        {
            "execution_count": 25, 
            "cell_type": "code", 
            "metadata": {
                "scrolled": true
            }, 
            "outputs": [
                {
                    "output_type": "stream", 
                    "name": "stdout", 
                    "text": "Requirement already up-to-date: ibm-ai-openscale in /opt/conda/envs/DSX-Python35/lib/python3.5/site-packages\nRequirement not upgraded as not directly required: tabulate in /opt/conda/envs/DSX-Python35/lib/python3.5/site-packages (from ibm-ai-openscale)\nRequirement not upgraded as not directly required: pandas in /opt/conda/envs/DSX-Python35/lib/python3.5/site-packages (from ibm-ai-openscale)\nRequirement not upgraded as not directly required: requests in /opt/conda/envs/DSX-Python35/lib/python3.5/site-packages (from ibm-ai-openscale)\nRequirement not upgraded as not directly required: watson-machine-learning-client in /opt/conda/envs/DSX-Python35/lib/python3.5/site-packages (from ibm-ai-openscale)\nRequirement not upgraded as not directly required: psycopg2 in /opt/conda/envs/DSX-Python35/lib/python3.5/site-packages (from ibm-ai-openscale)\nRequirement not upgraded as not directly required: python-dateutil>=2 in /opt/conda/envs/DSX-Python35/lib/python3.5/site-packages (from pandas->ibm-ai-openscale)\nRequirement not upgraded as not directly required: pytz>=2011k in /opt/conda/envs/DSX-Python35/lib/python3.5/site-packages (from pandas->ibm-ai-openscale)\nRequirement not upgraded as not directly required: numpy>=1.9.0 in /opt/conda/envs/DSX-Python35/lib/python3.5/site-packages (from pandas->ibm-ai-openscale)\nRequirement not upgraded as not directly required: chardet<3.1.0,>=3.0.2 in /opt/conda/envs/DSX-Python35/lib/python3.5/site-packages (from requests->ibm-ai-openscale)\nRequirement not upgraded as not directly required: idna<2.7,>=2.5 in /opt/conda/envs/DSX-Python35/lib/python3.5/site-packages (from requests->ibm-ai-openscale)\nRequirement not upgraded as not directly required: urllib3<1.23,>=1.21.1 in /opt/conda/envs/DSX-Python35/lib/python3.5/site-packages (from requests->ibm-ai-openscale)\nRequirement not upgraded as not directly required: certifi>=2017.4.17 in /opt/conda/envs/DSX-Python35/lib/python3.5/site-packages (from requests->ibm-ai-openscale)\nRequirement not upgraded as not directly required: tqdm in /opt/conda/envs/DSX-Python35/lib/python3.5/site-packages (from watson-machine-learning-client->ibm-ai-openscale)\nRequirement not upgraded as not directly required: ibm-cos-sdk in /opt/conda/envs/DSX-Python35/lib/python3.5/site-packages (from watson-machine-learning-client->ibm-ai-openscale)\nRequirement not upgraded as not directly required: lomond in /opt/conda/envs/DSX-Python35/lib/python3.5/site-packages (from watson-machine-learning-client->ibm-ai-openscale)\nRequirement not upgraded as not directly required: six>=1.5 in /opt/conda/envs/DSX-Python35/lib/python3.5/site-packages (from python-dateutil>=2->pandas->ibm-ai-openscale)\nRequirement not upgraded as not directly required: ibm-cos-sdk-s3transfer==2.*,>=2.0.0 in /opt/conda/envs/DSX-Python35/lib/python3.5/site-packages (from ibm-cos-sdk->watson-machine-learning-client->ibm-ai-openscale)\nRequirement not upgraded as not directly required: ibm-cos-sdk-core==2.*,>=2.0.0 in /opt/conda/envs/DSX-Python35/lib/python3.5/site-packages (from ibm-cos-sdk->watson-machine-learning-client->ibm-ai-openscale)\nRequirement not upgraded as not directly required: docutils>=0.10 in /opt/conda/envs/DSX-Python35/lib/python3.5/site-packages (from ibm-cos-sdk-core==2.*,>=2.0.0->ibm-cos-sdk->watson-machine-learning-client->ibm-ai-openscale)\nRequirement not upgraded as not directly required: jmespath<1.0.0,>=0.7.1 in /opt/conda/envs/DSX-Python35/lib/python3.5/site-packages (from ibm-cos-sdk-core==2.*,>=2.0.0->ibm-cos-sdk->watson-machine-learning-client->ibm-ai-openscale)\n"
                }
            ], 
            "source": "!pip install --upgrade ibm-ai-openscale"
        }, 
        {
            "execution_count": 26, 
            "cell_type": "code", 
            "metadata": {}, 
            "outputs": [
                {
                    "output_type": "stream", 
                    "name": "stdout", 
                    "text": "Requirement already up-to-date: watson-machine-learning-client in /opt/conda/envs/DSX-Python35/lib/python3.5/site-packages\nRequirement not upgraded as not directly required: tqdm in /opt/conda/envs/DSX-Python35/lib/python3.5/site-packages (from watson-machine-learning-client)\nRequirement not upgraded as not directly required: urllib3 in /opt/conda/envs/DSX-Python35/lib/python3.5/site-packages (from watson-machine-learning-client)\nRequirement not upgraded as not directly required: requests in /opt/conda/envs/DSX-Python35/lib/python3.5/site-packages (from watson-machine-learning-client)\nRequirement not upgraded as not directly required: pandas in /opt/conda/envs/DSX-Python35/lib/python3.5/site-packages (from watson-machine-learning-client)\nRequirement not upgraded as not directly required: ibm-cos-sdk in /opt/conda/envs/DSX-Python35/lib/python3.5/site-packages (from watson-machine-learning-client)\nRequirement not upgraded as not directly required: certifi in /opt/conda/envs/DSX-Python35/lib/python3.5/site-packages (from watson-machine-learning-client)\nRequirement not upgraded as not directly required: tabulate in /opt/conda/envs/DSX-Python35/lib/python3.5/site-packages (from watson-machine-learning-client)\nRequirement not upgraded as not directly required: lomond in /opt/conda/envs/DSX-Python35/lib/python3.5/site-packages (from watson-machine-learning-client)\nRequirement not upgraded as not directly required: chardet<3.1.0,>=3.0.2 in /opt/conda/envs/DSX-Python35/lib/python3.5/site-packages (from requests->watson-machine-learning-client)\nRequirement not upgraded as not directly required: idna<2.7,>=2.5 in /opt/conda/envs/DSX-Python35/lib/python3.5/site-packages (from requests->watson-machine-learning-client)\nRequirement not upgraded as not directly required: python-dateutil>=2 in /opt/conda/envs/DSX-Python35/lib/python3.5/site-packages (from pandas->watson-machine-learning-client)\nRequirement not upgraded as not directly required: pytz>=2011k in /opt/conda/envs/DSX-Python35/lib/python3.5/site-packages (from pandas->watson-machine-learning-client)\nRequirement not upgraded as not directly required: numpy>=1.9.0 in /opt/conda/envs/DSX-Python35/lib/python3.5/site-packages (from pandas->watson-machine-learning-client)\nRequirement not upgraded as not directly required: ibm-cos-sdk-s3transfer==2.*,>=2.0.0 in /opt/conda/envs/DSX-Python35/lib/python3.5/site-packages (from ibm-cos-sdk->watson-machine-learning-client)\nRequirement not upgraded as not directly required: ibm-cos-sdk-core==2.*,>=2.0.0 in /opt/conda/envs/DSX-Python35/lib/python3.5/site-packages (from ibm-cos-sdk->watson-machine-learning-client)\nRequirement not upgraded as not directly required: six>=1.10.0 in /opt/conda/envs/DSX-Python35/lib/python3.5/site-packages (from lomond->watson-machine-learning-client)\nRequirement not upgraded as not directly required: docutils>=0.10 in /opt/conda/envs/DSX-Python35/lib/python3.5/site-packages (from ibm-cos-sdk-core==2.*,>=2.0.0->ibm-cos-sdk->watson-machine-learning-client)\nRequirement not upgraded as not directly required: jmespath<1.0.0,>=0.7.1 in /opt/conda/envs/DSX-Python35/lib/python3.5/site-packages (from ibm-cos-sdk-core==2.*,>=2.0.0->ibm-cos-sdk->watson-machine-learning-client)\n"
                }
            ], 
            "source": "!pip install --upgrade watson-machine-learning-client"
        }, 
        {
            "source": "### ACTION: Restart kernel to make sure installed versions are used.", 
            "cell_type": "markdown", 
            "metadata": {}
        }, 
        {
            "source": "Import and initiate.", 
            "cell_type": "markdown", 
            "metadata": {}
        }, 
        {
            "execution_count": 27, 
            "cell_type": "code", 
            "metadata": {}, 
            "outputs": [], 
            "source": "from ibm_ai_openscale import APIClient\nfrom ibm_ai_openscale.engines import *"
        }, 
        {
            "source": "### ACTION: Get `data_mart_id` (GUID) and `apikey`\n\nHow to get api key using bluemix console:\n```\nbx login --sso\nbx iam api-key-create 'my_key'\n```\n\nHow to get DATA_MART_ID (this is AI OpenScale instance GUID)\n```\nbx resource service-instance \u2018instance_name\u2019\n```\n", 
            "cell_type": "markdown", 
            "metadata": {}
        }, 
        {
            "execution_count": 28, 
            "cell_type": "code", 
            "metadata": {}, 
            "outputs": [], 
            "source": "aios_credentials = {\n  \"data_mart_id\": \"*****\",\n  \"apikey\": \"*****\", \n  \"url\": \"https://api.aiopenscale.cloud.ibm.com\"\n}"
        }, 
        {
            "execution_count": 73, 
            "cell_type": "code", 
            "metadata": {}, 
            "outputs": [], 
            "source": "# The code was removed by Watson Studio for sharing."
        }, 
        {
            "source": "### ACTION: Add your Watson Machine Learning credentials here", 
            "cell_type": "markdown", 
            "metadata": {}
        }, 
        {
            "execution_count": 74, 
            "cell_type": "code", 
            "metadata": {}, 
            "outputs": [], 
            "source": "wml_credentials =  {\n  \"apikey\": \"***\",\n  \"iam_apikey_description\": \"Auto generated apikey during resource-key operation for Instance - crn:v1:bluemix:public:pm-20:us-south:a/181ed6cc388f47bd9d862fe066f9cfce:c419e24a-c4eb-41b4-a2e1-ce4f0d298428::\",\n  \"iam_apikey_name\": \"auto-generated-apikey-33f864a1-9958-4a32-b9ab-6fd962f98522\",\n  \"iam_role_crn\": \"crn:v1:bluemix:public:iam::::serviceRole:Writer\",\n  \"iam_serviceid_crn\": \"crn:v1:bluemix:public:iam-identity::a/181ed6cc388f47bd9d862fe066f9cfce::serviceid:ServiceId-e847629a-195e-455d-a949-957263b867ab\",\n  \"instance_id\": \"***\",\n  \"password\": \"***\",\n  \"url\": \"https://us-south.ml.cloud.ibm.com\",\n  \"username\": \"*****\"\n}"
        }, 
        {
            "execution_count": 75, 
            "cell_type": "code", 
            "metadata": {}, 
            "outputs": [], 
            "source": "# The code was removed by Watson Studio for sharing."
        }, 
        {
            "source": "### ACTION: Add your PostgreSQL credentials here", 
            "cell_type": "markdown", 
            "metadata": {}
        }, 
        {
            "execution_count": 78, 
            "cell_type": "code", 
            "metadata": {}, 
            "outputs": [], 
            "source": "postgres_credentials = {\n    \"db_type\": \"postgresql\",\n    \"uri\": \"<put correct uri here>\"\n}"
        }, 
        {
            "execution_count": 79, 
            "cell_type": "code", 
            "metadata": {}, 
            "outputs": [], 
            "source": "# The code was removed by Watson Studio for sharing."
        }, 
        {
            "execution_count": 80, 
            "cell_type": "code", 
            "metadata": {
                "scrolled": true
            }, 
            "outputs": [], 
            "source": "client = APIClient(aios_credentials)"
        }, 
        {
            "execution_count": 81, 
            "cell_type": "code", 
            "metadata": {}, 
            "outputs": [
                {
                    "execution_count": 81, 
                    "metadata": {}, 
                    "data": {
                        "text/plain": "'1.0.50'"
                    }, 
                    "output_type": "execute_result"
                }
            ], 
            "source": "client.version"
        }, 
        {
            "source": "Put your schema name here.", 
            "cell_type": "markdown", 
            "metadata": {}
        }, 
        {
            "execution_count": 82, 
            "cell_type": "code", 
            "metadata": {}, 
            "outputs": [], 
            "source": "schemaName = 'data_mart'"
        }, 
        {
            "source": "You can use the code below to create the schema. If the schema already exists skipp this cell.", 
            "cell_type": "markdown", 
            "metadata": {}
        }, 
        {
            "execution_count": 83, 
            "cell_type": "code", 
            "metadata": {}, 
            "outputs": [], 
            "source": "import psycopg2\n\nhostname = postgres_credentials['uri'].split('@')[1].split(':')[0]\nport = postgres_credentials['uri'].split('@')[1].split(':')[1].split('/')[0]\nuser = postgres_credentials['uri'].split('@')[0].split('//')[1].split(':')[0]\npassword = postgres_credentials['uri'].split('@')[0].split('//')[1].split(':')[1]\ndbname = 'compose'\n\nconn_string = \"host=\" + hostname + \" port=\" + port + \" dbname=\" + dbname + \" user=\" + user + \" password=\" + password\nconn = psycopg2.connect(conn_string)\nconn.autocommit = True\ncursor = conn.cursor()\ntry:\n    query = \"drop schema \" + schemaName + \" cascade\"\n    cursor.execute(query)\nexcept:\n    pass\nfinally:    \n    try:\n        query = \"create schema \" + schemaName\n        cursor.execute(query)\n    finally:    \n        conn.close()"
        }, 
        {
            "source": "### 1.2 DataMart setup", 
            "cell_type": "markdown", 
            "metadata": {}
        }, 
        {
            "execution_count": 84, 
            "cell_type": "code", 
            "metadata": {}, 
            "outputs": [], 
            "source": "client.data_mart.setup(postgres_credentials=postgres_credentials, schema=schemaName)"
        }, 
        {
            "execution_count": 85, 
            "cell_type": "code", 
            "metadata": {}, 
            "outputs": [], 
            "source": "data_mart_details = client.data_mart.get_details()"
        }, 
        {
            "source": "Data Mart with instance id name has been created.", 
            "cell_type": "markdown", 
            "metadata": {}
        }, 
        {
            "source": "<a id=\"binding\"></a>\n\n## 2. Bind machine learning engines", 
            "cell_type": "markdown", 
            "metadata": {}
        }, 
        {
            "source": "### 2.1 Bind Watson Machine Learning ", 
            "cell_type": "markdown", 
            "metadata": {}
        }, 
        {
            "source": "You can bind you Watson Machine Learning instance to previously created data mart.", 
            "cell_type": "markdown", 
            "metadata": {}
        }, 
        {
            "execution_count": 86, 
            "cell_type": "code", 
            "metadata": {}, 
            "outputs": [], 
            "source": "binding_uid = client.data_mart.bindings.add('WML instance', WatsonMachineLearningInstance(wml_credentials))"
        }, 
        {
            "execution_count": 87, 
            "cell_type": "code", 
            "metadata": {}, 
            "outputs": [], 
            "source": "bindings_details = client.data_mart.bindings.get_details()"
        }, 
        {
            "execution_count": 88, 
            "cell_type": "code", 
            "metadata": {}, 
            "outputs": [
                {
                    "output_type": "display_data", 
                    "data": {
                        "text/html": "<HTML>\n        <body>\n            <h3>Service bindings</h3>\n            <table style='border: 1px solid #dddddd; font-family: Courier'>\n                <th style='border: 1px solid #dddddd'>uid</th><th style='border: 1px solid #dddddd'>name</th><th style='border: 1px solid #dddddd'>service_type</th><th style='border: 1px solid #dddddd'>created</th>\n                <tr><td style='border: 1px solid #dddddd'>a73bf76d-a663-448a-b771-4f651f73d54e</td><td style='border: 1px solid #dddddd'>WML instance</td><td style='border: 1px solid #dddddd'>watson_machine_learning</td><td style='border: 1px solid #dddddd'>2018-11-02T13:06:30.347Z</td></tr>\n            </table>\n        </body>\n        </HTML>", 
                        "text/plain": "<IPython.core.display.HTML object>"
                    }, 
                    "metadata": {}
                }
            ], 
            "source": "client.data_mart.bindings.list()"
        }, 
        {
            "source": "### 2.2 Check available assets from binded services", 
            "cell_type": "markdown", 
            "metadata": {}
        }, 
        {
            "source": "#### List available assets", 
            "cell_type": "markdown", 
            "metadata": {}
        }, 
        {
            "execution_count": 89, 
            "cell_type": "code", 
            "metadata": {}, 
            "outputs": [
                {
                    "output_type": "display_data", 
                    "data": {
                        "text/html": "<HTML>\n        <body>\n            <h3>Available assets</h3>\n            <table style='border: 1px solid #dddddd; font-family: Courier'>\n                <th style='border: 1px solid #dddddd'>source_uid</th><th style='border: 1px solid #dddddd'>name</th><th style='border: 1px solid #dddddd'>created</th><th style='border: 1px solid #dddddd'>type</th><th style='border: 1px solid #dddddd'>frameworks</th><th style='border: 1px solid #dddddd'>binding_uid</th><th style='border: 1px solid #dddddd'>subscription_uid</th>\n                <tr><td style='border: 1px solid #dddddd'>8d3fdf56-57fd-4a37-b614-01caada3507f</td><td style='border: 1px solid #dddddd'>drug-selection</td><td style='border: 1px solid #dddddd'>2018-11-02T11:13:53.971Z</td><td style='border: 1px solid #dddddd'>model</td><td style='border: 1px solid #dddddd'>mllib-2.1</td><td style='border: 1px solid #dddddd'>a73bf76d-a663-448a-b771-4f651f73d54e</td><td style='border: 1px solid #dddddd'>-</td></tr>\n            </table>\n        </body>\n        </HTML>", 
                        "text/plain": "<IPython.core.display.HTML object>"
                    }, 
                    "metadata": {}
                }
            ], 
            "source": "client.data_mart.bindings.list_assets()"
        }, 
        {
            "source": "#### Get metadata of available assets", 
            "cell_type": "markdown", 
            "metadata": {}
        }, 
        {
            "execution_count": 90, 
            "cell_type": "code", 
            "metadata": {}, 
            "outputs": [], 
            "source": "assets_details = client.data_mart.bindings.get_asset_details()"
        }, 
        {
            "execution_count": 91, 
            "cell_type": "code", 
            "metadata": {}, 
            "outputs": [], 
            "source": "source_assets_uids = []\n\nfor x in client.data_mart.bindings.get_asset_details():\n    source_assets_uids.append(x['source_uid'])"
        }, 
        {
            "execution_count": 92, 
            "cell_type": "code", 
            "metadata": {}, 
            "outputs": [
                {
                    "output_type": "stream", 
                    "name": "stdout", 
                    "text": "['8d3fdf56-57fd-4a37-b614-01caada3507f']\n"
                }
            ], 
            "source": "print(str(source_assets_uids))"
        }, 
        {
            "source": "<a id=\"subscriptions\"></a>\n## 3. Subscriptions", 
            "cell_type": "markdown", 
            "metadata": {}
        }, 
        {
            "source": "### 3.1 Add subscriptions", 
            "cell_type": "markdown", 
            "metadata": {}
        }, 
        {
            "execution_count": 93, 
            "cell_type": "code", 
            "metadata": {}, 
            "outputs": [
                {
                    "output_type": "stream", 
                    "name": "stdout", 
                    "text": "Adding subscription for: 8d3fdf56-57fd-4a37-b614-01caada3507f\n"
                }
            ], 
            "source": "for uid in source_assets_uids:\n    sub = client.data_mart.subscriptions.add(WatsonMachineLearningAsset(uid))\n    print(\"Adding subscription for: \" + str(uid))"
        }, 
        {
            "source": "#### Get subscriptions list", 
            "cell_type": "markdown", 
            "metadata": {}
        }, 
        {
            "execution_count": 94, 
            "cell_type": "code", 
            "metadata": {}, 
            "outputs": [
                {
                    "output_type": "stream", 
                    "name": "stdout", 
                    "text": "['8d3fdf56-57fd-4a37-b614-01caada3507f']\n"
                }
            ], 
            "source": "subscriptions_uids = client.data_mart.subscriptions.get_uids()\nprint(subscriptions_uids)"
        }, 
        {
            "source": "#### List subscriptions", 
            "cell_type": "markdown", 
            "metadata": {}
        }, 
        {
            "execution_count": 95, 
            "cell_type": "code", 
            "metadata": {}, 
            "outputs": [
                {
                    "output_type": "display_data", 
                    "data": {
                        "text/html": "<HTML>\n        <body>\n            <h3>Subscriptions</h3>\n            <table style='border: 1px solid #dddddd; font-family: Courier'>\n                <th style='border: 1px solid #dddddd'>uid</th><th style='border: 1px solid #dddddd'>name</th><th style='border: 1px solid #dddddd'>type</th><th style='border: 1px solid #dddddd'>binding_uid</th><th style='border: 1px solid #dddddd'>source_uid</th><th style='border: 1px solid #dddddd'>created</th>\n                <tr><td style='border: 1px solid #dddddd'>8d3fdf56-57fd-4a37-b614-01caada3507f</td><td style='border: 1px solid #dddddd'>drug-selection</td><td style='border: 1px solid #dddddd'>model</td><td style='border: 1px solid #dddddd'>a73bf76d-a663-448a-b771-4f651f73d54e</td><td style='border: 1px solid #dddddd'>8d3fdf56-57fd-4a37-b614-01caada3507f</td><td style='border: 1px solid #dddddd'>2018-11-02T13:06:37.473Z</td></tr>\n            </table>\n        </body>\n        </HTML>", 
                        "text/plain": "<IPython.core.display.HTML object>"
                    }, 
                    "metadata": {}
                }
            ], 
            "source": "client.data_mart.subscriptions.list()"
        }, 
        {
            "source": "### 3.2 Enable payload logging and performance monitor for both subscribed assets", 
            "cell_type": "markdown", 
            "metadata": {}
        }, 
        {
            "execution_count": 96, 
            "cell_type": "code", 
            "metadata": {}, 
            "outputs": [], 
            "source": "for uid in subscriptions_uids:\n    subscription = client.data_mart.subscriptions.get(uid)\n    subscription.payload_logging.enable()\n    subscription.performance_monitoring.enable()"
        }, 
        {
            "source": "#### Get details of enabled payload logging", 
            "cell_type": "markdown", 
            "metadata": {}
        }, 
        {
            "execution_count": 97, 
            "cell_type": "code", 
            "metadata": {}, 
            "outputs": [], 
            "source": "payload_logging_details = subscription.payload_logging.get_details()"
        }, 
        {
            "source": "#### Print schema of payload_logging table", 
            "cell_type": "markdown", 
            "metadata": {}
        }, 
        {
            "execution_count": 98, 
            "cell_type": "code", 
            "metadata": {}, 
            "outputs": [
                {
                    "output_type": "display_data", 
                    "data": {
                        "text/html": "<HTML>\n        <body>\n            <h3>Schema of Payload_8d3fdf56-57fd-4a37-b614-01caada3507f</h3>\n            <table style='border: 1px solid #dddddd; font-family: Courier'>\n                <th style='border: 1px solid #dddddd'>name</th><th style='border: 1px solid #dddddd'>type</th><th style='border: 1px solid #dddddd'>size</th><th style='border: 1px solid #dddddd'>precision</th><th style='border: 1px solid #dddddd'>scale</th><th style='border: 1px solid #dddddd'>nullable</th>\n                <tr><td style='border: 1px solid #dddddd'>scoring_id</td><td style='border: 1px solid #dddddd'>text</td><td style='border: 1px solid #dddddd'>-</td><td style='border: 1px solid #dddddd'>-</td><td style='border: 1px solid #dddddd'>-</td><td style='border: 1px solid #dddddd'>N</td></tr><tr><td style='border: 1px solid #dddddd'>scoring_timestamp</td><td style='border: 1px solid #dddddd'>timestamp</td><td style='border: 1px solid #dddddd'>8</td><td style='border: 1px solid #dddddd'>-</td><td style='border: 1px solid #dddddd'>-</td><td style='border: 1px solid #dddddd'>N</td></tr><tr><td style='border: 1px solid #dddddd'>deployment_id</td><td style='border: 1px solid #dddddd'>text</td><td style='border: 1px solid #dddddd'>-</td><td style='border: 1px solid #dddddd'>-</td><td style='border: 1px solid #dddddd'>-</td><td style='border: 1px solid #dddddd'>N</td></tr><tr><td style='border: 1px solid #dddddd'>asset_revision</td><td style='border: 1px solid #dddddd'>text</td><td style='border: 1px solid #dddddd'>-</td><td style='border: 1px solid #dddddd'>-</td><td style='border: 1px solid #dddddd'>-</td><td style='border: 1px solid #dddddd'>N</td></tr><tr><td style='border: 1px solid #dddddd'>AGE</td><td style='border: 1px solid #dddddd'>int4</td><td style='border: 1px solid #dddddd'>4</td><td style='border: 1px solid #dddddd'>-</td><td style='border: 1px solid #dddddd'>-</td><td style='border: 1px solid #dddddd'>N</td></tr><tr><td style='border: 1px solid #dddddd'>SEX</td><td style='border: 1px solid #dddddd'>text</td><td style='border: 1px solid #dddddd'>-</td><td style='border: 1px solid #dddddd'>-</td><td style='border: 1px solid #dddddd'>-</td><td style='border: 1px solid #dddddd'>N</td></tr><tr><td style='border: 1px solid #dddddd'>BP</td><td style='border: 1px solid #dddddd'>text</td><td style='border: 1px solid #dddddd'>-</td><td style='border: 1px solid #dddddd'>-</td><td style='border: 1px solid #dddddd'>-</td><td style='border: 1px solid #dddddd'>N</td></tr><tr><td style='border: 1px solid #dddddd'>CHOLESTEROL</td><td style='border: 1px solid #dddddd'>text</td><td style='border: 1px solid #dddddd'>-</td><td style='border: 1px solid #dddddd'>-</td><td style='border: 1px solid #dddddd'>-</td><td style='border: 1px solid #dddddd'>N</td></tr><tr><td style='border: 1px solid #dddddd'>NA</td><td style='border: 1px solid #dddddd'>numeric</td><td style='border: 1px solid #dddddd'>21</td><td style='border: 1px solid #dddddd'>21</td><td style='border: 1px solid #dddddd'>2</td><td style='border: 1px solid #dddddd'>N</td></tr><tr><td style='border: 1px solid #dddddd'>K</td><td style='border: 1px solid #dddddd'>numeric</td><td style='border: 1px solid #dddddd'>21</td><td style='border: 1px solid #dddddd'>21</td><td style='border: 1px solid #dddddd'>2</td><td style='border: 1px solid #dddddd'>N</td></tr><tr><td style='border: 1px solid #dddddd'>prediction</td><td style='border: 1px solid #dddddd'>float8</td><td style='border: 1px solid #dddddd'>8</td><td style='border: 1px solid #dddddd'>-</td><td style='border: 1px solid #dddddd'>-</td><td style='border: 1px solid #dddddd'>N</td></tr><tr><td style='border: 1px solid #dddddd'>predictedLabel</td><td style='border: 1px solid #dddddd'>text</td><td style='border: 1px solid #dddddd'>-</td><td style='border: 1px solid #dddddd'>-</td><td style='border: 1px solid #dddddd'>-</td><td style='border: 1px solid #dddddd'>N</td></tr><tr><td style='border: 1px solid #dddddd'>probability</td><td style='border: 1px solid #dddddd'>jsonb</td><td style='border: 1px solid #dddddd'>-</td><td style='border: 1px solid #dddddd'>-</td><td style='border: 1px solid #dddddd'>-</td><td style='border: 1px solid #dddddd'>N</td></tr><tr><td style='border: 1px solid #dddddd'>DRUG</td><td style='border: 1px solid #dddddd'>text</td><td style='border: 1px solid #dddddd'>-</td><td style='border: 1px solid #dddddd'>-</td><td style='border: 1px solid #dddddd'>-</td><td style='border: 1px solid #dddddd'>N</td></tr><tr><td style='border: 1px solid #dddddd'>debiased_prediction</td><td style='border: 1px solid #dddddd'>float8</td><td style='border: 1px solid #dddddd'>8</td><td style='border: 1px solid #dddddd'>-</td><td style='border: 1px solid #dddddd'>-</td><td style='border: 1px solid #dddddd'>N</td></tr><tr><td style='border: 1px solid #dddddd'>debiased_probability</td><td style='border: 1px solid #dddddd'>jsonb</td><td style='border: 1px solid #dddddd'>-</td><td style='border: 1px solid #dddddd'>-</td><td style='border: 1px solid #dddddd'>-</td><td style='border: 1px solid #dddddd'>N</td></tr><tr><td style='border: 1px solid #dddddd'>debiased_decoded_target</td><td style='border: 1px solid #dddddd'>text</td><td style='border: 1px solid #dddddd'>-</td><td style='border: 1px solid #dddddd'>-</td><td style='border: 1px solid #dddddd'>-</td><td style='border: 1px solid #dddddd'>N</td></tr>\n            </table>\n        </body>\n        </HTML>", 
                        "text/plain": "<IPython.core.display.HTML object>"
                    }, 
                    "metadata": {}
                }
            ], 
            "source": "subscription.payload_logging.print_table_schema()"
        }, 
        {
            "source": "### 3.3 Enable Quality (Accuracy) monitor for best heart drug asset", 
            "cell_type": "markdown", 
            "metadata": {}
        }, 
        {
            "source": "#### Quality monitoring", 
            "cell_type": "markdown", 
            "metadata": {}
        }, 
        {
            "source": "Get the subscription IDs for heart-drug and CARS4U models", 
            "cell_type": "markdown", 
            "metadata": {}
        }, 
        {
            "execution_count": 99, 
            "cell_type": "code", 
            "metadata": {}, 
            "outputs": [], 
            "source": "subscriptions_details = client.data_mart.subscriptions.get_details()\nheart_drug_subscription_uid = None\ncars4u_subscription_uid = None\n\nfor s in subscriptions_details['subscriptions']:\n    asset_name = s['entity']['asset']['name']\n    if 'drug' in asset_name.lower():\n        heart_drug_subscription_uid = s['metadata']['guid']\n    elif 'cars4u' in asset_name.lower():\n        cars4u_subscription_uid = s['metadata']['guid']"
        }, 
        {
            "execution_count": 100, 
            "cell_type": "code", 
            "metadata": {}, 
            "outputs": [], 
            "source": "subscription = client.data_mart.subscriptions.get(heart_drug_subscription_uid)"
        }, 
        {
            "source": "#### ACTION: Put your Spark Service credentials here", 
            "cell_type": "markdown", 
            "metadata": {}
        }, 
        {
            "execution_count": 101, 
            "cell_type": "code", 
            "metadata": {}, 
            "outputs": [], 
            "source": "spark_credentials = {\n                  \"tenant_id\": \"****\",\n                  \"tenant_id_full\": \"915544ce-9411-437e-8ad5-a45c0b14cebb_01b7600f-62c7-4f5a-974b-9fffe65d1ab9\",\n                  \"cluster_master_url\": \"https://spark.bluemix.net\",\n                  \"tenant_secret\": \"***\",\n                  \"instance_id\": \"****\",\n                  \"plan\": \"ibm.SparkService.PayGoPersonal\"\n}"
        }, 
        {
            "execution_count": 102, 
            "cell_type": "code", 
            "metadata": {}, 
            "outputs": [], 
            "source": "# The code was removed by Watson Studio for sharing."
        }, 
        {
            "source": "#### Enable Accuracy monitor for selected subscription", 
            "cell_type": "markdown", 
            "metadata": {}
        }, 
        {
            "execution_count": 103, 
            "cell_type": "code", 
            "metadata": {}, 
            "outputs": [], 
            "source": "subscription.quality_monitoring.enable(evaluation_method='multiclass', threshold=0.8, min_records=5, spark_credentials=spark_credentials)"
        }, 
        {
            "source": "#### Send some feedback records to feedback store. ", 
            "cell_type": "markdown", 
            "metadata": {}
        }, 
        {
            "source": "Feedback records are used to evaluate our model.", 
            "cell_type": "markdown", 
            "metadata": {}
        }, 
        {
            "execution_count": 104, 
            "cell_type": "code", 
            "metadata": {}, 
            "outputs": [], 
            "source": "subscription.feedback_logging.store(\n            [\n                [20.0, 'M', 'HIGH', 'HIGH', 0.715337, 0.074773, 'drugB'],\n                [38.0, 'F', 'HIGH', 'NORMAL', 0.868924, 0.061023, 'drugB'],\n                [68.0, 'F', 'HIGH', 'NORMAL', 0.77541, 0.0761, 'drugB'],\n                [65.0, 'M', 'HIGH', 'NORMAL', 0.635551, 0.056043, 'drugB'],\n                [30.0, 'F', 'HIGH', 'HIGH', 0.800607, 0.060181, 'drugB'],\n                [70.0, 'M', 'HIGH', 'HIGH', 0.658606, 0.047153, 'drugB'],\n                [60.0, 'M', 'HIGH', 'HIGH', 0.805651, 0.057821, 'drugB'],\n                [59.0, 'M', 'HIGH', 'HIGH', 0.816356, 0.058583, 'drugB'],\n                [60.0, 'F', 'HIGH', 'HIGH', 0.800607, 0.060181, 'drugB'],\n                [70.0, 'M', 'HIGH', 'HIGH', 0.658606, 0.047153, 'drugB'],\n                [60.0, 'M', 'HIGH', 'HIGH', 0.805651, 0.057821, 'drugB'],\n                [59.0, 'M', 'HIGH', 'HIGH', 0.816356, 0.058583, 'drugB']\n            ],\n            fields=['AGE', 'SEX', 'BP', 'CHOLESTEROL', 'NA', 'K', 'DRUG']\n        )"
        }, 
        {
            "source": "**Hint:** Since Accuracy (Quality) monitor is executed every hour first result wilb be available after hour.", 
            "cell_type": "markdown", 
            "metadata": {}
        }, 
        {
            "source": "### 3.4 Enable Fairness monitor for best hurt drug asset", 
            "cell_type": "markdown", 
            "metadata": {}
        }, 
        {
            "source": "#### Configure monitor", 
            "cell_type": "markdown", 
            "metadata": {}
        }, 
        {
            "execution_count": 105, 
            "cell_type": "code", 
            "metadata": {}, 
            "outputs": [], 
            "source": "from ibm_ai_openscale.supporting_classes import *\n\nsubscription.fairness_monitoring.enable(\n            features=[\n                Feature(\"AGE\", majority=[[49,59],[60,75]], minority=[[0,48],[76,99]], threshold=0.8),\n                Feature(\"SEX\", majority=['M'], minority=['F'], threshold=0.8)\n            ],\n            prediction_column='predictedLabel',\n            favourable_classes=['drugX', 'drugY'],\n            unfavourable_classes=['drugA', 'drugB', 'drugC'],\n            min_records=12\n        )"
        }, 
        {
            "source": "**Hint:** Fairness monitor is executed every hour. You can also call it on demand by executing this commmand: `subscription.fairness_monitoring.run()`.", 
            "cell_type": "markdown", 
            "metadata": {}
        }, 
        {
            "source": "<a id=\"scoring\"></a>\n## 4. Score models\nWorking with `watson-machine-learning-client`.", 
            "cell_type": "markdown", 
            "metadata": {}
        }, 
        {
            "source": "#### Get the initialized `watson-machine-learning` client", 
            "cell_type": "markdown", 
            "metadata": {}
        }, 
        {
            "execution_count": 106, 
            "cell_type": "code", 
            "metadata": {}, 
            "outputs": [], 
            "source": "wml_client = client.data_mart.bindings.get_native_engine_client(binding_uid=binding_uid)"
        }, 
        {
            "source": "`watson-machine-learning-client` documentation can be found [here](wml-api-pyclient.mybluemix.net).", 
            "cell_type": "markdown", 
            "metadata": {}
        }, 
        {
            "source": "Let's list our deployments.", 
            "cell_type": "markdown", 
            "metadata": {}
        }, 
        {
            "execution_count": 107, 
            "cell_type": "code", 
            "metadata": {}, 
            "outputs": [
                {
                    "output_type": "stream", 
                    "name": "stdout", 
                    "text": "------------------------------------  --------------------------  ------  --------------  ------------------------  ---------  -------------\nGUID                                  NAME                        TYPE    STATE           CREATED                   FRAMEWORK  ARTIFACT TYPE\nc6910b7e-2440-41d0-81f1-a098ec041273  best-drug model deployment  online  DEPLOY_SUCCESS  2018-11-02T13:01:57.449Z  mllib-2.1  model\n------------------------------------  --------------------------  ------  --------------  ------------------------  ---------  -------------\n"
                }
            ], 
            "source": "wml_client.deployments.list()"
        }, 
        {
            "source": "Let's extract scoring_ednpoints for both deployments.", 
            "cell_type": "markdown", 
            "metadata": {}
        }, 
        {
            "execution_count": 110, 
            "cell_type": "code", 
            "metadata": {}, 
            "outputs": [], 
            "source": "heart_scoring_endpoint = None\n\nfor deployment in wml_client.deployments.get_details()['resources']:\n    if 'drug' in deployment['entity']['deployable_asset']['name'].lower():\n      heart_scoring_endpoint = deployment['entity']['scoring_url']"
        }, 
        {
            "source": "### 4.1 Score the best-heart drug model", 
            "cell_type": "markdown", 
            "metadata": {}
        }, 
        {
            "execution_count": 137, 
            "cell_type": "code", 
            "metadata": {}, 
            "outputs": [
                {
                    "output_type": "stream", 
                    "name": "stdout", 
                    "text": "['AGE', 'SEX', 'BP', 'CHOLESTEROL', 'NA', 'K', 'DRUG', 'label', 'SEX_IX', 'BP_IX', 'CHOL_IX', 'features', 'rawPrediction', 'probability', 'prediction', 'predictedLabel']\n[43, 'M', 'HIGH', 'HIGH', 0.656371, 0.046979, 'drugY', 0.0, 0.0, 0.0, 0.0, [43.0, 0.0, 0.0, 0.0, 0.656371, 0.046979], [1.0, 0.0, 1.0, 0.0, 0.0], [0.5, 0.0, 0.5, 0.0, 0.0], 0.0, 'drugY']\n"
                }
            ], 
            "source": "payload_scoring = {\"fields\": [\"AGE\", \"SEX\", \"BP\", \"CHOLESTEROL\",\"NA\",\"K\"], \"values\": [[43, \"M\", \"HIGH\", \"HIGH\", 0.656371, 0.046979, \"drugA\"], [32, \"M\", \"HIGH\", \"NORMAL\", 0.52975, 0.056087, \"drugA\"], [37, \"F\", \"HIGH\", \"HIGH\", 0.559171, 0.042713, \"drugA\"], [24, \"M\", \"HIGH\", \"NORMAL\", 0.613261, 0.064726, \"drugA\"], [29, \"M\", \"HIGH\", \"HIGH\", 0.625272, 0.048637, \"drugA\"], [36, \"F\", \"HIGH\", \"HIGH\", 0.734119, 0.065556, \"drugA\"], [19, \"F\", \"HIGH\", \"HIGH\", 0.516973, 0.038832, \"drugA\"], [38, \"F\", \"HIGH\", \"NORMAL\", 0.733842, 0.064793, \"drugA\"], [31, \"M\", \"HIGH\", \"NORMAL\", 0.695183, 0.058559, \"drugA\"], [45, \"F\", \"HIGH\", \"HIGH\", 0.547821, 0.042619, \"drugA\"], [50, \"M\", \"HIGH\", \"HIGH\", 0.518285, 0.069193, \"drugA\"], [32, \"F\", \"HIGH\", \"NORMAL\", 0.724375, 0.070383, \"drugA\"], [35, \"F\", \"HIGH\", \"HIGH\", 0.869854, 0.06746, \"drugA\"], [49, \"M\", \"HIGH\", \"NORMAL\", 0.500169, 0.079788, \"drugA\"], [39, \"M\", \"HIGH\", \"HIGH\", 0.731091, 0.075652, \"drugA\"], [26, \"F\", \"HIGH\", \"NORMAL\", 0.781928, 0.063535, \"drugA\"], [49, \"M\", \"HIGH\", \"NORMAL\", 0.538183, 0.061859, \"drugA\"], [31, \"M\", \"HIGH\", \"NORMAL\", 0.749717, 0.06678, \"drugA\"], [20, \"F\", \"HIGH\", \"HIGH\", 0.887426, 0.078798, \"drugA\"], [42, \"M\", \"HIGH\", \"NORMAL\", 0.85794, 0.067203, \"drugA\"], [48, \"M\", \"HIGH\", \"NORMAL\", 0.769197, 0.073633, \"drugA\"], [47, \"M\", \"HIGH\", \"HIGH\", 0.56332, 0.054152, \"drugA\"], [23, \"M\", \"HIGH\", \"HIGH\", 0.53406, 0.066666, \"drugA\"], [60, \"M\", \"HIGH\", \"NORMAL\", 0.635762, 0.073744, \"drugB\"], [68, \"M\", \"HIGH\", \"HIGH\", 0.639888, 0.058123, \"drugB\"], [57, \"F\", \"HIGH\", \"NORMAL\", 0.754166, 0.075832, \"drugB\"], [70, \"M\", \"HIGH\", \"HIGH\", 0.589493, 0.059854, \"drugB\"], [47, \"M\", \"LOW\", \"HIGH\", 0.739309, 0.056468, \"drugC\"], [47, \"M\", \"LOW\", \"HIGH\", 0.697269, 0.068944, \"drugC\"], [41, \"M\", \"LOW\", \"HIGH\", 0.766635, 0.069461, \"drugC\"], [47, \"F\", \"LOW\", \"HIGH\", 0.896056, 0.076147, \"drugC\"], [23, \"M\", \"LOW\", \"HIGH\", 0.55906, 0.076609, \"drugC\"], [59, \"F\", \"LOW\", \"HIGH\", 0.640455, 0.06132, \"drugC\"], [72, \"M\", \"LOW\", \"HIGH\", 0.50482, 0.074573, \"drugC\"], [56, \"F\", \"LOW\", \"HIGH\", 0.848774, 0.07338, \"drugC\"], [16, \"M\", \"LOW\", \"HIGH\", 0.743021, 0.061886, \"drugC\"], [28, \"F\", \"NORMAL\", \"HIGH\", 0.563682, 0.072289, \"drugX\"], [22, \"F\", \"NORMAL\", \"HIGH\", 0.676901, 0.078647, \"drugX\"], [50, \"F\", \"NORMAL\", \"HIGH\", 0.82778, 0.065166, \"drugX\"], [69, \"M\", \"LOW\", \"NORMAL\", 0.848948, 0.074111, \"drugX\"], [49, \"F\", \"NORMAL\", \"NORMAL\", 0.694689, 0.074055, \"drugX\"], [18, \"F\", \"NORMAL\", \"NORMAL\", 0.553567, 0.063265, \"drugX\"], [49, \"M\", \"LOW\", \"NORMAL\", 0.625889, 0.056828, \"drugX\"], [53, \"M\", \"NORMAL\", \"HIGH\", 0.644936, 0.045632, \"drugX\"], [46, \"M\", \"NORMAL\", \"NORMAL\", 0.526226, 0.072234, \"drugX\"], [39, \"M\", \"LOW\", \"NORMAL\", 0.604973, 0.043404, \"drugX\"], [39, \"F\", \"NORMAL\", \"NORMAL\", 0.517515, 0.053301, \"drugX\"], [15, \"M\", \"NORMAL\", \"HIGH\", 0.64236, 0.07071, \"drugX\"], [23, \"M\", \"NORMAL\", \"HIGH\", 0.593596, 0.048417, \"drugX\"], [50, \"F\", \"NORMAL\", \"NORMAL\", 0.601915, 0.048957, \"drugX\"], [66, \"F\", \"NORMAL\", \"NORMAL\", 0.611333, 0.075412, \"drugX\"], [67, \"M\", \"NORMAL\", \"NORMAL\", 0.846892, 0.077711, \"drugX\"], [60, \"M\", \"NORMAL\", \"NORMAL\", 0.645515, 0.063971, \"drugX\"], [45, \"M\", \"LOW\", \"NORMAL\", 0.532632, 0.063636, \"drugX\"], [17, \"M\", \"NORMAL\", \"NORMAL\", 0.722286, 0.06668, \"drugX\"], [24, \"F\", \"NORMAL\", \"HIGH\", 0.80554, 0.07596, \"drugX\"], [32, \"F\", \"LOW\", \"NORMAL\", 0.724422, 0.066829, \"drugX\"], [64, \"M\", \"NORMAL\", \"HIGH\", 0.5126, 0.066049, \"drugX\"], [51, \"F\", \"NORMAL\", \"HIGH\", 0.678646, 0.04991, \"drugX\"], [36, \"M\", \"LOW\", \"NORMAL\", 0.52765, 0.046188, \"drugX\"], [56, \"M\", \"NORMAL\", \"HIGH\", 0.627866, 0.070026, \"drugX\"], [37, \"M\", \"LOW\", \"NORMAL\", 0.616692, 0.068765, \"drugX\"], [22, \"M\", \"NORMAL\", \"HIGH\", 0.536324, 0.044871, \"drugX\"], [47, \"F\", \"NORMAL\", \"NORMAL\", 0.526835, 0.078828, \"drugX\"], [35, \"M\", \"LOW\", \"NORMAL\", 0.685143, 0.074717, \"drugX\"], [65, \"F\", \"LOW\", \"NORMAL\", 0.760221, 0.055214, \"drugX\"], [20, \"F\", \"NORMAL\", \"NORMAL\", 0.581591, 0.062667, \"drugX\"], [67, \"M\", \"NORMAL\", \"NORMAL\", 0.721257, 0.075808, \"drugX\"], [40, \"F\", \"NORMAL\", \"HIGH\", 0.512517, 0.05073, \"drugX\"], [35, \"M\", \"NORMAL\", \"NORMAL\", 0.523623, 0.066745, \"drugX\"], [32, \"F\", \"NORMAL\", \"HIGH\", 0.549375, 0.073474, \"drugX\"], [49, \"M\", \"LOW\", \"NORMAL\", 0.510473, 0.037539, \"drugX\"], [74, \"M\", \"LOW\", \"NORMAL\", 0.787812, 0.065984, \"drugX\"], [69, \"F\", \"NORMAL\", \"HIGH\", 0.773798, 0.076882, \"drugX\"], [61, \"M\", \"NORMAL\", \"HIGH\", 0.745123, 0.078906, \"drugX\"], [37, \"F\", \"LOW\", \"NORMAL\", 0.804155, 0.066981, \"drugX\"], [61, \"F\", \"LOW\", \"NORMAL\", 0.522891, 0.071238, \"drugX\"], [55, \"M\", \"NORMAL\", \"NORMAL\", 0.509181, 0.070126, \"drugX\"], [72, \"F\", \"LOW\", \"NORMAL\", 0.7586, 0.05181, \"drugX\"], [34, \"F\", \"LOW\", \"NORMAL\", 0.825542, 0.063881, \"drugX\"], [30, \"F\", \"NORMAL\", \"HIGH\", 0.501956, 0.048067, \"drugX\"], [43, \"M\", \"NORMAL\", \"NORMAL\", 0.538856, 0.041905, \"drugX\"], [57, \"F\", \"NORMAL\", \"HIGH\", 0.596099, 0.041931, \"drugX\"], [28, \"F\", \"NORMAL\", \"HIGH\", 0.744956, 0.057843, \"drugX\"], [45, \"M\", \"LOW\", \"NORMAL\", 0.71486, 0.071367, \"drugX\"], [59, \"F\", \"NORMAL\", \"HIGH\", 0.882486, 0.063563, \"drugX\"], [20, \"F\", \"LOW\", \"NORMAL\", 0.811023, 0.069402, \"drugX\"], [52, \"M\", \"NORMAL\", \"HIGH\", 0.549945, 0.055581, \"drugX\"], [23, \"M\", \"NORMAL\", \"NORMAL\", 0.78452, 0.055959, \"drugX\"], [40, \"F\", \"LOW\", \"NORMAL\", 0.683503, 0.060226, \"drugX\"], [23, \"F\", \"HIGH\", \"HIGH\", 0.792535, 0.031258, \"drugY\"], [61, \"F\", \"LOW\", \"HIGH\", 0.559294, 0.030998, \"drugY\"], [49, \"F\", \"NORMAL\", \"HIGH\", 0.789637, 0.048518, \"drugY\"], [60, \"M\", \"NORMAL\", \"HIGH\", 0.777205, 0.05123, \"drugY\"], [43, \"M\", \"LOW\", \"NORMAL\", 0.526102, 0.027164, \"drugY\"], [34, \"F\", \"HIGH\", \"NORMAL\", 0.667775, 0.034782, \"drugY\"], [43, \"M\", \"LOW\", \"HIGH\", 0.626527, 0.040746, \"drugY\"], [74, \"F\", \"LOW\", \"HIGH\", 0.792674, 0.037851, \"drugY\"], [16, \"F\", \"HIGH\", \"NORMAL\", 0.833837, 0.053742, \"drugY\"], [32, \"F\", \"HIGH\", \"NORMAL\", 0.643455, 0.024773, \"drugY\"], [57, \"M\", \"LOW\", \"NORMAL\", 0.536746, 0.028061, \"drugY\"], [63, \"M\", \"NORMAL\", \"HIGH\", 0.616117, 0.023773, \"drugY\"], [47, \"M\", \"LOW\", \"NORMAL\", 0.809199, 0.026472, \"drugY\"], [48, \"F\", \"LOW\", \"HIGH\", 0.87444, 0.058155, \"drugY\"], [33, \"F\", \"LOW\", \"HIGH\", 0.858387, 0.025634, \"drugY\"], [28, \"F\", \"HIGH\", \"NORMAL\", 0.556833, 0.029604, \"drugY\"], [31, \"M\", \"HIGH\", \"HIGH\", 0.740936, 0.0244, \"drugY\"], [39, \"F\", \"LOW\", \"NORMAL\", 0.649096, 0.028598, \"drugY\"], [45, \"M\", \"LOW\", \"HIGH\", 0.753504, 0.041976, \"drugY\"], [65, \"F\", \"HIGH\", \"NORMAL\", 0.828898, 0.026004, \"drugY\"], [73, \"F\", \"NORMAL\", \"HIGH\", 0.832683, 0.043321, \"drugY\"], [50, \"M\", \"NORMAL\", \"NORMAL\", 0.747815, 0.04736, \"drugY\"], [23, \"M\", \"NORMAL\", \"HIGH\", 0.888629, 0.028045, \"drugY\"], [28, \"F\", \"LOW\", \"HIGH\", 0.606933, 0.030659, \"drugY\"], [58, \"F\", \"HIGH\", \"HIGH\", 0.560854, 0.028886, \"drugY\"], [62, \"M\", \"LOW\", \"NORMAL\", 0.804173, 0.029584, \"drugY\"], [24, \"F\", \"HIGH\", \"NORMAL\", 0.648646, 0.035144, \"drugY\"], [40, \"M\", \"HIGH\", \"HIGH\", 0.557133, 0.020022, \"drugY\"], [34, \"M\", \"HIGH\", \"HIGH\", 0.888144, 0.047486, \"drugY\"], [38, \"F\", \"LOW\", \"NORMAL\", 0.598753, 0.020042, \"drugY\"], [67, \"M\", \"LOW\", \"NORMAL\", 0.820638, 0.039657, \"drugY\"], [68, \"F\", \"NORMAL\", \"NORMAL\", 0.821584, 0.030373, \"drugY\"], [54, \"M\", \"NORMAL\", \"HIGH\", 0.504995, 0.02048, \"drugY\"], [18, \"F\", \"HIGH\", \"NORMAL\", 0.564811, 0.023266, \"drugY\"], [28, \"F\", \"NORMAL\", \"HIGH\", 0.860775, 0.04375, \"drugY\"], [41, \"F\", \"NORMAL\", \"NORMAL\", 0.844196, 0.036857, \"drugY\"], [31, \"M\", \"HIGH\", \"NORMAL\", 0.88624, 0.051922, \"drugY\"], [26, \"M\", \"LOW\", \"NORMAL\", 0.790664, 0.037815, \"drugY\"], [26, \"F\", \"HIGH\", \"NORMAL\", 0.823793, 0.042994, \"drugY\"], [69, \"M\", \"LOW\", \"HIGH\", 0.854733, 0.055221, \"drugY\"], [37, \"F\", \"HIGH\", \"NORMAL\", 0.795312, 0.034443, \"drugY\"], [50, \"F\", \"NORMAL\", \"NORMAL\", 0.73961, 0.042972, \"drugY\"], [62, \"M\", \"NORMAL\", \"HIGH\", 0.755873, 0.045551, \"drugY\"], [41, \"M\", \"HIGH\", \"NORMAL\", 0.658397, 0.043442, \"drugY\"], [29, \"F\", \"HIGH\", \"HIGH\", 0.857934, 0.029132, \"drugY\"], [42, \"F\", \"LOW\", \"NORMAL\", 0.763404, 0.026081, \"drugY\"], [56, \"M\", \"LOW\", \"HIGH\", 0.812663, 0.054123, \"drugY\"], [58, \"F\", \"LOW\", \"HIGH\", 0.886865, 0.023188, \"drugY\"], [56, \"F\", \"HIGH\", \"HIGH\", 0.750962, 0.029571, \"drugY\"], [20, \"M\", \"HIGH\", \"NORMAL\", 0.764067, 0.021439, \"drugY\"], [15, \"F\", \"HIGH\", \"NORMAL\", 0.697052, 0.041677, \"drugY\"], [22, \"M\", \"HIGH\", \"NORMAL\", 0.860621, 0.030417, \"drugY\"], [42, \"M\", \"LOW\", \"HIGH\", 0.756097, 0.03778, \"drugY\"], [23, \"M\", \"NORMAL\", \"HIGH\", 0.543355, 0.032247, \"drugY\"], [51, \"M\", \"HIGH\", \"HIGH\", 0.83849, 0.045831, \"drugY\"], [61, \"F\", \"HIGH\", \"HIGH\", 0.63126, 0.02478, \"drugY\"], [28, \"M\", \"NORMAL\", \"HIGH\", 0.584179, 0.021585, \"drugY\"], [15, \"M\", \"HIGH\", \"NORMAL\", 0.58301, 0.033885, \"drugY\"], [34, \"M\", \"NORMAL\", \"HIGH\", 0.602557, 0.026833, \"drugY\"], [36, \"F\", \"NORMAL\", \"HIGH\", 0.563217, 0.033618, \"drugY\"], [19, \"F\", \"HIGH\", \"NORMAL\", 0.742092, 0.028576, \"drugY\"], [66, \"M\", \"HIGH\", \"HIGH\", 0.84985, 0.051988, \"drugY\"], [47, \"M\", \"LOW\", \"NORMAL\", 0.84773, 0.025274, \"drugY\"], [70, \"F\", \"NORMAL\", \"HIGH\", 0.725424, 0.035406, \"drugY\"], [52, \"M\", \"LOW\", \"NORMAL\", 0.663146, 0.020143, \"drugY\"], [24, \"M\", \"NORMAL\", \"HIGH\", 0.854591, 0.033142, \"drugY\"], [42, \"F\", \"HIGH\", \"HIGH\", 0.533228, 0.025348, \"drugY\"], [64, \"F\", \"LOW\", \"NORMAL\", 0.554182, 0.021529, \"drugY\"], [74, \"M\", \"HIGH\", \"NORMAL\", 0.818999, 0.053057, \"drugY\"], [37, \"M\", \"LOW\", \"NORMAL\", 0.73154, 0.043743, \"drugY\"], [53, \"M\", \"LOW\", \"HIGH\", 0.618603, 0.026939, \"drugY\"], [21, \"F\", \"HIGH\", \"NORMAL\", 0.745098, 0.026023, \"drugY\"], [16, \"M\", \"HIGH\", \"NORMAL\", 0.561019, 0.029516, \"drugY\"], [38, \"M\", \"LOW\", \"HIGH\", 0.851019, 0.046516, \"drugY\"], [58, \"F\", \"LOW\", \"HIGH\", 0.887928, 0.033324, \"drugY\"], [51, \"F\", \"LOW\", \"NORMAL\", 0.876828, 0.038118, \"drugY\"], [39, \"F\", \"NORMAL\", \"NORMAL\", 0.809196, 0.046978, \"drugY\"], [41, \"F\", \"LOW\", \"NORMAL\", 0.749905, 0.040018, \"drugY\"], [73, \"F\", \"HIGH\", \"HIGH\", 0.808019, 0.044038, \"drugY\"], [25, \"M\", \"NORMAL\", \"HIGH\", 0.775702, 0.040803, \"drugY\"], [39, \"M\", \"NORMAL\", \"HIGH\", 0.609566, 0.038171, \"drugY\"], [67, \"F\", \"NORMAL\", \"HIGH\", 0.785251, 0.049416, \"drugY\"], [22, \"F\", \"HIGH\", \"NORMAL\", 0.817625, 0.035832, \"drugY\"], [36, \"F\", \"HIGH\", \"NORMAL\", 0.575058, 0.037124, \"drugY\"], [18, \"F\", \"HIGH\", \"HIGH\", 0.88515, 0.023802, \"drugY\"], [57, \"F\", \"NORMAL\", \"NORMAL\", 0.551967, 0.021317, \"drugY\"], [65, \"M\", \"HIGH\", \"NORMAL\", 0.8645, 0.024702, \"drugY\"], [64, \"M\", \"HIGH\", \"NORMAL\", 0.739914, 0.035349, \"drugY\"], [58, \"M\", \"HIGH\", \"HIGH\", 0.76909, 0.040497, \"drugY\"], [72, \"M\", \"LOW\", \"HIGH\", 0.547347, 0.03356, \"drugY\"], [46, \"F\", \"HIGH\", \"HIGH\", 0.773569, 0.022302, \"drugY\"]]}\n\nfor i in range(0,5):\n    scores = wml_client.deployments.score(heart_scoring_endpoint, payload_scoring)\n\nprint(scores['fields'])\nprint(scores['values'][0])"
        }, 
        {
            "source": "<a id=\"datamart\"></a>\n## 5. Data mart", 
            "cell_type": "markdown", 
            "metadata": {}
        }, 
        {
            "source": "### 5.1 Accessing tables data via subscription\n- `show_table`\n- `describe_table`\n- `get_table_content(format='pandas')`", 
            "cell_type": "markdown", 
            "metadata": {}
        }, 
        {
            "source": "### Preview table content", 
            "cell_type": "markdown", 
            "metadata": {}
        }, 
        {
            "source": "#### Run fairness check on demand", 
            "cell_type": "markdown", 
            "metadata": {}
        }, 
        {
            "execution_count": 124, 
            "cell_type": "code", 
            "metadata": {}, 
            "outputs": [], 
            "source": "subscription.fairness_monitoring.run()"
        }, 
        {
            "source": "**Hint:** You may need to wait up to 1 minute to see the results.", 
            "cell_type": "markdown", 
            "metadata": {}
        }, 
        {
            "execution_count": 125, 
            "cell_type": "code", 
            "metadata": {}, 
            "outputs": [
                {
                    "output_type": "display_data", 
                    "data": {
                        "text/html": "<HTML>\n        <body>\n            <h3>FairnessMetrics (binding_id=a73bf76d-a663-448a-b771-4f651f73d54e, subscription_id=8d3fdf56-57fd-4a37-b614-01caada3507f)</h3>\n            <table style='border: 1px solid #dddddd; font-family: Courier'>\n                <th style='border: 1px solid #dddddd'>ts</th><th style='border: 1px solid #dddddd'>feature</th><th style='border: 1px solid #dddddd'>value</th><th style='border: 1px solid #dddddd'>is_biased</th><th style='border: 1px solid #dddddd'>fairness_value</th><th style='border: 1px solid #dddddd'>fav_class_percent</th><th style='border: 1px solid #dddddd'>binding_id</th><th style='border: 1px solid #dddddd'>subscription_id</th><th style='border: 1px solid #dddddd'>deployment_id</th><th style='border: 1px solid #dddddd'>process</th>\n                <tr><td style='border: 1px solid #dddddd'>2018-11-02 13:07:50.608659</td><td style='border: 1px solid #dddddd'>AGE</td><td style='border: 1px solid #dddddd'>[76, 99]</td><td style='border: 1px solid #dddddd'>True</td><td style='border: 1px solid #dddddd'>0.0</td><td style='border: 1px solid #dddddd'>0.0</td><td style='border: 1px solid #dddddd'>a73bf76d-a663-448a-b771-4f651f73d54e</td><td style='border: 1px solid #dddddd'>8d3fdf56-57fd-4a37-b614-01caada3507f</td><td style='border: 1px solid #dddddd'>c6910b7e-2440-41d0-81f1-a098ec041273</td><td style='border: 1px solid #dddddd'>None</td></tr><tr><td style='border: 1px solid #dddddd'>2018-11-02 13:07:50.608659</td><td style='border: 1px solid #dddddd'>AGE</td><td style='border: 1px solid #dddddd'>[0, 48]</td><td style='border: 1px solid #dddddd'>True</td><td style='border: 1px solid #dddddd'>0.639</td><td style='border: 1px solid #dddddd'>16.6666666666667</td><td style='border: 1px solid #dddddd'>a73bf76d-a663-448a-b771-4f651f73d54e</td><td style='border: 1px solid #dddddd'>8d3fdf56-57fd-4a37-b614-01caada3507f</td><td style='border: 1px solid #dddddd'>c6910b7e-2440-41d0-81f1-a098ec041273</td><td style='border: 1px solid #dddddd'>None</td></tr><tr><td style='border: 1px solid #dddddd'>2018-11-02 13:07:50.608659</td><td style='border: 1px solid #dddddd'>SEX</td><td style='border: 1px solid #dddddd'>F</td><td style='border: 1px solid #dddddd'>True</td><td style='border: 1px solid #dddddd'>0.333</td><td style='border: 1px solid #dddddd'>8.33333333333333</td><td style='border: 1px solid #dddddd'>a73bf76d-a663-448a-b771-4f651f73d54e</td><td style='border: 1px solid #dddddd'>8d3fdf56-57fd-4a37-b614-01caada3507f</td><td style='border: 1px solid #dddddd'>c6910b7e-2440-41d0-81f1-a098ec041273</td><td style='border: 1px solid #dddddd'>None</td></tr><tr><td style='border: 1px solid #dddddd'>2018-11-02 13:07:48.565642</td><td style='border: 1px solid #dddddd'>AGE</td><td style='border: 1px solid #dddddd'>[76, 99]</td><td style='border: 1px solid #dddddd'>True</td><td style='border: 1px solid #dddddd'>0.0</td><td style='border: 1px solid #dddddd'>0.0</td><td style='border: 1px solid #dddddd'>a73bf76d-a663-448a-b771-4f651f73d54e</td><td style='border: 1px solid #dddddd'>8d3fdf56-57fd-4a37-b614-01caada3507f</td><td style='border: 1px solid #dddddd'>c6910b7e-2440-41d0-81f1-a098ec041273</td><td style='border: 1px solid #dddddd'>None</td></tr><tr><td style='border: 1px solid #dddddd'>2018-11-02 13:07:48.565642</td><td style='border: 1px solid #dddddd'>AGE</td><td style='border: 1px solid #dddddd'>[0, 48]</td><td style='border: 1px solid #dddddd'>True</td><td style='border: 1px solid #dddddd'>0.639</td><td style='border: 1px solid #dddddd'>16.6666666666667</td><td style='border: 1px solid #dddddd'>a73bf76d-a663-448a-b771-4f651f73d54e</td><td style='border: 1px solid #dddddd'>8d3fdf56-57fd-4a37-b614-01caada3507f</td><td style='border: 1px solid #dddddd'>c6910b7e-2440-41d0-81f1-a098ec041273</td><td style='border: 1px solid #dddddd'>None</td></tr><tr><td style='border: 1px solid #dddddd'>2018-11-02 13:07:48.565642</td><td style='border: 1px solid #dddddd'>SEX</td><td style='border: 1px solid #dddddd'>F</td><td style='border: 1px solid #dddddd'>True</td><td style='border: 1px solid #dddddd'>0.333</td><td style='border: 1px solid #dddddd'>8.33333333333333</td><td style='border: 1px solid #dddddd'>a73bf76d-a663-448a-b771-4f651f73d54e</td><td style='border: 1px solid #dddddd'>8d3fdf56-57fd-4a37-b614-01caada3507f</td><td style='border: 1px solid #dddddd'>c6910b7e-2440-41d0-81f1-a098ec041273</td><td style='border: 1px solid #dddddd'>None</td></tr>\n            </table>\n        </body>\n        </HTML>", 
                        "text/plain": "<IPython.core.display.HTML object>"
                    }, 
                    "metadata": {}
                }
            ], 
            "source": "subscription.fairness_monitoring.show_table()"
        }, 
        {
            "execution_count": 116, 
            "cell_type": "code", 
            "metadata": {}, 
            "outputs": [
                {
                    "output_type": "display_data", 
                    "data": {
                        "text/html": "<HTML>\n        <body>\n            <h3>Payload_8d3fdf56-57fd-4a37-b614-01caada3507f</h3>\n            <table style='border: 1px solid #dddddd; font-family: Courier'>\n                <th style='border: 1px solid #dddddd'>scoring_id</th><th style='border: 1px solid #dddddd'>scoring_timestamp</th><th style='border: 1px solid #dddddd'>deployment_id</th><th style='border: 1px solid #dddddd'>asset_revision</th><th style='border: 1px solid #dddddd'>AGE</th><th style='border: 1px solid #dddddd'>SEX</th><th style='border: 1px solid #dddddd'>BP</th><th style='border: 1px solid #dddddd'>CHOLESTEROL</th><th style='border: 1px solid #dddddd'>NA</th><th style='border: 1px solid #dddddd'>K</th><th style='border: 1px solid #dddddd'>prediction</th><th style='border: 1px solid #dddddd'>predictedLabel</th><th style='border: 1px solid #dddddd'>probability</th><th style='border: 1px solid #dddddd'>DRUG</th><th style='border: 1px solid #dddddd'>debiased_prediction</th><th style='border: 1px solid #dddddd'>debiased_probability</th><th style='border: 1px solid #dddddd'>debiased_decoded_target</th>\n                <tr><td style='border: 1px solid #dddddd'>db87f1fb3c99b4fdf38e4fb6e1603710-1</td><td style='border: 1px solid #dddddd'>2018-11-02 13:06:49.218000</td><td style='border: 1px solid #dddddd'>c6910b7e-2440-41d0-81f1-a098ec041273</td><td style='border: 1px solid #dddddd'>ce7a5136-662a-430a-bd15-8d9d65091771</td><td style='border: 1px solid #dddddd'>43</td><td style='border: 1px solid #dddddd'>M</td><td style='border: 1px solid #dddddd'>HIGH</td><td style='border: 1px solid #dddddd'>HIGH</td><td style='border: 1px solid #dddddd'>0.66</td><td style='border: 1px solid #dddddd'>0.05</td><td style='border: 1px solid #dddddd'>0.0</td><td style='border: 1px solid #dddddd'>drugY</td><td style='border: 1px solid #dddddd'>[0.5, 0.0, 0.5, 0.0, 0.0]</td><td style='border: 1px solid #dddddd'>drugY</td><td style='border: 1px solid #dddddd'>None</td><td style='border: 1px solid #dddddd'>None</td><td style='border: 1px solid #dddddd'>None</td></tr><tr><td style='border: 1px solid #dddddd'>db87f1fb3c99b4fdf38e4fb6e1603710-2</td><td style='border: 1px solid #dddddd'>2018-11-02 13:06:49.218000</td><td style='border: 1px solid #dddddd'>c6910b7e-2440-41d0-81f1-a098ec041273</td><td style='border: 1px solid #dddddd'>ce7a5136-662a-430a-bd15-8d9d65091771</td><td style='border: 1px solid #dddddd'>32</td><td style='border: 1px solid #dddddd'>M</td><td style='border: 1px solid #dddddd'>HIGH</td><td style='border: 1px solid #dddddd'>NORMAL</td><td style='border: 1px solid #dddddd'>0.53</td><td style='border: 1px solid #dddddd'>0.06</td><td style='border: 1px solid #dddddd'>2.0</td><td style='border: 1px solid #dddddd'>drugA</td><td style='border: 1px solid #dddddd'>[0.0, 0.0, 1.0, 0.0, 0.0]</td><td style='border: 1px solid #dddddd'>drugY</td><td style='border: 1px solid #dddddd'>None</td><td style='border: 1px solid #dddddd'>None</td><td style='border: 1px solid #dddddd'>None</td></tr><tr><td style='border: 1px solid #dddddd'>db87f1fb3c99b4fdf38e4fb6e1603710-3</td><td style='border: 1px solid #dddddd'>2018-11-02 13:06:49.218000</td><td style='border: 1px solid #dddddd'>c6910b7e-2440-41d0-81f1-a098ec041273</td><td style='border: 1px solid #dddddd'>ce7a5136-662a-430a-bd15-8d9d65091771</td><td style='border: 1px solid #dddddd'>37</td><td style='border: 1px solid #dddddd'>F</td><td style='border: 1px solid #dddddd'>HIGH</td><td style='border: 1px solid #dddddd'>HIGH</td><td style='border: 1px solid #dddddd'>0.56</td><td style='border: 1px solid #dddddd'>0.04</td><td style='border: 1px solid #dddddd'>2.0</td><td style='border: 1px solid #dddddd'>drugA</td><td style='border: 1px solid #dddddd'>[0.0, 0.0, 1.0, 0.0, 0.0]</td><td style='border: 1px solid #dddddd'>drugY</td><td style='border: 1px solid #dddddd'>None</td><td style='border: 1px solid #dddddd'>None</td><td style='border: 1px solid #dddddd'>None</td></tr><tr><td style='border: 1px solid #dddddd'>db87f1fb3c99b4fdf38e4fb6e1603710-4</td><td style='border: 1px solid #dddddd'>2018-11-02 13:06:49.218000</td><td style='border: 1px solid #dddddd'>c6910b7e-2440-41d0-81f1-a098ec041273</td><td style='border: 1px solid #dddddd'>ce7a5136-662a-430a-bd15-8d9d65091771</td><td style='border: 1px solid #dddddd'>24</td><td style='border: 1px solid #dddddd'>M</td><td style='border: 1px solid #dddddd'>HIGH</td><td style='border: 1px solid #dddddd'>NORMAL</td><td style='border: 1px solid #dddddd'>0.61</td><td style='border: 1px solid #dddddd'>0.06</td><td style='border: 1px solid #dddddd'>2.0</td><td style='border: 1px solid #dddddd'>drugA</td><td style='border: 1px solid #dddddd'>[0.0, 0.0, 1.0, 0.0, 0.0]</td><td style='border: 1px solid #dddddd'>drugY</td><td style='border: 1px solid #dddddd'>None</td><td style='border: 1px solid #dddddd'>None</td><td style='border: 1px solid #dddddd'>None</td></tr><tr><td style='border: 1px solid #dddddd'>db87f1fb3c99b4fdf38e4fb6e1603710-5</td><td style='border: 1px solid #dddddd'>2018-11-02 13:06:49.218000</td><td style='border: 1px solid #dddddd'>c6910b7e-2440-41d0-81f1-a098ec041273</td><td style='border: 1px solid #dddddd'>ce7a5136-662a-430a-bd15-8d9d65091771</td><td style='border: 1px solid #dddddd'>29</td><td style='border: 1px solid #dddddd'>M</td><td style='border: 1px solid #dddddd'>HIGH</td><td style='border: 1px solid #dddddd'>HIGH</td><td style='border: 1px solid #dddddd'>0.63</td><td style='border: 1px solid #dddddd'>0.05</td><td style='border: 1px solid #dddddd'>2.0</td><td style='border: 1px solid #dddddd'>drugA</td><td style='border: 1px solid #dddddd'>[0.0, 0.0, 1.0, 0.0, 0.0]</td><td style='border: 1px solid #dddddd'>drugY</td><td style='border: 1px solid #dddddd'>None</td><td style='border: 1px solid #dddddd'>None</td><td style='border: 1px solid #dddddd'>None</td></tr><tr><td style='border: 1px solid #dddddd'>db87f1fb3c99b4fdf38e4fb6e1603710-6</td><td style='border: 1px solid #dddddd'>2018-11-02 13:06:49.218000</td><td style='border: 1px solid #dddddd'>c6910b7e-2440-41d0-81f1-a098ec041273</td><td style='border: 1px solid #dddddd'>ce7a5136-662a-430a-bd15-8d9d65091771</td><td style='border: 1px solid #dddddd'>36</td><td style='border: 1px solid #dddddd'>F</td><td style='border: 1px solid #dddddd'>HIGH</td><td style='border: 1px solid #dddddd'>HIGH</td><td style='border: 1px solid #dddddd'>0.73</td><td style='border: 1px solid #dddddd'>0.07</td><td style='border: 1px solid #dddddd'>2.0</td><td style='border: 1px solid #dddddd'>drugA</td><td style='border: 1px solid #dddddd'>[0.0, 0.0, 1.0, 0.0, 0.0]</td><td style='border: 1px solid #dddddd'>drugY</td><td style='border: 1px solid #dddddd'>None</td><td style='border: 1px solid #dddddd'>None</td><td style='border: 1px solid #dddddd'>None</td></tr><tr><td style='border: 1px solid #dddddd'>db87f1fb3c99b4fdf38e4fb6e1603710-7</td><td style='border: 1px solid #dddddd'>2018-11-02 13:06:49.218000</td><td style='border: 1px solid #dddddd'>c6910b7e-2440-41d0-81f1-a098ec041273</td><td style='border: 1px solid #dddddd'>ce7a5136-662a-430a-bd15-8d9d65091771</td><td style='border: 1px solid #dddddd'>19</td><td style='border: 1px solid #dddddd'>F</td><td style='border: 1px solid #dddddd'>HIGH</td><td style='border: 1px solid #dddddd'>HIGH</td><td style='border: 1px solid #dddddd'>0.52</td><td style='border: 1px solid #dddddd'>0.04</td><td style='border: 1px solid #dddddd'>2.0</td><td style='border: 1px solid #dddddd'>drugA</td><td style='border: 1px solid #dddddd'>[0.0, 0.0, 1.0, 0.0, 0.0]</td><td style='border: 1px solid #dddddd'>drugY</td><td style='border: 1px solid #dddddd'>None</td><td style='border: 1px solid #dddddd'>None</td><td style='border: 1px solid #dddddd'>None</td></tr><tr><td style='border: 1px solid #dddddd'>db87f1fb3c99b4fdf38e4fb6e1603710-8</td><td style='border: 1px solid #dddddd'>2018-11-02 13:06:49.218000</td><td style='border: 1px solid #dddddd'>c6910b7e-2440-41d0-81f1-a098ec041273</td><td style='border: 1px solid #dddddd'>ce7a5136-662a-430a-bd15-8d9d65091771</td><td style='border: 1px solid #dddddd'>38</td><td style='border: 1px solid #dddddd'>F</td><td style='border: 1px solid #dddddd'>HIGH</td><td style='border: 1px solid #dddddd'>NORMAL</td><td style='border: 1px solid #dddddd'>0.73</td><td style='border: 1px solid #dddddd'>0.06</td><td style='border: 1px solid #dddddd'>2.0</td><td style='border: 1px solid #dddddd'>drugA</td><td style='border: 1px solid #dddddd'>[0.0, 0.0, 1.0, 0.0, 0.0]</td><td style='border: 1px solid #dddddd'>drugY</td><td style='border: 1px solid #dddddd'>None</td><td style='border: 1px solid #dddddd'>None</td><td style='border: 1px solid #dddddd'>None</td></tr><tr><td style='border: 1px solid #dddddd'>db87f1fb3c99b4fdf38e4fb6e1603710-9</td><td style='border: 1px solid #dddddd'>2018-11-02 13:06:49.218000</td><td style='border: 1px solid #dddddd'>c6910b7e-2440-41d0-81f1-a098ec041273</td><td style='border: 1px solid #dddddd'>ce7a5136-662a-430a-bd15-8d9d65091771</td><td style='border: 1px solid #dddddd'>31</td><td style='border: 1px solid #dddddd'>M</td><td style='border: 1px solid #dddddd'>HIGH</td><td style='border: 1px solid #dddddd'>NORMAL</td><td style='border: 1px solid #dddddd'>0.70</td><td style='border: 1px solid #dddddd'>0.06</td><td style='border: 1px solid #dddddd'>2.0</td><td style='border: 1px solid #dddddd'>drugA</td><td style='border: 1px solid #dddddd'>[0.0, 0.0, 1.0, 0.0, 0.0]</td><td style='border: 1px solid #dddddd'>drugY</td><td style='border: 1px solid #dddddd'>None</td><td style='border: 1px solid #dddddd'>None</td><td style='border: 1px solid #dddddd'>None</td></tr><tr><td style='border: 1px solid #dddddd'>db87f1fb3c99b4fdf38e4fb6e1603710-10</td><td style='border: 1px solid #dddddd'>2018-11-02 13:06:49.218000</td><td style='border: 1px solid #dddddd'>c6910b7e-2440-41d0-81f1-a098ec041273</td><td style='border: 1px solid #dddddd'>ce7a5136-662a-430a-bd15-8d9d65091771</td><td style='border: 1px solid #dddddd'>45</td><td style='border: 1px solid #dddddd'>F</td><td style='border: 1px solid #dddddd'>HIGH</td><td style='border: 1px solid #dddddd'>HIGH</td><td style='border: 1px solid #dddddd'>0.55</td><td style='border: 1px solid #dddddd'>0.04</td><td style='border: 1px solid #dddddd'>1.0</td><td style='border: 1px solid #dddddd'>drugX</td><td style='border: 1px solid #dddddd'>[0.0, 1.0, 0.0, 0.0, 0.0]</td><td style='border: 1px solid #dddddd'>drugY</td><td style='border: 1px solid #dddddd'>None</td><td style='border: 1px solid #dddddd'>None</td><td style='border: 1px solid #dddddd'>None</td></tr>\n            </table>\n        </body>\n        </HTML>", 
                        "text/plain": "<IPython.core.display.HTML object>"
                    }, 
                    "metadata": {}
                }, 
                {
                    "output_type": "stream", 
                    "name": "stdout", 
                    "text": "Note: First 10 records were displayed.\n"
                }
            ], 
            "source": "subscription.payload_logging.show_table()"
        }, 
        {
            "execution_count": 117, 
            "cell_type": "code", 
            "metadata": {}, 
            "outputs": [
                {
                    "output_type": "display_data", 
                    "data": {
                        "text/html": "<HTML>\n        <body>\n            <h3>PerformanceMetrics (binding_id=a73bf76d-a663-448a-b771-4f651f73d54e, subscription_id=8d3fdf56-57fd-4a37-b614-01caada3507f)</h3>\n            <table style='border: 1px solid #dddddd; font-family: Courier'>\n                <th style='border: 1px solid #dddddd'>ts</th><th style='border: 1px solid #dddddd'>response_time</th><th style='border: 1px solid #dddddd'>records</th><th style='border: 1px solid #dddddd'>binding_id</th><th style='border: 1px solid #dddddd'>subscription_id</th><th style='border: 1px solid #dddddd'>deployment_id</th><th style='border: 1px solid #dddddd'>process</th>\n                <tr><td style='border: 1px solid #dddddd'>2018-11-02 13:07:17.122000</td><td style='border: 1px solid #dddddd'>79.0</td><td style='border: 1px solid #dddddd'>362</td><td style='border: 1px solid #dddddd'>a73bf76d-a663-448a-b771-4f651f73d54e</td><td style='border: 1px solid #dddddd'>8d3fdf56-57fd-4a37-b614-01caada3507f</td><td style='border: 1px solid #dddddd'>c6910b7e-2440-41d0-81f1-a098ec041273</td><td style='border: 1px solid #dddddd'>None</td></tr><tr><td style='border: 1px solid #dddddd'>2018-11-02 13:06:49.218000</td><td style='border: 1px solid #dddddd'>33.0</td><td style='border: 1px solid #dddddd'>181</td><td style='border: 1px solid #dddddd'>a73bf76d-a663-448a-b771-4f651f73d54e</td><td style='border: 1px solid #dddddd'>8d3fdf56-57fd-4a37-b614-01caada3507f</td><td style='border: 1px solid #dddddd'>c6910b7e-2440-41d0-81f1-a098ec041273</td><td style='border: 1px solid #dddddd'>None</td></tr>\n            </table>\n        </body>\n        </HTML>", 
                        "text/plain": "<IPython.core.display.HTML object>"
                    }, 
                    "metadata": {}
                }
            ], 
            "source": "subscription.performance_monitoring.show_table()"
        }, 
        {
            "execution_count": 150, 
            "cell_type": "code", 
            "metadata": {}, 
            "outputs": [
                {
                    "output_type": "display_data", 
                    "data": {
                        "text/html": "<HTML>\n        <body>\n            <h3>QualityMetrics (subscription_id=7bfecb0e-5eff-40c5-8d00-e8ec40975893, binding_id=a73bf76d-a663-448a-b771-4f651f73d54e)</h3>\n            <table style='border: 1px solid #dddddd; font-family: Courier'>\n                <th style='border: 1px solid #dddddd'>ts</th><th style='border: 1px solid #dddddd'>quality</th><th style='border: 1px solid #dddddd'>threshold</th><th style='border: 1px solid #dddddd'>binding_id</th><th style='border: 1px solid #dddddd'>subscription_id</th><th style='border: 1px solid #dddddd'>deployment_id</th><th style='border: 1px solid #dddddd'>process</th><th style='border: 1px solid #dddddd'>asset_revision</th>\n                <tr><td style='border: 1px solid #dddddd'>2018-10-30 10:24:11.804000</td><td style='border: 1px solid #dddddd'>0.25</td><td style='border: 1px solid #dddddd'>0.8</td><td style='border: 1px solid #dddddd'>a73bf76d-a663-448a-b771-4f651f73d54e</td><td style='border: 1px solid #dddddd'>7bfecb0e-5eff-40c5-8d00-e8ec40975893</td><td style='border: 1px solid #dddddd'>None</td><td style='border: 1px solid #dddddd'>learning iteration [12a64365-1028-472e-8791-9221c577e0d3]</td><td style='border: 1px solid #dddddd'>8a4bcd6b-8f67-49cd-a927-c046791f1639</td></tr>\n            </table>\n        </body>\n        </HTML>", 
                        "text/plain": "<IPython.core.display.HTML object>"
                    }, 
                    "metadata": {}
                }
            ], 
            "source": "subscription.quality_monitoring.show_table()"
        }, 
        {
            "source": "### Describe table (basic stats on table)", 
            "cell_type": "markdown", 
            "metadata": {}
        }, 
        {
            "execution_count": 118, 
            "cell_type": "code", 
            "metadata": {}, 
            "outputs": [
                {
                    "output_type": "stream", 
                    "name": "stdout", 
                    "text": "              AGE  prediction\ncount  543.000000  543.000000\nmean    43.348066    0.779006\nstd     16.305389    0.973335\nmin     15.000000    0.000000\n25%     31.000000    0.000000\n50%     42.000000    1.000000\n75%     57.000000    1.000000\nmax     74.000000    4.000000\n"
                }
            ], 
            "source": "subscription.payload_logging.describe_table()"
        }, 
        {
            "source": "### Get table content as pandas dataframe", 
            "cell_type": "markdown", 
            "metadata": {}
        }, 
        {
            "execution_count": 119, 
            "cell_type": "code", 
            "metadata": {}, 
            "outputs": [], 
            "source": "pandas_df = subscription.payload_logging.get_table_content(format='pandas')"
        }, 
        {
            "execution_count": 120, 
            "cell_type": "code", 
            "metadata": {}, 
            "outputs": [
                {
                    "execution_count": 120, 
                    "metadata": {}, 
                    "data": {
                        "text/plain": "<matplotlib.axes._subplots.AxesSubplot at 0x7fc8c9a19d68>"
                    }, 
                    "output_type": "execute_result"
                }, 
                {
                    "output_type": "display_data", 
                    "data": {
                        "image/png": "[encoded data removed]", 
                        "text/plain": "<matplotlib.figure.Figure at 0x7fc8c9a19748>"
                    }, 
                    "metadata": {}
                }
            ], 
            "source": "%matplotlib inline\n\npandas_df.boxplot()"
        }, 
        {
            "source": "### 5.2 Accessing data mart metrics\n- performance\n- quality\n- fairness", 
            "cell_type": "markdown", 
            "metadata": {}
        }, 
        {
            "source": "Get all metrics.", 
            "cell_type": "markdown", 
            "metadata": {}
        }, 
        {
            "execution_count": 121, 
            "cell_type": "code", 
            "metadata": {}, 
            "outputs": [
                {
                    "execution_count": 121, 
                    "metadata": {}, 
                    "data": {
                        "text/plain": "{'deployment_metrics': [{'asset': {'asset_id': '8d3fdf56-57fd-4a37-b614-01caada3507f',\n    'asset_type': 'model',\n    'created_at': '2018-11-02T11:13:53.971Z',\n    'name': 'drug-selection',\n    'url': 'https://us-south.ml.cloud.ibm.com/v3/wml_instances/a73bf76d-a663-448a-b771-4f651f73d54e/published_models/8d3fdf56-57fd-4a37-b614-01caada3507f'},\n   'deployment': {'created_at': '2018-11-02T13:01:57.449Z',\n    'deployment_id': 'c6910b7e-2440-41d0-81f1-a098ec041273',\n    'deployment_type': 'online',\n    'name': 'best-drug model deployment',\n    'url': 'https://us-south.ml.cloud.ibm.com/v3/wml_instances/a73bf76d-a663-448a-b771-4f651f73d54e/deployments/c6910b7e-2440-41d0-81f1-a098ec041273'},\n   'metrics': [{'issues': 3,\n     'metric_type': 'fairness',\n     'timestamp': '2018-11-02T13:07:50.608659Z',\n     'value': {'manual_labelling_store': 'FM_Manual_Labeling_8d3fdf56_57fd_4a37_b614_01caada3507f',\n      'metrics': [{'bias_source': {'values': [{'fav_percent': 50.0,\n           'range': '[57,58]'},\n          {'fav_percent': 50.0, 'range': '[69,71]'}]},\n        'feature': 'AGE',\n        'majority': {'total_fav_percent': 26.08695652173913,\n         'total_rows_percent': 95.83333333333334,\n         'values': [{'distribution': {'50': [{'count': 1,\n              'is_favourable': False,\n              'label': 'drugA'}]},\n           'fav_class_percent': 15.384615384615385,\n           'value': [49, 59]},\n          {'distribution': {}, 'fav_class_percent': 40.0, 'value': [60, 75]}]},\n        'minority': {'total_fav_percent': 15.384615384615385,\n         'total_rows_percent': 54.166666666666664,\n         'values': [{'distribution': {},\n           'fairness_value': 0.0,\n           'fav_class_percent': 0.0,\n           'is_biased': True,\n           'value': [76, 99]},\n          {'distribution': {'19': [{'count': 1,\n              'is_favourable': False,\n              'label': 'drugA'}],\n            '24': [{'count': 1, 'is_favourable': False, 'label': 'drugA'}],\n            '29': [{'count': 1, 'is_favourable': False, 'label': 'drugA'}],\n            '31': [{'count': 1, 'is_favourable': False, 'label': 'drugA'}],\n            '32': [{'count': 2, 'is_favourable': False, 'label': 'drugA'}],\n            '36': [{'count': 1, 'is_favourable': False, 'label': 'drugA'}],\n            '37': [{'count': 1, 'is_favourable': False, 'label': 'drugA'}],\n            '38': [{'count': 1, 'is_favourable': False, 'label': 'drugA'}],\n            '43': [{'count': 1, 'is_favourable': True, 'label': 'drugY'}],\n            '45': [{'count': 1, 'is_favourable': True, 'label': 'drugX'}]},\n           'fairness_value': 0.639,\n           'fav_class_percent': 16.666666666666664,\n           'is_biased': True,\n           'value': [0, 48]}]}},\n       {'feature': 'SEX',\n        'majority': {'total_fav_percent': 25.0,\n         'total_rows_percent': 50.0,\n         'values': [{'distribution': {'M': [{'count': 5,\n              'is_favourable': False,\n              'label': 'drugA'},\n             {'count': 1, 'is_favourable': True, 'label': 'drugY'}]},\n           'fav_class_percent': 25.0,\n           'value': 'M'}]},\n        'minority': {'total_fav_percent': 8.333333333333332,\n         'total_rows_percent': 50.0,\n         'values': [{'distribution': {'F': [{'count': 5,\n              'is_favourable': False,\n              'label': 'drugA'},\n             {'count': 1, 'is_favourable': True, 'label': 'drugX'}]},\n           'fairness_value': 0.333,\n           'fav_class_percent': 8.333333333333332,\n           'is_biased': True,\n           'value': 'F'}]}}],\n      'perturbed_data_size': 12,\n      'response_time': '1.272999',\n      'rows_analyzed': 12,\n      'score_type': 'desperate impact'}},\n    {'issues': 0,\n     'metric_type': 'performance',\n     'timestamp': '2018-11-02T13:07:17.122Z',\n     'value': {'records': 362, 'response_time': 79.0}},\n    {'issues': 1,\n     'metric_type': 'quality',\n     'timestamp': '2018-11-02T13:08:04.947Z',\n     'value': {'metrics': [{'name': 'weightedTruePositiveRate', 'value': 0.25},\n       {'name': 'accuracy', 'threshold': 0.8, 'value': 0.25},\n       {'name': 'weightedFMeasure', 'value': 0.4000000000000001},\n       {'name': 'weightedRecall', 'value': 0.25},\n       {'name': 'weightedPrecision', 'value': 1.0}],\n      'phase': 'monitoring',\n      'quality': 0.25,\n      'threshold': 0.8}}],\n   'subscription': {'subscription_id': '8d3fdf56-57fd-4a37-b614-01caada3507f',\n    'url': '/v1/data_marts/a34def9a-cb50-4b88-960d-10041bf07507/service_bindings/a73bf76d-a663-448a-b771-4f651f73d54e/subscriptions/8d3fdf56-57fd-4a37-b614-01caada3507f'}}]}"
                    }, 
                    "output_type": "execute_result"
                }
            ], 
            "source": "client.data_mart.get_deployment_metrics()"
        }, 
        {
            "source": "Get metric for particular deployment.", 
            "cell_type": "markdown", 
            "metadata": {}
        }, 
        {
            "execution_count": 122, 
            "cell_type": "code", 
            "metadata": {}, 
            "outputs": [
                {
                    "execution_count": 122, 
                    "metadata": {}, 
                    "data": {
                        "text/plain": "{'end': '2018-11-02T13:09:17.583510Z',\n 'metrics': [{'asset_revision': 'ce7a5136-662a-430a-bd15-8d9d65091771',\n   'process': 'learning iteration [5412431f-d259-4166-9c84-193583172b35]',\n   'timestamp': '2018-11-02T13:08:04.947Z',\n   'value': {'metrics': [{'name': 'weightedTruePositiveRate', 'value': 0.25},\n     {'name': 'accuracy', 'threshold': 0.8, 'value': 0.25},\n     {'name': 'weightedFMeasure', 'value': 0.4000000000000001},\n     {'name': 'weightedRecall', 'value': 0.25},\n     {'name': 'weightedPrecision', 'value': 1.0}],\n    'phase': 'monitoring',\n    'quality': 0.25,\n    'threshold': 0.8}}],\n 'start': '2018-11-02T12:06:37.473Z'}"
                    }, 
                    "output_type": "execute_result"
                }
            ], 
            "source": "subscription.quality_monitoring.get_metrics(deployment_uid=subscription.get_deployment_uids()[0])"
        }, 
        {
            "source": "<a id=\"setup\"></a>\n## 6. Visualization", 
            "cell_type": "markdown", 
            "metadata": {}
        }, 
        {
            "source": "Get the performance metrics as pandas dataframe.", 
            "cell_type": "markdown", 
            "metadata": {}
        }, 
        {
            "execution_count": 138, 
            "cell_type": "code", 
            "metadata": {}, 
            "outputs": [], 
            "source": "performance_pdf = subscription.performance_monitoring.get_table_content()"
        }, 
        {
            "source": "Let's enrich our data by calculating additional metric: `throughput`", 
            "cell_type": "markdown", 
            "metadata": {}
        }, 
        {
            "execution_count": 139, 
            "cell_type": "code", 
            "metadata": {}, 
            "outputs": [], 
            "source": "performance_pdf['throughput'] = performance_pdf.apply(lambda row: float((row.records/row.response_time*1000)) ,axis=1)\nperformance_pdf['date'] = performance_pdf['ts'].dt.date\nperformance_aggregated_daily = performance_pdf.groupby(['date']).agg({'throughput': 'mean', 'records': sum, 'response_time': sum})"
        }, 
        {
            "source": "Let's plot metrics over time.", 
            "cell_type": "markdown", 
            "metadata": {}
        }, 
        {
            "execution_count": 140, 
            "cell_type": "code", 
            "metadata": {}, 
            "outputs": [
                {
                    "output_type": "display_data", 
                    "data": {
                        "text/html": "<script>requirejs.config({paths: { 'plotly': ['https://cdn.plot.ly/plotly-latest.min']},});if(!window.Plotly) {{require(['plotly'],function(plotly) {window.Plotly=plotly;});}}</script>", 
                        "text/vnd.plotly.v1+html": "<script>requirejs.config({paths: { 'plotly': ['https://cdn.plot.ly/plotly-latest.min']},});if(!window.Plotly) {{require(['plotly'],function(plotly) {window.Plotly=plotly;});}}</script>"
                    }, 
                    "metadata": {}
                }
            ], 
            "source": "import sys\nimport os\nimport plotly.plotly as py\nfrom plotly.offline import download_plotlyjs, init_notebook_mode, plot, iplot\nimport plotly.graph_objs as go\n\ninit_notebook_mode(connected=True)\nsys.path.append(\"\".join([os.environ[\"HOME\"]]))"
        }, 
        {
            "source": "Create traces.", 
            "cell_type": "markdown", 
            "metadata": {}
        }, 
        {
            "execution_count": 141, 
            "cell_type": "code", 
            "metadata": {}, 
            "outputs": [
                {
                    "output_type": "display_data", 
                    "data": {
                        "text/html": "<div id=\"587e4026-fb65-4a34-8080-d3d24a8e8123\" style=\"height: 525px; width: 100%;\" class=\"plotly-graph-div\"></div><script type=\"text/javascript\">require([\"plotly\"], function(Plotly) { window.PLOTLYENV=window.PLOTLYENV || {};window.PLOTLYENV.BASE_URL=\"https://plot.ly\";Plotly.newPlot(\"587e4026-fb65-4a34-8080-d3d24a8e8123\", [{\"type\": \"bar\", \"orientation\": \"h\", \"y\": [\"2018-11-02\"], \"name\": \"throughput\", \"x\": [4513.865698312362]}, {\"type\": \"bar\", \"orientation\": \"h\", \"y\": [\"2018-11-02\"], \"name\": \"records\", \"x\": [2534]}, {\"type\": \"bar\", \"orientation\": \"h\", \"y\": [\"2018-11-02\"], \"name\": \"response time\", \"x\": [595.0]}], {\"xaxis\": {\"title\": \"Metric value\"}, \"barmode\": \"group\", \"title\": \"Performance metrics daily\"}, {\"showLink\": true, \"linkText\": \"Export to plot.ly\"})});</script>", 
                        "text/vnd.plotly.v1+html": "<div id=\"587e4026-fb65-4a34-8080-d3d24a8e8123\" style=\"height: 525px; width: 100%;\" class=\"plotly-graph-div\"></div><script type=\"text/javascript\">require([\"plotly\"], function(Plotly) { window.PLOTLYENV=window.PLOTLYENV || {};window.PLOTLYENV.BASE_URL=\"https://plot.ly\";Plotly.newPlot(\"587e4026-fb65-4a34-8080-d3d24a8e8123\", [{\"type\": \"bar\", \"orientation\": \"h\", \"y\": [\"2018-11-02\"], \"name\": \"throughput\", \"x\": [4513.865698312362]}, {\"type\": \"bar\", \"orientation\": \"h\", \"y\": [\"2018-11-02\"], \"name\": \"records\", \"x\": [2534]}, {\"type\": \"bar\", \"orientation\": \"h\", \"y\": [\"2018-11-02\"], \"name\": \"response time\", \"x\": [595.0]}], {\"xaxis\": {\"title\": \"Metric value\"}, \"barmode\": \"group\", \"title\": \"Performance metrics daily\"}, {\"showLink\": true, \"linkText\": \"Export to plot.ly\"})});</script>", 
                        "application/vnd.plotly.v1+json": {
                            "data": [
                                {
                                    "y": [
                                        "2018-11-02"
                                    ], 
                                    "x": [
                                        4513.865698312362
                                    ], 
                                    "type": "bar", 
                                    "name": "throughput", 
                                    "orientation": "h"
                                }, 
                                {
                                    "y": [
                                        "2018-11-02"
                                    ], 
                                    "x": [
                                        2534
                                    ], 
                                    "type": "bar", 
                                    "name": "records", 
                                    "orientation": "h"
                                }, 
                                {
                                    "y": [
                                        "2018-11-02"
                                    ], 
                                    "x": [
                                        595
                                    ], 
                                    "type": "bar", 
                                    "name": "response time", 
                                    "orientation": "h"
                                }
                            ], 
                            "layout": {
                                "barmode": "group", 
                                "xaxis": {
                                    "title": "Metric value"
                                }, 
                                "title": "Performance metrics daily"
                            }
                        }
                    }, 
                    "metadata": {}
                }
            ], 
            "source": "trace1 = go.Bar(\n    y=performance_aggregated_daily.index,\n    x=performance_aggregated_daily['throughput'],\n    orientation = 'h',\n    name='throughput'\n)\n\ntrace2 = go.Bar(\n    y=performance_aggregated_daily.index,\n    x=performance_aggregated_daily['records'],\n    orientation = 'h',\n    name='records'\n)\n\ntrace3 = go.Bar(\n    y=performance_aggregated_daily.index,\n    x=performance_aggregated_daily['response_time'],\n    orientation = 'h',\n    name='response time'\n)\n\ndata = [trace1, trace2, trace3]\nlayout = go.Layout(\n    title = 'Performance metrics daily',\n    barmode='group',\n    xaxis=dict(title='Metric value'),\n)\n\nfig = go.Figure(data=data, layout=layout)\niplot(fig)"
        }, 
        {
            "source": "---", 
            "cell_type": "markdown", 
            "metadata": {}
        }, 
        {
            "source": "### Authors\nLukasz Cmielowski, PhD, is an Automation Architect and Data Scientist at IBM with a track record of developing enterprise-level applications that substantially increases clients' ability to turn data into actionable knowledge.", 
            "cell_type": "markdown", 
            "metadata": {}
        }
    ], 
    "metadata": {
        "kernelspec": {
            "display_name": "Python 3.5", 
            "name": "python3", 
            "language": "python"
        }, 
        "language_info": {
            "mimetype": "text/x-python", 
            "nbconvert_exporter": "python", 
            "version": "3.5.5", 
            "name": "python", 
            "file_extension": ".py", 
            "pygments_lexer": "ipython3", 
            "codemirror_mode": {
                "version": 3, 
                "name": "ipython"
            }
        }
    }, 
    "nbformat": 4
}