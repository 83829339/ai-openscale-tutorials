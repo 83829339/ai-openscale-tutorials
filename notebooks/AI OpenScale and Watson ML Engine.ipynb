{
    "nbformat_minor": 1, 
    "cells": [
        {
            "source": "<img src=\"https://github.com/pmservice/ai-openscale-tutorials/raw/master/notebooks/images/banner.png\" align=\"left\" alt=\"banner\">", 
            "cell_type": "markdown", 
            "metadata": {}
        }, 
        {
            "source": "# Working with Watson Machine Learning engine", 
            "cell_type": "markdown", 
            "metadata": {}
        }, 
        {
            "source": "This notebook shows how to create a data mart for Watson Machine Learning deployments. It includes steps for performance, bias and quality monitor configurations.", 
            "cell_type": "markdown", 
            "metadata": {}
        }, 
        {
            "source": "Contents\n- [1. Setup](#setup)\n- [2. Binding machine learning engine](#binding)\n- [3. Subscriptions](#subscription)\n- [4. Quality monitoring](#quality)\n- [5. Performance monitoring](#performance)\n- [6. Fairness monitoring](#fairness)\n- [7. Working with Data Mart](#datamart)", 
            "cell_type": "markdown", 
            "metadata": {}
        }, 
        {
            "source": "<a id=\"setup\"></a>\n## 1. Setup", 
            "cell_type": "markdown", 
            "metadata": {}
        }, 
        {
            "source": "### 1.1 Installation and authentication", 
            "cell_type": "markdown", 
            "metadata": {}
        }, 
        {
            "execution_count": 1, 
            "cell_type": "code", 
            "metadata": {
                "scrolled": true
            }, 
            "outputs": [
                {
                    "output_type": "stream", 
                    "name": "stdout", 
                    "text": "Requirement not upgraded as not directly required: jmespath<1.0.0,>=0.7.1 in /opt/conda/envs/DSX-Python35/lib/python3.5/site-packages (from ibm-cos-sdk-core==2.*,>=2.0.0->ibm-cos-sdk->watson-machine-learning-client->ibm-ai-openscale)\nRequirement not upgraded as not directly required: jmespath<1.0.0,>=0.7.1 in /opt/conda/envs/DSX-Python35/lib/python3.5/site-packages (from ibm-cos-sdk-core==2.*,>=2.0.0->ibm-cos-sdk->watson-machine-learning-client)\n"
                }
            ], 
            "source": "!pip install --upgrade ibm-ai-openscale --no-cache | tail -n 1\n!pip install --upgrade watson-machine-learning-client --no-cache | tail -n 1"
        }, 
        {
            "source": "#### ACTION: Restart kernel to make sure installed versions are used.", 
            "cell_type": "markdown", 
            "metadata": {}
        }, 
        {
            "source": "Import and initiate.", 
            "cell_type": "markdown", 
            "metadata": {}
        }, 
        {
            "execution_count": 2, 
            "cell_type": "code", 
            "metadata": {}, 
            "outputs": [
                {
                    "output_type": "stream", 
                    "name": "stderr", 
                    "text": "/opt/conda/envs/DSX-Python35/lib/python3.5/site-packages/sklearn/cross_validation.py:41: DeprecationWarning: This module was deprecated in version 0.18 in favor of the model_selection module into which all the refactored classes and functions are moved. Also note that the interface of the new CV iterators are different from that of this module. This module will be removed in 0.20.\n  \"This module will be removed in 0.20.\", DeprecationWarning)\n"
                }
            ], 
            "source": "from ibm_ai_openscale import APIClient\nfrom ibm_ai_openscale.engines import *\nfrom ibm_ai_openscale.utils import *\nfrom ibm_ai_openscale.supporting_classes import PayloadRecord, Feature\nfrom ibm_ai_openscale.supporting_classes.enums import *"
        }, 
        {
            "source": "#### ACTION: Get Watson OpenScale `instance_guid` and `apikey`\n\nHow to install IBM Cloud (bluemix) console: [instruction](https://console.bluemix.net/docs/cli/reference/ibmcloud/download_cli.html#install_use)\n\nHow to get api key using bluemix console:\n```\nbx login --sso\nbx iam api-key-create 'my_key'\n```\n\nHow to get your AI OpenScale instance GUID\n\n- if your resource group is different than `default` switch to resource group containing AI OpenScale instance\n```\nbx target -g <myResourceGroup>\n```\n- get details of the instance\n```\nbx resource service-instance 'AI-OpenScale-instance_name'\n```", 
            "cell_type": "markdown", 
            "metadata": {}
        }, 
        {
            "source": "#### Let's define some constants required to set up data mart:\n\n- AIOS_CREDENTIALS (AI OpenScale credentials)\n- POSTGRES_CREDENTIALS\n- SCHEMA_NAME\n- WML_CREDENTIALS (Watson Machine Learning credentials)", 
            "cell_type": "markdown", 
            "metadata": {}
        }, 
        {
            "execution_count": 3, 
            "cell_type": "code", 
            "metadata": {}, 
            "outputs": [], 
            "source": "AIOS_CREDENTIALS = {\n  \"instance_guid\": \"*****\",\n  \"apikey\": \"*****\", \n  \"url\": \"https://api.aiopenscale.cloud.ibm.com\"\n}"
        }, 
        {
            "execution_count": 4, 
            "cell_type": "code", 
            "metadata": {}, 
            "outputs": [], 
            "source": "# The code was removed by Watson Studio for sharing."
        }, 
        {
            "execution_count": 5, 
            "cell_type": "code", 
            "metadata": {}, 
            "outputs": [], 
            "source": "WML_CREDENTIALS =  {\n  \"apikey\": \"***\",\n  \"iam_apikey_description\": \"Auto generated apikey during resource-key operation for Instance - crn:v1:bluemix:public:pm-20:us-south:a/181ed6cc388f47bd9d862fe066f9cfce:c419e24a-c4eb-41b4-a2e1-ce4f0d298428::\",\n  \"iam_apikey_name\": \"auto-generated-apikey-33f864a1-9958-4a32-b9ab-6fd962f98522\",\n  \"iam_role_crn\": \"crn:v1:bluemix:public:iam::::serviceRole:Writer\",\n  \"iam_serviceid_crn\": \"crn:v1:bluemix:public:iam-identity::a/181ed6cc388f47bd9d862fe066f9cfce::serviceid:ServiceId-e847629a-195e-455d-a949-957263b867ab\",\n  \"instance_id\": \"***\",\n  \"password\": \"***\",\n  \"url\": \"https://us-south.ml.cloud.ibm.com\",\n  \"username\": \"*****\"\n}"
        }, 
        {
            "execution_count": 6, 
            "cell_type": "code", 
            "metadata": {}, 
            "outputs": [], 
            "source": "# The code was removed by Watson Studio for sharing."
        }, 
        {
            "execution_count": 7, 
            "cell_type": "code", 
            "metadata": {}, 
            "outputs": [], 
            "source": "POSTGRES_CREDENTIALS = {\n    \"db_type\": \"postgresql\",\n    \"uri_cli_1\": \"xxx\",\n    \"maps\": [],\n    \"instance_administration_api\": {\n        \"instance_id\": \"xxx\",\n        \"root\": \"xxx\",\n        \"deployment_id\": \"xxx\"\n    },\n    \"name\": \"xxx\",\n    \"uri_cli\": \"xxx\",\n    \"uri_direct_1\": \"xxx\",\n    \"ca_certificate_base64\": \"xxx\",\n    \"deployment_id\": \"xxx\",\n    \"uri\": \"xxx\"\n}"
        }, 
        {
            "execution_count": 8, 
            "cell_type": "code", 
            "metadata": {}, 
            "outputs": [], 
            "source": "# The code was removed by Watson Studio for sharing."
        }, 
        {
            "execution_count": 9, 
            "cell_type": "code", 
            "metadata": {}, 
            "outputs": [], 
            "source": "SCHEMA_NAME = 'data_mart_cars4u_tutorial'"
        }, 
        {
            "source": "You can use the code below to create the schema. If the schema already exists skipp this cell.", 
            "cell_type": "markdown", 
            "metadata": {}
        }, 
        {
            "execution_count": null, 
            "cell_type": "code", 
            "metadata": {}, 
            "outputs": [], 
            "source": "create_postgres_schema(postgres_credentials=POSTGRES_CREDENTIALS, schema_name=SCHEMA_NAME)"
        }, 
        {
            "execution_count": 10, 
            "cell_type": "code", 
            "metadata": {
                "scrolled": true
            }, 
            "outputs": [], 
            "source": "client = APIClient(aios_credentials=AIOS_CREDENTIALS)"
        }, 
        {
            "execution_count": 11, 
            "cell_type": "code", 
            "metadata": {}, 
            "outputs": [
                {
                    "execution_count": 11, 
                    "metadata": {}, 
                    "data": {
                        "text/plain": "'2.0.2'"
                    }, 
                    "output_type": "execute_result"
                }
            ], 
            "source": "client.version"
        }, 
        {
            "source": "### 1.2 DataMart setup", 
            "cell_type": "markdown", 
            "metadata": {}
        }, 
        {
            "execution_count": 12, 
            "cell_type": "code", 
            "metadata": {}, 
            "outputs": [
                {
                    "output_type": "stream", 
                    "name": "stdout", 
                    "text": "Warning during setup of data mart.\nStatus code: 409, body: {\"trace\":\"ODk0ZWIzMjAtODFkNS00YzIyLWIzZjktZDgwNDJmYjZjNWY0\",\"errors\":[{\"code\":\"AISCS0004W\",\"message\":\"Data Mart with this id is already defined\"}]}\n"
                }
            ], 
            "source": "client.data_mart.setup(db_credentials=POSTGRES_CREDENTIALS, schema=SCHEMA_NAME)"
        }, 
        {
            "execution_count": 13, 
            "cell_type": "code", 
            "metadata": {}, 
            "outputs": [], 
            "source": "data_mart_details = client.data_mart.get_details()"
        }, 
        {
            "source": "Data Mart with instance guid name has been created.", 
            "cell_type": "markdown", 
            "metadata": {}
        }, 
        {
            "source": "<a id=\"binding\"></a>\n\n## 2. Bind machine learning engines", 
            "cell_type": "markdown", 
            "metadata": {}
        }, 
        {
            "source": "### 2.1 Bind Watson Machine Learning ", 
            "cell_type": "markdown", 
            "metadata": {}
        }, 
        {
            "source": "You can bind you Watson Machine Learning instance to previously created data mart.", 
            "cell_type": "markdown", 
            "metadata": {}
        }, 
        {
            "execution_count": 14, 
            "cell_type": "code", 
            "metadata": {}, 
            "outputs": [], 
            "source": "binding_uid = client.data_mart.bindings.add('WML instance', WatsonMachineLearningInstance(WML_CREDENTIALS))"
        }, 
        {
            "execution_count": 15, 
            "cell_type": "code", 
            "metadata": {}, 
            "outputs": [], 
            "source": "bindings_details = client.data_mart.bindings.get_details()"
        }, 
        {
            "execution_count": 16, 
            "cell_type": "code", 
            "metadata": {
                "scrolled": true
            }, 
            "outputs": [
                {
                    "output_type": "display_data", 
                    "data": {
                        "text/html": "<HTML>\n        <body>\n            <h3>Service bindings</h3>\n            <table style='border: 1px solid #dddddd; font-family: Courier'>\n                <th style='border: 1px solid #dddddd'>uid</th><th style='border: 1px solid #dddddd'>name</th><th style='border: 1px solid #dddddd'>service_type</th><th style='border: 1px solid #dddddd'>created</th>\n                <tr><td style='border: 1px solid #dddddd'>4d7a90a8-9df1-45be-be13-cb54930512cf</td><td style='border: 1px solid #dddddd'>WML instance</td><td style='border: 1px solid #dddddd'>watson_machine_learning</td><td style='border: 1px solid #dddddd'>2019-02-05T08:46:41.749Z</td></tr><tr><td style='border: 1px solid #dddddd'>dd096f50-15eb-4d22-bc5f-39aff54acc98</td><td style='border: 1px solid #dddddd'>My Azure ML Studio engine</td><td style='border: 1px solid #dddddd'>azure_machine_learning</td><td style='border: 1px solid #dddddd'>2019-01-30T11:01:59.206Z</td></tr>\n            </table>\n        </body>\n        </HTML>", 
                        "text/plain": "<IPython.core.display.HTML object>"
                    }, 
                    "metadata": {}
                }
            ], 
            "source": "client.data_mart.bindings.list()"
        }, 
        {
            "source": "### 2.2 Check available assets from binded services", 
            "cell_type": "markdown", 
            "metadata": {}
        }, 
        {
            "source": "#### List available assets", 
            "cell_type": "markdown", 
            "metadata": {}
        }, 
        {
            "execution_count": 18, 
            "cell_type": "code", 
            "metadata": {}, 
            "outputs": [
                {
                    "output_type": "display_data", 
                    "data": {
                        "text/html": "<HTML>\n        <body>\n            <h3>Available assets (binding_uid='4d7a90a8-9df1-45be-be13-cb54930512cf')</h3>\n            <table style='border: 1px solid #dddddd; font-family: Courier'>\n                <th style='border: 1px solid #dddddd'>source_uid</th><th style='border: 1px solid #dddddd'>name</th><th style='border: 1px solid #dddddd'>created</th><th style='border: 1px solid #dddddd'>type</th><th style='border: 1px solid #dddddd'>frameworks</th><th style='border: 1px solid #dddddd'>binding_uid</th><th style='border: 1px solid #dddddd'>is_subscribed</th>\n                <tr><td style='border: 1px solid #dddddd'>67d1d82d-eeb0-488a-b403-1a8dc00db72f</td><td style='border: 1px solid #dddddd'>CARS4U - Action Recommendation Model</td><td style='border: 1px solid #dddddd'>2018-12-13T15:27:03.277Z</td><td style='border: 1px solid #dddddd'>model</td><td style='border: 1px solid #dddddd'>mllib-2.1</td><td style='border: 1px solid #dddddd'>4d7a90a8-9df1-45be-be13-cb54930512cf</td><td style='border: 1px solid #dddddd'>False</td></tr>\n            </table>\n        </body>\n        </HTML>", 
                        "text/plain": "<IPython.core.display.HTML object>"
                    }, 
                    "metadata": {}
                }
            ], 
            "source": "client.data_mart.bindings.list_assets(binding_uid='4d7a90a8-9df1-45be-be13-cb54930512cf')"
        }, 
        {
            "source": "#### Get metadata of available assets", 
            "cell_type": "markdown", 
            "metadata": {}
        }, 
        {
            "execution_count": 25, 
            "cell_type": "code", 
            "metadata": {}, 
            "outputs": [], 
            "source": "assets_details = client.data_mart.bindings.get_asset_details()"
        }, 
        {
            "execution_count": 27, 
            "cell_type": "code", 
            "metadata": {}, 
            "outputs": [], 
            "source": "cars4u_asset_uid = None\n\nfor x in assets_details:\n    if 'cars4u' in x['name'].lower():\n        cars4u_asset_uid = x['source_uid']"
        }, 
        {
            "execution_count": 28, 
            "cell_type": "code", 
            "metadata": {}, 
            "outputs": [
                {
                    "output_type": "stream", 
                    "name": "stdout", 
                    "text": "67d1d82d-eeb0-488a-b403-1a8dc00db72f\n"
                }
            ], 
            "source": "print(str(cars4u_asset_uid))"
        }, 
        {
            "source": "<a id=\"subscriptions\"></a>\n## 3. Subscriptions", 
            "cell_type": "markdown", 
            "metadata": {}
        }, 
        {
            "source": "### 3.1 Subscribe the asset", 
            "cell_type": "markdown", 
            "metadata": {}
        }, 
        {
            "execution_count": 29, 
            "cell_type": "code", 
            "metadata": {}, 
            "outputs": [], 
            "source": "subscription = client.data_mart.subscriptions.add(WatsonMachineLearningAsset(source_uid=cars4u_asset_uid, \n                                                                             problem_type=ProblemType.MULTICLASS_CLASSIFICATION, \n                                                                             prediction_column='predictedActionLabel'))"
        }, 
        {
            "source": "**Note:** By default, payload logging and performance monitoring are enabled.", 
            "cell_type": "markdown", 
            "metadata": {}
        }, 
        {
            "source": "#### Get subscriptions list", 
            "cell_type": "markdown", 
            "metadata": {}
        }, 
        {
            "execution_count": 30, 
            "cell_type": "code", 
            "metadata": {}, 
            "outputs": [
                {
                    "output_type": "stream", 
                    "name": "stdout", 
                    "text": "['67d1d82d-eeb0-488a-b403-1a8dc00db72f', '085460ef94636166aea5800e9ea26168']\n"
                }
            ], 
            "source": "subscriptions_uids = client.data_mart.subscriptions.get_uids()\nprint(subscriptions_uids)"
        }, 
        {
            "source": "#### List subscriptions", 
            "cell_type": "markdown", 
            "metadata": {}
        }, 
        {
            "execution_count": 31, 
            "cell_type": "code", 
            "metadata": {
                "scrolled": true
            }, 
            "outputs": [
                {
                    "output_type": "display_data", 
                    "data": {
                        "text/html": "<HTML>\n        <body>\n            <h3>Subscriptions</h3>\n            <table style='border: 1px solid #dddddd; font-family: Courier'>\n                <th style='border: 1px solid #dddddd'>uid</th><th style='border: 1px solid #dddddd'>name</th><th style='border: 1px solid #dddddd'>type</th><th style='border: 1px solid #dddddd'>binding_uid</th><th style='border: 1px solid #dddddd'>created</th>\n                <tr><td style='border: 1px solid #dddddd'>67d1d82d-eeb0-488a-b403-1a8dc00db72f</td><td style='border: 1px solid #dddddd'>CARS4U - Action Recommendation Model</td><td style='border: 1px solid #dddddd'>model</td><td style='border: 1px solid #dddddd'>4d7a90a8-9df1-45be-be13-cb54930512cf</td><td style='border: 1px solid #dddddd'>2019-02-05T09:14:31.141Z</td></tr><tr><td style='border: 1px solid #dddddd'>085460ef94636166aea5800e9ea26168</td><td style='border: 1px solid #dddddd'>GermanCreditRisk.2019.1.9.10.41.58.611</td><td style='border: 1px solid #dddddd'>model</td><td style='border: 1px solid #dddddd'>dd096f50-15eb-4d22-bc5f-39aff54acc98</td><td style='border: 1px solid #dddddd'>2019-01-30T11:07:22.455Z</td></tr>\n            </table>\n        </body>\n        </HTML>", 
                        "text/plain": "<IPython.core.display.HTML object>"
                    }, 
                    "metadata": {}
                }
            ], 
            "source": "client.data_mart.subscriptions.list()"
        }, 
        {
            "source": "#### Get subscription", 
            "cell_type": "markdown", 
            "metadata": {}
        }, 
        {
            "source": "**Hint:** You can get subscription by passing subscription_uid to below method.", 
            "cell_type": "markdown", 
            "metadata": {}
        }, 
        {
            "source": "subscription = client.data_mart.subscriptions.get('f17b991c-3098-4cdd-86d9-d56174ca4b00')", 
            "cell_type": "raw", 
            "metadata": {}
        }, 
        {
            "source": "<a id=\"quality\"></a>\n## 4. Quality monitoring and feedback logging", 
            "cell_type": "markdown", 
            "metadata": {}
        }, 
        {
            "source": "### 4.1 Quality monitoring setup", 
            "cell_type": "markdown", 
            "metadata": {}
        }, 
        {
            "source": "#### Enable quality monitor for selected subscription", 
            "cell_type": "markdown", 
            "metadata": {}
        }, 
        {
            "source": "You need to provide the monitoring `threshold` and `min_records` (minimal number of feedback records).", 
            "cell_type": "markdown", 
            "metadata": {}
        }, 
        {
            "execution_count": 36, 
            "cell_type": "code", 
            "metadata": {}, 
            "outputs": [], 
            "source": "subscription.quality_monitoring.enable(threshold=0.7, min_records=5)"
        }, 
        {
            "source": "### 4.2 Feedback logging", 
            "cell_type": "markdown", 
            "metadata": {}
        }, 
        {
            "source": "#### Send some feedback records to feedback store. ", 
            "cell_type": "markdown", 
            "metadata": {}
        }, 
        {
            "source": "Feedback records are used to evaluate our model.", 
            "cell_type": "markdown", 
            "metadata": {}
        }, 
        {
            "execution_count": 37, 
            "cell_type": "code", 
            "metadata": {}, 
            "outputs": [], 
            "source": "subscription.feedback_logging.store(\n            [\n                [122, 'Male', 'S', 2, 45, 'Inactive', 'Yes', 'no wait for pick up and drop off was great', 0, 'Product: Functioning', 'Voucher'],\n                [178, 'Female', 'M', 2, 55, 'Active', 'No', 'what customer service? It was a nightmare', 0, 'Product: Information', 'Free Upgrade'],\n                [122, 'Male', 'S', 2, 45, 'Inactive', 'Yes', 'no wait for pick up and drop off was great', 0, 'Product: Functioning', 'NA'],\n                [123, 'Male', 'S', 2, 45, 'Inactive', 'Yes', 'no wait for pick up and drop off was great', 0, 'Product: Functioning', 'Voucher'],\n                [178, 'Female', 'M', 2, 55, 'Active', 'No', 'what customer service? It was a nightmare', 0, 'Product: Information', 'Free Upgrade'],\n                [124, 'Male', 'S', 2, 45, 'Inactive', 'Yes', 'no wait for pick up and drop off was great', 0, 'Product: Functioning', 'NA'],\n                [3785, 'Male', 'S', 1, 17, 'Inactive', 'Yes', 'The car should have been brought to us instead of us trying to find it in the lot.', 0, 'Product: Information', 'On-demand pickup location'],\n                [3786, 'Male', 'S', 1, 17, 'Inactive', 'Yes', 'The car should have been brought to us instead of us trying to find it in the lot.', 0, 'Product: Information', 'On-demand pickup location'],\n                [3787, 'Male', 'S', 1, 17, 'Active', 'Yes', 'The car should have been brought to us instead of us trying to find it in the lot.', 0, 'Product: Information', 'On-demand pickup location'],\n                [122, 'Male', 'S', 2, 45, 'Inactive', 'Yes', 'no wait for pick up and drop off was great', 0, 'Product: Functioning', 'Voucher'],\n                [178, 'Female', 'M', 2, 55, 'Active', 'No', 'what customer service? It was a nightmare', 0, 'Product: Information', 'Free Upgrade'],\n                [122, 'Male', 'S', 2, 45, 'Inactive', 'Yes', 'no wait for pick up and drop off was great', 0, 'Product: Functioning', 'NA']\n            ],\n            fields=['ID', 'Gender', 'Status', 'Children', 'Age', 'Customer_Status', 'Car_Owner', 'Customer_Service', 'Satisfaction', 'Business_Area', 'Action']\n        )"
        }, 
        {
            "source": "#### Preview table schema and content", 
            "cell_type": "markdown", 
            "metadata": {}
        }, 
        {
            "execution_count": 38, 
            "cell_type": "code", 
            "metadata": {}, 
            "outputs": [
                {
                    "output_type": "display_data", 
                    "data": {
                        "text/html": "<HTML>\n        <body>\n            <h3>Schema of Feedback_67d1d82d-eeb0-488a-b403-1a8dc00db72f</h3>\n            <table style='border: 1px solid #dddddd; font-family: Courier'>\n                <th style='border: 1px solid #dddddd'>name</th><th style='border: 1px solid #dddddd'>type</th><th style='border: 1px solid #dddddd'>nullable</th>\n                <tr><td style='border: 1px solid #dddddd'>ID</td><td style='border: 1px solid #dddddd'>integer</td><td style='border: 1px solid #dddddd'>True</td></tr><tr><td style='border: 1px solid #dddddd'>Gender</td><td style='border: 1px solid #dddddd'>string</td><td style='border: 1px solid #dddddd'>True</td></tr><tr><td style='border: 1px solid #dddddd'>Status</td><td style='border: 1px solid #dddddd'>string</td><td style='border: 1px solid #dddddd'>True</td></tr><tr><td style='border: 1px solid #dddddd'>Children</td><td style='border: 1px solid #dddddd'>integer</td><td style='border: 1px solid #dddddd'>True</td></tr><tr><td style='border: 1px solid #dddddd'>Age</td><td style='border: 1px solid #dddddd'>double</td><td style='border: 1px solid #dddddd'>True</td></tr><tr><td style='border: 1px solid #dddddd'>Customer_Status</td><td style='border: 1px solid #dddddd'>string</td><td style='border: 1px solid #dddddd'>True</td></tr><tr><td style='border: 1px solid #dddddd'>Car_Owner</td><td style='border: 1px solid #dddddd'>string</td><td style='border: 1px solid #dddddd'>True</td></tr><tr><td style='border: 1px solid #dddddd'>Customer_Service</td><td style='border: 1px solid #dddddd'>string</td><td style='border: 1px solid #dddddd'>True</td></tr><tr><td style='border: 1px solid #dddddd'>Satisfaction</td><td style='border: 1px solid #dddddd'>integer</td><td style='border: 1px solid #dddddd'>True</td></tr><tr><td style='border: 1px solid #dddddd'>Business_Area</td><td style='border: 1px solid #dddddd'>string</td><td style='border: 1px solid #dddddd'>True</td></tr><tr><td style='border: 1px solid #dddddd'>Action</td><td style='border: 1px solid #dddddd'>string</td><td style='border: 1px solid #dddddd'>True</td></tr><tr><td style='border: 1px solid #dddddd'>_training</td><td style='border: 1px solid #dddddd'>timestamp</td><td style='border: 1px solid #dddddd'>False</td></tr>\n            </table>\n        </body>\n        </HTML>", 
                        "text/plain": "<IPython.core.display.HTML object>"
                    }, 
                    "metadata": {}
                }
            ], 
            "source": "subscription.feedback_logging.print_table_schema()"
        }, 
        {
            "execution_count": 39, 
            "cell_type": "code", 
            "metadata": {}, 
            "outputs": [
                {
                    "output_type": "display_data", 
                    "data": {
                        "text/html": "<HTML>\n        <body>\n            <h3>Feedback_67d1d82d-eeb0-488a-b403-1a8dc00db72f (binding_id=4d7a90a8-9df1-45be-be13-cb54930512cf, subscription_id=67d1d82d-eeb0-488a-b403-1a8dc00db72f)</h3>\n            <table style='border: 1px solid #dddddd; font-family: Courier'>\n                <th style='border: 1px solid #dddddd'>ID</th><th style='border: 1px solid #dddddd'>Gender</th><th style='border: 1px solid #dddddd'>Status</th><th style='border: 1px solid #dddddd'>Children</th><th style='border: 1px solid #dddddd'>Age</th><th style='border: 1px solid #dddddd'>Customer_Status</th><th style='border: 1px solid #dddddd'>Car_Owner</th><th style='border: 1px solid #dddddd'>Customer_Service</th><th style='border: 1px solid #dddddd'>Satisfaction</th><th style='border: 1px solid #dddddd'>Business_Area</th><th style='border: 1px solid #dddddd'>Action</th><th style='border: 1px solid #dddddd'>_training</th>\n                <tr><td style='border: 1px solid #dddddd'>122</td><td style='border: 1px solid #dddddd'>Male</td><td style='border: 1px solid #dddddd'>S</td><td style='border: 1px solid #dddddd'>2</td><td style='border: 1px solid #dddddd'>45.0</td><td style='border: 1px solid #dddddd'>Inactive</td><td style='border: 1px solid #dddddd'>Yes</td><td style='border: 1px solid #dddddd'>no wait for pick up and drop off was great</td><td style='border: 1px solid #dddddd'>0</td><td style='border: 1px solid #dddddd'>Product: Functioning</td><td style='border: 1px solid #dddddd'>Voucher</td><td style='border: 1px solid #dddddd'>2019-02-05 09:27:45.488000+00:00</td></tr><tr><td style='border: 1px solid #dddddd'>178</td><td style='border: 1px solid #dddddd'>Female</td><td style='border: 1px solid #dddddd'>M</td><td style='border: 1px solid #dddddd'>2</td><td style='border: 1px solid #dddddd'>55.0</td><td style='border: 1px solid #dddddd'>Active</td><td style='border: 1px solid #dddddd'>No</td><td style='border: 1px solid #dddddd'>what customer service? It was a nightmare</td><td style='border: 1px solid #dddddd'>0</td><td style='border: 1px solid #dddddd'>Product: Information</td><td style='border: 1px solid #dddddd'>Free Upgrade</td><td style='border: 1px solid #dddddd'>2019-02-05 09:27:45.488000+00:00</td></tr><tr><td style='border: 1px solid #dddddd'>122</td><td style='border: 1px solid #dddddd'>Male</td><td style='border: 1px solid #dddddd'>S</td><td style='border: 1px solid #dddddd'>2</td><td style='border: 1px solid #dddddd'>45.0</td><td style='border: 1px solid #dddddd'>Inactive</td><td style='border: 1px solid #dddddd'>Yes</td><td style='border: 1px solid #dddddd'>no wait for pick up and drop off was great</td><td style='border: 1px solid #dddddd'>0</td><td style='border: 1px solid #dddddd'>Product: Functioning</td><td style='border: 1px solid #dddddd'>NA</td><td style='border: 1px solid #dddddd'>2019-02-05 09:27:45.488000+00:00</td></tr><tr><td style='border: 1px solid #dddddd'>123</td><td style='border: 1px solid #dddddd'>Male</td><td style='border: 1px solid #dddddd'>S</td><td style='border: 1px solid #dddddd'>2</td><td style='border: 1px solid #dddddd'>45.0</td><td style='border: 1px solid #dddddd'>Inactive</td><td style='border: 1px solid #dddddd'>Yes</td><td style='border: 1px solid #dddddd'>no wait for pick up and drop off was great</td><td style='border: 1px solid #dddddd'>0</td><td style='border: 1px solid #dddddd'>Product: Functioning</td><td style='border: 1px solid #dddddd'>Voucher</td><td style='border: 1px solid #dddddd'>2019-02-05 09:27:45.488000+00:00</td></tr><tr><td style='border: 1px solid #dddddd'>178</td><td style='border: 1px solid #dddddd'>Female</td><td style='border: 1px solid #dddddd'>M</td><td style='border: 1px solid #dddddd'>2</td><td style='border: 1px solid #dddddd'>55.0</td><td style='border: 1px solid #dddddd'>Active</td><td style='border: 1px solid #dddddd'>No</td><td style='border: 1px solid #dddddd'>what customer service? It was a nightmare</td><td style='border: 1px solid #dddddd'>0</td><td style='border: 1px solid #dddddd'>Product: Information</td><td style='border: 1px solid #dddddd'>Free Upgrade</td><td style='border: 1px solid #dddddd'>2019-02-05 09:27:45.488000+00:00</td></tr><tr><td style='border: 1px solid #dddddd'>124</td><td style='border: 1px solid #dddddd'>Male</td><td style='border: 1px solid #dddddd'>S</td><td style='border: 1px solid #dddddd'>2</td><td style='border: 1px solid #dddddd'>45.0</td><td style='border: 1px solid #dddddd'>Inactive</td><td style='border: 1px solid #dddddd'>Yes</td><td style='border: 1px solid #dddddd'>no wait for pick up and drop off was great</td><td style='border: 1px solid #dddddd'>0</td><td style='border: 1px solid #dddddd'>Product: Functioning</td><td style='border: 1px solid #dddddd'>NA</td><td style='border: 1px solid #dddddd'>2019-02-05 09:27:45.488000+00:00</td></tr><tr><td style='border: 1px solid #dddddd'>3785</td><td style='border: 1px solid #dddddd'>Male</td><td style='border: 1px solid #dddddd'>S</td><td style='border: 1px solid #dddddd'>1</td><td style='border: 1px solid #dddddd'>17.0</td><td style='border: 1px solid #dddddd'>Inactive</td><td style='border: 1px solid #dddddd'>Yes</td><td style='border: 1px solid #dddddd'>The car should have been brought to us instead of us trying to find it in the lot.</td><td style='border: 1px solid #dddddd'>0</td><td style='border: 1px solid #dddddd'>Product: Information</td><td style='border: 1px solid #dddddd'>On-demand pickup location</td><td style='border: 1px solid #dddddd'>2019-02-05 09:27:45.488000+00:00</td></tr><tr><td style='border: 1px solid #dddddd'>3786</td><td style='border: 1px solid #dddddd'>Male</td><td style='border: 1px solid #dddddd'>S</td><td style='border: 1px solid #dddddd'>1</td><td style='border: 1px solid #dddddd'>17.0</td><td style='border: 1px solid #dddddd'>Inactive</td><td style='border: 1px solid #dddddd'>Yes</td><td style='border: 1px solid #dddddd'>The car should have been brought to us instead of us trying to find it in the lot.</td><td style='border: 1px solid #dddddd'>0</td><td style='border: 1px solid #dddddd'>Product: Information</td><td style='border: 1px solid #dddddd'>On-demand pickup location</td><td style='border: 1px solid #dddddd'>2019-02-05 09:27:45.488000+00:00</td></tr><tr><td style='border: 1px solid #dddddd'>3787</td><td style='border: 1px solid #dddddd'>Male</td><td style='border: 1px solid #dddddd'>S</td><td style='border: 1px solid #dddddd'>1</td><td style='border: 1px solid #dddddd'>17.0</td><td style='border: 1px solid #dddddd'>Active</td><td style='border: 1px solid #dddddd'>Yes</td><td style='border: 1px solid #dddddd'>The car should have been brought to us instead of us trying to find it in the lot.</td><td style='border: 1px solid #dddddd'>0</td><td style='border: 1px solid #dddddd'>Product: Information</td><td style='border: 1px solid #dddddd'>On-demand pickup location</td><td style='border: 1px solid #dddddd'>2019-02-05 09:27:45.488000+00:00</td></tr><tr><td style='border: 1px solid #dddddd'>122</td><td style='border: 1px solid #dddddd'>Male</td><td style='border: 1px solid #dddddd'>S</td><td style='border: 1px solid #dddddd'>2</td><td style='border: 1px solid #dddddd'>45.0</td><td style='border: 1px solid #dddddd'>Inactive</td><td style='border: 1px solid #dddddd'>Yes</td><td style='border: 1px solid #dddddd'>no wait for pick up and drop off was great</td><td style='border: 1px solid #dddddd'>0</td><td style='border: 1px solid #dddddd'>Product: Functioning</td><td style='border: 1px solid #dddddd'>Voucher</td><td style='border: 1px solid #dddddd'>2019-02-05 09:27:45.488000+00:00</td></tr>\n            </table>\n        </body>\n        </HTML>", 
                        "text/plain": "<IPython.core.display.HTML object>"
                    }, 
                    "metadata": {}
                }
            ], 
            "source": "subscription.feedback_logging.show_table()"
        }, 
        {
            "source": "### 4.3 Run quality monitor on demand", 
            "cell_type": "markdown", 
            "metadata": {}
        }, 
        {
            "source": "**Hint:** Accuracy (Quality) monitor is executed every hour. You can also run it on demand using below command.", 
            "cell_type": "markdown", 
            "metadata": {}
        }, 
        {
            "execution_count": 40, 
            "cell_type": "code", 
            "metadata": {}, 
            "outputs": [], 
            "source": "run_details = subscription.quality_monitoring.run()"
        }, 
        {
            "source": "You can also check evaluation run details using below command. The code below has a timeout set to 60 seconds.", 
            "cell_type": "markdown", 
            "metadata": {}
        }, 
        {
            "execution_count": 41, 
            "cell_type": "code", 
            "metadata": {}, 
            "outputs": [
                {
                    "output_type": "stream", 
                    "name": "stdout", 
                    "text": "Run status: initializing\nRun status: completed\n"
                }
            ], 
            "source": "status = run_details['status']\nid = run_details['id']\n\nprint(\"Run status: {}\".format(status))\n\nstart_time = time.time()\nelapsed_time = 0\n\nwhile status != 'completed' and elapsed_time < 60:\n    time.sleep(10)\n    run_details = subscription.quality_monitoring.get_run_details(run_uid=id)\n    status = run_details['status']\n    elapsed_time = time.time() - start_time\n    print(\"Run status: {}\".format(status))"
        }, 
        {
            "source": "### 4.4 Show the quality metrics", 
            "cell_type": "markdown", 
            "metadata": {}
        }, 
        {
            "execution_count": 42, 
            "cell_type": "code", 
            "metadata": {}, 
            "outputs": [
                {
                    "output_type": "display_data", 
                    "data": {
                        "text/html": "<HTML>\n        <body>\n            <h3>QualityMetrics (binding_id=4d7a90a8-9df1-45be-be13-cb54930512cf, subscription_id=67d1d82d-eeb0-488a-b403-1a8dc00db72f)</h3>\n            <table style='border: 1px solid #dddddd; font-family: Courier'>\n                <th style='border: 1px solid #dddddd'>ts</th><th style='border: 1px solid #dddddd'>quality</th><th style='border: 1px solid #dddddd'>quality_threshold</th><th style='border: 1px solid #dddddd'>binding_id</th><th style='border: 1px solid #dddddd'>subscription_id</th><th style='border: 1px solid #dddddd'>deployment_id</th><th style='border: 1px solid #dddddd'>process</th><th style='border: 1px solid #dddddd'>asset_revision</th>\n                <tr><td style='border: 1px solid #dddddd'>2019-02-05 09:28:02.891000+00:00</td><td style='border: 1px solid #dddddd'>0.5</td><td style='border: 1px solid #dddddd'>0.7</td><td style='border: 1px solid #dddddd'>4d7a90a8-9df1-45be-be13-cb54930512cf</td><td style='border: 1px solid #dddddd'>67d1d82d-eeb0-488a-b403-1a8dc00db72f</td><td style='border: 1px solid #dddddd'>60e6fc28-bd6a-43b7-8b45-5eaedb2a7a79</td><td style='border: 1px solid #dddddd'>Accuracy_evaluation_35a52415-5837-48e8-8201-e0c7cb33ce0f</td><td style='border: 1px solid #dddddd'></td></tr>\n            </table>\n        </body>\n        </HTML>", 
                        "text/plain": "<IPython.core.display.HTML object>"
                    }, 
                    "metadata": {}
                }
            ], 
            "source": "subscription.quality_monitoring.show_table()"
        }, 
        {
            "execution_count": 43, 
            "cell_type": "code", 
            "metadata": {}, 
            "outputs": [
                {
                    "execution_count": 43, 
                    "metadata": {}, 
                    "data": {
                        "text/plain": "{'end': '2019-02-05T09:28:32.467929Z',\n 'metrics': [{'process': 'Accuracy_evaluation_35a52415-5837-48e8-8201-e0c7cb33ce0f',\n   'timestamp': '2019-02-05T09:28:02.891Z',\n   'value': {'metrics': [{'name': 'weightedTruePositiveRate', 'value': 0.5},\n     {'name': 'accuracy', 'value': 0.5},\n     {'name': 'weightedFMeasure', 'value': 0.625},\n     {'name': 'weightedRecall', 'value': 0.5},\n     {'name': 'weightedFalsePositiveRate', 'value': 0.0},\n     {'name': 'weightedPrecision', 'value': 1.0}],\n    'quality': 0.5,\n    'threshold': 0.7}}],\n 'start': '2019-02-05T08:14:31.141Z'}"
                    }, 
                    "output_type": "execute_result"
                }
            ], 
            "source": "deployment_uid = deployment_uid = subscription.get_deployment_uids()[0]\n\nsubscription.quality_monitoring.get_metrics(deployment_uid=deployment_uid)"
        }, 
        {
            "source": "<a id=\"performance\"></a>\n## 5. Performance monitoring", 
            "cell_type": "markdown", 
            "metadata": {}
        }, 
        {
            "source": "Payload logging and performance monitoring are enabled by default during subscription creation. Both run on top of payload logging table.", 
            "cell_type": "markdown", 
            "metadata": {}
        }, 
        {
            "source": "### 5.1 Payload logging", 
            "cell_type": "markdown", 
            "metadata": {}
        }, 
        {
            "source": "For Watson Machine Learning engine each scoring request is automatically logged in payload logging table.", 
            "cell_type": "markdown", 
            "metadata": {}
        }, 
        {
            "source": "#### Score deployed model using `watson-machine-learning-client`", 
            "cell_type": "markdown", 
            "metadata": {}
        }, 
        {
            "source": " Documentation for the `watson-machine-learning-client` can be found [here](wml-api-pyclient.mybluemix.net)", 
            "cell_type": "markdown", 
            "metadata": {}
        }, 
        {
            "execution_count": 44, 
            "cell_type": "code", 
            "metadata": {}, 
            "outputs": [], 
            "source": "wml_client = client.data_mart.bindings.get_native_engine_client(binding_uid=binding_uid)"
        }, 
        {
            "source": "Let's extract scoring_ednpoints for both deployments.", 
            "cell_type": "markdown", 
            "metadata": {}
        }, 
        {
            "execution_count": 45, 
            "cell_type": "code", 
            "metadata": {}, 
            "outputs": [
                {
                    "output_type": "stream", 
                    "name": "stdout", 
                    "text": "https://us-south.ml.cloud.ibm.com/v3/wml_instances/4d7a90a8-9df1-45be-be13-cb54930512cf/deployments/60e6fc28-bd6a-43b7-8b45-5eaedb2a7a79/online\n"
                }
            ], 
            "source": "cars4u_scoring_endpoint = None\n\nfor deployment in wml_client.deployments.get_details()['resources']:\n    if 'cars4u' in deployment['entity']['deployable_asset']['name'].lower():\n        cars4u_scoring_endpoint = deployment['entity']['scoring_url']\n        \nprint(cars4u_scoring_endpoint)"
        }, 
        {
            "source": "Score the model.", 
            "cell_type": "markdown", 
            "metadata": {}
        }, 
        {
            "execution_count": 46, 
            "cell_type": "code", 
            "metadata": {}, 
            "outputs": [
                {
                    "output_type": "stream", 
                    "name": "stdout", 
                    "text": "Recommended action: \"On-demand pickup location\"\n"
                }
            ], 
            "source": "fields = ['ID', 'Gender', 'Status', 'Children', 'Age', 'Customer_Status','Car_Owner', 'Customer_Service', 'Satisfaction', 'Business_Area']\nvalues = [  [3785, 'Male', 'S', 1, 17, 'Inactive', 'Yes', 'The car should have been brought to us instead of us trying to find it in the lot.', 0, 'Product: Information'],\n            [122, 'Male', 'S', 2, 45, 'Inactive', 'Yes', 'no wait for pick up and drop off was great', 0, 'Product: Functioning'],\n            [178, 'Male', 'M', 4, 55, 'Active', 'No', 'what customer service? It was a nightmare', 0, 'Product: Information'],\n            [201, 'Female', 'S', 0, 37, 'Inactive', 'No', 'delayed shuttle, almost missed flight', 0, 'Service: Knowledge']]\n\npayload_scoring = {\"fields\": fields,\"values\": values}\n\nfor i in range(1, 30):\n    scoring_response = wml_client.deployments.score(cars4u_scoring_endpoint, payload_scoring)\n    \naction_index = scoring_response['fields'].index('predictedActionLabel')\n\nprint(\"Recommended action: \" + json.dumps(scoring_response['values'][0][action_index]))"
        }, 
        {
            "source": "### 5.2 Performance metrics", 
            "cell_type": "markdown", 
            "metadata": {}
        }, 
        {
            "source": "#### Performance metrics table", 
            "cell_type": "markdown", 
            "metadata": {}
        }, 
        {
            "source": "**Hint:** It may take up to 60 second to populate performance metrics. Let's wait 30 seconds.", 
            "cell_type": "markdown", 
            "metadata": {}
        }, 
        {
            "execution_count": 47, 
            "cell_type": "code", 
            "metadata": {}, 
            "outputs": [], 
            "source": "import time\n\ntime.sleep(30)"
        }, 
        {
            "execution_count": 48, 
            "cell_type": "code", 
            "metadata": {}, 
            "outputs": [
                {
                    "output_type": "display_data", 
                    "data": {
                        "text/html": "<HTML>\n        <body>\n            <h3>PerformanceMetrics (binding_id=4d7a90a8-9df1-45be-be13-cb54930512cf, subscription_id=67d1d82d-eeb0-488a-b403-1a8dc00db72f)</h3>\n            <table style='border: 1px solid #dddddd; font-family: Courier'>\n                <th style='border: 1px solid #dddddd'>ts</th><th style='border: 1px solid #dddddd'>scoring_time</th><th style='border: 1px solid #dddddd'>scoring_records</th><th style='border: 1px solid #dddddd'>binding_id</th><th style='border: 1px solid #dddddd'>subscription_id</th><th style='border: 1px solid #dddddd'>deployment_id</th><th style='border: 1px solid #dddddd'>process</th><th style='border: 1px solid #dddddd'>asset_revision</th>\n                <tr><td style='border: 1px solid #dddddd'>2019-02-05 09:28:54.350000+00:00</td><td style='border: 1px solid #dddddd'>1964.0</td><td style='border: 1px solid #dddddd'>28</td><td style='border: 1px solid #dddddd'>4d7a90a8-9df1-45be-be13-cb54930512cf</td><td style='border: 1px solid #dddddd'>67d1d82d-eeb0-488a-b403-1a8dc00db72f</td><td style='border: 1px solid #dddddd'>60e6fc28-bd6a-43b7-8b45-5eaedb2a7a79</td><td style='border: 1px solid #dddddd'></td><td style='border: 1px solid #dddddd'></td></tr><tr><td style='border: 1px solid #dddddd'>2019-02-05 09:28:54.654000+00:00</td><td style='border: 1px solid #dddddd'>1920.0</td><td style='border: 1px solid #dddddd'>28</td><td style='border: 1px solid #dddddd'>4d7a90a8-9df1-45be-be13-cb54930512cf</td><td style='border: 1px solid #dddddd'>67d1d82d-eeb0-488a-b403-1a8dc00db72f</td><td style='border: 1px solid #dddddd'>60e6fc28-bd6a-43b7-8b45-5eaedb2a7a79</td><td style='border: 1px solid #dddddd'></td><td style='border: 1px solid #dddddd'></td></tr>\n            </table>\n        </body>\n        </HTML>", 
                        "text/plain": "<IPython.core.display.HTML object>"
                    }, 
                    "metadata": {}
                }
            ], 
            "source": "subscription.performance_monitoring.show_table()"
        }, 
        {
            "source": "<a id=\"fairness\"></a>\n## 6. Fairness monitoring", 
            "cell_type": "markdown", 
            "metadata": {}
        }, 
        {
            "source": "### 6.1 Configure monitor", 
            "cell_type": "markdown", 
            "metadata": {}
        }, 
        {
            "execution_count": 51, 
            "cell_type": "code", 
            "metadata": {}, 
            "outputs": [], 
            "source": "subscription.fairness_monitoring.enable(\n            features=[\n                Feature(\"Gender\", majority=['Male'], minority=['Female'], threshold=0.6),\n                Feature(\"Children\", majority=[[0,1]], minority=[[2,6]], threshold=0.6)\n            ],\n            favourable_classes=['Voucher'],\n            unfavourable_classes=['Free Upgrade', 'Premium features'],\n            min_records=12\n        )"
        }, 
        {
            "source": "**Hint:** Fairness monitor is executed every hour. You can also call it on demand by executing this commmand: `subscription.fairness_monitoring.run()`.", 
            "cell_type": "markdown", 
            "metadata": {}
        }, 
        {
            "source": "### 6.2 Run fairness check on demand", 
            "cell_type": "markdown", 
            "metadata": {}
        }, 
        {
            "execution_count": 52, 
            "cell_type": "code", 
            "metadata": {}, 
            "outputs": [
                {
                    "execution_count": 52, 
                    "metadata": {}, 
                    "data": {
                        "text/plain": "{'entity': {'fairness_monitoring_runs': {'deployment_ids': ['60e6fc28-bd6a-43b7-8b45-5eaedb2a7a79']}},\n 'metadata': {'account_id': 'bc6f89c9dbf0a21338f4ee6fa02cf6cf',\n  'asset_id': '67d1d82d-eeb0-488a-b403-1a8dc00db72f',\n  'created_at': '2019-02-05T09:31:20.308456+00:00',\n  'created_by': 'IBMid-270002BE4G',\n  'creator_id': 'IBMid-270002BE4G',\n  'data_mart_id': 'e3a38ab0-3884-454c-abc0-5e535eec36e6',\n  'deployment_id': '60e6fc28-bd6a-43b7-8b45-5eaedb2a7a79',\n  'modified_by': 'IBMid-270002BE4G',\n  'service_binding_id': '4d7a90a8-9df1-45be-be13-cb54930512cf',\n  'subscription_id': '67d1d82d-eeb0-488a-b403-1a8dc00db72f'}}"
                    }, 
                    "output_type": "execute_result"
                }
            ], 
            "source": "subscription.fairness_monitoring.run()"
        }, 
        {
            "source": "**Hint**: It may take up to minute before fariness results are availbale in the table. Let's wait 30 seconds.", 
            "cell_type": "markdown", 
            "metadata": {}
        }, 
        {
            "execution_count": 53, 
            "cell_type": "code", 
            "metadata": {}, 
            "outputs": [], 
            "source": "import time\n\ntime.sleep(30)"
        }, 
        {
            "source": "### 6.3 Fairness metrics", 
            "cell_type": "markdown", 
            "metadata": {}
        }, 
        {
            "execution_count": 54, 
            "cell_type": "code", 
            "metadata": {}, 
            "outputs": [
                {
                    "output_type": "display_data", 
                    "data": {
                        "text/html": "<HTML>\n        <body>\n            <h3>FairnessMetrics (binding_id=4d7a90a8-9df1-45be-be13-cb54930512cf, subscription_id=67d1d82d-eeb0-488a-b403-1a8dc00db72f)</h3>\n            <table style='border: 1px solid #dddddd; font-family: Courier'>\n                <th style='border: 1px solid #dddddd'>ts</th><th style='border: 1px solid #dddddd'>feature</th><th style='border: 1px solid #dddddd'>feature_value</th><th style='border: 1px solid #dddddd'>fairness_biased</th><th style='border: 1px solid #dddddd'>fairness_value</th><th style='border: 1px solid #dddddd'>fairness_fav_class</th><th style='border: 1px solid #dddddd'>binding_id</th><th style='border: 1px solid #dddddd'>subscription_id</th><th style='border: 1px solid #dddddd'>asset_revision</th><th style='border: 1px solid #dddddd'>deployment_id</th><th style='border: 1px solid #dddddd'>process</th>\n                <tr><td style='border: 1px solid #dddddd'>2019-02-05 09:31:44.182479+00:00</td><td style='border: 1px solid #dddddd'>Gender</td><td style='border: 1px solid #dddddd'>Female</td><td style='border: 1px solid #dddddd'>False</td><td style='border: 1px solid #dddddd'>1</td><td style='border: 1px solid #dddddd'>0.0</td><td style='border: 1px solid #dddddd'>4d7a90a8-9df1-45be-be13-cb54930512cf</td><td style='border: 1px solid #dddddd'>67d1d82d-eeb0-488a-b403-1a8dc00db72f</td><td style='border: 1px solid #dddddd'>67d1d82d-eeb0-488a-b403-1a8dc00db72f</td><td style='border: 1px solid #dddddd'>60e6fc28-bd6a-43b7-8b45-5eaedb2a7a79</td><td style='border: 1px solid #dddddd'></td></tr><tr><td style='border: 1px solid #dddddd'>2019-02-05 09:31:44.182479+00:00</td><td style='border: 1px solid #dddddd'>Children</td><td style='border: 1px solid #dddddd'>[2, 6]</td><td style='border: 1px solid #dddddd'>False</td><td style='border: 1px solid #dddddd'>1</td><td style='border: 1px solid #dddddd'>0.0</td><td style='border: 1px solid #dddddd'>4d7a90a8-9df1-45be-be13-cb54930512cf</td><td style='border: 1px solid #dddddd'>67d1d82d-eeb0-488a-b403-1a8dc00db72f</td><td style='border: 1px solid #dddddd'>67d1d82d-eeb0-488a-b403-1a8dc00db72f</td><td style='border: 1px solid #dddddd'>60e6fc28-bd6a-43b7-8b45-5eaedb2a7a79</td><td style='border: 1px solid #dddddd'></td></tr>\n            </table>\n        </body>\n        </HTML>", 
                        "text/plain": "<IPython.core.display.HTML object>"
                    }, 
                    "metadata": {}
                }
            ], 
            "source": "subscription.fairness_monitoring.show_table()"
        }, 
        {
            "source": "<a id=\"datamart\"></a>\n## 7. Working with Data Mart", 
            "cell_type": "markdown", 
            "metadata": {}
        }, 
        {
            "source": "### 7.1 Accessing tables data via subscription\n- `show_table`\n- `describe_table`\n- `get_table_content(format='pandas')`\n\nYou can run those methods for all features:\n- `subscription.feedback_logging`\n- `subscription.payload_logging`\n- `subscription.fairness_monitoring`\n- `subscription.qaulity_monitoring`\n- `subscription.performance_monitoring`", 
            "cell_type": "markdown", 
            "metadata": {}
        }, 
        {
            "source": "#### Preview table content", 
            "cell_type": "markdown", 
            "metadata": {}
        }, 
        {
            "execution_count": 55, 
            "cell_type": "code", 
            "metadata": {}, 
            "outputs": [
                {
                    "output_type": "display_data", 
                    "data": {
                        "text/html": "<HTML>\n        <body>\n            <h3>Feedback_67d1d82d-eeb0-488a-b403-1a8dc00db72f (binding_id=4d7a90a8-9df1-45be-be13-cb54930512cf, subscription_id=67d1d82d-eeb0-488a-b403-1a8dc00db72f)</h3>\n            <table style='border: 1px solid #dddddd; font-family: Courier'>\n                <th style='border: 1px solid #dddddd'>ID</th><th style='border: 1px solid #dddddd'>Gender</th><th style='border: 1px solid #dddddd'>Status</th><th style='border: 1px solid #dddddd'>Children</th><th style='border: 1px solid #dddddd'>Age</th><th style='border: 1px solid #dddddd'>Customer_Status</th><th style='border: 1px solid #dddddd'>Car_Owner</th><th style='border: 1px solid #dddddd'>Customer_Service</th><th style='border: 1px solid #dddddd'>Satisfaction</th><th style='border: 1px solid #dddddd'>Business_Area</th><th style='border: 1px solid #dddddd'>Action</th><th style='border: 1px solid #dddddd'>_training</th>\n                <tr><td style='border: 1px solid #dddddd'>122</td><td style='border: 1px solid #dddddd'>Male</td><td style='border: 1px solid #dddddd'>S</td><td style='border: 1px solid #dddddd'>2</td><td style='border: 1px solid #dddddd'>45.0</td><td style='border: 1px solid #dddddd'>Inactive</td><td style='border: 1px solid #dddddd'>Yes</td><td style='border: 1px solid #dddddd'>no wait for pick up and drop off was great</td><td style='border: 1px solid #dddddd'>0</td><td style='border: 1px solid #dddddd'>Product: Functioning</td><td style='border: 1px solid #dddddd'>Voucher</td><td style='border: 1px solid #dddddd'>2019-02-05 09:27:45.488000+00:00</td></tr><tr><td style='border: 1px solid #dddddd'>178</td><td style='border: 1px solid #dddddd'>Female</td><td style='border: 1px solid #dddddd'>M</td><td style='border: 1px solid #dddddd'>2</td><td style='border: 1px solid #dddddd'>55.0</td><td style='border: 1px solid #dddddd'>Active</td><td style='border: 1px solid #dddddd'>No</td><td style='border: 1px solid #dddddd'>what customer service? It was a nightmare</td><td style='border: 1px solid #dddddd'>0</td><td style='border: 1px solid #dddddd'>Product: Information</td><td style='border: 1px solid #dddddd'>Free Upgrade</td><td style='border: 1px solid #dddddd'>2019-02-05 09:27:45.488000+00:00</td></tr><tr><td style='border: 1px solid #dddddd'>122</td><td style='border: 1px solid #dddddd'>Male</td><td style='border: 1px solid #dddddd'>S</td><td style='border: 1px solid #dddddd'>2</td><td style='border: 1px solid #dddddd'>45.0</td><td style='border: 1px solid #dddddd'>Inactive</td><td style='border: 1px solid #dddddd'>Yes</td><td style='border: 1px solid #dddddd'>no wait for pick up and drop off was great</td><td style='border: 1px solid #dddddd'>0</td><td style='border: 1px solid #dddddd'>Product: Functioning</td><td style='border: 1px solid #dddddd'>NA</td><td style='border: 1px solid #dddddd'>2019-02-05 09:27:45.488000+00:00</td></tr><tr><td style='border: 1px solid #dddddd'>123</td><td style='border: 1px solid #dddddd'>Male</td><td style='border: 1px solid #dddddd'>S</td><td style='border: 1px solid #dddddd'>2</td><td style='border: 1px solid #dddddd'>45.0</td><td style='border: 1px solid #dddddd'>Inactive</td><td style='border: 1px solid #dddddd'>Yes</td><td style='border: 1px solid #dddddd'>no wait for pick up and drop off was great</td><td style='border: 1px solid #dddddd'>0</td><td style='border: 1px solid #dddddd'>Product: Functioning</td><td style='border: 1px solid #dddddd'>Voucher</td><td style='border: 1px solid #dddddd'>2019-02-05 09:27:45.488000+00:00</td></tr><tr><td style='border: 1px solid #dddddd'>178</td><td style='border: 1px solid #dddddd'>Female</td><td style='border: 1px solid #dddddd'>M</td><td style='border: 1px solid #dddddd'>2</td><td style='border: 1px solid #dddddd'>55.0</td><td style='border: 1px solid #dddddd'>Active</td><td style='border: 1px solid #dddddd'>No</td><td style='border: 1px solid #dddddd'>what customer service? It was a nightmare</td><td style='border: 1px solid #dddddd'>0</td><td style='border: 1px solid #dddddd'>Product: Information</td><td style='border: 1px solid #dddddd'>Free Upgrade</td><td style='border: 1px solid #dddddd'>2019-02-05 09:27:45.488000+00:00</td></tr><tr><td style='border: 1px solid #dddddd'>124</td><td style='border: 1px solid #dddddd'>Male</td><td style='border: 1px solid #dddddd'>S</td><td style='border: 1px solid #dddddd'>2</td><td style='border: 1px solid #dddddd'>45.0</td><td style='border: 1px solid #dddddd'>Inactive</td><td style='border: 1px solid #dddddd'>Yes</td><td style='border: 1px solid #dddddd'>no wait for pick up and drop off was great</td><td style='border: 1px solid #dddddd'>0</td><td style='border: 1px solid #dddddd'>Product: Functioning</td><td style='border: 1px solid #dddddd'>NA</td><td style='border: 1px solid #dddddd'>2019-02-05 09:27:45.488000+00:00</td></tr><tr><td style='border: 1px solid #dddddd'>3785</td><td style='border: 1px solid #dddddd'>Male</td><td style='border: 1px solid #dddddd'>S</td><td style='border: 1px solid #dddddd'>1</td><td style='border: 1px solid #dddddd'>17.0</td><td style='border: 1px solid #dddddd'>Inactive</td><td style='border: 1px solid #dddddd'>Yes</td><td style='border: 1px solid #dddddd'>The car should have been brought to us instead of us trying to find it in the lot.</td><td style='border: 1px solid #dddddd'>0</td><td style='border: 1px solid #dddddd'>Product: Information</td><td style='border: 1px solid #dddddd'>On-demand pickup location</td><td style='border: 1px solid #dddddd'>2019-02-05 09:27:45.488000+00:00</td></tr><tr><td style='border: 1px solid #dddddd'>3786</td><td style='border: 1px solid #dddddd'>Male</td><td style='border: 1px solid #dddddd'>S</td><td style='border: 1px solid #dddddd'>1</td><td style='border: 1px solid #dddddd'>17.0</td><td style='border: 1px solid #dddddd'>Inactive</td><td style='border: 1px solid #dddddd'>Yes</td><td style='border: 1px solid #dddddd'>The car should have been brought to us instead of us trying to find it in the lot.</td><td style='border: 1px solid #dddddd'>0</td><td style='border: 1px solid #dddddd'>Product: Information</td><td style='border: 1px solid #dddddd'>On-demand pickup location</td><td style='border: 1px solid #dddddd'>2019-02-05 09:27:45.488000+00:00</td></tr><tr><td style='border: 1px solid #dddddd'>3787</td><td style='border: 1px solid #dddddd'>Male</td><td style='border: 1px solid #dddddd'>S</td><td style='border: 1px solid #dddddd'>1</td><td style='border: 1px solid #dddddd'>17.0</td><td style='border: 1px solid #dddddd'>Active</td><td style='border: 1px solid #dddddd'>Yes</td><td style='border: 1px solid #dddddd'>The car should have been brought to us instead of us trying to find it in the lot.</td><td style='border: 1px solid #dddddd'>0</td><td style='border: 1px solid #dddddd'>Product: Information</td><td style='border: 1px solid #dddddd'>On-demand pickup location</td><td style='border: 1px solid #dddddd'>2019-02-05 09:27:45.488000+00:00</td></tr><tr><td style='border: 1px solid #dddddd'>122</td><td style='border: 1px solid #dddddd'>Male</td><td style='border: 1px solid #dddddd'>S</td><td style='border: 1px solid #dddddd'>2</td><td style='border: 1px solid #dddddd'>45.0</td><td style='border: 1px solid #dddddd'>Inactive</td><td style='border: 1px solid #dddddd'>Yes</td><td style='border: 1px solid #dddddd'>no wait for pick up and drop off was great</td><td style='border: 1px solid #dddddd'>0</td><td style='border: 1px solid #dddddd'>Product: Functioning</td><td style='border: 1px solid #dddddd'>Voucher</td><td style='border: 1px solid #dddddd'>2019-02-05 09:27:45.488000+00:00</td></tr>\n            </table>\n        </body>\n        </HTML>", 
                        "text/plain": "<IPython.core.display.HTML object>"
                    }, 
                    "metadata": {}
                }
            ], 
            "source": "subscription.feedback_logging.show_table()"
        }, 
        {
            "execution_count": 56, 
            "cell_type": "code", 
            "metadata": {}, 
            "outputs": [
                {
                    "output_type": "display_data", 
                    "data": {
                        "text/html": "<HTML>\n        <body>\n            <h3>PerformanceMetrics (binding_id=4d7a90a8-9df1-45be-be13-cb54930512cf, subscription_id=67d1d82d-eeb0-488a-b403-1a8dc00db72f)</h3>\n            <table style='border: 1px solid #dddddd; font-family: Courier'>\n                <th style='border: 1px solid #dddddd'>ts</th><th style='border: 1px solid #dddddd'>scoring_time</th><th style='border: 1px solid #dddddd'>scoring_records</th><th style='border: 1px solid #dddddd'>binding_id</th><th style='border: 1px solid #dddddd'>subscription_id</th><th style='border: 1px solid #dddddd'>deployment_id</th><th style='border: 1px solid #dddddd'>process</th><th style='border: 1px solid #dddddd'>asset_revision</th>\n                <tr><td style='border: 1px solid #dddddd'>2019-02-05 09:28:54.350000+00:00</td><td style='border: 1px solid #dddddd'>1964.0</td><td style='border: 1px solid #dddddd'>28</td><td style='border: 1px solid #dddddd'>4d7a90a8-9df1-45be-be13-cb54930512cf</td><td style='border: 1px solid #dddddd'>67d1d82d-eeb0-488a-b403-1a8dc00db72f</td><td style='border: 1px solid #dddddd'>60e6fc28-bd6a-43b7-8b45-5eaedb2a7a79</td><td style='border: 1px solid #dddddd'></td><td style='border: 1px solid #dddddd'></td></tr><tr><td style='border: 1px solid #dddddd'>2019-02-05 09:28:54.654000+00:00</td><td style='border: 1px solid #dddddd'>1920.0</td><td style='border: 1px solid #dddddd'>28</td><td style='border: 1px solid #dddddd'>4d7a90a8-9df1-45be-be13-cb54930512cf</td><td style='border: 1px solid #dddddd'>67d1d82d-eeb0-488a-b403-1a8dc00db72f</td><td style='border: 1px solid #dddddd'>60e6fc28-bd6a-43b7-8b45-5eaedb2a7a79</td><td style='border: 1px solid #dddddd'></td><td style='border: 1px solid #dddddd'></td></tr><tr><td style='border: 1px solid #dddddd'>2019-02-05 09:28:54.941000+00:00</td><td style='border: 1px solid #dddddd'>1922.0</td><td style='border: 1px solid #dddddd'>28</td><td style='border: 1px solid #dddddd'>4d7a90a8-9df1-45be-be13-cb54930512cf</td><td style='border: 1px solid #dddddd'>67d1d82d-eeb0-488a-b403-1a8dc00db72f</td><td style='border: 1px solid #dddddd'>60e6fc28-bd6a-43b7-8b45-5eaedb2a7a79</td><td style='border: 1px solid #dddddd'></td><td style='border: 1px solid #dddddd'></td></tr><tr><td style='border: 1px solid #dddddd'>2019-02-05 09:28:55.216000+00:00</td><td style='border: 1px solid #dddddd'>1676.0</td><td style='border: 1px solid #dddddd'>24</td><td style='border: 1px solid #dddddd'>4d7a90a8-9df1-45be-be13-cb54930512cf</td><td style='border: 1px solid #dddddd'>67d1d82d-eeb0-488a-b403-1a8dc00db72f</td><td style='border: 1px solid #dddddd'>60e6fc28-bd6a-43b7-8b45-5eaedb2a7a79</td><td style='border: 1px solid #dddddd'></td><td style='border: 1px solid #dddddd'></td></tr><tr><td style='border: 1px solid #dddddd'>2019-02-05 09:29:02.266000+00:00</td><td style='border: 1px solid #dddddd'>565.0</td><td style='border: 1px solid #dddddd'>8</td><td style='border: 1px solid #dddddd'>4d7a90a8-9df1-45be-be13-cb54930512cf</td><td style='border: 1px solid #dddddd'>67d1d82d-eeb0-488a-b403-1a8dc00db72f</td><td style='border: 1px solid #dddddd'>60e6fc28-bd6a-43b7-8b45-5eaedb2a7a79</td><td style='border: 1px solid #dddddd'></td><td style='border: 1px solid #dddddd'></td></tr>\n            </table>\n        </body>\n        </HTML>", 
                        "text/plain": "<IPython.core.display.HTML object>"
                    }, 
                    "metadata": {}
                }
            ], 
            "source": "subscription.performance_monitoring.show_table()"
        }, 
        {
            "source": "#### Describe table (calculate basic statistics)", 
            "cell_type": "markdown", 
            "metadata": {}
        }, 
        {
            "execution_count": 57, 
            "cell_type": "code", 
            "metadata": {}, 
            "outputs": [
                {
                    "output_type": "stream", 
                    "name": "stdout", 
                    "text": "                ID    Children        Age  Satisfaction  prediction  \\\ncount   116.000000  116.000000  116.00000         116.0  116.000000   \nmean   1071.500000    1.750000   38.50000           0.0    1.250000   \nstd    1573.701273    1.485437   14.01583           0.0    0.434891   \nmin     122.000000    0.000000   17.00000           0.0    1.000000   \n25%     164.000000    0.750000   32.00000           0.0    1.000000   \n50%     189.500000    1.500000   41.00000           0.0    1.000000   \n75%    1097.000000    2.500000   47.50000           0.0    1.250000   \nmax    3785.000000    4.000000   55.00000           0.0    2.000000   \n\n       debiased_prediction  \ncount           116.000000  \nmean              1.250000  \nstd               0.434891  \nmin               1.000000  \n25%               1.000000  \n50%               1.000000  \n75%               1.250000  \nmax               2.000000  \n"
                }
            ], 
            "source": "subscription.payload_logging.describe_table()"
        }, 
        {
            "source": "#### Get table content as pandas dataframe", 
            "cell_type": "markdown", 
            "metadata": {}
        }, 
        {
            "execution_count": 58, 
            "cell_type": "code", 
            "metadata": {}, 
            "outputs": [], 
            "source": "pandas_df = subscription.payload_logging.get_table_content(format='pandas')"
        }, 
        {
            "execution_count": 61, 
            "cell_type": "code", 
            "metadata": {}, 
            "outputs": [
                {
                    "output_type": "display_data", 
                    "data": {
                        "image/png": "[encoded data removed]", 
                        "text/plain": "<matplotlib.figure.Figure at 0x7febbcd14828>"
                    }, 
                    "metadata": {}
                }
            ], 
            "source": "%matplotlib inline\n\npandas_df.boxplot(vert=False);"
        }, 
        {
            "source": "### 7.2 Accessing data mart metrics\n- performance\n- quality\n- fairness", 
            "cell_type": "markdown", 
            "metadata": {}
        }, 
        {
            "source": "#### Get all metrics", 
            "cell_type": "markdown", 
            "metadata": {}
        }, 
        {
            "execution_count": 62, 
            "cell_type": "code", 
            "metadata": {}, 
            "outputs": [], 
            "source": "deployments_metrics = client.data_mart.get_deployment_metrics()"
        }, 
        {
            "source": "#### Get metric for particular deployment", 
            "cell_type": "markdown", 
            "metadata": {}
        }, 
        {
            "execution_count": 63, 
            "cell_type": "code", 
            "metadata": {}, 
            "outputs": [
                {
                    "execution_count": 63, 
                    "metadata": {}, 
                    "data": {
                        "text/plain": "{'end': '2019-02-05T09:37:55.265702Z',\n 'metrics': [{'process': 'Accuracy_evaluation_35a52415-5837-48e8-8201-e0c7cb33ce0f',\n   'timestamp': '2019-02-05T09:28:02.891Z',\n   'value': {'metrics': [{'name': 'weightedTruePositiveRate', 'value': 0.5},\n     {'name': 'accuracy', 'value': 0.5},\n     {'name': 'weightedFMeasure', 'value': 0.625},\n     {'name': 'weightedRecall', 'value': 0.5},\n     {'name': 'weightedFalsePositiveRate', 'value': 0.0},\n     {'name': 'weightedPrecision', 'value': 1.0}],\n    'quality': 0.5,\n    'threshold': 0.7}}],\n 'start': '2019-02-05T08:14:31.141Z'}"
                    }, 
                    "output_type": "execute_result"
                }
            ], 
            "source": "subscription.quality_monitoring.get_metrics(deployment_uid=subscription.get_deployment_uids()[0])"
        }, 
        {
            "execution_count": 64, 
            "cell_type": "code", 
            "metadata": {}, 
            "outputs": [
                {
                    "execution_count": 64, 
                    "metadata": {}, 
                    "data": {
                        "text/plain": "{'end': '2019-02-05T09:37:57.276241Z',\n 'metrics': [{'asset_revision': '994d1093-4f0c-48a1-8ed1-fa301f9fde5c',\n   'timestamp': '2019-02-05T09:28:54.350Z',\n   'value': {'records': 28, 'response_time': 1964.0}},\n  {'asset_revision': '994d1093-4f0c-48a1-8ed1-fa301f9fde5c',\n   'timestamp': '2019-02-05T09:28:54.654Z',\n   'value': {'records': 28, 'response_time': 1920.0}},\n  {'asset_revision': '994d1093-4f0c-48a1-8ed1-fa301f9fde5c',\n   'timestamp': '2019-02-05T09:28:54.941Z',\n   'value': {'records': 28, 'response_time': 1922.0}},\n  {'asset_revision': '994d1093-4f0c-48a1-8ed1-fa301f9fde5c',\n   'timestamp': '2019-02-05T09:28:55.216Z',\n   'value': {'records': 24, 'response_time': 1676.0}},\n  {'asset_revision': '994d1093-4f0c-48a1-8ed1-fa301f9fde5c',\n   'timestamp': '2019-02-05T09:29:02.266Z',\n   'value': {'records': 8, 'response_time': 565.0}}],\n 'start': '2019-02-05T08:14:31.141Z'}"
                    }, 
                    "output_type": "execute_result"
                }
            ], 
            "source": "subscription.performance_monitoring.get_metrics(deployment_uid=subscription.get_deployment_uids()[0])"
        }, 
        {
            "source": "---", 
            "cell_type": "markdown", 
            "metadata": {}
        }, 
        {
            "source": "### Authors\nLukasz Cmielowski, PhD, is an Automation Architect and Data Scientist at IBM with a track record of developing enterprise-level applications that substantially increases clients' ability to turn data into actionable knowledge.\nWojciech Sobala, Data Scientist at IBM", 
            "cell_type": "markdown", 
            "metadata": {}
        }, 
        {
            "execution_count": null, 
            "cell_type": "code", 
            "metadata": {}, 
            "outputs": [], 
            "source": ""
        }
    ], 
    "metadata": {
        "kernelspec": {
            "display_name": "Python 3.5", 
            "name": "python3", 
            "language": "python"
        }, 
        "language_info": {
            "mimetype": "text/x-python", 
            "nbconvert_exporter": "python", 
            "version": "3.5.5", 
            "name": "python", 
            "file_extension": ".py", 
            "pygments_lexer": "ipython3", 
            "codemirror_mode": {
                "version": 3, 
                "name": "ipython"
            }
        }
    }, 
    "nbformat": 4
}