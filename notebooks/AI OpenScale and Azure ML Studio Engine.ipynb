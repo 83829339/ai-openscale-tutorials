{
    "nbformat_minor": 1, 
    "cells": [
        {
            "source": "<img src=\"https://github.com/pmservice/ai-openscale-tutorials/raw/master/notebooks/images/banner.png\" align=\"left\" alt=\"banner\">", 
            "cell_type": "markdown", 
            "metadata": {}
        }, 
        {
            "source": "# Working with Azure Machine Learning Studio engine", 
            "cell_type": "markdown", 
            "metadata": {}
        }, 
        {
            "source": "This notebook shows how to log the payload for the model deployed on custom model serving engine using AI OpenScale python sdk.", 
            "cell_type": "markdown", 
            "metadata": {}
        }, 
        {
            "source": "Contents\n- [1. Setup](#setup)\n- [2. Binding machine learning engine](#binding)\n- [3. Subscriptions](#subscription)\n- [4. Scoring and payload logging](#scoring)\n- [5. Feedback logging](#feedback)\n- [6. Data Mart](#datamart)", 
            "cell_type": "markdown", 
            "metadata": {}
        }, 
        {
            "source": "<a id=\"setup\"></a>\n## 1. Setup", 
            "cell_type": "markdown", 
            "metadata": {}
        }, 
        {
            "source": "### 1.0 Sample model creation using [Azure Machine Learning Studio](https://studio.azureml.net)", 
            "cell_type": "markdown", 
            "metadata": {}
        }, 
        {
            "source": "- Download training data set from [here](https://github.com/pmservice/wml-sample-models/raw/master/spark/product-line-prediction/data/GoSales_Tx.csv)\n- Create an expierment in Azure ML Studio (select `Product Line` column as label)\n- Run experiment to train a model\n- Create (deploy) web service (new)", 
            "cell_type": "markdown", 
            "metadata": {}
        }, 
        {
            "source": "<img src=\"https://github.com/pmservice/ai-openscale-tutorials/raw/master/notebooks/images/azure_product_line_model.png\" align=\"left\" alt=\"experiment\">", 
            "cell_type": "markdown", 
            "metadata": {}
        }, 
        {
            "source": "**NOTE:** Classic web services are not supported.", 
            "cell_type": "markdown", 
            "metadata": {}
        }, 
        {
            "source": "### 1.1 Installation and authentication", 
            "cell_type": "markdown", 
            "metadata": {}
        }, 
        {
            "execution_count": 1, 
            "cell_type": "code", 
            "metadata": {}, 
            "outputs": [
                {
                    "output_type": "stream", 
                    "name": "stdout", 
                    "text": "Successfully installed ibm-ai-openscale-1.0.287\r\n"
                }
            ], 
            "source": "!pip install --upgrade ibm-ai-openscale --no-cache | tail -n 1"
        }, 
        {
            "source": "Import and initiate.", 
            "cell_type": "markdown", 
            "metadata": {}
        }, 
        {
            "execution_count": 24, 
            "cell_type": "code", 
            "metadata": {}, 
            "outputs": [], 
            "source": "from ibm_ai_openscale import APIClient\nfrom ibm_ai_openscale.supporting_classes import PayloadRecord\nfrom ibm_ai_openscale.supporting_classes.enums import InputDataType, ProblemType\nfrom ibm_ai_openscale.engines import *\nfrom ibm_ai_openscale.utils import *"
        }, 
        {
            "source": "#### ACTION: Get AI OpenScale `instance_guid` and `apikey`\n\nHow to install IBM Cloud (bluemix) console: [instruction](https://console.bluemix.net/docs/cli/reference/ibmcloud/download_cli.html#install_use)\n\nHow to get api key using bluemix console:\n```\nbx login --sso\nbx iam api-key-create 'my_key'\n```\n\nHow to get your AI OpenScale instance GUID\n\n- if your resource group is different than `default` switch to resource group containing AI OpenScale instance\n```\nbx target -g <myResourceGroup>\n```\n- get details of the instance\n```\nbx resource service-instance 'AI-OpenScale-instance_name'\n```", 
            "cell_type": "markdown", 
            "metadata": {}
        }, 
        {
            "source": "#### Let's define some constants required to set up data mart:\n\n- AIOS_CREDENTIALS\n- POSTGRES_CREDENTIALS\n- SCHEMA_NAME", 
            "cell_type": "markdown", 
            "metadata": {}
        }, 
        {
            "execution_count": 3, 
            "cell_type": "code", 
            "metadata": {}, 
            "outputs": [], 
            "source": "AIOS_CREDENTIALS = {\n  \"url\": \"https://api.aiopenscale.cloud.ibm.com\",\n  \"instance_guid\": \"***\",\n  \"apikey\": \"***\"\n}"
        }, 
        {
            "execution_count": 4, 
            "cell_type": "code", 
            "metadata": {}, 
            "outputs": [], 
            "source": "# The code was removed by Watson Studio for sharing."
        }, 
        {
            "execution_count": 5, 
            "cell_type": "code", 
            "metadata": {}, 
            "outputs": [], 
            "source": "POSTGRES_CREDENTIALS = {\n    \"db_type\": \"postgresql\",\n    \"uri_cli_1\": \"xxx\",\n    \"maps\": [],\n    \"instance_administration_api\": {\n        \"instance_id\": \"xxx\",\n        \"root\": \"xxx\",\n        \"deployment_id\": \"xxx\"\n    },\n    \"name\": \"xxx\",\n    \"uri_cli\": \"xxx\",\n    \"uri_direct_1\": \"xxx\",\n    \"ca_certificate_base64\": \"xxx\",\n    \"deployment_id\": \"xxx\",\n    \"uri\": \"xxx\"\n}"
        }, 
        {
            "execution_count": 6, 
            "cell_type": "code", 
            "metadata": {}, 
            "outputs": [], 
            "source": "# The code was removed by Watson Studio for sharing."
        }, 
        {
            "execution_count": 8, 
            "cell_type": "code", 
            "metadata": {}, 
            "outputs": [], 
            "source": "SCHEMA_NAME = 'data_mart_for_azure'"
        }, 
        {
            "source": "Create schema for data mart.", 
            "cell_type": "markdown", 
            "metadata": {}
        }, 
        {
            "execution_count": 9, 
            "cell_type": "code", 
            "metadata": {}, 
            "outputs": [], 
            "source": "create_postgres_schema(postgres_credentials=POSTGRES_CREDENTIALS, schema_name=SCHEMA_NAME)"
        }, 
        {
            "execution_count": 10, 
            "cell_type": "code", 
            "metadata": {}, 
            "outputs": [], 
            "source": "client = APIClient(AIOS_CREDENTIALS)"
        }, 
        {
            "execution_count": 11, 
            "cell_type": "code", 
            "metadata": {}, 
            "outputs": [
                {
                    "execution_count": 11, 
                    "metadata": {}, 
                    "data": {
                        "text/plain": "'1.0.287'"
                    }, 
                    "output_type": "execute_result"
                }
            ], 
            "source": "client.version"
        }, 
        {
            "source": "### 1.2 DataMart setup", 
            "cell_type": "markdown", 
            "metadata": {}
        }, 
        {
            "execution_count": 13, 
            "cell_type": "code", 
            "metadata": {}, 
            "outputs": [], 
            "source": "client.data_mart.setup(db_credentials=POSTGRES_CREDENTIALS, schema=SCHEMA_NAME)"
        }, 
        {
            "execution_count": 14, 
            "cell_type": "code", 
            "metadata": {}, 
            "outputs": [], 
            "source": "data_mart_details = client.data_mart.get_details()"
        }, 
        {
            "source": "<a id=\"binding\"></a>\n## 2. Bind machine learning engines", 
            "cell_type": "markdown", 
            "metadata": {}
        }, 
        {
            "source": "### 2.1 Bind  `Azure` machine learning engine\n\nProvide credentials using following fields:\n- `client_id`\n- `client_secret`\n- `subscription_id`\n- `tenant`", 
            "cell_type": "markdown", 
            "metadata": {}
        }, 
        {
            "execution_count": 15, 
            "cell_type": "code", 
            "metadata": {}, 
            "outputs": [], 
            "source": "AZURE_ENGINE_CREDENTIALS = {\n    \"client_id\": \"***\",\n    \"client_secret\": \"***\",\n    \"subscription_id\": \"***\",\n    \"tenant\": \"***\"\n}"
        }, 
        {
            "execution_count": 16, 
            "cell_type": "code", 
            "metadata": {}, 
            "outputs": [], 
            "source": "# The code was removed by Watson Studio for sharing."
        }, 
        {
            "execution_count": 17, 
            "cell_type": "code", 
            "metadata": {}, 
            "outputs": [], 
            "source": "binding_uid = client.data_mart.bindings.add('My Azure ML Studio engine', AzureMachineLearningInstance(AZURE_ENGINE_CREDENTIALS))"
        }, 
        {
            "execution_count": 18, 
            "cell_type": "code", 
            "metadata": {}, 
            "outputs": [], 
            "source": "bindings_details = client.data_mart.bindings.get_details()"
        }, 
        {
            "execution_count": 19, 
            "cell_type": "code", 
            "metadata": {}, 
            "outputs": [
                {
                    "output_type": "display_data", 
                    "data": {
                        "text/html": "<HTML>\n        <body>\n            <h3>Service bindings</h3>\n            <table style='border: 1px solid #dddddd; font-family: Courier'>\n                <th style='border: 1px solid #dddddd'>uid</th><th style='border: 1px solid #dddddd'>name</th><th style='border: 1px solid #dddddd'>service_type</th><th style='border: 1px solid #dddddd'>created</th>\n                <tr><td style='border: 1px solid #dddddd'>073ccc69-bb6f-424a-b887-b3c0bdb2c77f</td><td style='border: 1px solid #dddddd'>My Azure ML Studio engine</td><td style='border: 1px solid #dddddd'>azure_machine_learning</td><td style='border: 1px solid #dddddd'>2018-12-14T13:56:04.456Z</td></tr>\n            </table>\n        </body>\n        </HTML>", 
                        "text/plain": "<IPython.core.display.HTML object>"
                    }, 
                    "metadata": {}
                }
            ], 
            "source": "client.data_mart.bindings.list()"
        }, 
        {
            "source": "<a id=\"subsciption\"></a>\n## 3. Subscriptions", 
            "cell_type": "markdown", 
            "metadata": {}
        }, 
        {
            "source": "### 3.1 Add subscriptions", 
            "cell_type": "markdown", 
            "metadata": {}
        }, 
        {
            "source": "List available deployments.\n\n**Note:** Depending on number of assets it may take some time.", 
            "cell_type": "markdown", 
            "metadata": {}
        }, 
        {
            "execution_count": 20, 
            "cell_type": "code", 
            "metadata": {}, 
            "outputs": [
                {
                    "output_type": "display_data", 
                    "data": {
                        "text/html": "<HTML>\n        <body>\n            <h3>Available assets</h3>\n            <table style='border: 1px solid #dddddd; font-family: Courier'>\n                <th style='border: 1px solid #dddddd'>source_uid</th><th style='border: 1px solid #dddddd'>name</th><th style='border: 1px solid #dddddd'>created</th><th style='border: 1px solid #dddddd'>type</th><th style='border: 1px solid #dddddd'>frameworks</th><th style='border: 1px solid #dddddd'>binding_uid</th><th style='border: 1px solid #dddddd'>is_subscribed</th>\n                <tr><td style='border: 1px solid #dddddd'>08ba1404374d7635f8eb8638c105f7eb</td><td style='border: 1px solid #dddddd'>AzureNew-Yuki-ProductLine-LinearRegression(Age)-20181213</td><td style='border: 1px solid #dddddd'>2018-12-13T09:23:36.1493809Z</td><td style='border: 1px solid #dddddd'>model</td><td style='border: 1px solid #dddddd'></td><td style='border: 1px solid #dddddd'>073ccc69-bb6f-424a-b887-b3c0bdb2c77f</td><td style='border: 1px solid #dddddd'>False</td></tr><tr><td style='border: 1px solid #dddddd'>efa7c594c5a0deac76bc6866ffc18dc7</td><td style='border: 1px solid #dddddd'>ClaimInsuranceRegression.2018.12.12.5.12.15.584</td><td style='border: 1px solid #dddddd'>2018-12-12T05:13:51.021202Z</td><td style='border: 1px solid #dddddd'>model</td><td style='border: 1px solid #dddddd'></td><td style='border: 1px solid #dddddd'>073ccc69-bb6f-424a-b887-b3c0bdb2c77f</td><td style='border: 1px solid #dddddd'>False</td></tr><tr><td style='border: 1px solid #dddddd'>2f1c3b2552bb9d96a134ef671c716059</td><td style='border: 1px solid #dddddd'>AzureNew-Yuki-ProductLine-LinearRegression-20181212</td><td style='border: 1px solid #dddddd'>2018-12-12T03:01:58.8467204Z</td><td style='border: 1px solid #dddddd'>model</td><td style='border: 1px solid #dddddd'></td><td style='border: 1px solid #dddddd'>073ccc69-bb6f-424a-b887-b3c0bdb2c77f</td><td style='border: 1px solid #dddddd'>False</td></tr><tr><td style='border: 1px solid #dddddd'>48c6ebc2fa6cfd359923e3fe59bdefcc</td><td style='border: 1px solid #dddddd'>AzureNew-Yuki-ProductLine-TwoClassLogisticRegression-20181212</td><td style='border: 1px solid #dddddd'>2018-12-12T02:59:33.7864639Z</td><td style='border: 1px solid #dddddd'>model</td><td style='border: 1px solid #dddddd'></td><td style='border: 1px solid #dddddd'>073ccc69-bb6f-424a-b887-b3c0bdb2c77f</td><td style='border: 1px solid #dddddd'>False</td></tr><tr><td style='border: 1px solid #dddddd'>f49e4115dbc90378d3c5cb4bbc27d2d8</td><td style='border: 1px solid #dddddd'>AzureNew-Yuki-ProductLine-MulticlassLogisticRegression-20181212</td><td style='border: 1px solid #dddddd'>2018-12-12T02:58:25.3151546Z</td><td style='border: 1px solid #dddddd'>model</td><td style='border: 1px solid #dddddd'></td><td style='border: 1px solid #dddddd'>073ccc69-bb6f-424a-b887-b3c0bdb2c77f</td><td style='border: 1px solid #dddddd'>False</td></tr><tr><td style='border: 1px solid #dddddd'>68efeda5fa73738bd028e1a290807367</td><td style='border: 1px solid #dddddd'>AzureNew-Yuki-DrugSelection-TwoClassLogisticRegression-20181212</td><td style='border: 1px solid #dddddd'>2018-12-12T02:49:34.4638846Z</td><td style='border: 1px solid #dddddd'>model</td><td style='border: 1px solid #dddddd'></td><td style='border: 1px solid #dddddd'>073ccc69-bb6f-424a-b887-b3c0bdb2c77f</td><td style='border: 1px solid #dddddd'>False</td></tr><tr><td style='border: 1px solid #dddddd'>5d14ed9ef7fa12fc86a96254e4d5061f</td><td style='border: 1px solid #dddddd'>AzureNew-Yuki-DrugSelection-LinearRegression-20181212</td><td style='border: 1px solid #dddddd'>2018-12-12T02:49:04.2670654Z</td><td style='border: 1px solid #dddddd'>model</td><td style='border: 1px solid #dddddd'></td><td style='border: 1px solid #dddddd'>073ccc69-bb6f-424a-b887-b3c0bdb2c77f</td><td style='border: 1px solid #dddddd'>False</td></tr><tr><td style='border: 1px solid #dddddd'>920b3ea9eb29a41e4fa93bfa5c96ac63</td><td style='border: 1px solid #dddddd'>AzureNew-Yuki-DrugSelection-MulticlassLogisticRegression-20181212</td><td style='border: 1px solid #dddddd'>2018-12-12T02:47:43.887378Z</td><td style='border: 1px solid #dddddd'>model</td><td style='border: 1px solid #dddddd'></td><td style='border: 1px solid #dddddd'>073ccc69-bb6f-424a-b887-b3c0bdb2c77f</td><td style='border: 1px solid #dddddd'>False</td></tr><tr><td style='border: 1px solid #dddddd'>3d07cae29805365453230e8beb638088</td><td style='border: 1px solid #dddddd'>MultiClassProductline</td><td style='border: 1px solid #dddddd'>2018-12-11T19:21:01.9441141Z</td><td style='border: 1px solid #dddddd'>model</td><td style='border: 1px solid #dddddd'></td><td style='border: 1px solid #dddddd'>073ccc69-bb6f-424a-b887-b3c0bdb2c77f</td><td style='border: 1px solid #dddddd'>False</td></tr><tr><td style='border: 1px solid #dddddd'>f39da17aaccec60ee9bd67207ae272f6</td><td style='border: 1px solid #dddddd'>neelimaregressio.2018.12.11.18.31.12.560</td><td style='border: 1px solid #dddddd'>2018-12-11T18:31:22.7972314Z</td><td style='border: 1px solid #dddddd'>model</td><td style='border: 1px solid #dddddd'></td><td style='border: 1px solid #dddddd'>073ccc69-bb6f-424a-b887-b3c0bdb2c77f</td><td style='border: 1px solid #dddddd'>False</td></tr><tr><td style='border: 1px solid #dddddd'>f7ba1231cc1a7cd200b996d8e514f758</td><td style='border: 1px solid #dddddd'>InsuranceClaimBinaryClass2</td><td style='border: 1px solid #dddddd'>2018-12-11T18:16:33.0425079Z</td><td style='border: 1px solid #dddddd'>model</td><td style='border: 1px solid #dddddd'></td><td style='border: 1px solid #dddddd'>073ccc69-bb6f-424a-b887-b3c0bdb2c77f</td><td style='border: 1px solid #dddddd'>False</td></tr><tr><td style='border: 1px solid #dddddd'>fbda2dcb71e4f339696c778e81d6a922</td><td style='border: 1px solid #dddddd'>neelimaincomepre.2018.12.11.17.52.18.494</td><td style='border: 1px solid #dddddd'>2018-12-11T17:52:31.6527702Z</td><td style='border: 1px solid #dddddd'>model</td><td style='border: 1px solid #dddddd'></td><td style='border: 1px solid #dddddd'>073ccc69-bb6f-424a-b887-b3c0bdb2c77f</td><td style='border: 1px solid #dddddd'>False</td></tr><tr><td style='border: 1px solid #dddddd'>a5951aaca215e4b2208a87495594ab2d</td><td style='border: 1px solid #dddddd'>CI-Regression-Dec11</td><td style='border: 1px solid #dddddd'>2018-12-11T16:39:39.0675549Z</td><td style='border: 1px solid #dddddd'>model</td><td style='border: 1px solid #dddddd'></td><td style='border: 1px solid #dddddd'>073ccc69-bb6f-424a-b887-b3c0bdb2c77f</td><td style='border: 1px solid #dddddd'>False</td></tr><tr><td style='border: 1px solid #dddddd'>90b4be34a6c987d29066076233d46b1a</td><td style='border: 1px solid #dddddd'>neelimaproductli.2018.12.11.16.20.34.185</td><td style='border: 1px solid #dddddd'>2018-12-11T16:20:51.0606809Z</td><td style='border: 1px solid #dddddd'>model</td><td style='border: 1px solid #dddddd'></td><td style='border: 1px solid #dddddd'>073ccc69-bb6f-424a-b887-b3c0bdb2c77f</td><td style='border: 1px solid #dddddd'>False</td></tr><tr><td style='border: 1px solid #dddddd'>5ef146c0ae1ed5143bdc7ea0e1df0a62</td><td style='border: 1px solid #dddddd'>ProductLineMultiClass-dec11</td><td style='border: 1px solid #dddddd'>2018-12-11T15:35:12.8468532Z</td><td style='border: 1px solid #dddddd'>model</td><td style='border: 1px solid #dddddd'></td><td style='border: 1px solid #dddddd'>073ccc69-bb6f-424a-b887-b3c0bdb2c77f</td><td style='border: 1px solid #dddddd'>False</td></tr><tr><td style='border: 1px solid #dddddd'>d8dd110f1b75f27b7854928b1d705932</td><td style='border: 1px solid #dddddd'>JimExperimentDoc01</td><td style='border: 1px solid #dddddd'>2018-12-11T14:44:22.4454173Z</td><td style='border: 1px solid #dddddd'>model</td><td style='border: 1px solid #dddddd'></td><td style='border: 1px solid #dddddd'>073ccc69-bb6f-424a-b887-b3c0bdb2c77f</td><td style='border: 1px solid #dddddd'>False</td></tr><tr><td style='border: 1px solid #dddddd'>4fe40f7168e087c27998ffd5fec2ed8c</td><td style='border: 1px solid #dddddd'>productlineregre.2018.12.10.6.56.13.808</td><td style='border: 1px solid #dddddd'>2018-12-10T06:56:24.9336379Z</td><td style='border: 1px solid #dddddd'>model</td><td style='border: 1px solid #dddddd'></td><td style='border: 1px solid #dddddd'>073ccc69-bb6f-424a-b887-b3c0bdb2c77f</td><td style='border: 1px solid #dddddd'>False</td></tr><tr><td style='border: 1px solid #dddddd'>bd7f7335d9283525ce4d5d4d10d4f481</td><td style='border: 1px solid #dddddd'>mnistimage.2018.12.7.5.46.5.751</td><td style='border: 1px solid #dddddd'>2018-12-07T05:46:25.8962975Z</td><td style='border: 1px solid #dddddd'>model</td><td style='border: 1px solid #dddddd'></td><td style='border: 1px solid #dddddd'>073ccc69-bb6f-424a-b887-b3c0bdb2c77f</td><td style='border: 1px solid #dddddd'>False</td></tr><tr><td style='border: 1px solid #dddddd'>454d8ded446f62842197e5b0ec1cfcaf</td><td style='border: 1px solid #dddddd'>productlineregre.2018.12.5.6.21.44.165</td><td style='border: 1px solid #dddddd'>2018-12-05T06:22:10.0824452Z</td><td style='border: 1px solid #dddddd'>model</td><td style='border: 1px solid #dddddd'></td><td style='border: 1px solid #dddddd'>073ccc69-bb6f-424a-b887-b3c0bdb2c77f</td><td style='border: 1px solid #dddddd'>False</td></tr><tr><td style='border: 1px solid #dddddd'>7b6f7b05a7aa19c7669546864be4636c</td><td style='border: 1px solid #dddddd'>Irisclassificati.me2018.12.4.10.40.56.847</td><td style='border: 1px solid #dddddd'>2018-12-04T10:41:13.1176858Z</td><td style='border: 1px solid #dddddd'>model</td><td style='border: 1px solid #dddddd'></td><td style='border: 1px solid #dddddd'>073ccc69-bb6f-424a-b887-b3c0bdb2c77f</td><td style='border: 1px solid #dddddd'>False</td></tr><tr><td style='border: 1px solid #dddddd'>2cfbf15dca01a453faa4833009dabcf6</td><td style='border: 1px solid #dddddd'>ProductLine-Yuki-20181204-1537</td><td style='border: 1px solid #dddddd'>2018-12-04T06:37:14.1095386Z</td><td style='border: 1px solid #dddddd'>model</td><td style='border: 1px solid #dddddd'></td><td style='border: 1px solid #dddddd'>073ccc69-bb6f-424a-b887-b3c0bdb2c77f</td><td style='border: 1px solid #dddddd'>False</td></tr><tr><td style='border: 1px solid #dddddd'>0a9d0563eeb1ab13abd01eae14aacfcd</td><td style='border: 1px solid #dddddd'>DrugSelection-Yuki-20181204-1520</td><td style='border: 1px solid #dddddd'>2018-12-04T06:20:52.6833542Z</td><td style='border: 1px solid #dddddd'>model</td><td style='border: 1px solid #dddddd'></td><td style='border: 1px solid #dddddd'>073ccc69-bb6f-424a-b887-b3c0bdb2c77f</td><td style='border: 1px solid #dddddd'>False</td></tr><tr><td style='border: 1px solid #dddddd'>e88428224af3cb9f4711a39aba102a1d</td><td style='border: 1px solid #dddddd'>InsuranceClaimBinaryClass1</td><td style='border: 1px solid #dddddd'>2018-11-29T13:44:14.5020986Z</td><td style='border: 1px solid #dddddd'>model</td><td style='border: 1px solid #dddddd'></td><td style='border: 1px solid #dddddd'>073ccc69-bb6f-424a-b887-b3c0bdb2c77f</td><td style='border: 1px solid #dddddd'>False</td></tr><tr><td style='border: 1px solid #dddddd'>f8a3f2462f0f23f967bf48c2f4d51471</td><td style='border: 1px solid #dddddd'>ProductLineMulticlassification</td><td style='border: 1px solid #dddddd'>2018-11-27T12:31:40.6453108Z</td><td style='border: 1px solid #dddddd'>model</td><td style='border: 1px solid #dddddd'></td><td style='border: 1px solid #dddddd'>073ccc69-bb6f-424a-b887-b3c0bdb2c77f</td><td style='border: 1px solid #dddddd'>False</td></tr><tr><td style='border: 1px solid #dddddd'>91f11e0d31fa00be92c1967bbf0bbf45</td><td style='border: 1px solid #dddddd'>InsuranceClaimBClassification</td><td style='border: 1px solid #dddddd'>2018-11-26T17:00:45.734513Z</td><td style='border: 1px solid #dddddd'>model</td><td style='border: 1px solid #dddddd'></td><td style='border: 1px solid #dddddd'>073ccc69-bb6f-424a-b887-b3c0bdb2c77f</td><td style='border: 1px solid #dddddd'>False</td></tr><tr><td style='border: 1px solid #dddddd'>a996478db6f24b67d722ecbe637d2ca7</td><td style='border: 1px solid #dddddd'>InsuranceClaimRegressionModel</td><td style='border: 1px solid #dddddd'>2018-11-21T08:35:02.627712Z</td><td style='border: 1px solid #dddddd'>model</td><td style='border: 1px solid #dddddd'></td><td style='border: 1px solid #dddddd'>073ccc69-bb6f-424a-b887-b3c0bdb2c77f</td><td style='border: 1px solid #dddddd'>False</td></tr><tr><td style='border: 1px solid #dddddd'>72519e05bd423560d4a919153e6dc029</td><td style='border: 1px solid #dddddd'>ProductLineClass.2018.11.2.11.40.22.845</td><td style='border: 1px solid #dddddd'>2018-11-02T11:40:59.563349Z</td><td style='border: 1px solid #dddddd'>model</td><td style='border: 1px solid #dddddd'></td><td style='border: 1px solid #dddddd'>073ccc69-bb6f-424a-b887-b3c0bdb2c77f</td><td style='border: 1px solid #dddddd'>False</td></tr><tr><td style='border: 1px solid #dddddd'>0b64ea667b5e40a339f948c10d0adeff</td><td style='border: 1px solid #dddddd'>Irisclassificati.2018.10.22.7.39.3.217</td><td style='border: 1px solid #dddddd'>2018-10-22T07:39:14.9178443Z</td><td style='border: 1px solid #dddddd'>model</td><td style='border: 1px solid #dddddd'></td><td style='border: 1px solid #dddddd'>073ccc69-bb6f-424a-b887-b3c0bdb2c77f</td><td style='border: 1px solid #dddddd'>False</td></tr><tr><td style='border: 1px solid #dddddd'>f0cad1153dac876126ad53158b0d3cd3</td><td style='border: 1px solid #dddddd'>ProductLineAgeRe.2018.10.22.7.33.27.127</td><td style='border: 1px solid #dddddd'>2018-10-22T07:33:43.7417975Z</td><td style='border: 1px solid #dddddd'>model</td><td style='border: 1px solid #dddddd'></td><td style='border: 1px solid #dddddd'>073ccc69-bb6f-424a-b887-b3c0bdb2c77f</td><td style='border: 1px solid #dddddd'>False</td></tr><tr><td style='border: 1px solid #dddddd'>d18d5fb45bfcd9253f52fb76657c27ea</td><td style='border: 1px solid #dddddd'>Irisclassificati.2018.10.19.9.49.7.418</td><td style='border: 1px solid #dddddd'>2018-10-19T09:49:27.4251325Z</td><td style='border: 1px solid #dddddd'>model</td><td style='border: 1px solid #dddddd'></td><td style='border: 1px solid #dddddd'>073ccc69-bb6f-424a-b887-b3c0bdb2c77f</td><td style='border: 1px solid #dddddd'>False</td></tr>\n            </table>\n        </body>\n        </HTML>", 
                        "text/plain": "<IPython.core.display.HTML object>"
                    }, 
                    "metadata": {}
                }
            ], 
            "source": "client.data_mart.bindings.list_assets()"
        }, 
        {
            "source": "**Action:** Assign your source_uid to `source_uid` variable below.", 
            "cell_type": "markdown", 
            "metadata": {}
        }, 
        {
            "execution_count": 21, 
            "cell_type": "code", 
            "metadata": {}, 
            "outputs": [], 
            "source": "source_uid = '72519e05bd423560d4a919153e6dc029'"
        }, 
        {
            "execution_count": 25, 
            "cell_type": "code", 
            "metadata": {}, 
            "outputs": [], 
            "source": "subscription = client.data_mart.subscriptions.add(\n            AzureMachineLearningAsset(source_uid=source_uid,\n                                      binding_uid=binding_uid,\n                                      input_data_type=InputDataType.STRUCTURED,\n                                      problem_type=ProblemType.MULTICLASS_CLASSIFICATION,\n                                      label_column='PRODUCT_LINE',\n                                      prediction_column='Scored Labels'))"
        }, 
        {
            "source": "#### Get subscriptions list", 
            "cell_type": "markdown", 
            "metadata": {}
        }, 
        {
            "execution_count": 26, 
            "cell_type": "code", 
            "metadata": {}, 
            "outputs": [], 
            "source": "subscriptions = client.data_mart.subscriptions.get_details()"
        }, 
        {
            "execution_count": 27, 
            "cell_type": "code", 
            "metadata": {}, 
            "outputs": [
                {
                    "output_type": "stream", 
                    "name": "stdout", 
                    "text": "['72519e05bd423560d4a919153e6dc029']\n"
                }
            ], 
            "source": "subscriptions_uids = client.data_mart.subscriptions.get_uids()\nprint(subscriptions_uids)"
        }, 
        {
            "source": "#### List subscriptions", 
            "cell_type": "markdown", 
            "metadata": {}
        }, 
        {
            "execution_count": 28, 
            "cell_type": "code", 
            "metadata": {}, 
            "outputs": [
                {
                    "output_type": "display_data", 
                    "data": {
                        "text/html": "<HTML>\n        <body>\n            <h3>Subscriptions</h3>\n            <table style='border: 1px solid #dddddd; font-family: Courier'>\n                <th style='border: 1px solid #dddddd'>uid</th><th style='border: 1px solid #dddddd'>name</th><th style='border: 1px solid #dddddd'>type</th><th style='border: 1px solid #dddddd'>binding_uid</th><th style='border: 1px solid #dddddd'>created</th>\n                <tr><td style='border: 1px solid #dddddd'>72519e05bd423560d4a919153e6dc029</td><td style='border: 1px solid #dddddd'>ProductLineClass.2018.11.2.11.40.22.845</td><td style='border: 1px solid #dddddd'>model</td><td style='border: 1px solid #dddddd'>073ccc69-bb6f-424a-b887-b3c0bdb2c77f</td><td style='border: 1px solid #dddddd'>2018-12-14T14:02:27.849Z</td></tr>\n            </table>\n        </body>\n        </HTML>", 
                        "text/plain": "<IPython.core.display.HTML object>"
                    }, 
                    "metadata": {}
                }
            ], 
            "source": "client.data_mart.subscriptions.list()"
        }, 
        {
            "source": "<a id=\"scoring\"></a>\n## 4. Scoring and payload logging", 
            "cell_type": "markdown", 
            "metadata": {}
        }, 
        {
            "source": "### 4.1 Score the product line model and measure response time", 
            "cell_type": "markdown", 
            "metadata": {}
        }, 
        {
            "execution_count": 37, 
            "cell_type": "code", 
            "metadata": {}, 
            "outputs": [
                {
                    "output_type": "stream", 
                    "name": "stdout", 
                    "text": "{\n  \"Results\": {\n    \"output1\": [\n      {\n        \"Scored Probabilities for Class \\\"Personal Accessories\\\"\": \"0.942931283576809\",\n        \"Scored Labels\": \"Personal Accessories\",\n        \"MARITAL_STATUS\": \"Single\",\n        \"GENDER\": \"F\",\n        \"Scored Probabilities for Class \\\"Golf Equipment\\\"\": \"0\",\n        \"PRODUCT_LINE\": \"Personal Accessories\",\n        \"Scored Probabilities for Class \\\"Camping Equipment\\\"\": \"0\",\n        \"PROFESSION\": \"Professional\",\n        \"Scored Probabilities for Class \\\"Mountaineering Equipment\\\"\": \"0.0570687164231906\",\n        \"AGE\": \"27\",\n        \"Scored Probabilities for Class \\\"Outdoor Protection\\\"\": \"0\"\n      }\n    ]\n  }\n}\n"
                }
            ], 
            "source": "import requests\nimport time\nimport json\n\nsubscription_details = subscription.get_details()\nscoring_url = subscription_details['entity']['deployments'][0]['scoring_endpoint']['url']\n\ndata = {\n    \"Inputs\": {\n        \"input1\":\n            [\n                {\n                    'GENDER': \"F\",\n                    'AGE': 27,\n                    'MARITAL_STATUS': \"Single\",\n                    'PROFESSION': \"Professional\",\n                    'PRODUCT_LINE': \"Personal Accessories\",\n                }\n            ],\n    },\n    \"GlobalParameters\": {\n    }\n}\n\nbody = str.encode(json.dumps(data))\n\ntoken = subscription_details['entity']['deployments'][0]['scoring_endpoint']['credentials']['token']\nheaders = subscription_details['entity']['deployments'][0]['scoring_endpoint']['request_headers']\nheaders['Authorization'] = ('Bearer ' + token)\n\nstart_time = time.time()\nresponse = requests.post(url=scoring_url, data=body, headers=headers)\nresponse_time = int(time.time() - start_time)*1000\nresult = response.json()\n\nprint(json.dumps(result, indent=2))"
        }, 
        {
            "source": "### 4.2 Store the request and response in payload logging table", 
            "cell_type": "markdown", 
            "metadata": {}
        }, 
        {
            "source": "#### Transform the model's input and output to the format compatible with AI OpenScale standard.", 
            "cell_type": "markdown", 
            "metadata": {}
        }, 
        {
            "execution_count": 38, 
            "cell_type": "code", 
            "metadata": {}, 
            "outputs": [], 
            "source": "request_data = {'fields': list(data['Inputs']['input1'][0]),\n           'values': [list(x.values()) for x in data['Inputs']['input1']]}\n\nresponse_data = {'fields': list(result['Results']['output1'][0]),\n            'values': [list(x.values()) for x in result['Results']['output1']]}"
        }, 
        {
            "source": "#### Store the payload using Python SDK", 
            "cell_type": "markdown", 
            "metadata": {}
        }, 
        {
            "source": "**Hint:** You can embed payload logging code into your custom deployment so it is logged automatically each time you score the model.", 
            "cell_type": "markdown", 
            "metadata": {}
        }, 
        {
            "execution_count": 39, 
            "cell_type": "code", 
            "metadata": {}, 
            "outputs": [], 
            "source": "records_list = [PayloadRecord(request=request_data, response=response_data, response_time=response_time), \n                PayloadRecord(request=request_data, response=response_data, response_time=response_time)]\n\nfor i in range(1, 10):\n    records_list.append(PayloadRecord(request=request_data, response=response_data, response_time=response_time))\n\nsubscription.payload_logging.store(records=records_list)"
        }, 
        {
            "source": "#### Store the payload using REST API", 
            "cell_type": "markdown", 
            "metadata": {}
        }, 
        {
            "source": "Get the token first.", 
            "cell_type": "markdown", 
            "metadata": {}
        }, 
        {
            "execution_count": 41, 
            "cell_type": "code", 
            "metadata": {}, 
            "outputs": [], 
            "source": "token_endpoint = \"https://iam.bluemix.net/identity/token\"\nheaders = {\n    \"Content-Type\": \"application/x-www-form-urlencoded\",\n    \"Accept\": \"application/json\"\n}\n\ndata = {\n    \"grant_type\":\"urn:ibm:params:oauth:grant-type:apikey\",\n    \"apikey\":AIOS_CREDENTIALS[\"apikey\"]\n}\n\nreq = requests.post(token_endpoint, data=data, headers=headers)\ntoken = req.json()['access_token']"
        }, 
        {
            "source": "Store the payload.", 
            "cell_type": "markdown", 
            "metadata": {}
        }, 
        {
            "execution_count": 42, 
            "cell_type": "code", 
            "metadata": {}, 
            "outputs": [
                {
                    "output_type": "stream", 
                    "name": "stdout", 
                    "text": "Request OK: True\n"
                }
            ], 
            "source": "import requests, uuid\n\nPAYLOAD_STORING_HREF_PATTERN = '{}/v1/data_marts/{}/scoring_payloads'\nendpoint = PAYLOAD_STORING_HREF_PATTERN.format(AIOS_CREDENTIALS['url'], AIOS_CREDENTIALS['data_mart_id'])\n\npayload = [{\n    'binding_id': binding_uid, \n    'deployment_id': subscription.get_details()['entity']['deployments'][0]['deployment_id'], \n    'subscription_id': subscription.uid, \n    'scoring_id': str(uuid.uuid4()), \n    'response': response_data,\n    'request': request_data\n}]\n\n\nheaders = {\"Authorization\": \"Bearer \" + token}\n      \nreq_response = requests.post(endpoint, json=payload, headers = headers)\n\nprint(\"Request OK: \" + str(req_response.ok))"
        }, 
        {
            "source": "<a id=\"feedback\"></a>\n## 5. Feedback logging & quality (accuracy) monitoring", 
            "cell_type": "markdown", 
            "metadata": {}
        }, 
        {
            "source": "### Enable quality monitoring", 
            "cell_type": "markdown", 
            "metadata": {}
        }, 
        {
            "source": "You need to provide the monitoring `threshold` and `min_records` (minimal number of feedback records).", 
            "cell_type": "markdown", 
            "metadata": {}
        }, 
        {
            "execution_count": 43, 
            "cell_type": "code", 
            "metadata": {}, 
            "outputs": [], 
            "source": "subscription.quality_monitoring.enable(threshold=0.7, min_records=10)"
        }, 
        {
            "source": "### Feedback records logging", 
            "cell_type": "markdown", 
            "metadata": {}
        }, 
        {
            "source": "Feedback records are used to evaluate your model. The predicted values are compared to real values (feedback records).", 
            "cell_type": "markdown", 
            "metadata": {}
        }, 
        {
            "source": "You can check the schema of feedback table using below method.", 
            "cell_type": "markdown", 
            "metadata": {}
        }, 
        {
            "execution_count": 44, 
            "cell_type": "code", 
            "metadata": {}, 
            "outputs": [
                {
                    "output_type": "display_data", 
                    "data": {
                        "text/html": "<HTML>\n        <body>\n            <h3>Schema of Feedback_72519e05bd423560d4a919153e6dc029</h3>\n            <table style='border: 1px solid #dddddd; font-family: Courier'>\n                <th style='border: 1px solid #dddddd'>name</th><th style='border: 1px solid #dddddd'>type</th><th style='border: 1px solid #dddddd'>nullable</th>\n                <tr><td style='border: 1px solid #dddddd'>PROFESSION</td><td style='border: 1px solid #dddddd'>string</td><td style='border: 1px solid #dddddd'>True</td></tr><tr><td style='border: 1px solid #dddddd'>MARITAL_STATUS</td><td style='border: 1px solid #dddddd'>string</td><td style='border: 1px solid #dddddd'>True</td></tr><tr><td style='border: 1px solid #dddddd'>GENDER</td><td style='border: 1px solid #dddddd'>string</td><td style='border: 1px solid #dddddd'>True</td></tr><tr><td style='border: 1px solid #dddddd'>AGE</td><td style='border: 1px solid #dddddd'>integer</td><td style='border: 1px solid #dddddd'>True</td></tr><tr><td style='border: 1px solid #dddddd'>PRODUCT_LINE</td><td style='border: 1px solid #dddddd'>string</td><td style='border: 1px solid #dddddd'>True</td></tr><tr><td style='border: 1px solid #dddddd'>_training</td><td style='border: 1px solid #dddddd'>timestamp</td><td style='border: 1px solid #dddddd'>False</td></tr>\n            </table>\n        </body>\n        </HTML>", 
                        "text/plain": "<IPython.core.display.HTML object>"
                    }, 
                    "metadata": {}
                }
            ], 
            "source": "subscription.feedback_logging.print_table_schema()"
        }, 
        {
            "source": "The feedback records can be send to feedback table using below code.", 
            "cell_type": "markdown", 
            "metadata": {}
        }, 
        {
            "execution_count": 45, 
            "cell_type": "code", 
            "metadata": {}, 
            "outputs": [], 
            "source": "fields = [\"GENDER\", \"AGE\", \"MARITAL_STATUS\", \"PROFESSION\", \"PRODUCT_LINE\"]\n\nrecords = [\n    [\"F\", \"27\", \"Single\", \"Professional\", \"Personal Accessories\"],\n    [\"M\", \"27\", \"Single\", \"Professional\", \"Personal Accessories\"]]\n\nfor i in range(1,10):\n    records.append([\"F\", \"27\", \"Single\", \"Professional\", \"Personal Accessories\"])\n\nsubscription.feedback_logging.store(feedback_data=records, fields=fields)"
        }, 
        {
            "source": "### Run quality monitoring on demand", 
            "cell_type": "markdown", 
            "metadata": {}
        }, 
        {
            "source": "By default, quality monitoring is run on hourly schedule. You can also trigger it on demand using below code.", 
            "cell_type": "markdown", 
            "metadata": {}
        }, 
        {
            "execution_count": 46, 
            "cell_type": "code", 
            "metadata": {}, 
            "outputs": [], 
            "source": "run_details = subscription.quality_monitoring.run()"
        }, 
        {
            "source": "Since the monitoring runs in the background you can use below method to check the status of the job.", 
            "cell_type": "markdown", 
            "metadata": {}
        }, 
        {
            "execution_count": 47, 
            "cell_type": "code", 
            "metadata": {}, 
            "outputs": [
                {
                    "output_type": "stream", 
                    "name": "stdout", 
                    "text": "Run status: initializing\nRun status: completed\n"
                }
            ], 
            "source": "status = run_details['status']\nid = run_details['id']\n\nprint(\"Run status: {}\".format(status))\n\nstart_time = time.time()\nelapsed_time = 0\n\nwhile status != 'completed' and elapsed_time < 60:\n    time.sleep(10)\n    run_details = subscription.quality_monitoring.get_run_details(run_uid=id)\n    status = run_details['status']\n    elapsed_time = time.time() - start_time\n    print(\"Run status: {}\".format(status))"
        }, 
        {
            "source": "### Show the quality metrics", 
            "cell_type": "markdown", 
            "metadata": {}
        }, 
        {
            "execution_count": 48, 
            "cell_type": "code", 
            "metadata": {}, 
            "outputs": [
                {
                    "output_type": "display_data", 
                    "data": {
                        "text/html": "<HTML>\n        <body>\n            <h3>QualityMetrics (binding_id=073ccc69-bb6f-424a-b887-b3c0bdb2c77f, subscription_id=72519e05bd423560d4a919153e6dc029)</h3>\n            <table style='border: 1px solid #dddddd; font-family: Courier'>\n                <th style='border: 1px solid #dddddd'>ts</th><th style='border: 1px solid #dddddd'>quality</th><th style='border: 1px solid #dddddd'>quality_threshold</th><th style='border: 1px solid #dddddd'>binding_id</th><th style='border: 1px solid #dddddd'>subscription_id</th><th style='border: 1px solid #dddddd'>deployment_id</th><th style='border: 1px solid #dddddd'>process</th><th style='border: 1px solid #dddddd'>asset_revision</th>\n                <tr><td style='border: 1px solid #dddddd'>2018-12-14 14:13:23.700000+00:00</td><td style='border: 1px solid #dddddd'>0.9090909090909091</td><td style='border: 1px solid #dddddd'>0.7</td><td style='border: 1px solid #dddddd'>073ccc69-bb6f-424a-b887-b3c0bdb2c77f</td><td style='border: 1px solid #dddddd'>72519e05bd423560d4a919153e6dc029</td><td style='border: 1px solid #dddddd'>59ae603e9261ceda7d66953909de0096</td><td style='border: 1px solid #dddddd'>Accuracy_evaluation_456f6344-e16a-4f5b-8f3b-db84ac6f8b40</td><td style='border: 1px solid #dddddd'></td></tr>\n            </table>\n        </body>\n        </HTML>", 
                        "text/plain": "<IPython.core.display.HTML object>"
                    }, 
                    "metadata": {}
                }
            ], 
            "source": "subscription.quality_monitoring.show_table()"
        }, 
        {
            "source": "Get all calculated metrics.", 
            "cell_type": "markdown", 
            "metadata": {}
        }, 
        {
            "execution_count": 50, 
            "cell_type": "code", 
            "metadata": {}, 
            "outputs": [], 
            "source": "deployment_uids = subscription.get_deployment_uids()"
        }, 
        {
            "execution_count": 51, 
            "cell_type": "code", 
            "metadata": {}, 
            "outputs": [
                {
                    "execution_count": 51, 
                    "metadata": {}, 
                    "data": {
                        "text/plain": "{'end': '2018-12-14T14:14:32.690343Z',\n 'metrics': [{'process': 'Accuracy_evaluation_456f6344-e16a-4f5b-8f3b-db84ac6f8b40',\n   'timestamp': '2018-12-14T14:13:23.700Z',\n   'value': {'metrics': [{'name': 'weightedTruePositiveRate',\n      'value': 0.9090909090909091},\n     {'name': 'accuracy', 'value': 0.9090909090909091},\n     {'name': 'weightedFMeasure', 'value': 0.8658008658008658},\n     {'name': 'weightedRecall', 'value': 0.9090909090909091},\n     {'name': 'weightedFalsePositiveRate', 'value': 0.9090909090909091},\n     {'name': 'weightedPrecision', 'value': 0.8264462809917354}],\n    'quality': 0.9090909090909091,\n    'threshold': 0.7}}],\n 'start': '2018-12-14T13:11:19.945Z'}"
                    }, 
                    "output_type": "execute_result"
                }
            ], 
            "source": "subscription.quality_monitoring.get_metrics(deployment_uid=deployment_uids[0])"
        }, 
        {
            "source": "<a id=\"datamart\"></a>\n## 6. Get the logged data", 
            "cell_type": "markdown", 
            "metadata": {}
        }, 
        {
            "source": "### 6.1 Payload logging", 
            "cell_type": "markdown", 
            "metadata": {}
        }, 
        {
            "source": "#### Print schema of payload_logging table", 
            "cell_type": "markdown", 
            "metadata": {}
        }, 
        {
            "execution_count": 52, 
            "cell_type": "code", 
            "metadata": {}, 
            "outputs": [
                {
                    "output_type": "display_data", 
                    "data": {
                        "text/html": "<HTML>\n        <body>\n            <h3>Schema of Payload_72519e05bd423560d4a919153e6dc029</h3>\n            <table style='border: 1px solid #dddddd; font-family: Courier'>\n                <th style='border: 1px solid #dddddd'>name</th><th style='border: 1px solid #dddddd'>type</th><th style='border: 1px solid #dddddd'>nullable</th>\n                <tr><td style='border: 1px solid #dddddd'>scoring_id</td><td style='border: 1px solid #dddddd'>string</td><td style='border: 1px solid #dddddd'>False</td></tr><tr><td style='border: 1px solid #dddddd'>scoring_timestamp</td><td style='border: 1px solid #dddddd'>timestamp</td><td style='border: 1px solid #dddddd'>False</td></tr><tr><td style='border: 1px solid #dddddd'>deployment_id</td><td style='border: 1px solid #dddddd'>string</td><td style='border: 1px solid #dddddd'>False</td></tr><tr><td style='border: 1px solid #dddddd'>asset_revision</td><td style='border: 1px solid #dddddd'>string</td><td style='border: 1px solid #dddddd'>True</td></tr><tr><td style='border: 1px solid #dddddd'>PROFESSION</td><td style='border: 1px solid #dddddd'>string</td><td style='border: 1px solid #dddddd'>True</td></tr><tr><td style='border: 1px solid #dddddd'>MARITAL_STATUS</td><td style='border: 1px solid #dddddd'>string</td><td style='border: 1px solid #dddddd'>True</td></tr><tr><td style='border: 1px solid #dddddd'>GENDER</td><td style='border: 1px solid #dddddd'>string</td><td style='border: 1px solid #dddddd'>True</td></tr><tr><td style='border: 1px solid #dddddd'>AGE</td><td style='border: 1px solid #dddddd'>integer</td><td style='border: 1px solid #dddddd'>True</td></tr><tr><td style='border: 1px solid #dddddd'>PRODUCT_LINE</td><td style='border: 1px solid #dddddd'>string</td><td style='border: 1px solid #dddddd'>True</td></tr><tr><td style='border: 1px solid #dddddd'>Scored Probabilities for Class \"Personal Accessories\"</td><td style='border: 1px solid #dddddd'>string</td><td style='border: 1px solid #dddddd'>True</td></tr><tr><td style='border: 1px solid #dddddd'>Scored Labels</td><td style='border: 1px solid #dddddd'>string</td><td style='border: 1px solid #dddddd'>True</td></tr><tr><td style='border: 1px solid #dddddd'>Scored Probabilities for Class \"Golf Equipment\"</td><td style='border: 1px solid #dddddd'>string</td><td style='border: 1px solid #dddddd'>True</td></tr><tr><td style='border: 1px solid #dddddd'>Scored Probabilities for Class \"Camping Equipment\"</td><td style='border: 1px solid #dddddd'>string</td><td style='border: 1px solid #dddddd'>True</td></tr><tr><td style='border: 1px solid #dddddd'>Scored Probabilities for Class \"Mountaineering Equipment\"</td><td style='border: 1px solid #dddddd'>string</td><td style='border: 1px solid #dddddd'>True</td></tr><tr><td style='border: 1px solid #dddddd'>Scored Probabilities for Class \"Outdoor Protection\"</td><td style='border: 1px solid #dddddd'>string</td><td style='border: 1px solid #dddddd'>True</td></tr><tr><td style='border: 1px solid #dddddd'>Scored Probabilities</td><td style='border: 1px solid #dddddd'>{'containsNull': False, 'type': 'array', 'elementType': 'double'}</td><td style='border: 1px solid #dddddd'>False</td></tr>\n            </table>\n        </body>\n        </HTML>", 
                        "text/plain": "<IPython.core.display.HTML object>"
                    }, 
                    "metadata": {}
                }
            ], 
            "source": "subscription.payload_logging.print_table_schema()"
        }, 
        {
            "source": "#### Show (preview) the table", 
            "cell_type": "markdown", 
            "metadata": {}
        }, 
        {
            "execution_count": 53, 
            "cell_type": "code", 
            "metadata": {}, 
            "outputs": [
                {
                    "output_type": "stream", 
                    "name": "stdout", 
                    "text": "        AGE\ncount  12.0\nmean   27.0\nstd     0.0\nmin    27.0\n25%    27.0\n50%    27.0\n75%    27.0\nmax    27.0\n"
                }, 
                {
                    "execution_count": 53, 
                    "metadata": {}, 
                    "data": {
                        "text/html": "<div>\n<style scoped>\n    .dataframe tbody tr th:only-of-type {\n        vertical-align: middle;\n    }\n\n    .dataframe tbody tr th {\n        vertical-align: top;\n    }\n\n    .dataframe thead th {\n        text-align: right;\n    }\n</style>\n<table border=\"1\" class=\"dataframe\">\n  <thead>\n    <tr style=\"text-align: right;\">\n      <th></th>\n      <th>AGE</th>\n    </tr>\n  </thead>\n  <tbody>\n    <tr>\n      <th>count</th>\n      <td>12.0</td>\n    </tr>\n    <tr>\n      <th>mean</th>\n      <td>27.0</td>\n    </tr>\n    <tr>\n      <th>std</th>\n      <td>0.0</td>\n    </tr>\n    <tr>\n      <th>min</th>\n      <td>27.0</td>\n    </tr>\n    <tr>\n      <th>25%</th>\n      <td>27.0</td>\n    </tr>\n    <tr>\n      <th>50%</th>\n      <td>27.0</td>\n    </tr>\n    <tr>\n      <th>75%</th>\n      <td>27.0</td>\n    </tr>\n    <tr>\n      <th>max</th>\n      <td>27.0</td>\n    </tr>\n  </tbody>\n</table>\n</div>", 
                        "text/plain": "        AGE\ncount  12.0\nmean   27.0\nstd     0.0\nmin    27.0\n25%    27.0\n50%    27.0\n75%    27.0\nmax    27.0"
                    }, 
                    "output_type": "execute_result"
                }
            ], 
            "source": "subscription.payload_logging.describe_table()"
        }, 
        {
            "source": "#### Return the table content as pandas dataframe", 
            "cell_type": "markdown", 
            "metadata": {}
        }, 
        {
            "execution_count": 54, 
            "cell_type": "code", 
            "metadata": {}, 
            "outputs": [], 
            "source": "pandas_df = subscription.payload_logging.get_table_content(format='pandas')"
        }, 
        {
            "source": "### 6.2 Feddback logging", 
            "cell_type": "markdown", 
            "metadata": {}
        }, 
        {
            "source": "Check the schema of table.", 
            "cell_type": "markdown", 
            "metadata": {}
        }, 
        {
            "execution_count": 55, 
            "cell_type": "code", 
            "metadata": {}, 
            "outputs": [
                {
                    "output_type": "display_data", 
                    "data": {
                        "text/html": "<HTML>\n        <body>\n            <h3>Schema of Feedback_72519e05bd423560d4a919153e6dc029</h3>\n            <table style='border: 1px solid #dddddd; font-family: Courier'>\n                <th style='border: 1px solid #dddddd'>name</th><th style='border: 1px solid #dddddd'>type</th><th style='border: 1px solid #dddddd'>nullable</th>\n                <tr><td style='border: 1px solid #dddddd'>PROFESSION</td><td style='border: 1px solid #dddddd'>string</td><td style='border: 1px solid #dddddd'>True</td></tr><tr><td style='border: 1px solid #dddddd'>MARITAL_STATUS</td><td style='border: 1px solid #dddddd'>string</td><td style='border: 1px solid #dddddd'>True</td></tr><tr><td style='border: 1px solid #dddddd'>GENDER</td><td style='border: 1px solid #dddddd'>string</td><td style='border: 1px solid #dddddd'>True</td></tr><tr><td style='border: 1px solid #dddddd'>AGE</td><td style='border: 1px solid #dddddd'>integer</td><td style='border: 1px solid #dddddd'>True</td></tr><tr><td style='border: 1px solid #dddddd'>PRODUCT_LINE</td><td style='border: 1px solid #dddddd'>string</td><td style='border: 1px solid #dddddd'>True</td></tr><tr><td style='border: 1px solid #dddddd'>_training</td><td style='border: 1px solid #dddddd'>timestamp</td><td style='border: 1px solid #dddddd'>False</td></tr>\n            </table>\n        </body>\n        </HTML>", 
                        "text/plain": "<IPython.core.display.HTML object>"
                    }, 
                    "metadata": {}
                }
            ], 
            "source": "subscription.feedback_logging.print_table_schema()"
        }, 
        {
            "source": "Preview table content.", 
            "cell_type": "markdown", 
            "metadata": {}
        }, 
        {
            "execution_count": 56, 
            "cell_type": "code", 
            "metadata": {}, 
            "outputs": [
                {
                    "output_type": "display_data", 
                    "data": {
                        "text/html": "<HTML>\n        <body>\n            <h3>Feedback_72519e05bd423560d4a919153e6dc029 (binding_id=073ccc69-bb6f-424a-b887-b3c0bdb2c77f, subscription_id=72519e05bd423560d4a919153e6dc029)</h3>\n            <table style='border: 1px solid #dddddd; font-family: Courier'>\n                <th style='border: 1px solid #dddddd'>PROFESSION</th><th style='border: 1px solid #dddddd'>MARITAL_STATUS</th><th style='border: 1px solid #dddddd'>GENDER</th><th style='border: 1px solid #dddddd'>AGE</th><th style='border: 1px solid #dddddd'>PRODUCT_LINE</th><th style='border: 1px solid #dddddd'>_training</th>\n                <tr><td style='border: 1px solid #dddddd'>Professional</td><td style='border: 1px solid #dddddd'>Single</td><td style='border: 1px solid #dddddd'>F</td><td style='border: 1px solid #dddddd'>27</td><td style='border: 1px solid #dddddd'>Personal Accessories</td><td style='border: 1px solid #dddddd'>2018-12-14 14:13:19.780000+00:00</td></tr><tr><td style='border: 1px solid #dddddd'>Professional</td><td style='border: 1px solid #dddddd'>Single</td><td style='border: 1px solid #dddddd'>M</td><td style='border: 1px solid #dddddd'>27</td><td style='border: 1px solid #dddddd'>Personal Accessories</td><td style='border: 1px solid #dddddd'>2018-12-14 14:13:19.780000+00:00</td></tr><tr><td style='border: 1px solid #dddddd'>Professional</td><td style='border: 1px solid #dddddd'>Single</td><td style='border: 1px solid #dddddd'>F</td><td style='border: 1px solid #dddddd'>27</td><td style='border: 1px solid #dddddd'>Personal Accessories</td><td style='border: 1px solid #dddddd'>2018-12-14 14:13:19.780000+00:00</td></tr><tr><td style='border: 1px solid #dddddd'>Professional</td><td style='border: 1px solid #dddddd'>Single</td><td style='border: 1px solid #dddddd'>F</td><td style='border: 1px solid #dddddd'>27</td><td style='border: 1px solid #dddddd'>Personal Accessories</td><td style='border: 1px solid #dddddd'>2018-12-14 14:13:19.780000+00:00</td></tr><tr><td style='border: 1px solid #dddddd'>Professional</td><td style='border: 1px solid #dddddd'>Single</td><td style='border: 1px solid #dddddd'>F</td><td style='border: 1px solid #dddddd'>27</td><td style='border: 1px solid #dddddd'>Personal Accessories</td><td style='border: 1px solid #dddddd'>2018-12-14 14:13:19.780000+00:00</td></tr><tr><td style='border: 1px solid #dddddd'>Professional</td><td style='border: 1px solid #dddddd'>Single</td><td style='border: 1px solid #dddddd'>F</td><td style='border: 1px solid #dddddd'>27</td><td style='border: 1px solid #dddddd'>Personal Accessories</td><td style='border: 1px solid #dddddd'>2018-12-14 14:13:19.780000+00:00</td></tr><tr><td style='border: 1px solid #dddddd'>Professional</td><td style='border: 1px solid #dddddd'>Single</td><td style='border: 1px solid #dddddd'>F</td><td style='border: 1px solid #dddddd'>27</td><td style='border: 1px solid #dddddd'>Personal Accessories</td><td style='border: 1px solid #dddddd'>2018-12-14 14:13:19.780000+00:00</td></tr><tr><td style='border: 1px solid #dddddd'>Professional</td><td style='border: 1px solid #dddddd'>Single</td><td style='border: 1px solid #dddddd'>F</td><td style='border: 1px solid #dddddd'>27</td><td style='border: 1px solid #dddddd'>Personal Accessories</td><td style='border: 1px solid #dddddd'>2018-12-14 14:13:19.780000+00:00</td></tr><tr><td style='border: 1px solid #dddddd'>Professional</td><td style='border: 1px solid #dddddd'>Single</td><td style='border: 1px solid #dddddd'>F</td><td style='border: 1px solid #dddddd'>27</td><td style='border: 1px solid #dddddd'>Personal Accessories</td><td style='border: 1px solid #dddddd'>2018-12-14 14:13:19.780000+00:00</td></tr><tr><td style='border: 1px solid #dddddd'>Professional</td><td style='border: 1px solid #dddddd'>Single</td><td style='border: 1px solid #dddddd'>F</td><td style='border: 1px solid #dddddd'>27</td><td style='border: 1px solid #dddddd'>Personal Accessories</td><td style='border: 1px solid #dddddd'>2018-12-14 14:13:19.780000+00:00</td></tr>\n            </table>\n        </body>\n        </HTML>", 
                        "text/plain": "<IPython.core.display.HTML object>"
                    }, 
                    "metadata": {}
                }, 
                {
                    "output_type": "stream", 
                    "name": "stdout", 
                    "text": "Note: First 10 records were displayed.\n"
                }
            ], 
            "source": "subscription.feedback_logging.show_table()"
        }, 
        {
            "source": "Describe table (calulcate basic statistics).", 
            "cell_type": "markdown", 
            "metadata": {}
        }, 
        {
            "execution_count": 57, 
            "cell_type": "code", 
            "metadata": {}, 
            "outputs": [
                {
                    "output_type": "stream", 
                    "name": "stdout", 
                    "text": "        AGE\ncount  11.0\nmean   27.0\nstd     0.0\nmin    27.0\n25%    27.0\n50%    27.0\n75%    27.0\nmax    27.0\n"
                }
            ], 
            "source": "subscription.feedback_logging.describe_table()"
        }, 
        {
            "source": "Get table content.", 
            "cell_type": "markdown", 
            "metadata": {}
        }, 
        {
            "execution_count": 58, 
            "cell_type": "code", 
            "metadata": {}, 
            "outputs": [], 
            "source": "feedback_pd = subscription.feedback_logging.get_table_content(format='pandas')"
        }, 
        {
            "source": "### 6.3 Quality metrics table", 
            "cell_type": "markdown", 
            "metadata": {}
        }, 
        {
            "execution_count": 59, 
            "cell_type": "code", 
            "metadata": {}, 
            "outputs": [
                {
                    "output_type": "display_data", 
                    "data": {
                        "text/html": "<HTML>\n        <body>\n            <h3>Schema of QualityMetrics</h3>\n            <table style='border: 1px solid #dddddd; font-family: Courier'>\n                <th style='border: 1px solid #dddddd'>name</th><th style='border: 1px solid #dddddd'>type</th><th style='border: 1px solid #dddddd'>nullable</th>\n                <tr><td style='border: 1px solid #dddddd'>ts</td><td style='border: 1px solid #dddddd'>timestamp</td><td style='border: 1px solid #dddddd'>False</td></tr><tr><td style='border: 1px solid #dddddd'>quality</td><td style='border: 1px solid #dddddd'>float</td><td style='border: 1px solid #dddddd'>False</td></tr><tr><td style='border: 1px solid #dddddd'>quality_threshold</td><td style='border: 1px solid #dddddd'>float</td><td style='border: 1px solid #dddddd'>False</td></tr><tr><td style='border: 1px solid #dddddd'>binding_id</td><td style='border: 1px solid #dddddd'>string</td><td style='border: 1px solid #dddddd'>False</td></tr><tr><td style='border: 1px solid #dddddd'>subscription_id</td><td style='border: 1px solid #dddddd'>string</td><td style='border: 1px solid #dddddd'>False</td></tr><tr><td style='border: 1px solid #dddddd'>deployment_id</td><td style='border: 1px solid #dddddd'>string</td><td style='border: 1px solid #dddddd'>True</td></tr><tr><td style='border: 1px solid #dddddd'>process</td><td style='border: 1px solid #dddddd'>string</td><td style='border: 1px solid #dddddd'>False</td></tr><tr><td style='border: 1px solid #dddddd'>asset_revision</td><td style='border: 1px solid #dddddd'>string</td><td style='border: 1px solid #dddddd'>True</td></tr>\n            </table>\n        </body>\n        </HTML>", 
                        "text/plain": "<IPython.core.display.HTML object>"
                    }, 
                    "metadata": {}
                }
            ], 
            "source": "subscription.quality_monitoring.print_table_schema()"
        }, 
        {
            "execution_count": 60, 
            "cell_type": "code", 
            "metadata": {}, 
            "outputs": [
                {
                    "output_type": "display_data", 
                    "data": {
                        "text/html": "<HTML>\n        <body>\n            <h3>QualityMetrics (binding_id=073ccc69-bb6f-424a-b887-b3c0bdb2c77f, subscription_id=72519e05bd423560d4a919153e6dc029)</h3>\n            <table style='border: 1px solid #dddddd; font-family: Courier'>\n                <th style='border: 1px solid #dddddd'>ts</th><th style='border: 1px solid #dddddd'>quality</th><th style='border: 1px solid #dddddd'>quality_threshold</th><th style='border: 1px solid #dddddd'>binding_id</th><th style='border: 1px solid #dddddd'>subscription_id</th><th style='border: 1px solid #dddddd'>deployment_id</th><th style='border: 1px solid #dddddd'>process</th><th style='border: 1px solid #dddddd'>asset_revision</th>\n                <tr><td style='border: 1px solid #dddddd'>2018-12-14 14:13:23.700000+00:00</td><td style='border: 1px solid #dddddd'>0.9090909090909091</td><td style='border: 1px solid #dddddd'>0.7</td><td style='border: 1px solid #dddddd'>073ccc69-bb6f-424a-b887-b3c0bdb2c77f</td><td style='border: 1px solid #dddddd'>72519e05bd423560d4a919153e6dc029</td><td style='border: 1px solid #dddddd'>59ae603e9261ceda7d66953909de0096</td><td style='border: 1px solid #dddddd'>Accuracy_evaluation_456f6344-e16a-4f5b-8f3b-db84ac6f8b40</td><td style='border: 1px solid #dddddd'></td></tr>\n            </table>\n        </body>\n        </HTML>", 
                        "text/plain": "<IPython.core.display.HTML object>"
                    }, 
                    "metadata": {}
                }
            ], 
            "source": "subscription.quality_monitoring.show_table()"
        }, 
        {
            "source": "### 6.4 Performance metrics table", 
            "cell_type": "markdown", 
            "metadata": {}
        }, 
        {
            "execution_count": 61, 
            "cell_type": "code", 
            "metadata": {}, 
            "outputs": [
                {
                    "output_type": "display_data", 
                    "data": {
                        "text/html": "<HTML>\n        <body>\n            <h3>Schema of PerformanceMetrics</h3>\n            <table style='border: 1px solid #dddddd; font-family: Courier'>\n                <th style='border: 1px solid #dddddd'>name</th><th style='border: 1px solid #dddddd'>type</th><th style='border: 1px solid #dddddd'>nullable</th>\n                <tr><td style='border: 1px solid #dddddd'>ts</td><td style='border: 1px solid #dddddd'>timestamp</td><td style='border: 1px solid #dddddd'>False</td></tr><tr><td style='border: 1px solid #dddddd'>scoring_time</td><td style='border: 1px solid #dddddd'>float</td><td style='border: 1px solid #dddddd'>False</td></tr><tr><td style='border: 1px solid #dddddd'>scoring_records</td><td style='border: 1px solid #dddddd'>object</td><td style='border: 1px solid #dddddd'>False</td></tr><tr><td style='border: 1px solid #dddddd'>binding_id</td><td style='border: 1px solid #dddddd'>string</td><td style='border: 1px solid #dddddd'>False</td></tr><tr><td style='border: 1px solid #dddddd'>subscription_id</td><td style='border: 1px solid #dddddd'>string</td><td style='border: 1px solid #dddddd'>False</td></tr><tr><td style='border: 1px solid #dddddd'>deployment_id</td><td style='border: 1px solid #dddddd'>string</td><td style='border: 1px solid #dddddd'>True</td></tr><tr><td style='border: 1px solid #dddddd'>process</td><td style='border: 1px solid #dddddd'>string</td><td style='border: 1px solid #dddddd'>False</td></tr><tr><td style='border: 1px solid #dddddd'>asset_revision</td><td style='border: 1px solid #dddddd'>string</td><td style='border: 1px solid #dddddd'>True</td></tr>\n            </table>\n        </body>\n        </HTML>", 
                        "text/plain": "<IPython.core.display.HTML object>"
                    }, 
                    "metadata": {}
                }
            ], 
            "source": "subscription.performance_monitoring.print_table_schema()"
        }, 
        {
            "execution_count": 62, 
            "cell_type": "code", 
            "metadata": {}, 
            "outputs": [
                {
                    "output_type": "display_data", 
                    "data": {
                        "text/html": "<HTML>\n        <body>\n            <h3>PerformanceMetrics (binding_id=073ccc69-bb6f-424a-b887-b3c0bdb2c77f, subscription_id=72519e05bd423560d4a919153e6dc029)</h3>\n            <table style='border: 1px solid #dddddd; font-family: Courier'>\n                <th style='border: 1px solid #dddddd'>ts</th><th style='border: 1px solid #dddddd'>scoring_time</th><th style='border: 1px solid #dddddd'>scoring_records</th><th style='border: 1px solid #dddddd'>binding_id</th><th style='border: 1px solid #dddddd'>subscription_id</th><th style='border: 1px solid #dddddd'>deployment_id</th><th style='border: 1px solid #dddddd'>process</th><th style='border: 1px solid #dddddd'>asset_revision</th>\n                <tr><td style='border: 1px solid #dddddd'>2018-12-14 14:10:50.310809+00:00</td><td style='border: 1px solid #dddddd'>0.0</td><td style='border: 1px solid #dddddd'>1</td><td style='border: 1px solid #dddddd'>073ccc69-bb6f-424a-b887-b3c0bdb2c77f</td><td style='border: 1px solid #dddddd'>72519e05bd423560d4a919153e6dc029</td><td style='border: 1px solid #dddddd'>59ae603e9261ceda7d66953909de0096</td><td style='border: 1px solid #dddddd'></td><td style='border: 1px solid #dddddd'></td></tr><tr><td style='border: 1px solid #dddddd'>2018-12-14 14:10:50.310915+00:00</td><td style='border: 1px solid #dddddd'>0.0</td><td style='border: 1px solid #dddddd'>1</td><td style='border: 1px solid #dddddd'>073ccc69-bb6f-424a-b887-b3c0bdb2c77f</td><td style='border: 1px solid #dddddd'>72519e05bd423560d4a919153e6dc029</td><td style='border: 1px solid #dddddd'>59ae603e9261ceda7d66953909de0096</td><td style='border: 1px solid #dddddd'></td><td style='border: 1px solid #dddddd'></td></tr><tr><td style='border: 1px solid #dddddd'>2018-12-14 14:10:50.310848+00:00</td><td style='border: 1px solid #dddddd'>0.0</td><td style='border: 1px solid #dddddd'>1</td><td style='border: 1px solid #dddddd'>073ccc69-bb6f-424a-b887-b3c0bdb2c77f</td><td style='border: 1px solid #dddddd'>72519e05bd423560d4a919153e6dc029</td><td style='border: 1px solid #dddddd'>59ae603e9261ceda7d66953909de0096</td><td style='border: 1px solid #dddddd'></td><td style='border: 1px solid #dddddd'></td></tr><tr><td style='border: 1px solid #dddddd'>2018-12-14 14:10:50.310947+00:00</td><td style='border: 1px solid #dddddd'>0.0</td><td style='border: 1px solid #dddddd'>1</td><td style='border: 1px solid #dddddd'>073ccc69-bb6f-424a-b887-b3c0bdb2c77f</td><td style='border: 1px solid #dddddd'>72519e05bd423560d4a919153e6dc029</td><td style='border: 1px solid #dddddd'>59ae603e9261ceda7d66953909de0096</td><td style='border: 1px solid #dddddd'></td><td style='border: 1px solid #dddddd'></td></tr><tr><td style='border: 1px solid #dddddd'>2018-12-14 14:10:50.310756+00:00</td><td style='border: 1px solid #dddddd'>0.0</td><td style='border: 1px solid #dddddd'>1</td><td style='border: 1px solid #dddddd'>073ccc69-bb6f-424a-b887-b3c0bdb2c77f</td><td style='border: 1px solid #dddddd'>72519e05bd423560d4a919153e6dc029</td><td style='border: 1px solid #dddddd'>59ae603e9261ceda7d66953909de0096</td><td style='border: 1px solid #dddddd'></td><td style='border: 1px solid #dddddd'></td></tr><tr><td style='border: 1px solid #dddddd'>2018-12-14 14:10:50.310899+00:00</td><td style='border: 1px solid #dddddd'>0.0</td><td style='border: 1px solid #dddddd'>1</td><td style='border: 1px solid #dddddd'>073ccc69-bb6f-424a-b887-b3c0bdb2c77f</td><td style='border: 1px solid #dddddd'>72519e05bd423560d4a919153e6dc029</td><td style='border: 1px solid #dddddd'>59ae603e9261ceda7d66953909de0096</td><td style='border: 1px solid #dddddd'></td><td style='border: 1px solid #dddddd'></td></tr><tr><td style='border: 1px solid #dddddd'>2018-12-14 14:10:50.310883+00:00</td><td style='border: 1px solid #dddddd'>0.0</td><td style='border: 1px solid #dddddd'>1</td><td style='border: 1px solid #dddddd'>073ccc69-bb6f-424a-b887-b3c0bdb2c77f</td><td style='border: 1px solid #dddddd'>72519e05bd423560d4a919153e6dc029</td><td style='border: 1px solid #dddddd'>59ae603e9261ceda7d66953909de0096</td><td style='border: 1px solid #dddddd'></td><td style='border: 1px solid #dddddd'></td></tr><tr><td style='border: 1px solid #dddddd'>2018-12-14 14:10:50.310867+00:00</td><td style='border: 1px solid #dddddd'>0.0</td><td style='border: 1px solid #dddddd'>1</td><td style='border: 1px solid #dddddd'>073ccc69-bb6f-424a-b887-b3c0bdb2c77f</td><td style='border: 1px solid #dddddd'>72519e05bd423560d4a919153e6dc029</td><td style='border: 1px solid #dddddd'>59ae603e9261ceda7d66953909de0096</td><td style='border: 1px solid #dddddd'></td><td style='border: 1px solid #dddddd'></td></tr><tr><td style='border: 1px solid #dddddd'>2018-12-14 14:10:50.310962+00:00</td><td style='border: 1px solid #dddddd'>0.0</td><td style='border: 1px solid #dddddd'>1</td><td style='border: 1px solid #dddddd'>073ccc69-bb6f-424a-b887-b3c0bdb2c77f</td><td style='border: 1px solid #dddddd'>72519e05bd423560d4a919153e6dc029</td><td style='border: 1px solid #dddddd'>59ae603e9261ceda7d66953909de0096</td><td style='border: 1px solid #dddddd'></td><td style='border: 1px solid #dddddd'></td></tr><tr><td style='border: 1px solid #dddddd'>2018-12-14 14:10:50.310830+00:00</td><td style='border: 1px solid #dddddd'>0.0</td><td style='border: 1px solid #dddddd'>1</td><td style='border: 1px solid #dddddd'>073ccc69-bb6f-424a-b887-b3c0bdb2c77f</td><td style='border: 1px solid #dddddd'>72519e05bd423560d4a919153e6dc029</td><td style='border: 1px solid #dddddd'>59ae603e9261ceda7d66953909de0096</td><td style='border: 1px solid #dddddd'></td><td style='border: 1px solid #dddddd'></td></tr>\n            </table>\n        </body>\n        </HTML>", 
                        "text/plain": "<IPython.core.display.HTML object>"
                    }, 
                    "metadata": {}
                }, 
                {
                    "output_type": "stream", 
                    "name": "stdout", 
                    "text": "Note: First 10 records were displayed.\n"
                }
            ], 
            "source": "subscription.performance_monitoring.show_table()"
        }, 
        {
            "source": "### 6.5 Data Mart measurement facts table", 
            "cell_type": "markdown", 
            "metadata": {}
        }, 
        {
            "execution_count": 63, 
            "cell_type": "code", 
            "metadata": {}, 
            "outputs": [
                {
                    "execution_count": 63, 
                    "metadata": {}, 
                    "data": {
                        "text/plain": "{'deployment_metrics': [{'asset': {'asset_id': '72519e05bd423560d4a919153e6dc029',\n    'asset_type': 'model',\n    'created_at': '2018-11-02T11:40:59.563349Z',\n    'name': 'ProductLineClass.2018.11.2.11.40.22.845',\n    'url': 'https://ussouthcentral.services.azureml.net/subscriptions/744bca722299451cb682ed6fb75fb671/services/ae62976ad690472eaf4f9797075ed831/swagger.json'},\n   'deployment': {'created_at': '2018-11-02T11:40:59.563349Z',\n    'deployment_id': '59ae603e9261ceda7d66953909de0096',\n    'deployment_type': 'online',\n    'name': 'ProductLineClass.2018.11.2.11.40.22.845',\n    'url': 'https://ussouthcentral.services.azureml.net:443/subscriptions/744bca722299451cb682ed6fb75fb671/services/ae62976ad690472eaf4f9797075ed831/execute?api-version=2.0&format=swagger'},\n   'metrics': [{'issues': 0,\n     'metric_type': 'performance',\n     'timestamp': '2018-12-14T14:10:50.310962Z',\n     'value': {'records': 1, 'response_time': 0.0}},\n    {'issues': 0,\n     'metric_type': 'quality',\n     'timestamp': '2018-12-14T14:13:23.700Z',\n     'value': {'metrics': [{'name': 'weightedTruePositiveRate',\n        'value': 0.9090909090909091},\n       {'name': 'accuracy', 'value': 0.9090909090909091},\n       {'name': 'weightedFMeasure', 'value': 0.8658008658008658},\n       {'name': 'weightedRecall', 'value': 0.9090909090909091},\n       {'name': 'weightedFalsePositiveRate', 'value': 0.9090909090909091},\n       {'name': 'weightedPrecision', 'value': 0.8264462809917354}],\n      'quality': 0.9090909090909091,\n      'threshold': 0.7}}],\n   'subscription': {'subscription_id': '72519e05bd423560d4a919153e6dc029',\n    'url': '/v1/data_marts/e3a38ab0-3884-454c-abc0-5e535eec36e6/service_bindings/073ccc69-bb6f-424a-b887-b3c0bdb2c77f/subscriptions/72519e05bd423560d4a919153e6dc029'}}]}"
                    }, 
                    "output_type": "execute_result"
                }
            ], 
            "source": "client.data_mart.get_deployment_metrics()"
        }, 
        {
            "source": "---", 
            "cell_type": "markdown", 
            "metadata": {}
        }, 
        {
            "source": "### Authors\nLukasz Cmielowski, PhD, is an Automation Architect and Data Scientist at IBM with a track record of developing enterprise-level applications that substantially increases clients' ability to turn data into actionable knowledge.", 
            "cell_type": "markdown", 
            "metadata": {}
        }
    ], 
    "metadata": {
        "kernelspec": {
            "display_name": "Python 3.5", 
            "name": "python3", 
            "language": "python"
        }, 
        "language_info": {
            "mimetype": "text/x-python", 
            "nbconvert_exporter": "python", 
            "version": "3.5.5", 
            "name": "python", 
            "file_extension": ".py", 
            "pygments_lexer": "ipython3", 
            "codemirror_mode": {
                "version": 3, 
                "name": "ipython"
            }
        }
    }, 
    "nbformat": 4
}