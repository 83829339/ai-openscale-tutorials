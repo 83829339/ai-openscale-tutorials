{
    "nbformat_minor": 2, 
    "cells": [
        {
            "source": "# Deploy credit risk classification model in Azure Container Instance (ACI)", 
            "cell_type": "markdown", 
            "metadata": {}
        }, 
        {
            "source": "Your model will be deployed as a web service in [Azure Container Instances](https://docs.microsoft.com/azure/container-instances/) (ACI). A web service is an image, in this case a Docker image, that encapsulates the scoring logic and the model itself. \n\nYou will learn how to deploy model on Azure Machine Learning service:\n\n - Get and test the sample model locally\n - Register the model to your Azure workspace\n - Deploy the model to ACI\n - Test the deployed model", 
            "cell_type": "markdown", 
            "metadata": {}
        }, 
        {
            "source": "**Note:** ACI is a great solution for testing and understanding the workflow. For scalable production deployments, consider using Azure Kubernetes Service. For more information, see [how to deploy and where](https://docs.microsoft.com/azure/machine-learning/service/how-to-deploy-and-where).\n\nSample model was created using scikit-learn version: `0.20.2`. Model predict if there is a risk for credit.", 
            "cell_type": "markdown", 
            "metadata": {}
        }, 
        {
            "source": "## Install required python packages", 
            "cell_type": "markdown", 
            "metadata": {}
        }, 
        {
            "execution_count": 1, 
            "cell_type": "code", 
            "metadata": {}, 
            "outputs": [
                {
                    "output_type": "stream", 
                    "name": "stdout", 
                    "text": "\u001b[31mtensorflow 1.3.0 requires tensorflow-tensorboard<0.2.0,>=0.1.0, which is not installed.\u001b[0m\n\u001b[31mazureml-core 1.0.45 has requirement ruamel.yaml<=0.15.89,>=0.15.35, but you'll have ruamel-yaml 0.11.14 which is incompatible.\u001b[0m\nRequirement not upgraded as not directly required: scipy>=0.13.3 in /opt/conda/envs/DSX-Python35/lib/python3.5/site-packages (from scikit-learn==0.20.2) (1.0.0)\n\u001b[31mtensorflow 1.3.0 requires tensorflow-tensorboard<0.2.0,>=0.1.0, which is not installed.\u001b[0m\n\u001b[31mazureml-core 1.0.45 has requirement ruamel.yaml<=0.15.89,>=0.15.35, but you'll have ruamel-yaml 0.11.14 which is incompatible.\u001b[0m\nRequirement not upgraded as not directly required: pycparser in /opt/conda/envs/DSX-Python35/lib/python3.5/site-packages (from cffi!=1.11.3,>=1.8->cryptography!=1.9,!=2.0.*,!=2.1.*,!=2.2.*->azureml-core) (2.18)\n"
                }
            ], 
            "source": "!pip install --upgrade scikit-learn==0.20.2 | tail -n 1\n!pip install --upgrade azureml-core  | tail -n 1"
        }, 
        {
            "source": "### Action: Restart the kernel", 
            "cell_type": "markdown", 
            "metadata": {}
        }, 
        {
            "source": "## Get sample model", 
            "cell_type": "markdown", 
            "metadata": {}
        }, 
        {
            "execution_count": 18, 
            "cell_type": "code", 
            "metadata": {}, 
            "outputs": [
                {
                    "output_type": "stream", 
                    "name": "stdout", 
                    "text": "--2019-06-27 10:34:50--  https://github.com/pmservice/ai-openscale-tutorials/raw/master/applications/custom-ml-engine-bluemix/models/credit/german_credit_risk.joblib\nResolving github.com (github.com)... 192.30.253.113\nConnecting to github.com (github.com)|192.30.253.113|:443... connected.\nHTTP request sent, awaiting response... 302 Found\nLocation: https://raw.githubusercontent.com/pmservice/ai-openscale-tutorials/master/applications/custom-ml-engine-bluemix/models/credit/german_credit_risk.joblib [following]\n--2019-06-27 10:34:50--  https://raw.githubusercontent.com/pmservice/ai-openscale-tutorials/master/applications/custom-ml-engine-bluemix/models/credit/german_credit_risk.joblib\nResolving raw.githubusercontent.com (raw.githubusercontent.com)... 199.232.8.133\nConnecting to raw.githubusercontent.com (raw.githubusercontent.com)|199.232.8.133|:443... connected.\nHTTP request sent, awaiting response... 200 OK\nLength: 9183 (9.0K) [application/octet-stream]\nSaving to: \u2018german_credit_risk.joblib\u2019\n\n100%[======================================>] 9,183       --.-K/s   in 0.001s  \n\n2019-06-27 10:34:50 (7.38 MB/s) - \u2018german_credit_risk.joblib\u2019 saved [9183/9183]\n\n"
                }
            ], 
            "source": "!rm -rf german_credit_risk.joblib\n!wget https://github.com/pmservice/ai-openscale-tutorials/raw/master/applications/custom-ml-engine-bluemix/models/credit/german_credit_risk.joblib"
        }, 
        {
            "source": "### Load model from local file", 
            "cell_type": "markdown", 
            "metadata": {}
        }, 
        {
            "execution_count": null, 
            "cell_type": "code", 
            "metadata": {}, 
            "outputs": [], 
            "source": "from sklearn.externals import joblib"
        }, 
        {
            "execution_count": 77, 
            "cell_type": "code", 
            "metadata": {}, 
            "outputs": [], 
            "source": "clf = joblib.load(os.path.join(os.getcwd(), model_path))"
        }, 
        {
            "source": "## Test model locally", 
            "cell_type": "markdown", 
            "metadata": {}
        }, 
        {
            "execution_count": 78, 
            "cell_type": "code", 
            "metadata": {}, 
            "outputs": [], 
            "source": "import numpy as np\nimport pandas as pd\nfrom sklearn.metrics import accuracy_score"
        }, 
        {
            "source": "### Load test data", 
            "cell_type": "markdown", 
            "metadata": {}
        }, 
        {
            "execution_count": 79, 
            "cell_type": "code", 
            "metadata": {}, 
            "outputs": [
                {
                    "output_type": "stream", 
                    "name": "stdout", 
                    "text": "--2019-06-27 12:41:48--  https://raw.githubusercontent.com/pmservice/ai-openscale-tutorials/master/notebooks/data/credit_risk_training.csv\nResolving raw.githubusercontent.com (raw.githubusercontent.com)... 151.101.48.133\nConnecting to raw.githubusercontent.com (raw.githubusercontent.com)|151.101.48.133|:443... connected.\nHTTP request sent, awaiting response... 200 OK\nLength: 694222 (678K) [text/plain]\nSaving to: \u2018credit_risk_training.csv\u2019\n\n100%[======================================>] 694,222     --.-K/s   in 0.02s   \n\n2019-06-27 12:41:48 (28.1 MB/s) - \u2018credit_risk_training.csv\u2019 saved [694222/694222]\n\n"
                }
            ], 
            "source": "!rm -rf credit_risk_training.csv\n!wget https://raw.githubusercontent.com/pmservice/ai-openscale-tutorials/master/notebooks/data/credit_risk_training.csv"
        }, 
        {
            "execution_count": 80, 
            "cell_type": "code", 
            "metadata": {}, 
            "outputs": [], 
            "source": "data_df = pd.read_csv(\"credit_risk_training.csv\",\n                      dtype={'LoanDuration': int, \n                             'LoanAmount': int, \n                             'InstallmentPercent': int, \n                             'CurrentResidenceDuration': int, \n                             'Age': int, \n                             'ExistingCreditsCount': int, \n                             'Dependents': int})\ntest_data = data_df\ntest_data = test_data.drop('Risk', axis=1)"
        }, 
        {
            "source": "### Predict on test data", 
            "cell_type": "markdown", 
            "metadata": {}
        }, 
        {
            "execution_count": 86, 
            "cell_type": "code", 
            "metadata": {}, 
            "outputs": [
                {
                    "output_type": "stream", 
                    "name": "stdout", 
                    "text": "Model accuracy: 0.778\n"
                }
            ], 
            "source": "predictions = clf['postprocessing'](clf['model'].predict(test_data))\n\nprint(\"Model accuracy: {:.3f}\".format(accuracy_score(data_df.Risk, predictions)))"
        }, 
        {
            "source": "## Register model", 
            "cell_type": "markdown", 
            "metadata": {}
        }, 
        {
            "execution_count": null, 
            "cell_type": "code", 
            "metadata": {}, 
            "outputs": [], 
            "source": "import os\nfrom azureml.core import Workspace\nfrom azureml.core.model import Model\nfrom azureml.core.authentication import InteractiveLoginAuthentication"
        }, 
        {
            "execution_count": 19, 
            "cell_type": "code", 
            "metadata": {}, 
            "outputs": [], 
            "source": "model_name = \"german_credit_risk\"\nmodel_path = \"german_credit_risk.joblib\""
        }, 
        {
            "source": "Please provide your Azure ML Service credentials.", 
            "cell_type": "markdown", 
            "metadata": {}
        }, 
        {
            "execution_count": 87, 
            "cell_type": "code", 
            "metadata": {}, 
            "outputs": [], 
            "source": "az_ml_service_credentials = {'tenant_id': '***',\n                             'subscription_id': '***', \n                             'resource_group': '***',\n                             'workspace_name': '***'}"
        }, 
        {
            "execution_count": 43, 
            "cell_type": "code", 
            "metadata": {}, 
            "outputs": [], 
            "source": "# The code was removed by Watson Studio for sharing."
        }, 
        {
            "execution_count": 17, 
            "cell_type": "code", 
            "metadata": {}, 
            "outputs": [
                {
                    "output_type": "stream", 
                    "name": "stdout", 
                    "text": "Performing interactive authentication. Please follow the instructions on the terminal.\nTo sign in, use a web browser to open the page https://microsoft.com/devicelogin and enter the code FH8DE6L2F to authenticate.\nInteractive authentication successfully completed.\n"
                }
            ], 
            "source": "interactive_auth = InteractiveLoginAuthentication(tenant_id=az_ml_service_credentials['tenant_id'])\n\nws = Workspace(subscription_id=az_ml_service_credentials['subscription_id'], \n               resource_group=az_ml_service_credentials['resource_group'], \n               workspace_name=az_ml_service_credentials['workspace_name'], \n               auth=interactive_auth)"
        }, 
        {
            "execution_count": 41, 
            "cell_type": "code", 
            "metadata": {
                "tags": [
                    "register model from file"
                ]
            }, 
            "outputs": [
                {
                    "output_type": "stream", 
                    "name": "stdout", 
                    "text": "Registering model german_credit_risk\n"
                }
            ], 
            "source": "model = Model.register(model_path=model_path, \n                       model_name=model_name, \n                       tags={\"data\": \"german_credit_risk\", \"model\": \"classification\"},\n                       description=\"credit risk sample scikit model from Watson Studio\",\n                       workspace=ws)"
        }, 
        {
            "source": "## Deploy model as web service", 
            "cell_type": "markdown", 
            "metadata": {}
        }, 
        {
            "source": "To build the correct environment for ACI, provide the following:\n\n - A scoring script to show how to use the model\n - An environment file to show what packages need to be installed\n - A configuration file to build the ACI\n - The model you trained before", 
            "cell_type": "markdown", 
            "metadata": {}
        }, 
        {
            "source": "### Create scoring script\n\nCreate the scoring script, called `score.py`, used by the web service call to show how to use the model.\n\nYou must include two required functions into the scoring script:\n - The `init()` function, which typically loads the model into a global object. This function is run only once when the Docker container is started. \n\n - The `run(input_data)` function uses the model to predict a value based on the input data. Inputs and outputs to the run typically use JSON for serialization and de-serialization, but other formats are supported.", 
            "cell_type": "markdown", 
            "metadata": {}
        }, 
        {
            "execution_count": 53, 
            "cell_type": "code", 
            "metadata": {}, 
            "outputs": [
                {
                    "output_type": "stream", 
                    "name": "stdout", 
                    "text": "Writing score_azure.py\n"
                }
            ], 
            "source": "%%writefile score_azure.py\nimport json\nimport numpy as np\nimport os\nimport pandas as pd\nfrom sklearn.externals import joblib\nfrom sklearn.linear_model import LogisticRegression\nfrom azureml.core.model import Model\n\ndef init():\n    global model\n    model_path = Model.get_model_path('german_credit_risk')\n    model = joblib.load(model_path)\n\ndef run(input_data):\n    try:\n        if type(input_data) is str:\n            dict_data = json.loads(input_data)\n        else:\n            dict_data = input_data\n            \n        data = pd.DataFrame.from_dict(dict_data['input'])   \n        predictions = model['postprocessing'](model['model'].predict(data))\n        scores = model['model'].predict_proba(data).tolist()\n        records = []\n        \n        for pred, prob in zip(predictions, scores):\n            records.append({\"Scored Labels\": pred, \"Scored Probabilities\": prob})\n \n        result = {'output': records}\n        \n        return json.dumps(result)\n    except Exception as e:\n        result = str(e)\n        # return error message back to the client\n        return json.dumps({\"error\": result})"
        }, 
        {
            "source": "### Create environment file\n\nCreate an environment file, called `myenv.yml`, that specifies all of the script's package dependencies. \n\nThis file is used to ensure that all of those dependencies are installed in the Docker image.", 
            "cell_type": "markdown", 
            "metadata": {}
        }, 
        {
            "execution_count": 54, 
            "cell_type": "code", 
            "metadata": {
                "tags": [
                    "set conda dependencies"
                ]
            }, 
            "outputs": [], 
            "source": "from azureml.core.conda_dependencies import CondaDependencies \n\nmyenv = CondaDependencies()\nmyenv.add_conda_package(\"scikit-learn==0.20.2\")\n\nwith open(\"myenv.yml\",\"w\") as f:\n    f.write(myenv.serialize_to_string())"
        }, 
        {
            "source": "Review the content of the `myenv.yml` file.", 
            "cell_type": "markdown", 
            "metadata": {}
        }, 
        {
            "execution_count": 55, 
            "cell_type": "code", 
            "metadata": {}, 
            "outputs": [
                {
                    "output_type": "stream", 
                    "name": "stdout", 
                    "text": "# Conda environment specification. The dependencies defined in this file will\n# be automatically provisioned for runs with userManagedDependencies=False.\n\n# Details about the Conda environment file format:\n# https://conda.io/docs/user-guide/tasks/manage-environments.html#create-env-file-manually\n\nname: project_environment\ndependencies:\n  # The python interpreter version.\n  # Currently Azure ML only supports 3.5.2 and later.\n- python=3.6.2\n\n- pip:\n    # Required packages for AzureML execution, history, and data preparation.\n  - azureml-defaults\n\n- scikit-learn==0.20.2\nchannels:\n- conda-forge\n\n"
                }
            ], 
            "source": "with open(\"myenv.yml\",\"r\") as f:\n    print(f.read())"
        }, 
        {
            "source": "### Create configuration file\n\nCreate a deployment configuration file and specify the number of CPUs and gigabyte of RAM needed for your ACI container.", 
            "cell_type": "markdown", 
            "metadata": {}
        }, 
        {
            "execution_count": 56, 
            "cell_type": "code", 
            "metadata": {
                "tags": [
                    "configure web service", 
                    "aci"
                ]
            }, 
            "outputs": [], 
            "source": "from azureml.core.webservice import AciWebservice\n\naciconfig = AciWebservice.deploy_configuration(cpu_cores=0.5, \n                                               memory_gb=0.5, \n                                               tags={\"data\": \"credit german\",  \"method\" : \"sklearn\"}, \n                                               description='Predict Credit Risk with sklearn from Watson Studio')"
        }, 
        {
            "source": "### Deploy in ACI", 
            "cell_type": "markdown", 
            "metadata": {}
        }, 
        {
            "source": "Configure the image and deploy it with following steps:\n\n - Build an image\n - Register that image under the workspace\n - Send the image to the ACI container\n - Start up a container in ACI using the image\n - Get the web service HTTP endpoint", 
            "cell_type": "markdown", 
            "metadata": {}
        }, 
        {
            "source": "**Note:** Estimated time to complete: **about 7-8 minutes**.", 
            "cell_type": "markdown", 
            "metadata": {}
        }, 
        {
            "execution_count": 57, 
            "cell_type": "code", 
            "metadata": {}, 
            "outputs": [
                {
                    "output_type": "stream", 
                    "name": "stdout", 
                    "text": "Creating image\nRunning...............................\nSucceeded\nImage creation operation finished for image german-credit-risk-rohit:3, operation \"Succeeded\"\nCreating service\nRunning................\nSucceededACI service creation operation finished, operation \"Succeeded\"\nCPU times: user 580 ms, sys: 44 ms, total: 624 ms\nWall time: 4min 8s\n"
                }
            ], 
            "source": "%%time\nfrom azureml.core.webservice import Webservice\nfrom azureml.core.image import ContainerImage\n\nimage_config = ContainerImage.image_configuration(execution_script=\"score_azure.py\", \n                                                  runtime=\"python\", \n                                                  conda_file=\"myenv.yml\")\n\nservice_az = Webservice.deploy_from_model(workspace=ws,\n                                          name='german-credit-risk-rohit',\n                                          deployment_config=aciconfig,\n                                          models=[model],\n                                          image_config=image_config)\n\nservice_az.wait_for_deployment(show_output=True)"
        }, 
        {
            "execution_count": 75, 
            "cell_type": "code", 
            "metadata": {}, 
            "outputs": [
                {
                    "output_type": "stream", 
                    "name": "stdout", 
                    "text": "POST scoring request to url:  http://839a1e55-422e-4d25-b636-3427dc55cded.westus.azurecontainer.io/score\n"
                }
            ], 
            "source": "print(\"POST scoring request to url: \", service_az.scoring_uri)"
        }, 
        {
            "source": "## Test deployed model", 
            "cell_type": "markdown", 
            "metadata": {}
        }, 
        {
            "source": "The following code goes through these steps:\n\n - Prepare scoring payload\n - Send scoring request using an HTTP request and print the returned predictions", 
            "cell_type": "markdown", 
            "metadata": {}
        }, 
        {
            "execution_count": 89, 
            "cell_type": "code", 
            "metadata": {}, 
            "outputs": [], 
            "source": "import requests"
        }, 
        {
            "source": "### Prepare scoring payload", 
            "cell_type": "markdown", 
            "metadata": {}
        }, 
        {
            "execution_count": 66, 
            "cell_type": "code", 
            "metadata": {}, 
            "outputs": [], 
            "source": "scorig_data = {\"input\":[\n                {\n                \"CheckingStatus\": \"0_to_200\", \"LoanDuration\": 31, \"CreditHistory\": \"credits_paid_to_date\", \"LoanPurpose\": \"other\",\n                \"LoanAmount\": 1889, \"ExistingSavings\": \"100_to_500\", \"EmploymentDuration\": \"less_1\", \"InstallmentPercent\": 3, \"Sex\": \"female\",\n                \"OthersOnLoan\": \"none\", \"CurrentResidenceDuration\": 3, \"OwnsProperty\": \"savings_insurance\", \"Age\": 32, \"InstallmentPlans\": \"none\",\n                \"Housing\": \"own\", \"ExistingCreditsCount\": 1, \"Job\": \"skilled\", \"Dependents\": 1, \"Telephone\": \"none\", \"ForeignWorker\": \"yes\",\n                },\n                {\n                \"CheckingStatus\": \"no_checking\", \"LoanDuration\": 13, \"CreditHistory\": \"credits_paid_to_date\", \"LoanPurpose\": \"car_new\",\n                \"LoanAmount\": 1389, \"ExistingSavings\": \"100_to_500\", \"EmploymentDuration\": \"1_to_4\", \"InstallmentPercent\": 2, \"Sex\": \"male\",\n                \"OthersOnLoan\": \"none\", \"CurrentResidenceDuration\": 3, \"OwnsProperty\": \"savings_insurance\", \"Age\": 25, \"InstallmentPlans\": \"none\",\n                \"Housing\": \"own\", \"ExistingCreditsCount\": 2, \"Job\": \"skilled\", \"Dependents\": 2, \"Telephone\": \"none\", \"ForeignWorker\": \"yes\",\n                }]}"
        }, 
        {
            "execution_count": 94, 
            "cell_type": "code", 
            "metadata": {}, 
            "outputs": [
                {
                    "execution_count": 94, 
                    "metadata": {}, 
                    "data": {
                        "text/plain": "{'output': [{'Scored Labels': 'No Risk',\n   'Scored Probabilities': [0.8922524675865824, 0.10774753241341757]},\n  {'Scored Labels': 'No Risk',\n   'Scored Probabilities': [0.8335192848546905, 0.1664807151453095]}]}"
                    }, 
                    "output_type": "execute_result"
                }
            ], 
            "source": "headers = {\"Content-Type\": \"application/json\"}\nresp = requests.post(service_az.scoring_uri, json=scorig_data, headers=headers)\n\njson.loads(resp.json())"
        }
    ], 
    "metadata": {
        "kernelspec": {
            "display_name": "Python 3.5", 
            "name": "python3", 
            "language": "python"
        }, 
        "language_info": {
            "mimetype": "text/x-python", 
            "nbconvert_exporter": "python", 
            "version": "3.5.5", 
            "name": "python", 
            "file_extension": ".py", 
            "pygments_lexer": "ipython3", 
            "codemirror_mode": {
                "version": 3, 
                "name": "ipython"
            }
        }, 
        "msauthor": "sgilley", 
        "authors": [
            {
                "name": "roastala"
            }
        ]
    }, 
    "nbformat": 4
}