{
    "nbformat_minor": 2, 
    "cells": [
        {
            "source": "# Credit model with Azure Service and scikit-learn", 
            "cell_type": "markdown", 
            "metadata": {}
        }, 
        {
            "source": "Contents\n\n 1. Setup\n 1. Test the sample model locally\n 1. Register the model to your Azure workspace\n 1. Deploy the model as Webservice\n 1. Test the deployed model", 
            "cell_type": "markdown", 
            "metadata": {}
        }, 
        {
            "source": "**Note:** Sample model was created using scikit-learn version: `0.20.2`. Model predicts if there is a risk for credit.", 
            "cell_type": "markdown", 
            "metadata": {}
        }, 
        {
            "source": "## 1. Setup", 
            "cell_type": "markdown", 
            "metadata": {}
        }, 
        {
            "source": "### Install required packages", 
            "cell_type": "markdown", 
            "metadata": {}
        }, 
        {
            "execution_count": 1, 
            "cell_type": "code", 
            "metadata": {}, 
            "outputs": [
                {
                    "output_type": "stream", 
                    "name": "stdout", 
                    "text": "\u001b[31mtensorflow 1.3.0 requires tensorflow-tensorboard<0.2.0,>=0.1.0, which is not installed.\u001b[0m\n\u001b[31mazureml-core 1.0.45 has requirement ruamel.yaml<=0.15.89,>=0.15.35, but you'll have ruamel-yaml 0.11.14 which is incompatible.\u001b[0m\nRequirement not upgraded as not directly required: scipy>=0.13.3 in /opt/conda/envs/DSX-Python35/lib/python3.5/site-packages (from scikit-learn==0.20.2) (1.0.0)\n\u001b[31mtensorflow 1.3.0 requires tensorflow-tensorboard<0.2.0,>=0.1.0, which is not installed.\u001b[0m\n\u001b[31mazureml-core 1.0.45 has requirement ruamel.yaml<=0.15.89,>=0.15.35, but you'll have ruamel-yaml 0.11.14 which is incompatible.\u001b[0m\nRequirement not upgraded as not directly required: oauthlib>=3.0.0 in /opt/conda/envs/DSX-Python35/lib/python3.5/site-packages (from requests-oauthlib>=0.5.0->msrest>=0.5.1->azureml-core) (3.0.1)\n"
                }
            ], 
            "source": "!pip install --upgrade scikit-learn==0.20.2 | tail -n 1\n!pip install --upgrade azureml-core  | tail -n 1"
        }, 
        {
            "source": "### Action: Restart the kernel", 
            "cell_type": "markdown", 
            "metadata": {}
        }, 
        {
            "source": "### Get sample model", 
            "cell_type": "markdown", 
            "metadata": {}
        }, 
        {
            "execution_count": 2, 
            "cell_type": "code", 
            "metadata": {}, 
            "outputs": [
                {
                    "output_type": "stream", 
                    "name": "stdout", 
                    "text": "--2019-06-28 08:32:30--  https://github.com/pmservice/ai-openscale-tutorials/raw/master/applications/custom-ml-engine-bluemix/models/credit/german_credit_risk.joblib\nResolving github.com (github.com)... 192.30.253.112\nConnecting to github.com (github.com)|192.30.253.112|:443... connected.\nHTTP request sent, awaiting response... 302 Found\nLocation: https://raw.githubusercontent.com/pmservice/ai-openscale-tutorials/master/applications/custom-ml-engine-bluemix/models/credit/german_credit_risk.joblib [following]\n--2019-06-28 08:32:31--  https://raw.githubusercontent.com/pmservice/ai-openscale-tutorials/master/applications/custom-ml-engine-bluemix/models/credit/german_credit_risk.joblib\nResolving raw.githubusercontent.com (raw.githubusercontent.com)... 151.101.48.133\nConnecting to raw.githubusercontent.com (raw.githubusercontent.com)|151.101.48.133|:443... connected.\nHTTP request sent, awaiting response... 200 OK\nLength: 9183 (9.0K) [application/octet-stream]\nSaving to: \u2018german_credit_risk.joblib\u2019\n\n100%[======================================>] 9,183       --.-K/s   in 0.001s  \n\n2019-06-28 08:32:31 (10.3 MB/s) - \u2018german_credit_risk.joblib\u2019 saved [9183/9183]\n\n"
                }
            ], 
            "source": "!rm -rf german_credit_risk.joblib\n!wget https://github.com/pmservice/ai-openscale-tutorials/raw/master/applications/custom-ml-engine-bluemix/models/credit/german_credit_risk.joblib"
        }, 
        {
            "source": "### Load model from local file", 
            "cell_type": "markdown", 
            "metadata": {}
        }, 
        {
            "execution_count": 3, 
            "cell_type": "code", 
            "metadata": {}, 
            "outputs": [], 
            "source": "import os\nfrom sklearn.externals import joblib"
        }, 
        {
            "execution_count": 4, 
            "cell_type": "code", 
            "metadata": {}, 
            "outputs": [], 
            "source": "model_name = \"german_credit_risk\"\nmodel_path = \"german_credit_risk.joblib\"\n\nclf = joblib.load(os.path.join(os.getcwd(), model_path))"
        }, 
        {
            "source": "## 2. Test the sample model locally", 
            "cell_type": "markdown", 
            "metadata": {}
        }, 
        {
            "execution_count": 5, 
            "cell_type": "code", 
            "metadata": {}, 
            "outputs": [], 
            "source": "import numpy as np\nimport pandas as pd\nfrom sklearn.metrics import accuracy_score"
        }, 
        {
            "source": "### Load test data", 
            "cell_type": "markdown", 
            "metadata": {}
        }, 
        {
            "execution_count": 6, 
            "cell_type": "code", 
            "metadata": {}, 
            "outputs": [
                {
                    "output_type": "stream", 
                    "name": "stdout", 
                    "text": "--2019-06-28 08:32:43--  https://raw.githubusercontent.com/pmservice/ai-openscale-tutorials/master/notebooks/data/credit_risk_training.csv\nResolving raw.githubusercontent.com (raw.githubusercontent.com)... 151.101.48.133\nConnecting to raw.githubusercontent.com (raw.githubusercontent.com)|151.101.48.133|:443... connected.\nHTTP request sent, awaiting response... 200 OK\nLength: 694222 (678K) [text/plain]\nSaving to: \u2018credit_risk_training.csv\u2019\n\n100%[======================================>] 694,222     --.-K/s   in 0.02s   \n\n2019-06-28 08:32:43 (29.6 MB/s) - \u2018credit_risk_training.csv\u2019 saved [694222/694222]\n\n"
                }
            ], 
            "source": "!rm -rf credit_risk_training.csv\n!wget https://raw.githubusercontent.com/pmservice/ai-openscale-tutorials/master/notebooks/data/credit_risk_training.csv"
        }, 
        {
            "execution_count": 7, 
            "cell_type": "code", 
            "metadata": {}, 
            "outputs": [], 
            "source": "data_df = pd.read_csv(\"credit_risk_training.csv\",\n                      dtype={'LoanDuration': int, 'LoanAmount': int, 'InstallmentPercent': int, 'CurrentResidenceDuration': int, \n                             'Age': int, 'ExistingCreditsCount': int, 'Dependents': int})\ntest_data = data_df\ntest_data = test_data.drop('Risk', axis=1)"
        }, 
        {
            "source": "### Predict on test data", 
            "cell_type": "markdown", 
            "metadata": {}
        }, 
        {
            "execution_count": 8, 
            "cell_type": "code", 
            "metadata": {}, 
            "outputs": [
                {
                    "output_type": "stream", 
                    "name": "stdout", 
                    "text": "Model accuracy: 0.778\n"
                }
            ], 
            "source": "predictions = clf['postprocessing'](clf['model'].predict(test_data))\n\nprint(\"Model accuracy: {:.3f}\".format(accuracy_score(data_df.Risk, predictions)))"
        }, 
        {
            "source": "## 3. Register the model to your Azure workspace", 
            "cell_type": "markdown", 
            "metadata": {}
        }, 
        {
            "execution_count": 9, 
            "cell_type": "code", 
            "metadata": {}, 
            "outputs": [], 
            "source": "import os\nfrom azureml.core import Workspace\nfrom azureml.core.model import Model\nfrom azureml.core.authentication import InteractiveLoginAuthentication"
        }, 
        {
            "source": "Please provide your Azure ML Service credentials.", 
            "cell_type": "markdown", 
            "metadata": {}
        }, 
        {
            "execution_count": 10, 
            "cell_type": "code", 
            "metadata": {}, 
            "outputs": [], 
            "source": "az_ml_service_credentials = {'tenant_id': '***',\n                             'subscription_id': '***', \n                             'resource_group': '***',\n                             'workspace_name': '***'}"
        }, 
        {
            "execution_count": 11, 
            "cell_type": "code", 
            "metadata": {}, 
            "outputs": [], 
            "source": "# The code was removed by Watson Studio for sharing."
        }, 
        {
            "execution_count": 12, 
            "cell_type": "code", 
            "metadata": {}, 
            "outputs": [
                {
                    "output_type": "stream", 
                    "name": "stdout", 
                    "text": "Performing interactive authentication. Please follow the instructions on the terminal.\nTo sign in, use a web browser to open the page https://microsoft.com/devicelogin and enter the code FR5PEBYHR to authenticate.\nInteractive authentication successfully completed.\n"
                }
            ], 
            "source": "interactive_auth = InteractiveLoginAuthentication(tenant_id=az_ml_service_credentials['tenant_id'])\n\nws = Workspace(subscription_id=az_ml_service_credentials['subscription_id'], \n               resource_group=az_ml_service_credentials['resource_group'], \n               workspace_name=az_ml_service_credentials['workspace_name'], \n               auth=interactive_auth)"
        }, 
        {
            "execution_count": 13, 
            "cell_type": "code", 
            "metadata": {
                "tags": [
                    "register model from file"
                ]
            }, 
            "outputs": [
                {
                    "output_type": "stream", 
                    "name": "stdout", 
                    "text": "Registering model german_credit_risk\n"
                }
            ], 
            "source": "model = Model.register(model_path=model_path, \n                       model_name=model_name, \n                       tags={\"data\": \"german_credit_risk\", \"model\": \"classification\"},\n                       description=\"credit risk sample scikit model from Watson Studio\",\n                       workspace=ws)"
        }, 
        {
            "source": "## 4. Deploy the model as Webservice", 
            "cell_type": "markdown", 
            "metadata": {}
        }, 
        {
            "source": "Model deploymen consist of following steps:\n\n - Create scoring script\n - Create environment file\n - Create configuration file\n - Deploy model in ACI", 
            "cell_type": "markdown", 
            "metadata": {}
        }, 
        {
            "source": "### Create scoring script\n\nScoring script must include two required functions:\n\n - The `init()` function, which typically loads the model into a global object. This function is run only once.\n - The `run(input_data)` function uses the model to predict a value based on the input data.", 
            "cell_type": "markdown", 
            "metadata": {}
        }, 
        {
            "execution_count": 14, 
            "cell_type": "code", 
            "metadata": {}, 
            "outputs": [
                {
                    "output_type": "stream", 
                    "name": "stdout", 
                    "text": "Writing score_azure.py\n"
                }
            ], 
            "source": "%%writefile score_azure.py\nimport os\nimport json\nimport numpy as np\nimport pandas as pd\nfrom sklearn.externals import joblib\nfrom sklearn.linear_model import LogisticRegression\nfrom azureml.core.model import Model\n\ndef init():\n    global model\n    model_path = Model.get_model_path('german_credit_risk')\n    model = joblib.load(model_path)\n\ndef run(input_data):\n    try:\n        if type(input_data) is str:\n            dict_data = json.loads(input_data)\n        else:\n            dict_data = input_data\n            \n        data = pd.DataFrame.from_dict(dict_data['input'])   \n        predictions = model['postprocessing'](model['model'].predict(data))\n        scores = model['model'].predict_proba(data).tolist()\n        records = []\n        \n        for pred, prob in zip(predictions, scores):\n            records.append({\"Scored Labels\": pred, \"Scored Probabilities\": prob})\n \n        result = {'output': records}\n        \n        return json.dumps(result)\n    except Exception as e:\n        result = str(e)\n        # return error message back to the client\n        return json.dumps({\"error\": result})"
        }, 
        {
            "source": "### Create environment file\n\nCreate an environment file that specifies all of the script's package dependencies.", 
            "cell_type": "markdown", 
            "metadata": {}
        }, 
        {
            "execution_count": 15, 
            "cell_type": "code", 
            "metadata": {
                "tags": [
                    "set conda dependencies"
                ]
            }, 
            "outputs": [], 
            "source": "from azureml.core.conda_dependencies import CondaDependencies \n\nmyenv = CondaDependencies()\nmyenv.add_conda_package(\"scikit-learn==0.20.2\")\n\nwith open(\"myenv.yml\",\"w\") as f:\n    f.write(myenv.serialize_to_string())"
        }, 
        {
            "source": "Review the content of the `myenv.yml` file.", 
            "cell_type": "markdown", 
            "metadata": {}
        }, 
        {
            "execution_count": 16, 
            "cell_type": "code", 
            "metadata": {}, 
            "outputs": [
                {
                    "output_type": "stream", 
                    "name": "stdout", 
                    "text": "# Conda environment specification. The dependencies defined in this file will\n# be automatically provisioned for runs with userManagedDependencies=False.\n\n# Details about the Conda environment file format:\n# https://conda.io/docs/user-guide/tasks/manage-environments.html#create-env-file-manually\n\nname: project_environment\ndependencies:\n  # The python interpreter version.\n  # Currently Azure ML only supports 3.5.2 and later.\n- python=3.6.2\n\n- pip:\n    # Required packages for AzureML execution, history, and data preparation.\n  - azureml-defaults\n\n- scikit-learn==0.20.2\nchannels:\n- conda-forge\n\n"
                }
            ], 
            "source": "with open(\"myenv.yml\",\"r\") as f:\n    print(f.read())"
        }, 
        {
            "source": "### Create configuration file\n\nCreate a deployment configuration file and specify the number of CPUs and gigabyte of RAM needed for your ACI container.", 
            "cell_type": "markdown", 
            "metadata": {}
        }, 
        {
            "execution_count": 17, 
            "cell_type": "code", 
            "metadata": {
                "tags": [
                    "configure web service", 
                    "aci"
                ]
            }, 
            "outputs": [], 
            "source": "from azureml.core.webservice import AciWebservice\n\naciconfig = AciWebservice.deploy_configuration(cpu_cores=0.5, \n                                               memory_gb=0.5, \n                                               tags={\"data\": \"credit german\",  \"method\" : \"sklearn\"}, \n                                               description='Predict Credit Risk with sklearn from Watson Studio')"
        }, 
        {
            "source": "### Deploy in ACI", 
            "cell_type": "markdown", 
            "metadata": {}
        }, 
        {
            "source": "Configure the image and deploy it with following steps:\n\n - Build an image\n - Register that image under the workspace\n - Send the image to the ACI container\n - Start up a container in ACI using the image\n - Get the web service HTTP endpoint", 
            "cell_type": "markdown", 
            "metadata": {}
        }, 
        {
            "source": "**Note:** Estimated time to complete: **about 7-8 minutes**.", 
            "cell_type": "markdown", 
            "metadata": {}
        }, 
        {
            "execution_count": 18, 
            "cell_type": "code", 
            "metadata": {}, 
            "outputs": [
                {
                    "output_type": "stream", 
                    "name": "stdout", 
                    "text": "Creating image\nRunning................................\nSucceeded\nImage creation operation finished for image german-credit-risk-rohit:4, operation \"Succeeded\"\nCreating service\nRunning...........\nSucceededACI service creation operation finished, operation \"Succeeded\"\nCPU times: user 512 ms, sys: 48 ms, total: 560 ms\nWall time: 4min 37s\n"
                }
            ], 
            "source": "%%time\nfrom azureml.core.webservice import Webservice\nfrom azureml.core.image import ContainerImage\n\nimage_config = ContainerImage.image_configuration(execution_script=\"score_azure.py\", \n                                                  runtime=\"python\", \n                                                  conda_file=\"myenv.yml\")\n\nservice_az = Webservice.deploy_from_model(workspace=ws,\n                                          name='german-credit-risk-rohit',\n                                          deployment_config=aciconfig,\n                                          models=[model],\n                                          image_config=image_config)\n\nservice_az.wait_for_deployment(show_output=True)"
        }, 
        {
            "execution_count": 19, 
            "cell_type": "code", 
            "metadata": {}, 
            "outputs": [
                {
                    "output_type": "stream", 
                    "name": "stdout", 
                    "text": "POST scoring request to url:  http://79acaec9-085f-4761-bf82-abf36445fdbb.westus.azurecontainer.io/score\n"
                }
            ], 
            "source": "print(\"POST scoring request to url: \", service_az.scoring_uri)"
        }, 
        {
            "source": "## 5. Test deployed model", 
            "cell_type": "markdown", 
            "metadata": {}
        }, 
        {
            "execution_count": 23, 
            "cell_type": "code", 
            "metadata": {}, 
            "outputs": [], 
            "source": "import json\nimport requests"
        }, 
        {
            "source": "### Prepare scoring payload", 
            "cell_type": "markdown", 
            "metadata": {}
        }, 
        {
            "execution_count": 24, 
            "cell_type": "code", 
            "metadata": {}, 
            "outputs": [], 
            "source": "scorig_data = {\"input\":[\n                {\n                \"CheckingStatus\": \"0_to_200\", \"LoanDuration\": 31, \"CreditHistory\": \"credits_paid_to_date\", \"LoanPurpose\": \"other\",\n                \"LoanAmount\": 1889, \"ExistingSavings\": \"100_to_500\", \"EmploymentDuration\": \"less_1\", \"InstallmentPercent\": 3, \"Sex\": \"female\",\n                \"OthersOnLoan\": \"none\", \"CurrentResidenceDuration\": 3, \"OwnsProperty\": \"savings_insurance\", \"Age\": 32, \"InstallmentPlans\": \"none\",\n                \"Housing\": \"own\", \"ExistingCreditsCount\": 1, \"Job\": \"skilled\", \"Dependents\": 1, \"Telephone\": \"none\", \"ForeignWorker\": \"yes\",\n                },\n                {\n                \"CheckingStatus\": \"no_checking\", \"LoanDuration\": 13, \"CreditHistory\": \"credits_paid_to_date\", \"LoanPurpose\": \"car_new\",\n                \"LoanAmount\": 1389, \"ExistingSavings\": \"100_to_500\", \"EmploymentDuration\": \"1_to_4\", \"InstallmentPercent\": 2, \"Sex\": \"male\",\n                \"OthersOnLoan\": \"none\", \"CurrentResidenceDuration\": 3, \"OwnsProperty\": \"savings_insurance\", \"Age\": 25, \"InstallmentPlans\": \"none\",\n                \"Housing\": \"own\", \"ExistingCreditsCount\": 2, \"Job\": \"skilled\", \"Dependents\": 2, \"Telephone\": \"none\", \"ForeignWorker\": \"yes\",\n                }]}"
        }, 
        {
            "source": "### Send scoring request using an HTTP request", 
            "cell_type": "markdown", 
            "metadata": {}
        }, 
        {
            "execution_count": 25, 
            "cell_type": "code", 
            "metadata": {}, 
            "outputs": [
                {
                    "execution_count": 25, 
                    "metadata": {}, 
                    "data": {
                        "text/plain": "{'output': [{'Scored Labels': 'No Risk',\n   'Scored Probabilities': [0.8922524675865824, 0.10774753241341757]},\n  {'Scored Labels': 'No Risk',\n   'Scored Probabilities': [0.8335192848546905, 0.1664807151453095]}]}"
                    }, 
                    "output_type": "execute_result"
                }
            ], 
            "source": "headers = {\"Content-Type\": \"application/json\"}\nresp = requests.post(service_az.scoring_uri, json=scorig_data, headers=headers)\n\njson.loads(resp.json())"
        }, 
        {
            "execution_count": null, 
            "cell_type": "code", 
            "metadata": {}, 
            "outputs": [], 
            "source": ""
        }
    ], 
    "metadata": {
        "kernelspec": {
            "display_name": "Python 3.5", 
            "name": "python3", 
            "language": "python"
        }, 
        "language_info": {
            "mimetype": "text/x-python", 
            "nbconvert_exporter": "python", 
            "version": "3.5.5", 
            "name": "python", 
            "file_extension": ".py", 
            "pygments_lexer": "ipython3", 
            "codemirror_mode": {
                "version": 3, 
                "name": "ipython"
            }
        }, 
        "msauthor": "sgilley", 
        "authors": [
            {
                "name": "roastala"
            }
        ]
    }, 
    "nbformat": 4
}