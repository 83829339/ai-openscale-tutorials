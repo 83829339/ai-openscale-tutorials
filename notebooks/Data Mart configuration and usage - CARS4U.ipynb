{
    "nbformat_minor": 1, 
    "cells": [
        {
            "source": "# Data Mart configuration and usage with `ibm-ai-openscale` python package\n\n<img src=\"https://github.com/pmservice/ai-openscale-tutorials/raw/master/notebooks/images/image.png\" align=\"left\" alt=\"banner\" width=\"100\">", 
            "cell_type": "markdown", 
            "metadata": {}
        }, 
        {
            "source": "This notebook shows hot to create a data mart for Watson Machine Learning deployments. It includes steps for performance, bias and quality monitor configurations.", 
            "cell_type": "markdown", 
            "metadata": {}
        }, 
        {
            "source": "Contents\n- [1. Setup](#setup)\n- [2. Binding machine learning engine](#binding)\n- [3. Subscriptions](#subscription)\n- [4. Score models](#scoring)\n- [5. Data Mart](#datamart)\n- [6. Visualization](#visualization)", 
            "cell_type": "markdown", 
            "metadata": {}
        }, 
        {
            "source": "<a id=\"setup\"></a>\n## 1. Setup", 
            "cell_type": "markdown", 
            "metadata": {}
        }, 
        {
            "source": "### 1.1 Installation and authentication", 
            "cell_type": "markdown", 
            "metadata": {}
        }, 
        {
            "execution_count": null, 
            "cell_type": "code", 
            "metadata": {
                "scrolled": true
            }, 
            "outputs": [], 
            "source": "!pip install --upgrade ibm-ai-openscale"
        }, 
        {
            "execution_count": null, 
            "cell_type": "code", 
            "metadata": {}, 
            "outputs": [], 
            "source": "!pip install --upgrade watson-machine-learning-client"
        }, 
        {
            "source": "### ACTION: Restart kernel to make sure installed versions are used.", 
            "cell_type": "markdown", 
            "metadata": {}
        }, 
        {
            "source": "Import and initiate.", 
            "cell_type": "markdown", 
            "metadata": {}
        }, 
        {
            "execution_count": 1, 
            "cell_type": "code", 
            "metadata": {}, 
            "outputs": [
                {
                    "output_type": "stream", 
                    "name": "stderr", 
                    "text": "/opt/conda/envs/DSX-Python35/lib/python3.5/site-packages/sklearn/cross_validation.py:41: DeprecationWarning: This module was deprecated in version 0.18 in favor of the model_selection module into which all the refactored classes and functions are moved. Also note that the interface of the new CV iterators are different from that of this module. This module will be removed in 0.20.\n  \"This module will be removed in 0.20.\", DeprecationWarning)\n"
                }
            ], 
            "source": "from ibm_ai_openscale import APIClient\nfrom ibm_ai_openscale.engines import *"
        }, 
        {
            "source": "### ACTION: Get `instance_id` (GUID) and `apikey`\n\nHow to get api key using bluemix console:\n```\nbx login --sso\nbx iam api-key-create 'my_key'\n```\n\nHow to get DATA_MART_ID (this is AI OpenScale instance GUID)\n```\nbx target -g <myResourceGroup>\nbx resource service-instance \u2018instance_name\u2019\n```\n", 
            "cell_type": "markdown", 
            "metadata": {}
        }, 
        {
            "execution_count": 2, 
            "cell_type": "code", 
            "metadata": {}, 
            "outputs": [], 
            "source": "aios_credentials = {\n  \"instance_id\": \"*****\",\n  \"apikey\": \"*****\", \n  \"url\": \"https://api.aiopenscale.cloud.ibm.com\"\n}"
        }, 
        {
            "execution_count": 3, 
            "cell_type": "code", 
            "metadata": {}, 
            "outputs": [], 
            "source": "# The code was removed by Watson Studio for sharing."
        }, 
        {
            "source": "### ACTION: Add your Watson Machine Learning credentials here", 
            "cell_type": "markdown", 
            "metadata": {}
        }, 
        {
            "execution_count": 4, 
            "cell_type": "code", 
            "metadata": {}, 
            "outputs": [], 
            "source": "wml_credentials =  {\n  \"apikey\": \"***\",\n  \"iam_apikey_description\": \"Auto generated apikey during resource-key operation for Instance - crn:v1:bluemix:public:pm-20:us-south:a/181ed6cc388f47bd9d862fe066f9cfce:c419e24a-c4eb-41b4-a2e1-ce4f0d298428::\",\n  \"iam_apikey_name\": \"auto-generated-apikey-33f864a1-9958-4a32-b9ab-6fd962f98522\",\n  \"iam_role_crn\": \"crn:v1:bluemix:public:iam::::serviceRole:Writer\",\n  \"iam_serviceid_crn\": \"crn:v1:bluemix:public:iam-identity::a/181ed6cc388f47bd9d862fe066f9cfce::serviceid:ServiceId-e847629a-195e-455d-a949-957263b867ab\",\n  \"instance_id\": \"***\",\n  \"password\": \"***\",\n  \"url\": \"https://us-south.ml.cloud.ibm.com\",\n  \"username\": \"*****\"\n}"
        }, 
        {
            "execution_count": 5, 
            "cell_type": "code", 
            "metadata": {}, 
            "outputs": [], 
            "source": "# The code was removed by Watson Studio for sharing."
        }, 
        {
            "source": "### ACTION: Add your PostgreSQL credentials here", 
            "cell_type": "markdown", 
            "metadata": {}
        }, 
        {
            "execution_count": 6, 
            "cell_type": "code", 
            "metadata": {}, 
            "outputs": [], 
            "source": "postgres_credentials = {\n    \"db_type\": \"postgresql\",\n    \"uri_cli_1\": \"xxx\",\n    \"maps\": [],\n    \"instance_administration_api\": {\n        \"instance_id\": \"xxx\",\n        \"root\": \"xxx\",\n        \"deployment_id\": \"xxx\"\n    },\n    \"name\": \"xxx\",\n    \"uri_cli\": \"xxx\",\n    \"uri_direct_1\": \"xxx\",\n    \"ca_certificate_base64\": \"xxx\",\n    \"deployment_id\": \"xxx\",\n    \"uri\": \"xxx\"\n}"
        }, 
        {
            "execution_count": 7, 
            "cell_type": "code", 
            "metadata": {}, 
            "outputs": [], 
            "source": "# The code was removed by Watson Studio for sharing."
        }, 
        {
            "execution_count": 8, 
            "cell_type": "code", 
            "metadata": {
                "scrolled": true
            }, 
            "outputs": [], 
            "source": "client = APIClient(aios_credentials)"
        }, 
        {
            "execution_count": 9, 
            "cell_type": "code", 
            "metadata": {}, 
            "outputs": [
                {
                    "execution_count": 9, 
                    "metadata": {}, 
                    "data": {
                        "text/plain": "'1.0.92'"
                    }, 
                    "output_type": "execute_result"
                }
            ], 
            "source": "client.version"
        }, 
        {
            "source": "Put your schema name here.", 
            "cell_type": "markdown", 
            "metadata": {}
        }, 
        {
            "execution_count": 11, 
            "cell_type": "code", 
            "metadata": {}, 
            "outputs": [], 
            "source": "schemaName = 'data_mart_service'"
        }, 
        {
            "source": "You can use the code below to create the schema. If the schema already exists skipp this cell.", 
            "cell_type": "markdown", 
            "metadata": {}
        }, 
        {
            "execution_count": 12, 
            "cell_type": "code", 
            "metadata": {}, 
            "outputs": [], 
            "source": "import psycopg2\n\nhostname = postgres_credentials['uri'].split('@')[1].split(':')[0]\nport = postgres_credentials['uri'].split('@')[1].split(':')[1].split('/')[0]\nuser = postgres_credentials['uri'].split('@')[0].split('//')[1].split(':')[0]\npassword = postgres_credentials['uri'].split('@')[0].split('//')[1].split(':')[1]\ndbname = 'compose'\n\nconn_string = \"host=\" + hostname + \" port=\" + port + \" dbname=\" + dbname + \" user=\" + user + \" password=\" + password\nconn = psycopg2.connect(conn_string)\nconn.autocommit = True\ncursor = conn.cursor()\ntry:\n    query = \"drop schema \" + schemaName + \" cascade\"\n    cursor.execute(query)\nexcept:\n    pass\nfinally:    \n    try:\n        query = \"create schema \" + schemaName\n        cursor.execute(query)\n    finally:    \n        conn.close()"
        }, 
        {
            "source": "### 1.2 DataMart setup", 
            "cell_type": "markdown", 
            "metadata": {}
        }, 
        {
            "execution_count": 18, 
            "cell_type": "code", 
            "metadata": {}, 
            "outputs": [], 
            "source": "client.data_mart.setup(db_credentials=postgres_credentials, schema=schemaName)"
        }, 
        {
            "execution_count": 19, 
            "cell_type": "code", 
            "metadata": {}, 
            "outputs": [], 
            "source": "data_mart_details = client.data_mart.get_details()"
        }, 
        {
            "source": "Data Mart with instance id name has been created.", 
            "cell_type": "markdown", 
            "metadata": {}
        }, 
        {
            "source": "<a id=\"binding\"></a>\n\n## 2. Bind machine learning engines", 
            "cell_type": "markdown", 
            "metadata": {}
        }, 
        {
            "source": "### 2.1 Bind Watson Machine Learning ", 
            "cell_type": "markdown", 
            "metadata": {}
        }, 
        {
            "source": "You can bind you Watson Machine Learning instance to previously created data mart.", 
            "cell_type": "markdown", 
            "metadata": {}
        }, 
        {
            "execution_count": 20, 
            "cell_type": "code", 
            "metadata": {}, 
            "outputs": [], 
            "source": "binding_uid = client.data_mart.bindings.add('WML instance', WatsonMachineLearningInstance(wml_credentials))"
        }, 
        {
            "execution_count": 21, 
            "cell_type": "code", 
            "metadata": {}, 
            "outputs": [], 
            "source": "bindings_details = client.data_mart.bindings.get_details()"
        }, 
        {
            "execution_count": 22, 
            "cell_type": "code", 
            "metadata": {}, 
            "outputs": [
                {
                    "output_type": "display_data", 
                    "data": {
                        "text/html": "<HTML>\n        <body>\n            <h3>Service bindings</h3>\n            <table style='border: 1px solid #dddddd; font-family: Courier'>\n                <th style='border: 1px solid #dddddd'>uid</th><th style='border: 1px solid #dddddd'>name</th><th style='border: 1px solid #dddddd'>service_type</th><th style='border: 1px solid #dddddd'>created</th>\n                <tr><td style='border: 1px solid #dddddd'>e4e87cbb-f343-4acb-a2bb-b652d82bea38</td><td style='border: 1px solid #dddddd'>WML instance</td><td style='border: 1px solid #dddddd'>watson_machine_learning</td><td style='border: 1px solid #dddddd'>2018-11-15T14:45:25.100Z</td></tr>\n            </table>\n        </body>\n        </HTML>", 
                        "text/plain": "<IPython.core.display.HTML object>"
                    }, 
                    "metadata": {}
                }
            ], 
            "source": "client.data_mart.bindings.list()"
        }, 
        {
            "source": "### 2.2 Check available assets from binded services", 
            "cell_type": "markdown", 
            "metadata": {}
        }, 
        {
            "source": "#### List available assets", 
            "cell_type": "markdown", 
            "metadata": {}
        }, 
        {
            "execution_count": 23, 
            "cell_type": "code", 
            "metadata": {}, 
            "outputs": [
                {
                    "output_type": "display_data", 
                    "data": {
                        "text/html": "<HTML>\n        <body>\n            <h3>Available assets</h3>\n            <table style='border: 1px solid #dddddd; font-family: Courier'>\n                <th style='border: 1px solid #dddddd'>source_uid</th><th style='border: 1px solid #dddddd'>name</th><th style='border: 1px solid #dddddd'>created</th><th style='border: 1px solid #dddddd'>type</th><th style='border: 1px solid #dddddd'>frameworks</th><th style='border: 1px solid #dddddd'>binding_uid</th><th style='border: 1px solid #dddddd'>is_subscribed</th>\n                <tr><td style='border: 1px solid #dddddd'>eea0e3cf-9291-425f-834d-a67b42f9fad8</td><td style='border: 1px solid #dddddd'>CARS4U - Action Recommendation Model</td><td style='border: 1px solid #dddddd'>2018-11-15T14:41:38.188Z</td><td style='border: 1px solid #dddddd'>model</td><td style='border: 1px solid #dddddd'>mllib-2.1</td><td style='border: 1px solid #dddddd'>e4e87cbb-f343-4acb-a2bb-b652d82bea38</td><td style='border: 1px solid #dddddd'>F</td></tr>\n            </table>\n        </body>\n        </HTML>", 
                        "text/plain": "<IPython.core.display.HTML object>"
                    }, 
                    "metadata": {}
                }
            ], 
            "source": "client.data_mart.bindings.list_assets()"
        }, 
        {
            "source": "#### Get metadata of available assets", 
            "cell_type": "markdown", 
            "metadata": {}
        }, 
        {
            "execution_count": 24, 
            "cell_type": "code", 
            "metadata": {}, 
            "outputs": [], 
            "source": "assets_details = client.data_mart.bindings.get_asset_details()"
        }, 
        {
            "execution_count": 25, 
            "cell_type": "code", 
            "metadata": {}, 
            "outputs": [], 
            "source": "cars4u_asset_uid = None\n\nfor x in client.data_mart.bindings.get_asset_details():\n    if 'cars4u' in x['name'].lower():\n        cars4u_asset_uid = x['source_uid']"
        }, 
        {
            "execution_count": 26, 
            "cell_type": "code", 
            "metadata": {}, 
            "outputs": [
                {
                    "output_type": "stream", 
                    "name": "stdout", 
                    "text": "eea0e3cf-9291-425f-834d-a67b42f9fad8\n"
                }
            ], 
            "source": "print(str(cars4u_asset_uid))"
        }, 
        {
            "source": "<a id=\"subscriptions\"></a>\n## 3. Subscriptions", 
            "cell_type": "markdown", 
            "metadata": {}
        }, 
        {
            "source": "### 3.1 Subscribe the asset", 
            "cell_type": "markdown", 
            "metadata": {}
        }, 
        {
            "execution_count": 27, 
            "cell_type": "code", 
            "metadata": {}, 
            "outputs": [], 
            "source": "subscription = client.data_mart.subscriptions.add(WatsonMachineLearningAsset(cars4u_asset_uid))"
        }, 
        {
            "source": "#### Get subscriptions list", 
            "cell_type": "markdown", 
            "metadata": {}
        }, 
        {
            "execution_count": 28, 
            "cell_type": "code", 
            "metadata": {}, 
            "outputs": [
                {
                    "output_type": "stream", 
                    "name": "stdout", 
                    "text": "['eea0e3cf-9291-425f-834d-a67b42f9fad8']\n"
                }
            ], 
            "source": "subscriptions_uids = client.data_mart.subscriptions.get_uids()\nprint(subscriptions_uids)"
        }, 
        {
            "source": "#### List subscriptions", 
            "cell_type": "markdown", 
            "metadata": {}
        }, 
        {
            "execution_count": 29, 
            "cell_type": "code", 
            "metadata": {
                "scrolled": true
            }, 
            "outputs": [
                {
                    "output_type": "display_data", 
                    "data": {
                        "text/html": "<HTML>\n        <body>\n            <h3>Subscriptions</h3>\n            <table style='border: 1px solid #dddddd; font-family: Courier'>\n                <th style='border: 1px solid #dddddd'>uid</th><th style='border: 1px solid #dddddd'>name</th><th style='border: 1px solid #dddddd'>type</th><th style='border: 1px solid #dddddd'>binding_uid</th><th style='border: 1px solid #dddddd'>created</th>\n                <tr><td style='border: 1px solid #dddddd'>eea0e3cf-9291-425f-834d-a67b42f9fad8</td><td style='border: 1px solid #dddddd'>CARS4U - Action Recommendation Model</td><td style='border: 1px solid #dddddd'>model</td><td style='border: 1px solid #dddddd'>e4e87cbb-f343-4acb-a2bb-b652d82bea38</td><td style='border: 1px solid #dddddd'>2018-11-15T14:45:49.773Z</td></tr>\n            </table>\n        </body>\n        </HTML>", 
                        "text/plain": "<IPython.core.display.HTML object>"
                    }, 
                    "metadata": {}
                }
            ], 
            "source": "client.data_mart.subscriptions.list()"
        }, 
        {
            "source": "#### Get subscription", 
            "cell_type": "markdown", 
            "metadata": {}
        }, 
        {
            "source": "**Hint:** You can get subscription by passing subscription_uid to below method.", 
            "cell_type": "markdown", 
            "metadata": {}
        }, 
        {
            "source": "subscription = client.data_mart.subscriptions.get('f17b991c-3098-4cdd-86d9-d56174ca4b00')", 
            "cell_type": "raw", 
            "metadata": {}
        }, 
        {
            "source": "### 3.2 Enable payload logging and performance monitor for subscribed assets", 
            "cell_type": "markdown", 
            "metadata": {}
        }, 
        {
            "execution_count": 30, 
            "cell_type": "code", 
            "metadata": {}, 
            "outputs": [], 
            "source": "for uid in subscriptions_uids:\n    subscription = client.data_mart.subscriptions.get(uid)\n    subscription.payload_logging.enable()\n    subscription.performance_monitoring.enable()"
        }, 
        {
            "source": "#### Get details of enabled payload logging", 
            "cell_type": "markdown", 
            "metadata": {}
        }, 
        {
            "execution_count": 31, 
            "cell_type": "code", 
            "metadata": {}, 
            "outputs": [], 
            "source": "payload_logging_details = subscription.payload_logging.get_details()"
        }, 
        {
            "source": "#### Print schema of payload_logging table", 
            "cell_type": "markdown", 
            "metadata": {}
        }, 
        {
            "execution_count": 32, 
            "cell_type": "code", 
            "metadata": {}, 
            "outputs": [
                {
                    "output_type": "display_data", 
                    "data": {
                        "text/html": "<HTML>\n        <body>\n            <h3>Schema of Payload_eea0e3cf-9291-425f-834d-a67b42f9fad8</h3>\n            <table style='border: 1px solid #dddddd; font-family: Courier'>\n                <th style='border: 1px solid #dddddd'>name</th><th style='border: 1px solid #dddddd'>type</th><th style='border: 1px solid #dddddd'>size</th><th style='border: 1px solid #dddddd'>precision</th><th style='border: 1px solid #dddddd'>scale</th><th style='border: 1px solid #dddddd'>nullable</th>\n                <tr><td style='border: 1px solid #dddddd'>ID</td><td style='border: 1px solid #dddddd'>int4</td><td style='border: 1px solid #dddddd'>4</td><td style='border: 1px solid #dddddd'>-</td><td style='border: 1px solid #dddddd'>-</td><td style='border: 1px solid #dddddd'>N</td></tr><tr><td style='border: 1px solid #dddddd'>Gender</td><td style='border: 1px solid #dddddd'>text</td><td style='border: 1px solid #dddddd'>-</td><td style='border: 1px solid #dddddd'>-</td><td style='border: 1px solid #dddddd'>-</td><td style='border: 1px solid #dddddd'>N</td></tr><tr><td style='border: 1px solid #dddddd'>Status</td><td style='border: 1px solid #dddddd'>text</td><td style='border: 1px solid #dddddd'>-</td><td style='border: 1px solid #dddddd'>-</td><td style='border: 1px solid #dddddd'>-</td><td style='border: 1px solid #dddddd'>N</td></tr><tr><td style='border: 1px solid #dddddd'>Children</td><td style='border: 1px solid #dddddd'>int4</td><td style='border: 1px solid #dddddd'>4</td><td style='border: 1px solid #dddddd'>-</td><td style='border: 1px solid #dddddd'>-</td><td style='border: 1px solid #dddddd'>N</td></tr><tr><td style='border: 1px solid #dddddd'>Age</td><td style='border: 1px solid #dddddd'>float8</td><td style='border: 1px solid #dddddd'>8</td><td style='border: 1px solid #dddddd'>-</td><td style='border: 1px solid #dddddd'>-</td><td style='border: 1px solid #dddddd'>N</td></tr><tr><td style='border: 1px solid #dddddd'>Customer_Status</td><td style='border: 1px solid #dddddd'>text</td><td style='border: 1px solid #dddddd'>-</td><td style='border: 1px solid #dddddd'>-</td><td style='border: 1px solid #dddddd'>-</td><td style='border: 1px solid #dddddd'>N</td></tr><tr><td style='border: 1px solid #dddddd'>Car_Owner</td><td style='border: 1px solid #dddddd'>text</td><td style='border: 1px solid #dddddd'>-</td><td style='border: 1px solid #dddddd'>-</td><td style='border: 1px solid #dddddd'>-</td><td style='border: 1px solid #dddddd'>N</td></tr><tr><td style='border: 1px solid #dddddd'>Customer_Service</td><td style='border: 1px solid #dddddd'>text</td><td style='border: 1px solid #dddddd'>-</td><td style='border: 1px solid #dddddd'>-</td><td style='border: 1px solid #dddddd'>-</td><td style='border: 1px solid #dddddd'>N</td></tr><tr><td style='border: 1px solid #dddddd'>Satisfaction</td><td style='border: 1px solid #dddddd'>int4</td><td style='border: 1px solid #dddddd'>4</td><td style='border: 1px solid #dddddd'>-</td><td style='border: 1px solid #dddddd'>-</td><td style='border: 1px solid #dddddd'>N</td></tr><tr><td style='border: 1px solid #dddddd'>Business_Area</td><td style='border: 1px solid #dddddd'>text</td><td style='border: 1px solid #dddddd'>-</td><td style='border: 1px solid #dddddd'>-</td><td style='border: 1px solid #dddddd'>-</td><td style='border: 1px solid #dddddd'>N</td></tr><tr><td style='border: 1px solid #dddddd'>prediction</td><td style='border: 1px solid #dddddd'>float8</td><td style='border: 1px solid #dddddd'>8</td><td style='border: 1px solid #dddddd'>-</td><td style='border: 1px solid #dddddd'>-</td><td style='border: 1px solid #dddddd'>N</td></tr><tr><td style='border: 1px solid #dddddd'>predictedActionLabel</td><td style='border: 1px solid #dddddd'>text</td><td style='border: 1px solid #dddddd'>-</td><td style='border: 1px solid #dddddd'>-</td><td style='border: 1px solid #dddddd'>-</td><td style='border: 1px solid #dddddd'>N</td></tr><tr><td style='border: 1px solid #dddddd'>probability</td><td style='border: 1px solid #dddddd'>jsonb</td><td style='border: 1px solid #dddddd'>-</td><td style='border: 1px solid #dddddd'>-</td><td style='border: 1px solid #dddddd'>-</td><td style='border: 1px solid #dddddd'>N</td></tr><tr><td style='border: 1px solid #dddddd'>debiased_prediction</td><td style='border: 1px solid #dddddd'>float8</td><td style='border: 1px solid #dddddd'>8</td><td style='border: 1px solid #dddddd'>-</td><td style='border: 1px solid #dddddd'>-</td><td style='border: 1px solid #dddddd'>N</td></tr><tr><td style='border: 1px solid #dddddd'>debiased_probability</td><td style='border: 1px solid #dddddd'>jsonb</td><td style='border: 1px solid #dddddd'>-</td><td style='border: 1px solid #dddddd'>-</td><td style='border: 1px solid #dddddd'>-</td><td style='border: 1px solid #dddddd'>N</td></tr><tr><td style='border: 1px solid #dddddd'>debiased_decoded_target</td><td style='border: 1px solid #dddddd'>text</td><td style='border: 1px solid #dddddd'>-</td><td style='border: 1px solid #dddddd'>-</td><td style='border: 1px solid #dddddd'>-</td><td style='border: 1px solid #dddddd'>N</td></tr><tr><td style='border: 1px solid #dddddd'>scoring_id</td><td style='border: 1px solid #dddddd'>text</td><td style='border: 1px solid #dddddd'>-</td><td style='border: 1px solid #dddddd'>-</td><td style='border: 1px solid #dddddd'>-</td><td style='border: 1px solid #dddddd'>N</td></tr><tr><td style='border: 1px solid #dddddd'>scoring_timestamp</td><td style='border: 1px solid #dddddd'>timestamp</td><td style='border: 1px solid #dddddd'>8</td><td style='border: 1px solid #dddddd'>-</td><td style='border: 1px solid #dddddd'>-</td><td style='border: 1px solid #dddddd'>N</td></tr><tr><td style='border: 1px solid #dddddd'>deployment_id</td><td style='border: 1px solid #dddddd'>text</td><td style='border: 1px solid #dddddd'>-</td><td style='border: 1px solid #dddddd'>-</td><td style='border: 1px solid #dddddd'>-</td><td style='border: 1px solid #dddddd'>N</td></tr><tr><td style='border: 1px solid #dddddd'>asset_revision</td><td style='border: 1px solid #dddddd'>text</td><td style='border: 1px solid #dddddd'>-</td><td style='border: 1px solid #dddddd'>-</td><td style='border: 1px solid #dddddd'>-</td><td style='border: 1px solid #dddddd'>N</td></tr>\n            </table>\n        </body>\n        </HTML>", 
                        "text/plain": "<IPython.core.display.HTML object>"
                    }, 
                    "metadata": {}
                }
            ], 
            "source": "subscription.payload_logging.print_table_schema()"
        }, 
        {
            "source": "### 3.3 Enable Quality (Accuracy) monitor", 
            "cell_type": "markdown", 
            "metadata": {}
        }, 
        {
            "source": "#### Enable quality monitor for selected subscription", 
            "cell_type": "markdown", 
            "metadata": {}
        }, 
        {
            "execution_count": 33, 
            "cell_type": "code", 
            "metadata": {}, 
            "outputs": [], 
            "source": "subscription.quality_monitoring.enable(evaluation_method='multiclass', threshold=0.7, min_records=5)"
        }, 
        {
            "source": "#### Send some feedback records to feedback store. ", 
            "cell_type": "markdown", 
            "metadata": {}
        }, 
        {
            "source": "Feedback records are used to evaluate our model.", 
            "cell_type": "markdown", 
            "metadata": {}
        }, 
        {
            "execution_count": 34, 
            "cell_type": "code", 
            "metadata": {}, 
            "outputs": [], 
            "source": "subscription.feedback_logging.store(\n            [\n                [122, 'Male', 'S', 2, 45, 'Inactive', 'Yes', 'no wait for pick up and drop off was great', 0, 'Product: Functioning', 'Voucher'],\n                [178, 'Female', 'M', 2, 55, 'Active', 'No', 'what customer service? It was a nightmare', 0, 'Product: Information', 'Free Upgrade'],\n                [122, 'Male', 'S', 2, 45, 'Inactive', 'Yes', 'no wait for pick up and drop off was great', 0, 'Product: Functioning', 'NA'],\n                [123, 'Male', 'S', 2, 45, 'Inactive', 'Yes', 'no wait for pick up and drop off was great', 0, 'Product: Functioning', 'Voucher'],\n                [178, 'Female', 'M', 2, 55, 'Active', 'No', 'what customer service? It was a nightmare', 0, 'Product: Information', 'Free Upgrade'],\n                [124, 'Male', 'S', 2, 45, 'Inactive', 'Yes', 'no wait for pick up and drop off was great', 0, 'Product: Functioning', 'NA'],\n                [3785, 'Male', 'S', 1, 17, 'Inactive', 'Yes', 'The car should have been brought to us instead of us trying to find it in the lot.', 0, 'Product: Information', 'On-demand pickup location'],\n                [3786, 'Male', 'S', 1, 17, 'Inactive', 'Yes', 'The car should have been brought to us instead of us trying to find it in the lot.', 0, 'Product: Information', 'On-demand pickup location'],\n                [3787, 'Male', 'S', 1, 17, 'Active', 'Yes', 'The car should have been brought to us instead of us trying to find it in the lot.', 0, 'Product: Information', 'On-demand pickup location'],\n                [122, 'Male', 'S', 2, 45, 'Inactive', 'Yes', 'no wait for pick up and drop off was great', 0, 'Product: Functioning', 'Voucher'],\n                [178, 'Female', 'M', 2, 55, 'Active', 'No', 'what customer service? It was a nightmare', 0, 'Product: Information', 'Free Upgrade'],\n                [122, 'Male', 'S', 2, 45, 'Inactive', 'Yes', 'no wait for pick up and drop off was great', 0, 'Product: Functioning', 'NA']\n            ],\n            fields=['ID', 'Gender', 'Status', 'Children', 'Age', 'Customer_Status', 'Car_Owner', 'Customer_Service', 'Satisfaction', 'Business_Area', 'Action']\n        )"
        }, 
        {
            "source": "**Hint:** Accuracy (Quality) monitor is executed every hour. You can also run it on demand using below command.", 
            "cell_type": "markdown", 
            "metadata": {}
        }, 
        {
            "execution_count": 35, 
            "cell_type": "code", 
            "metadata": {}, 
            "outputs": [], 
            "source": "run_details = subscription.quality_monitoring.run()"
        }, 
        {
            "source": "You can also check evaluation run details using below command.", 
            "cell_type": "markdown", 
            "metadata": {}
        }, 
        {
            "execution_count": 36, 
            "cell_type": "code", 
            "metadata": {}, 
            "outputs": [
                {
                    "execution_count": 36, 
                    "metadata": {}, 
                    "data": {
                        "text/plain": "{'completed_at': '2018-11-15T14:47:34.230Z',\n 'data_mart_id': '534671bf-88e8-4ac9-a18a-817640c89447',\n 'flags': {'batch_size': 1000,\n  'fetch_size': 1000,\n  'parallelism': 4,\n  'window_in_millis': 2000},\n 'id': '0ec467a0-e220-408c-8218-042feda6bda1',\n 'metrics': {'accuracy': 0.5,\n  'weightedFMeasure': 0.625,\n  'weightedFalsePositiveRate': 0.0,\n  'weightedPrecision': 1.0,\n  'weightedRecall': 0.5,\n  'weightedTruePositiveRate': 0.5},\n 'problem_type': 'multiclass',\n 'rows_in_range': 12,\n 'rows_limit': 10000,\n 'service_binding_id': 'e4e87cbb-f343-4acb-a2bb-b652d82bea38',\n 'stages': [{'completed_at': '2018-11-15T14:47:22.882Z',\n   'id': 1,\n   'name': 'Prerequisite check',\n   'properties': {'input_columns': ['ID',\n     'Gender',\n     'Status',\n     'Children',\n     'Age',\n     'Customer_Status',\n     'Car_Owner',\n     'Customer_Service',\n     'Satisfaction',\n     'Business_Area'],\n    'training_columns': ['ID',\n     'Gender',\n     'Status',\n     'Children',\n     'Age',\n     'Customer_Status',\n     'Car_Owner',\n     'Customer_Service',\n     'Satisfaction',\n     'Business_Area',\n     'Action']},\n   'started_at': '2018-11-15T14:47:22.601Z'},\n  {'completed_at': '2018-11-15T14:47:33.901Z',\n   'id': 2,\n   'name': 'Acquire scorer',\n   'properties': {'scorer': {'guid': 'b8aac274-8480-4923-a276-e9b6bbfd21ee'}},\n   'started_at': '2018-11-15T14:47:23.513Z'},\n  {'completed_at': '2018-11-15T14:47:33.965Z',\n   'id': 3,\n   'name': 'Score batch',\n   'properties': {'batch_size': 12},\n   'started_at': '2018-11-15T14:47:33.905Z'},\n  {'id': 4,\n   'name': 'Release scorer',\n   'started_at': '2018-11-15T14:47:34.230Z'}],\n 'started_at': '2018-11-15T14:47:22.601Z',\n 'status': 'completed',\n 'subscription_id': 'eea0e3cf-9291-425f-834d-a67b42f9fad8',\n 'threshold': 0.7}"
                    }, 
                    "output_type": "execute_result"
                }
            ], 
            "source": "subscription.quality_monitoring.get_run_details(run_details['id'])"
        }, 
        {
            "source": "### 3.4 Enable Fairness monitor", 
            "cell_type": "markdown", 
            "metadata": {}
        }, 
        {
            "source": "#### Configure monitor", 
            "cell_type": "markdown", 
            "metadata": {}
        }, 
        {
            "execution_count": 37, 
            "cell_type": "code", 
            "metadata": {}, 
            "outputs": [], 
            "source": "from ibm_ai_openscale.supporting_classes import *\n\nsubscription.fairness_monitoring.enable(\n            features=[\n                Feature(\"Gender\", majority=['Male'], minority=['Female'], threshold=0.6),\n                Feature(\"Children\", majority=[[0,1]], minority=[[2,6]], threshold=0.6)\n            ],\n            prediction_column='predictedActionLabel',\n            favourable_classes=['Voucher'],\n            unfavourable_classes=['Free Upgrade', 'Premium features'],\n            min_records=12\n        )"
        }, 
        {
            "source": "**Hint:** Fairness monitor is executed every hour. You can also call it on demand by executing this commmand: `subscription.fairness_monitoring.run()`.", 
            "cell_type": "markdown", 
            "metadata": {}
        }, 
        {
            "source": "<a id=\"scoring\"></a>\n## 4. Score models\nWorking with `watson-machine-learning-client`.", 
            "cell_type": "markdown", 
            "metadata": {}
        }, 
        {
            "source": "#### Get the initialized `watson-machine-learning` client", 
            "cell_type": "markdown", 
            "metadata": {}
        }, 
        {
            "execution_count": 38, 
            "cell_type": "code", 
            "metadata": {}, 
            "outputs": [], 
            "source": "wml_client = client.data_mart.bindings.get_native_engine_client(binding_uid=binding_uid)"
        }, 
        {
            "source": "`watson-machine-learning-client` documentation can be found [here](wml-api-pyclient.mybluemix.net).", 
            "cell_type": "markdown", 
            "metadata": {}
        }, 
        {
            "source": "Let's list our deployments.", 
            "cell_type": "markdown", 
            "metadata": {}
        }, 
        {
            "execution_count": 39, 
            "cell_type": "code", 
            "metadata": {}, 
            "outputs": [
                {
                    "output_type": "stream", 
                    "name": "stdout", 
                    "text": "------------------------------------  -----------------------------------------  ------  --------------  ------------------------  ---------  -------------\nGUID                                  NAME                                       TYPE    STATE           CREATED                   FRAMEWORK  ARTIFACT TYPE\n65c316d4-293d-4ea1-b6e0-07dc3652ad43  CARS4U - Area and Action Model Deployment  online  DEPLOY_SUCCESS  2018-11-15T14:41:48.325Z  mllib-2.1  model\n------------------------------------  -----------------------------------------  ------  --------------  ------------------------  ---------  -------------\n"
                }
            ], 
            "source": "wml_client.deployments.list()"
        }, 
        {
            "source": "Let's extract scoring_ednpoints for both deployments.", 
            "cell_type": "markdown", 
            "metadata": {}
        }, 
        {
            "execution_count": 40, 
            "cell_type": "code", 
            "metadata": {}, 
            "outputs": [], 
            "source": "cars4u_scoring_endpoint = None\n\nfor deployment in wml_client.deployments.get_details()['resources']:\n    if 'cars4u' in deployment['entity']['deployable_asset']['name'].lower():\n        cars4u_scoring_endpoint = deployment['entity']['scoring_url']"
        }, 
        {
            "source": "### Score the CARS4U model", 
            "cell_type": "markdown", 
            "metadata": {}
        }, 
        {
            "execution_count": 41, 
            "cell_type": "code", 
            "metadata": {}, 
            "outputs": [
                {
                    "output_type": "stream", 
                    "name": "stdout", 
                    "text": "[3785, 'Male', 'S', 1, 17.0, 'Inactive', 'Yes', 'The car should have been brought to us instead of us trying to find it in the lot.', 0, 'Product: Information', 'NA', ['the', 'car', 'should', 'have', 'been', 'brought', 'to', 'us', 'instead', 'of', 'us', 'trying', 'to', 'find', 'it', 'in', 'the', 'lot.'], [262144, [9639, 21872, 74079, 86175, 91878, 99585, 103838, 175817, 205044, 218965, 222453, 227152, 227431, 229772, 253475], [1.0, 2.0, 1.0, 1.0, 1.0, 1.0, 2.0, 1.0, 2.0, 1.0, 1.0, 1.0, 1.0, 1.0, 1.0]], [262144, [9639, 21872, 74079, 86175, 91878, 99585, 103838, 175817, 205044, 218965, 222453, 227152, 227431, 229772, 253475], [1.7665692203994965, 5.586416018885034, 0.0, 1.601813987323441, 3.332204510175204, 3.406312482328926, 1.3259882847785156, 3.8918202981106265, 1.567752067899415, 4.179502370562408, 1.8769172775683618, 0.0, 3.573366566992092, 1.1429481024881614, 1.8603879756171513]], 7.0, [139.0, 80.0, 11.0, 16.0, 14.0, 15.0, 14.0, 7.0], [0.46959459459459457, 0.2702702702702703, 0.037162162162162164, 0.05405405405405406, 0.0472972972972973, 0.05067567567567568, 0.0472972972972973, 0.02364864864864865], 0.0, 'Service: Knowledge', 0.0, 1.0, 1.0, 0.0, 1.0, [0.0, 1.0, 1.0, 1.0, 1.0, 17.0, 0.0, 0.0], [0.0, 0.0, 5.0, 0.0, 0.0], [0.0, 0.0, 1.0, 0.0, 0.0], 2.0, 'On-demand pickup location']\n"
                }
            ], 
            "source": "fields = ['ID', 'Gender', 'Status', 'Children', 'Age', 'Customer_Status','Car_Owner', 'Customer_Service', 'Satisfaction', 'Business_Area']\nvalues = [  [3785, 'Male', 'S', 1, 17, 'Inactive', 'Yes', 'The car should have been brought to us instead of us trying to find it in the lot.', 0, 'Product: Information'],\n            [122, 'Male', 'S', 2, 45, 'Inactive', 'Yes', 'no wait for pick up and drop off was great', 0, 'Product: Functioning'],\n            [178, 'Male', 'M', 4, 55, 'Active', 'No', 'what customer service? It was a nightmare', 0, 'Product: Information'],\n            [201, 'Female', 'S', 0, 37, 'Inactive', 'No', 'delayed shuttle, almost missed flight', 0, 'Service: Knowledge']]\n\npayload_scoring = {\"fields\": fields,\"values\": values}\n\nfor i in range(1, 30):\n    scores = wml_client.deployments.score(cars4u_scoring_endpoint, payload_scoring)\n    \nprint(scores['values'][0])"
        }, 
        {
            "source": "<a id=\"datamart\"></a>\n## 5. Data mart", 
            "cell_type": "markdown", 
            "metadata": {}
        }, 
        {
            "source": "### 5.1 Accessing tables data via subscription\n- `show_table`\n- `describe_table`\n- `get_table_content(format='pandas')`", 
            "cell_type": "markdown", 
            "metadata": {}
        }, 
        {
            "source": "### Preview table content", 
            "cell_type": "markdown", 
            "metadata": {}
        }, 
        {
            "source": "#### Run fairness check on demand", 
            "cell_type": "markdown", 
            "metadata": {}
        }, 
        {
            "execution_count": 42, 
            "cell_type": "code", 
            "metadata": {}, 
            "outputs": [], 
            "source": "subscription.fairness_monitoring.run()"
        }, 
        {
            "source": "**Hint**: It may take up to minute before fariness results are availbale in the table. Let's wait 30 seconds.", 
            "cell_type": "markdown", 
            "metadata": {}
        }, 
        {
            "execution_count": 43, 
            "cell_type": "code", 
            "metadata": {}, 
            "outputs": [], 
            "source": "import time\n\ntime.sleep(30)"
        }, 
        {
            "execution_count": 44, 
            "cell_type": "code", 
            "metadata": {}, 
            "outputs": [
                {
                    "output_type": "display_data", 
                    "data": {
                        "text/html": "<HTML>\n        <body>\n            <h3>FairnessMetrics (subscription_id=eea0e3cf-9291-425f-834d-a67b42f9fad8, binding_id=e4e87cbb-f343-4acb-a2bb-b652d82bea38)</h3>\n            <table style='border: 1px solid #dddddd; font-family: Courier'>\n                <th style='border: 1px solid #dddddd'>ts</th><th style='border: 1px solid #dddddd'>feature</th><th style='border: 1px solid #dddddd'>feature_value</th><th style='border: 1px solid #dddddd'>fairness_biased</th><th style='border: 1px solid #dddddd'>fairness_value</th><th style='border: 1px solid #dddddd'>fairness_fav_class</th><th style='border: 1px solid #dddddd'>binding_id</th><th style='border: 1px solid #dddddd'>subscription_id</th><th style='border: 1px solid #dddddd'>asset_revision</th><th style='border: 1px solid #dddddd'>deployment_id</th><th style='border: 1px solid #dddddd'>process</th>\n                <tr><td style='border: 1px solid #dddddd'>2018-11-15 14:48:49.999294</td><td style='border: 1px solid #dddddd'>Gender</td><td style='border: 1px solid #dddddd'>Female</td><td style='border: 1px solid #dddddd'>False</td><td style='border: 1px solid #dddddd'>1.0</td><td style='border: 1px solid #dddddd'>0.0</td><td style='border: 1px solid #dddddd'>e4e87cbb-f343-4acb-a2bb-b652d82bea38</td><td style='border: 1px solid #dddddd'>eea0e3cf-9291-425f-834d-a67b42f9fad8</td><td style='border: 1px solid #dddddd'>eea0e3cf-9291-425f-834d-a67b42f9fad8</td><td style='border: 1px solid #dddddd'>65c316d4-293d-4ea1-b6e0-07dc3652ad43</td><td style='border: 1px solid #dddddd'>None</td></tr><tr><td style='border: 1px solid #dddddd'>2018-11-15 14:48:49.999294</td><td style='border: 1px solid #dddddd'>Children</td><td style='border: 1px solid #dddddd'>[2, 6]</td><td style='border: 1px solid #dddddd'>False</td><td style='border: 1px solid #dddddd'>1.0</td><td style='border: 1px solid #dddddd'>0.0</td><td style='border: 1px solid #dddddd'>e4e87cbb-f343-4acb-a2bb-b652d82bea38</td><td style='border: 1px solid #dddddd'>eea0e3cf-9291-425f-834d-a67b42f9fad8</td><td style='border: 1px solid #dddddd'>eea0e3cf-9291-425f-834d-a67b42f9fad8</td><td style='border: 1px solid #dddddd'>65c316d4-293d-4ea1-b6e0-07dc3652ad43</td><td style='border: 1px solid #dddddd'>None</td></tr><tr><td style='border: 1px solid #dddddd'>2018-11-15 14:48:23.264013</td><td style='border: 1px solid #dddddd'>Gender</td><td style='border: 1px solid #dddddd'>Female</td><td style='border: 1px solid #dddddd'>False</td><td style='border: 1px solid #dddddd'>1.0</td><td style='border: 1px solid #dddddd'>0.0</td><td style='border: 1px solid #dddddd'>e4e87cbb-f343-4acb-a2bb-b652d82bea38</td><td style='border: 1px solid #dddddd'>eea0e3cf-9291-425f-834d-a67b42f9fad8</td><td style='border: 1px solid #dddddd'>eea0e3cf-9291-425f-834d-a67b42f9fad8</td><td style='border: 1px solid #dddddd'>65c316d4-293d-4ea1-b6e0-07dc3652ad43</td><td style='border: 1px solid #dddddd'>None</td></tr><tr><td style='border: 1px solid #dddddd'>2018-11-15 14:48:23.264013</td><td style='border: 1px solid #dddddd'>Children</td><td style='border: 1px solid #dddddd'>[2, 6]</td><td style='border: 1px solid #dddddd'>False</td><td style='border: 1px solid #dddddd'>1.0</td><td style='border: 1px solid #dddddd'>0.0</td><td style='border: 1px solid #dddddd'>e4e87cbb-f343-4acb-a2bb-b652d82bea38</td><td style='border: 1px solid #dddddd'>eea0e3cf-9291-425f-834d-a67b42f9fad8</td><td style='border: 1px solid #dddddd'>eea0e3cf-9291-425f-834d-a67b42f9fad8</td><td style='border: 1px solid #dddddd'>65c316d4-293d-4ea1-b6e0-07dc3652ad43</td><td style='border: 1px solid #dddddd'>None</td></tr>\n            </table>\n        </body>\n        </HTML>", 
                        "text/plain": "<IPython.core.display.HTML object>"
                    }, 
                    "metadata": {}
                }
            ], 
            "source": "subscription.fairness_monitoring.show_table()"
        }, 
        {
            "execution_count": 45, 
            "cell_type": "code", 
            "metadata": {}, 
            "outputs": [
                {
                    "output_type": "display_data", 
                    "data": {
                        "text/html": "<HTML>\n        <body>\n            <h3>Payload_eea0e3cf-9291-425f-834d-a67b42f9fad8</h3>\n            <table style='border: 1px solid #dddddd; font-family: Courier'>\n                <th style='border: 1px solid #dddddd'>ID</th><th style='border: 1px solid #dddddd'>Gender</th><th style='border: 1px solid #dddddd'>Status</th><th style='border: 1px solid #dddddd'>Children</th><th style='border: 1px solid #dddddd'>Age</th><th style='border: 1px solid #dddddd'>Customer_Status</th><th style='border: 1px solid #dddddd'>Car_Owner</th><th style='border: 1px solid #dddddd'>Customer_Service</th><th style='border: 1px solid #dddddd'>Satisfaction</th><th style='border: 1px solid #dddddd'>Business_Area</th><th style='border: 1px solid #dddddd'>prediction</th><th style='border: 1px solid #dddddd'>predictedActionLabel</th><th style='border: 1px solid #dddddd'>probability</th><th style='border: 1px solid #dddddd'>debiased_prediction</th><th style='border: 1px solid #dddddd'>debiased_probability</th><th style='border: 1px solid #dddddd'>debiased_decoded_target</th><th style='border: 1px solid #dddddd'>scoring_id</th><th style='border: 1px solid #dddddd'>scoring_timestamp</th><th style='border: 1px solid #dddddd'>deployment_id</th><th style='border: 1px solid #dddddd'>asset_revision</th>\n                <tr><td style='border: 1px solid #dddddd'>3785</td><td style='border: 1px solid #dddddd'>Male</td><td style='border: 1px solid #dddddd'>S</td><td style='border: 1px solid #dddddd'>1</td><td style='border: 1px solid #dddddd'>17.0</td><td style='border: 1px solid #dddddd'>Inactive</td><td style='border: 1px solid #dddddd'>Yes</td><td style='border: 1px solid #dddddd'>The car should have been brought to us instead of us trying to find it in the lot.</td><td style='border: 1px solid #dddddd'>0</td><td style='border: 1px solid #dddddd'>Product: Information</td><td style='border: 1px solid #dddddd'>2.0</td><td style='border: 1px solid #dddddd'>On-demand pickup location</td><td style='border: 1px solid #dddddd'>[0.0, 0.0, 1.0, 0.0, 0.0]</td><td style='border: 1px solid #dddddd'>None</td><td style='border: 1px solid #dddddd'>None</td><td style='border: 1px solid #dddddd'>None</td><td style='border: 1px solid #dddddd'>9d0a77724505d9cbe533f1f4b556c72f-1</td><td style='border: 1px solid #dddddd'>2018-11-15 14:48:03.211000</td><td style='border: 1px solid #dddddd'>65c316d4-293d-4ea1-b6e0-07dc3652ad43</td><td style='border: 1px solid #dddddd'>1d4a7ba7-d736-4974-94ed-4e8a8ff8c385</td></tr><tr><td style='border: 1px solid #dddddd'>122</td><td style='border: 1px solid #dddddd'>Male</td><td style='border: 1px solid #dddddd'>S</td><td style='border: 1px solid #dddddd'>2</td><td style='border: 1px solid #dddddd'>45.0</td><td style='border: 1px solid #dddddd'>Inactive</td><td style='border: 1px solid #dddddd'>Yes</td><td style='border: 1px solid #dddddd'>no wait for pick up and drop off was great</td><td style='border: 1px solid #dddddd'>0</td><td style='border: 1px solid #dddddd'>Product: Functioning</td><td style='border: 1px solid #dddddd'>1.0</td><td style='border: 1px solid #dddddd'>Free Upgrade</td><td style='border: 1px solid #dddddd'>[0.0, 0.3076923076923077, 0.2564102564102564, 0.20512820512820512, 0.23076923076923078]</td><td style='border: 1px solid #dddddd'>None</td><td style='border: 1px solid #dddddd'>None</td><td style='border: 1px solid #dddddd'>None</td><td style='border: 1px solid #dddddd'>9d0a77724505d9cbe533f1f4b556c72f-2</td><td style='border: 1px solid #dddddd'>2018-11-15 14:48:03.211000</td><td style='border: 1px solid #dddddd'>65c316d4-293d-4ea1-b6e0-07dc3652ad43</td><td style='border: 1px solid #dddddd'>1d4a7ba7-d736-4974-94ed-4e8a8ff8c385</td></tr><tr><td style='border: 1px solid #dddddd'>178</td><td style='border: 1px solid #dddddd'>Male</td><td style='border: 1px solid #dddddd'>M</td><td style='border: 1px solid #dddddd'>4</td><td style='border: 1px solid #dddddd'>55.0</td><td style='border: 1px solid #dddddd'>Active</td><td style='border: 1px solid #dddddd'>No</td><td style='border: 1px solid #dddddd'>what customer service? It was a nightmare</td><td style='border: 1px solid #dddddd'>0</td><td style='border: 1px solid #dddddd'>Product: Information</td><td style='border: 1px solid #dddddd'>1.0</td><td style='border: 1px solid #dddddd'>Free Upgrade</td><td style='border: 1px solid #dddddd'>[0.0, 0.3076923076923077, 0.2564102564102564, 0.20512820512820512, 0.23076923076923078]</td><td style='border: 1px solid #dddddd'>None</td><td style='border: 1px solid #dddddd'>None</td><td style='border: 1px solid #dddddd'>None</td><td style='border: 1px solid #dddddd'>9d0a77724505d9cbe533f1f4b556c72f-3</td><td style='border: 1px solid #dddddd'>2018-11-15 14:48:03.211000</td><td style='border: 1px solid #dddddd'>65c316d4-293d-4ea1-b6e0-07dc3652ad43</td><td style='border: 1px solid #dddddd'>1d4a7ba7-d736-4974-94ed-4e8a8ff8c385</td></tr><tr><td style='border: 1px solid #dddddd'>201</td><td style='border: 1px solid #dddddd'>Female</td><td style='border: 1px solid #dddddd'>S</td><td style='border: 1px solid #dddddd'>0</td><td style='border: 1px solid #dddddd'>37.0</td><td style='border: 1px solid #dddddd'>Inactive</td><td style='border: 1px solid #dddddd'>No</td><td style='border: 1px solid #dddddd'>delayed shuttle, almost missed flight</td><td style='border: 1px solid #dddddd'>0</td><td style='border: 1px solid #dddddd'>Service: Knowledge</td><td style='border: 1px solid #dddddd'>1.0</td><td style='border: 1px solid #dddddd'>Free Upgrade</td><td style='border: 1px solid #dddddd'>[0.0, 0.3076923076923077, 0.2564102564102564, 0.20512820512820512, 0.23076923076923078]</td><td style='border: 1px solid #dddddd'>None</td><td style='border: 1px solid #dddddd'>None</td><td style='border: 1px solid #dddddd'>None</td><td style='border: 1px solid #dddddd'>9d0a77724505d9cbe533f1f4b556c72f-4</td><td style='border: 1px solid #dddddd'>2018-11-15 14:48:03.211000</td><td style='border: 1px solid #dddddd'>65c316d4-293d-4ea1-b6e0-07dc3652ad43</td><td style='border: 1px solid #dddddd'>1d4a7ba7-d736-4974-94ed-4e8a8ff8c385</td></tr><tr><td style='border: 1px solid #dddddd'>3785</td><td style='border: 1px solid #dddddd'>Male</td><td style='border: 1px solid #dddddd'>S</td><td style='border: 1px solid #dddddd'>1</td><td style='border: 1px solid #dddddd'>17.0</td><td style='border: 1px solid #dddddd'>Inactive</td><td style='border: 1px solid #dddddd'>Yes</td><td style='border: 1px solid #dddddd'>The car should have been brought to us instead of us trying to find it in the lot.</td><td style='border: 1px solid #dddddd'>0</td><td style='border: 1px solid #dddddd'>Product: Information</td><td style='border: 1px solid #dddddd'>2.0</td><td style='border: 1px solid #dddddd'>On-demand pickup location</td><td style='border: 1px solid #dddddd'>[0.0, 0.0, 1.0, 0.0, 0.0]</td><td style='border: 1px solid #dddddd'>None</td><td style='border: 1px solid #dddddd'>None</td><td style='border: 1px solid #dddddd'>None</td><td style='border: 1px solid #dddddd'>00b3ae9dde709aee2e34f87b8a737ebe-1</td><td style='border: 1px solid #dddddd'>2018-11-15 14:48:03.314000</td><td style='border: 1px solid #dddddd'>65c316d4-293d-4ea1-b6e0-07dc3652ad43</td><td style='border: 1px solid #dddddd'>1d4a7ba7-d736-4974-94ed-4e8a8ff8c385</td></tr><tr><td style='border: 1px solid #dddddd'>122</td><td style='border: 1px solid #dddddd'>Male</td><td style='border: 1px solid #dddddd'>S</td><td style='border: 1px solid #dddddd'>2</td><td style='border: 1px solid #dddddd'>45.0</td><td style='border: 1px solid #dddddd'>Inactive</td><td style='border: 1px solid #dddddd'>Yes</td><td style='border: 1px solid #dddddd'>no wait for pick up and drop off was great</td><td style='border: 1px solid #dddddd'>0</td><td style='border: 1px solid #dddddd'>Product: Functioning</td><td style='border: 1px solid #dddddd'>1.0</td><td style='border: 1px solid #dddddd'>Free Upgrade</td><td style='border: 1px solid #dddddd'>[0.0, 0.3076923076923077, 0.2564102564102564, 0.20512820512820512, 0.23076923076923078]</td><td style='border: 1px solid #dddddd'>None</td><td style='border: 1px solid #dddddd'>None</td><td style='border: 1px solid #dddddd'>None</td><td style='border: 1px solid #dddddd'>00b3ae9dde709aee2e34f87b8a737ebe-2</td><td style='border: 1px solid #dddddd'>2018-11-15 14:48:03.314000</td><td style='border: 1px solid #dddddd'>65c316d4-293d-4ea1-b6e0-07dc3652ad43</td><td style='border: 1px solid #dddddd'>1d4a7ba7-d736-4974-94ed-4e8a8ff8c385</td></tr><tr><td style='border: 1px solid #dddddd'>178</td><td style='border: 1px solid #dddddd'>Male</td><td style='border: 1px solid #dddddd'>M</td><td style='border: 1px solid #dddddd'>4</td><td style='border: 1px solid #dddddd'>55.0</td><td style='border: 1px solid #dddddd'>Active</td><td style='border: 1px solid #dddddd'>No</td><td style='border: 1px solid #dddddd'>what customer service? It was a nightmare</td><td style='border: 1px solid #dddddd'>0</td><td style='border: 1px solid #dddddd'>Product: Information</td><td style='border: 1px solid #dddddd'>1.0</td><td style='border: 1px solid #dddddd'>Free Upgrade</td><td style='border: 1px solid #dddddd'>[0.0, 0.3076923076923077, 0.2564102564102564, 0.20512820512820512, 0.23076923076923078]</td><td style='border: 1px solid #dddddd'>None</td><td style='border: 1px solid #dddddd'>None</td><td style='border: 1px solid #dddddd'>None</td><td style='border: 1px solid #dddddd'>00b3ae9dde709aee2e34f87b8a737ebe-3</td><td style='border: 1px solid #dddddd'>2018-11-15 14:48:03.314000</td><td style='border: 1px solid #dddddd'>65c316d4-293d-4ea1-b6e0-07dc3652ad43</td><td style='border: 1px solid #dddddd'>1d4a7ba7-d736-4974-94ed-4e8a8ff8c385</td></tr><tr><td style='border: 1px solid #dddddd'>201</td><td style='border: 1px solid #dddddd'>Female</td><td style='border: 1px solid #dddddd'>S</td><td style='border: 1px solid #dddddd'>0</td><td style='border: 1px solid #dddddd'>37.0</td><td style='border: 1px solid #dddddd'>Inactive</td><td style='border: 1px solid #dddddd'>No</td><td style='border: 1px solid #dddddd'>delayed shuttle, almost missed flight</td><td style='border: 1px solid #dddddd'>0</td><td style='border: 1px solid #dddddd'>Service: Knowledge</td><td style='border: 1px solid #dddddd'>1.0</td><td style='border: 1px solid #dddddd'>Free Upgrade</td><td style='border: 1px solid #dddddd'>[0.0, 0.3076923076923077, 0.2564102564102564, 0.20512820512820512, 0.23076923076923078]</td><td style='border: 1px solid #dddddd'>None</td><td style='border: 1px solid #dddddd'>None</td><td style='border: 1px solid #dddddd'>None</td><td style='border: 1px solid #dddddd'>00b3ae9dde709aee2e34f87b8a737ebe-4</td><td style='border: 1px solid #dddddd'>2018-11-15 14:48:03.314000</td><td style='border: 1px solid #dddddd'>65c316d4-293d-4ea1-b6e0-07dc3652ad43</td><td style='border: 1px solid #dddddd'>1d4a7ba7-d736-4974-94ed-4e8a8ff8c385</td></tr><tr><td style='border: 1px solid #dddddd'>3785</td><td style='border: 1px solid #dddddd'>Male</td><td style='border: 1px solid #dddddd'>S</td><td style='border: 1px solid #dddddd'>1</td><td style='border: 1px solid #dddddd'>17.0</td><td style='border: 1px solid #dddddd'>Inactive</td><td style='border: 1px solid #dddddd'>Yes</td><td style='border: 1px solid #dddddd'>The car should have been brought to us instead of us trying to find it in the lot.</td><td style='border: 1px solid #dddddd'>0</td><td style='border: 1px solid #dddddd'>Product: Information</td><td style='border: 1px solid #dddddd'>2.0</td><td style='border: 1px solid #dddddd'>On-demand pickup location</td><td style='border: 1px solid #dddddd'>[0.0, 0.0, 1.0, 0.0, 0.0]</td><td style='border: 1px solid #dddddd'>None</td><td style='border: 1px solid #dddddd'>None</td><td style='border: 1px solid #dddddd'>None</td><td style='border: 1px solid #dddddd'>9dc6c15f70685d6b8fd84532bc9f2b80-1</td><td style='border: 1px solid #dddddd'>2018-11-15 14:48:03.142000</td><td style='border: 1px solid #dddddd'>65c316d4-293d-4ea1-b6e0-07dc3652ad43</td><td style='border: 1px solid #dddddd'>1d4a7ba7-d736-4974-94ed-4e8a8ff8c385</td></tr><tr><td style='border: 1px solid #dddddd'>122</td><td style='border: 1px solid #dddddd'>Male</td><td style='border: 1px solid #dddddd'>S</td><td style='border: 1px solid #dddddd'>2</td><td style='border: 1px solid #dddddd'>45.0</td><td style='border: 1px solid #dddddd'>Inactive</td><td style='border: 1px solid #dddddd'>Yes</td><td style='border: 1px solid #dddddd'>no wait for pick up and drop off was great</td><td style='border: 1px solid #dddddd'>0</td><td style='border: 1px solid #dddddd'>Product: Functioning</td><td style='border: 1px solid #dddddd'>1.0</td><td style='border: 1px solid #dddddd'>Free Upgrade</td><td style='border: 1px solid #dddddd'>[0.0, 0.3076923076923077, 0.2564102564102564, 0.20512820512820512, 0.23076923076923078]</td><td style='border: 1px solid #dddddd'>None</td><td style='border: 1px solid #dddddd'>None</td><td style='border: 1px solid #dddddd'>None</td><td style='border: 1px solid #dddddd'>9dc6c15f70685d6b8fd84532bc9f2b80-2</td><td style='border: 1px solid #dddddd'>2018-11-15 14:48:03.142000</td><td style='border: 1px solid #dddddd'>65c316d4-293d-4ea1-b6e0-07dc3652ad43</td><td style='border: 1px solid #dddddd'>1d4a7ba7-d736-4974-94ed-4e8a8ff8c385</td></tr>\n            </table>\n        </body>\n        </HTML>", 
                        "text/plain": "<IPython.core.display.HTML object>"
                    }, 
                    "metadata": {}
                }, 
                {
                    "output_type": "stream", 
                    "name": "stdout", 
                    "text": "Note: First 10 records were displayed.\n"
                }
            ], 
            "source": "subscription.payload_logging.show_table()"
        }, 
        {
            "execution_count": 46, 
            "cell_type": "code", 
            "metadata": {}, 
            "outputs": [
                {
                    "output_type": "display_data", 
                    "data": {
                        "text/html": "<HTML>\n        <body>\n            <h3>PerformanceMetrics (subscription_id=eea0e3cf-9291-425f-834d-a67b42f9fad8, binding_id=e4e87cbb-f343-4acb-a2bb-b652d82bea38)</h3>\n            <table style='border: 1px solid #dddddd; font-family: Courier'>\n                <th style='border: 1px solid #dddddd'>ts</th><th style='border: 1px solid #dddddd'>scoring_time</th><th style='border: 1px solid #dddddd'>scoring_records</th><th style='border: 1px solid #dddddd'>binding_id</th><th style='border: 1px solid #dddddd'>subscription_id</th><th style='border: 1px solid #dddddd'>deployment_id</th><th style='border: 1px solid #dddddd'>process</th><th style='border: 1px solid #dddddd'>asset_revision</th>\n                <tr><td style='border: 1px solid #dddddd'>2018-11-15 14:48:03.255000</td><td style='border: 1px solid #dddddd'>8.0</td><td style='border: 1px solid #dddddd'>24</td><td style='border: 1px solid #dddddd'>e4e87cbb-f343-4acb-a2bb-b652d82bea38</td><td style='border: 1px solid #dddddd'>eea0e3cf-9291-425f-834d-a67b42f9fad8</td><td style='border: 1px solid #dddddd'>65c316d4-293d-4ea1-b6e0-07dc3652ad43</td><td style='border: 1px solid #dddddd'>None</td><td style='border: 1px solid #dddddd'>1d4a7ba7-d736-4974-94ed-4e8a8ff8c385</td></tr><tr><td style='border: 1px solid #dddddd'>2018-11-15 14:48:03.225000</td><td style='border: 1px solid #dddddd'>8.0</td><td style='border: 1px solid #dddddd'>28</td><td style='border: 1px solid #dddddd'>e4e87cbb-f343-4acb-a2bb-b652d82bea38</td><td style='border: 1px solid #dddddd'>eea0e3cf-9291-425f-834d-a67b42f9fad8</td><td style='border: 1px solid #dddddd'>65c316d4-293d-4ea1-b6e0-07dc3652ad43</td><td style='border: 1px solid #dddddd'>None</td><td style='border: 1px solid #dddddd'>1d4a7ba7-d736-4974-94ed-4e8a8ff8c385</td></tr><tr><td style='border: 1px solid #dddddd'>2018-11-15 14:48:03.142000</td><td style='border: 1px solid #dddddd'>15.0</td><td style='border: 1px solid #dddddd'>32</td><td style='border: 1px solid #dddddd'>e4e87cbb-f343-4acb-a2bb-b652d82bea38</td><td style='border: 1px solid #dddddd'>eea0e3cf-9291-425f-834d-a67b42f9fad8</td><td style='border: 1px solid #dddddd'>65c316d4-293d-4ea1-b6e0-07dc3652ad43</td><td style='border: 1px solid #dddddd'>None</td><td style='border: 1px solid #dddddd'>1d4a7ba7-d736-4974-94ed-4e8a8ff8c385</td></tr>\n            </table>\n        </body>\n        </HTML>", 
                        "text/plain": "<IPython.core.display.HTML object>"
                    }, 
                    "metadata": {}
                }
            ], 
            "source": "subscription.performance_monitoring.show_table()"
        }, 
        {
            "execution_count": 47, 
            "cell_type": "code", 
            "metadata": {}, 
            "outputs": [
                {
                    "output_type": "display_data", 
                    "data": {
                        "text/html": "<HTML>\n        <body>\n            <h3>QualityMetrics (subscription_id=eea0e3cf-9291-425f-834d-a67b42f9fad8, binding_id=e4e87cbb-f343-4acb-a2bb-b652d82bea38)</h3>\n            <table style='border: 1px solid #dddddd; font-family: Courier'>\n                <th style='border: 1px solid #dddddd'>ts</th><th style='border: 1px solid #dddddd'>quality</th><th style='border: 1px solid #dddddd'>quality_threshold</th><th style='border: 1px solid #dddddd'>binding_id</th><th style='border: 1px solid #dddddd'>subscription_id</th><th style='border: 1px solid #dddddd'>deployment_id</th><th style='border: 1px solid #dddddd'>process</th><th style='border: 1px solid #dddddd'>asset_revision</th>\n                <tr><td style='border: 1px solid #dddddd'>2018-11-15 14:47:22.601000</td><td style='border: 1px solid #dddddd'>0.5</td><td style='border: 1px solid #dddddd'>0.7</td><td style='border: 1px solid #dddddd'>e4e87cbb-f343-4acb-a2bb-b652d82bea38</td><td style='border: 1px solid #dddddd'>eea0e3cf-9291-425f-834d-a67b42f9fad8</td><td style='border: 1px solid #dddddd'>None</td><td style='border: 1px solid #dddddd'>Accuracy_evaluation_0ec467a0-e220-408c-8218-042feda6bda1</td><td style='border: 1px solid #dddddd'>None</td></tr>\n            </table>\n        </body>\n        </HTML>", 
                        "text/plain": "<IPython.core.display.HTML object>"
                    }, 
                    "metadata": {}
                }
            ], 
            "source": "subscription.quality_monitoring.show_table()"
        }, 
        {
            "source": "### Describe table (basic stats on table)", 
            "cell_type": "markdown", 
            "metadata": {}
        }, 
        {
            "execution_count": 48, 
            "cell_type": "code", 
            "metadata": {}, 
            "outputs": [
                {
                    "output_type": "stream", 
                    "name": "stdout", 
                    "text": "                ID    Children        Age  Satisfaction  prediction\ncount   116.000000  116.000000  116.00000         116.0  116.000000\nmean   1071.500000    1.750000   38.50000           0.0    1.250000\nstd    1573.701273    1.485437   14.01583           0.0    0.434891\nmin     122.000000    0.000000   17.00000           0.0    1.000000\n25%     164.000000    0.750000   32.00000           0.0    1.000000\n50%     189.500000    1.500000   41.00000           0.0    1.000000\n75%    1097.000000    2.500000   47.50000           0.0    1.250000\nmax    3785.000000    4.000000   55.00000           0.0    2.000000\n"
                }
            ], 
            "source": "subscription.payload_logging.describe_table()"
        }, 
        {
            "source": "### Get table content as pandas dataframe", 
            "cell_type": "markdown", 
            "metadata": {}
        }, 
        {
            "execution_count": 49, 
            "cell_type": "code", 
            "metadata": {}, 
            "outputs": [], 
            "source": "pandas_df = subscription.payload_logging.get_table_content(format='pandas')"
        }, 
        {
            "execution_count": 50, 
            "cell_type": "code", 
            "metadata": {}, 
            "outputs": [
                {
                    "execution_count": 50, 
                    "metadata": {}, 
                    "data": {
                        "text/plain": "<matplotlib.axes._subplots.AxesSubplot at 0x7f6b3baac908>"
                    }, 
                    "output_type": "execute_result"
                }, 
                {
                    "output_type": "display_data", 
                    "data": {
                        "image/png": "[encoded data removed]", 
                        "text/plain": "<matplotlib.figure.Figure at 0x7f6b3baac2e8>"
                    }, 
                    "metadata": {}
                }
            ], 
            "source": "%matplotlib inline\n\npandas_df.boxplot()"
        }, 
        {
            "source": "### 5.2 Accessing data mart metrics\n- performance\n- quality\n- fairness", 
            "cell_type": "markdown", 
            "metadata": {}
        }, 
        {
            "source": "Get all metrics.", 
            "cell_type": "markdown", 
            "metadata": {}
        }, 
        {
            "execution_count": 51, 
            "cell_type": "code", 
            "metadata": {}, 
            "outputs": [], 
            "source": "deployments_metrics = client.data_mart.get_deployment_metrics()"
        }, 
        {
            "source": "Get metric for particular deployment.", 
            "cell_type": "markdown", 
            "metadata": {}
        }, 
        {
            "execution_count": 52, 
            "cell_type": "code", 
            "metadata": {}, 
            "outputs": [
                {
                    "execution_count": 52, 
                    "metadata": {}, 
                    "data": {
                        "text/plain": "{'end': '2018-11-15T14:50:21.987925Z',\n 'metrics': [{'process': 'Accuracy_evaluation_0ec467a0-e220-408c-8218-042feda6bda1',\n   'timestamp': '2018-11-15T14:47:22.601Z',\n   'value': {'metrics': [{'name': 'weightedTruePositiveRate', 'value': 0.5},\n     {'name': 'accuracy', 'value': 0.5},\n     {'name': 'weightedFMeasure', 'value': 0.625},\n     {'name': 'weightedRecall', 'value': 0.5},\n     {'name': 'weightedFalsePositiveRate', 'value': 0.0},\n     {'name': 'weightedPrecision', 'value': 1.0}],\n    'quality': 0.5,\n    'threshold': 0.7}}],\n 'start': '2018-11-15T13:45:49.773Z'}"
                    }, 
                    "output_type": "execute_result"
                }
            ], 
            "source": "subscription.quality_monitoring.get_metrics(deployment_uid=subscription.get_deployment_uids()[0])"
        }, 
        {
            "source": "<a id=\"setup\"></a>\n## 6. Visualization", 
            "cell_type": "markdown", 
            "metadata": {}
        }, 
        {
            "source": "Get the performance metrics as pandas dataframe.", 
            "cell_type": "markdown", 
            "metadata": {}
        }, 
        {
            "execution_count": 53, 
            "cell_type": "code", 
            "metadata": {}, 
            "outputs": [], 
            "source": "performance_pdf = subscription.performance_monitoring.get_table_content()"
        }, 
        {
            "source": "Let's enrich our data by calculating additional metric: `throughput`", 
            "cell_type": "markdown", 
            "metadata": {}
        }, 
        {
            "execution_count": 54, 
            "cell_type": "code", 
            "metadata": {}, 
            "outputs": [], 
            "source": "performance_pdf['throughput'] = performance_pdf.apply(lambda row: float((row.scoring_records/row.scoring_time*1000)) ,axis=1)\nperformance_pdf['date'] = performance_pdf['ts'].dt.date\nperformance_aggregated_daily = performance_pdf.groupby(['date']).agg({'throughput': 'mean', 'scoring_records': sum, 'scoring_time': sum})"
        }, 
        {
            "source": "Let's plot metrics over time using plotly package.", 
            "cell_type": "markdown", 
            "metadata": {}
        }, 
        {
            "execution_count": 55, 
            "cell_type": "code", 
            "metadata": {}, 
            "outputs": [
                {
                    "output_type": "display_data", 
                    "data": {
                        "text/html": "<script>requirejs.config({paths: { 'plotly': ['https://cdn.plot.ly/plotly-latest.min']},});if(!window.Plotly) {{require(['plotly'],function(plotly) {window.Plotly=plotly;});}}</script>", 
                        "text/vnd.plotly.v1+html": "<script>requirejs.config({paths: { 'plotly': ['https://cdn.plot.ly/plotly-latest.min']},});if(!window.Plotly) {{require(['plotly'],function(plotly) {window.Plotly=plotly;});}}</script>"
                    }, 
                    "metadata": {}
                }
            ], 
            "source": "import sys\nimport os\nimport plotly.plotly as py\nfrom plotly.offline import download_plotlyjs, init_notebook_mode, plot, iplot\nimport plotly.graph_objs as go\n\ninit_notebook_mode(connected=True)\nsys.path.append(\"\".join([os.environ[\"HOME\"]]))"
        }, 
        {
            "source": "Create a trace.", 
            "cell_type": "markdown", 
            "metadata": {}
        }, 
        {
            "execution_count": 56, 
            "cell_type": "code", 
            "metadata": {}, 
            "outputs": [
                {
                    "output_type": "display_data", 
                    "data": {
                        "text/html": "<div id=\"94dc9e06-0667-4e79-8dbd-f1f7cbc860dd\" style=\"height: 525px; width: 100%;\" class=\"plotly-graph-div\"></div><script type=\"text/javascript\">require([\"plotly\"], function(Plotly) { window.PLOTLYENV=window.PLOTLYENV || {};window.PLOTLYENV.BASE_URL=\"https://plot.ly\";Plotly.newPlot(\"94dc9e06-0667-4e79-8dbd-f1f7cbc860dd\", [{\"y\": [\"2018-11-15\"], \"orientation\": \"h\", \"type\": \"bar\", \"name\": \"throughput\", \"x\": [2885.6060606060605]}, {\"y\": [\"2018-11-15\"], \"orientation\": \"h\", \"type\": \"bar\", \"name\": \"records\", \"x\": [116]}, {\"y\": [\"2018-11-15\"], \"orientation\": \"h\", \"type\": \"bar\", \"name\": \"response time\", \"x\": [42.0]}], {\"xaxis\": {\"title\": \"Metric value\"}, \"title\": \"Performance metrics daily\", \"barmode\": \"group\"}, {\"linkText\": \"Export to plot.ly\", \"showLink\": true})});</script>", 
                        "text/vnd.plotly.v1+html": "<div id=\"94dc9e06-0667-4e79-8dbd-f1f7cbc860dd\" style=\"height: 525px; width: 100%;\" class=\"plotly-graph-div\"></div><script type=\"text/javascript\">require([\"plotly\"], function(Plotly) { window.PLOTLYENV=window.PLOTLYENV || {};window.PLOTLYENV.BASE_URL=\"https://plot.ly\";Plotly.newPlot(\"94dc9e06-0667-4e79-8dbd-f1f7cbc860dd\", [{\"y\": [\"2018-11-15\"], \"orientation\": \"h\", \"type\": \"bar\", \"name\": \"throughput\", \"x\": [2885.6060606060605]}, {\"y\": [\"2018-11-15\"], \"orientation\": \"h\", \"type\": \"bar\", \"name\": \"records\", \"x\": [116]}, {\"y\": [\"2018-11-15\"], \"orientation\": \"h\", \"type\": \"bar\", \"name\": \"response time\", \"x\": [42.0]}], {\"xaxis\": {\"title\": \"Metric value\"}, \"title\": \"Performance metrics daily\", \"barmode\": \"group\"}, {\"linkText\": \"Export to plot.ly\", \"showLink\": true})});</script>", 
                        "application/vnd.plotly.v1+json": {
                            "data": [
                                {
                                    "y": [
                                        "2018-11-15"
                                    ], 
                                    "x": [
                                        2885.6060606060605
                                    ], 
                                    "type": "bar", 
                                    "name": "throughput", 
                                    "orientation": "h"
                                }, 
                                {
                                    "y": [
                                        "2018-11-15"
                                    ], 
                                    "x": [
                                        116
                                    ], 
                                    "type": "bar", 
                                    "name": "records", 
                                    "orientation": "h"
                                }, 
                                {
                                    "y": [
                                        "2018-11-15"
                                    ], 
                                    "x": [
                                        42
                                    ], 
                                    "type": "bar", 
                                    "name": "response time", 
                                    "orientation": "h"
                                }
                            ], 
                            "layout": {
                                "barmode": "group", 
                                "xaxis": {
                                    "title": "Metric value"
                                }, 
                                "title": "Performance metrics daily"
                            }
                        }
                    }, 
                    "metadata": {}
                }
            ], 
            "source": "trace1 = go.Bar(\n    y=performance_aggregated_daily.index,\n    x=performance_aggregated_daily['throughput'],\n    orientation = 'h',\n    name='throughput'\n)\n\ntrace2 = go.Bar(\n    y=performance_aggregated_daily.index,\n    x=performance_aggregated_daily['scoring_records'],\n    orientation = 'h',\n    name='records'\n)\n\ntrace3 = go.Bar(\n    y=performance_aggregated_daily.index,\n    x=performance_aggregated_daily['scoring_time'],\n    orientation = 'h',\n    name='response time'\n)\n\ndata = [trace1, trace2, trace3]\nlayout = go.Layout(\n    title = 'Performance metrics daily',\n    barmode='group',\n    xaxis=dict(title='Metric value'),\n)\n\nfig = go.Figure(data=data, layout=layout)\niplot(fig)"
        }, 
        {
            "source": "---", 
            "cell_type": "markdown", 
            "metadata": {}
        }, 
        {
            "source": "### Authors\nLukasz Cmielowski, PhD, is an Automation Architect and Data Scientist at IBM with a track record of developing enterprise-level applications that substantially increases clients' ability to turn data into actionable knowledge.", 
            "cell_type": "markdown", 
            "metadata": {}
        }
    ], 
    "metadata": {
        "kernelspec": {
            "display_name": "Python 3.5", 
            "name": "python3", 
            "language": "python"
        }, 
        "language_info": {
            "mimetype": "text/x-python", 
            "nbconvert_exporter": "python", 
            "version": "3.5.5", 
            "name": "python", 
            "file_extension": ".py", 
            "pygments_lexer": "ipython3", 
            "codemirror_mode": {
                "version": 3, 
                "name": "ipython"
            }
        }
    }, 
    "nbformat": 4
}