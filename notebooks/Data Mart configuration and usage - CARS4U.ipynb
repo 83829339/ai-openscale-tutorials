{
    "nbformat_minor": 1, 
    "cells": [
        {
            "source": "# Data Mart configuration and usage with `ibm-ai-openscale` python package\n\n<img src=\"https://github.com/pmservice/ai-openscale-tutorials/raw/master/notebooks/images/image.png\" align=\"left\" alt=\"banner\" width=\"100\">", 
            "cell_type": "markdown", 
            "metadata": {}
        }, 
        {
            "source": "This notebook shows hot to create a data mart for Watson Machine Learning deployments. It includes steps for performance, bias and quality monitor configurations.", 
            "cell_type": "markdown", 
            "metadata": {}
        }, 
        {
            "source": "Contents\n- [1. Setup](#setup)\n- [2. Binding machine learning engine](#binding)\n- [3. Subscriptions](#subscription)\n- [4. Score models](#scoring)\n- [5. Data Mart](#datamart)\n- [6. Visualization](#visualization)", 
            "cell_type": "markdown", 
            "metadata": {}
        }, 
        {
            "source": "<a id=\"setup\"></a>\n## 1. Setup", 
            "cell_type": "markdown", 
            "metadata": {}
        }, 
        {
            "source": "### 1.1 Installation and authentication", 
            "cell_type": "markdown", 
            "metadata": {}
        }, 
        {
            "execution_count": null, 
            "cell_type": "code", 
            "metadata": {
                "scrolled": true
            }, 
            "outputs": [], 
            "source": "!pip install --upgrade ibm-ai-openscale"
        }, 
        {
            "execution_count": null, 
            "cell_type": "code", 
            "metadata": {}, 
            "outputs": [], 
            "source": "!pip install --upgrade watson-machine-learning-client"
        }, 
        {
            "source": "### ACTION: Restart kernel to make sure installed versions are used.", 
            "cell_type": "markdown", 
            "metadata": {}
        }, 
        {
            "source": "Import and initiate.", 
            "cell_type": "markdown", 
            "metadata": {}
        }, 
        {
            "execution_count": 3, 
            "cell_type": "code", 
            "metadata": {}, 
            "outputs": [
                {
                    "output_type": "stream", 
                    "name": "stderr", 
                    "text": "/opt/conda/envs/DSX-Python35/lib/python3.5/site-packages/sklearn/cross_validation.py:41: DeprecationWarning: This module was deprecated in version 0.18 in favor of the model_selection module into which all the refactored classes and functions are moved. Also note that the interface of the new CV iterators are different from that of this module. This module will be removed in 0.20.\n  \"This module will be removed in 0.20.\", DeprecationWarning)\n"
                }
            ], 
            "source": "from ibm_ai_openscale import APIClient\nfrom ibm_ai_openscale.engines import *"
        }, 
        {
            "source": "### ACTION: Get `data_mart_id` (GUID) and `apikey`\n\nHow to get api key using bluemix console:\n```\nbx login --sso\nbx iam api-key-create 'my_key'\n```\n\nHow to get DATA_MART_ID (this is AI OpenScale instance GUID)\n```\nbx resource service-instance \u2018instance_name\u2019\n```\n", 
            "cell_type": "markdown", 
            "metadata": {}
        }, 
        {
            "execution_count": 4, 
            "cell_type": "code", 
            "metadata": {}, 
            "outputs": [], 
            "source": "aios_credentials = {\n  \"data_mart_id\": \"*****\",\n  \"apikey\": \"*****\", \n  \"url\": \"https://api.aiopenscale.cloud.ibm.com\"\n}"
        }, 
        {
            "execution_count": 9, 
            "cell_type": "code", 
            "metadata": {}, 
            "outputs": [], 
            "source": "# The code was removed by Watson Studio for sharing."
        }, 
        {
            "source": "### ACTION: Add your Watson Machine Learning credentials here", 
            "cell_type": "markdown", 
            "metadata": {}
        }, 
        {
            "execution_count": 10, 
            "cell_type": "code", 
            "metadata": {}, 
            "outputs": [], 
            "source": "wml_credentials =  {\n  \"apikey\": \"***\",\n  \"iam_apikey_description\": \"Auto generated apikey during resource-key operation for Instance - crn:v1:bluemix:public:pm-20:us-south:a/181ed6cc388f47bd9d862fe066f9cfce:c419e24a-c4eb-41b4-a2e1-ce4f0d298428::\",\n  \"iam_apikey_name\": \"auto-generated-apikey-33f864a1-9958-4a32-b9ab-6fd962f98522\",\n  \"iam_role_crn\": \"crn:v1:bluemix:public:iam::::serviceRole:Writer\",\n  \"iam_serviceid_crn\": \"crn:v1:bluemix:public:iam-identity::a/181ed6cc388f47bd9d862fe066f9cfce::serviceid:ServiceId-e847629a-195e-455d-a949-957263b867ab\",\n  \"instance_id\": \"***\",\n  \"password\": \"***\",\n  \"url\": \"https://us-south.ml.cloud.ibm.com\",\n  \"username\": \"*****\"\n}"
        }, 
        {
            "execution_count": 11, 
            "cell_type": "code", 
            "metadata": {}, 
            "outputs": [], 
            "source": "# The code was removed by Watson Studio for sharing."
        }, 
        {
            "source": "### ACTION: Add your PostgreSQL credentials here", 
            "cell_type": "markdown", 
            "metadata": {}
        }, 
        {
            "execution_count": 12, 
            "cell_type": "code", 
            "metadata": {}, 
            "outputs": [], 
            "source": "postgres_credentials = {\n    \"db_type\": \"postgresql\",\n    \"uri_cli_1\": \"xxx\",\n    \"maps\": [],\n    \"instance_administration_api\": {\n        \"instance_id\": \"xxx\",\n        \"root\": \"xxx\",\n        \"deployment_id\": \"xxx\"\n    },\n    \"name\": \"xxx\",\n    \"uri_cli\": \"xxx\",\n    \"uri_direct_1\": \"xxx\",\n    \"ca_certificate_base64\": \"xxx\",\n    \"deployment_id\": \"xxx\",\n    \"uri\": \"xxx\"\n}"
        }, 
        {
            "execution_count": 13, 
            "cell_type": "code", 
            "metadata": {}, 
            "outputs": [], 
            "source": "# The code was removed by Watson Studio for sharing."
        }, 
        {
            "execution_count": 14, 
            "cell_type": "code", 
            "metadata": {
                "scrolled": true
            }, 
            "outputs": [], 
            "source": "client = APIClient(aios_credentials)"
        }, 
        {
            "execution_count": 15, 
            "cell_type": "code", 
            "metadata": {}, 
            "outputs": [
                {
                    "execution_count": 15, 
                    "metadata": {}, 
                    "data": {
                        "text/plain": "'1.0.50'"
                    }, 
                    "output_type": "execute_result"
                }
            ], 
            "source": "client.version"
        }, 
        {
            "source": "Put your schema name here.", 
            "cell_type": "markdown", 
            "metadata": {}
        }, 
        {
            "execution_count": 146, 
            "cell_type": "code", 
            "metadata": {}, 
            "outputs": [], 
            "source": "schemaName = 'data_mart'"
        }, 
        {
            "source": "You can use the code below to create the schema. If the schema already exists skipp this cell.", 
            "cell_type": "markdown", 
            "metadata": {}
        }, 
        {
            "execution_count": 147, 
            "cell_type": "code", 
            "metadata": {}, 
            "outputs": [], 
            "source": "import psycopg2\n\nhostname = postgres_credentials['uri'].split('@')[1].split(':')[0]\nport = postgres_credentials['uri'].split('@')[1].split(':')[1].split('/')[0]\nuser = postgres_credentials['uri'].split('@')[0].split('//')[1].split(':')[0]\npassword = postgres_credentials['uri'].split('@')[0].split('//')[1].split(':')[1]\ndbname = 'compose'\n\nconn_string = \"host=\" + hostname + \" port=\" + port + \" dbname=\" + dbname + \" user=\" + user + \" password=\" + password\nconn = psycopg2.connect(conn_string)\nconn.autocommit = True\ncursor = conn.cursor()\ntry:\n    query = \"drop schema \" + schemaName + \" cascade\"\n    cursor.execute(query)\nexcept:\n    pass\nfinally:    \n    try:\n        query = \"create schema \" + schemaName\n        cursor.execute(query)\n    finally:    \n        conn.close()"
        }, 
        {
            "source": "### 1.2 DataMart setup", 
            "cell_type": "markdown", 
            "metadata": {}
        }, 
        {
            "execution_count": 148, 
            "cell_type": "code", 
            "metadata": {}, 
            "outputs": [], 
            "source": "client.data_mart.setup(postgres_credentials=postgres_credentials, schema=schemaName)"
        }, 
        {
            "execution_count": 16, 
            "cell_type": "code", 
            "metadata": {}, 
            "outputs": [], 
            "source": "data_mart_details = client.data_mart.get_details()"
        }, 
        {
            "source": "Data Mart with instance id name has been created.", 
            "cell_type": "markdown", 
            "metadata": {}
        }, 
        {
            "source": "<a id=\"binding\"></a>\n\n## 2. Bind machine learning engines", 
            "cell_type": "markdown", 
            "metadata": {}
        }, 
        {
            "source": "### 2.1 Bind Watson Machine Learning ", 
            "cell_type": "markdown", 
            "metadata": {}
        }, 
        {
            "source": "You can bind you Watson Machine Learning instance to previously created data mart.", 
            "cell_type": "markdown", 
            "metadata": {}
        }, 
        {
            "execution_count": 150, 
            "cell_type": "code", 
            "metadata": {}, 
            "outputs": [], 
            "source": "binding_uid = client.data_mart.bindings.add('WML instance', WatsonMachineLearningInstance(wml_credentials))"
        }, 
        {
            "execution_count": 151, 
            "cell_type": "code", 
            "metadata": {}, 
            "outputs": [], 
            "source": "bindings_details = client.data_mart.bindings.get_details()"
        }, 
        {
            "execution_count": 152, 
            "cell_type": "code", 
            "metadata": {}, 
            "outputs": [
                {
                    "output_type": "display_data", 
                    "data": {
                        "text/html": "<HTML>\n        <body>\n            <h3>Service bindings</h3>\n            <table style='border: 1px solid #dddddd; font-family: Courier'>\n                <th style='border: 1px solid #dddddd'>uid</th><th style='border: 1px solid #dddddd'>name</th><th style='border: 1px solid #dddddd'>service_type</th><th style='border: 1px solid #dddddd'>created</th>\n                <tr><td style='border: 1px solid #dddddd'>a73bf76d-a663-448a-b771-4f651f73d54e</td><td style='border: 1px solid #dddddd'>WML instance</td><td style='border: 1px solid #dddddd'>watson_machine_learning</td><td style='border: 1px solid #dddddd'>2018-10-30T13:27:24.355Z</td></tr>\n            </table>\n        </body>\n        </HTML>", 
                        "text/plain": "<IPython.core.display.HTML object>"
                    }, 
                    "metadata": {}
                }
            ], 
            "source": "client.data_mart.bindings.list()"
        }, 
        {
            "source": "### 2.2 Check available assets from binded services", 
            "cell_type": "markdown", 
            "metadata": {}
        }, 
        {
            "source": "#### List available assets", 
            "cell_type": "markdown", 
            "metadata": {}
        }, 
        {
            "execution_count": 153, 
            "cell_type": "code", 
            "metadata": {}, 
            "outputs": [
                {
                    "output_type": "display_data", 
                    "data": {
                        "text/html": "<HTML>\n        <body>\n            <h3>Available assets</h3>\n            <table style='border: 1px solid #dddddd; font-family: Courier'>\n                <th style='border: 1px solid #dddddd'>source_uid</th><th style='border: 1px solid #dddddd'>name</th><th style='border: 1px solid #dddddd'>created</th><th style='border: 1px solid #dddddd'>type</th><th style='border: 1px solid #dddddd'>frameworks</th><th style='border: 1px solid #dddddd'>binding_uid</th><th style='border: 1px solid #dddddd'>subscription_uid</th>\n                <tr><td style='border: 1px solid #dddddd'>3100dafd-8fac-47dc-b627-151d4d558f02</td><td style='border: 1px solid #dddddd'>CARS4U - Action Recommendation Model</td><td style='border: 1px solid #dddddd'>2018-10-30T13:14:33.012Z</td><td style='border: 1px solid #dddddd'>model</td><td style='border: 1px solid #dddddd'>mllib-2.1</td><td style='border: 1px solid #dddddd'>a73bf76d-a663-448a-b771-4f651f73d54e</td><td style='border: 1px solid #dddddd'>-</td></tr><tr><td style='border: 1px solid #dddddd'>7bfecb0e-5eff-40c5-8d00-e8ec40975893</td><td style='border: 1px solid #dddddd'>drug-selection</td><td style='border: 1px solid #dddddd'>2018-10-30T10:21:00.861Z</td><td style='border: 1px solid #dddddd'>model</td><td style='border: 1px solid #dddddd'>mllib-2.1</td><td style='border: 1px solid #dddddd'>a73bf76d-a663-448a-b771-4f651f73d54e</td><td style='border: 1px solid #dddddd'>-</td></tr>\n            </table>\n        </body>\n        </HTML>", 
                        "text/plain": "<IPython.core.display.HTML object>"
                    }, 
                    "metadata": {}
                }
            ], 
            "source": "client.data_mart.bindings.list_assets()"
        }, 
        {
            "source": "#### Get metadata of available assets", 
            "cell_type": "markdown", 
            "metadata": {}
        }, 
        {
            "execution_count": 154, 
            "cell_type": "code", 
            "metadata": {}, 
            "outputs": [], 
            "source": "assets_details = client.data_mart.bindings.get_asset_details()"
        }, 
        {
            "execution_count": 155, 
            "cell_type": "code", 
            "metadata": {}, 
            "outputs": [], 
            "source": "cars4u_asset_uid = None\n\nfor x in client.data_mart.bindings.get_asset_details():\n    if 'cars4u' in x['name'].lower():\n        cars4u_asset_uid = x['source_uid']"
        }, 
        {
            "execution_count": 156, 
            "cell_type": "code", 
            "metadata": {}, 
            "outputs": [
                {
                    "output_type": "stream", 
                    "name": "stdout", 
                    "text": "3100dafd-8fac-47dc-b627-151d4d558f02\n"
                }
            ], 
            "source": "print(str(cars4u_asset_uid))"
        }, 
        {
            "source": "<a id=\"subscriptions\"></a>\n## 3. Subscriptions", 
            "cell_type": "markdown", 
            "metadata": {}
        }, 
        {
            "source": "### 3.1 Subscribe the asset", 
            "cell_type": "markdown", 
            "metadata": {}
        }, 
        {
            "execution_count": 157, 
            "cell_type": "code", 
            "metadata": {}, 
            "outputs": [], 
            "source": "subscription = client.data_mart.subscriptions.add(WatsonMachineLearningAsset(cars4u_asset_uid))"
        }, 
        {
            "source": "#### Get subscriptions list", 
            "cell_type": "markdown", 
            "metadata": {}
        }, 
        {
            "execution_count": 17, 
            "cell_type": "code", 
            "metadata": {}, 
            "outputs": [
                {
                    "output_type": "stream", 
                    "name": "stdout", 
                    "text": "['3100dafd-8fac-47dc-b627-151d4d558f02']\n"
                }
            ], 
            "source": "subscriptions_uids = client.data_mart.subscriptions.get_uids()\nprint(subscriptions_uids)"
        }, 
        {
            "source": "#### List subscriptions", 
            "cell_type": "markdown", 
            "metadata": {}
        }, 
        {
            "execution_count": 18, 
            "cell_type": "code", 
            "metadata": {}, 
            "outputs": [
                {
                    "output_type": "display_data", 
                    "data": {
                        "text/html": "<HTML>\n        <body>\n            <h3>Subscriptions</h3>\n            <table style='border: 1px solid #dddddd; font-family: Courier'>\n                <th style='border: 1px solid #dddddd'>uid</th><th style='border: 1px solid #dddddd'>name</th><th style='border: 1px solid #dddddd'>type</th><th style='border: 1px solid #dddddd'>binding_uid</th><th style='border: 1px solid #dddddd'>source_uid</th><th style='border: 1px solid #dddddd'>created</th>\n                <tr><td style='border: 1px solid #dddddd'>3100dafd-8fac-47dc-b627-151d4d558f02</td><td style='border: 1px solid #dddddd'>CARS4U - Action Recommendation Model</td><td style='border: 1px solid #dddddd'>model</td><td style='border: 1px solid #dddddd'>a73bf76d-a663-448a-b771-4f651f73d54e</td><td style='border: 1px solid #dddddd'>3100dafd-8fac-47dc-b627-151d4d558f02</td><td style='border: 1px solid #dddddd'>2018-10-30T13:27:31.132Z</td></tr>\n            </table>\n        </body>\n        </HTML>", 
                        "text/plain": "<IPython.core.display.HTML object>"
                    }, 
                    "metadata": {}
                }
            ], 
            "source": "client.data_mart.subscriptions.list()"
        }, 
        {
            "source": "#### Get subscription", 
            "cell_type": "markdown", 
            "metadata": {}
        }, 
        {
            "source": "**Hint:** Put your subscription id here.", 
            "cell_type": "markdown", 
            "metadata": {}
        }, 
        {
            "execution_count": 19, 
            "cell_type": "code", 
            "metadata": {}, 
            "outputs": [], 
            "source": "subscription = client.data_mart.subscriptions.get('3100dafd-8fac-47dc-b627-151d4d558f02')"
        }, 
        {
            "source": "### 3.2 Enable payload logging and performance monitor for subscribed assets", 
            "cell_type": "markdown", 
            "metadata": {}
        }, 
        {
            "execution_count": 160, 
            "cell_type": "code", 
            "metadata": {}, 
            "outputs": [], 
            "source": "for uid in subscriptions_uids:\n    subscription = client.data_mart.subscriptions.get(uid)\n    subscription.payload_logging.enable()\n    subscription.performance_monitoring.enable()"
        }, 
        {
            "source": "#### Get details of enabled payload logging", 
            "cell_type": "markdown", 
            "metadata": {}
        }, 
        {
            "execution_count": 161, 
            "cell_type": "code", 
            "metadata": {}, 
            "outputs": [], 
            "source": "payload_logging_details = subscription.payload_logging.get_details()"
        }, 
        {
            "source": "#### Print schema of payload_logging table", 
            "cell_type": "markdown", 
            "metadata": {}
        }, 
        {
            "execution_count": 162, 
            "cell_type": "code", 
            "metadata": {}, 
            "outputs": [
                {
                    "output_type": "display_data", 
                    "data": {
                        "text/html": "<HTML>\n        <body>\n            <h3>Schema of Payload_3100dafd-8fac-47dc-b627-151d4d558f02</h3>\n            <table style='border: 1px solid #dddddd; font-family: Courier'>\n                <th style='border: 1px solid #dddddd'>name</th><th style='border: 1px solid #dddddd'>type</th><th style='border: 1px solid #dddddd'>size</th><th style='border: 1px solid #dddddd'>precision</th><th style='border: 1px solid #dddddd'>scale</th><th style='border: 1px solid #dddddd'>nullable</th>\n                <tr><td style='border: 1px solid #dddddd'>scoring_id</td><td style='border: 1px solid #dddddd'>text</td><td style='border: 1px solid #dddddd'>-</td><td style='border: 1px solid #dddddd'>-</td><td style='border: 1px solid #dddddd'>-</td><td style='border: 1px solid #dddddd'>N</td></tr><tr><td style='border: 1px solid #dddddd'>scoring_timestamp</td><td style='border: 1px solid #dddddd'>timestamp</td><td style='border: 1px solid #dddddd'>8</td><td style='border: 1px solid #dddddd'>-</td><td style='border: 1px solid #dddddd'>-</td><td style='border: 1px solid #dddddd'>N</td></tr><tr><td style='border: 1px solid #dddddd'>deployment_id</td><td style='border: 1px solid #dddddd'>text</td><td style='border: 1px solid #dddddd'>-</td><td style='border: 1px solid #dddddd'>-</td><td style='border: 1px solid #dddddd'>-</td><td style='border: 1px solid #dddddd'>N</td></tr><tr><td style='border: 1px solid #dddddd'>asset_revision</td><td style='border: 1px solid #dddddd'>text</td><td style='border: 1px solid #dddddd'>-</td><td style='border: 1px solid #dddddd'>-</td><td style='border: 1px solid #dddddd'>-</td><td style='border: 1px solid #dddddd'>N</td></tr><tr><td style='border: 1px solid #dddddd'>ID</td><td style='border: 1px solid #dddddd'>int4</td><td style='border: 1px solid #dddddd'>4</td><td style='border: 1px solid #dddddd'>-</td><td style='border: 1px solid #dddddd'>-</td><td style='border: 1px solid #dddddd'>N</td></tr><tr><td style='border: 1px solid #dddddd'>Gender</td><td style='border: 1px solid #dddddd'>text</td><td style='border: 1px solid #dddddd'>-</td><td style='border: 1px solid #dddddd'>-</td><td style='border: 1px solid #dddddd'>-</td><td style='border: 1px solid #dddddd'>N</td></tr><tr><td style='border: 1px solid #dddddd'>Status</td><td style='border: 1px solid #dddddd'>text</td><td style='border: 1px solid #dddddd'>-</td><td style='border: 1px solid #dddddd'>-</td><td style='border: 1px solid #dddddd'>-</td><td style='border: 1px solid #dddddd'>N</td></tr><tr><td style='border: 1px solid #dddddd'>Children</td><td style='border: 1px solid #dddddd'>int4</td><td style='border: 1px solid #dddddd'>4</td><td style='border: 1px solid #dddddd'>-</td><td style='border: 1px solid #dddddd'>-</td><td style='border: 1px solid #dddddd'>N</td></tr><tr><td style='border: 1px solid #dddddd'>Age</td><td style='border: 1px solid #dddddd'>numeric</td><td style='border: 1px solid #dddddd'>21</td><td style='border: 1px solid #dddddd'>21</td><td style='border: 1px solid #dddddd'>2</td><td style='border: 1px solid #dddddd'>N</td></tr><tr><td style='border: 1px solid #dddddd'>Customer_Status</td><td style='border: 1px solid #dddddd'>text</td><td style='border: 1px solid #dddddd'>-</td><td style='border: 1px solid #dddddd'>-</td><td style='border: 1px solid #dddddd'>-</td><td style='border: 1px solid #dddddd'>N</td></tr><tr><td style='border: 1px solid #dddddd'>Car_Owner</td><td style='border: 1px solid #dddddd'>text</td><td style='border: 1px solid #dddddd'>-</td><td style='border: 1px solid #dddddd'>-</td><td style='border: 1px solid #dddddd'>-</td><td style='border: 1px solid #dddddd'>N</td></tr><tr><td style='border: 1px solid #dddddd'>Customer_Service</td><td style='border: 1px solid #dddddd'>text</td><td style='border: 1px solid #dddddd'>-</td><td style='border: 1px solid #dddddd'>-</td><td style='border: 1px solid #dddddd'>-</td><td style='border: 1px solid #dddddd'>N</td></tr><tr><td style='border: 1px solid #dddddd'>Satisfaction</td><td style='border: 1px solid #dddddd'>int4</td><td style='border: 1px solid #dddddd'>4</td><td style='border: 1px solid #dddddd'>-</td><td style='border: 1px solid #dddddd'>-</td><td style='border: 1px solid #dddddd'>N</td></tr><tr><td style='border: 1px solid #dddddd'>Business_Area</td><td style='border: 1px solid #dddddd'>text</td><td style='border: 1px solid #dddddd'>-</td><td style='border: 1px solid #dddddd'>-</td><td style='border: 1px solid #dddddd'>-</td><td style='border: 1px solid #dddddd'>N</td></tr><tr><td style='border: 1px solid #dddddd'>prediction</td><td style='border: 1px solid #dddddd'>float8</td><td style='border: 1px solid #dddddd'>8</td><td style='border: 1px solid #dddddd'>-</td><td style='border: 1px solid #dddddd'>-</td><td style='border: 1px solid #dddddd'>N</td></tr><tr><td style='border: 1px solid #dddddd'>predictedActionLabel</td><td style='border: 1px solid #dddddd'>text</td><td style='border: 1px solid #dddddd'>-</td><td style='border: 1px solid #dddddd'>-</td><td style='border: 1px solid #dddddd'>-</td><td style='border: 1px solid #dddddd'>N</td></tr><tr><td style='border: 1px solid #dddddd'>probability</td><td style='border: 1px solid #dddddd'>jsonb</td><td style='border: 1px solid #dddddd'>-</td><td style='border: 1px solid #dddddd'>-</td><td style='border: 1px solid #dddddd'>-</td><td style='border: 1px solid #dddddd'>N</td></tr><tr><td style='border: 1px solid #dddddd'>debiased_prediction</td><td style='border: 1px solid #dddddd'>float8</td><td style='border: 1px solid #dddddd'>8</td><td style='border: 1px solid #dddddd'>-</td><td style='border: 1px solid #dddddd'>-</td><td style='border: 1px solid #dddddd'>N</td></tr><tr><td style='border: 1px solid #dddddd'>debiased_probability</td><td style='border: 1px solid #dddddd'>jsonb</td><td style='border: 1px solid #dddddd'>-</td><td style='border: 1px solid #dddddd'>-</td><td style='border: 1px solid #dddddd'>-</td><td style='border: 1px solid #dddddd'>N</td></tr><tr><td style='border: 1px solid #dddddd'>debiased_decoded_target</td><td style='border: 1px solid #dddddd'>text</td><td style='border: 1px solid #dddddd'>-</td><td style='border: 1px solid #dddddd'>-</td><td style='border: 1px solid #dddddd'>-</td><td style='border: 1px solid #dddddd'>N</td></tr>\n            </table>\n        </body>\n        </HTML>", 
                        "text/plain": "<IPython.core.display.HTML object>"
                    }, 
                    "metadata": {}
                }
            ], 
            "source": "subscription.payload_logging.print_table_schema()"
        }, 
        {
            "source": "### 3.3 Enable Quality (Accuracy) monitor", 
            "cell_type": "markdown", 
            "metadata": {}
        }, 
        {
            "source": "#### Quality monitoring", 
            "cell_type": "markdown", 
            "metadata": {}
        }, 
        {
            "source": "#### ACTION: Put your Spark Service credentials here", 
            "cell_type": "markdown", 
            "metadata": {}
        }, 
        {
            "execution_count": 163, 
            "cell_type": "code", 
            "metadata": {}, 
            "outputs": [], 
            "source": "spark_credentials = {\n                  \"tenant_id\": \"****\",\n                  \"tenant_id_full\": \"915544ce-9411-437e-8ad5-a45c0b14cebb_01b7600f-62c7-4f5a-974b-9fffe65d1ab9\",\n                  \"cluster_master_url\": \"https://spark.bluemix.net\",\n                  \"tenant_secret\": \"***\",\n                  \"instance_id\": \"****\",\n                  \"plan\": \"ibm.SparkService.PayGoPersonal\"\n}"
        }, 
        {
            "execution_count": 164, 
            "cell_type": "code", 
            "metadata": {}, 
            "outputs": [], 
            "source": "# The code was removed by Watson Studio for sharing."
        }, 
        {
            "source": "#### Enable Accuracy monitor for selected subscription", 
            "cell_type": "markdown", 
            "metadata": {}
        }, 
        {
            "execution_count": 165, 
            "cell_type": "code", 
            "metadata": {}, 
            "outputs": [], 
            "source": "subscription.quality_monitoring.enable(evaluation_method='multiclass', threshold=0.8, min_records=5, spark_credentials=spark_credentials)"
        }, 
        {
            "source": "#### Send some feedback records to feedback store. ", 
            "cell_type": "markdown", 
            "metadata": {}
        }, 
        {
            "source": "Feedback records are used to evaluate our model.", 
            "cell_type": "markdown", 
            "metadata": {}
        }, 
        {
            "execution_count": 103, 
            "cell_type": "code", 
            "metadata": {}, 
            "outputs": [], 
            "source": "subscription.feedback_logging.store(\n            [\n                [122, 'Male', 'S', 2, 45, 'Inactive', 'Yes', 'no wait for pick up and drop off was great', 0, 'Product: Functioning', 'Voucher'],\n                [178, 'Female', 'M', 2, 55, 'Active', 'No', 'what customer service? It was a nightmare', 0, 'Product: Information', 'Free Upgrade'],\n                [122, 'Male', 'S', 2, 45, 'Inactive', 'Yes', 'no wait for pick up and drop off was great', 0, 'Product: Functioning', 'NA'],\n                [122, 'Male', 'S', 2, 45, 'Inactive', 'Yes', 'no wait for pick up and drop off was great', 0, 'Product: Functioning', 'Voucher'],\n                [178, 'Female', 'M', 2, 55, 'Active', 'No', 'what customer service? It was a nightmare', 0, 'Product: Information', 'Free Upgrade'],\n                [122, 'Male', 'S', 2, 45, 'Inactive', 'Yes', 'no wait for pick up and drop off was great', 0, 'Product: Functioning', 'NA'],\n                [3785, 'Male', 'S', 1, 17, 'Inactive', 'Yes', 'The car should have been brought to us instead of us trying to find it in the lot.', 0, 'Product: Information', 'On-demand pickup location'],\n                [3786, 'Male', 'S', 1, 17, 'Inactive', 'Yes', 'The car should have been brought to us instead of us trying to find it in the lot.', 0, 'Product: Information', 'On-demand pickup location'],\n                [3787, 'Male', 'S', 1, 17, 'Active', 'Yes', 'The car should have been brought to us instead of us trying to find it in the lot.', 0, 'Product: Information', 'On-demand pickup location'],\n                [122, 'Male', 'S', 2, 45, 'Inactive', 'Yes', 'no wait for pick up and drop off was great', 0, 'Product: Functioning', 'Voucher'],\n                [178, 'Female', 'M', 2, 55, 'Active', 'No', 'what customer service? It was a nightmare', 0, 'Product: Information', 'Free Upgrade'],\n                [122, 'Male', 'S', 2, 45, 'Inactive', 'Yes', 'no wait for pick up and drop off was great', 0, 'Product: Functioning', 'NA']\n            ],\n            fields=['ID', 'Gender', 'Status', 'Children', 'Age', 'Customer_Status', 'Car_Owner', 'Customer_Service', 'Satisfaction', 'Business_Area', 'Action']\n        )"
        }, 
        {
            "source": "**Hint:** Since Accuracy (Quality) monitor is executed every hour first result wilb be available after hour.", 
            "cell_type": "markdown", 
            "metadata": {}
        }, 
        {
            "source": "### 3.4 Enable Fairness monitor", 
            "cell_type": "markdown", 
            "metadata": {}
        }, 
        {
            "source": "#### Configure monitor", 
            "cell_type": "markdown", 
            "metadata": {}
        }, 
        {
            "execution_count": 167, 
            "cell_type": "code", 
            "metadata": {}, 
            "outputs": [], 
            "source": "from ibm_ai_openscale.supporting_classes import *\n\nsubscription.fairness_monitoring.enable(\n            features=[\n                Feature(\"Gender\", majority=['Male'], minority=['Female'], threshold=0.6),\n                Feature(\"Children\", majority=[[0,1]], minority=[[2,6]], threshold=0.6)\n            ],\n            prediction_column='predictedActionLabel',\n            favourable_classes=['Voucher'],\n            unfavourable_classes=['Free Upgrade', 'Premium features'],\n            min_records=12\n        )"
        }, 
        {
            "source": "**Hint:** Fairness monitor is executed every hour. You can also call it on demand by executing this commmand: `subscription.fairness_monitoring.run()`.", 
            "cell_type": "markdown", 
            "metadata": {}
        }, 
        {
            "source": "<a id=\"scoring\"></a>\n## 4. Score models\nWorking with `watson-machine-learning-client`.", 
            "cell_type": "markdown", 
            "metadata": {}
        }, 
        {
            "source": "#### Get the initialized `watson-machine-learning` client", 
            "cell_type": "markdown", 
            "metadata": {}
        }, 
        {
            "execution_count": 39, 
            "cell_type": "code", 
            "metadata": {}, 
            "outputs": [], 
            "source": "wml_client = client.data_mart.bindings.get_native_engine_client(binding_uid=binding_uid)"
        }, 
        {
            "source": "`watson-machine-learning-client` documentation can be found [here](wml-api-pyclient.mybluemix.net).", 
            "cell_type": "markdown", 
            "metadata": {}
        }, 
        {
            "source": "Let's list our deployments.", 
            "cell_type": "markdown", 
            "metadata": {}
        }, 
        {
            "execution_count": 40, 
            "cell_type": "code", 
            "metadata": {}, 
            "outputs": [
                {
                    "output_type": "stream", 
                    "name": "stdout", 
                    "text": "------------------------------------  -----------------------------------------  ------  --------------  ------------------------  ---------  -------------\nGUID                                  NAME                                       TYPE    STATE           CREATED                   FRAMEWORK  ARTIFACT TYPE\n898d816c-7f43-40c0-b98b-8c81673d3f1e  CARS4U - Area and Action Model Deployment  online  DEPLOY_SUCCESS  2018-10-30T13:26:42.571Z  mllib-2.1  model\n643fb225-9881-4b1f-a35e-cedfe29a3140  best-drug model deployment                 online  DEPLOY_SUCCESS  2018-10-30T10:21:05.919Z  mllib-2.1  model\n------------------------------------  -----------------------------------------  ------  --------------  ------------------------  ---------  -------------\n"
                }
            ], 
            "source": "wml_client.deployments.list()"
        }, 
        {
            "source": "Let's extract scoring_ednpoints for both deployments.", 
            "cell_type": "markdown", 
            "metadata": {}
        }, 
        {
            "execution_count": 41, 
            "cell_type": "code", 
            "metadata": {}, 
            "outputs": [], 
            "source": "cars4u_scoring_endpoint = None\n\nfor deployment in wml_client.deployments.get_details()['resources']:\n    if 'cars4u' in deployment['entity']['deployable_asset']['name'].lower():\n      cars4u_scoring_endpoint = deployment['entity']['scoring_url']"
        }, 
        {
            "source": "### Score the CARS4U model", 
            "cell_type": "markdown", 
            "metadata": {}
        }, 
        {
            "execution_count": 100, 
            "cell_type": "code", 
            "metadata": {}, 
            "outputs": [
                {
                    "output_type": "stream", 
                    "name": "stdout", 
                    "text": "[3785, 'Male', 'S', 1, 17.0, 'Inactive', 'Yes', 'The car should have been brought to us instead of us trying to find it in the lot.', 0, 'Product: Information', 'NA', ['the', 'car', 'should', 'have', 'been', 'brought', 'to', 'us', 'instead', 'of', 'us', 'trying', 'to', 'find', 'it', 'in', 'the', 'lot.'], [262144, [9639, 21872, 74079, 86175, 91878, 99585, 103838, 175817, 205044, 218965, 222453, 227152, 227431, 229772, 253475], [1.0, 2.0, 1.0, 1.0, 1.0, 1.0, 2.0, 1.0, 2.0, 1.0, 1.0, 1.0, 1.0, 1.0, 1.0]], [262144, [9639, 21872, 74079, 86175, 91878, 99585, 103838, 175817, 205044, 218965, 222453, 227152, 227431, 229772, 253475], [1.7479568465696622, 5.81081927052141, 0.0, 1.5191152741408147, 3.5115454388310208, 3.5115454388310208, 1.2986891158031049, 0.0, 1.563032662020071, 0.0, 1.8375690052593492, 0.0, 3.5115454388310208, 1.1444218246994038, 1.9021075263969205]], 7.0, [45.0, 48.0, 5.0, 10.0, 7.0, 6.0, 8.0, 3.0], [0.3409090909090909, 0.36363636363636365, 0.03787878787878788, 0.07575757575757576, 0.05303030303030303, 0.045454545454545456, 0.06060606060606061, 0.022727272727272728], 1.0, 'Product: Functioning', 0.0, 1.0, 1.0, 0.0, 1.0, [0.0, 1.0, 1.0, 1.0, 1.0, 17.0, 0.0, 1.0], [0.0, 1.0, 6.0, 0.0, 0.0], [0.0, 0.14285714285714285, 0.8571428571428571, 0.0, 0.0], 2.0, 'On-demand pickup location']\n[[3785, 'Male', 'S', 1, 17.0, 'Inactive', 'Yes', 'The car should have been brought to us instead of us trying to find it in the lot.', 0, 'Product: Information', 'NA', ['the', 'car', 'should', 'have', 'been', 'brought', 'to', 'us', 'instead', 'of', 'us', 'trying', 'to', 'find', 'it', 'in', 'the', 'lot.'], [262144, [9639, 21872, 74079, 86175, 91878, 99585, 103838, 175817, 205044, 218965, 222453, 227152, 227431, 229772, 253475], [1.0, 2.0, 1.0, 1.0, 1.0, 1.0, 2.0, 1.0, 2.0, 1.0, 1.0, 1.0, 1.0, 1.0, 1.0]], [262144, [9639, 21872, 74079, 86175, 91878, 99585, 103838, 175817, 205044, 218965, 222453, 227152, 227431, 229772, 253475], [1.7479568465696622, 5.81081927052141, 0.0, 1.5191152741408147, 3.5115454388310208, 3.5115454388310208, 1.2986891158031049, 0.0, 1.563032662020071, 0.0, 1.8375690052593492, 0.0, 3.5115454388310208, 1.1444218246994038, 1.9021075263969205]], 7.0, [45.0, 48.0, 5.0, 10.0, 7.0, 6.0, 8.0, 3.0], [0.3409090909090909, 0.36363636363636365, 0.03787878787878788, 0.07575757575757576, 0.05303030303030303, 0.045454545454545456, 0.06060606060606061, 0.022727272727272728], 1.0, 'Product: Functioning', 0.0, 1.0, 1.0, 0.0, 1.0, [0.0, 1.0, 1.0, 1.0, 1.0, 17.0, 0.0, 1.0], [0.0, 1.0, 6.0, 0.0, 0.0], [0.0, 0.14285714285714285, 0.8571428571428571, 0.0, 0.0], 2.0, 'On-demand pickup location'], [122, 'Male', 'S', 2, 45.0, 'Inactive', 'Yes', 'no wait for pick up and drop off was great', 0, 'Product: Functioning', 'NA', ['no', 'wait', 'for', 'pick', 'up', 'and', 'drop', 'off', 'was', 'great'], [262144, [14385, 16332, 25570, 91677, 104220, 138356, 150069, 156250, 179344, 193889], [1.0, 1.0, 1.0, 1.0, 1.0, 1.0, 1.0, 1.0, 1.0, 1.0]], [262144, [14385, 16332, 25570, 91677, 104220, 138356, 150069, 156250, 179344, 193889], [0.0, 1.8375690052593492, 0.7815163310100355, 0.9212782733851942, 0.0, 3.5115454388310208, 3.3573947590037623, 2.2587824703356527, 2.8183982582710754, 2.8183982582710754]], 1.0, [45.0, 48.0, 5.0, 10.0, 7.0, 6.0, 8.0, 3.0], [0.3409090909090909, 0.36363636363636365, 0.03787878787878788, 0.07575757575757576, 0.05303030303030303, 0.045454545454545456, 0.06060606060606061, 0.022727272727272728], 1.0, 'Product: Functioning', 0.0, 1.0, 1.0, 0.0, 1.0, [0.0, 1.0, 1.0, 1.0, 2.0, 45.0, 0.0, 1.0], [0.0, 1.0, 6.0, 0.0, 0.0], [0.0, 0.14285714285714285, 0.8571428571428571, 0.0, 0.0], 2.0, 'On-demand pickup location'], [178, 'Male', 'M', 4, 55.0, 'Active', 'No', 'what customer service? It was a nightmare', 0, 'Product: Information', 'NA', ['what', 'customer', 'service?', 'it', 'was', 'a', 'nightmare'], [262144, [7605, 25570, 69687, 81566, 86175, 142373, 227410], [1.0, 1.0, 1.0, 1.0, 1.0, 1.0, 1.0]], [262144, [7605, 25570, 69687, 81566, 86175, 142373, 227410], [0.0, 0.7815163310100355, 0.0, 3.3573947590037623, 1.5191152741408147, 1.496642418288756, 1.2257674641533562]], 7.0, [45.0, 48.0, 5.0, 10.0, 7.0, 6.0, 8.0, 3.0], [0.3409090909090909, 0.36363636363636365, 0.03787878787878788, 0.07575757575757576, 0.05303030303030303, 0.045454545454545456, 0.06060606060606061, 0.022727272727272728], 1.0, 'Product: Functioning', 0.0, 0.0, 0.0, 0.0, 0.0, [8, [4, 5, 7], [4.0, 55.0, 1.0]], [0.0, 0.0, 0.0, 2.0, 0.0], [0.0, 0.0, 0.0, 1.0, 0.0], 3.0, 'Voucher'], [201, 'Female', 'S', 0, 37.0, 'Inactive', 'No', 'delayed shuttle, almost missed flight', 0, 'Service: Knowledge', 'NA', ['delayed', 'shuttle,', 'almost', 'missed', 'flight'], [262144, [49455, 85672, 152814, 182921, 223821], [1.0, 1.0, 1.0, 1.0, 1.0]], [262144, [49455, 85672, 152814, 182921, 223821], [0.0, 0.0, 0.0, 0.0, 0.0]], 0.0, [45.0, 48.0, 5.0, 10.0, 7.0, 6.0, 8.0, 3.0], [0.3409090909090909, 0.36363636363636365, 0.03787878787878788, 0.07575757575757576, 0.05303030303030303, 0.045454545454545456, 0.06060606060606061, 0.022727272727272728], 1.0, 'Product: Functioning', 1.0, 1.0, 1.0, 0.0, 0.0, [1.0, 1.0, 1.0, 0.0, 0.0, 37.0, 0.0, 1.0], [0.0, 3.0, 6.0, 1.0, 0.0], [0.0, 0.3, 0.6, 0.1, 0.0], 2.0, 'On-demand pickup location']]\n"
                }
            ], 
            "source": "fields = ['ID', 'Gender', 'Status', 'Children', 'Age', 'Customer_Status','Car_Owner', 'Customer_Service', 'Satisfaction', 'Business_Area']\nvalues = [  [3785, 'Male', 'S', 1, 17, 'Inactive', 'Yes', 'The car should have been brought to us instead of us trying to find it in the lot.', 0, 'Product: Information'],\n            [122, 'Male', 'S', 2, 45, 'Inactive', 'Yes', 'no wait for pick up and drop off was great', 0, 'Product: Functioning'],\n            [178, 'Male', 'M', 4, 55, 'Active', 'No', 'what customer service? It was a nightmare', 0, 'Product: Information'],\n            [201, 'Female', 'S', 0, 37, 'Inactive', 'No', 'delayed shuttle, almost missed flight', 0, 'Service: Knowledge']]\n\npayload_scoring = {\"fields\": fields,\"values\": values}\n\nfor i in range(1, 30):\n    scores = wml_client.deployments.score(cars4u_scoring_endpoint, payload_scoring)\n    \nprint(scores['values'][0])\nprint(scores['values'])"
        }, 
        {
            "source": "<a id=\"datamart\"></a>\n## 5. Data mart", 
            "cell_type": "markdown", 
            "metadata": {}
        }, 
        {
            "source": "### 5.1 Accessing tables data via subscription\n- `show_table`\n- `describe_table`\n- `get_table_content(format='pandas')`", 
            "cell_type": "markdown", 
            "metadata": {}
        }, 
        {
            "source": "### Preview table content", 
            "cell_type": "markdown", 
            "metadata": {}
        }, 
        {
            "source": "#### Run fairness check on demand", 
            "cell_type": "markdown", 
            "metadata": {}
        }, 
        {
            "execution_count": 173, 
            "cell_type": "code", 
            "metadata": {}, 
            "outputs": [], 
            "source": "subscription.fairness_monitoring.run()"
        }, 
        {
            "source": "**Hint**: It may take up to minute before fariness results are availbale in the table. Let's wait 30 seconds.", 
            "cell_type": "markdown", 
            "metadata": {}
        }, 
        {
            "execution_count": 174, 
            "cell_type": "code", 
            "metadata": {}, 
            "outputs": [], 
            "source": "import time\n\ntime.sleep(30)"
        }, 
        {
            "execution_count": 176, 
            "cell_type": "code", 
            "metadata": {}, 
            "outputs": [
                {
                    "output_type": "display_data", 
                    "data": {
                        "text/html": "<HTML>\n        <body>\n            <h3>FairnessMetrics (binding_id=a73bf76d-a663-448a-b771-4f651f73d54e, subscription_id=3100dafd-8fac-47dc-b627-151d4d558f02)</h3>\n            <table style='border: 1px solid #dddddd; font-family: Courier'>\n                <th style='border: 1px solid #dddddd'>ts</th><th style='border: 1px solid #dddddd'>feature</th><th style='border: 1px solid #dddddd'>value</th><th style='border: 1px solid #dddddd'>is_biased</th><th style='border: 1px solid #dddddd'>fairness_value</th><th style='border: 1px solid #dddddd'>fav_class_percent</th><th style='border: 1px solid #dddddd'>binding_id</th><th style='border: 1px solid #dddddd'>subscription_id</th><th style='border: 1px solid #dddddd'>deployment_id</th><th style='border: 1px solid #dddddd'>process</th>\n                <tr><td style='border: 1px solid #dddddd'>2018-10-30 13:33:41.623192</td><td style='border: 1px solid #dddddd'>Gender</td><td style='border: 1px solid #dddddd'>Female</td><td style='border: 1px solid #dddddd'>False</td><td style='border: 1px solid #dddddd'>2.0</td><td style='border: 1px solid #dddddd'>50.0</td><td style='border: 1px solid #dddddd'>a73bf76d-a663-448a-b771-4f651f73d54e</td><td style='border: 1px solid #dddddd'>3100dafd-8fac-47dc-b627-151d4d558f02</td><td style='border: 1px solid #dddddd'>898d816c-7f43-40c0-b98b-8c81673d3f1e</td><td style='border: 1px solid #dddddd'>None</td></tr><tr><td style='border: 1px solid #dddddd'>2018-10-30 13:33:41.623192</td><td style='border: 1px solid #dddddd'>Children</td><td style='border: 1px solid #dddddd'>[2, 6]</td><td style='border: 1px solid #dddddd'>True</td><td style='border: 1px solid #dddddd'>0.5</td><td style='border: 1px solid #dddddd'>16.6666666666667</td><td style='border: 1px solid #dddddd'>a73bf76d-a663-448a-b771-4f651f73d54e</td><td style='border: 1px solid #dddddd'>3100dafd-8fac-47dc-b627-151d4d558f02</td><td style='border: 1px solid #dddddd'>898d816c-7f43-40c0-b98b-8c81673d3f1e</td><td style='border: 1px solid #dddddd'>None</td></tr><tr><td style='border: 1px solid #dddddd'>2018-10-30 13:27:49.068216</td><td style='border: 1px solid #dddddd'>Gender</td><td style='border: 1px solid #dddddd'>Female</td><td style='border: 1px solid #dddddd'>False</td><td style='border: 1px solid #dddddd'>2.0</td><td style='border: 1px solid #dddddd'>50.0</td><td style='border: 1px solid #dddddd'>a73bf76d-a663-448a-b771-4f651f73d54e</td><td style='border: 1px solid #dddddd'>3100dafd-8fac-47dc-b627-151d4d558f02</td><td style='border: 1px solid #dddddd'>898d816c-7f43-40c0-b98b-8c81673d3f1e</td><td style='border: 1px solid #dddddd'>None</td></tr><tr><td style='border: 1px solid #dddddd'>2018-10-30 13:27:49.068216</td><td style='border: 1px solid #dddddd'>Children</td><td style='border: 1px solid #dddddd'>[2, 6]</td><td style='border: 1px solid #dddddd'>True</td><td style='border: 1px solid #dddddd'>0.5</td><td style='border: 1px solid #dddddd'>16.6666666666667</td><td style='border: 1px solid #dddddd'>a73bf76d-a663-448a-b771-4f651f73d54e</td><td style='border: 1px solid #dddddd'>3100dafd-8fac-47dc-b627-151d4d558f02</td><td style='border: 1px solid #dddddd'>898d816c-7f43-40c0-b98b-8c81673d3f1e</td><td style='border: 1px solid #dddddd'>None</td></tr>\n            </table>\n        </body>\n        </HTML>", 
                        "text/plain": "<IPython.core.display.HTML object>"
                    }, 
                    "metadata": {}
                }
            ], 
            "source": "subscription.fairness_monitoring.show_table()"
        }, 
        {
            "execution_count": 177, 
            "cell_type": "code", 
            "metadata": {}, 
            "outputs": [
                {
                    "output_type": "display_data", 
                    "data": {
                        "text/html": "<HTML>\n        <body>\n            <h3>Payload_3100dafd-8fac-47dc-b627-151d4d558f02</h3>\n            <table style='border: 1px solid #dddddd; font-family: Courier'>\n                <th style='border: 1px solid #dddddd'>scoring_id</th><th style='border: 1px solid #dddddd'>scoring_timestamp</th><th style='border: 1px solid #dddddd'>deployment_id</th><th style='border: 1px solid #dddddd'>asset_revision</th><th style='border: 1px solid #dddddd'>ID</th><th style='border: 1px solid #dddddd'>Gender</th><th style='border: 1px solid #dddddd'>Status</th><th style='border: 1px solid #dddddd'>Children</th><th style='border: 1px solid #dddddd'>Age</th><th style='border: 1px solid #dddddd'>Customer_Status</th><th style='border: 1px solid #dddddd'>Car_Owner</th><th style='border: 1px solid #dddddd'>Customer_Service</th><th style='border: 1px solid #dddddd'>Satisfaction</th><th style='border: 1px solid #dddddd'>Business_Area</th><th style='border: 1px solid #dddddd'>prediction</th><th style='border: 1px solid #dddddd'>predictedActionLabel</th><th style='border: 1px solid #dddddd'>probability</th><th style='border: 1px solid #dddddd'>debiased_prediction</th><th style='border: 1px solid #dddddd'>debiased_probability</th><th style='border: 1px solid #dddddd'>debiased_decoded_target</th>\n                <tr><td style='border: 1px solid #dddddd'>2e4047b9e91d979394fd68dd8d074346-1</td><td style='border: 1px solid #dddddd'>2018-10-30 13:27:37.891000</td><td style='border: 1px solid #dddddd'>898d816c-7f43-40c0-b98b-8c81673d3f1e</td><td style='border: 1px solid #dddddd'>a1d641ee-b6e9-443f-9e71-93efece63045</td><td style='border: 1px solid #dddddd'>3785</td><td style='border: 1px solid #dddddd'>Male</td><td style='border: 1px solid #dddddd'>S</td><td style='border: 1px solid #dddddd'>1</td><td style='border: 1px solid #dddddd'>17.00</td><td style='border: 1px solid #dddddd'>Inactive</td><td style='border: 1px solid #dddddd'>Yes</td><td style='border: 1px solid #dddddd'>The car should have been brought to us instead of us trying to find it in the lot.</td><td style='border: 1px solid #dddddd'>0</td><td style='border: 1px solid #dddddd'>Product: Information</td><td style='border: 1px solid #dddddd'>2.0</td><td style='border: 1px solid #dddddd'>On-demand pickup location</td><td style='border: 1px solid #dddddd'>[0.0, 0.14285714285714285, 0.8571428571428571, 0.0, 0.0]</td><td style='border: 1px solid #dddddd'>None</td><td style='border: 1px solid #dddddd'>None</td><td style='border: 1px solid #dddddd'>None</td></tr><tr><td style='border: 1px solid #dddddd'>2e4047b9e91d979394fd68dd8d074346-2</td><td style='border: 1px solid #dddddd'>2018-10-30 13:27:37.891000</td><td style='border: 1px solid #dddddd'>898d816c-7f43-40c0-b98b-8c81673d3f1e</td><td style='border: 1px solid #dddddd'>a1d641ee-b6e9-443f-9e71-93efece63045</td><td style='border: 1px solid #dddddd'>122</td><td style='border: 1px solid #dddddd'>Male</td><td style='border: 1px solid #dddddd'>S</td><td style='border: 1px solid #dddddd'>2</td><td style='border: 1px solid #dddddd'>45.00</td><td style='border: 1px solid #dddddd'>Inactive</td><td style='border: 1px solid #dddddd'>Yes</td><td style='border: 1px solid #dddddd'>no wait for pick up and drop off was great</td><td style='border: 1px solid #dddddd'>0</td><td style='border: 1px solid #dddddd'>Product: Functioning</td><td style='border: 1px solid #dddddd'>2.0</td><td style='border: 1px solid #dddddd'>On-demand pickup location</td><td style='border: 1px solid #dddddd'>[0.0, 0.14285714285714285, 0.8571428571428571, 0.0, 0.0]</td><td style='border: 1px solid #dddddd'>None</td><td style='border: 1px solid #dddddd'>None</td><td style='border: 1px solid #dddddd'>None</td></tr><tr><td style='border: 1px solid #dddddd'>2e4047b9e91d979394fd68dd8d074346-3</td><td style='border: 1px solid #dddddd'>2018-10-30 13:27:37.891000</td><td style='border: 1px solid #dddddd'>898d816c-7f43-40c0-b98b-8c81673d3f1e</td><td style='border: 1px solid #dddddd'>a1d641ee-b6e9-443f-9e71-93efece63045</td><td style='border: 1px solid #dddddd'>178</td><td style='border: 1px solid #dddddd'>Male</td><td style='border: 1px solid #dddddd'>M</td><td style='border: 1px solid #dddddd'>4</td><td style='border: 1px solid #dddddd'>55.00</td><td style='border: 1px solid #dddddd'>Active</td><td style='border: 1px solid #dddddd'>No</td><td style='border: 1px solid #dddddd'>what customer service? It was a nightmare</td><td style='border: 1px solid #dddddd'>0</td><td style='border: 1px solid #dddddd'>Product: Information</td><td style='border: 1px solid #dddddd'>3.0</td><td style='border: 1px solid #dddddd'>Voucher</td><td style='border: 1px solid #dddddd'>[0.0, 0.0, 0.0, 1.0, 0.0]</td><td style='border: 1px solid #dddddd'>None</td><td style='border: 1px solid #dddddd'>None</td><td style='border: 1px solid #dddddd'>None</td></tr><tr><td style='border: 1px solid #dddddd'>2e4047b9e91d979394fd68dd8d074346-4</td><td style='border: 1px solid #dddddd'>2018-10-30 13:27:37.891000</td><td style='border: 1px solid #dddddd'>898d816c-7f43-40c0-b98b-8c81673d3f1e</td><td style='border: 1px solid #dddddd'>a1d641ee-b6e9-443f-9e71-93efece63045</td><td style='border: 1px solid #dddddd'>201</td><td style='border: 1px solid #dddddd'>Female</td><td style='border: 1px solid #dddddd'>S</td><td style='border: 1px solid #dddddd'>0</td><td style='border: 1px solid #dddddd'>37.00</td><td style='border: 1px solid #dddddd'>Inactive</td><td style='border: 1px solid #dddddd'>No</td><td style='border: 1px solid #dddddd'>delayed shuttle, almost missed flight</td><td style='border: 1px solid #dddddd'>0</td><td style='border: 1px solid #dddddd'>Service: Knowledge</td><td style='border: 1px solid #dddddd'>2.0</td><td style='border: 1px solid #dddddd'>On-demand pickup location</td><td style='border: 1px solid #dddddd'>[0.0, 0.3, 0.6, 0.1, 0.0]</td><td style='border: 1px solid #dddddd'>None</td><td style='border: 1px solid #dddddd'>None</td><td style='border: 1px solid #dddddd'>None</td></tr><tr><td style='border: 1px solid #dddddd'>7f8535bb1e307990e011e6d5fc4eb1f2-1</td><td style='border: 1px solid #dddddd'>2018-10-30 13:27:37.983000</td><td style='border: 1px solid #dddddd'>898d816c-7f43-40c0-b98b-8c81673d3f1e</td><td style='border: 1px solid #dddddd'>a1d641ee-b6e9-443f-9e71-93efece63045</td><td style='border: 1px solid #dddddd'>3785</td><td style='border: 1px solid #dddddd'>Male</td><td style='border: 1px solid #dddddd'>S</td><td style='border: 1px solid #dddddd'>1</td><td style='border: 1px solid #dddddd'>17.00</td><td style='border: 1px solid #dddddd'>Inactive</td><td style='border: 1px solid #dddddd'>Yes</td><td style='border: 1px solid #dddddd'>The car should have been brought to us instead of us trying to find it in the lot.</td><td style='border: 1px solid #dddddd'>0</td><td style='border: 1px solid #dddddd'>Product: Information</td><td style='border: 1px solid #dddddd'>2.0</td><td style='border: 1px solid #dddddd'>On-demand pickup location</td><td style='border: 1px solid #dddddd'>[0.0, 0.14285714285714285, 0.8571428571428571, 0.0, 0.0]</td><td style='border: 1px solid #dddddd'>None</td><td style='border: 1px solid #dddddd'>None</td><td style='border: 1px solid #dddddd'>None</td></tr><tr><td style='border: 1px solid #dddddd'>7f8535bb1e307990e011e6d5fc4eb1f2-2</td><td style='border: 1px solid #dddddd'>2018-10-30 13:27:37.983000</td><td style='border: 1px solid #dddddd'>898d816c-7f43-40c0-b98b-8c81673d3f1e</td><td style='border: 1px solid #dddddd'>a1d641ee-b6e9-443f-9e71-93efece63045</td><td style='border: 1px solid #dddddd'>122</td><td style='border: 1px solid #dddddd'>Male</td><td style='border: 1px solid #dddddd'>S</td><td style='border: 1px solid #dddddd'>2</td><td style='border: 1px solid #dddddd'>45.00</td><td style='border: 1px solid #dddddd'>Inactive</td><td style='border: 1px solid #dddddd'>Yes</td><td style='border: 1px solid #dddddd'>no wait for pick up and drop off was great</td><td style='border: 1px solid #dddddd'>0</td><td style='border: 1px solid #dddddd'>Product: Functioning</td><td style='border: 1px solid #dddddd'>2.0</td><td style='border: 1px solid #dddddd'>On-demand pickup location</td><td style='border: 1px solid #dddddd'>[0.0, 0.14285714285714285, 0.8571428571428571, 0.0, 0.0]</td><td style='border: 1px solid #dddddd'>None</td><td style='border: 1px solid #dddddd'>None</td><td style='border: 1px solid #dddddd'>None</td></tr><tr><td style='border: 1px solid #dddddd'>7f8535bb1e307990e011e6d5fc4eb1f2-3</td><td style='border: 1px solid #dddddd'>2018-10-30 13:27:37.983000</td><td style='border: 1px solid #dddddd'>898d816c-7f43-40c0-b98b-8c81673d3f1e</td><td style='border: 1px solid #dddddd'>a1d641ee-b6e9-443f-9e71-93efece63045</td><td style='border: 1px solid #dddddd'>178</td><td style='border: 1px solid #dddddd'>Male</td><td style='border: 1px solid #dddddd'>M</td><td style='border: 1px solid #dddddd'>4</td><td style='border: 1px solid #dddddd'>55.00</td><td style='border: 1px solid #dddddd'>Active</td><td style='border: 1px solid #dddddd'>No</td><td style='border: 1px solid #dddddd'>what customer service? It was a nightmare</td><td style='border: 1px solid #dddddd'>0</td><td style='border: 1px solid #dddddd'>Product: Information</td><td style='border: 1px solid #dddddd'>3.0</td><td style='border: 1px solid #dddddd'>Voucher</td><td style='border: 1px solid #dddddd'>[0.0, 0.0, 0.0, 1.0, 0.0]</td><td style='border: 1px solid #dddddd'>None</td><td style='border: 1px solid #dddddd'>None</td><td style='border: 1px solid #dddddd'>None</td></tr><tr><td style='border: 1px solid #dddddd'>7f8535bb1e307990e011e6d5fc4eb1f2-4</td><td style='border: 1px solid #dddddd'>2018-10-30 13:27:37.983000</td><td style='border: 1px solid #dddddd'>898d816c-7f43-40c0-b98b-8c81673d3f1e</td><td style='border: 1px solid #dddddd'>a1d641ee-b6e9-443f-9e71-93efece63045</td><td style='border: 1px solid #dddddd'>201</td><td style='border: 1px solid #dddddd'>Female</td><td style='border: 1px solid #dddddd'>S</td><td style='border: 1px solid #dddddd'>0</td><td style='border: 1px solid #dddddd'>37.00</td><td style='border: 1px solid #dddddd'>Inactive</td><td style='border: 1px solid #dddddd'>No</td><td style='border: 1px solid #dddddd'>delayed shuttle, almost missed flight</td><td style='border: 1px solid #dddddd'>0</td><td style='border: 1px solid #dddddd'>Service: Knowledge</td><td style='border: 1px solid #dddddd'>2.0</td><td style='border: 1px solid #dddddd'>On-demand pickup location</td><td style='border: 1px solid #dddddd'>[0.0, 0.3, 0.6, 0.1, 0.0]</td><td style='border: 1px solid #dddddd'>None</td><td style='border: 1px solid #dddddd'>None</td><td style='border: 1px solid #dddddd'>None</td></tr><tr><td style='border: 1px solid #dddddd'>11f12cb56beda783fabae571570055f1-1</td><td style='border: 1px solid #dddddd'>2018-10-30 13:27:38.003000</td><td style='border: 1px solid #dddddd'>898d816c-7f43-40c0-b98b-8c81673d3f1e</td><td style='border: 1px solid #dddddd'>a1d641ee-b6e9-443f-9e71-93efece63045</td><td style='border: 1px solid #dddddd'>3785</td><td style='border: 1px solid #dddddd'>Male</td><td style='border: 1px solid #dddddd'>S</td><td style='border: 1px solid #dddddd'>1</td><td style='border: 1px solid #dddddd'>17.00</td><td style='border: 1px solid #dddddd'>Inactive</td><td style='border: 1px solid #dddddd'>Yes</td><td style='border: 1px solid #dddddd'>The car should have been brought to us instead of us trying to find it in the lot.</td><td style='border: 1px solid #dddddd'>0</td><td style='border: 1px solid #dddddd'>Product: Information</td><td style='border: 1px solid #dddddd'>2.0</td><td style='border: 1px solid #dddddd'>On-demand pickup location</td><td style='border: 1px solid #dddddd'>[0.0, 0.14285714285714285, 0.8571428571428571, 0.0, 0.0]</td><td style='border: 1px solid #dddddd'>None</td><td style='border: 1px solid #dddddd'>None</td><td style='border: 1px solid #dddddd'>None</td></tr><tr><td style='border: 1px solid #dddddd'>11f12cb56beda783fabae571570055f1-2</td><td style='border: 1px solid #dddddd'>2018-10-30 13:27:38.003000</td><td style='border: 1px solid #dddddd'>898d816c-7f43-40c0-b98b-8c81673d3f1e</td><td style='border: 1px solid #dddddd'>a1d641ee-b6e9-443f-9e71-93efece63045</td><td style='border: 1px solid #dddddd'>122</td><td style='border: 1px solid #dddddd'>Male</td><td style='border: 1px solid #dddddd'>S</td><td style='border: 1px solid #dddddd'>2</td><td style='border: 1px solid #dddddd'>45.00</td><td style='border: 1px solid #dddddd'>Inactive</td><td style='border: 1px solid #dddddd'>Yes</td><td style='border: 1px solid #dddddd'>no wait for pick up and drop off was great</td><td style='border: 1px solid #dddddd'>0</td><td style='border: 1px solid #dddddd'>Product: Functioning</td><td style='border: 1px solid #dddddd'>2.0</td><td style='border: 1px solid #dddddd'>On-demand pickup location</td><td style='border: 1px solid #dddddd'>[0.0, 0.14285714285714285, 0.8571428571428571, 0.0, 0.0]</td><td style='border: 1px solid #dddddd'>None</td><td style='border: 1px solid #dddddd'>None</td><td style='border: 1px solid #dddddd'>None</td></tr>\n            </table>\n        </body>\n        </HTML>", 
                        "text/plain": "<IPython.core.display.HTML object>"
                    }, 
                    "metadata": {}
                }, 
                {
                    "output_type": "stream", 
                    "name": "stdout", 
                    "text": "Note: First 10 records were displayed.\n"
                }
            ], 
            "source": "subscription.payload_logging.show_table()"
        }, 
        {
            "execution_count": 178, 
            "cell_type": "code", 
            "metadata": {}, 
            "outputs": [
                {
                    "output_type": "display_data", 
                    "data": {
                        "text/html": "<HTML>\n        <body>\n            <h3>PerformanceMetrics (binding_id=a73bf76d-a663-448a-b771-4f651f73d54e, subscription_id=3100dafd-8fac-47dc-b627-151d4d558f02)</h3>\n            <table style='border: 1px solid #dddddd; font-family: Courier'>\n                <th style='border: 1px solid #dddddd'>ts</th><th style='border: 1px solid #dddddd'>response_time</th><th style='border: 1px solid #dddddd'>records</th><th style='border: 1px solid #dddddd'>binding_id</th><th style='border: 1px solid #dddddd'>subscription_id</th><th style='border: 1px solid #dddddd'>deployment_id</th><th style='border: 1px solid #dddddd'>process</th>\n                <tr><td style='border: 1px solid #dddddd'>2018-10-30 13:27:37.983000</td><td style='border: 1px solid #dddddd'>10.0</td><td style='border: 1px solid #dddddd'>28</td><td style='border: 1px solid #dddddd'>a73bf76d-a663-448a-b771-4f651f73d54e</td><td style='border: 1px solid #dddddd'>3100dafd-8fac-47dc-b627-151d4d558f02</td><td style='border: 1px solid #dddddd'>898d816c-7f43-40c0-b98b-8c81673d3f1e</td><td style='border: 1px solid #dddddd'>None</td></tr><tr><td style='border: 1px solid #dddddd'>2018-10-30 13:27:37.890000</td><td style='border: 1px solid #dddddd'>12.0</td><td style='border: 1px solid #dddddd'>28</td><td style='border: 1px solid #dddddd'>a73bf76d-a663-448a-b771-4f651f73d54e</td><td style='border: 1px solid #dddddd'>3100dafd-8fac-47dc-b627-151d4d558f02</td><td style='border: 1px solid #dddddd'>898d816c-7f43-40c0-b98b-8c81673d3f1e</td><td style='border: 1px solid #dddddd'>None</td></tr><tr><td style='border: 1px solid #dddddd'>2018-10-30 13:27:37.845000</td><td style='border: 1px solid #dddddd'>15.0</td><td style='border: 1px solid #dddddd'>32</td><td style='border: 1px solid #dddddd'>a73bf76d-a663-448a-b771-4f651f73d54e</td><td style='border: 1px solid #dddddd'>3100dafd-8fac-47dc-b627-151d4d558f02</td><td style='border: 1px solid #dddddd'>898d816c-7f43-40c0-b98b-8c81673d3f1e</td><td style='border: 1px solid #dddddd'>None</td></tr><tr><td style='border: 1px solid #dddddd'>2018-10-30 13:26:48.014000</td><td style='border: 1px solid #dddddd'>15.0</td><td style='border: 1px solid #dddddd'>29</td><td style='border: 1px solid #dddddd'>a73bf76d-a663-448a-b771-4f651f73d54e</td><td style='border: 1px solid #dddddd'>3100dafd-8fac-47dc-b627-151d4d558f02</td><td style='border: 1px solid #dddddd'>898d816c-7f43-40c0-b98b-8c81673d3f1e</td><td style='border: 1px solid #dddddd'>None</td></tr>\n            </table>\n        </body>\n        </HTML>", 
                        "text/plain": "<IPython.core.display.HTML object>"
                    }, 
                    "metadata": {}
                }
            ], 
            "source": "subscription.performance_monitoring.show_table()"
        }, 
        {
            "execution_count": 179, 
            "cell_type": "code", 
            "metadata": {}, 
            "outputs": [
                {
                    "output_type": "display_data", 
                    "data": {
                        "text/html": "<HTML>\n        <body>\n            <h3>QualityMetrics (binding_id=a73bf76d-a663-448a-b771-4f651f73d54e, subscription_id=3100dafd-8fac-47dc-b627-151d4d558f02)</h3>\n            <table style='border: 1px solid #dddddd; font-family: Courier'>\n                <th style='border: 1px solid #dddddd'>ts</th><th style='border: 1px solid #dddddd'>quality</th><th style='border: 1px solid #dddddd'>threshold</th><th style='border: 1px solid #dddddd'>binding_id</th><th style='border: 1px solid #dddddd'>subscription_id</th><th style='border: 1px solid #dddddd'>deployment_id</th><th style='border: 1px solid #dddddd'>process</th><th style='border: 1px solid #dddddd'>asset_revision</th>\n                <tr><td style='border: 1px solid #dddddd'>2018-10-30 13:29:01.713000</td><td style='border: 1px solid #dddddd'>0.0</td><td style='border: 1px solid #dddddd'>0.8</td><td style='border: 1px solid #dddddd'>a73bf76d-a663-448a-b771-4f651f73d54e</td><td style='border: 1px solid #dddddd'>3100dafd-8fac-47dc-b627-151d4d558f02</td><td style='border: 1px solid #dddddd'>None</td><td style='border: 1px solid #dddddd'>learning iteration [d63d31eb-1233-4b1a-8ce0-575470fb0937]</td><td style='border: 1px solid #dddddd'>a1d641ee-b6e9-443f-9e71-93efece63045</td></tr>\n            </table>\n        </body>\n        </HTML>", 
                        "text/plain": "<IPython.core.display.HTML object>"
                    }, 
                    "metadata": {}
                }
            ], 
            "source": "subscription.quality_monitoring.show_table()"
        }, 
        {
            "source": "### Describe table (basic stats on table)", 
            "cell_type": "markdown", 
            "metadata": {}
        }, 
        {
            "execution_count": 180, 
            "cell_type": "code", 
            "metadata": {}, 
            "outputs": [
                {
                    "output_type": "stream", 
                    "name": "stdout", 
                    "text": "                ID    Children  Satisfaction  prediction\ncount   116.000000  116.000000         116.0  116.000000\nmean   1071.500000    1.750000           0.0    2.250000\nstd    1573.701273    1.485437           0.0    0.434891\nmin     122.000000    0.000000           0.0    2.000000\n25%     164.000000    0.750000           0.0    2.000000\n50%     189.500000    1.500000           0.0    2.000000\n75%    1097.000000    2.500000           0.0    2.250000\nmax    3785.000000    4.000000           0.0    3.000000\n"
                }
            ], 
            "source": "subscription.payload_logging.describe_table()"
        }, 
        {
            "source": "### Get table content as pandas dataframe", 
            "cell_type": "markdown", 
            "metadata": {}
        }, 
        {
            "execution_count": 181, 
            "cell_type": "code", 
            "metadata": {}, 
            "outputs": [], 
            "source": "pandas_df = subscription.payload_logging.get_table_content(format='pandas')"
        }, 
        {
            "execution_count": 182, 
            "cell_type": "code", 
            "metadata": {}, 
            "outputs": [
                {
                    "execution_count": 182, 
                    "metadata": {}, 
                    "data": {
                        "text/plain": "<matplotlib.axes._subplots.AxesSubplot at 0x7f2d00063ef0>"
                    }, 
                    "output_type": "execute_result"
                }, 
                {
                    "output_type": "display_data", 
                    "data": {
                        "image/png": "[encoded data removed]", 
                        "text/plain": "<matplotlib.figure.Figure at 0x7f2d0220bd68>"
                    }, 
                    "metadata": {}
                }
            ], 
            "source": "%matplotlib inline\n\npandas_df.boxplot()"
        }, 
        {
            "source": "### 5.2 Accessing data mart metrics\n- performance\n- quality\n- fairness", 
            "cell_type": "markdown", 
            "metadata": {}
        }, 
        {
            "source": "Get all metrics.", 
            "cell_type": "markdown", 
            "metadata": {}
        }, 
        {
            "execution_count": 183, 
            "cell_type": "code", 
            "metadata": {}, 
            "outputs": [
                {
                    "execution_count": 183, 
                    "metadata": {}, 
                    "data": {
                        "text/plain": "{'deployment_metrics': [{'asset': {'asset_id': '3100dafd-8fac-47dc-b627-151d4d558f02',\n    'asset_type': 'model',\n    'created_at': '2018-10-30T13:14:33.012Z',\n    'name': 'CARS4U - Action Recommendation Model',\n    'url': 'https://us-south.ml.cloud.ibm.com/v3/wml_instances/a73bf76d-a663-448a-b771-4f651f73d54e/published_models/3100dafd-8fac-47dc-b627-151d4d558f02'},\n   'deployment': {'created_at': '2018-10-30T13:26:42.571Z',\n    'deployment_id': '898d816c-7f43-40c0-b98b-8c81673d3f1e',\n    'deployment_type': 'online',\n    'name': 'CARS4U - Area and Action Model Deployment',\n    'url': 'https://us-south.ml.cloud.ibm.com/v3/wml_instances/a73bf76d-a663-448a-b771-4f651f73d54e/deployments/898d816c-7f43-40c0-b98b-8c81673d3f1e'},\n   'metrics': [{'issues': 1,\n     'metric_type': 'fairness',\n     'timestamp': '2018-10-30T13:33:41.623192Z',\n     'value': {'manual_labelling_store': 'FM_Manual_Labeling_3100dafd_8fac_47dc_b627_151d4d558f02',\n      'metrics': [{'feature': 'Gender',\n        'majority': {'total_fav_percent': 25.0,\n         'total_rows_percent': 33.33333333333333,\n         'values': [{'distribution': {'Male': [{'count': 3,\n              'is_favourable': True,\n              'label': 'Voucher'},\n             {'count': 6,\n              'is_favourable': False,\n              'label': 'On-demand pickup location'}]},\n           'fav_class_percent': 25.0,\n           'value': 'Male'}]},\n        'minority': {'total_fav_percent': 50.0,\n         'total_rows_percent': 33.33333333333333,\n         'values': [{'distribution': {'Female': [{'count': 3,\n              'is_favourable': False,\n              'label': 'On-demand pickup location'}]},\n           'fairness_value': 2.0,\n           'fav_class_percent': 50.0,\n           'is_biased': False,\n           'value': 'Female'}]}},\n       {'bias_source': {'values': []},\n        'feature': 'Children',\n        'majority': {'total_fav_percent': 33.33333333333333,\n         'total_rows_percent': 50.0,\n         'values': [{'distribution': {'0': [{'count': 3,\n              'is_favourable': False,\n              'label': 'On-demand pickup location'}]},\n           'fav_class_percent': 33.33333333333333,\n           'value': [0, 1]}]},\n        'minority': {'total_fav_percent': 16.666666666666664,\n         'total_rows_percent': 50.0,\n         'values': [{'distribution': {'2': [{'count': 3,\n              'is_favourable': False,\n              'label': 'On-demand pickup location'}],\n            '4': [{'count': 3, 'is_favourable': True, 'label': 'Voucher'}]},\n           'fairness_value': 0.5,\n           'fav_class_percent': 16.666666666666664,\n           'is_biased': True,\n           'value': [2, 6]}]}}],\n      'perturbed_data_size': 24,\n      'response_time': '1.789943',\n      'rows_analyzed': 12,\n      'score_type': 'desperate impact'}},\n    {'issues': 0,\n     'metric_type': 'performance',\n     'timestamp': '2018-10-30T13:27:37.983Z',\n     'value': {'records': 28, 'response_time': 10.0}},\n    {'issues': 1,\n     'metric_type': 'quality',\n     'timestamp': '2018-10-30T13:29:01.713Z',\n     'value': {'metrics': [{'name': 'weightedTruePositiveRate', 'value': 0.0},\n       {'name': 'accuracy', 'threshold': 0.8, 'value': 0.0},\n       {'name': 'weightedFMeasure', 'value': 0.0},\n       {'name': 'weightedRecall', 'value': 0.0},\n       {'name': 'weightedFalsePositiveRate', 'value': 0.16666666666666666},\n       {'name': 'weightedPrecision', 'value': 0.0}],\n      'phase': 'monitoring',\n      'quality': 0.0,\n      'threshold': 0.8}}],\n   'subscription': {'subscription_id': '3100dafd-8fac-47dc-b627-151d4d558f02',\n    'url': '/v1/data_marts/469f9225-ea5d-4c7f-ab95-d937da9ba026/service_bindings/a73bf76d-a663-448a-b771-4f651f73d54e/subscriptions/3100dafd-8fac-47dc-b627-151d4d558f02'}}]}"
                    }, 
                    "output_type": "execute_result"
                }
            ], 
            "source": "client.data_mart.get_deployment_metrics()"
        }, 
        {
            "source": "Get metric for particular deployment.", 
            "cell_type": "markdown", 
            "metadata": {}
        }, 
        {
            "execution_count": 184, 
            "cell_type": "code", 
            "metadata": {}, 
            "outputs": [
                {
                    "execution_count": 184, 
                    "metadata": {}, 
                    "data": {
                        "text/plain": "{'end': '2018-10-30T13:36:52.254621Z',\n 'metrics': [{'asset_revision': 'a1d641ee-b6e9-443f-9e71-93efece63045',\n   'process': 'learning iteration [d63d31eb-1233-4b1a-8ce0-575470fb0937]',\n   'timestamp': '2018-10-30T13:29:01.713Z',\n   'value': {'metrics': [{'name': 'weightedTruePositiveRate', 'value': 0.0},\n     {'name': 'accuracy', 'threshold': 0.8, 'value': 0.0},\n     {'name': 'weightedFMeasure', 'value': 0.0},\n     {'name': 'weightedRecall', 'value': 0.0},\n     {'name': 'weightedFalsePositiveRate', 'value': 0.16666666666666666},\n     {'name': 'weightedPrecision', 'value': 0.0}],\n    'phase': 'monitoring',\n    'quality': 0.0,\n    'threshold': 0.8}}],\n 'start': '2018-10-30T12:27:31.132Z'}"
                    }, 
                    "output_type": "execute_result"
                }
            ], 
            "source": "subscription.quality_monitoring.get_metrics(deployment_uid=subscription.get_deployment_uids()[0])"
        }, 
        {
            "source": "<a id=\"setup\"></a>\n## 6. Visualization", 
            "cell_type": "markdown", 
            "metadata": {}
        }, 
        {
            "source": "Get the performance metrics as pandas dataframe.", 
            "cell_type": "markdown", 
            "metadata": {}
        }, 
        {
            "execution_count": 54, 
            "cell_type": "code", 
            "metadata": {}, 
            "outputs": [], 
            "source": "performance_pdf = subscription.performance_monitoring.get_table_content()"
        }, 
        {
            "source": "Let's enrich our data by calculating additional metric: `throughput`", 
            "cell_type": "markdown", 
            "metadata": {}
        }, 
        {
            "execution_count": 82, 
            "cell_type": "code", 
            "metadata": {}, 
            "outputs": [], 
            "source": "performance_pdf['throughput'] = performance_pdf.apply(lambda row: float((row.records/row.response_time*1000)) ,axis=1)\nperformance_pdf['date'] = performance_pdf['ts'].dt.date\nperformance_aggregated_daily = performance_pdf.groupby(['date']).agg({'throughput': 'mean', 'records': sum, 'response_time': sum})"
        }, 
        {
            "source": "Let's plot metrics over time using plotly package.", 
            "cell_type": "markdown", 
            "metadata": {}
        }, 
        {
            "execution_count": 84, 
            "cell_type": "code", 
            "metadata": {}, 
            "outputs": [
                {
                    "output_type": "display_data", 
                    "data": {
                        "text/html": "<script>requirejs.config({paths: { 'plotly': ['https://cdn.plot.ly/plotly-latest.min']},});if(!window.Plotly) {{require(['plotly'],function(plotly) {window.Plotly=plotly;});}}</script>", 
                        "text/vnd.plotly.v1+html": "<script>requirejs.config({paths: { 'plotly': ['https://cdn.plot.ly/plotly-latest.min']},});if(!window.Plotly) {{require(['plotly'],function(plotly) {window.Plotly=plotly;});}}</script>"
                    }, 
                    "metadata": {}
                }
            ], 
            "source": "import sys\nimport os\nimport plotly.plotly as py\nfrom plotly.offline import download_plotlyjs, init_notebook_mode, plot, iplot\nimport plotly.graph_objs as go\n\ninit_notebook_mode(connected=True)\nsys.path.append(\"\".join([os.environ[\"HOME\"]]))"
        }, 
        {
            "source": "Create a trace.", 
            "cell_type": "markdown", 
            "metadata": {}
        }, 
        {
            "execution_count": 99, 
            "cell_type": "code", 
            "metadata": {}, 
            "outputs": [
                {
                    "output_type": "display_data", 
                    "data": {
                        "text/html": "<div id=\"3b0f6b1e-b9ca-408a-9241-7cd1298dc700\" style=\"height: 525px; width: 100%;\" class=\"plotly-graph-div\"></div><script type=\"text/javascript\">require([\"plotly\"], function(Plotly) { window.PLOTLYENV=window.PLOTLYENV || {};window.PLOTLYENV.BASE_URL=\"https://plot.ly\";Plotly.newPlot(\"3b0f6b1e-b9ca-408a-9241-7cd1298dc700\", [{\"y\": [\"2018-10-30\", \"2018-10-31\"], \"name\": \"throughput\", \"orientation\": \"h\", \"type\": \"bar\", \"x\": [2696.5747702589806, 2366.6666666666665]}, {\"y\": [\"2018-10-30\", \"2018-10-31\"], \"name\": \"records\", \"orientation\": \"h\", \"type\": \"bar\", \"x\": [581, 116]}, {\"y\": [\"2018-10-30\", \"2018-10-31\"], \"name\": \"response time\", \"orientation\": \"h\", \"type\": \"bar\", \"x\": [227.0, 55.0]}], {\"xaxis\": {\"title\": \"Metric value\"}, \"barmode\": \"group\", \"title\": \"Performance metrics daily\", \"yaxis\": {\"title\": \"Date\"}}, {\"linkText\": \"Export to plot.ly\", \"showLink\": true})});</script>", 
                        "text/vnd.plotly.v1+html": "<div id=\"3b0f6b1e-b9ca-408a-9241-7cd1298dc700\" style=\"height: 525px; width: 100%;\" class=\"plotly-graph-div\"></div><script type=\"text/javascript\">require([\"plotly\"], function(Plotly) { window.PLOTLYENV=window.PLOTLYENV || {};window.PLOTLYENV.BASE_URL=\"https://plot.ly\";Plotly.newPlot(\"3b0f6b1e-b9ca-408a-9241-7cd1298dc700\", [{\"y\": [\"2018-10-30\", \"2018-10-31\"], \"name\": \"throughput\", \"orientation\": \"h\", \"type\": \"bar\", \"x\": [2696.5747702589806, 2366.6666666666665]}, {\"y\": [\"2018-10-30\", \"2018-10-31\"], \"name\": \"records\", \"orientation\": \"h\", \"type\": \"bar\", \"x\": [581, 116]}, {\"y\": [\"2018-10-30\", \"2018-10-31\"], \"name\": \"response time\", \"orientation\": \"h\", \"type\": \"bar\", \"x\": [227.0, 55.0]}], {\"xaxis\": {\"title\": \"Metric value\"}, \"barmode\": \"group\", \"title\": \"Performance metrics daily\", \"yaxis\": {\"title\": \"Date\"}}, {\"linkText\": \"Export to plot.ly\", \"showLink\": true})});</script>", 
                        "application/vnd.plotly.v1+json": {
                            "data": [
                                {
                                    "y": [
                                        "2018-10-30", 
                                        "2018-10-31"
                                    ], 
                                    "x": [
                                        2696.5747702589806, 
                                        2366.6666666666665
                                    ], 
                                    "type": "bar", 
                                    "name": "throughput", 
                                    "orientation": "h"
                                }, 
                                {
                                    "y": [
                                        "2018-10-30", 
                                        "2018-10-31"
                                    ], 
                                    "x": [
                                        581, 
                                        116
                                    ], 
                                    "type": "bar", 
                                    "name": "records", 
                                    "orientation": "h"
                                }, 
                                {
                                    "y": [
                                        "2018-10-30", 
                                        "2018-10-31"
                                    ], 
                                    "x": [
                                        227, 
                                        55
                                    ], 
                                    "type": "bar", 
                                    "name": "response time", 
                                    "orientation": "h"
                                }
                            ], 
                            "layout": {
                                "barmode": "group", 
                                "title": "Performance metrics daily", 
                                "xaxis": {
                                    "title": "Metric value"
                                }, 
                                "yaxis": {
                                    "title": "Date"
                                }
                            }
                        }
                    }, 
                    "metadata": {}
                }
            ], 
            "source": "trace1 = go.Bar(\n    y=performance_aggregated_daily.index,\n    x=performance_aggregated_daily['throughput'],\n    orientation = 'h',\n    name='throughput'\n)\n\ntrace2 = go.Bar(\n    y=performance_aggregated_daily.index,\n    x=performance_aggregated_daily['records'],\n    orientation = 'h',\n    name='records'\n)\n\ntrace3 = go.Bar(\n    y=performance_aggregated_daily.index,\n    x=performance_aggregated_daily['response_time'],\n    orientation = 'h',\n    name='response time'\n)\n\ndata = [trace1, trace2, trace3]\nlayout = go.Layout(\n    title = 'Performance metrics daily',\n    barmode='group',\n    xaxis=dict(title='Metric value'),\n    yaxis=dict(title='Date'),\n)\n\nfig = go.Figure(data=data, layout=layout)\niplot(fig)"
        }, 
        {
            "source": "---", 
            "cell_type": "markdown", 
            "metadata": {}
        }, 
        {
            "source": "### Authors\nLukasz Cmielowski, PhD, is an Automation Architect and Data Scientist at IBM with a track record of developing enterprise-level applications that substantially increases clients' ability to turn data into actionable knowledge.", 
            "cell_type": "markdown", 
            "metadata": {}
        }
    ], 
    "metadata": {
        "kernelspec": {
            "display_name": "Python 3.5", 
            "name": "python3", 
            "language": "python"
        }, 
        "language_info": {
            "mimetype": "text/x-python", 
            "nbconvert_exporter": "python", 
            "version": "3.5.5", 
            "name": "python", 
            "file_extension": ".py", 
            "pygments_lexer": "ipython3", 
            "codemirror_mode": {
                "version": 3, 
                "name": "ipython"
            }
        }
    }, 
    "nbformat": 4
}