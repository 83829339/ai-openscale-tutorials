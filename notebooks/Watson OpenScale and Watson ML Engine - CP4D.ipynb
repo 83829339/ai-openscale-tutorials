{
    "cells": [
        {
            "cell_type": "markdown",
            "metadata": {},
            "source": "<img src=\"https://github.com/pmservice/ai-openscale-tutorials/raw/master/notebooks/images/banner.png\" align=\"left\" alt=\"banner\">"
        },
        {
            "cell_type": "markdown",
            "metadata": {},
            "source": "# Working with Watson Machine Learning"
        },
        {
            "cell_type": "markdown",
            "metadata": {},
            "source": "This notebook should be run using with **Python 3.x with Spark** runtime environment. **If you are viewing this in Watson Studio and do not see Python 3.x with Spark in the upper right corner of your screen, please update the runtime now.** It requires service credentials for the following services:\n  * Watson OpenScale\n  * Watson Machine Learning\n  * DB2\n  \nThe notebook will train, create and deploy a German Credit Risk model, configure OpenScale to monitor that deployment, and inject seven days' worth of historical records and measurements for viewing in the OpenScale Insights dashboard."
        },
        {
            "cell_type": "markdown",
            "metadata": {},
            "source": "### Contents\n\n- [Setup](#setup)\n- [Model building and deployment](#model)\n- [OpenScale configuration](#openscale)\n- [Quality monitor and feedback logging](#quality)\n- [Fairness, drift monitoring and explanations](#fairness)\n- [Custom monitors and metrics](#custom)\n- [Payload analytics](#analytics)\n- [Historical data](#historical)"
        },
        {
            "cell_type": "markdown",
            "metadata": {},
            "source": "# Setup <a name=\"setup\"></a>"
        },
        {
            "cell_type": "markdown",
            "metadata": {
                "collapsed": true
            },
            "source": "## Package installation"
        },
        {
            "cell_type": "code",
            "execution_count": 1,
            "metadata": {},
            "outputs": [],
            "source": "import warnings\nwarnings.filterwarnings('ignore')"
        },
        {
            "cell_type": "code",
            "execution_count": null,
            "metadata": {
                "scrolled": true
            },
            "outputs": [],
            "source": "!rm -rf /home/spark/shared/user-libs/python3.6*\n\n!pip install --upgrade ibm-ai-openscale --no-cache | tail -n 1\n!pip install --upgrade watson-machine-learning-client-V4 | tail -n 1\n!pip install --upgrade numpy --no-cache | tail -n 1\n!pip install --upgrade SciPy --no-cache | tail -n 1\n!pip install lime --no-cache | tail -n 1\n!pip install pixiedust | tail -n 1"
        },
        {
            "cell_type": "markdown",
            "metadata": {},
            "source": "### Action: restart the kernel!"
        },
        {
            "cell_type": "markdown",
            "metadata": {},
            "source": "## Configure credentials"
        },
        {
            "cell_type": "markdown",
            "metadata": {
                "scrolled": true
            },
            "source": "- WOS_CREDENTIALS (CP4D)\n- WML_CREDENTIALS (CP4D)\n- DATABASE_CREDENTIALS (DB2 on CP4D)\n- SCHEMA_NAME"
        },
        {
            "cell_type": "code",
            "execution_count": 1,
            "metadata": {},
            "outputs": [],
            "source": "WOS_CREDENTIALS = {\n    \"url\": \"***\",\n    \"username\": \"***\",\n    \"password\": \"***\"\n}"
        },
        {
            "cell_type": "code",
            "execution_count": 2,
            "metadata": {},
            "outputs": [],
            "source": "# The code was removed by Watson Studio for sharing."
        },
        {
            "cell_type": "code",
            "execution_count": 3,
            "metadata": {},
            "outputs": [],
            "source": "WML_CREDENTIALS = WOS_CREDENTIALS.copy()\nWML_CREDENTIALS['instance_id']='openshift'\nWML_CREDENTIALS['version']='2.5.0'"
        },
        {
            "cell_type": "code",
            "execution_count": 4,
            "metadata": {},
            "outputs": [],
            "source": "DATABASE_CREDENTIALS = {\n    \"jdbcurl\": \"***\",\n    \"hostname\": \"***\",\n    \"username\": \"***\",\n    \"password\": \"***\",\n    \"port\": 50000,\n    \"db\": \"***\",\n    \"dsn\": \"***\",\n    \"uri\": \"***\"\n}"
        },
        {
            "cell_type": "code",
            "execution_count": 5,
            "metadata": {},
            "outputs": [],
            "source": "# The code was removed by Watson Studio for sharing."
        },
        {
            "cell_type": "markdown",
            "metadata": {},
            "source": "### Action: put created schema name below."
        },
        {
            "cell_type": "code",
            "execution_count": 6,
            "metadata": {},
            "outputs": [],
            "source": "SCHEMA_NAME = 'AIOSFASTPATHICP'"
        },
        {
            "cell_type": "markdown",
            "metadata": {},
            "source": "## Run the notebook\n\nAt this point, the notebook is ready to run. You can either run the cells one at a time, or click the **Kernel** option above and select **Restart and Run All** to run all the cells."
        },
        {
            "cell_type": "markdown",
            "metadata": {},
            "source": "# Model building and deployment <a name=\"model\"></a>"
        },
        {
            "cell_type": "markdown",
            "metadata": {},
            "source": "In this section you will learn how to train Spark MLLib model and next deploy it as web-service using Watson Machine Learning service."
        },
        {
            "cell_type": "markdown",
            "metadata": {},
            "source": "## Load the training data from github"
        },
        {
            "cell_type": "code",
            "execution_count": 8,
            "metadata": {
                "scrolled": true
            },
            "outputs": [
                {
                    "name": "stdout",
                    "output_type": "stream",
                    "text": "Warning: Failed to set locale category LC_NUMERIC to en_PL.\nWarning: Failed to set locale category LC_TIME to en_PL.\nWarning: Failed to set locale category LC_COLLATE to en_PL.\nWarning: Failed to set locale category LC_MONETARY to en_PL.\nWarning: Failed to set locale category LC_MESSAGES to en_PL.\n--2019-11-19 09:36:14--  https://raw.githubusercontent.com/pmservice/ai-openscale-tutorials/master/assets/historical_data/german_credit_risk/wml/german_credit_data_biased_training.csv\nResolving raw.githubusercontent.com (raw.githubusercontent.com)... 199.232.36.133\nConnecting to raw.githubusercontent.com (raw.githubusercontent.com)|199.232.36.133|:443... connected.\nHTTP request sent, awaiting response... 200 OK\nLength: 689622 (673K) [text/plain]\nSaving to: \u2018german_credit_data_biased_training.csv\u2019\n\ngerman_credit_data_ 100%[===================>] 673.46K   109KB/s    in 6.2s    \n\n2019-11-19 09:36:21 (109 KB/s) - \u2018german_credit_data_biased_training.csv\u2019 saved [689622/689622]\n\n"
                }
            ],
            "source": "!rm german_credit_data_biased_training.csv\n!wget https://raw.githubusercontent.com/pmservice/ai-openscale-tutorials/master/assets/historical_data/german_credit_risk/wml/german_credit_data_biased_training.csv"
        },
        {
            "cell_type": "code",
            "execution_count": 9,
            "metadata": {},
            "outputs": [
                {
                    "data": {
                        "text/plain": "'german_credit_data_biased_training.csv'"
                    },
                    "execution_count": 9,
                    "metadata": {},
                    "output_type": "execute_result"
                }
            ],
            "source": "import wget\n!rm german_credit_data_biased_training.csv\nwget.download('https://raw.githubusercontent.com/pmservice/ai-openscale-tutorials/master/assets/historical_data/german_credit_risk/wml/german_credit_data_biased_training.csv')"
        },
        {
            "cell_type": "code",
            "execution_count": 10,
            "metadata": {
                "scrolled": true
            },
            "outputs": [
                {
                    "data": {
                        "text/plain": "Row(CheckingStatus='0_to_200', LoanDuration=31, CreditHistory='credits_paid_to_date', LoanPurpose='other', LoanAmount=1889, ExistingSavings='100_to_500', EmploymentDuration='less_1', InstallmentPercent=3, Sex='female', OthersOnLoan='none', CurrentResidenceDuration=3, OwnsProperty='savings_insurance', Age=32, InstallmentPlans='none', Housing='own', ExistingCreditsCount=1, Job='skilled', Dependents=1, Telephone='none', ForeignWorker='yes', Risk='No Risk')"
                    },
                    "execution_count": 10,
                    "metadata": {},
                    "output_type": "execute_result"
                }
            ],
            "source": "from pyspark.sql import SparkSession\nimport pandas as pd\nimport json\n\nspark = SparkSession.builder.getOrCreate()\npd_data = pd.read_csv(\"german_credit_data_biased_training.csv\", sep=\",\", header=0)\ndf_data = spark.read.csv(path=\"german_credit_data_biased_training.csv\", sep=\",\", header=True, inferSchema=True)\ndf_data.head()"
        },
        {
            "cell_type": "markdown",
            "metadata": {},
            "source": "## Explore data"
        },
        {
            "cell_type": "code",
            "execution_count": 11,
            "metadata": {
                "scrolled": true
            },
            "outputs": [
                {
                    "name": "stdout",
                    "output_type": "stream",
                    "text": "root\n |-- CheckingStatus: string (nullable = true)\n |-- LoanDuration: integer (nullable = true)\n |-- CreditHistory: string (nullable = true)\n |-- LoanPurpose: string (nullable = true)\n |-- LoanAmount: integer (nullable = true)\n |-- ExistingSavings: string (nullable = true)\n |-- EmploymentDuration: string (nullable = true)\n |-- InstallmentPercent: integer (nullable = true)\n |-- Sex: string (nullable = true)\n |-- OthersOnLoan: string (nullable = true)\n |-- CurrentResidenceDuration: integer (nullable = true)\n |-- OwnsProperty: string (nullable = true)\n |-- Age: integer (nullable = true)\n |-- InstallmentPlans: string (nullable = true)\n |-- Housing: string (nullable = true)\n |-- ExistingCreditsCount: integer (nullable = true)\n |-- Job: string (nullable = true)\n |-- Dependents: integer (nullable = true)\n |-- Telephone: string (nullable = true)\n |-- ForeignWorker: string (nullable = true)\n |-- Risk: string (nullable = true)\n\n"
                }
            ],
            "source": "df_data.printSchema()"
        },
        {
            "cell_type": "code",
            "execution_count": 12,
            "metadata": {
                "scrolled": true
            },
            "outputs": [
                {
                    "name": "stdout",
                    "output_type": "stream",
                    "text": "Number of records: 5000\n"
                }
            ],
            "source": "print(\"Number of records: \" + str(df_data.count()))"
        },
        {
            "cell_type": "markdown",
            "metadata": {},
            "source": "## Visualize data with pixiedust"
        },
        {
            "cell_type": "code",
            "execution_count": 13,
            "metadata": {},
            "outputs": [
                {
                    "name": "stdout",
                    "output_type": "stream",
                    "text": "Pixiedust database opened successfully\n"
                },
                {
                    "data": {
                        "text/html": "\n        <div style=\"margin:10px\">\n            <a href=\"https://github.com/ibm-watson-data-lab/pixiedust\" target=\"_new\">\n                <img src=\"https://github.com/ibm-watson-data-lab/pixiedust/raw/master/docs/_static/pd_icon32.png\" style=\"float:left;margin-right:10px\"/>\n            </a>\n            <span>Pixiedust version 1.1.17</span>\n        </div>\n        ",
                        "text/plain": "<IPython.core.display.HTML object>"
                    },
                    "metadata": {},
                    "output_type": "display_data"
                }
            ],
            "source": "import pixiedust"
        },
        {
            "cell_type": "code",
            "execution_count": null,
            "metadata": {
                "pixiedust": {
                    "displayParams": {
                        "aggregation": "COUNT",
                        "chartsize": "51",
                        "handlerId": "pieChart",
                        "keyFields": "Risk",
                        "mpld3": "false",
                        "rendererId": "bokeh"
                    },
                    "pixieapp": {
                        "name": "Spark German Risk Model - Final",
                        "runtime": "spark-mllib_2.3",
                        "type": "mllib_2.3"
                    }
                }
            },
            "outputs": [
                {
                    "data": {
                        "text/html": "<style type=\"text/css\">.pd_warning{display:none;}</style><div class=\"pd_warning\"><em>Hey, there's something awesome here! To see it, open this notebook outside GitHub, in a viewer like Jupyter</em></div>\n        <div class=\"pd_save is-viewer-good\" style=\"padding-right:10px;text-align: center;line-height:initial !important;font-size: xx-large;font-weight: 500;color: coral;\">\n            \n        </div>\n    <div id=\"chartFigure8ad2be9d\" class=\"pd_save is-viewer-good\" style=\"overflow-x:auto\">\n            \n                    \n                            <center><img style=\"max-width:initial !important\" src=\"data:image/png;base64,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\" class=\"pd_save\"></center>\n                        \n                    \n                \n        </div>",
                        "text/plain": "<IPython.core.display.HTML object>"
                    },
                    "metadata": {},
                    "output_type": "display_data"
                }
            ],
            "source": "display(df_data)"
        },
        {
            "cell_type": "markdown",
            "metadata": {},
            "source": "## Create a model"
        },
        {
            "cell_type": "code",
            "execution_count": 15,
            "metadata": {
                "scrolled": true
            },
            "outputs": [
                {
                    "name": "stdout",
                    "output_type": "stream",
                    "text": "Number of records for training: 4016\nNumber of records for evaluation: 984\nroot\n |-- CheckingStatus: string (nullable = true)\n |-- LoanDuration: integer (nullable = true)\n |-- CreditHistory: string (nullable = true)\n |-- LoanPurpose: string (nullable = true)\n |-- LoanAmount: integer (nullable = true)\n |-- ExistingSavings: string (nullable = true)\n |-- EmploymentDuration: string (nullable = true)\n |-- InstallmentPercent: integer (nullable = true)\n |-- Sex: string (nullable = true)\n |-- OthersOnLoan: string (nullable = true)\n |-- CurrentResidenceDuration: integer (nullable = true)\n |-- OwnsProperty: string (nullable = true)\n |-- Age: integer (nullable = true)\n |-- InstallmentPlans: string (nullable = true)\n |-- Housing: string (nullable = true)\n |-- ExistingCreditsCount: integer (nullable = true)\n |-- Job: string (nullable = true)\n |-- Dependents: integer (nullable = true)\n |-- Telephone: string (nullable = true)\n |-- ForeignWorker: string (nullable = true)\n |-- Risk: string (nullable = true)\n\n"
                }
            ],
            "source": "spark_df = df_data\n(train_data, test_data) = spark_df.randomSplit([0.8, 0.2], 24)\n\nMODEL_NAME = \"Spark German Risk Model - Final\"\nDEPLOYMENT_NAME = \"Spark German Risk Deployment - Final\"\n\nprint(\"Number of records for training: \" + str(train_data.count()))\nprint(\"Number of records for evaluation: \" + str(test_data.count()))\n\nspark_df.printSchema()"
        },
        {
            "cell_type": "markdown",
            "metadata": {},
            "source": "The code below creates a Random Forest Classifier with Spark, setting up string indexers for the categorical features and the label column. Finally, this notebook creates a pipeline including the indexers and the model, and does an initial Area Under ROC evaluation of the model."
        },
        {
            "cell_type": "code",
            "execution_count": 16,
            "metadata": {
                "scrolled": true
            },
            "outputs": [],
            "source": "from pyspark.ml.feature import OneHotEncoder, StringIndexer, IndexToString, VectorAssembler\nfrom pyspark.ml.evaluation import BinaryClassificationEvaluator\nfrom pyspark.ml import Pipeline, Model\n\nsi_CheckingStatus = StringIndexer(inputCol = 'CheckingStatus', outputCol = 'CheckingStatus_IX')\nsi_CreditHistory = StringIndexer(inputCol = 'CreditHistory', outputCol = 'CreditHistory_IX')\nsi_LoanPurpose = StringIndexer(inputCol = 'LoanPurpose', outputCol = 'LoanPurpose_IX')\nsi_ExistingSavings = StringIndexer(inputCol = 'ExistingSavings', outputCol = 'ExistingSavings_IX')\nsi_EmploymentDuration = StringIndexer(inputCol = 'EmploymentDuration', outputCol = 'EmploymentDuration_IX')\nsi_Sex = StringIndexer(inputCol = 'Sex', outputCol = 'Sex_IX')\nsi_OthersOnLoan = StringIndexer(inputCol = 'OthersOnLoan', outputCol = 'OthersOnLoan_IX')\nsi_OwnsProperty = StringIndexer(inputCol = 'OwnsProperty', outputCol = 'OwnsProperty_IX')\nsi_InstallmentPlans = StringIndexer(inputCol = 'InstallmentPlans', outputCol = 'InstallmentPlans_IX')\nsi_Housing = StringIndexer(inputCol = 'Housing', outputCol = 'Housing_IX')\nsi_Job = StringIndexer(inputCol = 'Job', outputCol = 'Job_IX')\nsi_Telephone = StringIndexer(inputCol = 'Telephone', outputCol = 'Telephone_IX')\nsi_ForeignWorker = StringIndexer(inputCol = 'ForeignWorker', outputCol = 'ForeignWorker_IX')"
        },
        {
            "cell_type": "code",
            "execution_count": 17,
            "metadata": {
                "scrolled": true
            },
            "outputs": [],
            "source": "si_Label = StringIndexer(inputCol=\"Risk\", outputCol=\"label\").fit(spark_df)\nlabel_converter = IndexToString(inputCol=\"prediction\", outputCol=\"predictedLabel\", labels=si_Label.labels)"
        },
        {
            "cell_type": "code",
            "execution_count": 18,
            "metadata": {
                "scrolled": true
            },
            "outputs": [],
            "source": "va_features = VectorAssembler(inputCols=[\"CheckingStatus_IX\", \"CreditHistory_IX\", \"LoanPurpose_IX\", \"ExistingSavings_IX\", \"EmploymentDuration_IX\", \"Sex_IX\", \\\n                                         \"OthersOnLoan_IX\", \"OwnsProperty_IX\", \"InstallmentPlans_IX\", \"Housing_IX\", \"Job_IX\", \"Telephone_IX\", \"ForeignWorker_IX\", \\\n                                         \"LoanDuration\", \"LoanAmount\", \"InstallmentPercent\", \"CurrentResidenceDuration\", \"LoanDuration\", \"Age\", \"ExistingCreditsCount\", \\\n                                         \"Dependents\"], outputCol=\"features\")"
        },
        {
            "cell_type": "code",
            "execution_count": 19,
            "metadata": {
                "scrolled": true
            },
            "outputs": [],
            "source": "from pyspark.ml.classification import RandomForestClassifier\nclassifier = RandomForestClassifier(featuresCol=\"features\")\n\npipeline = Pipeline(stages=[si_CheckingStatus, si_CreditHistory, si_EmploymentDuration, si_ExistingSavings, si_ForeignWorker, si_Housing, si_InstallmentPlans, si_Job, si_LoanPurpose, si_OthersOnLoan,\\\n                               si_OwnsProperty, si_Sex, si_Telephone, si_Label, va_features, classifier, label_converter])\nmodel = pipeline.fit(train_data)"
        },
        {
            "cell_type": "code",
            "execution_count": 20,
            "metadata": {
                "scrolled": true
            },
            "outputs": [
                {
                    "name": "stdout",
                    "output_type": "stream",
                    "text": "areaUnderROC = 0.70439 areaUnderPR = 0.608581\n"
                }
            ],
            "source": "predictions = model.transform(test_data)\nevaluatorDT = BinaryClassificationEvaluator(rawPredictionCol=\"prediction\",  metricName='areaUnderROC')\narea_under_curve = evaluatorDT.evaluate(predictions)\n\nevaluatorDT = BinaryClassificationEvaluator(rawPredictionCol=\"prediction\",  metricName='areaUnderPR')\narea_under_PR = evaluatorDT.evaluate(predictions)\n#default evaluation is areaUnderROC\nprint(\"areaUnderROC = %g\" % area_under_curve, \"areaUnderPR = %g\" % area_under_PR)"
        },
        {
            "cell_type": "code",
            "execution_count": 21,
            "metadata": {},
            "outputs": [
                {
                    "name": "stdout",
                    "output_type": "stream",
                    "text": "              precision    recall  f1-score   support\n\n        Risk       0.79      0.89      0.83       657\n     No Risk       0.70      0.52      0.60       327\n\n    accuracy                           0.77       984\n   macro avg       0.74      0.70      0.72       984\nweighted avg       0.76      0.77      0.76       984\n\n"
                }
            ],
            "source": "# extra code: evaluate more metrics by exporting them into pandas and numpy\nfrom sklearn.metrics import classification_report\ny_pred = predictions.toPandas()['prediction']\ny_pred = ['Risk' if pred == 1.0 else 'No Risk' for pred in y_pred]\ny_test = test_data.toPandas()['Risk']\nprint(classification_report(y_test, y_pred, target_names=['Risk', 'No Risk']))"
        },
        {
            "cell_type": "markdown",
            "metadata": {},
            "source": "## Publish the model"
        },
        {
            "cell_type": "markdown",
            "metadata": {},
            "source": "In this section, the notebook uses Watson Machine Learning to save the model (including the pipeline) to the WML instance. Previous versions of the model are removed so that the notebook can be run again, resetting all data for another demo."
        },
        {
            "cell_type": "code",
            "execution_count": 22,
            "metadata": {},
            "outputs": [
                {
                    "name": "stderr",
                    "output_type": "stream",
                    "text": "/Users/dorotadydo-rozniecka/anaconda3/lib/python3.7/site-packages/sklearn/externals/joblib/__init__.py:15: DeprecationWarning: sklearn.externals.joblib is deprecated in 0.21 and will be removed in 0.23. Please import this functionality directly from joblib, which can be installed with: pip install joblib. If this warning is raised when loading pickled models, you may need to re-serialize those models with scikit-learn 0.21+.\n  warnings.warn(msg, category=DeprecationWarning)\n"
                },
                {
                    "name": "stdout",
                    "output_type": "stream",
                    "text": "------------------------------------  -------------------  ------------------------\nGUID                                  NAME                 CREATED\n3d086aad-45c3-413c-bcb4-b36219c5e2bc  tutorial-space       2019-11-15T12:33:43.998Z\n82e9dbef-772b-4052-931d-00c79d6aa841  auto-test-space      2019-11-15T11:58:44.478Z\n1898f6e7-f40d-478f-911b-3f8acf8348b3  openscale-fast-path  2019-11-14T17:33:18.802Z\n------------------------------------  -------------------  ------------------------\n"
                }
            ],
            "source": "from watson_machine_learning_client import WatsonMachineLearningAPIClient\nimport json\n\nwml_client = WatsonMachineLearningAPIClient(WML_CREDENTIALS)\n\n# this is a new feature in CP4D, in order to deploy a model, you would have to create different\n# deployment spaces and deploy your models there. You can list all the spaces using the .list()\n# function, or you can create new spaces by going to CP4D menu on top left corner --> analyze -->\n# analytics deployments --> New Deployment Space. Once you know which space you want to deploy\n# in, simply use the GUID of the space as argument for .set.default_space() function below\nwml_client.spaces.list()\n# wml_client.set.default_space('323608a7-21d3-48c8-8c62-dcf4bfe06e17')"
        },
        {
            "cell_type": "code",
            "execution_count": 23,
            "metadata": {},
            "outputs": [
                {
                    "data": {
                        "text/plain": "'SUCCESS'"
                    },
                    "execution_count": 23,
                    "metadata": {},
                    "output_type": "execute_result"
                }
            ],
            "source": "space_name = \"tutorial-space\"\nspaces = wml_client.spaces.get_details()['resources']\nspace_id = None\nfor space in spaces:\n    if space['entity']['name'] == space_name:\n        space_id = space[\"metadata\"][\"guid\"]\nif space_id is None:\n    space_id = wml_client.spaces.store(\n        meta_props={wml_client.spaces.ConfigurationMetaNames.NAME: space_name})[\"metadata\"][\"guid\"]\nwml_client.set.default_space(space_id)"
        },
        {
            "cell_type": "markdown",
            "metadata": {},
            "source": "### Remove existing model and deployment"
        },
        {
            "cell_type": "code",
            "execution_count": 24,
            "metadata": {
                "scrolled": true
            },
            "outputs": [
                {
                    "name": "stdout",
                    "output_type": "stream",
                    "text": "----  ----  -------  ----\nGUID  NAME  CREATED  TYPE\n----  ----  -------  ----\n"
                }
            ],
            "source": "deployment_details = wml_client.deployments.get_details()\nfor deployment in deployment_details['resources']:\n    deployment_id = deployment['metadata']['guid']\n    model_id = deployment['entity']['asset']['href'].split('/')[3].split('?')[0]\n    if deployment['entity']['name'] == DEPLOYMENT_NAME:\n        print('Deleting deployment id', deployment_id)\n        wml_client.deployments.delete(deployment_id)\n        print('Deleting model id', model_id)\n        wml_client.repository.delete(model_id)\nwml_client.repository.list_models()"
        },
        {
            "cell_type": "code",
            "execution_count": 25,
            "metadata": {},
            "outputs": [],
            "source": "training_data_reference = training_data_reference = {\n    \"type\":\"***\",\n            \"name\": \"***\",\n            \"connection\": DATABASE_CREDENTIALS,\n            \"location\": {\n                \"tablename\": \"***\",\n                \"type\": \"***\"\n            }\n        }"
        },
        {
            "cell_type": "code",
            "execution_count": 26,
            "metadata": {},
            "outputs": [],
            "source": "# The code was removed by Watson Studio for sharing."
        },
        {
            "cell_type": "code",
            "execution_count": 27,
            "metadata": {
                "scrolled": true
            },
            "outputs": [
                {
                    "name": "stdout",
                    "output_type": "stream",
                    "text": "Storing model ...\nDone\n"
                }
            ],
            "source": "wml_models = wml_client.repository.get_model_details()\nmodel_uid = None\n\nfor model_in in wml_models['resources']:\n    if MODEL_NAME == model_in['entity']['name']:\n        model_uid = model_in['metadata']['guid']\n        break\n\nif model_uid is None:\n    print(\"Storing model ...\")\n    metadata = {\n        wml_client.repository.ModelMetaNames.NAME: MODEL_NAME,\n        wml_client.repository.ModelMetaNames.TYPE: 'mllib_2.3',\n        wml_client.repository.ModelMetaNames.RUNTIME_UID: 'spark-mllib_2.3',\n    }\n\n    published_model_details = wml_client.repository.store_model(model, metadata, training_data=df_data,  pipeline=pipeline)\n    model_uid = wml_client.repository.get_model_uid(published_model_details)\n    print(\"Done\")"
        },
        {
            "cell_type": "code",
            "execution_count": 28,
            "metadata": {
                "scrolled": true
            },
            "outputs": [
                {
                    "data": {
                        "text/plain": "'81be95c8-fa11-42ae-b0c1-7fda70305570'"
                    },
                    "execution_count": 28,
                    "metadata": {},
                    "output_type": "execute_result"
                }
            ],
            "source": "model_uid"
        },
        {
            "cell_type": "markdown",
            "metadata": {},
            "source": "## Deploy the model"
        },
        {
            "cell_type": "markdown",
            "metadata": {},
            "source": "The next section of the notebook deploys the model as a RESTful web service in Watson Machine Learning. The deployed model will have a scoring URL you can use to send data to the model for predictions."
        },
        {
            "cell_type": "code",
            "execution_count": 29,
            "metadata": {
                "scrolled": true
            },
            "outputs": [
                {
                    "name": "stdout",
                    "output_type": "stream",
                    "text": "Deploying model...\n\n\n#######################################################################################\n\nSynchronous deployment creation for uid: '81be95c8-fa11-42ae-b0c1-7fda70305570' started\n\n#######################################################################################\n\n\ninitializing\nready\n\n\n------------------------------------------------------------------------------------------------\nSuccessfully finished deployment creation, deployment_uid='af7cf757-ed3f-47b8-963a-c241fd129690'\n------------------------------------------------------------------------------------------------\n\n\nModel id: 81be95c8-fa11-42ae-b0c1-7fda70305570\nDeployment id: af7cf757-ed3f-47b8-963a-c241fd129690\n"
                }
            ],
            "source": "wml_deployments = wml_client.deployments.get_details()\ndeployment_uid = None\nfor deployment in wml_deployments['resources']:\n    if DEPLOYMENT_NAME == deployment['entity']['name']:\n        deployment_uid = deployment['metadata']['guid']\n        break\n\nif deployment_uid is None:\n    print(\"Deploying model...\")\n    meta_props = {\n        wml_client.deployments.ConfigurationMetaNames.NAME: DEPLOYMENT_NAME,\n        wml_client.deployments.ConfigurationMetaNames.ONLINE: {}\n    }\n    deployment = wml_client.deployments.create(artifact_uid=model_uid, meta_props=meta_props)\n    deployment_uid = wml_client.deployments.get_uid(deployment)\n    \nprint(\"Model id: {}\".format(model_uid))\nprint(\"Deployment id: {}\".format(deployment_uid))"
        },
        {
            "cell_type": "markdown",
            "metadata": {},
            "source": "# Configure OpenScale <a name=\"openscale\"></a>"
        },
        {
            "cell_type": "markdown",
            "metadata": {},
            "source": "The notebook will now import the necessary libraries and set up a Python OpenScale client."
        },
        {
            "cell_type": "code",
            "execution_count": 30,
            "metadata": {
                "scrolled": true
            },
            "outputs": [],
            "source": "from ibm_ai_openscale import APIClient4ICP\nfrom ibm_ai_openscale.engines import *\nfrom ibm_ai_openscale.utils import *\nfrom ibm_ai_openscale.supporting_classes import PayloadRecord, Feature\nfrom ibm_ai_openscale.supporting_classes.enums import *"
        },
        {
            "cell_type": "code",
            "execution_count": 31,
            "metadata": {},
            "outputs": [
                {
                    "data": {
                        "text/plain": "'2.1.17.38'"
                    },
                    "execution_count": 31,
                    "metadata": {},
                    "output_type": "execute_result"
                }
            ],
            "source": "ai_client = APIClient4ICP(WOS_CREDENTIALS)\nai_client.version"
        },
        {
            "cell_type": "markdown",
            "metadata": {},
            "source": "## Create datamart"
        },
        {
            "cell_type": "markdown",
            "metadata": {},
            "source": "### Set up datamart"
        },
        {
            "cell_type": "markdown",
            "metadata": {},
            "source": "Watson OpenScale uses a database to store payload logs and calculated metrics. If an OpenScale datamart exists in Db2, the existing datamart will be used and no data will be overwritten.\n\nPrior instances of the German Credit model will be removed from OpenScale monitoring."
        },
        {
            "cell_type": "code",
            "execution_count": 32,
            "metadata": {},
            "outputs": [
                {
                    "name": "stdout",
                    "output_type": "stream",
                    "text": "Using existing external datamart\n"
                }
            ],
            "source": "try:\n    data_mart_details = ai_client.data_mart.get_details()\n    print('Using existing external datamart')\nexcept:\n    print('Setting up external datamart')\n    ai_client.data_mart.setup(db_credentials=DATABASE_CREDENTIALS, schema=SCHEMA_NAME)"
        },
        {
            "cell_type": "code",
            "execution_count": 33,
            "metadata": {
                "scrolled": true
            },
            "outputs": [],
            "source": "data_mart_details = ai_client.data_mart.get_details()"
        },
        {
            "cell_type": "markdown",
            "metadata": {},
            "source": "## Bind machine learning engines"
        },
        {
            "cell_type": "markdown",
            "metadata": {},
            "source": "Watson OpenScale needs to be bound to the Watson Machine Learning instance to capture payload data into and out of the model. If this binding already exists, this code will output a warning message and use the existing binding."
        },
        {
            "cell_type": "code",
            "execution_count": 34,
            "metadata": {},
            "outputs": [
                {
                    "data": {
                        "text/html": "<HTML>\n        <body>\n            <h3>Service bindings</h3>\n            <table style='border: 1px solid #dddddd; font-family: Courier'>\n                <th style='border: 1px solid #dddddd'>uid</th><th style='border: 1px solid #dddddd'>name</th><th style='border: 1px solid #dddddd'>service_type</th><th style='border: 1px solid #dddddd'>created</th>\n                <tr><td style='border: 1px solid #dddddd'>999</td><td style='border: 1px solid #dddddd'>WML instance</td><td style='border: 1px solid #dddddd'>watson_machine_learning</td><td style='border: 1px solid #dddddd'>2019-11-19T08:40:41.848Z</td></tr><tr><td style='border: 1px solid #dddddd'>48bb1351-6ca9-42e5-84c1-e6ca7f268e03</td><td style='border: 1px solid #dddddd'>SageMaker ml engine</td><td style='border: 1px solid #dddddd'>amazon_sagemaker</td><td style='border: 1px solid #dddddd'>2019-11-19T08:36:00.653Z</td></tr><tr><td style='border: 1px solid #dddddd'>ab9ad1fb-5dfe-4421-a940-a9fcccb2edb1</td><td style='border: 1px solid #dddddd'>SageMaker ml engine US 2</td><td style='border: 1px solid #dddddd'>amazon_sagemaker</td><td style='border: 1px solid #dddddd'>2019-11-19T07:47:20.680Z</td></tr>\n            </table>\n        </body>\n        </HTML>",
                        "text/plain": "<IPython.core.display.HTML object>"
                    },
                    "metadata": {},
                    "output_type": "display_data"
                }
            ],
            "source": "binding_uid = ai_client.data_mart.bindings.add('WML instance', WatsonMachineLearningInstance4ICP())\nif binding_uid is None:\n    binding_uid = ai_client.data_mart.bindings.get_details()['service_bindings'][0]['metadata']['guid']\nbindings_details = ai_client.data_mart.bindings.get_details()\nai_client.data_mart.bindings.list()"
        },
        {
            "cell_type": "code",
            "execution_count": 35,
            "metadata": {
                "scrolled": true
            },
            "outputs": [
                {
                    "name": "stdout",
                    "output_type": "stream",
                    "text": "999\n"
                }
            ],
            "source": "print(binding_uid)"
        },
        {
            "cell_type": "code",
            "execution_count": 38,
            "metadata": {},
            "outputs": [
                {
                    "data": {
                        "text/html": "<HTML>\n        <body>\n            <h3>Available assets (binding_uid='999')</h3>\n            <table style='border: 1px solid #dddddd; font-family: Courier'>\n                <th style='border: 1px solid #dddddd'>source_uid</th><th style='border: 1px solid #dddddd'>name</th><th style='border: 1px solid #dddddd'>created</th><th style='border: 1px solid #dddddd'>type</th><th style='border: 1px solid #dddddd'>frameworks</th><th style='border: 1px solid #dddddd'>binding_uid</th><th style='border: 1px solid #dddddd'>is_subscribed</th>\n                <tr><td style='border: 1px solid #dddddd'>81be95c8-fa11-42ae-b0c1-7fda70305570</td><td style='border: 1px solid #dddddd'>Spark German Risk Model - Final</td><td style='border: 1px solid #dddddd'>2019-11-19T08:38:31.002Z</td><td style='border: 1px solid #dddddd'>model</td><td style='border: 1px solid #dddddd'>mllib_2.3</td><td style='border: 1px solid #dddddd'>999</td><td style='border: 1px solid #dddddd'>False</td></tr><tr><td style='border: 1px solid #dddddd'>f7a18eea-b0ba-4dd3-86d3-a1d5cb23e234</td><td style='border: 1px solid #dddddd'>AIOS Xgboost Solar Model</td><td style='border: 1px solid #dddddd'>2019-11-15T16:33:53.002Z</td><td style='border: 1px solid #dddddd'>model</td><td style='border: 1px solid #dddddd'>xgboost_0.82</td><td style='border: 1px solid #dddddd'>999</td><td style='border: 1px solid #dddddd'>False</td></tr><tr><td style='border: 1px solid #dddddd'>8d8c0a00-beee-44e4-ae53-4a83ff47b34c</td><td style='border: 1px solid #dddddd'>AIOS Xgboost Boston House Model</td><td style='border: 1px solid #dddddd'>2019-11-15T16:31:30.002Z</td><td style='border: 1px solid #dddddd'>model</td><td style='border: 1px solid #dddddd'>xgboost_0.82</td><td style='border: 1px solid #dddddd'>999</td><td style='border: 1px solid #dddddd'>False</td></tr><tr><td style='border: 1px solid #dddddd'>4568b67a-917b-437e-9f3d-40c17070e37e</td><td style='border: 1px solid #dddddd'>AIOS Xgboost Iris Model v4</td><td style='border: 1px solid #dddddd'>2019-11-15T16:29:16.002Z</td><td style='border: 1px solid #dddddd'>model</td><td style='border: 1px solid #dddddd'>xgboost_0.82</td><td style='border: 1px solid #dddddd'>999</td><td style='border: 1px solid #dddddd'>False</td></tr><tr><td style='border: 1px solid #dddddd'>e63a9712-f59f-4ca5-8373-5bd153a47ebd</td><td style='border: 1px solid #dddddd'>AIOS Xgboost Agaricus xv2 Model</td><td style='border: 1px solid #dddddd'>2019-11-15T16:26:56.002Z</td><td style='border: 1px solid #dddddd'>model</td><td style='border: 1px solid #dddddd'>xgboost_0.82</td><td style='border: 1px solid #dddddd'>999</td><td style='border: 1px solid #dddddd'>False</td></tr><tr><td style='border: 1px solid #dddddd'>42a20993-fcfa-4578-87a6-8eb4768d5e0f</td><td style='border: 1px solid #dddddd'>AIOS TF Structured Deployment</td><td style='border: 1px solid #dddddd'>2019-11-15T16:22:05.002Z</td><td style='border: 1px solid #dddddd'>model</td><td style='border: 1px solid #dddddd'>tensorflow_1.13</td><td style='border: 1px solid #dddddd'>999</td><td style='border: 1px solid #dddddd'>False</td></tr><tr><td style='border: 1px solid #dddddd'>7efe1e68-679e-4758-b5de-0e1eae910714</td><td style='border: 1px solid #dddddd'>AIOS SPSS Customer Model</td><td style='border: 1px solid #dddddd'>2019-11-15T16:18:19.002Z</td><td style='border: 1px solid #dddddd'>model</td><td style='border: 1px solid #dddddd'>spss-modeler_18.1</td><td style='border: 1px solid #dddddd'>999</td><td style='border: 1px solid #dddddd'>False</td></tr><tr><td style='border: 1px solid #dddddd'>964b3035-6794-4712-a885-7eadba794be3</td><td style='border: 1px solid #dddddd'>AIOS Scikit Regression Diabetes</td><td style='border: 1px solid #dddddd'>2019-11-15T16:16:13.002Z</td><td style='border: 1px solid #dddddd'>model</td><td style='border: 1px solid #dddddd'>scikit-learn_0.20</td><td style='border: 1px solid #dddddd'>999</td><td style='border: 1px solid #dddddd'>False</td></tr><tr><td style='border: 1px solid #dddddd'>f371423e-b85f-4571-bb88-8fc356e5fcec</td><td style='border: 1px solid #dddddd'>AIOS Scikit Golf</td><td style='border: 1px solid #dddddd'>2019-11-15T16:13:58.002Z</td><td style='border: 1px solid #dddddd'>model</td><td style='border: 1px solid #dddddd'>scikit-learn_0.20</td><td style='border: 1px solid #dddddd'>999</td><td style='border: 1px solid #dddddd'>False</td></tr><tr><td style='border: 1px solid #dddddd'>d196c14f-8815-4556-ab4d-271b92127da0</td><td style='border: 1px solid #dddddd'>AIOS Scikit Digits</td><td style='border: 1px solid #dddddd'>2019-11-15T16:08:10.002Z</td><td style='border: 1px solid #dddddd'>model</td><td style='border: 1px solid #dddddd'>scikit-learn_0.20</td><td style='border: 1px solid #dddddd'>999</td><td style='border: 1px solid #dddddd'>False</td></tr><tr><td style='border: 1px solid #dddddd'>09abebda-3e56-4b3c-b5bf-5bb46db08134</td><td style='border: 1px solid #dddddd'>AIOS Multiply Function Deployment V4</td><td style='border: 1px solid #dddddd'>2019-11-15T16:05:42.002Z</td><td style='border: 1px solid #dddddd'>function</td><td style='border: 1px solid #dddddd'>python</td><td style='border: 1px solid #dddddd'>999</td><td style='border: 1px solid #dddddd'>False</td></tr><tr><td style='border: 1px solid #dddddd'>698c0e5b-7abc-44e2-85bc-1f87f6a9210a</td><td style='border: 1px solid #dddddd'>AIOS Spark Regression Customer Satisfaction model</td><td style='border: 1px solid #dddddd'>2019-11-15T15:59:27.002Z</td><td style='border: 1px solid #dddddd'>model</td><td style='border: 1px solid #dddddd'>mllib_2.3</td><td style='border: 1px solid #dddddd'>999</td><td style='border: 1px solid #dddddd'>False</td></tr><tr><td style='border: 1px solid #dddddd'>0914dd37-245b-4b1a-b65d-94c44a6dd427</td><td style='border: 1px solid #dddddd'>AIOS Spark Drugs feedback model</td><td style='border: 1px solid #dddddd'>2019-11-15T15:56:22.002Z</td><td style='border: 1px solid #dddddd'>model</td><td style='border: 1px solid #dddddd'>mllib_2.3</td><td style='border: 1px solid #dddddd'>999</td><td style='border: 1px solid #dddddd'>False</td></tr><tr><td style='border: 1px solid #dddddd'>55afbb45-6c3c-4480-88fb-d882826affe2</td><td style='border: 1px solid #dddddd'>AIOS Keras Regression Poland House Prices V4</td><td style='border: 1px solid #dddddd'>2019-11-15T15:35:13.002Z</td><td style='border: 1px solid #dddddd'>model</td><td style='border: 1px solid #dddddd'>keras_2.2.4-tf</td><td style='border: 1px solid #dddddd'>999</td><td style='border: 1px solid #dddddd'>False</td></tr><tr><td style='border: 1px solid #dddddd'>22484c92-9261-41a0-8760-b1ddbf898bb9</td><td style='border: 1px solid #dddddd'>AIOS Keras Multiclass StackOverflow V4</td><td style='border: 1px solid #dddddd'>2019-11-15T15:33:22.002Z</td><td style='border: 1px solid #dddddd'>model</td><td style='border: 1px solid #dddddd'>keras_2.2.4-tf</td><td style='border: 1px solid #dddddd'>999</td><td style='border: 1px solid #dddddd'>False</td></tr><tr><td style='border: 1px solid #dddddd'>b4d2ad34-134c-422b-b661-8e294b97bff6</td><td style='border: 1px solid #dddddd'>AIOS Keras Multiclass Mnist V4</td><td style='border: 1px solid #dddddd'>2019-11-15T15:31:43.002Z</td><td style='border: 1px solid #dddddd'>model</td><td style='border: 1px solid #dddddd'>keras_2.2.4-tf</td><td style='border: 1px solid #dddddd'>999</td><td style='border: 1px solid #dddddd'>False</td></tr><tr><td style='border: 1px solid #dddddd'>92f10d3b-6429-4392-8c83-a1b4b20ceefd</td><td style='border: 1px solid #dddddd'>AIOS Keras Iris model V4xxx</td><td style='border: 1px solid #dddddd'>2019-11-15T15:29:58.002Z</td><td style='border: 1px solid #dddddd'>model</td><td style='border: 1px solid #dddddd'>keras_2.2.4-tf</td><td style='border: 1px solid #dddddd'>999</td><td style='border: 1px solid #dddddd'>False</td></tr><tr><td style='border: 1px solid #dddddd'>412c2a59-a617-4f93-af10-b487c8bb75a5</td><td style='border: 1px solid #dddddd'>AIOS Keras LSTM V4</td><td style='border: 1px solid #dddddd'>2019-11-15T15:27:53.002Z</td><td style='border: 1px solid #dddddd'>model</td><td style='border: 1px solid #dddddd'>keras_2.2.4-tf</td><td style='border: 1px solid #dddddd'>999</td><td style='border: 1px solid #dddddd'>False</td></tr><tr><td style='border: 1px solid #dddddd'>ac362dd3-cad7-44fb-953e-aff972064828</td><td style='border: 1px solid #dddddd'>AIOS Keras Binary Spam model V4</td><td style='border: 1px solid #dddddd'>2019-11-15T15:26:13.002Z</td><td style='border: 1px solid #dddddd'>model</td><td style='border: 1px solid #dddddd'>keras_2.2.4-tf</td><td style='border: 1px solid #dddddd'>999</td><td style='border: 1px solid #dddddd'>False</td></tr><tr><td style='border: 1px solid #dddddd'>8eb0ff2d-6e06-4724-9e8e-2020c6467df4</td><td style='border: 1px solid #dddddd'>AIOS Keras Binary Dogs vs Cats model V4</td><td style='border: 1px solid #dddddd'>2019-11-15T15:19:38.002Z</td><td style='border: 1px solid #dddddd'>model</td><td style='border: 1px solid #dddddd'>keras_2.2.4-tf</td><td style='border: 1px solid #dddddd'>999</td><td style='border: 1px solid #dddddd'>False</td></tr><tr><td style='border: 1px solid #dddddd'>1c919bac-5c9a-45c1-850c-f10becb4370c</td><td style='border: 1px solid #dddddd'>AutoAI video game model WMLv4</td><td style='border: 1px solid #dddddd'>2019-11-15T15:11:31.002Z</td><td style='border: 1px solid #dddddd'>model</td><td style='border: 1px solid #dddddd'>wml-hybrid_0.1</td><td style='border: 1px solid #dddddd'>999</td><td style='border: 1px solid #dddddd'>False</td></tr><tr><td style='border: 1px solid #dddddd'>1592ab16-3695-4cc7-8a55-eaaebb46120e</td><td style='border: 1px solid #dddddd'>AutoAI Car Price model WMLv4</td><td style='border: 1px solid #dddddd'>2019-11-15T15:05:50.002Z</td><td style='border: 1px solid #dddddd'>model</td><td style='border: 1px solid #dddddd'>wml-hybrid_0.1</td><td style='border: 1px solid #dddddd'>999</td><td style='border: 1px solid #dddddd'>False</td></tr><tr><td style='border: 1px solid #dddddd'>0f2aaaf1-03b1-47ab-9716-cd48ebd3ec55</td><td style='border: 1px solid #dddddd'>AutoAI wine prediction model WMLv4fff</td><td style='border: 1px solid #dddddd'>2019-11-15T15:00:56.002Z</td><td style='border: 1px solid #dddddd'>model</td><td style='border: 1px solid #dddddd'>wml-hybrid_0.1</td><td style='border: 1px solid #dddddd'>999</td><td style='border: 1px solid #dddddd'>False</td></tr><tr><td style='border: 1px solid #dddddd'>1d8d5d92-79bc-42ba-9188-ce511ed7a325</td><td style='border: 1px solid #dddddd'>Spark German Risk Model - Final</td><td style='border: 1px solid #dddddd'>2019-11-15T14:59:10.002Z</td><td style='border: 1px solid #dddddd'>model</td><td style='border: 1px solid #dddddd'>mllib_2.3</td><td style='border: 1px solid #dddddd'>999</td><td style='border: 1px solid #dddddd'>False</td></tr><tr><td style='border: 1px solid #dddddd'>70f97ff9-2563-4cc4-9ef3-627366c0ece0</td><td style='border: 1px solid #dddddd'>AutoAI Iris model WMLv4</td><td style='border: 1px solid #dddddd'>2019-11-15T14:55:53.002Z</td><td style='border: 1px solid #dddddd'>model</td><td style='border: 1px solid #dddddd'>wml-hybrid_0.1</td><td style='border: 1px solid #dddddd'>999</td><td style='border: 1px solid #dddddd'>False</td></tr><tr><td style='border: 1px solid #dddddd'>7a8a4fed-e3d9-479b-9bec-5857845a38f6</td><td style='border: 1px solid #dddddd'>AutoAI Customer Churn model WMLv4</td><td style='border: 1px solid #dddddd'>2019-11-15T14:51:38.002Z</td><td style='border: 1px solid #dddddd'>model</td><td style='border: 1px solid #dddddd'>wml-hybrid_0.1</td><td style='border: 1px solid #dddddd'>999</td><td style='border: 1px solid #dddddd'>False</td></tr><tr><td style='border: 1px solid #dddddd'>7f240368-7d6c-4bf9-8749-8f562e01f6b3</td><td style='border: 1px solid #dddddd'>AutoAI credit risk model WMLv4</td><td style='border: 1px solid #dddddd'>2019-11-15T14:46:37.002Z</td><td style='border: 1px solid #dddddd'>model</td><td style='border: 1px solid #dddddd'>wml-hybrid_0.1</td><td style='border: 1px solid #dddddd'>999</td><td style='border: 1px solid #dddddd'>False</td></tr><tr><td style='border: 1px solid #dddddd'>77d724bc-286d-4905-95dc-898c8ab595f1</td><td style='border: 1px solid #dddddd'>AutoAI bank marketing model WMLv4</td><td style='border: 1px solid #dddddd'>2019-11-15T14:41:08.002Z</td><td style='border: 1px solid #dddddd'>model</td><td style='border: 1px solid #dddddd'>wml-hybrid_0.1</td><td style='border: 1px solid #dddddd'>999</td><td style='border: 1px solid #dddddd'>False</td></tr><tr><td style='border: 1px solid #dddddd'>8ee33f06-ce1d-4d0a-bf3c-0cab1efc4daf</td><td style='border: 1px solid #dddddd'>AIOS Spark Credit Risk model xFg</td><td style='border: 1px solid #dddddd'>2019-11-15T12:03:10.002Z</td><td style='border: 1px solid #dddddd'>model</td><td style='border: 1px solid #dddddd'>mllib_2.3</td><td style='border: 1px solid #dddddd'>999</td><td style='border: 1px solid #dddddd'>False</td></tr><tr><td style='border: 1px solid #dddddd'>b0567573-bba4-467a-99f9-07d9e1cf1d98</td><td style='border: 1px solid #dddddd'>AIOS Spark Credit Risk model xFg</td><td style='border: 1px solid #dddddd'>2019-11-15T11:53:01.002Z</td><td style='border: 1px solid #dddddd'>model</td><td style='border: 1px solid #dddddd'>mllib_2.3</td><td style='border: 1px solid #dddddd'>999</td><td style='border: 1px solid #dddddd'>False</td></tr><tr><td style='border: 1px solid #dddddd'>60057c54-d652-431d-b442-1f4f46cfb3b1</td><td style='border: 1px solid #dddddd'>AutoAI bank marketing model WMLv4</td><td style='border: 1px solid #dddddd'>2019-11-15T11:44:24.002Z</td><td style='border: 1px solid #dddddd'>model</td><td style='border: 1px solid #dddddd'>wml-hybrid_0.1</td><td style='border: 1px solid #dddddd'>999</td><td style='border: 1px solid #dddddd'>False</td></tr><tr><td style='border: 1px solid #dddddd'>c93e994d-7a1b-479b-ac74-6296dbb9991e</td><td style='border: 1px solid #dddddd'>GermanCreditRiskModelICP</td><td style='border: 1px solid #dddddd'>2019-11-14T17:33:47.002Z</td><td style='border: 1px solid #dddddd'>model</td><td style='border: 1px solid #dddddd'>mllib_2.3</td><td style='border: 1px solid #dddddd'>999</td><td style='border: 1px solid #dddddd'>False</td></tr>\n            </table>\n        </body>\n        </HTML>",
                        "text/plain": "<IPython.core.display.HTML object>"
                    },
                    "metadata": {},
                    "output_type": "display_data"
                }
            ],
            "source": "ai_client.data_mart.bindings.list_assets(binding_uid=binding_uid)"
        },
        {
            "cell_type": "markdown",
            "metadata": {},
            "source": "## Subscriptions"
        },
        {
            "cell_type": "markdown",
            "metadata": {},
            "source": "### Remove existing credit risk subscriptions"
        },
        {
            "cell_type": "markdown",
            "metadata": {},
            "source": "This code removes previous subscriptions to the German Credit model to refresh the monitors with the new model and new data."
        },
        {
            "cell_type": "code",
            "execution_count": 39,
            "metadata": {
                "scrolled": true
            },
            "outputs": [],
            "source": "subscriptions_uids = ai_client.data_mart.subscriptions.get_uids()\nfor subscription in subscriptions_uids:\n    sub_name = ai_client.data_mart.subscriptions.get_details(subscription)['entity']['asset']['name']\n    if sub_name == MODEL_NAME:\n        ai_client.data_mart.subscriptions.delete(subscription)\n        print('Deleted existing subscription for', MODEL_NAME)"
        },
        {
            "cell_type": "markdown",
            "metadata": {},
            "source": "This code creates the model subscription in OpenScale using the Python client API. Note that we need to provide the model unique identifier, and some information about the model itself."
        },
        {
            "cell_type": "code",
            "execution_count": 40,
            "metadata": {
                "scrolled": true
            },
            "outputs": [],
            "source": "subscription = ai_client.data_mart.subscriptions.add(WatsonMachineLearningAsset(\n    model_uid,\n    problem_type=ProblemType.BINARY_CLASSIFICATION,\n    input_data_type=InputDataType.STRUCTURED,\n    label_column='Risk',\n    prediction_column='predictedLabel',\n    probability_column='probability',\n    feature_columns = [\"CheckingStatus\",\"LoanDuration\",\"CreditHistory\",\"LoanPurpose\",\"LoanAmount\",\"ExistingSavings\",\"EmploymentDuration\",\"InstallmentPercent\",\"Sex\",\"OthersOnLoan\",\"CurrentResidenceDuration\",\"OwnsProperty\",\"Age\",\"InstallmentPlans\",\"Housing\",\"ExistingCreditsCount\",\"Job\",\"Dependents\",\"Telephone\",\"ForeignWorker\"],\n    categorical_columns = [\"CheckingStatus\",\"CreditHistory\",\"LoanPurpose\",\"ExistingSavings\",\"EmploymentDuration\",\"Sex\",\"OthersOnLoan\",\"OwnsProperty\",\"InstallmentPlans\",\"Housing\",\"Job\",\"Telephone\",\"ForeignWorker\"],\n    training_data_reference=training_data_reference\n))\n\nif subscription is None:\n    print('Subscription already exists; get the existing one')\n    subscriptions_uids = ai_client.data_mart.subscriptions.get_uids()\n    for sub in subscriptions_uids:\n        if ai_client.data_mart.subscriptions.get_details(sub)['entity']['asset']['name'] == MODEL_NAME:\n            subscription = ai_client.data_mart.subscriptions.get(sub)"
        },
        {
            "cell_type": "markdown",
            "metadata": {},
            "source": "Get subscription list"
        },
        {
            "cell_type": "code",
            "execution_count": 41,
            "metadata": {
                "scrolled": true
            },
            "outputs": [
                {
                    "data": {
                        "text/html": "<HTML>\n        <body>\n            <h3>Subscriptions</h3>\n            <table style='border: 1px solid #dddddd; font-family: Courier'>\n                <th style='border: 1px solid #dddddd'>uid</th><th style='border: 1px solid #dddddd'>name</th><th style='border: 1px solid #dddddd'>type</th><th style='border: 1px solid #dddddd'>binding_uid</th><th style='border: 1px solid #dddddd'>created</th>\n                <tr><td style='border: 1px solid #dddddd'>ecda63e5-7e98-414d-a289-a95031014129</td><td style='border: 1px solid #dddddd'>Spark German Risk Model - Final</td><td style='border: 1px solid #dddddd'>model</td><td style='border: 1px solid #dddddd'>999</td><td style='border: 1px solid #dddddd'>2019-11-19T08:43:55.574Z</td></tr><tr><td style='border: 1px solid #dddddd'>c00ea454-9602-4103-bba8-4c06d24d8b0b</td><td style='border: 1px solid #dddddd'>linear-learner-2019-05-30-05-44-02-519</td><td style='border: 1px solid #dddddd'>model</td><td style='border: 1px solid #dddddd'>48bb1351-6ca9-42e5-84c1-e6ca7f268e03</td><td style='border: 1px solid #dddddd'>2019-11-19T08:43:00.529Z</td></tr>\n            </table>\n        </body>\n        </HTML>",
                        "text/plain": "<IPython.core.display.HTML object>"
                    },
                    "metadata": {},
                    "output_type": "display_data"
                }
            ],
            "source": "subscriptions_uids = ai_client.data_mart.subscriptions.get_uids()\nai_client.data_mart.subscriptions.list()"
        },
        {
            "cell_type": "code",
            "execution_count": 46,
            "metadata": {
                "scrolled": false
            },
            "outputs": [],
            "source": "subscription_details = subscription.get_details()"
        },
        {
            "cell_type": "markdown",
            "metadata": {},
            "source": "### Score the model so we can configure monitors"
        },
        {
            "cell_type": "markdown",
            "metadata": {},
            "source": "Now that the WML service has been bound and the subscription has been created, we need to send a request to the model before we configure OpenScale. This allows OpenScale to create a payload log in the datamart with the correct schema, so it can capture data coming into and out of the model. First, the code gets the model deployment's endpoint URL, and then sends a few records for predictions."
        },
        {
            "cell_type": "code",
            "execution_count": 42,
            "metadata": {
                "scrolled": true
            },
            "outputs": [
                {
                    "name": "stdout",
                    "output_type": "stream",
                    "text": "af7cf757-ed3f-47b8-963a-c241fd129690\nhttps://namespace1-cpd-namespace1.apps.zloct36-lb-1.fyre.ibm.com/v4/deployments/af7cf757-ed3f-47b8-963a-c241fd129690/predictions\n"
                }
            ],
            "source": "credit_risk_scoring_endpoint = None\nprint(deployment_uid)\n\nfor deployment in wml_client.deployments.get_details()['resources']:\n    if deployment_uid in deployment['metadata']['guid']:\n        credit_risk_scoring_endpoint = deployment['entity']['status']['online_url']['url']\n        \nprint(credit_risk_scoring_endpoint)"
        },
        {
            "cell_type": "code",
            "execution_count": 43,
            "metadata": {
                "scrolled": true
            },
            "outputs": [
                {
                    "name": "stdout",
                    "output_type": "stream",
                    "text": "Single record scoring result: \n fields: ['CheckingStatus', 'LoanDuration', 'CreditHistory', 'LoanPurpose', 'LoanAmount', 'ExistingSavings', 'EmploymentDuration', 'InstallmentPercent', 'Sex', 'OthersOnLoan', 'CurrentResidenceDuration', 'OwnsProperty', 'Age', 'InstallmentPlans', 'Housing', 'ExistingCreditsCount', 'Job', 'Dependents', 'Telephone', 'ForeignWorker', 'CheckingStatus_IX', 'CreditHistory_IX', 'EmploymentDuration_IX', 'ExistingSavings_IX', 'ForeignWorker_IX', 'Housing_IX', 'InstallmentPlans_IX', 'Job_IX', 'LoanPurpose_IX', 'OthersOnLoan_IX', 'OwnsProperty_IX', 'Sex_IX', 'Telephone_IX', 'features', 'rawPrediction', 'probability', 'prediction', 'predictedLabel'] \n values:  ['no_checking', 13, 'credits_paid_to_date', 'car_new', 1343, '100_to_500', '1_to_4', 2, 'female', 'none', 3, 'savings_insurance', 46, 'none', 'own', 2, 'skilled', 1, 'none', 'yes', 0.0, 1.0, 0.0, 1.0, 0.0, 0.0, 0.0, 0.0, 0.0, 0.0, 0.0, 1.0, 0.0, [21, [1, 3, 5, 13, 14, 15, 16, 17, 18, 19, 20], [1.0, 1.0, 1.0, 13.0, 1343.0, 2.0, 3.0, 13.0, 46.0, 2.0, 1.0]], [13.898076929508127, 6.101923070491875], [0.6949038464754064, 0.30509615352459374], 0.0, 'No Risk']\n"
                }
            ],
            "source": "fields = [\"CheckingStatus\",\"LoanDuration\",\"CreditHistory\",\"LoanPurpose\",\"LoanAmount\",\"ExistingSavings\",\"EmploymentDuration\",\"InstallmentPercent\",\"Sex\",\"OthersOnLoan\",\"CurrentResidenceDuration\",\"OwnsProperty\",\"Age\",\"InstallmentPlans\",\"Housing\",\"ExistingCreditsCount\",\"Job\",\"Dependents\",\"Telephone\",\"ForeignWorker\"]\nvalues = [\n  [\"no_checking\",13,\"credits_paid_to_date\",\"car_new\",1343,\"100_to_500\",\"1_to_4\",2,\"female\",\"none\",3,\"savings_insurance\",46,\"none\",\"own\",2,\"skilled\",1,\"none\",\"yes\"],\n  [\"no_checking\",24,\"prior_payments_delayed\",\"furniture\",4567,\"500_to_1000\",\"1_to_4\",4,\"male\",\"none\",4,\"savings_insurance\",36,\"none\",\"free\",2,\"management_self-employed\",1,\"none\",\"yes\"],\n  [\"0_to_200\",26,\"all_credits_paid_back\",\"car_new\",863,\"less_100\",\"less_1\",2,\"female\",\"co-applicant\",2,\"real_estate\",38,\"none\",\"own\",1,\"skilled\",1,\"none\",\"yes\"],\n  [\"0_to_200\",14,\"no_credits\",\"car_new\",2368,\"less_100\",\"1_to_4\",3,\"female\",\"none\",3,\"real_estate\",29,\"none\",\"own\",1,\"skilled\",1,\"none\",\"yes\"],\n  [\"0_to_200\",4,\"no_credits\",\"car_new\",250,\"less_100\",\"unemployed\",2,\"female\",\"none\",3,\"real_estate\",23,\"none\",\"rent\",1,\"management_self-employed\",1,\"none\",\"yes\"],\n  [\"no_checking\",17,\"credits_paid_to_date\",\"car_new\",832,\"100_to_500\",\"1_to_4\",2,\"male\",\"none\",2,\"real_estate\",42,\"none\",\"own\",1,\"skilled\",1,\"none\",\"yes\"],\n  [\"no_checking\",33,\"outstanding_credit\",\"appliances\",5696,\"unknown\",\"greater_7\",4,\"male\",\"co-applicant\",4,\"unknown\",54,\"none\",\"free\",2,\"skilled\",1,\"yes\",\"yes\"],\n  [\"0_to_200\",13,\"prior_payments_delayed\",\"retraining\",1375,\"100_to_500\",\"4_to_7\",3,\"male\",\"none\",3,\"real_estate\",37,\"none\",\"own\",2,\"management_self-employed\",1,\"none\",\"yes\"]\n]\n\npayload_scoring = {\"fields\": fields,\"values\": values}\npayload = {\n    wml_client.deployments.ScoringMetaNames.INPUT_DATA: [payload_scoring]\n}\nscoring_response = wml_client.deployments.score(deployment_uid, payload)\n\nprint('Single record scoring result:', '\\n fields:', scoring_response['predictions'][0]['fields'], '\\n values: ', scoring_response['predictions'][0]['values'][0])"
        },
        {
            "cell_type": "markdown",
            "metadata": {},
            "source": "\n# Quality monitoring and feedback logging <a name=\"quality\"></a>"
        },
        {
            "cell_type": "markdown",
            "metadata": {},
            "source": "## Enable quality monitoring"
        },
        {
            "cell_type": "markdown",
            "metadata": {},
            "source": "The code below waits ten seconds to allow the payload logging table to be set up before it begins enabling monitors. First, it turns on the quality (accuracy) monitor and sets an alert threshold of 70%. OpenScale will show an alert on the dashboard if the model accuracy measurement (area under the curve, in the case of a binary classifier) falls below this threshold.\n\nThe second paramater supplied, min_records, specifies the minimum number of feedback records OpenScale needs before it calculates a new measurement. The quality monitor runs hourly, but the accuracy reading in the dashboard will not change until an additional 50 feedback records have been added, via the user interface, the Python client, or the supplied feedback endpoint."
        },
        {
            "cell_type": "code",
            "execution_count": 50,
            "metadata": {
                "scrolled": true
            },
            "outputs": [],
            "source": "time.sleep(10)\nsubscription.quality_monitoring.enable(threshold=0.7, min_records=50)"
        },
        {
            "cell_type": "markdown",
            "metadata": {},
            "source": "## Feedback logging"
        },
        {
            "cell_type": "markdown",
            "metadata": {},
            "source": "The code below downloads and stores enough feedback data to meet the minimum threshold so that OpenScale can calculate a new accuracy measurement. It then kicks off the accuracy monitor. The monitors run hourly, or can be initiated via the Python API, the REST API, or the graphical user interface."
        },
        {
            "cell_type": "code",
            "execution_count": 51,
            "metadata": {},
            "outputs": [
                {
                    "name": "stdout",
                    "output_type": "stream",
                    "text": "Warning: Failed to set locale category LC_NUMERIC to en_PL.\nWarning: Failed to set locale category LC_TIME to en_PL.\nWarning: Failed to set locale category LC_COLLATE to en_PL.\nWarning: Failed to set locale category LC_MONETARY to en_PL.\nWarning: Failed to set locale category LC_MESSAGES to en_PL.\n--2019-11-19 09:49:40--  https://raw.githubusercontent.com/pmservice/ai-openscale-tutorials/master/assets/historical_data/german_credit_risk/wml/additional_feedback_data.json\nResolving raw.githubusercontent.com (raw.githubusercontent.com)... 199.232.36.133\nConnecting to raw.githubusercontent.com (raw.githubusercontent.com)|199.232.36.133|:443... connected.\nHTTP request sent, awaiting response... 200 OK\nLength: 16506 (16K) [text/plain]\nSaving to: \u2018additional_feedback_data.json\u2019\n\nadditional_feedback 100%[===================>]  16.12K  --.-KB/s    in 0.1s    \n\n2019-11-19 09:49:40 (150 KB/s) - \u2018additional_feedback_data.json\u2019 saved [16506/16506]\n\n"
                }
            ],
            "source": "!rm additional_feedback_data.json\n!wget https://raw.githubusercontent.com/pmservice/ai-openscale-tutorials/master/assets/historical_data/german_credit_risk/wml/additional_feedback_data.json"
        },
        {
            "cell_type": "code",
            "execution_count": 52,
            "metadata": {},
            "outputs": [],
            "source": "with open('additional_feedback_data.json') as feedback_file:\n    additional_feedback_data = json.load(feedback_file)\nsubscription.feedback_logging.store(additional_feedback_data['data'])"
        },
        {
            "cell_type": "code",
            "execution_count": 53,
            "metadata": {
                "scrolled": true
            },
            "outputs": [
                {
                    "data": {
                        "text/html": "<HTML>\n        <body>\n            <h3>Feedback_ecda63e5-7e98-414d-a289-a95031014129 (binding_id=999, subscription_id=ecda63e5-7e98-414d-a289-a95031014129)</h3>\n            <table style='border: 1px solid #dddddd; font-family: Courier'>\n                <th style='border: 1px solid #dddddd'>CheckingStatus</th><th style='border: 1px solid #dddddd'>LoanDuration</th><th style='border: 1px solid #dddddd'>CreditHistory</th><th style='border: 1px solid #dddddd'>LoanPurpose</th><th style='border: 1px solid #dddddd'>LoanAmount</th><th style='border: 1px solid #dddddd'>ExistingSavings</th><th style='border: 1px solid #dddddd'>EmploymentDuration</th><th style='border: 1px solid #dddddd'>InstallmentPercent</th><th style='border: 1px solid #dddddd'>Sex</th><th style='border: 1px solid #dddddd'>OthersOnLoan</th><th style='border: 1px solid #dddddd'>CurrentResidenceDuration</th><th style='border: 1px solid #dddddd'>OwnsProperty</th><th style='border: 1px solid #dddddd'>Age</th><th style='border: 1px solid #dddddd'>InstallmentPlans</th><th style='border: 1px solid #dddddd'>Housing</th><th style='border: 1px solid #dddddd'>ExistingCreditsCount</th><th style='border: 1px solid #dddddd'>Job</th><th style='border: 1px solid #dddddd'>Dependents</th><th style='border: 1px solid #dddddd'>Telephone</th><th style='border: 1px solid #dddddd'>ForeignWorker</th><th style='border: 1px solid #dddddd'>Risk</th><th style='border: 1px solid #dddddd'>_training</th>\n                <tr><td style='border: 1px solid #dddddd'>less_0</td><td style='border: 1px solid #dddddd'>10</td><td style='border: 1px solid #dddddd'>all_credits_paid_back</td><td style='border: 1px solid #dddddd'>car_new</td><td style='border: 1px solid #dddddd'>250</td><td style='border: 1px solid #dddddd'>500_to_1000</td><td style='border: 1px solid #dddddd'>4_to_7</td><td style='border: 1px solid #dddddd'>3</td><td style='border: 1px solid #dddddd'>male</td><td style='border: 1px solid #dddddd'>none</td><td style='border: 1px solid #dddddd'>2</td><td style='border: 1px solid #dddddd'>real_estate</td><td style='border: 1px solid #dddddd'>23</td><td style='border: 1px solid #dddddd'>none</td><td style='border: 1px solid #dddddd'>rent</td><td style='border: 1px solid #dddddd'>1</td><td style='border: 1px solid #dddddd'>skilled</td><td style='border: 1px solid #dddddd'>1</td><td style='border: 1px solid #dddddd'>none</td><td style='border: 1px solid #dddddd'>yes</td><td style='border: 1px solid #dddddd'>No Risk</td><td style='border: 1px solid #dddddd'>2019-11-19 08:49:55.635930+00:00</td></tr><tr><td style='border: 1px solid #dddddd'>no_checking</td><td style='border: 1px solid #dddddd'>23</td><td style='border: 1px solid #dddddd'>prior_payments_delayed</td><td style='border: 1px solid #dddddd'>appliances</td><td style='border: 1px solid #dddddd'>6964</td><td style='border: 1px solid #dddddd'>100_to_500</td><td style='border: 1px solid #dddddd'>4_to_7</td><td style='border: 1px solid #dddddd'>4</td><td style='border: 1px solid #dddddd'>female</td><td style='border: 1px solid #dddddd'>none</td><td style='border: 1px solid #dddddd'>3</td><td style='border: 1px solid #dddddd'>car_other</td><td style='border: 1px solid #dddddd'>39</td><td style='border: 1px solid #dddddd'>none</td><td style='border: 1px solid #dddddd'>own</td><td style='border: 1px solid #dddddd'>1</td><td style='border: 1px solid #dddddd'>skilled</td><td style='border: 1px solid #dddddd'>1</td><td style='border: 1px solid #dddddd'>none</td><td style='border: 1px solid #dddddd'>yes</td><td style='border: 1px solid #dddddd'>Risk</td><td style='border: 1px solid #dddddd'>2019-11-19 08:49:55.636092+00:00</td></tr><tr><td style='border: 1px solid #dddddd'>0_to_200</td><td style='border: 1px solid #dddddd'>30</td><td style='border: 1px solid #dddddd'>outstanding_credit</td><td style='border: 1px solid #dddddd'>appliances</td><td style='border: 1px solid #dddddd'>3464</td><td style='border: 1px solid #dddddd'>100_to_500</td><td style='border: 1px solid #dddddd'>greater_7</td><td style='border: 1px solid #dddddd'>3</td><td style='border: 1px solid #dddddd'>male</td><td style='border: 1px solid #dddddd'>guarantor</td><td style='border: 1px solid #dddddd'>4</td><td style='border: 1px solid #dddddd'>savings_insurance</td><td style='border: 1px solid #dddddd'>51</td><td style='border: 1px solid #dddddd'>stores</td><td style='border: 1px solid #dddddd'>free</td><td style='border: 1px solid #dddddd'>1</td><td style='border: 1px solid #dddddd'>skilled</td><td style='border: 1px solid #dddddd'>1</td><td style='border: 1px solid #dddddd'>yes</td><td style='border: 1px solid #dddddd'>yes</td><td style='border: 1px solid #dddddd'>Risk</td><td style='border: 1px solid #dddddd'>2019-11-19 08:49:55.636107+00:00</td></tr><tr><td style='border: 1px solid #dddddd'>no_checking</td><td style='border: 1px solid #dddddd'>23</td><td style='border: 1px solid #dddddd'>outstanding_credit</td><td style='border: 1px solid #dddddd'>car_used</td><td style='border: 1px solid #dddddd'>2681</td><td style='border: 1px solid #dddddd'>500_to_1000</td><td style='border: 1px solid #dddddd'>greater_7</td><td style='border: 1px solid #dddddd'>4</td><td style='border: 1px solid #dddddd'>male</td><td style='border: 1px solid #dddddd'>none</td><td style='border: 1px solid #dddddd'>3</td><td style='border: 1px solid #dddddd'>car_other</td><td style='border: 1px solid #dddddd'>33</td><td style='border: 1px solid #dddddd'>stores</td><td style='border: 1px solid #dddddd'>free</td><td style='border: 1px solid #dddddd'>1</td><td style='border: 1px solid #dddddd'>unskilled</td><td style='border: 1px solid #dddddd'>1</td><td style='border: 1px solid #dddddd'>yes</td><td style='border: 1px solid #dddddd'>yes</td><td style='border: 1px solid #dddddd'>No Risk</td><td style='border: 1px solid #dddddd'>2019-11-19 08:49:55.636114+00:00</td></tr><tr><td style='border: 1px solid #dddddd'>0_to_200</td><td style='border: 1px solid #dddddd'>18</td><td style='border: 1px solid #dddddd'>prior_payments_delayed</td><td style='border: 1px solid #dddddd'>furniture</td><td style='border: 1px solid #dddddd'>1673</td><td style='border: 1px solid #dddddd'>less_100</td><td style='border: 1px solid #dddddd'>1_to_4</td><td style='border: 1px solid #dddddd'>2</td><td style='border: 1px solid #dddddd'>male</td><td style='border: 1px solid #dddddd'>none</td><td style='border: 1px solid #dddddd'>3</td><td style='border: 1px solid #dddddd'>car_other</td><td style='border: 1px solid #dddddd'>30</td><td style='border: 1px solid #dddddd'>none</td><td style='border: 1px solid #dddddd'>own</td><td style='border: 1px solid #dddddd'>2</td><td style='border: 1px solid #dddddd'>skilled</td><td style='border: 1px solid #dddddd'>1</td><td style='border: 1px solid #dddddd'>none</td><td style='border: 1px solid #dddddd'>yes</td><td style='border: 1px solid #dddddd'>Risk</td><td style='border: 1px solid #dddddd'>2019-11-19 08:49:55.636122+00:00</td></tr><tr><td style='border: 1px solid #dddddd'>no_checking</td><td style='border: 1px solid #dddddd'>44</td><td style='border: 1px solid #dddddd'>outstanding_credit</td><td style='border: 1px solid #dddddd'>radio_tv</td><td style='border: 1px solid #dddddd'>3476</td><td style='border: 1px solid #dddddd'>unknown</td><td style='border: 1px solid #dddddd'>greater_7</td><td style='border: 1px solid #dddddd'>4</td><td style='border: 1px solid #dddddd'>male</td><td style='border: 1px solid #dddddd'>co-applicant</td><td style='border: 1px solid #dddddd'>4</td><td style='border: 1px solid #dddddd'>unknown</td><td style='border: 1px solid #dddddd'>60</td><td style='border: 1px solid #dddddd'>none</td><td style='border: 1px solid #dddddd'>free</td><td style='border: 1px solid #dddddd'>2</td><td style='border: 1px solid #dddddd'>skilled</td><td style='border: 1px solid #dddddd'>2</td><td style='border: 1px solid #dddddd'>yes</td><td style='border: 1px solid #dddddd'>yes</td><td style='border: 1px solid #dddddd'>Risk</td><td style='border: 1px solid #dddddd'>2019-11-19 08:49:55.636129+00:00</td></tr><tr><td style='border: 1px solid #dddddd'>less_0</td><td style='border: 1px solid #dddddd'>8</td><td style='border: 1px solid #dddddd'>no_credits</td><td style='border: 1px solid #dddddd'>education</td><td style='border: 1px solid #dddddd'>803</td><td style='border: 1px solid #dddddd'>less_100</td><td style='border: 1px solid #dddddd'>unemployed</td><td style='border: 1px solid #dddddd'>1</td><td style='border: 1px solid #dddddd'>male</td><td style='border: 1px solid #dddddd'>none</td><td style='border: 1px solid #dddddd'>1</td><td style='border: 1px solid #dddddd'>savings_insurance</td><td style='border: 1px solid #dddddd'>19</td><td style='border: 1px solid #dddddd'>stores</td><td style='border: 1px solid #dddddd'>rent</td><td style='border: 1px solid #dddddd'>1</td><td style='border: 1px solid #dddddd'>skilled</td><td style='border: 1px solid #dddddd'>1</td><td style='border: 1px solid #dddddd'>none</td><td style='border: 1px solid #dddddd'>yes</td><td style='border: 1px solid #dddddd'>No Risk</td><td style='border: 1px solid #dddddd'>2019-11-19 08:49:55.636135+00:00</td></tr><tr><td style='border: 1px solid #dddddd'>0_to_200</td><td style='border: 1px solid #dddddd'>7</td><td style='border: 1px solid #dddddd'>all_credits_paid_back</td><td style='border: 1px solid #dddddd'>car_new</td><td style='border: 1px solid #dddddd'>250</td><td style='border: 1px solid #dddddd'>less_100</td><td style='border: 1px solid #dddddd'>unemployed</td><td style='border: 1px solid #dddddd'>1</td><td style='border: 1px solid #dddddd'>male</td><td style='border: 1px solid #dddddd'>none</td><td style='border: 1px solid #dddddd'>1</td><td style='border: 1px solid #dddddd'>real_estate</td><td style='border: 1px solid #dddddd'>19</td><td style='border: 1px solid #dddddd'>stores</td><td style='border: 1px solid #dddddd'>rent</td><td style='border: 1px solid #dddddd'>1</td><td style='border: 1px solid #dddddd'>skilled</td><td style='border: 1px solid #dddddd'>1</td><td style='border: 1px solid #dddddd'>none</td><td style='border: 1px solid #dddddd'>yes</td><td style='border: 1px solid #dddddd'>No Risk</td><td style='border: 1px solid #dddddd'>2019-11-19 08:49:55.636142+00:00</td></tr><tr><td style='border: 1px solid #dddddd'>0_to_200</td><td style='border: 1px solid #dddddd'>33</td><td style='border: 1px solid #dddddd'>credits_paid_to_date</td><td style='border: 1px solid #dddddd'>radio_tv</td><td style='border: 1px solid #dddddd'>3548</td><td style='border: 1px solid #dddddd'>100_to_500</td><td style='border: 1px solid #dddddd'>1_to_4</td><td style='border: 1px solid #dddddd'>3</td><td style='border: 1px solid #dddddd'>male</td><td style='border: 1px solid #dddddd'>none</td><td style='border: 1px solid #dddddd'>4</td><td style='border: 1px solid #dddddd'>car_other</td><td style='border: 1px solid #dddddd'>28</td><td style='border: 1px solid #dddddd'>none</td><td style='border: 1px solid #dddddd'>own</td><td style='border: 1px solid #dddddd'>2</td><td style='border: 1px solid #dddddd'>skilled</td><td style='border: 1px solid #dddddd'>1</td><td style='border: 1px solid #dddddd'>yes</td><td style='border: 1px solid #dddddd'>yes</td><td style='border: 1px solid #dddddd'>Risk</td><td style='border: 1px solid #dddddd'>2019-11-19 08:49:55.636149+00:00</td></tr><tr><td style='border: 1px solid #dddddd'>no_checking</td><td style='border: 1px solid #dddddd'>24</td><td style='border: 1px solid #dddddd'>prior_payments_delayed</td><td style='border: 1px solid #dddddd'>retraining</td><td style='border: 1px solid #dddddd'>4158</td><td style='border: 1px solid #dddddd'>100_to_500</td><td style='border: 1px solid #dddddd'>greater_7</td><td style='border: 1px solid #dddddd'>3</td><td style='border: 1px solid #dddddd'>female</td><td style='border: 1px solid #dddddd'>none</td><td style='border: 1px solid #dddddd'>2</td><td style='border: 1px solid #dddddd'>savings_insurance</td><td style='border: 1px solid #dddddd'>35</td><td style='border: 1px solid #dddddd'>stores</td><td style='border: 1px solid #dddddd'>own</td><td style='border: 1px solid #dddddd'>1</td><td style='border: 1px solid #dddddd'>unskilled</td><td style='border: 1px solid #dddddd'>2</td><td style='border: 1px solid #dddddd'>none</td><td style='border: 1px solid #dddddd'>yes</td><td style='border: 1px solid #dddddd'>Risk</td><td style='border: 1px solid #dddddd'>2019-11-19 08:49:55.636158+00:00</td></tr>\n            </table>\n        </body>\n        </HTML>",
                        "text/plain": "<IPython.core.display.HTML object>"
                    },
                    "metadata": {},
                    "output_type": "display_data"
                }
            ],
            "source": "subscription.feedback_logging.show_table()"
        },
        {
            "cell_type": "code",
            "execution_count": 54,
            "metadata": {
                "scrolled": true
            },
            "outputs": [
                {
                    "name": "stdout",
                    "output_type": "stream",
                    "text": "\n\n================================================================================\n\n Waiting for end of quality monitoring run 748f389d-082f-48b2-86b5-07e04f4e4179 \n\n================================================================================\n\n\n\ninitializing\ncompleted\n\n---------------------------\n Successfully finished run \n---------------------------\n\n\n"
                }
            ],
            "source": "run_details = subscription.quality_monitoring.run(background_mode=False)"
        },
        {
            "cell_type": "code",
            "execution_count": 55,
            "metadata": {
                "scrolled": true
            },
            "outputs": [
                {
                    "data": {
                        "text/html": "<HTML>\n        <body>\n            <h3>QualityMetrics (binding_id=999, subscription_id=ecda63e5-7e98-414d-a289-a95031014129)</h3>\n            <table style='border: 1px solid #dddddd; font-family: Courier'>\n                <th style='border: 1px solid #dddddd'>ts</th><th style='border: 1px solid #dddddd'>id</th><th style='border: 1px solid #dddddd'>measurement_id</th><th style='border: 1px solid #dddddd'>value</th><th style='border: 1px solid #dddddd'>lower limit</th><th style='border: 1px solid #dddddd'>upper limit</th><th style='border: 1px solid #dddddd'>tags</th><th style='border: 1px solid #dddddd'>binding_id</th><th style='border: 1px solid #dddddd'>subscription_id</th><th style='border: 1px solid #dddddd'>deployment_id</th>\n                <tr><td style='border: 1px solid #dddddd'>2019-11-19 08:50:06.822000+00:00</td><td style='border: 1px solid #dddddd'>true_positive_rate</td><td style='border: 1px solid #dddddd'>4164aa3f-1a81-46cc-b2b3-86f9effa325f</td><td style='border: 1px solid #dddddd'>0.42424242424242425</td><td style='border: 1px solid #dddddd'></td><td style='border: 1px solid #dddddd'></td><td style='border: 1px solid #dddddd'>model_type: original</td><td style='border: 1px solid #dddddd'>999</td><td style='border: 1px solid #dddddd'>ecda63e5-7e98-414d-a289-a95031014129</td><td style='border: 1px solid #dddddd'>af7cf757-ed3f-47b8-963a-c241fd129690</td></tr><tr><td style='border: 1px solid #dddddd'>2019-11-19 08:50:06.822000+00:00</td><td style='border: 1px solid #dddddd'>area_under_roc</td><td style='border: 1px solid #dddddd'>4164aa3f-1a81-46cc-b2b3-86f9effa325f</td><td style='border: 1px solid #dddddd'>0.6813519813519814</td><td style='border: 1px solid #dddddd'>0.7</td><td style='border: 1px solid #dddddd'></td><td style='border: 1px solid #dddddd'>model_type: original</td><td style='border: 1px solid #dddddd'>999</td><td style='border: 1px solid #dddddd'>ecda63e5-7e98-414d-a289-a95031014129</td><td style='border: 1px solid #dddddd'>af7cf757-ed3f-47b8-963a-c241fd129690</td></tr><tr><td style='border: 1px solid #dddddd'>2019-11-19 08:50:06.822000+00:00</td><td style='border: 1px solid #dddddd'>precision</td><td style='border: 1px solid #dddddd'>4164aa3f-1a81-46cc-b2b3-86f9effa325f</td><td style='border: 1px solid #dddddd'>0.7777777777777778</td><td style='border: 1px solid #dddddd'></td><td style='border: 1px solid #dddddd'></td><td style='border: 1px solid #dddddd'>model_type: original</td><td style='border: 1px solid #dddddd'>999</td><td style='border: 1px solid #dddddd'>ecda63e5-7e98-414d-a289-a95031014129</td><td style='border: 1px solid #dddddd'>af7cf757-ed3f-47b8-963a-c241fd129690</td></tr><tr><td style='border: 1px solid #dddddd'>2019-11-19 08:50:06.822000+00:00</td><td style='border: 1px solid #dddddd'>f1_measure</td><td style='border: 1px solid #dddddd'>4164aa3f-1a81-46cc-b2b3-86f9effa325f</td><td style='border: 1px solid #dddddd'>0.5490196078431373</td><td style='border: 1px solid #dddddd'></td><td style='border: 1px solid #dddddd'></td><td style='border: 1px solid #dddddd'>model_type: original</td><td style='border: 1px solid #dddddd'>999</td><td style='border: 1px solid #dddddd'>ecda63e5-7e98-414d-a289-a95031014129</td><td style='border: 1px solid #dddddd'>af7cf757-ed3f-47b8-963a-c241fd129690</td></tr><tr><td style='border: 1px solid #dddddd'>2019-11-19 08:50:06.822000+00:00</td><td style='border: 1px solid #dddddd'>accuracy</td><td style='border: 1px solid #dddddd'>4164aa3f-1a81-46cc-b2b3-86f9effa325f</td><td style='border: 1px solid #dddddd'>0.7653061224489796</td><td style='border: 1px solid #dddddd'></td><td style='border: 1px solid #dddddd'></td><td style='border: 1px solid #dddddd'>model_type: original</td><td style='border: 1px solid #dddddd'>999</td><td style='border: 1px solid #dddddd'>ecda63e5-7e98-414d-a289-a95031014129</td><td style='border: 1px solid #dddddd'>af7cf757-ed3f-47b8-963a-c241fd129690</td></tr><tr><td style='border: 1px solid #dddddd'>2019-11-19 08:50:06.822000+00:00</td><td style='border: 1px solid #dddddd'>log_loss</td><td style='border: 1px solid #dddddd'>4164aa3f-1a81-46cc-b2b3-86f9effa325f</td><td style='border: 1px solid #dddddd'>0.43570416190896877</td><td style='border: 1px solid #dddddd'></td><td style='border: 1px solid #dddddd'></td><td style='border: 1px solid #dddddd'>model_type: original</td><td style='border: 1px solid #dddddd'>999</td><td style='border: 1px solid #dddddd'>ecda63e5-7e98-414d-a289-a95031014129</td><td style='border: 1px solid #dddddd'>af7cf757-ed3f-47b8-963a-c241fd129690</td></tr><tr><td style='border: 1px solid #dddddd'>2019-11-19 08:50:06.822000+00:00</td><td style='border: 1px solid #dddddd'>false_positive_rate</td><td style='border: 1px solid #dddddd'>4164aa3f-1a81-46cc-b2b3-86f9effa325f</td><td style='border: 1px solid #dddddd'>0.06153846153846154</td><td style='border: 1px solid #dddddd'></td><td style='border: 1px solid #dddddd'></td><td style='border: 1px solid #dddddd'>model_type: original</td><td style='border: 1px solid #dddddd'>999</td><td style='border: 1px solid #dddddd'>ecda63e5-7e98-414d-a289-a95031014129</td><td style='border: 1px solid #dddddd'>af7cf757-ed3f-47b8-963a-c241fd129690</td></tr><tr><td style='border: 1px solid #dddddd'>2019-11-19 08:50:06.822000+00:00</td><td style='border: 1px solid #dddddd'>area_under_pr</td><td style='border: 1px solid #dddddd'>4164aa3f-1a81-46cc-b2b3-86f9effa325f</td><td style='border: 1px solid #dddddd'>0.6508108293822579</td><td style='border: 1px solid #dddddd'></td><td style='border: 1px solid #dddddd'></td><td style='border: 1px solid #dddddd'>model_type: original</td><td style='border: 1px solid #dddddd'>999</td><td style='border: 1px solid #dddddd'>ecda63e5-7e98-414d-a289-a95031014129</td><td style='border: 1px solid #dddddd'>af7cf757-ed3f-47b8-963a-c241fd129690</td></tr><tr><td style='border: 1px solid #dddddd'>2019-11-19 08:50:06.822000+00:00</td><td style='border: 1px solid #dddddd'>recall</td><td style='border: 1px solid #dddddd'>4164aa3f-1a81-46cc-b2b3-86f9effa325f</td><td style='border: 1px solid #dddddd'>0.42424242424242425</td><td style='border: 1px solid #dddddd'></td><td style='border: 1px solid #dddddd'></td><td style='border: 1px solid #dddddd'>model_type: original</td><td style='border: 1px solid #dddddd'>999</td><td style='border: 1px solid #dddddd'>ecda63e5-7e98-414d-a289-a95031014129</td><td style='border: 1px solid #dddddd'>af7cf757-ed3f-47b8-963a-c241fd129690</td></tr>\n            </table>\n        </body>\n        </HTML>",
                        "text/plain": "<IPython.core.display.HTML object>"
                    },
                    "metadata": {},
                    "output_type": "display_data"
                }
            ],
            "source": "subscription.quality_monitoring.show_table()"
        },
        {
            "cell_type": "code",
            "execution_count": 56,
            "metadata": {},
            "outputs": [
                {
                    "data": {
                        "image/png": "[encoded data removed]",
                        "text/plain": "<Figure size 432x288 with 1 Axes>"
                    },
                    "metadata": {
                        "needs_background": "light"
                    },
                    "output_type": "display_data"
                }
            ],
            "source": "%matplotlib inline\n\nquality_pd = subscription.quality_monitoring.get_table_content(format='pandas')\nquality_pd.plot.barh(x='id', y='value');"
        },
        {
            "cell_type": "code",
            "execution_count": 57,
            "metadata": {
                "scrolled": true
            },
            "outputs": [
                {
                    "data": {
                        "text/plain": "{'deployment_metrics': [{'asset': {'asset_id': '81be95c8-fa11-42ae-b0c1-7fda70305570',\n    'asset_type': 'model',\n    'created_at': '2019-11-19T08:38:31.002Z',\n    'name': 'Spark German Risk Model - Final',\n    'url': 'https://ibm-nginx-svc.namespace1.svc.cluster.local/v4/models/81be95c8-fa11-42ae-b0c1-7fda70305570?space_id=3d086aad-45c3-413c-bcb4-b36219c5e2bc'},\n   'deployment': {'created_at': '2019-11-19T08:39:04.705Z',\n    'deployment_id': 'af7cf757-ed3f-47b8-963a-c241fd129690',\n    'deployment_rn': '',\n    'deployment_type': 'online',\n    'name': 'Spark German Risk Deployment - Final',\n    'scoring_endpoint': {'request_headers': {'Content-Type': 'application/json'},\n     'url': 'https://ibm-nginx-svc.namespace1.svc.cluster.local/v4/deployments/af7cf757-ed3f-47b8-963a-c241fd129690/predictions'},\n    'url': 'https://ibm-nginx-svc.namespace1.svc.cluster.local/v4/deployments/af7cf757-ed3f-47b8-963a-c241fd129690'},\n   'metrics': [{'issues': 1,\n     'metric_type': 'quality',\n     'timestamp': '2019-11-19T08:50:06.822Z',\n     'value': {'metrics': [{'name': 'true_positive_rate',\n        'value': 0.42424242424242425},\n       {'name': 'area_under_roc', 'value': 0.6813519813519814},\n       {'name': 'precision', 'value': 0.7777777777777778},\n       {'name': 'f1_measure', 'value': 0.5490196078431373},\n       {'name': 'accuracy', 'value': 0.7653061224489796},\n       {'name': 'log_loss', 'value': 0.43570416190896877},\n       {'name': 'false_positive_rate', 'value': 0.06153846153846154},\n       {'name': 'area_under_pr', 'value': 0.6508108293822579},\n       {'name': 'recall', 'value': 0.42424242424242425}],\n      'quality': 0.6813519813519814,\n      'threshold': 0.7}}],\n   'subscription': {'subscription_id': 'ecda63e5-7e98-414d-a289-a95031014129',\n    'url': '/v1/data_marts/00000000-0000-0000-0000-000000000000/service_bindings/999/subscriptions/ecda63e5-7e98-414d-a289-a95031014129'}}]}"
                    },
                    "execution_count": 57,
                    "metadata": {},
                    "output_type": "execute_result"
                }
            ],
            "source": "ai_client.data_mart.get_deployment_metrics()"
        },
        {
            "cell_type": "markdown",
            "metadata": {},
            "source": "# Fairness, drift monitoring and explanations \n <a name=\"fairness\"></a>"
        },
        {
            "cell_type": "markdown",
            "metadata": {},
            "source": "The code below configures fairness monitoring for our model. It turns on monitoring for two features, Sex and Age. In each case, we must specify:\n  * Which model feature to monitor\n  * One or more **majority** groups, which are values of that feature that we expect to receive a higher percentage of favorable outcomes\n  * One or more **minority** groups, which are values of that feature that we expect to receive a higher percentage of unfavorable outcomes\n  * The threshold at which we would like OpenScale to display an alert if the fairness measurement falls below (in this case, 95%)\n\nAdditionally, we must specify which outcomes from the model are favourable outcomes, and which are unfavourable. We must also provide the number of records OpenScale will use to calculate the fairness score. In this case, OpenScale's fairness monitor will run hourly, but will not calculate a new fairness rating until at least 200 records have been added. Finally, to calculate fairness, OpenScale must perform some calculations on the training data, so we provide the dataframe containing the data."
        },
        {
            "cell_type": "code",
            "execution_count": 67,
            "metadata": {
                "scrolled": true
            },
            "outputs": [],
            "source": "subscription.fairness_monitoring.enable(\n            features=[\n                Feature(\"Sex\", majority=['male'], minority=['female'], threshold=0.95),\n                Feature(\"Age\", majority=[[26,75]], minority=[[18,25]], threshold=0.95)\n            ],\n            favourable_classes=['No Risk'],\n            unfavourable_classes=['Risk'],\n            min_records=200,\n            training_data=pd_data\n        )"
        },
        {
            "cell_type": "markdown",
            "metadata": {},
            "source": "## Drift configuration"
        },
        {
            "cell_type": "code",
            "execution_count": 68,
            "metadata": {},
            "outputs": [
                {
                    "name": "stdout",
                    "output_type": "stream",
                    "text": "09:00:31 new\n09:01:03 in_progress\n09:01:34 in_progress\n09:02:05 in_progress\n09:02:36 in_progress\nfinished\n"
                }
            ],
            "source": "subscription.drift_monitoring.enable(min_records=100, threshold=0.1)\n\ndrift_status = None\nwhile drift_status != 'finished':\n    drift_details = subscription.drift_monitoring.get_details()\n    drift_status = drift_details['parameters']['config_status']['state']\n    if drift_status != 'finished':\n        print(datetime.datetime.utcnow().strftime('%H:%M:%S'), drift_status)\n        time.sleep(30)\nprint(drift_status)\n\n"
        },
        {
            "cell_type": "markdown",
            "metadata": {},
            "source": "## Score the model again now that monitoring is configured"
        },
        {
            "cell_type": "markdown",
            "metadata": {},
            "source": "This next section randomly selects 200 records from the data feed and sends those records to the model for predictions. This is enough to exceed the minimum threshold for records set in the previous section, which allows OpenScale to begin calculating fairness."
        },
        {
            "cell_type": "code",
            "execution_count": 69,
            "metadata": {},
            "outputs": [
                {
                    "name": "stdout",
                    "output_type": "stream",
                    "text": "Warning: Failed to set locale category LC_NUMERIC to en_PL.\nWarning: Failed to set locale category LC_TIME to en_PL.\nWarning: Failed to set locale category LC_COLLATE to en_PL.\nWarning: Failed to set locale category LC_MONETARY to en_PL.\nWarning: Failed to set locale category LC_MESSAGES to en_PL.\n--2019-11-19 10:03:08--  https://raw.githubusercontent.com/pmservice/ai-openscale-tutorials/master/assets/historical_data/german_credit_risk/wml/german_credit_feed.json\nResolving raw.githubusercontent.com (raw.githubusercontent.com)... 199.232.36.133\nConnecting to raw.githubusercontent.com (raw.githubusercontent.com)|199.232.36.133|:443... connected.\nHTTP request sent, awaiting response... 200 OK\nLength: 3076279 (2.9M) [text/plain]\nSaving to: \u2018german_credit_feed.json\u2019\n\ngerman_credit_feed. 100%[===================>]   2.93M   807KB/s    in 4.0s    \n\n2019-11-19 10:03:12 (749 KB/s) - \u2018german_credit_feed.json\u2019 saved [3076279/3076279]\n\n"
                }
            ],
            "source": "!rm german_credit_feed.json\n!wget https://raw.githubusercontent.com/pmservice/ai-openscale-tutorials/master/assets/historical_data/german_credit_risk/wml/german_credit_feed.json"
        },
        {
            "cell_type": "markdown",
            "metadata": {},
            "source": "Score 200 randomly chosen records"
        },
        {
            "cell_type": "code",
            "execution_count": 70,
            "metadata": {},
            "outputs": [],
            "source": "import random\n\nwith open('german_credit_feed.json', 'r') as scoring_file:\n    scoring_data = json.load(scoring_file)\n\nfields = scoring_data['fields']\nvalues = []\nfor _ in range(200):\n    values.append(random.choice(scoring_data['values']))\npayload_scoring = {\"fields\": fields, \"values\": values}\npayload = {\n    wml_client.deployments.ScoringMetaNames.INPUT_DATA: [payload_scoring]\n}\nscoring_response = wml_client.deployments.score(deployment_uid, payload)"
        },
        {
            "cell_type": "markdown",
            "metadata": {},
            "source": "## Run fairness monitor"
        },
        {
            "cell_type": "markdown",
            "metadata": {},
            "source": "Kick off a fairness monitor run on current data. The monitor runs hourly, but can be manually initiated using the Python client, the REST API, or the graphical user interface."
        },
        {
            "cell_type": "code",
            "execution_count": 71,
            "metadata": {
                "scrolled": true
            },
            "outputs": [
                {
                    "name": "stdout",
                    "output_type": "stream",
                    "text": "\n\n=======================================================================\n\n Counting bias for deployment_uid=af7cf757-ed3f-47b8-963a-c241fd129690 \n\n=======================================================================\n\n\n\nRUNNING..\nFINISHED\n\n---------------------------\n Successfully finished run \n---------------------------\n\n\n"
                }
            ],
            "source": "time.sleep(5)\n\nrun_details = subscription.fairness_monitoring.run(background_mode=False)"
        },
        {
            "cell_type": "code",
            "execution_count": 72,
            "metadata": {},
            "outputs": [
                {
                    "data": {
                        "text/html": "<HTML>\n        <body>\n            <h3>FairnessMetrics (binding_id=999, subscription_id=ecda63e5-7e98-414d-a289-a95031014129)</h3>\n            <table style='border: 1px solid #dddddd; font-family: Courier'>\n                <th style='border: 1px solid #dddddd'>ts</th><th style='border: 1px solid #dddddd'>feature</th><th style='border: 1px solid #dddddd'>feature_value</th><th style='border: 1px solid #dddddd'>fairness_biased</th><th style='border: 1px solid #dddddd'>fairness_value</th><th style='border: 1px solid #dddddd'>fairness_fav_class</th><th style='border: 1px solid #dddddd'>binding_id</th><th style='border: 1px solid #dddddd'>subscription_id</th><th style='border: 1px solid #dddddd'>asset_revision</th><th style='border: 1px solid #dddddd'>deployment_id</th><th style='border: 1px solid #dddddd'>process</th>\n                <tr><td style='border: 1px solid #dddddd'>2019-11-19 09:03:21.901857+00:00</td><td style='border: 1px solid #dddddd'>Sex</td><td style='border: 1px solid #dddddd'>female</td><td style='border: 1px solid #dddddd'>False</td><td style='border: 1px solid #dddddd'>0.954</td><td style='border: 1px solid #dddddd'>72.5</td><td style='border: 1px solid #dddddd'>999</td><td style='border: 1px solid #dddddd'>ecda63e5-7e98-414d-a289-a95031014129</td><td style='border: 1px solid #dddddd'>ecda63e5-7e98-414d-a289-a95031014129</td><td style='border: 1px solid #dddddd'>af7cf757-ed3f-47b8-963a-c241fd129690</td><td style='border: 1px solid #dddddd'></td></tr><tr><td style='border: 1px solid #dddddd'>2019-11-19 09:03:21.901857+00:00</td><td style='border: 1px solid #dddddd'>Age</td><td style='border: 1px solid #dddddd'>[18, 25]</td><td style='border: 1px solid #dddddd'>False</td><td style='border: 1px solid #dddddd'>1.079</td><td style='border: 1px solid #dddddd'>81.5</td><td style='border: 1px solid #dddddd'>999</td><td style='border: 1px solid #dddddd'>ecda63e5-7e98-414d-a289-a95031014129</td><td style='border: 1px solid #dddddd'>ecda63e5-7e98-414d-a289-a95031014129</td><td style='border: 1px solid #dddddd'>af7cf757-ed3f-47b8-963a-c241fd129690</td><td style='border: 1px solid #dddddd'></td></tr>\n            </table>\n        </body>\n        </HTML>",
                        "text/plain": "<IPython.core.display.HTML object>"
                    },
                    "metadata": {},
                    "output_type": "display_data"
                }
            ],
            "source": "time.sleep(5)\n\nsubscription.fairness_monitoring.show_table()"
        },
        {
            "cell_type": "markdown",
            "metadata": {},
            "source": "## Run drift monitor"
        },
        {
            "cell_type": "markdown",
            "metadata": {},
            "source": "Kick off a drift monitor run on current data. The monitor runs every hour, but can be manually initiated using the Python client, the REST API."
        },
        {
            "cell_type": "code",
            "execution_count": 73,
            "metadata": {},
            "outputs": [
                {
                    "name": "stdout",
                    "output_type": "stream",
                    "text": "\n\n==========================================\n\n Waiting for end of drift monitoring run  \n\n==========================================\n\n\n\nRUNNING\nCOMPLETED\n\n---------------------------\n Successfully finished run \n---------------------------\n\n\n"
                }
            ],
            "source": "drift_run_details = subscription.drift_monitoring.run(background_mode=False)"
        },
        {
            "cell_type": "code",
            "execution_count": 74,
            "metadata": {},
            "outputs": [
                {
                    "data": {
                        "text/html": "<div>\n<style scoped>\n    .dataframe tbody tr th:only-of-type {\n        vertical-align: middle;\n    }\n\n    .dataframe tbody tr th {\n        vertical-align: top;\n    }\n\n    .dataframe thead th {\n        text-align: right;\n    }\n</style>\n<table border=\"1\" class=\"dataframe\">\n  <thead>\n    <tr style=\"text-align: right;\">\n      <th></th>\n      <th>ts</th>\n      <th>id</th>\n      <th>measurement_id</th>\n      <th>value</th>\n      <th>lower limit</th>\n      <th>upper limit</th>\n      <th>tags</th>\n      <th>binding_id</th>\n      <th>subscription_id</th>\n      <th>deployment_id</th>\n    </tr>\n  </thead>\n  <tbody>\n    <tr>\n      <th>0</th>\n      <td>2019-11-19 09:04:29.207917+00:00</td>\n      <td>data_drift_magnitude</td>\n      <td>0c2b2ee6-ca3d-4d55-bb80-4bd32ae7dc27</td>\n      <td>0.115385</td>\n      <td></td>\n      <td></td>\n      <td></td>\n      <td>999</td>\n      <td>ecda63e5-7e98-414d-a289-a95031014129</td>\n      <td>af7cf757-ed3f-47b8-963a-c241fd129690</td>\n    </tr>\n    <tr>\n      <th>1</th>\n      <td>2019-11-19 09:04:29.207917+00:00</td>\n      <td>drift_magnitude</td>\n      <td>0c2b2ee6-ca3d-4d55-bb80-4bd32ae7dc27</td>\n      <td>0.000000</td>\n      <td></td>\n      <td>0.1</td>\n      <td></td>\n      <td>999</td>\n      <td>ecda63e5-7e98-414d-a289-a95031014129</td>\n      <td>af7cf757-ed3f-47b8-963a-c241fd129690</td>\n    </tr>\n    <tr>\n      <th>2</th>\n      <td>2019-11-19 09:04:29.207917+00:00</td>\n      <td>predicted_accuracy</td>\n      <td>0c2b2ee6-ca3d-4d55-bb80-4bd32ae7dc27</td>\n      <td>0.843846</td>\n      <td></td>\n      <td></td>\n      <td></td>\n      <td>999</td>\n      <td>ecda63e5-7e98-414d-a289-a95031014129</td>\n      <td>af7cf757-ed3f-47b8-963a-c241fd129690</td>\n    </tr>\n  </tbody>\n</table>\n</div>",
                        "text/plain": "                                ts                    id  \\\n0 2019-11-19 09:04:29.207917+00:00  data_drift_magnitude   \n1 2019-11-19 09:04:29.207917+00:00       drift_magnitude   \n2 2019-11-19 09:04:29.207917+00:00    predicted_accuracy   \n\n                         measurement_id     value lower limit upper limit  \\\n0  0c2b2ee6-ca3d-4d55-bb80-4bd32ae7dc27  0.115385                           \n1  0c2b2ee6-ca3d-4d55-bb80-4bd32ae7dc27  0.000000                     0.1   \n2  0c2b2ee6-ca3d-4d55-bb80-4bd32ae7dc27  0.843846                           \n\n  tags binding_id                       subscription_id  \\\n0             999  ecda63e5-7e98-414d-a289-a95031014129   \n1             999  ecda63e5-7e98-414d-a289-a95031014129   \n2             999  ecda63e5-7e98-414d-a289-a95031014129   \n\n                          deployment_id  \n0  af7cf757-ed3f-47b8-963a-c241fd129690  \n1  af7cf757-ed3f-47b8-963a-c241fd129690  \n2  af7cf757-ed3f-47b8-963a-c241fd129690  "
                    },
                    "execution_count": 74,
                    "metadata": {},
                    "output_type": "execute_result"
                }
            ],
            "source": "subscription.drift_monitoring.get_table_content()"
        },
        {
            "cell_type": "markdown",
            "metadata": {},
            "source": "## Configure Explainability"
        },
        {
            "cell_type": "markdown",
            "metadata": {},
            "source": "Finally, we provide OpenScale with the training data to enable and configure the explainability features."
        },
        {
            "cell_type": "code",
            "execution_count": 75,
            "metadata": {
                "scrolled": true
            },
            "outputs": [],
            "source": "from ibm_ai_openscale.supporting_classes import *\nsubscription.explainability.enable(training_data=pd_data)"
        },
        {
            "cell_type": "code",
            "execution_count": 76,
            "metadata": {
                "scrolled": true
            },
            "outputs": [],
            "source": "explainability_details = subscription.explainability.get_details()"
        },
        {
            "cell_type": "markdown",
            "metadata": {},
            "source": "## Run explanation for sample record"
        },
        {
            "cell_type": "code",
            "execution_count": 77,
            "metadata": {},
            "outputs": [
                {
                    "name": "stdout",
                    "output_type": "stream",
                    "text": "c2f9c4f9-a3c4-4330-aad6-57ae657edbe8-1\n"
                }
            ],
            "source": "transaction_id = subscription.payload_logging.get_table_content(limit=1)['scoring_id'].values[0]\n\nprint(transaction_id)"
        },
        {
            "cell_type": "code",
            "execution_count": 78,
            "metadata": {},
            "outputs": [
                {
                    "name": "stdout",
                    "output_type": "stream",
                    "text": "\n\n====================================================================\n\n Looking for explanation for c2f9c4f9-a3c4-4330-aad6-57ae657edbe8-1 \n\n====================================================================\n\n\n\nin_progress...............\nfinished\n\n---------------------------\n Successfully finished run \n---------------------------\n\n\n"
                }
            ],
            "source": "explain_run = subscription.explainability.run(transaction_id=transaction_id, background_mode=False)"
        },
        {
            "cell_type": "code",
            "execution_count": 79,
            "metadata": {},
            "outputs": [
                {
                    "data": {
                        "image/png": "[encoded data removed]",
                        "text/plain": "<Figure size 432x288 with 1 Axes>"
                    },
                    "metadata": {
                        "needs_background": "light"
                    },
                    "output_type": "display_data"
                }
            ],
            "source": "if explain_run == None:\n    # explanation didn't finish within 180 seconds, if explaination is still not finished give it a minute or so then re-run this cell\n    time.sleep(10)\n    explain_table = subscription.explainability.get_table_content(format='pandas')\n    explain_result = pd.DataFrame.from_dict(explain_table[explain_table['transaction_id']==transaction_id]['explanation'][0]['entity']['predictions'][0]['explanation_features'])\nelse:\n    explain_result = pd.DataFrame.from_dict(explain_run['entity']['predictions'][0]['explanation_features'])\n\nexplain_result.plot.barh(x='feature_name', y='weight', color='g', alpha=0.8);"
        },
        {
            "cell_type": "markdown",
            "metadata": {},
            "source": "# Custom monitors and metrics <a name=\"custom\"></a>"
        },
        {
            "cell_type": "markdown",
            "metadata": {},
            "source": "## Register custom monitor"
        },
        {
            "cell_type": "code",
            "execution_count": 80,
            "metadata": {},
            "outputs": [],
            "source": "def get_definition(monitor_name):\n    monitors_definitions = ai_client.data_mart.monitors.get_details()['monitor_definitions']\n    \n    for definition in monitors_definitions:\n        if monitor_name == definition['entity']['name']:\n            return definition\n    \n    return None"
        },
        {
            "cell_type": "code",
            "execution_count": 81,
            "metadata": {},
            "outputs": [],
            "source": "from ibm_ai_openscale.supporting_classes import Metric, Tag\n\nmonitor_name = 'my model performance'\nmetrics = [Metric(name='sensitivity', lower_limit_default=0.8), Metric(name='specificity', lower_limit_default=0.75)]\ntags = [Tag(name='region', description='customer geographical region')]\n\nexisting_definition = get_definition(monitor_name)\n\nif existing_definition is None:\n    my_monitor = ai_client.data_mart.monitors.add(name=monitor_name, metrics=metrics, tags=tags)\nelse:\n    my_monitor = existing_definition"
        },
        {
            "cell_type": "markdown",
            "metadata": {},
            "source": "### List monitors"
        },
        {
            "cell_type": "markdown",
            "metadata": {},
            "source": "### Get monitors uids and details"
        },
        {
            "cell_type": "code",
            "execution_count": 82,
            "metadata": {},
            "outputs": [
                {
                    "name": "stdout",
                    "output_type": "stream",
                    "text": "my_model_performance\n"
                }
            ],
            "source": "monitor_uid = my_monitor['metadata']['guid']\n\nprint(monitor_uid)"
        },
        {
            "cell_type": "code",
            "execution_count": 83,
            "metadata": {},
            "outputs": [
                {
                    "name": "stdout",
                    "output_type": "stream",
                    "text": "monitor definition details {'entity': {'metrics': [{'expected_direction': 'increasing', 'id': 'sensitivity', 'name': 'sensitivity', 'required': True, 'thresholds': [{'default': 0.8, 'type': 'lower_limit'}]}, {'expected_direction': 'increasing', 'id': 'specificity', 'name': 'specificity', 'required': True, 'thresholds': [{'default': 0.75, 'type': 'lower_limit'}]}], 'name': 'my model performance', 'tags': [{'description': 'customer geographical region', 'id': 'region', 'name': 'region', 'required': True}]}, 'metadata': {'guid': 'my_model_performance', 'url': '/v1/data_marts/00000000-0000-0000-0000-000000000000/monitor_definitions/my_model_performance', 'created_at': '2019-11-19T09:08:05.961Z'}}\n"
                }
            ],
            "source": "my_monitor = ai_client.data_mart.monitors.get_details(monitor_uid=monitor_uid)\nprint('monitor definition details', my_monitor)"
        },
        {
            "cell_type": "markdown",
            "metadata": {},
            "source": "## Enable custom monitor for subscription"
        },
        {
            "cell_type": "code",
            "execution_count": 84,
            "metadata": {},
            "outputs": [],
            "source": "from ibm_ai_openscale.supporting_classes import Threshold\n\nthresholds = [Threshold(metric_uid='sensitivity', lower_limit=0.9)]\nsubscription.monitoring.enable(monitor_uid=monitor_uid, thresholds=thresholds)"
        },
        {
            "cell_type": "markdown",
            "metadata": {},
            "source": "### Get monitor configuration details"
        },
        {
            "cell_type": "code",
            "execution_count": 85,
            "metadata": {},
            "outputs": [
                {
                    "data": {
                        "text/plain": "{'enabled': True,\n 'monitor_definition': {'entity': {'metrics': [{'expected_direction': 'increasing',\n     'id': 'sensitivity',\n     'name': 'sensitivity',\n     'required': True,\n     'thresholds': [{'default': 0.9, 'type': 'lower_limit'}]},\n    {'expected_direction': 'increasing',\n     'id': 'specificity',\n     'name': 'specificity',\n     'required': True}],\n   'name': 'my model performance',\n   'tags': [{'description': 'customer geographical region',\n     'id': 'region',\n     'name': 'region',\n     'required': True}]},\n  'metadata': {'guid': 'my_model_performance',\n   'url': '/v1/data_marts/00000000-0000-0000-0000-000000000000/monitor_definitions/my_model_performance',\n   'created_at': '2019-11-19T09:08:05.961Z'}},\n 'thresholds': [{'metric_id': 'sensitivity',\n   'type': 'lower_limit',\n   'value': 0.9}]}"
                    },
                    "execution_count": 85,
                    "metadata": {},
                    "output_type": "execute_result"
                }
            ],
            "source": "subscription.monitoring.get_details(monitor_uid=monitor_uid)"
        },
        {
            "cell_type": "markdown",
            "metadata": {},
            "source": "## Storing custom metrics"
        },
        {
            "cell_type": "code",
            "execution_count": 86,
            "metadata": {},
            "outputs": [
                {
                    "data": {
                        "text/plain": "[{'asset_id': '81be95c8-fa11-42ae-b0c1-7fda70305570',\n  'binding_id': '999',\n  'measurement_id': '99f9fcd9-aa49-42d7-a87e-4127a19f9f86',\n  'metrics': [{'region': 'us-south',\n    'sensitivity': 0.67,\n    'specificity': 0.78}],\n  'monitor_definition_id': 'my_model_performance',\n  'subscription_id': 'ecda63e5-7e98-414d-a289-a95031014129',\n  'timestamp': '2019-11-19T09:08:08.938193Z'}]"
                    },
                    "execution_count": 86,
                    "metadata": {},
                    "output_type": "execute_result"
                }
            ],
            "source": "metrics = {\"specificity\": 0.78, \"sensitivity\": 0.67, \"region\": \"us-south\"}\n\nsubscription.monitoring.store_metrics(monitor_uid=monitor_uid, metrics=metrics)"
        },
        {
            "cell_type": "markdown",
            "metadata": {},
            "source": "### List and get custom metrics"
        },
        {
            "cell_type": "code",
            "execution_count": 87,
            "metadata": {},
            "outputs": [
                {
                    "data": {
                        "text/html": "<HTML>\n        <body>\n            <h3>CustomMetrics (binding_id=999, subscription_id=ecda63e5-7e98-414d-a289-a95031014129)</h3>\n            <table style='border: 1px solid #dddddd; font-family: Courier'>\n                <th style='border: 1px solid #dddddd'>ts</th><th style='border: 1px solid #dddddd'>id</th><th style='border: 1px solid #dddddd'>measurement_id</th><th style='border: 1px solid #dddddd'>value</th><th style='border: 1px solid #dddddd'>lower limit</th><th style='border: 1px solid #dddddd'>upper limit</th><th style='border: 1px solid #dddddd'>tags</th><th style='border: 1px solid #dddddd'>binding_id</th><th style='border: 1px solid #dddddd'>subscription_id</th><th style='border: 1px solid #dddddd'>deployment_id</th>\n                <tr><td style='border: 1px solid #dddddd'>2019-11-19 09:08:08.938193+00:00</td><td style='border: 1px solid #dddddd'>sensitivity</td><td style='border: 1px solid #dddddd'>99f9fcd9-aa49-42d7-a87e-4127a19f9f86</td><td style='border: 1px solid #dddddd'>0.67</td><td style='border: 1px solid #dddddd'>0.9</td><td style='border: 1px solid #dddddd'></td><td style='border: 1px solid #dddddd'>region: us-south</td><td style='border: 1px solid #dddddd'>999</td><td style='border: 1px solid #dddddd'>ecda63e5-7e98-414d-a289-a95031014129</td><td style='border: 1px solid #dddddd'>af7cf757-ed3f-47b8-963a-c241fd129690</td></tr><tr><td style='border: 1px solid #dddddd'>2019-11-19 09:08:08.938193+00:00</td><td style='border: 1px solid #dddddd'>specificity</td><td style='border: 1px solid #dddddd'>99f9fcd9-aa49-42d7-a87e-4127a19f9f86</td><td style='border: 1px solid #dddddd'>0.78</td><td style='border: 1px solid #dddddd'></td><td style='border: 1px solid #dddddd'></td><td style='border: 1px solid #dddddd'>region: us-south</td><td style='border: 1px solid #dddddd'>999</td><td style='border: 1px solid #dddddd'>ecda63e5-7e98-414d-a289-a95031014129</td><td style='border: 1px solid #dddddd'>af7cf757-ed3f-47b8-963a-c241fd129690</td></tr>\n            </table>\n        </body>\n        </HTML>",
                        "text/plain": "<IPython.core.display.HTML object>"
                    },
                    "metadata": {},
                    "output_type": "display_data"
                }
            ],
            "source": "subscription.monitoring.show_table(monitor_uid=monitor_uid)"
        },
        {
            "cell_type": "code",
            "execution_count": 88,
            "metadata": {},
            "outputs": [
                {
                    "data": {
                        "text/plain": "[{'asset_id': '81be95c8-fa11-42ae-b0c1-7fda70305570',\n  'binding_id': '999',\n  'tags': [{'id': 'region', 'value': 'us-south'}],\n  'ts': '2019-11-19T09:08:08.938193Z',\n  'measurement_id': '99f9fcd9-aa49-42d7-a87e-4127a19f9f86',\n  'monitor_definition_id': 'my_model_performance',\n  'subscription_id': 'ecda63e5-7e98-414d-a289-a95031014129',\n  'metrics': [{'lower_limit': 0.9, 'id': 'sensitivity', 'value': 0.67},\n   {'id': 'specificity', 'value': 0.78}]}]"
                    },
                    "execution_count": 88,
                    "metadata": {},
                    "output_type": "execute_result"
                }
            ],
            "source": "custom_metrics = subscription.monitoring.get_metrics(monitor_uid=monitor_uid, deployment_uid='credit')\ncustom_metrics"
        },
        {
            "cell_type": "code",
            "execution_count": 89,
            "metadata": {},
            "outputs": [
                {
                    "data": {
                        "image/png": "[encoded data removed]",
                        "text/plain": "<Figure size 432x288 with 1 Axes>"
                    },
                    "metadata": {
                        "needs_background": "light"
                    },
                    "output_type": "display_data"
                }
            ],
            "source": "custom_metrics_pandas = subscription.monitoring.get_table_content(monitor_uid=monitor_uid)\n\n%matplotlib inline\ncustom_metrics_pandas.plot.barh(x='id', y='value');"
        },
        {
            "cell_type": "markdown",
            "metadata": {},
            "source": "# Payload analytics <a name=\"analytics\"></a>"
        },
        {
            "cell_type": "markdown",
            "metadata": {},
            "source": "## Run data distributions calculation"
        },
        {
            "cell_type": "code",
            "execution_count": 90,
            "metadata": {},
            "outputs": [
                {
                    "name": "stdout",
                    "output_type": "stream",
                    "text": "\n\n===============================================================================\n\n Waiting for end of data distribution run 543f7a4f-3ad9-4b3f-b8db-54bf7c962d11 \n\n===============================================================================\n\n\n\nrunning\ncompleted\n\n---------------------------\n Successfully finished run \n---------------------------\n\n\n"
                }
            ],
            "source": "from datetime import datetime\n\nstart_date = \"2018-01-01T00:00:00.00Z\"\nend_date = datetime.utcnow().isoformat() + \"Z\"\n\nsex_distribution = subscription.payload_logging.data_distribution.run(\n            start_date=start_date,\n            end_date=end_date,\n            group=['predictedLabel', 'Sex'],\n            agg=['count'])"
        },
        {
            "cell_type": "markdown",
            "metadata": {},
            "source": "## Get data distributions as pandas dataframe"
        },
        {
            "cell_type": "code",
            "execution_count": 91,
            "metadata": {},
            "outputs": [
                {
                    "data": {
                        "text/html": "<div>\n<style scoped>\n    .dataframe tbody tr th:only-of-type {\n        vertical-align: middle;\n    }\n\n    .dataframe tbody tr th {\n        vertical-align: top;\n    }\n\n    .dataframe thead th {\n        text-align: right;\n    }\n</style>\n<table border=\"1\" class=\"dataframe\">\n  <thead>\n    <tr style=\"text-align: right;\">\n      <th></th>\n      <th>predictedLabel</th>\n      <th>Sex</th>\n      <th>count</th>\n    </tr>\n  </thead>\n  <tbody>\n    <tr>\n      <th>0</th>\n      <td>No Risk</td>\n      <td>female</td>\n      <td>76</td>\n    </tr>\n    <tr>\n      <th>1</th>\n      <td>No Risk</td>\n      <td>male</td>\n      <td>82</td>\n    </tr>\n    <tr>\n      <th>2</th>\n      <td>Risk</td>\n      <td>female</td>\n      <td>6</td>\n    </tr>\n    <tr>\n      <th>3</th>\n      <td>Risk</td>\n      <td>male</td>\n      <td>44</td>\n    </tr>\n  </tbody>\n</table>\n</div>",
                        "text/plain": "  predictedLabel     Sex  count\n0        No Risk  female     76\n1        No Risk    male     82\n2           Risk  female      6\n3           Risk    male     44"
                    },
                    "execution_count": 91,
                    "metadata": {},
                    "output_type": "execute_result"
                }
            ],
            "source": "sex_distribution_run_uid = sex_distribution['id']\ndistributions_pd = subscription.payload_logging.data_distribution.get_run_result(run_id=sex_distribution_run_uid, format='pandas')\ndistributions_pd"
        },
        {
            "cell_type": "code",
            "execution_count": 92,
            "metadata": {},
            "outputs": [
                {
                    "data": {
                        "image/png": "[encoded data removed]",
                        "text/plain": "<Figure size 432x288 with 1 Axes>"
                    },
                    "metadata": {
                        "needs_background": "light"
                    },
                    "output_type": "display_data"
                }
            ],
            "source": "subscription.payload_logging.data_distribution.show_chart(sex_distribution_run_uid);"
        },
        {
            "cell_type": "code",
            "execution_count": 93,
            "metadata": {},
            "outputs": [
                {
                    "name": "stdout",
                    "output_type": "stream",
                    "text": "\n\n===============================================================================\n\n Waiting for end of data distribution run 2ec8d5e1-db5a-4dbc-a40a-21f6f92cc315 \n\n===============================================================================\n\n\n\nrunning\ncompleted\n\n---------------------------\n Successfully finished run \n---------------------------\n\n\n"
                }
            ],
            "source": "credit_history_distribution = subscription.payload_logging.data_distribution.run(\n            start_date=start_date,\n            end_date=end_date,\n            group=['predictedLabel', 'CreditHistory'],\n            agg=['count'])"
        },
        {
            "cell_type": "code",
            "execution_count": 94,
            "metadata": {},
            "outputs": [
                {
                    "data": {
                        "image/png": "[encoded data removed]",
                        "text/plain": "<Figure size 432x288 with 1 Axes>"
                    },
                    "metadata": {
                        "needs_background": "light"
                    },
                    "output_type": "display_data"
                }
            ],
            "source": "credit_history_distribution_run_uid = credit_history_distribution['id']\n\nsubscription.payload_logging.data_distribution.show_chart(credit_history_distribution_run_uid);"
        },
        {
            "cell_type": "markdown",
            "metadata": {},
            "source": "# Historical data <a name=\"historical\"></a>"
        },
        {
            "cell_type": "markdown",
            "metadata": {},
            "source": " ## Insert historical payloads"
        },
        {
            "cell_type": "markdown",
            "metadata": {},
            "source": "The next section of the notebook downloads and writes historical data to the payload and measurement tables to simulate a production model that has been monitored and receiving regular traffic for the last seven days. This historical data can be viewed in the Watson OpenScale user interface. The code uses the Python and REST APIs to write this data."
        },
        {
            "cell_type": "code",
            "execution_count": 95,
            "metadata": {
                "scrolled": true
            },
            "outputs": [
                {
                    "name": "stdout",
                    "output_type": "stream",
                    "text": "rm: history_payloads*.json: No such file or directory\nWarning: Failed to set locale category LC_NUMERIC to en_PL.\nWarning: Failed to set locale category LC_TIME to en_PL.\nWarning: Failed to set locale category LC_COLLATE to en_PL.\nWarning: Failed to set locale category LC_MONETARY to en_PL.\nWarning: Failed to set locale category LC_MESSAGES to en_PL.\n--2019-11-19 10:08:38--  https://raw.githubusercontent.com/pmservice/ai-openscale-tutorials/master/assets/historical_data/german_credit_risk/wml/history_payloads_0.json\nResolving raw.githubusercontent.com (raw.githubusercontent.com)... 199.232.36.133\nConnecting to raw.githubusercontent.com (raw.githubusercontent.com)|199.232.36.133|:443... connected.\nHTTP request sent, awaiting response... 200 OK\nLength: 5018899 (4.8M) [text/plain]\nSaving to: \u2018history_payloads_0.json\u2019\n\nhistory_payloads_0. 100%[===================>]   4.79M  1.09MB/s    in 6.1s    \n\n2019-11-19 10:08:45 (799 KB/s) - \u2018history_payloads_0.json\u2019 saved [5018899/5018899]\n\nWarning: Failed to set locale category LC_NUMERIC to en_PL.\nWarning: Failed to set locale category LC_TIME to en_PL.\nWarning: Failed to set locale category LC_COLLATE to en_PL.\nWarning: Failed to set locale category LC_MONETARY to en_PL.\nWarning: Failed to set locale category LC_MESSAGES to en_PL.\n--2019-11-19 10:08:45--  https://raw.githubusercontent.com/pmservice/ai-openscale-tutorials/master/assets/historical_data/german_credit_risk/wml/history_payloads_1.json\nResolving raw.githubusercontent.com (raw.githubusercontent.com)... 199.232.36.133\nConnecting to raw.githubusercontent.com (raw.githubusercontent.com)|199.232.36.133|:443... connected.\nHTTP request sent, awaiting response... 200 OK\nLength: 5016854 (4.8M) [text/plain]\nSaving to: \u2018history_payloads_1.json\u2019\n\nhistory_payloads_1. 100%[===================>]   4.78M   997KB/s    in 6.2s    \n\n2019-11-19 10:08:52 (790 KB/s) - \u2018history_payloads_1.json\u2019 saved [5016854/5016854]\n\nWarning: Failed to set locale category LC_NUMERIC to en_PL.\nWarning: Failed to set locale category LC_TIME to en_PL.\nWarning: Failed to set locale category LC_COLLATE to en_PL.\nWarning: Failed to set locale category LC_MONETARY to en_PL.\nWarning: Failed to set locale category LC_MESSAGES to en_PL.\n--2019-11-19 10:08:53--  https://raw.githubusercontent.com/pmservice/ai-openscale-tutorials/master/assets/historical_data/german_credit_risk/wml/history_payloads_2.json\nResolving raw.githubusercontent.com (raw.githubusercontent.com)... 199.232.36.133\nConnecting to raw.githubusercontent.com (raw.githubusercontent.com)|199.232.36.133|:443... connected.\nHTTP request sent, awaiting response... 200 OK\nLength: 5019688 (4.8M) [text/plain]\nSaving to: \u2018history_payloads_2.json\u2019\n\nhistory_payloads_2. 100%[===================>]   4.79M  1.32MB/s    in 4.1s    \n\n2019-11-19 10:08:57 (1.18 MB/s) - \u2018history_payloads_2.json\u2019 saved [5019688/5019688]\n\nWarning: Failed to set locale category LC_NUMERIC to en_PL.\nWarning: Failed to set locale category LC_TIME to en_PL.\nWarning: Failed to set locale category LC_COLLATE to en_PL.\nWarning: Failed to set locale category LC_MONETARY to en_PL.\nWarning: Failed to set locale category LC_MESSAGES to en_PL.\n--2019-11-19 10:08:57--  https://raw.githubusercontent.com/pmservice/ai-openscale-tutorials/master/assets/historical_data/german_credit_risk/wml/history_payloads_3.json\nResolving raw.githubusercontent.com (raw.githubusercontent.com)... 199.232.36.133\nConnecting to raw.githubusercontent.com (raw.githubusercontent.com)|199.232.36.133|:443... connected.\nHTTP request sent, awaiting response... 200 OK\nLength: 5019821 (4.8M) [text/plain]\nSaving to: \u2018history_payloads_3.json\u2019\n\nhistory_payloads_3. 100%[===================>]   4.79M  1.15MB/s    in 5.0s    \n\n2019-11-19 10:09:03 (985 KB/s) - \u2018history_payloads_3.json\u2019 saved [5019821/5019821]\n\nWarning: Failed to set locale category LC_NUMERIC to en_PL.\nWarning: Failed to set locale category LC_TIME to en_PL.\nWarning: Failed to set locale category LC_COLLATE to en_PL.\nWarning: Failed to set locale category LC_MONETARY to en_PL.\nWarning: Failed to set locale category LC_MESSAGES to en_PL.\n--2019-11-19 10:09:03--  https://raw.githubusercontent.com/pmservice/ai-openscale-tutorials/master/assets/historical_data/german_credit_risk/wml/history_payloads_4.json\nResolving raw.githubusercontent.com (raw.githubusercontent.com)... 199.232.36.133\nConnecting to raw.githubusercontent.com (raw.githubusercontent.com)|199.232.36.133|:443... connected.\nHTTP request sent, awaiting response... 200 OK\nLength: 5018809 (4.8M) [text/plain]\nSaving to: \u2018history_payloads_4.json\u2019\n\nhistory_payloads_4. 100%[===================>]   4.79M  1.32MB/s    in 4.1s    \n\n2019-11-19 10:09:08 (1.17 MB/s) - \u2018history_payloads_4.json\u2019 saved [5018809/5018809]\n\nWarning: Failed to set locale category LC_NUMERIC to en_PL.\nWarning: Failed to set locale category LC_TIME to en_PL.\nWarning: Failed to set locale category LC_COLLATE to en_PL.\nWarning: Failed to set locale category LC_MONETARY to en_PL.\nWarning: Failed to set locale category LC_MESSAGES to en_PL.\n--2019-11-19 10:09:08--  https://raw.githubusercontent.com/pmservice/ai-openscale-tutorials/master/assets/historical_data/german_credit_risk/wml/history_payloads_5.json\nResolving raw.githubusercontent.com (raw.githubusercontent.com)... 199.232.36.133\nConnecting to raw.githubusercontent.com (raw.githubusercontent.com)|199.232.36.133|:443... connected.\nHTTP request sent, awaiting response... 200 OK\nLength: 5020223 (4.8M) [text/plain]\nSaving to: \u2018history_payloads_5.json\u2019\n\nhistory_payloads_5. 100%[===================>]   4.79M  1.79MB/s    in 2.7s    \n\n2019-11-19 10:09:12 (1.79 MB/s) - \u2018history_payloads_5.json\u2019 saved [5020223/5020223]\n\nWarning: Failed to set locale category LC_NUMERIC to en_PL.\nWarning: Failed to set locale category LC_TIME to en_PL.\nWarning: Failed to set locale category LC_COLLATE to en_PL.\nWarning: Failed to set locale category LC_MONETARY to en_PL.\nWarning: Failed to set locale category LC_MESSAGES to en_PL.\n--2019-11-19 10:09:12--  https://raw.githubusercontent.com/pmservice/ai-openscale-tutorials/master/assets/historical_data/german_credit_risk/wml/history_payloads_6.json\nResolving raw.githubusercontent.com (raw.githubusercontent.com)... 199.232.36.133\nConnecting to raw.githubusercontent.com (raw.githubusercontent.com)|199.232.36.133|:443... connected.\nHTTP request sent, awaiting response... 200 OK\nLength: 5019217 (4.8M) [text/plain]\nSaving to: \u2018history_payloads_6.json\u2019\n\nhistory_payloads_6. 100%[===================>]   4.79M  1.15MB/s    in 4.5s    \n\n2019-11-19 10:09:17 (1.07 MB/s) - \u2018history_payloads_6.json\u2019 saved [5019217/5019217]\n\n"
                }
            ],
            "source": "!rm history_payloads*.json\n!wget https://raw.githubusercontent.com/pmservice/ai-openscale-tutorials/master/assets/historical_data/german_credit_risk/wml/history_payloads_0.json\n!wget https://raw.githubusercontent.com/pmservice/ai-openscale-tutorials/master/assets/historical_data/german_credit_risk/wml/history_payloads_1.json\n!wget https://raw.githubusercontent.com/pmservice/ai-openscale-tutorials/master/assets/historical_data/german_credit_risk/wml/history_payloads_2.json\n!wget https://raw.githubusercontent.com/pmservice/ai-openscale-tutorials/master/assets/historical_data/german_credit_risk/wml/history_payloads_3.json\n!wget https://raw.githubusercontent.com/pmservice/ai-openscale-tutorials/master/assets/historical_data/german_credit_risk/wml/history_payloads_4.json\n!wget https://raw.githubusercontent.com/pmservice/ai-openscale-tutorials/master/assets/historical_data/german_credit_risk/wml/history_payloads_5.json\n!wget https://raw.githubusercontent.com/pmservice/ai-openscale-tutorials/master/assets/historical_data/german_credit_risk/wml/history_payloads_6.json"
        },
        {
            "cell_type": "code",
            "execution_count": 96,
            "metadata": {
                "scrolled": true
            },
            "outputs": [],
            "source": "historyDays = 7"
        },
        {
            "cell_type": "code",
            "execution_count": 97,
            "metadata": {
                "scrolled": false
            },
            "outputs": [
                {
                    "name": "stdout",
                    "output_type": "stream",
                    "text": "Loading day 1\nLoading day 2\nLoading day 3\nLoading day 4\nLoading day 5\nLoading day 6\nLoading day 7\nFinished\n"
                }
            ],
            "source": "from ibm_ai_openscale.supporting_classes import PayloadRecord, Feature\nimport datetime\nimport time\n\nfor day in range(historyDays):\n    print('Loading day {}'.format(day + 1))\n    history_file = 'history_payloads_' + str(day) + '.json'\n    with open(history_file) as f:\n        payloads = json.load(f)\n        hourly_records = int(len(payloads) / 24)\n        index = 0\n        for hour in range(24):\n            recordsList = []\n            for i in range(hourly_records):\n                score_time = str(datetime.datetime.utcnow() + datetime.timedelta(hours=(-(24*day + hour + 1))))\n                recordsList.append(PayloadRecord(request=payloads[index]['request'], response=payloads[index]['response'], scoring_timestamp=score_time))\n                index += 1\n            subscription.payload_logging.store(records=recordsList)\nprint('Finished')"
        },
        {
            "cell_type": "code",
            "execution_count": 98,
            "metadata": {
                "scrolled": true
            },
            "outputs": [
                {
                    "name": "stdout",
                    "output_type": "stream",
                    "text": "00000000-0000-0000-0000-000000000000\n"
                }
            ],
            "source": "data_mart_id = subscription.get_details()['metadata']['url'].split('/service_bindings')[0].split('marts/')[1]\nprint(data_mart_id)"
        },
        {
            "cell_type": "code",
            "execution_count": 99,
            "metadata": {
                "scrolled": true
            },
            "outputs": [
                {
                    "name": "stdout",
                    "output_type": "stream",
                    "text": "https://namespace1-cpd-namespace1.apps.zloct36-lb-1.fyre.ibm.com/v1/data_marts/00000000-0000-0000-0000-000000000000/metrics\n"
                }
            ],
            "source": "performance_metrics_url = WOS_CREDENTIALS['url'] + subscription.get_details()['metadata']['url'].split('/service_bindings')[0] + '/metrics'\nprint(performance_metrics_url)"
        },
        {
            "cell_type": "markdown",
            "metadata": {},
            "source": "## Insert historical fairness metrics"
        },
        {
            "cell_type": "code",
            "execution_count": 100,
            "metadata": {},
            "outputs": [
                {
                    "name": "stdout",
                    "output_type": "stream",
                    "text": "rm: history_fairness.json: No such file or directory\nWarning: Failed to set locale category LC_NUMERIC to en_PL.\nWarning: Failed to set locale category LC_TIME to en_PL.\nWarning: Failed to set locale category LC_COLLATE to en_PL.\nWarning: Failed to set locale category LC_MONETARY to en_PL.\nWarning: Failed to set locale category LC_MESSAGES to en_PL.\n--2019-11-19 10:12:14--  https://raw.githubusercontent.com/pmservice/ai-openscale-tutorials/master/assets/historical_data/german_credit_risk/wml/history_fairness.json\nResolving raw.githubusercontent.com (raw.githubusercontent.com)... 199.232.36.133\nConnecting to raw.githubusercontent.com (raw.githubusercontent.com)|199.232.36.133|:443... connected.\nHTTP request sent, awaiting response... 200 OK\nLength: 1424078 (1.4M) [text/plain]\nSaving to: \u2018history_fairness.json\u2019\n\nhistory_fairness.js 100%[===================>]   1.36M   710KB/s    in 2.0s    \n\n2019-11-19 10:12:17 (710 KB/s) - \u2018history_fairness.json\u2019 saved [1424078/1424078]\n\n"
                }
            ],
            "source": "!rm history_fairness.json\n!wget https://raw.githubusercontent.com/pmservice/ai-openscale-tutorials/master/assets/historical_data/german_credit_risk/wml/history_fairness.json"
        },
        {
            "cell_type": "code",
            "execution_count": 101,
            "metadata": {},
            "outputs": [],
            "source": "from requests.auth import HTTPBasicAuth\n\ndef create_token():\n    header = {\n                    \"Content-Type\": \"application/x-www-form-urlencoded\",\n                    \"Accept\": \"application/json\"\n    }\n\n    response = requests_session.get(\n            WOS_CREDENTIALS['url'] + '/v1/preauth/validateAuth',\n            headers=header,\n            auth=HTTPBasicAuth(\n                WOS_CREDENTIALS['username'],\n                WOS_CREDENTIALS['password']\n            ),\n            verify=False)\n\n    response = handle_response(200, 'access token', response, True)\n    token = response['accessToken']\n\n    return token"
        },
        {
            "cell_type": "code",
            "execution_count": 102,
            "metadata": {
                "scrolled": true
            },
            "outputs": [
                {
                    "name": "stdout",
                    "output_type": "stream",
                    "text": "Loading day 1\nLoading day 2\nLoading day 3\nLoading day 4\nLoading day 5\nLoading day 6\nLoading day 7\nFinished\n"
                }
            ],
            "source": "iam_token = create_token()\niam_headers = {\n    'Content-Type': 'application/json',\n    'Authorization': 'Bearer %s' % iam_token\n}\n\nwith open('history_fairness.json', 'r') as history_file:\n    payloads = json.load(history_file)\n\nfor day in range(historyDays):\n    print('Loading day', day + 1)\n    for hour in range(24):\n        score_time = (datetime.datetime.utcnow() + datetime.timedelta(hours=(-(24*day + hour + 1)))).strftime('%Y-%m-%dT%H:%M:%SZ')\n        index = (day * 24 + hour) % len(payloads) # wrap around and reuse values if needed\n        \n        qualityMetric = {\n            'metric_type': 'fairness',\n            'binding_id': binding_uid,\n            'timestamp': score_time,\n            'subscription_id': model_uid,\n            'asset_revision': model_uid,\n            'deployment_id': deployment_uid,\n            'value': payloads[index]\n        }\n\n        response = requests.post(performance_metrics_url, json=[qualityMetric], headers=iam_headers, verify=False)\n\nprint('Finished')"
        },
        {
            "cell_type": "markdown",
            "metadata": {},
            "source": "## Insert historical debias metrics"
        },
        {
            "cell_type": "code",
            "execution_count": 103,
            "metadata": {},
            "outputs": [
                {
                    "name": "stdout",
                    "output_type": "stream",
                    "text": "rm: history_debias.json: No such file or directory\nWarning: Failed to set locale category LC_NUMERIC to en_PL.\nWarning: Failed to set locale category LC_TIME to en_PL.\nWarning: Failed to set locale category LC_COLLATE to en_PL.\nWarning: Failed to set locale category LC_MONETARY to en_PL.\nWarning: Failed to set locale category LC_MESSAGES to en_PL.\n--2019-11-19 10:15:43--  https://raw.githubusercontent.com/pmservice/ai-openscale-tutorials/master/assets/historical_data/german_credit_risk/wml/history_debias.json\nResolving raw.githubusercontent.com (raw.githubusercontent.com)... 199.232.36.133\nConnecting to raw.githubusercontent.com (raw.githubusercontent.com)|199.232.36.133|:443... connected.\nHTTP request sent, awaiting response... 200 OK\nLength: 565971 (553K) [text/plain]\nSaving to: \u2018history_debias.json\u2019\n\nhistory_debias.json 100%[===================>] 552.71K   492KB/s    in 1.1s    \n\n2019-11-19 10:15:45 (492 KB/s) - \u2018history_debias.json\u2019 saved [565971/565971]\n\n"
                }
            ],
            "source": "!rm history_debias.json\n!wget https://raw.githubusercontent.com/pmservice/ai-openscale-tutorials/master/assets/historical_data/german_credit_risk/wml/history_debias.json"
        },
        {
            "cell_type": "code",
            "execution_count": 104,
            "metadata": {},
            "outputs": [
                {
                    "name": "stdout",
                    "output_type": "stream",
                    "text": "Loading day 1\nLoading day 2\nLoading day 3\nLoading day 4\nLoading day 5\nLoading day 6\nLoading day 7\nFinished\n"
                }
            ],
            "source": "iam_token = create_token()\niam_headers = {\n    'Content-Type': 'application/json',\n    'Authorization': 'Bearer %s' % iam_token\n}\n\nwith open('history_debias.json', 'r') as history_file:\n    payloads = json.load(history_file)\n\nfor day in range(historyDays):\n    print('Loading day', day + 1)\n    for hour in range(24):\n        score_time = (datetime.datetime.utcnow() + datetime.timedelta(hours=(-(24*day + hour + 1)))).strftime('%Y-%m-%dT%H:%M:%SZ')\n        index = (day * 24 + hour) % len(payloads) # wrap around and reuse values if needed\n\n        qualityMetric = {\n            'metric_type': 'debiased_fairness',\n            'binding_id': binding_uid,\n            'timestamp': score_time,\n            'subscription_id': model_uid,\n            'asset_revision': model_uid,\n            'deployment_id': deployment_uid,\n            'value': payloads[index]\n        }\n\n        response = requests.post(performance_metrics_url, json=[qualityMetric], headers=iam_headers, verify=False)\nprint('Finished')"
        },
        {
            "cell_type": "markdown",
            "metadata": {},
            "source": "## Insert historical quality metrics"
        },
        {
            "cell_type": "code",
            "execution_count": 105,
            "metadata": {
                "scrolled": true
            },
            "outputs": [
                {
                    "name": "stdout",
                    "output_type": "stream",
                    "text": "Day 1\nDay 2\nDay 3\nDay 4\nDay 5\nDay 6\nDay 7\nFinished\n"
                }
            ],
            "source": "iam_token = create_token()\niam_headers = {\n    'Content-Type': 'application/json',\n    'Authorization': 'Bearer %s' % iam_token\n}\n\nmeasurements = [0.76, 0.78, 0.68, 0.72, 0.73, 0.77, 0.80]\nfor day in range(historyDays):\n    print('Day', day + 1)\n    for hour in range(24):\n        score_time = (datetime.datetime.utcnow() + datetime.timedelta(hours=(-(24*day + hour + 1)))).strftime('%Y-%m-%dT%H:%M:%SZ')\n        qualityMetric = {\n            'metric_type': 'quality',\n            'binding_id': binding_uid,\n            'timestamp': score_time,\n            'subscription_id': model_uid,\n            'asset_revision': model_uid,\n            'deployment_id': deployment_uid,\n            'value': {\n                'quality': measurements[day],\n                'threshold': 0.7,\n                'metrics': [\n                    {\n                        'name': 'auroc',\n                        'value': measurements[day],\n                        'threshold': 0.7\n                    }\n                ]\n            }\n        }\n\n        response = requests.post(performance_metrics_url, json=[qualityMetric], headers=iam_headers, verify=False)\nprint('Finished')"
        },
        {
            "cell_type": "markdown",
            "metadata": {},
            "source": "## Insert historical confusion matrixes"
        },
        {
            "cell_type": "code",
            "execution_count": 106,
            "metadata": {},
            "outputs": [
                {
                    "name": "stdout",
                    "output_type": "stream",
                    "text": "rm: history_quality_metrics.json: No such file or directory\nWarning: Failed to set locale category LC_NUMERIC to en_PL.\nWarning: Failed to set locale category LC_TIME to en_PL.\nWarning: Failed to set locale category LC_COLLATE to en_PL.\nWarning: Failed to set locale category LC_MONETARY to en_PL.\nWarning: Failed to set locale category LC_MESSAGES to en_PL.\n--2019-11-19 10:20:28--  https://raw.githubusercontent.com/pmservice/ai-openscale-tutorials/master/assets/historical_data/german_credit_risk/wos/history_quality_metrics.json\nResolving raw.githubusercontent.com (raw.githubusercontent.com)... 199.232.36.133\nConnecting to raw.githubusercontent.com (raw.githubusercontent.com)|199.232.36.133|:443... connected.\nHTTP request sent, awaiting response... 200 OK\nLength: 80099 (78K) [text/plain]\nSaving to: \u2018history_quality_metrics.json\u2019\n\nhistory_quality_met 100%[===================>]  78.22K   225KB/s    in 0.3s    \n\n2019-11-19 10:20:29 (225 KB/s) - \u2018history_quality_metrics.json\u2019 saved [80099/80099]\n\n"
                }
            ],
            "source": "!rm history_quality_metrics.json\n!wget https://raw.githubusercontent.com/pmservice/ai-openscale-tutorials/master/assets/historical_data/german_credit_risk/wos/history_quality_metrics.json"
        },
        {
            "cell_type": "code",
            "execution_count": 107,
            "metadata": {},
            "outputs": [
                {
                    "name": "stdout",
                    "output_type": "stream",
                    "text": "https://namespace1-cpd-namespace1.apps.zloct36-lb-1.fyre.ibm.com/v1/data_marts/00000000-0000-0000-0000-000000000000/measurements\n"
                }
            ],
            "source": "measurements_url = WOS_CREDENTIALS['url'] + subscription.get_details()['metadata']['url'].split('/service_bindings')[0] + '/measurements'\nprint(measurements_url)"
        },
        {
            "cell_type": "code",
            "execution_count": 108,
            "metadata": {},
            "outputs": [
                {
                    "name": "stdout",
                    "output_type": "stream",
                    "text": "Day 1\nDay 2\nDay 3\nDay 4\nDay 5\nDay 6\nDay 7\nFinished\n"
                }
            ],
            "source": "with open('history_quality_metrics.json') as json_file:\n    records = json.load(json_file)\n\nfor day in range(historyDays):\n    index = 0\n    measurments = []\n    print('Day', day + 1)\n    \n    for hour in range(24):\n        score_time = (datetime.datetime.utcnow() + datetime.timedelta(hours=(-(24*day + hour + 1)))).strftime('%Y-%m-%dT%H:%M:%SZ')\n\n        measurement = {\n            \"monitor_definition_id\": 'quality',\n            \"binding_id\": subscription.binding_uid,\n            \"subscription_id\": subscription.uid,\n            \"asset_id\": subscription.source_uid,\n            'metrics': [records[index]['metrics']],\n            'sources': [records[index]['sources']],\n            'timestamp': score_time\n        }\n\n        measurments.append(measurement)\n        index+=1\n\n    response = requests.post(measurements_url, json=measurments, headers=ai_client._get_headers(), verify=False)\n\nprint('Finished')"
        },
        {
            "cell_type": "markdown",
            "metadata": {},
            "source": "## Insert historical performance metrics"
        },
        {
            "cell_type": "code",
            "execution_count": 109,
            "metadata": {
                "scrolled": true
            },
            "outputs": [
                {
                    "name": "stdout",
                    "output_type": "stream",
                    "text": "Day 1\nDay 2\nDay 3\nDay 4\nDay 5\nDay 6\nDay 7\nFinished\n"
                }
            ],
            "source": "iam_token = create_token()\niam_headers = {\n    'Content-Type': 'application/json',\n    'Authorization': 'Bearer %s' % iam_token\n}\n\nfor day in range(historyDays):\n    print('Day', day + 1)\n    for hour in range(24):\n        score_time = (datetime.datetime.utcnow() + datetime.timedelta(hours=(-(24*day + hour + 1)))).strftime('%Y-%m-%dT%H:%M:%SZ')\n        score_count = random.randint(60, 600)\n        score_resp = random.uniform(60, 300)\n\n        performanceMetric = {\n            'metric_type': 'performance',\n            'binding_id': binding_uid,\n            'timestamp': score_time,\n            'subscription_id': model_uid,\n            'asset_revision': model_uid,\n            'deployment_id': deployment_uid,\n            'value': {\n                'response_time': score_resp,\n                'records': score_count\n            }\n        }\n\n        response = requests.post(performance_metrics_url, json=[performanceMetric], headers=iam_headers, verify=False)\nprint('Finished')"
        },
        {
            "cell_type": "markdown",
            "metadata": {},
            "source": "## Insert historical manual labeling"
        },
        {
            "cell_type": "code",
            "execution_count": 110,
            "metadata": {},
            "outputs": [
                {
                    "name": "stdout",
                    "output_type": "stream",
                    "text": "https://namespace1-cpd-namespace1.apps.zloct36-lb-1.fyre.ibm.com/v1/data_marts/00000000-0000-0000-0000-000000000000/manual_labelings\n"
                }
            ],
            "source": "manual_labeling_url = WOS_CREDENTIALS['url'] + subscription.get_details()['metadata']['url'].split('/service_bindings')[0] + '/manual_labelings'\nprint(manual_labeling_url)"
        },
        {
            "cell_type": "code",
            "execution_count": 111,
            "metadata": {},
            "outputs": [
                {
                    "name": "stdout",
                    "output_type": "stream",
                    "text": "rm: history_manual_labeling.json: No such file or directory\nWarning: Failed to set locale category LC_NUMERIC to en_PL.\nWarning: Failed to set locale category LC_TIME to en_PL.\nWarning: Failed to set locale category LC_COLLATE to en_PL.\nWarning: Failed to set locale category LC_MONETARY to en_PL.\nWarning: Failed to set locale category LC_MESSAGES to en_PL.\n--2019-11-19 10:23:20--  https://raw.githubusercontent.com/pmservice/ai-openscale-tutorials/master/assets/historical_data/german_credit_risk/wml/history_manual_labeling.json\nResolving raw.githubusercontent.com (raw.githubusercontent.com)... 199.232.36.133\nConnecting to raw.githubusercontent.com (raw.githubusercontent.com)|199.232.36.133|:443... connected.\nHTTP request sent, awaiting response... 200 OK\nLength: 947956 (926K) [text/plain]\nSaving to: \u2018history_manual_labeling.json\u2019\n\nhistory_manual_labe 100%[===================>] 925.74K   386KB/s    in 2.4s    \n\n2019-11-19 10:23:23 (386 KB/s) - \u2018history_manual_labeling.json\u2019 saved [947956/947956]\n\n"
                }
            ],
            "source": "!rm history_manual_labeling.json\n!wget https://raw.githubusercontent.com/pmservice/ai-openscale-tutorials/master/assets/historical_data/german_credit_risk/wml/history_manual_labeling.json"
        },
        {
            "cell_type": "code",
            "execution_count": 112,
            "metadata": {
                "scrolled": true
            },
            "outputs": [
                {
                    "name": "stdout",
                    "output_type": "stream",
                    "text": "Loading day 1\nLoading day 2\nLoading day 3\nLoading day 4\nLoading day 5\nLoading day 6\nLoading day 7\nFinished\n"
                }
            ],
            "source": "iam_token = create_token()\niam_headers = {\n    'Content-Type': 'application/json',\n    'Authorization': 'Bearer %s' % iam_token\n}\n\nwith open('history_manual_labeling.json', 'r') as history_file:\n    records = json.load(history_file)\n\nfor day in range(historyDays):\n    print('Loading day', day + 1)\n    record_json = []\n    for hour in range(24):\n        for record in records:\n            if record['fastpath_history_day'] == day and record['fastpath_history_hour'] == hour:\n                record['binding_id'] = binding_uid\n                record['subscription_id'] = model_uid\n                record['asset_revision'] = model_uid\n                record['deployment_id'] = deployment_uid\n                record['scoring_timestamp'] = (datetime.datetime.utcnow() + datetime.timedelta(hours=(-(24*day + hour + 1)))).strftime('%Y-%m-%dT%H:%M:%SZ')\n                record_json.append(record)\n    response = requests.post(manual_labeling_url, json=record_json, headers=iam_headers, verify=False)\n\nprint('Finished')"
        },
        {
            "cell_type": "markdown",
            "metadata": {},
            "source": "## Additional data to help debugging"
        },
        {
            "cell_type": "code",
            "execution_count": 113,
            "metadata": {
                "scrolled": true
            },
            "outputs": [
                {
                    "name": "stdout",
                    "output_type": "stream",
                    "text": "Datamart: 00000000-0000-0000-0000-000000000000\nModel: 81be95c8-fa11-42ae-b0c1-7fda70305570\nDeployment: af7cf757-ed3f-47b8-963a-c241fd129690\nBinding: 999\n"
                }
            ],
            "source": "print('Datamart:', data_mart_id)\nprint('Model:', model_uid)\nprint('Deployment:', deployment_uid)\nprint('Binding:', binding_uid)\n# print('Scoring URL:', credit_risk_scoring_endpoint)"
        },
        {
            "cell_type": "markdown",
            "metadata": {},
            "source": "## Identify transactions for Explainability"
        },
        {
            "cell_type": "markdown",
            "metadata": {},
            "source": "Transaction IDs identified by the cells below can be copied and pasted into the Explainability tab of the OpenScale dashboard."
        },
        {
            "cell_type": "code",
            "execution_count": 114,
            "metadata": {
                "scrolled": true
            },
            "outputs": [
                {
                    "data": {
                        "text/html": "<div>\n<style scoped>\n    .dataframe tbody tr th:only-of-type {\n        vertical-align: middle;\n    }\n\n    .dataframe tbody tr th {\n        vertical-align: top;\n    }\n\n    .dataframe thead th {\n        text-align: right;\n    }\n</style>\n<table border=\"1\" class=\"dataframe\">\n  <thead>\n    <tr style=\"text-align: right;\">\n      <th></th>\n      <th>scoring_id</th>\n      <th>predictedLabel</th>\n      <th>probability</th>\n    </tr>\n  </thead>\n  <tbody>\n    <tr>\n      <th>0</th>\n      <td>c2f9c4f9-a3c4-4330-aad6-57ae657edbe8-1</td>\n      <td>Risk</td>\n      <td>[0.35990925105519, 0.64009074894481]</td>\n    </tr>\n    <tr>\n      <th>1</th>\n      <td>c2f9c4f9-a3c4-4330-aad6-57ae657edbe8-2</td>\n      <td>Risk</td>\n      <td>[0.3902037062493166, 0.6097962937506833]</td>\n    </tr>\n    <tr>\n      <th>2</th>\n      <td>c2f9c4f9-a3c4-4330-aad6-57ae657edbe8-3</td>\n      <td>No Risk</td>\n      <td>[0.8582489886673219, 0.14175101133267817]</td>\n    </tr>\n    <tr>\n      <th>3</th>\n      <td>c2f9c4f9-a3c4-4330-aad6-57ae657edbe8-4</td>\n      <td>No Risk</td>\n      <td>[0.804586562499237, 0.195413437500763]</td>\n    </tr>\n    <tr>\n      <th>4</th>\n      <td>c2f9c4f9-a3c4-4330-aad6-57ae657edbe8-5</td>\n      <td>Risk</td>\n      <td>[0.212782968733137, 0.7872170312668629]</td>\n    </tr>\n    <tr>\n      <th>5</th>\n      <td>c2f9c4f9-a3c4-4330-aad6-57ae657edbe8-6</td>\n      <td>No Risk</td>\n      <td>[0.8233999446538224, 0.17660005534617756]</td>\n    </tr>\n    <tr>\n      <th>6</th>\n      <td>c2f9c4f9-a3c4-4330-aad6-57ae657edbe8-7</td>\n      <td>Risk</td>\n      <td>[0.28259243278605284, 0.7174075672139472]</td>\n    </tr>\n    <tr>\n      <th>7</th>\n      <td>c2f9c4f9-a3c4-4330-aad6-57ae657edbe8-8</td>\n      <td>No Risk</td>\n      <td>[0.8001686178307423, 0.19983138216925764]</td>\n    </tr>\n    <tr>\n      <th>8</th>\n      <td>c2f9c4f9-a3c4-4330-aad6-57ae657edbe8-9</td>\n      <td>No Risk</td>\n      <td>[0.8350441673241937, 0.16495583267580624]</td>\n    </tr>\n    <tr>\n      <th>9</th>\n      <td>c2f9c4f9-a3c4-4330-aad6-57ae657edbe8-10</td>\n      <td>No Risk</td>\n      <td>[0.7307758501318857, 0.2692241498681144]</td>\n    </tr>\n    <tr>\n      <th>10</th>\n      <td>c2f9c4f9-a3c4-4330-aad6-57ae657edbe8-11</td>\n      <td>No Risk</td>\n      <td>[0.9596245826121065, 0.04037541738789362]</td>\n    </tr>\n    <tr>\n      <th>11</th>\n      <td>c2f9c4f9-a3c4-4330-aad6-57ae657edbe8-12</td>\n      <td>No Risk</td>\n      <td>[0.7995474256713253, 0.2004525743286747]</td>\n    </tr>\n    <tr>\n      <th>12</th>\n      <td>c2f9c4f9-a3c4-4330-aad6-57ae657edbe8-13</td>\n      <td>No Risk</td>\n      <td>[0.6585644990141738, 0.3414355009858262]</td>\n    </tr>\n    <tr>\n      <th>13</th>\n      <td>c2f9c4f9-a3c4-4330-aad6-57ae657edbe8-14</td>\n      <td>Risk</td>\n      <td>[0.49142716182775575, 0.5085728381722443]</td>\n    </tr>\n    <tr>\n      <th>14</th>\n      <td>c2f9c4f9-a3c4-4330-aad6-57ae657edbe8-15</td>\n      <td>No Risk</td>\n      <td>[0.746290192668059, 0.25370980733194104]</td>\n    </tr>\n    <tr>\n      <th>15</th>\n      <td>c2f9c4f9-a3c4-4330-aad6-57ae657edbe8-16</td>\n      <td>No Risk</td>\n      <td>[0.6644129540502611, 0.3355870459497388]</td>\n    </tr>\n    <tr>\n      <th>16</th>\n      <td>c2f9c4f9-a3c4-4330-aad6-57ae657edbe8-17</td>\n      <td>No Risk</td>\n      <td>[0.6359483678158467, 0.3640516321841533]</td>\n    </tr>\n    <tr>\n      <th>17</th>\n      <td>c2f9c4f9-a3c4-4330-aad6-57ae657edbe8-18</td>\n      <td>No Risk</td>\n      <td>[0.9850879686705646, 0.014912031329435435]</td>\n    </tr>\n    <tr>\n      <th>18</th>\n      <td>c2f9c4f9-a3c4-4330-aad6-57ae657edbe8-19</td>\n      <td>Risk</td>\n      <td>[0.08922390376278641, 0.9107760962372137]</td>\n    </tr>\n    <tr>\n      <th>19</th>\n      <td>c2f9c4f9-a3c4-4330-aad6-57ae657edbe8-20</td>\n      <td>Risk</td>\n      <td>[0.3073077754509585, 0.6926922245490416]</td>\n    </tr>\n    <tr>\n      <th>20</th>\n      <td>c2f9c4f9-a3c4-4330-aad6-57ae657edbe8-21</td>\n      <td>Risk</td>\n      <td>[0.12772633089098773, 0.8722736691090123]</td>\n    </tr>\n    <tr>\n      <th>21</th>\n      <td>c2f9c4f9-a3c4-4330-aad6-57ae657edbe8-22</td>\n      <td>No Risk</td>\n      <td>[0.7941022240535487, 0.20589777594645137]</td>\n    </tr>\n    <tr>\n      <th>22</th>\n      <td>c2f9c4f9-a3c4-4330-aad6-57ae657edbe8-23</td>\n      <td>Risk</td>\n      <td>[0.1274973599436559, 0.8725026400563441]</td>\n    </tr>\n    <tr>\n      <th>23</th>\n      <td>c2f9c4f9-a3c4-4330-aad6-57ae657edbe8-24</td>\n      <td>No Risk</td>\n      <td>[0.6150783117007561, 0.384921688299244]</td>\n    </tr>\n    <tr>\n      <th>24</th>\n      <td>c2f9c4f9-a3c4-4330-aad6-57ae657edbe8-25</td>\n      <td>No Risk</td>\n      <td>[0.5779237378240484, 0.42207626217595173]</td>\n    </tr>\n    <tr>\n      <th>25</th>\n      <td>c2f9c4f9-a3c4-4330-aad6-57ae657edbe8-26</td>\n      <td>Risk</td>\n      <td>[0.367736281429905, 0.632263718570095]</td>\n    </tr>\n    <tr>\n      <th>26</th>\n      <td>c2f9c4f9-a3c4-4330-aad6-57ae657edbe8-27</td>\n      <td>No Risk</td>\n      <td>[0.7440039744814642, 0.25599602551853584]</td>\n    </tr>\n    <tr>\n      <th>27</th>\n      <td>c2f9c4f9-a3c4-4330-aad6-57ae657edbe8-28</td>\n      <td>Risk</td>\n      <td>[0.20930197337007633, 0.7906980266299237]</td>\n    </tr>\n    <tr>\n      <th>28</th>\n      <td>c2f9c4f9-a3c4-4330-aad6-57ae657edbe8-29</td>\n      <td>Risk</td>\n      <td>[0.09399959994849102, 0.906000400051509]</td>\n    </tr>\n    <tr>\n      <th>29</th>\n      <td>c2f9c4f9-a3c4-4330-aad6-57ae657edbe8-30</td>\n      <td>No Risk</td>\n      <td>[0.937235980006097, 0.06276401999390305]</td>\n    </tr>\n    <tr>\n      <th>30</th>\n      <td>c2f9c4f9-a3c4-4330-aad6-57ae657edbe8-31</td>\n      <td>No Risk</td>\n      <td>[0.7753139284866374, 0.22468607151336265]</td>\n    </tr>\n    <tr>\n      <th>31</th>\n      <td>c2f9c4f9-a3c4-4330-aad6-57ae657edbe8-32</td>\n      <td>No Risk</td>\n      <td>[0.6693977555448598, 0.33060224445514025]</td>\n    </tr>\n    <tr>\n      <th>32</th>\n      <td>c2f9c4f9-a3c4-4330-aad6-57ae657edbe8-33</td>\n      <td>Risk</td>\n      <td>[0.06272330446304096, 0.937276695536959]</td>\n    </tr>\n    <tr>\n      <th>33</th>\n      <td>c2f9c4f9-a3c4-4330-aad6-57ae657edbe8-34</td>\n      <td>No Risk</td>\n      <td>[0.6331940557776412, 0.36680594422235874]</td>\n    </tr>\n    <tr>\n      <th>34</th>\n      <td>c2f9c4f9-a3c4-4330-aad6-57ae657edbe8-35</td>\n      <td>No Risk</td>\n      <td>[0.834294708931251, 0.16570529106874904]</td>\n    </tr>\n    <tr>\n      <th>35</th>\n      <td>c2f9c4f9-a3c4-4330-aad6-57ae657edbe8-36</td>\n      <td>No Risk</td>\n      <td>[0.5680891749294813, 0.4319108250705187]</td>\n    </tr>\n    <tr>\n      <th>36</th>\n      <td>c2f9c4f9-a3c4-4330-aad6-57ae657edbe8-37</td>\n      <td>No Risk</td>\n      <td>[0.7955633786262878, 0.20443662137371216]</td>\n    </tr>\n    <tr>\n      <th>37</th>\n      <td>c2f9c4f9-a3c4-4330-aad6-57ae657edbe8-38</td>\n      <td>No Risk</td>\n      <td>[0.8654041741654863, 0.13459582583451363]</td>\n    </tr>\n    <tr>\n      <th>38</th>\n      <td>c2f9c4f9-a3c4-4330-aad6-57ae657edbe8-39</td>\n      <td>No Risk</td>\n      <td>[0.8448916988868369, 0.155108301113163]</td>\n    </tr>\n    <tr>\n      <th>39</th>\n      <td>c2f9c4f9-a3c4-4330-aad6-57ae657edbe8-40</td>\n      <td>No Risk</td>\n      <td>[0.8146125221062783, 0.18538747789372162]</td>\n    </tr>\n    <tr>\n      <th>40</th>\n      <td>c2f9c4f9-a3c4-4330-aad6-57ae657edbe8-41</td>\n      <td>No Risk</td>\n      <td>[0.5346213123323906, 0.46537868766760926]</td>\n    </tr>\n    <tr>\n      <th>41</th>\n      <td>c2f9c4f9-a3c4-4330-aad6-57ae657edbe8-42</td>\n      <td>No Risk</td>\n      <td>[0.5893395059932836, 0.41066049400671645]</td>\n    </tr>\n    <tr>\n      <th>42</th>\n      <td>c2f9c4f9-a3c4-4330-aad6-57ae657edbe8-43</td>\n      <td>No Risk</td>\n      <td>[0.7321163864694481, 0.2678836135305519]</td>\n    </tr>\n    <tr>\n      <th>43</th>\n      <td>c2f9c4f9-a3c4-4330-aad6-57ae657edbe8-44</td>\n      <td>Risk</td>\n      <td>[0.47547660962474775, 0.5245233903752522]</td>\n    </tr>\n    <tr>\n      <th>44</th>\n      <td>c2f9c4f9-a3c4-4330-aad6-57ae657edbe8-45</td>\n      <td>No Risk</td>\n      <td>[0.9735981427673913, 0.026401857232608628]</td>\n    </tr>\n    <tr>\n      <th>45</th>\n      <td>c2f9c4f9-a3c4-4330-aad6-57ae657edbe8-46</td>\n      <td>No Risk</td>\n      <td>[0.5652563664383116, 0.4347436335616884]</td>\n    </tr>\n    <tr>\n      <th>46</th>\n      <td>c2f9c4f9-a3c4-4330-aad6-57ae657edbe8-47</td>\n      <td>No Risk</td>\n      <td>[0.8365317773430946, 0.16346822265690544]</td>\n    </tr>\n    <tr>\n      <th>47</th>\n      <td>c2f9c4f9-a3c4-4330-aad6-57ae657edbe8-48</td>\n      <td>No Risk</td>\n      <td>[0.9498336209981397, 0.050166379001860155]</td>\n    </tr>\n    <tr>\n      <th>48</th>\n      <td>c2f9c4f9-a3c4-4330-aad6-57ae657edbe8-49</td>\n      <td>No Risk</td>\n      <td>[0.7806128320434185, 0.21938716795658145]</td>\n    </tr>\n    <tr>\n      <th>49</th>\n      <td>c2f9c4f9-a3c4-4330-aad6-57ae657edbe8-50</td>\n      <td>No Risk</td>\n      <td>[0.7017905354070796, 0.29820946459292036]</td>\n    </tr>\n    <tr>\n      <th>50</th>\n      <td>c2f9c4f9-a3c4-4330-aad6-57ae657edbe8-51</td>\n      <td>No Risk</td>\n      <td>[0.6758191051973668, 0.32418089480263323]</td>\n    </tr>\n    <tr>\n      <th>51</th>\n      <td>c2f9c4f9-a3c4-4330-aad6-57ae657edbe8-52</td>\n      <td>Risk</td>\n      <td>[0.37843709398025777, 0.6215629060197422]</td>\n    </tr>\n    <tr>\n      <th>52</th>\n      <td>c2f9c4f9-a3c4-4330-aad6-57ae657edbe8-53</td>\n      <td>No Risk</td>\n      <td>[0.6981160242988893, 0.3018839757011108]</td>\n    </tr>\n    <tr>\n      <th>53</th>\n      <td>c2f9c4f9-a3c4-4330-aad6-57ae657edbe8-54</td>\n      <td>No Risk</td>\n      <td>[0.9740254623304722, 0.025974537669527738]</td>\n    </tr>\n    <tr>\n      <th>54</th>\n      <td>c2f9c4f9-a3c4-4330-aad6-57ae657edbe8-55</td>\n      <td>No Risk</td>\n      <td>[0.7381953440348601, 0.2618046559651399]</td>\n    </tr>\n    <tr>\n      <th>55</th>\n      <td>c2f9c4f9-a3c4-4330-aad6-57ae657edbe8-56</td>\n      <td>Risk</td>\n      <td>[0.4922401111692355, 0.5077598888307645]</td>\n    </tr>\n    <tr>\n      <th>56</th>\n      <td>c2f9c4f9-a3c4-4330-aad6-57ae657edbe8-57</td>\n      <td>No Risk</td>\n      <td>[0.6635851702643109, 0.3364148297356891]</td>\n    </tr>\n    <tr>\n      <th>57</th>\n      <td>c2f9c4f9-a3c4-4330-aad6-57ae657edbe8-58</td>\n      <td>Risk</td>\n      <td>[0.4601239108655812, 0.5398760891344188]</td>\n    </tr>\n    <tr>\n      <th>58</th>\n      <td>c2f9c4f9-a3c4-4330-aad6-57ae657edbe8-59</td>\n      <td>No Risk</td>\n      <td>[0.8398223846656292, 0.16017761533437075]</td>\n    </tr>\n    <tr>\n      <th>59</th>\n      <td>c2f9c4f9-a3c4-4330-aad6-57ae657edbe8-60</td>\n      <td>No Risk</td>\n      <td>[0.938283384483299, 0.06171661551670109]</td>\n    </tr>\n  </tbody>\n</table>\n</div>",
                        "text/plain": "                                 scoring_id predictedLabel  \\\n0    c2f9c4f9-a3c4-4330-aad6-57ae657edbe8-1           Risk   \n1    c2f9c4f9-a3c4-4330-aad6-57ae657edbe8-2           Risk   \n2    c2f9c4f9-a3c4-4330-aad6-57ae657edbe8-3        No Risk   \n3    c2f9c4f9-a3c4-4330-aad6-57ae657edbe8-4        No Risk   \n4    c2f9c4f9-a3c4-4330-aad6-57ae657edbe8-5           Risk   \n5    c2f9c4f9-a3c4-4330-aad6-57ae657edbe8-6        No Risk   \n6    c2f9c4f9-a3c4-4330-aad6-57ae657edbe8-7           Risk   \n7    c2f9c4f9-a3c4-4330-aad6-57ae657edbe8-8        No Risk   \n8    c2f9c4f9-a3c4-4330-aad6-57ae657edbe8-9        No Risk   \n9   c2f9c4f9-a3c4-4330-aad6-57ae657edbe8-10        No Risk   \n10  c2f9c4f9-a3c4-4330-aad6-57ae657edbe8-11        No Risk   \n11  c2f9c4f9-a3c4-4330-aad6-57ae657edbe8-12        No Risk   \n12  c2f9c4f9-a3c4-4330-aad6-57ae657edbe8-13        No Risk   \n13  c2f9c4f9-a3c4-4330-aad6-57ae657edbe8-14           Risk   \n14  c2f9c4f9-a3c4-4330-aad6-57ae657edbe8-15        No Risk   \n15  c2f9c4f9-a3c4-4330-aad6-57ae657edbe8-16        No Risk   \n16  c2f9c4f9-a3c4-4330-aad6-57ae657edbe8-17        No Risk   \n17  c2f9c4f9-a3c4-4330-aad6-57ae657edbe8-18        No Risk   \n18  c2f9c4f9-a3c4-4330-aad6-57ae657edbe8-19           Risk   \n19  c2f9c4f9-a3c4-4330-aad6-57ae657edbe8-20           Risk   \n20  c2f9c4f9-a3c4-4330-aad6-57ae657edbe8-21           Risk   \n21  c2f9c4f9-a3c4-4330-aad6-57ae657edbe8-22        No Risk   \n22  c2f9c4f9-a3c4-4330-aad6-57ae657edbe8-23           Risk   \n23  c2f9c4f9-a3c4-4330-aad6-57ae657edbe8-24        No Risk   \n24  c2f9c4f9-a3c4-4330-aad6-57ae657edbe8-25        No Risk   \n25  c2f9c4f9-a3c4-4330-aad6-57ae657edbe8-26           Risk   \n26  c2f9c4f9-a3c4-4330-aad6-57ae657edbe8-27        No Risk   \n27  c2f9c4f9-a3c4-4330-aad6-57ae657edbe8-28           Risk   \n28  c2f9c4f9-a3c4-4330-aad6-57ae657edbe8-29           Risk   \n29  c2f9c4f9-a3c4-4330-aad6-57ae657edbe8-30        No Risk   \n30  c2f9c4f9-a3c4-4330-aad6-57ae657edbe8-31        No Risk   \n31  c2f9c4f9-a3c4-4330-aad6-57ae657edbe8-32        No Risk   \n32  c2f9c4f9-a3c4-4330-aad6-57ae657edbe8-33           Risk   \n33  c2f9c4f9-a3c4-4330-aad6-57ae657edbe8-34        No Risk   \n34  c2f9c4f9-a3c4-4330-aad6-57ae657edbe8-35        No Risk   \n35  c2f9c4f9-a3c4-4330-aad6-57ae657edbe8-36        No Risk   \n36  c2f9c4f9-a3c4-4330-aad6-57ae657edbe8-37        No Risk   \n37  c2f9c4f9-a3c4-4330-aad6-57ae657edbe8-38        No Risk   \n38  c2f9c4f9-a3c4-4330-aad6-57ae657edbe8-39        No Risk   \n39  c2f9c4f9-a3c4-4330-aad6-57ae657edbe8-40        No Risk   \n40  c2f9c4f9-a3c4-4330-aad6-57ae657edbe8-41        No Risk   \n41  c2f9c4f9-a3c4-4330-aad6-57ae657edbe8-42        No Risk   \n42  c2f9c4f9-a3c4-4330-aad6-57ae657edbe8-43        No Risk   \n43  c2f9c4f9-a3c4-4330-aad6-57ae657edbe8-44           Risk   \n44  c2f9c4f9-a3c4-4330-aad6-57ae657edbe8-45        No Risk   \n45  c2f9c4f9-a3c4-4330-aad6-57ae657edbe8-46        No Risk   \n46  c2f9c4f9-a3c4-4330-aad6-57ae657edbe8-47        No Risk   \n47  c2f9c4f9-a3c4-4330-aad6-57ae657edbe8-48        No Risk   \n48  c2f9c4f9-a3c4-4330-aad6-57ae657edbe8-49        No Risk   \n49  c2f9c4f9-a3c4-4330-aad6-57ae657edbe8-50        No Risk   \n50  c2f9c4f9-a3c4-4330-aad6-57ae657edbe8-51        No Risk   \n51  c2f9c4f9-a3c4-4330-aad6-57ae657edbe8-52           Risk   \n52  c2f9c4f9-a3c4-4330-aad6-57ae657edbe8-53        No Risk   \n53  c2f9c4f9-a3c4-4330-aad6-57ae657edbe8-54        No Risk   \n54  c2f9c4f9-a3c4-4330-aad6-57ae657edbe8-55        No Risk   \n55  c2f9c4f9-a3c4-4330-aad6-57ae657edbe8-56           Risk   \n56  c2f9c4f9-a3c4-4330-aad6-57ae657edbe8-57        No Risk   \n57  c2f9c4f9-a3c4-4330-aad6-57ae657edbe8-58           Risk   \n58  c2f9c4f9-a3c4-4330-aad6-57ae657edbe8-59        No Risk   \n59  c2f9c4f9-a3c4-4330-aad6-57ae657edbe8-60        No Risk   \n\n                                   probability  \n0         [0.35990925105519, 0.64009074894481]  \n1     [0.3902037062493166, 0.6097962937506833]  \n2    [0.8582489886673219, 0.14175101133267817]  \n3       [0.804586562499237, 0.195413437500763]  \n4      [0.212782968733137, 0.7872170312668629]  \n5    [0.8233999446538224, 0.17660005534617756]  \n6    [0.28259243278605284, 0.7174075672139472]  \n7    [0.8001686178307423, 0.19983138216925764]  \n8    [0.8350441673241937, 0.16495583267580624]  \n9     [0.7307758501318857, 0.2692241498681144]  \n10   [0.9596245826121065, 0.04037541738789362]  \n11    [0.7995474256713253, 0.2004525743286747]  \n12    [0.6585644990141738, 0.3414355009858262]  \n13   [0.49142716182775575, 0.5085728381722443]  \n14    [0.746290192668059, 0.25370980733194104]  \n15    [0.6644129540502611, 0.3355870459497388]  \n16    [0.6359483678158467, 0.3640516321841533]  \n17  [0.9850879686705646, 0.014912031329435435]  \n18   [0.08922390376278641, 0.9107760962372137]  \n19    [0.3073077754509585, 0.6926922245490416]  \n20   [0.12772633089098773, 0.8722736691090123]  \n21   [0.7941022240535487, 0.20589777594645137]  \n22    [0.1274973599436559, 0.8725026400563441]  \n23     [0.6150783117007561, 0.384921688299244]  \n24   [0.5779237378240484, 0.42207626217595173]  \n25      [0.367736281429905, 0.632263718570095]  \n26   [0.7440039744814642, 0.25599602551853584]  \n27   [0.20930197337007633, 0.7906980266299237]  \n28    [0.09399959994849102, 0.906000400051509]  \n29    [0.937235980006097, 0.06276401999390305]  \n30   [0.7753139284866374, 0.22468607151336265]  \n31   [0.6693977555448598, 0.33060224445514025]  \n32    [0.06272330446304096, 0.937276695536959]  \n33   [0.6331940557776412, 0.36680594422235874]  \n34    [0.834294708931251, 0.16570529106874904]  \n35    [0.5680891749294813, 0.4319108250705187]  \n36   [0.7955633786262878, 0.20443662137371216]  \n37   [0.8654041741654863, 0.13459582583451363]  \n38     [0.8448916988868369, 0.155108301113163]  \n39   [0.8146125221062783, 0.18538747789372162]  \n40   [0.5346213123323906, 0.46537868766760926]  \n41   [0.5893395059932836, 0.41066049400671645]  \n42    [0.7321163864694481, 0.2678836135305519]  \n43   [0.47547660962474775, 0.5245233903752522]  \n44  [0.9735981427673913, 0.026401857232608628]  \n45    [0.5652563664383116, 0.4347436335616884]  \n46   [0.8365317773430946, 0.16346822265690544]  \n47  [0.9498336209981397, 0.050166379001860155]  \n48   [0.7806128320434185, 0.21938716795658145]  \n49   [0.7017905354070796, 0.29820946459292036]  \n50   [0.6758191051973668, 0.32418089480263323]  \n51   [0.37843709398025777, 0.6215629060197422]  \n52    [0.6981160242988893, 0.3018839757011108]  \n53  [0.9740254623304722, 0.025974537669527738]  \n54    [0.7381953440348601, 0.2618046559651399]  \n55    [0.4922401111692355, 0.5077598888307645]  \n56    [0.6635851702643109, 0.3364148297356891]  \n57    [0.4601239108655812, 0.5398760891344188]  \n58   [0.8398223846656292, 0.16017761533437075]  \n59    [0.938283384483299, 0.06171661551670109]  "
                    },
                    "execution_count": 114,
                    "metadata": {},
                    "output_type": "execute_result"
                }
            ],
            "source": "payload_data = subscription.payload_logging.get_table_content(limit=60)\npayload_data.filter(items=['scoring_id', 'predictedLabel', 'probability'])"
        },
        {
            "cell_type": "markdown",
            "metadata": {},
            "source": "## Congratulations!\n\nYou have finished the hands-on lab for IBM Watson OpenScale. You can now view the [OpenScale Dashboard](https://aiopenscale.cloud.ibm.com/). Click on the tile for the German Credit model to see fairness, accuracy, and performance monitors. Click on the timeseries graph to get detailed information on transactions during a specific time window.\n"
        },
        {
            "cell_type": "markdown",
            "metadata": {},
            "source": "## Authors\n\nEric Martens, is a technical specialist having expertise in analysis and description of business processes, and their translation into functional and non-functional IT requirements. He acts as the interpreter between the worlds of IT and business.\n\nLukasz Cmielowski, PhD, is an Automation Architect and Data Scientist at IBM with a track record of developing enterprise-level applications that substantially increases clients' ability to turn data into actionable knowledge.\n\nZilu (Peter) Tang, is a cognitive developer with experties in deep learning and enterprise AI solutions from Watson Openscale to many other cutting-edge IBM research projects."
        }
    ],
    "metadata": {
        "kernelspec": {
            "display_name": "Python 3.6",
            "language": "python",
            "name": "python3"
        },
        "language_info": {
            "codemirror_mode": {
                "name": "ipython",
                "version": 3
            },
            "file_extension": ".py",
            "mimetype": "text/x-python",
            "name": "python",
            "nbconvert_exporter": "python",
            "pygments_lexer": "ipython3",
            "version": "3.6.8"
        }
    },
    "nbformat": 4,
    "nbformat_minor": 1
}